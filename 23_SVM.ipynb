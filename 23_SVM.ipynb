{
 "cells": [
  {
   "cell_type": "markdown",
   "metadata": {
    "collapsed": true
   },
   "source": [
    "## SVM - Support Vector Machine\n",
    "\n",
    "---\n",
    "**Support Vector Networks**\n",
    "\n",
    "https://en.wikipedia.org/wiki/Support_vector_machine"
   ]
  },
  {
   "cell_type": "markdown",
   "metadata": {},
   "source": [
    "**Large Margin Classifier**\n",
    "\n",
    "The Support Vector Machine (SVM) is yet another type of supervised machine learning algorithm. It is sometimes cleaner and more powerful.\n",
    "\n",
    "In machine learning, support vector machines (SVMs, also support vector networks) are supervised learning models with associated learning algorithms that analyze data used for classification and regression analysis. \n",
    "\n",
    "Given a set of training examples, each marked as belonging to one or the other of two categories, an SVM training algorithm builds a model that assigns new examples to one category or the other, making it a non-probabilistic binary linear classifier. \n",
    "\n",
    "SVM model is a representation of the examples as points in space, mapped so that the examples of the separate categories are divided by a clear gap that is as wide as possible. New examples are then mapped into that same space and predicted to belong to a category based on which side of the gap they fall on.\n",
    " \n",
    "In addition to performing linear classification, SVMs can efficiently perform a non-linear classification using what is called the kernel trick, implicitly mapping their inputs into high-dimensional feature spaces.\n",
    "\n",
    "When data are not labeled, supervised learning is not possible, and an unsupervised learning approach is required, which attempts to find natural clustering of the data to groups, and then map new data to these formed groups. The clustering algorithm which provides an improvement to the support vector machines is called support vector clustering and is often used in industrial applications either when data are not labeled or when only some data are labeled as a preprocessing for a classification pass.\n",
    "\n",
    "SVM is kernel method, i.e. it only depends on data through dot products.\n",
    "\n",
    "The kernel function computes a dot product in a different high dimensional space.\n",
    "\n",
    "1. Ability to generate non linear decision boundaries\n",
    "2. no fixed dimensional feature space representation"
   ]
  },
  {
   "cell_type": "markdown",
   "metadata": {},
   "source": [
    "---\n",
    "Kernel \n",
    "---\n",
    "\n",
    "In machine learning, kernel methods are a class of algorithms for pattern analysis, whose best known member is the support vector machine (SVM).\n",
    "\n",
    "\n",
    "**Radial basis function kernel**\n",
    "\n",
    "\n",
    "In machine learning, the (Gaussian) radial basis function kernel, or RBF kernel, is a popular kernel function used in various kernelized learning algorithms. In particular, it is commonly used in support vector machine classification.\n",
    "\n",
    "Kernel methods owe their name to the use of kernel functions, which enable them to operate in a high-dimensional, implicit feature space without ever computing the coordinates of the data in that space, but rather by simply computing the inner products between the images of all pairs of data in the feature space. This operation is often computationally cheaper than the explicit computation of the coordinates. This approach is called the \"kernel trick\". Kernel functions have been introduced for sequence data, graphs, text, images, as well as vectors.\n",
    "\n",
    "Algorithms capable of operating with kernels include the kernel perceptron, support vector machines (SVM), Gaussian processes, principal components analysis (PCA), canonical correlation analysis, ridge regression, spectral clustering, linear adaptive filters and many others. Any linear model can be turned into a non-linear model by applying the kernel trick to the model: replacing its features (predictors) by a kernel function.\n",
    "\n",
    "Most kernel algorithms are based on convex optimization or eigenproblems and are statistically well-founded. Typically, their statistical properties are analyzed using statistical learning theory (for example, using Rademacher complexity).\n",
    "\n",
    "The RBF kernel on two samples x and x', represented as feature vectors in some input space, is defined as\n",
    "\n",
    "$K(\\mathbf {x} ,\\mathbf {x'} )=\\exp \\left(-{\\frac {||\\mathbf {x} -\\mathbf {x'} ||^{2}}{2\\sigma ^{2}}}\\right)$\n",
    "\n",
    "$\\textstyle ||\\mathbf {x} -\\mathbf {x'} ||^{2}$ may be recognized as the squared Euclidean distance between the two feature vectors. $\\sigma$ is a free parameter. An equivalent, but simpler, definition involves a parameter $\\textstyle \\gamma ={\\tfrac {1}{2\\sigma ^{2}}}:$\n",
    "\n",
    "$ K(\\mathbf {x} ,\\mathbf {x'} )=\\exp(-\\gamma ||\\mathbf {x} -\\mathbf {x'} ||^{2})$\n",
    "\n",
    "Since the value of the RBF kernel decreases with distance and ranges between zero (in the limit) and one (when $x = x'$), it has a ready interpretation as a similarity measure.[2] The feature space of the kernel has an infinite number of dimensions; for $ \\sigma =1$, its expansion is:\n",
    "\n",
    "$\\exp \\left(-{\\frac {1}{2}}||\\mathbf {x} -\\mathbf {x'} ||^{2}\\right)=\\sum _{j=0}^{\\infty }{\\frac {(\\mathbf {x} ^{\\top }\\mathbf {x'} )^{j}}{j!}}\\exp \\left(-{\\frac {1}{2}}||\\mathbf {x} ||^{2}\\right)\\exp \\left(-{\\frac {1}{2}}||\\mathbf {x'} ||^{2}\\right) $\n",
    "\n",
    "\n",
    "Convex minimization, a subfield of optimization, studies the problem of minimizing convex functions over convex sets. The convexity property can make optimization in some sense \"easier\" than the general case - for example, any local minimum must be a global minimum.\n",
    "\n"
   ]
  },
  {
   "cell_type": "markdown",
   "metadata": {
    "collapsed": true
   },
   "source": [
    "---\n",
    "What are we going to do if we have less structured data: text, images, molecular structure?\n",
    "\n",
    "One approach is to blow apart your feature space and encode every possible value by a new column: i.e. for text each possible word in your corpus (can be tens of thousands) will be a column.  What problems will we encounter?\n",
    "\n",
    "* Kernels\n",
    "* Sparse encodings (bag of words)\n",
    "* Order often gets destroyed\n",
    "* Computational can be intractable\n",
    "\n",
    "---\n",
    "**Similarities ~ Kernels:**\n",
    "\n",
    "* Mercer Kernels\n",
    "* Feature Expansion\n",
    "* Linear\n",
    "* Polynomial\n",
    "* RBF\n",
    "* Other: String Kernel\n",
    "\n",
    "---\n",
    "\n",
    "... de lo mejor :\n",
    "\n",
    "https://www.youtube.com/watch?v=3liCbRZPrZA"
   ]
  },
  {
   "cell_type": "markdown",
   "metadata": {
    "collapsed": true
   },
   "source": [
    "---\n",
    "\n",
    "**Maximal Margin Classifier**\n"
   ]
  },
  {
   "cell_type": "code",
   "execution_count": 127,
   "metadata": {
    "collapsed": false
   },
   "outputs": [],
   "source": [
    "from __future__ import division\n",
    "\n",
    "from sklearn.pipeline import Pipeline\n",
    "from sklearn.preprocessing import StandardScaler\n",
    "from sklearn.cross_validation import cross_val_score, train_test_split\n",
    "from sklearn.grid_search import GridSearchCV\n",
    "from sklearn.linear_model import LogisticRegression\n",
    "from sklearn.svm import LinearSVC\n",
    "from sklearn.svm import SVC\n",
    "from sklearn import preprocessing\n",
    "from sklearn.datasets import load_digits\n",
    "\n",
    "from matplotlib import pylab as plt\n",
    "\n",
    "import numpy as np\n",
    "import pandas as pd\n",
    "import matplotlib as mpl\n",
    "import sklearn.metrics\n",
    "import itertools\n",
    "\n",
    "plt.rcParams['figure.figsize'] = (12.0, 4.0)\n",
    "\n",
    "\n",
    "% matplotlib notebook\n",
    "% matplotlib inline\n",
    "% autoreload 2"
   ]
  },
  {
   "cell_type": "code",
   "execution_count": null,
   "metadata": {
    "collapsed": true
   },
   "outputs": [],
   "source": [
    "from sklearn.svm import LinearSVC"
   ]
  },
  {
   "cell_type": "code",
   "execution_count": 211,
   "metadata": {
    "collapsed": true
   },
   "outputs": [],
   "source": [
    "df = pd.read_csv('data/data_scientist.csv')"
   ]
  },
  {
   "cell_type": "code",
   "execution_count": 212,
   "metadata": {
    "collapsed": false
   },
   "outputs": [
    {
     "data": {
      "text/html": [
       "<div>\n",
       "<table border=\"1\" class=\"dataframe\">\n",
       "  <thead>\n",
       "    <tr style=\"text-align: right;\">\n",
       "      <th></th>\n",
       "      <th>email_hours</th>\n",
       "      <th>gym_hours</th>\n",
       "      <th>data_scientist</th>\n",
       "    </tr>\n",
       "  </thead>\n",
       "  <tbody>\n",
       "    <tr>\n",
       "      <th>0</th>\n",
       "      <td>18.995746</td>\n",
       "      <td>6.879446</td>\n",
       "      <td>1</td>\n",
       "    </tr>\n",
       "    <tr>\n",
       "      <th>1</th>\n",
       "      <td>19.178514</td>\n",
       "      <td>5.954391</td>\n",
       "      <td>1</td>\n",
       "    </tr>\n",
       "  </tbody>\n",
       "</table>\n",
       "</div>"
      ],
      "text/plain": [
       "   email_hours  gym_hours  data_scientist\n",
       "0    18.995746   6.879446               1\n",
       "1    19.178514   5.954391               1"
      ]
     },
     "execution_count": 212,
     "metadata": {},
     "output_type": "execute_result"
    }
   ],
   "source": [
    "df[:2]"
   ]
  },
  {
   "cell_type": "code",
   "execution_count": 213,
   "metadata": {
    "collapsed": false
   },
   "outputs": [
    {
     "name": "stdout",
     "output_type": "stream",
     "text": [
      "<class 'pandas.core.frame.DataFrame'>\n",
      "RangeIndex: 20 entries, 0 to 19\n",
      "Data columns (total 3 columns):\n",
      "email_hours       20 non-null float64\n",
      "gym_hours         20 non-null float64\n",
      "data_scientist    20 non-null int64\n",
      "dtypes: float64(2), int64(1)\n",
      "memory usage: 552.0 bytes\n"
     ]
    }
   ],
   "source": [
    "df.info()"
   ]
  },
  {
   "cell_type": "code",
   "execution_count": 214,
   "metadata": {
    "collapsed": false
   },
   "outputs": [
    {
     "data": {
      "text/plain": [
       "array([1, 1])"
      ]
     },
     "execution_count": 214,
     "metadata": {},
     "output_type": "execute_result"
    }
   ],
   "source": [
    "y = df.pop('data_scientist').values\n",
    "y[:2]"
   ]
  },
  {
   "cell_type": "code",
   "execution_count": 215,
   "metadata": {
    "collapsed": false
   },
   "outputs": [
    {
     "data": {
      "text/plain": [
       "'email_hours'"
      ]
     },
     "execution_count": 215,
     "metadata": {},
     "output_type": "execute_result"
    }
   ],
   "source": [
    "feature_names = df.columns\n",
    "feature_names[0]"
   ]
  },
  {
   "cell_type": "code",
   "execution_count": 216,
   "metadata": {
    "collapsed": false
   },
   "outputs": [
    {
     "data": {
      "text/plain": [
       "array([[ 18.99574642,   6.87944627],\n",
       "       [ 19.17851406,   5.95439109]])"
      ]
     },
     "execution_count": 216,
     "metadata": {},
     "output_type": "execute_result"
    }
   ],
   "source": [
    "X = df.values\n",
    "X[:2]"
   ]
  },
  {
   "cell_type": "code",
   "execution_count": 258,
   "metadata": {
    "collapsed": false
   },
   "outputs": [],
   "source": [
    "def plot_df(X, y, feat_names):\n",
    "    plt.figure(figsize=(14, 6))\n",
    "    plt.scatter(X[:,0], X[:,1], c=y, alpha=0.5, cmap='RdBu', s=80)\n",
    "    plt.xlabel(feat_names[0])\n",
    "    plt.ylabel(feat_names[1])\n",
    "    plt.colorbar()\n",
    "    "
   ]
  },
  {
   "cell_type": "code",
   "execution_count": 259,
   "metadata": {
    "collapsed": false
   },
   "outputs": [
    {
     "data": {
      "image/png": "[encoded data removed]",
      "text/plain": [
       "<matplotlib.figure.Figure at 0x1197c4cd0>"
      ]
     },
     "metadata": {},
     "output_type": "display_data"
    }
   ],
   "source": [
    "plot_df(X, y, feature_names)"
   ]
  },
  {
   "cell_type": "markdown",
   "metadata": {},
   "source": [
    "---\n",
    "Logistic Regression Boundary\n",
    "---\n",
    "\n",
    "Logistic Regression is similar to the Support Vector Machine, except Logistic Regression minimizes logistic loss and does not explicitly maximize the margin.\n"
   ]
  },
  {
   "cell_type": "code",
   "execution_count": 260,
   "metadata": {
    "collapsed": false
   },
   "outputs": [
    {
     "data": {
      "text/plain": [
       "LogisticRegression(C=1.0, class_weight=None, dual=False, fit_intercept=True,\n",
       "          intercept_scaling=100, max_iter=100, multi_class='ovr', n_jobs=1,\n",
       "          penalty='l2', random_state=None, solver='liblinear', tol=0.0001,\n",
       "          verbose=0, warm_start=False)"
      ]
     },
     "execution_count": 260,
     "metadata": {},
     "output_type": "execute_result"
    }
   ],
   "source": [
    "model = LogisticRegression(intercept_scaling=100)\n",
    "model.fit(X,y)"
   ]
  },
  {
   "cell_type": "markdown",
   "metadata": {},
   "source": [
    "**Logistic regression:**\n",
    "\n",
    "$\\beta_0 + \\beta_1{x_1} + \\beta_2{x_2} = 0$ "
   ]
  },
  {
   "cell_type": "code",
   "execution_count": 261,
   "metadata": {
    "collapsed": false
   },
   "outputs": [
    {
     "data": {
      "text/plain": [
       "array([ 15.41813064])"
      ]
     },
     "execution_count": 261,
     "metadata": {},
     "output_type": "execute_result"
    }
   ],
   "source": [
    "beta_1, beta_2 = model.coef_.tolist()[0] # [0] : Removes a braket\n",
    "beta_0 = model.intercept_\n",
    "beta_0"
   ]
  },
  {
   "cell_type": "code",
   "execution_count": 262,
   "metadata": {
    "collapsed": false
   },
   "outputs": [
    {
     "data": {
      "text/plain": [
       "array([ 18.99574642,  19.17851406,  20.89560347,  22.24233716,\n",
       "        38.85416128,  34.07837044,  12.12672866,  38.0721481 ,\n",
       "        34.36346315,  20.40249899,  26.92177218,  34.87831282,\n",
       "         8.94328296,  11.10176919,   9.53415464,  33.94732331,\n",
       "        20.2451104 ,  39.72320565,  36.61957253,  30.13952291])"
      ]
     },
     "execution_count": 262,
     "metadata": {},
     "output_type": "execute_result"
    }
   ],
   "source": [
    "x1 = X[:, 0]\n",
    "x2 = X[:, 1]\n",
    "x1"
   ]
  },
  {
   "cell_type": "code",
   "execution_count": 263,
   "metadata": {
    "collapsed": false
   },
   "outputs": [
    {
     "data": {
      "text/plain": [
       "(8.9432829568082148, 39.723205652514856)"
      ]
     },
     "execution_count": 263,
     "metadata": {},
     "output_type": "execute_result"
    }
   ],
   "source": [
    "x_range = min(x1), max(x1)\n",
    "x_range"
   ]
  },
  {
   "cell_type": "code",
   "execution_count": 269,
   "metadata": {
    "collapsed": false
   },
   "outputs": [
    {
     "data": {
      "text/plain": [
       "array([ 27.48339013,  12.4195219 ])"
      ]
     },
     "execution_count": 269,
     "metadata": {},
     "output_type": "execute_result"
    }
   ],
   "source": [
    "# θ is always at 90 degrees to the decision boundary\n",
    "y_decision_boundary = (beta_0 + beta_1*np.array(x_range))  / (-1*beta_2)\n",
    "y_decision_boundary"
   ]
  },
  {
   "cell_type": "code",
   "execution_count": 265,
   "metadata": {
    "collapsed": false
   },
   "outputs": [
    {
     "data": {
      "text/plain": [
       "0.53877630487596539"
      ]
     },
     "execution_count": 265,
     "metadata": {},
     "output_type": "execute_result"
    }
   ],
   "source": [
    "beta_magnitud = np.sqrt(np.sum(model.coef_**2))\n",
    "beta_magnitud"
   ]
  },
  {
   "cell_type": "code",
   "execution_count": 266,
   "metadata": {
    "collapsed": false
   },
   "outputs": [
    {
     "data": {
      "text/plain": [
       "array([[ 14.08757647,  14.83812022,   8.97739534,   9.56709749,\n",
       "         12.62415167,  11.77530506,  16.51010399,  26.39202567,\n",
       "         29.3471823 ,   6.94069313,   6.16341445,  28.5002534 ,\n",
       "         17.42413591,  17.39163074,  16.3285155 ,  21.46195215,\n",
       "         11.87393111,  20.66746976,  17.93367967,  14.34224527]])"
      ]
     },
     "execution_count": 266,
     "metadata": {},
     "output_type": "execute_result"
    }
   ],
   "source": [
    "# The distance from eachpoint to the decision boundery \n",
    "dist_points= np.abs(beta_0 + np.dot(model.coef_, X.T)) / beta_magnitud\n",
    "dist_points"
   ]
  },
  {
   "cell_type": "code",
   "execution_count": 284,
   "metadata": {
    "collapsed": false
   },
   "outputs": [],
   "source": [
    "def plot_decision_boundary(X, y, feat_names, x_range, y_decision_boundary, dist_points):\n",
    "    plt.figure(figsize=(14, 6))\n",
    "    plt.scatter(X[:,0], X[:,1], c=y, alpha=0.35, cmap='RdBu', s=dist_points*100)\n",
    "    plt.xlabel(feat_names[0])\n",
    "    plt.ylabel(feat_names[1])\n",
    "    plt.plot(x_range, y_decision_boundary, 'k-')\n",
    "    plt.colorbar()\n",
    "    \n",
    "    "
   ]
  },
  {
   "cell_type": "code",
   "execution_count": 285,
   "metadata": {
    "collapsed": false
   },
   "outputs": [
    {
     "data": {
      "image/png": "[encoded data removed]",
      "text/plain": [
       "<matplotlib.figure.Figure at 0x11d622350>"
      ]
     },
     "metadata": {},
     "output_type": "display_data"
    }
   ],
   "source": [
    "plot_decision_boundary(X, y, feature_names, x_range, y_decision_boundary, dist_points )"
   ]
  },
  {
   "cell_type": "markdown",
   "metadata": {},
   "source": [
    "---\n",
    "Support Vector Machine Boundary\n",
    "---"
   ]
  },
  {
   "cell_type": "code",
   "execution_count": 271,
   "metadata": {
    "collapsed": false
   },
   "outputs": [
    {
     "data": {
      "text/plain": [
       "LinearSVC(C=1.0, class_weight=None, dual=True, fit_intercept=True,\n",
       "     intercept_scaling=100, loss='squared_hinge', max_iter=1000,\n",
       "     multi_class='ovr', penalty='l2', random_state=None, tol=0.0001,\n",
       "     verbose=0)"
      ]
     },
     "execution_count": 271,
     "metadata": {},
     "output_type": "execute_result"
    }
   ],
   "source": [
    "svm_model = LinearSVC(intercept_scaling=100)\n",
    "svm_model.fit(X, y)"
   ]
  },
  {
   "cell_type": "markdown",
   "metadata": {},
   "source": [
    "**Separating hyperplane**"
   ]
  },
  {
   "cell_type": "code",
   "execution_count": 272,
   "metadata": {
    "collapsed": false
   },
   "outputs": [
    {
     "data": {
      "text/plain": [
       "array([-0.0711069 , -0.13365894])"
      ]
     },
     "execution_count": 272,
     "metadata": {},
     "output_type": "execute_result"
    }
   ],
   "source": [
    "w1, w2 = svm_model.coef_[0]\n",
    "w"
   ]
  },
  {
   "cell_type": "code",
   "execution_count": 273,
   "metadata": {
    "collapsed": false
   },
   "outputs": [
    {
     "data": {
      "text/plain": [
       "4.3350204426827217"
      ]
     },
     "execution_count": 273,
     "metadata": {},
     "output_type": "execute_result"
    }
   ],
   "source": [
    "w0 = svm_model.intercept_[0]\n",
    "w0"
   ]
  },
  {
   "cell_type": "code",
   "execution_count": 274,
   "metadata": {
    "collapsed": false
   },
   "outputs": [],
   "source": [
    "d = -w1 / w2"
   ]
  },
  {
   "cell_type": "code",
   "execution_count": 275,
   "metadata": {
    "collapsed": false
   },
   "outputs": [
    {
     "data": {
      "text/plain": [
       "array([ 27.67537197,  11.30037504])"
      ]
     },
     "execution_count": 275,
     "metadata": {},
     "output_type": "execute_result"
    }
   ],
   "source": [
    "# SVM_y_decision_boundary\n",
    "ydb = d*np.array(x_range) - w0 / w2\n",
    "ydb"
   ]
  },
  {
   "cell_type": "markdown",
   "metadata": {},
   "source": [
    "**Parallels separating the hyperplane that pass through the support vectors**"
   ]
  },
  {
   "cell_type": "code",
   "execution_count": 276,
   "metadata": {
    "collapsed": true
   },
   "outputs": [],
   "source": [
    "margin = 1 / np.sqrt(np.sum(svm_model.coef_**2))"
   ]
  },
  {
   "cell_type": "code",
   "execution_count": 277,
   "metadata": {
    "collapsed": true
   },
   "outputs": [],
   "source": [
    "yy_l = ydb - d * margin\n",
    "yy_u = ydb + d * margin"
   ]
  },
  {
   "cell_type": "code",
   "execution_count": 278,
   "metadata": {
    "collapsed": true
   },
   "outputs": [],
   "source": [
    "def plot_svm_decision_boundary(X, y, feat_names, x_range, y_decision_boundary,  yy_l, yy_u):\n",
    "    plt.figure(figsize=(14, 6))\n",
    "    plt.scatter(X[:,0], X[:,1], c=y, alpha=0.3, cmap='RdBu', s=80)\n",
    "    plt.xlabel(feat_names[0])\n",
    "    plt.ylabel(feat_names[1])\n",
    "    plt.plot(x_range, ydb)\n",
    "    plt.plot(x_range, yy_l, 'k-')\n",
    "    plt.plot(x_range, yy_u, 'k-')\n",
    "    plt.colorbar()\n",
    "    "
   ]
  },
  {
   "cell_type": "code",
   "execution_count": 279,
   "metadata": {
    "collapsed": false
   },
   "outputs": [
    {
     "data": {
      "image/png": "[encoded data removed]",
      "text/plain": [
       "<matplotlib.figure.Figure at 0x11d6156d0>"
      ]
     },
     "metadata": {},
     "output_type": "display_data"
    }
   ],
   "source": [
    "plot_svm_decision_boundary(X, y, feature_names,x_range, ydb, yy_l, yy_u)"
   ]
  },
  {
   "cell_type": "code",
   "execution_count": null,
   "metadata": {
    "collapsed": true
   },
   "outputs": [],
   "source": []
  },
  {
   "cell_type": "code",
   "execution_count": null,
   "metadata": {
    "collapsed": true
   },
   "outputs": [],
   "source": []
  },
  {
   "cell_type": "code",
   "execution_count": null,
   "metadata": {
    "collapsed": true
   },
   "outputs": [],
   "source": []
  },
  {
   "cell_type": "code",
   "execution_count": null,
   "metadata": {
    "collapsed": true
   },
   "outputs": [],
   "source": []
  },
  {
   "cell_type": "code",
   "execution_count": null,
   "metadata": {
    "collapsed": true
   },
   "outputs": [],
   "source": []
  },
  {
   "cell_type": "code",
   "execution_count": null,
   "metadata": {
    "collapsed": true
   },
   "outputs": [],
   "source": []
  },
  {
   "cell_type": "code",
   "execution_count": null,
   "metadata": {
    "collapsed": true
   },
   "outputs": [],
   "source": []
  },
  {
   "cell_type": "code",
   "execution_count": null,
   "metadata": {
    "collapsed": true
   },
   "outputs": [],
   "source": []
  },
  {
   "cell_type": "code",
   "execution_count": null,
   "metadata": {
    "collapsed": true
   },
   "outputs": [],
   "source": []
  },
  {
   "cell_type": "code",
   "execution_count": null,
   "metadata": {
    "collapsed": true
   },
   "outputs": [],
   "source": []
  },
  {
   "cell_type": "code",
   "execution_count": null,
   "metadata": {
    "collapsed": true
   },
   "outputs": [],
   "source": []
  },
  {
   "cell_type": "code",
   "execution_count": null,
   "metadata": {
    "collapsed": true
   },
   "outputs": [],
   "source": []
  },
  {
   "cell_type": "code",
   "execution_count": null,
   "metadata": {
    "collapsed": true
   },
   "outputs": [],
   "source": []
  },
  {
   "cell_type": "code",
   "execution_count": null,
   "metadata": {
    "collapsed": true
   },
   "outputs": [],
   "source": []
  },
  {
   "cell_type": "code",
   "execution_count": null,
   "metadata": {
    "collapsed": true
   },
   "outputs": [],
   "source": []
  },
  {
   "cell_type": "code",
   "execution_count": null,
   "metadata": {
    "collapsed": true
   },
   "outputs": [],
   "source": []
  },
  {
   "cell_type": "code",
   "execution_count": null,
   "metadata": {
    "collapsed": true
   },
   "outputs": [],
   "source": []
  },
  {
   "cell_type": "code",
   "execution_count": null,
   "metadata": {
    "collapsed": true
   },
   "outputs": [],
   "source": []
  },
  {
   "cell_type": "code",
   "execution_count": null,
   "metadata": {
    "collapsed": true
   },
   "outputs": [],
   "source": []
  },
  {
   "cell_type": "code",
   "execution_count": null,
   "metadata": {
    "collapsed": true
   },
   "outputs": [],
   "source": []
  }
 ],
 "metadata": {
  "kernelspec": {
   "display_name": "Python 2",
   "language": "python",
   "name": "python2"
  },
  "language_info": {
   "codemirror_mode": {
    "name": "ipython",
    "version": 2
   },
   "file_extension": ".py",
   "mimetype": "text/x-python",
   "name": "python",
   "nbconvert_exporter": "python",
   "pygments_lexer": "ipython2",
   "version": "2.7.11"
  }
 },
 "nbformat": 4,
 "nbformat_minor": 0
}
