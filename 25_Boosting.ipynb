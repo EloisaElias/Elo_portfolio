{
 "cells": [
  {
   "cell_type": "markdown",
   "metadata": {},
   "source": [
    "## Gradient boosting\n",
    "---\n",
    "**Elo notes**"
   ]
  },
  {
   "cell_type": "markdown",
   "metadata": {},
   "source": [
    "Gradient boosting is a machine learning technique for regression and classification problems, which produces a prediction model in the form of an ensemble of weak prediction models, typically decision trees. It builds the model in a stage-wise fashion like other boosting methods do, and it generalizes them by allowing optimization of an arbitrary differentiable loss function.\n",
    "\n",
    "Boosting algorithms as iterative functional gradient descent algorithms. That is, algorithms that optimize a cost function over function space by iteratively choosing a function (weak hypothesis) that points in the negative gradient direction. This functional gradient view of boosting has led to the development of boosting algorithms in many areas of machine learning and statistics beyond regression and classification.\n",
    "\n",
    "Like other boosting methods, gradient boosting combines weak learners into a single strong learner, in an iterative fashion. It is easiest to explain in the least-squares regression setting, where the goal is to learn a model ${\\displaystyle F}$ that predicts values $y{\\displaystyle {\\hat {y}}=F(x)}$, minimizing the mean squared error  ${\\displaystyle ({\\hat {y}}-y)^{2}}$ to the true values y (averaged over some training set).\n",
    "\n",
    "At each stage $ {\\displaystyle 1\\leq m\\leq M}  $ of gradient boosting, it may be assumed that there is some imperfect model ${\\displaystyle F_{m}}$ (at the outset, a very weak model that just predicts the mean y in the training set could be used). The gradient boosting algorithm does not change $ {\\displaystyle F_{m}} $ in any way; instead, it improves on it by constructing a new model that adds an estimator h to provide a better model $ {\\displaystyle F_{m+1}(x)=F_{m}(x)+h(x)} F_{m+1}(x)$. The question is now, how to find ${\\displaystyle h} $? The gradient boosting solution starts with the observation that a perfect h would imply\n",
    "\n",
    "${\\displaystyle F_{m+1}(x)=F_{m}(x)+h(x)=y} $\n",
    "\n",
    "or, equivalently,\n",
    "\n",
    "${\\displaystyle h(x)=y-F_{m}(x)} $\n",
    "\n",
    "Therefore, gradient boosting will fit $h$ to the residual $ {\\displaystyle y-F_{m}(x)} $. Like in other boosting variants, each $ {\\displaystyle F_{m+1}} $ learns to correct its predecessor ${\\displaystyle F_{m}}$. A generalization of this idea to other loss functions than squared error (and to classification and ranking problems) follows from the observation that residuals y − $ {\\displaystyle y-F(x)} $ are the negative gradients of the squared error loss function $ {\\displaystyle {\\frac {1}{2}}(y-F(x))^{2}}$. So, gradient boosting is a gradient descent algorithm; and generalizing it entails \"plugging in\" a different loss and its gradient."
   ]
  },
  {
   "cell_type": "markdown",
   "metadata": {
    "collapsed": true
   },
   "source": [
    "**Gradient boosting Algorithm**\n",
    "\n",
    "\n",
    "\n",
    "Input: training set ${\\displaystyle \\{(x_{i},y_{i})\\}_{i=1}^{n},} $ a differentiable loss function ${\\displaystyle L(y,F(x)),}$ number of iterations M.\n",
    "\n",
    "Algorithm:\n",
    "\n",
    "Initialize model with a constant value:\n",
    "\n",
    "${\\displaystyle F_{0}(x)={\\underset {\\gamma }{\\arg \\min }}\\sum _{i=1}^{n}L(y_{i},\\gamma )}$\n",
    "\n",
    "For m = 1 to M:\n",
    "\n",
    "Compute so-called pseudo-residuals:\n",
    "\n",
    "${\\displaystyle r_{im}=-\\left[{\\frac {\\partial L(y_{i},F(x_{i}))}{\\partial F(x_{i})}}\\right]_{F(x)=F_{m-1}(x)}\\quad {\\mbox{for }}i=1,\\ldots ,n} $\n",
    "\n",
    "Fit a base learner ${\\displaystyle h_{m}(x)}$ to pseudo-residuals, i.e. train it using the training set ${\\displaystyle \\{(x_{i},r_{im})\\}_{i=1}^{n}}$\n",
    "\n",
    "Compute multiplier ${\\displaystyle \\gamma _{m}}$ by solving the following one-dimensional optimization problem:\n",
    "\n",
    "${\\displaystyle \\gamma _{m}={\\underset {\\gamma }{\\operatorname {arg\\,min} }}\\sum _{i=1}^{n}L\\left(y_{i},F_{m-1}(x_{i})+\\gamma h_{m}(x_{i})\\right)}$\n",
    "\n",
    "Update the model:\n",
    "\n",
    "${\\displaystyle F_{m}(x)=F_{m-1}(x)+\\gamma _{m}h_{m}(x)}$\n",
    "\n",
    "Output ${\\displaystyle F_{M}(x)}$\n"
   ]
  },
  {
   "cell_type": "markdown",
   "metadata": {
    "collapsed": true
   },
   "source": [
    "\n",
    "**Cost function - Loss function**\n",
    "\n",
    "In mathematical optimization, statistics, decision theory and machine learning, a loss function or cost function is a function that maps an event or values of one or more variables onto a real number intuitively representing some \"cost\" associated with the event. An optimization problem seeks to minimize a loss function. An objective function is either a loss function or its negative (sometimes called a reward function, a profit function, a utility function, a fitness function, etc.), in which case it is to be maximized."
   ]
  },
  {
   "cell_type": "markdown",
   "metadata": {},
   "source": [
    "\n",
    "\n",
    "**Note:** sklearn - n_jobs=-1 allows the process to be run on multiple cores on your computer. Only parallel algorithms such as RandomForest can do that. Boosting is sequential (the current step depends on the residuals from the previous) and does not have that option. n_jobs=-1 is not a hyperparameter.\n",
    "\n"
   ]
  },
  {
   "cell_type": "markdown",
   "metadata": {},
   "source": [
    "### Stochastic gradient boosting\n",
    "\n",
    "• max_features\n",
    "    Random subsample of features\n",
    "    Especially good when you have lots of features\n",
    "    \n",
    "• sub_sample\n",
    "    random subset of the training set\n",
    "\n",
    "### Best practice\n",
    "Scikit-learn recommends:\n",
    "\n",
    "Set n_estimators high as possible (3000, 5000, etc.)\n",
    "\n",
    "Tune all hyper-parameters via grid search\n",
    "\n",
    "Further optimize n_estimators and learning_rate\n",
    "\n",
    "● Scikit-learn uses canonical implementation from $R's$ gbm package.\n",
    "\n",
    "● gbm's documentation provides additional advice on tuning.\n",
    "\n",
    "You must tune the model for good model performance"
   ]
  },
  {
   "cell_type": "code",
   "execution_count": 3,
   "metadata": {
    "collapsed": false
   },
   "outputs": [],
   "source": [
    "from sklearn.tree import DecisionTreeRegressor\n",
    "from sklearn.ensemble import RandomForestRegressor, GradientBoostingRegressor\n",
    "from sklearn.ensemble import AdaBoostRegressor\n",
    "from sklearn.ensemble.partial_dependence import plot_partial_dependence\n",
    "\n",
    "from sklearn.datasets import load_boston\n",
    "from sklearn.cross_validation import train_test_split, cross_val_score\n",
    "from sklearn.grid_search import GridSearchCV\n",
    "from sklearn.metrics import mean_squared_error, r2_score\n",
    "\n",
    "from sklearn.datasets import load_boston\n",
    "\n",
    "import matplotlib.pyplot as plt\n",
    "import numpy as np\n",
    "import pandas as pd\n",
    "\n",
    "% matplotlib inline"
   ]
  },
  {
   "cell_type": "code",
   "execution_count": 4,
   "metadata": {
    "collapsed": true
   },
   "outputs": [],
   "source": [
    "boston = load_boston()"
   ]
  },
  {
   "cell_type": "code",
   "execution_count": 86,
   "metadata": {
    "collapsed": true
   },
   "outputs": [],
   "source": [
    "feature_names = boston.feature_names"
   ]
  },
  {
   "cell_type": "code",
   "execution_count": 5,
   "metadata": {
    "collapsed": true
   },
   "outputs": [],
   "source": [
    "y = boston.target\n",
    "X = boston.data"
   ]
  },
  {
   "cell_type": "code",
   "execution_count": 6,
   "metadata": {
    "collapsed": true
   },
   "outputs": [],
   "source": [
    "X_train, X_test, y_train, y_test = train_test_split(X, y, test_size=.2, random_state=1)"
   ]
  },
  {
   "cell_type": "code",
   "execution_count": 7,
   "metadata": {
    "collapsed": true
   },
   "outputs": [],
   "source": [
    "features = boston.feature_names"
   ]
  },
  {
   "cell_type": "code",
   "execution_count": 8,
   "metadata": {
    "collapsed": true
   },
   "outputs": [],
   "source": [
    "rf = RandomForestRegressor(n_estimators=100,\n",
    "                           n_jobs=-1,\n",
    "                           random_state=1)"
   ]
  },
  {
   "cell_type": "code",
   "execution_count": 9,
   "metadata": {
    "collapsed": true
   },
   "outputs": [],
   "source": [
    "gboost = GradientBoostingRegressor(learning_rate=0.1,\n",
    "                                 loss='ls',\n",
    "                                 n_estimators=100,\n",
    "                                 random_state=1)"
   ]
  },
  {
   "cell_type": "code",
   "execution_count": 10,
   "metadata": {
    "collapsed": true
   },
   "outputs": [],
   "source": [
    "aboost = AdaBoostRegressor(DecisionTreeRegressor(),\n",
    "                          learning_rate=0.1,\n",
    "                          loss='linear',\n",
    "                          n_estimators=100,\n",
    "                          random_state=1)"
   ]
  },
  {
   "cell_type": "code",
   "execution_count": 11,
   "metadata": {
    "collapsed": true
   },
   "outputs": [],
   "source": [
    "def cv_score(models, X, y):\n",
    "    scores=[]\n",
    "    for model in models:\n",
    "        cv_score = {}\n",
    "        score_methods = ['neg_mean_squared_error', 'r2']\n",
    "        for method in score_methods:\n",
    "            cv_score[method] = abs(cross_val_score(model, X, y,\n",
    "                                                scoring=method,\n",
    "                                                n_jobs = -1).mean())\n",
    "        scores.append(cv_score)\n",
    "    return scores\n",
    "            "
   ]
  },
  {
   "cell_type": "code",
   "execution_count": 12,
   "metadata": {
    "collapsed": false
   },
   "outputs": [
    {
     "data": {
      "text/plain": [
       "[('RandomForestRegressor',\n",
       "  {'neg_mean_squared_error': 10.320121093569188, 'r2': 0.86910528797243847}),\n",
       " ('GradientBoostingRegressor',\n",
       "  {'neg_mean_squared_error': 8.8465953307707181, 'r2': 0.88859680828246645}),\n",
       " ('AdaBoostRegressor',\n",
       "  {'neg_mean_squared_error': 9.7304608439285047, 'r2': 0.87805839027916621})]"
      ]
     },
     "execution_count": 12,
     "metadata": {},
     "output_type": "execute_result"
    }
   ],
   "source": [
    "models_name = ['RandomForestRegressor',\n",
    "              'GradientBoostingRegressor',\n",
    "              'AdaBoostRegressor']\n",
    "models = [rf, gboost, aboost]\n",
    "zip(models_name, cv_score(models, X_train, y_train))"
   ]
  },
  {
   "cell_type": "code",
   "execution_count": 13,
   "metadata": {
    "collapsed": false
   },
   "outputs": [
    {
     "name": "stdout",
     "output_type": "stream",
     "text": [
      "[{'neg_mean_squared_error': 22.289380229237612, 'r2': 0.71265602102041037}]\n"
     ]
    }
   ],
   "source": [
    "# tunning gradient boosting's parameter to learning_rate=1, it will negatively affect the score.\n",
    "gboost_ = GradientBoostingRegressor(learning_rate=1,\n",
    "                                   loss='ls',\n",
    "                                   n_estimators=100,\n",
    "                                   random_state=1)\n",
    "\n",
    "print cv_score([gboost_], X_train, y_train)\n",
    "\n",
    "gboost_.fit(X_train, y_train)\n",
    "y_hat = gboost_.staged_predict(X_train)"
   ]
  },
  {
   "cell_type": "markdown",
   "metadata": {},
   "source": [
    "---\n",
    "**Graphing**"
   ]
  },
  {
   "cell_type": "code",
   "execution_count": 15,
   "metadata": {
    "collapsed": false
   },
   "outputs": [],
   "source": [
    "def staging_mse_score(model, X_train, X_test, y_train, y_test):\n",
    "    model.fit(X_train, y_train)\n",
    "    learning_rate = model.n_estimators\n",
    "    # train set\n",
    "    y_predict_ = model.staged_predict(X_train)\n",
    "    mse_score_ =  []\n",
    "    for y_hat_ in y_predict_:\n",
    "        mse_score_.append(mean_squared_error(y_train, y_hat_))\n",
    "        \n",
    "    # test set\n",
    "    y_predict = model.staged_predict(X_test)\n",
    "    mse_score = []\n",
    "    for y_hat in y_predict:\n",
    "        mse_score.append(mean_squared_error(y_test, y_hat))\n",
    "    \n",
    "    \n",
    "    # Plot train\n",
    "    plt.plot(range(learning_rate), mse_score_, linestyle='--', label='{} Train = learning rate: {}'.format(model.__class__.__name__, model.learning_rate))\n",
    "    # Plot test\n",
    "    plt.plot(range(learning_rate), mse_score, label='{} Test = learning rate: {}'.format(model.__class__.__name__, model.learning_rate))\n",
    "    \n",
    "    plt.ylabel('MSE')\n",
    "    plt.xlabel('Iterations')\n",
    "    plt.legend()\n",
    "    "
   ]
  },
  {
   "cell_type": "code",
   "execution_count": 16,
   "metadata": {
    "collapsed": false
   },
   "outputs": [
    {
     "data": {
      "image/png": "[encoded data removed]",
      "text/plain": [
       "<matplotlib.figure.Figure at 0x119028590>"
      ]
     },
     "metadata": {},
     "output_type": "display_data"
    }
   ],
   "source": [
    "plt.figure(figsize=(12, 6))\n",
    "staging_mse_score(gboost, X_train, X_test, y_train, y_test)\n",
    "staging_mse_score(gboost_, X_train, X_test, y_train, y_test)\n",
    "plt.show()"
   ]
  },
  {
   "cell_type": "code",
   "execution_count": 17,
   "metadata": {
    "collapsed": false
   },
   "outputs": [
    {
     "data": {
      "image/png": "[encoded data removed]",
      "text/plain": [
       "<matplotlib.figure.Figure at 0x119bf9390>"
      ]
     },
     "metadata": {},
     "output_type": "display_data"
    }
   ],
   "source": [
    "rf.fit(X_train, y_train)\n",
    "y_predict = rf.predict(X_test)\n",
    "\n",
    "plt.figure(figsize=(12, 6))\n",
    "staging_mse_score(gboost, X_train, X_test, y_train, y_test)\n",
    "\n",
    "plt.axhline(y= mean_squared_error(y_test, y_predict), linestyle=':', linewidth=1,\n",
    "           color='r', label='Random Forest - Test')\n",
    "plt.legend()\n",
    "plt.show()"
   ]
  },
  {
   "cell_type": "markdown",
   "metadata": {},
   "source": [
    "---\n",
    "#### Grid Search to find the best tunning parameters for models Random Forest, Gboosting, Adaboosting\n",
    "\n",
    "2 . 3 . 3 . 3 . 1 . 4 . 1 : We are trying each of these possibilities!"
   ]
  },
  {
   "cell_type": "markdown",
   "metadata": {},
   "source": [
    "**Random Forest**"
   ]
  },
  {
   "cell_type": "code",
   "execution_count": 18,
   "metadata": {
    "collapsed": true
   },
   "outputs": [],
   "source": [
    "# Initial parameter evaluation with gridsearch\n",
    "# n_estimators = number of trees grown\n",
    "\n",
    "rf_gridsearch_parameters = {'max_depth':[3, None],\n",
    "                         'max_features': ['sqrt', 'log2', None],\n",
    "                         'min_samples_split': [1, 2, 4],\n",
    "                         'min_samples_leaf': [1, 2, 4],\n",
    "                         'bootstrap':[True],\n",
    "                         'n_estimators': [10, 20, 40, 100],\n",
    "                         'random_state': [1],\n",
    "                         'n_jobs':[-1]}"
   ]
  },
  {
   "cell_type": "code",
   "execution_count": 19,
   "metadata": {
    "collapsed": false
   },
   "outputs": [
    {
     "name": "stdout",
     "output_type": "stream",
     "text": [
      "Fitting 3 folds for each of 216 candidates, totalling 648 fits\n"
     ]
    },
    {
     "name": "stderr",
     "output_type": "stream",
     "text": [
      "[Parallel(n_jobs=-1)]: Done  42 tasks      | elapsed:    4.8s\n",
      "[Parallel(n_jobs=-1)]: Done 192 tasks      | elapsed:   22.3s\n",
      "[Parallel(n_jobs=-1)]: Done 442 tasks      | elapsed:   51.4s\n",
      "[Parallel(n_jobs=-1)]: Done 648 out of 648 | elapsed:  1.3min finished\n"
     ]
    },
    {
     "name": "stdout",
     "output_type": "stream",
     "text": [
      "Best Parameters: {'n_jobs': -1, 'bootstrap': True, 'min_samples_leaf': 1, 'n_estimators': 40, 'min_samples_split': 1, 'random_state': 1, 'max_features': None, 'max_depth': None}\n"
     ]
    }
   ],
   "source": [
    "rf_gridsearch = GridSearchCV(RandomForestRegressor(),\n",
    "                            rf_gridsearch_parameters,\n",
    "                            n_jobs=-1,\n",
    "                            verbose=True,\n",
    "                            scoring='neg_mean_squared_error')\n",
    "\n",
    "rf_gridsearch.fit(X_train, y_train)\n",
    "print 'Best Parameters:', rf_gridsearch.best_params_"
   ]
  },
  {
   "cell_type": "code",
   "execution_count": 32,
   "metadata": {
    "collapsed": false
   },
   "outputs": [
    {
     "data": {
      "text/plain": [
       "{'bootstrap': True,\n",
       " 'max_depth': None,\n",
       " 'max_features': None,\n",
       " 'min_samples_leaf': 1,\n",
       " 'min_samples_split': 1,\n",
       " 'n_estimators': 40,\n",
       " 'n_jobs': -1,\n",
       " 'random_state': 1}"
      ]
     },
     "execution_count": 32,
     "metadata": {},
     "output_type": "execute_result"
    }
   ],
   "source": [
    "rf_gridsearch.best_params_"
   ]
  },
  {
   "cell_type": "code",
   "execution_count": 35,
   "metadata": {
    "collapsed": false
   },
   "outputs": [
    {
     "data": {
      "text/plain": [
       "RandomForestRegressor(bootstrap=True, criterion='mse', max_depth=None,\n",
       "           max_features=None, max_leaf_nodes=None,\n",
       "           min_impurity_split=1e-07, min_samples_leaf=1,\n",
       "           min_samples_split=1, min_weight_fraction_leaf=0.0,\n",
       "           n_estimators=40, n_jobs=-1, oob_score=False, random_state=1,\n",
       "           verbose=0, warm_start=False)"
      ]
     },
     "execution_count": 35,
     "metadata": {},
     "output_type": "execute_result"
    }
   ],
   "source": [
    "rf_gridsearch.best_estimator_"
   ]
  },
  {
   "cell_type": "code",
   "execution_count": 62,
   "metadata": {
    "collapsed": true
   },
   "outputs": [],
   "source": [
    "rf_best = rf_gridsearch.best_estimator_"
   ]
  },
  {
   "cell_type": "markdown",
   "metadata": {},
   "source": [
    "**Gradient Boosting Regressor**"
   ]
  },
  {
   "cell_type": "code",
   "execution_count": 21,
   "metadata": {
    "collapsed": true
   },
   "outputs": [],
   "source": [
    "# Initial parameter evaluation with gridsearch\n",
    "\n",
    "gboost_gridsearch_parameters = {'learning_rate': [0.001, 0.01, .1, 1],\n",
    "                               'max_depth': [2, 3, None],\n",
    "                                'min_samples_leaf': [1, 2, 3],\n",
    "                                'max_features': ['sqrt', 'log2', None],\n",
    "                                'n_estimators': [10, 20, 40, 100],\n",
    "                                'random_state': [1]}     "
   ]
  },
  {
   "cell_type": "code",
   "execution_count": 29,
   "metadata": {
    "collapsed": false
   },
   "outputs": [
    {
     "name": "stdout",
     "output_type": "stream",
     "text": [
      "Fitting 3 folds for each of 432 candidates, totalling 1296 fits\n"
     ]
    },
    {
     "name": "stderr",
     "output_type": "stream",
     "text": [
      "[Parallel(n_jobs=-1)]: Done 552 tasks      | elapsed:    4.8s\n",
      "[Parallel(n_jobs=-1)]: Done 1296 out of 1296 | elapsed:   10.7s finished\n"
     ]
    }
   ],
   "source": [
    "gboost_gridsearch = GridSearchCV(GradientBoostingRegressor(),\n",
    "                                gboost_gridsearch_parameters,\n",
    "                                n_jobs=-1,\n",
    "                                verbose=True,\n",
    "                                scoring='neg_mean_squared_error')\n",
    "\n",
    "\n",
    "gboost_gridsearch.fit(X_train, y_train)\n",
    "\n"
   ]
  },
  {
   "cell_type": "code",
   "execution_count": 36,
   "metadata": {
    "collapsed": false
   },
   "outputs": [
    {
     "data": {
      "text/plain": [
       "{'learning_rate': 0.1,\n",
       " 'max_depth': 3,\n",
       " 'max_features': None,\n",
       " 'min_samples_leaf': 1,\n",
       " 'n_estimators': 100,\n",
       " 'random_state': 1}"
      ]
     },
     "execution_count": 36,
     "metadata": {},
     "output_type": "execute_result"
    }
   ],
   "source": [
    "gboost_gridsearch.best_params_"
   ]
  },
  {
   "cell_type": "code",
   "execution_count": 37,
   "metadata": {
    "collapsed": false
   },
   "outputs": [
    {
     "data": {
      "text/plain": [
       "GradientBoostingRegressor(alpha=0.9, criterion='friedman_mse', init=None,\n",
       "             learning_rate=0.1, loss='ls', max_depth=3, max_features=None,\n",
       "             max_leaf_nodes=None, min_impurity_split=1e-07,\n",
       "             min_samples_leaf=1, min_samples_split=2,\n",
       "             min_weight_fraction_leaf=0.0, n_estimators=100,\n",
       "             presort='auto', random_state=1, subsample=1.0, verbose=0,\n",
       "             warm_start=False)"
      ]
     },
     "execution_count": 37,
     "metadata": {},
     "output_type": "execute_result"
    }
   ],
   "source": [
    "gboost_gridsearch.best_estimator_"
   ]
  },
  {
   "cell_type": "code",
   "execution_count": 63,
   "metadata": {
    "collapsed": true
   },
   "outputs": [],
   "source": [
    "gboost_best = gboost_gridsearch.best_estimator_"
   ]
  },
  {
   "cell_type": "markdown",
   "metadata": {},
   "source": [
    "**Ada Boosting Regressor**"
   ]
  },
  {
   "cell_type": "code",
   "execution_count": 73,
   "metadata": {
    "collapsed": true
   },
   "outputs": [],
   "source": [
    "adaboost_gridsearch_parameters = {'learning_rate': [0.001, 0.01, .1, 1, 2],\n",
    "                                  'n_estimators': [10, 20, 40, 100],\n",
    "                                 'loss': ['linear', 'square', 'exponential'] } "
   ]
  },
  {
   "cell_type": "code",
   "execution_count": 74,
   "metadata": {
    "collapsed": false
   },
   "outputs": [
    {
     "name": "stdout",
     "output_type": "stream",
     "text": [
      "Fitting 3 folds for each of 60 candidates, totalling 180 fits\n"
     ]
    },
    {
     "name": "stderr",
     "output_type": "stream",
     "text": [
      "[Parallel(n_jobs=-1)]: Done 144 tasks      | elapsed:    7.0s\n",
      "[Parallel(n_jobs=-1)]: Done 180 out of 180 | elapsed:    8.6s finished\n"
     ]
    },
    {
     "data": {
      "text/plain": [
       "GridSearchCV(cv=None, error_score='raise',\n",
       "       estimator=AdaBoostRegressor(base_estimator=None, learning_rate=1.0, loss='linear',\n",
       "         n_estimators=50, random_state=None),\n",
       "       fit_params={}, iid=True, n_jobs=-1,\n",
       "       param_grid={'n_estimators': [10, 20, 40, 100], 'loss': ['linear', 'square', 'exponential'], 'learning_rate': [0.001, 0.01, 0.1, 1, 2]},\n",
       "       pre_dispatch='2*n_jobs', refit=True,\n",
       "       scoring='neg_mean_squared_error', verbose=True)"
      ]
     },
     "execution_count": 74,
     "metadata": {},
     "output_type": "execute_result"
    }
   ],
   "source": [
    "# Initial parameter evaluation with gridsearch\n",
    "adaboost_gridsearch = GridSearchCV(AdaBoostRegressor(),\n",
    "                                adaboost_gridsearch_parameters,\n",
    "                                n_jobs=-1,\n",
    "                                verbose=True,\n",
    "                                scoring='neg_mean_squared_error')\n",
    "\n",
    "adaboost_gridsearch.fit(X_train, y_train)\n"
   ]
  },
  {
   "cell_type": "code",
   "execution_count": 75,
   "metadata": {
    "collapsed": false
   },
   "outputs": [
    {
     "data": {
      "text/plain": [
       "{'learning_rate': 2, 'loss': 'linear', 'n_estimators': 100}"
      ]
     },
     "execution_count": 75,
     "metadata": {},
     "output_type": "execute_result"
    }
   ],
   "source": [
    "adaboost_gridsearch.best_params_"
   ]
  },
  {
   "cell_type": "code",
   "execution_count": 76,
   "metadata": {
    "collapsed": false
   },
   "outputs": [
    {
     "data": {
      "text/plain": [
       "AdaBoostRegressor(base_estimator=None, learning_rate=2, loss='linear',\n",
       "         n_estimators=100, random_state=None)"
      ]
     },
     "execution_count": 76,
     "metadata": {},
     "output_type": "execute_result"
    }
   ],
   "source": [
    "adaboost_gridsearch.best_estimator_"
   ]
  },
  {
   "cell_type": "code",
   "execution_count": 77,
   "metadata": {
    "collapsed": true
   },
   "outputs": [],
   "source": [
    "adaboost_best = adaboost_gridsearch.best_estimator_"
   ]
  },
  {
   "cell_type": "markdown",
   "metadata": {},
   "source": [
    "---"
   ]
  },
  {
   "cell_type": "code",
   "execution_count": 78,
   "metadata": {
    "collapsed": false
   },
   "outputs": [
    {
     "data": {
      "text/plain": [
       "[('RandomForestRegressor',\n",
       "  {'neg_mean_squared_error': 10.222602823267922, 'r2': 0.8701851714173503}),\n",
       " ('GradientBoostingRegressor',\n",
       "  {'neg_mean_squared_error': 8.8465953307707181, 'r2': 0.88859680828246645}),\n",
       " ('AdaBoostRegressor',\n",
       "  {'neg_mean_squared_error': 13.023536899342664, 'r2': 0.8373457012085227})]"
      ]
     },
     "execution_count": 78,
     "metadata": {},
     "output_type": "execute_result"
    }
   ],
   "source": [
    "models_name = ['RandomForestRegressor',\n",
    "              'GradientBoostingRegressor',\n",
    "              'AdaBoostRegressor']\n",
    "models = [rf_best, gboost_best, adaboost_best]\n",
    "zip(models_name, cv_score(models, X_train, y_train))"
   ]
  },
  {
   "cell_type": "markdown",
   "metadata": {},
   "source": [
    "---"
   ]
  },
  {
   "cell_type": "code",
   "execution_count": 80,
   "metadata": {
    "collapsed": false
   },
   "outputs": [],
   "source": [
    "gb_hat = gboost_best.predict(X_test)"
   ]
  },
  {
   "cell_type": "code",
   "execution_count": 81,
   "metadata": {
    "collapsed": true
   },
   "outputs": [],
   "source": [
    "mse_gbtest = mean_squared_error(gb_hat, y_test)"
   ]
  },
  {
   "cell_type": "code",
   "execution_count": 82,
   "metadata": {
    "collapsed": false
   },
   "outputs": [
    {
     "data": {
      "text/plain": [
       "8.3954816729859978"
      ]
     },
     "execution_count": 82,
     "metadata": {},
     "output_type": "execute_result"
    }
   ],
   "source": [
    "mse_gbtest"
   ]
  },
  {
   "cell_type": "code",
   "execution_count": 83,
   "metadata": {
    "collapsed": true
   },
   "outputs": [],
   "source": [
    "r2_gbtest = r2_score(gb_hat, y_test)"
   ]
  },
  {
   "cell_type": "code",
   "execution_count": 84,
   "metadata": {
    "collapsed": false
   },
   "outputs": [
    {
     "data": {
      "text/plain": [
       "0.88832229582972355"
      ]
     },
     "execution_count": 84,
     "metadata": {},
     "output_type": "execute_result"
    }
   ],
   "source": [
    "r2_gbtest"
   ]
  },
  {
   "cell_type": "markdown",
   "metadata": {},
   "source": [
    "---\n",
    "### Feature Importance"
   ]
  },
  {
   "cell_type": "code",
   "execution_count": 89,
   "metadata": {
    "collapsed": false
   },
   "outputs": [
    {
     "data": {
      "text/plain": [
       "RM         0.190972\n",
       "DIS        0.153736\n",
       "LSTAT      0.130208\n",
       "B          0.109744\n",
       "AGE        0.093605\n",
       "CRIM       0.072551\n",
       "NOX        0.062746\n",
       "TAX        0.058318\n",
       "INDUS      0.056279\n",
       "PTRATIO    0.055421\n",
       "RAD        0.013082\n",
       "CHAS       0.002806\n",
       "ZN         0.000532\n",
       "dtype: float64"
      ]
     },
     "execution_count": 89,
     "metadata": {},
     "output_type": "execute_result"
    }
   ],
   "source": [
    "feature_importance = pd.Series(gboost_best.feature_importances_, index=feature_names)\n",
    "feature_importance = feature_importance.sort_values()\n",
    "#feature_importance = feature_importance.sort_values(ascending=False)\n",
    "feature_importance"
   ]
  },
  {
   "cell_type": "code",
   "execution_count": 90,
   "metadata": {
    "collapsed": false
   },
   "outputs": [
    {
     "data": {
      "image/png": "[encoded data removed]",
      "text/plain": [
       "<matplotlib.figure.Figure at 0x11be96bd0>"
      ]
     },
     "metadata": {},
     "output_type": "display_data"
    }
   ],
   "source": [
    "feature_score = pd.DataFrame({'importance':gboost_best.feature_importances_}, index=feature_names)\n",
    "feature_score = feature_score.sort_values('importance')\n",
    "feature_score.plot(kind = 'barh');"
   ]
  },
  {
   "cell_type": "code",
   "execution_count": 93,
   "metadata": {
    "collapsed": false
   },
   "outputs": [
    {
     "data": {
      "image/png": "[encoded data removed]",
      "text/plain": [
       "<matplotlib.figure.Figure at 0x11c71f390>"
      ]
     },
     "metadata": {},
     "output_type": "display_data"
    }
   ],
   "source": [
    "fig, axs = plot_partial_dependence(gboost_best, X_train, range(X.shape[1]), feature_names=feature_names, figsize=(15, 10))\n",
    "fig.tight_layout()"
   ]
  },
  {
   "cell_type": "code",
   "execution_count": null,
   "metadata": {
    "collapsed": true
   },
   "outputs": [],
   "source": []
  },
  {
   "cell_type": "code",
   "execution_count": null,
   "metadata": {
    "collapsed": true
   },
   "outputs": [],
   "source": []
  },
  {
   "cell_type": "code",
   "execution_count": null,
   "metadata": {
    "collapsed": true
   },
   "outputs": [],
   "source": []
  },
  {
   "cell_type": "code",
   "execution_count": null,
   "metadata": {
    "collapsed": true
   },
   "outputs": [],
   "source": []
  },
  {
   "cell_type": "code",
   "execution_count": null,
   "metadata": {
    "collapsed": true
   },
   "outputs": [],
   "source": []
  },
  {
   "cell_type": "code",
   "execution_count": null,
   "metadata": {
    "collapsed": true
   },
   "outputs": [],
   "source": []
  }
 ],
 "metadata": {
  "kernelspec": {
   "display_name": "Python 2",
   "language": "python",
   "name": "python2"
  },
  "language_info": {
   "codemirror_mode": {
    "name": "ipython",
    "version": 2
   },
   "file_extension": ".py",
   "mimetype": "text/x-python",
   "name": "python",
   "nbconvert_exporter": "python",
   "pygments_lexer": "ipython2",
   "version": "2.7.11"
  }
 },
 "nbformat": 4,
 "nbformat_minor": 0
}
