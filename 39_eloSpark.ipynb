{
 "cells": [
  {
   "cell_type": "markdown",
   "metadata": {},
   "source": [
    "## Spark \n",
    "---\n",
    "#### Elo notes"
   ]
  },
  {
   "cell_type": "markdown",
   "metadata": {},
   "source": [
    "\n",
    "### Spark - Local Cluster\n",
    "#### Data processing "
   ]
  },
  {
   "cell_type": "markdown",
   "metadata": {},
   "source": [
    "Start a tmux session which will host your master node:\n",
    "\n",
    "```\n",
    "# bash\n",
    "tmux new -s elomaster\n",
    "```\n",
    "\n",
    "Spark master to listen on local IP. \n",
    "The Master class in ***org.apache.spark.deploy.master*** accepts the following \n",
    "parameters: \n",
    "\n",
    "```\n",
    "# bash\n",
    "${SPARK_HOME}/bin/spark-class org.apache.spark.deploy.master.Master \\\n",
    "-h 127.0.0.1 \\\n",
    "-p 7077 \\\n",
    "--webui-port 8080\n",
    "```\n",
    "\n",
    "Creating two workers\n",
    "\n",
    "```bash\n",
    "${SPARK_HOME}/bin/spark-class org.apache.spark.deploy.worker.Worker \\\n",
    "-c 1 \\\n",
    "-m 1G \\\n",
    "spark://127.0.0.1:7077\n",
    "```\n",
    "\n",
    "Attaching Jupyter notebook to the master\n",
    "\n",
    "```bash\n",
    "IPYTHON_OPTS=\"notebook\"  ${SPARK_HOME}/bin/pyspark \\\n",
    "--master spark://127.0.0.1:7077 \\\n",
    "--executor-memory 1G \\\n",
    "--driver-memory 1G\n",
    "```\n"
   ]
  },
  {
   "cell_type": "code",
   "execution_count": 1,
   "metadata": {
    "collapsed": true
   },
   "outputs": [],
   "source": [
    "import matplotlib.pyplot as plt\n",
    "% matplotlib inline"
   ]
  },
  {
   "cell_type": "code",
   "execution_count": 2,
   "metadata": {
    "collapsed": false
   },
   "outputs": [
    {
     "data": {
      "text/plain": [
       "<pyspark.context.SparkContext at 0x1095ba2d0>"
      ]
     },
     "execution_count": 2,
     "metadata": {},
     "output_type": "execute_result"
    }
   ],
   "source": [
    "sc"
   ]
  },
  {
   "cell_type": "code",
   "execution_count": 3,
   "metadata": {
    "collapsed": true
   },
   "outputs": [],
   "source": [
    "link = 's3n://mortar-example-data/airline-data'"
   ]
  },
  {
   "cell_type": "code",
   "execution_count": 4,
   "metadata": {
    "collapsed": true
   },
   "outputs": [],
   "source": [
    "rddairline = sc.textFile(link)"
   ]
  },
  {
   "cell_type": "code",
   "execution_count": 5,
   "metadata": {
    "collapsed": false
   },
   "outputs": [
    {
     "data": {
      "text/plain": [
       "[u'\"YEAR\",\"MONTH\",\"UNIQUE_CARRIER\",\"ORIGIN_AIRPORT_ID\",\"DEST_AIRPORT_ID\",\"DEP_DELAY\",\"DEP_DELAY_NEW\",\"ARR_DELAY\",\"ARR_DELAY_NEW\",\"CANCELLED\",',\n",
       " u'2012,4,\"AA\",12478,12892,-4.00,0.00,-21.00,0.00,0.00,']"
      ]
     },
     "execution_count": 5,
     "metadata": {},
     "output_type": "execute_result"
    }
   ],
   "source": [
    "rddairline.take(2)"
   ]
  },
  {
   "cell_type": "code",
   "execution_count": 6,
   "metadata": {
    "collapsed": false
   },
   "outputs": [
    {
     "data": {
      "text/plain": [
       "5113194"
      ]
     },
     "execution_count": 6,
     "metadata": {},
     "output_type": "execute_result"
    }
   ],
   "source": [
    "rddairline.count()"
   ]
  },
  {
   "cell_type": "code",
   "execution_count": 7,
   "metadata": {
    "collapsed": false
   },
   "outputs": [],
   "source": [
    "rddchunk = sc.parallelize(rddairline.take(100))"
   ]
  },
  {
   "cell_type": "code",
   "execution_count": 8,
   "metadata": {
    "collapsed": false
   },
   "outputs": [
    {
     "data": {
      "text/plain": [
       "[u'\"YEAR\",\"MONTH\",\"UNIQUE_CARRIER\",\"ORIGIN_AIRPORT_ID\",\"DEST_AIRPORT_ID\",\"DEP_DELAY\",\"DEP_DELAY_NEW\",\"ARR_DELAY\",\"ARR_DELAY_NEW\",\"CANCELLED\",',\n",
       " u'2012,4,\"AA\",12478,12892,-4.00,0.00,-21.00,0.00,0.00,',\n",
       " u'2012,4,\"AA\",12478,12892,-7.00,0.00,-65.00,0.00,0.00,']"
      ]
     },
     "execution_count": 8,
     "metadata": {},
     "output_type": "execute_result"
    }
   ],
   "source": [
    "rddchunk.take(3)"
   ]
  },
  {
   "cell_type": "code",
   "execution_count": 9,
   "metadata": {
    "collapsed": true
   },
   "outputs": [],
   "source": [
    "# Preprocessing : RDDairline\n",
    "\n",
    "rddairl = rddairline.map(lambda x: x.replace('\\'', '').replace('\\\"', '').strip(','))"
   ]
  },
  {
   "cell_type": "code",
   "execution_count": 10,
   "metadata": {
    "collapsed": false
   },
   "outputs": [
    {
     "data": {
      "text/plain": [
       "[u'YEAR,MONTH,UNIQUE_CARRIER,ORIGIN_AIRPORT_ID,DEST_AIRPORT_ID,DEP_DELAY,DEP_DELAY_NEW,ARR_DELAY,ARR_DELAY_NEW,CANCELLED',\n",
       " u'2012,4,AA,12478,12892,-4.00,0.00,-21.00,0.00,0.00',\n",
       " u'2012,4,AA,12478,12892,-7.00,0.00,-65.00,0.00,0.00']"
      ]
     },
     "execution_count": 10,
     "metadata": {},
     "output_type": "execute_result"
    }
   ],
   "source": [
    "rddairl.take(3)"
   ]
  },
  {
   "cell_type": "code",
   "execution_count": 11,
   "metadata": {
    "collapsed": true
   },
   "outputs": [],
   "source": [
    "colnames = rddairl.first()\n",
    "features = colnames.split(',')"
   ]
  },
  {
   "cell_type": "code",
   "execution_count": 12,
   "metadata": {
    "collapsed": false
   },
   "outputs": [
    {
     "data": {
      "text/plain": [
       "[u'YEAR',\n",
       " u'MONTH',\n",
       " u'UNIQUE_CARRIER',\n",
       " u'ORIGIN_AIRPORT_ID',\n",
       " u'DEST_AIRPORT_ID',\n",
       " u'DEP_DELAY',\n",
       " u'DEP_DELAY_NEW',\n",
       " u'ARR_DELAY',\n",
       " u'ARR_DELAY_NEW',\n",
       " u'CANCELLED']"
      ]
     },
     "execution_count": 12,
     "metadata": {},
     "output_type": "execute_result"
    }
   ],
   "source": [
    "features"
   ]
  },
  {
   "cell_type": "code",
   "execution_count": 13,
   "metadata": {
    "collapsed": false
   },
   "outputs": [
    {
     "data": {
      "text/plain": [
       "u'DEP_DELAY'"
      ]
     },
     "execution_count": 13,
     "metadata": {},
     "output_type": "execute_result"
    }
   ],
   "source": [
    "features[5]"
   ]
  },
  {
   "cell_type": "code",
   "execution_count": 14,
   "metadata": {
    "collapsed": true
   },
   "outputs": [],
   "source": [
    "rddcontent = rddairl.filter(lambda x: x != colnames)"
   ]
  },
  {
   "cell_type": "code",
   "execution_count": 15,
   "metadata": {
    "collapsed": false
   },
   "outputs": [
    {
     "data": {
      "text/plain": [
       "[u'2012,4,AA,12478,12892,-4.00,0.00,-21.00,0.00,0.00',\n",
       " u'2012,4,AA,12478,12892,-7.00,0.00,-65.00,0.00,0.00',\n",
       " u'2012,4,AA,12478,12892,-6.00,0.00,-63.00,0.00,0.00']"
      ]
     },
     "execution_count": 15,
     "metadata": {},
     "output_type": "execute_result"
    }
   ],
   "source": [
    "rddcontent.take(3)"
   ]
  },
  {
   "cell_type": "code",
   "execution_count": 16,
   "metadata": {
    "collapsed": true
   },
   "outputs": [],
   "source": [
    "rddcontent100 = sc.parallelize(rddcontent.take(100))"
   ]
  },
  {
   "cell_type": "code",
   "execution_count": 17,
   "metadata": {
    "collapsed": true
   },
   "outputs": [],
   "source": [
    "def dfeat(x):\n",
    "    rowl = x.split(',')\n",
    "    d = dict(zip(features, rowl))\n",
    "    keys = ['ORIGIN_AIRPORT_ID','DEST_AIRPORT_ID','DEP_DELAY', 'ARR_DELAY']\n",
    "    dictf = {k: (d[k] if d[k] else 0.) for k in keys}\n",
    "    \n",
    "    dictf['DEP_DELAY'] = float(rowl[5]) if len(rowl[5]) >0 else 0\n",
    "    dictf['ARR_DELAY'] = float(rowl[7]) if len(rowl[7]) >0 else 0\n",
    "    \n",
    "    # Actual arrival delay\n",
    "    \n",
    "    dictf['ARR_DELAY'] -= dictf['DEP_DELAY']\n",
    "    \n",
    "    # if cancelled then add 5hrs to 'DEP_DELAY' \n",
    "    if float(rowl[-1]) != 0:\n",
    "        dictf['DEP_DELAY'] += 5*60\n",
    "    \n",
    "    return dictf    \n",
    "    "
   ]
  },
  {
   "cell_type": "code",
   "execution_count": 18,
   "metadata": {
    "collapsed": false
   },
   "outputs": [
    {
     "data": {
      "text/plain": [
       "[{'ARR_DELAY': -17.0,\n",
       "  'DEP_DELAY': -4.0,\n",
       "  'DEST_AIRPORT_ID': u'12892',\n",
       "  'ORIGIN_AIRPORT_ID': u'12478'},\n",
       " {'ARR_DELAY': -58.0,\n",
       "  'DEP_DELAY': -7.0,\n",
       "  'DEST_AIRPORT_ID': u'12892',\n",
       "  'ORIGIN_AIRPORT_ID': u'12478'}]"
      ]
     },
     "execution_count": 18,
     "metadata": {},
     "output_type": "execute_result"
    }
   ],
   "source": [
    "rddcontent100.map(lambda x: dfeat(x)).take(2)"
   ]
  },
  {
   "cell_type": "code",
   "execution_count": 19,
   "metadata": {
    "collapsed": true
   },
   "outputs": [],
   "source": [
    "airline_rows = (\n",
    "    rddcontent\n",
    "    .map(lambda x: dfeat(x))\n",
    "    .setName('airline_mapped')\n",
    "    .persist()\n",
    ")"
   ]
  },
  {
   "cell_type": "code",
   "execution_count": 20,
   "metadata": {
    "collapsed": true
   },
   "outputs": [],
   "source": [
    "departure_delay = (\n",
    "    airline_rows\n",
    "    .map(lambda x: (x['ORIGIN_AIRPORT_ID'], x['DEP_DELAY']))\n",
    "    .setName('departure_delays')\n",
    "    .persist()\n",
    ")"
   ]
  },
  {
   "cell_type": "code",
   "execution_count": 21,
   "metadata": {
    "collapsed": true
   },
   "outputs": [],
   "source": [
    "arrival_delay = (\n",
    "    airline_rows\n",
    "    .map(lambda x: (x['DEST_AIRPORT_ID'], x['ARR_DELAY']))\n",
    "    .persist()\n",
    ")"
   ]
  },
  {
   "cell_type": "code",
   "execution_count": 22,
   "metadata": {
    "collapsed": true
   },
   "outputs": [],
   "source": [
    "def mean_delay(rdd):\n",
    "    return (\n",
    "        rdd.groupByKey()\n",
    "        .mapValues(lambda x: sum(x) / float(len(x)))\n",
    "    )"
   ]
  },
  {
   "cell_type": "code",
   "execution_count": 23,
   "metadata": {
    "collapsed": true
   },
   "outputs": [],
   "source": [
    "mean_depdelay = mean_delay(departure_delay).setName('mean_depdelay').persist()\n",
    "mean_arrdelay = mean_delay(arrival_delay).setName('mean_arrdelay').persist()"
   ]
  },
  {
   "cell_type": "code",
   "execution_count": 24,
   "metadata": {
    "collapsed": false
   },
   "outputs": [
    {
     "data": {
      "text/plain": [
       "[(u'10141', 3.0860655737704916),\n",
       " (u'13851', 7.777691453940067),\n",
       " (u'14952', 6.6351271437019514)]"
      ]
     },
     "execution_count": 24,
     "metadata": {},
     "output_type": "execute_result"
    }
   ],
   "source": [
    "mean_depdelay.take(3)"
   ]
  },
  {
   "cell_type": "code",
   "execution_count": 25,
   "metadata": {
    "collapsed": false
   },
   "outputs": [
    {
     "data": {
      "image/png": "[encoded data removed]",
      "text/plain": [
       "<matplotlib.figure.Figure at 0x115aaba50>"
      ]
     },
     "metadata": {},
     "output_type": "display_data"
    }
   ],
   "source": [
    "plt.figure(figsize=(10, 9));\n",
    "bins = np.arange(-60, 80, 2)\n",
    "\n",
    "plt.hist(departure_delay.values().collect(),\n",
    "        bins=bins, ec='none', label='Departure Delays', alpha=0.8);\n",
    "plt.hist(arrival_delay.values().collect(),\n",
    "        bins=bins, ec='none', label='Arrival Delays', alpha=0.6);\n",
    "\n",
    "plt.title('Delay by Flight');\n",
    "plt.legend();\n"
   ]
  },
  {
   "cell_type": "code",
   "execution_count": 26,
   "metadata": {
    "collapsed": false
   },
   "outputs": [
    {
     "data": {
      "text/plain": [
       "[(u'13127', -2.950089126559715),\n",
       " (u'14113', -2.813027744270205),\n",
       " (u'11336', -1.7261904761904763),\n",
       " (u'10739', -1.7254901960784315),\n",
       " (u'10466', -1.625)]"
      ]
     },
     "execution_count": 26,
     "metadata": {},
     "output_type": "execute_result"
    }
   ],
   "source": [
    "# Lowest average delay\n",
    "mean_depdelay.sortBy(lambda(x, y): y ).take(5)"
   ]
  },
  {
   "cell_type": "code",
   "execution_count": 27,
   "metadata": {
    "collapsed": false
   },
   "outputs": [
    {
     "data": {
      "text/plain": [
       "[(u'10930', 60.73560517038778),\n",
       " (u'13388', 60.03344481605351),\n",
       " (u'13964', 52.38934426229508),\n",
       " (u'13424', 49.313011828935394),\n",
       " (u'10157', 45.66734211415063)]"
      ]
     },
     "execution_count": 27,
     "metadata": {},
     "output_type": "execute_result"
    }
   ],
   "source": [
    "# Higuest average delay\n",
    "mean_depdelay.sortBy(lambda(x, y): -1*y).take(5)"
   ]
  },
  {
   "cell_type": "code",
   "execution_count": 28,
   "metadata": {
    "collapsed": false
   },
   "outputs": [
    {
     "data": {
      "text/plain": [
       "[(u'11415', -12.653968253968253),\n",
       " (u'12389', -10.4),\n",
       " (u'11537', -9.228426395939087),\n",
       " (u'13541', -8.772727272727273),\n",
       " (u'10581', -8.133451957295375),\n",
       " (u'11252', -8.116187989556137),\n",
       " (u'12888', -8.018518518518519),\n",
       " (u'12007', -7.959183673469388),\n",
       " (u'12094', -7.332170880557977),\n",
       " (u'10466', -7.1875)]"
      ]
     },
     "execution_count": 28,
     "metadata": {},
     "output_type": "execute_result"
    }
   ],
   "source": [
    "# Lowest average delay\n",
    "mean_arrdelay.sortBy(lambda(x, y): y).take(10)"
   ]
  },
  {
   "cell_type": "code",
   "execution_count": 30,
   "metadata": {
    "collapsed": false
   },
   "outputs": [
    {
     "data": {
      "text/plain": [
       "[(u'14955', 13.0),\n",
       " (u'14794', 3.7736625514403292),\n",
       " (u'12177', 3.576540755467197),\n",
       " (u'14802', 2.8),\n",
       " (u'10918', 2.4816176470588234),\n",
       " (u'14254', 1.7567185289957568),\n",
       " (u'15295', 1.6835443037974684),\n",
       " (u'12402', 1.4020996500583236),\n",
       " (u'10551', 0.8428745432399513),\n",
       " (u'15356', 0.8)]"
      ]
     },
     "execution_count": 30,
     "metadata": {},
     "output_type": "execute_result"
    }
   ],
   "source": [
    "# Highest average delay\n",
    "mean_arrdelay.sortBy(lambda(x, y): -1*y).take(10)\n"
   ]
  },
  {
   "cell_type": "markdown",
   "metadata": {},
   "source": [
    "---\n",
    "#### RDD (Resilient Distributed Dataset)\n",
    "- Resilient -- if the data in memory is lost, it can be recreated\n",
    "\n",
    "- Distributed -- stored in memory across the cluster\n",
    "\n",
    "- Dataset -- initial data can come from a file or created programmatically\n",
    "\n",
    "\n",
    "•\tRDDs are the fundamental unit of data in Spark\n",
    "\n",
    "•\tRDD is a read-only, partitioned collection of records\n",
    "\n",
    "•\tMost of Spark programming is performing operations on RDDs\n",
    " \n",
    "#### Two types of RDD operations\n",
    "\n",
    "◦\t__Actions__ - return values\n",
    " \n",
    " ▪\tcount\n",
    " \n",
    " ▪\ttake(n)\n",
    " \n",
    "◦\t__Transformations__ - define new RDDs based on the current one\n",
    "\n",
    "▪\tfilter\n",
    "\t\t\n",
    "▪\tmap\n",
    "\t\t\n",
    "▪\treduce\n"
   ]
  },
  {
   "cell_type": "code",
   "execution_count": null,
   "metadata": {
    "collapsed": true
   },
   "outputs": [],
   "source": []
  },
  {
   "cell_type": "code",
   "execution_count": null,
   "metadata": {
    "collapsed": true
   },
   "outputs": [],
   "source": []
  },
  {
   "cell_type": "code",
   "execution_count": null,
   "metadata": {
    "collapsed": true
   },
   "outputs": [],
   "source": []
  },
  {
   "cell_type": "code",
   "execution_count": null,
   "metadata": {
    "collapsed": true
   },
   "outputs": [],
   "source": []
  },
  {
   "cell_type": "code",
   "execution_count": null,
   "metadata": {
    "collapsed": true
   },
   "outputs": [],
   "source": []
  },
  {
   "cell_type": "code",
   "execution_count": null,
   "metadata": {
    "collapsed": true
   },
   "outputs": [],
   "source": []
  },
  {
   "cell_type": "code",
   "execution_count": null,
   "metadata": {
    "collapsed": true
   },
   "outputs": [],
   "source": []
  },
  {
   "cell_type": "code",
   "execution_count": null,
   "metadata": {
    "collapsed": true
   },
   "outputs": [],
   "source": []
  },
  {
   "cell_type": "code",
   "execution_count": null,
   "metadata": {
    "collapsed": true
   },
   "outputs": [],
   "source": []
  },
  {
   "cell_type": "code",
   "execution_count": null,
   "metadata": {
    "collapsed": true
   },
   "outputs": [],
   "source": []
  },
  {
   "cell_type": "code",
   "execution_count": null,
   "metadata": {
    "collapsed": true
   },
   "outputs": [],
   "source": []
  },
  {
   "cell_type": "code",
   "execution_count": null,
   "metadata": {
    "collapsed": true
   },
   "outputs": [],
   "source": []
  },
  {
   "cell_type": "code",
   "execution_count": null,
   "metadata": {
    "collapsed": true
   },
   "outputs": [],
   "source": []
  },
  {
   "cell_type": "code",
   "execution_count": null,
   "metadata": {
    "collapsed": true
   },
   "outputs": [],
   "source": []
  },
  {
   "cell_type": "code",
   "execution_count": null,
   "metadata": {
    "collapsed": true
   },
   "outputs": [],
   "source": []
  },
  {
   "cell_type": "code",
   "execution_count": null,
   "metadata": {
    "collapsed": true
   },
   "outputs": [],
   "source": []
  },
  {
   "cell_type": "code",
   "execution_count": null,
   "metadata": {
    "collapsed": true
   },
   "outputs": [],
   "source": []
  }
 ],
 "metadata": {
  "kernelspec": {
   "display_name": "Python 2",
   "language": "python",
   "name": "python2"
  },
  "language_info": {
   "codemirror_mode": {
    "name": "ipython",
    "version": 2
   },
   "file_extension": ".py",
   "mimetype": "text/x-python",
   "name": "python",
   "nbconvert_exporter": "python",
   "pygments_lexer": "ipython2",
   "version": "2.7.11"
  }
 },
 "nbformat": 4,
 "nbformat_minor": 0
}
