{
 "cells": [
  {
   "cell_type": "markdown",
   "metadata": {
    "collapsed": true
   },
   "source": [
    "## Covariance, Correlation, Coefficient of Determination and Joint distribution\n",
    "---\n",
    "**Elo notes**"
   ]
  },
  {
   "cell_type": "markdown",
   "metadata": {},
   "source": [
    "### [Sample mean](https://en.wikipedia.org/wiki/Sample_mean_and_covariance)\n",
    "\n",
    "Let ${\\displaystyle x_{ij}}$ be the ith independently drawn observation $(i=1,...,N)$ on the jth random variable $(j=1,...,K)$. These observations can be arranged into N column vectors, each with K entries, with the K ×1 column vector giving the ith observations of all variables being denoted ${\\displaystyle \\mathbf {x} _{i}}  (i=1,...,N).$\n",
    "\n",
    "The sample mean vector $ {\\displaystyle \\mathbf {\\bar {x}} }$ is a column vector whose jth element ${\\displaystyle {\\bar {x}}_{j}}$ is the average value of the N observations of the jth variable:\n",
    "\n",
    "${\\displaystyle {\\bar {x}}_{j}={\\frac {1}{N}}\\sum _{i=1}^{N}x_{ij},\\quad j=1,\\ldots ,K.}$\n",
    "\n",
    "Thus, the sample mean vector contains the average of the observations for each variable, and is written\n",
    "\n",
    "${\\displaystyle \\mathbf {\\bar {x}} ={\\frac {1}{N}}\\sum _{i=1}^{N}\\mathbf {x} _{i}={\\begin{bmatrix}{\\bar {x}}_{1}\\\\\\vdots \\\\{\\bar {x}}_{j}\\\\\\vdots \\\\{\\bar {x}}_{K}\\end{bmatrix}}}$\n",
    "\n",
    "Zero-centering is subtracting mean from data (so that it's mean is 0). Some techniques (like PCA) assume that data is zero-centered.\n",
    "\n",
    "### [Errors and residuals](https://en.wikipedia.org/wiki/Errors_and_residuals)\n",
    "\n",
    "**In statistics and optimization, errors and residuals are two closely related and easily confused measures of the deviation of an observed value of an element of a statistical sample from its \"theoretical value\".**\n",
    "\n",
    "One can **standardize statistical errors** (especially of a normal distribution) in a **z-score** (or \"standard score\"), and **standardize residuals in a t-statistic**, or more generally **studentized residuals.** \n",
    "\n",
    "**Important:** \n",
    "\n",
    "The **error ( $\\boldsymbol \\varepsilon$ or disturbance)** of **an observed value** is the deviation of the observed value from the **(unobservable) TRUE VALUE** of a quantity of interest (for example, a **Population Mean**), \n",
    "\n",
    "and the **residual** of **an observed value** is the difference between the observed value and the **ESTIMATED VALUE** of the quantity of interest (for example, a **Sample Mean**). \n",
    "\n",
    "The distinction is most important in regression analysis, where the concepts are sometimes called the regression errors and regression residuals and where they lead to the concept of studentized residuals. \n",
    "\n",
    "The expected value, being the mean of the entire population, is typically **unobservable, and hence the statistical error cannot be observed either.**\n",
    "\n",
    "A residual (or fitting deviation), on the other hand, is an **observable estimate of the un observable statistical error.** The sample mean could serve as a good **estimator of the population mean.**\n",
    "\n",
    "Suppose there is a series of observations from a univariate distribution and we want to estimate the mean of that distribution (the so-called location model). In this case, the errors are the deviations of the observations from the population mean, while the residuals are the deviations of the observations from the sample mean.\n",
    "\n",
    "For example, if the mean height in a **population** of 21-year-old men is 1.75 meters, and one randomly chosen man is 1.80 meters tall, then the \"error\" is 0.05 meters; if the randomly chosen man is 1.70 meters tall, then the \"error\" is −0.05 meters. The expected value, being the mean of the entire population, is typically **unobservable, and hence the statistical error cannot be observed either.**\n",
    "\n",
    "- The difference between the height of each man in the sample and the **unobservable population mean is a statistical error**, whereas\n",
    "\n",
    "- The difference between the height of each man in the sample and the **observable sample mean is a residual.**\n",
    "\n",
    "Note that, because of the definition of the sample mean, the sum of the residuals within a random sample is necessarily zero, and thus the residuals are necessarily not independent. The statistical errors, on the other hand, are independent, and their sum within the random sample is almost surely not zero. "
   ]
  },
  {
   "cell_type": "markdown",
   "metadata": {},
   "source": [
    "### [Bessel's correction](https://en.wikipedia.org/wiki/Bessel%27s_correction)\n",
    "\n",
    "In statistics, Bessel's correction is the use of [n − 1](https://en.wikipedia.org/wiki/Bias_of_an_estimator) instead of n in the formula for the sample variance and sample standard deviation, where n is the number of observations in a sample. This method corrects the bias in the estimation of the population variance. It also partially corrects the bias in the estimation of the population standard deviation. However, the correction often increases the mean squared error in these estimations. This technique is named after Friedrich Bessel.\n",
    "\n",
    "In estimating the population variance from a sample when the population mean is unknown, the uncorrected sample variance is the mean of the squares of deviations of sample values from the sample mean (i.e. using a multiplicative factor 1/n). In this case, the sample variance is a biased estimator of the population variance.\n",
    "\n",
    "[Multiplying the uncorrected sample variance by the factor](https://en.wikipedia.org/wiki/Bias_of_an_estimator)\n",
    "\n",
    "${\\displaystyle {\\frac {n}{n-1}}}$\n",
    "\n",
    "gives an unbiased estimator of the population variance. In some literature, the above factor is called Bessel's correction.\n",
    "\n",
    "One can understand Bessel's correction as the degrees of freedom in the residuals vector (residuals, not errors, because the population mean is unknown):\n",
    "\n",
    "${\\displaystyle (x_{1}-{\\overline {x}},\\,\\dots ,\\,x_{n}-{\\overline {x}})},$\n",
    "\n",
    "where ${\\displaystyle {\\overline {x}}}$ is the sample mean. While there are n independent observations in the sample, there are only n − 1 independent residuals, as they sum to 0. For a more intuitive explanation of the need for Bessel's correction, see [Source of bias.]( https://en.wikipedia.org/wiki/Bessel%27s_correction#Source_of_bias)\n",
    "\n"
   ]
  },
  {
   "cell_type": "markdown",
   "metadata": {},
   "source": [
    "### [Variance ${\\displaystyle \\sigma ^{2}}$](https://en.wikipedia.org/wiki/Bias_of_an_estimator)\n",
    "\n",
    "Variance is the expectation of the squared deviation of a random variable from its mean.\n",
    "\n",
    "The variance is the square of the standard deviation, the second central moment of a distribution, and the covariance of the random variable with itself, and it is often represented by ${\\displaystyle \\sigma ^{2}}$\n",
    "\n",
    "$\\operatorname{Var}(X) = \\operatorname{E}\\left[(X - \\mu)^2 \\right]$\n",
    "\n",
    "#### [Root Mean Square (RMS)](https://en.wikipedia.org/wiki/Root_mean_square)\n",
    "\n",
    "In the case of a set of ''n'' values $\\{x_1,x_2,\\dots,x_n\\}$, the RMS\n",
    "\n",
    "$\n",
    "x_{\\mathrm{rms}} =\n",
    "\\sqrt{ \\frac{1}{n} \\left( x_1^2 + x_2^2 + \\cdots + x_n^2 \\right) }.\n",
    "$\n",
    "\n",
    "### Standard  Deviation ${\\displaystyle \\sigma}$\n",
    "\n",
    "The sample standard deviation in statistics is :\n",
    "\n",
    "$$\n",
    "s = \\sqrt{\\frac{\\sum_{i=1}^N (x_i - \\overline{x})^2}{N-1} }\n",
    "$$\n",
    "\n",
    "where \n",
    "$$x_1,\\,x_2,\\,\\ldots,\\,x_N\\ $$\n",
    "\n",
    "are the observed values of the sample items, $\\scriptstyle\\overline{x}$ is the mean value of these observations, and\n",
    "''N'' is the number of observations in the sample.\n",
    "\n",
    "### RMS \n",
    "\n",
    "The quadratic mean and is a particular case of the generalized mean with exponent 2\n",
    "\n",
    "In the case of a set of ''n'' values $\\{x_1,x_2,\\dots,x_n\\}$, the RMS\n",
    "\n",
    "$\n",
    "x_{\\mathrm{rms}} =\n",
    "\\sqrt{ \\frac{1}{n} \\left( x_1^2 + x_2^2 + \\cdots + x_n^2 \\right) }.\n",
    "$\n",
    "\n",
    "If ${\\displaystyle {\\bar {x}}}$ is the arithmetic mean and $ {\\displaystyle \\sigma _{x}}$ is the standard deviation of a population or a waveform then:\n",
    "\n",
    "The sample standard deviation in statistics is a root mean square:\n",
    "\n",
    "${\\displaystyle x_{\\mathrm {rms} }^{2}={\\overline {x}}^{2}+\\sigma _{x}^{2}={\\overline {x^{2}}}.}$\n",
    "\n",
    "From this it is clear that the RMS value is always greater than or equal to the average, in that the RMS includes the \"error\" / square deviation as well.\n",
    "\n",
    "Physical scientists often use the term \"root mean square\" as a synonym for standard deviation when it can be assumed the input signal has zero mean, i.e., referring to the square root of the mean squared deviation of a signal from a given baseline or fit.\n",
    "\n",
    "\n",
    "   sdv = sqrt{ (1/N) * [(x1-u)^2 + (x2-u)^2 + ... + (xN-u)^2] }.\n",
    "   \n",
    "**IMPORTANT Note:** Do not confuse four separate concepts 1. RSS root sum of square [math  - Euclidean norm (length of the vector)](https://en.wikipedia.org/wiki/Norm_(mathematics), 2. RMS root mean square and 3. RSS **the residual sum of squares**, also known as the **sum of squared residuals (SSR)** or the **sum of squared errors of prediction (SSE)**, is the sum of the squares of residuals (deviations predicted from actual empirical values of data). It is a measure of the discrepancy between the data and an estimation model. 4.[**RMSD** or **RMSE**](https://en.wikipedia.org/wiki/Root-mean-square_deviation), The root-mean-square deviation (RMSD) or root-mean-square error (RMSE) (or sometimes root-mean-squared error) is a frequently used measure of the differences between values (sample or population values) predicted by a model or an estimator and the values observed. \n",
    "\n",
    "\n",
    "[RMS and RSS](http://mathforum.org/library/drmath/view/68395.html)\n",
    "[RSS - Residuals](https://en.wikipedia.org/wiki/Residual_sum_of_squares)\n",
    "\n",
    "### Standard error of the mean\n",
    "\n",
    "Often, we want some information about the precision of the mean we obtained:\n",
    "\n",
    "$\\sigma_\\text{mean} = \\frac{\\sigma}{\\sqrt{N}}$"
   ]
  },
  {
   "cell_type": "markdown",
   "metadata": {},
   "source": [
    "### 1. Covariance \n",
    "#### + Positive or  - Negative\n",
    "Covariance is a measure of the joint variability of two random variables.\n",
    "\n",
    "The variables tend to show similar behavior, the covariance is positive. In the opposite case, when the variables tend to show opposite behavior, the covariance is negative. \n",
    "\n",
    "The magnitude of the covariance is not easy to interpret. ..On the other hand the __normalized version__ of the covariance, the __correlation coefficient__, however, shows by its magnitude the strength of the linear relation.\n",
    "\n",
    "The covariance between two jointly distributed real-valued random variables X and Y defined as\n",
    "\n",
    "$${\\displaystyle \\operatorname {cov} (X,Y)=\\operatorname {E} {{\\big [}(X-\\operatorname {E} [X])(Y-\\operatorname {E} [Y]){\\big ]}},}$$\n",
    "\n",
    "where $E[X]$ is the expected value of $X$, also known as the mean of $X$.\n",
    "\n",
    "The covariance is also sometimes denoted “$σ$”, in analogy to variance. \n",
    "\n",
    "Random variables whose __covariance__ is __zero__ are called __uncorrelated__.\n",
    "\n",
    "Similarly, random vectors whose covariance matrix is zero in every entry outside the main diagonal are called uncorrelated.\n",
    "\n",
    "The __units of measurement__ of the covariance $cov(X, Y)$ are those of $X$ times those of $Y$. By contrast, __correlation coefficients__, which depend on the covariance, are a __dimensionless measure of linear dependence__. (In fact, correlation coefficients can simply be understood as a normalized version of covariance.)\n",
    "Discrete variables\n",
    "\n",
    "If each variable has a finite set of equal-probability values, ${\\displaystyle x_{i}} $ and ${\\displaystyle y_{i}} $ respectively for ${\\displaystyle i=1,\\dots ,n,} $ then the covariance can be equivalently written in terms of the means ${\\displaystyle E(X)}$ and ${\\displaystyle E(Y)} $ as\n",
    "\n",
    "$${\\displaystyle \\operatorname {cov} (X,Y)={\\frac {1}{n}}\\sum _{i=1}^{n}(x_{i}-E(X))(y_{i}-E(Y)).}$$"
   ]
  },
  {
   "cell_type": "markdown",
   "metadata": {},
   "source": [
    "\n",
    "### 2. Correlation Coefficient -1 < r < +1\n",
    "\n",
    "\n",
    "The Pearson correlation coefficient, also referred to as Pearson's r, the Pearson product-moment correlation coefficient (PPMCC) or the bivariate correlation, is a measure of the linear correlation between two variables X and Y. It has a value between +1 and −1, where 1 is total positive linear correlation, 0 is no linear correlation, and −1 is total negative linear correlation.\n",
    "\n",
    "\n",
    "$$ \\rho_{X,Y}= \\frac{\\operatorname{cov}(X,Y)}{\\sigma_X \\sigma_Y}$$\n",
    "\n",
    "\n",
    "$\\operatorname{cov} $ is the __covariance__\n",
    "\n",
    "$\\sigma_X $ is the __standard deviation__ of  $ X $\n",
    "\n",
    "$\\sigma_Y $ is the __standard deviation__ of  $ Y $\n",
    "\n",
    "\n",
    "We can obtain a formula for ''r'' by substituting estimates of the covariances and variances based on a __statistical sample__ into the formula above. So if we have one dataset {${x_{1},...x_{n}}$} containing ''n'' values and another dataset {${y_{1},...y_{n}}$} containing ''n'' values then that formula for ''r'' is:\n",
    "\n",
    "$$r = r_{xy} =\\frac{\\sum ^n _{i=1}(x_i - \\bar{x})(y_i - \\bar{y})}{\\sqrt{\\sum ^n _{i=1}(x_i - \\bar{x})^2} \\sqrt{\\sum ^n _{i=1}(y_i - \\bar{y})^2}}$$\n",
    "\n",
    "__where:__\n",
    "\n",
    "$n$ is the sample size\n",
    "\n",
    "$x_i, y_i$ are the single samples indexed with $i$\n",
    "\n",
    "$\\bar{x}=\\frac{1}{n}\\sum_{i=1}^n x_i$ (the sample __mean__); and analogously for $\\bar{y}$\n",
    "\n",
    " thirteen ways of interpreting correlation:\n",
    "\n",
    "- Function of raw scores and means\n",
    "- Standardized covariance\n",
    "- Standardized slope of the regression line\n",
    "- Geometric mean of the two regression slopes\n",
    "- Square root of the ratio of two variances\n",
    "- Mean cross-product of standardized variables\n",
    "- Function of the angle between two standardized regression lines\n",
    "- Function of the angle between two variable vectors\n",
    "- Rescaled variance of the difference between standardized scores\n",
    "- Estimated from the balloon rule\n",
    "- Related to the bivariate ellipses of isoconcentration\n",
    "- Function of test statistics from designed experiments\n",
    "- Ratio of two means\n",
    "\n",
    "##### Cosine Similarity\n",
    "\n",
    "By the usual procedure for finding the angle θ between two vectors (dot product), the uncentered correlation coefficient is:\n",
    "\n",
    "$$ \\cos \\theta = \\frac{ \\mathbf{x} \\cdot \\mathbf{y} }{ \\left\\| \\mathbf{x} \\right\\| \\, \\left\\| \\mathbf{y} \\right\\| } $$\n",
    "\n",
    "This __uncentred correlation coefficient__ is identical with the __cosine similarity__.\n",
    "\n",
    "##### Interpretation\n",
    "\n",
    "Statistical inference based on Pearson's correlation coefficient often focuses on one of the following two aims:\n",
    "\n",
    "- One aim is to test the __null hypothesis__ that the true correlation coefficient $ρ$ is equal to $0$, based on the value of the sample correlation coefficient __r__.\n",
    "- The other aim is to derive a confidence interval that, on repeated sampling, has a given probability of containing __ρ__.\n"
   ]
  },
  {
   "cell_type": "markdown",
   "metadata": {},
   "source": [
    "### 3. Coefficient of Determination 0 < R^2 < 1\n",
    "\n",
    "The square of the sample correlation coefficient is typically denoted __r2__ and is a __special case of the coefficient of determination__. In this case, it __estimates the fraction of the variance in Y that is explained by X__ in a simple __linear regression__.\n",
    "\n",
    "The __coefficient of determination__, denoted R2 or r2 and pronounced __\"R squared\"__, is the proportion of the variance in the dependent variable that is predictable from the independent variable(s).\n",
    "\n",
    "[r^2 Math](https://en.wikipedia.org/wiki/Pearson_correlation_coefficient)\n",
    "\n",
    "\n",
    "where the $\\hat{Y}_i$ are the fitted values from the regression analysis\n",
    "\n",
    "\n",
    "$$\n",
    "\\begin{align}\n",
    "r(Y,\\hat{Y}) &= \\frac{\\sum_i(Y_i-\\bar{Y})(\\hat{Y}_i-\\bar{Y})}{\\sqrt{\\sum_i(Y_i-\\bar{Y})^2\\cdot \\sum_i(\\hat{Y}_i-\\bar{Y})^2}}\n",
    "\\end{align}\n",
    "$$\n",
    "\n",
    "\n",
    "Thus\n",
    "\n",
    "$$\n",
    "r(Y,\\hat{Y})^2 = \\frac{\\sum_i(\\hat{Y}_i-\\bar{Y})^2}{\\sum_i(Y_i-\\bar{Y})^2}\n",
    "$$\n",
    "\n",
    "where\n",
    "\n",
    "$r(Y,\\hat{Y})^2$ is the proportion of variance in ''Y'' explained by a linear function of ''X''.\n",
    "\n",
    "That equation can be written as:\n",
    "\n",
    "$$r(Y,\\hat{Y})^2 = \\frac{SS_\\text{reg}}{SS_\\text{tot}}\n",
    "$$\n",
    "\n",
    "\n",
    "where\n",
    "\n",
    "$SS_\\text{reg}$ is the regression sum of squares, also called the __explained sum of squares__\n",
    "\n",
    "$SS_\\text{tot}$ is the __total sum of squares__ (proportional to the __variance__ of the data)\n",
    "\n",
    "$$SS_\\text{reg}=\\sum_i (\\hat{Y}_i-\\bar{Y})^2$$\n",
    "$$SS_\\text{tot}=\\sum_i (Y_i-\\bar{Y})^2$$\n",
    "\n",
    "The sum of squares of residuals, also called the __residual sum of squares__:\n",
    "\n",
    "\n",
    "\n",
    "$$SS_\\text{res}=\\sum_i (y_i - f_i)^2=\\sum_i (y_i - \\hat{y_i})^2=\\sum_i e_i^2\\,$$\n",
    "\n",
    "Where:\n",
    "\n",
    "$$f_i = \\hat{y_i} = f(x_i, \\beta_j)=\\beta_0 + \\sum_{j=1}^p \\beta_j X_{i,j} + \\varepsilon_i$$\n",
    "\n",
    "The most general definition of the coefficient of determination is\n",
    "\n",
    "$$R^2 \\equiv 1 - {SS_{\\rm res}\\over SS_{\\rm tot}}.\\,$$\n",
    "\n",
    "##### Interpretation\n",
    "\n",
    "R2 is a statistic that will give some information about the goodness of fit of a model. In regression, the R2 coefficient of determination is a statistical measure of how well the regression line approximates the real data points. An R2 of 1 indicates that the regression line perfectly fits the data.\n"
   ]
  },
  {
   "cell_type": "markdown",
   "metadata": {},
   "source": [
    "---\n",
    "### Covariance Matrix\n",
    "#### Dispersion Matrix or Variance - Covariance Matrix\n",
    "\n",
    "\n",
    "Is a matrix whose element in the i, j position is the covariance between the i th and j th elements of __a random vector__. The __covariance matrix__ generalizes the notion of __variance to multiple dimensions__.\n",
    "\n",
    "__A random vector__ is a __random variable__ with __multiple dimensions.__\n",
    "\n",
    "Each [element](https://en.wikipedia.org/wiki/Joint_probability_distribution) of the vector is a __scalar random variable__.\n",
    "\n",
    "The covariance of the ith random variable with itself is simply that random variable's variance, __each element on the principal diagonal__ of the covariance matrix is the __variance of one of the random variables__. Because the covariance of the ith random variable with the jth one is the same thing as the covariance of the jth random variable with the ith one, every covariance matrix is __symmetric__. In addition, every covariance matrix is __positive semi-definite.__\n",
    "\n",
    "[Math and Properties](https://en.wikipedia.org/wiki/Covariance_matrix)\n",
    "\n",
    "[Eigenvector and eigenvalues of geometric transformations](https://en.wikipedia.org/wiki/Eigenvalues_and_eigenvectors)\n",
    "\n"
   ]
  },
  {
   "cell_type": "markdown",
   "metadata": {},
   "source": [
    "\n",
    "### Numpy Resources\n",
    "\n",
    "* [Official Numpy Tutorial](http://wiki.scipy.org/Tentative_NumPy_Tutorial)\n",
    "* [scipy Lectures](https://scipy-lectures.github.io/intro/numpy/index.html)\n",
    "* [Crash Course in Python for Scientist](http://nbviewer.ipython.org/gist/rpmuller/5920182)\n",
    "* [Scientific Python Lectures](http://nbviewer.ipython.org/github/jrjohansson/scientific-python-lectures/blob/master/Lecture-2-Numpy.ipynb)\n",
    "* [Numpy Broadcasting](http://wiki.scipy.org/EricsBroadcastingDoc)\n",
    "* [Pyton Bootcamp Lectures](http://nbviewer.ipython.org/github/profjsb/python-bootcamp/blob/master/Lectures/05_NumpyMatplotlib/IntroNumPy.ipynb)\n"
   ]
  },
  {
   "cell_type": "code",
   "execution_count": 34,
   "metadata": {},
   "outputs": [],
   "source": [
    "from __future__ import division\n",
    "\n",
    "from pandas.tools.plotting import scatter_matrix\n",
    "from itertools import combinations_with_replacement\n",
    "\n",
    "import pandas as pd\n",
    "import numpy as np\n",
    "import math\n",
    "import scipy.stats as scs\n",
    "\n",
    "import matplotlib.pyplot as plt\n",
    "import seaborn as sea\n",
    "\n",
    "% matplotlib inline"
   ]
  },
  {
   "cell_type": "code",
   "execution_count": 25,
   "metadata": {
    "collapsed": true
   },
   "outputs": [],
   "source": [
    "df = pd.read_csv('gpa_data.csv')"
   ]
  },
  {
   "cell_type": "code",
   "execution_count": 26,
   "metadata": {},
   "outputs": [
    {
     "data": {
      "text/html": [
       "<div>\n",
       "<table border=\"1\" class=\"dataframe\">\n",
       "  <thead>\n",
       "    <tr style=\"text-align: right;\">\n",
       "      <th></th>\n",
       "      <th>count</th>\n",
       "      <th>mean</th>\n",
       "      <th>std</th>\n",
       "      <th>min</th>\n",
       "      <th>25%</th>\n",
       "      <th>50%</th>\n",
       "      <th>75%</th>\n",
       "      <th>max</th>\n",
       "    </tr>\n",
       "  </thead>\n",
       "  <tbody>\n",
       "    <tr>\n",
       "      <th>family_income</th>\n",
       "      <td>10992.0</td>\n",
       "      <td>40191.636736</td>\n",
       "      <td>18246.672190</td>\n",
       "      <td>168.00</td>\n",
       "      <td>26832.75</td>\n",
       "      <td>37510.00</td>\n",
       "      <td>51112.25</td>\n",
       "      <td>125508.00</td>\n",
       "    </tr>\n",
       "    <tr>\n",
       "      <th>gpa</th>\n",
       "      <td>10992.0</td>\n",
       "      <td>2.997802</td>\n",
       "      <td>0.296464</td>\n",
       "      <td>2.01</td>\n",
       "      <td>2.80</td>\n",
       "      <td>2.99</td>\n",
       "      <td>3.20</td>\n",
       "      <td>3.97</td>\n",
       "    </tr>\n",
       "    <tr>\n",
       "      <th>parent_avg_age</th>\n",
       "      <td>10992.0</td>\n",
       "      <td>47.812136</td>\n",
       "      <td>10.629085</td>\n",
       "      <td>30.00</td>\n",
       "      <td>39.00</td>\n",
       "      <td>48.00</td>\n",
       "      <td>57.00</td>\n",
       "      <td>66.00</td>\n",
       "    </tr>\n",
       "  </tbody>\n",
       "</table>\n",
       "</div>"
      ],
      "text/plain": [
       "                  count          mean           std     min       25%  \\\n",
       "family_income   10992.0  40191.636736  18246.672190  168.00  26832.75   \n",
       "gpa             10992.0      2.997802      0.296464    2.01      2.80   \n",
       "parent_avg_age  10992.0     47.812136     10.629085   30.00     39.00   \n",
       "\n",
       "                     50%       75%        max  \n",
       "family_income   37510.00  51112.25  125508.00  \n",
       "gpa                 2.99      3.20       3.97  \n",
       "parent_avg_age     48.00     57.00      66.00  "
      ]
     },
     "execution_count": 26,
     "metadata": {},
     "output_type": "execute_result"
    }
   ],
   "source": [
    "df.describe().T"
   ]
  },
  {
   "cell_type": "code",
   "execution_count": 29,
   "metadata": {},
   "outputs": [
    {
     "data": {
      "image/png": "[encoded data removed]",
      "text/plain": [
       "<matplotlib.figure.Figure at 0x11e155650>"
      ]
     },
     "metadata": {},
     "output_type": "display_data"
    }
   ],
   "source": [
    "sea.pairplot(df, kind='reg');"
   ]
  },
  {
   "cell_type": "markdown",
   "metadata": {},
   "source": [
    "#### Vectorizing and Normalizing our Variables\n",
    "\n",
    "$${\\displaystyle \\operatorname {cov} (X,Y)={\\frac {1}{n}}\\sum _{i=1}^{n}(x_{i}-E(X))(y_{i}-E(Y)).}$$\n",
    "\n",
    "Every __covariance matrix__ is __symmetric__. In addition, every covariance matrix is __positive semi-definite.__"
   ]
  },
  {
   "cell_type": "code",
   "execution_count": 32,
   "metadata": {
    "collapsed": true
   },
   "outputs": [],
   "source": [
    "x1 = df.family_income - df.family_income.mean()\n",
    "x2 = df.gpa - df.gpa.mean()\n",
    "x3 = df.parent_avg_age - df.parent_avg_age.mean()\n",
    "\n",
    "span = [x1, x2, x3]"
   ]
  },
  {
   "cell_type": "code",
   "execution_count": 40,
   "metadata": {},
   "outputs": [],
   "source": [
    "# d_covariance : diagonal covariance matrix\n",
    "d_covariance = []\n",
    "for i, (x, y) in enumerate(combinations_with_replacement(span, 2)):\n",
    "    d_covariance.append((x * y).sum() / (len(x) - 1))"
   ]
  },
  {
   "cell_type": "code",
   "execution_count": 41,
   "metadata": {},
   "outputs": [
    {
     "data": {
      "text/plain": [
       "[332941045.99494755,\n",
       " 4015.2990850274814,\n",
       " -1226.3262797340346,\n",
       " 0.08789119254247664,\n",
       " -0.028785259926177496,\n",
       " 112.97744163810393]"
      ]
     },
     "execution_count": 41,
     "metadata": {},
     "output_type": "execute_result"
    }
   ],
   "source": [
    "d_covariance"
   ]
  },
  {
   "cell_type": "code",
   "execution_count": 27,
   "metadata": {},
   "outputs": [
    {
     "data": {
      "text/html": [
       "<div>\n",
       "<table border=\"1\" class=\"dataframe\">\n",
       "  <thead>\n",
       "    <tr style=\"text-align: right;\">\n",
       "      <th></th>\n",
       "      <th>family_income</th>\n",
       "      <th>gpa</th>\n",
       "      <th>parent_avg_age</th>\n",
       "    </tr>\n",
       "  </thead>\n",
       "  <tbody>\n",
       "    <tr>\n",
       "      <th>family_income</th>\n",
       "      <td>3.329410e+08</td>\n",
       "      <td>4015.299085</td>\n",
       "      <td>-1226.326280</td>\n",
       "    </tr>\n",
       "    <tr>\n",
       "      <th>gpa</th>\n",
       "      <td>4.015299e+03</td>\n",
       "      <td>0.087891</td>\n",
       "      <td>-0.028785</td>\n",
       "    </tr>\n",
       "    <tr>\n",
       "      <th>parent_avg_age</th>\n",
       "      <td>-1.226326e+03</td>\n",
       "      <td>-0.028785</td>\n",
       "      <td>112.977442</td>\n",
       "    </tr>\n",
       "  </tbody>\n",
       "</table>\n",
       "</div>"
      ],
      "text/plain": [
       "                family_income          gpa  parent_avg_age\n",
       "family_income    3.329410e+08  4015.299085    -1226.326280\n",
       "gpa              4.015299e+03     0.087891       -0.028785\n",
       "parent_avg_age  -1.226326e+03    -0.028785      112.977442"
      ]
     },
     "execution_count": 27,
     "metadata": {},
     "output_type": "execute_result"
    }
   ],
   "source": [
    "# Covariance\n",
    "df.cov()"
   ]
  },
  {
   "cell_type": "markdown",
   "metadata": {},
   "source": [
    "#### Correlation Coefficient 0 < r < 1\n",
    "\n",
    "$$ \\rho_{X,Y}= \\frac{\\operatorname{cov}(X,Y)}{\\sigma_X \\sigma_Y}$$\n"
   ]
  },
  {
   "cell_type": "code",
   "execution_count": 53,
   "metadata": {},
   "outputs": [],
   "source": [
    "# diagonal Correlation Coefficient matrix\n",
    "d_correlation = []\n",
    "\n",
    "for i, (x, y) in enumerate(combinations_with_replacement(span, 2)):\n",
    "    d_correlation.append(((x * y).sum() / (len(x)-1))/ (x.std() * y.std()))\n",
    "    "
   ]
  },
  {
   "cell_type": "code",
   "execution_count": 54,
   "metadata": {},
   "outputs": [
    {
     "data": {
      "text/plain": [
       "[1.0000000000000004,\n",
       " 0.7422693902038489,\n",
       " -0.006323048271903018,\n",
       " 0.9999999999999989,\n",
       " -0.009134853964512498,\n",
       " 1.0]"
      ]
     },
     "execution_count": 54,
     "metadata": {},
     "output_type": "execute_result"
    }
   ],
   "source": [
    "d_correlation"
   ]
  },
  {
   "cell_type": "code",
   "execution_count": 55,
   "metadata": {},
   "outputs": [
    {
     "data": {
      "text/html": [
       "<div>\n",
       "<table border=\"1\" class=\"dataframe\">\n",
       "  <thead>\n",
       "    <tr style=\"text-align: right;\">\n",
       "      <th></th>\n",
       "      <th>family_income</th>\n",
       "      <th>gpa</th>\n",
       "      <th>parent_avg_age</th>\n",
       "    </tr>\n",
       "  </thead>\n",
       "  <tbody>\n",
       "    <tr>\n",
       "      <th>family_income</th>\n",
       "      <td>1.000000</td>\n",
       "      <td>0.742269</td>\n",
       "      <td>-0.006323</td>\n",
       "    </tr>\n",
       "    <tr>\n",
       "      <th>gpa</th>\n",
       "      <td>0.742269</td>\n",
       "      <td>1.000000</td>\n",
       "      <td>-0.009135</td>\n",
       "    </tr>\n",
       "    <tr>\n",
       "      <th>parent_avg_age</th>\n",
       "      <td>-0.006323</td>\n",
       "      <td>-0.009135</td>\n",
       "      <td>1.000000</td>\n",
       "    </tr>\n",
       "  </tbody>\n",
       "</table>\n",
       "</div>"
      ],
      "text/plain": [
       "                family_income       gpa  parent_avg_age\n",
       "family_income        1.000000  0.742269       -0.006323\n",
       "gpa                  0.742269  1.000000       -0.009135\n",
       "parent_avg_age      -0.006323 -0.009135        1.000000"
      ]
     },
     "execution_count": 55,
     "metadata": {},
     "output_type": "execute_result"
    }
   ],
   "source": [
    "# Pearson Correlation Coefficient\n",
    "df.corr()"
   ]
  },
  {
   "cell_type": "code",
   "execution_count": 88,
   "metadata": {
    "collapsed": true
   },
   "outputs": [],
   "source": [
    "levels = ['low', 'medium', 'high', '6_figures']"
   ]
  },
  {
   "cell_type": "code",
   "execution_count": 89,
   "metadata": {},
   "outputs": [],
   "source": [
    "df['income_level'] = pd.cut(df.family_income, [0,26832, 37510, 61112, 200000], labels = levels)"
   ]
  },
  {
   "cell_type": "code",
   "execution_count": 90,
   "metadata": {},
   "outputs": [
    {
     "data": {
      "text/html": [
       "<div>\n",
       "<table border=\"1\" class=\"dataframe\">\n",
       "  <thead>\n",
       "    <tr style=\"text-align: right;\">\n",
       "      <th></th>\n",
       "      <th>family_income</th>\n",
       "      <th>gpa</th>\n",
       "      <th>parent_avg_age</th>\n",
       "      <th>income_level</th>\n",
       "    </tr>\n",
       "  </thead>\n",
       "  <tbody>\n",
       "    <tr>\n",
       "      <th>0</th>\n",
       "      <td>31402.0</td>\n",
       "      <td>3.18</td>\n",
       "      <td>32</td>\n",
       "      <td>medium</td>\n",
       "    </tr>\n",
       "    <tr>\n",
       "      <th>1</th>\n",
       "      <td>32247.0</td>\n",
       "      <td>2.98</td>\n",
       "      <td>48</td>\n",
       "      <td>medium</td>\n",
       "    </tr>\n",
       "    <tr>\n",
       "      <th>2</th>\n",
       "      <td>34732.0</td>\n",
       "      <td>2.85</td>\n",
       "      <td>61</td>\n",
       "      <td>medium</td>\n",
       "    </tr>\n",
       "    <tr>\n",
       "      <th>3</th>\n",
       "      <td>53759.0</td>\n",
       "      <td>3.39</td>\n",
       "      <td>62</td>\n",
       "      <td>high</td>\n",
       "    </tr>\n",
       "  </tbody>\n",
       "</table>\n",
       "</div>"
      ],
      "text/plain": [
       "   family_income   gpa  parent_avg_age income_level\n",
       "0        31402.0  3.18              32       medium\n",
       "1        32247.0  2.98              48       medium\n",
       "2        34732.0  2.85              61       medium\n",
       "3        53759.0  3.39              62         high"
      ]
     },
     "execution_count": 90,
     "metadata": {},
     "output_type": "execute_result"
    }
   ],
   "source": [
    "df[:4]"
   ]
  },
  {
   "cell_type": "code",
   "execution_count": 91,
   "metadata": {},
   "outputs": [
    {
     "data": {
      "text/plain": [
       "[medium, high, low, 6_figures]\n",
       "Categories (4, object): [low < medium < high < 6_figures]"
      ]
     },
     "execution_count": 91,
     "metadata": {},
     "output_type": "execute_result"
    }
   ],
   "source": [
    "df.income_level.unique()"
   ]
  },
  {
   "cell_type": "code",
   "execution_count": 98,
   "metadata": {},
   "outputs": [
    {
     "data": {
      "text/plain": [
       "array([ 3.29,  3.82,  3.54, ...,  3.23,  3.27,  3.25])"
      ]
     },
     "execution_count": 98,
     "metadata": {},
     "output_type": "execute_result"
    }
   ],
   "source": [
    "income_groups = df.groupby('income_level')['gpa']\n",
    "income_groups.get_group('6_figures').values"
   ]
  },
  {
   "cell_type": "code",
   "execution_count": 103,
   "metadata": {},
   "outputs": [
    {
     "data": {
      "image/png": "[encoded data removed]",
      "text/plain": [
       "<matplotlib.figure.Figure at 0x11ed50bd0>"
      ]
     },
     "metadata": {},
     "output_type": "display_data"
    }
   ],
   "source": [
    "rv_income_groups = df.groupby('income_level')['gpa']\n",
    "# x : {set of gpa values}       \n",
    "gpa = np.linspace(1.5, 4.5, 100)\n",
    "\n",
    "for level in levels:\n",
    "    rv_pdf = scs.gaussian_kde(rv_income_groups.get_group(level).values)\n",
    "    # y : Evaluate the estimated pdf on a provided set of points.\n",
    "    plt.plot(gpa, rv_pdf(gpa), label=level)\n",
    "    \n",
    "plt.xlabel('GPA')\n",
    "plt.ylabel('PDF')\n",
    "plt.legend();"
   ]
  },
  {
   "cell_type": "code",
   "execution_count": 104,
   "metadata": {},
   "outputs": [
    {
     "data": {
      "text/plain": [
       "income_level\n",
       "low          3.01\n",
       "medium       3.26\n",
       "high         3.38\n",
       "6_figures    3.63\n",
       "Name: gpa, dtype: float64"
      ]
     },
     "execution_count": 104,
     "metadata": {},
     "output_type": "execute_result"
    }
   ],
   "source": [
    "df.groupby('income_level')['gpa'].apply(lambda x: np.percentile(x, 90))"
   ]
  },
  {
   "cell_type": "code",
   "execution_count": 108,
   "metadata": {},
   "outputs": [],
   "source": [
    "df_ = pd.read_csv('gpa_data_study_hrs.csv')"
   ]
  },
  {
   "cell_type": "code",
   "execution_count": 109,
   "metadata": {},
   "outputs": [
    {
     "data": {
      "text/html": [
       "<div>\n",
       "<table border=\"1\" class=\"dataframe\">\n",
       "  <thead>\n",
       "    <tr style=\"text-align: right;\">\n",
       "      <th></th>\n",
       "      <th>family_income</th>\n",
       "      <th>gpa</th>\n",
       "      <th>family_income_cat</th>\n",
       "      <th>parent_avg_age</th>\n",
       "      <th>hrs_studied</th>\n",
       "      <th>sport_performance</th>\n",
       "    </tr>\n",
       "  </thead>\n",
       "  <tbody>\n",
       "    <tr>\n",
       "      <th>0</th>\n",
       "      <td>31402.0</td>\n",
       "      <td>3.18</td>\n",
       "      <td>medium</td>\n",
       "      <td>32</td>\n",
       "      <td>49.463745</td>\n",
       "      <td>0.033196</td>\n",
       "    </tr>\n",
       "    <tr>\n",
       "      <th>1</th>\n",
       "      <td>32247.0</td>\n",
       "      <td>2.98</td>\n",
       "      <td>medium</td>\n",
       "      <td>48</td>\n",
       "      <td>16.414467</td>\n",
       "      <td>0.000317</td>\n",
       "    </tr>\n",
       "    <tr>\n",
       "      <th>2</th>\n",
       "      <td>34732.0</td>\n",
       "      <td>2.85</td>\n",
       "      <td>medium</td>\n",
       "      <td>61</td>\n",
       "      <td>4.937079</td>\n",
       "      <td>0.021845</td>\n",
       "    </tr>\n",
       "    <tr>\n",
       "      <th>3</th>\n",
       "      <td>53759.0</td>\n",
       "      <td>3.39</td>\n",
       "      <td>high</td>\n",
       "      <td>62</td>\n",
       "      <td>160.210286</td>\n",
       "      <td>0.153819</td>\n",
       "    </tr>\n",
       "  </tbody>\n",
       "</table>\n",
       "</div>"
      ],
      "text/plain": [
       "   family_income   gpa family_income_cat  parent_avg_age  hrs_studied  \\\n",
       "0        31402.0  3.18            medium              32    49.463745   \n",
       "1        32247.0  2.98            medium              48    16.414467   \n",
       "2        34732.0  2.85            medium              61     4.937079   \n",
       "3        53759.0  3.39              high              62   160.210286   \n",
       "\n",
       "   sport_performance  \n",
       "0           0.033196  \n",
       "1           0.000317  \n",
       "2           0.021845  \n",
       "3           0.153819  "
      ]
     },
     "execution_count": 109,
     "metadata": {},
     "output_type": "execute_result"
    }
   ],
   "source": [
    "df_[:4]"
   ]
  },
  {
   "cell_type": "code",
   "execution_count": 112,
   "metadata": {},
   "outputs": [
    {
     "data": {
      "image/png": "[encoded data removed]",
      "text/plain": [
       "<matplotlib.figure.Figure at 0x11ebd1310>"
      ]
     },
     "metadata": {},
     "output_type": "display_data"
    }
   ],
   "source": [
    "# Linear Least Square fitting\n",
    "slope, intercept, r_val, p_val, se = scs.linregress(df_.gpa, df_.hrs_studied)\n",
    "\n",
    "plt.scatter(df_.gpa, df_.hrs_studied, alpha=0.2)\n",
    "plt.plot(df_.gpa, intercept + (slope * df_.gpa), 'r', label = 'Regression')\n",
    "\n",
    "plt.xlabel('GPA')\n",
    "plt.ylabel('Study hrs')\n",
    "plt.legend();"
   ]
  },
  {
   "cell_type": "code",
   "execution_count": null,
   "metadata": {
    "collapsed": true
   },
   "outputs": [],
   "source": []
  },
  {
   "cell_type": "code",
   "execution_count": null,
   "metadata": {
    "collapsed": true
   },
   "outputs": [],
   "source": []
  }
 ],
 "metadata": {
  "kernelspec": {
   "display_name": "Python 2",
   "language": "python",
   "name": "python2"
  },
  "language_info": {
   "codemirror_mode": {
    "name": "ipython",
    "version": 2
   },
   "file_extension": ".py",
   "mimetype": "text/x-python",
   "name": "python",
   "nbconvert_exporter": "python",
   "pygments_lexer": "ipython2",
   "version": "2.7.15"
  }
 },
 "nbformat": 4,
 "nbformat_minor": 1
}
