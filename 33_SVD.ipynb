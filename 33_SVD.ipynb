{
 "cells": [
  {
   "cell_type": "markdown",
   "metadata": {},
   "source": [
    "## Singular Value Decomposition\n",
    "---\n",
    "**Elo notes**\n"
   ]
  },
  {
   "cell_type": "markdown",
   "metadata": {},
   "source": [
    "In linear algebra, the singular value decomposition (SVD) is a factorization of a real or complex matrix. It is the generalization of the eigendecomposition of a positive semidefinite normal matrix (for example, a symmetric matrix with positive eigenvalues) to any $m × n$ matrix via an extension of polar decomposition. It has many useful applications in signal processing and statistics.\n",
    "\n",
    "**  SVD is a technique for both improving the quality of a recommendation as well as handling sparse data is matrix factorization.**"
   ]
  },
  {
   "cell_type": "markdown",
   "metadata": {},
   "source": [
    "#### Latent variable - Latent feature\n",
    "\n",
    "In statistics, latent variables (from Latin: present participle of lateo (“lie hidden”), as opposed to observable variables), are variables that are not directly observed but are rather inferred (through a mathematical model) from other variables that are observed (directly measured). Mathematical models that aim to explain observed variables in terms of latent variables are called latent variable models. \n",
    "\n",
    "Sometimes latent variables correspond to aspects of physical reality, which could in principle be measured, but may not be for practical reasons. In this situation, the term hidden variables is commonly used (reflecting the fact that the variables are \"really there\", but hidden). Other times, latent variables correspond to abstract concepts, like categories, behavioral or mental states, or data structures. The terms hypothetical variables or hypothetical constructs may be used in these situations.\n",
    "\n",
    "One advantage of using latent variables is that it reduces the dimensionality of data. A large number of observable variables can be aggregated in a model to represent an underlying concept, making it easier to understand the data. In this sense, they serve a function similar to that of scientific theories. At the same time, latent variables link observable (\"sub-symbolic\") data in the real world to symbolic data in the modeled world.\n",
    "\n",
    "Latent variables, as created by factor analytic methods, generally represent \"shared\" variance, or the degree to which variables \"move\" together. Variables that have no correlation cannot result in a latent construct based on the common factor model."
   ]
  },
  {
   "cell_type": "markdown",
   "metadata": {},
   "source": [
    "#### Singular value decomposition\n",
    "\n",
    "The principal components transformation can also be associated with another matrix factorization, the singular value decomposition $(SVD)$ of $X$,\n",
    "\n",
    "${\\displaystyle \\mathbf {X} =\\mathbf {U} \\mathbf {\\Sigma } \\mathbf {W} ^{T}} $\n",
    "\n",
    "Here $Σ$ is an n-by-p rectangular diagonal matrix of positive numbers $σ(k)$, called the singular values of $X$; $U$ is an n-by-n matrix, the columns of which are orthogonal unit vectors of length n called the left singular vectors of $X$; and W is a p-by-p whose columns are orthogonal unit vectors of length p and called the right singular vectors of $X$.\n",
    "\n",
    "In terms of this factorization, the matrix $X^T X$ can be written\n",
    "\n",
    "${\\displaystyle {\\begin{aligned}\\mathbf {X} ^{T}\\mathbf {X} &=\\mathbf {W} \\mathbf {\\Sigma } \\mathbf {U} ^{T}\\mathbf {U} \\mathbf {\\Sigma } \\mathbf {W} ^{T}\\\\&=\\mathbf {W} \\mathbf {\\Sigma } ^{2}\\mathbf {W} ^{T}\\end{aligned}}} $\n",
    "\n",
    "Comparison with the eigenvector factorization of $X^T X$ establishes that the right singular vectors $W$ of $X$ are equivalent to the eigenvectors of $X^T X$, while the singular values $σ(k)$ of $Σ$ are equal to the square roots of the eigenvalues $λ(k)$ of $X^TX$.\n",
    "\n",
    "Using the singular value decomposition the score matrix T can be written\n",
    "\n",
    "${\\displaystyle {\\begin{aligned}\\mathbf {T} &=\\mathbf {X} \\mathbf {W} \\\\&=\\mathbf {U} \\mathbf {\\Sigma } \\mathbf {W} ^{T}\\mathbf {W} \\\\&=\\mathbf {U} \\mathbf {\\Sigma } \\end{aligned}}} $\n",
    "\n",
    "so each column of $T$ is given by one of the left singular vectors of $X$ multiplied by the corresponding singular value. This form is also the polar decomposition of $T$.\n",
    "\n",
    "Efficient algorithms exist to calculate the $SVD$ of $X$ without having to form the matrix $X^TX$, so computing the $SVD$ is now the standard way to calculate a principal components analysis from a data matrix[citation needed], unless only a handful of components are required.\n",
    "\n",
    "As with the eigen-decomposition, a truncated $n × L$ score matrix $TL$ can be obtained by considering only the first L largest singular values and their singular vectors:\n",
    "\n",
    "${\\displaystyle \\mathbf {T} _{L}=\\mathbf {U} _{L}\\mathbf {\\Sigma } _{L}=\\mathbf {X} \\mathbf {W} _{L}}$\n",
    "\n",
    "The truncation of a matrix $M$ or $T$ using a truncated singular value decomposition in this way produces a truncated matrix that is the nearest possible matrix of rank L to the original matrix, in the sense of the difference between the two having the smallest possible Frobenius norm, a result known as the Eckart–Young theorem [1936]."
   ]
  },
  {
   "cell_type": "code",
   "execution_count": 63,
   "metadata": {
    "collapsed": false
   },
   "outputs": [],
   "source": [
    "from scipy.spatial.distance import pdist\n",
    "from scipy.spatial.distance import squareform\n",
    "from scipy.spatial import distance\n",
    "\n",
    "from sklearn import cluster, datasets, decomposition\n",
    "from sklearn import random_projection, preprocessing\n",
    "from sklearn import ensemble, lda, manifold\n",
    "from sklearn.manifold import MDS\n",
    "\n",
    "from statsmodels.iolib.foreign import genfromdta\n",
    "\n",
    "\n",
    "from numpy.linalg import svd\n",
    "\n",
    "import os\n",
    "import glob\n",
    "\n",
    "import numpy as np\n",
    "import pandas as pd\n",
    "import matplotlib.pyplot as plt\n",
    "\n",
    "import seaborn as sea\n",
    "sea.set()\n",
    "\n",
    "%matplotlib inline"
   ]
  },
  {
   "cell_type": "markdown",
   "metadata": {},
   "source": [
    "### SVD - Project 1\n",
    "#### The International Standard Book Number (ISBN) is a 13-digit number that uniquely identifies books and book-like products published internationally."
   ]
  },
  {
   "cell_type": "markdown",
   "metadata": {},
   "source": [
    "#### df :  Ratings : Reviews : Book Ratings"
   ]
  },
  {
   "cell_type": "code",
   "execution_count": 26,
   "metadata": {
    "collapsed": true
   },
   "outputs": [],
   "source": [
    "df = pd.read_csv('data/book_reviews.csv', index_col=0)"
   ]
  },
  {
   "cell_type": "code",
   "execution_count": 27,
   "metadata": {
    "collapsed": false
   },
   "outputs": [
    {
     "data": {
      "text/html": [
       "<div>\n",
       "<table border=\"1\" class=\"dataframe\">\n",
       "  <thead>\n",
       "    <tr style=\"text-align: right;\">\n",
       "      <th></th>\n",
       "      <th>User-ID</th>\n",
       "      <th>ISBN</th>\n",
       "      <th>Book-Rating</th>\n",
       "    </tr>\n",
       "  </thead>\n",
       "  <tbody>\n",
       "    <tr>\n",
       "      <th>1083</th>\n",
       "      <td>277195</td>\n",
       "      <td>0060391626</td>\n",
       "      <td>10</td>\n",
       "    </tr>\n",
       "    <tr>\n",
       "      <th>1084</th>\n",
       "      <td>277195</td>\n",
       "      <td>0060502258</td>\n",
       "      <td>0</td>\n",
       "    </tr>\n",
       "  </tbody>\n",
       "</table>\n",
       "</div>"
      ],
      "text/plain": [
       "      User-ID        ISBN  Book-Rating\n",
       "1083   277195  0060391626           10\n",
       "1084   277195  0060502258            0"
      ]
     },
     "execution_count": 27,
     "metadata": {},
     "output_type": "execute_result"
    }
   ],
   "source": [
    "df[:2]"
   ]
  },
  {
   "cell_type": "code",
   "execution_count": 28,
   "metadata": {
    "collapsed": false
   },
   "outputs": [
    {
     "name": "stdout",
     "output_type": "stream",
     "text": [
      "<class 'pandas.core.frame.DataFrame'>\n",
      "Int64Index: 220995 entries, 1083 to 1149746\n",
      "Data columns (total 3 columns):\n",
      "User-ID        220995 non-null int64\n",
      "ISBN           220995 non-null object\n",
      "Book-Rating    220995 non-null int64\n",
      "dtypes: int64(2), object(1)\n",
      "memory usage: 6.7+ MB\n"
     ]
    }
   ],
   "source": [
    "df.info()"
   ]
  },
  {
   "cell_type": "code",
   "execution_count": 29,
   "metadata": {
    "collapsed": false
   },
   "outputs": [],
   "source": [
    "#df.describe()"
   ]
  },
  {
   "cell_type": "code",
   "execution_count": 30,
   "metadata": {
    "collapsed": true
   },
   "outputs": [],
   "source": [
    "df['Book-Rating'] = df['Book-Rating'].replace(0, -1)"
   ]
  },
  {
   "cell_type": "code",
   "execution_count": 31,
   "metadata": {
    "collapsed": false
   },
   "outputs": [
    {
     "data": {
      "text/plain": [
       "0"
      ]
     },
     "execution_count": 31,
     "metadata": {},
     "output_type": "execute_result"
    }
   ],
   "source": [
    "df['User-ID'].isnull().sum()"
   ]
  },
  {
   "cell_type": "code",
   "execution_count": 32,
   "metadata": {
    "collapsed": false
   },
   "outputs": [
    {
     "data": {
      "text/html": [
       "<div>\n",
       "<table border=\"1\" class=\"dataframe\">\n",
       "  <thead>\n",
       "    <tr style=\"text-align: right;\">\n",
       "      <th></th>\n",
       "      <th>User-ID</th>\n",
       "      <th>ISBN</th>\n",
       "      <th>Book-Rating</th>\n",
       "    </tr>\n",
       "  </thead>\n",
       "  <tbody>\n",
       "    <tr>\n",
       "      <th>1083</th>\n",
       "      <td>277195</td>\n",
       "      <td>0060391626</td>\n",
       "      <td>10</td>\n",
       "    </tr>\n",
       "    <tr>\n",
       "      <th>1084</th>\n",
       "      <td>277195</td>\n",
       "      <td>0060502258</td>\n",
       "      <td>-1</td>\n",
       "    </tr>\n",
       "  </tbody>\n",
       "</table>\n",
       "</div>"
      ],
      "text/plain": [
       "      User-ID        ISBN  Book-Rating\n",
       "1083   277195  0060391626           10\n",
       "1084   277195  0060502258           -1"
      ]
     },
     "execution_count": 32,
     "metadata": {},
     "output_type": "execute_result"
    }
   ],
   "source": [
    "df[:2]"
   ]
  },
  {
   "cell_type": "code",
   "execution_count": 33,
   "metadata": {
    "collapsed": false
   },
   "outputs": [
    {
     "data": {
      "text/plain": [
       "(220995, 3)"
      ]
     },
     "execution_count": 33,
     "metadata": {},
     "output_type": "execute_result"
    }
   ],
   "source": [
    "df.shape"
   ]
  },
  {
   "cell_type": "markdown",
   "metadata": {},
   "source": [
    "---\n",
    "### Feature Matrix\n",
    "\n",
    "Rows : Users - Subjects\n",
    "\n",
    "Columns : Features - User's review of the ISBN book\n",
    "\n",
    "Mising Data : -1"
   ]
  },
  {
   "cell_type": "code",
   "execution_count": 34,
   "metadata": {
    "collapsed": false
   },
   "outputs": [],
   "source": [
    "mainmatrix = df.pivot(index='User-ID', columns='ISBN', values='Book-Rating').fillna(-1)"
   ]
  },
  {
   "cell_type": "code",
   "execution_count": 35,
   "metadata": {
    "collapsed": false
   },
   "outputs": [
    {
     "data": {
      "text/html": [
       "<div>\n",
       "<table border=\"1\" class=\"dataframe\">\n",
       "  <thead>\n",
       "    <tr style=\"text-align: right;\">\n",
       "      <th>ISBN</th>\n",
       "      <th>0006493580</th>\n",
       "      <th>000649840X</th>\n",
       "      <th>0006512135</th>\n",
       "      <th>0006513204</th>\n",
       "      <th>0006514855</th>\n",
       "      <th>0006547834</th>\n",
       "      <th>0006550576</th>\n",
       "      <th>0006550681</th>\n",
       "      <th>0006550789</th>\n",
       "      <th>0007110928</th>\n",
       "      <th>...</th>\n",
       "      <th>8495618605</th>\n",
       "      <th>8497593588</th>\n",
       "      <th>8804342838</th>\n",
       "      <th>8806142100</th>\n",
       "      <th>8806143042</th>\n",
       "      <th>8807813025</th>\n",
       "      <th>8817106100</th>\n",
       "      <th>8845205118</th>\n",
       "      <th>8873122933</th>\n",
       "      <th>8885989403</th>\n",
       "    </tr>\n",
       "    <tr>\n",
       "      <th>User-ID</th>\n",
       "      <th></th>\n",
       "      <th></th>\n",
       "      <th></th>\n",
       "      <th></th>\n",
       "      <th></th>\n",
       "      <th></th>\n",
       "      <th></th>\n",
       "      <th></th>\n",
       "      <th></th>\n",
       "      <th></th>\n",
       "      <th></th>\n",
       "      <th></th>\n",
       "      <th></th>\n",
       "      <th></th>\n",
       "      <th></th>\n",
       "      <th></th>\n",
       "      <th></th>\n",
       "      <th></th>\n",
       "      <th></th>\n",
       "      <th></th>\n",
       "      <th></th>\n",
       "    </tr>\n",
       "  </thead>\n",
       "  <tbody>\n",
       "    <tr>\n",
       "      <th>243</th>\n",
       "      <td>-1.0</td>\n",
       "      <td>-1.0</td>\n",
       "      <td>-1.0</td>\n",
       "      <td>-1.0</td>\n",
       "      <td>-1.0</td>\n",
       "      <td>-1.0</td>\n",
       "      <td>-1.0</td>\n",
       "      <td>-1.0</td>\n",
       "      <td>-1.0</td>\n",
       "      <td>-1.0</td>\n",
       "      <td>...</td>\n",
       "      <td>-1.0</td>\n",
       "      <td>-1.0</td>\n",
       "      <td>-1.0</td>\n",
       "      <td>-1.0</td>\n",
       "      <td>-1.0</td>\n",
       "      <td>-1.0</td>\n",
       "      <td>-1.0</td>\n",
       "      <td>-1.0</td>\n",
       "      <td>-1.0</td>\n",
       "      <td>-1.0</td>\n",
       "    </tr>\n",
       "    <tr>\n",
       "      <th>254</th>\n",
       "      <td>-1.0</td>\n",
       "      <td>-1.0</td>\n",
       "      <td>-1.0</td>\n",
       "      <td>-1.0</td>\n",
       "      <td>-1.0</td>\n",
       "      <td>-1.0</td>\n",
       "      <td>-1.0</td>\n",
       "      <td>-1.0</td>\n",
       "      <td>-1.0</td>\n",
       "      <td>-1.0</td>\n",
       "      <td>...</td>\n",
       "      <td>-1.0</td>\n",
       "      <td>-1.0</td>\n",
       "      <td>-1.0</td>\n",
       "      <td>-1.0</td>\n",
       "      <td>-1.0</td>\n",
       "      <td>-1.0</td>\n",
       "      <td>-1.0</td>\n",
       "      <td>-1.0</td>\n",
       "      <td>-1.0</td>\n",
       "      <td>-1.0</td>\n",
       "    </tr>\n",
       "  </tbody>\n",
       "</table>\n",
       "<p>2 rows × 6092 columns</p>\n",
       "</div>"
      ],
      "text/plain": [
       "ISBN     0006493580  000649840X  0006512135  0006513204  0006514855  \\\n",
       "User-ID                                                               \n",
       "243            -1.0        -1.0        -1.0        -1.0        -1.0   \n",
       "254            -1.0        -1.0        -1.0        -1.0        -1.0   \n",
       "\n",
       "ISBN     0006547834  0006550576  0006550681  0006550789  0007110928  \\\n",
       "User-ID                                                               \n",
       "243            -1.0        -1.0        -1.0        -1.0        -1.0   \n",
       "254            -1.0        -1.0        -1.0        -1.0        -1.0   \n",
       "\n",
       "ISBN        ...      8495618605  8497593588  8804342838  8806142100  \\\n",
       "User-ID     ...                                                       \n",
       "243         ...            -1.0        -1.0        -1.0        -1.0   \n",
       "254         ...            -1.0        -1.0        -1.0        -1.0   \n",
       "\n",
       "ISBN     8806143042  8807813025  8817106100  8845205118  8873122933  \\\n",
       "User-ID                                                               \n",
       "243            -1.0        -1.0        -1.0        -1.0        -1.0   \n",
       "254            -1.0        -1.0        -1.0        -1.0        -1.0   \n",
       "\n",
       "ISBN     8885989403  \n",
       "User-ID              \n",
       "243            -1.0  \n",
       "254            -1.0  \n",
       "\n",
       "[2 rows x 6092 columns]"
      ]
     },
     "execution_count": 35,
     "metadata": {},
     "output_type": "execute_result"
    }
   ],
   "source": [
    "mainmatrix[:2]"
   ]
  },
  {
   "cell_type": "code",
   "execution_count": 36,
   "metadata": {
    "collapsed": true
   },
   "outputs": [],
   "source": [
    "# International Standard Book Number : ISBN : feature names\n",
    "feature_names = mainmatrix.columns"
   ]
  },
  {
   "cell_type": "code",
   "execution_count": 37,
   "metadata": {
    "collapsed": false
   },
   "outputs": [
    {
     "data": {
      "text/plain": [
       "(2500, 6092)"
      ]
     },
     "execution_count": 37,
     "metadata": {},
     "output_type": "execute_result"
    }
   ],
   "source": [
    "mainmatrix.shape"
   ]
  },
  {
   "cell_type": "markdown",
   "metadata": {
    "collapsed": true
   },
   "source": [
    "---\n",
    "### Matrix Factorization\n",
    "#### SVD - Singular Value Decomposition on mainmatrix (feature matrix)\n",
    "\n",
    "Let us define:\n",
    "\n",
    "$k$ : Number of Latent Features (Rank of our matrix)\n",
    "\n",
    "$k$ is the rank of the dataframe - **In the Upper bound on the number of latent features**\n",
    "\n",
    "\n",
    "\n",
    "0 < Lower dimensional space < $k$   :  Extracting the $k$ features that represent the 90% of the variance per the pareto chart. \n",
    "\n",
    "** Decomposing our MainMatrix $A_k$ (__m__ x __n__)  into 3 component matrices **\n",
    "\n",
    "\n",
    "$k$ - Lower dimensional space / Projecting into a lower dimesional space\n",
    "\n",
    "\n",
    "* __m__: # of users\n",
    "* __n__: # of items\n",
    "* __k__: # of latent features (also rank of the __df__)\n",
    "\n",
    "__A__$_k$ = $U_k$  $S_k$  $V_k^T$\n",
    "\n",
    "Where:\n",
    "\n",
    "$U_k$ : Users\n",
    "\n",
    "$S_k$ : Sigma - **eigenvalues** - Singular Values (Topics / Theme Space / Concepts)\n",
    "\n",
    "$V_k^T$ : Feature Item\n",
    "\n",
    "---\n",
    "\n",
    "__$A_k$__ is our feature-matrix: user-book rating matrix (__m__ x __n__)\n",
    "\n",
    "- **U** is our __weights__ matrix (__m__ x __k__) --> __User to topic matrix__\n",
    "- **S** is our __singular values__ matrix (__k__ x __k__) --> __eigenvalues/latent features (Topics)__\n",
    "- and **V*** is our __features__ matrix (__k__ x __n__) --> item (book) __feature to topic__\n",
    "\n",
    "The larger the singular value (**S** matrix), the more important that latent feature.  \n",
    "\n",
    "Since **U** and **V** are orthogonal to each other, we can rearrange them in order of **decreasing singular values.  If we want to reduce the dimension, we simply set a threshold for which columns/rows to cut off (low rank approximation):\n",
    "\n",
    "You can think of the weights matrix **U** as representing how much of each latent feature corresponds to each user, and the features matrix **V** as how much of each item/rating contributes to the latent features."
   ]
  },
  {
   "cell_type": "markdown",
   "metadata": {
    "collapsed": true
   },
   "source": [
    "```\n",
    "u, sigma, v_t = svd(mainmatrix.values, full_matrices=False)\n",
    "```"
   ]
  },
  {
   "cell_type": "code",
   "execution_count": 46,
   "metadata": {
    "collapsed": true
   },
   "outputs": [],
   "source": [
    "u, sigma, v_t  =  svd(mainmatrix.as_matrix())"
   ]
  },
  {
   "cell_type": "code",
   "execution_count": 29,
   "metadata": {
    "collapsed": false
   },
   "outputs": [
    {
     "data": {
      "text/plain": [
       "(2500, 2500)"
      ]
     },
     "execution_count": 29,
     "metadata": {},
     "output_type": "execute_result"
    }
   ],
   "source": [
    "u.shape"
   ]
  },
  {
   "cell_type": "code",
   "execution_count": 30,
   "metadata": {
    "collapsed": false
   },
   "outputs": [
    {
     "data": {
      "text/plain": [
       "(2500,)"
      ]
     },
     "execution_count": 30,
     "metadata": {},
     "output_type": "execute_result"
    }
   ],
   "source": [
    "sigma.shape"
   ]
  },
  {
   "cell_type": "code",
   "execution_count": 31,
   "metadata": {
    "collapsed": false
   },
   "outputs": [
    {
     "data": {
      "text/plain": [
       "(2500, 6092)"
      ]
     },
     "execution_count": 31,
     "metadata": {},
     "output_type": "execute_result"
    }
   ],
   "source": [
    "v_t.shape"
   ]
  },
  {
   "cell_type": "markdown",
   "metadata": {
    "collapsed": true
   },
   "source": [
    "### Reducing dimension  \n",
    "\n",
    "The Eigenvalues - Lambdas(Sigma values) are the variance in each of these dimensions.\n",
    "\n",
    "If we would like to reduce the number of dimensions, we just select the lambdas with the more variance and remove the smalest of the lambdas (sigma values).\n",
    "\n",
    "**Energy** -  The square root of the eigenvalues sigma\n",
    "\n",
    "Energy is the same as variance of a dimension and we can compute it simply by squaring the singular values.\n"
   ]
  },
  {
   "cell_type": "code",
   "execution_count": 32,
   "metadata": {
    "collapsed": false
   },
   "outputs": [
    {
     "data": {
      "text/plain": [
       "array([  1.41978492e+07,   1.10486529e+05,   4.93216571e+04, ...,\n",
       "         6.28154377e-29,   5.73961999e-29,   5.64705620e-29])"
      ]
     },
     "execution_count": 32,
     "metadata": {},
     "output_type": "execute_result"
    }
   ],
   "source": [
    "# energy is the sum of the energy of each singular value\n",
    "energy = sigma**2\n",
    "energy"
   ]
  },
  {
   "cell_type": "markdown",
   "metadata": {},
   "source": [
    "#### Ploting Lambda - Eigenvalues"
   ]
  },
  {
   "cell_type": "code",
   "execution_count": 34,
   "metadata": {
    "collapsed": false
   },
   "outputs": [
    {
     "data": {
      "text/plain": [
       "(0, 20000)"
      ]
     },
     "execution_count": 34,
     "metadata": {},
     "output_type": "execute_result"
    },
    {
     "data": {
      "image/png": "[encoded data removed]",
      "text/plain": [
       "<matplotlib.figure.Figure at 0x11a4c2610>"
      ]
     },
     "metadata": {},
     "output_type": "display_data"
    }
   ],
   "source": [
    "plt.figure(figsize= (12, 6))\n",
    "plt.plot(energy, '.')\n",
    "plt.ylim(0, 20000)"
   ]
  },
  {
   "cell_type": "markdown",
   "metadata": {},
   "source": [
    "Rank of the array is the number of SVD singular values of the array that are greater than tol parameter"
   ]
  },
  {
   "cell_type": "code",
   "execution_count": 35,
   "metadata": {
    "collapsed": false
   },
   "outputs": [
    {
     "data": {
      "text/plain": [
       "2440"
      ]
     },
     "execution_count": 35,
     "metadata": {},
     "output_type": "execute_result"
    }
   ],
   "source": [
    "np.linalg.matrix_rank(mainmatrix)"
   ]
  },
  {
   "cell_type": "markdown",
   "metadata": {},
   "source": [
    "### Reducing features\n"
   ]
  },
  {
   "cell_type": "code",
   "execution_count": 36,
   "metadata": {
    "collapsed": false
   },
   "outputs": [
    {
     "data": {
      "image/png": "[encoded data removed]",
      "text/plain": [
       "<matplotlib.figure.Figure at 0x1199823d0>"
      ]
     },
     "metadata": {},
     "output_type": "display_data"
    }
   ],
   "source": [
    "plt.figure(figsize=(12, 6))\n",
    "plt.plot(np.cumsum(energy)/sum(energy))\n",
    "plt.hlines(0.9, *plt.gca().get_xlim(), linestyle='dashed', color='red');\n"
   ]
  },
  {
   "cell_type": "code",
   "execution_count": 37,
   "metadata": {
    "collapsed": false
   },
   "outputs": [],
   "source": [
    "features_variance = np.cumsum(energy)/sum(energy)"
   ]
  },
  {
   "cell_type": "code",
   "execution_count": 38,
   "metadata": {
    "collapsed": false
   },
   "outputs": [],
   "source": [
    "reduction = features_variance > 0.9"
   ]
  },
  {
   "cell_type": "code",
   "execution_count": 39,
   "metadata": {
    "collapsed": false
   },
   "outputs": [
    {
     "data": {
      "text/plain": [
       "421"
      ]
     },
     "execution_count": 39,
     "metadata": {},
     "output_type": "execute_result"
    }
   ],
   "source": [
    "reduction = 2500 - np.sum(features_variance > 0.9)\n",
    "reduction"
   ]
  },
  {
   "cell_type": "code",
   "execution_count": 40,
   "metadata": {
    "collapsed": false
   },
   "outputs": [
    {
     "data": {
      "text/plain": [
       "421"
      ]
     },
     "execution_count": 40,
     "metadata": {},
     "output_type": "execute_result"
    }
   ],
   "source": [
    "np.argmax(np.cumsum(energy) >= power*.9)"
   ]
  },
  {
   "cell_type": "markdown",
   "metadata": {},
   "source": [
    "90% of the variance $\\sigma^2$ is contained in 421 features, 441 concepts accounts for 90% of the energy.\n",
    "\n",
    "422 - adjusting for error"
   ]
  },
  {
   "cell_type": "code",
   "execution_count": 41,
   "metadata": {
    "collapsed": false
   },
   "outputs": [
    {
     "data": {
      "text/plain": [
       "0.90005748473458003"
      ]
     },
     "execution_count": 41,
     "metadata": {},
     "output_type": "execute_result"
    }
   ],
   "source": [
    "sum((sigma**2)[:422])/sum((sigma**2))"
   ]
  },
  {
   "cell_type": "markdown",
   "metadata": {
    "collapsed": true
   },
   "source": [
    "#### Concept, Topic space\n",
    "\n",
    "- Feature matrix / mainmatrix : (__m__ x __n__)\n",
    "\n",
    "\n",
    "- $U$ rows connects Users to Concepts (__m__ x __k__)\n",
    "\n",
    "\n",
    "- $V^T$ rows connects Features (Books) to Concept (__k__ x __n__)\n",
    "\n",
    "$U$ and $V^T$ are ortogonal matrices \n",
    "\n",
    "#### Selecting 10 topics\n",
    "\n",
    "$U$ and $V^T$ are ortogonal matrices \n",
    "\n",
    "```\n",
    "V_10 = VT[:10,:]   # Rows\n",
    "\n",
    "U_10 = U[:,:10]    # Columns\n",
    "```"
   ]
  },
  {
   "cell_type": "code",
   "execution_count": 42,
   "metadata": {
    "collapsed": false
   },
   "outputs": [
    {
     "data": {
      "text/plain": [
       "(2500, 2500)"
      ]
     },
     "execution_count": 42,
     "metadata": {},
     "output_type": "execute_result"
    }
   ],
   "source": [
    "u.shape"
   ]
  },
  {
   "cell_type": "code",
   "execution_count": 43,
   "metadata": {
    "collapsed": false
   },
   "outputs": [
    {
     "data": {
      "text/plain": [
       "(2500, 6092)"
      ]
     },
     "execution_count": 43,
     "metadata": {},
     "output_type": "execute_result"
    }
   ],
   "source": [
    "mainmatrix.shape"
   ]
  },
  {
   "cell_type": "code",
   "execution_count": 44,
   "metadata": {
    "collapsed": false
   },
   "outputs": [
    {
     "data": {
      "text/plain": [
       "(2500, 6092)"
      ]
     },
     "execution_count": 44,
     "metadata": {},
     "output_type": "execute_result"
    }
   ],
   "source": [
    "v_t.shape"
   ]
  },
  {
   "cell_type": "markdown",
   "metadata": {
    "collapsed": true
   },
   "source": [
    "### SVD\n",
    "#### K = 450\n",
    "#### Let's keep 450 books for the ~90% of the total energy"
   ]
  },
  {
   "cell_type": "code",
   "execution_count": 113,
   "metadata": {
    "collapsed": false
   },
   "outputs": [
    {
     "name": "stdout",
     "output_type": "stream",
     "text": [
      "(2500, 450)\n"
     ]
    },
    {
     "data": {
      "text/plain": [
       "array([[ -2.03009199e-02,   1.46995600e-03,  -5.51468665e-03, ...,\n",
       "         -7.88916551e-03,   2.60467464e-02,   1.42720241e-02],\n",
       "       [ -2.00591181e-02,   3.41022036e-03,  -4.42233141e-03, ...,\n",
       "          1.56383075e-03,  -2.62887225e-02,   1.64118668e-02],\n",
       "       [ -2.01392464e-02,  -2.41072849e-03,  -2.25175391e-04, ...,\n",
       "         -1.87033543e-02,   3.73306251e-02,  -2.67488883e-02],\n",
       "       ..., \n",
       "       [ -2.02847751e-02,  -1.89776666e-03,   4.08550795e-03, ...,\n",
       "          6.90450059e-03,   9.96425482e-03,  -3.97038796e-03],\n",
       "       [ -2.00238756e-02,   1.86895879e-03,  -5.94084427e-03, ...,\n",
       "          1.73168086e-02,   3.16512793e-02,  -1.98812019e-02],\n",
       "       [ -2.03539484e-02,   1.44039262e-03,  -7.90382567e-05, ...,\n",
       "         -1.52153672e-02,   1.96520703e-03,  -1.65535344e-03]])"
      ]
     },
     "execution_count": 113,
     "metadata": {},
     "output_type": "execute_result"
    }
   ],
   "source": [
    "print u[:, :450].shape\n",
    "u[:, :450]"
   ]
  },
  {
   "cell_type": "code",
   "execution_count": 115,
   "metadata": {
    "collapsed": false
   },
   "outputs": [
    {
     "name": "stdout",
     "output_type": "stream",
     "text": [
      "(450, 6092)\n"
     ]
    },
    {
     "data": {
      "text/plain": [
       "array([[ 0.0130985 ,  0.01284511,  0.01323676, ...,  0.01323676,\n",
       "         0.01323676,  0.01323676],\n",
       "       [-0.00928497,  0.01717979, -0.00928893, ..., -0.00928893,\n",
       "        -0.00928893, -0.00928893],\n",
       "       [-0.00297272, -0.00468291, -0.00273579, ..., -0.00273579,\n",
       "        -0.00273579, -0.00273579],\n",
       "       ..., \n",
       "       [ 0.00015091,  0.02218852,  0.00015301, ...,  0.00015301,\n",
       "         0.00015301,  0.00015301],\n",
       "       [ 0.01013115,  0.00474572,  0.00021316, ...,  0.00021316,\n",
       "         0.00021316,  0.00021316],\n",
       "       [-0.00165844,  0.00646045,  0.00027946, ...,  0.00027946,\n",
       "         0.00027946,  0.00027946]])"
      ]
     },
     "execution_count": 115,
     "metadata": {},
     "output_type": "execute_result"
    }
   ],
   "source": [
    "print v_t[:450, :].shape\n",
    "v_t[:450, :]"
   ]
  },
  {
   "cell_type": "markdown",
   "metadata": {},
   "source": [
    "---\n",
    "### Top Books by Concept / Topic -  Features to Concepts /  Topics\n",
    "#### Obtaining:\n",
    "\n",
    "$V^T$ column/feature index\n",
    "\n",
    "#### Selecting Concept / Topic number : \n",
    "\n",
    "Concept number : 0\n",
    "#### Selecting and sorting the first row : \n",
    "\n",
    "Concept 0  :  Sort to obtain how much of each item/rating(columns from feature matrix/mainmatrix) contributes to the latent features.\n",
    "\n",
    "```\n",
    "[-5:] # Selecting top 5 items\n",
    "\n",
    "[::-1] # Descending order : mayor to lower to obtain the mayor contributors to the latent features```"
   ]
  },
  {
   "cell_type": "code",
   "execution_count": 73,
   "metadata": {
    "collapsed": false
   },
   "outputs": [
    {
     "data": {
      "text/plain": [
       "array([5961, 6034, 6087, 6070, 6029])"
      ]
     },
     "execution_count": 73,
     "metadata": {},
     "output_type": "execute_result"
    }
   ],
   "source": [
    "# with v_t[0]row obtain the columns index from the top 5 items\n",
    "\n",
    "concept_0 = v_t[0].argsort()[-5:][::-1]\n",
    "concept_0"
   ]
  },
  {
   "cell_type": "markdown",
   "metadata": {},
   "source": [
    "\n",
    "\n",
    "#### Apply Top features: $V^T$ column index to the column Feature matrix / mainmatrix in order to obtain the Top Ratings from the Features\n",
    "\n",
    "Top n : Top items from:\n",
    "\n",
    "- Feature matrix / mainmatrix : (__m__ x __n__)\n",
    "\n",
    "```From v_t column index now I select the columns from main matrix that are most related to the concept 0```"
   ]
  },
  {
   "cell_type": "code",
   "execution_count": 71,
   "metadata": {
    "collapsed": false
   },
   "outputs": [
    {
     "data": {
      "text/plain": [
       "Index([u'1841721522', u'3423105518', u'8807813025', u'3548603203',\n",
       "       u'3379015180'],\n",
       "      dtype='object', name=u'ISBN')"
      ]
     },
     "execution_count": 71,
     "metadata": {},
     "output_type": "execute_result"
    }
   ],
   "source": [
    "mainmatrix.columns[concept_0]"
   ]
  },
  {
   "cell_type": "code",
   "execution_count": 54,
   "metadata": {
    "collapsed": false
   },
   "outputs": [],
   "source": [
    "data = pd.read_csv('data/book_meta.csv', sep=\";\", error_bad_lines=False, low_memory=False\n",
    "                       ).drop(['two', 'three'], axis=1)"
   ]
  },
  {
   "cell_type": "code",
   "execution_count": 55,
   "metadata": {
    "collapsed": false
   },
   "outputs": [
    {
     "data": {
      "text/html": [
       "<div>\n",
       "<table border=\"1\" class=\"dataframe\">\n",
       "  <thead>\n",
       "    <tr style=\"text-align: right;\">\n",
       "      <th></th>\n",
       "      <th>ISBN</th>\n",
       "      <th>Book-Title</th>\n",
       "      <th>Book-Author</th>\n",
       "      <th>Year-Of-Publication</th>\n",
       "      <th>Publisher</th>\n",
       "      <th>Image-URL-S</th>\n",
       "      <th>Image-URL-M</th>\n",
       "      <th>Image-URL-L</th>\n",
       "    </tr>\n",
       "  </thead>\n",
       "  <tbody>\n",
       "    <tr>\n",
       "      <th>0</th>\n",
       "      <td>0195153448</td>\n",
       "      <td>Classical Mythology</td>\n",
       "      <td>Mark P. O. Morford</td>\n",
       "      <td>2002</td>\n",
       "      <td>Oxford University Press</td>\n",
       "      <td>http://images.amazon.com/images/P/0195153448.0...</td>\n",
       "      <td>http://images.amazon.com/images/P/0195153448.0...</td>\n",
       "      <td>http://images.amazon.com/images/P/0195153448.0...</td>\n",
       "    </tr>\n",
       "    <tr>\n",
       "      <th>1</th>\n",
       "      <td>0002005018</td>\n",
       "      <td>Clara Callan</td>\n",
       "      <td>Richard Bruce Wright</td>\n",
       "      <td>2001</td>\n",
       "      <td>HarperFlamingo Canada</td>\n",
       "      <td>http://images.amazon.com/images/P/0002005018.0...</td>\n",
       "      <td>http://images.amazon.com/images/P/0002005018.0...</td>\n",
       "      <td>http://images.amazon.com/images/P/0002005018.0...</td>\n",
       "    </tr>\n",
       "  </tbody>\n",
       "</table>\n",
       "</div>"
      ],
      "text/plain": [
       "         ISBN           Book-Title           Book-Author Year-Of-Publication  \\\n",
       "0  0195153448  Classical Mythology    Mark P. O. Morford                2002   \n",
       "1  0002005018         Clara Callan  Richard Bruce Wright                2001   \n",
       "\n",
       "                 Publisher                                        Image-URL-S  \\\n",
       "0  Oxford University Press  http://images.amazon.com/images/P/0195153448.0...   \n",
       "1    HarperFlamingo Canada  http://images.amazon.com/images/P/0002005018.0...   \n",
       "\n",
       "                                         Image-URL-M  \\\n",
       "0  http://images.amazon.com/images/P/0195153448.0...   \n",
       "1  http://images.amazon.com/images/P/0002005018.0...   \n",
       "\n",
       "                                         Image-URL-L  \n",
       "0  http://images.amazon.com/images/P/0195153448.0...  \n",
       "1  http://images.amazon.com/images/P/0002005018.0...  "
      ]
     },
     "execution_count": 55,
     "metadata": {},
     "output_type": "execute_result"
    }
   ],
   "source": [
    "data[:2]"
   ]
  },
  {
   "cell_type": "code",
   "execution_count": 56,
   "metadata": {
    "collapsed": false
   },
   "outputs": [
    {
     "name": "stdout",
     "output_type": "stream",
     "text": [
      "<class 'pandas.core.frame.DataFrame'>\n",
      "RangeIndex: 271379 entries, 0 to 271378\n",
      "Data columns (total 8 columns):\n",
      "ISBN                   271379 non-null object\n",
      "Book-Title             271379 non-null object\n",
      "Book-Author            271379 non-null object\n",
      "Year-Of-Publication    271379 non-null object\n",
      "Publisher              271377 non-null object\n",
      "Image-URL-S            271379 non-null object\n",
      "Image-URL-M            271379 non-null object\n",
      "Image-URL-L            271376 non-null object\n",
      "dtypes: object(8)\n",
      "memory usage: 16.6+ MB\n"
     ]
    }
   ],
   "source": [
    "data.info()"
   ]
  },
  {
   "cell_type": "markdown",
   "metadata": {},
   "source": [
    "#### BOOKS \n",
    "\n",
    "- Books Index and Title"
   ]
  },
  {
   "cell_type": "code",
   "execution_count": 58,
   "metadata": {
    "collapsed": false
   },
   "outputs": [
    {
     "data": {
      "text/plain": [
       "ISBN\n",
       "0195153448                                  Classical Mythology\n",
       "0002005018                                         Clara Callan\n",
       "0060973129                                 Decision in Normandy\n",
       "0374157065    Flu: The Story of the Great Influenza Pandemic...\n",
       "Name: Book-Title, dtype: object"
      ]
     },
     "execution_count": 58,
     "metadata": {},
     "output_type": "execute_result"
    }
   ],
   "source": [
    "book_names = data.set_index('ISBN')['Book-Title']\n",
    "book_names[:4]"
   ]
  },
  {
   "cell_type": "code",
   "execution_count": 72,
   "metadata": {
    "collapsed": false
   },
   "outputs": [
    {
     "data": {
      "text/plain": [
       "'Classical Mythology'"
      ]
     },
     "execution_count": 72,
     "metadata": {},
     "output_type": "execute_result"
    }
   ],
   "source": [
    "book_names['0195153448']"
   ]
  },
  {
   "cell_type": "markdown",
   "metadata": {},
   "source": [
    "#### Connecting  Features (Books) to Concepts (Topics) = 0\n",
    "- $V^T$[0] row obtain the columns that connects Concept to Features(Books) (__k__ x __n__)\n",
    "#### book_names :  Index 'ISBN'  >>   ['Book-Title']\n",
    "- mainmatrix : (__m__ x __n__)\n",
    "\n",
    "* __m__: # of User-ID\n",
    "* __n__: # of ISBN\n",
    "\n",
    "- *__Top ISBN by User__*: Top Rating by User:  mainmatrix.columns[topconcept_index]"
   ]
  },
  {
   "cell_type": "code",
   "execution_count": null,
   "metadata": {
    "collapsed": true
   },
   "outputs": [],
   "source": [
    "# with v_t[0]row obtain the columns index from the top 5 items(Features / Books)\n",
    "\n",
    "concept_0 = v_t[0].argsort()[-5:][::-1]\n",
    "concept_0"
   ]
  },
  {
   "cell_type": "code",
   "execution_count": 100,
   "metadata": {
    "collapsed": false
   },
   "outputs": [
    {
     "data": {
      "text/plain": [
       "array([5961, 6034, 6087, 6070, 6029, 6020, 2298, 6088, 6021, 6027])"
      ]
     },
     "execution_count": 100,
     "metadata": {},
     "output_type": "execute_result"
    }
   ],
   "source": [
    "v_t[0].argsort()[-10:][::-1]"
   ]
  },
  {
   "cell_type": "code",
   "execution_count": 93,
   "metadata": {
    "collapsed": false
   },
   "outputs": [
    {
     "name": "stdout",
     "output_type": "stream",
     "text": [
      "10\n"
     ]
    },
    {
     "data": {
      "text/plain": [
       "array([5961, 6034, 6087, 6070, 6029, 6020, 2298, 6088, 6021, 6027])"
      ]
     },
     "execution_count": 93,
     "metadata": {},
     "output_type": "execute_result"
    }
   ],
   "source": [
    "# In descending order : mayor to lower\n",
    "toplatent_features_index = v_t[0].argsort()[::-1][10:]\n"
   ]
  },
  {
   "cell_type": "code",
   "execution_count": 94,
   "metadata": {
    "collapsed": false
   },
   "outputs": [
    {
     "data": {
      "text/plain": [
       "Index([u'1841721522', u'3423105518', u'8807813025', u'3548603203',\n",
       "       u'3379015180', u'3250600555', u'042516019X', u'8817106100',\n",
       "       u'3257061269', u'3257229364'],\n",
       "      dtype='object', name=u'ISBN')"
      ]
     },
     "execution_count": 94,
     "metadata": {},
     "output_type": "execute_result"
    }
   ],
   "source": [
    "mainmatrix.columns[toplatent_features_index]"
   ]
  },
  {
   "cell_type": "code",
   "execution_count": 95,
   "metadata": {
    "collapsed": false
   },
   "outputs": [
    {
     "data": {
      "text/plain": [
       "ISBN\n",
       "1841721522    New Vegetarian: Bold and Beautiful Recipes for...\n",
       "3423105518                                        Name Der Rose\n",
       "8807813025                               Novocento, Un Monologo\n",
       "3548603203                                        Artemis Fowl.\n",
       "3379015180                                      Schlafes Bruder\n",
       "3250600555    Monsieur Ibrahim und die Blumen des Koran. Erz...\n",
       "042516019X                                           Masquerade\n",
       "8817106100                                          Oceano Mare\n",
       "3257061269                                       Der Alchimist.\n",
       "3257229364    Endstation Venedig. Commissario Brunettis zwei...\n",
       "Name: Book-Title, dtype: object"
      ]
     },
     "execution_count": 95,
     "metadata": {},
     "output_type": "execute_result"
    }
   ],
   "source": [
    "# For Concept 0 we have the top 10 books\n",
    "latent_features_index = mainmatrix.columns[toplatent_features_index]\n",
    "book_names[latent_features_index]"
   ]
  },
  {
   "cell_type": "code",
   "execution_count": 96,
   "metadata": {
    "collapsed": true
   },
   "outputs": [],
   "source": [
    "def top_books_by_topic(mainmatrix, v_t, concept=None, booklist_qty=None):\n",
    "    top_latent_features_index = v_t[concept].argsort()[-booklist_qty:][::-1]\n",
    "    latent_features_index = mainmatrix.columns[top_latent_features_index]\n",
    "    return book_names[latent_features_index]"
   ]
  },
  {
   "cell_type": "code",
   "execution_count": 125,
   "metadata": {
    "collapsed": false
   },
   "outputs": [
    {
     "name": "stdout",
     "output_type": "stream",
     "text": [
      "Concept: 0\n",
      "ISBN\n",
      "1841721522    New Vegetarian: Bold and Beautiful Recipes for...\n",
      "3423105518                                        Name Der Rose\n",
      "8807813025                               Novocento, Un Monologo\n",
      "3548603203                                        Artemis Fowl.\n",
      "3379015180                                      Schlafes Bruder\n",
      "Name: Book-Title, dtype: object\n",
      "\n",
      "Concept: 1\n",
      "ISBN\n",
      "0312195516                  The Red Tent (Bestselling Backlist)\n",
      "0385504209                                    The Da Vinci Code\n",
      "0446672211    Where the Heart Is (Oprah's Book Club (Paperba...\n",
      "0316666343                            The Lovely Bones: A Novel\n",
      "0671001795                                    Two for the Dough\n",
      "Name: Book-Title, dtype: object\n",
      "\n",
      "Concept: 2\n",
      "ISBN\n",
      "0515131229    Dance upon the Air (Three Sisters Island Trilogy)\n",
      "051513287X         Face the Fire (Three Sisters Island Trilogy)\n",
      "051513628X               Key of Light (Key Trilogy (Paperback))\n",
      "0515128554                     Heart of the Sea (Irish Trilogy)\n",
      "0515128546                    Tears of the Moon (Irish Trilogy)\n",
      "Name: Book-Title, dtype: object\n",
      "\n"
     ]
    }
   ],
   "source": [
    "#  450 concepts(topics) accounts for 90% of the energy(Variance)\n",
    "# concepts = 450\n",
    "concepts = 3\n",
    "for i in range(concepts):\n",
    "    print 'Concept: {}'.format(i)\n",
    "    print top_books_by_topic(mainmatrix, v_t, i, 5)\n",
    "    print ''"
   ]
  },
  {
   "cell_type": "markdown",
   "metadata": {},
   "source": [
    "#### Inference\n",
    "\n",
    "Concept / Topic 0 : Mistery novel\n",
    "\n",
    "Concept / Topic 1 : Fantasy\n",
    "\n",
    "\n",
    ".\n",
    "\n",
    ".\n",
    "\n",
    ".\n",
    "\n",
    "Concept / Topic 450  : ....just for fun. "
   ]
  },
  {
   "cell_type": "markdown",
   "metadata": {},
   "source": [
    "---\n",
    "### User to Concept / Topic\n",
    "#### Getting recomendation by users"
   ]
  },
  {
   "cell_type": "code",
   "execution_count": 165,
   "metadata": {
    "collapsed": false
   },
   "outputs": [
    {
     "data": {
      "text/plain": [
       "(2500, 2500)"
      ]
     },
     "execution_count": 165,
     "metadata": {},
     "output_type": "execute_result"
    }
   ],
   "source": [
    "u.shape"
   ]
  },
  {
   "cell_type": "code",
   "execution_count": 101,
   "metadata": {
    "collapsed": false
   },
   "outputs": [
    {
     "data": {
      "text/plain": [
       "array([ -2.03009199e-02,   1.46995600e-03,  -5.51468665e-03, ...,\n",
       "        -1.67609021e-17,   7.82778923e-18,  -8.91833199e-18])"
      ]
     },
     "execution_count": 101,
     "metadata": {},
     "output_type": "execute_result"
    }
   ],
   "source": [
    "u[0, :]"
   ]
  },
  {
   "cell_type": "code",
   "execution_count": 102,
   "metadata": {
    "collapsed": false
   },
   "outputs": [
    {
     "data": {
      "text/plain": [
       "array([ -2.03009199e-02,   1.46995600e-03,  -5.51468665e-03, ...,\n",
       "        -1.67609021e-17,   7.82778923e-18,  -8.91833199e-18])"
      ]
     },
     "execution_count": 102,
     "metadata": {},
     "output_type": "execute_result"
    }
   ],
   "source": [
    "u[0]"
   ]
  },
  {
   "cell_type": "code",
   "execution_count": 118,
   "metadata": {
    "collapsed": false
   },
   "outputs": [
    {
     "data": {
      "text/plain": [
       "array([2112, 2000, 2101, 2120, 1987, 2260, 2182, 1901, 1939, 1842])"
      ]
     },
     "execution_count": 118,
     "metadata": {},
     "output_type": "execute_result"
    }
   ],
   "source": [
    "user0_top_topics = u[0].argsort()[::-1][:10]\n",
    "user0_top_topics"
   ]
  },
  {
   "cell_type": "code",
   "execution_count": 122,
   "metadata": {
    "collapsed": false
   },
   "outputs": [
    {
     "name": "stdout",
     "output_type": "stream",
     "text": [
      "User_0 - Top Books by Top Concept/Topic: 2112 \n",
      "ISBN\n",
      "0151001006              Snow Falling on Cedars\n",
      "0441003389                   Freedom's Landing\n",
      "0140440410    Anna Karenina (Penguin Classics)\n",
      "0553580388                         The Patient\n",
      "3423105410                                 NaN\n",
      "Name: Book-Title, dtype: object\n",
      "\n",
      "User_0 - Top Books by Top Concept/Topic: 2000 \n",
      "ISBN\n",
      "0446603104                                  Seduction by Design\n",
      "0670853097                                    The Stone Diaries\n",
      "0553212451                         The Jungle (Bantam Classics)\n",
      "0425108937                                Flight of the Old Dog\n",
      "0375712925    The Emperor of Ocean Park (Vintage Contemporar...\n",
      "Name: Book-Title, dtype: object\n",
      "\n",
      "User_0 - Top Books by Top Concept/Topic: 2101 \n",
      "ISBN\n",
      "0671510126      The Good Earth (Enriched Classics)\n",
      "0590477404    Monster Blood II (Goosebumps, No 18)\n",
      "0374281602              Reversible Errors: A Novel\n",
      "0515128821                             The Breaker\n",
      "0765341972                  The Mothman Prophecies\n",
      "Name: Book-Title, dtype: object\n",
      "\n",
      "User_0 - Top Books by Top Concept/Topic: 2120 \n",
      "ISBN\n",
      "1576730360    I Kissed Dating Goodbye: A New Attitude Toward...\n",
      "0671042564               Blackbird : A Childhood Lost and Found\n",
      "0375712925    The Emperor of Ocean Park (Vintage Contemporar...\n",
      "0446519138      Simple Abundance:  A Daybook of Comfort and Joy\n",
      "0671023187                                          Term Limits\n",
      "Name: Book-Title, dtype: object\n",
      "\n",
      "User_0 - Top Books by Top Concept/Topic: 1987 \n",
      "ISBN\n",
      "0060934913    Kitchen Confidential: Adventures in the Culina...\n",
      "0452269652                    Jazz (Plume Contemporary Fiction)\n",
      "0451131517                                   On Wings of Eagles\n",
      "0786887842    Rabbit-Proof Fence : The True Story of One of ...\n",
      "0671023187                                          Term Limits\n",
      "Name: Book-Title, dtype: object\n",
      "\n",
      "User_0 - Top Books by Top Concept/Topic: 2260 \n",
      "ISBN\n",
      "0440442508                    Johnny Tremain (Yearling Newbery)\n",
      "0425192938                                  Pattern Recognition\n",
      "048627263X    Flatland: A Romance of Many Dimensions (Dover ...\n",
      "0399143874                                             Homeport\n",
      "0399148469                                       Hunting Season\n",
      "Name: Book-Title, dtype: object\n",
      "\n",
      "User_0 - Top Books by Top Concept/Topic: 2182 \n",
      "ISBN\n",
      "051512558X           The Overseer\n",
      "0425092178              Strangers\n",
      "0670910236    Priestess of Avalon\n",
      "0553569082             After Dark\n",
      "0671729462       My Sweet Audrina\n",
      "Name: Book-Title, dtype: object\n",
      "\n",
      "User_0 - Top Books by Top Concept/Topic: 1901 \n",
      "ISBN\n",
      "0156006219       The Magician's Assistant\n",
      "0786863986                A Monk Swimming\n",
      "0749396067                            NaN\n",
      "0743428188    The Twentieth Wife: A Novel\n",
      "067103992X        Wicked Forest (Debeers)\n",
      "Name: Book-Title, dtype: object\n",
      "\n",
      "User_0 - Top Books by Top Concept/Topic: 1939 \n",
      "ISBN\n",
      "0380769557                                    Autumn Lover\n",
      "0553263579          The Autobiography of Miss Jane Pittman\n",
      "0590568825                  Ghost Camp (Goosebumps, No 45)\n",
      "0671886665                              A Cry In The Night\n",
      "0553212540    The Picture of Dorian Gray (Bantam Classics)\n",
      "Name: Book-Title, dtype: object\n",
      "\n",
      "User_0 - Top Books by Top Concept/Topic: 1842 \n",
      "ISBN\n",
      "0553282476             CAT'S EYE\n",
      "0140620117                   NaN\n",
      "1551665301             Book Club\n",
      "0689710879    The Dark Is Rising\n",
      "0375759778      Prague : A Novel\n",
      "Name: Book-Title, dtype: object\n",
      "\n"
     ]
    }
   ],
   "source": [
    "for topic in user0_top_topics:\n",
    "    print 'User_0 - Top Books by Top Concept/Topic: {} '.format(topic)\n",
    "    print top_books_by_topic(mainmatrix, v_t, topic, 5)\n",
    "    print ''"
   ]
  },
  {
   "cell_type": "markdown",
   "metadata": {},
   "source": [
    "- According to the book recommendation user0 might be  ...."
   ]
  },
  {
   "cell_type": "code",
   "execution_count": 166,
   "metadata": {
    "collapsed": true
   },
   "outputs": [],
   "source": [
    "u_reduced = u[:, :450]\n",
    "sigma_reduced = sigma[:450]\n",
    "v_t_reduced = v_t[:450]"
   ]
  },
  {
   "cell_type": "code",
   "execution_count": 170,
   "metadata": {
    "collapsed": false
   },
   "outputs": [
    {
     "data": {
      "text/plain": [
       "array([[-0.95744986, -1.10020907, -1.0012361 , ..., -1.0012361 ,\n",
       "        -1.0012361 , -1.0012361 ],\n",
       "       [-1.14121559, -1.18631704, -1.0228987 , ..., -1.0228987 ,\n",
       "        -1.0228987 , -1.0228987 ],\n",
       "       [-0.99645468, -0.85329675, -0.99015955, ..., -0.99015955,\n",
       "        -0.99015955, -0.99015955],\n",
       "       ..., \n",
       "       [-0.97749502, -0.93852378, -1.00563909, ..., -1.00563909,\n",
       "        -1.00563909, -1.00563909],\n",
       "       [-0.7848654 , -1.0411863 , -0.98659292, ..., -0.98659292,\n",
       "        -0.98659292, -0.98659292],\n",
       "       [-1.07210139, -0.82444039, -1.01193158, ..., -1.01193158,\n",
       "        -1.01193158, -1.01193158]])"
      ]
     },
     "execution_count": 170,
     "metadata": {},
     "output_type": "execute_result"
    }
   ],
   "source": [
    "matrix_recontruction = (u_reduced*sigma_reduced).dot(v_t_reduced)\n",
    "matrix_recontruction"
   ]
  },
  {
   "cell_type": "markdown",
   "metadata": {
    "collapsed": true
   },
   "source": [
    "---\n",
    "### SVD - Project 2\n",
    "#### User Movie Rating\n"
   ]
  },
  {
   "cell_type": "markdown",
   "metadata": {},
   "source": [
    "df_movies : Reviews"
   ]
  },
  {
   "cell_type": "code",
   "execution_count": 5,
   "metadata": {
    "collapsed": false
   },
   "outputs": [
    {
     "data": {
      "text/html": [
       "<div>\n",
       "<table border=\"1\" class=\"dataframe\">\n",
       "  <thead>\n",
       "    <tr style=\"text-align: right;\">\n",
       "      <th></th>\n",
       "      <th>user</th>\n",
       "      <th>movie</th>\n",
       "      <th>rating</th>\n",
       "      <th>timestamp</th>\n",
       "    </tr>\n",
       "  </thead>\n",
       "  <tbody>\n",
       "    <tr>\n",
       "      <th>0</th>\n",
       "      <td>196</td>\n",
       "      <td>242</td>\n",
       "      <td>3</td>\n",
       "      <td>881250949</td>\n",
       "    </tr>\n",
       "    <tr>\n",
       "      <th>1</th>\n",
       "      <td>186</td>\n",
       "      <td>302</td>\n",
       "      <td>3</td>\n",
       "      <td>891717742</td>\n",
       "    </tr>\n",
       "    <tr>\n",
       "      <th>2</th>\n",
       "      <td>22</td>\n",
       "      <td>377</td>\n",
       "      <td>1</td>\n",
       "      <td>878887116</td>\n",
       "    </tr>\n",
       "    <tr>\n",
       "      <th>3</th>\n",
       "      <td>244</td>\n",
       "      <td>51</td>\n",
       "      <td>2</td>\n",
       "      <td>880606923</td>\n",
       "    </tr>\n",
       "  </tbody>\n",
       "</table>\n",
       "</div>"
      ],
      "text/plain": [
       "   user  movie  rating  timestamp\n",
       "0   196    242       3  881250949\n",
       "1   186    302       3  891717742\n",
       "2    22    377       1  878887116\n",
       "3   244     51       2  880606923"
      ]
     },
     "execution_count": 5,
     "metadata": {},
     "output_type": "execute_result"
    }
   ],
   "source": [
    "df_movies = pd.read_table('data/data/u.data', sep='\\t', names=['user', 'movie', 'rating', 'timestamp'])\n",
    "df_movies[:4]"
   ]
  },
  {
   "cell_type": "code",
   "execution_count": 6,
   "metadata": {
    "collapsed": false
   },
   "outputs": [
    {
     "data": {
      "text/html": [
       "<div>\n",
       "<table border=\"1\" class=\"dataframe\">\n",
       "  <thead>\n",
       "    <tr style=\"text-align: right;\">\n",
       "      <th>movie</th>\n",
       "      <th>1</th>\n",
       "      <th>2</th>\n",
       "      <th>3</th>\n",
       "      <th>4</th>\n",
       "      <th>5</th>\n",
       "      <th>6</th>\n",
       "      <th>7</th>\n",
       "      <th>8</th>\n",
       "      <th>9</th>\n",
       "      <th>10</th>\n",
       "      <th>...</th>\n",
       "      <th>1673</th>\n",
       "      <th>1674</th>\n",
       "      <th>1675</th>\n",
       "      <th>1676</th>\n",
       "      <th>1677</th>\n",
       "      <th>1678</th>\n",
       "      <th>1679</th>\n",
       "      <th>1680</th>\n",
       "      <th>1681</th>\n",
       "      <th>1682</th>\n",
       "    </tr>\n",
       "    <tr>\n",
       "      <th>user</th>\n",
       "      <th></th>\n",
       "      <th></th>\n",
       "      <th></th>\n",
       "      <th></th>\n",
       "      <th></th>\n",
       "      <th></th>\n",
       "      <th></th>\n",
       "      <th></th>\n",
       "      <th></th>\n",
       "      <th></th>\n",
       "      <th></th>\n",
       "      <th></th>\n",
       "      <th></th>\n",
       "      <th></th>\n",
       "      <th></th>\n",
       "      <th></th>\n",
       "      <th></th>\n",
       "      <th></th>\n",
       "      <th></th>\n",
       "      <th></th>\n",
       "      <th></th>\n",
       "    </tr>\n",
       "  </thead>\n",
       "  <tbody>\n",
       "    <tr>\n",
       "      <th>1</th>\n",
       "      <td>5.0</td>\n",
       "      <td>3.0</td>\n",
       "      <td>4.0</td>\n",
       "      <td>3.0</td>\n",
       "      <td>3.0</td>\n",
       "      <td>5.0</td>\n",
       "      <td>4.0</td>\n",
       "      <td>1.0</td>\n",
       "      <td>5.0</td>\n",
       "      <td>3.0</td>\n",
       "      <td>...</td>\n",
       "      <td>-1.0</td>\n",
       "      <td>-1.0</td>\n",
       "      <td>-1.0</td>\n",
       "      <td>-1.0</td>\n",
       "      <td>-1.0</td>\n",
       "      <td>-1.0</td>\n",
       "      <td>-1.0</td>\n",
       "      <td>-1.0</td>\n",
       "      <td>-1.0</td>\n",
       "      <td>-1.0</td>\n",
       "    </tr>\n",
       "    <tr>\n",
       "      <th>2</th>\n",
       "      <td>4.0</td>\n",
       "      <td>-1.0</td>\n",
       "      <td>-1.0</td>\n",
       "      <td>-1.0</td>\n",
       "      <td>-1.0</td>\n",
       "      <td>-1.0</td>\n",
       "      <td>-1.0</td>\n",
       "      <td>-1.0</td>\n",
       "      <td>-1.0</td>\n",
       "      <td>2.0</td>\n",
       "      <td>...</td>\n",
       "      <td>-1.0</td>\n",
       "      <td>-1.0</td>\n",
       "      <td>-1.0</td>\n",
       "      <td>-1.0</td>\n",
       "      <td>-1.0</td>\n",
       "      <td>-1.0</td>\n",
       "      <td>-1.0</td>\n",
       "      <td>-1.0</td>\n",
       "      <td>-1.0</td>\n",
       "      <td>-1.0</td>\n",
       "    </tr>\n",
       "    <tr>\n",
       "      <th>3</th>\n",
       "      <td>-1.0</td>\n",
       "      <td>-1.0</td>\n",
       "      <td>-1.0</td>\n",
       "      <td>-1.0</td>\n",
       "      <td>-1.0</td>\n",
       "      <td>-1.0</td>\n",
       "      <td>-1.0</td>\n",
       "      <td>-1.0</td>\n",
       "      <td>-1.0</td>\n",
       "      <td>-1.0</td>\n",
       "      <td>...</td>\n",
       "      <td>-1.0</td>\n",
       "      <td>-1.0</td>\n",
       "      <td>-1.0</td>\n",
       "      <td>-1.0</td>\n",
       "      <td>-1.0</td>\n",
       "      <td>-1.0</td>\n",
       "      <td>-1.0</td>\n",
       "      <td>-1.0</td>\n",
       "      <td>-1.0</td>\n",
       "      <td>-1.0</td>\n",
       "    </tr>\n",
       "    <tr>\n",
       "      <th>4</th>\n",
       "      <td>-1.0</td>\n",
       "      <td>-1.0</td>\n",
       "      <td>-1.0</td>\n",
       "      <td>-1.0</td>\n",
       "      <td>-1.0</td>\n",
       "      <td>-1.0</td>\n",
       "      <td>-1.0</td>\n",
       "      <td>-1.0</td>\n",
       "      <td>-1.0</td>\n",
       "      <td>-1.0</td>\n",
       "      <td>...</td>\n",
       "      <td>-1.0</td>\n",
       "      <td>-1.0</td>\n",
       "      <td>-1.0</td>\n",
       "      <td>-1.0</td>\n",
       "      <td>-1.0</td>\n",
       "      <td>-1.0</td>\n",
       "      <td>-1.0</td>\n",
       "      <td>-1.0</td>\n",
       "      <td>-1.0</td>\n",
       "      <td>-1.0</td>\n",
       "    </tr>\n",
       "  </tbody>\n",
       "</table>\n",
       "<p>4 rows × 1682 columns</p>\n",
       "</div>"
      ],
      "text/plain": [
       "movie  1     2     3     4     5     6     7     8     9     10    ...   1673  \\\n",
       "user                                                               ...          \n",
       "1       5.0   3.0   4.0   3.0   3.0   5.0   4.0   1.0   5.0   3.0  ...   -1.0   \n",
       "2       4.0  -1.0  -1.0  -1.0  -1.0  -1.0  -1.0  -1.0  -1.0   2.0  ...   -1.0   \n",
       "3      -1.0  -1.0  -1.0  -1.0  -1.0  -1.0  -1.0  -1.0  -1.0  -1.0  ...   -1.0   \n",
       "4      -1.0  -1.0  -1.0  -1.0  -1.0  -1.0  -1.0  -1.0  -1.0  -1.0  ...   -1.0   \n",
       "\n",
       "movie  1674  1675  1676  1677  1678  1679  1680  1681  1682  \n",
       "user                                                         \n",
       "1      -1.0  -1.0  -1.0  -1.0  -1.0  -1.0  -1.0  -1.0  -1.0  \n",
       "2      -1.0  -1.0  -1.0  -1.0  -1.0  -1.0  -1.0  -1.0  -1.0  \n",
       "3      -1.0  -1.0  -1.0  -1.0  -1.0  -1.0  -1.0  -1.0  -1.0  \n",
       "4      -1.0  -1.0  -1.0  -1.0  -1.0  -1.0  -1.0  -1.0  -1.0  \n",
       "\n",
       "[4 rows x 1682 columns]"
      ]
     },
     "execution_count": 6,
     "metadata": {},
     "output_type": "execute_result"
    }
   ],
   "source": [
    "features = df_movies.pivot(index='user', columns='movie', values='rating').fillna(-1)\n",
    "features[:4]"
   ]
  },
  {
   "cell_type": "code",
   "execution_count": 7,
   "metadata": {
    "collapsed": false
   },
   "outputs": [
    {
     "data": {
      "text/plain": [
       "(943, 1682)"
      ]
     },
     "execution_count": 7,
     "metadata": {},
     "output_type": "execute_result"
    }
   ],
   "source": [
    "features.shape"
   ]
  },
  {
   "cell_type": "code",
   "execution_count": 8,
   "metadata": {
    "collapsed": false
   },
   "outputs": [
    {
     "data": {
      "text/html": [
       "<div>\n",
       "<table border=\"1\" class=\"dataframe\">\n",
       "  <thead>\n",
       "    <tr style=\"text-align: right;\">\n",
       "      <th>movie</th>\n",
       "      <th>1</th>\n",
       "    </tr>\n",
       "  </thead>\n",
       "  <tbody>\n",
       "    <tr>\n",
       "      <th>count</th>\n",
       "      <td>943.000000</td>\n",
       "    </tr>\n",
       "    <tr>\n",
       "      <th>mean</th>\n",
       "      <td>1.338282</td>\n",
       "    </tr>\n",
       "    <tr>\n",
       "      <th>std</th>\n",
       "      <td>2.521476</td>\n",
       "    </tr>\n",
       "    <tr>\n",
       "      <th>min</th>\n",
       "      <td>-1.000000</td>\n",
       "    </tr>\n",
       "    <tr>\n",
       "      <th>25%</th>\n",
       "      <td>-1.000000</td>\n",
       "    </tr>\n",
       "    <tr>\n",
       "      <th>50%</th>\n",
       "      <td>-1.000000</td>\n",
       "    </tr>\n",
       "    <tr>\n",
       "      <th>75%</th>\n",
       "      <td>4.000000</td>\n",
       "    </tr>\n",
       "    <tr>\n",
       "      <th>max</th>\n",
       "      <td>5.000000</td>\n",
       "    </tr>\n",
       "  </tbody>\n",
       "</table>\n",
       "</div>"
      ],
      "text/plain": [
       "movie           1\n",
       "count  943.000000\n",
       "mean     1.338282\n",
       "std      2.521476\n",
       "min     -1.000000\n",
       "25%     -1.000000\n",
       "50%     -1.000000\n",
       "75%      4.000000\n",
       "max      5.000000"
      ]
     },
     "execution_count": 8,
     "metadata": {},
     "output_type": "execute_result"
    }
   ],
   "source": [
    "# Feature # 1 info\n",
    "features[[1]].describe()"
   ]
  },
  {
   "cell_type": "markdown",
   "metadata": {
    "collapsed": true
   },
   "source": [
    "---\n",
    "### Matrix Factorization\n",
    "#### SVD - Singular Value Decomposition on mainmatrix (feature matrix)\n",
    "\n",
    "Let us define:\n",
    "\n",
    "$k$ : Number of Latent Features (Rank of our matrix)\n",
    "\n",
    "$k$ is the rank of the dataframe - **In the Upper bound on the number of latent features**\n",
    "\n",
    "\n",
    "\n",
    "0 < Lower dimensional space < $k$   :  Extracting the $k$ features that represent the 90% of the variance per the pareto chart. \n",
    "\n",
    "** Decomposing our MainMatrix $A_k$ (__m__ x __n__)  into 3 component matrices **\n",
    "\n",
    "\n",
    "$k$ - Lower dimensional space / Projecting into a lower dimesional space\n",
    "\n",
    "\n",
    "* __m__: # of users\n",
    "* __n__: # of items\n",
    "* __k__: # of latent features (also rank of the __df__)\n",
    "\n",
    "__A__$_k$ = $U_k$  $S_k$  $V_k^T$\n",
    "\n",
    "Where:\n",
    "\n",
    "$U_k$ : Users\n",
    "\n",
    "$S_k$ : Sigma - **eigenvalues** - Singular Values (Topics / Theme Space / Concepts)\n",
    "\n",
    "$V_k^T$ : Feature Item\n",
    "\n",
    "---\n",
    "\n",
    "__$A_k$__ is our feature-matrix: user-book rating matrix (__m__ x __n__)\n",
    "\n",
    "- **U** is our __weights__ matrix (__m__ x __k__) --> __User to topic matrix__\n",
    "- **S** is our __singular values__ matrix (__k__ x __k__) --> __eigenvalues/latent features (Topics)__\n",
    "- and **V*** is our __features__ matrix (__k__ x __n__) --> item (book) __feature to topic__\n",
    "\n",
    "The larger the singular value (**S** matrix), the more important that latent feature.  \n",
    "\n",
    "Since **U** and **V** are orthogonal to each other, we can rearrange them in order of **decreasing singular values.  If we want to reduce the dimension, we simply set a threshold for which columns/rows to cut off (low rank approximation):\n",
    "\n",
    "You can think of the weights matrix **U** as representing how much of each latent feature corresponds to each user, and the features matrix **V** as how much of each item/rating contributes to the latent features."
   ]
  },
  {
   "cell_type": "code",
   "execution_count": 12,
   "metadata": {
    "collapsed": false
   },
   "outputs": [],
   "source": [
    "U_, S, VT =  svd(features.as_matrix())"
   ]
  },
  {
   "cell_type": "markdown",
   "metadata": {
    "collapsed": true
   },
   "source": [
    "#### Energy - Singular values are square roots of eigenvalues\n",
    "\n",
    "Energy is the same as variance of a dimension and we can compute it simply by squaring the singular values.\n",
    "\n",
    "singular values are square roots of eigenvalues"
   ]
  },
  {
   "cell_type": "code",
   "execution_count": 13,
   "metadata": {
    "collapsed": false
   },
   "outputs": [
    {
     "data": {
      "text/plain": [
       "(0, 20000)"
      ]
     },
     "execution_count": 13,
     "metadata": {},
     "output_type": "execute_result"
    },
    {
     "data": {
      "image/png": "[encoded data removed]",
      "text/plain": [
       "<matplotlib.figure.Figure at 0x11d014550>"
      ]
     },
     "metadata": {},
     "output_type": "display_data"
    }
   ],
   "source": [
    "energy_ = S**2\n",
    "power_ = np.sum(S**2)\n",
    "plt.figure(figsize=(12, 6))\n",
    "plt.plot(energy_, '.')\n",
    "plt.ylim(0, 20000)"
   ]
  },
  {
   "cell_type": "code",
   "execution_count": 14,
   "metadata": {
    "collapsed": false
   },
   "outputs": [
    {
     "data": {
      "image/png": "[encoded data removed]",
      "text/plain": [
       "<matplotlib.figure.Figure at 0x117410710>"
      ]
     },
     "metadata": {},
     "output_type": "display_data"
    }
   ],
   "source": [
    "plt.figure(figsize=(12, 6))\n",
    "plt.plot(np.cumsum(energy_)/sum(energy_))\n",
    "plt.hlines(0.9, *plt.gca().get_xlim(), linestyle='dashed', color='red');"
   ]
  },
  {
   "cell_type": "code",
   "execution_count": 15,
   "metadata": {
    "collapsed": false
   },
   "outputs": [
    {
     "data": {
      "text/plain": [
       "231"
      ]
     },
     "execution_count": 15,
     "metadata": {},
     "output_type": "execute_result"
    }
   ],
   "source": [
    "feature_variance = np.cumsum(energy_)/sum(energy_)\n",
    "#feature_variance\n",
    "threshold_90variance = np.argmax(np.cumsum(energy_) >= power_*0.9)\n",
    "threshold_90variance"
   ]
  },
  {
   "cell_type": "code",
   "execution_count": 16,
   "metadata": {
    "collapsed": false
   },
   "outputs": [
    {
     "data": {
      "text/plain": [
       "0.90054744325451064"
      ]
     },
     "execution_count": 16,
     "metadata": {},
     "output_type": "execute_result"
    }
   ],
   "source": [
    "sum((S**2)[:232])/sum((S**2))"
   ]
  },
  {
   "cell_type": "markdown",
   "metadata": {
    "collapsed": true
   },
   "source": [
    "## Concep, Topic space\n",
    "\n",
    "- mainmatrix : (__m__ x __n__)\n",
    "\n",
    "\n",
    "- $U$ rows connects Users to Concepts(Topics) (__m__ x __k__)\n",
    "\n",
    "\n",
    "- $V^T$ rows connects Concept to Movies (__k__ x __n__)\n",
    "\n",
    "$U$ and $V^T$ are ortogonal matrices \n",
    "\n",
    "## keep 10 topics\n",
    "\n",
    "$U$ and $V^T$ are ortogonal matrices \n",
    "\n",
    "```\n",
    "v10 = VT[:10,:]   # Rows\n",
    "\n",
    "u10 = U_[:,:10]    # Columns\n",
    "```"
   ]
  },
  {
   "cell_type": "code",
   "execution_count": 17,
   "metadata": {
    "collapsed": false
   },
   "outputs": [],
   "source": [
    "v10 = VT[:10, :]"
   ]
  },
  {
   "cell_type": "code",
   "execution_count": 18,
   "metadata": {
    "collapsed": true
   },
   "outputs": [],
   "source": [
    "u10 = U_[:, :10]"
   ]
  },
  {
   "cell_type": "markdown",
   "metadata": {},
   "source": [
    "### Concepts /  Topics\n",
    "#### Obtaining $V^T$ column index\n",
    "#### Selecting Concept (Topic) \n",
    "\n",
    "Concept number : 0\n",
    "#### Selecting and Sorting the first row : \n",
    "```\n",
    "Concept 0  =  Sort to obtain how much of each item/rating(column from mainmatrix) contributes to the latent features.\n",
    "\n",
    "[-5:] # Selecting top 5 items\n",
    "\n",
    "[::-1] # Descending order : mayor to lower to obtain the mayor contributors to the latent features```"
   ]
  },
  {
   "cell_type": "code",
   "execution_count": 19,
   "metadata": {
    "collapsed": false
   },
   "outputs": [
    {
     "data": {
      "text/plain": [
       "array([1650, 1635, 1644, 1649, 1584])"
      ]
     },
     "execution_count": 19,
     "metadata": {},
     "output_type": "execute_result"
    }
   ],
   "source": [
    "topic_0 = VT[0].argsort()[::-1][:5]\n",
    "topic_0"
   ]
  },
  {
   "cell_type": "code",
   "execution_count": 20,
   "metadata": {
    "collapsed": false
   },
   "outputs": [
    {
     "data": {
      "text/plain": [
       "Int64Index([1651, 1636, 1645, 1650, 1585], dtype='int64', name=u'movie')"
      ]
     },
     "execution_count": 20,
     "metadata": {},
     "output_type": "execute_result"
    }
   ],
   "source": [
    "features.columns[topic_0]"
   ]
  },
  {
   "cell_type": "code",
   "execution_count": 21,
   "metadata": {
    "collapsed": false
   },
   "outputs": [
    {
     "data": {
      "text/html": [
       "<div>\n",
       "<table border=\"1\" class=\"dataframe\">\n",
       "  <thead>\n",
       "    <tr style=\"text-align: right;\">\n",
       "      <th></th>\n",
       "      <th>movie_id</th>\n",
       "      <th>title</th>\n",
       "      <th>release</th>\n",
       "      <th>video_release</th>\n",
       "      <th>imdb</th>\n",
       "      <th>unknown</th>\n",
       "      <th>Action</th>\n",
       "      <th>Adventure</th>\n",
       "      <th>Animation</th>\n",
       "      <th>Children</th>\n",
       "      <th>...</th>\n",
       "      <th>Fantasy</th>\n",
       "      <th>Film-Noir</th>\n",
       "      <th>Horror</th>\n",
       "      <th>Musical</th>\n",
       "      <th>Mystery</th>\n",
       "      <th>Romance</th>\n",
       "      <th>Sci-Fi</th>\n",
       "      <th>Thriller</th>\n",
       "      <th>War</th>\n",
       "      <th>Western</th>\n",
       "    </tr>\n",
       "  </thead>\n",
       "  <tbody>\n",
       "    <tr>\n",
       "      <th>0</th>\n",
       "      <td>1</td>\n",
       "      <td>Toy Story (1995)</td>\n",
       "      <td>01-Jan-1995</td>\n",
       "      <td>NaN</td>\n",
       "      <td>http://us.imdb.com/M/title-exact?Toy%20Story%2...</td>\n",
       "      <td>0</td>\n",
       "      <td>0</td>\n",
       "      <td>0</td>\n",
       "      <td>1</td>\n",
       "      <td>1</td>\n",
       "      <td>...</td>\n",
       "      <td>0</td>\n",
       "      <td>0</td>\n",
       "      <td>0</td>\n",
       "      <td>0</td>\n",
       "      <td>0</td>\n",
       "      <td>0</td>\n",
       "      <td>0</td>\n",
       "      <td>0</td>\n",
       "      <td>0</td>\n",
       "      <td>0</td>\n",
       "    </tr>\n",
       "    <tr>\n",
       "      <th>1</th>\n",
       "      <td>2</td>\n",
       "      <td>GoldenEye (1995)</td>\n",
       "      <td>01-Jan-1995</td>\n",
       "      <td>NaN</td>\n",
       "      <td>http://us.imdb.com/M/title-exact?GoldenEye%20(...</td>\n",
       "      <td>0</td>\n",
       "      <td>1</td>\n",
       "      <td>1</td>\n",
       "      <td>0</td>\n",
       "      <td>0</td>\n",
       "      <td>...</td>\n",
       "      <td>0</td>\n",
       "      <td>0</td>\n",
       "      <td>0</td>\n",
       "      <td>0</td>\n",
       "      <td>0</td>\n",
       "      <td>0</td>\n",
       "      <td>0</td>\n",
       "      <td>1</td>\n",
       "      <td>0</td>\n",
       "      <td>0</td>\n",
       "    </tr>\n",
       "  </tbody>\n",
       "</table>\n",
       "<p>2 rows × 24 columns</p>\n",
       "</div>"
      ],
      "text/plain": [
       "   movie_id             title      release  video_release  \\\n",
       "0         1  Toy Story (1995)  01-Jan-1995            NaN   \n",
       "1         2  GoldenEye (1995)  01-Jan-1995            NaN   \n",
       "\n",
       "                                                imdb  unknown  Action  \\\n",
       "0  http://us.imdb.com/M/title-exact?Toy%20Story%2...        0       0   \n",
       "1  http://us.imdb.com/M/title-exact?GoldenEye%20(...        0       1   \n",
       "\n",
       "   Adventure  Animation  Children   ...     Fantasy  Film-Noir  Horror  \\\n",
       "0          0          1         1   ...           0          0       0   \n",
       "1          1          0         0   ...           0          0       0   \n",
       "\n",
       "   Musical  Mystery  Romance  Sci-Fi  Thriller  War  Western  \n",
       "0        0        0        0       0         0    0        0  \n",
       "1        0        0        0       0         1    0        0  \n",
       "\n",
       "[2 rows x 24 columns]"
      ]
     },
     "execution_count": 21,
     "metadata": {},
     "output_type": "execute_result"
    }
   ],
   "source": [
    "movies_data = pd.read_table('data/data/u.item', sep='|', names=['movie_id', 'title', 'release', 'video_release', 'imdb', 'unknown','Action','Adventure','Animation', 'Children', 'Comedy' ,'Crime' ,'Documentary' ,'Drama','Fantasy','Film-Noir','Horror','Musical','Mystery','Romance','Sci-Fi','Thriller','War','Western'])\n",
    "movies_data[:2]"
   ]
  },
  {
   "cell_type": "code",
   "execution_count": 77,
   "metadata": {
    "collapsed": false
   },
   "outputs": [
    {
     "name": "stdout",
     "output_type": "stream",
     "text": [
      "<class 'pandas.core.frame.DataFrame'>\n",
      "RangeIndex: 1682 entries, 0 to 1681\n",
      "Data columns (total 24 columns):\n",
      "movie_id         1682 non-null int64\n",
      "title            1682 non-null object\n",
      "release          1681 non-null object\n",
      "video_release    0 non-null float64\n",
      "imdb             1679 non-null object\n",
      "unknown          1682 non-null int64\n",
      "Action           1682 non-null int64\n",
      "Adventure        1682 non-null int64\n",
      "Animation        1682 non-null int64\n",
      "Children         1682 non-null int64\n",
      "Comedy           1682 non-null int64\n",
      "Crime            1682 non-null int64\n",
      "Documentary      1682 non-null int64\n",
      "Drama            1682 non-null int64\n",
      "Fantasy          1682 non-null int64\n",
      "Film-Noir        1682 non-null int64\n",
      "Horror           1682 non-null int64\n",
      "Musical          1682 non-null int64\n",
      "Mystery          1682 non-null int64\n",
      "Romance          1682 non-null int64\n",
      "Sci-Fi           1682 non-null int64\n",
      "Thriller         1682 non-null int64\n",
      "War              1682 non-null int64\n",
      "Western          1682 non-null int64\n",
      "dtypes: float64(1), int64(20), object(3)\n",
      "memory usage: 315.4+ KB\n"
     ]
    }
   ],
   "source": [
    "movies_data.info()"
   ]
  },
  {
   "cell_type": "markdown",
   "metadata": {},
   "source": [
    "#### Movies \n",
    "\n",
    "- Movies Index and Title"
   ]
  },
  {
   "cell_type": "code",
   "execution_count": 22,
   "metadata": {
    "collapsed": false
   },
   "outputs": [
    {
     "data": {
      "text/plain": [
       "movie_id\n",
       "1     Toy Story (1995)\n",
       "2     GoldenEye (1995)\n",
       "3    Four Rooms (1995)\n",
       "4    Get Shorty (1995)\n",
       "Name: title, dtype: object"
      ]
     },
     "execution_count": 22,
     "metadata": {},
     "output_type": "execute_result"
    }
   ],
   "source": [
    "movies_name = movies_data.set_index('movie_id')['title']\n",
    "movies_name[:4]"
   ]
  },
  {
   "cell_type": "code",
   "execution_count": 23,
   "metadata": {
    "collapsed": false
   },
   "outputs": [
    {
     "data": {
      "text/plain": [
       "'Toy Story (1995)'"
      ]
     },
     "execution_count": 23,
     "metadata": {},
     "output_type": "execute_result"
    }
   ],
   "source": [
    "movies_name[1]"
   ]
  },
  {
   "cell_type": "markdown",
   "metadata": {
    "collapsed": true
   },
   "source": [
    "#### Connecting Concept(Topics) to Movies\n",
    "- $V^T$ rows connects Concept to Books (__k__ x __n__)\n",
    "\n",
    "#### Movie_names :  Index 'movie_id'  >>   ['Movie-Title']\n",
    "\n",
    "- mainmatrix : (__m__ x __n__)\n",
    "\n",
    "\n",
    "* __m__: # of User-ID\n",
    "* __n__: # of ISBN\n",
    "\n",
    "- *__Top ISBN by User__*: Top Rating by User:  mainmatrix.columns[topconcept_index]"
   ]
  },
  {
   "cell_type": "code",
   "execution_count": 24,
   "metadata": {
    "collapsed": false
   },
   "outputs": [
    {
     "data": {
      "text/plain": [
       "array([1650, 1635, 1644, 1649, 1584])"
      ]
     },
     "execution_count": 24,
     "metadata": {},
     "output_type": "execute_result"
    }
   ],
   "source": [
    "VT[0].argsort()[::-1][:5]"
   ]
  },
  {
   "cell_type": "code",
   "execution_count": 25,
   "metadata": {
    "collapsed": false
   },
   "outputs": [
    {
     "data": {
      "text/plain": [
       "array([173, 171,  97, 203,  55])"
      ]
     },
     "execution_count": 25,
     "metadata": {},
     "output_type": "execute_result"
    }
   ],
   "source": [
    "VT[1].argsort()[::-1][:5]"
   ]
  },
  {
   "cell_type": "code",
   "execution_count": 26,
   "metadata": {
    "collapsed": false
   },
   "outputs": [
    {
     "name": "stdout",
     "output_type": "stream",
     "text": [
      "10\n"
     ]
    },
    {
     "data": {
      "text/plain": [
       "array([1650, 1635, 1644, 1649, 1584,  912, 1629, 1631, 1632, 1634])"
      ]
     },
     "execution_count": 26,
     "metadata": {},
     "output_type": "execute_result"
    }
   ],
   "source": [
    "# [::-1] Descending order : mayor to lower\n",
    "toplatent_feature_index_ = VT[0].argsort()[::-1][:10]\n",
    "print len(toplatent_feature_index_)\n",
    "toplatent_feature_index_"
   ]
  },
  {
   "cell_type": "code",
   "execution_count": 27,
   "metadata": {
    "collapsed": false
   },
   "outputs": [
    {
     "data": {
      "text/plain": [
       "Int64Index([1651, 1636, 1645, 1650, 1585, 913, 1630, 1632, 1633, 1635], dtype='int64', name=u'movie')"
      ]
     },
     "execution_count": 27,
     "metadata": {},
     "output_type": "execute_result"
    }
   ],
   "source": [
    "features.columns[toplatent_feature_index_]"
   ]
  },
  {
   "cell_type": "code",
   "execution_count": 28,
   "metadata": {
    "collapsed": false
   },
   "outputs": [
    {
     "data": {
      "text/plain": [
       "movie\n",
       "1651                         Spanish Prisoner, The (1997)\n",
       "1636                           Brothers in Trouble (1995)\n",
       "1645                              Butcher Boy, The (1998)\n",
       "1650                              Butcher Boy, The (1998)\n",
       "1585                                American Dream (1990)\n",
       "913                  Love and Death on Long Island (1997)\n",
       "1630    Silence of the Palace, The (Saimt el Qusur) (1...\n",
       "1632          Land and Freedom (Tierra y libertad) (1995)\n",
       "1633                   � k�ldum klaka (Cold Fever) (1994)\n",
       "1635                                  Two Friends (1986) \n",
       "Name: title, dtype: object"
      ]
     },
     "execution_count": 28,
     "metadata": {},
     "output_type": "execute_result"
    }
   ],
   "source": [
    "latent_feature_index_ = features.columns[toplatent_feature_index_]\n",
    "movies_name[latent_feature_index_]"
   ]
  },
  {
   "cell_type": "code",
   "execution_count": 31,
   "metadata": {
    "collapsed": true
   },
   "outputs": [],
   "source": [
    "def top_movies_by_topic(df_ranking, v_t, topic=None, movie_list=None):\n",
    "    top_latent_feature_index = v_t[topic].argsort()[::-1][:movie_list]\n",
    "    latent_feature_index = df_ranking.columns[top_latent_feature_index]\n",
    "    return movies_name[latent_feature_index]"
   ]
  },
  {
   "cell_type": "code",
   "execution_count": 45,
   "metadata": {
    "collapsed": false
   },
   "outputs": [
    {
     "data": {
      "text/plain": [
       "movie\n",
       "1651    Spanish Prisoner, The (1997)\n",
       "1636      Brothers in Trouble (1995)\n",
       "1645         Butcher Boy, The (1998)\n",
       "Name: title, dtype: object"
      ]
     },
     "execution_count": 45,
     "metadata": {},
     "output_type": "execute_result"
    }
   ],
   "source": [
    "top_movies_by_topic(features, VT, 0, 3)"
   ]
  },
  {
   "cell_type": "code",
   "execution_count": 34,
   "metadata": {
    "collapsed": false
   },
   "outputs": [
    {
     "name": "stdout",
     "output_type": "stream",
     "text": [
      "Topic: 0\n",
      "movie\n",
      "1651    Spanish Prisoner, The (1997)\n",
      "1636      Brothers in Trouble (1995)\n",
      "1645         Butcher Boy, The (1998)\n",
      "1650         Butcher Boy, The (1998)\n",
      "1585           American Dream (1990)\n",
      "Name: title, dtype: object\n",
      "\n",
      "Topic: 1\n",
      "movie\n",
      "174      Raiders of the Lost Ark (1981)\n",
      "172     Empire Strikes Back, The (1980)\n",
      "98     Silence of the Lambs, The (1991)\n",
      "204           Back to the Future (1985)\n",
      "56                  Pulp Fiction (1994)\n",
      "Name: title, dtype: object\n",
      "\n",
      "Topic: 2\n",
      "movie\n",
      "514       Annie Hall (1977)\n",
      "197    Graduate, The (1967)\n",
      "134     Citizen Kane (1941)\n",
      "483       Casablanca (1942)\n",
      "603      Rear Window (1954)\n",
      "Name: title, dtype: object\n",
      "\n"
     ]
    }
   ],
   "source": [
    "# 232 concept(topics) accounts for 90% of the energy(Variance)\n",
    "# total topics for 90% of variance = 232\n",
    "topics = 3\n",
    "for i in range(topics):\n",
    "    print 'Topic: {}'.format(i)\n",
    "    print top_movies_by_topic(features, VT, i, 5)\n",
    "    print''"
   ]
  },
  {
   "cell_type": "markdown",
   "metadata": {},
   "source": [
    "### User - Concept\n",
    "#### Getting recomendation for a user"
   ]
  },
  {
   "cell_type": "code",
   "execution_count": 36,
   "metadata": {
    "collapsed": false
   },
   "outputs": [
    {
     "data": {
      "text/plain": [
       "(943, 943)"
      ]
     },
     "execution_count": 36,
     "metadata": {},
     "output_type": "execute_result"
    }
   ],
   "source": [
    "U_.shape"
   ]
  },
  {
   "cell_type": "code",
   "execution_count": 38,
   "metadata": {
    "collapsed": false
   },
   "outputs": [
    {
     "data": {
      "text/plain": [
       "array([194, 100, 265,  34])"
      ]
     },
     "execution_count": 38,
     "metadata": {},
     "output_type": "execute_result"
    }
   ],
   "source": [
    "user0_toptopics = U_[0].argsort()[::-1][:4]\n",
    "user0_toptopics"
   ]
  },
  {
   "cell_type": "code",
   "execution_count": 41,
   "metadata": {
    "collapsed": false
   },
   "outputs": [
    {
     "name": "stdout",
     "output_type": "stream",
     "text": [
      "User 0 \n",
      "Top Books by Top Concept/Topic: 194\n",
      "movie\n",
      "458                       Nixon (1995)\n",
      "172    Empire Strikes Back, The (1980)\n",
      "204          Back to the Future (1985)\n",
      "86      Remains of the Day, The (1993)\n",
      "742                      Ransom (1996)\n",
      "Name: title, dtype: object\n",
      "\n",
      "User 0 \n",
      "Top Books by Top Concept/Topic: 100\n",
      "movie\n",
      "24                         Rumble in the Bronx (1995)\n",
      "527                                     Gandhi (1982)\n",
      "300                              Air Force One (1997)\n",
      "109    Mystery Science Theater 3000: The Movie (1996)\n",
      "526                                    Ben-Hur (1959)\n",
      "Name: title, dtype: object\n",
      "\n",
      "User 0 \n",
      "Top Books by Top Concept/Topic: 265\n",
      "movie\n",
      "282    Time to Kill, A (1996)\n",
      "525     Big Sleep, The (1946)\n",
      "346       Jackie Brown (1997)\n",
      "469         Short Cuts (1993)\n",
      "183              Alien (1979)\n",
      "Name: title, dtype: object\n",
      "\n",
      "User 0 \n",
      "Top Books by Top Concept/Topic: 34\n",
      "movie\n",
      "7                   Twelve Monkeys (1995)\n",
      "302              L.A. Confidential (1997)\n",
      "87     Searching for Bobby Fischer (1993)\n",
      "97              Dances with Wolves (1990)\n",
      "13                Mighty Aphrodite (1995)\n",
      "Name: title, dtype: object\n",
      "\n"
     ]
    }
   ],
   "source": [
    "for concept in user0_toptopics:\n",
    "    print 'User 0 \\nTop Books by Top Concept/Topic: {}'.format(concept)\n",
    "    print top_movies_by_topic(features, VT, concept, 5)\n",
    "    print''"
   ]
  },
  {
   "cell_type": "markdown",
   "metadata": {},
   "source": [
    "---\n",
    "### Visualizing High Dimensional Data\n",
    "### SVD - Project 3"
   ]
  },
  {
   "cell_type": "code",
   "execution_count": 53,
   "metadata": {
    "collapsed": false
   },
   "outputs": [],
   "source": [
    "congress = {}\n",
    "\n",
    "# This would print all the files and directories\n",
    "for file_ in os.listdir('data/senate'):\n",
    "    senate = file_.split('.')[0]\n",
    "    congress[senate] = pd.read_csv('data/senate/' + file_)"
   ]
  },
  {
   "cell_type": "code",
   "execution_count": 58,
   "metadata": {
    "collapsed": false
   },
   "outputs": [
    {
     "data": {
      "text/plain": [
       "['s108',\n",
       " 's109',\n",
       " 's104',\n",
       " 's105',\n",
       " 's106',\n",
       " 's107',\n",
       " 's101',\n",
       " 's102',\n",
       " 's103',\n",
       " 's111',\n",
       " 's110']"
      ]
     },
     "execution_count": 58,
     "metadata": {},
     "output_type": "execute_result"
    }
   ],
   "source": [
    "congress.keys()"
   ]
  },
  {
   "cell_type": "code",
   "execution_count": 62,
   "metadata": {
    "collapsed": false
   },
   "outputs": [
    {
     "data": {
      "text/html": [
       "<div>\n",
       "<table border=\"1\" class=\"dataframe\">\n",
       "  <thead>\n",
       "    <tr style=\"text-align: right;\">\n",
       "      <th></th>\n",
       "      <th>Unnamed: 0</th>\n",
       "      <th>cong</th>\n",
       "      <th>id</th>\n",
       "      <th>state</th>\n",
       "      <th>dist</th>\n",
       "      <th>lstate</th>\n",
       "      <th>party</th>\n",
       "      <th>eh1</th>\n",
       "      <th>eh2</th>\n",
       "      <th>name</th>\n",
       "      <th>...</th>\n",
       "      <th>V629</th>\n",
       "      <th>V630</th>\n",
       "      <th>V631</th>\n",
       "      <th>V632</th>\n",
       "      <th>V633</th>\n",
       "      <th>V634</th>\n",
       "      <th>V635</th>\n",
       "      <th>V636</th>\n",
       "      <th>V637</th>\n",
       "      <th>V638</th>\n",
       "    </tr>\n",
       "  </thead>\n",
       "  <tbody>\n",
       "    <tr>\n",
       "      <th>0</th>\n",
       "      <td>1</td>\n",
       "      <td>101</td>\n",
       "      <td>99908</td>\n",
       "      <td>99</td>\n",
       "      <td>0</td>\n",
       "      <td>USA</td>\n",
       "      <td>200</td>\n",
       "      <td>0</td>\n",
       "      <td>0</td>\n",
       "      <td>BUSH</td>\n",
       "      <td>...</td>\n",
       "      <td>9</td>\n",
       "      <td>9</td>\n",
       "      <td>9</td>\n",
       "      <td>9</td>\n",
       "      <td>9</td>\n",
       "      <td>9</td>\n",
       "      <td>9</td>\n",
       "      <td>9</td>\n",
       "      <td>9</td>\n",
       "      <td>1</td>\n",
       "    </tr>\n",
       "    <tr>\n",
       "      <th>1</th>\n",
       "      <td>2</td>\n",
       "      <td>101</td>\n",
       "      <td>14659</td>\n",
       "      <td>41</td>\n",
       "      <td>0</td>\n",
       "      <td>ALABAMA</td>\n",
       "      <td>100</td>\n",
       "      <td>0</td>\n",
       "      <td>1</td>\n",
       "      <td>SHELBY, RIC</td>\n",
       "      <td>...</td>\n",
       "      <td>1</td>\n",
       "      <td>1</td>\n",
       "      <td>1</td>\n",
       "      <td>1</td>\n",
       "      <td>1</td>\n",
       "      <td>1</td>\n",
       "      <td>1</td>\n",
       "      <td>1</td>\n",
       "      <td>1</td>\n",
       "      <td>6</td>\n",
       "    </tr>\n",
       "  </tbody>\n",
       "</table>\n",
       "<p>2 rows × 648 columns</p>\n",
       "</div>"
      ],
      "text/plain": [
       "   Unnamed: 0  cong     id  state  dist   lstate  party  eh1  eh2  \\\n",
       "0           1   101  99908     99     0  USA        200    0    0   \n",
       "1           2   101  14659     41     0  ALABAMA    100    0    1   \n",
       "\n",
       "          name  ...   V629  V630  V631  V632  V633  V634  V635  V636  V637  \\\n",
       "0  BUSH         ...      9     9     9     9     9     9     9     9     9   \n",
       "1  SHELBY, RIC  ...      1     1     1     1     1     1     1     1     1   \n",
       "\n",
       "   V638  \n",
       "0     1  \n",
       "1     6  \n",
       "\n",
       "[2 rows x 648 columns]"
      ]
     },
     "execution_count": 62,
     "metadata": {},
     "output_type": "execute_result"
    }
   ],
   "source": [
    "congress['s101'][:2]"
   ]
  },
  {
   "cell_type": "markdown",
   "metadata": {},
   "source": [
    "#### More efficient way to load the file"
   ]
  },
  {
   "cell_type": "code",
   "execution_count": 67,
   "metadata": {
    "collapsed": false
   },
   "outputs": [
    {
     "data": {
      "text/plain": [
       "['data/senate/s101.csv',\n",
       " 'data/senate/s102.csv',\n",
       " 'data/senate/s103.csv',\n",
       " 'data/senate/s104.csv',\n",
       " 'data/senate/s105.csv',\n",
       " 'data/senate/s106.csv',\n",
       " 'data/senate/s107.csv',\n",
       " 'data/senate/s108.csv',\n",
       " 'data/senate/s109.csv',\n",
       " 'data/senate/s110.csv',\n",
       " 'data/senate/s111.csv']"
      ]
     },
     "execution_count": 67,
     "metadata": {},
     "output_type": "execute_result"
    }
   ],
   "source": [
    "df_list = glob.glob('data/senate/*.csv')\n",
    "df_list"
   ]
  },
  {
   "cell_type": "code",
   "execution_count": 69,
   "metadata": {
    "collapsed": false
   },
   "outputs": [
    {
     "data": {
      "text/html": [
       "<div>\n",
       "<table border=\"1\" class=\"dataframe\">\n",
       "  <thead>\n",
       "    <tr style=\"text-align: right;\">\n",
       "      <th></th>\n",
       "      <th>V1</th>\n",
       "      <th>V10</th>\n",
       "      <th>V100</th>\n",
       "      <th>V101</th>\n",
       "      <th>V102</th>\n",
       "      <th>V103</th>\n",
       "      <th>V104</th>\n",
       "      <th>V105</th>\n",
       "      <th>V106</th>\n",
       "      <th>V107</th>\n",
       "      <th>...</th>\n",
       "      <th>var90</th>\n",
       "      <th>var91</th>\n",
       "      <th>var92</th>\n",
       "      <th>var93</th>\n",
       "      <th>var94</th>\n",
       "      <th>var95</th>\n",
       "      <th>var96</th>\n",
       "      <th>var97</th>\n",
       "      <th>var98</th>\n",
       "      <th>var99</th>\n",
       "    </tr>\n",
       "  </thead>\n",
       "  <tbody>\n",
       "    <tr>\n",
       "      <th>0</th>\n",
       "      <td>1.0</td>\n",
       "      <td>1.0</td>\n",
       "      <td>9.0</td>\n",
       "      <td>9.0</td>\n",
       "      <td>9.0</td>\n",
       "      <td>9.0</td>\n",
       "      <td>9.0</td>\n",
       "      <td>1.0</td>\n",
       "      <td>9.0</td>\n",
       "      <td>9.0</td>\n",
       "      <td>...</td>\n",
       "      <td>NaN</td>\n",
       "      <td>NaN</td>\n",
       "      <td>NaN</td>\n",
       "      <td>NaN</td>\n",
       "      <td>NaN</td>\n",
       "      <td>NaN</td>\n",
       "      <td>NaN</td>\n",
       "      <td>NaN</td>\n",
       "      <td>NaN</td>\n",
       "      <td>NaN</td>\n",
       "    </tr>\n",
       "    <tr>\n",
       "      <th>1</th>\n",
       "      <td>1.0</td>\n",
       "      <td>1.0</td>\n",
       "      <td>1.0</td>\n",
       "      <td>6.0</td>\n",
       "      <td>1.0</td>\n",
       "      <td>1.0</td>\n",
       "      <td>1.0</td>\n",
       "      <td>1.0</td>\n",
       "      <td>1.0</td>\n",
       "      <td>6.0</td>\n",
       "      <td>...</td>\n",
       "      <td>NaN</td>\n",
       "      <td>NaN</td>\n",
       "      <td>NaN</td>\n",
       "      <td>NaN</td>\n",
       "      <td>NaN</td>\n",
       "      <td>NaN</td>\n",
       "      <td>NaN</td>\n",
       "      <td>NaN</td>\n",
       "      <td>NaN</td>\n",
       "      <td>NaN</td>\n",
       "    </tr>\n",
       "    <tr>\n",
       "      <th>2</th>\n",
       "      <td>1.0</td>\n",
       "      <td>1.0</td>\n",
       "      <td>6.0</td>\n",
       "      <td>6.0</td>\n",
       "      <td>6.0</td>\n",
       "      <td>1.0</td>\n",
       "      <td>1.0</td>\n",
       "      <td>1.0</td>\n",
       "      <td>6.0</td>\n",
       "      <td>1.0</td>\n",
       "      <td>...</td>\n",
       "      <td>NaN</td>\n",
       "      <td>NaN</td>\n",
       "      <td>NaN</td>\n",
       "      <td>NaN</td>\n",
       "      <td>NaN</td>\n",
       "      <td>NaN</td>\n",
       "      <td>NaN</td>\n",
       "      <td>NaN</td>\n",
       "      <td>NaN</td>\n",
       "      <td>NaN</td>\n",
       "    </tr>\n",
       "    <tr>\n",
       "      <th>3</th>\n",
       "      <td>1.0</td>\n",
       "      <td>1.0</td>\n",
       "      <td>6.0</td>\n",
       "      <td>1.0</td>\n",
       "      <td>6.0</td>\n",
       "      <td>6.0</td>\n",
       "      <td>1.0</td>\n",
       "      <td>1.0</td>\n",
       "      <td>1.0</td>\n",
       "      <td>1.0</td>\n",
       "      <td>...</td>\n",
       "      <td>NaN</td>\n",
       "      <td>NaN</td>\n",
       "      <td>NaN</td>\n",
       "      <td>NaN</td>\n",
       "      <td>NaN</td>\n",
       "      <td>NaN</td>\n",
       "      <td>NaN</td>\n",
       "      <td>NaN</td>\n",
       "      <td>NaN</td>\n",
       "      <td>NaN</td>\n",
       "    </tr>\n",
       "  </tbody>\n",
       "</table>\n",
       "<p>4 rows × 1613 columns</p>\n",
       "</div>"
      ],
      "text/plain": [
       "    V1  V10  V100  V101  V102  V103  V104  V105  V106  V107  ...    var90  \\\n",
       "0  1.0  1.0   9.0   9.0   9.0   9.0   9.0   1.0   9.0   9.0  ...      NaN   \n",
       "1  1.0  1.0   1.0   6.0   1.0   1.0   1.0   1.0   1.0   6.0  ...      NaN   \n",
       "2  1.0  1.0   6.0   6.0   6.0   1.0   1.0   1.0   6.0   1.0  ...      NaN   \n",
       "3  1.0  1.0   6.0   1.0   6.0   6.0   1.0   1.0   1.0   1.0  ...      NaN   \n",
       "\n",
       "   var91  var92  var93  var94  var95  var96  var97  var98  var99  \n",
       "0    NaN    NaN    NaN    NaN    NaN    NaN    NaN    NaN    NaN  \n",
       "1    NaN    NaN    NaN    NaN    NaN    NaN    NaN    NaN    NaN  \n",
       "2    NaN    NaN    NaN    NaN    NaN    NaN    NaN    NaN    NaN  \n",
       "3    NaN    NaN    NaN    NaN    NaN    NaN    NaN    NaN    NaN  \n",
       "\n",
       "[4 rows x 1613 columns]"
      ]
     },
     "execution_count": 69,
     "metadata": {},
     "output_type": "execute_result"
    }
   ],
   "source": [
    "# Making one unique file of all the df_list\n",
    "dfs = pd.concat([pd.read_csv(df, index_col=0) for df in df_list], ignore_index=True)\n",
    "dfs[:4]"
   ]
  },
  {
   "cell_type": "code",
   "execution_count": 148,
   "metadata": {
    "collapsed": false
   },
   "outputs": [
    {
     "data": {
      "text/plain": [
       "array([ 101.,  102.,  103.,  104.,  105.,   nan,  107.,  109.,  110.,  111.])"
      ]
     },
     "execution_count": 148,
     "metadata": {},
     "output_type": "execute_result"
    }
   ],
   "source": [
    "dfs.cong.unique()"
   ]
  },
  {
   "cell_type": "code",
   "execution_count": 70,
   "metadata": {
    "collapsed": true
   },
   "outputs": [],
   "source": [
    "def mapping(num):\n",
    "    if num in [1, 2, 3]:\n",
    "        return 1\n",
    "    elif num in [4, 5, 6]:\n",
    "        return -1\n",
    "    elif num in [7, 8, 9, 0]:\n",
    "        return 0\n",
    "    else:\n",
    "        return num"
   ]
  },
  {
   "cell_type": "code",
   "execution_count": 71,
   "metadata": {
    "collapsed": true
   },
   "outputs": [],
   "source": [
    "# if all values are NA, drop that label\n",
    "mapped_votes = dfs.applymap(mapping).dropna(how='all').fillna(0)"
   ]
  },
  {
   "cell_type": "code",
   "execution_count": 73,
   "metadata": {
    "collapsed": false
   },
   "outputs": [
    {
     "data": {
      "text/html": [
       "<div>\n",
       "<table border=\"1\" class=\"dataframe\">\n",
       "  <thead>\n",
       "    <tr style=\"text-align: right;\">\n",
       "      <th></th>\n",
       "      <th>V1</th>\n",
       "      <th>V10</th>\n",
       "      <th>V100</th>\n",
       "      <th>V101</th>\n",
       "      <th>V102</th>\n",
       "      <th>V103</th>\n",
       "      <th>V104</th>\n",
       "      <th>V105</th>\n",
       "      <th>V106</th>\n",
       "      <th>V107</th>\n",
       "      <th>...</th>\n",
       "      <th>var90</th>\n",
       "      <th>var91</th>\n",
       "      <th>var92</th>\n",
       "      <th>var93</th>\n",
       "      <th>var94</th>\n",
       "      <th>var95</th>\n",
       "      <th>var96</th>\n",
       "      <th>var97</th>\n",
       "      <th>var98</th>\n",
       "      <th>var99</th>\n",
       "    </tr>\n",
       "  </thead>\n",
       "  <tbody>\n",
       "    <tr>\n",
       "      <th>0</th>\n",
       "      <td>1.0</td>\n",
       "      <td>1.0</td>\n",
       "      <td>0.0</td>\n",
       "      <td>0.0</td>\n",
       "      <td>0.0</td>\n",
       "      <td>0.0</td>\n",
       "      <td>0.0</td>\n",
       "      <td>1.0</td>\n",
       "      <td>0.0</td>\n",
       "      <td>0.0</td>\n",
       "      <td>...</td>\n",
       "      <td>0.0</td>\n",
       "      <td>0.0</td>\n",
       "      <td>0.0</td>\n",
       "      <td>0.0</td>\n",
       "      <td>0.0</td>\n",
       "      <td>0.0</td>\n",
       "      <td>0.0</td>\n",
       "      <td>0.0</td>\n",
       "      <td>0.0</td>\n",
       "      <td>0.0</td>\n",
       "    </tr>\n",
       "    <tr>\n",
       "      <th>1</th>\n",
       "      <td>1.0</td>\n",
       "      <td>1.0</td>\n",
       "      <td>1.0</td>\n",
       "      <td>-1.0</td>\n",
       "      <td>1.0</td>\n",
       "      <td>1.0</td>\n",
       "      <td>1.0</td>\n",
       "      <td>1.0</td>\n",
       "      <td>1.0</td>\n",
       "      <td>-1.0</td>\n",
       "      <td>...</td>\n",
       "      <td>0.0</td>\n",
       "      <td>0.0</td>\n",
       "      <td>0.0</td>\n",
       "      <td>0.0</td>\n",
       "      <td>0.0</td>\n",
       "      <td>0.0</td>\n",
       "      <td>0.0</td>\n",
       "      <td>0.0</td>\n",
       "      <td>0.0</td>\n",
       "      <td>0.0</td>\n",
       "    </tr>\n",
       "    <tr>\n",
       "      <th>2</th>\n",
       "      <td>1.0</td>\n",
       "      <td>1.0</td>\n",
       "      <td>-1.0</td>\n",
       "      <td>-1.0</td>\n",
       "      <td>-1.0</td>\n",
       "      <td>1.0</td>\n",
       "      <td>1.0</td>\n",
       "      <td>1.0</td>\n",
       "      <td>-1.0</td>\n",
       "      <td>1.0</td>\n",
       "      <td>...</td>\n",
       "      <td>0.0</td>\n",
       "      <td>0.0</td>\n",
       "      <td>0.0</td>\n",
       "      <td>0.0</td>\n",
       "      <td>0.0</td>\n",
       "      <td>0.0</td>\n",
       "      <td>0.0</td>\n",
       "      <td>0.0</td>\n",
       "      <td>0.0</td>\n",
       "      <td>0.0</td>\n",
       "    </tr>\n",
       "    <tr>\n",
       "      <th>3</th>\n",
       "      <td>1.0</td>\n",
       "      <td>1.0</td>\n",
       "      <td>-1.0</td>\n",
       "      <td>1.0</td>\n",
       "      <td>-1.0</td>\n",
       "      <td>-1.0</td>\n",
       "      <td>1.0</td>\n",
       "      <td>1.0</td>\n",
       "      <td>1.0</td>\n",
       "      <td>1.0</td>\n",
       "      <td>...</td>\n",
       "      <td>0.0</td>\n",
       "      <td>0.0</td>\n",
       "      <td>0.0</td>\n",
       "      <td>0.0</td>\n",
       "      <td>0.0</td>\n",
       "      <td>0.0</td>\n",
       "      <td>0.0</td>\n",
       "      <td>0.0</td>\n",
       "      <td>0.0</td>\n",
       "      <td>0.0</td>\n",
       "    </tr>\n",
       "  </tbody>\n",
       "</table>\n",
       "<p>4 rows × 1613 columns</p>\n",
       "</div>"
      ],
      "text/plain": [
       "    V1  V10  V100  V101  V102  V103  V104  V105  V106  V107  ...    var90  \\\n",
       "0  1.0  1.0   0.0   0.0   0.0   0.0   0.0   1.0   0.0   0.0  ...      0.0   \n",
       "1  1.0  1.0   1.0  -1.0   1.0   1.0   1.0   1.0   1.0  -1.0  ...      0.0   \n",
       "2  1.0  1.0  -1.0  -1.0  -1.0   1.0   1.0   1.0  -1.0   1.0  ...      0.0   \n",
       "3  1.0  1.0  -1.0   1.0  -1.0  -1.0   1.0   1.0   1.0   1.0  ...      0.0   \n",
       "\n",
       "   var91  var92  var93  var94  var95  var96  var97  var98  var99  \n",
       "0    0.0    0.0    0.0    0.0    0.0    0.0    0.0    0.0    0.0  \n",
       "1    0.0    0.0    0.0    0.0    0.0    0.0    0.0    0.0    0.0  \n",
       "2    0.0    0.0    0.0    0.0    0.0    0.0    0.0    0.0    0.0  \n",
       "3    0.0    0.0    0.0    0.0    0.0    0.0    0.0    0.0    0.0  \n",
       "\n",
       "[4 rows x 1613 columns]"
      ]
     },
     "execution_count": 73,
     "metadata": {},
     "output_type": "execute_result"
    }
   ],
   "source": [
    "mapped_votes[:4]"
   ]
  },
  {
   "cell_type": "markdown",
   "metadata": {},
   "source": [
    "#### Evaluating for congress 101"
   ]
  },
  {
   "cell_type": "code",
   "execution_count": 90,
   "metadata": {
    "collapsed": false
   },
   "outputs": [
    {
     "data": {
      "text/html": [
       "<div>\n",
       "<table border=\"1\" class=\"dataframe\">\n",
       "  <thead>\n",
       "    <tr style=\"text-align: right;\">\n",
       "      <th></th>\n",
       "      <th>V101</th>\n",
       "    </tr>\n",
       "  </thead>\n",
       "  <tbody>\n",
       "    <tr>\n",
       "      <th>count</th>\n",
       "      <td>103.000000</td>\n",
       "    </tr>\n",
       "    <tr>\n",
       "      <th>mean</th>\n",
       "      <td>-0.077670</td>\n",
       "    </tr>\n",
       "    <tr>\n",
       "      <th>std</th>\n",
       "      <td>0.977084</td>\n",
       "    </tr>\n",
       "    <tr>\n",
       "      <th>min</th>\n",
       "      <td>-1.000000</td>\n",
       "    </tr>\n",
       "    <tr>\n",
       "      <th>25%</th>\n",
       "      <td>-1.000000</td>\n",
       "    </tr>\n",
       "    <tr>\n",
       "      <th>50%</th>\n",
       "      <td>-1.000000</td>\n",
       "    </tr>\n",
       "    <tr>\n",
       "      <th>75%</th>\n",
       "      <td>1.000000</td>\n",
       "    </tr>\n",
       "    <tr>\n",
       "      <th>max</th>\n",
       "      <td>1.000000</td>\n",
       "    </tr>\n",
       "  </tbody>\n",
       "</table>\n",
       "</div>"
      ],
      "text/plain": [
       "             V101\n",
       "count  103.000000\n",
       "mean    -0.077670\n",
       "std      0.977084\n",
       "min     -1.000000\n",
       "25%     -1.000000\n",
       "50%     -1.000000\n",
       "75%      1.000000\n",
       "max      1.000000"
      ]
     },
     "execution_count": 90,
     "metadata": {},
     "output_type": "execute_result"
    }
   ],
   "source": [
    "votes101 = mapped_votes[mapped_votes['cong']==101]\n",
    "votes101.describe()[[3]]"
   ]
  },
  {
   "cell_type": "code",
   "execution_count": 80,
   "metadata": {
    "collapsed": false
   },
   "outputs": [],
   "source": [
    "remove_nonvotes_columns = [col for col in mapped_votes.columns if not col.lower().startswith('v')]"
   ]
  },
  {
   "cell_type": "code",
   "execution_count": 81,
   "metadata": {
    "collapsed": false
   },
   "outputs": [
    {
     "data": {
      "text/plain": [
       "['attainoffice',\n",
       " 'cong',\n",
       " 'congress',\n",
       " 'dist',\n",
       " 'eh1',\n",
       " 'eh2',\n",
       " 'id',\n",
       " 'idno',\n",
       " 'lstate',\n",
       " 'name',\n",
       " 'occup',\n",
       " 'occupancy',\n",
       " 'office',\n",
       " 'party',\n",
       " 'state',\n",
       " 'statenm']"
      ]
     },
     "execution_count": 81,
     "metadata": {},
     "output_type": "execute_result"
    }
   ],
   "source": [
    "remove_nonvotes_columns"
   ]
  },
  {
   "cell_type": "markdown",
   "metadata": {},
   "source": [
    "High-dimensional datasets can be very difficult to visualize. While data in two or three dimensions can be plotted to show the inherent structure of the data, equivalent high-dimensional plots are much less intuitive. To aid visualization of the structure of a dataset, the dimension must be reduced in some way.\n",
    "\n",
    "The simplest way to accomplish this dimensionality reduction is by taking a random projection of the data. Though this allows some degree of visualization of the data structure, the randomness of the choice leaves much to be desired. In a random projection, it is likely that the more interesting structure within the data will be lost."
   ]
  },
  {
   "cell_type": "code",
   "execution_count": 91,
   "metadata": {
    "collapsed": true
   },
   "outputs": [],
   "source": [
    "# Converts a vector-form distance vector to a square-form distance matrix, and vice-versa.\n",
    "# Pairwise distances between observations in n-dimensional space.\n",
    "simetric_matrix = squareform(pdist(votes101.drop(remove_nonvotes_columns, axis=1), metric='euclidean'))"
   ]
  },
  {
   "cell_type": "markdown",
   "metadata": {},
   "source": [
    "#### Multi-dimensional Scaling (MDS)"
   ]
  },
  {
   "cell_type": "code",
   "execution_count": 93,
   "metadata": {
    "collapsed": false
   },
   "outputs": [],
   "source": [
    "MDS_ = MDS(dissimilarity='precomputed')\n",
    "features = MDS_.fit_transform(simetric_matrix)"
   ]
  },
  {
   "cell_type": "markdown",
   "metadata": {},
   "source": [
    "```\n",
    "democrats = np.where(votes101.party == 100)[0]\n",
    "republicans = np.where(votes101.party == 200)[0]\n",
    "```"
   ]
  },
  {
   "cell_type": "code",
   "execution_count": 127,
   "metadata": {
    "collapsed": false
   },
   "outputs": [
    {
     "data": {
      "image/png": "[encoded data removed]",
      "text/plain": [
       "<matplotlib.figure.Figure at 0x11f731fd0>"
      ]
     },
     "metadata": {},
     "output_type": "display_data"
    }
   ],
   "source": [
    "colmap={100:'blue', 200:'red'}\n",
    "fig = plt.figure(figsize= (12, 10))\n",
    "for i in range(len(features)):\n",
    "    name = votes101.name.iloc[i]\n",
    "    party = votes101.party.iloc[i]\n",
    "    x = features[i,0]\n",
    "    y = features[i,1]\n",
    "    plt.text(x, y, s=name, color=colmap[party], alpha=.5)\n",
    "    \n",
    "plt.xlim(features.min()-5, features.max()+15)\n",
    "plt.ylim(features.min()-5, features.max()+5)\n",
    "plt.grid('on')\n",
    "plt.xticks([]); plt.yticks([])\n",
    "plt.show()"
   ]
  },
  {
   "cell_type": "code",
   "execution_count": null,
   "metadata": {
    "collapsed": true
   },
   "outputs": [],
   "source": [
    "[col for col in mapped_votes.columns if not col.lower().startswith('v')]"
   ]
  },
  {
   "cell_type": "code",
   "execution_count": 133,
   "metadata": {
    "collapsed": false
   },
   "outputs": [],
   "source": [
    "# [0] removes an extra () in the array\n",
    "names = votes101.name.values\n",
    "\n",
    "dem = np.where(votes101.party == 100)[0]\n",
    "rep = np.where(votes101.party == 200)[0] \n",
    "\n",
    "votes_columns = [col for col in votes101.columns if col.lower().startswith('v')]"
   ]
  },
  {
   "cell_type": "code",
   "execution_count": 128,
   "metadata": {
    "collapsed": false
   },
   "outputs": [],
   "source": [
    "def plot_senate(mds):\n",
    "    plt.figure(figsize = (12, 10))\n",
    "    plt.plot(mds[:, 0], mds[:, 1], '.', alpha = 0)\n",
    "    plt.title('Senators of the 101th Congress')\n",
    "\n",
    "    for i in dem:\n",
    "        plt.annotate(names[i], \n",
    "                     (mds[i, 0], mds[i, 1]),\n",
    "                     color = 'blue',\n",
    "                     alpha = 0.3)\n",
    "\n",
    "    for j in rep:\n",
    "        plt.annotate(names[j], \n",
    "                     (mds[j, 0], mds[j, 1]),\n",
    "                     color = 'red',\n",
    "                     alpha = 0.5)"
   ]
  },
  {
   "cell_type": "code",
   "execution_count": 129,
   "metadata": {
    "collapsed": false
   },
   "outputs": [
    {
     "data": {
      "image/png": "[encoded data removed]",
      "text/plain": [
       "<matplotlib.figure.Figure at 0x11e88f4d0>"
      ]
     },
     "metadata": {},
     "output_type": "display_data"
    }
   ],
   "source": [
    "plot_senate(features)"
   ]
  },
  {
   "cell_type": "code",
   "execution_count": 135,
   "metadata": {
    "collapsed": false
   },
   "outputs": [
    {
     "data": {
      "image/png": "[encoded data removed]",
      "text/plain": [
       "<matplotlib.figure.Figure at 0x11f195e10>"
      ]
     },
     "metadata": {},
     "output_type": "display_data"
    }
   ],
   "source": [
    "dist = distance.pdist(votes101[votes_columns], metric='jaccard')\n",
    "mds = MDS(dissimilarity='precomputed').fit_transform(distance.squareform(dist))\n",
    "plot_senate(mds)"
   ]
  },
  {
   "cell_type": "code",
   "execution_count": 172,
   "metadata": {
    "collapsed": false
   },
   "outputs": [
    {
     "data": {
      "text/plain": [
       "[None]"
      ]
     },
     "execution_count": 172,
     "metadata": {},
     "output_type": "execute_result"
    },
    {
     "data": {
      "image/png": "[encoded data removed]",
      "text/plain": [
       "<matplotlib.figure.Figure at 0x11f567f10>"
      ]
     },
     "metadata": {},
     "output_type": "display_data"
    }
   ],
   "source": [
    "fig, ax = plt.subplots(nrows = 3, ncols = 4, figsize = (20, 10))\n",
    "for a, cong in zip(ax.ravel(), sorted(congress.items(), key=lambda x: int(x[0][1:]))):\n",
    "    sen = cong[1]\n",
    "    cols = [ c for c in sen.columns if c[0].lower() == 'v'] \n",
    "    dist = distance.pdist(sen[cols], metric='euclidean')\n",
    "    mds = MDS(dissimilarity='precomputed').fit_transform(distance.squareform(dist))\n",
    "\n",
    "    names = sen.name.values\n",
    "    dem = np.where(sen.party == 100)[0]\n",
    "    rep = np.where(sen.party == 200)[0]\n",
    "    \n",
    "    a.plot(mds[dem, 0], mds[dem, 1], '.b', mfc = 'blue')\n",
    "    a.plot(mds[rep, 0], mds[rep, 1], '.b', mfc = 'red')\n",
    "  \n",
    "    a.text(0.05, .95, cong[0], transform = a.transAxes, verticalalignment = 'top', fontsize = 14)\n",
    "    \n",
    "plt.setp(ax[2, 3], visible = False) "
   ]
  },
  {
   "cell_type": "code",
   "execution_count": 175,
   "metadata": {
    "collapsed": false
   },
   "outputs": [
    {
     "data": {
      "text/html": [
       "<iframe id=\"igraph\" scrolling=\"no\" style=\"border:none;\" seamless=\"seamless\" src=\"https://plot.ly/~elra/22.embed\" height=\"525px\" width=\"100%\"></iframe>"
      ],
      "text/plain": [
       "<plotly.tools.PlotlyDisplay object>"
      ]
     },
     "execution_count": 175,
     "metadata": {},
     "output_type": "execute_result"
    }
   ],
   "source": [
    "import plotly\n",
    "import plotly.plotly as py\n",
    "import plotly.tools as tls \n",
    "from plotly.graph_objs import *\n",
    "\n",
    "py.iplot_mpl(fig)"
   ]
  },
  {
   "cell_type": "code",
   "execution_count": 179,
   "metadata": {
    "collapsed": false
   },
   "outputs": [
    {
     "name": "stdout",
     "output_type": "stream",
     "text": [
      "This is the format of your plot grid!\n",
      "[13]\t[14]\t[15]\t[16]\t\n",
      "[9]\t[10]\t[11]\t[12]\t\n",
      "[5]\t[6]\t[7]\t[8]\t\n",
      "[1]\t[2]\t[3]\t[4]\t\n",
      "\n"
     ]
    }
   ],
   "source": [
    "fig = tls.get_subplots(\n",
    "    rows= 4,            # number of rows\n",
    "    columns= 4,         # number of columns\n",
    "    horizontal_spacing= 0.02,  # horiz. spacing (norm. coord)\n",
    "    vertical_spacing= 0.02,    # vert. spacing (norm. coord)\n",
    "    print_grid=True            # print axis grid ids to screen\n",
    ")"
   ]
  },
  {
   "cell_type": "code",
   "execution_count": 182,
   "metadata": {
    "collapsed": true
   },
   "outputs": [],
   "source": [
    "def get_subplots_index(n_rowcol, n_senate):\n",
    "    \n",
    "    n_split = n_rowcol**2  # number of subplots      \n",
    "    n_empty_subplots = n_split - n_senate  # number of empty subplots\n",
    "    \n",
    "    _1d = np.arange(1, n_split + 1) # [1, 2, 3, ..., N_split]\n",
    "    _2d = np.resize(_1d, (n_rowcol, n_rowcol)) # [[1,2,..,n_rowcol], ..[.., n_split]]\n",
    "    _2d_flip = _2d[::-1, :] # [[..,n_split], ...[1, 2,..n_rowcol]]\n",
    "    \n",
    "    split_left = _2d_flip[:, 0] # indices of the left side of the subplots\n",
    "    split_bottom = _2d_flip[-1,:] # indices of the bottom subplots\n",
    "    \n",
    "    _1d_ordered = _2d_flip.flatten().tolist() # [...,n_split,...,1, 2,...n_rowcol]\n",
    "    splits_empty = range(n_rowcol - n_empty_subplots + 2, n_rowcol + 2) # indices of empty subplots\n",
    "    \n",
    "    for split in splits_empty:\n",
    "        _1d_ordered.remove(split) # removing indices of empty subplots\n",
    "    splits = _1d_ordered # get the complete list of subplots\n",
    "    \n",
    "    return splits, splits_empty, split_left, split_bottom"
   ]
  },
  {
   "cell_type": "code",
   "execution_count": 183,
   "metadata": {
    "collapsed": false
   },
   "outputs": [
    {
     "name": "stdout",
     "output_type": "stream",
     "text": [
      "[13, 14, 15, 16, 9, 10, 11, 12, 6, 7, 8]\n"
     ]
    }
   ],
   "source": [
    "# Getting the lists of subplot indices\n",
    "splits, splits_empty, split_left, split_bottom = get_subplots_index(4, 11)\n",
    "\n",
    "print splits"
   ]
  },
  {
   "cell_type": "code",
   "execution_count": 203,
   "metadata": {
    "collapsed": false
   },
   "outputs": [],
   "source": [
    "dset = enumerate(sorted(congress.items(), key=lambda x: int(x[0][1:])))"
   ]
  },
  {
   "cell_type": "code",
   "execution_count": 204,
   "metadata": {
    "collapsed": false
   },
   "outputs": [
    {
     "data": {
      "text/html": [
       "<iframe id=\"igraph\" scrolling=\"no\" style=\"border:none;\" seamless=\"seamless\" src=\"https://plot.ly/~elra/24.embed\" height=\"525px\" width=\"100%\"></iframe>"
      ],
      "text/plain": [
       "<plotly.tools.PlotlyDisplay object>"
      ]
     },
     "execution_count": 204,
     "metadata": {},
     "output_type": "execute_result"
    }
   ],
   "source": [
    "traces = []\n",
    "\n",
    "for i, cn in dset:\n",
    "    sen = cn[1]\n",
    "    cols = [ c for c in sen.columns if c.lower().startswith('v')] \n",
    "    dist = distance.pdist(sen[cols], metric='euclidean')\n",
    "    mds = MDS(dissimilarity='precomputed').fit_transform(distance.squareform(dist))\n",
    "\n",
    "    names = sen.name.values\n",
    "    dem = np.where(sen.party == 100)[0]\n",
    "    rep = np.where(sen.party == 200)[0]\n",
    "    \n",
    "    names[i], (mds[i, 0], mds[i, 1])\n",
    "    \n",
    "    trace1 = Scatter(\n",
    "        x=mds[rep, 0],\n",
    "        y=mds[rep, 1],\n",
    "        text=names[rep],\n",
    "        mode='markers',\n",
    "        xaxis='x' + str(i),\n",
    "        yaxis='y' + str(i),\n",
    "        marker=Marker(color=\"red\")\n",
    "        )\n",
    "    \n",
    "    trace2 = Scatter(\n",
    "        x=mds[dem, 0],\n",
    "        y=mds[dem, 1],\n",
    "        text=names[dem],\n",
    "        mode='markers',\n",
    "        xaxis='x' + str(i),\n",
    "        yaxis='y' + str(i),\n",
    "        marker=Marker(color=\"blue\")\n",
    "        )\n",
    "    \n",
    "    traces.append(trace1)\n",
    "    traces.append(trace2)\n",
    "\n",
    "layout = Layout(\n",
    "    xaxis=XAxis(\n",
    "        domain=[0, 0.45]\n",
    "    ),\n",
    "    yaxis=YAxis(\n",
    "        domain=[0, 0.45]\n",
    "    ),\n",
    "    xaxis2=XAxis(\n",
    "        domain=[0.55, 1]\n",
    "    ),\n",
    "    xaxis3=XAxis(\n",
    "        domain=[0, 0.45],\n",
    "        anchor='y3'\n",
    "    ),\n",
    "    xaxis4=XAxis(\n",
    "        domain=[0.55, 1],\n",
    "        anchor='y4'\n",
    "    ),\n",
    "    yaxis2=YAxis(\n",
    "        domain=[0, 0.45],\n",
    "        anchor='x2'\n",
    "    ),\n",
    "    yaxis3=YAxis(\n",
    "        domain=[0.55, 1]\n",
    "    ),\n",
    "    yaxis4=YAxis(\n",
    "        domain=[0.55, 1],\n",
    "        anchor='x4'\n",
    "    )\n",
    ")\n",
    "\n",
    "data = Data(traces)\n",
    "fig = Figure(data=data)\n",
    "\n",
    "py.iplot(data, filename='Senate Partisanship')\n",
    "    \n",
    "    \n",
    "    \n",
    "\n"
   ]
  },
  {
   "cell_type": "markdown",
   "metadata": {},
   "source": [
    "### Multi-dimensional Scaling (MDS)\n",
    "\n",
    "Multidimensional scaling (MDS) seeks a low-dimensional representation of the data in which the distances respect well the distances in the original high-dimensional space.\n",
    "\n",
    "In general, is a technique used for analyzing similarity or dissimilarity data. MDS attempts to model similarity or dissimilarity data as distances in a geometric spaces. The data can be ratings of similarity between objects, interaction frequencies of molecules, or trade indices between countries.\n",
    "\n",
    "There exists two types of MDS algorithm: metric and non metric. In the scikit-learn, the class MDS implements both. In Metric MDS, the input similarity matrix arises from a metric (and thus respects the triangular inequality), the distances between output two points are then set to be as close as possible to the similarity or dissimilarity data. In the non-metric version, the algorithms will try to preserve the order of the distances, and hence seek for a monotonic relationship between the distances in the embedded space and the similarities/dissimilarities."
   ]
  },
  {
   "cell_type": "code",
   "execution_count": null,
   "metadata": {
    "collapsed": true
   },
   "outputs": [],
   "source": []
  },
  {
   "cell_type": "code",
   "execution_count": null,
   "metadata": {
    "collapsed": true
   },
   "outputs": [],
   "source": []
  },
  {
   "cell_type": "code",
   "execution_count": null,
   "metadata": {
    "collapsed": true
   },
   "outputs": [],
   "source": []
  },
  {
   "cell_type": "code",
   "execution_count": null,
   "metadata": {
    "collapsed": true
   },
   "outputs": [],
   "source": []
  },
  {
   "cell_type": "code",
   "execution_count": null,
   "metadata": {
    "collapsed": true
   },
   "outputs": [],
   "source": []
  },
  {
   "cell_type": "code",
   "execution_count": null,
   "metadata": {
    "collapsed": true
   },
   "outputs": [],
   "source": []
  },
  {
   "cell_type": "code",
   "execution_count": null,
   "metadata": {
    "collapsed": true
   },
   "outputs": [],
   "source": []
  },
  {
   "cell_type": "code",
   "execution_count": null,
   "metadata": {
    "collapsed": true
   },
   "outputs": [],
   "source": []
  },
  {
   "cell_type": "code",
   "execution_count": null,
   "metadata": {
    "collapsed": true
   },
   "outputs": [],
   "source": []
  }
 ],
 "metadata": {
  "kernelspec": {
   "display_name": "Python 2",
   "language": "python",
   "name": "python2"
  },
  "language_info": {
   "codemirror_mode": {
    "name": "ipython",
    "version": 2
   },
   "file_extension": ".py",
   "mimetype": "text/x-python",
   "name": "python",
   "nbconvert_exporter": "python",
   "pygments_lexer": "ipython2",
   "version": "2.7.11"
  }
 },
 "nbformat": 4,
 "nbformat_minor": 0
}
