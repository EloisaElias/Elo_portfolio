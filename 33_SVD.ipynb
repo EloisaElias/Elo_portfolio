{
 "cells": [
  {
   "cell_type": "markdown",
   "metadata": {},
   "source": [
    "## Singular Value Decomposition\n",
    "---\n",
    "**Elo notes**\n"
   ]
  },
  {
   "cell_type": "markdown",
   "metadata": {},
   "source": [
    "In linear algebra, the singular value decomposition (SVD) is a factorization of a real or complex matrix. It is the generalization of the eigendecomposition of a positive semidefinite normal matrix (for example, a symmetric matrix with positive eigenvalues) to any $m × n$ matrix via an extension of polar decomposition. It has many useful applications in signal processing and statistics.\n",
    "\n",
    "**  SVD is a technique for both improving the quality of a recommendation as well as handling sparse data is matrix factorization.**"
   ]
  },
  {
   "cell_type": "markdown",
   "metadata": {},
   "source": [
    "#### Latent variable - Latent feature\n",
    "\n",
    "In statistics, latent variables (from Latin: present participle of lateo (“lie hidden”), as opposed to observable variables), are variables that are not directly observed but are rather inferred (through a mathematical model) from other variables that are observed (directly measured). Mathematical models that aim to explain observed variables in terms of latent variables are called latent variable models. \n",
    "\n",
    "Sometimes latent variables correspond to aspects of physical reality, which could in principle be measured, but may not be for practical reasons. In this situation, the term hidden variables is commonly used (reflecting the fact that the variables are \"really there\", but hidden). Other times, latent variables correspond to abstract concepts, like categories, behavioral or mental states, or data structures. The terms hypothetical variables or hypothetical constructs may be used in these situations.\n",
    "\n",
    "One advantage of using latent variables is that it reduces the dimensionality of data. A large number of observable variables can be aggregated in a model to represent an underlying concept, making it easier to understand the data. In this sense, they serve a function similar to that of scientific theories. At the same time, latent variables link observable (\"sub-symbolic\") data in the real world to symbolic data in the modeled world.\n",
    "\n",
    "Latent variables, as created by factor analytic methods, generally represent \"shared\" variance, or the degree to which variables \"move\" together. Variables that have no correlation cannot result in a latent construct based on the common factor model."
   ]
  },
  {
   "cell_type": "markdown",
   "metadata": {},
   "source": [
    "#### Singular value decomposition\n",
    "\n",
    "The principal components transformation can also be associated with another matrix factorization, the singular value decomposition $(SVD)$ of $X$,\n",
    "\n",
    "${\\displaystyle \\mathbf {X} =\\mathbf {U} \\mathbf {\\Sigma } \\mathbf {W} ^{T}} $\n",
    "\n",
    "Here $Σ$ is an n-by-p rectangular diagonal matrix of positive numbers $σ(k)$, called the singular values of $X$; $U$ is an n-by-n matrix, the columns of which are orthogonal unit vectors of length n called the left singular vectors of $X$; and W is a p-by-p whose columns are orthogonal unit vectors of length p and called the right singular vectors of $X$.\n",
    "\n",
    "In terms of this factorization, the matrix $X^T X$ can be written\n",
    "\n",
    "${\\displaystyle {\\begin{aligned}\\mathbf {X} ^{T}\\mathbf {X} &=\\mathbf {W} \\mathbf {\\Sigma } \\mathbf {U} ^{T}\\mathbf {U} \\mathbf {\\Sigma } \\mathbf {W} ^{T}\\\\&=\\mathbf {W} \\mathbf {\\Sigma } ^{2}\\mathbf {W} ^{T}\\end{aligned}}} $\n",
    "\n",
    "Comparison with the eigenvector factorization of $X^T X$ establishes that the right singular vectors $W$ of $X$ are equivalent to the eigenvectors of $X^T X$, while the singular values $σ(k)$ of $Σ$ are equal to the square roots of the eigenvalues $λ(k)$ of $X^TX$.\n",
    "\n",
    "Using the singular value decomposition the score matrix T can be written\n",
    "\n",
    "${\\displaystyle {\\begin{aligned}\\mathbf {T} &=\\mathbf {X} \\mathbf {W} \\\\&=\\mathbf {U} \\mathbf {\\Sigma } \\mathbf {W} ^{T}\\mathbf {W} \\\\&=\\mathbf {U} \\mathbf {\\Sigma } \\end{aligned}}} $\n",
    "\n",
    "so each column of $T$ is given by one of the left singular vectors of $X$ multiplied by the corresponding singular value. This form is also the polar decomposition of $T$.\n",
    "\n",
    "Efficient algorithms exist to calculate the $SVD$ of $X$ without having to form the matrix $X^TX$, so computing the $SVD$ is now the standard way to calculate a principal components analysis from a data matrix[citation needed], unless only a handful of components are required.\n",
    "\n",
    "As with the eigen-decomposition, a truncated $n × L$ score matrix $TL$ can be obtained by considering only the first L largest singular values and their singular vectors:\n",
    "\n",
    "${\\displaystyle \\mathbf {T} _{L}=\\mathbf {U} _{L}\\mathbf {\\Sigma } _{L}=\\mathbf {X} \\mathbf {W} _{L}}$\n",
    "\n",
    "The truncation of a matrix $M$ or $T$ using a truncated singular value decomposition in this way produces a truncated matrix that is the nearest possible matrix of rank L to the original matrix, in the sense of the difference between the two having the smallest possible Frobenius norm, a result known as the Eckart–Young theorem [1936]."
   ]
  },
  {
   "cell_type": "code",
   "execution_count": 16,
   "metadata": {
    "collapsed": false
   },
   "outputs": [],
   "source": [
    "from scipy.spatial.distance import pdist\n",
    "from scipy.spatial.distance import squareform\n",
    "\n",
    "from sklearn import cluster, datasets, decomposition\n",
    "from sklearn import random_projection, preprocessing\n",
    "from sklearn import ensemble, lda, manifold\n",
    "from sklearn.manifold import MDS\n",
    "\n",
    "from numpy.linalg import svd\n",
    "\n",
    "import numpy as np\n",
    "import pandas as pd\n",
    "import matplotlib.pyplot as plt\n",
    "\n",
    "import seaborn as sea\n",
    "sea.set()\n",
    "\n",
    "%matplotlib inline"
   ]
  },
  {
   "cell_type": "markdown",
   "metadata": {},
   "source": [
    "#### The International Standard Book Number (ISBN) is a 13-digit number that uniquely identifies books and book-like products published internationally."
   ]
  },
  {
   "cell_type": "markdown",
   "metadata": {},
   "source": [
    "#### df :  Ratings : Book Ratings"
   ]
  },
  {
   "cell_type": "code",
   "execution_count": 17,
   "metadata": {
    "collapsed": true
   },
   "outputs": [],
   "source": [
    "df = pd.read_csv('data/book_reviews.csv', index_col=0)"
   ]
  },
  {
   "cell_type": "code",
   "execution_count": 18,
   "metadata": {
    "collapsed": false
   },
   "outputs": [
    {
     "data": {
      "text/html": [
       "<div>\n",
       "<table border=\"1\" class=\"dataframe\">\n",
       "  <thead>\n",
       "    <tr style=\"text-align: right;\">\n",
       "      <th></th>\n",
       "      <th>User-ID</th>\n",
       "      <th>ISBN</th>\n",
       "      <th>Book-Rating</th>\n",
       "    </tr>\n",
       "  </thead>\n",
       "  <tbody>\n",
       "    <tr>\n",
       "      <th>1083</th>\n",
       "      <td>277195</td>\n",
       "      <td>0060391626</td>\n",
       "      <td>10</td>\n",
       "    </tr>\n",
       "    <tr>\n",
       "      <th>1084</th>\n",
       "      <td>277195</td>\n",
       "      <td>0060502258</td>\n",
       "      <td>0</td>\n",
       "    </tr>\n",
       "  </tbody>\n",
       "</table>\n",
       "</div>"
      ],
      "text/plain": [
       "      User-ID        ISBN  Book-Rating\n",
       "1083   277195  0060391626           10\n",
       "1084   277195  0060502258            0"
      ]
     },
     "execution_count": 18,
     "metadata": {},
     "output_type": "execute_result"
    }
   ],
   "source": [
    "df[:2]"
   ]
  },
  {
   "cell_type": "code",
   "execution_count": 19,
   "metadata": {
    "collapsed": false
   },
   "outputs": [
    {
     "name": "stdout",
     "output_type": "stream",
     "text": [
      "<class 'pandas.core.frame.DataFrame'>\n",
      "Int64Index: 220995 entries, 1083 to 1149746\n",
      "Data columns (total 3 columns):\n",
      "User-ID        220995 non-null int64\n",
      "ISBN           220995 non-null object\n",
      "Book-Rating    220995 non-null int64\n",
      "dtypes: int64(2), object(1)\n",
      "memory usage: 6.7+ MB\n"
     ]
    }
   ],
   "source": [
    "df.info()"
   ]
  },
  {
   "cell_type": "code",
   "execution_count": 20,
   "metadata": {
    "collapsed": false
   },
   "outputs": [],
   "source": [
    "#df.describe()"
   ]
  },
  {
   "cell_type": "code",
   "execution_count": 21,
   "metadata": {
    "collapsed": true
   },
   "outputs": [],
   "source": [
    "df['Book-Rating'] = df['Book-Rating'].replace(0, -1)"
   ]
  },
  {
   "cell_type": "code",
   "execution_count": 22,
   "metadata": {
    "collapsed": false
   },
   "outputs": [
    {
     "data": {
      "text/plain": [
       "0"
      ]
     },
     "execution_count": 22,
     "metadata": {},
     "output_type": "execute_result"
    }
   ],
   "source": [
    "df['User-ID'].isnull().sum()"
   ]
  },
  {
   "cell_type": "code",
   "execution_count": 23,
   "metadata": {
    "collapsed": false
   },
   "outputs": [
    {
     "data": {
      "text/html": [
       "<div>\n",
       "<table border=\"1\" class=\"dataframe\">\n",
       "  <thead>\n",
       "    <tr style=\"text-align: right;\">\n",
       "      <th></th>\n",
       "      <th>User-ID</th>\n",
       "      <th>ISBN</th>\n",
       "      <th>Book-Rating</th>\n",
       "    </tr>\n",
       "  </thead>\n",
       "  <tbody>\n",
       "    <tr>\n",
       "      <th>1083</th>\n",
       "      <td>277195</td>\n",
       "      <td>0060391626</td>\n",
       "      <td>10</td>\n",
       "    </tr>\n",
       "    <tr>\n",
       "      <th>1084</th>\n",
       "      <td>277195</td>\n",
       "      <td>0060502258</td>\n",
       "      <td>-1</td>\n",
       "    </tr>\n",
       "  </tbody>\n",
       "</table>\n",
       "</div>"
      ],
      "text/plain": [
       "      User-ID        ISBN  Book-Rating\n",
       "1083   277195  0060391626           10\n",
       "1084   277195  0060502258           -1"
      ]
     },
     "execution_count": 23,
     "metadata": {},
     "output_type": "execute_result"
    }
   ],
   "source": [
    "df[:2]"
   ]
  },
  {
   "cell_type": "code",
   "execution_count": 24,
   "metadata": {
    "collapsed": false
   },
   "outputs": [
    {
     "data": {
      "text/plain": [
       "(220995, 3)"
      ]
     },
     "execution_count": 24,
     "metadata": {},
     "output_type": "execute_result"
    }
   ],
   "source": [
    "df.shape"
   ]
  },
  {
   "cell_type": "code",
   "execution_count": 25,
   "metadata": {
    "collapsed": false
   },
   "outputs": [],
   "source": [
    "mainmatrix = df.pivot(index='User-ID', columns='ISBN', values='Book-Rating').fillna(-1)"
   ]
  },
  {
   "cell_type": "code",
   "execution_count": 26,
   "metadata": {
    "collapsed": false
   },
   "outputs": [
    {
     "data": {
      "text/html": [
       "<div>\n",
       "<table border=\"1\" class=\"dataframe\">\n",
       "  <thead>\n",
       "    <tr style=\"text-align: right;\">\n",
       "      <th>ISBN</th>\n",
       "      <th>0006493580</th>\n",
       "      <th>000649840X</th>\n",
       "      <th>0006512135</th>\n",
       "      <th>0006513204</th>\n",
       "      <th>0006514855</th>\n",
       "      <th>0006547834</th>\n",
       "      <th>0006550576</th>\n",
       "      <th>0006550681</th>\n",
       "      <th>0006550789</th>\n",
       "      <th>0007110928</th>\n",
       "      <th>...</th>\n",
       "      <th>8495618605</th>\n",
       "      <th>8497593588</th>\n",
       "      <th>8804342838</th>\n",
       "      <th>8806142100</th>\n",
       "      <th>8806143042</th>\n",
       "      <th>8807813025</th>\n",
       "      <th>8817106100</th>\n",
       "      <th>8845205118</th>\n",
       "      <th>8873122933</th>\n",
       "      <th>8885989403</th>\n",
       "    </tr>\n",
       "    <tr>\n",
       "      <th>User-ID</th>\n",
       "      <th></th>\n",
       "      <th></th>\n",
       "      <th></th>\n",
       "      <th></th>\n",
       "      <th></th>\n",
       "      <th></th>\n",
       "      <th></th>\n",
       "      <th></th>\n",
       "      <th></th>\n",
       "      <th></th>\n",
       "      <th></th>\n",
       "      <th></th>\n",
       "      <th></th>\n",
       "      <th></th>\n",
       "      <th></th>\n",
       "      <th></th>\n",
       "      <th></th>\n",
       "      <th></th>\n",
       "      <th></th>\n",
       "      <th></th>\n",
       "      <th></th>\n",
       "    </tr>\n",
       "  </thead>\n",
       "  <tbody>\n",
       "    <tr>\n",
       "      <th>243</th>\n",
       "      <td>-1.0</td>\n",
       "      <td>-1.0</td>\n",
       "      <td>-1.0</td>\n",
       "      <td>-1.0</td>\n",
       "      <td>-1.0</td>\n",
       "      <td>-1.0</td>\n",
       "      <td>-1.0</td>\n",
       "      <td>-1.0</td>\n",
       "      <td>-1.0</td>\n",
       "      <td>-1.0</td>\n",
       "      <td>...</td>\n",
       "      <td>-1.0</td>\n",
       "      <td>-1.0</td>\n",
       "      <td>-1.0</td>\n",
       "      <td>-1.0</td>\n",
       "      <td>-1.0</td>\n",
       "      <td>-1.0</td>\n",
       "      <td>-1.0</td>\n",
       "      <td>-1.0</td>\n",
       "      <td>-1.0</td>\n",
       "      <td>-1.0</td>\n",
       "    </tr>\n",
       "    <tr>\n",
       "      <th>254</th>\n",
       "      <td>-1.0</td>\n",
       "      <td>-1.0</td>\n",
       "      <td>-1.0</td>\n",
       "      <td>-1.0</td>\n",
       "      <td>-1.0</td>\n",
       "      <td>-1.0</td>\n",
       "      <td>-1.0</td>\n",
       "      <td>-1.0</td>\n",
       "      <td>-1.0</td>\n",
       "      <td>-1.0</td>\n",
       "      <td>...</td>\n",
       "      <td>-1.0</td>\n",
       "      <td>-1.0</td>\n",
       "      <td>-1.0</td>\n",
       "      <td>-1.0</td>\n",
       "      <td>-1.0</td>\n",
       "      <td>-1.0</td>\n",
       "      <td>-1.0</td>\n",
       "      <td>-1.0</td>\n",
       "      <td>-1.0</td>\n",
       "      <td>-1.0</td>\n",
       "    </tr>\n",
       "  </tbody>\n",
       "</table>\n",
       "<p>2 rows × 6092 columns</p>\n",
       "</div>"
      ],
      "text/plain": [
       "ISBN     0006493580  000649840X  0006512135  0006513204  0006514855  \\\n",
       "User-ID                                                               \n",
       "243            -1.0        -1.0        -1.0        -1.0        -1.0   \n",
       "254            -1.0        -1.0        -1.0        -1.0        -1.0   \n",
       "\n",
       "ISBN     0006547834  0006550576  0006550681  0006550789  0007110928  \\\n",
       "User-ID                                                               \n",
       "243            -1.0        -1.0        -1.0        -1.0        -1.0   \n",
       "254            -1.0        -1.0        -1.0        -1.0        -1.0   \n",
       "\n",
       "ISBN        ...      8495618605  8497593588  8804342838  8806142100  \\\n",
       "User-ID     ...                                                       \n",
       "243         ...            -1.0        -1.0        -1.0        -1.0   \n",
       "254         ...            -1.0        -1.0        -1.0        -1.0   \n",
       "\n",
       "ISBN     8806143042  8807813025  8817106100  8845205118  8873122933  \\\n",
       "User-ID                                                               \n",
       "243            -1.0        -1.0        -1.0        -1.0        -1.0   \n",
       "254            -1.0        -1.0        -1.0        -1.0        -1.0   \n",
       "\n",
       "ISBN     8885989403  \n",
       "User-ID              \n",
       "243            -1.0  \n",
       "254            -1.0  \n",
       "\n",
       "[2 rows x 6092 columns]"
      ]
     },
     "execution_count": 26,
     "metadata": {},
     "output_type": "execute_result"
    }
   ],
   "source": [
    "mainmatrix[:2]"
   ]
  },
  {
   "cell_type": "code",
   "execution_count": 27,
   "metadata": {
    "collapsed": true
   },
   "outputs": [],
   "source": [
    "# International Standard Book Number : ISBN : feature names\n",
    "feature_names = mainmatrix.columns"
   ]
  },
  {
   "cell_type": "markdown",
   "metadata": {
    "collapsed": true
   },
   "source": [
    "#### SVD - Singular Value Decomposition on mainmatrix\n",
    "\n",
    "Let us define:\n",
    "\n",
    "$A_k$ : MainMatrix\n",
    "\n",
    "$S_k$ : Sigma\n",
    "\n",
    "$A_k$ = $U_k$  $S_k$  $V_k^T$\n",
    "\n",
    "* __m__: # of users\n",
    "* __n__: # of items\n",
    "* __k__: # of latent features (also rank of __A__)\n",
    "\n",
    "\n",
    "* $A_k$ is our user-book rating matrix (__m__ x __n__)\n",
    "\n",
    "    * **U** is our _weights_ matrix (__m__ x __k__)\n",
    "    * **S** is our singular values matrix (__k__ x __k__)\n",
    "    * and **V*** is our features matrix (__k__ x __n__)\n",
    "\n",
    "The larger the singular value (**S** matrix), the more important that latent feature.  \n",
    "\n",
    "Since **U** and **V** are orthogonal to each other, we can rearrange them in order of decreasing singular values.  If we want to reduce the dimension, we simply set a threshold for which columns/rows to cut off (low rank approximation):\n",
    "\n",
    "You can think of the weights matrix **U** as representing how much of each latent feature corresponds to each user, and the features matrix **V** as how much of each item/rating contributes to the latent features."
   ]
  },
  {
   "cell_type": "code",
   "execution_count": 28,
   "metadata": {
    "collapsed": true
   },
   "outputs": [],
   "source": [
    "u, sigma, v_t = svd(mainmatrix.values, full_matrices=False)"
   ]
  },
  {
   "cell_type": "code",
   "execution_count": 29,
   "metadata": {
    "collapsed": false
   },
   "outputs": [
    {
     "data": {
      "text/plain": [
       "(2500, 2500)"
      ]
     },
     "execution_count": 29,
     "metadata": {},
     "output_type": "execute_result"
    }
   ],
   "source": [
    "u.shape"
   ]
  },
  {
   "cell_type": "code",
   "execution_count": 30,
   "metadata": {
    "collapsed": false
   },
   "outputs": [
    {
     "data": {
      "text/plain": [
       "(2500,)"
      ]
     },
     "execution_count": 30,
     "metadata": {},
     "output_type": "execute_result"
    }
   ],
   "source": [
    "sigma.shape"
   ]
  },
  {
   "cell_type": "code",
   "execution_count": 31,
   "metadata": {
    "collapsed": false
   },
   "outputs": [
    {
     "data": {
      "text/plain": [
       "(2500, 6092)"
      ]
     },
     "execution_count": 31,
     "metadata": {},
     "output_type": "execute_result"
    }
   ],
   "source": [
    "v_t.shape"
   ]
  },
  {
   "cell_type": "markdown",
   "metadata": {
    "collapsed": true
   },
   "source": [
    "#### Energy - Singular values are square roots of eigenvalues\n",
    "\n",
    "Energy is the same as variance of a dimension and we can compute it simply by squaring the singular values.\n",
    "\n",
    "singular values are square roots of eigenvalues"
   ]
  },
  {
   "cell_type": "code",
   "execution_count": 32,
   "metadata": {
    "collapsed": false
   },
   "outputs": [
    {
     "data": {
      "text/plain": [
       "array([  1.41978492e+07,   1.10486529e+05,   4.93216571e+04, ...,\n",
       "         6.28154377e-29,   5.73961999e-29,   5.64705620e-29])"
      ]
     },
     "execution_count": 32,
     "metadata": {},
     "output_type": "execute_result"
    }
   ],
   "source": [
    "# energy is the sum of the energy of each singular value\n",
    "energy = sigma**2\n",
    "energy"
   ]
  },
  {
   "cell_type": "code",
   "execution_count": 33,
   "metadata": {
    "collapsed": false
   },
   "outputs": [
    {
     "data": {
      "text/plain": [
       "19394010.000000015"
      ]
     },
     "execution_count": 33,
     "metadata": {},
     "output_type": "execute_result"
    }
   ],
   "source": [
    "power = np.sum(sigma**2)\n",
    "power"
   ]
  },
  {
   "cell_type": "code",
   "execution_count": 34,
   "metadata": {
    "collapsed": false
   },
   "outputs": [
    {
     "data": {
      "text/plain": [
       "(0, 20000)"
      ]
     },
     "execution_count": 34,
     "metadata": {},
     "output_type": "execute_result"
    },
    {
     "data": {
      "image/png": "[encoded data removed]",
      "text/plain": [
       "<matplotlib.figure.Figure at 0x11a4c2610>"
      ]
     },
     "metadata": {},
     "output_type": "display_data"
    }
   ],
   "source": [
    "plt.figure(figsize= (12, 6))\n",
    "plt.plot(energy, '.')\n",
    "plt.ylim(0, 20000)"
   ]
  },
  {
   "cell_type": "markdown",
   "metadata": {},
   "source": [
    "Rank of the array is the number of SVD singular values of the array that are greater than tol parameter"
   ]
  },
  {
   "cell_type": "code",
   "execution_count": 35,
   "metadata": {
    "collapsed": false
   },
   "outputs": [
    {
     "data": {
      "text/plain": [
       "2440"
      ]
     },
     "execution_count": 35,
     "metadata": {},
     "output_type": "execute_result"
    }
   ],
   "source": [
    "np.linalg.matrix_rank(mainmatrix)"
   ]
  },
  {
   "cell_type": "markdown",
   "metadata": {},
   "source": [
    "#### Reducing features\n"
   ]
  },
  {
   "cell_type": "code",
   "execution_count": 36,
   "metadata": {
    "collapsed": false
   },
   "outputs": [
    {
     "data": {
      "image/png": "[encoded data removed]",
      "text/plain": [
       "<matplotlib.figure.Figure at 0x1199823d0>"
      ]
     },
     "metadata": {},
     "output_type": "display_data"
    }
   ],
   "source": [
    "plt.figure(figsize=(12, 6))\n",
    "plt.plot(np.cumsum(energy)/sum(energy))\n",
    "plt.hlines(0.9, *plt.gca().get_xlim(), linestyle='dashed', color='red');\n"
   ]
  },
  {
   "cell_type": "code",
   "execution_count": 37,
   "metadata": {
    "collapsed": false
   },
   "outputs": [],
   "source": [
    "features_variance = np.cumsum(energy)/sum(energy)"
   ]
  },
  {
   "cell_type": "code",
   "execution_count": 38,
   "metadata": {
    "collapsed": false
   },
   "outputs": [],
   "source": [
    "reduction = features_variance > 0.9"
   ]
  },
  {
   "cell_type": "code",
   "execution_count": 39,
   "metadata": {
    "collapsed": false
   },
   "outputs": [
    {
     "data": {
      "text/plain": [
       "421"
      ]
     },
     "execution_count": 39,
     "metadata": {},
     "output_type": "execute_result"
    }
   ],
   "source": [
    "reduction = 2500 - np.sum(features_variance > 0.9)\n",
    "reduction"
   ]
  },
  {
   "cell_type": "code",
   "execution_count": 40,
   "metadata": {
    "collapsed": false
   },
   "outputs": [
    {
     "data": {
      "text/plain": [
       "421"
      ]
     },
     "execution_count": 40,
     "metadata": {},
     "output_type": "execute_result"
    }
   ],
   "source": [
    "np.argmax(np.cumsum(energy) >= power*.9)"
   ]
  },
  {
   "cell_type": "markdown",
   "metadata": {},
   "source": [
    "90% of the variance $\\sigma^2$ is contained in 421 features, 441 concepts accounts for 90% of the energy.\n",
    "\n",
    "422 - adjusting for error"
   ]
  },
  {
   "cell_type": "code",
   "execution_count": 41,
   "metadata": {
    "collapsed": false
   },
   "outputs": [
    {
     "data": {
      "text/plain": [
       "0.90005748473458003"
      ]
     },
     "execution_count": 41,
     "metadata": {},
     "output_type": "execute_result"
    }
   ],
   "source": [
    "sum((sigma**2)[:422])/sum((sigma**2))"
   ]
  },
  {
   "cell_type": "markdown",
   "metadata": {
    "collapsed": true
   },
   "source": [
    "## Concep, Topic space\n",
    "\n",
    "- mainmatrix : (__m__ x __n__)\n",
    "\n",
    "\n",
    "- $U$ rows connects Users to Concepts (__m__ x __k__)\n",
    "\n",
    "\n",
    "- $V^T$ rows connects Concept to Books (__k__ x __n__)\n",
    "\n",
    "$U$ and $V^T$ are ortogonal matrices \n",
    "\n",
    "## keep 10 topics\n",
    "\n",
    "$U$ and $V^T$ are ortogonal matrices \n",
    "\n",
    "```\n",
    "V_10 = VT[:10,:]   # Rows\n",
    "\n",
    "U_10 = U[:,:10]    # Columns\n",
    "```"
   ]
  },
  {
   "cell_type": "code",
   "execution_count": 42,
   "metadata": {
    "collapsed": false
   },
   "outputs": [
    {
     "data": {
      "text/plain": [
       "(2500, 2500)"
      ]
     },
     "execution_count": 42,
     "metadata": {},
     "output_type": "execute_result"
    }
   ],
   "source": [
    "u.shape"
   ]
  },
  {
   "cell_type": "code",
   "execution_count": 43,
   "metadata": {
    "collapsed": false
   },
   "outputs": [
    {
     "data": {
      "text/plain": [
       "(2500, 6092)"
      ]
     },
     "execution_count": 43,
     "metadata": {},
     "output_type": "execute_result"
    }
   ],
   "source": [
    "mainmatrix.shape"
   ]
  },
  {
   "cell_type": "code",
   "execution_count": 44,
   "metadata": {
    "collapsed": false
   },
   "outputs": [
    {
     "data": {
      "text/plain": [
       "(2500, 6092)"
      ]
     },
     "execution_count": 44,
     "metadata": {},
     "output_type": "execute_result"
    }
   ],
   "source": [
    "v_t.shape"
   ]
  },
  {
   "cell_type": "markdown",
   "metadata": {
    "collapsed": true
   },
   "source": [
    "#### Let's keep 450 books for the ~90% of the total energy"
   ]
  },
  {
   "cell_type": "code",
   "execution_count": 113,
   "metadata": {
    "collapsed": false
   },
   "outputs": [
    {
     "name": "stdout",
     "output_type": "stream",
     "text": [
      "(2500, 450)\n"
     ]
    },
    {
     "data": {
      "text/plain": [
       "array([[ -2.03009199e-02,   1.46995600e-03,  -5.51468665e-03, ...,\n",
       "         -7.88916551e-03,   2.60467464e-02,   1.42720241e-02],\n",
       "       [ -2.00591181e-02,   3.41022036e-03,  -4.42233141e-03, ...,\n",
       "          1.56383075e-03,  -2.62887225e-02,   1.64118668e-02],\n",
       "       [ -2.01392464e-02,  -2.41072849e-03,  -2.25175391e-04, ...,\n",
       "         -1.87033543e-02,   3.73306251e-02,  -2.67488883e-02],\n",
       "       ..., \n",
       "       [ -2.02847751e-02,  -1.89776666e-03,   4.08550795e-03, ...,\n",
       "          6.90450059e-03,   9.96425482e-03,  -3.97038796e-03],\n",
       "       [ -2.00238756e-02,   1.86895879e-03,  -5.94084427e-03, ...,\n",
       "          1.73168086e-02,   3.16512793e-02,  -1.98812019e-02],\n",
       "       [ -2.03539484e-02,   1.44039262e-03,  -7.90382567e-05, ...,\n",
       "         -1.52153672e-02,   1.96520703e-03,  -1.65535344e-03]])"
      ]
     },
     "execution_count": 113,
     "metadata": {},
     "output_type": "execute_result"
    }
   ],
   "source": [
    "print u[:, :450].shape\n",
    "u[:, :450]"
   ]
  },
  {
   "cell_type": "code",
   "execution_count": 115,
   "metadata": {
    "collapsed": false
   },
   "outputs": [
    {
     "name": "stdout",
     "output_type": "stream",
     "text": [
      "(450, 6092)\n"
     ]
    },
    {
     "data": {
      "text/plain": [
       "array([[ 0.0130985 ,  0.01284511,  0.01323676, ...,  0.01323676,\n",
       "         0.01323676,  0.01323676],\n",
       "       [-0.00928497,  0.01717979, -0.00928893, ..., -0.00928893,\n",
       "        -0.00928893, -0.00928893],\n",
       "       [-0.00297272, -0.00468291, -0.00273579, ..., -0.00273579,\n",
       "        -0.00273579, -0.00273579],\n",
       "       ..., \n",
       "       [ 0.00015091,  0.02218852,  0.00015301, ...,  0.00015301,\n",
       "         0.00015301,  0.00015301],\n",
       "       [ 0.01013115,  0.00474572,  0.00021316, ...,  0.00021316,\n",
       "         0.00021316,  0.00021316],\n",
       "       [-0.00165844,  0.00646045,  0.00027946, ...,  0.00027946,\n",
       "         0.00027946,  0.00027946]])"
      ]
     },
     "execution_count": 115,
     "metadata": {},
     "output_type": "execute_result"
    }
   ],
   "source": [
    "print v_t[:450, :].shape\n",
    "v_t[:450, :]"
   ]
  },
  {
   "cell_type": "markdown",
   "metadata": {},
   "source": [
    "### Concepts /  Topics\n",
    "#### Obtain $V^T$ column index"
   ]
  },
  {
   "cell_type": "markdown",
   "metadata": {},
   "source": [
    "#### Selecting Concept (Topic) \n",
    "\n",
    "Concept number : 0"
   ]
  },
  {
   "cell_type": "markdown",
   "metadata": {},
   "source": [
    "#### Selecting and Sorting the first row : \n",
    "```\n",
    "Concept 0  =  Sort to obtain how much of each item/rating(column from mainmatrix) contributes to the latent features.\n",
    "\n",
    "[-5:] # Selecting top 5 items\n",
    "\n",
    "[::-1] # Descending order : mayor to lower to obtain the mayor contributors to the latent features```"
   ]
  },
  {
   "cell_type": "code",
   "execution_count": 73,
   "metadata": {
    "collapsed": false
   },
   "outputs": [
    {
     "data": {
      "text/plain": [
       "array([5961, 6034, 6087, 6070, 6029])"
      ]
     },
     "execution_count": 73,
     "metadata": {},
     "output_type": "execute_result"
    }
   ],
   "source": [
    "# Obtain v_t columns index from the top 5 items\n",
    "# Obtain V^T column index\n",
    "concept_0 = v_t[0].argsort()[-5:][::-1]\n",
    "concept_0"
   ]
  },
  {
   "cell_type": "markdown",
   "metadata": {},
   "source": [
    "\n",
    "$A_k$ : MainMatrix\n",
    "\n",
    "$S_k$ : Sigma\n",
    "\n",
    "$A_k$ = $U_k$  $S_k$  $V_k^T$\n",
    "\n",
    "* __m__: # of users\n",
    "* __n__: # of items\n",
    "* __k__: # of latent features (also rank of __A__)\n",
    "\n",
    "\n",
    "* $A_k$ is our user-book rating matrix (__m__ x __n__)\n",
    "\n",
    "    * **U** is our _weights_ matrix (__m__ x __k__)\n",
    "    * **S** is our singular values matrix (__k__ x __k__)\n",
    "    * and **V*** is our features matrix (__k__ x __n__)\n",
    "\n",
    "#### Apply $V^T$ column index to the column mainmatrix in order to obtain the Top Ratings : Top n : Top items, Top features, from:\n",
    "\n",
    "- mainmatrix : (__m__ x __n__)\n"
   ]
  },
  {
   "cell_type": "markdown",
   "metadata": {},
   "source": [
    "```From v_t column index now I select the columns from main matrix that are most related to the concept 0```"
   ]
  },
  {
   "cell_type": "code",
   "execution_count": 71,
   "metadata": {
    "collapsed": false
   },
   "outputs": [
    {
     "data": {
      "text/plain": [
       "Index([u'1841721522', u'3423105518', u'8807813025', u'3548603203',\n",
       "       u'3379015180'],\n",
       "      dtype='object', name=u'ISBN')"
      ]
     },
     "execution_count": 71,
     "metadata": {},
     "output_type": "execute_result"
    }
   ],
   "source": [
    "mainmatrix.columns[concept_0]"
   ]
  },
  {
   "cell_type": "code",
   "execution_count": 54,
   "metadata": {
    "collapsed": false
   },
   "outputs": [],
   "source": [
    "data = pd.read_csv('data/book_meta.csv', sep=\";\", error_bad_lines=False, low_memory=False\n",
    "                       ).drop(['two', 'three'], axis=1)"
   ]
  },
  {
   "cell_type": "code",
   "execution_count": 55,
   "metadata": {
    "collapsed": false
   },
   "outputs": [
    {
     "data": {
      "text/html": [
       "<div>\n",
       "<table border=\"1\" class=\"dataframe\">\n",
       "  <thead>\n",
       "    <tr style=\"text-align: right;\">\n",
       "      <th></th>\n",
       "      <th>ISBN</th>\n",
       "      <th>Book-Title</th>\n",
       "      <th>Book-Author</th>\n",
       "      <th>Year-Of-Publication</th>\n",
       "      <th>Publisher</th>\n",
       "      <th>Image-URL-S</th>\n",
       "      <th>Image-URL-M</th>\n",
       "      <th>Image-URL-L</th>\n",
       "    </tr>\n",
       "  </thead>\n",
       "  <tbody>\n",
       "    <tr>\n",
       "      <th>0</th>\n",
       "      <td>0195153448</td>\n",
       "      <td>Classical Mythology</td>\n",
       "      <td>Mark P. O. Morford</td>\n",
       "      <td>2002</td>\n",
       "      <td>Oxford University Press</td>\n",
       "      <td>http://images.amazon.com/images/P/0195153448.0...</td>\n",
       "      <td>http://images.amazon.com/images/P/0195153448.0...</td>\n",
       "      <td>http://images.amazon.com/images/P/0195153448.0...</td>\n",
       "    </tr>\n",
       "    <tr>\n",
       "      <th>1</th>\n",
       "      <td>0002005018</td>\n",
       "      <td>Clara Callan</td>\n",
       "      <td>Richard Bruce Wright</td>\n",
       "      <td>2001</td>\n",
       "      <td>HarperFlamingo Canada</td>\n",
       "      <td>http://images.amazon.com/images/P/0002005018.0...</td>\n",
       "      <td>http://images.amazon.com/images/P/0002005018.0...</td>\n",
       "      <td>http://images.amazon.com/images/P/0002005018.0...</td>\n",
       "    </tr>\n",
       "  </tbody>\n",
       "</table>\n",
       "</div>"
      ],
      "text/plain": [
       "         ISBN           Book-Title           Book-Author Year-Of-Publication  \\\n",
       "0  0195153448  Classical Mythology    Mark P. O. Morford                2002   \n",
       "1  0002005018         Clara Callan  Richard Bruce Wright                2001   \n",
       "\n",
       "                 Publisher                                        Image-URL-S  \\\n",
       "0  Oxford University Press  http://images.amazon.com/images/P/0195153448.0...   \n",
       "1    HarperFlamingo Canada  http://images.amazon.com/images/P/0002005018.0...   \n",
       "\n",
       "                                         Image-URL-M  \\\n",
       "0  http://images.amazon.com/images/P/0195153448.0...   \n",
       "1  http://images.amazon.com/images/P/0002005018.0...   \n",
       "\n",
       "                                         Image-URL-L  \n",
       "0  http://images.amazon.com/images/P/0195153448.0...  \n",
       "1  http://images.amazon.com/images/P/0002005018.0...  "
      ]
     },
     "execution_count": 55,
     "metadata": {},
     "output_type": "execute_result"
    }
   ],
   "source": [
    "data[:2]"
   ]
  },
  {
   "cell_type": "code",
   "execution_count": 56,
   "metadata": {
    "collapsed": false
   },
   "outputs": [
    {
     "name": "stdout",
     "output_type": "stream",
     "text": [
      "<class 'pandas.core.frame.DataFrame'>\n",
      "RangeIndex: 271379 entries, 0 to 271378\n",
      "Data columns (total 8 columns):\n",
      "ISBN                   271379 non-null object\n",
      "Book-Title             271379 non-null object\n",
      "Book-Author            271379 non-null object\n",
      "Year-Of-Publication    271379 non-null object\n",
      "Publisher              271377 non-null object\n",
      "Image-URL-S            271379 non-null object\n",
      "Image-URL-M            271379 non-null object\n",
      "Image-URL-L            271376 non-null object\n",
      "dtypes: object(8)\n",
      "memory usage: 16.6+ MB\n"
     ]
    }
   ],
   "source": [
    "data.info()"
   ]
  },
  {
   "cell_type": "markdown",
   "metadata": {},
   "source": [
    "#### BOOKS \n",
    "\n",
    "- Books Index and Title"
   ]
  },
  {
   "cell_type": "code",
   "execution_count": 58,
   "metadata": {
    "collapsed": false
   },
   "outputs": [
    {
     "data": {
      "text/plain": [
       "ISBN\n",
       "0195153448                                  Classical Mythology\n",
       "0002005018                                         Clara Callan\n",
       "0060973129                                 Decision in Normandy\n",
       "0374157065    Flu: The Story of the Great Influenza Pandemic...\n",
       "Name: Book-Title, dtype: object"
      ]
     },
     "execution_count": 58,
     "metadata": {},
     "output_type": "execute_result"
    }
   ],
   "source": [
    "book_names = data.set_index('ISBN')['Book-Title']\n",
    "book_names[:4]"
   ]
  },
  {
   "cell_type": "code",
   "execution_count": 72,
   "metadata": {
    "collapsed": false
   },
   "outputs": [
    {
     "data": {
      "text/plain": [
       "'Classical Mythology'"
      ]
     },
     "execution_count": 72,
     "metadata": {},
     "output_type": "execute_result"
    }
   ],
   "source": [
    "book_names['0195153448']"
   ]
  },
  {
   "cell_type": "markdown",
   "metadata": {},
   "source": [
    "#### Connecting Concept to Books"
   ]
  },
  {
   "cell_type": "markdown",
   "metadata": {},
   "source": [
    "- $V^T$ rows connects Concept to Books (__k__ x __n__)"
   ]
  },
  {
   "cell_type": "code",
   "execution_count": 69,
   "metadata": {
    "collapsed": false
   },
   "outputs": [
    {
     "name": "stdout",
     "output_type": "stream",
     "text": [
      "10\n"
     ]
    },
    {
     "data": {
      "text/plain": [
       "array([5961, 6034, 6087, 6070, 6029, 6020, 2298, 6088, 6021, 6027])"
      ]
     },
     "execution_count": 69,
     "metadata": {},
     "output_type": "execute_result"
    }
   ],
   "source": [
    "# Descending order : mayor to lower\n",
    "topbooks_index = v_t[0].argsort()[-10:][::-1]\n",
    "print len(topbooks_index)\n",
    "topbooks_index"
   ]
  },
  {
   "cell_type": "code",
   "execution_count": 68,
   "metadata": {
    "collapsed": false
   },
   "outputs": [
    {
     "data": {
      "text/plain": [
       "Index([u'1841721522', u'3423105518', u'8807813025', u'3548603203',\n",
       "       u'3379015180', u'3250600555', u'042516019X', u'8817106100',\n",
       "       u'3257061269', u'3257229364'],\n",
       "      dtype='object', name=u'ISBN')"
      ]
     },
     "execution_count": 68,
     "metadata": {},
     "output_type": "execute_result"
    }
   ],
   "source": [
    "mainmatrix.columns[topbooks_index]"
   ]
  },
  {
   "cell_type": "markdown",
   "metadata": {},
   "source": [
    "#### book_names :  Index 'ISBN'  >>   ['Book-Title']\n",
    "- mainmatrix : (__m__ x __n__)\n",
    "\n",
    "* __m__: # of User-ID\n",
    "* __n__: # of ISBN\n",
    "\n",
    "- *__Top ISBN by User__*: Top Rating by User:  mainmatrix.columns[topconcept_index]"
   ]
  },
  {
   "cell_type": "code",
   "execution_count": null,
   "metadata": {
    "collapsed": true
   },
   "outputs": [],
   "source": [
    "# mainmatrix : \n",
    "def topbooks_bytopic(mainmatrix, v_t, concep=0, booklist_qty=5):\n",
    "    topconcept_index = v_t[concept].argsort()[-book_qty:][::-1]\n",
    "    topbook_indexes = book_names[mainmatrix.columns[topconcept_index]]\n",
    "        "
   ]
  },
  {
   "cell_type": "code",
   "execution_count": null,
   "metadata": {
    "collapsed": true
   },
   "outputs": [],
   "source": []
  },
  {
   "cell_type": "code",
   "execution_count": null,
   "metadata": {
    "collapsed": true
   },
   "outputs": [],
   "source": []
  },
  {
   "cell_type": "code",
   "execution_count": 258,
   "metadata": {
    "collapsed": false
   },
   "outputs": [],
   "source": [
    "def top_book_for_topic(mainmatrix, v_t, concept=0, books_qty=10):\n",
    "    #print 'Concept: ', concept\n",
    "    book_relevance_index = v_t[concept].argsort()[-books_qty:][::-1]\n",
    "    top_index = book_names[mainmatrix.columns[book_relevance_index]]\n",
    "    return top_index"
   ]
  },
  {
   "cell_type": "code",
   "execution_count": 259,
   "metadata": {
    "collapsed": false
   },
   "outputs": [
    {
     "name": "stdout",
     "output_type": "stream",
     "text": [
      "Concept: 0\n",
      "ISBN\n",
      "1841721522    New Vegetarian: Bold and Beautiful Recipes for...\n",
      "3423105518                                        Name Der Rose\n",
      "8807813025                               Novocento, Un Monologo\n",
      "3548603203                                        Artemis Fowl.\n",
      "3379015180                                      Schlafes Bruder\n",
      "3250600555    Monsieur Ibrahim und die Blumen des Koran. Erz...\n",
      "042516019X                                           Masquerade\n",
      "8817106100                                          Oceano Mare\n",
      "3257061269                                       Der Alchimist.\n",
      "3257229364    Endstation Venedig. Commissario Brunettis zwei...\n",
      "Name: Book-Title, dtype: object\n",
      "\n",
      "Concept: 1\n",
      "ISBN\n",
      "0312195516                  The Red Tent (Bestselling Backlist)\n",
      "0385504209                                    The Da Vinci Code\n",
      "0446672211    Where the Heart Is (Oprah's Book Club (Paperba...\n",
      "0316666343                            The Lovely Bones: A Novel\n",
      "0671001795                                    Two for the Dough\n",
      "0446610038                                  1st to Die: A Novel\n",
      "059035342X    Harry Potter and the Sorcerer's Stone (Harry P...\n",
      "067976402X                               Snow Falling on Cedars\n",
      "0786868716                   The Five People You Meet in Heaven\n",
      "0385484518    Tuesdays with Morrie: An Old Man, a Young Man,...\n",
      "Name: Book-Title, dtype: object\n",
      "\n",
      "Concept: 2\n",
      "ISBN\n",
      "0515131229    Dance upon the Air (Three Sisters Island Trilogy)\n",
      "051513287X         Face the Fire (Three Sisters Island Trilogy)\n",
      "051513628X               Key of Light (Key Trilogy (Paperback))\n",
      "0515128554                     Heart of the Sea (Irish Trilogy)\n",
      "0515128546                    Tears of the Moon (Irish Trilogy)\n",
      "0515136530        Key of Valor (Roberts, Nora. Key Trilogy, 3.)\n",
      "0515126772                    Jewels of the Sun (Irish Trilogy)\n",
      "0515136379           Key of Knowledge (Key Trilogy (Paperback))\n",
      "042518630X                                      Purity in Death\n",
      "0515132020      Heaven and Earth (Three Sisters Island Trilogy)\n",
      "Name: Book-Title, dtype: object\n",
      "\n"
     ]
    }
   ],
   "source": [
    "\n",
    "for i in range(concepts):\n",
    "    print 'Concept: {}'.format(i)\n",
    "    print top_book_for_topic(mainmatrix, v_t, concept=i, books_qty=10)\n",
    "    print ''\n",
    "    "
   ]
  },
  {
   "cell_type": "code",
   "execution_count": 242,
   "metadata": {
    "collapsed": false
   },
   "outputs": [],
   "source": [
    "def get_concept_to_book(mainmatrix, v_t, concept=0, count=10):\n",
    "    book_index = v_t[concept].argsort()[::-1][0:count] # Descending order mayor to lower\n",
    "    return book_names[mainmatrix.columns[book_index]]"
   ]
  },
  {
   "cell_type": "code",
   "execution_count": 243,
   "metadata": {
    "collapsed": false
   },
   "outputs": [
    {
     "data": {
      "text/plain": [
       "ISBN\n",
       "1841721522    New Vegetarian: Bold and Beautiful Recipes for...\n",
       "3423105518                                        Name Der Rose\n",
       "8807813025                               Novocento, Un Monologo\n",
       "3548603203                                        Artemis Fowl.\n",
       "3379015180                                      Schlafes Bruder\n",
       "3250600555    Monsieur Ibrahim und die Blumen des Koran. Erz...\n",
       "042516019X                                           Masquerade\n",
       "8817106100                                          Oceano Mare\n",
       "3257061269                                       Der Alchimist.\n",
       "3257229364    Endstation Venedig. Commissario Brunettis zwei...\n",
       "Name: Book-Title, dtype: object"
      ]
     },
     "execution_count": 243,
     "metadata": {},
     "output_type": "execute_result"
    }
   ],
   "source": [
    "get_concept_to_book(mainmatrix, v_t, concept=0, count=10)"
   ]
  },
  {
   "cell_type": "markdown",
   "metadata": {},
   "source": [
    "#### Top ten books for 3 concepts ( Topics)"
   ]
  },
  {
   "cell_type": "code",
   "execution_count": 244,
   "metadata": {
    "collapsed": false
   },
   "outputs": [
    {
     "name": "stdout",
     "output_type": "stream",
     "text": [
      "Concept: 0\n",
      "ISBN\n",
      "1841721522    New Vegetarian: Bold and Beautiful Recipes for...\n",
      "3423105518                                        Name Der Rose\n",
      "8807813025                               Novocento, Un Monologo\n",
      "3548603203                                        Artemis Fowl.\n",
      "3379015180                                      Schlafes Bruder\n",
      "3250600555    Monsieur Ibrahim und die Blumen des Koran. Erz...\n",
      "042516019X                                           Masquerade\n",
      "8817106100                                          Oceano Mare\n",
      "3257061269                                       Der Alchimist.\n",
      "3257229364    Endstation Venedig. Commissario Brunettis zwei...\n",
      "Name: Book-Title, dtype: object\n",
      "\n",
      "Concept: 1\n",
      "ISBN\n",
      "0312195516                  The Red Tent (Bestselling Backlist)\n",
      "0385504209                                    The Da Vinci Code\n",
      "0446672211    Where the Heart Is (Oprah's Book Club (Paperba...\n",
      "0316666343                            The Lovely Bones: A Novel\n",
      "0671001795                                    Two for the Dough\n",
      "0446610038                                  1st to Die: A Novel\n",
      "059035342X    Harry Potter and the Sorcerer's Stone (Harry P...\n",
      "067976402X                               Snow Falling on Cedars\n",
      "0786868716                   The Five People You Meet in Heaven\n",
      "0385484518    Tuesdays with Morrie: An Old Man, a Young Man,...\n",
      "Name: Book-Title, dtype: object\n",
      "\n",
      "Concept: 2\n",
      "ISBN\n",
      "0515131229    Dance upon the Air (Three Sisters Island Trilogy)\n",
      "051513287X         Face the Fire (Three Sisters Island Trilogy)\n",
      "051513628X               Key of Light (Key Trilogy (Paperback))\n",
      "0515128554                     Heart of the Sea (Irish Trilogy)\n",
      "0515128546                    Tears of the Moon (Irish Trilogy)\n",
      "0515136530        Key of Valor (Roberts, Nora. Key Trilogy, 3.)\n",
      "0515126772                    Jewels of the Sun (Irish Trilogy)\n",
      "0515136379           Key of Knowledge (Key Trilogy (Paperback))\n",
      "042518630X                                      Purity in Death\n",
      "0515132020      Heaven and Earth (Three Sisters Island Trilogy)\n",
      "Name: Book-Title, dtype: object\n",
      "\n"
     ]
    }
   ],
   "source": [
    "#  450 concepts(topics) accounts for 90% of the energy(Variance)\n",
    "# concepts = 450\n",
    "concepts = 3\n",
    "\n",
    "for i in range(concepts):\n",
    "    print 'Concept: {}'.format(i)\n",
    "    print get_concept_to_book(mainmatrix, v_t, concept=i, count=10)\n",
    "    print ''\n",
    "    \n",
    "\n",
    "    "
   ]
  },
  {
   "cell_type": "markdown",
   "metadata": {},
   "source": [
    "#### Inference\n",
    "\n",
    "Concept : Topic 0, Mistery novel\n",
    "\n",
    "Concept : Topic 1, Fantasy\n",
    "\n",
    "Concept : Topic 2, Drama\n",
    "\n",
    ".\n",
    "\n",
    ".\n",
    "\n",
    ".\n",
    "\n",
    "Concept : Topic 450, ....just for fun. "
   ]
  },
  {
   "cell_type": "markdown",
   "metadata": {},
   "source": [
    "### User - Concept"
   ]
  },
  {
   "cell_type": "code",
   "execution_count": 165,
   "metadata": {
    "collapsed": false
   },
   "outputs": [
    {
     "data": {
      "text/plain": [
       "(2500, 2500)"
      ]
     },
     "execution_count": 165,
     "metadata": {},
     "output_type": "execute_result"
    }
   ],
   "source": [
    "u.shape"
   ]
  },
  {
   "cell_type": "code",
   "execution_count": 245,
   "metadata": {
    "collapsed": false
   },
   "outputs": [
    {
     "data": {
      "text/plain": [
       "array([2112, 2000, 2101, 2120, 1987, 2260, 2182, 1901, 1939, 1842])"
      ]
     },
     "execution_count": 245,
     "metadata": {},
     "output_type": "execute_result"
    }
   ],
   "source": [
    "user_zero = np.argsort(u[0, :])[::-1][:10]\n",
    "user_zero"
   ]
  },
  {
   "cell_type": "code",
   "execution_count": 246,
   "metadata": {
    "collapsed": false
   },
   "outputs": [
    {
     "data": {
      "text/plain": [
       "array([ 0.07613065,  0.07610656,  0.07291647,  0.07263817,  0.07219715,\n",
       "        0.06875815,  0.06827144,  0.06807802,  0.0675759 ,  0.06671843])"
      ]
     },
     "execution_count": 246,
     "metadata": {},
     "output_type": "execute_result"
    }
   ],
   "source": [
    "u[0, :][user_zero]"
   ]
  },
  {
   "cell_type": "code",
   "execution_count": 248,
   "metadata": {
    "collapsed": false
   },
   "outputs": [
    {
     "data": {
      "text/plain": [
       "[array([ 661, 2786,  610]),\n",
       " array([2981, 4484, 3891]),\n",
       " array([4647, 4387, 1407]),\n",
       " array([5948, 4624, 1489]),\n",
       " array([ 190, 3534, 3256]),\n",
       " array([2748, 2429, 3583]),\n",
       " array([3698, 2161, 4508]),\n",
       " array([ 674, 5375, 5299]),\n",
       " array([1684, 3953, 4418]),\n",
       " array([4028,  616, 5791])]"
      ]
     },
     "execution_count": 248,
     "metadata": {},
     "output_type": "execute_result"
    }
   ],
   "source": [
    "top_index = []\n",
    "for i in user_zero:\n",
    "    top_index.append(np.argsort(v_t[i, :])[::-1][:3])\n",
    "    \n",
    "top_index"
   ]
  },
  {
   "cell_type": "code",
   "execution_count": 249,
   "metadata": {
    "collapsed": false
   },
   "outputs": [
    {
     "data": {
      "text/plain": [
       "[array(['0151001006', '0441003389', '0140440410'], dtype=object),\n",
       " array(['0446603104', '0670853097', '0553212451'], dtype=object),\n",
       " array(['0671510126', '0590477404', '0374281602'], dtype=object)]"
      ]
     },
     "execution_count": 249,
     "metadata": {},
     "output_type": "execute_result"
    }
   ],
   "source": [
    "book_user_index = []\n",
    "concepts = 3\n",
    "\n",
    "for i in range(concepts):\n",
    "    book_user_index.append(mainmatrix.columns[top_index[i]].values)\n",
    "book_user_index"
   ]
  },
  {
   "cell_type": "code",
   "execution_count": 250,
   "metadata": {
    "collapsed": false
   },
   "outputs": [
    {
     "name": "stdout",
     "output_type": "stream",
     "text": [
      "concept0 : Top 3 recomenders for user zero\n",
      "\n",
      "Snow Falling on Cedars\n",
      "Freedom's Landing\n",
      "Anna Karenina (Penguin Classics)\n",
      "\n",
      "\n",
      "concept1 : Top 3 recomenders for user zero\n",
      "\n",
      "Seduction by Design\n",
      "The Stone Diaries\n",
      "The Jungle (Bantam Classics)\n",
      "\n",
      "\n",
      "concept2 : Top 3 recomenders for user zero\n",
      "\n",
      "The Good Earth (Enriched Classics)\n",
      "Monster Blood II (Goosebumps, No 18)\n",
      "Reversible Errors: A Novel\n",
      "\n",
      "\n"
     ]
    }
   ],
   "source": [
    "for concept, book_index in enumerate(book_user_index):\n",
    "    print 'concept{} : Top 3 recomenders for user zero\\n'.format(concept)\n",
    "    for index in book_index:\n",
    "        try:\n",
    "            title = data[data.ISBN == index]['Book-Title'].values[0]\n",
    "        except:\n",
    "            title = 'Unknown title'\n",
    "        print title\n",
    "    print '\\n'\n",
    "        "
   ]
  },
  {
   "cell_type": "markdown",
   "metadata": {},
   "source": [
    "- According to the book recommendation user zero might be  ...."
   ]
  },
  {
   "cell_type": "code",
   "execution_count": 166,
   "metadata": {
    "collapsed": true
   },
   "outputs": [],
   "source": [
    "u_reduced = u[:, :450]\n",
    "sigma_reduced = sigma[:450]\n",
    "v_t_reduced = v_t[:450]"
   ]
  },
  {
   "cell_type": "code",
   "execution_count": 170,
   "metadata": {
    "collapsed": false
   },
   "outputs": [
    {
     "data": {
      "text/plain": [
       "array([[-0.95744986, -1.10020907, -1.0012361 , ..., -1.0012361 ,\n",
       "        -1.0012361 , -1.0012361 ],\n",
       "       [-1.14121559, -1.18631704, -1.0228987 , ..., -1.0228987 ,\n",
       "        -1.0228987 , -1.0228987 ],\n",
       "       [-0.99645468, -0.85329675, -0.99015955, ..., -0.99015955,\n",
       "        -0.99015955, -0.99015955],\n",
       "       ..., \n",
       "       [-0.97749502, -0.93852378, -1.00563909, ..., -1.00563909,\n",
       "        -1.00563909, -1.00563909],\n",
       "       [-0.7848654 , -1.0411863 , -0.98659292, ..., -0.98659292,\n",
       "        -0.98659292, -0.98659292],\n",
       "       [-1.07210139, -0.82444039, -1.01193158, ..., -1.01193158,\n",
       "        -1.01193158, -1.01193158]])"
      ]
     },
     "execution_count": 170,
     "metadata": {},
     "output_type": "execute_result"
    }
   ],
   "source": [
    "matrix_recontruction = (u_reduced*sigma_reduced).dot(v_t_reduced)\n",
    "matrix_recontruction"
   ]
  },
  {
   "cell_type": "code",
   "execution_count": null,
   "metadata": {
    "collapsed": true
   },
   "outputs": [],
   "source": []
  },
  {
   "cell_type": "code",
   "execution_count": null,
   "metadata": {
    "collapsed": true
   },
   "outputs": [],
   "source": []
  },
  {
   "cell_type": "code",
   "execution_count": null,
   "metadata": {
    "collapsed": true
   },
   "outputs": [],
   "source": []
  },
  {
   "cell_type": "code",
   "execution_count": null,
   "metadata": {
    "collapsed": true
   },
   "outputs": [],
   "source": []
  },
  {
   "cell_type": "code",
   "execution_count": null,
   "metadata": {
    "collapsed": true
   },
   "outputs": [],
   "source": []
  },
  {
   "cell_type": "code",
   "execution_count": null,
   "metadata": {
    "collapsed": true
   },
   "outputs": [],
   "source": []
  },
  {
   "cell_type": "code",
   "execution_count": null,
   "metadata": {
    "collapsed": true
   },
   "outputs": [],
   "source": []
  },
  {
   "cell_type": "code",
   "execution_count": null,
   "metadata": {
    "collapsed": true
   },
   "outputs": [],
   "source": []
  },
  {
   "cell_type": "code",
   "execution_count": null,
   "metadata": {
    "collapsed": true
   },
   "outputs": [],
   "source": []
  },
  {
   "cell_type": "code",
   "execution_count": null,
   "metadata": {
    "collapsed": true
   },
   "outputs": [],
   "source": []
  },
  {
   "cell_type": "code",
   "execution_count": null,
   "metadata": {
    "collapsed": true
   },
   "outputs": [],
   "source": []
  },
  {
   "cell_type": "code",
   "execution_count": null,
   "metadata": {
    "collapsed": true
   },
   "outputs": [],
   "source": []
  },
  {
   "cell_type": "code",
   "execution_count": null,
   "metadata": {
    "collapsed": true
   },
   "outputs": [],
   "source": []
  },
  {
   "cell_type": "code",
   "execution_count": null,
   "metadata": {
    "collapsed": true
   },
   "outputs": [],
   "source": []
  },
  {
   "cell_type": "code",
   "execution_count": null,
   "metadata": {
    "collapsed": true
   },
   "outputs": [],
   "source": []
  },
  {
   "cell_type": "code",
   "execution_count": null,
   "metadata": {
    "collapsed": true
   },
   "outputs": [],
   "source": []
  },
  {
   "cell_type": "code",
   "execution_count": null,
   "metadata": {
    "collapsed": true
   },
   "outputs": [],
   "source": []
  },
  {
   "cell_type": "code",
   "execution_count": null,
   "metadata": {
    "collapsed": true
   },
   "outputs": [],
   "source": []
  },
  {
   "cell_type": "code",
   "execution_count": null,
   "metadata": {
    "collapsed": true
   },
   "outputs": [],
   "source": []
  },
  {
   "cell_type": "code",
   "execution_count": null,
   "metadata": {
    "collapsed": true
   },
   "outputs": [],
   "source": []
  },
  {
   "cell_type": "code",
   "execution_count": null,
   "metadata": {
    "collapsed": true
   },
   "outputs": [],
   "source": []
  },
  {
   "cell_type": "code",
   "execution_count": null,
   "metadata": {
    "collapsed": true
   },
   "outputs": [],
   "source": []
  }
 ],
 "metadata": {
  "kernelspec": {
   "display_name": "Python 2",
   "language": "python",
   "name": "python2"
  },
  "language_info": {
   "codemirror_mode": {
    "name": "ipython",
    "version": 2
   },
   "file_extension": ".py",
   "mimetype": "text/x-python",
   "name": "python",
   "nbconvert_exporter": "python",
   "pygments_lexer": "ipython2",
   "version": "2.7.11"
  }
 },
 "nbformat": 4,
 "nbformat_minor": 0
}
