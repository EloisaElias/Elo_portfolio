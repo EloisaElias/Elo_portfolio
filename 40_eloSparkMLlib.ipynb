{
 "cells": [
  {
   "cell_type": "markdown",
   "metadata": {},
   "source": [
    "## Spark\n",
    "---\n",
    "#### Elo notes\n",
    "\n"
   ]
  },
  {
   "cell_type": "code",
   "execution_count": 20,
   "metadata": {
    "collapsed": false
   },
   "outputs": [],
   "source": [
    "import string\n",
    "import json\n",
    "import pickle as pk\n",
    "import pandas as pd\n",
    "import numpy as np\n",
    "\n",
    "from pyspark.mllib.feature import HashingTF\n",
    "from pyspark.mllib.regression import LabeledPoint\n",
    "from pyspark.mllib.classification import NaiveBayes\n",
    "\n",
    "from pyspark.ml.feature import StringIndexer\n",
    "\n",
    "from pyspark.sql import SQLContext\n",
    "from pyspark.sql import Row\n",
    "\n",
    "from pyspark.sql.functions import udf, lit, col, substring_index\n",
    "from pyspark.sql.types import StringType, DoubleType\n",
    "\n",
    "import pyspark.sql.functions as sf\n",
    "import pyspark.sql.types as sparktypes\n",
    "\n",
    "from sklearn.datasets import fetch_20newsgroups\n",
    "\n",
    "from nltk.corpus import stopwords\n",
    "from nltk.tokenize import word_tokenize\n",
    "from nltk.stem.snowball import SnowballStemmer\n",
    "from nltk.stem.porter import PorterStemmer\n",
    "\n",
    "import re\n",
    "\n",
    "from collections import Counter\n"
   ]
  },
  {
   "cell_type": "code",
   "execution_count": 9,
   "metadata": {
    "collapsed": false
   },
   "outputs": [
    {
     "data": {
      "text/html": [
       "\n",
       "        <div>\n",
       "            <p><b>SparkContext</b></p>\n",
       "\n",
       "            <p><a href=\"http://10.136.107.24:4040\">Spark UI</a></p>\n",
       "\n",
       "            <dl>\n",
       "              <dt>Version</dt>\n",
       "                <dd><code>v2.2.0</code></dd>\n",
       "              <dt>Master</dt>\n",
       "                <dd><code>local[*]</code></dd>\n",
       "              <dt>AppName</dt>\n",
       "                <dd><code>PySparkShell</code></dd>\n",
       "            </dl>\n",
       "        </div>\n",
       "        "
      ],
      "text/plain": [
       "<SparkContext master=local[*] appName=PySparkShell>"
      ]
     },
     "execution_count": 9,
     "metadata": {},
     "output_type": "execute_result"
    }
   ],
   "source": [
    "sc"
   ]
  },
  {
   "cell_type": "code",
   "execution_count": 10,
   "metadata": {
    "collapsed": false
   },
   "outputs": [],
   "source": [
    "# import pyspark as ps\n",
    "# sc = ps.SparkContext('local[4]')\n",
    "# sc"
   ]
  },
  {
   "cell_type": "markdown",
   "metadata": {},
   "source": [
    "### Python - Sklearn\n",
    "\n",
    "[20 Newsgroups](http://qwone.com/~jason/20Newsgroups/)"
   ]
  },
  {
   "cell_type": "code",
   "execution_count": 11,
   "metadata": {
    "collapsed": true
   },
   "outputs": [],
   "source": [
    "news_ = fetch_20newsgroups(subset='train')"
   ]
  },
  {
   "cell_type": "code",
   "execution_count": 12,
   "metadata": {
    "collapsed": false
   },
   "outputs": [],
   "source": [
    "categories = news_.target_names"
   ]
  },
  {
   "cell_type": "code",
   "execution_count": 13,
   "metadata": {
    "collapsed": false
   },
   "outputs": [
    {
     "data": {
      "text/plain": [
       "['alt.atheism',\n",
       " 'comp.graphics',\n",
       " 'comp.os.ms-windows.misc',\n",
       " 'comp.sys.ibm.pc.hardware',\n",
       " 'comp.sys.mac.hardware',\n",
       " 'comp.windows.x',\n",
       " 'misc.forsale',\n",
       " 'rec.autos',\n",
       " 'rec.motorcycles',\n",
       " 'rec.sport.baseball',\n",
       " 'rec.sport.hockey',\n",
       " 'sci.crypt',\n",
       " 'sci.electronics',\n",
       " 'sci.med',\n",
       " 'sci.space',\n",
       " 'soc.religion.christian',\n",
       " 'talk.politics.guns',\n",
       " 'talk.politics.mideast',\n",
       " 'talk.politics.misc',\n",
       " 'talk.religion.misc']"
      ]
     },
     "execution_count": 13,
     "metadata": {},
     "output_type": "execute_result"
    }
   ],
   "source": [
    "categories"
   ]
  },
  {
   "cell_type": "code",
   "execution_count": 14,
   "metadata": {
    "collapsed": true
   },
   "outputs": [],
   "source": [
    "news = news_.data"
   ]
  },
  {
   "cell_type": "code",
   "execution_count": 15,
   "metadata": {
    "collapsed": false
   },
   "outputs": [
    {
     "data": {
      "text/plain": [
       "u'From: twillis@ec.ecn.purdue.edu (Thomas E Willis)\\nSubject: PB questions...\\nOrganization: Purdue University Engineering Computer Network\\nDistribution: usa\\nLines: 36\\n\\nwell folks, my mac plus finally gave up the ghost this weekend after\\nstarting life as a 512k way back in 1985.  sooo, i\\'m in the market for a\\nnew machine a bit sooner than i intended to be...\\n\\ni\\'m looking into picking up a powerbook 160 or maybe 180 and have a bunch\\nof questions that (hopefully) somebody can answer:\\n\\n* does anybody know any dirt on when the next round of powerbook\\nintroductions are expected?  i\\'d heard the 185c was supposed to make an\\nappearence \"this summer\" but haven\\'t heard anymore on it - and since i\\ndon\\'t have access to macleak, i was wondering if anybody out there had\\nmore info...\\n\\n* has anybody heard rumors about price drops to the powerbook line like the\\nones the duo\\'s just went through recently?\\n\\n* what\\'s the impression of the display on the 180?  i could probably swing\\na 180 if i got the 80Mb disk rather than the 120, but i don\\'t really have\\na feel for how much \"better\" the display is (yea, it looks great in the\\nstore, but is that all \"wow\" or is it really that good?).  could i solicit\\nsome opinions of people who use the 160 and 180 day-to-day on if its worth\\ntaking the disk size and money hit to get the active display?  (i realize\\nthis is a real subjective question, but i\\'ve only played around with the\\nmachines in a computer store breifly and figured the opinions of somebody\\nwho actually uses the machine daily might prove helpful).\\n\\n* how well does hellcats perform?  ;)\\n\\nthanks a bunch in advance for any info - if you could email, i\\'ll post a\\nsummary (news reading time is at a premium with finals just around the\\ncorner... :( )\\n--\\nTom Willis  \\\\  twillis@ecn.purdue.edu    \\\\    Purdue Electrical Engineering\\n---------------------------------------------------------------------------\\n\"Convictions are more dangerous enemies of truth than lies.\"  - F. W.\\nNietzsche\\n'"
      ]
     },
     "execution_count": 15,
     "metadata": {},
     "output_type": "execute_result"
    }
   ],
   "source": [
    "news[2]"
   ]
  },
  {
   "cell_type": "markdown",
   "metadata": {},
   "source": [
    "### Spark - MLlib\n",
    "[from Sklearn to MLlib](http://blog.xebia.fr/2015/10/08/from-scikit-learn-to-spark-ml/)\n"
   ]
  },
  {
   "cell_type": "code",
   "execution_count": 22,
   "metadata": {
    "collapsed": false
   },
   "outputs": [],
   "source": [
    "# Gering the categories from Python Sklearn \n",
    "cate = categories"
   ]
  },
  {
   "cell_type": "code",
   "execution_count": 23,
   "metadata": {
    "collapsed": false
   },
   "outputs": [
    {
     "data": {
      "text/plain": [
       "['alt.atheism',\n",
       " 'comp.graphics',\n",
       " 'comp.os.ms-windows.misc',\n",
       " 'comp.sys.ibm.pc.hardware',\n",
       " 'comp.sys.mac.hardware',\n",
       " 'comp.windows.x',\n",
       " 'misc.forsale',\n",
       " 'rec.autos',\n",
       " 'rec.motorcycles',\n",
       " 'rec.sport.baseball',\n",
       " 'rec.sport.hockey',\n",
       " 'sci.crypt',\n",
       " 'sci.electronics',\n",
       " 'sci.med',\n",
       " 'sci.space',\n",
       " 'soc.religion.christian',\n",
       " 'talk.politics.guns',\n",
       " 'talk.politics.mideast',\n",
       " 'talk.politics.misc',\n",
       " 'talk.religion.misc']"
      ]
     },
     "execution_count": 23,
     "metadata": {},
     "output_type": "execute_result"
    }
   ],
   "source": [
    "cate"
   ]
  },
  {
   "cell_type": "code",
   "execution_count": 18,
   "metadata": {
    "collapsed": false
   },
   "outputs": [],
   "source": [
    "# Raw data\n",
    "text_rdd = sc.wholeTextFiles('file:///Users/eloisaelias/Desktop/weeks/20_newsgroups/*').cache()"
   ]
  },
  {
   "cell_type": "code",
   "execution_count": 19,
   "metadata": {
    "collapsed": false
   },
   "outputs": [
    {
     "data": {
      "text/plain": [
       "[(u'file:/Users/eloisaelias/Desktop/weeks/20_newsgroups/talk.politics.mideast/75895',\n",
       "  u'Newsgroups: talk.politics.mideast\\nPath: cantaloupe.srv.cs.cmu.edu!crabapple.srv.cs.cmu.edu!bb3.andrew.cmu.edu!news.sei.cmu.edu!cis.ohio-state.edu!zaphod.mps.ohio-state.edu!cs.utexas.edu!uunet!brunix!doorknob!hm\\nFrom: hm@cs.brown.edu (Harry Mamaysky)\\nSubject: Heil Hernlem \\nIn-Reply-To: hernlem@chess.ncsu.edu\\'s message of Wed, 14 Apr 1993 12:58:13 GMT\\nMessage-ID: <HM.93Apr15112701@yoda.cs.brown.edu>\\nSender: news@cs.brown.edu\\nOrganization: Dept. of Computer Science, Brown University\\nReferences: <1993Apr14.125813.21737@ncsu.edu>\\nDate: Thu, 15 Apr 1993 16:27:01 GMT\\nLines: 24\\n\\nIn article <1993Apr14.125813.21737@ncsu.edu> hernlem@chess.ncsu.edu (Brad Hernlem) writes:\\n\\n   Lebanese resistance forces detonated a bomb under an Israeli occupation\\n   patrol in Lebanese territory two days ago. Three soldiers were killed and\\n   two wounded. In \"retaliation\", Israeli and Israeli-backed forces wounded\\n   8 civilians by bombarding several Lebanese villages. Ironically, the Israeli\\n   government justifies its occupation in Lebanon by claiming that it is \\n   necessary to prevent such bombardments of Israeli villages!!\\n\\n   Congratulations to the brave men of the Lebanese resistance! With every\\n   Israeli son that you place in the grave you are underlining the moral\\n   bankruptcy of Israel\\'s occupation and drawing attention to the Israeli\\n   government\\'s policy of reckless disregard for civilian life.\\n\\n   Brad Hernlem (hernlem@chess.ncsu.EDU)\\n\\nVery nice. Three people are murdered, and Bradly is overjoyed. When I\\nhear about deaths in the middle east, be it Jewish or Arab deaths, I\\nfeel sadness, and only hope that soon this all stops. Apparently, my\\nview point is not acceptable to people like you Bradly.\\n\\nHernlem, you disgust me.\\n\\nHarry.\\n'),\n",
       " (u'file:/Users/eloisaelias/Desktop/weeks/20_newsgroups/talk.politics.mideast/76248',\n",
       "  u'Xref: cantaloupe.srv.cs.cmu.edu talk.politics.mideast:76248 talk.politics.misc:179484 soc.culture.jewish:63617\\nNewsgroups: talk.politics.mideast,talk.politics.misc,soc.culture.jewish\\nPath: cantaloupe.srv.cs.cmu.edu!rochester!udel!gatech!usenet.ufl.edu!cybernet!news\\nFrom: waldo@cybernet.cse.fau.edu (Todd J. Dicker)\\nSubject: Re: Israel\\'s Expansion II\\nMessage-ID: <okZk3B1w165w@cybernet.cse.fau.edu>\\nSender: news@cybernet.cse.fau.edu\\nOrganization: Cybernet BBS, Boca Raton, Florida\\nReferences: <1993Apr25.180313.1221@Virginia.EDU>\\nDate: Sun, 25 Apr 1993 21:15:35 GMT\\nLines: 21\\n\\nab4z@Virginia.EDU (\"Andi Beyer\") writes:\\n\\n> First of all I never said the Holocaust. I said before the\\n> Holocaust. I\\'m not ignorant of the Holocaust and know more\\n> about Nazi Germany than most people (maybe including you). \\n\\nUh Oh!  The first sign of an argument without merit--the stating of one\\'s \\n\"qualifications\" in an area.  If you know something about Nazi Germany, \\nshow it.  If you don\\'t, shut up.  Simple as that.\\n\\n> \\tI don\\'t think the suffering of some Jews during WWII\\n> justifies the crimes commited by the Israeli government. Any\\n> attempt to call Civil liberterians like myself anti-semetic is\\n> not appreciated.\\n\\nALL Jews suffered during WWII, not just our beloved who perished or were \\ntortured.  We ALL suffered.  Second, the name-calling was directed against\\nYOU, not civil-libertarians in general.  Your name-dropping of a fancy\\nsounding political term is yet another attempt to \"cite qualifications\" \\nin order to obfuscate your glaring unpreparedness for this argument.  Go \\nback to the minors, junior.\\n'),\n",
       " (u'file:/Users/eloisaelias/Desktop/weeks/20_newsgroups/talk.politics.mideast/76277',\n",
       "  u\"Xref: cantaloupe.srv.cs.cmu.edu talk.politics.mideast:76277 soc.culture.greek:21879 soc.culture.turkish:34036 talk.politics.soviet:23583 soc.culture.soviet:18656 soc.history:21153 soc.culture.europe:18544 soc.culture.yugoslavia:17276 alt.fan.serdar-argic:178 alt.folklore.urban:72611 alt.religion.kibology:8369\\nNewsgroups: talk.politics.mideast,soc.culture.greek,soc.culture.turkish,talk.politics.soviet,soc.culture.soviet,soc.history,soc.culture.europe,soc.culture.yugoslavia,alt.stupidity,alt.fan.serdar-argic,alt.folklore.urban,alt.religion.kibology,alt.illuminat\\nPath: cantaloupe.srv.cs.cmu.edu!crabapple.srv.cs.cmu.edu!bb3.andrew.cmu.edu!news.sei.cmu.edu!fs7.ece.cmu.edu!europa.eng.gtefsd.com!howland.reston.ans.net!usc!cs.utexas.edu!uunet!pipex!uknet!newcastle.ac.uk!turing!n0alo\\nFrom: C.L.Gannon@newcastle.ac.uk (Space Cadet)\\nSubject: Re: To be exact, 2.5 million readers enlightened by Serdar Argic\\nNntp-Posting-Host: evenwood\\nMessage-ID: <C5w9J8.MLK@newcastle.ac.uk>\\nOrganization: Computing Laboratory, U of Newcastle upon Tyne, UK NE1 7RU.\\nLines: dog\\nDate: Thu, 22 Apr 1993 16:52:19 GMT\\nReferences:  <C5uvBM.MzE@ns1.nodak.edu>\\n\\n\\n Andrew Varvel writes:\\n>\\n>\\n> Serdar Argic \\n>(a.k.a. Serdar Argic, The Merciful and Compassionate) writes:\\n>\\n>[Serdar Argic's bountiful, divine, all-knowing, and footnoted \\n>wisdom is regrettably omitted for this solemn tribute.]\\n>\\n>\\n>WHERE CAN I JOIN THE SERDAR ARGIC FAN CLUB?  DO I GET A T-SHIRT?\\n>\\n>--The Friendly Neighborhood Alien--\\n>\\n>Life just hasn't been the same since David Koresh died...\\n\\n     ah c'mon, give the guy three days and see what comes up.\\n\\n     LEO\\n\\n*--*--*--*--*--*--*--*--*--*--*--*--*--*\\n|  DISCLAIMER: it wasn't me, honest,   | email:\\n|     it was him, he made me do it!!   | C.L.Gannon@newcastle.ac.uk\\n*--*--*--*--*--*--*--*--*--*--*--*--*--*\\n\")]"
      ]
     },
     "execution_count": 19,
     "metadata": {},
     "output_type": "execute_result"
    }
   ],
   "source": [
    "text_rdd.take(3)"
   ]
  },
  {
   "cell_type": "markdown",
   "metadata": {
    "collapsed": true
   },
   "source": [
    "#### elo, check page 66\n",
    "\n",
    "get the filepath\n",
    "\n",
    "[I have to stackoverflow things](https://stackoverflow.com/questions/43209811/pyspark-how-to-access-the-values-in-a-tuple-in-a-key-tuple-rdd-python)"
   ]
  },
  {
   "cell_type": "code",
   "execution_count": 24,
   "metadata": {
    "collapsed": false
   },
   "outputs": [
    {
     "data": {
      "text/html": [
       "\n",
       "        <div>\n",
       "            <p><b>SparkContext</b></p>\n",
       "\n",
       "            <p><a href=\"http://10.136.107.24:4040\">Spark UI</a></p>\n",
       "\n",
       "            <dl>\n",
       "              <dt>Version</dt>\n",
       "                <dd><code>v2.2.0</code></dd>\n",
       "              <dt>Master</dt>\n",
       "                <dd><code>local[*]</code></dd>\n",
       "              <dt>AppName</dt>\n",
       "                <dd><code>PySparkShell</code></dd>\n",
       "            </dl>\n",
       "        </div>\n",
       "        "
      ],
      "text/plain": [
       "<SparkContext master=local[*] appName=PySparkShell>"
      ]
     },
     "execution_count": 24,
     "metadata": {},
     "output_type": "execute_result"
    }
   ],
   "source": [
    "sc"
   ]
  },
  {
   "cell_type": "code",
   "execution_count": 25,
   "metadata": {
    "collapsed": false
   },
   "outputs": [],
   "source": [
    "sqlc =  SQLContext(sc)"
   ]
  },
  {
   "cell_type": "code",
   "execution_count": 26,
   "metadata": {
    "collapsed": true
   },
   "outputs": [],
   "source": [
    "df = sqlc.createDataFrame(text_rdd, ['filepath', 'text'])"
   ]
  },
  {
   "cell_type": "code",
   "execution_count": 27,
   "metadata": {
    "collapsed": false
   },
   "outputs": [
    {
     "data": {
      "text/plain": [
       "DataFrame[filepath: string, text: string]"
      ]
     },
     "execution_count": 27,
     "metadata": {},
     "output_type": "execute_result"
    }
   ],
   "source": [
    "df"
   ]
  },
  {
   "cell_type": "code",
   "execution_count": 28,
   "metadata": {
    "collapsed": false
   },
   "outputs": [
    {
     "name": "stdout",
     "output_type": "stream",
     "text": [
      "+--------------------+--------------------+\n",
      "|            filepath|                text|\n",
      "+--------------------+--------------------+\n",
      "|file:/Users/elois...|Newsgroups: talk....|\n",
      "|file:/Users/elois...|Xref: cantaloupe....|\n",
      "+--------------------+--------------------+\n",
      "only showing top 2 rows\n",
      "\n"
     ]
    }
   ],
   "source": [
    "df.show(2)"
   ]
  },
  {
   "cell_type": "code",
   "execution_count": 29,
   "metadata": {
    "collapsed": false
   },
   "outputs": [
    {
     "data": {
      "text/plain": [
       "[Row(filepath=u'file:/Users/eloisaelias/Desktop/weeks/20_newsgroups/talk.politics.mideast/75895')]"
      ]
     },
     "execution_count": 29,
     "metadata": {},
     "output_type": "execute_result"
    }
   ],
   "source": [
    "df.select('filepath').take(1)"
   ]
  },
  {
   "cell_type": "markdown",
   "metadata": {},
   "source": [
    "elo: for 'text' apply substring index and separate by 'from:' and get everything in the right side to obtain only the text. "
   ]
  },
  {
   "cell_type": "code",
   "execution_count": 30,
   "metadata": {
    "collapsed": false
   },
   "outputs": [],
   "source": [
    "# clean text : ctext\n",
    "ctext = df.select(substring_index(df.text,'\\nFrom:', -1).alias('ctext'))"
   ]
  },
  {
   "cell_type": "code",
   "execution_count": 31,
   "metadata": {
    "collapsed": false
   },
   "outputs": [
    {
     "data": {
      "text/plain": [
       "DataFrame[ctext: string]"
      ]
     },
     "execution_count": 31,
     "metadata": {},
     "output_type": "execute_result"
    }
   ],
   "source": [
    "ctext"
   ]
  },
  {
   "cell_type": "code",
   "execution_count": 32,
   "metadata": {
    "collapsed": false
   },
   "outputs": [
    {
     "data": {
      "text/plain": [
       "Row(ctext=u' hm@cs.brown.edu (Harry Mamaysky)\\nSubject: Heil Hernlem \\nIn-Reply-To: hernlem@chess.ncsu.edu\\'s message of Wed, 14 Apr 1993 12:58:13 GMT\\nMessage-ID: <HM.93Apr15112701@yoda.cs.brown.edu>\\nSender: news@cs.brown.edu\\nOrganization: Dept. of Computer Science, Brown University\\nReferences: <1993Apr14.125813.21737@ncsu.edu>\\nDate: Thu, 15 Apr 1993 16:27:01 GMT\\nLines: 24\\n\\nIn article <1993Apr14.125813.21737@ncsu.edu> hernlem@chess.ncsu.edu (Brad Hernlem) writes:\\n\\n   Lebanese resistance forces detonated a bomb under an Israeli occupation\\n   patrol in Lebanese territory two days ago. Three soldiers were killed and\\n   two wounded. In \"retaliation\", Israeli and Israeli-backed forces wounded\\n   8 civilians by bombarding several Lebanese villages. Ironically, the Israeli\\n   government justifies its occupation in Lebanon by claiming that it is \\n   necessary to prevent such bombardments of Israeli villages!!\\n\\n   Congratulations to the brave men of the Lebanese resistance! With every\\n   Israeli son that you place in the grave you are underlining the moral\\n   bankruptcy of Israel\\'s occupation and drawing attention to the Israeli\\n   government\\'s policy of reckless disregard for civilian life.\\n\\n   Brad Hernlem (hernlem@chess.ncsu.EDU)\\n\\nVery nice. Three people are murdered, and Bradly is overjoyed. When I\\nhear about deaths in the middle east, be it Jewish or Arab deaths, I\\nfeel sadness, and only hope that soon this all stops. Apparently, my\\nview point is not acceptable to people like you Bradly.\\n\\nHernlem, you disgust me.\\n\\nHarry.\\n')"
      ]
     },
     "execution_count": 32,
     "metadata": {},
     "output_type": "execute_result"
    }
   ],
   "source": [
    "ctext.head()"
   ]
  },
  {
   "cell_type": "markdown",
   "metadata": {
    "collapsed": true
   },
   "source": [
    "#### Extracting IDs & Topics\n",
    "[I have to stackoverflow things](https://stackoverflow.com/questions/37332434/concatenate-two-pyspark-dataframes)"
   ]
  },
  {
   "cell_type": "markdown",
   "metadata": {},
   "source": [
    "\n",
    "[I have to stackoverflow things](https://stackoverflow.com/questions/37689878/select-array-element-from-spark-dataframes-split-method-in-same-call )"
   ]
  },
  {
   "cell_type": "code",
   "execution_count": 33,
   "metadata": {
    "collapsed": true
   },
   "outputs": [],
   "source": [
    "topic = df.select(sf.split(df.filepath, '/').getItem(6).alias('topic'))"
   ]
  },
  {
   "cell_type": "code",
   "execution_count": 34,
   "metadata": {
    "collapsed": false
   },
   "outputs": [
    {
     "data": {
      "text/plain": [
       "Row(topic=u'talk.politics.mideast')"
      ]
     },
     "execution_count": 34,
     "metadata": {},
     "output_type": "execute_result"
    }
   ],
   "source": [
    "topic.head()"
   ]
  },
  {
   "cell_type": "code",
   "execution_count": 38,
   "metadata": {
    "collapsed": false
   },
   "outputs": [],
   "source": [
    "dfid = df.select(substring_index(df.filepath,'/',-1).alias('id'),substring_index(df.text,'\\nFrom:', -1).alias('ctext'), sf.split(df.filepath, '/').getItem(6).alias('topic'))"
   ]
  },
  {
   "cell_type": "code",
   "execution_count": 39,
   "metadata": {
    "collapsed": false
   },
   "outputs": [
    {
     "data": {
      "text/plain": [
       "DataFrame[id: string, ctext: string, topic: string]"
      ]
     },
     "execution_count": 39,
     "metadata": {},
     "output_type": "execute_result"
    }
   ],
   "source": [
    "dfid"
   ]
  },
  {
   "cell_type": "code",
   "execution_count": 40,
   "metadata": {
    "collapsed": false
   },
   "outputs": [
    {
     "data": {
      "text/plain": [
       "Row(id=u'75895', ctext=u' hm@cs.brown.edu (Harry Mamaysky)\\nSubject: Heil Hernlem \\nIn-Reply-To: hernlem@chess.ncsu.edu\\'s message of Wed, 14 Apr 1993 12:58:13 GMT\\nMessage-ID: <HM.93Apr15112701@yoda.cs.brown.edu>\\nSender: news@cs.brown.edu\\nOrganization: Dept. of Computer Science, Brown University\\nReferences: <1993Apr14.125813.21737@ncsu.edu>\\nDate: Thu, 15 Apr 1993 16:27:01 GMT\\nLines: 24\\n\\nIn article <1993Apr14.125813.21737@ncsu.edu> hernlem@chess.ncsu.edu (Brad Hernlem) writes:\\n\\n   Lebanese resistance forces detonated a bomb under an Israeli occupation\\n   patrol in Lebanese territory two days ago. Three soldiers were killed and\\n   two wounded. In \"retaliation\", Israeli and Israeli-backed forces wounded\\n   8 civilians by bombarding several Lebanese villages. Ironically, the Israeli\\n   government justifies its occupation in Lebanon by claiming that it is \\n   necessary to prevent such bombardments of Israeli villages!!\\n\\n   Congratulations to the brave men of the Lebanese resistance! With every\\n   Israeli son that you place in the grave you are underlining the moral\\n   bankruptcy of Israel\\'s occupation and drawing attention to the Israeli\\n   government\\'s policy of reckless disregard for civilian life.\\n\\n   Brad Hernlem (hernlem@chess.ncsu.EDU)\\n\\nVery nice. Three people are murdered, and Bradly is overjoyed. When I\\nhear about deaths in the middle east, be it Jewish or Arab deaths, I\\nfeel sadness, and only hope that soon this all stops. Apparently, my\\nview point is not acceptable to people like you Bradly.\\n\\nHernlem, you disgust me.\\n\\nHarry.\\n', topic=u'talk.politics.mideast')"
      ]
     },
     "execution_count": 40,
     "metadata": {},
     "output_type": "execute_result"
    }
   ],
   "source": [
    "dfid.head()"
   ]
  },
  {
   "cell_type": "code",
   "execution_count": 41,
   "metadata": {
    "collapsed": false
   },
   "outputs": [
    {
     "name": "stdout",
     "output_type": "stream",
     "text": [
      "+-----+--------------------+--------------------+\n",
      "|   id|               ctext|               topic|\n",
      "+-----+--------------------+--------------------+\n",
      "|75895| hm@cs.brown.edu ...|talk.politics.mid...|\n",
      "|76248| waldo@cybernet.c...|talk.politics.mid...|\n",
      "+-----+--------------------+--------------------+\n",
      "only showing top 2 rows\n",
      "\n"
     ]
    }
   ],
   "source": [
    "dfid.show(2)"
   ]
  },
  {
   "cell_type": "markdown",
   "metadata": {},
   "source": [
    "[I have to stackoverflow things](https://mingchen0919.github.io/learning-apache-spark/categorical-data.html)\n"
   ]
  },
  {
   "cell_type": "code",
   "execution_count": 42,
   "metadata": {
    "collapsed": true
   },
   "outputs": [],
   "source": [
    "# Build the indexer\n",
    "indexer = StringIndexer(inputCol= 'topic', outputCol='label')"
   ]
  },
  {
   "cell_type": "code",
   "execution_count": 43,
   "metadata": {
    "collapsed": true
   },
   "outputs": [],
   "source": [
    "# Learn the StringIndexer model : simodel\n",
    "simodel = indexer.fit(dfid)"
   ]
  },
  {
   "cell_type": "code",
   "execution_count": 44,
   "metadata": {
    "collapsed": true
   },
   "outputs": [],
   "source": [
    "dftopic = simodel.transform(dfid)"
   ]
  },
  {
   "cell_type": "code",
   "execution_count": 45,
   "metadata": {
    "collapsed": false
   },
   "outputs": [
    {
     "name": "stdout",
     "output_type": "stream",
     "text": [
      "+-----+--------------------+--------------------+-----+\n",
      "|   id|               ctext|               topic|label|\n",
      "+-----+--------------------+--------------------+-----+\n",
      "|75895| hm@cs.brown.edu ...|talk.politics.mid...|  7.0|\n",
      "|76248| waldo@cybernet.c...|talk.politics.mid...|  7.0|\n",
      "|76277| C.L.Gannon@newca...|talk.politics.mid...|  7.0|\n",
      "|76045| shaig@Think.COM ...|talk.politics.mid...|  7.0|\n",
      "|77197| ez000281@hamlet....|talk.politics.mid...|  7.0|\n",
      "|76421| amoss@shuldig.cs...|talk.politics.mid...|  7.0|\n",
      "|76283| koc@rize.ECE.ORS...|talk.politics.mid...|  7.0|\n",
      "|77351| sera@zuma.UUCP (...|talk.politics.mid...|  7.0|\n",
      "|75406| flax@frej.teknik...|talk.politics.mid...|  7.0|\n",
      "|77369| sera@zuma.UUCP (...|talk.politics.mid...|  7.0|\n",
      "|76089| gt1091a@prism.ga...|talk.politics.mid...|  7.0|\n",
      "|76419| adams@bellini.be...|talk.politics.mid...|  7.0|\n",
      "|75892| mafifi@eis.calst...|talk.politics.mid...|  7.0|\n",
      "|76284| dbd@urartu.sdpa....|talk.politics.mid...|  7.0|\n",
      "|77356| murthy@ssdsun.as...|talk.politics.mid...|  7.0|\n",
      "|75401| hasan@McRCIM.McG...|talk.politics.mid...|  7.0|\n",
      "|76426| jake@bony1.bony....|talk.politics.mid...|  7.0|\n",
      "|76042| mucit@cs.rochest...|talk.politics.mid...|  7.0|\n",
      "|77190| frie8457@mach1.w...|talk.politics.mid...|  7.0|\n",
      "|76270| pmm7@ellis.uchic...|talk.politics.mid...|  7.0|\n",
      "+-----+--------------------+--------------------+-----+\n",
      "only showing top 20 rows\n",
      "\n"
     ]
    }
   ],
   "source": [
    "dftopic.show()"
   ]
  },
  {
   "cell_type": "code",
   "execution_count": 46,
   "metadata": {
    "collapsed": false
   },
   "outputs": [
    {
     "data": {
      "text/plain": [
       "DataFrame[id: string, ctext: string, topic: string, label: double]"
      ]
     },
     "execution_count": 46,
     "metadata": {},
     "output_type": "execute_result"
    }
   ],
   "source": [
    "dftopic"
   ]
  },
  {
   "cell_type": "code",
   "execution_count": 47,
   "metadata": {
    "collapsed": false
   },
   "outputs": [
    {
     "name": "stdout",
     "output_type": "stream",
     "text": [
      "+--------------------+-----+\n",
      "|               topic|label|\n",
      "+--------------------+-----+\n",
      "|comp.sys.ibm.pc.h...|  9.0|\n",
      "|        misc.forsale|  8.0|\n",
      "|     sci.electronics| 18.0|\n",
      "|  talk.religion.misc| 10.0|\n",
      "|  talk.politics.guns| 15.0|\n",
      "|     rec.motorcycles| 14.0|\n",
      "|  talk.politics.misc| 16.0|\n",
      "|           sci.space|  1.0|\n",
      "|      comp.windows.x|  6.0|\n",
      "|comp.sys.mac.hard...| 11.0|\n",
      "|soc.religion.chri...| 19.0|\n",
      "|talk.politics.mid...|  7.0|\n",
      "|    rec.sport.hockey|  0.0|\n",
      "|           rec.autos| 13.0|\n",
      "|             sci.med|  5.0|\n",
      "|  rec.sport.baseball| 12.0|\n",
      "|           sci.crypt|  3.0|\n",
      "|         alt.atheism|  4.0|\n",
      "|       comp.graphics|  2.0|\n",
      "|comp.os.ms-window...| 17.0|\n",
      "+--------------------+-----+\n",
      "\n"
     ]
    }
   ],
   "source": [
    "dftopic.select('topic', 'label').distinct().show()"
   ]
  },
  {
   "cell_type": "code",
   "execution_count": 48,
   "metadata": {
    "collapsed": false
   },
   "outputs": [],
   "source": [
    "# Adding binary classification for science topics\n",
    "dff_ = dftopic.select('id', 'ctext', 'topic', 'label', (substring_index(dftopic.topic,'.', 1)=='sci').alias('target'))"
   ]
  },
  {
   "cell_type": "code",
   "execution_count": 49,
   "metadata": {
    "collapsed": false
   },
   "outputs": [
    {
     "data": {
      "text/plain": [
       "DataFrame[id: string, ctext: string, topic: string, label: double, target: boolean]"
      ]
     },
     "execution_count": 49,
     "metadata": {},
     "output_type": "execute_result"
    }
   ],
   "source": [
    "dff_"
   ]
  },
  {
   "cell_type": "code",
   "execution_count": 50,
   "metadata": {
    "collapsed": false
   },
   "outputs": [
    {
     "name": "stdout",
     "output_type": "stream",
     "text": [
      "+-----+--------------------+--------------------+-----+------+\n",
      "|   id|               ctext|               topic|label|target|\n",
      "+-----+--------------------+--------------------+-----+------+\n",
      "|75895| hm@cs.brown.edu ...|talk.politics.mid...|  7.0| false|\n",
      "|76248| waldo@cybernet.c...|talk.politics.mid...|  7.0| false|\n",
      "+-----+--------------------+--------------------+-----+------+\n",
      "only showing top 2 rows\n",
      "\n"
     ]
    }
   ],
   "source": [
    "dff_.show(2)"
   ]
  },
  {
   "cell_type": "code",
   "execution_count": 51,
   "metadata": {
    "collapsed": false
   },
   "outputs": [],
   "source": [
    "dff = dff_.select('id','ctext','topic','label',dff_.target.cast('Double').alias('binary'))"
   ]
  },
  {
   "cell_type": "code",
   "execution_count": 52,
   "metadata": {
    "collapsed": false
   },
   "outputs": [
    {
     "name": "stdout",
     "output_type": "stream",
     "text": [
      "+------+\n",
      "|binary|\n",
      "+------+\n",
      "|   0.0|\n",
      "|   1.0|\n",
      "+------+\n",
      "\n"
     ]
    }
   ],
   "source": [
    "dff.select('binary').distinct().show()"
   ]
  },
  {
   "cell_type": "code",
   "execution_count": 53,
   "metadata": {
    "collapsed": false
   },
   "outputs": [
    {
     "name": "stdout",
     "output_type": "stream",
     "text": [
      "+-----+--------------------+--------------------+-----+------+\n",
      "|   id|               ctext|               topic|label|binary|\n",
      "+-----+--------------------+--------------------+-----+------+\n",
      "|75895| hm@cs.brown.edu ...|talk.politics.mid...|  7.0|   0.0|\n",
      "|76248| waldo@cybernet.c...|talk.politics.mid...|  7.0|   0.0|\n",
      "+-----+--------------------+--------------------+-----+------+\n",
      "only showing top 2 rows\n",
      "\n"
     ]
    }
   ],
   "source": [
    "dff.show(2)"
   ]
  },
  {
   "cell_type": "code",
   "execution_count": 54,
   "metadata": {
    "collapsed": false
   },
   "outputs": [
    {
     "name": "stdout",
     "output_type": "stream",
     "text": [
      "root\n",
      " |-- id: string (nullable = true)\n",
      " |-- ctext: string (nullable = true)\n",
      " |-- topic: string (nullable = true)\n",
      " |-- label: double (nullable = true)\n",
      " |-- binary: double (nullable = true)\n",
      "\n"
     ]
    }
   ],
   "source": [
    "dff.printSchema()"
   ]
  },
  {
   "cell_type": "code",
   "execution_count": 55,
   "metadata": {
    "collapsed": false
   },
   "outputs": [
    {
     "data": {
      "text/plain": [
       "Row(id=u'75895', ctext=u' hm@cs.brown.edu (Harry Mamaysky)\\nSubject: Heil Hernlem \\nIn-Reply-To: hernlem@chess.ncsu.edu\\'s message of Wed, 14 Apr 1993 12:58:13 GMT\\nMessage-ID: <HM.93Apr15112701@yoda.cs.brown.edu>\\nSender: news@cs.brown.edu\\nOrganization: Dept. of Computer Science, Brown University\\nReferences: <1993Apr14.125813.21737@ncsu.edu>\\nDate: Thu, 15 Apr 1993 16:27:01 GMT\\nLines: 24\\n\\nIn article <1993Apr14.125813.21737@ncsu.edu> hernlem@chess.ncsu.edu (Brad Hernlem) writes:\\n\\n   Lebanese resistance forces detonated a bomb under an Israeli occupation\\n   patrol in Lebanese territory two days ago. Three soldiers were killed and\\n   two wounded. In \"retaliation\", Israeli and Israeli-backed forces wounded\\n   8 civilians by bombarding several Lebanese villages. Ironically, the Israeli\\n   government justifies its occupation in Lebanon by claiming that it is \\n   necessary to prevent such bombardments of Israeli villages!!\\n\\n   Congratulations to the brave men of the Lebanese resistance! With every\\n   Israeli son that you place in the grave you are underlining the moral\\n   bankruptcy of Israel\\'s occupation and drawing attention to the Israeli\\n   government\\'s policy of reckless disregard for civilian life.\\n\\n   Brad Hernlem (hernlem@chess.ncsu.EDU)\\n\\nVery nice. Three people are murdered, and Bradly is overjoyed. When I\\nhear about deaths in the middle east, be it Jewish or Arab deaths, I\\nfeel sadness, and only hope that soon this all stops. Apparently, my\\nview point is not acceptable to people like you Bradly.\\n\\nHernlem, you disgust me.\\n\\nHarry.\\n', topic=u'talk.politics.mideast', label=7.0, binary=0.0)"
      ]
     },
     "execution_count": 55,
     "metadata": {},
     "output_type": "execute_result"
    }
   ],
   "source": [
    "dff.head()"
   ]
  },
  {
   "cell_type": "code",
   "execution_count": 56,
   "metadata": {
    "collapsed": false
   },
   "outputs": [
    {
     "name": "stdout",
     "output_type": "stream",
     "text": [
      "+-----+--------------------+--------------------+-----+------+\n",
      "|   id|               ctext|               topic|label|binary|\n",
      "+-----+--------------------+--------------------+-----+------+\n",
      "|75895| hm@cs.brown.edu ...|talk.politics.mid...|  7.0|   0.0|\n",
      "|76248| waldo@cybernet.c...|talk.politics.mid...|  7.0|   0.0|\n",
      "+-----+--------------------+--------------------+-----+------+\n",
      "only showing top 2 rows\n",
      "\n"
     ]
    }
   ],
   "source": [
    "dff.show(2)"
   ]
  },
  {
   "cell_type": "markdown",
   "metadata": {},
   "source": [
    "---\n",
    "elo: add CV\n",
    "\n",
    "## PySpark - RDD\n",
    "### Tokenize, Stopwords, Stemming and lemmatization\n",
    "\n",
    "Before any real text processing is to be done, text needs to be segmented into linguistic units such as words, punctuation, numbers, alpha-numerics, etc. This process is called tokenization.\n",
    "\n",
    "Stop words are words which are filtered out before or after processing of natural language data (text). [Any group of words can be chosen as the stop words for a given purpose](https://raw.githubusercontent.com/stanfordnlp/CoreNLP/master/data/edu/stanford/nlp/patterns/surface/stopwords.txt). For some search engines, these are some of the most common, short function words, such as the, is, at, which, and on. In this case, stop words can cause problems when searching for phrases that include them, particularly in names such as \"The Who\", \"The The\", or \"Take That\".\n",
    "\n",
    "[Stemming and lemmatization](https://nlp.stanford.edu/IR-book/html/htmledition/stemming-and-lemmatization-1.html)"
   ]
  },
  {
   "cell_type": "code",
   "execution_count": 59,
   "metadata": {
    "collapsed": true
   },
   "outputs": [],
   "source": [
    "rddlabel = dff.rdd.map(lambda x:(x['label'], x['topic'])).distinct()"
   ]
  },
  {
   "cell_type": "code",
   "execution_count": 63,
   "metadata": {
    "collapsed": false
   },
   "outputs": [
    {
     "data": {
      "text/plain": [
       "[(9.0, u'comp.sys.ibm.pc.hardware'),\n",
       " (8.0, u'misc.forsale'),\n",
       " (12.0, u'rec.sport.baseball'),\n",
       " (13.0, u'rec.autos'),\n",
       " (6.0, u'comp.windows.x'),\n",
       " (19.0, u'soc.religion.christian'),\n",
       " (7.0, u'talk.politics.mideast'),\n",
       " (2.0, u'comp.graphics'),\n",
       " (10.0, u'talk.religion.misc'),\n",
       " (15.0, u'talk.politics.guns'),\n",
       " (5.0, u'sci.med'),\n",
       " (4.0, u'alt.atheism'),\n",
       " (18.0, u'sci.electronics'),\n",
       " (11.0, u'comp.sys.mac.hardware'),\n",
       " (1.0, u'sci.space'),\n",
       " (14.0, u'rec.motorcycles'),\n",
       " (3.0, u'sci.crypt'),\n",
       " (17.0, u'comp.os.ms-windows.misc'),\n",
       " (16.0, u'talk.politics.misc'),\n",
       " (0.0, u'rec.sport.hockey')]"
      ]
     },
     "execution_count": 63,
     "metadata": {},
     "output_type": "execute_result"
    }
   ],
   "source": [
    "rddlabel.take(20)"
   ]
  },
  {
   "cell_type": "code",
   "execution_count": 64,
   "metadata": {
    "collapsed": true
   },
   "outputs": [],
   "source": [
    "rddtext = dff.rdd.map(lambda x: (x['label'], x['ctext']))"
   ]
  },
  {
   "cell_type": "code",
   "execution_count": 65,
   "metadata": {
    "collapsed": false
   },
   "outputs": [
    {
     "data": {
      "text/plain": [
       "(7.0,\n",
       " u' hm@cs.brown.edu (Harry Mamaysky)\\nSubject: Heil Hernlem \\nIn-Reply-To: hernlem@chess.ncsu.edu\\'s message of Wed, 14 Apr 1993 12:58:13 GMT\\nMessage-ID: <HM.93Apr15112701@yoda.cs.brown.edu>\\nSender: news@cs.brown.edu\\nOrganization: Dept. of Computer Science, Brown University\\nReferences: <1993Apr14.125813.21737@ncsu.edu>\\nDate: Thu, 15 Apr 1993 16:27:01 GMT\\nLines: 24\\n\\nIn article <1993Apr14.125813.21737@ncsu.edu> hernlem@chess.ncsu.edu (Brad Hernlem) writes:\\n\\n   Lebanese resistance forces detonated a bomb under an Israeli occupation\\n   patrol in Lebanese territory two days ago. Three soldiers were killed and\\n   two wounded. In \"retaliation\", Israeli and Israeli-backed forces wounded\\n   8 civilians by bombarding several Lebanese villages. Ironically, the Israeli\\n   government justifies its occupation in Lebanon by claiming that it is \\n   necessary to prevent such bombardments of Israeli villages!!\\n\\n   Congratulations to the brave men of the Lebanese resistance! With every\\n   Israeli son that you place in the grave you are underlining the moral\\n   bankruptcy of Israel\\'s occupation and drawing attention to the Israeli\\n   government\\'s policy of reckless disregard for civilian life.\\n\\n   Brad Hernlem (hernlem@chess.ncsu.EDU)\\n\\nVery nice. Three people are murdered, and Bradly is overjoyed. When I\\nhear about deaths in the middle east, be it Jewish or Arab deaths, I\\nfeel sadness, and only hope that soon this all stops. Apparently, my\\nview point is not acceptable to people like you Bradly.\\n\\nHernlem, you disgust me.\\n\\nHarry.\\n')"
      ]
     },
     "execution_count": 65,
     "metadata": {},
     "output_type": "execute_result"
    }
   ],
   "source": [
    "rddtext.first()"
   ]
  },
  {
   "cell_type": "code",
   "execution_count": 57,
   "metadata": {
    "collapsed": false
   },
   "outputs": [
    {
     "data": {
      "text/plain": [
       "'!\"#$%&\\'()*+,-./:;<=>?@[\\\\]^_`{|}~'"
      ]
     },
     "execution_count": 57,
     "metadata": {},
     "output_type": "execute_result"
    }
   ],
   "source": [
    "string.punctuation"
   ]
  },
  {
   "cell_type": "code",
   "execution_count": 58,
   "metadata": {
    "collapsed": false
   },
   "outputs": [],
   "source": [
    "remove = set(string.punctuation)\n",
    "stemmer = SnowballStemmer('english')\n",
    "stop = stopwords.words('english')"
   ]
  },
  {
   "cell_type": "code",
   "execution_count": 66,
   "metadata": {
    "collapsed": true
   },
   "outputs": [],
   "source": [
    "# Normalizing text : rddntxt\n",
    "# Return:= K: label, v: list of the stemmed words of the article \n",
    "\n",
    "rddntxt = rddtext.map(lambda (k, v): (k, v.lower())) \\\n",
    "                .map(lambda (k, v): (k, ''.join(char for char in v if char not in remove))) \\\n",
    "                .map(lambda (k, v): (k, [stemmer.stem(word) for word in v.split() if word not in stop]))\n"
   ]
  },
  {
   "cell_type": "code",
   "execution_count": 67,
   "metadata": {
    "collapsed": false
   },
   "outputs": [
    {
     "data": {
      "text/plain": [
       "(7.0,\n",
       " [u'hmcsbrownedu',\n",
       "  u'harri',\n",
       "  u'mamayski',\n",
       "  u'subject',\n",
       "  u'heil',\n",
       "  u'hernlem',\n",
       "  u'inreplyto',\n",
       "  u'hernlemchessncsuedus',\n",
       "  u'messag',\n",
       "  u'wed',\n",
       "  u'14',\n",
       "  u'apr',\n",
       "  u'1993',\n",
       "  u'125813',\n",
       "  u'gmt',\n",
       "  u'messageid',\n",
       "  u'hm93apr15112701yodacsbrownedu',\n",
       "  u'sender',\n",
       "  u'newscsbrownedu',\n",
       "  u'organ',\n",
       "  u'dept',\n",
       "  u'comput',\n",
       "  u'scienc',\n",
       "  u'brown',\n",
       "  u'univers',\n",
       "  u'refer',\n",
       "  u'1993apr1412581321737ncsuedu',\n",
       "  u'date',\n",
       "  u'thu',\n",
       "  u'15',\n",
       "  u'apr',\n",
       "  u'1993',\n",
       "  u'162701',\n",
       "  u'gmt',\n",
       "  u'line',\n",
       "  u'24',\n",
       "  u'articl',\n",
       "  u'1993apr1412581321737ncsuedu',\n",
       "  u'hernlemchessncsuedu',\n",
       "  u'brad',\n",
       "  u'hernlem',\n",
       "  u'write',\n",
       "  u'lebanes',\n",
       "  u'resist',\n",
       "  u'forc',\n",
       "  u'deton',\n",
       "  u'bomb',\n",
       "  u'isra',\n",
       "  u'occup',\n",
       "  u'patrol',\n",
       "  u'lebanes',\n",
       "  u'territori',\n",
       "  u'two',\n",
       "  u'day',\n",
       "  u'ago',\n",
       "  u'three',\n",
       "  u'soldier',\n",
       "  u'kill',\n",
       "  u'two',\n",
       "  u'wound',\n",
       "  u'retali',\n",
       "  u'isra',\n",
       "  u'israeliback',\n",
       "  u'forc',\n",
       "  u'wound',\n",
       "  u'8',\n",
       "  u'civilian',\n",
       "  u'bombard',\n",
       "  u'sever',\n",
       "  u'lebanes',\n",
       "  u'villag',\n",
       "  u'iron',\n",
       "  u'isra',\n",
       "  u'govern',\n",
       "  u'justifi',\n",
       "  u'occup',\n",
       "  u'lebanon',\n",
       "  u'claim',\n",
       "  u'necessari',\n",
       "  u'prevent',\n",
       "  u'bombard',\n",
       "  u'isra',\n",
       "  u'villag',\n",
       "  u'congratul',\n",
       "  u'brave',\n",
       "  u'men',\n",
       "  u'lebanes',\n",
       "  u'resist',\n",
       "  u'everi',\n",
       "  u'isra',\n",
       "  u'son',\n",
       "  u'place',\n",
       "  u'grave',\n",
       "  u'underlin',\n",
       "  u'moral',\n",
       "  u'bankruptci',\n",
       "  u'israel',\n",
       "  u'occup',\n",
       "  u'draw',\n",
       "  u'attent',\n",
       "  u'isra',\n",
       "  u'govern',\n",
       "  u'polici',\n",
       "  u'reckless',\n",
       "  u'disregard',\n",
       "  u'civilian',\n",
       "  u'life',\n",
       "  u'brad',\n",
       "  u'hernlem',\n",
       "  u'hernlemchessncsuedu',\n",
       "  u'nice',\n",
       "  u'three',\n",
       "  u'peopl',\n",
       "  u'murder',\n",
       "  u'brad',\n",
       "  u'overjoy',\n",
       "  u'hear',\n",
       "  u'death',\n",
       "  u'middl',\n",
       "  u'east',\n",
       "  u'jewish',\n",
       "  u'arab',\n",
       "  u'death',\n",
       "  u'feel',\n",
       "  u'sad',\n",
       "  u'hope',\n",
       "  u'soon',\n",
       "  u'stop',\n",
       "  u'appar',\n",
       "  u'view',\n",
       "  u'point',\n",
       "  u'accept',\n",
       "  u'peopl',\n",
       "  u'like',\n",
       "  u'brad',\n",
       "  u'hernlem',\n",
       "  u'disgust',\n",
       "  u'harri'])"
      ]
     },
     "execution_count": 67,
     "metadata": {},
     "output_type": "execute_result"
    }
   ],
   "source": [
    "rddntxt.first()"
   ]
  },
  {
   "cell_type": "markdown",
   "metadata": {},
   "source": [
    "[I have to stackoverflow things](https://stackoverflow.com/questions/22350722/what-is-the-difference-between-map-and-flatmap-and-a-good-use-case-for-each )\n"
   ]
  },
  {
   "cell_type": "code",
   "execution_count": 68,
   "metadata": {
    "collapsed": true
   },
   "outputs": [],
   "source": [
    "# flatmap all the values\n",
    "rddv = rddntxt.values().flatMap(lambda x: x)"
   ]
  },
  {
   "cell_type": "code",
   "execution_count": 69,
   "metadata": {
    "collapsed": false
   },
   "outputs": [
    {
     "data": {
      "text/plain": [
       "[u'hmcsbrownedu',\n",
       " u'harri',\n",
       " u'mamayski',\n",
       " u'subject',\n",
       " u'heil',\n",
       " u'hernlem',\n",
       " u'inreplyto',\n",
       " u'hernlemchessncsuedus',\n",
       " u'messag',\n",
       " u'wed']"
      ]
     },
     "execution_count": 69,
     "metadata": {},
     "output_type": "execute_result"
    }
   ],
   "source": [
    "rddv.take(10)"
   ]
  },
  {
   "cell_type": "code",
   "execution_count": 70,
   "metadata": {
    "collapsed": false
   },
   "outputs": [],
   "source": [
    "# Obtain all unique words\n",
    "rddvd = rddv.flatMap(lambda x: x).distinct()"
   ]
  },
  {
   "cell_type": "code",
   "execution_count": 71,
   "metadata": {
    "collapsed": false
   },
   "outputs": [
    {
     "data": {
      "text/plain": [
       "[u'\\x03', u'\\x05', u'\\x13', u'\\x15', u'\\x19', u'\\x1b', u'1', u'3', u'5', u'7']"
      ]
     },
     "execution_count": 71,
     "metadata": {},
     "output_type": "execute_result"
    }
   ],
   "source": [
    "rddvd.take(10)"
   ]
  },
  {
   "cell_type": "code",
   "execution_count": 77,
   "metadata": {
    "collapsed": true
   },
   "outputs": [],
   "source": [
    "# Adding Index to the unique words\n",
    "rddvdz = rddvd.zipWithIndex()"
   ]
  },
  {
   "cell_type": "code",
   "execution_count": 78,
   "metadata": {
    "collapsed": false
   },
   "outputs": [
    {
     "data": {
      "text/plain": [
       "[(u'\\x03', 0), (u'\\x05', 1), (u'\\x13', 2)]"
      ]
     },
     "execution_count": 78,
     "metadata": {},
     "output_type": "execute_result"
    }
   ],
   "source": [
    "rddvdz.take(3)"
   ]
  },
  {
   "cell_type": "code",
   "execution_count": 80,
   "metadata": {
    "collapsed": false
   },
   "outputs": [],
   "source": [
    "# Collect in dictionary form\n",
    "dwords = rddvdz.collectAsMap()"
   ]
  },
  {
   "cell_type": "code",
   "execution_count": 81,
   "metadata": {
    "collapsed": false
   },
   "outputs": [
    {
     "data": {
      "text/plain": [
       "52"
      ]
     },
     "execution_count": 81,
     "metadata": {},
     "output_type": "execute_result"
    }
   ],
   "source": [
    "len(dwords)"
   ]
  },
  {
   "cell_type": "code",
   "execution_count": 84,
   "metadata": {
    "collapsed": true
   },
   "outputs": [],
   "source": [
    "# Dictionary with words as keys and Index as values\n",
    "words_dict = rddntxt.values().flatMap(lambda x:x).distinct().zipWithIndex().collectAsMap()"
   ]
  },
  {
   "cell_type": "code",
   "execution_count": 85,
   "metadata": {
    "collapsed": false
   },
   "outputs": [
    {
     "data": {
      "text/plain": [
       "198673"
      ]
     },
     "execution_count": 85,
     "metadata": {},
     "output_type": "execute_result"
    }
   ],
   "source": [
    "len(words_dict)"
   ]
  },
  {
   "cell_type": "code",
   "execution_count": null,
   "metadata": {
    "collapsed": true
   },
   "outputs": [],
   "source": []
  },
  {
   "cell_type": "code",
   "execution_count": null,
   "metadata": {
    "collapsed": true
   },
   "outputs": [],
   "source": []
  },
  {
   "cell_type": "code",
   "execution_count": null,
   "metadata": {
    "collapsed": true
   },
   "outputs": [],
   "source": []
  },
  {
   "cell_type": "code",
   "execution_count": null,
   "metadata": {
    "collapsed": true
   },
   "outputs": [],
   "source": []
  },
  {
   "cell_type": "code",
   "execution_count": null,
   "metadata": {
    "collapsed": true
   },
   "outputs": [],
   "source": []
  },
  {
   "cell_type": "code",
   "execution_count": null,
   "metadata": {
    "collapsed": true
   },
   "outputs": [],
   "source": []
  },
  {
   "cell_type": "code",
   "execution_count": null,
   "metadata": {
    "collapsed": true
   },
   "outputs": [],
   "source": []
  },
  {
   "cell_type": "code",
   "execution_count": null,
   "metadata": {
    "collapsed": true
   },
   "outputs": [],
   "source": []
  },
  {
   "cell_type": "code",
   "execution_count": null,
   "metadata": {
    "collapsed": true
   },
   "outputs": [],
   "source": []
  },
  {
   "cell_type": "code",
   "execution_count": null,
   "metadata": {
    "collapsed": true
   },
   "outputs": [],
   "source": []
  },
  {
   "cell_type": "code",
   "execution_count": null,
   "metadata": {
    "collapsed": true
   },
   "outputs": [],
   "source": []
  },
  {
   "cell_type": "code",
   "execution_count": null,
   "metadata": {
    "collapsed": true
   },
   "outputs": [],
   "source": []
  }
 ],
 "metadata": {
  "kernelspec": {
   "display_name": "Python 2",
   "language": "python",
   "name": "python2"
  },
  "language_info": {
   "codemirror_mode": {
    "name": "ipython",
    "version": 2
   },
   "file_extension": ".py",
   "mimetype": "text/x-python",
   "name": "python",
   "nbconvert_exporter": "python",
   "pygments_lexer": "ipython2",
   "version": "2.7.11"
  }
 },
 "nbformat": 4,
 "nbformat_minor": 0
}
