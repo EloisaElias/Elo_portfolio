{
 "cells": [
  {
   "cell_type": "markdown",
   "metadata": {},
   "source": [
    "## Spark\n",
    "---\n",
    "#### Elo notes"
   ]
  },
  {
   "cell_type": "code",
   "execution_count": 3,
   "metadata": {
    "collapsed": false
   },
   "outputs": [],
   "source": [
    "import string\n",
    "import json\n",
    "import pickle as pk\n",
    "import pandas as pd\n",
    "import numpy as np\n",
    "\n",
    "from pyspark.mllib.feature import HashingTF\n",
    "from pyspark.mllib.regression import LabeledPoint\n",
    "from pyspark.mllib.classification import NaiveBayes\n",
    "\n",
    "from nltk.corpus import stopwords\n",
    "from nltk.tokenize import word_tokenize\n",
    "from nltk.stem.snowball import SnowballStemmer\n",
    "import re\n",
    "\n",
    "from collections import Counter\n"
   ]
  },
  {
   "cell_type": "code",
   "execution_count": 4,
   "metadata": {
    "collapsed": true
   },
   "outputs": [],
   "source": [
    "from pyspark.sql import SQLContext"
   ]
  },
  {
   "cell_type": "code",
   "execution_count": 132,
   "metadata": {
    "collapsed": true
   },
   "outputs": [],
   "source": [
    "from pyspark.sql import Row"
   ]
  },
  {
   "cell_type": "code",
   "execution_count": 5,
   "metadata": {
    "collapsed": false
   },
   "outputs": [],
   "source": [
    "from sklearn.datasets import fetch_20newsgroups"
   ]
  },
  {
   "cell_type": "markdown",
   "metadata": {},
   "source": [
    "[20 Newsgroups](http://qwone.com/~jason/20Newsgroups/)"
   ]
  },
  {
   "cell_type": "code",
   "execution_count": 6,
   "metadata": {
    "collapsed": false
   },
   "outputs": [
    {
     "data": {
      "text/plain": [
       "<pyspark.context.SparkContext at 0x10961a2d0>"
      ]
     },
     "execution_count": 6,
     "metadata": {},
     "output_type": "execute_result"
    }
   ],
   "source": [
    "sc"
   ]
  },
  {
   "cell_type": "code",
   "execution_count": 7,
   "metadata": {
    "collapsed": true
   },
   "outputs": [],
   "source": [
    "news_ = fetch_20newsgroups(subset='train')"
   ]
  },
  {
   "cell_type": "code",
   "execution_count": 8,
   "metadata": {
    "collapsed": false
   },
   "outputs": [],
   "source": [
    "categories = news_.target_names"
   ]
  },
  {
   "cell_type": "code",
   "execution_count": 9,
   "metadata": {
    "collapsed": false
   },
   "outputs": [
    {
     "data": {
      "text/plain": [
       "['alt.atheism',\n",
       " 'comp.graphics',\n",
       " 'comp.os.ms-windows.misc',\n",
       " 'comp.sys.ibm.pc.hardware',\n",
       " 'comp.sys.mac.hardware',\n",
       " 'comp.windows.x',\n",
       " 'misc.forsale',\n",
       " 'rec.autos',\n",
       " 'rec.motorcycles',\n",
       " 'rec.sport.baseball',\n",
       " 'rec.sport.hockey',\n",
       " 'sci.crypt',\n",
       " 'sci.electronics',\n",
       " 'sci.med',\n",
       " 'sci.space',\n",
       " 'soc.religion.christian',\n",
       " 'talk.politics.guns',\n",
       " 'talk.politics.mideast',\n",
       " 'talk.politics.misc',\n",
       " 'talk.religion.misc']"
      ]
     },
     "execution_count": 9,
     "metadata": {},
     "output_type": "execute_result"
    }
   ],
   "source": [
    "categories"
   ]
  },
  {
   "cell_type": "code",
   "execution_count": 10,
   "metadata": {
    "collapsed": true
   },
   "outputs": [],
   "source": [
    "news = news_.data"
   ]
  },
  {
   "cell_type": "code",
   "execution_count": 11,
   "metadata": {
    "collapsed": false
   },
   "outputs": [
    {
     "data": {
      "text/plain": [
       "u'From: twillis@ec.ecn.purdue.edu (Thomas E Willis)\\nSubject: PB questions...\\nOrganization: Purdue University Engineering Computer Network\\nDistribution: usa\\nLines: 36\\n\\nwell folks, my mac plus finally gave up the ghost this weekend after\\nstarting life as a 512k way back in 1985.  sooo, i\\'m in the market for a\\nnew machine a bit sooner than i intended to be...\\n\\ni\\'m looking into picking up a powerbook 160 or maybe 180 and have a bunch\\nof questions that (hopefully) somebody can answer:\\n\\n* does anybody know any dirt on when the next round of powerbook\\nintroductions are expected?  i\\'d heard the 185c was supposed to make an\\nappearence \"this summer\" but haven\\'t heard anymore on it - and since i\\ndon\\'t have access to macleak, i was wondering if anybody out there had\\nmore info...\\n\\n* has anybody heard rumors about price drops to the powerbook line like the\\nones the duo\\'s just went through recently?\\n\\n* what\\'s the impression of the display on the 180?  i could probably swing\\na 180 if i got the 80Mb disk rather than the 120, but i don\\'t really have\\na feel for how much \"better\" the display is (yea, it looks great in the\\nstore, but is that all \"wow\" or is it really that good?).  could i solicit\\nsome opinions of people who use the 160 and 180 day-to-day on if its worth\\ntaking the disk size and money hit to get the active display?  (i realize\\nthis is a real subjective question, but i\\'ve only played around with the\\nmachines in a computer store breifly and figured the opinions of somebody\\nwho actually uses the machine daily might prove helpful).\\n\\n* how well does hellcats perform?  ;)\\n\\nthanks a bunch in advance for any info - if you could email, i\\'ll post a\\nsummary (news reading time is at a premium with finals just around the\\ncorner... :( )\\n--\\nTom Willis  \\\\  twillis@ecn.purdue.edu    \\\\    Purdue Electrical Engineering\\n---------------------------------------------------------------------------\\n\"Convictions are more dangerous enemies of truth than lies.\"  - F. W.\\nNietzsche\\n'"
      ]
     },
     "execution_count": 11,
     "metadata": {},
     "output_type": "execute_result"
    }
   ],
   "source": [
    "news[2]"
   ]
  },
  {
   "cell_type": "markdown",
   "metadata": {},
   "source": [
    "\n",
    "[from Sklearn to MLlib](http://blog.xebia.fr/2015/10/08/from-scikit-learn-to-spark-ml/)\n"
   ]
  },
  {
   "cell_type": "code",
   "execution_count": 13,
   "metadata": {
    "collapsed": false
   },
   "outputs": [
    {
     "data": {
      "text/plain": [
       "<pyspark.context.SparkContext at 0x10961a2d0>"
      ]
     },
     "execution_count": 13,
     "metadata": {},
     "output_type": "execute_result"
    }
   ],
   "source": [
    "sc"
   ]
  },
  {
   "cell_type": "code",
   "execution_count": 14,
   "metadata": {
    "collapsed": true
   },
   "outputs": [],
   "source": [
    "sqlCtx = SQLContext(sc)"
   ]
  },
  {
   "cell_type": "code",
   "execution_count": 15,
   "metadata": {
    "collapsed": false
   },
   "outputs": [],
   "source": [
    "sqlCtx = categories"
   ]
  },
  {
   "cell_type": "code",
   "execution_count": 17,
   "metadata": {
    "collapsed": false
   },
   "outputs": [],
   "source": [
    "# Raw data\n",
    "text_rdd = sc.wholeTextFiles('file:///Users/eloisaelias/../20_newsgroups/*').cache()"
   ]
  },
  {
   "cell_type": "code",
   "execution_count": 18,
   "metadata": {
    "collapsed": false
   },
   "outputs": [
    {
     "data": {
      "text/plain": [
       "[(u'file:/Users/eloisaelias/Desktop/weeks/20_newsgroups/talk.politics.mideast/75895',\n",
       "  u'Newsgroups: talk.politics.mideast\\nPath: cantaloupe.srv.cs.cmu.edu!crabapple.srv.cs.cmu.edu!bb3.andrew.cmu.edu!news.sei.cmu.edu!cis.ohio-state.edu!zaphod.mps.ohio-state.edu!cs.utexas.edu!uunet!brunix!doorknob!hm\\nFrom: hm@cs.brown.edu (Harry Mamaysky)\\nSubject: Heil Hernlem \\nIn-Reply-To: hernlem@chess.ncsu.edu\\'s message of Wed, 14 Apr 1993 12:58:13 GMT\\nMessage-ID: <HM.93Apr15112701@yoda.cs.brown.edu>\\nSender: news@cs.brown.edu\\nOrganization: Dept. of Computer Science, Brown University\\nReferences: <1993Apr14.125813.21737@ncsu.edu>\\nDate: Thu, 15 Apr 1993 16:27:01 GMT\\nLines: 24\\n\\nIn article <1993Apr14.125813.21737@ncsu.edu> hernlem@chess.ncsu.edu (Brad Hernlem) writes:\\n\\n   Lebanese resistance forces detonated a bomb under an Israeli occupation\\n   patrol in Lebanese territory two days ago. Three soldiers were killed and\\n   two wounded. In \"retaliation\", Israeli and Israeli-backed forces wounded\\n   8 civilians by bombarding several Lebanese villages. Ironically, the Israeli\\n   government justifies its occupation in Lebanon by claiming that it is \\n   necessary to prevent such bombardments of Israeli villages!!\\n\\n   Congratulations to the brave men of the Lebanese resistance! With every\\n   Israeli son that you place in the grave you are underlining the moral\\n   bankruptcy of Israel\\'s occupation and drawing attention to the Israeli\\n   government\\'s policy of reckless disregard for civilian life.\\n\\n   Brad Hernlem (hernlem@chess.ncsu.EDU)\\n\\nVery nice. Three people are murdered, and Bradly is overjoyed. When I\\nhear about deaths in the middle east, be it Jewish or Arab deaths, I\\nfeel sadness, and only hope that soon this all stops. Apparently, my\\nview point is not acceptable to people like you Bradly.\\n\\nHernlem, you disgust me.\\n\\nHarry.\\n'),\n",
       " (u'file:/Users/eloisaelias/Desktop/weeks/20_newsgroups/talk.politics.mideast/76248',\n",
       "  u'Xref: cantaloupe.srv.cs.cmu.edu talk.politics.mideast:76248 talk.politics.misc:179484 soc.culture.jewish:63617\\nNewsgroups: talk.politics.mideast,talk.politics.misc,soc.culture.jewish\\nPath: cantaloupe.srv.cs.cmu.edu!rochester!udel!gatech!usenet.ufl.edu!cybernet!news\\nFrom: waldo@cybernet.cse.fau.edu (Todd J. Dicker)\\nSubject: Re: Israel\\'s Expansion II\\nMessage-ID: <okZk3B1w165w@cybernet.cse.fau.edu>\\nSender: news@cybernet.cse.fau.edu\\nOrganization: Cybernet BBS, Boca Raton, Florida\\nReferences: <1993Apr25.180313.1221@Virginia.EDU>\\nDate: Sun, 25 Apr 1993 21:15:35 GMT\\nLines: 21\\n\\nab4z@Virginia.EDU (\"Andi Beyer\") writes:\\n\\n> First of all I never said the Holocaust. I said before the\\n> Holocaust. I\\'m not ignorant of the Holocaust and know more\\n> about Nazi Germany than most people (maybe including you). \\n\\nUh Oh!  The first sign of an argument without merit--the stating of one\\'s \\n\"qualifications\" in an area.  If you know something about Nazi Germany, \\nshow it.  If you don\\'t, shut up.  Simple as that.\\n\\n> \\tI don\\'t think the suffering of some Jews during WWII\\n> justifies the crimes commited by the Israeli government. Any\\n> attempt to call Civil liberterians like myself anti-semetic is\\n> not appreciated.\\n\\nALL Jews suffered during WWII, not just our beloved who perished or were \\ntortured.  We ALL suffered.  Second, the name-calling was directed against\\nYOU, not civil-libertarians in general.  Your name-dropping of a fancy\\nsounding political term is yet another attempt to \"cite qualifications\" \\nin order to obfuscate your glaring unpreparedness for this argument.  Go \\nback to the minors, junior.\\n'),\n",
       " (u'file:/Users/eloisaelias/Desktop/weeks/20_newsgroups/talk.politics.mideast/76277',\n",
       "  u\"Xref: cantaloupe.srv.cs.cmu.edu talk.politics.mideast:76277 soc.culture.greek:21879 soc.culture.turkish:34036 talk.politics.soviet:23583 soc.culture.soviet:18656 soc.history:21153 soc.culture.europe:18544 soc.culture.yugoslavia:17276 alt.fan.serdar-argic:178 alt.folklore.urban:72611 alt.religion.kibology:8369\\nNewsgroups: talk.politics.mideast,soc.culture.greek,soc.culture.turkish,talk.politics.soviet,soc.culture.soviet,soc.history,soc.culture.europe,soc.culture.yugoslavia,alt.stupidity,alt.fan.serdar-argic,alt.folklore.urban,alt.religion.kibology,alt.illuminat\\nPath: cantaloupe.srv.cs.cmu.edu!crabapple.srv.cs.cmu.edu!bb3.andrew.cmu.edu!news.sei.cmu.edu!fs7.ece.cmu.edu!europa.eng.gtefsd.com!howland.reston.ans.net!usc!cs.utexas.edu!uunet!pipex!uknet!newcastle.ac.uk!turing!n0alo\\nFrom: C.L.Gannon@newcastle.ac.uk (Space Cadet)\\nSubject: Re: To be exact, 2.5 million readers enlightened by Serdar Argic\\nNntp-Posting-Host: evenwood\\nMessage-ID: <C5w9J8.MLK@newcastle.ac.uk>\\nOrganization: Computing Laboratory, U of Newcastle upon Tyne, UK NE1 7RU.\\nLines: dog\\nDate: Thu, 22 Apr 1993 16:52:19 GMT\\nReferences:  <C5uvBM.MzE@ns1.nodak.edu>\\n\\n\\n Andrew Varvel writes:\\n>\\n>\\n> Serdar Argic \\n>(a.k.a. Serdar Argic, The Merciful and Compassionate) writes:\\n>\\n>[Serdar Argic's bountiful, divine, all-knowing, and footnoted \\n>wisdom is regrettably omitted for this solemn tribute.]\\n>\\n>\\n>WHERE CAN I JOIN THE SERDAR ARGIC FAN CLUB?  DO I GET A T-SHIRT?\\n>\\n>--The Friendly Neighborhood Alien--\\n>\\n>Life just hasn't been the same since David Koresh died...\\n\\n     ah c'mon, give the guy three days and see what comes up.\\n\\n     LEO\\n\\n*--*--*--*--*--*--*--*--*--*--*--*--*--*\\n|  DISCLAIMER: it wasn't me, honest,   | email:\\n|     it was him, he made me do it!!   | C.L.Gannon@newcastle.ac.uk\\n*--*--*--*--*--*--*--*--*--*--*--*--*--*\\n\")]"
      ]
     },
     "execution_count": 18,
     "metadata": {},
     "output_type": "execute_result"
    }
   ],
   "source": [
    "text_rdd.take(3)"
   ]
  },
  {
   "cell_type": "markdown",
   "metadata": {
    "collapsed": true
   },
   "source": [
    "#### elo, check page 66\n",
    "\n",
    "get the filepath\n",
    "\n",
    "[I have to stackoverflow things](https://stackoverflow.com/questions/43209811/pyspark-how-to-access-the-values-in-a-tuple-in-a-key-tuple-rdd-python)"
   ]
  },
  {
   "cell_type": "code",
   "execution_count": 142,
   "metadata": {
    "collapsed": true
   },
   "outputs": [],
   "source": [
    "import pyspark.sql.functions as sf"
   ]
  },
  {
   "cell_type": "code",
   "execution_count": 20,
   "metadata": {
    "collapsed": true
   },
   "outputs": [],
   "source": [
    "import pyspark.sql.types as sparktypes"
   ]
  },
  {
   "cell_type": "code",
   "execution_count": 84,
   "metadata": {
    "collapsed": false
   },
   "outputs": [],
   "source": [
    "from pyspark.sql.functions import col"
   ]
  },
  {
   "cell_type": "code",
   "execution_count": 146,
   "metadata": {
    "collapsed": false
   },
   "outputs": [],
   "source": [
    "# from pyspark.sql.functions import substring_index"
   ]
  },
  {
   "cell_type": "code",
   "execution_count": 21,
   "metadata": {
    "collapsed": false
   },
   "outputs": [
    {
     "data": {
      "text/plain": [
       "<pyspark.context.SparkContext at 0x10961a2d0>"
      ]
     },
     "execution_count": 21,
     "metadata": {},
     "output_type": "execute_result"
    }
   ],
   "source": [
    "sc"
   ]
  },
  {
   "cell_type": "code",
   "execution_count": 22,
   "metadata": {
    "collapsed": false
   },
   "outputs": [],
   "source": [
    "sqlc =  SQLContext(sc)"
   ]
  },
  {
   "cell_type": "code",
   "execution_count": 23,
   "metadata": {
    "collapsed": true
   },
   "outputs": [],
   "source": [
    "df = sqlc.createDataFrame(text_rdd, ['filepath', 'text'])"
   ]
  },
  {
   "cell_type": "code",
   "execution_count": 24,
   "metadata": {
    "collapsed": false
   },
   "outputs": [
    {
     "name": "stdout",
     "output_type": "stream",
     "text": [
      "+--------------------+--------------------+\n",
      "|            filepath|                text|\n",
      "+--------------------+--------------------+\n",
      "|file:/Users/elois...|Newsgroups: talk....|\n",
      "|file:/Users/elois...|Xref: cantaloupe....|\n",
      "|file:/Users/elois...|Xref: cantaloupe....|\n",
      "|file:/Users/elois...|Path: cantaloupe....|\n",
      "|file:/Users/elois...|Xref: cantaloupe....|\n",
      "|file:/Users/elois...|Path: cantaloupe....|\n",
      "|file:/Users/elois...|Xref: cantaloupe....|\n",
      "|file:/Users/elois...|Xref: cantaloupe....|\n",
      "|file:/Users/elois...|Path: cantaloupe....|\n",
      "|file:/Users/elois...|Xref: cantaloupe....|\n",
      "|file:/Users/elois...|Xref: cantaloupe....|\n",
      "|file:/Users/elois...|Xref: cantaloupe....|\n",
      "|file:/Users/elois...|Path: cantaloupe....|\n",
      "|file:/Users/elois...|Xref: cantaloupe....|\n",
      "|file:/Users/elois...|Newsgroups: talk....|\n",
      "|file:/Users/elois...|Newsgroups: talk....|\n",
      "|file:/Users/elois...|Newsgroups: talk....|\n",
      "|file:/Users/elois...|Xref: cantaloupe....|\n",
      "|file:/Users/elois...|Newsgroups: talk....|\n",
      "|file:/Users/elois...|Xref: cantaloupe....|\n",
      "+--------------------+--------------------+\n",
      "\n"
     ]
    }
   ],
   "source": [
    "df.show()"
   ]
  },
  {
   "cell_type": "code",
   "execution_count": 25,
   "metadata": {
    "collapsed": true
   },
   "outputs": [],
   "source": [
    "filepath = df.select('filepath')"
   ]
  },
  {
   "cell_type": "code",
   "execution_count": 27,
   "metadata": {
    "collapsed": false
   },
   "outputs": [
    {
     "name": "stdout",
     "output_type": "stream",
     "text": [
      "+--------------------+\n",
      "|            filepath|\n",
      "+--------------------+\n",
      "|file:/Users/elois...|\n",
      "|file:/Users/elois...|\n",
      "|file:/Users/elois...|\n",
      "|file:/Users/elois...|\n",
      "|file:/Users/elois...|\n",
      "|file:/Users/elois...|\n",
      "|file:/Users/elois...|\n",
      "|file:/Users/elois...|\n",
      "|file:/Users/elois...|\n",
      "|file:/Users/elois...|\n",
      "|file:/Users/elois...|\n",
      "|file:/Users/elois...|\n",
      "|file:/Users/elois...|\n",
      "|file:/Users/elois...|\n",
      "|file:/Users/elois...|\n",
      "|file:/Users/elois...|\n",
      "|file:/Users/elois...|\n",
      "|file:/Users/elois...|\n",
      "|file:/Users/elois...|\n",
      "|file:/Users/elois...|\n",
      "+--------------------+\n",
      "\n"
     ]
    }
   ],
   "source": [
    "filepath.show()"
   ]
  },
  {
   "cell_type": "code",
   "execution_count": 28,
   "metadata": {
    "collapsed": true
   },
   "outputs": [],
   "source": [
    "text = df.select('text')"
   ]
  },
  {
   "cell_type": "code",
   "execution_count": 29,
   "metadata": {
    "collapsed": false
   },
   "outputs": [
    {
     "name": "stdout",
     "output_type": "stream",
     "text": [
      "+--------------------+\n",
      "|                text|\n",
      "+--------------------+\n",
      "|Newsgroups: talk....|\n",
      "|Xref: cantaloupe....|\n",
      "|Xref: cantaloupe....|\n",
      "|Path: cantaloupe....|\n",
      "|Xref: cantaloupe....|\n",
      "|Path: cantaloupe....|\n",
      "|Xref: cantaloupe....|\n",
      "|Xref: cantaloupe....|\n",
      "|Path: cantaloupe....|\n",
      "|Xref: cantaloupe....|\n",
      "|Xref: cantaloupe....|\n",
      "|Xref: cantaloupe....|\n",
      "|Path: cantaloupe....|\n",
      "|Xref: cantaloupe....|\n",
      "|Newsgroups: talk....|\n",
      "|Newsgroups: talk....|\n",
      "|Newsgroups: talk....|\n",
      "|Xref: cantaloupe....|\n",
      "|Newsgroups: talk....|\n",
      "|Xref: cantaloupe....|\n",
      "+--------------------+\n",
      "\n"
     ]
    }
   ],
   "source": [
    "text.show()"
   ]
  },
  {
   "cell_type": "markdown",
   "metadata": {
    "collapsed": true
   },
   "source": [
    "#### Extracting IDs\n",
    "[I have to stackoverflow things](https://forums.databricks.com/questions/1056/access-to-column-value-of-a-row.html)"
   ]
  },
  {
   "cell_type": "code",
   "execution_count": 105,
   "metadata": {
    "collapsed": false
   },
   "outputs": [
    {
     "data": {
      "text/plain": [
       "DataFrame[filepath: string]"
      ]
     },
     "execution_count": 105,
     "metadata": {},
     "output_type": "execute_result"
    }
   ],
   "source": [
    "filepath"
   ]
  },
  {
   "cell_type": "code",
   "execution_count": 147,
   "metadata": {
    "collapsed": false
   },
   "outputs": [],
   "source": [
    "renglon = filepath.first()"
   ]
  },
  {
   "cell_type": "code",
   "execution_count": null,
   "metadata": {
    "collapsed": true
   },
   "outputs": [],
   "source": []
  },
  {
   "cell_type": "code",
   "execution_count": null,
   "metadata": {
    "collapsed": true
   },
   "outputs": [],
   "source": []
  },
  {
   "cell_type": "code",
   "execution_count": null,
   "metadata": {
    "collapsed": true
   },
   "outputs": [],
   "source": []
  },
  {
   "cell_type": "code",
   "execution_count": null,
   "metadata": {
    "collapsed": true
   },
   "outputs": [],
   "source": []
  },
  {
   "cell_type": "code",
   "execution_count": null,
   "metadata": {
    "collapsed": true
   },
   "outputs": [],
   "source": []
  },
  {
   "cell_type": "code",
   "execution_count": null,
   "metadata": {
    "collapsed": true
   },
   "outputs": [],
   "source": []
  },
  {
   "cell_type": "code",
   "execution_count": null,
   "metadata": {
    "collapsed": true
   },
   "outputs": [],
   "source": []
  },
  {
   "cell_type": "code",
   "execution_count": null,
   "metadata": {
    "collapsed": true
   },
   "outputs": [],
   "source": []
  },
  {
   "cell_type": "code",
   "execution_count": null,
   "metadata": {
    "collapsed": true
   },
   "outputs": [],
   "source": []
  },
  {
   "cell_type": "code",
   "execution_count": null,
   "metadata": {
    "collapsed": true
   },
   "outputs": [],
   "source": []
  },
  {
   "cell_type": "code",
   "execution_count": null,
   "metadata": {
    "collapsed": true
   },
   "outputs": [],
   "source": []
  },
  {
   "cell_type": "code",
   "execution_count": null,
   "metadata": {
    "collapsed": true
   },
   "outputs": [],
   "source": []
  },
  {
   "cell_type": "code",
   "execution_count": null,
   "metadata": {
    "collapsed": true
   },
   "outputs": [],
   "source": []
  },
  {
   "cell_type": "code",
   "execution_count": null,
   "metadata": {
    "collapsed": true
   },
   "outputs": [],
   "source": []
  },
  {
   "cell_type": "code",
   "execution_count": null,
   "metadata": {
    "collapsed": true
   },
   "outputs": [],
   "source": []
  },
  {
   "cell_type": "code",
   "execution_count": null,
   "metadata": {
    "collapsed": true
   },
   "outputs": [],
   "source": []
  },
  {
   "cell_type": "code",
   "execution_count": null,
   "metadata": {
    "collapsed": true
   },
   "outputs": [],
   "source": []
  },
  {
   "cell_type": "code",
   "execution_count": null,
   "metadata": {
    "collapsed": true
   },
   "outputs": [],
   "source": []
  },
  {
   "cell_type": "code",
   "execution_count": null,
   "metadata": {
    "collapsed": true
   },
   "outputs": [],
   "source": []
  },
  {
   "cell_type": "code",
   "execution_count": null,
   "metadata": {
    "collapsed": true
   },
   "outputs": [],
   "source": []
  },
  {
   "cell_type": "code",
   "execution_count": null,
   "metadata": {
    "collapsed": true
   },
   "outputs": [],
   "source": []
  },
  {
   "cell_type": "code",
   "execution_count": null,
   "metadata": {
    "collapsed": true
   },
   "outputs": [],
   "source": []
  },
  {
   "cell_type": "code",
   "execution_count": null,
   "metadata": {
    "collapsed": true
   },
   "outputs": [],
   "source": []
  },
  {
   "cell_type": "code",
   "execution_count": null,
   "metadata": {
    "collapsed": true
   },
   "outputs": [],
   "source": []
  },
  {
   "cell_type": "code",
   "execution_count": null,
   "metadata": {
    "collapsed": true
   },
   "outputs": [],
   "source": []
  },
  {
   "cell_type": "code",
   "execution_count": null,
   "metadata": {
    "collapsed": true
   },
   "outputs": [],
   "source": []
  },
  {
   "cell_type": "code",
   "execution_count": null,
   "metadata": {
    "collapsed": true
   },
   "outputs": [],
   "source": []
  },
  {
   "cell_type": "code",
   "execution_count": null,
   "metadata": {
    "collapsed": true
   },
   "outputs": [],
   "source": []
  },
  {
   "cell_type": "code",
   "execution_count": null,
   "metadata": {
    "collapsed": true
   },
   "outputs": [],
   "source": []
  },
  {
   "cell_type": "code",
   "execution_count": null,
   "metadata": {
    "collapsed": true
   },
   "outputs": [],
   "source": []
  },
  {
   "cell_type": "code",
   "execution_count": null,
   "metadata": {
    "collapsed": true
   },
   "outputs": [],
   "source": []
  },
  {
   "cell_type": "code",
   "execution_count": null,
   "metadata": {
    "collapsed": true
   },
   "outputs": [],
   "source": []
  },
  {
   "cell_type": "code",
   "execution_count": null,
   "metadata": {
    "collapsed": true
   },
   "outputs": [],
   "source": []
  },
  {
   "cell_type": "code",
   "execution_count": null,
   "metadata": {
    "collapsed": true
   },
   "outputs": [],
   "source": []
  },
  {
   "cell_type": "code",
   "execution_count": null,
   "metadata": {
    "collapsed": true
   },
   "outputs": [],
   "source": []
  }
 ],
 "metadata": {
  "kernelspec": {
   "display_name": "Python 2",
   "language": "python",
   "name": "python2"
  },
  "language_info": {
   "codemirror_mode": {
    "name": "ipython",
    "version": 2
   },
   "file_extension": ".py",
   "mimetype": "text/x-python",
   "name": "python",
   "nbconvert_exporter": "python",
   "pygments_lexer": "ipython2",
   "version": "2.7.11"
  }
 },
 "nbformat": 4,
 "nbformat_minor": 0
}
