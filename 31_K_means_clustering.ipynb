{
 "cells": [
  {
   "cell_type": "markdown",
   "metadata": {
    "collapsed": true
   },
   "source": [
    "## K_means_clustering\n",
    "---\n",
    "**Elo notes**"
   ]
  },
  {
   "cell_type": "markdown",
   "metadata": {
    "collapsed": true
   },
   "source": [
    "#### Clustering v. Classifying\n",
    "\n",
    "Clustering algorithms in computational text analysis groups documents into what are called subsets or clusters where the algorithm's goal is to create internally coherent clusters that are distinct from one another. Classification on the other hand, is a form of supervised learning where the features of the documents are used to predict the \"type\" of documents.\n",
    "\n",
    "#### Document clustering\n",
    "\n",
    "Document clustering (or text clustering) is the application of cluster analysis to textual documents. It has applications in automatic document organization, topic extraction and fast information retrieval or filtering.\n",
    "\n",
    "Document clustering involves the use of descriptors and descriptor extraction. \n",
    "\n",
    "Descriptors are sets of words that describe the contents within the cluster. Document clustering is generally considered to be a centralized process. Examples of document clustering include web document clustering for search users.\n",
    "\n",
    "The application of document clustering can be categorized to two types, online and offline. Online applications are usually constrained by efficiency problems when compared to offline applications.\n",
    "\n",
    "In general, there are two common algorithms. The first one is the hierarchical based algorithm, which includes single link, complete linkage, group average and Ward's method. By aggregating or dividing, documents can be clustered into hierarchical structure, which is suitable for browsing. However, such an algorithm usually suffers from efficiency problems. \n",
    "\n",
    "The other algorithm is developed using the K-means algorithm and its variants. Generally hierarchical algorithms produce more in-depth information for detailed analyses, while algorithms based around variants of the K-means algorithm are more efficient and provide sufficient information for most purposes.\n",
    "\n",
    "These algorithms can further be classified as hard or soft clustering algorithms. Hard clustering computes a hard assignment – each document is a member of exactly one cluster. The assignment of soft clustering algorithms is soft – a document’s assignment is a distribution over all clusters. In a soft assignment, a document has fractional membership in several clusters."
   ]
  },
  {
   "cell_type": "markdown",
   "metadata": {
    "collapsed": true
   },
   "source": [
    "Dimensionality reduction methods can be considered a subtype of soft clustering; for documents, these include latent semantic indexing (truncated singular value decomposition on term histograms) and topic models.\n",
    "\n",
    "Other algorithms involve graph based clustering, ontology supported clustering and order sensitive clustering.\n",
    "\n",
    "Given a clustering, it can be beneficial to automatically derive human-readable labels for the clusters. Various methods exist for this purpose.\n",
    "\n",
    "#### Clustering in search engines\n",
    "\n",
    "A web search engine often returns thousands of pages in response to a broad query, making it difficult for users to browse or to identify relevant information. Clustering methods can be used to automatically group the retrieved documents into a list of meaningful categories, as is achieved by e.g. open source software such as Carrot2.\n",
    "\n",
    "#### Procedures\n",
    "\n",
    "In practice, document clustering often takes the following steps:\n",
    "\n",
    "1. Tokenization\n",
    "\n",
    "Tokenization is the process of parsing text data into smaller units (tokens) such as words and phrases. Commonly used tokenization methods include Bag-of-words model and N-gram model.\n",
    "\n",
    "2. Stemming and lemmatization\n",
    "\n",
    "Different tokens might carry out similar information (e.g. tokenization and tokenizing). And we can avoid calculating similar information repeatedly by reducing all tokens to its base form using various stemming and lemmatization dictionaries.\n",
    "\n",
    "3. Removing stop words and punctuation\n",
    "\n",
    "Some tokens are less important than others. For instance, common words such as \"the\" might not be very helpful for revealing the essential characteristics of a text. So usually it is a good idea to eliminate stop words and punctuation marks before doing further analysis.\n",
    "\n",
    "4. Computing term frequencies or tf-idf\n",
    "\n",
    "After pre-processing the text data, we can then proceed to generate features. For document clustering, one of the most common ways to generate features for a document is to calculate the term frequencies of all its tokens. Although not perfect, these frequencies can usually provide some clues about the topic of the document. And sometimes it is also useful to weight the term frequencies by the inverse document frequencies. See tf-idf for detailed discussions.\n",
    "\n",
    "5. Clustering\n",
    "\n",
    "We can then cluster different documents based on the features we have generated. See the algorithm section in cluster analysis for different types of clustering methods.\n",
    "\n",
    "6. Evaluation and visualization\n",
    "\n",
    "Finally, the clustering models can be assessed by various metrics. And it is sometimes helpful to visualize the results by plotting the clusters into low (two) dimensional space. See multidimensional scaling as a possible approach.\n",
    "\n",
    "#### Cluster labeling\n",
    "\n",
    "In natural language processing and information retrieval, cluster labeling is the problem of picking descriptive, human-readable labels for the clusters produced by a document clustering algorithm; standard clustering algorithms do not typically produce any such labels. Cluster labeling algorithms examine the contents of the documents per cluster to find a labeling that summarize the topic of each cluster and distinguish the clusters from each other.\n",
    "\n",
    "#### Differential cluster labeling\n",
    "\n",
    "Differential cluster labeling labels a cluster by comparing term distributions across clusters, using techniques also used for feature selection in document classification, such as mutual information and chi-squared feature selection. Terms having very low frequency are not the best in representing the whole cluster and can be omitted in labeling a cluster. By omitting those rare terms and using a differential test, one can achieve the best results with differential cluster labeling.\n",
    "\n"
   ]
  },
  {
   "cell_type": "code",
   "execution_count": 30,
   "metadata": {
    "collapsed": true
   },
   "outputs": [],
   "source": [
    "from sklearn.cluster import KMeans\n",
    "from sklearn.feature_extraction.text import TfidfVectorizer\n",
    "from sklearn.metrics import silhouette_score\n",
    "from nltk.corpus import stopwords\n",
    "\n",
    "import nltk\n",
    "import matplotlib.pyplot as plt\n",
    "\n",
    "import numpy as np\n",
    "import pandas as pd\n",
    "\n",
    "% matplotlib inline"
   ]
  },
  {
   "cell_type": "code",
   "execution_count": 6,
   "metadata": {
    "collapsed": true
   },
   "outputs": [],
   "source": [
    "df = pd.read_pickle('data/articles.pkl')"
   ]
  },
  {
   "cell_type": "code",
   "execution_count": 7,
   "metadata": {
    "collapsed": false
   },
   "outputs": [
    {
     "data": {
      "text/html": [
       "<div>\n",
       "<table border=\"1\" class=\"dataframe\">\n",
       "  <thead>\n",
       "    <tr style=\"text-align: right;\">\n",
       "      <th></th>\n",
       "      <th>document_type</th>\n",
       "      <th>web_url</th>\n",
       "      <th>lead_paragraph</th>\n",
       "      <th>abstract</th>\n",
       "      <th>snippet</th>\n",
       "      <th>news_desk</th>\n",
       "      <th>word_count</th>\n",
       "      <th>source</th>\n",
       "      <th>section_name</th>\n",
       "      <th>subsection_name</th>\n",
       "      <th>_id</th>\n",
       "      <th>pub_date</th>\n",
       "      <th>print_page</th>\n",
       "      <th>headline</th>\n",
       "      <th>content</th>\n",
       "    </tr>\n",
       "  </thead>\n",
       "  <tbody>\n",
       "    <tr>\n",
       "      <th>0</th>\n",
       "      <td>article</td>\n",
       "      <td>http://www.nytimes.com/2013/10/03/sports/footb...</td>\n",
       "      <td>You would think that in a symmetric zero-sum s...</td>\n",
       "      <td>None</td>\n",
       "      <td>You would think that in a symmetric zero-sum s...</td>\n",
       "      <td>Sports</td>\n",
       "      <td>347</td>\n",
       "      <td>The New York Times</td>\n",
       "      <td>Sports</td>\n",
       "      <td>Pro Football</td>\n",
       "      <td>524d4e3a38f0d8198974001f</td>\n",
       "      <td>2013-10-03T00:00:00Z</td>\n",
       "      <td>None</td>\n",
       "      <td>Week 5 Probabilities: Why Offense Is More Impo...</td>\n",
       "      <td>the original goal building model football fore...</td>\n",
       "    </tr>\n",
       "    <tr>\n",
       "      <th>1</th>\n",
       "      <td>article</td>\n",
       "      <td>http://www.nytimes.com/2013/10/03/us/new-immig...</td>\n",
       "      <td>House Democrats on Wednesday unveiled an immig...</td>\n",
       "      <td>House Democrats unveil immigration bill that p...</td>\n",
       "      <td>House Democrats on Wednesday unveiled an immig...</td>\n",
       "      <td>National</td>\n",
       "      <td>83</td>\n",
       "      <td>The New York Times</td>\n",
       "      <td>U.S.</td>\n",
       "      <td>None</td>\n",
       "      <td>524cf71338f0d8198973ff7b</td>\n",
       "      <td>2013-10-03T00:00:00Z</td>\n",
       "      <td>21</td>\n",
       "      <td>New Immigration Bill Put Forward</td>\n",
       "      <td>house unveiled immigration bill provides path ...</td>\n",
       "    </tr>\n",
       "  </tbody>\n",
       "</table>\n",
       "</div>"
      ],
      "text/plain": [
       "  document_type                                            web_url  \\\n",
       "0       article  http://www.nytimes.com/2013/10/03/sports/footb...   \n",
       "1       article  http://www.nytimes.com/2013/10/03/us/new-immig...   \n",
       "\n",
       "                                      lead_paragraph  \\\n",
       "0  You would think that in a symmetric zero-sum s...   \n",
       "1  House Democrats on Wednesday unveiled an immig...   \n",
       "\n",
       "                                            abstract  \\\n",
       "0                                               None   \n",
       "1  House Democrats unveil immigration bill that p...   \n",
       "\n",
       "                                             snippet news_desk word_count  \\\n",
       "0  You would think that in a symmetric zero-sum s...    Sports        347   \n",
       "1  House Democrats on Wednesday unveiled an immig...  National         83   \n",
       "\n",
       "               source section_name subsection_name                       _id  \\\n",
       "0  The New York Times       Sports    Pro Football  524d4e3a38f0d8198974001f   \n",
       "1  The New York Times         U.S.            None  524cf71338f0d8198973ff7b   \n",
       "\n",
       "               pub_date print_page  \\\n",
       "0  2013-10-03T00:00:00Z       None   \n",
       "1  2013-10-03T00:00:00Z         21   \n",
       "\n",
       "                                            headline  \\\n",
       "0  Week 5 Probabilities: Why Offense Is More Impo...   \n",
       "1                   New Immigration Bill Put Forward   \n",
       "\n",
       "                                             content  \n",
       "0  the original goal building model football fore...  \n",
       "1  house unveiled immigration bill provides path ...  "
      ]
     },
     "execution_count": 7,
     "metadata": {},
     "output_type": "execute_result"
    }
   ],
   "source": [
    "df[:2]"
   ]
  },
  {
   "cell_type": "code",
   "execution_count": 8,
   "metadata": {
    "collapsed": false
   },
   "outputs": [
    {
     "data": {
      "text/html": [
       "<div>\n",
       "<table border=\"1\" class=\"dataframe\">\n",
       "  <thead>\n",
       "    <tr style=\"text-align: right;\">\n",
       "      <th></th>\n",
       "      <th>document_type</th>\n",
       "      <th>web_url</th>\n",
       "      <th>lead_paragraph</th>\n",
       "      <th>abstract</th>\n",
       "      <th>snippet</th>\n",
       "      <th>news_desk</th>\n",
       "      <th>word_count</th>\n",
       "      <th>source</th>\n",
       "      <th>section_name</th>\n",
       "      <th>subsection_name</th>\n",
       "      <th>_id</th>\n",
       "      <th>pub_date</th>\n",
       "      <th>print_page</th>\n",
       "      <th>headline</th>\n",
       "      <th>content</th>\n",
       "    </tr>\n",
       "  </thead>\n",
       "  <tbody>\n",
       "    <tr>\n",
       "      <th>count</th>\n",
       "      <td>1405</td>\n",
       "      <td>1405</td>\n",
       "      <td>1405</td>\n",
       "      <td>1001</td>\n",
       "      <td>1405</td>\n",
       "      <td>1405</td>\n",
       "      <td>1405</td>\n",
       "      <td>1405</td>\n",
       "      <td>1405</td>\n",
       "      <td>954</td>\n",
       "      <td>1405</td>\n",
       "      <td>1405</td>\n",
       "      <td>1379</td>\n",
       "      <td>1405</td>\n",
       "      <td>1405</td>\n",
       "    </tr>\n",
       "    <tr>\n",
       "      <th>unique</th>\n",
       "      <td>1</td>\n",
       "      <td>1404</td>\n",
       "      <td>1374</td>\n",
       "      <td>1001</td>\n",
       "      <td>1374</td>\n",
       "      <td>18</td>\n",
       "      <td>886</td>\n",
       "      <td>3</td>\n",
       "      <td>10</td>\n",
       "      <td>37</td>\n",
       "      <td>1405</td>\n",
       "      <td>20</td>\n",
       "      <td>41</td>\n",
       "      <td>1375</td>\n",
       "      <td>1397</td>\n",
       "    </tr>\n",
       "    <tr>\n",
       "      <th>top</th>\n",
       "      <td>article</td>\n",
       "      <td>http://www.nytimes.com/2013/10/01/arts/televis...</td>\n",
       "      <td>Television highlights.</td>\n",
       "      <td>Ross Douthat Op-Ed column examines why audienc...</td>\n",
       "      <td>Television highlights.</td>\n",
       "      <td>Sports</td>\n",
       "      <td>369</td>\n",
       "      <td>The New York Times</td>\n",
       "      <td>Sports</td>\n",
       "      <td>Baseball</td>\n",
       "      <td>524731d838f0d8198973e2ab</td>\n",
       "      <td>2013-09-27T00:00:00Z</td>\n",
       "      <td></td>\n",
       "      <td>100, 75, 50 Years Ago</td>\n",
       "      <td>lot list should-be-better-known movie include ...</td>\n",
       "    </tr>\n",
       "    <tr>\n",
       "      <th>freq</th>\n",
       "      <td>1405</td>\n",
       "      <td>2</td>\n",
       "      <td>12</td>\n",
       "      <td>1</td>\n",
       "      <td>12</td>\n",
       "      <td>338</td>\n",
       "      <td>6</td>\n",
       "      <td>1305</td>\n",
       "      <td>340</td>\n",
       "      <td>82</td>\n",
       "      <td>1</td>\n",
       "      <td>123</td>\n",
       "      <td>239</td>\n",
       "      <td>11</td>\n",
       "      <td>2</td>\n",
       "    </tr>\n",
       "  </tbody>\n",
       "</table>\n",
       "</div>"
      ],
      "text/plain": [
       "       document_type                                            web_url  \\\n",
       "count           1405                                               1405   \n",
       "unique             1                                               1404   \n",
       "top          article  http://www.nytimes.com/2013/10/01/arts/televis...   \n",
       "freq            1405                                                  2   \n",
       "\n",
       "                lead_paragraph  \\\n",
       "count                     1405   \n",
       "unique                    1374   \n",
       "top     Television highlights.   \n",
       "freq                        12   \n",
       "\n",
       "                                                 abstract  \\\n",
       "count                                                1001   \n",
       "unique                                               1001   \n",
       "top     Ross Douthat Op-Ed column examines why audienc...   \n",
       "freq                                                    1   \n",
       "\n",
       "                       snippet news_desk word_count              source  \\\n",
       "count                     1405      1405       1405                1405   \n",
       "unique                    1374        18        886                   3   \n",
       "top     Television highlights.    Sports        369  The New York Times   \n",
       "freq                        12       338          6                1305   \n",
       "\n",
       "       section_name subsection_name                       _id  \\\n",
       "count          1405             954                      1405   \n",
       "unique           10              37                      1405   \n",
       "top          Sports        Baseball  524731d838f0d8198973e2ab   \n",
       "freq            340              82                         1   \n",
       "\n",
       "                    pub_date print_page               headline  \\\n",
       "count                   1405       1379                   1405   \n",
       "unique                    20         41                   1375   \n",
       "top     2013-09-27T00:00:00Z             100, 75, 50 Years Ago   \n",
       "freq                     123        239                     11   \n",
       "\n",
       "                                                  content  \n",
       "count                                                1405  \n",
       "unique                                               1397  \n",
       "top     lot list should-be-better-known movie include ...  \n",
       "freq                                                    2  "
      ]
     },
     "execution_count": 8,
     "metadata": {},
     "output_type": "execute_result"
    }
   ],
   "source": [
    "df.describe()"
   ]
  },
  {
   "cell_type": "code",
   "execution_count": 9,
   "metadata": {
    "collapsed": false
   },
   "outputs": [
    {
     "name": "stdout",
     "output_type": "stream",
     "text": [
      "<class 'pandas.core.frame.DataFrame'>\n",
      "Int64Index: 1405 entries, 0 to 1404\n",
      "Data columns (total 15 columns):\n",
      "document_type      1405 non-null object\n",
      "web_url            1405 non-null object\n",
      "lead_paragraph     1405 non-null object\n",
      "abstract           1001 non-null object\n",
      "snippet            1405 non-null object\n",
      "news_desk          1405 non-null object\n",
      "word_count         1405 non-null object\n",
      "source             1405 non-null object\n",
      "section_name       1405 non-null object\n",
      "subsection_name    954 non-null object\n",
      "_id                1405 non-null object\n",
      "pub_date           1405 non-null object\n",
      "print_page         1379 non-null object\n",
      "headline           1405 non-null object\n",
      "content            1405 non-null object\n",
      "dtypes: object(15)\n",
      "memory usage: 175.6+ KB\n"
     ]
    }
   ],
   "source": [
    "df.info()"
   ]
  },
  {
   "cell_type": "code",
   "execution_count": 10,
   "metadata": {
    "collapsed": false
   },
   "outputs": [
    {
     "data": {
      "text/plain": [
       "u'the original goal building model football forecasting weigh importance facet game in particular wanted know offense important defense defense really win championship \\u201cwhat\\u2019s important tricky question you would think symmetric zero-sum sport like football offense defense equally important winning for every yard point gained offensive squad defensive squad surrendered equal yard point and that\\u2019s true game level when aggregate squad performance team find total number yard point gained surrendered indeed symmetric distribution offense wider in word really good really bad offense average defense we use advanced metric team performance like expected point added epa win probability added wpa measure spread performance the standard deviation distribution tell u wide statistic distributed is bell curve wide narrow since 2000 season standard deviation epa 81 point team offense 65 point team defense for wpa it\\u2019s 2.6 win team offense 2.0 win team defense both measure 30 percent bigger offense defense one lesson exercise team could choose ranked no league one side ball average choose best offense it also explains see great offensive team tend beat great defensive team this week\\u2019s game colt seahawks indianapolis feature top defense third point allowed good offense eighth point scored contrary conventional opinion number like offense one the probability week right brian burke operates advanced nfl stats the original goal building model football forecasting weigh importance facet game in particular wanted know offense important defense defense really win championship \\u201cwhat\\u2019s important tricky question you would think symmetric zero-sum sport like football offense defense equally important winning for every yard point gained offensive squad defensive squad surrendered equal yard point and that\\u2019s true game level when aggregate squad performance team find total number yard point gained surrendered indeed symmetric distribution offense wider in word really good really bad offense average defense we use advanced metric team performance like expected point added epa win probability added wpa measure spread performance the standard deviation distribution tell u wide statistic distributed is bell curve wide narrow since 2000 season standard deviation epa 81 point team offense 65 point team defense for wpa it\\u2019s 2.6 win team offense 2.0 win team defense both measure 30 percent bigger offense defense one lesson exercise team could choose ranked no league one side ball average choose best offense it also explains see great offensive team tend beat great defensive team this week\\u2019s game colt seahawks indianapolis feature top defense third point allowed good offense eighth point scored contrary conventional opinion number like offense one the probability week right brian burke operates advanced nfl stats'"
      ]
     },
     "execution_count": 10,
     "metadata": {},
     "output_type": "execute_result"
    }
   ],
   "source": [
    "df.content[0]"
   ]
  },
  {
   "cell_type": "code",
   "execution_count": 46,
   "metadata": {
    "collapsed": false
   },
   "outputs": [
    {
     "data": {
      "text/plain": [
       "Baseball                  82\n",
       "Middle East               74\n",
       "Asia Pacific              71\n",
       "Europe                    65\n",
       "Pro Football              64\n",
       "Music                     61\n",
       "Media & Advertising       58\n",
       "Politics                  54\n",
       "Television                42\n",
       "Art & Design              37\n",
       "Sunday Review             37\n",
       "Soccer                    32\n",
       "Africa                    31\n",
       "Pro Basketball            25\n",
       "International Business    25\n",
       "College Football          22\n",
       "Global Business           22\n",
       "Hockey                    21\n",
       "Dance                     20\n",
       "Golf                      18\n",
       "Energy & Environment      17\n",
       "Auto Racing               15\n",
       "Americas                  13\n",
       "Global Opinion            10\n",
       "Tennis                     7\n",
       "Economy                    7\n",
       "Small Business             6\n",
       "Cycling                    5\n",
       "College Basketball         2\n",
       "Rugby                      2\n",
       "Cricket                    2\n",
       "Video Games                2\n",
       "International Opinion      1\n",
       "Sunday Book Review         1\n",
       "Global Sports              1\n",
       "Olympics                   1\n",
       "International Sports       1\n",
       "Name: subsection_name, dtype: int64"
      ]
     },
     "execution_count": 46,
     "metadata": {},
     "output_type": "execute_result"
    }
   ],
   "source": [
    "df.subsection_name.value_counts()"
   ]
  },
  {
   "cell_type": "code",
   "execution_count": 11,
   "metadata": {
    "collapsed": false
   },
   "outputs": [
    {
     "data": {
      "text/plain": [
       "[u'a',\n",
       " u'about',\n",
       " u'above',\n",
       " u'after',\n",
       " u'again',\n",
       " u'against',\n",
       " u'all',\n",
       " u'am',\n",
       " u'an',\n",
       " u'and',\n",
       " u'any',\n",
       " u'are',\n",
       " u'as',\n",
       " u'at',\n",
       " u'be',\n",
       " u'because',\n",
       " u'been',\n",
       " u'before',\n",
       " u'being',\n",
       " u'below',\n",
       " u'between',\n",
       " u'both',\n",
       " u'but',\n",
       " u'by',\n",
       " u'can',\n",
       " u'did',\n",
       " u'do',\n",
       " u'does',\n",
       " u'doing',\n",
       " u'don',\n",
       " u'down',\n",
       " u'during',\n",
       " u'each',\n",
       " u'few',\n",
       " u'for',\n",
       " u'from',\n",
       " u'further',\n",
       " u'had',\n",
       " u'has',\n",
       " u'have',\n",
       " u'having',\n",
       " u'he',\n",
       " u'her',\n",
       " u'here',\n",
       " u'hers',\n",
       " u'herself',\n",
       " u'him',\n",
       " u'himself',\n",
       " u'his',\n",
       " u'how',\n",
       " u'i',\n",
       " u'if',\n",
       " u'in',\n",
       " u'into',\n",
       " u'is',\n",
       " u'it',\n",
       " u'its',\n",
       " u'itself',\n",
       " u'just',\n",
       " u'me',\n",
       " u'more',\n",
       " u'most',\n",
       " u'my',\n",
       " u'myself',\n",
       " u'no',\n",
       " u'nor',\n",
       " u'not',\n",
       " u'now',\n",
       " u'of',\n",
       " u'off',\n",
       " u'on',\n",
       " u'once',\n",
       " u'only',\n",
       " u'or',\n",
       " u'other',\n",
       " u'our',\n",
       " u'ours',\n",
       " u'ourselves',\n",
       " u'out',\n",
       " u'over',\n",
       " u'own',\n",
       " u's',\n",
       " u'same',\n",
       " u'she',\n",
       " u'should',\n",
       " u'so',\n",
       " u'some',\n",
       " u'such',\n",
       " u't',\n",
       " u'than',\n",
       " u'that',\n",
       " u'the',\n",
       " u'their',\n",
       " u'theirs',\n",
       " u'them',\n",
       " u'themselves',\n",
       " u'then',\n",
       " u'there',\n",
       " u'these',\n",
       " u'they',\n",
       " u'this',\n",
       " u'those',\n",
       " u'through',\n",
       " u'to',\n",
       " u'too',\n",
       " u'under',\n",
       " u'until',\n",
       " u'up',\n",
       " u'very',\n",
       " u'was',\n",
       " u'we',\n",
       " u'were',\n",
       " u'what',\n",
       " u'when',\n",
       " u'where',\n",
       " u'which',\n",
       " u'while',\n",
       " u'who',\n",
       " u'whom',\n",
       " u'why',\n",
       " u'will',\n",
       " u'with',\n",
       " u'you',\n",
       " u'your',\n",
       " u'yours',\n",
       " u'yourself',\n",
       " u'yourselves']"
      ]
     },
     "execution_count": 11,
     "metadata": {},
     "output_type": "execute_result"
    }
   ],
   "source": [
    "stopw = stopwords.words('english')\n",
    "sorted(stopw)"
   ]
  },
  {
   "cell_type": "code",
   "execution_count": 14,
   "metadata": {
    "collapsed": true
   },
   "outputs": [],
   "source": [
    "stopw.append('mr')"
   ]
  },
  {
   "cell_type": "code",
   "execution_count": 15,
   "metadata": {
    "collapsed": true
   },
   "outputs": [],
   "source": [
    "stopw.append('ms')"
   ]
  },
  {
   "cell_type": "code",
   "execution_count": 16,
   "metadata": {
    "collapsed": true
   },
   "outputs": [],
   "source": [
    "stopw.append('said')"
   ]
  },
  {
   "cell_type": "code",
   "execution_count": 17,
   "metadata": {
    "collapsed": true
   },
   "outputs": [],
   "source": [
    "stopw.append('like')"
   ]
  },
  {
   "cell_type": "code",
   "execution_count": 18,
   "metadata": {
    "collapsed": true
   },
   "outputs": [],
   "source": [
    "# Convert a collection of raw documents to a matrix of TF-IDF features.\n",
    "vectorizing = TfidfVectorizer(stop_words=stopw, min_df=5, max_df=.90, max_features=2000)"
   ]
  },
  {
   "cell_type": "code",
   "execution_count": 23,
   "metadata": {
    "collapsed": false
   },
   "outputs": [],
   "source": [
    "# VECTORS : Token counts - Learn vocabulary and idf, return term-document matrix.\n",
    "X = vectorizing.fit_transform(df.content.values)"
   ]
  },
  {
   "cell_type": "code",
   "execution_count": 24,
   "metadata": {
    "collapsed": false
   },
   "outputs": [],
   "source": [
    "names = vectorizing.get_feature_names()"
   ]
  },
  {
   "cell_type": "code",
   "execution_count": 26,
   "metadata": {
    "collapsed": false
   },
   "outputs": [
    {
     "data": {
      "text/plain": [
       "array([[ 0.        ,  0.        ,  0.        , ...,  0.        ,\n",
       "         0.        ,  0.        ],\n",
       "       [ 0.        ,  0.        ,  0.        , ...,  0.        ,\n",
       "         0.        ,  0.        ],\n",
       "       [ 0.        ,  0.        ,  0.        , ...,  0.        ,\n",
       "         0.        ,  0.        ],\n",
       "       ..., \n",
       "       [ 0.        ,  0.        ,  0.        , ...,  0.        ,\n",
       "         0.        ,  0.        ],\n",
       "       [ 0.02045321,  0.02984157,  0.01336733, ...,  0.        ,\n",
       "         0.        ,  0.        ],\n",
       "       [ 0.        ,  0.        ,  0.        , ...,  0.        ,\n",
       "         0.        ,  0.        ]])"
      ]
     },
     "execution_count": 26,
     "metadata": {},
     "output_type": "execute_result"
    }
   ],
   "source": [
    "word_counts = X.toarray()\n",
    "word_counts"
   ]
  },
  {
   "cell_type": "code",
   "execution_count": 29,
   "metadata": {
    "collapsed": false
   },
   "outputs": [
    {
     "data": {
      "image/png": "[encoded data removed]",
      "text/plain": [
       "<matplotlib.figure.Figure at 0x11ad771d0>"
      ]
     },
     "metadata": {},
     "output_type": "display_data"
    }
   ],
   "source": [
    "clusters = range(1, 10)\n",
    "\n",
    "def kmean_score(cluster_qty):\n",
    "    kmean = KMeans(cluster_qty)\n",
    "    kmean.fit(X)\n",
    "    rss = -kmean.score(X)\n",
    "    return rss\n",
    "\n",
    "scores = [kmean_score(i) for i in clusters]\n",
    "\n",
    "plt.plot(range(1, 10), scores)\n",
    "plt.xlabel('K')\n",
    "plt.ylabel('RSS')\n",
    "plt.title('RSS versus K');"
   ]
  },
  {
   "cell_type": "code",
   "execution_count": 35,
   "metadata": {
    "collapsed": false
   },
   "outputs": [
    {
     "data": {
      "image/png": "[encoded data removed]",
      "text/plain": [
       "<matplotlib.figure.Figure at 0x11c0c0550>"
      ]
     },
     "metadata": {},
     "output_type": "display_data"
    }
   ],
   "source": [
    "def silueta_score(cluster_qty):\n",
    "    kmean = KMeans(cluster_qty)\n",
    "    kmean.fit(X)\n",
    "    silueta_avg = silhouette_score(X, kmean.labels_)\n",
    "    centroids = kmean.cluster_centers_\n",
    "    return silueta_avg\n",
    "\n",
    "centroids = [silueta_score(i) for i in range(2, 10)]\n",
    "\n",
    "plt.plot(range(2, 10), centroids)\n",
    "plt.xlabel('k')\n",
    "plt.xlabel('Silhouette score')\n",
    "plt.title('Silhouette score vs k');\n"
   ]
  },
  {
   "cell_type": "code",
   "execution_count": 38,
   "metadata": {
    "collapsed": false
   },
   "outputs": [
    {
     "data": {
      "text/plain": [
       "7"
      ]
     },
     "execution_count": 38,
     "metadata": {},
     "output_type": "execute_result"
    }
   ],
   "source": [
    "best_centroidsqty = np.argmax(centroids)\n",
    "best_centroidsqty"
   ]
  },
  {
   "cell_type": "code",
   "execution_count": 39,
   "metadata": {
    "collapsed": false
   },
   "outputs": [
    {
     "data": {
      "text/plain": [
       "array([[ 1.03510435,  1.19479142,  0.95395792, ...,  1.01380414,\n",
       "         1.09576285,  0.99889626],\n",
       "       [ 1.02006781,  1.19222328,  1.05831761, ...,  1.03172586,\n",
       "         0.95605708,  0.99963917],\n",
       "       [ 1.02156259,  1.18645846,  1.05534922, ...,  1.02736966,\n",
       "         1.06562023,  0.98019385],\n",
       "       ..., \n",
       "       [ 0.88798245,  1.13449005,  1.04067088, ...,  1.01187766,\n",
       "         1.06527912,  0.98079364],\n",
       "       [ 0.97619073,  1.14703548,  0.99034977, ...,  0.94391297,\n",
       "         1.01304821,  0.92523857],\n",
       "       [ 0.99337852,  1.15161038,  0.99751107, ...,  0.96398187,\n",
       "         0.9717845 ,  0.94515399]])"
      ]
     },
     "execution_count": 39,
     "metadata": {},
     "output_type": "execute_result"
    }
   ],
   "source": [
    "km = KMeans(n_clusters=7)\n",
    "km.fit_transform(X)"
   ]
  },
  {
   "cell_type": "code",
   "execution_count": 40,
   "metadata": {
    "collapsed": false
   },
   "outputs": [
    {
     "data": {
      "text/plain": [
       "array([[ 0.01945145,  0.00729279,  0.01144263, ...,  0.00416592,\n",
       "         0.0004799 ,  0.00368433],\n",
       "       [ 0.00157093,  0.00075801,  0.00228322, ...,  0.        ,\n",
       "         0.        ,  0.        ],\n",
       "       [ 0.00736756,  0.0175212 ,  0.00434809, ...,  0.0026937 ,\n",
       "         0.00159268,  0.00401188],\n",
       "       ..., \n",
       "       [ 0.00983745,  0.02118392,  0.00283282, ...,  0.00059288,\n",
       "         0.01328866,  0.00201711],\n",
       "       [ 0.01303724,  0.00762261,  0.00303086, ...,  0.00031791,\n",
       "         0.        ,  0.00112306],\n",
       "       [ 0.01566013,  0.00753371,  0.00527272, ...,  0.00135053,\n",
       "         0.00059442,  0.00096234]])"
      ]
     },
     "execution_count": 40,
     "metadata": {},
     "output_type": "execute_result"
    }
   ],
   "source": [
    "km.cluster_centers_"
   ]
  },
  {
   "cell_type": "code",
   "execution_count": 41,
   "metadata": {
    "collapsed": true
   },
   "outputs": [],
   "source": [
    "# Creating (7, 10) array, numpy.apply_along_axis(func1d, axis, arr, *args, **kwargs)\n",
    "top_words = np.apply_along_axis(lambda x:np.argsort(x)[::-1][:10], 1, km.cluster_centers_)"
   ]
  },
  {
   "cell_type": "code",
   "execution_count": 42,
   "metadata": {
    "collapsed": false
   },
   "outputs": [
    {
     "data": {
      "text/plain": [
       "array([[ 188,  803, 1772, 1881, 1228, 1134,  988, 1295,  811, 1586],\n",
       "       [ 936, 1540,  937, 1215, 1217,  943, 1881, 1366, 1195, 1179],\n",
       "       [ 770, 1579, 1790, 1330, 1023, 1988, 1990, 1328,  721,  372],\n",
       "       [1297,  213,  803, 1279, 1096,  635, 1991, 1121, 1437,  395],\n",
       "       [1171,  174, 1632, 1198, 1971, 1234, 1239, 1672, 1202,  475],\n",
       "       [1497,  834,  869,  305,  803, 1637, 1014, 1217, 1598, 1981],\n",
       "       [1991, 1716, 1198, 1981, 1234,  395, 1295,  447, 1606,  311]])"
      ]
     },
     "execution_count": 42,
     "metadata": {},
     "output_type": "execute_result"
    }
   ],
   "source": [
    "top_words"
   ]
  },
  {
   "cell_type": "code",
   "execution_count": 45,
   "metadata": {
    "collapsed": false
   },
   "outputs": [
    {
     "name": "stdout",
     "output_type": "stream",
     "text": [
      "attack\n",
      "government\n",
      "syria\n",
      "united\n",
      "official\n",
      "military\n",
      "killed\n",
      "people\n",
      "group\n",
      "security\n",
      "===========\n",
      "iran\n",
      "rouhani\n",
      "iranian\n",
      "nuclear\n",
      "obama\n",
      "israel\n",
      "united\n",
      "president\n",
      "netanyahu\n",
      "nation\n",
      "===========\n",
      "game\n",
      "season\n",
      "team\n",
      "player\n",
      "league\n",
      "yankee\n",
      "yard\n",
      "play\n",
      "first\n",
      "coach\n",
      "===========\n",
      "percent\n",
      "bank\n",
      "government\n",
      "party\n",
      "market\n",
      "european\n",
      "year\n",
      "merkel\n",
      "rate\n",
      "company\n",
      "===========\n",
      "music\n",
      "art\n",
      "show\n",
      "new\n",
      "work\n",
      "one\n",
      "opera\n",
      "song\n",
      "night\n",
      "dance\n",
      "===========\n",
      "republican\n",
      "health\n",
      "house\n",
      "care\n",
      "government\n",
      "shutdown\n",
      "law\n",
      "obama\n",
      "senate\n",
      "would\n",
      "===========\n",
      "year\n",
      "state\n",
      "new\n",
      "would\n",
      "one\n",
      "company\n",
      "people\n",
      "court\n",
      "sept\n",
      "case\n",
      "===========\n"
     ]
    }
   ],
   "source": [
    "# names = vectorizing.get_feature_names()\n",
    "for row in xrange(top_words.shape[0]):\n",
    "    for column in xrange(top_words.shape[1]):\n",
    "        print names[top_words[row, column]]\n",
    "    print '==========='"
   ]
  },
  {
   "cell_type": "code",
   "execution_count": null,
   "metadata": {
    "collapsed": true
   },
   "outputs": [],
   "source": []
  },
  {
   "cell_type": "code",
   "execution_count": null,
   "metadata": {
    "collapsed": true
   },
   "outputs": [],
   "source": []
  }
 ],
 "metadata": {
  "kernelspec": {
   "display_name": "Python 2",
   "language": "python",
   "name": "python2"
  },
  "language_info": {
   "codemirror_mode": {
    "name": "ipython",
    "version": 2
   },
   "file_extension": ".py",
   "mimetype": "text/x-python",
   "name": "python",
   "nbconvert_exporter": "python",
   "pygments_lexer": "ipython2",
   "version": "2.7.11"
  }
 },
 "nbformat": 4,
 "nbformat_minor": 0
}
