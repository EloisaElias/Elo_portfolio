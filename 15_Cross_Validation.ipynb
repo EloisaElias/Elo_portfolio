{
 "cells": [
  {
   "cell_type": "markdown",
   "metadata": {},
   "source": [
    "## One-fold Cross Validation\n",
    "\n"
   ]
  },
  {
   "cell_type": "markdown",
   "metadata": {},
   "source": [
    "The goal is to evaluate the model given  metric I'm interested in."
   ]
  },
  {
   "cell_type": "code",
   "execution_count": 3,
   "metadata": {
    "collapsed": false
   },
   "outputs": [],
   "source": [
    "\n",
    "from sklearn.linear_model import LinearRegression\n",
    "from sklearn.cross_validation import KFold\n",
    "from sklearn.cross_validation import train_test_split\n",
    "from sklearn.cross_validation import cross_val_score\n",
    "from sklearn.cross_validation import ShuffleSplit\n",
    "from sklearn.metrics import mean_squared_error as MSE\n",
    "\n",
    "\n",
    "from sklearn.datasets import load_boston\n",
    "\n",
    "import numpy as np\n",
    "import pandas as pd\n",
    "% matplotlib inline"
   ]
  },
  {
   "cell_type": "code",
   "execution_count": 4,
   "metadata": {
    "collapsed": false
   },
   "outputs": [],
   "source": [
    "boston = load_boston()"
   ]
  },
  {
   "cell_type": "code",
   "execution_count": 5,
   "metadata": {
    "collapsed": false
   },
   "outputs": [
    {
     "data": {
      "text/plain": [
       "array([[  6.32000000e-03,   1.80000000e+01,   2.31000000e+00,\n",
       "          0.00000000e+00,   5.38000000e-01,   6.57500000e+00,\n",
       "          6.52000000e+01,   4.09000000e+00,   1.00000000e+00,\n",
       "          2.96000000e+02,   1.53000000e+01,   3.96900000e+02,\n",
       "          4.98000000e+00],\n",
       "       [  2.73100000e-02,   0.00000000e+00,   7.07000000e+00,\n",
       "          0.00000000e+00,   4.69000000e-01,   6.42100000e+00,\n",
       "          7.89000000e+01,   4.96710000e+00,   2.00000000e+00,\n",
       "          2.42000000e+02,   1.78000000e+01,   3.96900000e+02,\n",
       "          9.14000000e+00]])"
      ]
     },
     "execution_count": 5,
     "metadata": {},
     "output_type": "execute_result"
    }
   ],
   "source": [
    "features = boston.data\n",
    "features[:2]"
   ]
  },
  {
   "cell_type": "code",
   "execution_count": 6,
   "metadata": {
    "collapsed": false
   },
   "outputs": [
    {
     "data": {
      "text/plain": [
       "array([ 24. ,  21.6])"
      ]
     },
     "execution_count": 6,
     "metadata": {},
     "output_type": "execute_result"
    }
   ],
   "source": [
    "target = boston.target\n",
    "target[:2]"
   ]
  },
  {
   "cell_type": "markdown",
   "metadata": {},
   "source": [
    "   Descriptions for each column in `features`:\n",
    "\n",
    "   ```\n",
    "   Attribute Information (in order):\n",
    "    - CRIM     per capita crime rate by town\n",
    "    - ZN       proportion of residential land zoned for lots over 25,000 sq.ft.\n",
    "    - INDUS    proportion of non-retail business acres per town\n",
    "    - CHAS     Charles River dummy variable (= 1 if tract bounds river; 0 otherwise)\n",
    "    - NOX      nitric oxides concentration (parts per 10 million)\n",
    "    - RM       average number of rooms per dwelling\n",
    "    - AGE      proportion of owner-occupied units built prior to 1940\n",
    "    - DIS      weighted distances to five Boston employment centers\n",
    "    - RAD      index of accessibility to radial highways\n",
    "    - TAX      full-value property-tax rate per $10,000\n",
    "    - PTRATIO  pupil-teacher ratio by town\n",
    "    - B        1000(Bk - 0.63)^2 where Bk is the proportion of blacks by town\n",
    "    - LSTAT    % lower status of the population\n",
    "    - MEDV     Median value of owner-occupied homes in $1000's\n",
    "   ```"
   ]
  },
  {
   "cell_type": "markdown",
   "metadata": {},
   "source": [
    "** Cross-Validation **\n",
    "\n",
    "Cross-validation, sometimes called rotation estimation, is a model validation technique for assessing how the results of a statistical analysis will generalize to an independent data set. It is mainly used in settings where the goal is prediction, and one wants to estimate how accurately a predictive model will perform in practice. In a prediction problem, a model is usually given a dataset of known data on which training is run (training dataset), and a dataset of unknown data (or first seen data) against which the model is tested (testing dataset). The goal of cross validation is to define a dataset to \"test\" the model in the training phase (i.e., the validation dataset), in order to limit problems like overfitting, give an insight on how the model will generalize to an independent dataset (i.e., an unknown dataset, for instance from a real problem), etc.\n",
    "\n",
    "** Common types of cross-validation **\n",
    "\n",
    "** Exhaustive cross-validation**\n",
    "\n",
    "Exhaustive cross-validation methods are cross-validation methods which learn and test on all possible ways to divide the original sample into a training and a validation set.\n",
    "\n",
    "    Leave-p-out cross-validation\n",
    "    Leave-one-out cross-validation\n",
    "\n",
    "**Non-exhaustive cross-validation**\n",
    "\n",
    "Non-exhaustive cross validation methods do not compute all ways of splitting the original sample. Those methods are approximations of leave-p-out cross-validation.\n",
    "\n",
    "    k-fold cross-validation\n",
    "    2-fold cross-validation\n",
    "    Repeated random sub-sampling validation"
   ]
  },
  {
   "cell_type": "code",
   "execution_count": 7,
   "metadata": {
    "collapsed": true
   },
   "outputs": [],
   "source": [
    "train_features, test_features, train_target, test_target = train_test_split(features, target, test_size=0.3)"
   ]
  },
  {
   "cell_type": "code",
   "execution_count": 8,
   "metadata": {
    "collapsed": false
   },
   "outputs": [
    {
     "data": {
      "text/plain": [
       "LinearRegression(copy_X=True, fit_intercept=True, n_jobs=1, normalize=False)"
      ]
     },
     "execution_count": 8,
     "metadata": {},
     "output_type": "execute_result"
    }
   ],
   "source": [
    "model = LinearRegression()\n",
    "model.fit(train_features, train_target)"
   ]
  },
  {
   "cell_type": "code",
   "execution_count": 9,
   "metadata": {
    "collapsed": false
   },
   "outputs": [],
   "source": [
    "train_predicted = model.predict(train_features)\n"
   ]
  },
  {
   "cell_type": "code",
   "execution_count": 10,
   "metadata": {
    "collapsed": true
   },
   "outputs": [],
   "source": [
    "test_predicted = model.predict(test_features)"
   ]
  },
  {
   "cell_type": "markdown",
   "metadata": {},
   "source": [
    "**MSE mean_squared_error for the training data and the test data**\n",
    "\n",
    "R^2 is rescaled mean squared error\n",
    "\n",
    "In regression analysis, the term mean squared error is sometimes used to refer to the unbiased estimate of error variance: the residual sum of squares divided by the number of degrees of freedom.\n",
    "\n",
    "In regression analysis, \"mean squared error\", often referred to as mean squared prediction error or \"out-of-sample mean squared error\", can refer to the mean value of the squared deviations of the predictions from the true values, over an out-of-sample test space, generated by a model estimated over a particular sample space. This also is a known, computed quantity, and it varies by sample and by out-of-sample test space.\n",
    "\n",
    "The mean squared error (MSE) or mean squared deviation (MSD) of an estimator measures the average of the squares of the errors or deviations, that is, the difference between the estimator and what is estimated. MSE is a risk function, corresponding to the expected value of the squared error loss or quadratic loss. The difference occurs because of randomness or because the estimator doesn't account for information that could produce a more accurate estimate.\n",
    "\n",
    "\n",
    "$\\operatorname{MSE}=\\frac{1}{n}\\sum_{i=1}^n(\\hat{Y_i} - Y_i)^2$\n",
    "\n"
   ]
  },
  {
   "cell_type": "code",
   "execution_count": 11,
   "metadata": {
    "collapsed": true
   },
   "outputs": [],
   "source": [
    "def mse(target, predicted):\n",
    "    mse = (predicted - target)**2\n",
    "    return mse.sum()/len(predicted)"
   ]
  },
  {
   "cell_type": "code",
   "execution_count": 12,
   "metadata": {
    "collapsed": false,
    "scrolled": true
   },
   "outputs": [
    {
     "name": "stdout",
     "output_type": "stream",
     "text": [
      "MSE Train : 19.9842028697\n",
      "MSE Test : 27.5020005155\n"
     ]
    }
   ],
   "source": [
    "print 'MSE Train : '  + str(mse(train_target, model.predict(train_features)))\n",
    "print 'MSE Test : ' + str(mse(test_target, model.predict(test_features)))"
   ]
  },
  {
   "cell_type": "markdown",
   "metadata": {
    "collapsed": true
   },
   "source": [
    "Having in real life a limited set of data this is the only way to evaluate how well different models perform against each other. Ultimately I want to quantify how good the model is on 'unseen' data, not how good a fit it is to available data. Using a test set it's a way to simulate this."
   ]
  },
  {
   "cell_type": "code",
   "execution_count": 13,
   "metadata": {
    "collapsed": false
   },
   "outputs": [
    {
     "name": "stdout",
     "output_type": "stream",
     "text": [
      "MSE_test : 27.5020005155 \n",
      "MSE_train: 19.9842028697\n"
     ]
    }
   ],
   "source": [
    "mse_train = MSE(train_target, train_predicted)\n",
    "mse_test = MSE(test_target, test_predicted)\n",
    "\n",
    "print 'MSE_test : {} \\nMSE_train: {}'.format(mse_test, mse_train)"
   ]
  },
  {
   "cell_type": "markdown",
   "metadata": {},
   "source": [
    "Mean\n",
    "\n",
    "Suppose we have a random sample of size n from a population,$ X 1 , … , X n {\\displaystyle X_{1},\\dots ,X_{n}} X_{1},\\dots ,X_{n}.$ Suppose the sample units were chosen with replacement. That is, the n units are selected one at a time, and previously selected units are still eligible for selection for all n draws. The usual estimator for the mean is the sample average\n",
    "\n",
    "$     \\overline{X}=\\frac{1}{n}\\sum_{i=1}^n X_i $\n",
    "\n",
    "which has an expected value equal to the true mean μ (so it is unbiased) and a mean square error of\n",
    "\n",
    "$    {\\displaystyle \\operatorname {MSE} \\left({\\overline {X}}\\right)=\\operatorname {E} \\left[\\left({\\overline {X}}-\\mu \\right)^{2}\\right]=\\left({\\frac {\\sigma }{\\sqrt {n}}}\\right)^{2}={\\frac {\\sigma ^{2}}{n}}}$\n",
    "\n",
    "where $ σ 2  {\\displaystyle \\sigma ^{2}} \\sigma ^{2} $is the population variance.\n",
    "\n",
    "For a Gaussian distribution this is the best unbiased estimator (that is, it has the lowest MSE among all unbiased estimators), but not, say, for a uniform distribution.\n"
   ]
  },
  {
   "cell_type": "markdown",
   "metadata": {
    "collapsed": true
   },
   "source": [
    "**Model Performance - Root Mean Square Error**\n",
    "\n",
    "The root-mean-square deviation (RMSD) or root-mean-square error (RMSE) is a frequently used measure of the differences between values (sample and population values) predicted by a model or an estimator and the values actually observed. The RMSD represents the sample standard deviation of the differences between predicted values and observed values. These individual differences are called residuals when the calculations are performed over the data sample that was used for estimation, and are called prediction errors when computed out-of-sample. The RMSD serves to aggregate the magnitudes of the errors in predictions for various times into a single measure of predictive power. RMSD is a good measure of accuracy, but only to compare forecasting errors of different models for a particular variable and not between variables, as it is scale-dependent.\n",
    "\n",
    "The RMSD of an estimator θ ^ {\\displaystyle {\\hat {\\theta }}} \\hat{\\theta} with respect to an estimated parameter θ {\\displaystyle \\theta } \\theta is defined as the square root of the mean square error:\n",
    "\n",
    " $\\operatorname{RMSD}(\\hat{Y}) = \\sqrt{\\operatorname{MSE}(\\hat{Y})}$\n",
    "\n",
    "\n",
    "\n",
    "$\\operatorname{MSE}=\\frac{1}{n}\\sum_{i=1}^n(\\hat{Y_i} - Y_i)^2$\n",
    "\n",
    "\n",
    "For an unbiased estimator, the RMSD is the square root of the variance, known as the standard deviation."
   ]
  },
  {
   "cell_type": "code",
   "execution_count": 14,
   "metadata": {
    "collapsed": false
   },
   "outputs": [
    {
     "name": "stdout",
     "output_type": "stream",
     "text": [
      "rmse_train:4.47036943325\n",
      "rmse_test:5.24423497905\n"
     ]
    }
   ],
   "source": [
    "rmse_train = (mse_train)**0.5\n",
    "rmse_test = (mse_test)**0.5\n",
    "print 'rmse_train:' + str(rmse_train)\n",
    "print 'rmse_test:' + str(rmse_test)"
   ]
  },
  {
   "cell_type": "markdown",
   "metadata": {
    "collapsed": true
   },
   "source": [
    "---\n",
    "### K-fold Cross Validation\n",
    "---"
   ]
  },
  {
   "cell_type": "markdown",
   "metadata": {
    "collapsed": true
   },
   "source": [
    "In K-fold cross validation, the data is split into k groups. One group out of the k groups will be the test set, the rest (k-1) groups will be the training set. In the next iteration, another group will be the test set, and the rest will be the training set. The process repeats for k iterations (k-fold). In each fold, a metric for accuracy (MSE in this case) will be calculated and an overall average of that metric will be calculated over k-folds."
   ]
  },
  {
   "cell_type": "markdown",
   "metadata": {},
   "source": [
    "\n",
    "---\n",
    "\n",
    "** k-fold cross-validation **\n",
    "\n",
    "In k-fold cross-validation, the original sample is randomly partitioned into k equal sized subsamples. Of the k subsamples, a single subsample is retained as the validation data for testing the model, and the remaining k − 1 subsamples are used as training data. The cross-validation process is then repeated k times (the folds), with each of the k subsamples used exactly once as the validation data. The k results from the folds can then be averaged to produce a single estimation. The advantage of this method over repeated random sub-sampling (see below) is that all observations are used for both training and validation, and each observation is used for validation exactly once. 10-fold cross-validation is commonly used, but in general k remains an unfixed parameter.\n",
    "\n",
    "When k=n (the number of observations), the k-fold cross-validation is exactly the leave-one-out cross-validation.\n",
    "\n",
    "In stratified k-fold cross-validation, the folds are selected so that the mean response value is approximately equal in all the folds. In the case of a dichotomous classification, this means that each fold contains roughly the same proportions of the two types of class labels."
   ]
  },
  {
   "cell_type": "code",
   "execution_count": 15,
   "metadata": {
    "collapsed": true
   },
   "outputs": [],
   "source": [
    "def rmse(target, prediction):\n",
    "    ''' Compute Root-mean-squared-error '''\n",
    "    rmse = (MSE(target, prediction))**0.5\n",
    "    return rmse"
   ]
  },
  {
   "cell_type": "code",
   "execution_count": 16,
   "metadata": {
    "collapsed": false
   },
   "outputs": [
    {
     "name": "stdout",
     "output_type": "stream",
     "text": [
      "5.24423497905\n"
     ]
    }
   ],
   "source": [
    "print rmse(test_target, test_predicted )"
   ]
  },
  {
   "cell_type": "code",
   "execution_count": 17,
   "metadata": {
    "collapsed": true
   },
   "outputs": [],
   "source": [
    "def rms_train_predicted(xtrain, ytrain, xtest, ytest ):\n",
    "    ''' Calculate linear regression on the features to predict target'''\n",
    "    model = LinearRegression()\n",
    "    model.fit(xtrain, ytrain)\n",
    "    \n",
    "    train_prediction = model.predict(xtrain)\n",
    "    test_prediction = model.predict(xtest)\n",
    "    \n",
    "    rmse_train = rmse(ytrain, train_prediction)\n",
    "    rmse_prediction = rmse(ytest, test_prediction)\n",
    "    \n",
    "    return rmse_train, rmse_prediction\n"
   ]
  },
  {
   "cell_type": "code",
   "execution_count": 18,
   "metadata": {
    "collapsed": false
   },
   "outputs": [
    {
     "name": "stdout",
     "output_type": "stream",
     "text": [
      "(4.470369433249151, 5.2442349790523233)\n"
     ]
    }
   ],
   "source": [
    "print rms_train_predicted(train_features, train_target, test_features, test_target)"
   ]
  },
  {
   "cell_type": "code",
   "execution_count": 19,
   "metadata": {
    "collapsed": true
   },
   "outputs": [],
   "source": [
    "def crossval_error(features, target):\n",
    "    ''' Returns error for k-fold cross validation. '''\n",
    "    error_model, index, num_folds = 0, 0, 10\n",
    "\n",
    "    attributes = len(features)\n",
    "    k_fold = KFold(attributes, n_folds= num_folds)\n",
    "    kf_error = np.empty(num_folds)\n",
    "    model =LinearRegression()\n",
    "\n",
    "    \n",
    "    for train, test in k_fold:\n",
    "        model.fit(features[train], target[train])\n",
    "        prediction = model.predict(features[test])\n",
    "        kf_error[index] = rmse(target[test], prediction)\n",
    "        index +=1\n",
    "        \n",
    "    return np.mean(kf_error)"
   ]
  },
  {
   "cell_type": "code",
   "execution_count": 20,
   "metadata": {
    "collapsed": false
   },
   "outputs": [
    {
     "data": {
      "text/plain": [
       "5.1856464865670491"
      ]
     },
     "execution_count": 20,
     "metadata": {},
     "output_type": "execute_result"
    }
   ],
   "source": [
    "crossval_error(features, target)"
   ]
  },
  {
   "cell_type": "code",
   "execution_count": 21,
   "metadata": {
    "collapsed": false
   },
   "outputs": [],
   "source": [
    "def plot_learning_curve(estimator, target, features, label='None'):\n",
    "    ''' Plot learning curve with varying training sizes'''\n",
    "    \n",
    "    scores = list()\n",
    "    training_size = np.linspace(10, 300, 10).astype(int)\n",
    "    \n",
    "    for train_size in training_size:\n",
    "        cv_shuffle = ShuffleSplit(train_size=train_size, \n",
    "                                                   test_size=200, n=len(target), random_state=0)\n",
    "        test_error = cross_val_score(estimator, features,\n",
    "                                                     target, cv=cv_shuffle)\n",
    "        scores.append(test_error)\n",
    "        \n",
    "    plt.plot(training_size, np.mean(scores, axis=1), label=label or estimator.__class__.__name__)\n",
    "    plt.ylim(0,1)\n",
    "    plt.ylabel('Explained variance on test set - scores')\n",
    "    plt.xlabel('Training test size')\n",
    "    plt.legend(loc='best')\n",
    "    plt.show()"
   ]
  },
  {
   "cell_type": "code",
   "execution_count": 22,
   "metadata": {
    "collapsed": false
   },
   "outputs": [
    {
     "data": {
      "image/png": "[encoded data removed]",
      "text/plain": [
       "<matplotlib.figure.Figure at 0x118c3d210>"
      ]
     },
     "metadata": {},
     "output_type": "display_data"
    }
   ],
   "source": [
    "estimator = LinearRegression()\n",
    "plot_learning_curve(estimator,  target, features, label='plot_learning_curve')"
   ]
  },
  {
   "cell_type": "code",
   "execution_count": 50,
   "metadata": {
    "collapsed": true
   },
   "outputs": [],
   "source": [
    "def plot_test_train_errors(features, xtrain, xtest, ytrain, ytest  ):\n",
    "    feat = features.shape[1] # Feature columns qty\n",
    "    training_RMSE_error, test_RMSE_error = [], []\n",
    "    model = LinearRegression()\n",
    "    \n",
    "    for ifeat in xrange(feat): # item feature per column\n",
    "        model.fit(xtrain[:,:(ifeat + 1)], ytrain)\n",
    "   \n",
    "        train_predicted = model.predict(xtrain[:,:(ifeat + 1)])\n",
    "        test_predicted = model.predict(xtest[:,:(ifeat + 1)])\n",
    "        \n",
    "        \n",
    "        training_RMSE_error.append(rmse(ytrain, train_predicted))\n",
    "        test_RMSE_error.append(rmse(ytest, test_predicted))\n",
    "        \n",
    "           \n",
    "    x = range(feat)\n",
    "    \n",
    "    plt.figure()\n",
    "    plt.plot(x, test_RMSE_error, label='Test error - RMSE')\n",
    "    plt.plot(x, training_RMSE_error, label='Training error - RMSE')\n",
    "    plt.xlabel('Number of Features - attributes')\n",
    "    plt.ylabel('RMSE - Root mean squared error')\n",
    "    plt.legend()\n",
    "    plt.show()"
   ]
  },
  {
   "cell_type": "code",
   "execution_count": 51,
   "metadata": {
    "collapsed": false
   },
   "outputs": [
    {
     "data": {
      "image/png": "[encoded data removed]",
      "text/plain": [
       "<matplotlib.figure.Figure at 0x11c4ebb50>"
      ]
     },
     "metadata": {},
     "output_type": "display_data"
    }
   ],
   "source": [
    "plot_test_train_errors(features, train_features, test_features, train_target, test_target)"
   ]
  },
  {
   "cell_type": "markdown",
   "metadata": {
    "collapsed": true
   },
   "source": [
    "---\n",
    "Stepwise Regression"
   ]
  },
  {
   "cell_type": "code",
   "execution_count": 25,
   "metadata": {
    "collapsed": false
   },
   "outputs": [],
   "source": [
    "crossval_k = []\n",
    "for k in range(2,15):\n",
    "    crossval_k.append(cross_val_score(LinearRegression() , features, y = target, cv =k, scoring='mean_squared_error').mean()*(-1))"
   ]
  },
  {
   "cell_type": "code",
   "execution_count": 26,
   "metadata": {
    "collapsed": false
   },
   "outputs": [
    {
     "data": {
      "text/plain": [
       "[164.94652620279686,\n",
       " 168.64665360588094,\n",
       " 42.489469527488112,\n",
       " 37.222843637138425,\n",
       " 39.110323369578865,\n",
       " 36.859219426420616,\n",
       " 32.113552425694841,\n",
       " 34.380044547677407,\n",
       " 34.763091505422402,\n",
       " 31.824885951982079,\n",
       " 33.538947192200979,\n",
       " 32.592514977731653,\n",
       " 30.800594636663114]"
      ]
     },
     "execution_count": 26,
     "metadata": {},
     "output_type": "execute_result"
    }
   ],
   "source": [
    "crossval_k"
   ]
  },
  {
   "cell_type": "code",
   "execution_count": 27,
   "metadata": {
    "collapsed": false
   },
   "outputs": [
    {
     "data": {
      "image/png": "[encoded data removed]",
      "text/plain": [
       "<matplotlib.figure.Figure at 0x11c27ce50>"
      ]
     },
     "metadata": {},
     "output_type": "display_data"
    }
   ],
   "source": [
    "plt.plot(crossval_k);"
   ]
  },
  {
   "cell_type": "code",
   "execution_count": null,
   "metadata": {
    "collapsed": true
   },
   "outputs": [],
   "source": []
  },
  {
   "cell_type": "code",
   "execution_count": null,
   "metadata": {
    "collapsed": true
   },
   "outputs": [],
   "source": []
  },
  {
   "cell_type": "code",
   "execution_count": null,
   "metadata": {
    "collapsed": true
   },
   "outputs": [],
   "source": []
  },
  {
   "cell_type": "code",
   "execution_count": null,
   "metadata": {
    "collapsed": true
   },
   "outputs": [],
   "source": []
  },
  {
   "cell_type": "code",
   "execution_count": null,
   "metadata": {
    "collapsed": true
   },
   "outputs": [],
   "source": []
  },
  {
   "cell_type": "code",
   "execution_count": null,
   "metadata": {
    "collapsed": true
   },
   "outputs": [],
   "source": []
  },
  {
   "cell_type": "code",
   "execution_count": null,
   "metadata": {
    "collapsed": true
   },
   "outputs": [],
   "source": []
  },
  {
   "cell_type": "code",
   "execution_count": null,
   "metadata": {
    "collapsed": true
   },
   "outputs": [],
   "source": []
  },
  {
   "cell_type": "code",
   "execution_count": null,
   "metadata": {
    "collapsed": true
   },
   "outputs": [],
   "source": []
  },
  {
   "cell_type": "code",
   "execution_count": null,
   "metadata": {
    "collapsed": true
   },
   "outputs": [],
   "source": []
  },
  {
   "cell_type": "code",
   "execution_count": null,
   "metadata": {
    "collapsed": true
   },
   "outputs": [],
   "source": []
  },
  {
   "cell_type": "code",
   "execution_count": null,
   "metadata": {
    "collapsed": true
   },
   "outputs": [],
   "source": []
  },
  {
   "cell_type": "code",
   "execution_count": null,
   "metadata": {
    "collapsed": true
   },
   "outputs": [],
   "source": []
  },
  {
   "cell_type": "code",
   "execution_count": null,
   "metadata": {
    "collapsed": true
   },
   "outputs": [],
   "source": []
  },
  {
   "cell_type": "code",
   "execution_count": null,
   "metadata": {
    "collapsed": true
   },
   "outputs": [],
   "source": []
  }
 ],
 "metadata": {
  "kernelspec": {
   "display_name": "Python 2",
   "language": "python",
   "name": "python2"
  },
  "language_info": {
   "codemirror_mode": {
    "name": "ipython",
    "version": 2
   },
   "file_extension": ".py",
   "mimetype": "text/x-python",
   "name": "python",
   "nbconvert_exporter": "python",
   "pygments_lexer": "ipython2",
   "version": "2.7.11"
  }
 },
 "nbformat": 4,
 "nbformat_minor": 0
}
