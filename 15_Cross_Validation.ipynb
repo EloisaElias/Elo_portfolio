{
 "cells": [
  {
   "cell_type": "markdown",
   "metadata": {
    "collapsed": true
   },
   "source": [
    "\n",
    "## Cross Validation\n",
    "---\n",
    "#### Elo notes"
   ]
  },
  {
   "cell_type": "markdown",
   "metadata": {},
   "source": [
    "---\n",
    "### [Dependent and independent variables Statistics synonyms](https://en.wikipedia.org/wiki/Dependent_and_independent_variables)\n",
    "\n",
    "Depending on the context, an **independent variable** is sometimes called: \n",
    "\n",
    "- \"predictor variable\"\n",
    "- regressor, \n",
    "- covariate, \n",
    "- \"controlled variable\", \n",
    "- \"manipulated variable\", \n",
    "- \"explanatory variable\", \n",
    "- exposure variable (see reliability theory), \n",
    "- \"risk factor\" (see medical statistics), \n",
    "- \"feature\" (in machine learning and pattern recognition) \n",
    "- \"input variable.\" \n",
    "- In econometrics, the term \"control variable\" is usually used instead of \"covariate\".\n",
    "\n",
    "Depending on the context, a **dependent variable** is sometimes called:\n",
    "\n",
    "- \"response variable\", \n",
    "- \"regressand\", \n",
    "- \"criterion\", \n",
    "- \"predicted variable\", \n",
    "- \"measured variable\", \n",
    "- \"explained variable\", \n",
    "- \"experimental variable\", \n",
    "- \"responding variable\", \n",
    "- \"outcome variable\", \n",
    "- \"output variable\" or \"label\"."
   ]
  },
  {
   "cell_type": "markdown",
   "metadata": {},
   "source": [
    "### [Residual sum of squares](https://en.wikipedia.org/wiki/Residual_sum_of_squares)\n",
    "\n",
    "The objective consists of adjusting the parameters of a model function to best fit a data set. The least squares method finds its optimum when the sum, S, of squared residuals is a minimum.\n",
    "\n",
    "${S=\\sum _{i=1}^{n}{r_{i}}^{2}}$\n",
    "\n",
    "A residual is defined as the difference between the actual value of the dependent variable and the value predicted by the modael. Each data point has one residual. \n",
    "\n",
    "$r_{i}=y_{i}-f(x_{i},{\\boldsymbol \\beta })$\n",
    "\n",
    "An example of a model is that of the straight line in two dimensions. Denoting the $y$-intercept as $\\beta _{0}$ and the slope as $\\beta _{1}$, the model function is given by $f(x,\\boldsymbol \\beta)=\\beta_0+\\beta_1 x.$ \n",
    "\n",
    "\n",
    "**The residual is the error that is not explained by the regression equation**\n",
    "\n",
    "It is a measure of the discrepancy between the data and an estimation model\n",
    "\n",
    "A small RSS indicates a tight fit of the model to the data. It is used as an optimality criterion in parameter selection and model selection.\n",
    "\n",
    "In a model with a single explanatory variable, RSS is given by:\n",
    "\n",
    "$ {\\displaystyle RSS=\\sum _{i=1}^{n}(y_{i}-f(x_{i}))^{2}} $\n",
    "\n",
    "\n",
    "${\\displaystyle RSS=\\sum _{i=1}^{n}(\\varepsilon _{i})^{2}=\\sum _{i=1}^{n}(y_{i}-(\\alpha +\\beta x_{i}))^{2}} $\n",
    "\n",
    "\n",
    "$r(Y,\\hat{Y})^2$ is the proportion of variance in ''Y'' explained by a linear function of ''X''.\n",
    "\n",
    "That equation can be written as:\n",
    "\n",
    "$$r(Y,\\hat{Y})^2 = \\frac{SS_\\text{reg}}{SS_\\text{tot}}\n",
    "$$\n",
    "\n",
    "\n",
    "where\n",
    "\n",
    "$SS_\\text{reg}$ is the regression sum of squares, also called the __explained sum of squares__\n",
    "\n",
    "$SS_\\text{tot}$ is the __total sum of squares__ (proportional to the __variance__ of the data)\n",
    "\n",
    "$$SS_\\text{reg}=\\sum_i (\\hat{Y}_i-\\bar{Y})^2$$\n",
    "$$SS_\\text{tot}=\\sum_i (Y_i-\\bar{Y})^2$$\n",
    "\n",
    "The sum of squares of residuals, also called the __residual sum of squares__:\n",
    "\n",
    "\n",
    "\n",
    "$$SS_\\text{res}=\\sum_i (y_i - f_i)^2=\\sum_i (y_i - \\hat{y_i})^2=\\sum_i e_i^2\\,$$\n",
    "\n",
    "Where:\n",
    "\n",
    "$$f_i = \\hat{y_i} = f(x_i, \\beta_j)=\\beta_0 + \\sum_{j=1}^p \\beta_j X_{i,j} + \\varepsilon_i$$\n",
    "\n",
    "The most general definition of the coefficient of determination is\n",
    "\n",
    "$$R^2 \\equiv 1 - {SS_{\\rm res}\\over SS_{\\rm tot}}.\\,$$\n",
    "\n",
    "##### Interpretation\n",
    "\n",
    "R2 is a statistic that will give some information about the goodness of fit of a model. In regression, the R2 coefficient of determination is a statistical measure of how well the regression line approximates the real data points. An R2 of 1 indicates that the regression line perfectly fits the data.\n",
    "\n",
    "\n",
    "---\n",
    "#### Summary\n",
    "$\\boldsymbol{r_{i}=y_{i}-f(x_{i},{\\boldsymbol \\beta })}$\n",
    "\n",
    "$f(x,\\boldsymbol \\beta)=\\beta_0+\\beta_1 x.$ \n",
    "\n",
    "$\\bar{y}=\\frac{1}{n}\\sum_{i=1}^n y_i$   The mean of the observed data\n",
    "\n",
    "$SS_\\text{tot}=\\sum_i (y_i-\\bar{y})^2$  The total sum of squares \n",
    "\n",
    "$SS_\\text{reg}=\\sum_i (\\hat{Y_i} -\\bar{y})^2$   The regression sum of squares, also called the explained sum of squares\n",
    "\n",
    "$ SS_\\text{res}=\\sum_i (y_i - \\hat{Y_i})^2=\\sum_i e_i^2\\ $  The sum of squares of residuals, also called the residual sum of squares\n",
    "\n",
    "$R^2 \\equiv 1 - {SS_{\\rm res}\\over SS_{\\rm tot}}$ **Coefficient of determination** \n",
    "\n",
    "\n",
    "${Y_i = \\beta_0 + \\sum_{j=1}^p {\\beta_j X_{i,j}} + \\varepsilon_i}$\n",
    "\n"
   ]
  },
  {
   "cell_type": "markdown",
   "metadata": {},
   "source": [
    "### [IMPORTANT! Errors and residuals](https://en.wikipedia.org/wiki/Errors_and_residuals)\n",
    "\n",
    "**In statistics and optimization, errors and residuals are two closely related and easily confused measures of the deviation of an observed value of an element of a statistical sample from its \"theoretical value\".**\n",
    "\n",
    "One can **standardize statistical errors** (especially of a normal distribution) in a **z-score** (or \"standard score\"), and **standardize residuals in a t-statistic**, or more generally **studentized residuals.** \n",
    "\n",
    "**Important:** \n",
    "\n",
    "The **error ( $\\boldsymbol \\varepsilon$ or disturbance)** of **an observed value** is the deviation of the observed value from the **(unobservable) TRUE VALUE** of a quantity of interest (for example, a **Population Mean**), \n",
    "\n",
    "and the **residual** of **an observed value** is the difference between the observed value and the **ESTIMATED VALUE** of the quantity of interest (for example, a **Sample Mean**). \n",
    "\n",
    "The distinction is most important in regression analysis, where the concepts are sometimes called the regression errors and regression residuals and where they lead to the concept of studentized residuals. \n",
    "\n",
    "The expected value, being the mean of the entire population, is typically **unobservable, and hence the statistical error cannot be observed either.**\n",
    "\n",
    "A residual (or fitting deviation), on the other hand, is an **observable estimate of the un observable statistical error.** The sample mean could serve as a good **estimator of the population mean.**\n",
    "\n",
    "Suppose there is a series of observations from a univariate distribution and we want to estimate the mean of that distribution (the so-called location model). In this case, the errors are the deviations of the observations from the population mean, while the residuals are the deviations of the observations from the sample mean.\n",
    "\n",
    "For example, if the mean height in a **population** of 21-year-old men is 1.75 meters, and one randomly chosen man is 1.80 meters tall, then the \"error\" is 0.05 meters; if the randomly chosen man is 1.70 meters tall, then the \"error\" is −0.05 meters. The expected value, being the mean of the entire population, is typically **unobservable, and hence the statistical error cannot be observed either.**\n",
    "\n",
    "- The difference between the height of each man in the sample and the **unobservable population mean is a statistical error**, whereas\n",
    "\n",
    "- The difference between the height of each man in the sample and the **observable sample mean is a residual.**\n",
    "\n",
    "Note that, because of the definition of the sample mean, the sum of the residuals within a random sample is necessarily zero, and thus the residuals are necessarily not independent. The statistical errors, on the other hand, are independent, and their sum within the random sample is almost surely not zero. "
   ]
  },
  {
   "cell_type": "markdown",
   "metadata": {},
   "source": [
    "### Other uses of the word \"error\" in statistics\n",
    "\n",
    "See also: **Bias (statistics)**\n",
    "\n",
    "The use of the term \"error\" as discussed in the sections above is in the sense of a deviation of a value from a hypothetical unobserved value. \n",
    "\n",
    "At least two other uses also occur in statistics, both referring to observable prediction errors:\n",
    "\n",
    "**Mean square error** or mean squared error (**MSE**) and **root mean square error (RMSE)** refer to the amount by which the values predicted by an estimator differ from the quantities being estimated (typically outside the sample from which the model was estimated).\n",
    "\n",
    "** sum of squared residuals (SSR) or residual sum of squares (RSS) or Sum of squared errors(SSE) or  sum of squared errors of prediction (SSE)**, refers to the residual sum of squares (the sum of squared residuals) of a regression; this is the sum of the squares of the deviations of the actual values from the predicted values, within the sample used for estimation."
   ]
  },
  {
   "cell_type": "markdown",
   "metadata": {},
   "source": [
    "### [Mean Square Error MSE](https://en.wikipedia.org/wiki/Mean_squared_error)\n",
    "\n",
    "The MSE assesses the quality of an **[Estimator](https://en.wikipedia.org/wiki/Estimator) (i.e., a mathematical function mapping a sample of data to a parameter of the population from which the data is sampled)** or a **[Predictor](https://en.wikipedia.org/wiki/Residual_sum_of_squares) (i.e., a function mapping arbitrary inputs to a sample of values of some random variable).** \n",
    "\n",
    "##### SUPER IMPORTANT! Definition of an MSE **differs** according to whether one is describing an **[estimator](https://en.wikipedia.org/wiki/Estimator) or a [predictor](https://en.wikipedia.org/wiki/Residual_sum_of_squares)**\n",
    "\n",
    "MSE is a risk function, corresponding to the expected value of the squared error loss or quadratic loss.\n",
    "\n",
    "**Predictor variable:** Is the independent variable and is sometimes called a , **\"Feature\" (in machine learning and pattern recognition)** or \"input variable **regressor**, **covariate**, \"controlled variable\", \"manipulated variable\", \"explanatory variable\", exposure variable (see reliability theory), \"risk factor\" (see medical statistics).\" In econometrics, the term \"control variable\" is usually used instead of \"covariate\"\n",
    "\n",
    "**Response variable:** Is the dependent variable is sometimes called a **\"Label\" (in machine learning and pattern recognition)**, \"regressand\", \"criterion\", \"predicted variable\", \"measured variable\", \"explained variable\", \"experimental variable\", \"responding variable\", \"outcome variable\", \"output variable\".\n",
    "\n",
    "\n",
    "#### [Predictor - Related to Residuals](https://en.wikipedia.org/wiki/Residual_sum_of_squares) \n",
    "\n",
    "\n",
    "$ SS_\\text{res}=\\sum_i (y_i - \\hat{Y_i})^2=\\sum_i e_i^2\\ $  The sum of squares of residuals, also called the residual sum of squares\n",
    "\n",
    "If $\\hat{Y}$ is a vector of $n$ predictions, and $Y$ is the vector of observed values of the variable being predicted, then the within-sample MSE of the predictor is computed as\n",
    "\n",
    "$${\\displaystyle \\operatorname {MSE} ={\\frac {1}{n}}\\sum _{i=1}^{n}(Y_{i}-{\\hat {Y_{i}}})^{2}.}$$\n",
    "\n",
    "I.e., the MSE is the mean ${\\displaystyle \\left({\\frac {1}{n}}\\sum _{i=1}^{n}\\right)}$ of the squares of the errors ${\\displaystyle (Y_{i}-{\\hat {Y_{i}}})^{2}}$ This is an easily computable quantity for a particular sample (and hence is sample-dependent).\n",
    "\n",
    "\n",
    "#### [Estimator](https://en.wikipedia.org/wiki/Estimator)\n",
    "\n",
    "The MSE of an estimator ${\\displaystyle {\\hat {\\theta }}} $ with respect to an unknown parameter ${\\displaystyle \\theta }$ is defined as\n",
    "\n",
    "${\\displaystyle \\operatorname {MSE} ({\\hat {\\theta }})=\\operatorname {E} _{\\hat {\\theta }}\\left[({\\hat {\\theta }}-\\theta )^{2}\\right].}$\n",
    "\n",
    "This definition depends on the unknown parameter, and the MSE in this sense is a property of an estimator. Since an MSE is an expectation, it is not a random variable. That being said, the MSE could be a function of unknown parameters, in which case any estimator of the MSE based on estimates of these parameters would be a function of the data and thus a random variable. If the estimator is derived from a sample statistic and is used to estimate some population statistic, then the expectation is with respect to the sampling distribution of the sample statistic.\n",
    "\n",
    "The MSE can be written as the sum of the variance of the estimator and the squared bias of the estimator, providing a useful way to calculate the MSE and implying that in the case of unbiased estimators, the MSE and variance are equivalent.\n",
    "\n",
    "${\\displaystyle \\operatorname {MSE} ({\\hat {\\theta }})=\\operatorname {Var} _{\\hat {\\theta }}({\\hat {\\theta }})+\\operatorname {Bias} ({\\hat {\\theta }},\\theta )^{2}.} $\n",
    "\n",
    "\n",
    "For an unbiased estimator, the MSE is the variance of the estimator. Like the variance, MSE has the same units of measurement as the square of the quantity being estimated. In an analogy to standard deviation, taking the square root of MSE yields the root-mean-square error or root-mean-square deviation (RMSE or RMSD), which has the same units as the quantity being estimated; for an unbiased estimator, the RMSE is the square root of the variance, known as the standard error."
   ]
  },
  {
   "cell_type": "markdown",
   "metadata": {},
   "source": [
    "### [Bias](https://en.wikipedia.org/wiki/Bias_of_an_estimator)\n",
    "\n",
    "[Bias of an Estimator](https://en.wikipedia.org/wiki/Bias_of_an_estimator)\n",
    "\n",
    "**Other uses of the word \"error\" in statistics - See also: [Bias (statistics)](https://en.wikipedia.org/wiki/Bias_(statistics)**\n",
    "\n",
    "$\\operatorname {Bias}^{2}({\\hat f(x_{i}) )}$ means $( \\operatorname {Bias}({\\hat f(x_{i}) )} )^{2}$, **The amount by which the average of our estimate differs from the true mean. Typically the more complex we make the model** $\\hat f$, **the lower the (squared) Bias but the higuer the variance.**\n",
    "\n",
    "**True mean: (unobservable) TRUE VALUE** of a quantity of interest (for example, a **Population Mean**), \n",
    "\n",
    "Statistical bias is a feature of a statistical technique or of its results whereby the expected value of the results differs from the true underlying quantitative parameter being estimated.\n",
    "\n",
    "A statistic is biased if it is calculated in such a way that it is systematically different from the population parameter being estimated. \n",
    "\n",
    "The bias (or bias function) of an estimator is the difference between this estimator's expected value and the true value of the parameter being estimated. An estimator or decision rule with zero bias is called unbiased. Otherwise the estimator is said to be biased. \n",
    "\n",
    "In statistical hypothesis testing, a test is said to be unbiased if, for some alpha level (between 0 and 1), the probability the null is rejected is less than or equal to the alpha level for the entire parameter space defined by the null hypothesis, whilst the probability the null is rejected is greater than or equal to the alpha level for the entire parameter space defined by the alternate hypothesis\n",
    "\n",
    "In statistical hypothesis testing, a test is said to be unbiased if, for some alpha level (between 0 and 1), the probability the null is rejected is less than or equal to the alpha level for the entire parameter space defined by the null hypothesis, whilst the probability the null is rejected is greater than or equal to the alpha level for the entire parameter space defined by the alternate hypothesis"
   ]
  },
  {
   "cell_type": "markdown",
   "metadata": {},
   "source": [
    "### Bias, Variance and Mean Squared Error MSE\n",
    "\n",
    "Main article: [Bias–variance tradeoff](https://en.wikipedia.org/wiki/Bias%E2%80%93variance_tradeoff)\n",
    "\n",
    "See also: [Accuracy (trueness and precision)](https://en.wikipedia.org/wiki/Accuracy_and_precision#ISO_Definition_(ISO_5725))\n",
    "\n",
    " While bias quantifies the average difference to be expected between an estimator and an underlying parameter, an estimator based on a finite sample can additionally be expected to differ from the parameter due to the randomness in the sample.\n",
    "\n",
    "One measure which is used to try to reflect both types of difference is the mean square error,\n",
    "\n",
    "${\\displaystyle \\operatorname {MSE} ({\\hat {\\theta }})=\\operatorname {E} {\\big [}({\\hat {\\theta }}-\\theta )^{2}{\\big ]}.}$\n",
    "\n",
    "This can be shown to be equal to the square of the bias, plus the variance:\n",
    "\n",
    "${\\displaystyle {\\begin{aligned}\\operatorname {MSE} ({\\hat {\\theta }})=&(\\operatorname {E} [{\\hat {\\theta }}]-\\theta )^{2}+\\operatorname {E} [\\,({\\hat {\\theta }}-\\operatorname {E} [\\,{\\hat {\\theta }}\\,])^{2}\\,]\\\\=&(\\operatorname {Bias} ({\\hat {\\theta }},\\theta ))^{2}+\\operatorname {Var} ({\\hat {\\theta }})\\end{aligned}}}$\n",
    "\n",
    "When the parameter is a vector, an analogous decomposition applies:\n",
    "\n",
    "${\\displaystyle \\operatorname {MSE} ({\\hat {\\theta }})=\\operatorname {trace} (\\operatorname {Var} ({\\hat {\\theta }}))+\\left\\Vert \\operatorname {Bias} ({\\hat {\\theta }},\\theta )\\right\\Vert ^{2}} $\n",
    "\n",
    "where\n",
    "\n",
    "${\\displaystyle \\operatorname {trace} (\\operatorname {Var} ({\\hat {\\theta }}))} $\n",
    "\n",
    "is the trace of the covariance matrix of the estimator.\n",
    "\n",
    "An estimator that minimises the bias will not necessarily minimise the mean square error. Sampling distributions of two alternative estimators for a parameter $β_0$. Although $\\hat {β_1}$ is unbiased, it is clearly inferior to the biased $\\hat {β_2}$.\n",
    "\n",
    "**Ridge regression** is one example of a technique where allowing a little bias may lead to a considerable reduction in variance, and more reliable estimates overall.\n",
    "\n",
    "\n",
    "\n",
    "\n"
   ]
  },
  {
   "cell_type": "markdown",
   "metadata": {},
   "source": [
    "\n",
    "### [Precision and Accuracy](https://en.wikipedia.org/wiki/Accuracy_and_precision#ISO_Definition_(ISO_5725)\n",
    "\n",
    "**[THE VERY BEST!](https://en.wikipedia.org/wiki/Bessel%27s_correction)**: The field of statistics, where the interpretation of measurements plays a central role, prefers to use **the terms Bias and Variance (Variability)** instead of **accuracy and precision**: **Bias is the amount of inaccuracy** and **Variability is the amount of imprecision.**\n",
    "\n",
    "#### Accuracy (Bias) has two definitions:\n",
    "\n",
    "- More commonly, it is a description of **systematic errors**, a **measure of statistical bias (IMPORTANT!)**; as these cause a difference between a result and a \"true\" value, ISO calls this trueness. For the manufacturing industry you reduce Bias with MSA and Test equipment calibration.\n",
    "\n",
    "- Alternatively, ISO defines accuracy as describing a combination of both types of observational error above (random and systematic), so high accuracy requires both high precision and high trueness.\n",
    "\n",
    "- Accuracy in Logistic Regression is affected by inbalanced classes.\n",
    "\n",
    "#### Precision (Variance) is a description of random errors, a measure of statistical variability. \n",
    "\n",
    "- The precision of a measurement system, related to reproducibility and repeatability, is the degree to which repeated measurements under unchanged conditions show the same results.\n",
    "\n",
    "- Precision is the probability of a positive prediction being correct\n",
    "\n",
    "\n",
    "A measurement system is considered valid if it is both accurate and precise. Related terms include bias (non-random or directed effects caused by a factor or factors unrelated to the independent variable) and error (random variability).\n"
   ]
  },
  {
   "cell_type": "markdown",
   "metadata": {},
   "source": [
    "### [Bias - Variance trade off](https://en.wikipedia.org/wiki/Bias%E2%80%93variance_tradeoff)\n",
    "\n",
    "The bias–variance dilemma or problem is the conflict in trying to simultaneously minimize these two sources of error that prevent supervised learning algorithms from generalizing beyond their training set\n",
    "\n",
    "- The bias is an error from erroneous assumptions in the learning algorithm. \n",
    "\n",
    "High bias can cause an algorithm to miss the relevant relations between features and target outputs (underfitting).\n",
    "\n",
    "- The variance is an error from sensitivity to small fluctuations in the training set. \n",
    "\n",
    "High variance can cause an algorithm to model the random noise in the training data, rather than the intended outputs (overfitting).\n",
    "\n",
    "This tradeoff applies to all forms of supervised learning: classification, regression (function fitting), and structured output learning. It has also been invoked to explain the effectiveness of heuristics in human learning.\n",
    "\n",
    "The bias-variance tradeoff is a central problem in supervised learning. Ideally, one wants to choose a model that both accurately capture the regularities in its training data, but also generalizes well to unseen data. Unfortunately, it is typically impossible to do both simultaneously.\n",
    "\n",
    " High-variance learning methods may be able to represent their training set well but are at risk of overfitting to noisy or unrepresentative training data. In contrast, algorithms with low variance typically produce simpler models that don't tend to overfit but may underfit their training data, failing to capture important regularities. "
   ]
  },
  {
   "cell_type": "markdown",
   "metadata": {},
   "source": [
    "### [Loss function ( Cost function)](https://en.wikipedia.org/wiki/Loss_function)\n",
    "\n",
    "In statistics, typically a **loss function** is used for **parameter estimation**, and the event in question is some **function of the difference between estimated and true values** for an instance of data. \n",
    "\n",
    "For example: Standard linear regression cost function, in which we obtain the beta coefficients which minimize this function.\n",
    "\n",
    "$ SS_\\text{res}=\\sum_i (y_i - \\hat{Y_i})^2=\\sum_i e_i^2\\ $ \n",
    "\n",
    "In mathematical optimization, statistics, econometrics, decision theory, machine learning and computational neuroscience, \n",
    "\n",
    "a **loss function or cost function** is a function that maps values of one or more variables onto a real number intuitively representing some \"cost\" associated with the event.\n",
    "\n",
    "An optimization problem seeks to minimize a loss function. \n",
    "\n",
    "An objective function is either a loss function or its negative (in specific domains, variously called a reward function, a profit function, a utility function, a fitness function, etc.), in which case it is to be maximized. \n"
   ]
  },
  {
   "cell_type": "markdown",
   "metadata": {},
   "source": [
    "---\n",
    "## Feature Reduction Techniques\n",
    "\n",
    "- Subset selection\n",
    "- Shrinkage methods\n",
    "- Dimensionality reduction\n",
    "\n",
    "### [Norm](http://mathworld.wolfram.com/VectorNorm.html)\n",
    "\n",
    "A [norm](https://en.wikipedia.org/wiki/Norm_(mathematics) is a function that assigns a strictly positive length or size to each vector in a vector space—save for the zero vector, which is assigned a length of zero.\n",
    "\n",
    "A simple example is two dimensional Euclidean space R2 equipped with the \"Euclidean norm\" Elements in this vector space are usually drawn as arrows in a 2-dimensional cartesian coordinate system starting at the origin (0, 0). The Euclidean norm assigns to each vector the length of its arrow. Because of this, the Euclidean norm is often known as the magnitude.\n",
    "\n",
    "The Euclidean norm is by far the most commonly used norm on $R^n$, but there are other norms on this vector space as will be shown below. \n",
    "\n",
    "The concept of unit circle (the set of all vectors of norm 1) is different in different norms: for the 1-norm the unit circle in $R^2$ is a [square](https://en.wikipedia.org/wiki/Square), for the 2-norm (Euclidean norm) it is the well-known [unit circle](https://en.wikipedia.org/wiki/Unit_circle), while for the infinity norm it is a different square.\n",
    "\n",
    "### Shrinkage methods\n",
    "\n",
    "### [L1 norm -   Lasso](https://en.wikipedia.org/wiki/Lasso_(statistics)\n",
    "\n",
    "Lasso (least absolute shrinkage and selection operator) (also Lasso or LASSO) is a regression analysis method that performs both variable selection and regularization in order to enhance the prediction accuracy and interpretability of the statistical model it produces. \n",
    "\n",
    "[PQSQ](https://github.com/Mirkes/PQSQ-regularized-regression/wiki)\n",
    "\n",
    "The ${\\displaystyle L_{1}}$ norm can be used to approximate the optimal ${\\displaystyle L_{0}}$ norm via convex relaxation. It can be shown that the ${\\displaystyle L_{1}} $ norm induces sparsity. In the case of least squares, this problem is known as LASSO in statistics\n",
    "\n",
    "$$\\min_{w \\in \\mathbb{R}^p} \\frac{1}{n} \\|\\hat X w - \\hat Y \\|^2 + \\lambda \\|w\\|_{1}$$\n",
    "\n",
    "[Regularization](https://en.wikipedia.org/wiki/Regularization_(mathematics)\n",
    "\n",
    "\n",
    "### [L2 norm - Ridge](http://mathworld.wolfram.com/L2-Norm.html)\n",
    "\n",
    "[Relationship with PCA](https://tamino.wordpress.com/2011/02/12/ridge-regression/)\n",
    "\n",
    "[Ridge regression](https://en.wikipedia.org/wiki/Tikhonov_regularization)\n",
    "\n",
    "\n",
    "### [Lp Spaces](https://en.wikipedia.org/wiki/Lp_space)\n",
    "the Lp spaces are function spaces defined using a natural generalization of the p-norm for finite-dimensional vector spaces.\n",
    "\n",
    "In penalized regression, 'L1 penalty' and 'L2 penalty' refer to penalizing either the L1 norm of a solution's vector of parameter values (i.e. the sum of its absolute values), or its L2 norm (its Euclidean length). \n",
    "\n",
    "Techniques which use an L1 penalty, like LASSO, encourage solutions where many parameters are zero. \n",
    "\n",
    "Techniques which use an L2 penalty, like ridge regression, encourage solutions where most parameter values are small. Elastic net regularization uses a penalty term that is a combination of the L1 norm and the L2 norm of the parameter vector.\n",
    "\n",
    "The length of a vector $x = (x1, x2, ..., xn)$ in the n-dimensional real vector space Rn is usually given by the Euclidean norm:\n",
    "\n",
    "$${\\displaystyle \\left\\|x\\right\\|_{2}=\\left({x_{1}}^{2}+{x_{2}}^{2}+\\dotsb +{x_{n}}^{2}\\right)^{1/2}}$$\n",
    "\n",
    "The Euclidean distance between two points x and y is the length ||x − y||2 of the straight line between the two points. In many situations, the Euclidean distance is insufficient for capturing the actual distances in a given space.\n",
    "\n",
    "\n",
    "An analogy to this is suggested by taxi drivers in a grid street plan who should measure distance not in terms of the length of the straight line to their destination, but in terms of the rectilinear distance (L1 norm), which takes into account that streets are either orthogonal or parallel to each other. The class of p-norms generalizes these two examples and has an abundance of applications in many parts of mathematics, physics, and computer science."
   ]
  },
  {
   "cell_type": "markdown",
   "metadata": {},
   "source": [
    "---\n",
    "### [Cross-Validation](https://en.wikipedia.org/wiki/Cross-validation_(statistics)\n",
    "\n",
    "Cross-validation, sometimes called rotation estimation, is a model validation technique for assessing how the results of a statistical analysis will generalize to an independent data set.\n",
    "\n",
    "It is mainly used in settings where the goal is prediction, and one wants to estimate how **accurately** a predictive model will perform in practice. \n",
    "\n",
    "In a prediction problem, a model is usually given a dataset of known data on which training is run **(training dataset)**, and a dataset of unknown data (or first seen data) against which the model is tested **(testing dataset)**. \n",
    "\n",
    "**Non-exhaustive cross-validation**\n",
    "\n",
    "Non-exhaustive cross validation methods do not compute all ways of splitting the original sample. Those methods are approximations of leave-p-out cross-validation.\n",
    "\n",
    "    k-fold cross-validation\n",
    "    2-fold cross-validation\n",
    "    Repeated random sub-sampling validation\n",
    "\n",
    "In **K-fold cross validation**, the data is split into k groups. One group out of the k groups will be the test set, the rest (k-1) groups will be the training set. In the next iteration, another group will be the test set, and the rest will be the training set. The process repeats for k iterations (k-fold). In each fold, a metric for accuracy (MSE in this case) will be calculated and an overall average of that metric will be calculated over k-folds.\n",
    "\n",
    "### Model Improvement\n",
    "\n",
    "- tune parameter 1\n",
    "- tune parameter 2\n",
    "- feature engineering - feature selec+on\n",
    "- scale factors 1 way - scale factors another way\n",
    "- etc. etc."
   ]
  },
  {
   "cell_type": "markdown",
   "metadata": {},
   "source": [
    "### [Model selection](http://scikit-learn.org/stable/auto_examples/linear_model/plot_lasso_model_selection.html)\n",
    "\n",
    "from skelearn \n",
    "\n",
    "Use the Akaike information criterion (AIC), the Bayes Information criterion (BIC) and cross-validation to select an optimal value of the regularization parameter alpha of the Lasso estimator."
   ]
  },
  {
   "cell_type": "markdown",
   "metadata": {},
   "source": [
    "### [Learning Curves](https://en.wikipedia.org/wiki/Learning_curve)\n",
    "\n",
    "As the training set gets larger, the error for a quadratic function increases.\n",
    "The error value will plateau out after a certain m, or training set size.\n",
    "\n",
    "If a learning algorithm is suffering from **high bias**, getting more training data **will not (by itself) help much.**\n",
    "\n",
    "\n",
    "#### High Bias\n",
    "\n",
    "**Low training set size:** causes $Jtrain(\\theta)$ to be low and $JCV(\\theta)$ to be high.\n",
    "\n",
    "**Large training set size:** causes both $Jtrain(\\theta)$ and $JCV(\\theta)$ to be high with $Jtrain(\\theta)≈JCV(\\theta).$\n",
    "\n",
    "#### High Variance\n",
    "\n",
    "**Low training set size:** $Jtrain(\\theta)$ will be low and $JCV(\\theta)$ will be high.\n",
    "\n",
    "**Large training set size:** Jtrain(\\theta) increases with training set size and $JCV(\\theta)$ continues to decrease without leveling off. Also, $Jtrain(\\theta) < JCV(\\theta)$ but the difference between them remains significant.\n",
    "\n",
    "If a learning algorithm is suffering from **high variance**, getting more training data is likely to help.\n"
   ]
  },
  {
   "cell_type": "markdown",
   "metadata": {},
   "source": [
    "---\n",
    "### Useful links\n",
    "#### Numpy Resources\n",
    "\n",
    "* [Numpy Tutorial](https://docs.scipy.org/doc/numpy/user/quickstart.html)\n",
    "* [Numpy Routines](https://docs.scipy.org/doc/numpy/reference/routines.html#routines)\n",
    "* [NumPy: creating and manipulating numerical data](https://scipy-lectures.github.io/intro/numpy/index.html)\n",
    "* [Numpy Linear Algebra](https://docs.scipy.org/doc/numpy/reference/routines.linalg.html)\n",
    "* [Scipy-Numpy LECTURE](http://www.scipy-lectures.org/intro/numpy/array_object.html#what-are-numpy-and-numpy-arrays)\n",
    "* [N-dimensional array](http://docs.scipy.org/doc/numpy/reference/arrays.ndarray.html)\n",
    "* [Numpy Scientific Python Lectures](http://nbviewer.ipython.org/github/jrjohansson/scientific-python-lectures/blob/master/Lecture-2-Numpy.ipynb)\n",
    "* [Numpy Broadcasting](http://wiki.scipy.org/EricsBroadcastingDoc)\n",
    "* [Very Basic Numpy array dimension visualization](https://stackoverflow.com/questions/48200911/very-basic-numpy-array-dimension-visualization)\n",
    "* [Crash Course in Python for Scientist](http://nbviewer.ipython.org/gist/rpmuller/5920182)\n",
    "\n",
    "#### In NumPy dimensions are called axes. The number of axes is rank.\n",
    "\n",
    "In an numpy array, a **row vector** is defined as:\n",
    "\n",
    "```python\n",
    "a = np.array([[1, 2, 3]])\n",
    "```\n",
    "The shape of `a` is `(1, 3)`.\n",
    "\n",
    "A **column vector** is defined as:\n",
    "```python\n",
    "b = np.array([[1], [2], [3]])\n",
    "```\n",
    "The shape of `b` is `(3, 1)`.\n",
    "\n",
    "Check the `shape` of all the vectors. If the shape is missing a value, i.e. `(3,)` or  `(,3)`.\n",
    "\n",
    "\n",
    "```\n",
    "import numpy as np\n",
    "\n",
    "row_vector = np.arange(0, 10, 1).reshape(1, 10)\n",
    "\n",
    "print row_vector\n",
    ">>> [[0 1 2 3 4 5 6 7 8 9]]\n",
    "\n",
    "print row_vector.shape\n",
    ">>> (1, 10)\n",
    "\n",
    "col_vector = np.linspace(100, 300, 3).reshape(3,1)\n",
    "\n",
    "print col_vector\n",
    ">>> [[ 100.]\n",
    "    [ 200.]\n",
    "    [ 300.]]\n",
    "\n",
    "print col_vector.shape\n",
    ">>> (3, 1)\n",
    "\n",
    "```\n",
    "\n",
    "[[:, 0] from a multidimentional vector to a List of column axis= 1, Index=0 ](https://stackoverflow.com/questions/38556674/why-do-numpy-array-arr2d-1-and-arr2d-0-produce-different-results)\n",
    "\n",
    "#### Rows and Columns\n",
    "\n",
    "`y : m == rows == (axis=0)`\n",
    "\n",
    "`x : n == columns == (axis=1)`\n",
    "\n",
    "`(row, col) == (m, n) == (axis=0, axis=1) == (-y, x)`\n",
    "\n",
    "#### Tensor\n",
    "\n",
    "Create a random 3D tensor, 3 rows and 4 columns (you should create a Matrix except there's an extra dimension)\n",
    "\n",
    "#### Vector in Matrix Form\n",
    "A **column vector** is a matrix with $n$ rows and 1 column and to differentiate from a standard matrix $X$ of higher dimensions can be denoted as a bold lower case $\\boldsymbol{x}$\n",
    "\n",
    "$$\n",
    "\\boldsymbol{x} =\n",
    "  \\begin{bmatrix}\n",
    "    x_{1}\\\\\n",
    "    x_{2}\\\\\n",
    "    \\vdots\\\\\n",
    "    x_{n}\n",
    "  \\end{bmatrix}\n",
    "$$\n",
    "\n",
    "and a **row vector** is generally written as the transpose\n",
    "\n",
    "$$\\boldsymbol{x}^T = [x_1, x_2, \\ldots, x_n]$$\n",
    "\n",
    "\n",
    "#### [Numpy Matrix reshaped into a vector](https://stackoverflow.com/questions/18691084/what-does-1-mean-in-numpy-reshape?utm_medium=organic&utm_source=google_rich_qa&utm_campaign=google_rich_qa)\n",
    "\n",
    "```\n",
    "Row_vector.shape\n",
    ">> (1, n)\n",
    "\n",
    "Column_vector.shape\n",
    ">> (n, 1)\n",
    "```"
   ]
  },
  {
   "cell_type": "markdown",
   "metadata": {},
   "source": [
    "\n",
    "#### Scikit-Learn\n",
    "\n",
    "* [sklearn - User guide](http://scikit-learn.org/stable/user_guide.html#user-guide)\n",
    "\n",
    "* [Sklearn - API Reference](http://scikit-learn.org/stable/modules/classes.html)\n",
    "\n",
    "* [Model selection and evaluation](http://scikit-learn.org/stable/model_selection.html) \n",
    "\n",
    "    * [Model evaluation: quantifying the quality of predictions](http://scikit-learn.org/stable/modules/model_evaluation.html#model-evaluation)\n",
    "\n",
    "* [Decision Trees](http://scikit-learn.org/stable/modules/tree.html)\n",
    "\n",
    "* [Machine Learning in Python](http://scikit-learn.org/stable/)\n",
    "\n",
    "* [Dataset API](http://scikit-learn.org/stable/datasets/index.html)\n",
    "\n",
    "* [Metrics - Pairwise](http://scikit-learn.org/stable/modules/metrics.html)\n",
    "\n",
    "* [sklearn - Preprocesing](http://scikit-learn.org/stable/modules/preprocessing.html)\n",
    "\n",
    "**Sklearn general workflow**\n",
    "\n",
    "```python\n",
    "import pandas as pd\n",
    "from sklearn.linear_model import LinearRegression\n",
    "from sklearn.cross_validation import train_test_split\n",
    "\n",
    "# Load data from csv file\n",
    "df = pd.read_csv('data/housing_prices.csv')\n",
    "X = df[['square_feet', 'num_rooms']].values\n",
    "y = df['price'].values\n",
    "\n",
    "# Split into training and test sets\n",
    "X_train, X_test, y_train, y_test = train_test_split(X, y, test_size=0.15)\n",
    "\n",
    "# Run Linear Regression\n",
    "regr = LinearRegression()\n",
    "regr.fit(X_train, y_train)\n",
    "print \"Intercept:\", regr.intercept_\n",
    "print \"Coefficients:\", regr.coef_\n",
    "print \"R^2 error:\", regr.score(X_test, y_test)\n",
    "predicted_y = regr.predict(X_test)\n",
    "```\n",
    "\n",
    "**[Polynomial Features](http://scikit-learn.org/stable/auto_examples/linear_model/plot_polynomial_interpolation.html)**\n",
    "\n",
    "\n",
    "```python\n",
    "import pandas as pd\n",
    "from sklearn.preprocessing import PolynomialFeatures\n",
    "from sklearn.linear_model import LinearRegression\n",
    "from sklearn.cross_validation import train_test_split\n",
    "\n",
    "# Load data is identical as above\n",
    "df = pd.read_csv('data/housing_prices.csv')\n",
    "X = df[['square_feet', 'num_rooms']]\n",
    "y = df['price']\n",
    "\n",
    "# Add the polynomial features\n",
    "poly = PolynomialFeatures(3)\n",
    "X_new = poly.fit_transform(X)\n",
    "\n",
    "# Split into training and test sets\n",
    "X_train, X_test, y_train, y_test = train_test_split(X_new, y, test_size=0.15)\n",
    "\n",
    "# Run Linear Regression (the same as above)\n",
    "regr = LinearRegression()\n",
    "regr.fit(X_train, y_train)\n",
    "print \"Intercept:\", regr.intercept_\n",
    "print \"Coefficients:\", regr.coef_\n",
    "print \"R^2 error:\", regr.score(X_test, y_test)\n",
    "predicted_y = regr.predict(X_test)\n",
    "```\n",
    "\n",
    "#### Pandas\n",
    "\n",
    "[Pandas ecosystem](http://pandas.pydata.org/pandas-docs/version/0.15.0/ecosystem.html#ecosystem-visualization)\n",
    "\n",
    "[Pandas](https://pandas.pydata.org/)\n",
    "\n",
    "using the column names\n",
    "df.loc[:, [‘colname0’, ‘colname1’]]\n",
    "df[[]] # double bracket\n",
    "\n",
    "using the column indices\n",
    "df.iloc[:, [0, 1]]"
   ]
  },
  {
   "cell_type": "code",
   "execution_count": 1,
   "metadata": {
    "collapsed": false
   },
   "outputs": [],
   "source": [
    "from __future__ import division\n",
    "\n",
    "from sklearn.linear_model import LinearRegression\n",
    "\n",
    "from sklearn.model_selection import KFold\n",
    "from sklearn.model_selection import train_test_split\n",
    "from sklearn.model_selection import cross_val_score\n",
    "\n",
    "from sklearn.metrics import mean_squared_error\n",
    "\n",
    "from sklearn.datasets import load_boston\n",
    "\n",
    "import numpy as np\n",
    "\n",
    "import matplotlib.pyplot as plt\n",
    "\n",
    "%matplotlib inline"
   ]
  },
  {
   "cell_type": "code",
   "execution_count": 2,
   "metadata": {
    "collapsed": false
   },
   "outputs": [],
   "source": [
    "# data = load_boston()\n",
    "# data.DESCR"
   ]
  },
  {
   "cell_type": "code",
   "execution_count": 3,
   "metadata": {
    "collapsed": false
   },
   "outputs": [
    {
     "data": {
      "text/plain": [
       "numpy.ndarray"
      ]
     },
     "execution_count": 3,
     "metadata": {},
     "output_type": "execute_result"
    }
   ],
   "source": [
    "ds_features = load_boston().data\n",
    "type(ds_features)"
   ]
  },
  {
   "cell_type": "code",
   "execution_count": 4,
   "metadata": {
    "collapsed": false
   },
   "outputs": [
    {
     "data": {
      "text/plain": [
       "array([[  6.32000000e-03,   1.80000000e+01,   2.31000000e+00,\n",
       "          0.00000000e+00,   5.38000000e-01,   6.57500000e+00,\n",
       "          6.52000000e+01,   4.09000000e+00,   1.00000000e+00,\n",
       "          2.96000000e+02,   1.53000000e+01,   3.96900000e+02,\n",
       "          4.98000000e+00],\n",
       "       [  2.73100000e-02,   0.00000000e+00,   7.07000000e+00,\n",
       "          0.00000000e+00,   4.69000000e-01,   6.42100000e+00,\n",
       "          7.89000000e+01,   4.96710000e+00,   2.00000000e+00,\n",
       "          2.42000000e+02,   1.78000000e+01,   3.96900000e+02,\n",
       "          9.14000000e+00]])"
      ]
     },
     "execution_count": 4,
     "metadata": {},
     "output_type": "execute_result"
    }
   ],
   "source": [
    "ds_features[:2]"
   ]
  },
  {
   "cell_type": "code",
   "execution_count": 5,
   "metadata": {
    "collapsed": false
   },
   "outputs": [
    {
     "data": {
      "text/plain": [
       "array([ 24. ,  21.6])"
      ]
     },
     "execution_count": 5,
     "metadata": {},
     "output_type": "execute_result"
    }
   ],
   "source": [
    "ds_target = load_boston().target\n",
    "ds_target[:2]"
   ]
  },
  {
   "cell_type": "markdown",
   "metadata": {
    "collapsed": true
   },
   "source": [
    "### [One-fold cross-validation](http://scikit-learn.org/stable/modules/generated/sklearn.model_selection.train_test_split.html#sklearn.model_selection.train_test_split)"
   ]
  },
  {
   "cell_type": "code",
   "execution_count": 6,
   "metadata": {
    "collapsed": true
   },
   "outputs": [],
   "source": [
    "X_train, X_test, y_train, y_test = train_test_split(ds_features, ds_target, test_size=0.33)"
   ]
  },
  {
   "cell_type": "code",
   "execution_count": 7,
   "metadata": {
    "collapsed": true
   },
   "outputs": [],
   "source": [
    "model = LinearRegression().fit(X_train, y_train)"
   ]
  },
  {
   "cell_type": "code",
   "execution_count": 8,
   "metadata": {
    "collapsed": false
   },
   "outputs": [
    {
     "data": {
      "text/plain": [
       "22.088366284197065"
      ]
     },
     "execution_count": 8,
     "metadata": {},
     "output_type": "execute_result"
    }
   ],
   "source": [
    "mse_train = mean_squared_error(y_train, model.predict(X_train))\n",
    "mse_train"
   ]
  },
  {
   "cell_type": "markdown",
   "metadata": {},
   "source": [
    "#### Test data \n",
    "\n",
    "Assesing how the results of the model will generalize to an independent data set."
   ]
  },
  {
   "cell_type": "code",
   "execution_count": 9,
   "metadata": {
    "collapsed": false
   },
   "outputs": [
    {
     "data": {
      "text/plain": [
       "22.741098538906176"
      ]
     },
     "execution_count": 9,
     "metadata": {},
     "output_type": "execute_result"
    }
   ],
   "source": [
    "mse_test = mean_squared_error(y_test, model.predict(X_test))\n",
    "mse_test"
   ]
  },
  {
   "cell_type": "markdown",
   "metadata": {},
   "source": [
    "Create the function\n",
    "\n",
    "${\\displaystyle \\operatorname {MSE} ({\\hat {\\theta }})=\\operatorname {E} {\\big [}({\\hat {\\theta }}-\\theta )^{2}{\\big ]}.}$\n"
   ]
  },
  {
   "cell_type": "code",
   "execution_count": 10,
   "metadata": {
    "collapsed": true
   },
   "outputs": [],
   "source": [
    "def mse_e(y_true, y_prediction):\n",
    "    serror = (y_true - y_prediction)**2\n",
    "    return sum(serror)/len(serror)"
   ]
  },
  {
   "cell_type": "code",
   "execution_count": 11,
   "metadata": {
    "collapsed": false
   },
   "outputs": [
    {
     "data": {
      "text/plain": [
       "22.088366284197043"
      ]
     },
     "execution_count": 11,
     "metadata": {},
     "output_type": "execute_result"
    }
   ],
   "source": [
    "mse_e(y_train, model.predict(X_train))"
   ]
  },
  {
   "cell_type": "markdown",
   "metadata": {
    "collapsed": true
   },
   "source": [
    "### [K-fold cross-validation](https://en.wikipedia.org/wiki/Cross-validation_(statistics)\n",
    "\n",
    "[Sklearn - Computing cross-validated metrics](http://scikit-learn.org/stable/modules/cross_validation.html#cross-validation-iterators)"
   ]
  },
  {
   "cell_type": "code",
   "execution_count": 22,
   "metadata": {
    "collapsed": false
   },
   "outputs": [
    {
     "data": {
      "text/plain": [
       "10"
      ]
     },
     "execution_count": 22,
     "metadata": {},
     "output_type": "execute_result"
    }
   ],
   "source": [
    "scores = cross_val_score(model, ds_features, ds_target, cv=10, scoring='neg_mean_squared_error')\n",
    "len(scores)"
   ]
  },
  {
   "cell_type": "markdown",
   "metadata": {},
   "source": [
    "Average of MSE from eack K-fold"
   ]
  },
  {
   "cell_type": "code",
   "execution_count": 24,
   "metadata": {
    "collapsed": false
   },
   "outputs": [
    {
     "data": {
      "text/plain": [
       "34.763091505422629"
      ]
     },
     "execution_count": 24,
     "metadata": {},
     "output_type": "execute_result"
    }
   ],
   "source": [
    "scores.mean()*-1"
   ]
  },
  {
   "cell_type": "code",
   "execution_count": 25,
   "metadata": {
    "collapsed": false
   },
   "outputs": [
    {
     "data": {
      "image/png": "[encoded data removed]",
      "text/plain": [
       "<matplotlib.figure.Figure at 0x11aaa9850>"
      ]
     },
     "metadata": {},
     "output_type": "display_data"
    }
   ],
   "source": [
    "kfcv = []\n",
    "for kf in xrange(2, 10):\n",
    "    kfcv.append(cross_val_score(model, ds_features, ds_target, cv=kf, scoring='neg_mean_squared_error').mean()*-1)\n",
    "    \n",
    "plt.plot(kfcv)\n",
    "plt.ylabel('Average MSE per K-fold')\n",
    "plt.xlabel('K-fold');\n"
   ]
  },
  {
   "cell_type": "code",
   "execution_count": null,
   "metadata": {
    "collapsed": true
   },
   "outputs": [],
   "source": []
  },
  {
   "cell_type": "code",
   "execution_count": null,
   "metadata": {
    "collapsed": true
   },
   "outputs": [],
   "source": []
  }
 ],
 "metadata": {
  "kernelspec": {
   "display_name": "Python 2",
   "language": "python",
   "name": "python2"
  },
  "language_info": {
   "codemirror_mode": {
    "name": "ipython",
    "version": 2
   },
   "file_extension": ".py",
   "mimetype": "text/x-python",
   "name": "python",
   "nbconvert_exporter": "python",
   "pygments_lexer": "ipython2",
   "version": "2.7.11"
  }
 },
 "nbformat": 4,
 "nbformat_minor": 0
}
