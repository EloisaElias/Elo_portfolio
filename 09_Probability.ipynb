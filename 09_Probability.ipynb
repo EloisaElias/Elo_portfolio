{
 "cells": [
  {
   "cell_type": "markdown",
   "metadata": {},
   "source": [
    "### Probability"
   ]
  },
  {
   "cell_type": "code",
   "execution_count": 1,
   "metadata": {
    "collapsed": true
   },
   "outputs": [],
   "source": [
    "from __future__ import division\n",
    "import random\n",
    "import pandas as pd"
   ]
  },
  {
   "cell_type": "code",
   "execution_count": 6,
   "metadata": {
    "collapsed": false
   },
   "outputs": [
    {
     "data": {
      "text/html": [
       "<div>\n",
       "<table border=\"1\" class=\"dataframe\">\n",
       "  <thead>\n",
       "    <tr style=\"text-align: right;\">\n",
       "      <th></th>\n",
       "      <th>dos</th>\n",
       "    </tr>\n",
       "    <tr>\n",
       "      <th>uno</th>\n",
       "      <th></th>\n",
       "    </tr>\n",
       "  </thead>\n",
       "  <tbody>\n",
       "    <tr>\n",
       "      <th>False</th>\n",
       "      <td>0.174797</td>\n",
       "    </tr>\n",
       "    <tr>\n",
       "      <th>True</th>\n",
       "      <td>0.854331</td>\n",
       "    </tr>\n",
       "  </tbody>\n",
       "</table>\n",
       "</div>"
      ],
      "text/plain": [
       "            dos\n",
       "uno            \n",
       "False  0.174797\n",
       "True   0.854331"
      ]
     },
     "execution_count": 6,
     "metadata": {},
     "output_type": "execute_result"
    }
   ],
   "source": [
    "coins = ['HH', 'TH', 'TT']\n",
    "result = []\n",
    "for i in range(1000):\n",
    "    coin = random.choice(coins)\n",
    "    result.append([random.choice(coin) for j in [1,2]]) #to send it for df\n",
    "df = pd.DataFrame(result, columns=['uno', 'dos']) == 'H'\n",
    "df.groupby('uno').mean()"
   ]
  },
  {
   "cell_type": "markdown",
   "metadata": {},
   "source": [
    "---\n",
    "Suppose two cards are drawn from a standard 52 card deck"
   ]
  },
  {
   "cell_type": "markdown",
   "metadata": {},
   "source": [
    "What is the probability that the first is a queen and the second is a king? "
   ]
  },
  {
   "cell_type": "markdown",
   "metadata": {},
   "source": [
    "  ```\n",
    "  P(C1=Q AND C2=K)\n",
    "  = P(C1=Q) AND P(C2=K | C1=Q)\n",
    "  = 4/52 * 4/51\n",
    "  = 0.006\n",
    "  ```"
   ]
  },
  {
   "cell_type": "code",
   "execution_count": 10,
   "metadata": {
    "collapsed": false
   },
   "outputs": [
    {
     "data": {
      "text/plain": [
       "0.006033182503770739"
      ]
     },
     "execution_count": 10,
     "metadata": {},
     "output_type": "execute_result"
    }
   ],
   "source": [
    "(4./52)*(4./51)\n"
   ]
  },
  {
   "cell_type": "markdown",
   "metadata": {
    "collapsed": true
   },
   "source": [
    "What is the probability that both cards are queens?"
   ]
  },
  {
   "cell_type": "markdown",
   "metadata": {},
   "source": [
    "  ```\n",
    "  P(C1=Q AND C2=Q)\n",
    "  = P(C1=Q) AND P(C2=Q | C1=Q)\n",
    "  = 4/52 * 3/51\n",
    "  = .0059\n",
    "  ```"
   ]
  },
  {
   "cell_type": "code",
   "execution_count": 15,
   "metadata": {
    "collapsed": false
   },
   "outputs": [
    {
     "data": {
      "text/plain": [
       "0.004524886877828055"
      ]
     },
     "execution_count": 15,
     "metadata": {},
     "output_type": "execute_result"
    }
   ],
   "source": [
    "(4/52)*(3/51)"
   ]
  },
  {
   "cell_type": "markdown",
   "metadata": {
    "collapsed": true
   },
   "source": [
    "Suppose that before the second card was drawn, the first was inserted into the deck and the deck reshuffled. What is the probability that both cards are queens?\n"
   ]
  },
  {
   "cell_type": "markdown",
   "metadata": {},
   "source": [
    "  ```\n",
    "  P(C1=Q AND C2=Q)\n",
    "  = P(C1=Q) AND P(C2=Q) (with replacement)\n",
    "  = 4/52 * 4/52\n",
    "  = 0.0059\n",
    "  ```\n"
   ]
  },
  {
   "cell_type": "code",
   "execution_count": 13,
   "metadata": {
    "collapsed": false
   },
   "outputs": [
    {
     "data": {
      "text/plain": [
       "0.00591715976331361"
      ]
     },
     "execution_count": 13,
     "metadata": {},
     "output_type": "execute_result"
    }
   ],
   "source": [
    "(4/52) * (4/52)"
   ]
  },
  {
   "cell_type": "markdown",
   "metadata": {},
   "source": [
    "A store Manager wants to understand how his customers use different payment methods, and suspects that the size of the purchase is a major deciding factor. "
   ]
  },
  {
   "cell_type": "markdown",
   "metadata": {},
   "source": [
    "\n",
    "|      $     | Cash | Debit | Credit |\n",
    "|-----------|:----:|------:|--------|\n",
    "| Under 20 |  400 |   150 | 150    |\n",
    "| 20 - 50 |  200 |  1200 | 800    |\n",
    "| Over 50  |  100 |   600 | 1400   |\n"
   ]
  },
  {
   "cell_type": "markdown",
   "metadata": {
    "collapsed": true
   },
   "source": [
    "* Given that a customer spend over $50, what is the probability that the customer used a credit card?"
   ]
  },
  {
   "cell_type": "markdown",
   "metadata": {},
   "source": [
    "> Total transactions > 50 = 2100\n",
    "\n",
    "> Transactions with credit = 1400\n",
    "```\n",
    "P(Credit | >50) = 1400 / 2100\n",
    "= 2/3\n",
    "```"
   ]
  },
  {
   "cell_type": "markdown",
   "metadata": {},
   "source": [
    " * Given that a customer paid in cash, what's the probability that the customer spent less than $20?\n",
    "\n"
   ]
  },
  {
   "cell_type": "markdown",
   "metadata": {},
   "source": [
    "> Total transaction in cash = 700\n",
    "\n",
    "> Transaction under 20 = 400\n",
    "```\n",
    "P(<20 | cash) = 400 / 700 \n",
    "= 4/7\n",
    "```"
   ]
  },
  {
   "cell_type": "markdown",
   "metadata": {
    "collapsed": true
   },
   "source": [
    "   * What's the probability that a customer spent under $20 using cash?"
   ]
  },
  {
   "cell_type": "markdown",
   "metadata": {
    "collapsed": true
   },
   "source": [
    "> Total transactions = 5000\n",
    "\n",
    "> The specific : Under 20 and cash = 400\n",
    "\n",
    "> $P(<20 \\cap Cash)$\n",
    "\n",
    "> = 400 / 5000 = 2/25\n",
    "\n"
   ]
  },
  {
   "cell_type": "markdown",
   "metadata": {
    "collapsed": true
   },
   "source": [
    "A graduated student is looking for his first job!  Given that he is freaked out, his chances of not getting an offer are 70%.  Given that he isn't freaked out, his chances of not getting an offer are 30%.  Suppose that the probability that he's freaked out is 80%. What's the probability that he gets an offer?"
   ]
  },
  {
   "cell_type": "markdown",
   "metadata": {
    "collapsed": true
   },
   "source": [
    "```\n",
    "P(fout) = .8\n",
    "P(N_fout) = .2\n",
    "P(job) = ?\n",
    "\n",
    "P(job | fout) = .3\n",
    "P(job | N_fout) = .7\n",
    "\n",
    "P(job) = [P(job | fout)* P(Fout)] + [P(job | N_fout)* P(N_fout)]\n",
    "P(job) = 0.3 * 0.8 + 0.7 * 0.2\n",
    "= 0.38\n",
    "```"
   ]
  },
  {
   "cell_type": "markdown",
   "metadata": {
    "collapsed": true
   },
   "source": [
    "Google decides to do random drug tests for heroin on their employees.\n",
    "   They know that 3% of their population uses heroin. The drug test has the\n",
    "   following accuracy: The test correctly identifies 95% of the\n",
    "   heroin users (sensitivity) and 90% of the non-users (specificity).\n",
    "\n",
    "   |                | Uses heroin | Doesn't use heroin |\n",
    "   | -------------- | ----------: | -----------------: |\n",
    "   | Tests positive |        0.95 |               0.10 |\n",
    "   | Tests negative |        0.05 |               0.90 |\n",
    "\n",
    "   Alice gets tested and the test comes back positive. What is the probability\n",
    "   that she uses heroin?\n",
    "\n"
   ]
  },
  {
   "cell_type": "markdown",
   "metadata": {
    "collapsed": true
   },
   "source": [
    "```\n",
    "\n",
    "P(Uses | test +) = P(U | +)\n",
    "\n",
    "Ha_truth : P(Uses)= P(U) = 0.03\n",
    "H0_truth : P(N_Uses) = P(N_U) = 1-P(U) = 0.97\n",
    "\n",
    "power = P(+ | U) = 0.95 # the probability of correctly rejecting a false null hypothesis\n",
    "\n",
    "confidence level = 0.90 # represents how often the true percentage of the population who would pick an answer lies within the confidence interval. The 90% confidence level means you can be 9% certain.\n",
    "\n",
    "alpha = 0.10 type I error - False positives\n",
    "\n",
    "P(+) = P(+ | U)P(U) + P(+ | alpha)P(N_U)\n",
    "       \n",
    "     = 0.95*0.03  +   0.1*0.97\n",
    "     = 0.1255\n",
    "\n",
    "\n",
    "P(U | +) = P(+ | U)P(U) / P(+)\n",
    "         = (0.95*0.03) / 0.1255\n",
    "         = 0.227\n",
    "```\n",
    "___\n",
    "```\n",
    "P(U | +) = P(+ | U)P(U) / P(+ | U)P(U) + P(+ | N_U)P(N_U)\n",
    "\n",
    "P(truth_Ha | + ) = P(power)P(Ha_truth) / [P(power)P(Ha_truth) + P(alpha)P(H0_truth)\n",
    "\n",
    " = .95 * .03 / (.95 * .03 + .10 * .97) \n",
    " = 22.7%\n",
    "```"
   ]
  },
  {
   "cell_type": "markdown",
   "metadata": {
    "collapsed": true
   },
   "source": [
    "___"
   ]
  },
  {
   "cell_type": "markdown",
   "metadata": {},
   "source": [
    "\n",
    "---\n",
    "\n",
    "\n",
    "```\n",
    "...example..\n",
    "\n",
    "Let us assume that the total population = 1000\n",
    "\n",
    "0.8% of the population might have cancer = 8 [1000 * 0.008]\n",
    "10% is false-negative (negative test but they have cancer) = 0.8 [8 * 0.1]\n",
    "Mammogram test is positive and having cancer = 7.2 [8 - 0.8]\n",
    "7% is false-positive (positive test but they do not have cancer) = 70 [1000 * 0.07]\n",
    "\n",
    "P(cancer with positive test) = Test positive and have cancer / Test positive\n",
    "                             = 7.2 / (7.2 + 70)\n",
    "                             = 7.2 /77.2\n",
    "                             = 9.32%\n",
    "```"
   ]
  },
  {
   "cell_type": "code",
   "execution_count": null,
   "metadata": {
    "collapsed": true
   },
   "outputs": [],
   "source": []
  }
 ],
 "metadata": {
  "kernelspec": {
   "display_name": "Python 2",
   "language": "python",
   "name": "python2"
  },
  "language_info": {
   "codemirror_mode": {
    "name": "ipython",
    "version": 2
   },
   "file_extension": ".py",
   "mimetype": "text/x-python",
   "name": "python",
   "nbconvert_exporter": "python",
   "pygments_lexer": "ipython2",
   "version": "2.7.10"
  }
 },
 "nbformat": 4,
 "nbformat_minor": 0
}
