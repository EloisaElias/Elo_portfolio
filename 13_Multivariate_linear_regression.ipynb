{
 "cells": [
  {
   "cell_type": "markdown",
   "metadata": {},
   "source": [
    "## Linear Regression\n",
    "---\n",
    "**Elo notes**"
   ]
  },
  {
   "cell_type": "markdown",
   "metadata": {},
   "source": [
    "Multiple linear regression, also known as multivariate linear regression\n",
    "\n",
    "The hypothesis to be tested is that the variances of the errors of the regression model are not constant, but instead are monotonically related to a pre-identified explanatory variable. For example, data on income and consumption may be gathered and consumption regressed against income. If the variance increases as levels of income increase, then income may be used as an explanatory variable. Otherwise some third variable (e.g. wealth or last period income) may be chosen.\n",
    "\n",
    "The linear regression model makes a number of assumptions about the data, including:"
   ]
  },
  {
   "cell_type": "markdown",
   "metadata": {},
   "source": [
    "**Homoscedasticity of residuals**\n",
    "     \n",
    "In statistics, a sequence or a vector of random variables is homoscedastic if all random variables in the sequence or vector have the same finite variance. This is also known as homogeneity of variance.\n",
    "\n",
    "Residuals can be tested for homoscedasticity using the Breusch–Pagan test, which regresses squared residuals on the independent variables. Since the Breusch–Pagan test is sensitive to departures from normality, the Koenker–Basset or 'generalized Breusch–Pagan' test is used for general purposes. Testing for groupwise heteroscedasticity requires the Goldfeld–Quandt test.\n",
    "     \n",
    "Two or more normal distributions, $N(\\mu_i,\\Sigma_i)$, are homoscedastic if they share a common covariance (or correlation) matrix, $\\Sigma_i = \\Sigma_j,\\ \\forall i,j$. Homoscedastic distributions are especially useful to derive statistical pattern recognition and machine learning algorithms. One popular example is Fisher's linear discriminant analysis.\n",
    "\n",
    "In statistics, the Goldfeld–Quandt test checks for homoscedasticity in regression analyses. It does this by dividing a dataset into two parts or groups, and hence the test is sometimes called a two-group test.\n",
    "\n",
    "The residual is the error that is not explained by the regression equation:\n",
    "\n",
    "$e_i = y_i - \\hat{y_i}$\n",
    "\n",
    "A residual plot plots the residuals on the $y-axis$ vs. the predicted values of the dependent variable on the x-axis. We would like the residuals to be\n",
    "\n",
    "Unbiased: have an average value of zero in any thin vertical strip, and\n",
    "\n",
    "Homoscedastic, which means \"same stretch\": the spread of the residuals should be the same in any thin vertical strip.\n",
    "\n",
    "The residuals are heteroscedastic if they are not homoscedastic.\n",
    "\n",
    "Here are six residual plots and their interpretations:\n",
    "http://condor.depaul.edu/sjost/it223/documents/regress.htm\n",
    "\n",
    "(a) Unbiased and homoscedastic. The residuals average to zero in each thin verical strip and the SD is the same all across the plot.\n",
    "\n",
    "(b) Biased and homoscedastic. The residuals show a linear pattern, probably due to a lurking variable not included in the experiment.\n",
    "\n",
    "(c) Biased and homoscedastic. The residuals show a quadratic pattern, possibly because of a nonlinear relationship. Sometimes a variable transform will eliminate the bias.\n",
    "\n",
    "(d) Unbiased, but homoscedastic. The SD is small to the left of the plot and large to the right: the residuals are heteroscadastic.\n",
    "\n",
    "(e) Biased and heteroscedastic. The pattern is linear.\n",
    "\n",
    "(f) Biased and heteroscedastic. The pattern is quadratic."
   ]
  },
  {
   "cell_type": "markdown",
   "metadata": {},
   "source": [
    "**Normal distribution of residuals**\n",
    "    \n",
    "If you are using regression analysis to generate predictions. Prediction intervals are calculated based on the assumption that the residuals are normally distributed. If the residuals are non-normal, the prediction intervals may be inaccurate.\n",
    "\n",
    "Normality of the error distribution. \n",
    "\n",
    "Here's the basic idea behind any normal probability plot: if the data follow a normal distribution with mean µ and variance σ2, then a plot of the theoretical percentiles of the normal distribution versus the observed sample percentiles should be approximately linear. Since we are concerned about the normality of the error terms, we create a normal probability plot of the residuals. If the resulting plot is approximately linear, we proceed assuming that the error terms are normally distributed.\n",
    "\n",
    "https://onlinecourses.science.psu.edu/stat501/node/281\n",
    "  "
   ]
  },
  {
   "cell_type": "markdown",
   "metadata": {},
   "source": [
    "** Avoiding multicollinearity among features** Correlation among independent variables\n",
    "\n",
    "In statistics, multicollinearity (also collinearity) is a phenomenon in which two or more predictor variables in a multiple regression model are highly correlated, meaning that one can be linearly predicted from the others with a substantial degree of accuracy. In this situation the coefficient estimates of the multiple regression may change erratically in response to small changes in the model or the data. Multicollinearity does not reduce the predictive power or reliability of the model as a whole, at least within the sample data set; it only affects calculations regarding individual predictors. That is, a multiple regression model with correlated predictors can indicate how well the entire bundle of predictors predicts the outcome variable, but it may not give valid results about any individual predictor, or about which predictors are redundant with respect to others.\n",
    "    \n",
    "Adding more independent variables to a multiple regression procedure does not mean the regression will be 'better' or offer better predictions; in fact it can make things worse. This is called OVERFITTING.\n",
    "    \n",
    "The addition of more independent variables creates more relationships among them. So not only are the independent variables potentially related to the dependent variable, they are also potentially related to the dependent variable, they are also potentially related to each other. When this happens, it is called MULTICOLLINEARITY.\n",
    "    \n",
    "The idea is for all the independent variables to be correlated with the dependent variable but NOT with each other.\n",
    "    "
   ]
  },
  {
   "cell_type": "markdown",
   "metadata": {},
   "source": [
    "**Independence of the observations (For example, independence assumption violated if data is a time series)**\n",
    "\n",
    "Checking for Independence. Independence assumptions are usually formulated in terms of error terms rather than in terms of the outcome variables. For example, in simple linear regression, the model equation is\n",
    "    \n",
    "$Y = α + βx + ε$\n",
    "    \n",
    "Where Y is the outcome (response) variable and $ε$ denotes the error term (also a random variable). It is the error terms that are assumed to be independent, not the values of the response variable.\n",
    "\n",
    "We do not know the values of the error terms $ε$, so we can only plot the residuals ei (defined as the observed value yi minus the fitted value, according to the model), which approximate the error terms.\n",
    "\n",
    "Rule of Thumb: To check independence, plot residuals against any time variables present (e.g., order of observation), any spatial variables present, and any variables used in the technique (e.g., factors, regressors). A pattern that is not random suggests lack of independence.\n",
    "\n",
    "Rationale: Dependence on time or spatial variables are common sources of lack of independence, but the other plots might also detect lack of independence.\n",
    "\n",
    "Comments:\n",
    "\n",
    "1. Because time or spatial correlations are so frequent, it is important when making observations to record any time or spatial variables that could conceivably influence results. This not only allows you to make the residual plots to detect possible lack of independence, but also allows you to change to a technique incorporating additional time or spatial variables if lack of independence is detected in these plots.\n",
    "\n",
    "2. Since it is known that the residuals sum to zero, they are not independent, so the plot is really a very rough approximation.\n",
    "\n",
    "\n",
    "https://www.ma.utexas.edu/users/mks/statmistakes/modelcheckingplots.html\n",
    "\n",
    "\n",
    "Since the results of the regression model depend on these statistical assumptions, the \n",
    "results of the regression model are only correct if our assumptions hold (at least approximately).\n",
    "\n",
    "Violations, How to diagnose, How to fix:\n",
    "http://people.duke.edu/~rnau/testing.htm\n",
    "\n",
    "Because of multicollinearity and overfitting, there is a fair amount of prep-work to do BEFORE conducting multiple regression analysis.\n",
    "\n"
   ]
  },
  {
   "cell_type": "markdown",
   "metadata": {},
   "source": [
    "**Compare the heteroscedasticity of residuals before and after taking log**"
   ]
  },
  {
   "cell_type": "markdown",
   "metadata": {},
   "source": [
    "***Goldfeld–Quandt test*** : test whether variance is the same in 2 subsamples.\n",
    "\n",
    "The parametric test is accomplished by undertaking separate least squares analyses on two subsets of the original dataset: these subsets are specified so that the observations for which the pre-identified explanatory variable takes the lowest values are in one subset, with higher values in the other. The subsets needs not be of equal size, nor contain all the observations between them. The parametric test assumes that the errors have a normal distribution. There is an additional assumption here, that the design matrices for the two subsets of data are both of full rank. The test statistic used is the ratio of the mean square residual errors for the regressions on the two subsets. This test statistic corresponds to an F-test of equality of variances, and a one- or two-sided test may be appropriate depending on whether or not the direction of the supposed relation of the error variance to the explanatory variable is known.[2]\n",
    "\n",
    "Increasing the number of observations dropped in the \"middle\" of the ordering will increase the power of the test but reduce the degrees of freedom for the test statistic. As a result of this tradeoff it is common to see the Goldfeld–Quandt test performed by dropping the middle third of observations with smaller proportions of dropped observations as sample size increases\n",
    "\n",
    "Note:\n",
    "\n",
    "**  class statsmodels.stats.diagnostic.HetGoldfeldQuandt  **\n",
    "\n",
    "test whether variance is the same in 2 subsamples\n",
    "\n",
    "Dependent variable = y = Endogenous variable\n",
    "\n",
    "Independent variable = x = Exogenous variable\n",
    "\n",
    "Results are identical R, but the drop option is defined differently. (sorting by idx not tested yet)\n",
    "\n",
    "Methods\n",
    "run(y, x[, idx, split, drop, alternative, ...]) \tsee class docstring\n",
    "\n",
    "\n",
    "---"
   ]
  },
  {
   "cell_type": "markdown",
   "metadata": {},
   "source": [
    "This is a place where I've found looking at some formulas helps, even for people with some math anxiety (I'm not suggesting that you do, necessarily). The simple linear regression model is this:\n",
    "\n",
    "\n",
    "$Y= β_0 + β_1X + ε $\n",
    "\n",
    "where $ε ∼ N (0,σ2ε)$\n",
    "\n",
    "\n",
    "What's important to note here is that this model explicitly states once you've estimated the meaningful information in the data (that's the $\"β0+β1X\"$) there is nothing left over but white noise. Moreover, the errors are distributed as a Normal with a variance of $σ2ε$\n",
    "\n",
    "\n",
    "It's important to realize that $σ2ε$\n",
    "is not a variable (although in junior high school level algebra, we would call it that). It doesn't vary. $X$ varies. Y varies. The error term, ε, varies randomly; that is, it is a random variable. However, the parameters $(β0, β1, σ2ε)$ are placeholders for values we don't know--they don't vary. Instead, they are unknown constants. The upshot of this fact for this discussion is that no matter what $X$ is (i.e., what value is plugged in there), $σ2ε$ remains the same. In other words, the variance of the errors / residuals is constant. For the sake of contrast (and perhaps greater clarity), consider this model:\n",
    "\n",
    "\n",
    "$Y = β0 + β1X + ε$\n",
    "\n",
    "where $ε∼N (0 , f(X)) $\n",
    "\n",
    "where $f(X) = exp ( γ0 + γ1X )$\n",
    "\n",
    "and $γ1 ≠ 0$\n",
    "\n",
    "\n",
    "In this case, we plug in a value for $X$ (starting on the third line), pass it through the function f(X) and get the error variance that obtains at that exact value of $X$. Then we move through the rest of the equation as usual. \n",
    "\n",
    "http://stats.stackexchange.com/questions/52089/what-does-having-constant-variance-in-a-linear-regression-model-mean"
   ]
  },
  {
   "cell_type": "code",
   "execution_count": 1,
   "metadata": {
    "collapsed": false
   },
   "outputs": [
    {
     "name": "stdout",
     "output_type": "stream",
     "text": [
      "Populating the interactive namespace from numpy and matplotlib\n"
     ]
    },
    {
     "name": "stderr",
     "output_type": "stream",
     "text": [
      "WARNING: pylab import has clobbered these variables: ['Figure', 'Annotation']\n",
      "`%matplotlib` prevents importing * from pylab and numpy\n"
     ]
    }
   ],
   "source": [
    "from __future__ import division\n",
    "\n",
    "from pandas.tools.plotting import scatter_matrix\n",
    "from prettytable import PrettyTable\n",
    "from statsmodels.stats.diagnostic import HetGoldfeldQuandt as HGQ\n",
    "from statsmodels.stats.outliers_influence import variance_inflation_factor as VIF\n",
    "from statsmodels.graphics.gofplots import qqplot\n",
    "\n",
    "\n",
    "import os\n",
    "import statsmodels.api as sm\n",
    "import matplotlib.pyplot as plt\n",
    "\n",
    "import plotly.plotly as py\n",
    "from plotly.graph_objs import *\n",
    "\n",
    "%pylab inline\n",
    "%autoreload 2\n",
    "%matplotlib inline"
   ]
  },
  {
   "cell_type": "code",
   "execution_count": 2,
   "metadata": {
    "collapsed": false
   },
   "outputs": [],
   "source": [
    "df = sm.datasets.get_rdataset('Duncan', 'car', cache=True).data"
   ]
  },
  {
   "cell_type": "code",
   "execution_count": 3,
   "metadata": {
    "collapsed": false
   },
   "outputs": [
    {
     "data": {
      "text/html": [
       "<div>\n",
       "<table border=\"1\" class=\"dataframe\">\n",
       "  <thead>\n",
       "    <tr style=\"text-align: right;\">\n",
       "      <th></th>\n",
       "      <th>type</th>\n",
       "      <th>income</th>\n",
       "      <th>education</th>\n",
       "      <th>prestige</th>\n",
       "    </tr>\n",
       "  </thead>\n",
       "  <tbody>\n",
       "    <tr>\n",
       "      <th>accountant</th>\n",
       "      <td>prof</td>\n",
       "      <td>62</td>\n",
       "      <td>86</td>\n",
       "      <td>82</td>\n",
       "    </tr>\n",
       "    <tr>\n",
       "      <th>pilot</th>\n",
       "      <td>prof</td>\n",
       "      <td>72</td>\n",
       "      <td>76</td>\n",
       "      <td>83</td>\n",
       "    </tr>\n",
       "  </tbody>\n",
       "</table>\n",
       "</div>"
      ],
      "text/plain": [
       "            type  income  education  prestige\n",
       "accountant  prof      62         86        82\n",
       "pilot       prof      72         76        83"
      ]
     },
     "execution_count": 3,
     "metadata": {},
     "output_type": "execute_result"
    }
   ],
   "source": [
    "df[:2]"
   ]
  },
  {
   "cell_type": "code",
   "execution_count": 4,
   "metadata": {
    "collapsed": false
   },
   "outputs": [
    {
     "data": {
      "image/png": "[encoded data removed]",
      "text/plain": [
       "<matplotlib.figure.Figure at 0x1199e8090>"
      ]
     },
     "metadata": {},
     "output_type": "display_data"
    }
   ],
   "source": [
    "scatter_matrix(df);# Note: The independent variable(prestige) appears corralated to our two depended variables(income and education)."
   ]
  },
  {
   "cell_type": "code",
   "execution_count": 5,
   "metadata": {
    "collapsed": false
   },
   "outputs": [
    {
     "data": {
      "image/png": "[encoded data removed]",
      "text/plain": [
       "<matplotlib.figure.Figure at 0x11d5dda90>"
      ]
     },
     "metadata": {},
     "output_type": "display_data"
    }
   ],
   "source": [
    "df.plot(kind='box', subplots=True);"
   ]
  },
  {
   "cell_type": "code",
   "execution_count": 6,
   "metadata": {
    "collapsed": true
   },
   "outputs": [],
   "source": [
    "# y = df.pop('prestige')\n",
    "y = df.prestige"
   ]
  },
  {
   "cell_type": "code",
   "execution_count": 7,
   "metadata": {
    "collapsed": false
   },
   "outputs": [
    {
     "data": {
      "text/plain": [
       "accountant    82\n",
       "pilot         83\n",
       "architect     90\n",
       "Name: prestige, dtype: int64"
      ]
     },
     "execution_count": 7,
     "metadata": {},
     "output_type": "execute_result"
    }
   ],
   "source": [
    "y[:3]"
   ]
  },
  {
   "cell_type": "code",
   "execution_count": 8,
   "metadata": {
    "collapsed": false
   },
   "outputs": [
    {
     "data": {
      "text/html": [
       "<div>\n",
       "<table border=\"1\" class=\"dataframe\">\n",
       "  <thead>\n",
       "    <tr style=\"text-align: right;\">\n",
       "      <th></th>\n",
       "      <th>income</th>\n",
       "      <th>education</th>\n",
       "    </tr>\n",
       "  </thead>\n",
       "  <tbody>\n",
       "    <tr>\n",
       "      <th>accountant</th>\n",
       "      <td>62.0</td>\n",
       "      <td>86.0</td>\n",
       "    </tr>\n",
       "    <tr>\n",
       "      <th>pilot</th>\n",
       "      <td>72.0</td>\n",
       "      <td>76.0</td>\n",
       "    </tr>\n",
       "  </tbody>\n",
       "</table>\n",
       "</div>"
      ],
      "text/plain": [
       "            income  education\n",
       "accountant    62.0       86.0\n",
       "pilot         72.0       76.0"
      ]
     },
     "execution_count": 8,
     "metadata": {},
     "output_type": "execute_result"
    }
   ],
   "source": [
    "x = df[['income', 'education']].astype(float)\n",
    "x[:2]"
   ]
  },
  {
   "cell_type": "code",
   "execution_count": 9,
   "metadata": {
    "collapsed": false
   },
   "outputs": [
    {
     "data": {
      "text/html": [
       "<div>\n",
       "<table border=\"1\" class=\"dataframe\">\n",
       "  <thead>\n",
       "    <tr style=\"text-align: right;\">\n",
       "      <th></th>\n",
       "      <th>const</th>\n",
       "      <th>income</th>\n",
       "      <th>education</th>\n",
       "    </tr>\n",
       "  </thead>\n",
       "  <tbody>\n",
       "    <tr>\n",
       "      <th>accountant</th>\n",
       "      <td>1</td>\n",
       "      <td>62.0</td>\n",
       "      <td>86.0</td>\n",
       "    </tr>\n",
       "    <tr>\n",
       "      <th>pilot</th>\n",
       "      <td>1</td>\n",
       "      <td>72.0</td>\n",
       "      <td>76.0</td>\n",
       "    </tr>\n",
       "  </tbody>\n",
       "</table>\n",
       "</div>"
      ],
      "text/plain": [
       "            const  income  education\n",
       "accountant      1    62.0       86.0\n",
       "pilot           1    72.0       76.0"
      ]
     },
     "execution_count": 9,
     "metadata": {},
     "output_type": "execute_result"
    }
   ],
   "source": [
    "x = sm.add_constant(x) # 'constant' is going to be our interseccion point of the linear equation coefficient.\n",
    "x[:2]"
   ]
  },
  {
   "cell_type": "code",
   "execution_count": 10,
   "metadata": {
    "collapsed": false
   },
   "outputs": [
    {
     "data": {
      "image/png": "[encoded data removed]",
      "text/plain": [
       "<matplotlib.figure.Figure at 0x11d9cc050>"
      ]
     },
     "metadata": {},
     "output_type": "display_data"
    }
   ],
   "source": [
    "scatter_matrix(x[['income','education']]);# Note: multicollinearity among features, the feature are redundant."
   ]
  },
  {
   "cell_type": "code",
   "execution_count": 11,
   "metadata": {
    "collapsed": false
   },
   "outputs": [
    {
     "name": "stdout",
     "output_type": "stream",
     "text": [
      "                            OLS Regression Results                            \n",
      "==============================================================================\n",
      "Dep. Variable:               prestige   R-squared:                       0.828\n",
      "Model:                            OLS   Adj. R-squared:                  0.820\n",
      "Method:                 Least Squares   F-statistic:                     101.2\n",
      "Date:                Thu, 28 Jul 2016   Prob (F-statistic):           8.65e-17\n",
      "Time:                        13:42:17   Log-Likelihood:                -178.98\n",
      "No. Observations:                  45   AIC:                             364.0\n",
      "Df Residuals:                      42   BIC:                             369.4\n",
      "Df Model:                           2                                         \n",
      "Covariance Type:            nonrobust                                         \n",
      "==============================================================================\n",
      "                 coef    std err          t      P>|t|      [95.0% Conf. Int.]\n",
      "------------------------------------------------------------------------------\n",
      "const         -6.0647      4.272     -1.420      0.163       -14.686     2.556\n",
      "income         0.5987      0.120      5.003      0.000         0.357     0.840\n",
      "education      0.5458      0.098      5.555      0.000         0.348     0.744\n",
      "==============================================================================\n",
      "Omnibus:                        1.279   Durbin-Watson:                   1.458\n",
      "Prob(Omnibus):                  0.528   Jarque-Bera (JB):                0.520\n",
      "Skew:                           0.155   Prob(JB):                        0.771\n",
      "Kurtosis:                       3.426   Cond. No.                         163.\n",
      "==============================================================================\n",
      "\n",
      "Warnings:\n",
      "[1] Standard Errors assume that the covariance matrix of the errors is correctly specified.\n"
     ]
    }
   ],
   "source": [
    "model = sm.OLS(y, x) # 1.- instiatiating statemodels OLS\n",
    "fit = model.fit() # 2.- instiatiating the fitting object --> ..I can obtain, fit.fittedvalues ='Predicted values'\n",
    "print fit.summary()"
   ]
  },
  {
   "cell_type": "markdown",
   "metadata": {},
   "source": [
    "http://connor-johnson.com/2014/02/18/linear-regression-with-python/\n",
    "\n",
    "https://www.datarobot.com/blog/ordinary-least-squares-in-python/"
   ]
  },
  {
   "cell_type": "markdown",
   "metadata": {},
   "source": [
    "### Compare the heteroscedasticity of residuals before and after taking log"
   ]
  },
  {
   "cell_type": "markdown",
   "metadata": {},
   "source": [
    "The most common practice for identifying heteroscedasticity is to visually inspect the residual plot. In addition, the Goldfeld-Quandt test evaluates the p-value under the null of homocedasticity. Within diagonistics this is called het_goldfeldquandt."
   ]
  },
  {
   "cell_type": "code",
   "execution_count": 12,
   "metadata": {
    "collapsed": false
   },
   "outputs": [
    {
     "data": {
      "text/plain": [
       "accountant    77.998488\n",
       "pilot         78.527477\n",
       "architect     89.057018\n",
       "dtype: float64"
      ]
     },
     "execution_count": 12,
     "metadata": {},
     "output_type": "execute_result"
    }
   ],
   "source": [
    "fit.fittedvalues[:3] # y_hat"
   ]
  },
  {
   "cell_type": "code",
   "execution_count": 13,
   "metadata": {
    "collapsed": false
   },
   "outputs": [],
   "source": [
    "y_hat_prestige = fit.predict(x) # y_hat"
   ]
  },
  {
   "cell_type": "code",
   "execution_count": 14,
   "metadata": {
    "collapsed": false
   },
   "outputs": [
    {
     "data": {
      "text/html": [
       "<div>\n",
       "<table border=\"1\" class=\"dataframe\">\n",
       "  <thead>\n",
       "    <tr style=\"text-align: right;\">\n",
       "      <th></th>\n",
       "      <th>student_resid</th>\n",
       "      <th>unadj_p</th>\n",
       "      <th>bonf(p)</th>\n",
       "    </tr>\n",
       "  </thead>\n",
       "  <tbody>\n",
       "    <tr>\n",
       "      <th>accountant</th>\n",
       "      <td>0.304466</td>\n",
       "      <td>0.762313</td>\n",
       "      <td>1.0</td>\n",
       "    </tr>\n",
       "    <tr>\n",
       "      <th>pilot</th>\n",
       "      <td>0.341456</td>\n",
       "      <td>0.734504</td>\n",
       "      <td>1.0</td>\n",
       "    </tr>\n",
       "    <tr>\n",
       "      <th>architect</th>\n",
       "      <td>0.072269</td>\n",
       "      <td>0.942739</td>\n",
       "      <td>1.0</td>\n",
       "    </tr>\n",
       "  </tbody>\n",
       "</table>\n",
       "</div>"
      ],
      "text/plain": [
       "            student_resid   unadj_p  bonf(p)\n",
       "accountant       0.304466  0.762313      1.0\n",
       "pilot            0.341456  0.734504      1.0\n",
       "architect        0.072269  0.942739      1.0"
      ]
     },
     "execution_count": 14,
     "metadata": {},
     "output_type": "execute_result"
    }
   ],
   "source": [
    "fit.outlier_test()[:3] # ['student_resd']--> Residuals \n"
   ]
  },
  {
   "cell_type": "code",
   "execution_count": 15,
   "metadata": {
    "collapsed": false
   },
   "outputs": [
    {
     "data": {
      "image/png": "[encoded data removed]",
      "text/plain": [
       "<matplotlib.figure.Figure at 0x11dd35f90>"
      ]
     },
     "metadata": {},
     "output_type": "display_data"
    }
   ],
   "source": [
    "plt.scatter(fit.fittedvalues, fit.outlier_test()['student_resid'], alpha=0.6)\n",
    "plt.hlines(0, 0, 100, linestyle='--', color='r')\n",
    "plt.xlim(0,100)\n",
    "plt.xlabel('Predicted value')\n",
    "plt.ylabel('Residuals');"
   ]
  },
  {
   "cell_type": "markdown",
   "metadata": {},
   "source": [
    "Why studentized residuals, instead of plain residuals?\n",
    "Divides each residual by standard error, to get a standardized residual that can be examined. If we see data outside the interval (-2, 2),those indicate outliers"
   ]
  },
  {
   "cell_type": "code",
   "execution_count": 16,
   "metadata": {
    "collapsed": false
   },
   "outputs": [
    {
     "data": {
      "image/png": "[encoded data removed]",
      "text/plain": [
       "<matplotlib.figure.Figure at 0x11de12090>"
      ]
     },
     "metadata": {},
     "output_type": "display_data"
    }
   ],
   "source": [
    "# Q-Q plots:  The Q-Q plot plots the quantile of the normal distribution against that of the studentized residuals and checks for alignment of the quantiles.\n",
    "_ = sm.qqplot(fit.outlier_test()['student_resid'], line='s')"
   ]
  },
  {
   "cell_type": "markdown",
   "metadata": {},
   "source": [
    "** Class statsmodels.stats.diagnostic.HetGoldfeldQuandt **\n",
    "\n",
    "[0] fval(value of the F-statistic)\n",
    "\n",
    "[1] fpval(p-value of the hypothesis that the variance in one subsample is larger than in the other subsample when fpval < 0.05, therefore the variance in the two sub-samples are NOT the same)\n",
    "\n",
    "[2] ordering\n",
    "\n",
    "p-value 0.954785080498"
   ]
  },
  {
   "cell_type": "code",
   "execution_count": 17,
   "metadata": {
    "collapsed": false
   },
   "outputs": [
    {
     "data": {
      "text/plain": [
       "(0.45332954069831838, 0.95478508049803068, 'increasing')"
      ]
     },
     "execution_count": 17,
     "metadata": {},
     "output_type": "execute_result"
    }
   ],
   "source": [
    "HGQ().run(y, x) \n",
    "#'fval, pval, ordering'  ---> fpval: p-value : 0.954785080498"
   ]
  },
  {
   "cell_type": "markdown",
   "metadata": {},
   "source": [
    "H0: Heteroscedasticity: we would expect p > 0.05 \n",
    "\n",
    "Ha: Homoscedasticity: We would expect p < 0.05\n",
    "\n",
    "Since p = 0.9547 --> we fail to reject H0.\n",
    "\n",
    "Note: Presence of hereroscedasticity in prestige (Disperssion of the variables)\n",
    "The pval represents the 'p-value of the hypothesis that the variance in one subsample is larger than in the other subsample.'"
   ]
  },
  {
   "cell_type": "markdown",
   "metadata": {},
   "source": [
    "***Variance Inflation Factor (VIF)***\n",
    "\n",
    "VIF is utilize to measure how collinear a particular feature is with the rest of the features. \n",
    "\n",
    "As a rule of thumb, a VIF > 10 indicates the feature is collinear with at least another feature, -Therefore I'm facing a severe multicollinearity problem.\n"
   ]
  },
  {
   "cell_type": "code",
   "execution_count": 18,
   "metadata": {
    "collapsed": false
   },
   "outputs": [
    {
     "name": "stdout",
     "output_type": "stream",
     "text": [
      "+-----------+---------------+\n",
      "|   Field   |      VIF      |\n",
      "+-----------+---------------+\n",
      "|   income  | 7.68138664338 |\n",
      "| education | 7.68138664338 |\n",
      "+-----------+---------------+\n"
     ]
    }
   ],
   "source": [
    "matriz = df.as_matrix(columns=['income', 'education'])\n",
    "\n",
    "pretty = PrettyTable(['Field', 'VIF'])\n",
    "for i in xrange(matriz.shape[1]):\n",
    "    pretty.add_row((df.columns[i+1], VIF(matriz, i)))\n",
    "\n",
    "print pretty"
   ]
  },
  {
   "cell_type": "markdown",
   "metadata": {},
   "source": [
    "Note: When VIF > 10 --> There is a severe multicollinearity problem.\n",
    "\n",
    "Note: when 5< VIF < 10 the is thepotential of multicollinearity.\n",
    "\n",
    "When facing multicollinearity the pre-work is necessary in order to evaluate a correct model of multivariate linear regression. And therefore the regression coefficients are poorly estimated du to multicollinearity."
   ]
  },
  {
   "cell_type": "markdown",
   "metadata": {},
   "source": [
    "---"
   ]
  },
  {
   "cell_type": "markdown",
   "metadata": {},
   "source": [
    "### Credit card data"
   ]
  },
  {
   "cell_type": "code",
   "execution_count": 19,
   "metadata": {
    "collapsed": true
   },
   "outputs": [],
   "source": [
    "df_ccard = sm.datasets.ccard.load_pandas().data"
   ]
  },
  {
   "cell_type": "code",
   "execution_count": 20,
   "metadata": {
    "collapsed": false
   },
   "outputs": [
    {
     "data": {
      "text/html": [
       "<div>\n",
       "<table border=\"1\" class=\"dataframe\">\n",
       "  <thead>\n",
       "    <tr style=\"text-align: right;\">\n",
       "      <th></th>\n",
       "      <th>AVGEXP</th>\n",
       "      <th>AGE</th>\n",
       "      <th>INCOME</th>\n",
       "      <th>INCOMESQ</th>\n",
       "      <th>OWNRENT</th>\n",
       "    </tr>\n",
       "  </thead>\n",
       "  <tbody>\n",
       "    <tr>\n",
       "      <th>0</th>\n",
       "      <td>124.98</td>\n",
       "      <td>38.0</td>\n",
       "      <td>4.52</td>\n",
       "      <td>20.4304</td>\n",
       "      <td>1.0</td>\n",
       "    </tr>\n",
       "    <tr>\n",
       "      <th>1</th>\n",
       "      <td>9.85</td>\n",
       "      <td>33.0</td>\n",
       "      <td>2.42</td>\n",
       "      <td>5.8564</td>\n",
       "      <td>0.0</td>\n",
       "    </tr>\n",
       "  </tbody>\n",
       "</table>\n",
       "</div>"
      ],
      "text/plain": [
       "   AVGEXP   AGE  INCOME  INCOMESQ  OWNRENT\n",
       "0  124.98  38.0    4.52   20.4304      1.0\n",
       "1    9.85  33.0    2.42    5.8564      0.0"
      ]
     },
     "execution_count": 20,
     "metadata": {},
     "output_type": "execute_result"
    }
   ],
   "source": [
    "df_ccard[:2]"
   ]
  },
  {
   "cell_type": "code",
   "execution_count": 21,
   "metadata": {
    "collapsed": false
   },
   "outputs": [
    {
     "data": {
      "image/png": "[encoded data removed]",
      "text/plain": [
       "<matplotlib.figure.Figure at 0x11dcef0d0>"
      ]
     },
     "metadata": {},
     "output_type": "display_data"
    }
   ],
   "source": [
    "scatter_matrix(df_ccard, figsize=(9,9));"
   ]
  },
  {
   "cell_type": "code",
   "execution_count": 22,
   "metadata": {
    "collapsed": false
   },
   "outputs": [
    {
     "data": {
      "image/png": "[encoded data removed]",
      "text/plain": [
       "<matplotlib.figure.Figure at 0x119949410>"
      ]
     },
     "metadata": {},
     "output_type": "display_data"
    }
   ],
   "source": [
    "df_ccard[['AVGEXP', 'AGE', 'INCOME', 'INCOMESQ']].plot(kind='box', subplots=True);"
   ]
  },
  {
   "cell_type": "code",
   "execution_count": 23,
   "metadata": {
    "collapsed": false
   },
   "outputs": [
    {
     "data": {
      "text/plain": [
       "0    124.98\n",
       "1      9.85\n",
       "Name: AVGEXP, dtype: float64"
      ]
     },
     "execution_count": 23,
     "metadata": {},
     "output_type": "execute_result"
    }
   ],
   "source": [
    "y_cc = df_ccard.AVGEXP\n",
    "y_cc[:2]"
   ]
  },
  {
   "cell_type": "code",
   "execution_count": 24,
   "metadata": {
    "collapsed": false
   },
   "outputs": [
    {
     "data": {
      "text/html": [
       "<div>\n",
       "<table border=\"1\" class=\"dataframe\">\n",
       "  <thead>\n",
       "    <tr style=\"text-align: right;\">\n",
       "      <th></th>\n",
       "      <th>AGE</th>\n",
       "      <th>INCOME</th>\n",
       "      <th>INCOMESQ</th>\n",
       "      <th>OWNRENT</th>\n",
       "    </tr>\n",
       "  </thead>\n",
       "  <tbody>\n",
       "    <tr>\n",
       "      <th>0</th>\n",
       "      <td>38.0</td>\n",
       "      <td>4.52</td>\n",
       "      <td>20.4304</td>\n",
       "      <td>1.0</td>\n",
       "    </tr>\n",
       "    <tr>\n",
       "      <th>1</th>\n",
       "      <td>33.0</td>\n",
       "      <td>2.42</td>\n",
       "      <td>5.8564</td>\n",
       "      <td>0.0</td>\n",
       "    </tr>\n",
       "  </tbody>\n",
       "</table>\n",
       "</div>"
      ],
      "text/plain": [
       "    AGE  INCOME  INCOMESQ  OWNRENT\n",
       "0  38.0    4.52   20.4304      1.0\n",
       "1  33.0    2.42    5.8564      0.0"
      ]
     },
     "execution_count": 24,
     "metadata": {},
     "output_type": "execute_result"
    }
   ],
   "source": [
    "x_cc = df_ccard[['AGE', 'INCOME', 'INCOMESQ', 'OWNRENT']] # INCOMESQ = INCOME^2\n",
    "x_cc[:2]"
   ]
  },
  {
   "cell_type": "code",
   "execution_count": 25,
   "metadata": {
    "collapsed": false
   },
   "outputs": [
    {
     "data": {
      "image/png": "[encoded data removed]",
      "text/plain": [
       "<matplotlib.figure.Figure at 0x11f429490>"
      ]
     },
     "metadata": {},
     "output_type": "display_data"
    }
   ],
   "source": [
    "scatter_matrix(x_cc,figsize=(9, 9));"
   ]
  },
  {
   "cell_type": "code",
   "execution_count": 26,
   "metadata": {
    "collapsed": false
   },
   "outputs": [
    {
     "data": {
      "text/html": [
       "<div>\n",
       "<table border=\"1\" class=\"dataframe\">\n",
       "  <thead>\n",
       "    <tr style=\"text-align: right;\">\n",
       "      <th></th>\n",
       "      <th>const</th>\n",
       "      <th>AGE</th>\n",
       "      <th>INCOME</th>\n",
       "      <th>INCOMESQ</th>\n",
       "      <th>OWNRENT</th>\n",
       "    </tr>\n",
       "  </thead>\n",
       "  <tbody>\n",
       "    <tr>\n",
       "      <th>0</th>\n",
       "      <td>1</td>\n",
       "      <td>38.0</td>\n",
       "      <td>4.52</td>\n",
       "      <td>20.4304</td>\n",
       "      <td>1.0</td>\n",
       "    </tr>\n",
       "    <tr>\n",
       "      <th>1</th>\n",
       "      <td>1</td>\n",
       "      <td>33.0</td>\n",
       "      <td>2.42</td>\n",
       "      <td>5.8564</td>\n",
       "      <td>0.0</td>\n",
       "    </tr>\n",
       "  </tbody>\n",
       "</table>\n",
       "</div>"
      ],
      "text/plain": [
       "   const   AGE  INCOME  INCOMESQ  OWNRENT\n",
       "0      1  38.0    4.52   20.4304      1.0\n",
       "1      1  33.0    2.42    5.8564      0.0"
      ]
     },
     "execution_count": 26,
     "metadata": {},
     "output_type": "execute_result"
    }
   ],
   "source": [
    "x_cc = sm.add_constant(x_cc) # 'constant' is going to be our interseccion point of the linear equation coefficient.\n",
    "x_cc[:2]"
   ]
  },
  {
   "cell_type": "code",
   "execution_count": 27,
   "metadata": {
    "collapsed": false
   },
   "outputs": [
    {
     "name": "stdout",
     "output_type": "stream",
     "text": [
      "                            OLS Regression Results                            \n",
      "==============================================================================\n",
      "Dep. Variable:                 AVGEXP   R-squared:                       0.244\n",
      "Model:                            OLS   Adj. R-squared:                  0.198\n",
      "Method:                 Least Squares   F-statistic:                     5.394\n",
      "Date:                Thu, 28 Jul 2016   Prob (F-statistic):           0.000795\n",
      "Time:                        13:42:39   Log-Likelihood:                -506.49\n",
      "No. Observations:                  72   AIC:                             1023.\n",
      "Df Residuals:                      67   BIC:                             1034.\n",
      "Df Model:                           4                                         \n",
      "Covariance Type:            nonrobust                                         \n",
      "==============================================================================\n",
      "                 coef    std err          t      P>|t|      [95.0% Conf. Int.]\n",
      "------------------------------------------------------------------------------\n",
      "const       -237.1465    199.352     -1.190      0.238      -635.054   160.761\n",
      "AGE           -3.0818      5.515     -0.559      0.578       -14.089     7.926\n",
      "INCOME       234.3470     80.366      2.916      0.005        73.936   394.758\n",
      "INCOMESQ     -14.9968      7.469     -2.008      0.049       -29.906    -0.088\n",
      "OWNRENT       27.9409     82.922      0.337      0.737      -137.573   193.455\n",
      "==============================================================================\n",
      "Omnibus:                       69.024   Durbin-Watson:                   1.640\n",
      "Prob(Omnibus):                  0.000   Jarque-Bera (JB):              497.349\n",
      "Skew:                           2.844   Prob(JB):                    1.00e-108\n",
      "Kurtosis:                      14.551   Cond. No.                         227.\n",
      "==============================================================================\n",
      "\n",
      "Warnings:\n",
      "[1] Standard Errors assume that the covariance matrix of the errors is correctly specified.\n"
     ]
    }
   ],
   "source": [
    "model_cc = sm.OLS(y_cc, x_cc)\n",
    "fit_cc = model_cc.fit()\n",
    "print fit_cc.summary()"
   ]
  },
  {
   "cell_type": "code",
   "execution_count": 28,
   "metadata": {
    "collapsed": false
   },
   "outputs": [
    {
     "data": {
      "text/plain": [
       "0    426.542498\n",
       "1    140.445910\n",
       "2    436.888244\n",
       "3    165.805060\n",
       "dtype: float64"
      ]
     },
     "execution_count": 28,
     "metadata": {},
     "output_type": "execute_result"
    }
   ],
   "source": [
    "fit_cc.fittedvalues[:4]"
   ]
  },
  {
   "cell_type": "code",
   "execution_count": 29,
   "metadata": {
    "collapsed": false
   },
   "outputs": [
    {
     "data": {
      "text/html": [
       "<div>\n",
       "<table border=\"1\" class=\"dataframe\">\n",
       "  <thead>\n",
       "    <tr style=\"text-align: right;\">\n",
       "      <th></th>\n",
       "      <th>student_resid</th>\n",
       "      <th>unadj_p</th>\n",
       "      <th>bonf(p)</th>\n",
       "    </tr>\n",
       "  </thead>\n",
       "  <tbody>\n",
       "    <tr>\n",
       "      <th>0</th>\n",
       "      <td>-1.088985</td>\n",
       "      <td>0.280121</td>\n",
       "      <td>1.0</td>\n",
       "    </tr>\n",
       "    <tr>\n",
       "      <th>1</th>\n",
       "      <td>-0.463618</td>\n",
       "      <td>0.644447</td>\n",
       "      <td>1.0</td>\n",
       "    </tr>\n",
       "    <tr>\n",
       "      <th>2</th>\n",
       "      <td>-1.538221</td>\n",
       "      <td>0.128775</td>\n",
       "      <td>1.0</td>\n",
       "    </tr>\n",
       "    <tr>\n",
       "      <th>3</th>\n",
       "      <td>-0.098633</td>\n",
       "      <td>0.921729</td>\n",
       "      <td>1.0</td>\n",
       "    </tr>\n",
       "  </tbody>\n",
       "</table>\n",
       "</div>"
      ],
      "text/plain": [
       "   student_resid   unadj_p  bonf(p)\n",
       "0      -1.088985  0.280121      1.0\n",
       "1      -0.463618  0.644447      1.0\n",
       "2      -1.538221  0.128775      1.0\n",
       "3      -0.098633  0.921729      1.0"
      ]
     },
     "execution_count": 29,
     "metadata": {},
     "output_type": "execute_result"
    }
   ],
   "source": [
    "fit_cc.outlier_test()[:4] # ['student_resd'] -> Residuals"
   ]
  },
  {
   "cell_type": "code",
   "execution_count": 30,
   "metadata": {
    "collapsed": false
   },
   "outputs": [
    {
     "data": {
      "image/png": "[encoded data removed]",
      "text/plain": [
       "<matplotlib.figure.Figure at 0x11f479790>"
      ]
     },
     "metadata": {},
     "output_type": "display_data"
    }
   ],
   "source": [
    "plt.scatter(fit_cc.fittedvalues, fit_cc.outlier_test()['student_resid'], alpha=0.6)\n",
    "plt.hlines(0,0,700, linestyle='--', color='r')\n",
    "plt.xlim(0,700)\n",
    "plt.xlabel('predicted value')\n",
    "plt.ylabel('Residuals');"
   ]
  },
  {
   "cell_type": "code",
   "execution_count": 31,
   "metadata": {
    "collapsed": false
   },
   "outputs": [
    {
     "data": {
      "image/png": "[encoded data removed]",
      "text/plain": [
       "<matplotlib.figure.Figure at 0x11dcd4e10>"
      ]
     },
     "metadata": {},
     "output_type": "display_data"
    }
   ],
   "source": [
    "__ = sm.qqplot(fit_cc.outlier_test()['student_resid'], line='s')"
   ]
  },
  {
   "cell_type": "code",
   "execution_count": 32,
   "metadata": {
    "collapsed": false
   },
   "outputs": [
    {
     "data": {
      "text/plain": [
       "(1.3799238831599072, 0.18743313399026826, 'increasing')"
      ]
     },
     "execution_count": 32,
     "metadata": {},
     "output_type": "execute_result"
    }
   ],
   "source": [
    "HGQ().run(y_cc, x_cc) \n",
    "#'fval, pval, ordering'  ---> fpval: p-value : 0.954785080498"
   ]
  },
  {
   "cell_type": "markdown",
   "metadata": {
    "collapsed": true
   },
   "source": [
    "H0: Heteroscedasticity: we would expect p > 0.05\n",
    "\n",
    "Ha: Homoscedasticity: We would expect p < 0.05\n",
    "\n",
    "Since p = 0.1874 --> we fail to reject H0.\n",
    "\n",
    "Note: Presence of hereroscedasticity in prestige (Disperssion of the variables)\n"
   ]
  },
  {
   "cell_type": "code",
   "execution_count": 33,
   "metadata": {
    "collapsed": false
   },
   "outputs": [
    {
     "name": "stdout",
     "output_type": "stream",
     "text": [
      "+----------+---------------+\n",
      "|  Field   |      VIF      |\n",
      "+----------+---------------+\n",
      "|   AGE    | 18.8032332355 |\n",
      "|  INCOME  | 52.5775991354 |\n",
      "| INCOMESQ | 16.7513573406 |\n",
      "| OWNRENT  | 2.12057204229 |\n",
      "+----------+---------------+\n"
     ]
    }
   ],
   "source": [
    "matriz_cc = df_ccard.as_matrix(columns=['AGE', 'INCOME', 'INCOMESQ','OWNRENT'])\n",
    "\n",
    "pretty_cc = PrettyTable(['Field', 'VIF'])\n",
    "for i in xrange(matriz_cc.shape[1]):\n",
    "    pretty_cc.add_row((df_ccard.columns[i+1], VIF(matriz_cc, i)))\n",
    "\n",
    "print pretty_cc"
   ]
  },
  {
   "cell_type": "code",
   "execution_count": 34,
   "metadata": {
    "collapsed": true
   },
   "outputs": [],
   "source": [
    "y_cclog = np.log10(df_ccard['AVGEXP'])"
   ]
  },
  {
   "cell_type": "code",
   "execution_count": 35,
   "metadata": {
    "collapsed": false
   },
   "outputs": [
    {
     "data": {
      "text/plain": [
       "0    2.096841\n",
       "1    0.993436\n",
       "2    1.176091\n",
       "Name: AVGEXP, dtype: float64"
      ]
     },
     "execution_count": 35,
     "metadata": {},
     "output_type": "execute_result"
    }
   ],
   "source": [
    "y_cclog[:3]"
   ]
  },
  {
   "cell_type": "code",
   "execution_count": 36,
   "metadata": {
    "collapsed": false
   },
   "outputs": [
    {
     "name": "stdout",
     "output_type": "stream",
     "text": [
      "                            OLS Regression Results                            \n",
      "==============================================================================\n",
      "Dep. Variable:                 AVGEXP   R-squared:                       0.280\n",
      "Model:                            OLS   Adj. R-squared:                  0.237\n",
      "Method:                 Least Squares   F-statistic:                     6.501\n",
      "Date:                Thu, 28 Jul 2016   Prob (F-statistic):           0.000176\n",
      "Time:                        13:42:43   Log-Likelihood:                -38.106\n",
      "No. Observations:                  72   AIC:                             86.21\n",
      "Df Residuals:                      67   BIC:                             97.60\n",
      "Df Model:                           4                                         \n",
      "Covariance Type:            nonrobust                                         \n",
      "==============================================================================\n",
      "                 coef    std err          t      P>|t|      [95.0% Conf. Int.]\n",
      "------------------------------------------------------------------------------\n",
      "const          1.5896      0.298      5.332      0.000         0.995     2.185\n",
      "AGE           -0.0105      0.008     -1.279      0.205        -0.027     0.006\n",
      "INCOME         0.3362      0.120      2.797      0.007         0.096     0.576\n",
      "INCOMESQ      -0.0203      0.011     -1.814      0.074        -0.043     0.002\n",
      "OWNRENT        0.1458      0.124      1.176      0.244        -0.102     0.393\n",
      "==============================================================================\n",
      "Omnibus:                        6.271   Durbin-Watson:                   1.901\n",
      "Prob(Omnibus):                  0.043   Jarque-Bera (JB):                5.592\n",
      "Skew:                          -0.546   Prob(JB):                       0.0611\n",
      "Kurtosis:                       3.819   Cond. No.                         227.\n",
      "==============================================================================\n",
      "\n",
      "Warnings:\n",
      "[1] Standard Errors assume that the covariance matrix of the errors is correctly specified.\n"
     ]
    }
   ],
   "source": [
    "model_cclog = sm.OLS(y_cclog, x_cc)\n",
    "fit_cclog = model_cclog.fit()\n",
    "print fit_cclog.summary()"
   ]
  },
  {
   "cell_type": "code",
   "execution_count": 37,
   "metadata": {
    "collapsed": false
   },
   "outputs": [
    {
     "data": {
      "text/plain": [
       "accountant    0.304466\n",
       "pilot         0.341456\n",
       "architect     0.072269\n",
       "Name: student_resid, dtype: float64"
      ]
     },
     "execution_count": 37,
     "metadata": {},
     "output_type": "execute_result"
    }
   ],
   "source": [
    "residuals = fit.outlier_test()['student_resid']\n",
    "residuals[:3]"
   ]
  },
  {
   "cell_type": "code",
   "execution_count": 38,
   "metadata": {
    "collapsed": true
   },
   "outputs": [],
   "source": [
    "trace0 = Scatter(\n",
    "    x = y_hat_prestige, \n",
    "    y = residuals, \n",
    "    mode = 'markers'\n",
    ")"
   ]
  },
  {
   "cell_type": "code",
   "execution_count": 39,
   "metadata": {
    "collapsed": false
   },
   "outputs": [],
   "source": [
    "prestige_data = [trace0]"
   ]
  },
  {
   "cell_type": "code",
   "execution_count": 40,
   "metadata": {
    "collapsed": true
   },
   "outputs": [],
   "source": [
    "\n",
    "# layout = dict(title = 'Fitted Values',\n",
    "#               yaxis = dict(zeroline = True),\n",
    "#               xaxis = dict(zeroline = True)\n",
    "#              )\n",
    "# py.iplot(prestige_data)"
   ]
  },
  {
   "cell_type": "code",
   "execution_count": 41,
   "metadata": {
    "collapsed": false
   },
   "outputs": [],
   "source": [
    "layout= dict(\n",
    "    title= 'Prestige',\n",
    "    hovermode= 'closest',\n",
    "    xaxis= dict(\n",
    "        title= 'Fitted Values',\n",
    "        ticklen= 5,\n",
    "        zeroline= True,\n",
    "        gridwidth= 2,\n",
    "    ),\n",
    "    yaxis=dict(\n",
    "        title= 'Residuals',\n",
    "        ticklen= 5,\n",
    "        gridwidth= 2,\n",
    "        zeroline= True,\n",
    "    ),\n",
    "    showlegend= False\n",
    ")"
   ]
  },
  {
   "cell_type": "code",
   "execution_count": 42,
   "metadata": {
    "collapsed": false
   },
   "outputs": [
    {
     "data": {
      "text/html": [
       "<iframe id=\"igraph\" scrolling=\"no\" style=\"border:none;\" seamless=\"seamless\" src=\"https://plot.ly/~elra/6.embed\" height=\"525px\" width=\"100%\"></iframe>"
      ],
      "text/plain": [
       "<plotly.tools.PlotlyDisplay object>"
      ]
     },
     "execution_count": 42,
     "metadata": {},
     "output_type": "execute_result"
    }
   ],
   "source": [
    "fig = dict(data=prestige_data, layout=layout)\n",
    "py.iplot(fig, filename='13_Linear_Regression')"
   ]
  },
  {
   "cell_type": "code",
   "execution_count": null,
   "metadata": {
    "collapsed": true
   },
   "outputs": [],
   "source": []
  },
  {
   "cell_type": "code",
   "execution_count": 43,
   "metadata": {
    "collapsed": false
   },
   "outputs": [],
   "source": [
    "trace1 = Scatter(\n",
    " \n",
    "    x = df['education'],\n",
    "    y = residuals,\n",
    "    mode = 'markers'\n",
    ")\n",
    "\n",
    "prestige_data1 = [trace1]\n",
    "\n"
   ]
  },
  {
   "cell_type": "code",
   "execution_count": 44,
   "metadata": {
    "collapsed": true
   },
   "outputs": [],
   "source": [
    "\n",
    "layout1 = dict(\n",
    "    title= 'Prestige',\n",
    "    hovermode='closest',\n",
    "    xaxis = dict(\n",
    "        title = 'Education',\n",
    "        ticklen = 5,\n",
    "        zeroline= True,\n",
    "    ),\n",
    "    yaxis=dict(\n",
    "        title = 'Residuals',\n",
    "        ticklen = 5,\n",
    "        zeroline= True,\n",
    "    ),\n",
    "    showlegend=False\n",
    ")\n"
   ]
  },
  {
   "cell_type": "code",
   "execution_count": 45,
   "metadata": {
    "collapsed": false
   },
   "outputs": [
    {
     "data": {
      "text/html": [
       "<iframe id=\"igraph\" scrolling=\"no\" style=\"border:none;\" seamless=\"seamless\" src=\"https://plot.ly/~elra/10.embed\" height=\"525px\" width=\"100%\"></iframe>"
      ],
      "text/plain": [
       "<plotly.tools.PlotlyDisplay object>"
      ]
     },
     "execution_count": 45,
     "metadata": {},
     "output_type": "execute_result"
    }
   ],
   "source": [
    "\n",
    "fig1 = dict(data=prestige_data1, layout=layout1)\n",
    "py.iplot(fig1, filename='13_linear_regression_1')\n",
    "\n",
    "\n"
   ]
  },
  {
   "cell_type": "code",
   "execution_count": 46,
   "metadata": {
    "collapsed": true
   },
   "outputs": [],
   "source": [
    "trace2 = Scatter(\n",
    "    x = df['income'],\n",
    "    y = residuals,\n",
    "    mode = 'markers'\n",
    ")\n",
    "\n",
    "prestige_data2 = [trace2]"
   ]
  },
  {
   "cell_type": "code",
   "execution_count": 47,
   "metadata": {
    "collapsed": true
   },
   "outputs": [],
   "source": [
    "layout2 = dict(\n",
    "    title = 'Prestige',\n",
    "    hovermode = 'closest',\n",
    "    xaxis = dict(\n",
    "        title = 'Income',\n",
    "        ticklen = 5,\n",
    "        zeroline = True,\n",
    "    ),\n",
    "    yaxis = dict(\n",
    "        title='Residuals',\n",
    "        ticklen = 5,\n",
    "        zeroline = True,\n",
    "    ),\n",
    "    showlegend = False\n",
    ")"
   ]
  },
  {
   "cell_type": "code",
   "execution_count": 48,
   "metadata": {
    "collapsed": true
   },
   "outputs": [],
   "source": [
    "fig2 = dict(data=prestige_data2, layout=layout2)"
   ]
  },
  {
   "cell_type": "code",
   "execution_count": 49,
   "metadata": {
    "collapsed": false
   },
   "outputs": [
    {
     "data": {
      "text/html": [
       "<iframe id=\"igraph\" scrolling=\"no\" style=\"border:none;\" seamless=\"seamless\" src=\"https://plot.ly/~elra/12.embed\" height=\"525px\" width=\"100%\"></iframe>"
      ],
      "text/plain": [
       "<plotly.tools.PlotlyDisplay object>"
      ]
     },
     "execution_count": 49,
     "metadata": {},
     "output_type": "execute_result"
    }
   ],
   "source": [
    "\n",
    "py.iplot(fig2, filename='13_linear_regression_2')"
   ]
  },
  {
   "cell_type": "markdown",
   "metadata": {
    "collapsed": true
   },
   "source": [
    "I may be especially interested in influential outliers that skew the model significantly (i.e. the model (betas) changes drastically upon removal of these points). The influence plot is a wonderful graph to identify the outliers with high influence (high leverage, https://en.wikipedia.org/wiki/Leverage_%28statistics%29)"
   ]
  },
  {
   "cell_type": "code",
   "execution_count": 50,
   "metadata": {
    "collapsed": false
   },
   "outputs": [
    {
     "data": {
      "image/png": "[encoded data removed]",
      "text/plain": [
       "<matplotlib.figure.Figure at 0x11d4b5550>"
      ]
     },
     "metadata": {},
     "output_type": "display_data"
    }
   ],
   "source": [
    "fig, ax = plt.subplots(figsize=(12,8))\n",
    "fig = sm.graphics.influence_plot(fit, ax=ax, criterion='cooks')"
   ]
  },
  {
   "cell_type": "markdown",
   "metadata": {
    "collapsed": true
   },
   "source": [
    "I need to be very careful to delete outliers. I would prefer to investigate and valorate if they are due to a special cause, and therefore confirm that removing them would be a benefit for my model."
   ]
  },
  {
   "cell_type": "code",
   "execution_count": 51,
   "metadata": {
    "collapsed": false
   },
   "outputs": [
    {
     "data": {
      "text/html": [
       "<div>\n",
       "<table border=\"1\" class=\"dataframe\">\n",
       "  <thead>\n",
       "    <tr style=\"text-align: right;\">\n",
       "      <th></th>\n",
       "      <th>type</th>\n",
       "      <th>income</th>\n",
       "      <th>education</th>\n",
       "      <th>prestige</th>\n",
       "    </tr>\n",
       "  </thead>\n",
       "  <tbody>\n",
       "    <tr>\n",
       "      <th>minister</th>\n",
       "      <td>prof</td>\n",
       "      <td>21</td>\n",
       "      <td>84</td>\n",
       "      <td>87</td>\n",
       "    </tr>\n",
       "    <tr>\n",
       "      <th>welfare.worker</th>\n",
       "      <td>prof</td>\n",
       "      <td>41</td>\n",
       "      <td>84</td>\n",
       "      <td>59</td>\n",
       "    </tr>\n",
       "    <tr>\n",
       "      <th>carpenter</th>\n",
       "      <td>bc</td>\n",
       "      <td>21</td>\n",
       "      <td>23</td>\n",
       "      <td>33</td>\n",
       "    </tr>\n",
       "    <tr>\n",
       "      <th>truck.driver</th>\n",
       "      <td>bc</td>\n",
       "      <td>21</td>\n",
       "      <td>15</td>\n",
       "      <td>13</td>\n",
       "    </tr>\n",
       "    <tr>\n",
       "      <th>machine.operator</th>\n",
       "      <td>bc</td>\n",
       "      <td>21</td>\n",
       "      <td>20</td>\n",
       "      <td>24</td>\n",
       "    </tr>\n",
       "  </tbody>\n",
       "</table>\n",
       "</div>"
      ],
      "text/plain": [
       "                  type  income  education  prestige\n",
       "minister          prof      21         84        87\n",
       "welfare.worker    prof      41         84        59\n",
       "carpenter           bc      21         23        33\n",
       "truck.driver        bc      21         15        13\n",
       "machine.operator    bc      21         20        24"
      ]
     },
     "execution_count": 51,
     "metadata": {},
     "output_type": "execute_result"
    }
   ],
   "source": [
    "df[(df.education==84)|(df.income==21)]"
   ]
  },
  {
   "cell_type": "markdown",
   "metadata": {
    "collapsed": true
   },
   "source": [
    "The largest outlier was the minister, whose prestige seems only to depend on the education and not the income, whereas most other professions' prestige was a combination of the two."
   ]
  },
  {
   "cell_type": "code",
   "execution_count": null,
   "metadata": {
    "collapsed": true
   },
   "outputs": [],
   "source": []
  }
 ],
 "metadata": {
  "kernelspec": {
   "display_name": "Python 2",
   "language": "python",
   "name": "python2"
  },
  "language_info": {
   "codemirror_mode": {
    "name": "ipython",
    "version": 2
   },
   "file_extension": ".py",
   "mimetype": "text/x-python",
   "name": "python",
   "nbconvert_exporter": "python",
   "pygments_lexer": "ipython2",
   "version": "2.7.11"
  }
 },
 "nbformat": 4,
 "nbformat_minor": 0
}
