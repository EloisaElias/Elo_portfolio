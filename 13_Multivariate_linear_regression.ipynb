{
 "cells": [
  {
   "cell_type": "markdown",
   "metadata": {},
   "source": [
    "## Regression\n",
    "---\n",
    "**Elo notes**"
   ]
  },
  {
   "cell_type": "markdown",
   "metadata": {},
   "source": [
    "[Multivariate statistics](https://en.wikipedia.org/wiki/Multivariate_statistics)\n",
    "\n",
    "[Multivariate analysis](https://en.wikipedia.org/wiki/Multivariate_analysis)\n",
    "\n",
    "[Multiple linear regression](https://en.wikipedia.org/wiki/Regression_analysis#General_linear_model)\n",
    "\n",
    "The hypothesis to be tested is that the variances of the errors of the regression model are not constant, but instead are monotonically related to a pre-identified explanatory variable. \n",
    "\n",
    "[Monotonic relationships are where:](http://www.statisticshowto.com/monotonic-relationship/)\n",
    "\n",
    "   - One variable increases and the other increases. Or,\n",
    "   - One variable decreases and the other decreases.\n",
    "\n",
    "This increase (or decrease) doesn’t have to happen at the same rate.  Linear relationships are monotonic, but not all monotonic relationships are linear.\n",
    "\n",
    "For example, data on income and consumption may be gathered and consumption regressed against income. If the **variance** increases as levels of income increase, then income may be used as an explanatory variable. Otherwise some third variable (e.g. wealth or last period income) may be chosen.\n",
    "\n"
   ]
  },
  {
   "cell_type": "markdown",
   "metadata": {},
   "source": [
    "### Assumptions\n",
    "\n",
    "#### 1. [Homoscedasticity](https://en.wikipedia.org/wiki/Homoscedasticity) of residuals\n",
    "     \n",
    "In statistics, a sequence or a vector of **random variables** is homoscedastic if all random variables in the sequence or vector have the same finite variance. This is also known as [homogeneity of variance.](https://stats.stackexchange.com/questions/52089/what-does-having-constant-variance-in-a-linear-regression-model-mean)\n",
    "     \n",
    "Homoscedastic distributions are especially useful to derive statistical pattern recognition and machine learning algorithms. \n",
    "\n",
    "[The residual is the error that is not explained by the regression equation](https://en.wikipedia.org/wiki/Residual_sum_of_squares) \n",
    "\n",
    "It is a measure of the discrepancy between the data and an estimation model\n",
    "\n",
    "A small RSS indicates a tight fit of the model to the data. It is used as an optimality criterion in parameter selection and model selection.\n",
    "\n",
    "In a model with a single explanatory variable, RSS is given by:\n",
    "\n",
    "$ {\\displaystyle RSS=\\sum _{i=1}^{n}(y_{i}-f(x_{i}))^{2}} $\n",
    "\n",
    "\n",
    "${\\displaystyle RSS=\\sum _{i=1}^{n}(\\varepsilon _{i})^{2}=\\sum _{i=1}^{n}(y_{i}-(\\alpha +\\beta x_{i}))^{2}} $\n",
    "\n",
    "\n",
    "Here are six residual plots and their interpretations:\n",
    "http://condor.depaul.edu/sjost/it223/documents/regress.htm\n"
   ]
  },
  {
   "cell_type": "markdown",
   "metadata": {},
   "source": [
    "#### 2. [Normal distribution of residuals](https://onlinecourses.science.psu.edu/stat501/node/281)\n",
    "\n",
    "Normality of the error distribution. \n",
    "\n",
    "If you are using regression analysis to generate predictions. Prediction intervals are calculated based on the assumption that the residuals are normally distributed. If the residuals are non-normal, the prediction intervals may be inaccurate.\n"
   ]
  },
  {
   "cell_type": "markdown",
   "metadata": {},
   "source": [
    "#### 3. [Avoiding multicollinearity among features](https://en.wikipedia.org/wiki/Multicollinearity)\n",
    "\n",
    "Correlation among independent variables\n",
    "\n",
    "Multicollinearity (also collinearity) is a phenomenon in which two or more predictor variables in a multiple regression model are highly correlated, meaning that one can be linearly predicted from the others with a substantial degree of accuracy. \n",
    "\n",
    "Multicollinearity does not reduce the predictive power or reliability of the model as a whole, at least within the sample data set; it only affects calculations regarding individual predictors. That is, a multiple regression model with correlated predictors can indicate how well the entire bundle of predictors predicts the outcome variable, but it may not give valid results about any individual predictor, or about which predictors are **redundant with respect to others.**\n",
    "    \n",
    "Adding more independent variables to a multiple regression procedure does not mean the regression will be 'better' or offer better predictions; in fact it can make things worse. This is called **OVERFITTING.**\n",
    "    \n",
    "The addition of more independent variables creates more relationships among them. So not only are the independent variables potentially related to the dependent variable, they are also potentially related to the dependent variable, they are also potentially related to each other. When this happens, it is called **MULTICOLLINEARITY.**\n",
    "    \n",
    "**The idea is for all the independent variables to be correlated with the dependent variable but NOT with each other.**\n",
    "\n",
    "##### [Variance Inflation Factor](https://en.wikipedia.org/wiki/Variance_inflation_factor)\n",
    "\n",
    "\n",
    "Analyze the magnitude of multicollinearity by considering the size of the ${\\displaystyle \\operatorname {VIF} ({\\hat {\\beta }}_{i})}$. \n",
    "\n",
    "**A rule of thumb is that if ${\\displaystyle \\operatorname {VIF} ({\\hat {\\beta }}_{i})>10}$ then multicollinearity is high** (a cutoff of 5 is also commonly used).\n",
    "\n",
    "Some software instead calculates the tolerance which is just the reciprocal of the VIF. The choice of which to use is a matter of personal preference.\n",
    "    \n",
    "[**Endogenous variables**](http://www.statisticshowto.com/endogenous-variable/) are used in econometrics and sometimes in linear regression. They are similar to (but not exactly the same as) dependent variables. Endogenous variables have values that are determined by other variables in the system (these “other” variables are called **exogenous variables**)."
   ]
  },
  {
   "cell_type": "markdown",
   "metadata": {},
   "source": [
    "#### 4. [Independence of the observations](http://www.statisticshowto.com/assumption-of-independence/) \n",
    "\n",
    "Checking for Independence\n",
    "\n",
    "Independence assumptions are usually formulated in terms of error terms rather than in terms of the outcome variables. \n",
    "\n",
    "For example, in simple linear regression, the model equation is:\n",
    "\n",
    "$ {\\displaystyle y_{i}=a+bx_{i}+\\varepsilon _{i}\\,}$\n",
    "\n",
    "where a and b are coefficients, y and x are the regressand and the regressor, respectively, and ε is the error term\n",
    "    \n",
    "Where Y is the outcome (response) variable and $ε$ denotes the error term (also a random variable). \n",
    "\n",
    "It is the error terms($\\varepsilon _{i}$) that are assumed to be independent, not the values of the response variable.\n",
    "\n",
    "The sum of squares of residuals is the sum of squares of estimates of $ε_i$; that is\n",
    "\n",
    "${\\displaystyle RSS=\\sum _{i=1}^{n}(\\varepsilon _{i})^{2}=\\sum _{i=1}^{n}(y_{i}-(\\alpha +\\beta x_{i}))^{2}} $\n",
    "\n",
    "We do not know the values of the error terms $\\varepsilon _{i}$, so we can only plot the residuals $e_i$ (defined as the observed value $y_i$ minus the fitted value, according to the model), which approximate the error terms.\n",
    "\n",
    "Rule of Thumb: To check independence, plot residuals against any time variables present (e.g., order of observation), any spatial variables present, and any variables used in the technique (e.g., factors, regressors). A pattern that is not random suggests lack of independence.\n",
    "\n",
    "Since the results of the regression model depend on these statistical assumptions, the results of the regression model are only correct if our assumptions hold (at least approximately).\n",
    "\n",
    "[Link to violations, How to diagnose and How to fix](http://people.duke.edu/~rnau/testing.htm)\n",
    "\n",
    "Because of **multicollinearity** and **overfitting**, there is a fair amount of prep-work to do BEFORE conducting multiple regression analysis.\n"
   ]
  },
  {
   "cell_type": "markdown",
   "metadata": {},
   "source": [
    "#### [Goldfeld–Quandt test](https://en.wikipedia.org/wiki/Goldfeld%E2%80%93Quandt_test)\n",
    "\n",
    "\n",
    "#### [class statsmodels.stats.diagnostic.HetGoldfeldQuandt](http://www.statsmodels.org/dev/generated/statsmodels.stats.diagnostic.HetGoldfeldQuandt.html) \n",
    "\n",
    "Test whether variance is the same in 2 subsamples. Results are identical R, but the drop option is defined differently. \n"
   ]
  },
  {
   "cell_type": "markdown",
   "metadata": {},
   "source": [
    "### [Scaling](https://en.wikipedia.org/wiki/Feature_scaling)\n",
    "\n",
    "Feature scaling or data normalization  is a method used to standardize the range of independent variables or features of data. \n",
    "\n",
    "In some machine learning algorithms, objective functions will not work properly without normalization. For example, the majority of classifiers calculate the distance between two points by the Euclidean distance. If one of the features has a broad range of values, the distance will be governed by this particular feature. Therefore, the range of all features should be normalized so that each feature contributes approximately proportionately to the final distance. \n",
    "\n",
    "Another reason why feature scaling is applied is that gradient descent converges much faster with feature scaling than without it\n",
    "\n",
    "#### Mean normalization\n",
    "\n",
    "${\\displaystyle x'={\\frac {x-{\\text{average}}(x)}{{\\text{max}}(x)-{\\text{min}}(x)}}} $\n",
    "\n",
    "#### Standardization\n",
    "\n",
    "$x' = \\frac{x - \\bar{x}}{\\sigma}$\n",
    "\n",
    "In machine learning, we can handle various types of data, e.g. audio signals and pixel values for image data, and this data can include multiple dimensions. Feature standardization makes the values of each feature in the data have zero-mean (when subtracting the mean in the numerator) and unit-variance. \n",
    "\n",
    "This method is widely used for normalization in many machine learning algorithms (e.g., support vector machines, logistic regression, and artificial neural networks)\n",
    "\n",
    "#### Scaling to unit length\n",
    "\n",
    "Scale the components of a feature vector such that the complete vector has length one.\n",
    "\n",
    "${\\displaystyle x'={\\frac {x}{||x||}}}$\n",
    "\n",
    "\n",
    "### [IMPORTANT! Errors and residuals](https://en.wikipedia.org/wiki/Errors_and_residuals)\n",
    "\n",
    "**In statistics and optimization, errors and residuals are two closely related and easily confused measures of the deviation of an observed value of an element of a statistical sample from its \"theoretical value\".**\n",
    "\n",
    "One can **standardize statistical errors** (especially of a normal distribution) in a **z-score** (or \"standard score\"), and **standardize residuals in a t-statistic**, or more generally **studentized residuals.** \n",
    "\n",
    "**Important:** \n",
    "\n",
    "The **error ( $\\boldsymbol \\varepsilon$ or disturbance)** of **an observed value** is the deviation of the observed value from the **(unobservable) TRUE VALUE** of a quantity of interest (for example, a **Population Mean**), \n",
    "\n",
    "and the **residual** of **an observed value** is the difference between the observed value and the **ESTIMATED VALUE** of the quantity of interest (for example, a **Sample Mean**). \n",
    "\n",
    "The distinction is most important in regression analysis, where the concepts are sometimes called the regression errors and regression residuals and where they lead to the concept of studentized residuals. \n",
    "\n",
    "The expected value, being the mean of the entire population, is typically **unobservable, and hence the statistical error cannot be observed either.**\n",
    "\n",
    "A residual (or fitting deviation), on the other hand, is an **observable estimate of the un observable statistical error.** The sample mean could serve as a good **estimator of the population mean.**\n",
    "\n",
    "Suppose there is a series of observations from a univariate distribution and we want to estimate the mean of that distribution (the so-called location model). In this case, the errors are the deviations of the observations from the population mean, while the residuals are the deviations of the observations from the sample mean.\n",
    "\n",
    "For example, if the mean height in a **population** of 21-year-old men is 1.75 meters, and one randomly chosen man is 1.80 meters tall, then the \"error\" is 0.05 meters; if the randomly chosen man is 1.70 meters tall, then the \"error\" is −0.05 meters. The expected value, being the mean of the entire population, is typically **unobservable, and hence the statistical error cannot be observed either.**\n",
    "\n",
    "- The difference between the height of each man in the sample and the **unobservable population mean is a statistical error**, whereas\n",
    "\n",
    "- The difference between the height of each man in the sample and the **observable sample mean is a residual.**\n",
    "\n",
    "Note that, because of the definition of the sample mean, the sum of the residuals within a random sample is necessarily zero, and thus the residuals are necessarily not independent. The statistical errors, on the other hand, are independent, and their sum within the random sample is almost surely not zero. \n"
   ]
  },
  {
   "cell_type": "markdown",
   "metadata": {},
   "source": [
    "---\n",
    "#### [Ordinary Least Squares (OLS)](https://en.wikipedia.org/wiki/Ordinary_least_squares)\n",
    "\n",
    "**Ordinary least squares (OLS)** or **linear least squares** is a **method for estimating the unknown parameters in a linear regression model**.\n",
    "\n",
    "OLS has the goal of minimizing the sum of the squares of the differences between **the observed responses** in the given dataset and those **predicted by a linear function** of a **set of explanatory variables** (visually this is seen as the sum of the vertical distances between each data point in the set and the corresponding point on the regression line – the smaller the differences, the better the model fits the data). \n",
    "\n",
    "The OLS [**estimator**](https://en.wikipedia.org/wiki/Estimator) is [**consistent**](https://en.wikipedia.org/wiki/Consistent_estimator) when the regressors are exogenous(an exogenous variable is independent of the random error term in the linear model.), and optimal in the class of linear unbiased estimators when the errors are homoscedastic and serially uncorrelated.\n",
    "\n",
    "Under the additional assumption that the errors be normally distributed, OLS is the maximum likelihood estimator. \n",
    "\n",
    "OLS is used in fields as diverse as economics (econometrics) and electrical engineering (control theory and signal processing).\n",
    "\n",
    "\n",
    "$$y_{i}=\\hat{y}=\\beta _{1}x_{i1}+\\cdots +\\beta _{p}x_{ip}+\\varepsilon _{i},\\qquad i=1,\\ldots ,n,$$\n",
    "\n",
    "the linear model in **vector** form we need to transponse the **X** matrix\n",
    "\n",
    "$$y_{i}=\\hat{y}=\\mathbf {x} _{i}^{\\rm {T}}{\\boldsymbol {\\beta }}+\\varepsilon _{i},\\qquad$$\n",
    "\n",
    "where **T** denotes the transpose of the **vector** of values of $\\boldsymbol {p}$ predictor \n",
    "\n",
    "**$\\boldsymbol {x_{ij}}$ for j = 1, ...p,** \n",
    "\n",
    "so that \n",
    "\n",
    "$\\boldsymbol {x_i^T\\beta}$ is the inner product between vectors $\\boldsymbol {x_{ij}}$ ( **n x ** $\\boldsymbol p$ matrix ) and $\\boldsymbol {\\beta}$ ( **p** x $\\boldsymbol {1}$ vector of unknown parameter)\n",
    "\n",
    "model in matrix notation\n",
    "\n",
    "$\\mathbf {y} =\\mathbf {X} {\\boldsymbol {\\beta }}+{\\boldsymbol {\\varepsilon }},\\,$\n",
    "\n",
    "where\n",
    "\n",
    " $\\mathbf{y} = \\begin{pmatrix} y_1 \\\\ y_2 \\\\ \\vdots \\\\ y_n \\end{pmatrix}, \\quad$\n",
    " \n",
    " $\\mathbf{X} = \\begin{pmatrix} \\mathbf{x}^{\\rm T}_1 \\\\ \\mathbf{x}^{\\rm T}_2 \\\\ \\vdots \\\\ \\mathbf{x}^{\\rm T}_n \\end{pmatrix}\n",
    " = \\begin{pmatrix} x_{11} & \\cdots & x_{1p} \\\\\n",
    " x_{21} & \\cdots & x_{2p} \\\\\n",
    " \\vdots & \\ddots & \\vdots \\\\\n",
    " x_{n1} & \\cdots & x_{np}\n",
    " \\end{pmatrix}, $\n",
    " \n",
    " \n",
    " $\\boldsymbol\\beta = \\begin{pmatrix} \\beta_1 \\\\ \\beta_2 \\\\ \\vdots \\\\ \\beta_p \\end{pmatrix}, \\quad\n",
    " \\boldsymbol\\varepsilon = \\begin{pmatrix} \\varepsilon_1 \\\\ \\varepsilon_2 \\\\ \\vdots \\\\ \\varepsilon_n \\end{pmatrix}.$\n",
    " \n",
    " \n",
    " Note: [Matrix multiplication](https://en.wikipedia.org/wiki/Matrix_multiplication): If **X** is an **n x ** $\\boldsymbol {p}$ ** matrix** and **$\\boldsymbol {\\beta}$** is an $\\boldsymbol {p}$ ** x 1 matrix**\n"
   ]
  },
  {
   "cell_type": "markdown",
   "metadata": {},
   "source": [
    "#### [Linear Least Square](https://en.wikipedia.org/wiki/Least_squares)\n",
    "\n",
    "$\\min \\sum_i (y_i - \\hat{Y_i})^2=\\sum_i e_i^2\\ $ \n",
    "\n",
    "\n",
    "where:\n",
    "\n",
    "$ SS_\\text{res}=\\sum_i (y_i - \\hat{Y_i})^2=\\sum_i e_i^2\\ $  The sum of squares of residuals, also called the residual sum of squares\n",
    "\n",
    "A justification for choosing this criterion is given in properties below. This minimization problem has a unique solution, provided that the n columns of the matrix $\\mathbf {X}$ are linearly independent, given by solving the normal equations\n",
    "\n",
    "$(\\mathbf {X} ^{\\rm {T}}\\mathbf {X} ){\\hat {\\boldsymbol {\\beta }}}=\\mathbf {X} ^{\\rm {T}}\\mathbf {y} .$\n",
    "\n",
    "The matrix $ \\mathbf {X} ^{\\rm {T}}\\mathbf {X}$ is known as the Gramian matrix of $\\mathbf {X} $, which possesses several nice properties such as being a positive semi-definite matrix, and the matrix $ {\\displaystyle \\mathbf {X} ^{\\rm {T}}\\mathbf {y} }$ is known as the moment matrix of regressand by regressors.\n",
    "\n",
    "Finally, ${\\hat {\\boldsymbol {\\beta }}}$ is the coefficient vector of the least-squares hyperplane, expressed as\n",
    "\n",
    "${\\displaystyle {\\hat {\\boldsymbol {\\beta }}}=(\\mathbf {X} ^{\\rm {T}}\\mathbf {X} )^{-1}\\mathbf {X} ^{\\rm {T}}\\mathbf {y} .}$\n",
    "\n",
    "#### ${\\beta}$ matrix form\n",
    "\n",
    "$$\\hat{\\boldsymbol\\beta} = (\\mathbf{X}^{\\rm T}\\mathbf{X})^{-1} \\mathbf{X}^{\\rm T}\\mathbf{y}$$\n",
    "\n",
    "The matrix $ {\\displaystyle (X^{T}X)^{-1}X^{T}}$ is called the [pseudoinverse matrix of $X$](https://en.wikipedia.org/wiki/Moore%E2%80%93Penrose_inverse). This formulation highlights the point that estimation can be carried out if, and only if, there is no perfect multicollinearity between the explanatory variables. \n",
    "\n",
    "Note: Connection to [MLE - Continuous distribution, continuous parameter space](https://en.wikipedia.org/wiki/Maximum_likelihood_estimation)\n"
   ]
  },
  {
   "cell_type": "markdown",
   "metadata": {},
   "source": []
  },
  {
   "cell_type": "markdown",
   "metadata": {},
   "source": [
    "#### Helpful links\n",
    "\n",
    "[Homoscedasticity](http://stats.stackexchange.com/questions/52089/what-does-having-constant-variance-in-a-linear-regression-model-mean)\n",
    "\n",
    "[Normality Plot (Q-Q Plot)](https://en.wikipedia.org/wiki/Q%E2%80%93Q_plot)\n",
    "\n",
    "[StatsModels Datasets](http://www.statsmodels.org/dev/datasets/index.html)\n",
    "\n",
    "[Rdatasets](http://vincentarelbundock.github.io/Rdatasets/)\n",
    "\n",
    "[Duncan's Occupational Prestige Data](https://www.statsmodels.org/stable/datasets/index.html?highlight=duncan)\n",
    "\n",
    "\n",
    "[DASL datasets](http://lib.stat.cmu.edu/DASL/DataArchive.html)\n",
    "\n",
    "[DASL datasets - Stories](lib.stat.cmu.edu/DASL/Stories/AlcoholandTobacco.html)\n",
    "\n",
    "[Beautiful blog abour Linear Regression](http://connor-johnson.com/2014/02/18/linear-regression-with-python/)\n"
   ]
  },
  {
   "cell_type": "code",
   "execution_count": 9,
   "metadata": {
    "collapsed": true
   },
   "outputs": [],
   "source": [
    "from __future__ import division\n",
    "\n",
    "from pandas.tools.plotting import scatter_matrix\n",
    "from statsmodels.stats.diagnostic import HetGoldfeldQuandt as hetgq\n",
    "from statsmodels.stats.outliers_influence import variance_inflation_factor as VIF\n",
    "\n",
    "from prettytable import PrettyTable\n",
    "\n",
    "import statsmodels.api as sm\n",
    "import matplotlib.pyplot as plt\n",
    "\n",
    "%matplotlib inline"
   ]
  },
  {
   "cell_type": "code",
   "execution_count": 10,
   "metadata": {
    "collapsed": false
   },
   "outputs": [],
   "source": [
    "# plt.style.available"
   ]
  },
  {
   "cell_type": "code",
   "execution_count": 11,
   "metadata": {
    "collapsed": false
   },
   "outputs": [],
   "source": [
    "plt.style.use('seaborn-muted')"
   ]
  },
  {
   "cell_type": "code",
   "execution_count": 12,
   "metadata": {
    "collapsed": false
   },
   "outputs": [],
   "source": [
    "df = sm.datasets.get_rdataset(\"Duncan\", \"car\", cache=True).data"
   ]
  },
  {
   "cell_type": "code",
   "execution_count": 13,
   "metadata": {
    "collapsed": false
   },
   "outputs": [
    {
     "data": {
      "text/html": [
       "<div>\n",
       "<table border=\"1\" class=\"dataframe\">\n",
       "  <thead>\n",
       "    <tr style=\"text-align: right;\">\n",
       "      <th></th>\n",
       "      <th>type</th>\n",
       "      <th>income</th>\n",
       "      <th>education</th>\n",
       "      <th>prestige</th>\n",
       "    </tr>\n",
       "  </thead>\n",
       "  <tbody>\n",
       "    <tr>\n",
       "      <th>accountant</th>\n",
       "      <td>prof</td>\n",
       "      <td>62</td>\n",
       "      <td>86</td>\n",
       "      <td>82</td>\n",
       "    </tr>\n",
       "    <tr>\n",
       "      <th>pilot</th>\n",
       "      <td>prof</td>\n",
       "      <td>72</td>\n",
       "      <td>76</td>\n",
       "      <td>83</td>\n",
       "    </tr>\n",
       "  </tbody>\n",
       "</table>\n",
       "</div>"
      ],
      "text/plain": [
       "            type  income  education  prestige\n",
       "accountant  prof      62         86        82\n",
       "pilot       prof      72         76        83"
      ]
     },
     "execution_count": 13,
     "metadata": {},
     "output_type": "execute_result"
    }
   ],
   "source": [
    "df[:2]"
   ]
  },
  {
   "cell_type": "code",
   "execution_count": 14,
   "metadata": {
    "collapsed": false
   },
   "outputs": [
    {
     "data": {
      "text/html": [
       "<div>\n",
       "<table border=\"1\" class=\"dataframe\">\n",
       "  <thead>\n",
       "    <tr style=\"text-align: right;\">\n",
       "      <th></th>\n",
       "      <th>income</th>\n",
       "      <th>education</th>\n",
       "      <th>prestige</th>\n",
       "    </tr>\n",
       "    <tr>\n",
       "      <th>type</th>\n",
       "      <th></th>\n",
       "      <th></th>\n",
       "      <th></th>\n",
       "    </tr>\n",
       "  </thead>\n",
       "  <tbody>\n",
       "    <tr>\n",
       "      <th>bc</th>\n",
       "      <td>21</td>\n",
       "      <td>21</td>\n",
       "      <td>21</td>\n",
       "    </tr>\n",
       "    <tr>\n",
       "      <th>prof</th>\n",
       "      <td>18</td>\n",
       "      <td>18</td>\n",
       "      <td>18</td>\n",
       "    </tr>\n",
       "    <tr>\n",
       "      <th>wc</th>\n",
       "      <td>6</td>\n",
       "      <td>6</td>\n",
       "      <td>6</td>\n",
       "    </tr>\n",
       "  </tbody>\n",
       "</table>\n",
       "</div>"
      ],
      "text/plain": [
       "      income  education  prestige\n",
       "type                             \n",
       "bc        21         21        21\n",
       "prof      18         18        18\n",
       "wc         6          6         6"
      ]
     },
     "execution_count": 14,
     "metadata": {},
     "output_type": "execute_result"
    }
   ],
   "source": [
    "df.groupby('type').count()"
   ]
  },
  {
   "cell_type": "code",
   "execution_count": 15,
   "metadata": {
    "collapsed": false
   },
   "outputs": [
    {
     "data": {
      "text/plain": [
       "Index([u'accountant', u'pilot', u'architect', u'author', u'chemist',\n",
       "       u'minister', u'professor', u'dentist', u'reporter', u'engineer',\n",
       "       u'undertaker', u'lawyer', u'physician', u'welfare.worker', u'teacher',\n",
       "       u'conductor', u'contractor', u'factory.owner', u'store.manager',\n",
       "       u'banker', u'bookkeeper', u'mail.carrier', u'insurance.agent',\n",
       "       u'store.clerk', u'carpenter', u'electrician', u'RR.engineer',\n",
       "       u'machinist', u'auto.repairman', u'plumber', u'gas.stn.attendant',\n",
       "       u'coal.miner', u'streetcar.motorman', u'taxi.driver', u'truck.driver',\n",
       "       u'machine.operator', u'barber', u'bartender', u'shoe.shiner', u'cook',\n",
       "       u'soda.clerk', u'watchman', u'janitor', u'policeman', u'waiter'],\n",
       "      dtype='object')"
      ]
     },
     "execution_count": 15,
     "metadata": {},
     "output_type": "execute_result"
    }
   ],
   "source": [
    "df.index"
   ]
  },
  {
   "cell_type": "code",
   "execution_count": 16,
   "metadata": {
    "collapsed": false
   },
   "outputs": [
    {
     "name": "stdout",
     "output_type": "stream",
     "text": [
      "<class 'pandas.core.frame.DataFrame'>\n",
      "Index: 45 entries, accountant to waiter\n",
      "Data columns (total 4 columns):\n",
      "type         45 non-null object\n",
      "income       45 non-null int64\n",
      "education    45 non-null int64\n",
      "prestige     45 non-null int64\n",
      "dtypes: int64(3), object(1)\n",
      "memory usage: 1.8+ KB\n"
     ]
    }
   ],
   "source": [
    "df.info()"
   ]
  },
  {
   "cell_type": "code",
   "execution_count": 17,
   "metadata": {
    "collapsed": false
   },
   "outputs": [
    {
     "data": {
      "image/png": "[encoded data removed]",
      "text/plain": [
       "<matplotlib.figure.Figure at 0x11801b6d0>"
      ]
     },
     "metadata": {},
     "output_type": "display_data"
    }
   ],
   "source": [
    "scatter_matrix(df);"
   ]
  },
  {
   "cell_type": "markdown",
   "metadata": {},
   "source": [
    "#### Obtaining y and X from df and keeping the df intact."
   ]
  },
  {
   "cell_type": "code",
   "execution_count": 18,
   "metadata": {
    "collapsed": true
   },
   "outputs": [],
   "source": [
    "y = df.prestige"
   ]
  },
  {
   "cell_type": "code",
   "execution_count": 19,
   "metadata": {
    "collapsed": false
   },
   "outputs": [
    {
     "data": {
      "text/plain": [
       "accountant    82\n",
       "pilot         83\n",
       "Name: prestige, dtype: int64"
      ]
     },
     "execution_count": 19,
     "metadata": {},
     "output_type": "execute_result"
    }
   ],
   "source": [
    "y[:2]"
   ]
  },
  {
   "cell_type": "code",
   "execution_count": 20,
   "metadata": {
    "collapsed": false
   },
   "outputs": [],
   "source": [
    "X = df[['income', 'education']].astype(float)"
   ]
  },
  {
   "cell_type": "code",
   "execution_count": 21,
   "metadata": {
    "collapsed": false
   },
   "outputs": [
    {
     "data": {
      "text/html": [
       "<div>\n",
       "<table border=\"1\" class=\"dataframe\">\n",
       "  <thead>\n",
       "    <tr style=\"text-align: right;\">\n",
       "      <th></th>\n",
       "      <th>income</th>\n",
       "      <th>education</th>\n",
       "    </tr>\n",
       "  </thead>\n",
       "  <tbody>\n",
       "    <tr>\n",
       "      <th>accountant</th>\n",
       "      <td>62.0</td>\n",
       "      <td>86.0</td>\n",
       "    </tr>\n",
       "    <tr>\n",
       "      <th>pilot</th>\n",
       "      <td>72.0</td>\n",
       "      <td>76.0</td>\n",
       "    </tr>\n",
       "  </tbody>\n",
       "</table>\n",
       "</div>"
      ],
      "text/plain": [
       "            income  education\n",
       "accountant    62.0       86.0\n",
       "pilot         72.0       76.0"
      ]
     },
     "execution_count": 21,
     "metadata": {},
     "output_type": "execute_result"
    }
   ],
   "source": [
    "X[:2]"
   ]
  },
  {
   "cell_type": "code",
   "execution_count": 22,
   "metadata": {
    "collapsed": false
   },
   "outputs": [
    {
     "name": "stdout",
     "output_type": "stream",
     "text": [
      "<class 'pandas.core.frame.DataFrame'>\n",
      "Index: 45 entries, accountant to waiter\n",
      "Data columns (total 2 columns):\n",
      "income       45 non-null float64\n",
      "education    45 non-null float64\n",
      "dtypes: float64(2)\n",
      "memory usage: 1.1+ KB\n"
     ]
    }
   ],
   "source": [
    "X.info()"
   ]
  },
  {
   "cell_type": "code",
   "execution_count": 23,
   "metadata": {
    "collapsed": true
   },
   "outputs": [],
   "source": [
    "model = sm.OLS(y, sm.add_constant(X)).fit()"
   ]
  },
  {
   "cell_type": "code",
   "execution_count": 24,
   "metadata": {
    "collapsed": false
   },
   "outputs": [
    {
     "data": {
      "text/html": [
       "<table class=\"simpletable\">\n",
       "<caption>OLS Regression Results</caption>\n",
       "<tr>\n",
       "  <th>Dep. Variable:</th>        <td>prestige</td>     <th>  R-squared:         </th> <td>   0.828</td>\n",
       "</tr>\n",
       "<tr>\n",
       "  <th>Model:</th>                   <td>OLS</td>       <th>  Adj. R-squared:    </th> <td>   0.820</td>\n",
       "</tr>\n",
       "<tr>\n",
       "  <th>Method:</th>             <td>Least Squares</td>  <th>  F-statistic:       </th> <td>   101.2</td>\n",
       "</tr>\n",
       "<tr>\n",
       "  <th>Date:</th>             <td>Thu, 05 Jul 2018</td> <th>  Prob (F-statistic):</th> <td>8.65e-17</td>\n",
       "</tr>\n",
       "<tr>\n",
       "  <th>Time:</th>                 <td>13:24:25</td>     <th>  Log-Likelihood:    </th> <td> -178.98</td>\n",
       "</tr>\n",
       "<tr>\n",
       "  <th>No. Observations:</th>      <td>    45</td>      <th>  AIC:               </th> <td>   364.0</td>\n",
       "</tr>\n",
       "<tr>\n",
       "  <th>Df Residuals:</th>          <td>    42</td>      <th>  BIC:               </th> <td>   369.4</td>\n",
       "</tr>\n",
       "<tr>\n",
       "  <th>Df Model:</th>              <td>     2</td>      <th>                     </th>     <td> </td>   \n",
       "</tr>\n",
       "<tr>\n",
       "  <th>Covariance Type:</th>      <td>nonrobust</td>    <th>                     </th>     <td> </td>   \n",
       "</tr>\n",
       "</table>\n",
       "<table class=\"simpletable\">\n",
       "<tr>\n",
       "      <td></td>         <th>coef</th>     <th>std err</th>      <th>t</th>      <th>P>|t|</th> <th>[95.0% Conf. Int.]</th> \n",
       "</tr>\n",
       "<tr>\n",
       "  <th>const</th>     <td>   -6.0647</td> <td>    4.272</td> <td>   -1.420</td> <td> 0.163</td> <td>  -14.686     2.556</td>\n",
       "</tr>\n",
       "<tr>\n",
       "  <th>income</th>    <td>    0.5987</td> <td>    0.120</td> <td>    5.003</td> <td> 0.000</td> <td>    0.357     0.840</td>\n",
       "</tr>\n",
       "<tr>\n",
       "  <th>education</th> <td>    0.5458</td> <td>    0.098</td> <td>    5.555</td> <td> 0.000</td> <td>    0.348     0.744</td>\n",
       "</tr>\n",
       "</table>\n",
       "<table class=\"simpletable\">\n",
       "<tr>\n",
       "  <th>Omnibus:</th>       <td> 1.279</td> <th>  Durbin-Watson:     </th> <td>   1.458</td>\n",
       "</tr>\n",
       "<tr>\n",
       "  <th>Prob(Omnibus):</th> <td> 0.528</td> <th>  Jarque-Bera (JB):  </th> <td>   0.520</td>\n",
       "</tr>\n",
       "<tr>\n",
       "  <th>Skew:</th>          <td> 0.155</td> <th>  Prob(JB):          </th> <td>   0.771</td>\n",
       "</tr>\n",
       "<tr>\n",
       "  <th>Kurtosis:</th>      <td> 3.426</td> <th>  Cond. No.          </th> <td>    163.</td>\n",
       "</tr>\n",
       "</table>"
      ],
      "text/plain": [
       "<class 'statsmodels.iolib.summary.Summary'>\n",
       "\"\"\"\n",
       "                            OLS Regression Results                            \n",
       "==============================================================================\n",
       "Dep. Variable:               prestige   R-squared:                       0.828\n",
       "Model:                            OLS   Adj. R-squared:                  0.820\n",
       "Method:                 Least Squares   F-statistic:                     101.2\n",
       "Date:                Thu, 05 Jul 2018   Prob (F-statistic):           8.65e-17\n",
       "Time:                        13:24:25   Log-Likelihood:                -178.98\n",
       "No. Observations:                  45   AIC:                             364.0\n",
       "Df Residuals:                      42   BIC:                             369.4\n",
       "Df Model:                           2                                         \n",
       "Covariance Type:            nonrobust                                         \n",
       "==============================================================================\n",
       "                 coef    std err          t      P>|t|      [95.0% Conf. Int.]\n",
       "------------------------------------------------------------------------------\n",
       "const         -6.0647      4.272     -1.420      0.163       -14.686     2.556\n",
       "income         0.5987      0.120      5.003      0.000         0.357     0.840\n",
       "education      0.5458      0.098      5.555      0.000         0.348     0.744\n",
       "==============================================================================\n",
       "Omnibus:                        1.279   Durbin-Watson:                   1.458\n",
       "Prob(Omnibus):                  0.528   Jarque-Bera (JB):                0.520\n",
       "Skew:                           0.155   Prob(JB):                        0.771\n",
       "Kurtosis:                       3.426   Cond. No.                         163.\n",
       "==============================================================================\n",
       "\n",
       "Warnings:\n",
       "[1] Standard Errors assume that the covariance matrix of the errors is correctly specified.\n",
       "\"\"\""
      ]
     },
     "execution_count": 24,
     "metadata": {},
     "output_type": "execute_result"
    }
   ],
   "source": [
    "model.summary()"
   ]
  },
  {
   "cell_type": "markdown",
   "metadata": {
    "collapsed": true
   },
   "source": [
    "**R-squared:**   The coefficient of determination. A statistical measure of how well the regression line approximates the real data points\n",
    "\n",
    "Adj. R-squared  The above value adjusted based on the number of observations and the degrees-of-freedom of the residuals\n",
    "\n",
    "F-statistic   A measure how significant the fit is. The mean squared error of the model divided by the mean squared error of the residuals\n",
    "\n",
    "Prob (F-statistic)  The probability that you would get the above statistic, given the null hypothesis that they are unrelated\n",
    "\n",
    "Log-likelihood  The log of the likelihood function.\n",
    "\n",
    "AIC   The Akaike Information Criterion. Adjusts the log-likelihood based on the number of observations and the complexity of the model.\n",
    "\n",
    "BIC   The Bayesian Information Criterion. Similar to the AIC, but has a higher penalty for models with more parameters.\n",
    "\n",
    "coef  The estimated value of the coefficient\n",
    "\n",
    "std err   The basic standard error of the estimate of the coefficient. More sophisticated errors are also available.\n",
    "\n",
    "t   The t-statistic value. This is a measure of how statistically significant the coefficient is.\n",
    "\n",
    "P > |t|   P-value that the null-hypothesis that the coefficient = 0 is true. If it is less than the confidence level, often 0.05, it indicates that there is a statistically significant relationship between the term and the response.\n",
    "\n",
    "[95.0% Conf. Interval]  The lower and upper values of the 95% confidence interval\n",
    "\n",
    "Skewness  A measure of the symmetry of the data about the mean. Normally-distributed errors should be symmetrically distributed about the mean (equal amounts above and below the line).\n",
    "\n",
    "Kurtosis  A measure of the shape of the distribution. Compares the amount of data close to the mean with those far away from the mean (in the tails).\n",
    "\n",
    "Omnibus   D'Angostino's test. It provides a combined statistical test for the presence of skewness and kurtosis.\n",
    "\n",
    "Prob(Omnibus)   The above statistic turned into a probability\n",
    "\n",
    "Jarque-Bera   A different test of the skewness and kurtosis\n",
    "\n",
    "Prob (JB)   The above statistic turned into a probability\n",
    "\n",
    "Durbin-Watson   A test for the presence of autocorrelation (that the errors are not independent.) Often important in time-series analysis\n",
    "\n",
    "Cond. No  A test for multicollinearity (if in a fit with multiple parameters, the parameters are related with each other). A rule of thumb is that if ${\\displaystyle Cond. No >30}$ then multicollinearity is high between the features. "
   ]
  },
  {
   "cell_type": "markdown",
   "metadata": {},
   "source": [
    "#### Target values"
   ]
  },
  {
   "cell_type": "code",
   "execution_count": 25,
   "metadata": {
    "collapsed": false
   },
   "outputs": [
    {
     "data": {
      "text/plain": [
       "accountant    82\n",
       "pilot         83\n",
       "Name: prestige, dtype: int64"
      ]
     },
     "execution_count": 25,
     "metadata": {},
     "output_type": "execute_result"
    }
   ],
   "source": [
    "y[:2]"
   ]
  },
  {
   "cell_type": "markdown",
   "metadata": {},
   "source": [
    "#### Fitted values are the Predicted values \n",
    "\n",
    "A fitted value is a statistical model’s prediction of the mean response value when you input the values of the predictors, factor levels, or components into the model. Suppose you have the following regression equation: y = 3X + 5. If you enter a value of 5 for the predictor, the fitted value is 20. Fitted values are also called predicted values."
   ]
  },
  {
   "cell_type": "code",
   "execution_count": 26,
   "metadata": {
    "collapsed": false
   },
   "outputs": [
    {
     "data": {
      "text/plain": [
       "accountant    77.998488\n",
       "pilot         78.527477\n",
       "dtype: float64"
      ]
     },
     "execution_count": 26,
     "metadata": {},
     "output_type": "execute_result"
    }
   ],
   "source": [
    "yhat = model.fittedvalues\n",
    "yhat[:2]"
   ]
  },
  {
   "cell_type": "code",
   "execution_count": 27,
   "metadata": {
    "collapsed": false
   },
   "outputs": [
    {
     "data": {
      "text/plain": [
       "array([ 77.99848822,  78.52747734])"
      ]
     },
     "execution_count": 27,
     "metadata": {},
     "output_type": "execute_result"
    }
   ],
   "source": [
    "y_hat2 = model.predict(sm.add_constant(X))\n",
    "y_hat2[:2]"
   ]
  },
  {
   "cell_type": "markdown",
   "metadata": {
    "collapsed": true
   },
   "source": [
    "#### Residuals"
   ]
  },
  {
   "cell_type": "code",
   "execution_count": 28,
   "metadata": {
    "collapsed": false
   },
   "outputs": [
    {
     "data": {
      "text/html": [
       "<div>\n",
       "<table border=\"1\" class=\"dataframe\">\n",
       "  <thead>\n",
       "    <tr style=\"text-align: right;\">\n",
       "      <th></th>\n",
       "      <th>student_resid</th>\n",
       "      <th>unadj_p</th>\n",
       "      <th>bonf(p)</th>\n",
       "    </tr>\n",
       "  </thead>\n",
       "  <tbody>\n",
       "    <tr>\n",
       "      <th>accountant</th>\n",
       "      <td>0.304466</td>\n",
       "      <td>0.762313</td>\n",
       "      <td>1.0</td>\n",
       "    </tr>\n",
       "    <tr>\n",
       "      <th>pilot</th>\n",
       "      <td>0.341456</td>\n",
       "      <td>0.734504</td>\n",
       "      <td>1.0</td>\n",
       "    </tr>\n",
       "  </tbody>\n",
       "</table>\n",
       "</div>"
      ],
      "text/plain": [
       "            student_resid   unadj_p  bonf(p)\n",
       "accountant       0.304466  0.762313      1.0\n",
       "pilot            0.341456  0.734504      1.0"
      ]
     },
     "execution_count": 28,
     "metadata": {},
     "output_type": "execute_result"
    }
   ],
   "source": [
    "model.outlier_test()[:2]"
   ]
  },
  {
   "cell_type": "code",
   "execution_count": 29,
   "metadata": {
    "collapsed": false
   },
   "outputs": [
    {
     "data": {
      "image/png": "[encoded data removed]",
      "text/plain": [
       "<matplotlib.figure.Figure at 0x11b106710>"
      ]
     },
     "metadata": {},
     "output_type": "display_data"
    }
   ],
   "source": [
    "plt.scatter(model.fittedvalues, model.outlier_test().student_resid)\n",
    "plt.hlines(0, 0, 100, linestyle='--', color='r')\n",
    "plt.xlim(0, 100)\n",
    "plt.xlabel('Predicted Value')\n",
    "plt.ylabel('Residuals');"
   ]
  },
  {
   "cell_type": "code",
   "execution_count": 30,
   "metadata": {
    "collapsed": false
   },
   "outputs": [
    {
     "data": {
      "image/png": "[encoded data removed]",
      "text/plain": [
       "<matplotlib.figure.Figure at 0x11b13ad90>"
      ]
     },
     "metadata": {},
     "output_type": "display_data"
    }
   ],
   "source": [
    "sm.qqplot(model.outlier_test().student_resid, line='s');"
   ]
  },
  {
   "cell_type": "markdown",
   "metadata": {},
   "source": [
    "#### Testing whether variance is the same in 2 subsamples\n",
    "\n",
    "F-statistic, P-Value, Ordering\n",
    "\n",
    "Class statsmodels.stats.diagnostic.**HetGoldfeldQuandt**\n",
    "\n",
    "[0] f-val(value of the F-statistic)\n",
    "\n",
    "[1] P-val(p-value of the hypothesis that the variance in one subsample is larger than in the other subsample when fpval < 0.05, therefore the variance in the two sub-samples are NOT the same)\n",
    "\n",
    "[2] Ordering\n"
   ]
  },
  {
   "cell_type": "code",
   "execution_count": 31,
   "metadata": {
    "collapsed": false
   },
   "outputs": [
    {
     "data": {
      "text/plain": [
       "(0.46472582378043897, 0.95396328162213906, 'increasing')"
      ]
     },
     "execution_count": 31,
     "metadata": {},
     "output_type": "execute_result"
    }
   ],
   "source": [
    "hetgq().run(y, X)"
   ]
  },
  {
   "cell_type": "markdown",
   "metadata": {
    "collapsed": true
   },
   "source": [
    "#### Testing for Multicolinearity - Variance Inflation Factor (VIF)\n",
    "\n",
    "**A rule of thumb is that if ${\\displaystyle \\operatorname {VIF} ({\\hat {\\beta }}_{i})>10}$ then multicollinearity is high** (a cutoff of 5 is also commonly used)."
   ]
  },
  {
   "cell_type": "code",
   "execution_count": 32,
   "metadata": {
    "collapsed": false
   },
   "outputs": [
    {
     "data": {
      "text/html": [
       "<div>\n",
       "<table border=\"1\" class=\"dataframe\">\n",
       "  <thead>\n",
       "    <tr style=\"text-align: right;\">\n",
       "      <th></th>\n",
       "      <th>income</th>\n",
       "      <th>education</th>\n",
       "    </tr>\n",
       "  </thead>\n",
       "  <tbody>\n",
       "    <tr>\n",
       "      <th>accountant</th>\n",
       "      <td>62.0</td>\n",
       "      <td>86.0</td>\n",
       "    </tr>\n",
       "    <tr>\n",
       "      <th>pilot</th>\n",
       "      <td>72.0</td>\n",
       "      <td>76.0</td>\n",
       "    </tr>\n",
       "  </tbody>\n",
       "</table>\n",
       "</div>"
      ],
      "text/plain": [
       "            income  education\n",
       "accountant    62.0       86.0\n",
       "pilot         72.0       76.0"
      ]
     },
     "execution_count": 32,
     "metadata": {},
     "output_type": "execute_result"
    }
   ],
   "source": [
    "X[:2]"
   ]
  },
  {
   "cell_type": "code",
   "execution_count": 33,
   "metadata": {
    "collapsed": false
   },
   "outputs": [
    {
     "data": {
      "text/plain": [
       "pandas.core.frame.DataFrame"
      ]
     },
     "execution_count": 33,
     "metadata": {},
     "output_type": "execute_result"
    }
   ],
   "source": [
    "type(X)"
   ]
  },
  {
   "cell_type": "code",
   "execution_count": 34,
   "metadata": {
    "collapsed": false
   },
   "outputs": [
    {
     "data": {
      "text/plain": [
       "array([[ 62.,  86.],\n",
       "       [ 72.,  76.]])"
      ]
     },
     "execution_count": 34,
     "metadata": {},
     "output_type": "execute_result"
    }
   ],
   "source": [
    "X.as_matrix()[:2]"
   ]
  },
  {
   "cell_type": "code",
   "execution_count": 35,
   "metadata": {
    "collapsed": false
   },
   "outputs": [
    {
     "data": {
      "text/plain": [
       "(45, 2)"
      ]
     },
     "execution_count": 35,
     "metadata": {},
     "output_type": "execute_result"
    }
   ],
   "source": [
    "X.as_matrix().shape"
   ]
  },
  {
   "cell_type": "code",
   "execution_count": 36,
   "metadata": {
    "collapsed": false
   },
   "outputs": [
    {
     "name": "stdout",
     "output_type": "stream",
     "text": [
      "+-----------+---------------+\n",
      "|   Field   |      VIF      |\n",
      "+-----------+---------------+\n",
      "|   income  | 7.68138664338 |\n",
      "| education | 7.68138664338 |\n",
      "+-----------+---------------+\n"
     ]
    }
   ],
   "source": [
    "m = X.as_matrix()\n",
    "\n",
    "pretty = PrettyTable(['Field', 'VIF'])\n",
    "\n",
    "for i in xrange(m.shape[1]):\n",
    "    pretty.add_row((X.columns[i], VIF(m, i)))\n",
    "\n",
    "print pretty"
   ]
  },
  {
   "cell_type": "markdown",
   "metadata": {},
   "source": [
    "#### [Leverage](https://en.wikipedia.org/wiki/Leverage_%28statistics%29)"
   ]
  },
  {
   "cell_type": "code",
   "execution_count": 199,
   "metadata": {
    "collapsed": false
   },
   "outputs": [
    {
     "data": {
      "image/png": "[encoded data removed]",
      "text/plain": [
       "<matplotlib.figure.Figure at 0x11d3fe6d0>"
      ]
     },
     "metadata": {},
     "output_type": "display_data"
    }
   ],
   "source": [
    "fig, ax = plt.subplots(figsize=(12, 8))\n",
    "fig = sm.graphics.influence_plot(model, ax=ax)"
   ]
  },
  {
   "cell_type": "markdown",
   "metadata": {
    "collapsed": true
   },
   "source": [
    "### Credit Card Dataset"
   ]
  },
  {
   "cell_type": "code",
   "execution_count": 169,
   "metadata": {
    "collapsed": true
   },
   "outputs": [],
   "source": [
    "dfcc = sm.datasets.ccard.load_pandas().data"
   ]
  },
  {
   "cell_type": "code",
   "execution_count": 170,
   "metadata": {
    "collapsed": false
   },
   "outputs": [
    {
     "data": {
      "text/html": [
       "<div>\n",
       "<table border=\"1\" class=\"dataframe\">\n",
       "  <thead>\n",
       "    <tr style=\"text-align: right;\">\n",
       "      <th></th>\n",
       "      <th>AVGEXP</th>\n",
       "      <th>AGE</th>\n",
       "      <th>INCOME</th>\n",
       "      <th>INCOMESQ</th>\n",
       "      <th>OWNRENT</th>\n",
       "    </tr>\n",
       "  </thead>\n",
       "  <tbody>\n",
       "    <tr>\n",
       "      <th>0</th>\n",
       "      <td>124.98</td>\n",
       "      <td>38.0</td>\n",
       "      <td>4.52</td>\n",
       "      <td>20.4304</td>\n",
       "      <td>1.0</td>\n",
       "    </tr>\n",
       "    <tr>\n",
       "      <th>1</th>\n",
       "      <td>9.85</td>\n",
       "      <td>33.0</td>\n",
       "      <td>2.42</td>\n",
       "      <td>5.8564</td>\n",
       "      <td>0.0</td>\n",
       "    </tr>\n",
       "  </tbody>\n",
       "</table>\n",
       "</div>"
      ],
      "text/plain": [
       "   AVGEXP   AGE  INCOME  INCOMESQ  OWNRENT\n",
       "0  124.98  38.0    4.52   20.4304      1.0\n",
       "1    9.85  33.0    2.42    5.8564      0.0"
      ]
     },
     "execution_count": 170,
     "metadata": {},
     "output_type": "execute_result"
    }
   ],
   "source": [
    "dfcc[:2]"
   ]
  },
  {
   "cell_type": "code",
   "execution_count": 171,
   "metadata": {
    "collapsed": false
   },
   "outputs": [
    {
     "name": "stdout",
     "output_type": "stream",
     "text": [
      "<class 'pandas.core.frame.DataFrame'>\n",
      "RangeIndex: 72 entries, 0 to 71\n",
      "Data columns (total 5 columns):\n",
      "AVGEXP      72 non-null float64\n",
      "AGE         72 non-null float64\n",
      "INCOME      72 non-null float64\n",
      "INCOMESQ    72 non-null float64\n",
      "OWNRENT     72 non-null float64\n",
      "dtypes: float64(5)\n",
      "memory usage: 2.9 KB\n"
     ]
    }
   ],
   "source": [
    "dfcc.info()"
   ]
  },
  {
   "cell_type": "code",
   "execution_count": 172,
   "metadata": {
    "collapsed": false
   },
   "outputs": [
    {
     "data": {
      "text/html": [
       "<div>\n",
       "<table border=\"1\" class=\"dataframe\">\n",
       "  <thead>\n",
       "    <tr style=\"text-align: right;\">\n",
       "      <th></th>\n",
       "      <th>count</th>\n",
       "      <th>mean</th>\n",
       "      <th>std</th>\n",
       "      <th>min</th>\n",
       "      <th>25%</th>\n",
       "      <th>50%</th>\n",
       "      <th>75%</th>\n",
       "      <th>max</th>\n",
       "    </tr>\n",
       "  </thead>\n",
       "  <tbody>\n",
       "    <tr>\n",
       "      <th>AVGEXP</th>\n",
       "      <td>72.0</td>\n",
       "      <td>262.532083</td>\n",
       "      <td>318.046831</td>\n",
       "      <td>9.58</td>\n",
       "      <td>67.5975</td>\n",
       "      <td>158.32</td>\n",
       "      <td>323.4750</td>\n",
       "      <td>1898.03</td>\n",
       "    </tr>\n",
       "    <tr>\n",
       "      <th>AGE</th>\n",
       "      <td>72.0</td>\n",
       "      <td>31.277778</td>\n",
       "      <td>7.152705</td>\n",
       "      <td>20.00</td>\n",
       "      <td>26.0000</td>\n",
       "      <td>30.00</td>\n",
       "      <td>36.0000</td>\n",
       "      <td>55.00</td>\n",
       "    </tr>\n",
       "    <tr>\n",
       "      <th>INCOME</th>\n",
       "      <td>72.0</td>\n",
       "      <td>3.437083</td>\n",
       "      <td>1.699452</td>\n",
       "      <td>1.50</td>\n",
       "      <td>2.4000</td>\n",
       "      <td>3.00</td>\n",
       "      <td>3.9700</td>\n",
       "      <td>10.00</td>\n",
       "    </tr>\n",
       "    <tr>\n",
       "      <th>INCOMESQ</th>\n",
       "      <td>72.0</td>\n",
       "      <td>14.661565</td>\n",
       "      <td>17.644929</td>\n",
       "      <td>2.25</td>\n",
       "      <td>5.7600</td>\n",
       "      <td>9.00</td>\n",
       "      <td>15.7612</td>\n",
       "      <td>100.00</td>\n",
       "    </tr>\n",
       "    <tr>\n",
       "      <th>OWNRENT</th>\n",
       "      <td>72.0</td>\n",
       "      <td>0.375000</td>\n",
       "      <td>0.487520</td>\n",
       "      <td>0.00</td>\n",
       "      <td>0.0000</td>\n",
       "      <td>0.00</td>\n",
       "      <td>1.0000</td>\n",
       "      <td>1.00</td>\n",
       "    </tr>\n",
       "  </tbody>\n",
       "</table>\n",
       "</div>"
      ],
      "text/plain": [
       "          count        mean         std    min      25%     50%       75%  \\\n",
       "AVGEXP     72.0  262.532083  318.046831   9.58  67.5975  158.32  323.4750   \n",
       "AGE        72.0   31.277778    7.152705  20.00  26.0000   30.00   36.0000   \n",
       "INCOME     72.0    3.437083    1.699452   1.50   2.4000    3.00    3.9700   \n",
       "INCOMESQ   72.0   14.661565   17.644929   2.25   5.7600    9.00   15.7612   \n",
       "OWNRENT    72.0    0.375000    0.487520   0.00   0.0000    0.00    1.0000   \n",
       "\n",
       "              max  \n",
       "AVGEXP    1898.03  \n",
       "AGE         55.00  \n",
       "INCOME      10.00  \n",
       "INCOMESQ   100.00  \n",
       "OWNRENT      1.00  "
      ]
     },
     "execution_count": 172,
     "metadata": {},
     "output_type": "execute_result"
    }
   ],
   "source": [
    "dfcc.describe().T"
   ]
  },
  {
   "cell_type": "markdown",
   "metadata": {},
   "source": [
    "#### Multicolinearity and outliers visual inspection "
   ]
  },
  {
   "cell_type": "code",
   "execution_count": 173,
   "metadata": {
    "collapsed": false
   },
   "outputs": [
    {
     "data": {
      "image/png": "[encoded data removed]",
      "text/plain": [
       "<matplotlib.figure.Figure at 0x11cad8a10>"
      ]
     },
     "metadata": {},
     "output_type": "display_data"
    }
   ],
   "source": [
    "scatter_matrix(dfcc, figsize=(12, 12));"
   ]
  },
  {
   "cell_type": "code",
   "execution_count": 174,
   "metadata": {
    "collapsed": false
   },
   "outputs": [
    {
     "data": {
      "text/html": [
       "<div>\n",
       "<table border=\"1\" class=\"dataframe\">\n",
       "  <thead>\n",
       "    <tr style=\"text-align: right;\">\n",
       "      <th></th>\n",
       "      <th>AVGEXP</th>\n",
       "      <th>AGE</th>\n",
       "      <th>INCOME</th>\n",
       "      <th>INCOMESQ</th>\n",
       "      <th>OWNRENT</th>\n",
       "    </tr>\n",
       "  </thead>\n",
       "  <tbody>\n",
       "    <tr>\n",
       "      <th>0</th>\n",
       "      <td>124.98</td>\n",
       "      <td>38.0</td>\n",
       "      <td>4.52</td>\n",
       "      <td>20.4304</td>\n",
       "      <td>1.0</td>\n",
       "    </tr>\n",
       "    <tr>\n",
       "      <th>1</th>\n",
       "      <td>9.85</td>\n",
       "      <td>33.0</td>\n",
       "      <td>2.42</td>\n",
       "      <td>5.8564</td>\n",
       "      <td>0.0</td>\n",
       "    </tr>\n",
       "  </tbody>\n",
       "</table>\n",
       "</div>"
      ],
      "text/plain": [
       "   AVGEXP   AGE  INCOME  INCOMESQ  OWNRENT\n",
       "0  124.98  38.0    4.52   20.4304      1.0\n",
       "1    9.85  33.0    2.42    5.8564      0.0"
      ]
     },
     "execution_count": 174,
     "metadata": {},
     "output_type": "execute_result"
    }
   ],
   "source": [
    "dfcc[:2]"
   ]
  },
  {
   "cell_type": "code",
   "execution_count": 177,
   "metadata": {
    "collapsed": false
   },
   "outputs": [
    {
     "data": {
      "text/html": [
       "<div>\n",
       "<table border=\"1\" class=\"dataframe\">\n",
       "  <thead>\n",
       "    <tr style=\"text-align: right;\">\n",
       "      <th></th>\n",
       "      <th>AGE</th>\n",
       "      <th>INCOME</th>\n",
       "      <th>INCOMESQ</th>\n",
       "      <th>OWNRENT</th>\n",
       "    </tr>\n",
       "  </thead>\n",
       "  <tbody>\n",
       "    <tr>\n",
       "      <th>0</th>\n",
       "      <td>38.0</td>\n",
       "      <td>4.52</td>\n",
       "      <td>20.4304</td>\n",
       "      <td>1.0</td>\n",
       "    </tr>\n",
       "    <tr>\n",
       "      <th>1</th>\n",
       "      <td>33.0</td>\n",
       "      <td>2.42</td>\n",
       "      <td>5.8564</td>\n",
       "      <td>0.0</td>\n",
       "    </tr>\n",
       "  </tbody>\n",
       "</table>\n",
       "</div>"
      ],
      "text/plain": [
       "    AGE  INCOME  INCOMESQ  OWNRENT\n",
       "0  38.0    4.52   20.4304      1.0\n",
       "1  33.0    2.42    5.8564      0.0"
      ]
     },
     "execution_count": 177,
     "metadata": {},
     "output_type": "execute_result"
    }
   ],
   "source": [
    "dfcc.iloc[:, 1::][:2]"
   ]
  },
  {
   "cell_type": "code",
   "execution_count": 178,
   "metadata": {
    "collapsed": false
   },
   "outputs": [
    {
     "data": {
      "image/png": "[encoded data removed]",
      "text/plain": [
       "<matplotlib.figure.Figure at 0x1203d2f10>"
      ]
     },
     "metadata": {},
     "output_type": "display_data"
    }
   ],
   "source": [
    "dfcc.iloc[:, 0:-1].plot(kind='box', subplots=True);"
   ]
  },
  {
   "cell_type": "markdown",
   "metadata": {},
   "source": [
    "#### Obtaining y and X from df through modifying the df"
   ]
  },
  {
   "cell_type": "code",
   "execution_count": 179,
   "metadata": {
    "collapsed": false
   },
   "outputs": [
    {
     "data": {
      "text/plain": [
       "array([ 124.98,    9.85])"
      ]
     },
     "execution_count": 179,
     "metadata": {},
     "output_type": "execute_result"
    }
   ],
   "source": [
    "ycc = dfcc.pop('AVGEXP').values\n",
    "ycc[:2]"
   ]
  },
  {
   "cell_type": "code",
   "execution_count": 180,
   "metadata": {
    "collapsed": false
   },
   "outputs": [
    {
     "data": {
      "text/plain": [
       "array([[ 38.    ,   4.52  ,  20.4304,   1.    ],\n",
       "       [ 33.    ,   2.42  ,   5.8564,   0.    ]])"
      ]
     },
     "execution_count": 180,
     "metadata": {},
     "output_type": "execute_result"
    }
   ],
   "source": [
    "Xcc = dfcc.values\n",
    "Xcc[:2]"
   ]
  },
  {
   "cell_type": "markdown",
   "metadata": {},
   "source": [
    "#### OLS model"
   ]
  },
  {
   "cell_type": "code",
   "execution_count": 181,
   "metadata": {
    "collapsed": false
   },
   "outputs": [],
   "source": [
    "# Adding interception on Xcc\n",
    "modelcc = sm.OLS(ycc, sm.add_constant(Xcc)).fit()"
   ]
  },
  {
   "cell_type": "code",
   "execution_count": 182,
   "metadata": {
    "collapsed": false
   },
   "outputs": [
    {
     "data": {
      "text/html": [
       "<table class=\"simpletable\">\n",
       "<caption>OLS Regression Results</caption>\n",
       "<tr>\n",
       "  <th>Dep. Variable:</th>            <td>y</td>        <th>  R-squared:         </th> <td>   0.244</td>\n",
       "</tr>\n",
       "<tr>\n",
       "  <th>Model:</th>                   <td>OLS</td>       <th>  Adj. R-squared:    </th> <td>   0.198</td>\n",
       "</tr>\n",
       "<tr>\n",
       "  <th>Method:</th>             <td>Least Squares</td>  <th>  F-statistic:       </th> <td>   5.394</td>\n",
       "</tr>\n",
       "<tr>\n",
       "  <th>Date:</th>             <td>Fri, 06 Jul 2018</td> <th>  Prob (F-statistic):</th> <td>0.000795</td>\n",
       "</tr>\n",
       "<tr>\n",
       "  <th>Time:</th>                 <td>14:51:53</td>     <th>  Log-Likelihood:    </th> <td> -506.49</td>\n",
       "</tr>\n",
       "<tr>\n",
       "  <th>No. Observations:</th>      <td>    72</td>      <th>  AIC:               </th> <td>   1023.</td>\n",
       "</tr>\n",
       "<tr>\n",
       "  <th>Df Residuals:</th>          <td>    67</td>      <th>  BIC:               </th> <td>   1034.</td>\n",
       "</tr>\n",
       "<tr>\n",
       "  <th>Df Model:</th>              <td>     4</td>      <th>                     </th>     <td> </td>   \n",
       "</tr>\n",
       "<tr>\n",
       "  <th>Covariance Type:</th>      <td>nonrobust</td>    <th>                     </th>     <td> </td>   \n",
       "</tr>\n",
       "</table>\n",
       "<table class=\"simpletable\">\n",
       "<tr>\n",
       "    <td></td>       <th>coef</th>     <th>std err</th>      <th>t</th>      <th>P>|t|</th> <th>[95.0% Conf. Int.]</th> \n",
       "</tr>\n",
       "<tr>\n",
       "  <th>const</th> <td> -237.1465</td> <td>  199.352</td> <td>   -1.190</td> <td> 0.238</td> <td> -635.054   160.761</td>\n",
       "</tr>\n",
       "<tr>\n",
       "  <th>x1</th>    <td>   -3.0818</td> <td>    5.515</td> <td>   -0.559</td> <td> 0.578</td> <td>  -14.089     7.926</td>\n",
       "</tr>\n",
       "<tr>\n",
       "  <th>x2</th>    <td>  234.3470</td> <td>   80.366</td> <td>    2.916</td> <td> 0.005</td> <td>   73.936   394.758</td>\n",
       "</tr>\n",
       "<tr>\n",
       "  <th>x3</th>    <td>  -14.9968</td> <td>    7.469</td> <td>   -2.008</td> <td> 0.049</td> <td>  -29.906    -0.088</td>\n",
       "</tr>\n",
       "<tr>\n",
       "  <th>x4</th>    <td>   27.9409</td> <td>   82.922</td> <td>    0.337</td> <td> 0.737</td> <td> -137.573   193.455</td>\n",
       "</tr>\n",
       "</table>\n",
       "<table class=\"simpletable\">\n",
       "<tr>\n",
       "  <th>Omnibus:</th>       <td>69.024</td> <th>  Durbin-Watson:     </th> <td>   1.640</td> \n",
       "</tr>\n",
       "<tr>\n",
       "  <th>Prob(Omnibus):</th> <td> 0.000</td> <th>  Jarque-Bera (JB):  </th> <td> 497.349</td> \n",
       "</tr>\n",
       "<tr>\n",
       "  <th>Skew:</th>          <td> 2.844</td> <th>  Prob(JB):          </th> <td>1.00e-108</td>\n",
       "</tr>\n",
       "<tr>\n",
       "  <th>Kurtosis:</th>      <td>14.551</td> <th>  Cond. No.          </th> <td>    227.</td> \n",
       "</tr>\n",
       "</table>"
      ],
      "text/plain": [
       "<class 'statsmodels.iolib.summary.Summary'>\n",
       "\"\"\"\n",
       "                            OLS Regression Results                            \n",
       "==============================================================================\n",
       "Dep. Variable:                      y   R-squared:                       0.244\n",
       "Model:                            OLS   Adj. R-squared:                  0.198\n",
       "Method:                 Least Squares   F-statistic:                     5.394\n",
       "Date:                Fri, 06 Jul 2018   Prob (F-statistic):           0.000795\n",
       "Time:                        14:51:53   Log-Likelihood:                -506.49\n",
       "No. Observations:                  72   AIC:                             1023.\n",
       "Df Residuals:                      67   BIC:                             1034.\n",
       "Df Model:                           4                                         \n",
       "Covariance Type:            nonrobust                                         \n",
       "==============================================================================\n",
       "                 coef    std err          t      P>|t|      [95.0% Conf. Int.]\n",
       "------------------------------------------------------------------------------\n",
       "const       -237.1465    199.352     -1.190      0.238      -635.054   160.761\n",
       "x1            -3.0818      5.515     -0.559      0.578       -14.089     7.926\n",
       "x2           234.3470     80.366      2.916      0.005        73.936   394.758\n",
       "x3           -14.9968      7.469     -2.008      0.049       -29.906    -0.088\n",
       "x4            27.9409     82.922      0.337      0.737      -137.573   193.455\n",
       "==============================================================================\n",
       "Omnibus:                       69.024   Durbin-Watson:                   1.640\n",
       "Prob(Omnibus):                  0.000   Jarque-Bera (JB):              497.349\n",
       "Skew:                           2.844   Prob(JB):                    1.00e-108\n",
       "Kurtosis:                      14.551   Cond. No.                         227.\n",
       "==============================================================================\n",
       "\n",
       "Warnings:\n",
       "[1] Standard Errors assume that the covariance matrix of the errors is correctly specified.\n",
       "\"\"\""
      ]
     },
     "execution_count": 182,
     "metadata": {},
     "output_type": "execute_result"
    }
   ],
   "source": [
    "modelcc.summary()"
   ]
  },
  {
   "cell_type": "markdown",
   "metadata": {
    "collapsed": true
   },
   "source": [
    "This is a poor model of the credit card system"
   ]
  },
  {
   "cell_type": "markdown",
   "metadata": {
    "collapsed": true
   },
   "source": [
    "#### Residuals"
   ]
  },
  {
   "cell_type": "code",
   "execution_count": 183,
   "metadata": {
    "collapsed": false
   },
   "outputs": [
    {
     "data": {
      "text/plain": [
       "array([[-1.08898529,  0.28012078,  1.        ],\n",
       "       [-0.46361837,  0.64444657,  1.        ]])"
      ]
     },
     "execution_count": 183,
     "metadata": {},
     "output_type": "execute_result"
    }
   ],
   "source": [
    "# Index [0] is the 'student_resid'\n",
    "modelcc.outlier_test()[:2]"
   ]
  },
  {
   "cell_type": "code",
   "execution_count": 184,
   "metadata": {
    "collapsed": false
   },
   "outputs": [
    {
     "data": {
      "image/png": "[encoded data removed]",
      "text/plain": [
       "<matplotlib.figure.Figure at 0x11cfff950>"
      ]
     },
     "metadata": {},
     "output_type": "display_data"
    }
   ],
   "source": [
    "plt.scatter(modelcc.fittedvalues, modelcc.outlier_test()[:, 0])\n",
    "plt.hlines(0, 0, 700, color='r', linestyle= '--')\n",
    "plt.xlim(0, 700)\n",
    "plt.xlabel('Predictions')\n",
    "plt.ylabel('Residuals');"
   ]
  },
  {
   "cell_type": "code",
   "execution_count": 185,
   "metadata": {
    "collapsed": false
   },
   "outputs": [
    {
     "data": {
      "image/png": "[encoded data removed]",
      "text/plain": [
       "<matplotlib.figure.Figure at 0x11f6408d0>"
      ]
     },
     "metadata": {},
     "output_type": "display_data"
    }
   ],
   "source": [
    "_ = sm.qqplot(modelcc.outlier_test()[:, 0], line='s')"
   ]
  },
  {
   "cell_type": "markdown",
   "metadata": {
    "collapsed": false
   },
   "source": [
    "#### Testing whether variance is the same in 2 subsamples\n",
    "\n",
    "F-statistic, P-Value, Ordering\n",
    "\n",
    "Class statsmodels.stats.diagnostic.**HetGoldfeldQuandt**\n",
    "\n",
    "[0] f-val(value of the F-statistic)\n",
    "\n",
    "[1] P-val(p-value of the hypothesis that the variance in one subsample is larger than in the other subsample when fpval < 0.05, therefore the variance in the two sub-samples are NOT the same)\n",
    "\n",
    "[2] Ordering\n"
   ]
  },
  {
   "cell_type": "code",
   "execution_count": 186,
   "metadata": {
    "collapsed": false
   },
   "outputs": [
    {
     "data": {
      "text/plain": [
       "(1.4202497795783549, 0.16302616658239308, 'increasing')"
      ]
     },
     "execution_count": 186,
     "metadata": {},
     "output_type": "execute_result"
    }
   ],
   "source": [
    "hetgq().run(ycc, Xcc)"
   ]
  },
  {
   "cell_type": "code",
   "execution_count": 187,
   "metadata": {
    "collapsed": false
   },
   "outputs": [
    {
     "data": {
      "text/plain": [
       "numpy.ndarray"
      ]
     },
     "execution_count": 187,
     "metadata": {},
     "output_type": "execute_result"
    }
   ],
   "source": [
    "type(Xcc)"
   ]
  },
  {
   "cell_type": "code",
   "execution_count": 188,
   "metadata": {
    "collapsed": false
   },
   "outputs": [
    {
     "data": {
      "text/plain": [
       "(72, 4)"
      ]
     },
     "execution_count": 188,
     "metadata": {},
     "output_type": "execute_result"
    }
   ],
   "source": [
    "Xcc.shape"
   ]
  },
  {
   "cell_type": "code",
   "execution_count": 189,
   "metadata": {
    "collapsed": false
   },
   "outputs": [
    {
     "data": {
      "text/plain": [
       "array([[ 38.    ,   4.52  ,  20.4304,   1.    ],\n",
       "       [ 33.    ,   2.42  ,   5.8564,   0.    ]])"
      ]
     },
     "execution_count": 189,
     "metadata": {},
     "output_type": "execute_result"
    }
   ],
   "source": [
    "Xcc[:2]"
   ]
  },
  {
   "cell_type": "code",
   "execution_count": 191,
   "metadata": {
    "collapsed": false
   },
   "outputs": [
    {
     "name": "stdout",
     "output_type": "stream",
     "text": [
      "+----------+---------------+\n",
      "|  Field   |      VIF      |\n",
      "+----------+---------------+\n",
      "|   AGE    | 18.8032332355 |\n",
      "|  INCOME  | 52.5775991354 |\n",
      "| INCOMESQ | 16.7513573406 |\n",
      "| OWNRENT  | 2.12057204229 |\n",
      "+----------+---------------+\n"
     ]
    }
   ],
   "source": [
    "ptable = PrettyTable(['Field', 'VIF'])\n",
    "\n",
    "for i in xrange(Xcc.shape[1]):\n",
    "    ptable.add_row((dfcc.columns[i], VIF(Xcc, i)))\n",
    "    \n",
    "print ptable"
   ]
  },
  {
   "cell_type": "markdown",
   "metadata": {},
   "source": [
    "    High multicolinearity among features: 'AGE', 'INCOME', 'INCOMESQ'."
   ]
  },
  {
   "cell_type": "code",
   "execution_count": null,
   "metadata": {
    "collapsed": true
   },
   "outputs": [],
   "source": []
  },
  {
   "cell_type": "code",
   "execution_count": null,
   "metadata": {
    "collapsed": true
   },
   "outputs": [],
   "source": []
  },
  {
   "cell_type": "code",
   "execution_count": null,
   "metadata": {
    "collapsed": true
   },
   "outputs": [],
   "source": []
  },
  {
   "cell_type": "code",
   "execution_count": null,
   "metadata": {
    "collapsed": true
   },
   "outputs": [],
   "source": []
  }
 ],
 "metadata": {
  "kernelspec": {
   "display_name": "Python 2",
   "language": "python",
   "name": "python2"
  },
  "language_info": {
   "codemirror_mode": {
    "name": "ipython",
    "version": 2
   },
   "file_extension": ".py",
   "mimetype": "text/x-python",
   "name": "python",
   "nbconvert_exporter": "python",
   "pygments_lexer": "ipython2",
   "version": "2.7.11"
  }
 },
 "nbformat": 4,
 "nbformat_minor": 0
}
