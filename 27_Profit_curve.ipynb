{
 "cells": [
  {
   "cell_type": "markdown",
   "metadata": {},
   "source": [
    "## Profit Curves\n",
    "---\n",
    "**Elo notes**"
   ]
  },
  {
   "cell_type": "markdown",
   "metadata": {},
   "source": [
    "ROC Curves alone assume an equal cost due to\n",
    "misclassification, however:\n",
    "\n",
    "* Different kinds of errors have different costs \n",
    "* Correct classifications could also have different benefits\n",
    "\n",
    "**Profit Curves** allow us to compare models and select the one that will maximize profit for a specified cost-benefit"
   ]
  },
  {
   "cell_type": "markdown",
   "metadata": {},
   "source": [
    "#### Cost–benefit analysis\n",
    "\n",
    "Cost–benefit analysis (CBA), sometimes called benefit–cost analysis (BCA), is a systematic approach to estimating the strengths and weaknesses of alternatives (for example in transactions, activities, functional business requirements); it is used to determine options that provide the best approach to achieve benefits while preserving savings.\n",
    "\n",
    "Broadly, CBA has two main purposes:\n",
    "\n",
    "* To determine if an investment/decision is sound (justification/feasibility) – verifying whether its benefits outweigh the costs, and by how much;\n",
    "\n",
    "* To provide a basis for comparing projects – which involves comparing the total expected cost of each option against its total expected benefits\n",
    "\n",
    "CBA is related to, but distinct from cost-effectiveness analysis. In CBA, benefits and costs are expressed in monetary terms, and are adjusted for the time value of money, so that all flows of benefits and flows of project costs over time (which tend to occur at different points in time) are expressed on a common basis in terms of their net present value.\n",
    "\n",
    "Closely related, but slightly different, formal techniques include cost-effectiveness analysis, cost–utility analysis, risk–benefit analysis, economic impact analysis, fiscal impact analysis, and social return on investment (SROI) analysis.\n",
    "\n",
    "Cost–benefit analysis is often used by organizations to appraise the desirability of a given policy. It is an analysis of the expected balance of benefits and costs, including an account of foregone alternatives and the status quo. CBA helps predict whether the benefits of a policy outweigh its costs, and by how much relative to other alternatives, so that one can rank alternate policies in terms of the cost–benefit ratio. Generally, accurate cost–benefit analysis identifies choices that increase welfare from a utilitarian perspective. Assuming an accurate CBA, changing the status quo by implementing the alternative with the lowest cost–benefit ratio can improve Pareto efficiency. While CBA can offer a well-educated estimate of the best alternative – perfect appraisal of all present and future costs and benefits is difficult –, perfection in terms of economic efficiency and social welfare are not guaranteed"
   ]
  },
  {
   "cell_type": "markdown",
   "metadata": {},
   "source": [
    "#### Biasing a Classification Model\n",
    "\n",
    "Costs, prior probabilities, and class weights are methods for biasing classification models.\n",
    "Costs\n",
    "\n",
    "A cost matrix is a mechanism for influencing the decision making of a model. A cost matrix can cause the model to minimize costly misclassifications. It can also cause the model to maximize beneficial accurate classifications.\n",
    "\n",
    "For example, if a model classifies a customer with poor credit as low risk, this error is costly. A cost matrix could bias the model to avoid this type of error. The cost matrix might also be used to bias the model in favor of the correct classification of customers who have the worst credit history.\n",
    "\n",
    "ROC is a useful metric for evaluating how a model behaves with different probability thresholds. You can use ROC to help you find optimal costs for a given classifier given different usage scenarios. You can use this information to create cost matrices to influence the deployment of the model."
   ]
  },
  {
   "cell_type": "markdown",
   "metadata": {},
   "source": [
    "#### Costs Versus Accuracy\n",
    "\n",
    "Like a confusion matrix, a cost matrix is an n-by-n matrix, where n is the number of classes. Both confusion matrices and cost matrices include each possible combination of actual and predicted results based on a given set of test data.\n",
    "\n",
    "A confusion matrix is used to measure accuracy, the ratio of correct predictions to the total number of predictions. A cost matrix is used to specify the relative importance of accuracy for different predictions. In most business applications, it is important to consider costs in addition to accuracy when evaluating model quality. (See \"Confusion Matrix\".)"
   ]
  },
  {
   "cell_type": "markdown",
   "metadata": {
    "collapsed": true
   },
   "source": [
    "#### Positive and Negative Classes\n",
    "\n",
    "The positive class is the class that you care the most about. Designation of a positive class is required for computing lift and ROC. (See \"Lift\" and \"Receiver Operating Characteristic (ROC)\").\n",
    "\n",
    "In the confusion matrix, the value 1 is designated as the positive class. This means that the creator of the model has determined that it is more important to accurately predict customers who will increase spending with an affinity card (affinity_card=1) than to accurately predict non-responders (affinity_card=0). If you give affinity cards to some customers who are not likely to use them, there is little loss to the company since the cost of the cards is low. However, if you overlook the customers who are likely to respond, you miss the opportunity to increase your revenue.\n",
    "\n",
    "The true and false positive rates in this confusion matrix are:\n",
    "\n",
    "False positive rate — $10/(10 + 725) =.01$\n",
    "\n",
    "True positive rate — $516/(516 + 25) =.95$\n",
    "\n",
    "\n",
    "**Assigning Costs and Benefits**\n",
    "\n",
    "In a cost matrix, positive numbers (costs) can be used to influence negative outcomes. Since negative costs are interpreted as benefits, negative numbers (benefits) can be used to influence positive outcomes.\n",
    "\n",
    "Suppose you have calculated that it costs your business $1500$ when you do not give an affinity card to a customer who would increase spending. Using the model with the confusion matrix, each false negative (misclassification of a responder) would cost $1500$. Misclassifying a non-responder is less expensive to your business. You figure that each false positive (misclassification of a non-responder) would only cost $300$.\n",
    "\n",
    "You want to keep these costs in mind when you design a promotion campaign. You estimate that it will cost $10$ to include a customer in the promotion. For this reason, you associate a benefit of $10$ with each true negative prediction, because you can simply eliminate those customers from your promotion. Each customer that you eliminate represents a savings of $10$. In your cost matrix, you would specify this benefit as -10, a negative cost."
   ]
  },
  {
   "cell_type": "code",
   "execution_count": 11,
   "metadata": {
    "collapsed": false
   },
   "outputs": [],
   "source": [
    "from __future__ import division\n",
    "\n",
    "from sklearn.linear_model import LogisticRegression as LR\n",
    "from sklearn.ensemble import RandomForestClassifier as RF\n",
    "from sklearn.ensemble import GradientBoostingClassifier as GBC\n",
    "from sklearn.svm import SVC\n",
    "\n",
    "from sklearn.cross_validation import train_test_split\n",
    "from sklearn.metrics import confusion_matrix\n",
    "\n",
    "\n",
    "import pandas as pd\n",
    "import numpy as np\n",
    "\n",
    "import matplotlib.pyplot as plt\n",
    "\n",
    "%matplotlib inline"
   ]
  },
  {
   "cell_type": "code",
   "execution_count": 12,
   "metadata": {
    "collapsed": true
   },
   "outputs": [],
   "source": [
    "df_source = pd.read_csv('data/churn_sample.csv')"
   ]
  },
  {
   "cell_type": "code",
   "execution_count": 13,
   "metadata": {
    "collapsed": false
   },
   "outputs": [
    {
     "data": {
      "text/html": [
       "<div>\n",
       "<table border=\"1\" class=\"dataframe\">\n",
       "  <thead>\n",
       "    <tr style=\"text-align: right;\">\n",
       "      <th></th>\n",
       "      <th>0</th>\n",
       "      <th>1</th>\n",
       "    </tr>\n",
       "  </thead>\n",
       "  <tbody>\n",
       "    <tr>\n",
       "      <th>State</th>\n",
       "      <td>KS</td>\n",
       "      <td>OH</td>\n",
       "    </tr>\n",
       "    <tr>\n",
       "      <th>Account Length</th>\n",
       "      <td>128</td>\n",
       "      <td>107</td>\n",
       "    </tr>\n",
       "    <tr>\n",
       "      <th>Area Code</th>\n",
       "      <td>415</td>\n",
       "      <td>415</td>\n",
       "    </tr>\n",
       "    <tr>\n",
       "      <th>Phone</th>\n",
       "      <td>382-4657</td>\n",
       "      <td>371-7191</td>\n",
       "    </tr>\n",
       "    <tr>\n",
       "      <th>Int'l Plan</th>\n",
       "      <td>no</td>\n",
       "      <td>no</td>\n",
       "    </tr>\n",
       "    <tr>\n",
       "      <th>VMail Plan</th>\n",
       "      <td>yes</td>\n",
       "      <td>yes</td>\n",
       "    </tr>\n",
       "    <tr>\n",
       "      <th>VMail Message</th>\n",
       "      <td>25</td>\n",
       "      <td>26</td>\n",
       "    </tr>\n",
       "    <tr>\n",
       "      <th>Day Mins</th>\n",
       "      <td>265.1</td>\n",
       "      <td>161.6</td>\n",
       "    </tr>\n",
       "    <tr>\n",
       "      <th>Day Calls</th>\n",
       "      <td>110</td>\n",
       "      <td>123</td>\n",
       "    </tr>\n",
       "    <tr>\n",
       "      <th>Day Charge</th>\n",
       "      <td>45.07</td>\n",
       "      <td>27.47</td>\n",
       "    </tr>\n",
       "    <tr>\n",
       "      <th>Eve Mins</th>\n",
       "      <td>197.4</td>\n",
       "      <td>195.5</td>\n",
       "    </tr>\n",
       "    <tr>\n",
       "      <th>Eve Calls</th>\n",
       "      <td>99</td>\n",
       "      <td>103</td>\n",
       "    </tr>\n",
       "    <tr>\n",
       "      <th>Eve Charge</th>\n",
       "      <td>16.78</td>\n",
       "      <td>16.62</td>\n",
       "    </tr>\n",
       "    <tr>\n",
       "      <th>Night Mins</th>\n",
       "      <td>244.7</td>\n",
       "      <td>254.4</td>\n",
       "    </tr>\n",
       "    <tr>\n",
       "      <th>Night Calls</th>\n",
       "      <td>91</td>\n",
       "      <td>103</td>\n",
       "    </tr>\n",
       "    <tr>\n",
       "      <th>Night Charge</th>\n",
       "      <td>11.01</td>\n",
       "      <td>11.45</td>\n",
       "    </tr>\n",
       "    <tr>\n",
       "      <th>Intl Mins</th>\n",
       "      <td>10</td>\n",
       "      <td>13.7</td>\n",
       "    </tr>\n",
       "    <tr>\n",
       "      <th>Intl Calls</th>\n",
       "      <td>3</td>\n",
       "      <td>3</td>\n",
       "    </tr>\n",
       "    <tr>\n",
       "      <th>Intl Charge</th>\n",
       "      <td>2.7</td>\n",
       "      <td>3.7</td>\n",
       "    </tr>\n",
       "    <tr>\n",
       "      <th>CustServ Calls</th>\n",
       "      <td>1</td>\n",
       "      <td>1</td>\n",
       "    </tr>\n",
       "    <tr>\n",
       "      <th>Churn?</th>\n",
       "      <td>False.</td>\n",
       "      <td>False.</td>\n",
       "    </tr>\n",
       "  </tbody>\n",
       "</table>\n",
       "</div>"
      ],
      "text/plain": [
       "                       0         1\n",
       "State                 KS        OH\n",
       "Account Length       128       107\n",
       "Area Code            415       415\n",
       "Phone           382-4657  371-7191\n",
       "Int'l Plan            no        no\n",
       "VMail Plan           yes       yes\n",
       "VMail Message         25        26\n",
       "Day Mins           265.1     161.6\n",
       "Day Calls            110       123\n",
       "Day Charge         45.07     27.47\n",
       "Eve Mins           197.4     195.5\n",
       "Eve Calls             99       103\n",
       "Eve Charge         16.78     16.62\n",
       "Night Mins         244.7     254.4\n",
       "Night Calls           91       103\n",
       "Night Charge       11.01     11.45\n",
       "Intl Mins             10      13.7\n",
       "Intl Calls             3         3\n",
       "Intl Charge          2.7       3.7\n",
       "CustServ Calls         1         1\n",
       "Churn?            False.    False."
      ]
     },
     "execution_count": 13,
     "metadata": {},
     "output_type": "execute_result"
    }
   ],
   "source": [
    "df_source[:2].T"
   ]
  },
  {
   "cell_type": "code",
   "execution_count": 14,
   "metadata": {
    "collapsed": false
   },
   "outputs": [],
   "source": [
    "dropcols = ['Phone', 'Area Code', 'State']\n",
    "df = df_source.drop(dropcols, axis=1)"
   ]
  },
  {
   "cell_type": "code",
   "execution_count": 15,
   "metadata": {
    "collapsed": true
   },
   "outputs": [],
   "source": [
    "df['Churn?'] = df['Churn?'].map({'False.':False, \"True.\":True})\n",
    "df[\"Int'l Plan\"]=df[\"Int'l Plan\"].map({'yes': True,'no':False})\n",
    "df[\"VMail Plan\"] = df[\"VMail Plan\"].map({'yes': True,'no':False})"
   ]
  },
  {
   "cell_type": "code",
   "execution_count": 16,
   "metadata": {
    "collapsed": true
   },
   "outputs": [],
   "source": [
    "def cmatrix(y_truth, y_prediction):\n",
    "    y_truth, y_prediction = np.array(y_truth), np.array(y_prediction)\n",
    "    \n",
    "    tp = np.sum((y_truth == y_prediction) & (y_truth == 1))\n",
    "    tn = np.sum((y_truth == y_prediction) & (y_truth == 0))\n",
    "    fp = np.sum((y_truth != y_prediction) & (y_prediction == 1))\n",
    "    fn = np.sum((y_truth != y_prediction) & (y_prediction == 0))\n",
    "\n",
    "    \n",
    "    return np.array([[tp, fp], [fn, tn]])\n",
    "    "
   ]
  },
  {
   "cell_type": "code",
   "execution_count": 17,
   "metadata": {
    "collapsed": false
   },
   "outputs": [
    {
     "data": {
      "text/plain": [
       "array([[5, 0],\n",
       "       [1, 1]])"
      ]
     },
     "execution_count": 17,
     "metadata": {},
     "output_type": "execute_result"
    }
   ],
   "source": [
    "y_true = [1, 1, 1, 1, 1, 1, 0]\n",
    "y_predict = [1, 1, 1, 1, 0, 1, 0]\n",
    "\n",
    "cmatrix(y_true, y_predict)"
   ]
  },
  {
   "cell_type": "code",
   "execution_count": 18,
   "metadata": {
    "collapsed": false
   },
   "outputs": [
    {
     "data": {
      "text/plain": [
       "array([[1, 0],\n",
       "       [1, 5]])"
      ]
     },
     "execution_count": 18,
     "metadata": {},
     "output_type": "execute_result"
    }
   ],
   "source": [
    "# sklearn confusion matrix\n",
    "confusion_matrix(y_true, y_predict)"
   ]
  },
  {
   "cell_type": "code",
   "execution_count": 19,
   "metadata": {
    "collapsed": false
   },
   "outputs": [
    {
     "data": {
      "text/plain": [
       "array([[5, 0],\n",
       "       [1, 1]])"
      ]
     },
     "execution_count": 19,
     "metadata": {},
     "output_type": "execute_result"
    }
   ],
   "source": [
    "# In order to obtain this format ([[tp, fp], [fn, tn]]) we need to add .T\n",
    "confusion_matrix(y_true,y_predict, labels=[1,0]).T"
   ]
  },
  {
   "cell_type": "code",
   "execution_count": 20,
   "metadata": {
    "collapsed": true
   },
   "outputs": [],
   "source": [
    "def profit_curve(cost_benefit, predicted_probabilities, labels):\n",
    "    profits = []\n",
    "    percentages = []\n",
    "    sorted_probabilities = sorted(predicted_probabilities, reverse=True)\n",
    "    for threshold in sorted_probabilities:\n",
    "        predicting = (predicted_probabilities > threshold).astype(int)\n",
    "        cm = confusion_matrix(labels, predicting, labels=[1,0]).T\n",
    "        profits.append(np.sum(cost_benefit * cm)* 1. / len(labels))\n",
    "        percentages.append(cm.sum(axis=1)[0]/cm.sum())\n",
    "    return profits, percentages"
   ]
  },
  {
   "cell_type": "code",
   "execution_count": 21,
   "metadata": {
    "collapsed": true
   },
   "outputs": [],
   "source": [
    "probas = np.array([0.2, 0.6, 0.4])\n",
    "labels = np.array([0, 0, 1])\n",
    "cb = np.array([[6, -3], [0, 0]])"
   ]
  },
  {
   "cell_type": "code",
   "execution_count": 22,
   "metadata": {
    "collapsed": false
   },
   "outputs": [
    {
     "data": {
      "text/plain": [
       "([0.0, -1.0, 1.0], [0.0, 0.33333333333333331, 0.66666666666666663])"
      ]
     },
     "execution_count": 22,
     "metadata": {},
     "output_type": "execute_result"
    }
   ],
   "source": [
    "profit_curve(cb, probas, labels)"
   ]
  },
  {
   "cell_type": "code",
   "execution_count": 23,
   "metadata": {
    "collapsed": true
   },
   "outputs": [],
   "source": [
    "y = df.pop('Churn?').values\n",
    "feature_names = df.columns\n",
    "X = df.values"
   ]
  },
  {
   "cell_type": "code",
   "execution_count": 30,
   "metadata": {
    "collapsed": false
   },
   "outputs": [],
   "source": [
    "X_train, X_test, y_train, y_test = train_test_split(X, y)"
   ]
  },
  {
   "cell_type": "code",
   "execution_count": 31,
   "metadata": {
    "collapsed": true
   },
   "outputs": [],
   "source": [
    "def plot_profit_curve(model, cost_benefit, X_train, X_test, y_train, y_test):\n",
    "    model.fit(X_train, y_train)\n",
    "    model_name = model.__class__.__name__.replace('Regressor', '')\n",
    "    \n",
    "    y_predicted_probabilities = model.predict_proba(X_test)[:,1]\n",
    "    \n",
    "    profits, percentages = profit_curve(cost_benefit, y_predicted_probabilities, y_test)\n",
    "    \n",
    "    plt.plot(percentages, profits, label=model_name)\n",
    "    plt.xlabel('Percentage predicted as positive')\n",
    "    plt.ylabel('profit')\n",
    "    plt.legend(loc='lower right')\n",
    "    \n",
    "    return profits, percentages"
   ]
  },
  {
   "cell_type": "code",
   "execution_count": 34,
   "metadata": {
    "collapsed": true
   },
   "outputs": [],
   "source": [
    "def plot_profit_curve_(model, cost_benefit, X_train, X_test, y_train, y_test):\n",
    "    model.fit(X_train, y_train)\n",
    "    model_name = model.__class__.__name__.replace('Regressor', '')\n",
    "    \n",
    "    y_predicted_probabilities = model.predict_proba(X_test)[:,1]\n",
    "    \n",
    "    profits, percentages = profit_curve(cost_benefit, y_predicted_probabilities, y_test)\n",
    "    \n",
    "    plt.plot(percentages, profits, label=model_name)\n",
    "    plt.xlabel('Percentage predicted as positive')\n",
    "    plt.ylabel('profit')\n",
    "    plt.legend(loc='lower right')\n",
    "    "
   ]
  },
  {
   "cell_type": "code",
   "execution_count": 28,
   "metadata": {
    "collapsed": true
   },
   "outputs": [],
   "source": [
    "cost_benefit_ = np.array([[6, -3], [0, 0]])"
   ]
  },
  {
   "cell_type": "code",
   "execution_count": 35,
   "metadata": {
    "collapsed": false
   },
   "outputs": [
    {
     "data": {
      "image/png": "[encoded data removed]",
      "text/plain": [
       "<matplotlib.figure.Figure at 0x11944e610>"
      ]
     },
     "metadata": {},
     "output_type": "display_data"
    }
   ],
   "source": [
    "plot_profit_curve_(LogisticRegression(),cost_benefit_, X_train, X_test, y_train, y_test)"
   ]
  },
  {
   "cell_type": "code",
   "execution_count": 38,
   "metadata": {
    "collapsed": false
   },
   "outputs": [
    {
     "name": "stdout",
     "output_type": "stream",
     "text": [
      "Max Profit RandomForestClassifier: 0.579136690647\n",
      "At Percentage RandomForestClassifier: 0.112709832134\n",
      "------\n",
      "Max Profit LogisticRegression: 0.18345323741\n",
      "At Percentage LogisticRegression: 0.226618705036\n",
      "------\n",
      "Max Profit GradientBoostingClassifier: 0.571942446043\n",
      "At Percentage GradientBoostingClassifier: 0.154676258993\n",
      "------\n",
      "Max Profit SVC: 0.0\n",
      "At Percentage SVC: 0.0\n",
      "------\n"
     ]
    },
    {
     "data": {
      "image/png": "[encoded data removed]",
      "text/plain": [
       "<matplotlib.figure.Figure at 0x11d9ede10>"
      ]
     },
     "metadata": {},
     "output_type": "display_data"
    }
   ],
   "source": [
    "models = [RF(), LR(), GBC(), SVC(probability=True)]\n",
    "\n",
    "for model in models:\n",
    "    profits, percentages = plot_profit_curve(model, cost_benefit_, X_train, X_test, y_train, y_test)\n",
    "    print 'Max Profit {}: {}'.format(model.__class__.__name__, np.max(profits))\n",
    "    print 'At Percentage {}: {}'.format(model.__class__.__name__, percentages[np.argmax(np.array(profits))])\n",
    "    print '------'\n",
    "    \n",
    "plt.axhline(.9, ls='--')\n",
    "plt.axhline(0, ls='--')\n",
    "plt.title('Profit Curves')\n",
    "plt.xlabel('Percentage of test intances (decresing by score)')\n",
    "plt.ylabel('Profit')\n",
    "plt.legend(loc='center left', bbox_to_anchor=[1, .5])\n",
    "plt.show()"
   ]
  },
  {
   "cell_type": "markdown",
   "metadata": {
    "collapsed": true
   },
   "source": [
    "It appears that GradientBoosting classifier achieves the highest profit per transaction at 0.58 while targeting 15% of the customers.\n",
    "\n",
    "Note: Cost benefit matrix only targets people who were predicted positive."
   ]
  },
  {
   "cell_type": "code",
   "execution_count": null,
   "metadata": {
    "collapsed": true
   },
   "outputs": [],
   "source": []
  },
  {
   "cell_type": "code",
   "execution_count": null,
   "metadata": {
    "collapsed": true
   },
   "outputs": [],
   "source": []
  },
  {
   "cell_type": "code",
   "execution_count": null,
   "metadata": {
    "collapsed": true
   },
   "outputs": [],
   "source": []
  },
  {
   "cell_type": "code",
   "execution_count": null,
   "metadata": {
    "collapsed": true
   },
   "outputs": [],
   "source": []
  }
 ],
 "metadata": {
  "kernelspec": {
   "display_name": "Python 2",
   "language": "python",
   "name": "python2"
  },
  "language_info": {
   "codemirror_mode": {
    "name": "ipython",
    "version": 2
   },
   "file_extension": ".py",
   "mimetype": "text/x-python",
   "name": "python",
   "nbconvert_exporter": "python",
   "pygments_lexer": "ipython2",
   "version": "2.7.11"
  }
 },
 "nbformat": 4,
 "nbformat_minor": 0
}
