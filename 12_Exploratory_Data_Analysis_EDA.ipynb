{
 "cells": [
  {
   "cell_type": "markdown",
   "metadata": {},
   "source": [
    "## Exploratory Data Analysis (EDA) - Linear Regression\n",
    "---\n",
    "**Elo notes**\n"
   ]
  },
  {
   "cell_type": "code",
   "execution_count": 8,
   "metadata": {
    "collapsed": false
   },
   "outputs": [],
   "source": [
    "from mpl_toolkits.basemap import Basemap"
   ]
  },
  {
   "cell_type": "code",
   "execution_count": 110,
   "metadata": {
    "collapsed": false
   },
   "outputs": [],
   "source": [
    "from __future__ import division\n",
    "from scipy.stats.kde import gaussian_kde\n",
    "from plotly.graph_objs import *\n",
    "from pandas.tools.plotting import scatter_matrix\n",
    "\n",
    "import statsmodels.api as sm\n",
    "import plotly.plotly as py\n",
    "import numpy as np\n",
    "import pandas as pd\n",
    "import matplotlib.pyplot as plt\n",
    "import seaborn as sea\n",
    "\n",
    "%autoreload 2\n",
    "% matplotlib inline"
   ]
  },
  {
   "cell_type": "code",
   "execution_count": 10,
   "metadata": {
    "collapsed": false
   },
   "outputs": [],
   "source": [
    "df = pd.read_csv('data/201402_trip_data.csv', parse_dates=['start_date', 'end_date'])"
   ]
  },
  {
   "cell_type": "code",
   "execution_count": 11,
   "metadata": {
    "collapsed": false
   },
   "outputs": [
    {
     "data": {
      "text/html": [
       "<div>\n",
       "<table border=\"1\" class=\"dataframe\">\n",
       "  <thead>\n",
       "    <tr style=\"text-align: right;\">\n",
       "      <th></th>\n",
       "      <th>0</th>\n",
       "      <th>1</th>\n",
       "    </tr>\n",
       "  </thead>\n",
       "  <tbody>\n",
       "    <tr>\n",
       "      <th>trip_id</th>\n",
       "      <td>4576</td>\n",
       "      <td>4607</td>\n",
       "    </tr>\n",
       "    <tr>\n",
       "      <th>duration</th>\n",
       "      <td>63</td>\n",
       "      <td>70</td>\n",
       "    </tr>\n",
       "    <tr>\n",
       "      <th>start_date</th>\n",
       "      <td>2013-08-29 14:13:00</td>\n",
       "      <td>2013-08-29 14:42:00</td>\n",
       "    </tr>\n",
       "    <tr>\n",
       "      <th>start_station</th>\n",
       "      <td>South Van Ness at Market</td>\n",
       "      <td>San Jose City Hall</td>\n",
       "    </tr>\n",
       "    <tr>\n",
       "      <th>start_terminal</th>\n",
       "      <td>66</td>\n",
       "      <td>10</td>\n",
       "    </tr>\n",
       "    <tr>\n",
       "      <th>end_date</th>\n",
       "      <td>2013-08-29 14:14:00</td>\n",
       "      <td>2013-08-29 14:43:00</td>\n",
       "    </tr>\n",
       "    <tr>\n",
       "      <th>end_station</th>\n",
       "      <td>South Van Ness at Market</td>\n",
       "      <td>San Jose City Hall</td>\n",
       "    </tr>\n",
       "    <tr>\n",
       "      <th>end_terminal</th>\n",
       "      <td>66</td>\n",
       "      <td>10</td>\n",
       "    </tr>\n",
       "    <tr>\n",
       "      <th>bike_#</th>\n",
       "      <td>520</td>\n",
       "      <td>661</td>\n",
       "    </tr>\n",
       "    <tr>\n",
       "      <th>subscription_type</th>\n",
       "      <td>Subscriber</td>\n",
       "      <td>Subscriber</td>\n",
       "    </tr>\n",
       "    <tr>\n",
       "      <th>zip_code</th>\n",
       "      <td>94127</td>\n",
       "      <td>95138</td>\n",
       "    </tr>\n",
       "  </tbody>\n",
       "</table>\n",
       "</div>"
      ],
      "text/plain": [
       "                                          0                    1\n",
       "trip_id                                4576                 4607\n",
       "duration                                 63                   70\n",
       "start_date              2013-08-29 14:13:00  2013-08-29 14:42:00\n",
       "start_station      South Van Ness at Market   San Jose City Hall\n",
       "start_terminal                           66                   10\n",
       "end_date                2013-08-29 14:14:00  2013-08-29 14:43:00\n",
       "end_station        South Van Ness at Market   San Jose City Hall\n",
       "end_terminal                             66                   10\n",
       "bike_#                                  520                  661\n",
       "subscription_type                Subscriber           Subscriber\n",
       "zip_code                              94127                95138"
      ]
     },
     "execution_count": 11,
     "metadata": {},
     "output_type": "execute_result"
    }
   ],
   "source": [
    "df[:2].T"
   ]
  },
  {
   "cell_type": "code",
   "execution_count": 12,
   "metadata": {
    "collapsed": false
   },
   "outputs": [
    {
     "name": "stdout",
     "output_type": "stream",
     "text": [
      "<class 'pandas.core.frame.DataFrame'>\n",
      "Int64Index: 144015 entries, 0 to 144014\n",
      "Data columns (total 11 columns):\n",
      "trip_id              144015 non-null int64\n",
      "duration             144015 non-null int64\n",
      "start_date           144015 non-null datetime64[ns]\n",
      "start_station        144015 non-null object\n",
      "start_terminal       144015 non-null int64\n",
      "end_date             144015 non-null datetime64[ns]\n",
      "end_station          144015 non-null object\n",
      "end_terminal         144015 non-null int64\n",
      "bike_#               144015 non-null int64\n",
      "subscription_type    144015 non-null object\n",
      "zip_code             137885 non-null object\n",
      "dtypes: datetime64[ns](2), int64(5), object(4)\n",
      "memory usage: 13.2+ MB\n"
     ]
    }
   ],
   "source": [
    "df.info()"
   ]
  },
  {
   "cell_type": "code",
   "execution_count": 13,
   "metadata": {
    "collapsed": false
   },
   "outputs": [
    {
     "data": {
      "text/plain": [
       "Subscriber    113647\n",
       "Customer       30368\n",
       "dtype: int64"
      ]
     },
     "execution_count": 13,
     "metadata": {},
     "output_type": "execute_result"
    }
   ],
   "source": [
    "df.subscription_type.value_counts()"
   ]
  },
  {
   "cell_type": "code",
   "execution_count": 14,
   "metadata": {
    "collapsed": true
   },
   "outputs": [],
   "source": [
    "df.subscription_type = df.subscription_type.astype('category')"
   ]
  },
  {
   "cell_type": "code",
   "execution_count": 15,
   "metadata": {
    "collapsed": false
   },
   "outputs": [
    {
     "name": "stdout",
     "output_type": "stream",
     "text": [
      "<class 'pandas.core.frame.DataFrame'>\n",
      "Int64Index: 144015 entries, 0 to 144014\n",
      "Data columns (total 11 columns):\n",
      "trip_id              144015 non-null int64\n",
      "duration             144015 non-null int64\n",
      "start_date           144015 non-null datetime64[ns]\n",
      "start_station        144015 non-null object\n",
      "start_terminal       144015 non-null int64\n",
      "end_date             144015 non-null datetime64[ns]\n",
      "end_station          144015 non-null object\n",
      "end_terminal         144015 non-null int64\n",
      "bike_#               144015 non-null int64\n",
      "subscription_type    144015 non-null category\n",
      "zip_code             137885 non-null object\n",
      "dtypes: category(1), datetime64[ns](2), int64(5), object(3)\n",
      "memory usage: 12.2+ MB\n"
     ]
    }
   ],
   "source": [
    "df.info()"
   ]
  },
  {
   "cell_type": "markdown",
   "metadata": {},
   "source": [
    "---\n",
    "NULL values represent missing unknown data.\n",
    " "
   ]
  },
  {
   "cell_type": "code",
   "execution_count": 16,
   "metadata": {
    "collapsed": false
   },
   "outputs": [
    {
     "data": {
      "text/plain": [
       "144015"
      ]
     },
     "execution_count": 16,
     "metadata": {},
     "output_type": "execute_result"
    }
   ],
   "source": [
    "df.duration.isnull().count()"
   ]
  },
  {
   "cell_type": "code",
   "execution_count": 17,
   "metadata": {
    "collapsed": false
   },
   "outputs": [
    {
     "data": {
      "text/plain": [
       "0"
      ]
     },
     "execution_count": 17,
     "metadata": {},
     "output_type": "execute_result"
    }
   ],
   "source": [
    "df.duration.isnull().sum()"
   ]
  },
  {
   "cell_type": "code",
   "execution_count": 18,
   "metadata": {
    "collapsed": false
   },
   "outputs": [
    {
     "data": {
      "text/plain": [
       "False    144015\n",
       "dtype: int64"
      ]
     },
     "execution_count": 18,
     "metadata": {},
     "output_type": "execute_result"
    }
   ],
   "source": [
    "df.duration.isnull().value_counts()"
   ]
  },
  {
   "cell_type": "code",
   "execution_count": 19,
   "metadata": {
    "collapsed": false
   },
   "outputs": [
    {
     "data": {
      "text/plain": [
       "trip_id                 0\n",
       "duration                0\n",
       "start_date              0\n",
       "start_station           0\n",
       "start_terminal          0\n",
       "end_date                0\n",
       "end_station             0\n",
       "end_terminal            0\n",
       "bike_#                  0\n",
       "subscription_type       0\n",
       "zip_code             6130\n",
       "dtype: int64"
      ]
     },
     "execution_count": 19,
     "metadata": {},
     "output_type": "execute_result"
    }
   ],
   "source": [
    "df.apply(lambda x : x.isnull().sum())"
   ]
  },
  {
   "cell_type": "code",
   "execution_count": 20,
   "metadata": {
    "collapsed": true
   },
   "outputs": [],
   "source": [
    "df['month'] = pd.DatetimeIndex(df.start_date).month"
   ]
  },
  {
   "cell_type": "code",
   "execution_count": 21,
   "metadata": {
    "collapsed": true
   },
   "outputs": [],
   "source": [
    "df['dow'] = pd.DatetimeIndex(df.start_date).dayofweek"
   ]
  },
  {
   "cell_type": "code",
   "execution_count": 22,
   "metadata": {
    "collapsed": true
   },
   "outputs": [],
   "source": [
    "df['date'] = pd.DatetimeIndex(df.start_date).date"
   ]
  },
  {
   "cell_type": "code",
   "execution_count": 23,
   "metadata": {
    "collapsed": true
   },
   "outputs": [],
   "source": [
    "df['hour'] = pd.DatetimeIndex(df.start_date).hour"
   ]
  },
  {
   "cell_type": "code",
   "execution_count": 24,
   "metadata": {
    "collapsed": true
   },
   "outputs": [],
   "source": [
    "df['day'] = pd.DatetimeIndex(df.start_date).day"
   ]
  },
  {
   "cell_type": "code",
   "execution_count": 25,
   "metadata": {
    "collapsed": false
   },
   "outputs": [
    {
     "data": {
      "text/html": [
       "<div>\n",
       "<table border=\"1\" class=\"dataframe\">\n",
       "  <thead>\n",
       "    <tr style=\"text-align: right;\">\n",
       "      <th></th>\n",
       "      <th>0</th>\n",
       "      <th>1</th>\n",
       "    </tr>\n",
       "  </thead>\n",
       "  <tbody>\n",
       "    <tr>\n",
       "      <th>trip_id</th>\n",
       "      <td>4576</td>\n",
       "      <td>4607</td>\n",
       "    </tr>\n",
       "    <tr>\n",
       "      <th>duration</th>\n",
       "      <td>63</td>\n",
       "      <td>70</td>\n",
       "    </tr>\n",
       "    <tr>\n",
       "      <th>start_date</th>\n",
       "      <td>2013-08-29 14:13:00</td>\n",
       "      <td>2013-08-29 14:42:00</td>\n",
       "    </tr>\n",
       "    <tr>\n",
       "      <th>start_station</th>\n",
       "      <td>South Van Ness at Market</td>\n",
       "      <td>San Jose City Hall</td>\n",
       "    </tr>\n",
       "    <tr>\n",
       "      <th>start_terminal</th>\n",
       "      <td>66</td>\n",
       "      <td>10</td>\n",
       "    </tr>\n",
       "    <tr>\n",
       "      <th>end_date</th>\n",
       "      <td>2013-08-29 14:14:00</td>\n",
       "      <td>2013-08-29 14:43:00</td>\n",
       "    </tr>\n",
       "    <tr>\n",
       "      <th>end_station</th>\n",
       "      <td>South Van Ness at Market</td>\n",
       "      <td>San Jose City Hall</td>\n",
       "    </tr>\n",
       "    <tr>\n",
       "      <th>end_terminal</th>\n",
       "      <td>66</td>\n",
       "      <td>10</td>\n",
       "    </tr>\n",
       "    <tr>\n",
       "      <th>bike_#</th>\n",
       "      <td>520</td>\n",
       "      <td>661</td>\n",
       "    </tr>\n",
       "    <tr>\n",
       "      <th>subscription_type</th>\n",
       "      <td>Subscriber</td>\n",
       "      <td>Subscriber</td>\n",
       "    </tr>\n",
       "    <tr>\n",
       "      <th>zip_code</th>\n",
       "      <td>94127</td>\n",
       "      <td>95138</td>\n",
       "    </tr>\n",
       "    <tr>\n",
       "      <th>month</th>\n",
       "      <td>8</td>\n",
       "      <td>8</td>\n",
       "    </tr>\n",
       "    <tr>\n",
       "      <th>dow</th>\n",
       "      <td>3</td>\n",
       "      <td>3</td>\n",
       "    </tr>\n",
       "    <tr>\n",
       "      <th>date</th>\n",
       "      <td>2013-08-29</td>\n",
       "      <td>2013-08-29</td>\n",
       "    </tr>\n",
       "    <tr>\n",
       "      <th>hour</th>\n",
       "      <td>14</td>\n",
       "      <td>14</td>\n",
       "    </tr>\n",
       "    <tr>\n",
       "      <th>day</th>\n",
       "      <td>29</td>\n",
       "      <td>29</td>\n",
       "    </tr>\n",
       "  </tbody>\n",
       "</table>\n",
       "</div>"
      ],
      "text/plain": [
       "                                          0                    1\n",
       "trip_id                                4576                 4607\n",
       "duration                                 63                   70\n",
       "start_date              2013-08-29 14:13:00  2013-08-29 14:42:00\n",
       "start_station      South Van Ness at Market   San Jose City Hall\n",
       "start_terminal                           66                   10\n",
       "end_date                2013-08-29 14:14:00  2013-08-29 14:43:00\n",
       "end_station        South Van Ness at Market   San Jose City Hall\n",
       "end_terminal                             66                   10\n",
       "bike_#                                  520                  661\n",
       "subscription_type                Subscriber           Subscriber\n",
       "zip_code                              94127                95138\n",
       "month                                     8                    8\n",
       "dow                                       3                    3\n",
       "date                             2013-08-29           2013-08-29\n",
       "hour                                     14                   14\n",
       "day                                      29                   29"
      ]
     },
     "execution_count": 25,
     "metadata": {},
     "output_type": "execute_result"
    }
   ],
   "source": [
    "df[:2].T"
   ]
  },
  {
   "cell_type": "code",
   "execution_count": 26,
   "metadata": {
    "collapsed": false
   },
   "outputs": [
    {
     "data": {
      "text/plain": [
       "month\n",
       "1    24428\n",
       "2    19024\n",
       "Name: trip_id, dtype: int64"
      ]
     },
     "execution_count": 26,
     "metadata": {},
     "output_type": "execute_result"
    }
   ],
   "source": [
    "monthly_rides = df.groupby(df.month).trip_id.count()\n",
    "monthly_rides[:2] # it's a df"
   ]
  },
  {
   "cell_type": "code",
   "execution_count": 27,
   "metadata": {
    "collapsed": false
   },
   "outputs": [
    {
     "data": {
      "image/png": "[encoded data removed]",
      "text/plain": [
       "<matplotlib.figure.Figure at 0x1153a8650>"
      ]
     },
     "metadata": {},
     "output_type": "display_data"
    }
   ],
   "source": [
    "monthly_rides.plot(kind='bar');"
   ]
  },
  {
   "cell_type": "code",
   "execution_count": 28,
   "metadata": {
    "collapsed": false
   },
   "outputs": [
    {
     "data": {
      "text/html": [
       "<div>\n",
       "<table border=\"1\" class=\"dataframe\">\n",
       "  <thead>\n",
       "    <tr style=\"text-align: right;\">\n",
       "      <th></th>\n",
       "      <th>month</th>\n",
       "      <th>trip_id</th>\n",
       "    </tr>\n",
       "  </thead>\n",
       "  <tbody>\n",
       "    <tr>\n",
       "      <th>0</th>\n",
       "      <td>1</td>\n",
       "      <td>24428</td>\n",
       "    </tr>\n",
       "    <tr>\n",
       "      <th>1</th>\n",
       "      <td>2</td>\n",
       "      <td>19024</td>\n",
       "    </tr>\n",
       "    <tr>\n",
       "      <th>2</th>\n",
       "      <td>8</td>\n",
       "      <td>2102</td>\n",
       "    </tr>\n",
       "    <tr>\n",
       "      <th>3</th>\n",
       "      <td>9</td>\n",
       "      <td>25243</td>\n",
       "    </tr>\n",
       "    <tr>\n",
       "      <th>4</th>\n",
       "      <td>10</td>\n",
       "      <td>29105</td>\n",
       "    </tr>\n",
       "    <tr>\n",
       "      <th>5</th>\n",
       "      <td>11</td>\n",
       "      <td>24219</td>\n",
       "    </tr>\n",
       "    <tr>\n",
       "      <th>6</th>\n",
       "      <td>12</td>\n",
       "      <td>19894</td>\n",
       "    </tr>\n",
       "  </tbody>\n",
       "</table>\n",
       "</div>"
      ],
      "text/plain": [
       "   month  trip_id\n",
       "0      1    24428\n",
       "1      2    19024\n",
       "2      8     2102\n",
       "3      9    25243\n",
       "4     10    29105\n",
       "5     11    24219\n",
       "6     12    19894"
      ]
     },
     "execution_count": 28,
     "metadata": {},
     "output_type": "execute_result"
    }
   ],
   "source": [
    "mr = monthly_rides.reset_index() # we need the months mr --> monthly_rides\n",
    "mr"
   ]
  },
  {
   "cell_type": "code",
   "execution_count": 30,
   "metadata": {
    "collapsed": false
   },
   "outputs": [
    {
     "data": {
      "image/png": "[encoded data removed]",
      "text/plain": [
       "<matplotlib.figure.Figure at 0x11601ea90>"
      ]
     },
     "metadata": {},
     "output_type": "display_data"
    }
   ],
   "source": [
    "plt.scatter(mr.month, mr.trip_id);\n",
    "plt.suptitle('montly_rides')\n",
    "plt.xlabel('month')\n",
    "plt.ylabel('qty');"
   ]
  },
  {
   "cell_type": "code",
   "execution_count": 31,
   "metadata": {
    "collapsed": true
   },
   "outputs": [],
   "source": [
    "daily_rides= df.groupby(df.date).trip_id.count()"
   ]
  },
  {
   "cell_type": "code",
   "execution_count": 32,
   "metadata": {
    "collapsed": false
   },
   "outputs": [
    {
     "data": {
      "image/png": "[encoded data removed]",
      "text/plain": [
       "<matplotlib.figure.Figure at 0x1151fa210>"
      ]
     },
     "metadata": {},
     "output_type": "display_data"
    }
   ],
   "source": [
    "daily_rides.hist(bins=15, normed=True, edgecolor='none', alpha=0.4)\n",
    "daily_rides.plot(kind='kde', c='r')\n",
    "_ = plt.xlim(0,1400)"
   ]
  },
  {
   "cell_type": "code",
   "execution_count": 33,
   "metadata": {
    "collapsed": false
   },
   "outputs": [],
   "source": [
    "weekday_daily_counts = df[df['dow'] >= 5].groupby('date').trip_id.count()\n",
    "weekend_daily_counts = df[df['dow'] < 5].groupby('date').trip_id.count()"
   ]
  },
  {
   "cell_type": "code",
   "execution_count": 34,
   "metadata": {
    "collapsed": false
   },
   "outputs": [
    {
     "data": {
      "image/png": "[encoded data removed]",
      "text/plain": [
       "<matplotlib.figure.Figure at 0x116032250>"
      ]
     },
     "metadata": {},
     "output_type": "display_data"
    }
   ],
   "source": [
    "weekday_daily_counts.hist(bins=15, alpha=.6, normed=True, edgecolor='none')\n",
    "weekday_daily_counts.plot(kind='kde', alpha=.6, label='Weekday')\n",
    "\n",
    "weekend_daily_counts.hist(bins=15, alpha=.6, normed=True, edgecolor='none')\n",
    "weekend_daily_counts.plot(kind='kde', alpha=.6, label='Weekend')\n",
    "\n",
    "_ = plt.xlim(0,1500)\n",
    "\n",
    "plt.xlabel('Number of Users')\n",
    "plt.ylabel('Probability density')\n",
    "\n",
    "plt.legend()\n",
    "plt.show()\n"
   ]
  },
  {
   "cell_type": "markdown",
   "metadata": {},
   "source": [
    "Now I am going to explore hourly trends of user activity. Group the bike rides by date and hour and count the number of rides in the given hour on the given date. Make a boxplot of the hours in the day (x) against the number of users (y) in that given hour.\n",
    "\n"
   ]
  },
  {
   "cell_type": "code",
   "execution_count": 35,
   "metadata": {
    "collapsed": false
   },
   "outputs": [
    {
     "name": "stderr",
     "output_type": "stream",
     "text": [
      "/Users/eloisaelias/anaconda/lib/python2.7/site-packages/pandas/core/index.py:4072: FutureWarning:\n",
      "\n",
      "elementwise comparison failed; returning scalar instead, but in the future will perform elementwise comparison\n",
      "\n"
     ]
    },
    {
     "data": {
      "image/png": "[encoded data removed]",
      "text/plain": [
       "<matplotlib.figure.Figure at 0x115fda610>"
      ]
     },
     "metadata": {},
     "output_type": "display_data"
    }
   ],
   "source": [
    "ax = df.groupby(['date', 'hour']).trip_id.count().unstack().boxplot(return_type='axes')\n",
    "ax.set_ylim(top=200)\n",
    "ax.grid=False\n",
    "ax.set_xlabel('Hours')\n",
    "ax.set_ylabel('User Frequency');\n"
   ]
  },
  {
   "cell_type": "markdown",
   "metadata": {},
   "source": [
    "There are two types of bike users (specified by column Subscription Type: Subscriber and Customer. Given this information and the weekend and weekday categorization, plot and inspect the user activity trends. Suppose the product team wants to run a promotional campaign, what is my suggestions in terms of who the promotion should apply to and when it should apply for the campaign to be effective?"
   ]
  },
  {
   "cell_type": "code",
   "execution_count": 36,
   "metadata": {
    "collapsed": true
   },
   "outputs": [],
   "source": [
    "weekday = df[df.dow < 5]\n",
    "weekend = df[df.dow >= 5]"
   ]
  },
  {
   "cell_type": "code",
   "execution_count": 37,
   "metadata": {
    "collapsed": false
   },
   "outputs": [
    {
     "data": {
      "text/plain": [
       "<matplotlib.text.Text at 0x116947610>"
      ]
     },
     "execution_count": 37,
     "metadata": {},
     "output_type": "execute_result"
    },
    {
     "data": {
      "image/png": "[encoded data removed]",
      "text/plain": [
       "<matplotlib.figure.Figure at 0x11883ac10>"
      ]
     },
     "metadata": {},
     "output_type": "display_data"
    }
   ],
   "source": [
    "fig, axes = plt.subplots(1,2, figsize=(14,6))\n",
    "weekday.groupby(['date', 'hour']).trip_id.count().unstack().boxplot(ax=axes[0], return_type='axes')\n",
    "weekend.groupby(['date', 'hour']).trip_id.count().unstack().boxplot(ax=axes[1], return_type='axes')\n",
    "\n",
    "for ax in axes:\n",
    "    ax.grid(False)\n",
    "    ax.set_xlabel('hours')\n",
    "    ax.set_ylabel('User Frequency')\n",
    "    ax.set_ylim(0,180)\n",
    "\n",
    "axes[0].set_title('Weekday')\n",
    "axes[1].set_title('Weekend')"
   ]
  },
  {
   "cell_type": "code",
   "execution_count": 38,
   "metadata": {
    "collapsed": false
   },
   "outputs": [
    {
     "data": {
      "image/png": "[encoded data removed]",
      "text/plain": [
       "<matplotlib.figure.Figure at 0x118689a50>"
      ]
     },
     "metadata": {},
     "output_type": "display_data"
    }
   ],
   "source": [
    "weekday_sub = weekday[weekday.subscription_type == 'Subscriber']\n",
    "weekend_sub = weekend[weekend.subscription_type == 'Subscriber']\n",
    "\n",
    "weekday_cust = weekday[weekday.subscription_type == 'Customer']\n",
    "weekend_cust = weekend[weekend.subscription_type == 'Customer']\n",
    "\n",
    "\n",
    "data = [weekday_sub, weekend_sub, weekday_cust, weekend_cust]\n",
    "title = ['Weekday subscriber', 'Weekend subscriber', 'Weekday customer', 'Weekend customer']\n",
    "\n",
    "fig, axes = plt.subplots(2,2, figsize=(14,10))\n",
    "\n",
    "for  ax, d, t in zip(axes.ravel(), data, title):\n",
    "    d.groupby(['date', 'hour']).trip_id.count().unstack().boxplot(ax=ax, return_type='axes')\n",
    "    ax.grid(False)\n",
    "    ax.set_ylim(top=180)\n",
    "    ax.set_xlabel('hours')\n",
    "    ax.set_ylabel('User Frequency')\n",
    "    ax.set_title(t)\n"
   ]
  },
  {
   "cell_type": "markdown",
   "metadata": {},
   "source": [
    "According with the data, I would suggest the promotional campaign to be held during week days during 8am - 10am and 5pm - 7pm, and on weekends during 12pm to 5pm. The former period has more subscribers and the second has more customers."
   ]
  },
  {
   "cell_type": "code",
   "execution_count": 39,
   "metadata": {
    "collapsed": false
   },
   "outputs": [
    {
     "data": {
      "text/plain": [
       "Subscriber    113647\n",
       "Customer       30368\n",
       "dtype: int64"
      ]
     },
     "execution_count": 39,
     "metadata": {},
     "output_type": "execute_result"
    }
   ],
   "source": [
    "df.subscription_type.value_counts()"
   ]
  },
  {
   "cell_type": "code",
   "execution_count": 41,
   "metadata": {
    "collapsed": false,
    "scrolled": true
   },
   "outputs": [
    {
     "name": "stdout",
     "output_type": "stream",
     "text": [
      "<class 'pandas.core.frame.DataFrame'>\n",
      "Int64Index: 144015 entries, 0 to 144014\n",
      "Data columns (total 16 columns):\n",
      "trip_id              144015 non-null int64\n",
      "duration             144015 non-null int64\n",
      "start_date           144015 non-null datetime64[ns]\n",
      "start_station        144015 non-null object\n",
      "start_terminal       144015 non-null int64\n",
      "end_date             144015 non-null datetime64[ns]\n",
      "end_station          144015 non-null object\n",
      "end_terminal         144015 non-null int64\n",
      "bike_#               144015 non-null int64\n",
      "subscription_type    144015 non-null category\n",
      "zip_code             137885 non-null object\n",
      "month                144015 non-null int32\n",
      "dow                  144015 non-null int32\n",
      "date                 144015 non-null object\n",
      "hour                 144015 non-null int32\n",
      "day                  144015 non-null int32\n",
      "dtypes: category(1), datetime64[ns](2), int32(4), int64(5), object(4)\n",
      "memory usage: 15.5+ MB\n"
     ]
    }
   ],
   "source": [
    "df.info()"
   ]
  },
  {
   "cell_type": "code",
   "execution_count": 282,
   "metadata": {
    "collapsed": false
   },
   "outputs": [],
   "source": [
    "#df_daily_count[:2]"
   ]
  },
  {
   "cell_type": "code",
   "execution_count": 283,
   "metadata": {
    "collapsed": false
   },
   "outputs": [],
   "source": [
    "#df_daily_count.index"
   ]
  },
  {
   "cell_type": "code",
   "execution_count": 284,
   "metadata": {
    "collapsed": false
   },
   "outputs": [],
   "source": [
    "#pd.DatetimeIndex(df_daily_count.index).month"
   ]
  },
  {
   "cell_type": "markdown",
   "metadata": {},
   "source": [
    "### Normal process variation X-R graph"
   ]
  },
  {
   "cell_type": "code",
   "execution_count": 43,
   "metadata": {
    "collapsed": false
   },
   "outputs": [
    {
     "data": {
      "image/png": "[encoded data removed]",
      "text/plain": [
       "<matplotlib.figure.Figure at 0x115a34250>"
      ]
     },
     "metadata": {},
     "output_type": "display_data"
    }
   ],
   "source": [
    "sepdec = [9, 10, 11, 12]\n",
    "df_fall = df[df.month.isin(sepdec)]\n",
    "df_daily_count = df_fall.groupby('date').trip_id.count()\n",
    "\n",
    "fig, ax = plt.subplots(1, figsize=(12,5))\n",
    "\n",
    "df_daily_count.plot(ax=ax, linestyle='-', marker='o', alpha=0.5, grid=True, legend=False)\n",
    "\n",
    "\n",
    "sepdec_mean = df_daily_count.mean()\n",
    "sepdec_std = df_daily_count.std()\n",
    "\n",
    "ax.hlines(sepdec_mean, *plt.xlim())\n",
    "ax.hlines(sepdec_mean + (1.5*sepdec_std), *plt.xlim(), linestyle='--')\n",
    "ax.hlines(sepdec_mean - (1.5*sepdec_std), *plt.xlim(), linestyle='--')\n",
    "\n",
    "ax.set_xlabel('Date')\n",
    "ax.set_ylabel('Number of users')\n",
    "\n",
    "fig.autofmt_xdate()\n",
    "\n",
    "ax.legend(fontsize=9, frameon=False)\n",
    "ax.set_title('Month');"
   ]
  },
  {
   "cell_type": "code",
   "execution_count": 306,
   "metadata": {
    "collapsed": false
   },
   "outputs": [],
   "source": [
    "#df_daily_count[:2]"
   ]
  },
  {
   "cell_type": "code",
   "execution_count": 44,
   "metadata": {
    "collapsed": false
   },
   "outputs": [
    {
     "data": {
      "image/png": "[encoded data removed]",
      "text/plain": [
       "<matplotlib.figure.Figure at 0x1131795d0>"
      ]
     },
     "metadata": {},
     "output_type": "display_data"
    }
   ],
   "source": [
    "sepdec = [9, 10, 11, 12]\n",
    "df_fall = df[df.month.isin(sepdec)]\n",
    "df_daily_count_stats = df_fall.groupby('date').trip_id.count()\n",
    "df_daily_count = (df_fall.groupby(['month', 'date']).trip_id.count().unstack().T) # pivoting month into columns in order to separate the dates per months.\n",
    "\n",
    "fig, ax = plt.subplots(1, figsize=(12,5))\n",
    "\n",
    "df_daily_count.plot(ax=ax, linestyle='-', markeredgecolor='none', marker='o', alpha=0.5, grid=True, legend=False)\n",
    "\n",
    "sepdec_mean = df_daily_count_stats.mean()\n",
    "sepdec_std = df_daily_count_stats.std()\n",
    "\n",
    "ax.hlines(sepdec_mean, *plt.xlim())\n",
    "ax.hlines(sepdec_mean + (1.5*sepdec_std), *plt.xlim(), linestyle='--', alpha=0.5)\n",
    "ax.hlines(sepdec_mean - (1.5*sepdec_std), *plt.xlim(), linestyle='--', alpha=0.5)\n",
    "\n",
    "ax.set_xlabel('Date')\n",
    "ax.set_ylabel('Number of users')\n",
    "\n",
    "fig.autofmt_xdate()\n",
    "\n",
    "label = ax.legend(fontsize=9, ncol=4, frameon=False)\n",
    "label.set_title('Month')\n",
    "plt.show();"
   ]
  },
  {
   "cell_type": "code",
   "execution_count": 45,
   "metadata": {
    "collapsed": true
   },
   "outputs": [],
   "source": [
    "df_station = pd.read_csv('data/201402_station_data.csv')"
   ]
  },
  {
   "cell_type": "code",
   "execution_count": 46,
   "metadata": {
    "collapsed": false
   },
   "outputs": [
    {
     "data": {
      "text/html": [
       "<div>\n",
       "<table border=\"1\" class=\"dataframe\">\n",
       "  <thead>\n",
       "    <tr style=\"text-align: right;\">\n",
       "      <th></th>\n",
       "      <th>station_id</th>\n",
       "      <th>name</th>\n",
       "      <th>lat</th>\n",
       "      <th>long</th>\n",
       "      <th>dockcount</th>\n",
       "      <th>landmark</th>\n",
       "      <th>installation</th>\n",
       "    </tr>\n",
       "  </thead>\n",
       "  <tbody>\n",
       "    <tr>\n",
       "      <th>0</th>\n",
       "      <td>2</td>\n",
       "      <td>San Jose Diridon Caltrain Station</td>\n",
       "      <td>37.329732</td>\n",
       "      <td>-121.901782</td>\n",
       "      <td>27</td>\n",
       "      <td>San Jose</td>\n",
       "      <td>8/6/2013</td>\n",
       "    </tr>\n",
       "    <tr>\n",
       "      <th>1</th>\n",
       "      <td>3</td>\n",
       "      <td>San Jose Civic Center</td>\n",
       "      <td>37.330698</td>\n",
       "      <td>-121.888979</td>\n",
       "      <td>15</td>\n",
       "      <td>San Jose</td>\n",
       "      <td>8/5/2013</td>\n",
       "    </tr>\n",
       "  </tbody>\n",
       "</table>\n",
       "</div>"
      ],
      "text/plain": [
       "   station_id                               name        lat        long  \\\n",
       "0           2  San Jose Diridon Caltrain Station  37.329732 -121.901782   \n",
       "1           3              San Jose Civic Center  37.330698 -121.888979   \n",
       "\n",
       "   dockcount  landmark installation  \n",
       "0         27  San Jose     8/6/2013  \n",
       "1         15  San Jose     8/5/2013  "
      ]
     },
     "execution_count": 46,
     "metadata": {},
     "output_type": "execute_result"
    }
   ],
   "source": [
    "df_station[:2]"
   ]
  },
  {
   "cell_type": "code",
   "execution_count": 47,
   "metadata": {
    "collapsed": false
   },
   "outputs": [
    {
     "data": {
      "text/html": [
       "<div>\n",
       "<table border=\"1\" class=\"dataframe\">\n",
       "  <thead>\n",
       "    <tr style=\"text-align: right;\">\n",
       "      <th></th>\n",
       "      <th>trip_id</th>\n",
       "      <th>duration</th>\n",
       "      <th>start_date</th>\n",
       "      <th>start_station</th>\n",
       "      <th>start_terminal</th>\n",
       "      <th>end_date</th>\n",
       "      <th>end_station</th>\n",
       "      <th>end_terminal</th>\n",
       "      <th>bike_#</th>\n",
       "      <th>subscription_type</th>\n",
       "      <th>zip_code</th>\n",
       "      <th>month</th>\n",
       "      <th>dow</th>\n",
       "      <th>date</th>\n",
       "      <th>hour</th>\n",
       "      <th>day</th>\n",
       "    </tr>\n",
       "  </thead>\n",
       "  <tbody>\n",
       "    <tr>\n",
       "      <th>0</th>\n",
       "      <td>4576</td>\n",
       "      <td>63</td>\n",
       "      <td>2013-08-29 14:13:00</td>\n",
       "      <td>South Van Ness at Market</td>\n",
       "      <td>66</td>\n",
       "      <td>2013-08-29 14:14:00</td>\n",
       "      <td>South Van Ness at Market</td>\n",
       "      <td>66</td>\n",
       "      <td>520</td>\n",
       "      <td>Subscriber</td>\n",
       "      <td>94127</td>\n",
       "      <td>8</td>\n",
       "      <td>3</td>\n",
       "      <td>2013-08-29</td>\n",
       "      <td>14</td>\n",
       "      <td>29</td>\n",
       "    </tr>\n",
       "    <tr>\n",
       "      <th>1</th>\n",
       "      <td>4607</td>\n",
       "      <td>70</td>\n",
       "      <td>2013-08-29 14:42:00</td>\n",
       "      <td>San Jose City Hall</td>\n",
       "      <td>10</td>\n",
       "      <td>2013-08-29 14:43:00</td>\n",
       "      <td>San Jose City Hall</td>\n",
       "      <td>10</td>\n",
       "      <td>661</td>\n",
       "      <td>Subscriber</td>\n",
       "      <td>95138</td>\n",
       "      <td>8</td>\n",
       "      <td>3</td>\n",
       "      <td>2013-08-29</td>\n",
       "      <td>14</td>\n",
       "      <td>29</td>\n",
       "    </tr>\n",
       "  </tbody>\n",
       "</table>\n",
       "</div>"
      ],
      "text/plain": [
       "   trip_id  duration          start_date             start_station  \\\n",
       "0     4576        63 2013-08-29 14:13:00  South Van Ness at Market   \n",
       "1     4607        70 2013-08-29 14:42:00        San Jose City Hall   \n",
       "\n",
       "   start_terminal            end_date               end_station  end_terminal  \\\n",
       "0              66 2013-08-29 14:14:00  South Van Ness at Market            66   \n",
       "1              10 2013-08-29 14:43:00        San Jose City Hall            10   \n",
       "\n",
       "   bike_# subscription_type zip_code  month  dow        date  hour  day  \n",
       "0     520        Subscriber    94127      8    3  2013-08-29    14   29  \n",
       "1     661        Subscriber    95138      8    3  2013-08-29    14   29  "
      ]
     },
     "execution_count": 47,
     "metadata": {},
     "output_type": "execute_result"
    }
   ],
   "source": [
    "df[:2]"
   ]
  },
  {
   "cell_type": "code",
   "execution_count": 48,
   "metadata": {
    "collapsed": false
   },
   "outputs": [],
   "source": [
    "full = df.merge(df_station, left_on=['start_terminal', 'start_station'], right_on=['station_id', 'name'])"
   ]
  },
  {
   "cell_type": "code",
   "execution_count": 49,
   "metadata": {
    "collapsed": false
   },
   "outputs": [
    {
     "data": {
      "text/html": [
       "<div>\n",
       "<table border=\"1\" class=\"dataframe\">\n",
       "  <thead>\n",
       "    <tr style=\"text-align: right;\">\n",
       "      <th></th>\n",
       "      <th>0</th>\n",
       "      <th>1</th>\n",
       "    </tr>\n",
       "  </thead>\n",
       "  <tbody>\n",
       "    <tr>\n",
       "      <th>trip_id</th>\n",
       "      <td>4576</td>\n",
       "      <td>4299</td>\n",
       "    </tr>\n",
       "    <tr>\n",
       "      <th>duration</th>\n",
       "      <td>63</td>\n",
       "      <td>83</td>\n",
       "    </tr>\n",
       "    <tr>\n",
       "      <th>start_date</th>\n",
       "      <td>2013-08-29 14:13:00</td>\n",
       "      <td>2013-08-29 12:02:00</td>\n",
       "    </tr>\n",
       "    <tr>\n",
       "      <th>start_station</th>\n",
       "      <td>South Van Ness at Market</td>\n",
       "      <td>South Van Ness at Market</td>\n",
       "    </tr>\n",
       "    <tr>\n",
       "      <th>start_terminal</th>\n",
       "      <td>66</td>\n",
       "      <td>66</td>\n",
       "    </tr>\n",
       "    <tr>\n",
       "      <th>end_date</th>\n",
       "      <td>2013-08-29 14:14:00</td>\n",
       "      <td>2013-08-29 12:04:00</td>\n",
       "    </tr>\n",
       "    <tr>\n",
       "      <th>end_station</th>\n",
       "      <td>South Van Ness at Market</td>\n",
       "      <td>Market at 10th</td>\n",
       "    </tr>\n",
       "    <tr>\n",
       "      <th>end_terminal</th>\n",
       "      <td>66</td>\n",
       "      <td>67</td>\n",
       "    </tr>\n",
       "    <tr>\n",
       "      <th>bike_#</th>\n",
       "      <td>520</td>\n",
       "      <td>319</td>\n",
       "    </tr>\n",
       "    <tr>\n",
       "      <th>subscription_type</th>\n",
       "      <td>Subscriber</td>\n",
       "      <td>Subscriber</td>\n",
       "    </tr>\n",
       "    <tr>\n",
       "      <th>zip_code</th>\n",
       "      <td>94127</td>\n",
       "      <td>94103</td>\n",
       "    </tr>\n",
       "    <tr>\n",
       "      <th>month</th>\n",
       "      <td>8</td>\n",
       "      <td>8</td>\n",
       "    </tr>\n",
       "    <tr>\n",
       "      <th>dow</th>\n",
       "      <td>3</td>\n",
       "      <td>3</td>\n",
       "    </tr>\n",
       "    <tr>\n",
       "      <th>date</th>\n",
       "      <td>2013-08-29</td>\n",
       "      <td>2013-08-29</td>\n",
       "    </tr>\n",
       "    <tr>\n",
       "      <th>hour</th>\n",
       "      <td>14</td>\n",
       "      <td>12</td>\n",
       "    </tr>\n",
       "    <tr>\n",
       "      <th>day</th>\n",
       "      <td>29</td>\n",
       "      <td>29</td>\n",
       "    </tr>\n",
       "    <tr>\n",
       "      <th>station_id</th>\n",
       "      <td>66</td>\n",
       "      <td>66</td>\n",
       "    </tr>\n",
       "    <tr>\n",
       "      <th>name</th>\n",
       "      <td>South Van Ness at Market</td>\n",
       "      <td>South Van Ness at Market</td>\n",
       "    </tr>\n",
       "    <tr>\n",
       "      <th>lat</th>\n",
       "      <td>37.77481</td>\n",
       "      <td>37.77481</td>\n",
       "    </tr>\n",
       "    <tr>\n",
       "      <th>long</th>\n",
       "      <td>-122.419</td>\n",
       "      <td>-122.419</td>\n",
       "    </tr>\n",
       "    <tr>\n",
       "      <th>dockcount</th>\n",
       "      <td>19</td>\n",
       "      <td>19</td>\n",
       "    </tr>\n",
       "    <tr>\n",
       "      <th>landmark</th>\n",
       "      <td>San Francisco</td>\n",
       "      <td>San Francisco</td>\n",
       "    </tr>\n",
       "    <tr>\n",
       "      <th>installation</th>\n",
       "      <td>8/23/2013</td>\n",
       "      <td>8/23/2013</td>\n",
       "    </tr>\n",
       "  </tbody>\n",
       "</table>\n",
       "</div>"
      ],
      "text/plain": [
       "                                          0                         1\n",
       "trip_id                                4576                      4299\n",
       "duration                                 63                        83\n",
       "start_date              2013-08-29 14:13:00       2013-08-29 12:02:00\n",
       "start_station      South Van Ness at Market  South Van Ness at Market\n",
       "start_terminal                           66                        66\n",
       "end_date                2013-08-29 14:14:00       2013-08-29 12:04:00\n",
       "end_station        South Van Ness at Market            Market at 10th\n",
       "end_terminal                             66                        67\n",
       "bike_#                                  520                       319\n",
       "subscription_type                Subscriber                Subscriber\n",
       "zip_code                              94127                     94103\n",
       "month                                     8                         8\n",
       "dow                                       3                         3\n",
       "date                             2013-08-29                2013-08-29\n",
       "hour                                     14                        12\n",
       "day                                      29                        29\n",
       "station_id                               66                        66\n",
       "name               South Van Ness at Market  South Van Ness at Market\n",
       "lat                                37.77481                  37.77481\n",
       "long                               -122.419                  -122.419\n",
       "dockcount                                19                        19\n",
       "landmark                      San Francisco             San Francisco\n",
       "installation                      8/23/2013                 8/23/2013"
      ]
     },
     "execution_count": 49,
     "metadata": {},
     "output_type": "execute_result"
    }
   ],
   "source": [
    "full[:2].T"
   ]
  },
  {
   "cell_type": "code",
   "execution_count": 50,
   "metadata": {
    "collapsed": false
   },
   "outputs": [],
   "source": [
    "full['counts'] = 1"
   ]
  },
  {
   "cell_type": "code",
   "execution_count": 51,
   "metadata": {
    "collapsed": false
   },
   "outputs": [],
   "source": [
    "full['counts'] = (full['counts'] * 1.) / full.dockcount  # Adjust usage by the dockcount to prepare to compute the usage of each station"
   ]
  },
  {
   "cell_type": "code",
   "execution_count": 52,
   "metadata": {
    "collapsed": false
   },
   "outputs": [],
   "source": [
    "#full = full.drop('counts', 1)"
   ]
  },
  {
   "cell_type": "code",
   "execution_count": 68,
   "metadata": {
    "collapsed": false
   },
   "outputs": [
    {
     "data": {
      "text/html": [
       "<div>\n",
       "<table border=\"1\" class=\"dataframe\">\n",
       "  <thead>\n",
       "    <tr style=\"text-align: right;\">\n",
       "      <th></th>\n",
       "      <th>start_station</th>\n",
       "      <th>lat</th>\n",
       "      <th>long</th>\n",
       "      <th>counts</th>\n",
       "    </tr>\n",
       "  </thead>\n",
       "  <tbody>\n",
       "    <tr>\n",
       "      <th>0</th>\n",
       "      <td>2nd at Folsom</td>\n",
       "      <td>37.785299</td>\n",
       "      <td>-122.396236</td>\n",
       "      <td>198.736842</td>\n",
       "    </tr>\n",
       "    <tr>\n",
       "      <th>1</th>\n",
       "      <td>2nd at South Park</td>\n",
       "      <td>37.782259</td>\n",
       "      <td>-122.392738</td>\n",
       "      <td>297.200000</td>\n",
       "    </tr>\n",
       "    <tr>\n",
       "      <th>2</th>\n",
       "      <td>2nd at Townsend</td>\n",
       "      <td>37.780526</td>\n",
       "      <td>-122.390288</td>\n",
       "      <td>184.703704</td>\n",
       "    </tr>\n",
       "    <tr>\n",
       "      <th>3</th>\n",
       "      <td>5th at Howard</td>\n",
       "      <td>37.781752</td>\n",
       "      <td>-122.405127</td>\n",
       "      <td>175.666667</td>\n",
       "    </tr>\n",
       "    <tr>\n",
       "      <th>4</th>\n",
       "      <td>Adobe on Almaden</td>\n",
       "      <td>37.331415</td>\n",
       "      <td>-121.893200</td>\n",
       "      <td>17.631579</td>\n",
       "    </tr>\n",
       "  </tbody>\n",
       "</table>\n",
       "</div>"
      ],
      "text/plain": [
       "       start_station        lat        long      counts\n",
       "0      2nd at Folsom  37.785299 -122.396236  198.736842\n",
       "1  2nd at South Park  37.782259 -122.392738  297.200000\n",
       "2    2nd at Townsend  37.780526 -122.390288  184.703704\n",
       "3      5th at Howard  37.781752 -122.405127  175.666667\n",
       "4   Adobe on Almaden  37.331415 -121.893200   17.631579"
      ]
     },
     "execution_count": 68,
     "metadata": {},
     "output_type": "execute_result"
    }
   ],
   "source": [
    "# [[]] doble brakets means columns\n",
    "grouped_stations = full.groupby(['start_station', 'lat', 'long']).sum()[['counts']].reset_index()\n",
    "grouped_stations[:5]"
   ]
  },
  {
   "cell_type": "code",
   "execution_count": 61,
   "metadata": {
    "collapsed": false
   },
   "outputs": [
    {
     "data": {
      "text/plain": [
       "37.80477"
      ]
     },
     "execution_count": 61,
     "metadata": {},
     "output_type": "execute_result"
    }
   ],
   "source": [
    "grouped_stations.lat.max()"
   ]
  },
  {
   "cell_type": "code",
   "execution_count": 62,
   "metadata": {
    "collapsed": false
   },
   "outputs": [
    {
     "data": {
      "text/plain": [
       "37.329732"
      ]
     },
     "execution_count": 62,
     "metadata": {},
     "output_type": "execute_result"
    }
   ],
   "source": [
    "grouped_stations.lat.min()"
   ]
  },
  {
   "cell_type": "code",
   "execution_count": 66,
   "metadata": {
    "collapsed": false
   },
   "outputs": [
    {
     "data": {
      "text/plain": [
       "-121.877349"
      ]
     },
     "execution_count": 66,
     "metadata": {},
     "output_type": "execute_result"
    }
   ],
   "source": [
    "grouped_stations.long.max()"
   ]
  },
  {
   "cell_type": "code",
   "execution_count": 64,
   "metadata": {
    "collapsed": false
   },
   "outputs": [
    {
     "data": {
      "text/plain": [
       "-122.418954"
      ]
     },
     "execution_count": 64,
     "metadata": {},
     "output_type": "execute_result"
    }
   ],
   "source": [
    "grouped_stations.long.min()"
   ]
  },
  {
   "cell_type": "code",
   "execution_count": 55,
   "metadata": {
    "collapsed": false
   },
   "outputs": [],
   "source": [
    "normalized_counts = grouped_stations['counts'] / (grouped_stations['counts'].max())\n"
   ]
  },
  {
   "cell_type": "code",
   "execution_count": 56,
   "metadata": {
    "collapsed": false
   },
   "outputs": [],
   "source": [
    "text = ['{},{}'.format(station, count * 100) for station, count in zip(grouped_stations.start_station, normalized_counts)]"
   ]
  },
  {
   "cell_type": "code",
   "execution_count": 57,
   "metadata": {
    "collapsed": false
   },
   "outputs": [],
   "source": [
    "# data = Data([Scatter(x=grouped_stations['long'],\n",
    "#                     y=grouped_stations['lat'],\n",
    "#                     mode='markers',\n",
    "#                     marker=Marker(opacity=normalized_counts, size=normalized_counts * 100),\n",
    "#                     text=txt)])\n",
    "# py.iplot(data)"
   ]
  },
  {
   "cell_type": "code",
   "execution_count": 58,
   "metadata": {
    "collapsed": false
   },
   "outputs": [],
   "source": [
    "grouped_stations_byname = full.groupby('name')['lat', 'long','dockcount']"
   ]
  },
  {
   "cell_type": "code",
   "execution_count": 59,
   "metadata": {
    "collapsed": false
   },
   "outputs": [],
   "source": [
    "station_lat_log = grouped_stations_byname.first()"
   ]
  },
  {
   "cell_type": "code",
   "execution_count": 60,
   "metadata": {
    "collapsed": false
   },
   "outputs": [
    {
     "data": {
      "image/png": "[encoded data removed]",
      "text/plain": [
       "<matplotlib.figure.Figure at 0x11ceeb050>"
      ]
     },
     "metadata": {},
     "output_type": "display_data"
    }
   ],
   "source": [
    "fig, ax = plt.subplots(figsize=(12,12))\n",
    "\n",
    "mapa = Basemap(ax=ax, projection='cyl',\n",
    "              llcrnrlat=37.3, llcrnrlon=-122.6,\n",
    "              urcrnrlat=37.85, urcrnrlon=-121.8,\n",
    "              resolution='f')\n",
    "\n",
    "mapa.drawmapboundary(fill_color='lightblue')\n",
    "mapa.drawcoastlines()\n",
    "mapa.drawstates()\n",
    "mapa.fillcontinents()\n",
    "\n",
    "for st, longlat in station_lat_log.iterrows():\n",
    "    mapa.plot(longlat['long'], longlat['lat'], '.', markersize=longlat['dockcount']*2, alpha=0.9, latlon=True)\n",
    "    "
   ]
  },
  {
   "cell_type": "markdown",
   "metadata": {
    "collapsed": true
   },
   "source": [
    "### Linear Regression"
   ]
  },
  {
   "cell_type": "markdown",
   "metadata": {
    "collapsed": true
   },
   "source": [
    "Linear regression is an approach to modeling the relationship between a continuous dependent (y) variable and one or more continuous independent (x) variables. Here I will be introducing you to fitting the model and interpreting the results."
   ]
  },
  {
   "cell_type": "markdown",
   "metadata": {
    "collapsed": true
   },
   "source": [
    "1. I will be using the `prestige` data in `statsmodels`. `statsmodels` is the de facto library for performing regression tasks in Python. Load the data with the follow code. Remember to add a column of `1` to the x matrix for the model to fit the intercept."
   ]
  },
  {
   "cell_type": "code",
   "execution_count": 111,
   "metadata": {
    "collapsed": false
   },
   "outputs": [],
   "source": [
    "df_prestige = sm.datasets.get_rdataset('Duncan', 'car', cache=True).data "
   ]
  },
  {
   "cell_type": "code",
   "execution_count": 112,
   "metadata": {
    "collapsed": false
   },
   "outputs": [
    {
     "data": {
      "text/html": [
       "<div>\n",
       "<table border=\"1\" class=\"dataframe\">\n",
       "  <thead>\n",
       "    <tr style=\"text-align: right;\">\n",
       "      <th></th>\n",
       "      <th>type</th>\n",
       "      <th>income</th>\n",
       "      <th>education</th>\n",
       "      <th>prestige</th>\n",
       "    </tr>\n",
       "  </thead>\n",
       "  <tbody>\n",
       "    <tr>\n",
       "      <th>accountant</th>\n",
       "      <td>prof</td>\n",
       "      <td>62</td>\n",
       "      <td>86</td>\n",
       "      <td>82</td>\n",
       "    </tr>\n",
       "    <tr>\n",
       "      <th>pilot</th>\n",
       "      <td>prof</td>\n",
       "      <td>72</td>\n",
       "      <td>76</td>\n",
       "      <td>83</td>\n",
       "    </tr>\n",
       "  </tbody>\n",
       "</table>\n",
       "</div>"
      ],
      "text/plain": [
       "            type  income  education  prestige\n",
       "accountant  prof      62         86        82\n",
       "pilot       prof      72         76        83"
      ]
     },
     "execution_count": 112,
     "metadata": {},
     "output_type": "execute_result"
    }
   ],
   "source": [
    "df_prestige[:2]"
   ]
  },
  {
   "cell_type": "code",
   "execution_count": 114,
   "metadata": {
    "collapsed": false
   },
   "outputs": [
    {
     "data": {
      "image/png": "[encoded data removed]",
      "text/plain": [
       "<matplotlib.figure.Figure at 0x122e62710>"
      ]
     },
     "metadata": {},
     "output_type": "display_data"
    }
   ],
   "source": [
    "scatter_matrix(df_prestige);"
   ]
  },
  {
   "cell_type": "code",
   "execution_count": 120,
   "metadata": {
    "collapsed": false
   },
   "outputs": [
    {
     "data": {
      "image/png": "[encoded data removed]",
      "text/plain": [
       "<matplotlib.figure.Figure at 0x1238c7d10>"
      ]
     },
     "metadata": {},
     "output_type": "display_data"
    }
   ],
   "source": [
    "df_prestige.boxplot();"
   ]
  },
  {
   "cell_type": "code",
   "execution_count": 115,
   "metadata": {
    "collapsed": false
   },
   "outputs": [],
   "source": [
    "# y = df_prestige.pop('prestige')\n",
    "y = df_prestige.prestige"
   ]
  },
  {
   "cell_type": "code",
   "execution_count": 116,
   "metadata": {
    "collapsed": false
   },
   "outputs": [
    {
     "data": {
      "text/plain": [
       "accountant    82\n",
       "pilot         83\n",
       "Name: prestige, dtype: int64"
      ]
     },
     "execution_count": 116,
     "metadata": {},
     "output_type": "execute_result"
    }
   ],
   "source": [
    "y[:2]"
   ]
  },
  {
   "cell_type": "code",
   "execution_count": 117,
   "metadata": {
    "collapsed": false
   },
   "outputs": [
    {
     "data": {
      "text/html": [
       "<div>\n",
       "<table border=\"1\" class=\"dataframe\">\n",
       "  <thead>\n",
       "    <tr style=\"text-align: right;\">\n",
       "      <th></th>\n",
       "      <th>income</th>\n",
       "      <th>education</th>\n",
       "    </tr>\n",
       "  </thead>\n",
       "  <tbody>\n",
       "    <tr>\n",
       "      <th>accountant</th>\n",
       "      <td>62</td>\n",
       "      <td>86</td>\n",
       "    </tr>\n",
       "    <tr>\n",
       "      <th>pilot</th>\n",
       "      <td>72</td>\n",
       "      <td>76</td>\n",
       "    </tr>\n",
       "    <tr>\n",
       "      <th>architect</th>\n",
       "      <td>75</td>\n",
       "      <td>92</td>\n",
       "    </tr>\n",
       "    <tr>\n",
       "      <th>author</th>\n",
       "      <td>55</td>\n",
       "      <td>90</td>\n",
       "    </tr>\n",
       "  </tbody>\n",
       "</table>\n",
       "</div>"
      ],
      "text/plain": [
       "            income  education\n",
       "accountant      62         86\n",
       "pilot           72         76\n",
       "architect       75         92\n",
       "author          55         90"
      ]
     },
     "execution_count": 117,
     "metadata": {},
     "output_type": "execute_result"
    }
   ],
   "source": [
    "x = df_prestige[['income', 'education']].astype(float)\n",
    "x[:4]"
   ]
  },
  {
   "cell_type": "code",
   "execution_count": 118,
   "metadata": {
    "collapsed": false
   },
   "outputs": [
    {
     "data": {
      "text/plain": [
       "<matplotlib.collections.PathCollection at 0x123887210>"
      ]
     },
     "execution_count": 118,
     "metadata": {},
     "output_type": "execute_result"
    },
    {
     "data": {
      "image/png": "[encoded data removed]",
      "text/plain": [
       "<matplotlib.figure.Figure at 0x12371ccd0>"
      ]
     },
     "metadata": {},
     "output_type": "display_data"
    }
   ],
   "source": [
    "plt.scatter(x.income, x.education)"
   ]
  },
  {
   "cell_type": "code",
   "execution_count": 157,
   "metadata": {
    "collapsed": true
   },
   "outputs": [],
   "source": [
    "x= sm.add_constant(x)"
   ]
  },
  {
   "cell_type": "code",
   "execution_count": 159,
   "metadata": {
    "collapsed": false
   },
   "outputs": [
    {
     "data": {
      "text/html": [
       "<div>\n",
       "<table border=\"1\" class=\"dataframe\">\n",
       "  <thead>\n",
       "    <tr style=\"text-align: right;\">\n",
       "      <th></th>\n",
       "      <th>income</th>\n",
       "      <th>education</th>\n",
       "      <th>const</th>\n",
       "    </tr>\n",
       "  </thead>\n",
       "  <tbody>\n",
       "    <tr>\n",
       "      <th>accountant</th>\n",
       "      <td>62</td>\n",
       "      <td>86</td>\n",
       "      <td>1</td>\n",
       "    </tr>\n",
       "    <tr>\n",
       "      <th>pilot</th>\n",
       "      <td>72</td>\n",
       "      <td>76</td>\n",
       "      <td>1</td>\n",
       "    </tr>\n",
       "  </tbody>\n",
       "</table>\n",
       "</div>"
      ],
      "text/plain": [
       "            income  education  const\n",
       "accountant      62         86      1\n",
       "pilot           72         76      1"
      ]
     },
     "execution_count": 159,
     "metadata": {},
     "output_type": "execute_result"
    }
   ],
   "source": [
    "x[:2]"
   ]
  },
  {
   "cell_type": "markdown",
   "metadata": {},
   "source": [
    "---\n",
    "Maximum Likelihood Estimation MLE\n",
    "---\n",
    "In statistics, maximum likelihood estimation (MLE) is a method of estimating the parameters of a statistical model given observations, by finding the parameter values that maximize the likelihood of making the observations given the parameters.\n",
    "\n",
    "The method of maximum likelihood corresponds to many well-known estimation methods in statistics. For example, one may be interested in the heights of adult female penguins, but be unable to measure the height of every single penguin in a population due to cost or time constraints. Assuming that the heights are normally distributed with some unknown mean and variance, the mean and variance can be estimated with MLE while only knowing the heights of some sample of the overall population. MLE would accomplish this by taking the mean and variance as parameters and finding particular parametric values that make the observed results the most probable given the model.\n",
    "\n",
    "The method of maximum likelihood estimates $θ_0$ by finding a value of $θ$ that maximizes ${\\displaystyle {\\hat {\\ell }}(\\theta ;x)}$. This method of estimation defines a maximum likelihood estimator (MLE) of $θ_0$:\n",
    "\n",
    "$\\{{\\hat {\\theta }}_{\\mathrm {mle} }\\}\\subseteq \\{{\\underset {\\theta \\in \\Theta }{\\operatorname {arg\\,max} }}\\ {\\hat {\\ell }}(\\theta \\,;\\,x_{1},\\ldots ,x_{n})\\}$\n",
    "\n",
    "if a maximum exists. An MLE estimate is the same regardless of whether we maximize the likelihood or the log-likelihood function, since log is a monotonically increasing function."
   ]
  },
  {
   "cell_type": "markdown",
   "metadata": {},
   "source": [
    "---\n",
    "Ordinary Least Squares (OLS)\n",
    "---\n",
    "\n",
    "In statistics, ordinary least squares (OLS) or linear least squares is a method for estimating the unknown parameters in a linear regression model, with the goal of minimizing the sum of the squares of the differences between the observed responses in the given dataset and those predicted by a linear function of a set of explanatory variables (visually this is seen as the sum of the vertical distances between each data point in the set and the corresponding point on the regression line – the smaller the differences, the better the model fits the data). \n",
    "\n",
    "\n",
    "The OLS estimator is consistent when the regressors are exogenous, and optimal in the class of linear unbiased estimators when the errors are homoscedastic and serially uncorrelated.\n",
    "\n",
    "Under the additional assumption that the errors be normally distributed, OLS is the maximum likelihood estimator. \n",
    "\n",
    "\n",
    "$y_{i}=\\beta _{1}x_{i1}+\\cdots +\\beta _{p}x_{ip}+\\varepsilon _{i}=\\mathbf {x} _{i}^{\\rm {T}}{\\boldsymbol {\\beta }}+\\varepsilon _{i},\\qquad i=1,\\ldots ,n,$\n",
    "\n",
    "\n",
    "$y_{i}=\\hat{y}=\\mathbf {x} _{i}^{\\rm {T}}{\\boldsymbol {\\beta }}+\\varepsilon _{i},\\qquad$\n",
    "\n",
    "where T denotes the transpose, so that $x_i^Tβ$ is the inner product between vectors $xi$ and $β$.\n",
    "\n",
    "Often these n equations are stacked together and written in vector form as\n",
    "\n",
    "$\\mathbf {y} =\\mathbf {X} {\\boldsymbol {\\beta }}+{\\boldsymbol {\\varepsilon }},\\,$\n",
    "\n",
    "where\n",
    "\n",
    " $\\mathbf{y} = \\begin{pmatrix} y_1 \\\\ y_2 \\\\ \\vdots \\\\ y_n \\end{pmatrix}, \\quad$\n",
    " \n",
    " $\\mathbf{X} = \\begin{pmatrix} \\mathbf{x}^{\\rm T}_1 \\\\ \\mathbf{x}^{\\rm T}_2 \\\\ \\vdots \\\\ \\mathbf{x}^{\\rm T}_n \\end{pmatrix}\n",
    " = \\begin{pmatrix} x_{11} & \\cdots & x_{1p} \\\\\n",
    " x_{21} & \\cdots & x_{2p} \\\\\n",
    " \\vdots & \\ddots & \\vdots \\\\\n",
    " x_{n1} & \\cdots & x_{np}\n",
    " \\end{pmatrix}, $\n",
    " \n",
    " \n",
    " $\\boldsymbol\\beta = \\begin{pmatrix} \\beta_1 \\\\ \\beta_2 \\\\ \\vdots \\\\ \\beta_p \\end{pmatrix}, \\quad\n",
    " \\boldsymbol\\varepsilon = \\begin{pmatrix} \\varepsilon_1 \\\\ \\varepsilon_2 \\\\ \\vdots \\\\ \\varepsilon_n \\end{pmatrix}.$\n",
    " \n",
    "\n",
    "\n",
    "Some remarks on terminology and general use:\n",
    "\n",
    "$y_{i}$, is called the regressand, endogenous variable, response variable, measured variable, criterion variable, or dependent variable \n",
    "\n",
    "$x_{i1},\\,x_{i2},\\,\\ldots ,\\,x_{ip}$, are called regressors, exogenous variables, explanatory variables, covariates, input variables, predictor variables, or independent variables. The matrix $\\mathbf {X}$ is sometimes called the design matrix.\n",
    "\n",
    "Usually a constant is included as one of the regressors. For example, we can take xi1 = 1 for i = 1, ..., n. The corresponding element of β is called the intercept. Many statistical inference procedures for linear models require an intercept to be present, so it is often included even if theoretical considerations suggest that its value should be zero.\n",
    "\n",
    "Sometimes one of the regressors can be a non-linear function of another regressor or of the data, as in polynomial regression and segmented regression. The model remains linear as long as it is linear in the parameter vector β.\n",
    "       \n",
    "${\\boldsymbol {\\beta }}$, is a p-dimensional parameter vector. Its elements are also called effects, or regression coefficients. Statistical estimation and inference in linear regression focuses on $β$. The elements of this parameter vector are interpreted as the partial derivatives of the dependent variable with respect to the various independent variables.\n",
    "\n",
    "$\\varepsilon _{i}$, is called the error term, disturbance term, or noise. This variable captures all other factors which influence the dependent variable $y_i$ other than the regressors $x_i$. The relationship between the error term and the regressors, for example whether they are correlated, is a crucial step in formulating a linear regression model, as it will determine the method to use for estimation.\n",
    "\n",
    "\n",
    "Such a system usually has no solution, so the goal is instead to find the coefficients ${\\beta }$ which fit the equations \"best,\" in the sense of solving the quadratic minimization problem\n",
    "\n",
    "\n",
    "\n",
    "\n",
    "**Estimation**\n",
    "\n",
    "\n",
    "The objective consists of adjusting the parameters of a model function to best fit a data set. A simple data set consists of n points (data pairs) $(x_{i},y_{i})\\!, i = 1, ..., n,$ where $x_{i}$ is an independent variable and $y_{i}$ is a dependent variable whose value is found by observation. The model function has the form f $f(x,\\beta )$, where m adjustable parameters are held in the vector $\\boldsymbol {\\beta }$. The goal is to find the parameter values for the model that \"best\" fits the data. The least squares method finds its optimum when the sum, S, of squared residuals\n",
    "\n",
    "${S=\\sum _{i=1}^{n}{r_{i}}^{2}}$\n",
    "\n",
    "is a minimum. A residual is defined as the difference between the actual value of the dependent variable and the value predicted by the model. Each data point has one residual. Both the sum and the mean of the residuals are equal to zero.\n",
    "\n",
    "$r_{i}=y_{i}-f(x_{i},{\\boldsymbol \\beta })$\n",
    "\n",
    "An example of a model is that of the straight line in two dimensions. Denoting the y-intercept as $\\beta _{0}$ and the slope as $\\beta _{1}$, the model function is given by $f(x,\\boldsymbol \\beta)=\\beta_0+\\beta_1 x.$ \n",
    "\n",
    "**Least Square Criterion**\n",
    "\n",
    "$\\min \\sum_i (y_i - \\hat{Y_i})^2=\\sum_i e_i^2\\ $ \n",
    "\n",
    "\n",
    "where:\n",
    "\n",
    "$ SS_\\text{res}=\\sum_i (y_i - \\hat{Y_i})^2=\\sum_i e_i^2\\ $  The sum of squares of residuals, also called the residual sum of squares\n",
    "\n",
    "**Now**\n",
    "\n",
    "Suppose $b$ is a \"candidate\" value for the parameter $\\beta$. The quantity $y_i − x_i^Tb$, called the **residual** for the $i-th$ observation, measures the vertical distance between the data point $(xi yi)$ and the hyperplane $y = x^Tb$, and thus assesses the degree of fit between the actual data and the model. The **sum of squared residuals (SSR)** (also called the **error sum of squares (ESS)** or **residual sum of squares (RSS)**)is a measure of the overall model fit:\n",
    "\n",
    "$S(b)=\\sum _{i=1}^{n}(y_{i}-x_{i}^{T}b)^{2}=(y-Xb)^{T}(y-Xb)$\n",
    "\n",
    "\n",
    "Where $T$ denotes the matrix transpose. The value of b which minimizes this sum is called the **OLS estimator for β**. The function $S(b)$ is quadratic in b with positive-definite Hessian, and therefore this function possesses a unique global minimum at $b={\\hat {\\beta }}$, which can be given by the explicit formula:\n",
    "\n",
    "${\\displaystyle {\\hat {\\beta }}=\\operatorname {argmin} _{b\\in \\mathbb {R} ^{p}}S(b)=\\left({\\frac {1}{n}}\\sum _{i=1}^{n}x_{i}x_{i}^{T}\\right)^{\\!-1}\\!\\!\\cdot \\,{\\frac {1}{n}}\\sum _{i=1}^{n}x_{i}y_{i}}$\n",
    "\n",
    "or equivalently in matrix form,\n",
    "\n",
    "${\\hat {\\beta }}=(X^{T}X)^{-1}X^{T}y$ \n",
    "\n",
    "\n",
    "The matrix $ {\\displaystyle (X^{T}X)^{-1}X^{T}}$ is called the Moore–Penrose pseudoinverse matrix of $X$. This formulation highlights the point that estimation can be carried out if, and only if, there is no perfect multicollinearity between the explanatory variables.\n",
    "\n",
    "After we have estimated $β$, the fitted values (or predicted values) from the regression will be\n",
    "\n",
    "$ {\\hat {y}}=X{\\hat {\\beta }}=Py$\n",
    "\n",
    "where $P = X(X^TX)^−1X^T $is the projection matrix onto the space $V$ spanned by the columns of $X$. This matrix $P$ is also sometimes called the **hat matrix** because it \"puts a hat\" onto the variable $y$. Another matrix, closely related to $P$ is the annihilator matrix $M = In − P$, this is a projection matrix onto the space orthogonal to $V$. Both matrices $P$ and $M$ are symmetric and idempotent (meaning that $P2 = P$), and relate to the data matrix $X$ via identities $PX = X and MX = 0.$ Matrix $M$ creates the residuals from the regression:\n",
    "\n",
    "${\\displaystyle {\\hat {\\varepsilon }}=y-{\\hat {y}}=y-X{\\hat {\\beta }}=My=M(X\\beta +\\varepsilon )=(MX)\\beta +M\\varepsilon =M\\varepsilon .}$\n",
    "\n",
    "Using these residuals we can estimate the value of $σ2$:\n",
    "\n",
    "${\\displaystyle s^{2}={\\frac {{\\hat {\\varepsilon }}^{T}{\\hat {\\varepsilon }}}{n-p}}={\\frac {(My)^{T}My}{n-p}}={\\frac {y^{T}M^{T}My}{n-p}}={\\frac {y^{T}My}{n-p}}={\\frac {S({\\hat {\\beta }})}{n-p}},\\qquad {\\hat {\\sigma }}^{2}={\\frac {n-p}{n}}\\;s^{2}}$\n",
    "\n",
    "The numerator, $n−p$, is the statistical degrees of freedom. The first quantity, $s2$, is the $OLS$ estimate for $σ2$, whereas the second, $ \\scriptstyle {\\hat {\\sigma }}^{2},$ is the $MLE$ estimate for $σ2$. The two estimators are quite similar in large samples; the first one is always unbiased, while the second is biased but minimizes the mean squared error of the estimator. In practice s2 is used more often, since it is more convenient for the hypothesis testing. The square root of $s2$ is called the **standard error of the regression (SER), or standard error of the equation (SEE)**.\n",
    "\n",
    "It is common to assess the goodness-of-fit of the OLS regression by comparing how much the initial variation in the sample can be reduced by regressing onto $X$. The coefficient of determination $R2$ is defined as a ratio of \"explained\" variance to the \"total\" variance of the dependent variable y:\n",
    "\n",
    "$R^{2}={\\frac {\\sum ({\\hat {y}}_{i}-{\\overline {y}})^{2}}{\\sum (y_{i}-{\\overline {y}})^{2}}}={\\frac {y^{T}P^{T}LPy}{y^{T}Ly}}=1-{\\frac {y^{T}My}{y^{T}Ly}}=1-{\\frac {\\rm {SSR}}{\\rm {TSS}}}$\n",
    "\n",
    "Where TSS is the **total sum of squares** for the dependent variable, $L = In − 11T/ n$, and $1$ is an $n×1$ vector of ones. ($L$ is a \"centering matrix\" which is equivalent to regression on a constant; it simply subtracts the mean from a variable.) In order for $R2$ to be meaningful, the matrix $X$ of data on regressors must contain a column vector of ones to represent the constant whose coefficient is the regression intercept. In that case, $R2$ will always be a number between $0$ and $1$, with values close to 1 indicating a good degree of fit."
   ]
  },
  {
   "cell_type": "markdown",
   "metadata": {
    "collapsed": true
   },
   "source": [
    "---\n",
    "Normal Equation (Linear least squares)\n",
    "---\n",
    "\n",
    "\n",
    "The \"Normal Equation\" is a method of finding the optimum theta without iteration.\n",
    "\n",
    "There is no need to do feature scaling with the normal equation.\n",
    "\n",
    "Linear least squares is the problem of approximately solving an overdetermined system of linear equations, where the best approximation is defined as that which minimizes the sum of squared differences between the data values and their corresponding modeled values. \n",
    "Define the  $ith$ residual to be:\n",
    "\n",
    "$r_i = y_{i}-\\sum _{j=1}^{n}X_{ij}\\beta _{j}$\n",
    "\n",
    "\n",
    "\n",
    "An overdetermined system\n",
    "\n",
    "$\\sum _{j=1}^{n}X_{ij}\\beta _{j}=y_{i},\\ (i=1,2,\\dots ,m)$\n",
    "\n",
    "of m linear equations in n unknown coefficients, $β1,β2,…,βn, with m > n.$ (Note: for a linear model as above, not all of $X$ contains information on the data points. The first column is populated with ones, ${\\displaystyle X_{i1}=1}$, only the other columns contain actual data, and $n = number of regressors + 1$). This can be written in matrix form as\n",
    "\n",
    "$\\mathbf {X} {\\boldsymbol {\\beta }}=\\mathbf {y}$\n",
    "\n",
    "where\n",
    "\n",
    "${\\displaystyle \\mathbf {X} ={\\begin{bmatrix}X_{11}&X_{12}&\\cdots &X_{1n}\\\\X_{21}&X_{22}&\\cdots &X_{2n}\\\\\\vdots &\\vdots &\\ddots &\\vdots \\\\X_{m1}&X_{m2}&\\cdots &X_{mn}\\end{bmatrix}},\\qquad {\\boldsymbol {\\beta }}={\\begin{bmatrix}\\beta _{1}\\\\\\beta _{2}\\\\\\vdots \\\\\\beta _{n}\\end{bmatrix}},\\qquad \\mathbf {y} ={\\begin{bmatrix}y_{1}\\\\y_{2}\\\\\\vdots \\\\y_{m}\\end{bmatrix}}.}$\n",
    "\n",
    "Such a system usually has no solution, so the goal is instead to find the coefficients ${\\boldsymbol {\\beta }}$ which fit the equations \"best,\" in the sense of solving the quadratic minimization problem\n",
    "\n",
    "$ {\\hat {\\boldsymbol {\\beta }}}={\\underset {\\boldsymbol {\\beta }}{\\operatorname {arg\\,min} }}\\,S({\\boldsymbol {\\beta }})$\n",
    "\n",
    "where the objective function S is given by\n",
    "\n",
    "$ S({\\boldsymbol {\\beta }})= SSR =  \\sum _{i=1}^{m}{\\bigl |}y_{i}-\\sum _{j=1}^{n}X_{ij}\\beta _{j}{\\bigr |}^{2}={\\bigl \\|}\\mathbf {y} -\\mathbf {X} {\\boldsymbol {\\beta }}{\\bigr \\|}^{2}$\n",
    "\n",
    "\n",
    "**Least Square Criterion**\n",
    "\n",
    "$\\min \\sum_i (y_i - \\hat{Y_i})^2=\\sum_i e_i^2\\ $ \n",
    "\n",
    "\n",
    "where:\n",
    "\n",
    "$ SS_\\text{res}=\\sum_i (y_i - \\hat{Y_i})^2=\\sum_i e_i^2\\ $  The sum of squares of residuals, also called the residual sum of squares\n",
    "\n",
    "\n",
    "\n",
    "\n",
    "A justification for choosing this criterion is given in properties below. This minimization problem has a unique solution, provided that the n columns of the matrix $\\mathbf {X}$ are linearly independent, given by solving the normal equations\n",
    "\n",
    "$(\\mathbf {X} ^{\\rm {T}}\\mathbf {X} ){\\hat {\\boldsymbol {\\beta }}}=\\mathbf {X} ^{\\rm {T}}\\mathbf {y} .$\n",
    "\n",
    "The matrix $ \\mathbf {X} ^{\\rm {T}}\\mathbf {X}$ is known as the Gramian matrix of $\\mathbf {X} $, which possesses several nice properties such as being a positive semi-definite matrix, and the matrix $ {\\displaystyle \\mathbf {X} ^{\\rm {T}}\\mathbf {y} }$ is known as the moment matrix of regressand by regressors.\n",
    "\n",
    "Finally, ${\\hat {\\boldsymbol {\\beta }}}$ is the coefficient vector of the least-squares hyperplane, expressed as\n",
    "\n",
    "${\\displaystyle {\\hat {\\boldsymbol {\\beta }}}=(\\mathbf {X} ^{\\rm {T}}\\mathbf {X} )^{-1}\\mathbf {X} ^{\\rm {T}}\\mathbf {y} .}$\n",
    "\n",
    "\n",
    "\n",
    "\n",
    "\n",
    "\n",
    "With the normal equation, computing the inversion has complexity O(n3). So if we have a very large number of features, the normal equation will be slow. \n",
    "\n",
    "The following is a comparison of gradient descent and the normal equation:\n",
    "\n",
    "The beta coefficients of a linear regression model can be calculated by solving the normal equation.\n",
    "   Using numpy, write a function that solves the **normal equation** (below).\n",
    "   As input your function should take a matrix of features (**x**) and\n",
    "   a vector of target (**y**). The return it's a vector of beta coefficients \n",
    "   that represent the line of best fit which minimizes the residual. \n",
    "   Calculate  R<sup>2</sup>."
   ]
  },
  {
   "cell_type": "markdown",
   "metadata": {
    "collapsed": true
   },
   "source": [
    "$\\hat{\\boldsymbol\\beta} = (\\mathbf{X}^{\\rm T}\\mathbf{X})^{-1} \\mathbf{X}^{\\rm T}\\mathbf{y}\n",
    " = \\big(\\,{\\textstyle\\sum} \\mathbf{x}_i \\mathbf{x}^{\\rm T}_i \\,\\big)^{-1}\n",
    " \\big(\\,{\\textstyle\\sum} \\mathbf{x}_i y_i \\,\\big).$"
   ]
  },
  {
   "cell_type": "code",
   "execution_count": 123,
   "metadata": {
    "collapsed": true
   },
   "outputs": [],
   "source": [
    "def get_beta(matriz, y):\n",
    "    return (np.linalg.inv(matriz.transpose().dot(matriz))).dot(matriz.transpose()).dot(y)"
   ]
  },
  {
   "cell_type": "code",
   "execution_count": 162,
   "metadata": {
    "collapsed": false
   },
   "outputs": [
    {
     "data": {
      "text/plain": [
       "array([ 0.59873282,  0.54583391, -6.06466292])"
      ]
     },
     "execution_count": 162,
     "metadata": {},
     "output_type": "execute_result"
    }
   ],
   "source": [
    "beta_coeff = get_beta(x, y)\n",
    "beta_coeff # for this case according to the matrix [[0]income-->beta, [1]education,-->beta [2]contant --> beta(y interseption)]"
   ]
  },
  {
   "cell_type": "markdown",
   "metadata": {},
   "source": [
    "${Y_i = \\beta_0 + \\sum_{j=1}^p {\\beta_j X_{i,j}} + \\varepsilon_i}$\n",
    "\n",
    "```\n",
    "-The y-intercept means that if we don't have any income or education, prestige (y) will be negative 6.It doesn't mean that much but a shifting of the predictors.\n",
    "-As for income and education, it will be the values where if you increase either income or education by 1 value, it will increase by 0.6 and 0.546 respectively if the other \n",
    "is held constant.\n",
    "\n",
    "```\n",
    "\n"
   ]
  },
  {
   "cell_type": "markdown",
   "metadata": {},
   "source": [
    "${Y_i = \\beta_0 + \\sum_{j=1}^p {\\beta_j X_{i,j}} + \\varepsilon_i}$"
   ]
  },
  {
   "cell_type": "code",
   "execution_count": 163,
   "metadata": {
    "collapsed": false
   },
   "outputs": [
    {
     "data": {
      "text/plain": [
       "accountant    77.998488\n",
       "pilot         78.527477\n",
       "architect     89.057018\n",
       "dtype: float64"
      ]
     },
     "execution_count": 163,
     "metadata": {},
     "output_type": "execute_result"
    }
   ],
   "source": [
    "y_hat = beta_coeff[0]*x.income + beta_coeff[1]*x.education + beta_coeff[2] #  commutative\n",
    "y_hat[:3]"
   ]
  },
  {
   "cell_type": "code",
   "execution_count": 149,
   "metadata": {
    "collapsed": false
   },
   "outputs": [
    {
     "data": {
      "text/plain": [
       "47.68888888888889"
      ]
     },
     "execution_count": 149,
     "metadata": {},
     "output_type": "execute_result"
    }
   ],
   "source": [
    "y_bar = np.mean(y)\n",
    "y_bar"
   ]
  },
  {
   "cell_type": "markdown",
   "metadata": {},
   "source": [
    "$\\bar{y}=\\frac{1}{n}\\sum_{i=1}^n y_i$   is the mean of the observed data\n"
   ]
  },
  {
   "cell_type": "markdown",
   "metadata": {},
   "source": [
    "$SS_\\text{tot}=\\sum_i (y_i-\\bar{y})^2$  is the total sum of squares (proportional to the variance of the data)"
   ]
  },
  {
   "cell_type": "markdown",
   "metadata": {},
   "source": [
    "$SS_\\text{reg}=\\sum_i (\\hat{Y_i} -\\bar{y})^2$   is the regression sum of squares, also called the explained sum of squares"
   ]
  },
  {
   "cell_type": "markdown",
   "metadata": {},
   "source": [
    "$ SS_\\text{res}=\\sum_i (y_i - \\hat{Y_i})^2=\\sum_i e_i^2\\ $  The sum of squares of residuals, also called the residual sum of squares"
   ]
  },
  {
   "cell_type": "markdown",
   "metadata": {},
   "source": [
    "$R^2 \\equiv 1 - {SS_{\\rm res}\\over SS_{\\rm tot}}$ The most general definition of the **coefficient of determination** "
   ]
  },
  {
   "cell_type": "code",
   "execution_count": 150,
   "metadata": {
    "collapsed": false
   },
   "outputs": [
    {
     "data": {
      "text/plain": [
       "0.8281734172543814"
      ]
     },
     "execution_count": 150,
     "metadata": {},
     "output_type": "execute_result"
    }
   ],
   "source": [
    "r_sq = 1 - ((np.sum((y-y_hat)**2.) / np.sum((y-y_bar)**2)))\n",
    "r_sq"
   ]
  },
  {
   "cell_type": "markdown",
   "metadata": {},
   "source": [
    "The model explains 82.8% of the variability of prestige (y)."
   ]
  },
  {
   "cell_type": "code",
   "execution_count": 167,
   "metadata": {
    "collapsed": false
   },
   "outputs": [
    {
     "name": "stdout",
     "output_type": "stream",
     "text": [
      "                            OLS Regression Results                            \n",
      "==============================================================================\n",
      "Dep. Variable:               prestige   R-squared:                       0.828\n",
      "Model:                            OLS   Adj. R-squared:                  0.820\n",
      "Method:                 Least Squares   F-statistic:                     101.2\n",
      "Date:                Sat, 04 Jun 2016   Prob (F-statistic):           8.65e-17\n",
      "Time:                        21:41:03   Log-Likelihood:                -178.98\n",
      "No. Observations:                  45   AIC:                             364.0\n",
      "Df Residuals:                      42   BIC:                             369.4\n",
      "Df Model:                           2                                         \n",
      "Covariance Type:            nonrobust                                         \n",
      "==============================================================================\n",
      "                 coef    std err          t      P>|t|      [95.0% Conf. Int.]\n",
      "------------------------------------------------------------------------------\n",
      "income         0.5987      0.120      5.003      0.000         0.357     0.840\n",
      "education      0.5458      0.098      5.555      0.000         0.348     0.744\n",
      "const         -6.0647      4.272     -1.420      0.163       -14.686     2.556\n",
      "==============================================================================\n",
      "Omnibus:                        1.279   Durbin-Watson:                   1.458\n",
      "Prob(Omnibus):                  0.528   Jarque-Bera (JB):                0.520\n",
      "Skew:                           0.155   Prob(JB):                        0.771\n",
      "Kurtosis:                       3.426   Cond. No.                         163.\n",
      "==============================================================================\n",
      "\n",
      "Warnings:\n",
      "[1] Standard Errors assume that the covariance matrix of the errors is correctly specified.\n"
     ]
    }
   ],
   "source": [
    "model = sm.OLS(y, x).fit()\n",
    "summary = model.summary()\n",
    "#summary\n",
    "print summary"
   ]
  },
  {
   "cell_type": "markdown",
   "metadata": {
    "collapsed": true
   },
   "source": [
    "```\n",
    "-The model is significant because the F-statistic is very large and the p-value is almost zero.\n",
    "```"
   ]
  },
  {
   "cell_type": "code",
   "execution_count": null,
   "metadata": {
    "collapsed": true
   },
   "outputs": [],
   "source": []
  },
  {
   "cell_type": "code",
   "execution_count": null,
   "metadata": {
    "collapsed": true
   },
   "outputs": [],
   "source": []
  },
  {
   "cell_type": "code",
   "execution_count": null,
   "metadata": {
    "collapsed": true
   },
   "outputs": [],
   "source": []
  },
  {
   "cell_type": "code",
   "execution_count": null,
   "metadata": {
    "collapsed": true
   },
   "outputs": [],
   "source": []
  },
  {
   "cell_type": "code",
   "execution_count": null,
   "metadata": {
    "collapsed": true
   },
   "outputs": [],
   "source": []
  },
  {
   "cell_type": "code",
   "execution_count": null,
   "metadata": {
    "collapsed": true
   },
   "outputs": [],
   "source": []
  },
  {
   "cell_type": "code",
   "execution_count": null,
   "metadata": {
    "collapsed": true
   },
   "outputs": [],
   "source": []
  }
 ],
 "metadata": {
  "kernelspec": {
   "display_name": "Python 2",
   "language": "python",
   "name": "python2"
  },
  "language_info": {
   "codemirror_mode": {
    "name": "ipython",
    "version": 2
   },
   "file_extension": ".py",
   "mimetype": "text/x-python",
   "name": "python",
   "nbconvert_exporter": "python",
   "pygments_lexer": "ipython2",
   "version": "2.7.11"
  }
 },
 "nbformat": 4,
 "nbformat_minor": 0
}
