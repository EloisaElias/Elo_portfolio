{
 "cells": [
  {
   "cell_type": "markdown",
   "metadata": {},
   "source": [
    "## [Regularize Regression](https://en.wikipedia.org/wiki/Regularization_(mathematics))\n",
    "\n",
    "---\n",
    "**Elo notes**"
   ]
  },
  {
   "cell_type": "markdown",
   "metadata": {
    "collapsed": true
   },
   "source": [
    "**Regularization** is a technique used in an attempt to solve the overfitting problem in statistical models.\n"
   ]
  },
  {
   "cell_type": "markdown",
   "metadata": {},
   "source": [
    "---\n",
    "### [Dependent and independent variables Statistics synonyms](https://en.wikipedia.org/wiki/Dependent_and_independent_variables)\n",
    "\n",
    "Depending on the context, an **independent variable** is sometimes called: \n",
    "\n",
    "- \"predictor variable\"\n",
    "- regressor, \n",
    "- covariate, \n",
    "- \"controlled variable\", \n",
    "- \"manipulated variable\", \n",
    "- \"explanatory variable\", \n",
    "- exposure variable (see reliability theory), \n",
    "- \"risk factor\" (see medical statistics), \n",
    "- \"feature\" (in machine learning and pattern recognition) \n",
    "- \"input variable.\" \n",
    "- In econometrics, the term \"control variable\" is usually used instead of \"covariate\".\n",
    "\n",
    "Depending on the context, a **dependent variable** is sometimes called:\n",
    "\n",
    "- \"response variable\", \n",
    "- \"regressand\", \n",
    "- \"criterion\", \n",
    "- \"predicted variable\", \n",
    "- \"measured variable\", \n",
    "- \"explained variable\", \n",
    "- \"experimental variable\", \n",
    "- \"responding variable\", \n",
    "- \"outcome variable\", \n",
    "- \"output variable\" or \"label\".\n",
    "\n",
    "### [Eigenvectors and Eigenvalues](http://www.visiondummy.com/2014/03/eigenvalues-eigenvectors/)\n",
    "\n",
    "Eigenvectors and eigenvalues have many important applications in computer vision and machine learning examples are PCA (Principal Component Analysis) for dimensionality reduction or EigenFaces for face recognition.\n",
    "\n",
    "A square matrix of size $N \\times N$ always has exactly $N$ eigenvalues, each with a corresponding eigenvector. The eigenvalue specifies the size of the eigenvector.\n",
    "\n",
    "Eigenvector simply represents an orientation (the corresponding eigenvalue represents the magnitude), all scalar multiples of the eigenvector are vectors that are parallel to this eigenvector, and are therefore equivalent (If we would normalize the vectors, they would all be equal).\n",
    "\n",
    "### [Covariance matrix - $X^{T}X$ Symetric](http://www.visiondummy.com/2014/04/geometric-interpretation-covariance-matrix/)\n",
    "\n",
    "Covariance matrix (also known as dispersion matrix or variance–covariance matrix) is a matrix whose element in the $i, j$ position is the covariance between the $i$ th and $j$ th elements of a random vector. A random vector is a random variable with multiple dimensions. Each element of the vector is a scalar random variable.\n",
    "\n",
    "The covariance matrix captures the variance and linear correlation in multivariate/multidimensional data.\n",
    "\n",
    "\n",
    "If data is an N * D matrix the covariance matrix is a d * d square matrix\n",
    "where: \n",
    "\n",
    "N: Rows\n",
    "\n",
    "D: Attributes\n",
    "\n",
    "\n",
    "The covariance matrix generalizes the notion of variance to multiple dimensions. As an example, the variation in a collection of random points in two-dimensional space cannot be characterized fully by a single number, nor would the variances in the x and y directions contain all of the necessary information; a 2×2 matrix would be necessary to fully characterize the two-dimensional variation.\n",
    "\n"
   ]
  },
  {
   "cell_type": "markdown",
   "metadata": {},
   "source": [
    "[Norm](https://en.wikipedia.org/wiki/Norm_(mathematics)\n",
    "\n",
    "[Normed vector space](https://en.wikipedia.org/wiki/Normed_vector_space)\n",
    "\n",
    "The **regularization** technique comes handy. You penalize your loss function by adding a multiple of an **L1 (LASSO)** or an **L2 (Ridge)** norm of your weights vector w (it is the vector of the learned parameters in your linear regression).\n",
    "\n",
    "Regularization can be used to learn simpler models, induce models to be sparse, introduce group structure into the learning problem, and more.\n",
    "\n",
    "The same idea arose in many fields of science. For example, the least-squares method can be viewed as a very simple form of regularization. A simple form of regularization applied to integral equations, generally termed Tikhonov regularization after Andrey Nikolayevich Tikhonov, is essentially a trade-off between fitting the data and reducing a norm of the solution. More recently, non-linear regularization methods, including total variation regularization have become popular.\n",
    "\n",
    "Lasso and ridge regression are two alternatives **(complement)** to ordinary least squares (OLS). They both start with the standard OLS form and add a penalty for model complexity. \n",
    "\n",
    "The only difference between the two methods is the form of the penality term. \n",
    "\n",
    "Ridge regression uses the $\\mathbf{\\mathit{l}_{2}}-norm$ while lasso regression uses the $\\mathbf{\\mathit{l}_{1}}-norm$. \n",
    "\n",
    "$ SS_\\text{res}=\\sum_i (y_i - \\hat{Y_i})^2=\\sum_i e_i^2\\ $  The sum of squares of residuals, also called the residual sum of squares\n",
    "\n",
    "where $ \\hat{Y_i} =  (\\sum _{j=1}^{p}x_{i}^{T}\\hat\\beta _{j}) $\n",
    "\n",
    "** Lasso Regression**(from OLS - linear regression)\n",
    "\n",
    "$ \\mathbf{\\hat{\\beta}^{lasso} = \\displaystyle arg\\min_{\\beta}\\sum^{n}_{i=1}(y_{i}-\\sum _{j=1}^{p}x_{i}^{T}\\beta _{j} )^2 + \\lambda\\sum _{j=1}^{p}|\\beta _{j}|}$\n",
    "\n",
    "**Ridge egression**(from OLS - linear regression)\n",
    "\n",
    "$\\mathbf{\\hat{\\beta}^{ridge} = \\displaystyle arg\\min_{\\beta}\\sum^{n}_{i=1}(y_{i}-\\sum _{j=1}^{p}x_{i}^{T}\\beta _{j})^2 + \\lambda\\sum _{j=1}^{p} |\\beta _{j}|_{}^{2}}$\n",
    "\n",
    "\n",
    "$L_2-Ridge$ regularization is used in many contexts aside from linear regression, such as classification with logistic regression or support vector machines, and matrix factorization\n",
    "\n",
    "With $L_1-lasso$, a coefficient estimates shrink to $0$ when the absolute value of that least squares coefficient is less than $λ/2$ (and so you also get feature selection from lasso).\n",
    "\n",
    "With ridge, least squares coefficients shrink, but are left in the model (so no feature selection); coefficients are only $0$ if $λ$ is $\\infty$. The \"secret\" is in the regularization term: Minimizing $f = xb + |b|$ will shrink some b's to 0. When the regularization term becomes $|b^2|$, with $b<1$, it will be even smaller. Hence minimizing f will tend not to shrink to zero any b.\n",
    "\n",
    "The regularization of the ridge is a shrinkage: the coefficients learned are shrunk towards zero.\n",
    "\n",
    "The amount of regularization is set via the alpha parameter of the ridge, which is tunable.\n",
    "\n",
    "**RidgeCV** class in **scikits-learn** automatically tunes this parameter via cross-validation."
   ]
  },
  {
   "cell_type": "markdown",
   "metadata": {
    "collapsed": true
   },
   "source": [
    "---\n",
    "\n",
    "## [Loss function ( Cost function)](https://en.wikipedia.org/wiki/Loss_function)\n",
    "\n",
    "In statistics, typically a **loss function** is used for **parameter estimation**, and the event in question is some **function of the difference between estimated and true values** for an instance of data. \n",
    "\n",
    "For example: Standard linear regression cost function, in which we obtain the beta coefficients which minimize this function.\n",
    "\n",
    "$ SS_\\text{res}=\\sum_i (y_i - \\hat{Y_i})^2=\\sum_i e_i^2\\ $ \n",
    "\n",
    "In mathematical optimization, statistics, econometrics, decision theory, machine learning and computational neuroscience, \n",
    "\n",
    "a **loss function or cost function** is a function that maps values of one or more variables onto a real number intuitively representing some \"cost\" associated with the event.\n",
    "\n",
    "An optimization problem seeks to minimize a loss function. \n",
    "\n",
    "An objective function is either a loss function or its negative (in specific domains, variously called a reward function, a profit function, a utility function, a fitness function, etc.), in which case it is to be maximized. \n",
    "\n",
    "##  [Linear Regression - Loss Function (cost function)](https://en.wikipedia.org/wiki/Linear_regression)\n",
    "\n",
    "\n",
    "In the case of linear regression, the cost function we want to optimize is the residual sum of squares, which is as follows:\n",
    "\n",
    "\n",
    "$ SS_\\text{res}=\\sum_i (y_i - \\hat{Y_i})^2=\\sum_i e_i^2\\ $  The sum of squares of residuals, also called the residual sum of squares (RSS)\n",
    "\n",
    "Where:\n",
    "\n",
    "$y_{i}=\\hat{y}=\\beta _{1}x_{i1}+\\cdots +\\beta _{p}x_{ip}+\\varepsilon _{i},\\qquad i=1,\\ldots ,n,$\n",
    "\n",
    "\n",
    "the linear model in **vector** form we need to transponse the **X** matrix\n",
    "\n",
    "$$y_{i}=\\hat{y}=\\mathbf {x} _{i}^{\\rm {T}}{\\boldsymbol {\\beta }}+\\varepsilon _{i},\\qquad$$\n",
    "\n",
    "\n",
    "We're lucky in the case of linear regression that there is what we call a closed form. This is an equation we can use to directly find the optimal beta coefficients. For linear regression, we call this equation the Normal Equation:\n",
    "\n",
    "\n",
    "$\\hat{\\boldsymbol\\beta} = (\\mathbf{X}^{\\rm T}\\mathbf{X})^{-1} \\mathbf{X}^{\\rm T}\\mathbf{y}$\n",
    "\n",
    "## Cost Function - Square Errors \n",
    "\n",
    "If we have overfitting from our hypothesis function, we can reduce the weight that some of the terms in our function carry by increasing their cost.\n",
    "\n",
    "Say we wanted to make the following hypothesis function more quadratic:\n",
    "\n",
    "from: 12_Exploratory_Data_Analysis_EDA\n",
    "\n",
    "$y_{i}=\\beta _{1}x_{i1}+\\cdots +\\beta _{p}x_{ip}+\\varepsilon _{i}=\\mathbf {x} _{i}^{\\rm {T}}{\\boldsymbol {\\beta }}+\\varepsilon _{i},\\qquad i=1,\\ldots ,n,$\n",
    "\n",
    "\n",
    "$y_{i}=\\hat{y}=\\mathbf {x} _{i}^{\\rm {T}}{\\boldsymbol {\\beta }}+\\varepsilon _{i},\\qquad$\n",
    "\n",
    "\n",
    "$\\mathbf {y} =\\mathbf {X} {\\boldsymbol {\\beta }}+{\\boldsymbol {\\varepsilon }},\\,$\n",
    "\n",
    "\n",
    "Then:\n",
    "\n",
    "\n",
    "Estimate the parameter vector $\\theta$. The most common method is least squares regression. We find the parameter values which minimize the sum of squared residuals\n",
    "\n",
    "\n",
    "$h_\\theta(x)= \\theta _{0}+\\theta _{1}x+\\theta _{2}x+\\theta _{3}x+\\theta _{4}x + {\\varepsilon } = y$\n",
    "\n",
    "$h_\\theta(x) = X\\theta + \\epsilon$\n",
    "\n",
    "\n",
    "**Least Square Criterion**\n",
    "\n",
    "$\\min \\sum_i (y_i - \\hat{Y_i})^2=\\sum_i e_i^2\\ $ \n",
    "\n",
    "\n",
    "where:\n",
    "\n",
    "$SS_\\text{res}=\\sum_i (y_i - \\hat{Y_i})^2=\\sum_i e_i^2\\ $  The sum of squares of residuals, also called the residual sum of squares\n",
    "\n",
    "\n",
    "Of course we still need a method to estimate the parameter vector \\beta. The most common method is least squares regression. We find the parameter values which minimize the sum of squared residuals\n",
    "\n",
    "\n",
    "$SSR =  \\sum _{i=1}^{m}{\\bigl |}y_{i}-\\sum _{j=1}^{n}X_{ij}\\theta _{j}{\\bigr |}^{2}={\\bigl \\|}\\mathbf {y} -\\mathbf {X} {\\boldsymbol {\\theta }}{\\bigr \\|}^{2}$\n",
    "\n",
    "The solution turns out to be a matrix equation:\n",
    "\n",
    "$\\hat{\\boldsymbol\\theta} = (\\mathbf{X}^{\\rm T}\\mathbf{X})^{-1} \\mathbf{X}^{\\rm T}\\mathbf{y}$\n",
    "\n",
    "### [Regularization](https://en.wikipedia.org/wiki/Regularization_(mathematics)\n",
    "\n",
    "where, cost function (square error):\n",
    "\n",
    "$J(\\theta) = \\frac{1}{2m}\\sum_{i=1}^{m}(h_\\theta(x^{i})-y^i)^2 $\n",
    "\n",
    "and\n",
    "\n",
    "Ridge cost function = $\\sum_i (y_i - \\hat{Y_i})^2 + \\lambda\\sum _{j=1}^{p} |\\theta _{j}|_{}^{2}$\n",
    "\n",
    "when the goal is to:\n",
    "\n",
    "$ \\min_{\\theta} J(\\theta) $\n",
    "\n",
    "\n",
    "We could also regularize all of our theta parameters in a single summation:\n",
    "\n",
    "\n",
    "\n",
    "$ \\min_{\\theta} \\frac{1}{2m}[\\sum_{i=1}^{m}(h_\\theta(x^{i})-y^i)^2 + \\lambda\\sum _{j=1}^{n} {\\theta _{j}}_{}^{2}] $\n",
    "\n",
    "\n",
    "The λ, or lambda, is the regularization parameter. It determines how much the costs of our theta parameters are inflated.\n",
    "\n",
    "The second term here is the shrinkage penalty. Lambda here is an example of a tuning parameter. Determine the best value of lambda via cross validation.\n",
    "\n",
    "Using the above cost function with the extra summation, we can smooth the output of our hypothesis function to reduce overfitting. If lambda is chosen to be too large, it may smooth out the function too much and cause underfitting.\n",
    "\n",
    "Using the above cost function with the extra summation, we can smooth the output of our hypothesis function to reduce overfitting. If lambda is chosen to be too large, it may smooth out the function too much and cause underfitting.\n"
   ]
  },
  {
   "cell_type": "markdown",
   "metadata": {},
   "source": [
    "### High Bias or Underfitting (Low Variance)\n",
    "\n",
    "High Bias is present in the underfitting model when the form of our hypothesis function $\\boldsymbol {h}$ maps poorly to the trend of the data. \n",
    "\n",
    "\n",
    "It is usually caused by a function that is too simple or uses too few features. eg. if we take $\\boldsymbol {h_\\theta(x)= \\theta _{0}+\\theta _{1}x+\\theta _{2}x}$  then we are making an initial assumption that a linear model will fit the training data well and will be able to generalize but that may not be the case.\n",
    "\n",
    "At the other extreme, **Overfitting or High Variance** is caused by a hypothesis function that fits the available data but does not generalize well to predict new data. \n",
    "\n",
    "It is usually caused by a complicated function that creates a lot of unnecessary curves and angles unrelated to the data.\n",
    "\n",
    "There are two main options to address the issue of overfitting:\n",
    "\n",
    "1. Reduce the number of features.\n",
    "    - Manually select which features to keep.\n",
    "    - Use a model selection algorithm\n",
    "    \n",
    "    \n",
    "2. Regularization\n",
    "    - Keep all the features, but reduce the parameters $\\boldsymbol {\\theta _j}$\n",
    "\n",
    "Regularization works well when we have a lot of slightly useful features."
   ]
  },
  {
   "cell_type": "markdown",
   "metadata": {},
   "source": [
    "### Bias, Variance and Mean Squared Error MSE\n",
    "\n",
    "Main article: [Bias–variance tradeoff](https://en.wikipedia.org/wiki/Bias%E2%80%93variance_tradeoff)\n",
    "\n",
    "See also: [Accuracy (trueness and precision)](https://en.wikipedia.org/wiki/Accuracy_and_precision#ISO_Definition_(ISO_5725))\n",
    "\n",
    " While bias quantifies the average difference to be expected between an estimator and an underlying parameter, an estimator based on a finite sample can additionally be expected to differ from the parameter due to the randomness in the sample.\n",
    "\n",
    "One measure which is used to try to reflect both types of difference is the mean square error,\n",
    "\n",
    "${\\displaystyle \\operatorname {MSE} ({\\hat {\\theta }})=\\operatorname {E} {\\big [}({\\hat {\\theta }}-\\theta )^{2}{\\big ]}.}$\n",
    "\n",
    "This can be shown to be equal to the square of the bias, plus the variance:\n",
    "\n",
    "${\\displaystyle {\\begin{aligned}\\operatorname {MSE} ({\\hat {\\theta }})=&(\\operatorname {E} [{\\hat {\\theta }}]-\\theta )^{2}+\\operatorname {E} [\\,({\\hat {\\theta }}-\\operatorname {E} [\\,{\\hat {\\theta }}\\,])^{2}\\,]\\\\=&(\\operatorname {Bias} ({\\hat {\\theta }},\\theta ))^{2}+\\operatorname {Var} ({\\hat {\\theta }})\\end{aligned}}}$\n",
    "\n",
    "When the parameter is a vector, an analogous decomposition applies:\n",
    "\n",
    "${\\displaystyle \\operatorname {MSE} ({\\hat {\\theta }})=\\operatorname {trace} (\\operatorname {Var} ({\\hat {\\theta }}))+\\left\\Vert \\operatorname {Bias} ({\\hat {\\theta }},\\theta )\\right\\Vert ^{2}} $\n",
    "\n",
    "where\n",
    "\n",
    "${\\displaystyle \\operatorname {trace} (\\operatorname {Var} ({\\hat {\\theta }}))} $\n",
    "\n",
    "is the trace of the covariance matrix of the estimator.\n",
    "\n",
    "An estimator that minimises the bias will not necessarily minimise the mean square error. Sampling distributions of two alternative estimators for a parameter $β_0$. Although $\\hat {β_1}$ is unbiased, it is clearly inferior to the biased $\\hat {β_2}$.\n",
    "\n",
    "**Ridge regression** is one example of a technique where allowing a little bias may lead to a considerable reduction in variance, and more reliable estimates overall.\n",
    "\n",
    "\n",
    "\n",
    "\n"
   ]
  },
  {
   "cell_type": "markdown",
   "metadata": {
    "collapsed": true
   },
   "source": [
    "### [Precision and Accuracy](https://en.wikipedia.org/wiki/Accuracy_and_precision#ISO_Definition_(ISO_5725)\n",
    "\n",
    "**[THE VERY BEST!](https://en.wikipedia.org/wiki/Bessel%27s_correction)**: The field of statistics, where the interpretation of measurements plays a central role, prefers to use **the terms Bias and Variance (Variability)** instead of **accuracy and precision**: **Bias is the amount of inaccuracy** and **Variability is the amount of imprecision.**\n",
    "\n",
    "#### Precision (Variance) is a description of random errors, a measure of statistical variability. \n",
    "\n",
    "The precision of a measurement system, related to reproducibility and repeatability, is the degree to which repeated measurements under unchanged conditions show the same results.\n",
    "\n",
    "#### Accuracy (Bias) has two definitions:\n",
    "\n",
    "- More commonly, it is a description of **systematic errors**, a **measure of statistical bias (IMPORTANT!)**; as these cause a difference between a result and a \"true\" value, ISO calls this trueness. For the manufacturing industry you reduce Bias with MSA and Test equipment calibration.\n",
    "\n",
    "- Alternatively, ISO defines accuracy as describing a combination of both types of observational error above (random and systematic), so high accuracy requires both high precision and high trueness.\n",
    "\n",
    "A measurement system is considered valid if it is both accurate and precise. Related terms include bias (non-random or directed effects caused by a factor or factors unrelated to the independent variable) and error (random variability).\n"
   ]
  },
  {
   "cell_type": "markdown",
   "metadata": {
    "collapsed": true
   },
   "source": [
    "---\n",
    "\n",
    "### [Norm](http://mathworld.wolfram.com/VectorNorm.html)\n",
    "\n",
    "A [norm](https://en.wikipedia.org/wiki/Norm_(mathematics) is a function that assigns a strictly positive length or size to each vector in a vector space—save for the zero vector, which is assigned a length of zero.\n",
    "\n",
    "A simple example is two dimensional Euclidean space R2 equipped with the \"Euclidean norm\" Elements in this vector space are usually drawn as arrows in a 2-dimensional cartesian coordinate system starting at the origin (0, 0). The Euclidean norm assigns to each vector the length of its arrow. Because of this, the Euclidean norm is often known as the magnitude.\n",
    "\n",
    "The Euclidean norm is by far the most commonly used norm on $R^n$, but there are other norms on this vector space as will be shown below. \n",
    "\n",
    "The concept of unit circle (the set of all vectors of norm 1) is different in different norms: for the 1-norm the unit circle in $R^2$ is a [square](https://en.wikipedia.org/wiki/Square), for the 2-norm (Euclidean norm) it is the well-known [unit circle](https://en.wikipedia.org/wiki/Unit_circle), while for the infinity norm it is a different square.\n",
    "\n",
    "where ${\\displaystyle \\|Z\\|_{p}=\\left(\\sum _{i=1}^{N}|Z_{i}|^{p}\\right)^{1/p}}$ is the standard ${\\displaystyle \\ell ^{p}}$ norm.\n",
    "\n",
    "### [Lp Spaces](https://en.wikipedia.org/wiki/Lp_space)\n",
    "the Lp spaces are function spaces defined using a natural generalization of the p-norm for finite-dimensional vector spaces.\n",
    "\n",
    "In penalized regression, 'L1 penalty' and 'L2 penalty' refer to penalizing either the L1 norm of a solution's vector of parameter values (i.e. the sum of its absolute values), or its L2 norm (its Euclidean length). \n",
    "\n",
    "Techniques which use an L1 penalty, like LASSO, encourage solutions where many parameters are zero. \n",
    "\n",
    "Techniques which use an L2 penalty, like ridge regression, encourage solutions where most parameter values are small. Elastic net regularization uses a penalty term that is a combination of the L1 norm and the L2 norm of the parameter vector.\n",
    "\n",
    "The length of a vector $x = (x1, x2, ..., xn)$ in the n-dimensional real vector space Rn is usually given by the Euclidean norm:\n",
    "\n",
    "$${\\displaystyle \\left\\|x\\right\\|_{2}=\\left({x_{1}}^{2}+{x_{2}}^{2}+\\dotsb +{x_{n}}^{2}\\right)^{1/2}}$$\n",
    "\n",
    "The Euclidean distance between two points x and y is the length ||x − y||2 of the straight line between the two points. In many situations, the Euclidean distance is insufficient for capturing the actual distances in a given space.\n",
    "\n",
    "\n",
    "An analogy to this is suggested by taxi drivers in a grid street plan who should measure distance not in terms of the length of the straight line to their destination, but in terms of the rectilinear distance (L1 norm), which takes into account that streets are either orthogonal or parallel to each other. The class of p-norms generalizes these two examples and has an abundance of applications in many parts of mathematics, physics, and computer science.\n",
    "\n",
    "## Feature Reduction Techniques\n",
    "\n",
    "- Subset selection\n",
    "- Shrinkage methods (regularization)\n",
    "- Dimensionality reduction\n",
    "\n",
    "### Shrinkage methods\n",
    "\n",
    "### [L1 norm -   Lasso](https://en.wikipedia.org/wiki/Lasso_(statistics)\n",
    "\n",
    "Lasso (least absolute shrinkage and selection operator) (also Lasso or LASSO) is a regression analysis method that performs both variable selection and regularization in order to enhance the prediction accuracy and interpretability of the statistical model it produces. \n",
    "\n",
    "[PQSQ](https://github.com/Mirkes/PQSQ-regularized-regression/wiki)\n",
    "\n",
    "The ${\\displaystyle L_{1}}$ norm can be used to approximate the optimal ${\\displaystyle L_{0}}$ norm via convex relaxation. It can be shown that the ${\\displaystyle L_{1}} $ norm induces sparsity. In the case of least squares, this problem is known as LASSO in statistics\n",
    "\n",
    "$$\\min_{w \\in \\mathbb{R}^p} \\frac{1}{n} \\|\\hat X w - \\hat Y \\|^2 + \\lambda \\|w\\|_{1}$$\n",
    "\n",
    "[Regularization](https://en.wikipedia.org/wiki/Regularization_(mathematics)\n",
    "\n",
    "Ridge regression improves prediction error by shrinking large regression coefficients in order to reduce overfitting, but it does not perform covariate selection and therefore does not help to make the model more interpretable.\n",
    "\n",
    "Lasso is able to achieve both of these goals by forcing the sum of the absolute value of the regression coefficients to be less than a fixed value, which forces certain coefficients to be set to zero, effectively choosing a simpler model that does not include those coefficients. This idea is similar to ridge regression, in which the sum of the squares of the coefficients is forced to be less than a fixed value, though in the case of ridge regression, this only shrinks the size of the coefficients, it does not set any of them to zero.\n",
    "\n",
    "### [L2 norm - Ridge](http://mathworld.wolfram.com/L2-Norm.html)\n",
    "\n",
    "[Relationship with PCA](https://tamino.wordpress.com/2011/02/12/ridge-regression/)\n",
    "\n",
    "[Ridge regression](https://en.wikipedia.org/wiki/Tikhonov_regularization)\n",
    "\n",
    "\n",
    "Ridge cost function = $\\sum_i (y_i - \\hat{Y_i})^2 + \\lambda\\sum _{j=1}^{p} |\\theta _{j}|_{}^{2}$\n",
    "\n",
    "* If we increase lambda, the variance will decrease and the bias will increase.\n",
    "* Lambda=0 is the same as standard Linear Regression.\n",
    "\n",
    "Squaring the error is nice for differentiability purposes, but it might be too harsh of a penalty. This leads us to *Lasso*.\n",
    "\n",
    "The λ, or lambda, is the regularization parameter. It determines how much the costs of our theta parameters are inflated.\n",
    "\n",
    "The second term here is the shrinkage penalty. Lambda here is an example of a tuning parameter. Determine the best value of lambda via cross validation.\n",
    "\n",
    "Using the above cost function with the extra summation, we can smooth the output of our hypothesis function to reduce overfitting. If lambda is chosen to be too large, it may smooth out the function too much and cause underfitting.\n",
    "\n",
    "Using the above cost function with the extra summation, we can smooth the output of our hypothesis function to reduce overfitting. If lambda is chosen to be too large, it may smooth out the function too much and cause underfitting.\n",
    "\n",
    "\n",
    "https://en.wikipedia.org/wiki/Lasso_(statistics)#/media/File:L1_and_L2_balls.jpg\n",
    "\n",
    "\n",
    "As discussed above, lasso can set coefficients to zero, while ridge regression, which appears superficially similar, cannot. **This is due to the difference in the shape of the constraint boundaries in the two cases**. Both lasso and ridge regression can be interpreted as minimizing the same objective function\n",
    "\n",
    "$\\displaystyle \\min _{\\beta _{0},\\beta }\\left\\{{\\frac {1}{N}}\\left\\|y-\\beta _{0}-X\\beta \\right\\|_{2}^{2}\\right\\}$\n",
    "\n",
    "but with respect to different constraints: ${\\displaystyle \\|\\beta \\|_{1}\\leq t}$ for lasso and ${\\displaystyle \\|\\beta \\|_{2}^{2}\\leq t}$ for ridge.\n",
    "\n",
    "Besides feature selection described above, LASSO has some limitations. Ridge regression provides better accuracy in the case ${\\displaystyle n>d}$ for highly correlated variables. In another case, $ {\\displaystyle n<d}$, LASSO selects at most $ {\\displaystyle n}$ variables. Moreover, LASSO tends to select some arbitrary variables from group of highly correlated samples, so there is no grouping effect."
   ]
  },
  {
   "cell_type": "markdown",
   "metadata": {
    "collapsed": true
   },
   "source": [
    "---\n",
    "[Covariance matrix - $X^{T}X$](http://www.visiondummy.com/2014/04/geometric-interpretation-covariance-matrix/)\n",
    "\n",
    "Covariance matrix (also known as dispersion matrix or variance–covariance matrix) is a matrix whose element in the i, j position is the covariance between the i th and j th elements of a random vector. \n",
    "\n",
    "The covariance matrix captures the variance and linear correlation in multivariate/multidimensional data.\n",
    "\n",
    "If data is an N * D matrix the covariance matrix is a d * d square matrix\n",
    "where: \n",
    "\n",
    "N: Rows\n",
    "\n",
    "D: Attributes\n"
   ]
  },
  {
   "cell_type": "markdown",
   "metadata": {
    "collapsed": true
   },
   "source": [
    "---\n",
    "How can I tune in the regularization term λ?\n",
    "---\n",
    "\n",
    "\n",
    "One possible answer is to use Cross-validation: you divide your training data, you train your model for a fixed value of λ and test it on the remaining subsets and repeat this procedure while varying λ. Then you select the best λ that minimizes your **loss function.**\n",
    "\n",
    "The cross validation described above is a method used often in Machine Learning. However, choosing a reliable and safe regularization parameter is still a in research in mathematics."
   ]
  },
  {
   "cell_type": "markdown",
   "metadata": {
    "collapsed": true
   },
   "source": [
    "### Regularization and Bias/Variance\n",
    "\n",
    "Instead of looking at the degree d (features) contributing to bias/variance, now we will look at the regularization parameter $\\boldsymbol \\lambda$.\n",
    "\n",
    "- Large $\\boldsymbol \\lambda$: High bias (underfitting)\n",
    "\n",
    "- Intermediate $\\boldsymbol \\lambda$: just right\n",
    "\n",
    "- Small $\\boldsymbol \\lambda$: High variance (overfitting)\n",
    "\n",
    "A large lambda heavily penalizes all the $\\theta$ parameters, which greatly simplifies the line of our resulting function, so causes underfitting.\n",
    "\n",
    "#### The relationship of $\\boldsymbol \\lambda$ to the training set and the variance set is as follows:\n",
    "\n",
    "- Low $\\boldsymbol \\lambda$ : $Jtrain(\\theta)$ is low and $JCV(\\theta)$ is high (high variance/overfitting).\n",
    "\n",
    "- Intermediate $\\boldsymbol \\lambda$: $Jtrain(\\theta)$ and $JCV(\\theta)$ are somewhat low and $Jtrain(\\theta)≈JCV(\\theta)$.\n",
    "\n",
    "- Large $\\boldsymbol \\lambda$: both $Jtrain(\\theta)$ and $JCV(\\theta)$ will be high (underfitting/high bias)\n",
    "\n",
    "#### Model and $\\boldsymbol \\lambda$ selection\n",
    "\n",
    "1. Create a list of lambda (i.e. $\\boldsymbol \\lambda$∈{0,0.01,0.02,0.04,0.08,0.16,0.32,0.64,1.28,2.56,5.12,10.24});\n",
    "2. Select a lambda to compute;\n",
    "3. Create a model set like degree of the polynomial or others;\n",
    "4. Select a model to learn $\\theta$;\n",
    "5. Learn the parameter $\\theta$ for the model selected, using $Jtrain(\\theta)$ with $\\boldsymbol \\lambda$ selected (this will learn $\\theta$ for the next step);\n",
    "6. Compute the train error using the learned $\\theta$ (computed with $\\boldsymbol \\lambda$ ) on the $Jtrain(\\theta)$ without regularization or $\\boldsymbol \\lambda$ = 0;\n",
    "7. Compute the cross validation error using the learned $\\theta$ (computed with $\\boldsymbol \\lambda$) on the $JCV(\\theta)$ without regularization or $\\boldsymbol \\lambda$ = 0;\n",
    "8. Do this for the entire model set and lambdas, then select the best combo that produces the lowest error on the cross validation set;\n",
    "9. Now if you need visualize to help you understand your decision, you can plot to the figure like above with: ($\\boldsymbol \\lambda$ x Cost $Jtrain(\\theta))$ and ($\\boldsymbol \\lambda$ x $Cost JCV(\\theta)$);\n",
    "10. Now using the best combo $\\theta$ and $\\boldsymbol \\lambda$, apply it on $Jtest(\\theta)$ to see if it has a good generalization of the problem.\n",
    "11. To help decide the best polynomial degree and $\\boldsymbol \\lambda$ to use, we can diagnose with the learning curves, that is the next subject.\n",
    "\n"
   ]
  },
  {
   "cell_type": "markdown",
   "metadata": {
    "collapsed": true
   },
   "source": [
    "### [Learning Curves](https://en.wikipedia.org/wiki/Learning_curve)\n",
    "\n",
    "As the training set gets larger, the error for a quadratic function increases.\n",
    "The error value will plateau out after a certain m, or training set size.\n",
    "\n",
    "If a learning algorithm is suffering from **high bias**, getting more training data **will not (by itself) help much.**\n",
    "\n",
    "\n",
    "#### High Bias\n",
    "\n",
    "**Low training set size:** causes $Jtrain(\\theta)$ to be low and $JCV(\\theta)$ to be high.\n",
    "\n",
    "**Large training set size:** causes both $Jtrain(\\theta)$ and $JCV(\\theta)$ to be high with $Jtrain(\\theta)≈JCV(\\theta).$\n",
    "\n",
    "#### High Variance\n",
    "\n",
    "**Low training set size:** $Jtrain(\\theta)$ will be low and $JCV(\\theta)$ will be high.\n",
    "\n",
    "**Large training set size:** Jtrain(\\theta) increases with training set size and $JCV(\\theta)$ continues to decrease without leveling off. Also, $Jtrain(\\theta) < JCV(\\theta)$ but the difference between them remains significant.\n",
    "\n",
    "If a learning algorithm is suffering from **high variance**, getting more training data is likely to help.\n"
   ]
  },
  {
   "cell_type": "markdown",
   "metadata": {},
   "source": [
    "\n",
    "#### Scikit-Learn\n",
    "\n",
    "* [sklearn - User guide](http://scikit-learn.org/stable/user_guide.html#user-guide)\n",
    "\n",
    "* [Sklearn - API Reference](http://scikit-learn.org/stable/modules/classes.html)\n",
    "\n",
    "* [Model selection and evaluation](http://scikit-learn.org/stable/model_selection.html) \n",
    "\n",
    "    * [Model evaluation: quantifying the quality of predictions](http://scikit-learn.org/stable/modules/model_evaluation.html#model-evaluation)\n",
    "\n",
    "* [Decision Trees](http://scikit-learn.org/stable/modules/tree.html)\n",
    "\n",
    "* [Machine Learning in Python](http://scikit-learn.org/stable/)\n",
    "\n",
    "* [Dataset API](http://scikit-learn.org/stable/datasets/index.html)\n",
    "\n",
    "* [Metrics - Pairwise](http://scikit-learn.org/stable/modules/metrics.html)\n",
    "\n",
    "* [sklearn - Preprocesing (transformers)](http://scikit-learn.org/stable/modules/preprocessing.html)\n",
    "\n",
    "* [sklearn - Linear model](http://scikit-learn.org/stable/modules/linear_model.html)\n",
    "\n",
    "**Sklearn general workflow**\n",
    "\n",
    "```python\n",
    "import pandas as pd\n",
    "from sklearn.linear_model import LinearRegression\n",
    "from sklearn.cross_validation import train_test_split\n",
    "\n",
    "# Load data from csv file\n",
    "df = pd.read_csv('data/housing_prices.csv')\n",
    "X = df[['square_feet', 'num_rooms']].values\n",
    "y = df['price'].values\n",
    "\n",
    "# Split into training and test sets\n",
    "X_train, X_test, y_train, y_test = train_test_split(X, y, test_size=0.15)\n",
    "\n",
    "# Run Linear Regression\n",
    "regr = LinearRegression()\n",
    "regr.fit(X_train, y_train)\n",
    "print \"Intercept:\", regr.intercept_\n",
    "print \"Coefficients:\", regr.coef_\n",
    "print \"R^2 error:\", regr.score(X_test, y_test)\n",
    "predicted_y = regr.predict(X_test)\n",
    "```\n",
    "\n",
    "**[Polynomial Features](http://scikit-learn.org/stable/auto_examples/linear_model/plot_polynomial_interpolation.html)**\n",
    "**[Transformers](http://scikit-learn.org/stable/modules/preprocessing.html)\n",
    "\n",
    "```python\n",
    "import pandas as pd\n",
    "from sklearn.preprocessing import PolynomialFeatures\n",
    "from sklearn.linear_model import LinearRegression\n",
    "from sklearn.cross_validation import train_test_split\n",
    "\n",
    "# Load data is identical as above\n",
    "df = pd.read_csv('data/housing_prices.csv')\n",
    "X = df[['square_feet', 'num_rooms']]\n",
    "y = df['price']\n",
    "\n",
    "# Add the polynomial features\n",
    "poly = PolynomialFeatures(3)\n",
    "X_new = poly.fit_transform(X)\n",
    "\n",
    "# Split into training and test sets\n",
    "X_train, X_test, y_train, y_test = train_test_split(X_new, y, test_size=0.15)\n",
    "\n",
    "# Run Linear Regression (the same as above)\n",
    "regr = LinearRegression()\n",
    "regr.fit(X_train, y_train)\n",
    "print \"Intercept:\", regr.intercept_\n",
    "print \"Coefficients:\", regr.coef_\n",
    "print \"R^2 error:\", regr.score(X_test, y_test)\n",
    "predicted_y = regr.predict(X_test)\n",
    "```\n",
    "\n",
    "#### Pandas\n",
    "\n",
    "[Pandas ecosystem](http://pandas.pydata.org/pandas-docs/version/0.15.0/ecosystem.html#ecosystem-visualization)\n",
    "\n",
    "[Pandas](https://pandas.pydata.org/)\n",
    "\n",
    "using the column names\n",
    "df.loc[:, [‘colname0’, ‘colname1’]]\n",
    "df[[]] # double bracket\n",
    "\n",
    "using the column indices\n",
    "df.iloc[:, [0, 1]]"
   ]
  },
  {
   "cell_type": "code",
   "execution_count": 90,
   "metadata": {
    "collapsed": true
   },
   "outputs": [],
   "source": [
    "from sklearn.linear_model import Ridge, RidgeCV, Lasso, LinearRegression\n",
    "from sklearn.metrics import mean_squared_error\n",
    "from sklearn.cross_validation import train_test_split, cross_val_score\n",
    "\n",
    "from sklearn import preprocessing, linear_model\n",
    "\n",
    "from sklearn.datasets import load_diabetes\n",
    "\n",
    "import numpy as np\n",
    "import matplotlib.pyplot as plt\n",
    "\n",
    "% matplotlib inline\n"
   ]
  },
  {
   "cell_type": "code",
   "execution_count": 86,
   "metadata": {
    "collapsed": true
   },
   "outputs": [],
   "source": [
    "ds = load_diabetes()\n",
    "X = ds.data\n",
    "y = ds.target\n",
    "\n",
    "# Preprocessing : Normalizing the data for regularized linear models\n",
    "Xp = preprocessing.scale(X)\n",
    "\n",
    "X_train, X_test, y_train, y_test = train_test_split(X, y)"
   ]
  },
  {
   "cell_type": "markdown",
   "metadata": {
    "collapsed": true
   },
   "source": [
    "**Ridge Regression: **\n",
    "\n",
    "$\\mathbf{\\hat{\\beta}^{ridge} = \\displaystyle arg\\min_{\\beta}\\sum^{n}_{i=1}(y_{i}-\\beta _{0}-\\sum _{j=1}^{p}x_{i}^{T}\\beta _{j})^2 + \\lambda\\sum _{j=1}^{p} |\\beta _{j}|_{}^{2}}$\n"
   ]
  },
  {
   "cell_type": "code",
   "execution_count": 78,
   "metadata": {},
   "outputs": [
    {
     "data": {
      "image/png": "[encoded data removed]",
      "text/plain": [
       "<matplotlib.figure.Figure at 0x11c97bd90>"
      ]
     },
     "metadata": {},
     "output_type": "display_data"
    }
   ],
   "source": [
    "c = Xp.shape[1] \n",
    "alphas = np.logspace(-2, 2) \n",
    "m = np.zeros((len(alphas), c)) \n",
    "\n",
    "for i, alpha in enumerate(alphas):\n",
    "    model = Ridge(alpha=alpha, normalize=True).fit(Xp, y)\n",
    "    m[i] = model.coef_\n",
    "\n",
    "# m.T : model coefficients\n",
    "# m.T.shape = (10, 50) --> [0] model coefficient. [1] alpha tune parameter \n",
    "\n",
    "fig = plt.figure(figsize=(14, 6))\n",
    "\n",
    "for coeff in m.T:\n",
    "    plt.plot(alphas, coeff)\n",
    "    \n",
    "plt.title('Ridge - Shrinkage method \\n Ridge regression graph: Penalized parameters towards zero')\n",
    "plt.xscale('log')\n",
    "plt.ylabel('Feature Coefficient')\n",
    "plt.xlabel('Alpha (Tune parameter - Lambda)');\n"
   ]
  },
  {
   "cell_type": "markdown",
   "metadata": {
    "collapsed": true
   },
   "source": [
    "\n",
    "- Large $\\boldsymbol \\lambda$: High bias (underfitting)\n",
    "\n",
    "- Intermediate $\\boldsymbol \\lambda$: just right\n",
    "\n",
    "- Small $\\boldsymbol \\lambda$: High variance (overfitting)\n",
    "\n",
    "A large lambda $\\boldsymbol \\lambda$ heavily penalizes all the $\\theta$ parameters, which greatly simplifies the line of our resulting function, so causes underfitting.\n"
   ]
  },
  {
   "cell_type": "code",
   "execution_count": 87,
   "metadata": {},
   "outputs": [],
   "source": [
    "ridges = [Ridge(alpha=a).fit(X_train, y_train) for a in alphas]\n",
    "mse_train = [mean_squared_error(y_train, ridge.predict(X_train)) for ridge in ridges]\n",
    "mse_test = [mean_squared_error(y_test, ridge.predict(X_test)) for ridge in ridges]"
   ]
  },
  {
   "cell_type": "code",
   "execution_count": 88,
   "metadata": {},
   "outputs": [
    {
     "data": {
      "image/png": "[encoded data removed]",
      "text/plain": [
       "<matplotlib.figure.Figure at 0x11bf05c90>"
      ]
     },
     "metadata": {},
     "output_type": "display_data"
    }
   ],
   "source": [
    "fig, ax = plt.subplots()\n",
    "ax.plot(alphas, mse_train, label='Training')\n",
    "ax.plot(alphas, mse_test, label='Test')\n",
    "ax.legend(loc='lower right')\n",
    "ax.set_ylabel('MSE')\n",
    "ax.set_xlabel('Alpha value');\n",
    "ax.set_xscale('log')"
   ]
  },
  {
   "cell_type": "markdown",
   "metadata": {
    "collapsed": true
   },
   "source": [
    "Ridge minimizes the residual sum of squares plus a shrinkage penalty of lambda multiplied by the sum of squares of the coefficients. As lambda increases, the coefficients approach zero. The coefficients are unregularized when lambda is zero. The plot shows the whole path of variables as they shrink towards zero.\n",
    "\n",
    "The value of lambda will be chosen by cross-validation. The plot shows cross-validated mean squared error. As lambda decreases, the mean squared error decreases. Ridge includes all the variables in the model and the value of lambda selected is indicated by the vertical lines. "
   ]
  },
  {
   "cell_type": "markdown",
   "metadata": {
    "collapsed": true
   },
   "source": [
    "#### Optimal $\\lambda$ for Ridge Regression\n",
    "\n",
    "$\\mathbf{\\hat{\\beta}^{ridge} = \\displaystyle arg\\min_{\\beta}\\sum^{n}_{i=1}(y_{i}-\\beta _{0}-\\sum _{j=1}^{p}x_{i}^{T}\\beta _{j})^2 + \\lambda\\sum _{j=1}^{p} |\\beta _{j}|_{}^{2}}$\n"
   ]
  },
  {
   "cell_type": "code",
   "execution_count": 89,
   "metadata": {},
   "outputs": [
    {
     "data": {
      "text/plain": [
       "0.025595479226995357"
      ]
     },
     "execution_count": 89,
     "metadata": {},
     "output_type": "execute_result"
    }
   ],
   "source": [
    "optimal_lr = alphas[np.argmin(mse_test)]\n",
    "optimal_lr"
   ]
  },
  {
   "cell_type": "markdown",
   "metadata": {
    "collapsed": true
   },
   "source": [
    "#### Optimal $\\lambda$ - GridSearchCV \n",
    "\n",
    "[from sklearn.linear_model import RidgeCV ](http://scikit-learn.org/stable/modules/linear_model.html)"
   ]
  },
  {
   "cell_type": "code",
   "execution_count": 91,
   "metadata": {},
   "outputs": [
    {
     "data": {
      "text/plain": [
       "0.01"
      ]
     },
     "execution_count": 91,
     "metadata": {},
     "output_type": "execute_result"
    }
   ],
   "source": [
    "model_rcv = RidgeCV(alphas=alphas).fit(X, y)\n",
    "model_rcv.alpha_"
   ]
  },
  {
   "cell_type": "markdown",
   "metadata": {},
   "source": [
    "#### Optimal Ridge model"
   ]
  },
  {
   "cell_type": "code",
   "execution_count": 110,
   "metadata": {},
   "outputs": [
    {
     "data": {
      "text/plain": [
       "0.52931994555497452"
      ]
     },
     "execution_count": 110,
     "metadata": {},
     "output_type": "execute_result"
    }
   ],
   "source": [
    "model_ropt = Ridge(alpha=0.01, normalize=False).fit(X_train, y_train)\n",
    "model_ropt.score(X_test, y_test)"
   ]
  },
  {
   "cell_type": "markdown",
   "metadata": {
    "collapsed": true
   },
   "source": [
    "#### Lasso Regression: for linear regression\n",
    "\n",
    "$ \\mathbf{\\hat{\\beta}^{lasso} = \\displaystyle arg\\min_{\\beta}\\sum^{n}_{i=1}(y_{i}-\\sum _{j=1}^{p}x_{i}^{T}\\beta _{j} )^2 + \\lambda\\sum _{j=1}^{p}|\\beta _{j}|}$\n",
    "\n"
   ]
  },
  {
   "cell_type": "code",
   "execution_count": 112,
   "metadata": {},
   "outputs": [
    {
     "data": {
      "image/png": "[encoded data removed]",
      "text/plain": [
       "<matplotlib.figure.Figure at 0x11df76350>"
      ]
     },
     "metadata": {},
     "output_type": "display_data"
    }
   ],
   "source": [
    "lalphas = np.linspace(0.1, 2.5, 100)\n",
    "m_coeff = np.zeros((len(lalphas), c))\n",
    "\n",
    "for i, lalpha in enumerate(lalphas):\n",
    "    model_l = Lasso(alpha=lalpha, normalize=True).fit(Xp, y)\n",
    "    m_coeff[i] = model_l.coef_\n",
    "    \n",
    "fig = plt.figure(figsize=(12, 6))\n",
    "for coeff in m_coeff.T:\n",
    "    plt.plot(lalphas, coeff)\n",
    "    \n",
    "plt.title('Lasso regression')    \n",
    "plt.ylabel('MSE')\n",
    "plt.xlabel('Alpha values');"
   ]
  },
  {
   "cell_type": "code",
   "execution_count": null,
   "metadata": {
    "collapsed": true
   },
   "outputs": [],
   "source": []
  },
  {
   "cell_type": "code",
   "execution_count": null,
   "metadata": {
    "collapsed": true
   },
   "outputs": [],
   "source": []
  },
  {
   "cell_type": "code",
   "execution_count": null,
   "metadata": {
    "collapsed": true
   },
   "outputs": [],
   "source": []
  },
  {
   "cell_type": "code",
   "execution_count": null,
   "metadata": {
    "collapsed": true
   },
   "outputs": [],
   "source": []
  }
 ],
 "metadata": {
  "kernelspec": {
   "display_name": "Python 2",
   "language": "python",
   "name": "python2"
  },
  "language_info": {
   "codemirror_mode": {
    "name": "ipython",
    "version": 2
   },
   "file_extension": ".py",
   "mimetype": "text/x-python",
   "name": "python",
   "nbconvert_exporter": "python",
   "pygments_lexer": "ipython2",
   "version": "2.7.15"
  }
 },
 "nbformat": 4,
 "nbformat_minor": 1
}
