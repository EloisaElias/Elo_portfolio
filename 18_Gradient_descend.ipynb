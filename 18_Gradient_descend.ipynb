{
 "cells": [
  {
   "cell_type": "markdown",
   "metadata": {},
   "source": [
    "## Gradient Descent"
   ]
  },
  {
   "cell_type": "markdown",
   "metadata": {},
   "source": [
    "In Machine Learning, we design a system that can learn from data.\n",
    "\n",
    "The general way machine learning algorithms work is by optimizing a cost function."
   ]
  },
  {
   "cell_type": "markdown",
   "metadata": {},
   "source": [
    "\n",
    "\n",
    "Gradient descent/ascent is an algorithm for solving optimization problems. In gradient descent, I would like to find the solution which minimizes the cost function. In gradient ascent (which is the case of logistic regression), I will be maximizing the likelihood."
   ]
  },
  {
   "cell_type": "markdown",
   "metadata": {
    "collapsed": true
   },
   "source": [
    "In statistics, a likelihood function (often simply the likelihood) is a function of the parameters of a statistical \n",
    "model given data. Likelihood functions play a key role in statistical inference, especially methods of estimating a parameter from a set of statistics. In informal contexts, \"likelihood\" is often used as a synonym for \"probability.\" In statistics, a distinction is made depending on the roles of outcomes vs. parameters. Probability is used before data are available to describe possible future outcomes given a fixed value for the parameter (or parameter vector). Likelihood is used after data are available to describe a function of a parameter (or parameter vector) for a given outcome."
   ]
  },
  {
   "cell_type": "markdown",
   "metadata": {
    "collapsed": true
   },
   "source": [
    "---\n",
    "**Cost function**\n"
   ]
  },
  {
   "cell_type": "markdown",
   "metadata": {
    "collapsed": true
   },
   "source": [
    "The cost function is an important concept in learning, as it is a measure of how far away a particular solution is from an optimal solution to the problem to be solved. Learning algorithms search through the solution space to find a function that has the smallest possible cost.\n",
    "\n"
   ]
  },
  {
   "cell_type": "markdown",
   "metadata": {
    "collapsed": true
   },
   "source": [
    " sigmoid function refers to the special case of the logistic function shown in the first figure and defined by the formula\n",
    "\n",
    " $$   S(t)={\\frac {1}{1+e^{-t}}}$$\n",
    "\n",
    "A graph of the logistic function on the t-interval \n",
    "\n",
    "Let us assume that ${\\displaystyle t}$  is a linear function of a single explanatory variable ${\\displaystyle x}$ (the case where ${\\displaystyle t}$ is a linear combination of multiple explanatory variables is treated similarly). We can then express ${\\displaystyle t}$ as follows:\n",
    "\n",
    "  $$ t=\\beta _{0}+\\beta _{1}x$$\n",
    "\n",
    "And the logistic function can now be written as:\n",
    "\n",
    "  $$ F(x)={\\frac {1}{1+e^{-(\\beta _{0}+\\beta _{1}x)}}} $$\n",
    "\n",
    "Note that $${\\displaystyle F(x)}$$ is interpreted as the probability of the dependent variable equaling a \"success\" or \"case\" rather than a failure or non-case. It's clear that the response variables $${\\displaystyle Y_{i}} Y_{i}$$ are not identically distributed: $${\\displaystyle P(Y_{i}=1\\mid X)} P(Y_{i}=1\\mid X)$$ differs from one data point $${\\displaystyle X_{i}} X_{i}$$ to another, though they are independent given design matrix $${\\displaystyle X}$$ and shared with parameters $${\\displaystyle \\beta }$$\n",
    "\n",
    "\n",
    "Definition of the inverse of the logistic function\n",
    "We can now define the inverse of the logistic function g, the logit (log odds):\n",
    "\n",
    " $$ g(F(x))=\\ln \\left({\\frac {F(x)}{1-F(x)}}\\right)=\\beta _{0}+\\beta _{1}x,\n",
    "$$\n",
    "\n",
    "and equivalently, after exponentiating both sides:\n",
    "\n",
    "$$  {\\frac {F(x)}{1-F(x)}}=e^{\\beta _{0}+\\beta _{1}x}.\n",
    "$$\n",
    "\n",
    "\n",
    "---\n",
    "\n",
    "The particular model used by logistic regression, which distinguishes it from standard linear regression and from other types of regression analysis used for binary-valued outcomes, is the way the probability of a particular outcome is linked to the linear predictor function:\n",
    "\n",
    "$$ \\operatorname {logit} (\\mathbb {E} [Y_{i}\\mid x_{1,i},\\ldots ,x_{m,i}])=\\operatorname {logit} (p_{i})=\\ln \\left({\\frac {p_{i}}{1-p_{i}}}\\right)=\\beta _{0}+\\beta _{1}x_{1,i}+\\cdots +\\beta _{m}x_{m,i}\n",
    "$$\n",
    "\n",
    "Written using the more compact notation described above, this is:\n",
    "\n",
    "$$  \\operatorname {logit} (\\mathbb {E} [Y_{i}\\mid \\mathbf {X} _{i}])=\\operatorname {logit} (p_{i})=\\ln \\left({\\frac {p_{i}}{1-p_{i}}}\\right)={\\boldsymbol {\\beta }}\\cdot \\mathbf {X} _{i}\n",
    "$$\n",
    "This\n",
    "\n",
    "\n",
    "An equivalent formula uses the inverse of the logit function, which is the logistic function, i.e.:\n",
    "\n",
    "$$   {E} [Y_{i}\\mid \\mathbf {X} _{i}]=p_{i}=\\operatorname {logit} ^{-1}({\\boldsymbol {\\beta }}\\cdot \\mathbf {X} _{i})={\\frac {1}{1+e^{-{\\boldsymbol {\\beta }}\\cdot \\mathbf {X} _{i}}}}$$\n"
   ]
  },
  {
   "cell_type": "markdown",
   "metadata": {},
   "source": [
    "$$y_i = \\beta_1 x_{i1} + \\cdots + \\beta_p x_{ip} + \\varepsilon_i = \\mathbf{x}^{\\rm T}_i\\boldsymbol\\beta + \\varepsilon_i,\n",
    " \\qquad i = 1, \\ldots, n,$$\n",
    " \n",
    " where:\n",
    " \n",
    " $\\mathbf{y} = \\begin{pmatrix} y_1 \\\\ y_2 \\\\ \\vdots \\\\ y_n \\end{pmatrix}, \\quad$$\n",
    " \n",
    " $$\\mathbf{X} = \\begin{pmatrix} \\mathbf{x}^{\\rm T}_1 \\\\ \\mathbf{x}^{\\rm T}_2 \\\\ \\vdots \\\\ \\mathbf{x}^{\\rm T}_n \\end{pmatrix}\n",
    " = \\begin{pmatrix} x_{11} & \\cdots & x_{1p} \\\\\n",
    " x_{21} & \\cdots & x_{2p} \\\\\n",
    " \\vdots & \\ddots & \\vdots \\\\\n",
    " x_{n1} & \\cdots & x_{np}\n",
    " \\end{pmatrix}, $$\n",
    " \n",
    " \n",
    "$$\\boldsymbol\\beta = \\begin{pmatrix} \\beta_1 \\\\ \\beta_2 \\\\ \\vdots \\\\ \\beta_p \\end{pmatrix}, \\quad\n",
    " \\boldsymbol\\varepsilon = \\begin{pmatrix} \\varepsilon_1 \\\\ \\varepsilon_2 \\\\ \\vdots \\\\ \\varepsilon_n \\end{pmatrix}.$$"
   ]
  },
  {
   "cell_type": "code",
   "execution_count": 172,
   "metadata": {
    "collapsed": false
   },
   "outputs": [],
   "source": [
    "from __future__ import division\n",
    "from IPython.display import display, Math, Latex\n",
    "\n",
    "from sklearn.datasets import make_classification\n",
    "from sklearn.linear_model import LogisticRegression\n",
    "\n",
    "import math\n",
    "import pandas as pd\n",
    "import numpy as np\n",
    "\n",
    "import matplotlib.pyplot as plt\n",
    "\n",
    "%autoreload 2\n",
    "%matplotlib inline\n",
    "plt.style.use('ggplot')"
   ]
  },
  {
   "cell_type": "code",
   "execution_count": 18,
   "metadata": {
    "collapsed": false
   },
   "outputs": [],
   "source": [
    "X, y = make_classification(n_samples=100, \n",
    "                           n_features=2, \n",
    "                           n_informative=2, \n",
    "                           n_redundant=0, \n",
    "                           n_classes=2, \n",
    "                           random_state=0)"
   ]
  },
  {
   "cell_type": "code",
   "execution_count": 19,
   "metadata": {
    "collapsed": false
   },
   "outputs": [
    {
     "data": {
      "text/plain": [
       "array([0, 0, 0, 1, 1])"
      ]
     },
     "execution_count": 19,
     "metadata": {},
     "output_type": "execute_result"
    }
   ],
   "source": [
    "y[:5]"
   ]
  },
  {
   "cell_type": "code",
   "execution_count": 20,
   "metadata": {
    "collapsed": false
   },
   "outputs": [
    {
     "ename": "NameError",
     "evalue": "name 'b1' is not defined",
     "output_type": "error",
     "traceback": [
      "\u001b[0;31m---------------------------------------------------------------------------\u001b[0m",
      "\u001b[0;31mNameError\u001b[0m                                 Traceback (most recent call last)",
      "\u001b[0;32m<ipython-input-20-75e05a3045f3>\u001b[0m in \u001b[0;36m<module>\u001b[0;34m()\u001b[0m\n\u001b[1;32m      8\u001b[0m \u001b[0;34m\u001b[0m\u001b[0m\n\u001b[1;32m      9\u001b[0m \u001b[0;34m\u001b[0m\u001b[0m\n\u001b[0;32m---> 10\u001b[0;31m \u001b[0mplt\u001b[0m\u001b[0;34m.\u001b[0m\u001b[0mplot\u001b[0m\u001b[0;34m(\u001b[0m\u001b[0mX\u001b[0m\u001b[0;34m[\u001b[0m\u001b[0;34m:\u001b[0m\u001b[0;34m,\u001b[0m\u001b[0;36m0\u001b[0m\u001b[0;34m]\u001b[0m\u001b[0;34m,\u001b[0m \u001b[0;34m-\u001b[0m\u001b[0mX\u001b[0m\u001b[0;34m[\u001b[0m\u001b[0;34m:\u001b[0m\u001b[0;34m,\u001b[0m\u001b[0;36m0\u001b[0m\u001b[0;34m]\u001b[0m\u001b[0;34m*\u001b[0m\u001b[0mb1\u001b[0m\u001b[0;34m/\u001b[0m\u001b[0mb2\u001b[0m\u001b[0;34m-\u001b[0m\u001b[0mb0\u001b[0m\u001b[0;34m/\u001b[0m\u001b[0mb2\u001b[0m\u001b[0;34m)\u001b[0m\u001b[0;34m\u001b[0m\u001b[0m\n\u001b[0m\u001b[1;32m     11\u001b[0m \u001b[0mplt\u001b[0m\u001b[0;34m.\u001b[0m\u001b[0mylim\u001b[0m\u001b[0;34m(\u001b[0m\u001b[0;34m-\u001b[0m\u001b[0;36m5\u001b[0m\u001b[0;34m,\u001b[0m\u001b[0;36m5\u001b[0m\u001b[0;34m)\u001b[0m\u001b[0;34m\u001b[0m\u001b[0m\n\u001b[1;32m     12\u001b[0m \u001b[0mplt\u001b[0m\u001b[0;34m.\u001b[0m\u001b[0mlegend\u001b[0m\u001b[0;34m(\u001b[0m\u001b[0;34m)\u001b[0m\u001b[0;34m\u001b[0m\u001b[0m\n",
      "\u001b[0;31mNameError\u001b[0m: name 'b1' is not defined"
     ]
    },
    {
     "data": {
      "image/png": "[encoded data removed]",
      "text/plain": [
       "<matplotlib.figure.Figure at 0x116d28890>"
      ]
     },
     "metadata": {},
     "output_type": "display_data"
    }
   ],
   "source": [
    "plt.scatter(X[:,0], X[:,1], c=y, alpha=0.5, s=50) # feature_1 = X[:,0], feature_2 = X[:,1]\n",
    "plt.xlabel('feature_1 = X1')\n",
    "plt.ylabel('feature_2 = X2')\n",
    "plt.colorbar()\n",
    "\n",
    "# eyeline = np.linspace(-2, 2)\n",
    "# plt.plot(eyeline, -4*eyeline - 1.8)\n",
    "\n",
    "\n",
    "plt.plot(X[:,0], -X[:,0]*b1/b2-b0/b2)\n",
    "plt.ylim(-5,5)\n",
    "plt.legend()\n",
    "plt.show()"
   ]
  },
  {
   "cell_type": "markdown",
   "metadata": {},
   "source": [
    "---\n",
    "    |  x1 |  x2 |   y |\n",
    "    | --- | --- | --- |\n",
    "    |   0 |   1 |   1 |\n",
    "    |   2 |   2 |   0 |\n"
   ]
  },
  {
   "cell_type": "code",
   "execution_count": 21,
   "metadata": {
    "collapsed": true
   },
   "outputs": [],
   "source": [
    "y0 = 1\n",
    "y1 = 0\n",
    "\n",
    "# Xj,i column,row\n",
    "\n",
    "x1_0 = 0\n",
    "x1_1 = 2\n",
    "\n",
    "x2_0 = 1\n",
    "x2_1 = 2"
   ]
  },
  {
   "cell_type": "markdown",
   "metadata": {},
   "source": [
    "---\n",
    "Hypothesis\n",
    "\n",
    "** The \"logistic\" function of any number $\\alpha$ is given by the inverse-logit: **\n",
    "\n",
    "where hθ(x) is defined as follows:\n",
    "\n",
    "the logistic function = $h_{\\theta}(x) $\n",
    "\n",
    "$\\theta x^i:=\\theta_0+\\theta_1 x^i_1+\\dots+\\theta_p x^i_p$\n",
    "\n",
    "$   h_{\\theta}(x)=g(\\theta^{T}x)={\\frac {1}{1+e^{-{\\boldsymbol {\\beta }}\\cdot \\mathbf {X} _{i}}}}$\n"
   ]
  },
  {
   "cell_type": "code",
   "execution_count": 22,
   "metadata": {
    "collapsed": true
   },
   "outputs": [],
   "source": [
    "h0 = 1. / (1. + np.exp(-1*x1_0 -1*x2_0))"
   ]
  },
  {
   "cell_type": "code",
   "execution_count": 23,
   "metadata": {
    "collapsed": false
   },
   "outputs": [
    {
     "name": "stdout",
     "output_type": "stream",
     "text": [
      "h(0,1): 0.73105857863\n"
     ]
    }
   ],
   "source": [
    "print 'h(0,1):', h0"
   ]
  },
  {
   "cell_type": "code",
   "execution_count": 24,
   "metadata": {
    "collapsed": true
   },
   "outputs": [],
   "source": [
    "h1 = 1. / (1. + np.exp(-1*x1_1 -1*x2_1))"
   ]
  },
  {
   "cell_type": "code",
   "execution_count": 25,
   "metadata": {
    "collapsed": false
   },
   "outputs": [
    {
     "name": "stdout",
     "output_type": "stream",
     "text": [
      "h(2,2): 0.982013790038\n"
     ]
    }
   ],
   "source": [
    "print 'h(2,2):', h1"
   ]
  },
  {
   "cell_type": "markdown",
   "metadata": {},
   "source": [
    "---\n",
    "Cost\n",
    "\n",
    "** Cost function for Logistic Regression**\n",
    "\n",
    "log_likelihood:\n",
    "\n",
    "$ L(\\theta)=\\sum_{i=1}^{m}y^{i}\\log(h_\\theta(x^{i}))+(1-y^{i})\\log(1-h_\\theta(x^{i}))$"
   ]
  },
  {
   "cell_type": "code",
   "execution_count": 26,
   "metadata": {
    "collapsed": true
   },
   "outputs": [],
   "source": [
    "cost = y0*np.log(h0)+(1-y0)*np.log(1-h0) + y1*np.log(h1) + (1-y1)*np.log(1-h1)"
   ]
  },
  {
   "cell_type": "code",
   "execution_count": 27,
   "metadata": {
    "collapsed": false
   },
   "outputs": [
    {
     "name": "stdout",
     "output_type": "stream",
     "text": [
      "cost: -4.33141161544\n"
     ]
    }
   ],
   "source": [
    "print 'cost:', cost"
   ]
  },
  {
   "cell_type": "markdown",
   "metadata": {
    "collapsed": true
   },
   "source": [
    "---\n",
    "Gradient\n",
    "\n",
    "**Gradient of the cost function**\n",
    "\n",
    "$\\frac{\\partial}{\\partial\\theta_{j}}L(\\theta) =\\sum_{i=1}^{m}(y^i - h_\\theta(x^{i}))x_j^i$"
   ]
  },
  {
   "cell_type": "code",
   "execution_count": 28,
   "metadata": {
    "collapsed": true
   },
   "outputs": [],
   "source": [
    "# gradient feature 1\n",
    "gx1 = (y0-h0)*x1_0 + (y1-h1)*x1_1"
   ]
  },
  {
   "cell_type": "code",
   "execution_count": 29,
   "metadata": {
    "collapsed": false
   },
   "outputs": [
    {
     "name": "stdout",
     "output_type": "stream",
     "text": [
      "Gradient descend: -1.96402758008\n"
     ]
    }
   ],
   "source": [
    "print 'Gradient descend:', gx1"
   ]
  },
  {
   "cell_type": "code",
   "execution_count": 30,
   "metadata": {
    "collapsed": true
   },
   "outputs": [],
   "source": [
    "# gradient feature 2\n",
    "gx2 = (y0-h0)*x2_0 + (y1-h1)*x2_1"
   ]
  },
  {
   "cell_type": "code",
   "execution_count": 31,
   "metadata": {
    "collapsed": false
   },
   "outputs": [
    {
     "name": "stdout",
     "output_type": "stream",
     "text": [
      "Gradient descend: -1.69508615871\n"
     ]
    }
   ],
   "source": [
    "print 'Gradient descend:', gx2"
   ]
  },
  {
   "cell_type": "code",
   "execution_count": 32,
   "metadata": {
    "collapsed": false
   },
   "outputs": [],
   "source": [
    "x_t = np.transpose(np.array([[0, 1],[2, 2]]))\n",
    "x_ = np.array([[0, 1],[2, 2]])\n",
    "y_ = np.array([1, 0])\n",
    "\n",
    "B_t = np.array([[1,1]])\n",
    "coeffs = np.array([1,1])"
   ]
  },
  {
   "cell_type": "markdown",
   "metadata": {},
   "source": [
    "---\n",
    "Functions\n",
    "---\n",
    "**Logistic function or the sigmoid function:**\n",
    "\n",
    "$h_\\theta(x^i)=\\frac{1}{1+e^{-\\theta x^i} }$"
   ]
  },
  {
   "cell_type": "code",
   "execution_count": 33,
   "metadata": {
    "collapsed": false
   },
   "outputs": [],
   "source": [
    "# with x --> NOT transposed\n",
    "def h(X, coeffs):\n",
    "    return 1. / (1. + np.exp(-np.dot(X, coeffs.reshape(len(coeffs), 1))))"
   ]
  },
  {
   "cell_type": "code",
   "execution_count": 34,
   "metadata": {
    "collapsed": false
   },
   "outputs": [],
   "source": [
    "hazme = h(x_, coeffs).T # row vector"
   ]
  },
  {
   "cell_type": "code",
   "execution_count": 35,
   "metadata": {
    "collapsed": false
   },
   "outputs": [
    {
     "data": {
      "text/plain": [
       "array([ 0.73105858,  0.98201379])"
      ]
     },
     "execution_count": 35,
     "metadata": {},
     "output_type": "execute_result"
    }
   ],
   "source": [
    "hazme[0]"
   ]
  },
  {
   "cell_type": "code",
   "execution_count": 36,
   "metadata": {
    "collapsed": true
   },
   "outputs": [],
   "source": [
    "def predict(X, coeffs):\n",
    "    return h(X, coeffs).round()"
   ]
  },
  {
   "cell_type": "code",
   "execution_count": 37,
   "metadata": {
    "collapsed": false
   },
   "outputs": [],
   "source": [
    "#predict(X, coeffs)"
   ]
  },
  {
   "cell_type": "markdown",
   "metadata": {},
   "source": [
    "---\n",
    "**Cost function:**\n",
    "\n",
    "maximize the log likelihood + lasso ridge\n",
    "\n",
    "\n",
    "$ L(\\theta)=\\sum_{i=1}^{m}y^{i}\\log(h_\\theta(x^{i}))+(1-y^{i})\\log(1-h_\\theta(x^{i})) +  \\lambda\\sum _{j=1}^{p} |\\beta _{j}|_{}^{2} $ "
   ]
  },
  {
   "cell_type": "code",
   "execution_count": 38,
   "metadata": {
    "collapsed": false
   },
   "outputs": [],
   "source": [
    "def log_likelihood(X, y, coeffs, lbda=0):\n",
    "    lreg =  np.sum(coeffs**2)\n",
    "    hx = h(X, coeffs).T\n",
    "    return np.sum(y * np.log(hx[0]) + (1 - y) * np.log(1-hx[0]) + lbda*lreg)"
   ]
  },
  {
   "cell_type": "code",
   "execution_count": 39,
   "metadata": {
    "collapsed": false
   },
   "outputs": [
    {
     "data": {
      "text/plain": [
       "-4.3314116154360329"
      ]
     },
     "execution_count": 39,
     "metadata": {},
     "output_type": "execute_result"
    }
   ],
   "source": [
    "log_likelihood(x_, y_, coeffs)"
   ]
  },
  {
   "cell_type": "markdown",
   "metadata": {},
   "source": [
    "---\n",
    "** Gradient function + lasso ridge(derivative)**\n",
    "\n",
    "$\\frac{\\partial}{\\partial\\theta_{j}}L(\\theta) =\\sum_{i=1}^{m}(y^i - h_\\theta(x^{i}))x_j^i + 2 \\lambda\\theta _{j}$"
   ]
  },
  {
   "cell_type": "code",
   "execution_count": 40,
   "metadata": {
    "collapsed": false
   },
   "outputs": [],
   "source": [
    "def log_likelihood_gradient(X, y, coeffs, l = 0):\n",
    "    dlreg = 2*l*coeffs.T\n",
    "    y = y.reshape(len(y), 1) # column vector\n",
    "    dif = (y - h(X, coeffs)).T\n",
    "\n",
    "    return np.squeeze(dif.dot(X)) + dlreg"
   ]
  },
  {
   "cell_type": "code",
   "execution_count": 41,
   "metadata": {
    "collapsed": false
   },
   "outputs": [
    {
     "data": {
      "text/plain": [
       "array([-1.96402758, -1.69508616])"
      ]
     },
     "execution_count": 41,
     "metadata": {},
     "output_type": "execute_result"
    }
   ],
   "source": [
    "log_likelihood_gradient(x_, y_, coeffs, 0)"
   ]
  },
  {
   "cell_type": "markdown",
   "metadata": {},
   "source": [
    "---"
   ]
  },
  {
   "cell_type": "code",
   "execution_count": 63,
   "metadata": {
    "collapsed": false
   },
   "outputs": [],
   "source": [
    "import eloisa_Gradient_functions as gf"
   ]
  },
  {
   "cell_type": "code",
   "execution_count": 64,
   "metadata": {
    "collapsed": false
   },
   "outputs": [
    {
     "data": {
      "text/plain": [
       "array([[ 0.73105858],\n",
       "       [ 0.98201379]])"
      ]
     },
     "execution_count": 64,
     "metadata": {},
     "output_type": "execute_result"
    }
   ],
   "source": [
    "gf.hypothesis(x_, coeffs)"
   ]
  },
  {
   "cell_type": "code",
   "execution_count": 65,
   "metadata": {
    "collapsed": false
   },
   "outputs": [
    {
     "data": {
      "text/plain": [
       "array([[ 1.],\n",
       "       [ 1.]])"
      ]
     },
     "execution_count": 65,
     "metadata": {},
     "output_type": "execute_result"
    }
   ],
   "source": [
    "gf.predict(x_, coeffs)"
   ]
  },
  {
   "cell_type": "code",
   "execution_count": 66,
   "metadata": {
    "collapsed": false
   },
   "outputs": [
    {
     "data": {
      "text/plain": [
       "-5.6628232308720658"
      ]
     },
     "execution_count": 66,
     "metadata": {},
     "output_type": "execute_result"
    }
   ],
   "source": [
    "gf.log_likelihood(x_, y_, coeffs, 0)"
   ]
  },
  {
   "cell_type": "code",
   "execution_count": 67,
   "metadata": {
    "collapsed": false
   },
   "outputs": [
    {
     "data": {
      "text/plain": [
       "array([ 0.03597242,  0.30491384])"
      ]
     },
     "execution_count": 67,
     "metadata": {},
     "output_type": "execute_result"
    }
   ],
   "source": [
    "gf.log_likelihood_gradient(x_, y_, coeffs)"
   ]
  },
  {
   "cell_type": "markdown",
   "metadata": {},
   "source": [
    "---"
   ]
  },
  {
   "cell_type": "code",
   "execution_count": 69,
   "metadata": {
    "collapsed": false
   },
   "outputs": [],
   "source": [
    "from eloisa_Gradient_functions import log_likelihood, log_likelihood_gradient, predict"
   ]
  },
  {
   "cell_type": "code",
   "execution_count": 74,
   "metadata": {
    "collapsed": false
   },
   "outputs": [],
   "source": [
    "from eloisa_Gradient_class import GradientAscent"
   ]
  },
  {
   "cell_type": "code",
   "execution_count": 75,
   "metadata": {
    "collapsed": false
   },
   "outputs": [],
   "source": [
    "# __init__(self, cost, gradient, predict_func, fit_intercept=True, scale=False)\n",
    "gd = GradientAscent(gf.log_likelihood, gf.log_likelihood_gradient, gf.predict)"
   ]
  },
  {
   "cell_type": "code",
   "execution_count": 76,
   "metadata": {
    "collapsed": false
   },
   "outputs": [
    {
     "name": "stdout",
     "output_type": "stream",
     "text": [
      "Cost fn: -6931.281859\n",
      "Cost fn: 21145.3032014\n",
      "Cost fn: 53583.0460687\n",
      "Cost fn: 91888.8947545\n",
      "Cost fn: 140074.21791\n",
      "Cost fn: 203135.544726\n",
      "Cost fn: 288053.20045\n",
      "Cost fn: 404897.38785\n",
      "Cost fn: 568375.610742\n",
      "Cost fn: nan\n"
     ]
    }
   ],
   "source": [
    "gd.run(X, y)\n"
   ]
  },
  {
   "cell_type": "code",
   "execution_count": 77,
   "metadata": {
    "collapsed": false
   },
   "outputs": [],
   "source": [
    "predictions = gd.predict(X)"
   ]
  },
  {
   "cell_type": "code",
   "execution_count": 78,
   "metadata": {
    "collapsed": false
   },
   "outputs": [
    {
     "data": {
      "text/plain": [
       "array([ 3.77898615,  9.91881503,  2.43472164])"
      ]
     },
     "execution_count": 78,
     "metadata": {},
     "output_type": "execute_result"
    }
   ],
   "source": [
    "gd.coeffs"
   ]
  },
  {
   "cell_type": "code",
   "execution_count": 79,
   "metadata": {
    "collapsed": false
   },
   "outputs": [],
   "source": [
    " b0, b1, b2 = gd.coeffs"
   ]
  },
  {
   "cell_type": "markdown",
   "metadata": {},
   "source": [
    "---\n"
   ]
  },
  {
   "cell_type": "code",
   "execution_count": 80,
   "metadata": {
    "collapsed": true
   },
   "outputs": [],
   "source": [
    "X_, y__ = make_classification(n_samples=100, n_features=2,\n",
    "                         n_informative=2, n_redundant=0,\n",
    "                         n_classes=2, random_state=0)"
   ]
  },
  {
   "cell_type": "code",
   "execution_count": 81,
   "metadata": {
    "collapsed": false
   },
   "outputs": [
    {
     "name": "stdout",
     "output_type": "stream",
     "text": [
      "Cost fn: -6931.281859\n",
      "Cost fn: 19853.8614652\n",
      "Cost fn: 46558.0909892\n",
      "Cost fn: 74059.5426086\n",
      "Cost fn: 105226.930066\n",
      "Cost fn: 142820.698432\n",
      "Cost fn: 190222.433986\n",
      "Cost fn: 252016.561744\n",
      "Cost fn: 334672.435382\n",
      "Cost fn: 447477.166199\n",
      "coeffs: [ 7.58509748  2.67881678]\n"
     ]
    }
   ],
   "source": [
    "gd_ = GradientAscent(gf.log_likelihood, gf.log_likelihood_gradient, gf.predict, fit_intercept=False)\n",
    "gd_.run(X_,y__)\n",
    "print \"coeffs:\", gd_.coeffs\n"
   ]
  },
  {
   "cell_type": "markdown",
   "metadata": {},
   "source": [
    "---\n",
    "Logistic regression\n"
   ]
  },
  {
   "cell_type": "code",
   "execution_count": 82,
   "metadata": {
    "collapsed": false
   },
   "outputs": [
    {
     "data": {
      "text/plain": [
       "array([[ 2.19963064,  0.42742225]])"
      ]
     },
     "execution_count": 82,
     "metadata": {},
     "output_type": "execute_result"
    }
   ],
   "source": [
    "model = LogisticRegression(fit_intercept=False)\n",
    "model.fit(X_,y__)\n",
    "model.coef_"
   ]
  },
  {
   "cell_type": "code",
   "execution_count": 85,
   "metadata": {
    "collapsed": false
   },
   "outputs": [
    {
     "data": {
      "text/plain": [
       "array([[ 0.58286607,  2.44080989,  0.45519517]])"
      ]
     },
     "execution_count": 85,
     "metadata": {},
     "output_type": "execute_result"
    }
   ],
   "source": [
    "model = LogisticRegression(fit_intercept=False)\n",
    "model.fit(np.insert(X_,0 , 1, axis=1), y__)\n",
    "model.coef_"
   ]
  },
  {
   "cell_type": "markdown",
   "metadata": {},
   "source": [
    "---\n",
    "Scaling"
   ]
  },
  {
   "cell_type": "code",
   "execution_count": 86,
   "metadata": {
    "collapsed": false
   },
   "outputs": [],
   "source": [
    "df = pd.read_csv('../data/grad.csv')"
   ]
  },
  {
   "cell_type": "code",
   "execution_count": 87,
   "metadata": {
    "collapsed": false
   },
   "outputs": [
    {
     "data": {
      "text/html": [
       "<div>\n",
       "<table border=\"1\" class=\"dataframe\">\n",
       "  <thead>\n",
       "    <tr style=\"text-align: right;\">\n",
       "      <th></th>\n",
       "      <th>admit</th>\n",
       "      <th>gre</th>\n",
       "      <th>gpa</th>\n",
       "      <th>rank</th>\n",
       "    </tr>\n",
       "  </thead>\n",
       "  <tbody>\n",
       "    <tr>\n",
       "      <th>0</th>\n",
       "      <td>0</td>\n",
       "      <td>380</td>\n",
       "      <td>3.61</td>\n",
       "      <td>3</td>\n",
       "    </tr>\n",
       "    <tr>\n",
       "      <th>1</th>\n",
       "      <td>1</td>\n",
       "      <td>660</td>\n",
       "      <td>3.67</td>\n",
       "      <td>3</td>\n",
       "    </tr>\n",
       "    <tr>\n",
       "      <th>2</th>\n",
       "      <td>1</td>\n",
       "      <td>800</td>\n",
       "      <td>4.00</td>\n",
       "      <td>1</td>\n",
       "    </tr>\n",
       "    <tr>\n",
       "      <th>3</th>\n",
       "      <td>1</td>\n",
       "      <td>640</td>\n",
       "      <td>3.19</td>\n",
       "      <td>4</td>\n",
       "    </tr>\n",
       "    <tr>\n",
       "      <th>4</th>\n",
       "      <td>0</td>\n",
       "      <td>520</td>\n",
       "      <td>2.93</td>\n",
       "      <td>4</td>\n",
       "    </tr>\n",
       "  </tbody>\n",
       "</table>\n",
       "</div>"
      ],
      "text/plain": [
       "   admit  gre   gpa  rank\n",
       "0      0  380  3.61     3\n",
       "1      1  660  3.67     3\n",
       "2      1  800  4.00     1\n",
       "3      1  640  3.19     4\n",
       "4      0  520  2.93     4"
      ]
     },
     "execution_count": 87,
     "metadata": {},
     "output_type": "execute_result"
    }
   ],
   "source": [
    "df.head()"
   ]
  },
  {
   "cell_type": "code",
   "execution_count": 88,
   "metadata": {
    "collapsed": true
   },
   "outputs": [],
   "source": [
    "x_df = np.array(df[['gre', 'gpa', 'rank']])\n",
    "y_df = np.array(df['admit'])"
   ]
  },
  {
   "cell_type": "code",
   "execution_count": 89,
   "metadata": {
    "collapsed": false
   },
   "outputs": [
    {
     "data": {
      "text/plain": [
       "array([[ 380.  ,    3.61,    3.  ],\n",
       "       [ 660.  ,    3.67,    3.  ],\n",
       "       [ 800.  ,    4.  ,    1.  ]])"
      ]
     },
     "execution_count": 89,
     "metadata": {},
     "output_type": "execute_result"
    }
   ],
   "source": [
    "x_df[:3]"
   ]
  },
  {
   "cell_type": "code",
   "execution_count": 93,
   "metadata": {
    "collapsed": false
   },
   "outputs": [
    {
     "name": "stdout",
     "output_type": "stream",
     "text": [
      "Cost fn: -110677.167001\n",
      "Cost fn: 90688.2453671\n",
      "Cost fn: 91635.5171459\n",
      "Cost fn: 91639.9197515\n",
      "Cost fn: 91639.9461517\n",
      "Cost fn: 91639.9463658\n",
      "Cost fn: 91639.9463679\n",
      "Cost fn: 91639.9463679\n",
      "Cost fn: 91639.9463679\n",
      "Cost fn: 91639.9463679\n",
      "coeffs: [-0.88835275  0.27163078  0.30542451 -0.54915734]\n"
     ]
    }
   ],
   "source": [
    "gd_ = GradientAscent(gf.log_likelihood, gf.log_likelihood_gradient, gf.predict, scale=True)\n",
    "gd_.run(x_df, y_df)\n",
    "print 'coeffs:', gd_.coeffs"
   ]
  },
  {
   "cell_type": "code",
   "execution_count": 95,
   "metadata": {
    "collapsed": true
   },
   "outputs": [],
   "source": [
    "likelihood_regularized = lambda X, y, coeffs: gf.log_likelihood(X, y, coeffs, 1)\n",
    "gradient_regularized = lambda X, y, coeffs: gf.log_likelihood_gradient(X, y, coeffs, 1)"
   ]
  },
  {
   "cell_type": "code",
   "execution_count": 97,
   "metadata": {
    "collapsed": false
   },
   "outputs": [
    {
     "name": "stdout",
     "output_type": "stream",
     "text": [
      "New cost: -45714.4761553\n",
      "New cost: 11467.1915895\n",
      "New cost: 45712.4815577\n",
      "New cost: 65373.4724539\n",
      "New cost: 76593.3133948\n",
      "New cost: 83001.8411781\n",
      "New cost: 86670.4552256\n",
      "New cost: 88775.4249899\n",
      "New cost: 89985.762311\n",
      "New cost: 90683.0302798\n",
      "New cost: 91085.4368858\n",
      "New cost: 91318.0673779\n",
      "New cost: 91452.7741096\n",
      "New cost: 91530.9071679\n",
      "New cost: 91576.3032393\n",
      "New cost: 91602.725214\n",
      "New cost: 91618.1319231\n",
      "New cost: 91627.1329653\n",
      "New cost: 91632.4023492\n",
      "New cost: 91635.4937875\n",
      "New cost: 91637.3115916\n",
      "New cost: 91638.3830433\n",
      "New cost: 91639.0161697\n",
      "New cost: 91639.3912746\n",
      "New cost: 91639.6141227\n",
      "New cost: 91639.7468943\n",
      "coeffs: [-0.8883524   0.27163163  0.30542356 -0.54915685]\n"
     ]
    }
   ],
   "source": [
    "gd__ = GradientAscent(likelihood_regularized, gradient_regularized, gf.predict, scale=True)\n",
    "gd__.run(x_df, y_df, step_size=0.001)\n",
    "print 'coeffs:', gd__.coeffs\n",
    "predictions = gd__.predict(x_df)"
   ]
  },
  {
   "cell_type": "code",
   "execution_count": null,
   "metadata": {
    "collapsed": true
   },
   "outputs": [],
   "source": []
  },
  {
   "cell_type": "code",
   "execution_count": null,
   "metadata": {
    "collapsed": true
   },
   "outputs": [],
   "source": []
  },
  {
   "cell_type": "code",
   "execution_count": null,
   "metadata": {
    "collapsed": true
   },
   "outputs": [],
   "source": []
  },
  {
   "cell_type": "code",
   "execution_count": null,
   "metadata": {
    "collapsed": true
   },
   "outputs": [],
   "source": []
  },
  {
   "cell_type": "code",
   "execution_count": null,
   "metadata": {
    "collapsed": true
   },
   "outputs": [],
   "source": []
  },
  {
   "cell_type": "code",
   "execution_count": null,
   "metadata": {
    "collapsed": true
   },
   "outputs": [],
   "source": []
  },
  {
   "cell_type": "code",
   "execution_count": null,
   "metadata": {
    "collapsed": true
   },
   "outputs": [],
   "source": []
  },
  {
   "cell_type": "code",
   "execution_count": null,
   "metadata": {
    "collapsed": true
   },
   "outputs": [],
   "source": []
  },
  {
   "cell_type": "code",
   "execution_count": null,
   "metadata": {
    "collapsed": true
   },
   "outputs": [],
   "source": []
  },
  {
   "cell_type": "code",
   "execution_count": null,
   "metadata": {
    "collapsed": true
   },
   "outputs": [],
   "source": []
  },
  {
   "cell_type": "code",
   "execution_count": null,
   "metadata": {
    "collapsed": true
   },
   "outputs": [],
   "source": []
  },
  {
   "cell_type": "code",
   "execution_count": null,
   "metadata": {
    "collapsed": true
   },
   "outputs": [],
   "source": []
  },
  {
   "cell_type": "code",
   "execution_count": null,
   "metadata": {
    "collapsed": true
   },
   "outputs": [],
   "source": []
  },
  {
   "cell_type": "code",
   "execution_count": null,
   "metadata": {
    "collapsed": true
   },
   "outputs": [],
   "source": []
  },
  {
   "cell_type": "code",
   "execution_count": null,
   "metadata": {
    "collapsed": true
   },
   "outputs": [],
   "source": []
  },
  {
   "cell_type": "code",
   "execution_count": null,
   "metadata": {
    "collapsed": true
   },
   "outputs": [],
   "source": []
  },
  {
   "cell_type": "code",
   "execution_count": null,
   "metadata": {
    "collapsed": true
   },
   "outputs": [],
   "source": []
  },
  {
   "cell_type": "code",
   "execution_count": null,
   "metadata": {
    "collapsed": true
   },
   "outputs": [],
   "source": []
  },
  {
   "cell_type": "code",
   "execution_count": null,
   "metadata": {
    "collapsed": true
   },
   "outputs": [],
   "source": []
  },
  {
   "cell_type": "code",
   "execution_count": null,
   "metadata": {
    "collapsed": true
   },
   "outputs": [],
   "source": []
  },
  {
   "cell_type": "code",
   "execution_count": null,
   "metadata": {
    "collapsed": true
   },
   "outputs": [],
   "source": []
  },
  {
   "cell_type": "code",
   "execution_count": null,
   "metadata": {
    "collapsed": true
   },
   "outputs": [],
   "source": []
  },
  {
   "cell_type": "code",
   "execution_count": null,
   "metadata": {
    "collapsed": true
   },
   "outputs": [],
   "source": []
  },
  {
   "cell_type": "code",
   "execution_count": null,
   "metadata": {
    "collapsed": true
   },
   "outputs": [],
   "source": []
  },
  {
   "cell_type": "code",
   "execution_count": null,
   "metadata": {
    "collapsed": true
   },
   "outputs": [],
   "source": []
  },
  {
   "cell_type": "code",
   "execution_count": null,
   "metadata": {
    "collapsed": true
   },
   "outputs": [],
   "source": []
  },
  {
   "cell_type": "code",
   "execution_count": null,
   "metadata": {
    "collapsed": true
   },
   "outputs": [],
   "source": []
  },
  {
   "cell_type": "code",
   "execution_count": null,
   "metadata": {
    "collapsed": true
   },
   "outputs": [],
   "source": []
  },
  {
   "cell_type": "code",
   "execution_count": null,
   "metadata": {
    "collapsed": true
   },
   "outputs": [],
   "source": []
  }
 ],
 "metadata": {
  "kernelspec": {
   "display_name": "Python 2",
   "language": "python",
   "name": "python2"
  },
  "language_info": {
   "codemirror_mode": {
    "name": "ipython",
    "version": 2
   },
   "file_extension": ".py",
   "mimetype": "text/x-python",
   "name": "python",
   "nbconvert_exporter": "python",
   "pygments_lexer": "ipython2",
   "version": "2.7.11"
  }
 },
 "nbformat": 4,
 "nbformat_minor": 0
}
