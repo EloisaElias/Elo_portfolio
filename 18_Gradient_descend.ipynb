{
 "cells": [
  {
   "cell_type": "markdown",
   "metadata": {},
   "source": [
    "## Gradient Descent"
   ]
  },
  {
   "cell_type": "markdown",
   "metadata": {},
   "source": [
    "The general way machine learning algorithms work is by optimizing a cost function."
   ]
  },
  {
   "cell_type": "markdown",
   "metadata": {},
   "source": [
    "Gradient descent is a first-order iterative optimization algorithm. To find a local minimum of a function using gradient descent, one takes steps proportional to the negative of the gradient (or of the approximate gradient) of the function at the current point. If instead one takes steps proportional to the positive of the gradient, one approaches a local maximum of that function; the procedure is then known as gradient ascent.\n",
    "\n",
    "Gradient descent|ascent is an algorithm for solving optimization problems. In gradient descent, I would like to find the solution which minimizes the cost function. "
   ]
  },
  {
   "cell_type": "markdown",
   "metadata": {
    "collapsed": true
   },
   "source": [
    "In statistics, a likelihood function (often simply the likelihood) is a function of the parameters of a statistical \n",
    "model given data. Likelihood functions play a key role in statistical inference, especially methods of estimating a parameter from a set of statistics. In informal contexts, \"likelihood\" is often used as a synonym for \"probability.\" In statistics, a distinction is made depending on the roles of outcomes vs. parameters. Probability is used before data are available to describe possible future outcomes given a fixed value for the parameter (or parameter vector). Likelihood is used after data are available to describe a function of a parameter (or parameter vector) for a given outcome.\n",
    "\n",
    "\n",
    "**$\\alpha $** alpha is a parameter in our algorithm, generally called the step size or learning rate.\n",
    "\n",
    "If alpha is too small, it will take a really long time to converge.\n",
    "\n",
    "If alpha is too large, we'll actually end up overshooting the optimal value and keep getting further and further away. So in this case it will diverge.\n",
    "\n",
    "The cost function $ J(\\theta)$ is an important concept in learning, as it is a measure of how far away a particular solution is from an optimal solution to the problem to be solved. Learning algorithms search through the solution space to find a function that has the smallest possible cost.\n",
    "\n"
   ]
  },
  {
   "cell_type": "markdown",
   "metadata": {
    "collapsed": true
   },
   "source": [
    "---\n",
    "**Logistic function / Log likelihood**\n",
    "\n",
    "\n",
    "The logistic regression can be understood simply as finding the $\\beta$ parameters that best fit:\n",
    "\n",
    "${\\displaystyle y={\\begin{cases}1&\\beta _{0}+\\beta _{1}x+\\epsilon >0\\\\0&{\\beta _{0}+\\beta _{1}x+\\epsilon < 0}\\end{cases}}}$\n",
    "\n",
    "where $\\epsilon $ is an error distributed by the standard logistic distribution. \n",
    "\n",
    "The associated latent variable is $ y'=\\beta _{0}+\\beta _{1}x+\\epsilon.$ The error term $\\epsilon $ is not observed, and so the $y\\prime $ is also an unobservable, hence termed \"latent\". (The observed data are values of $y$ and $x$) Unlike ordinary regression, however, the $\\beta$ parameters cannot be expressed by any direct formula of the $y$ and $x$ values in the observed data. Instead they are to be found by an iterative search process, usually implemented by a software program, that finds the maximum of a complicated \"likelihood expression\" that is a function of all of the observed $y$ and $x $ values. The estimation approach is explained below.\n",
    "\n",
    "\n",
    "\n",
    " $   Logit^{-1}(Z) = g(Z)  =  {\\frac {e^{Z}}{e^{Z}+1}} = {\\frac {1}{1+e^{-Z}}}$\n",
    "\n",
    "Let us assume that $Z$ is a linear function of a single explanatory variable $ x $(the case where $Z$ is a linear combination of multiple explanatory variables is treated similarly). We can then express $Z$ as follows:\n",
    "\n",
    " $ Z =\\beta _{0}+\\beta _{1}x := \\theta^T x^i$  ..(Vectorization)\n",
    "\n",
    "Note that $g(Z)$ is interpreted as the probability of the dependent variable equaling a \"success\" or \"case\" rather than a failure or non-case. It's clear that the response variables $ Y_{i}$ are not identically distributed: $P(Y_{i}=1\\mid X)$ differs from one data point $ X_{i}$ to another, though they are independent given design matrix ${X}$ and shared with parameters $\\theta$\n",
    "\n",
    "$   g(Z)= h_{\\theta}(x) ={\\frac {1}{1+e^{-{\\boldsymbol {\\theta^T }}\\cdot \\mathbf {X} _{i}}}}$\n",
    "\n",
    "\n",
    "Definition of the inverse of the logistic function\n",
    "We can now define the inverse of the logistic function, $f$, the logit (log odds):\n",
    "\n",
    "  $  f(g(Z))=\\ln \\left({\\frac {g(Z)}{1-g(Z)}}\\right)=\\beta _{0}+\\beta _{1}x:= \\theta^T x^i ,\n",
    "$\n",
    "\n",
    "and equivalently, after exponentiating both sides:\n",
    "\n",
    " $   {\\frac {g(Z)}{1-g(Z)}}=e^{\\beta _{0}+\\beta _{1}x}:= e^{\\theta^T x^i}\n",
    "$\n",
    "\n"
   ]
  },
  {
   "cell_type": "code",
   "execution_count": 3,
   "metadata": {
    "collapsed": false
   },
   "outputs": [],
   "source": [
    "from __future__ import division\n",
    "\n",
    "from sklearn.datasets import make_classification\n",
    "from sklearn.linear_model import LogisticRegression\n",
    "\n",
    "import math\n",
    "import pandas as pd\n",
    "import numpy as np\n",
    "\n",
    "import matplotlib.pyplot as plt\n",
    "\n",
    "%autoreload 2\n",
    "%matplotlib inline\n",
    "plt.style.use('ggplot')"
   ]
  },
  {
   "cell_type": "code",
   "execution_count": 4,
   "metadata": {
    "collapsed": false
   },
   "outputs": [],
   "source": [
    "X, y = make_classification(n_samples=100, \n",
    "                           n_features=2, \n",
    "                           n_informative=2, \n",
    "                           n_redundant=0, \n",
    "                           n_classes=2, \n",
    "                           random_state=0)"
   ]
  },
  {
   "cell_type": "code",
   "execution_count": 5,
   "metadata": {
    "collapsed": false
   },
   "outputs": [
    {
     "data": {
      "text/plain": [
       "array([0, 0, 0, 1, 1])"
      ]
     },
     "execution_count": 5,
     "metadata": {},
     "output_type": "execute_result"
    }
   ],
   "source": [
    "y[:5]"
   ]
  },
  {
   "cell_type": "code",
   "execution_count": 160,
   "metadata": {
    "collapsed": false
   },
   "outputs": [
    {
     "data": {
      "image/png": "[encoded data removed]",
      "text/plain": [
       "<matplotlib.figure.Figure at 0x11c849d10>"
      ]
     },
     "metadata": {},
     "output_type": "display_data"
    }
   ],
   "source": [
    "plt.scatter(X[:,0], X[:,1], c=y, alpha=0.5, s=50) # feature_1 = X[:,0], feature_2 = X[:,1]\n",
    "plt.xlabel('feature_1 = X1')\n",
    "plt.ylabel('feature_2 = X2')\n",
    "plt.colorbar()\n",
    "\n",
    "# eyeline = np.linspace(-2, 2)\n",
    "# plt.plot(eyeline, -4*eyeline - 1.8)\n",
    "\n",
    "\n",
    "plt.plot(X[:,0], -X[:,0]*b1/b2-b0/b2)\n",
    "plt.ylim(-5,5)\n",
    "plt.legend()\n",
    "plt.show()"
   ]
  },
  {
   "cell_type": "markdown",
   "metadata": {},
   "source": [
    "---\n",
    "    |  x1 |  x2 |   y |\n",
    "    | --- | --- | --- |\n",
    "    |   0 |   1 |   1 |\n",
    "    |   2 |   2 |   0 |\n"
   ]
  },
  {
   "cell_type": "code",
   "execution_count": 7,
   "metadata": {
    "collapsed": true
   },
   "outputs": [],
   "source": [
    "y0 = 1\n",
    "y1 = 0\n",
    "\n",
    "# Xj,i column,row\n",
    "\n",
    "x1_0 = 0\n",
    "x1_1 = 2\n",
    "\n",
    "x2_0 = 1\n",
    "x2_1 = 2"
   ]
  },
  {
   "cell_type": "markdown",
   "metadata": {},
   "source": [
    "---\n",
    "Hypothesis / likelihood\n",
    "\n",
    "** The \"logistic\" function of any number $\\alpha$ is given by the inverse-logit: **\n",
    "\n",
    "\n",
    "from linear regression := $h_{\\theta}(x):=\\theta_0+\\theta_1 x^i_1+\\dots+\\theta_p x^i_p := \\theta^T x^i  (Vectorization) $\n",
    "\n",
    "$   h_{\\theta}(x)=g(Z)=g(\\theta^{T}x)={\\frac {1}{1+e^{-{\\boldsymbol {\\theta^T }}\\cdot \\mathbf {X} _{i}}}}$\n"
   ]
  },
  {
   "cell_type": "code",
   "execution_count": 8,
   "metadata": {
    "collapsed": true
   },
   "outputs": [],
   "source": [
    "h0 = 1. / (1. + np.exp(-1*x1_0 -1*x2_0))"
   ]
  },
  {
   "cell_type": "code",
   "execution_count": 9,
   "metadata": {
    "collapsed": false
   },
   "outputs": [
    {
     "name": "stdout",
     "output_type": "stream",
     "text": [
      "h(0,1): 0.73105857863\n"
     ]
    }
   ],
   "source": [
    "print 'h(0,1):', h0"
   ]
  },
  {
   "cell_type": "code",
   "execution_count": 10,
   "metadata": {
    "collapsed": true
   },
   "outputs": [],
   "source": [
    "h1 = 1. / (1. + np.exp(-1*x1_1 -1*x2_1))"
   ]
  },
  {
   "cell_type": "code",
   "execution_count": 11,
   "metadata": {
    "collapsed": false
   },
   "outputs": [
    {
     "name": "stdout",
     "output_type": "stream",
     "text": [
      "h(2,2): 0.982013790038\n"
     ]
    }
   ],
   "source": [
    "print 'h(2,2):', h1"
   ]
  },
  {
   "cell_type": "markdown",
   "metadata": {},
   "source": [
    "---\n",
    "log_likelihood\n",
    "\n",
    "\n",
    "** Cost function for Logistic Regression**\n",
    "\n",
    "\n",
    "$ J(\\theta)=-\\frac{1}{m}\\sum_{i=1}^{m}y^{i}\\log(h_\\theta(x^{i}))+(1-y^{i})\\log(1-h_\\theta(x^{i}))$"
   ]
  },
  {
   "cell_type": "code",
   "execution_count": 12,
   "metadata": {
    "collapsed": true
   },
   "outputs": [],
   "source": [
    "cost = y0*np.log(h0)+(1-y0)*np.log(1-h0) + y1*np.log(h1) + (1-y1)*np.log(1-h1)"
   ]
  },
  {
   "cell_type": "code",
   "execution_count": 13,
   "metadata": {
    "collapsed": false
   },
   "outputs": [
    {
     "name": "stdout",
     "output_type": "stream",
     "text": [
      "cost: -4.33141161544\n"
     ]
    }
   ],
   "source": [
    "print 'cost:', cost"
   ]
  },
  {
   "cell_type": "markdown",
   "metadata": {
    "collapsed": true
   },
   "source": [
    "---\n",
    "Gradient for multiple features $n >= 1$\n",
    "\n",
    "**Gradient of the cost function**\n",
    "\n",
    "$\\frac{\\partial}{\\partial\\theta_{j}}J(\\theta) =-\\frac{1}{m}\\sum_{i=1}^{m}(h_\\theta(x^{i})-y^i)x_j^i$"
   ]
  },
  {
   "cell_type": "code",
   "execution_count": 14,
   "metadata": {
    "collapsed": true
   },
   "outputs": [],
   "source": [
    "# gradient feature 1\n",
    "gx1 = (y0-h0)*x1_0 + (y1-h1)*x1_1"
   ]
  },
  {
   "cell_type": "code",
   "execution_count": 15,
   "metadata": {
    "collapsed": false
   },
   "outputs": [
    {
     "name": "stdout",
     "output_type": "stream",
     "text": [
      "Gradient descend: -1.96402758008\n"
     ]
    }
   ],
   "source": [
    "print 'Gradient descend:', gx1"
   ]
  },
  {
   "cell_type": "code",
   "execution_count": 16,
   "metadata": {
    "collapsed": true
   },
   "outputs": [],
   "source": [
    "# gradient feature 2\n",
    "gx2 = (y0-h0)*x2_0 + (y1-h1)*x2_1"
   ]
  },
  {
   "cell_type": "code",
   "execution_count": 17,
   "metadata": {
    "collapsed": false
   },
   "outputs": [
    {
     "name": "stdout",
     "output_type": "stream",
     "text": [
      "Gradient descend: -1.69508615871\n"
     ]
    }
   ],
   "source": [
    "print 'Gradient descend:', gx2"
   ]
  },
  {
   "cell_type": "code",
   "execution_count": 18,
   "metadata": {
    "collapsed": false
   },
   "outputs": [],
   "source": [
    "x_t = np.transpose(np.array([[0, 1],[2, 2]]))\n",
    "x_ = np.array([[0, 1],[2, 2]])\n",
    "y_ = np.array([1, 0])\n",
    "\n",
    "B_t = np.array([[1,1]])\n",
    "coeffs = np.array([1,1])"
   ]
  },
  {
   "cell_type": "markdown",
   "metadata": {},
   "source": [
    "---\n",
    "Function\n",
    "\n",
    "**Logistic function / sigmoid function**\n",
    "\n",
    "$h_\\theta(x^i)=\\frac{1}{1+e^{-\\theta^T x^i} }$"
   ]
  },
  {
   "cell_type": "code",
   "execution_count": 53,
   "metadata": {
    "collapsed": false
   },
   "outputs": [],
   "source": [
    "# with x --> NOT transposed\n",
    "def h(X, coeffs):\n",
    "    return 1. / (1. + np.exp(-np.dot(X, coeffs.reshape(len(coeffs), 1))))"
   ]
  },
  {
   "cell_type": "code",
   "execution_count": 74,
   "metadata": {
    "collapsed": false
   },
   "outputs": [],
   "source": [
    "hazme = h(x_, coeffs).T # row vector"
   ]
  },
  {
   "cell_type": "code",
   "execution_count": 76,
   "metadata": {
    "collapsed": false
   },
   "outputs": [
    {
     "data": {
      "text/plain": [
       "array([ 0.73105858,  0.98201379])"
      ]
     },
     "execution_count": 76,
     "metadata": {},
     "output_type": "execute_result"
    }
   ],
   "source": [
    "hazme[0]"
   ]
  },
  {
   "cell_type": "code",
   "execution_count": 55,
   "metadata": {
    "collapsed": true
   },
   "outputs": [],
   "source": [
    "def predict(X, coeffs):\n",
    "    return h(X, coeffs).round()"
   ]
  },
  {
   "cell_type": "code",
   "execution_count": 57,
   "metadata": {
    "collapsed": false
   },
   "outputs": [],
   "source": [
    "#predict(X, coeffs)"
   ]
  },
  {
   "cell_type": "markdown",
   "metadata": {},
   "source": [
    "---\n",
    "maximize the log likelihood + lasso ridge\n",
    "\n",
    "**Regularized cost function**\n",
    "\n",
    "\n",
    "The second sum, $\\sum _{j=1}^{n} |\\theta _{j}|_{}^{2}$ **means to explicitly exclude** the bias term, $\\theta _{0}$. I.e. the $\\theta$ vector is indexed from $0$ to $n$ (holding $n+1$ values, $\\theta _{0}$ through $\\theta _{n}$), and this sum explicitly skips $\\theta _{0}$, by running from $1$ to $n$, skipping $ 0$.\n",
    "\n",
    "\n",
    "\n",
    "$ J(\\theta)= -\\frac{1}{m}\\sum_{i=1}^{m}[y^{i}\\log(h_\\theta(x^{i}))+(1-y^{i})\\log(1-h_\\theta(x^{i}))] +  \\frac{\\lambda}{2m}\\sum _{j=1}^{n} |\\theta _{j}|_{}^{2} $ "
   ]
  },
  {
   "cell_type": "code",
   "execution_count": 1,
   "metadata": {
    "collapsed": false
   },
   "outputs": [],
   "source": [
    "def log_likelihood(X, y, coeffs, lbda=0):\n",
    "    lreg =  np.sum(coeffs**2)\n",
    "    hx = h(X, coeffs).T\n",
    "    return np.sum(y * np.log(hx[0]) + (1 - y) * np.log(1-hx[0]) + lbda*lreg)"
   ]
  },
  {
   "cell_type": "code",
   "execution_count": 80,
   "metadata": {
    "collapsed": false
   },
   "outputs": [
    {
     "data": {
      "text/plain": [
       "-4.3314116154360329"
      ]
     },
     "execution_count": 80,
     "metadata": {},
     "output_type": "execute_result"
    }
   ],
   "source": [
    "log_likelihood(x_, y_, coeffs)"
   ]
  },
  {
   "cell_type": "markdown",
   "metadata": {},
   "source": [
    "---\n",
    "** Gradient function**\n",
    "\n",
    "$\\frac{\\partial}{\\partial\\theta_{j}}J(\\theta) =\\frac{1}{m}\\sum_{i=1}^{m}(y^i - h_\\theta(x^{i}))x_j^i + \\frac{\\lambda}{m}\\theta _{j}$"
   ]
  },
  {
   "cell_type": "code",
   "execution_count": 126,
   "metadata": {
    "collapsed": false
   },
   "outputs": [],
   "source": [
    "def log_likelihood_gradient(X, y, coeffs, l = 0):\n",
    "    dlreg = 2*l*coeffs.T\n",
    "    y = y.reshape(len(y), 1) # column vector\n",
    "    dif = (y - h(X, coeffs)).T\n",
    "\n",
    "    return np.squeeze(dif.dot(X)) + dlreg"
   ]
  },
  {
   "cell_type": "code",
   "execution_count": 127,
   "metadata": {
    "collapsed": false
   },
   "outputs": [
    {
     "data": {
      "text/plain": [
       "array([-1.96402758, -1.69508616])"
      ]
     },
     "execution_count": 127,
     "metadata": {},
     "output_type": "execute_result"
    }
   ],
   "source": [
    "log_likelihood_gradient(x_, y_, coeffs, 0)"
   ]
  },
  {
   "cell_type": "markdown",
   "metadata": {},
   "source": [
    "---"
   ]
  },
  {
   "cell_type": "code",
   "execution_count": 132,
   "metadata": {
    "collapsed": false
   },
   "outputs": [],
   "source": [
    "import Gradient_functions as gf"
   ]
  },
  {
   "cell_type": "code",
   "execution_count": 149,
   "metadata": {
    "collapsed": false
   },
   "outputs": [
    {
     "data": {
      "text/plain": [
       "array([[ 0.73105858],\n",
       "       [ 0.98201379]])"
      ]
     },
     "execution_count": 149,
     "metadata": {},
     "output_type": "execute_result"
    }
   ],
   "source": [
    "gf.hypothesis(x_, coeffs)"
   ]
  },
  {
   "cell_type": "code",
   "execution_count": 150,
   "metadata": {
    "collapsed": false
   },
   "outputs": [
    {
     "data": {
      "text/plain": [
       "array([[ 1.],\n",
       "       [ 1.]])"
      ]
     },
     "execution_count": 150,
     "metadata": {},
     "output_type": "execute_result"
    }
   ],
   "source": [
    "gf.predict(x_, coeffs)"
   ]
  },
  {
   "cell_type": "code",
   "execution_count": 151,
   "metadata": {
    "collapsed": false
   },
   "outputs": [
    {
     "data": {
      "text/plain": [
       "-4.3314116154360329"
      ]
     },
     "execution_count": 151,
     "metadata": {},
     "output_type": "execute_result"
    }
   ],
   "source": [
    "gf.log_likelihood(x_, y_, coeffs, 0)"
   ]
  },
  {
   "cell_type": "code",
   "execution_count": 152,
   "metadata": {
    "collapsed": false
   },
   "outputs": [
    {
     "data": {
      "text/plain": [
       "array([-1.96402758, -1.69508616])"
      ]
     },
     "execution_count": 152,
     "metadata": {},
     "output_type": "execute_result"
    }
   ],
   "source": [
    "gf.log_likelihood_gradient(x_, y_, coeffs)"
   ]
  },
  {
   "cell_type": "markdown",
   "metadata": {},
   "source": [
    "---"
   ]
  },
  {
   "cell_type": "code",
   "execution_count": 153,
   "metadata": {
    "collapsed": false
   },
   "outputs": [],
   "source": [
    "from Gradient_functions import log_likelihood, log_likelihood_gradient, predict"
   ]
  },
  {
   "cell_type": "code",
   "execution_count": 154,
   "metadata": {
    "collapsed": true
   },
   "outputs": [],
   "source": [
    "from Gradient_class import GradientAscent"
   ]
  },
  {
   "cell_type": "code",
   "execution_count": 162,
   "metadata": {
    "collapsed": true
   },
   "outputs": [],
   "source": [
    "# __init__(self, cost, gradient, predict_func, fit_intercept=True, scale=False)\n",
    "gd = GradientAscent(gf.log_likelihood, gf.log_likelihood_gradient, gf.predict)"
   ]
  },
  {
   "cell_type": "code",
   "execution_count": 163,
   "metadata": {
    "collapsed": false
   },
   "outputs": [
    {
     "name": "stdout",
     "output_type": "stream",
     "text": [
      "Cost fn: -69.0695587423\n",
      "Cost fn: -31.4208773287\n",
      "Cost fn: -28.4232612311\n",
      "Cost fn: -27.3384487824\n",
      "Cost fn: -26.8190714642\n",
      "Cost fn: -26.5364578939\n",
      "Cost fn: -26.3707266231\n",
      "Cost fn: -26.2686576384\n",
      "Cost fn: -26.2036036471\n",
      "Cost fn: -26.1610880182\n"
     ]
    }
   ],
   "source": [
    "gd.run(X, y)\n"
   ]
  },
  {
   "cell_type": "code",
   "execution_count": 164,
   "metadata": {
    "collapsed": true
   },
   "outputs": [],
   "source": [
    "predictions = gd.predict(X)"
   ]
  },
  {
   "cell_type": "code",
   "execution_count": 165,
   "metadata": {
    "collapsed": false
   },
   "outputs": [
    {
     "data": {
      "text/plain": [
       "array([ 0.87974112,  3.12340628,  0.63915276])"
      ]
     },
     "execution_count": 165,
     "metadata": {},
     "output_type": "execute_result"
    }
   ],
   "source": [
    "gd.coeffs"
   ]
  },
  {
   "cell_type": "code",
   "execution_count": 166,
   "metadata": {
    "collapsed": false
   },
   "outputs": [],
   "source": [
    " b0, b1, b2 = gd.coeffs"
   ]
  },
  {
   "cell_type": "markdown",
   "metadata": {},
   "source": [
    "---\n"
   ]
  },
  {
   "cell_type": "code",
   "execution_count": 167,
   "metadata": {
    "collapsed": true
   },
   "outputs": [],
   "source": [
    "X_, y__ = make_classification(n_samples=100, n_features=2,\n",
    "                         n_informative=2, n_redundant=0,\n",
    "                         n_classes=2, random_state=0)"
   ]
  },
  {
   "cell_type": "code",
   "execution_count": 168,
   "metadata": {
    "collapsed": false
   },
   "outputs": [
    {
     "name": "stdout",
     "output_type": "stream",
     "text": [
      "Cost fn: -69.0695587423\n",
      "Cost fn: -32.2414101543\n",
      "Cost fn: -30.0862515296\n",
      "Cost fn: -29.502778665\n",
      "Cost fn: -29.2862916394\n",
      "Cost fn: -29.1938722996\n",
      "Cost fn: -29.1512511566\n",
      "Cost fn: -29.1306466817\n",
      "Cost fn: -29.1203766665\n",
      "Cost fn: -29.1151513267\n",
      "coeffs: [ 2.66759941  0.59703473]\n"
     ]
    }
   ],
   "source": [
    "gd_ = GradientAscent(gf.log_likelihood, gf.log_likelihood_gradient, gf.predict, fit_intercept=False)\n",
    "gd_.run(X_,y__)\n",
    "print \"coeffs:\", gd_.coeffs\n"
   ]
  },
  {
   "cell_type": "markdown",
   "metadata": {},
   "source": [
    "---\n",
    "Logistic regression\n"
   ]
  },
  {
   "cell_type": "code",
   "execution_count": 169,
   "metadata": {
    "collapsed": false
   },
   "outputs": [
    {
     "data": {
      "text/plain": [
       "array([[ 2.19963064,  0.42742225]])"
      ]
     },
     "execution_count": 169,
     "metadata": {},
     "output_type": "execute_result"
    }
   ],
   "source": [
    "model = LogisticRegression(fit_intercept=False)\n",
    "model.fit(X_,y__)\n",
    "model.coef_"
   ]
  },
  {
   "cell_type": "code",
   "execution_count": 170,
   "metadata": {
    "collapsed": false
   },
   "outputs": [
    {
     "data": {
      "text/plain": [
       "array([[ 0.58286607,  2.44080989,  0.45519517]])"
      ]
     },
     "execution_count": 170,
     "metadata": {},
     "output_type": "execute_result"
    }
   ],
   "source": [
    "model = LogisticRegression(fit_intercept=False)\n",
    "model.fit(np.insert(X_,0 , 1, axis=1), y__)\n",
    "model.coef_"
   ]
  },
  {
   "cell_type": "markdown",
   "metadata": {
    "collapsed": false
   },
   "source": [
    "\n",
    "---\n",
    "**As a generalized linear model**\n",
    "\n",
    "\n",
    "The particular model used by logistic regression, which distinguishes it from standard linear regression and from other types of regression analysis used for binary-valued outcomes, is the way the probability of a particular outcome is linked to the linear predictor function:\n",
    "\n",
    "  $ \\operatorname {logit} (\\mathbb {E} [Y_{i}\\mid x_{1,i},\\ldots ,x_{m,i}])=\\operatorname {logit} (p_{i})=\\ln \\left({\\frac {p_{i}}{1-p_{i}}}\\right)=\\beta _{0}+\\beta _{1}x_{1,i}+\\cdots +\\beta _{m}x_{m,i}\n",
    "$\n",
    "\n",
    "Written using the more compact notation described above, this is:\n",
    "\n",
    " $  \\operatorname {logit} (\\mathbb {E} [Y_{i}\\mid \\mathbf {X} _{i}])=\\operatorname {logit} (p_{i})=\\ln \\left({\\frac {p_{i}}{1-p_{i}}}\\right)={\\boldsymbol {\\beta }}\\cdot \\mathbf {X} _{i}\n",
    " $\n",
    "This\n",
    "\n",
    "\n",
    "An equivalent formula uses the inverse of the logit function, which is the logistic function, i.e.:\n",
    "\n",
    "  $   {E} [Y_{i}\\mid \\mathbf {X} _{i}]=p_{i}=\\operatorname {logit} ^{-1}({\\boldsymbol {\\beta }}\\cdot \\mathbf {X} _{i})={\\frac {1}{1+e^{-{\\boldsymbol {\\beta }}\\cdot \\mathbf {X} _{i}}}}$\n",
    "\n",
    "$y_i = \\beta_1 x_{i1} + \\cdots + \\beta_p x_{ip} + \\varepsilon_i =\\mathbf{X}\\cdot\\boldsymbol\\beta + \\varepsilon_i = \\mathbf{x}^{\\rm T}_i\\boldsymbol\\beta + \\varepsilon_i,\n",
    " \\qquad i = 1, \\ldots, n,$\n",
    " \n",
    " where:\n",
    " \n",
    " $\\mathbf{y} = \\begin{pmatrix} y_1 \\\\ y_2 \\\\ \\vdots \\\\ y_n \\end{pmatrix}, \\quad$\n",
    " \n",
    " $\\mathbf{X} = \\begin{pmatrix} \\mathbf{x}^{\\rm T}_1 \\\\ \\mathbf{x}^{\\rm T}_2 \\\\ \\vdots \\\\ \\mathbf{x}^{\\rm T}_n \\end{pmatrix}\n",
    " = \\begin{pmatrix} x_{11} & \\cdots & x_{1p} \\\\\n",
    " x_{21} & \\cdots & x_{2p} \\\\\n",
    " \\vdots & \\ddots & \\vdots \\\\\n",
    " x_{n1} & \\cdots & x_{np}\n",
    " \\end{pmatrix}, $\n",
    " \n",
    " \n",
    " $\\boldsymbol\\beta = \\begin{pmatrix} \\beta_1 \\\\ \\beta_2 \\\\ \\vdots \\\\ \\beta_p \\end{pmatrix}, \\quad\n",
    " \\boldsymbol\\varepsilon = \\begin{pmatrix} \\varepsilon_1 \\\\ \\varepsilon_2 \\\\ \\vdots \\\\ \\varepsilon_n \\end{pmatrix}.$"
   ]
  },
  {
   "cell_type": "code",
   "execution_count": null,
   "metadata": {
    "collapsed": true
   },
   "outputs": [],
   "source": []
  },
  {
   "cell_type": "code",
   "execution_count": null,
   "metadata": {
    "collapsed": true
   },
   "outputs": [],
   "source": []
  },
  {
   "cell_type": "code",
   "execution_count": null,
   "metadata": {
    "collapsed": true
   },
   "outputs": [],
   "source": []
  },
  {
   "cell_type": "code",
   "execution_count": null,
   "metadata": {
    "collapsed": true
   },
   "outputs": [],
   "source": []
  },
  {
   "cell_type": "code",
   "execution_count": null,
   "metadata": {
    "collapsed": true
   },
   "outputs": [],
   "source": []
  },
  {
   "cell_type": "code",
   "execution_count": null,
   "metadata": {
    "collapsed": true
   },
   "outputs": [],
   "source": []
  },
  {
   "cell_type": "code",
   "execution_count": null,
   "metadata": {
    "collapsed": true
   },
   "outputs": [],
   "source": []
  },
  {
   "cell_type": "code",
   "execution_count": null,
   "metadata": {
    "collapsed": true
   },
   "outputs": [],
   "source": []
  },
  {
   "cell_type": "code",
   "execution_count": null,
   "metadata": {
    "collapsed": true
   },
   "outputs": [],
   "source": []
  },
  {
   "cell_type": "code",
   "execution_count": null,
   "metadata": {
    "collapsed": true
   },
   "outputs": [],
   "source": []
  },
  {
   "cell_type": "code",
   "execution_count": null,
   "metadata": {
    "collapsed": true
   },
   "outputs": [],
   "source": []
  },
  {
   "cell_type": "code",
   "execution_count": null,
   "metadata": {
    "collapsed": true
   },
   "outputs": [],
   "source": []
  },
  {
   "cell_type": "code",
   "execution_count": null,
   "metadata": {
    "collapsed": true
   },
   "outputs": [],
   "source": []
  }
 ],
 "metadata": {
  "kernelspec": {
   "display_name": "Python 2",
   "language": "python",
   "name": "python2"
  },
  "language_info": {
   "codemirror_mode": {
    "name": "ipython",
    "version": 2
   },
   "file_extension": ".py",
   "mimetype": "text/x-python",
   "name": "python",
   "nbconvert_exporter": "python",
   "pygments_lexer": "ipython2",
   "version": "2.7.11"
  }
 },
 "nbformat": 4,
 "nbformat_minor": 0
}
