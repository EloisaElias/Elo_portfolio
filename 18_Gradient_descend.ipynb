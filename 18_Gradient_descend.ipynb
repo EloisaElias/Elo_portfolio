{
 "cells": [
  {
   "cell_type": "markdown",
   "metadata": {},
   "source": [
    "## Gradient Descent"
   ]
  },
  {
   "cell_type": "markdown",
   "metadata": {},
   "source": [
    "In Machine Learning, we design a system that can learn from data.\n",
    "\n",
    "The general way machine learning algorithms work is by optimizing a cost function."
   ]
  },
  {
   "cell_type": "markdown",
   "metadata": {},
   "source": [
    "Gradient descent is a first-order iterative optimization algorithm. To find a local minimum of a function using gradient descent, one takes steps proportional to the negative of the gradient (or of the approximate gradient) of the function at the current point. If instead one takes steps proportional to the positive of the gradient, one approaches a local maximum of that function; the procedure is then known as gradient ascent.\n",
    "\n",
    "Gradient descent|ascent is an algorithm for solving optimization problems. In gradient descent, I would like to find the solution which minimizes the cost function. In gradient ascent (which is the case of logistic regression), I will be maximizing the likelihood."
   ]
  },
  {
   "cell_type": "markdown",
   "metadata": {
    "collapsed": true
   },
   "source": [
    "In statistics, a likelihood function (often simply the likelihood) is a function of the parameters of a statistical \n",
    "model given data. Likelihood functions play a key role in statistical inference, especially methods of estimating a parameter from a set of statistics. In informal contexts, \"likelihood\" is often used as a synonym for \"probability.\" In statistics, a distinction is made depending on the roles of outcomes vs. parameters. Probability is used before data are available to describe possible future outcomes given a fixed value for the parameter (or parameter vector). Likelihood is used after data are available to describe a function of a parameter (or parameter vector) for a given outcome."
   ]
  },
  {
   "cell_type": "markdown",
   "metadata": {
    "collapsed": true
   },
   "source": [
    "---\n",
    "alpha is a parameter in our algorithm, generally called the step size or learning rate.\n",
    "\n",
    "If alpha is too small, it will take a really long time to converge.\n",
    "\n",
    "If alpha is too large, we'll actually end up overshooting the optimal value and keep getting further and further away! So in this case it will diverge!"
   ]
  },
  {
   "cell_type": "markdown",
   "metadata": {
    "collapsed": true
   },
   "source": [
    "---\n",
    "**Cost function**\n"
   ]
  },
  {
   "cell_type": "markdown",
   "metadata": {
    "collapsed": true
   },
   "source": [
    "The cost function C is an important concept in learning, as it is a measure of how far away a particular solution is from an optimal solution to the problem to be solved. Learning algorithms search through the solution space to find a function that has the smallest possible cost.\n",
    "\n",
    "log likelihood"
   ]
  },
  {
   "cell_type": "markdown",
   "metadata": {
    "collapsed": true
   },
   "source": [
    " sigmoid function refers to the special case of the logistic function shown in the first figure and defined by the formula\n",
    "\n",
    " $   S(t)={\\frac {1}{1+e^{-t}}}$\n",
    "\n",
    "A graph of the logistic function on the t-interval \n",
    "\n",
    "Let us assume that ${\\displaystyle t}$  is a linear function of a single explanatory variable ${\\displaystyle x}$ (the case where ${\\displaystyle t}$ is a linear combination of multiple explanatory variables is treated similarly). We can then express ${\\displaystyle t}$ as follows:\n",
    "\n",
    "  $ t=\\beta _{0}+\\beta _{1}x$\n",
    "\n",
    "And the logistic function can now be written as:\n",
    "\n",
    "  $ F(x)={\\frac {1}{1+e^{-(\\beta _{0}+\\beta _{1}x)}}} $\n",
    "\n",
    "Note that ${\\displaystyle F(x)}$ is interpreted as the probability of the dependent variable equaling a \"success\" or \"case\" rather than a failure or non-case. It's clear that the response variables ${\\displaystyle Y_{i}} Y_{i}$ are not identically distributed: ${\\displaystyle P(Y_{i}=1\\mid X)} P(Y_{i}=1\\mid X)$ differs from one data point ${\\displaystyle X_{i}} X_{i}$ to another, though they are independent given design matrix ${\\displaystyle X}$ and shared with parameters ${\\displaystyle \\beta }$\n",
    "\n",
    "\n",
    "Definition of the inverse of the logistic function\n",
    "We can now define the inverse of the logistic function, g {\\displaystyle g} g, the logit (log odds):\n",
    "\n",
    "  $  g(F(x))=\\ln \\left({\\frac {F(x)}{1-F(x)}}\\right)=\\beta _{0}+\\beta _{1}x,\n",
    "$\n",
    "\n",
    "and equivalently, after exponentiating both sides:\n",
    "\n",
    " $   {\\frac {F(x)}{1-F(x)}}=e^{\\beta _{0}+\\beta _{1}x}.\n",
    "$\n",
    "\n",
    "\n",
    "---\n",
    "\n",
    "The particular model used by logistic regression, which distinguishes it from standard linear regression and from other types of regression analysis used for binary-valued outcomes, is the way the probability of a particular outcome is linked to the linear predictor function:\n",
    "\n",
    "  $ \\operatorname {logit} (\\mathbb {E} [Y_{i}\\mid x_{1,i},\\ldots ,x_{m,i}])=\\operatorname {logit} (p_{i})=\\ln \\left({\\frac {p_{i}}{1-p_{i}}}\\right)=\\beta _{0}+\\beta _{1}x_{1,i}+\\cdots +\\beta _{m}x_{m,i}\n",
    "$\n",
    "\n",
    "Written using the more compact notation described above, this is:\n",
    "\n",
    " $  \\operatorname {logit} (\\mathbb {E} [Y_{i}\\mid \\mathbf {X} _{i}])=\\operatorname {logit} (p_{i})=\\ln \\left({\\frac {p_{i}}{1-p_{i}}}\\right)={\\boldsymbol {\\beta }}\\cdot \\mathbf {X} _{i}\n",
    " $\n",
    "This\n",
    "\n",
    "\n",
    "An equivalent formula uses the inverse of the logit function, which is the logistic function, i.e.:\n",
    "\n",
    "  $   {E} [Y_{i}\\mid \\mathbf {X} _{i}]=p_{i}=\\operatorname {logit} ^{-1}({\\boldsymbol {\\beta }}\\cdot \\mathbf {X} _{i})={\\frac {1}{1+e^{-{\\boldsymbol {\\beta }}\\cdot \\mathbf {X} _{i}}}}$\n"
   ]
  },
  {
   "cell_type": "markdown",
   "metadata": {},
   "source": [
    "$y_i = \\beta_1 x_{i1} + \\cdots + \\beta_p x_{ip} + \\varepsilon_i = \\mathbf{x}^{\\rm T}_i\\boldsymbol\\beta + \\varepsilon_i,\n",
    " \\qquad i = 1, \\ldots, n,$\n",
    " \n",
    " where:\n",
    " \n",
    " $\\mathbf{y} = \\begin{pmatrix} y_1 \\\\ y_2 \\\\ \\vdots \\\\ y_n \\end{pmatrix}, \\quad$\n",
    " \n",
    " $\\mathbf{X} = \\begin{pmatrix} \\mathbf{x}^{\\rm T}_1 \\\\ \\mathbf{x}^{\\rm T}_2 \\\\ \\vdots \\\\ \\mathbf{x}^{\\rm T}_n \\end{pmatrix}\n",
    " = \\begin{pmatrix} x_{11} & \\cdots & x_{1p} \\\\\n",
    " x_{21} & \\cdots & x_{2p} \\\\\n",
    " \\vdots & \\ddots & \\vdots \\\\\n",
    " x_{n1} & \\cdots & x_{np}\n",
    " \\end{pmatrix}, $\n",
    " \n",
    " \n",
    " $\\boldsymbol\\beta = \\begin{pmatrix} \\beta_1 \\\\ \\beta_2 \\\\ \\vdots \\\\ \\beta_p \\end{pmatrix}, \\quad\n",
    " \\boldsymbol\\varepsilon = \\begin{pmatrix} \\varepsilon_1 \\\\ \\varepsilon_2 \\\\ \\vdots \\\\ \\varepsilon_n \\end{pmatrix}.$"
   ]
  },
  {
   "cell_type": "code",
   "execution_count": 1,
   "metadata": {
    "collapsed": false
   },
   "outputs": [],
   "source": [
    "from __future__ import division\n",
    "\n",
    "from sklearn.datasets import make_classification\n",
    "from sklearn.linear_model import LogisticRegression\n",
    "\n",
    "import math\n",
    "import pandas as pd\n",
    "import numpy as np\n",
    "\n",
    "import matplotlib.pyplot as plt\n",
    "\n",
    "%autoreload 2\n",
    "%matplotlib inline\n",
    "plt.style.use('ggplot')"
   ]
  },
  {
   "cell_type": "code",
   "execution_count": 2,
   "metadata": {
    "collapsed": false
   },
   "outputs": [],
   "source": [
    "X, y = make_classification(n_samples=100, n_features=2, n_informative=2, n_redundant=0, n_classes=2, random_state=0)"
   ]
  },
  {
   "cell_type": "code",
   "execution_count": 3,
   "metadata": {
    "collapsed": false
   },
   "outputs": [
    {
     "data": {
      "text/plain": [
       "array([0, 0, 0, 1, 1])"
      ]
     },
     "execution_count": 3,
     "metadata": {},
     "output_type": "execute_result"
    }
   ],
   "source": [
    "y[:5]"
   ]
  },
  {
   "cell_type": "code",
   "execution_count": 4,
   "metadata": {
    "collapsed": false
   },
   "outputs": [
    {
     "data": {
      "image/png": "[encoded data removed]",
      "text/plain": [
       "<matplotlib.figure.Figure at 0x116d0eb10>"
      ]
     },
     "metadata": {},
     "output_type": "display_data"
    }
   ],
   "source": [
    "plt.scatter(X[:,0], X[:,1], c=y, alpha=0.5, s=50) # feature_1 = X[:,0], feature_2 = X[:,1]\n",
    "plt.xlabel('feature_1 = X1')\n",
    "plt.ylabel('feature_2 = X2')\n",
    "plt.colorbar()\n",
    "\n",
    "eyeline = np.linspace(-2, 2)\n",
    "plt.plot(eyeline, -4*eyeline - 1.8)\n",
    "plt.show()\n",
    "\n",
    "#plt.plot(X[:,0], -X[:,0]*b1/b2-b0/b2)\n",
    "#plt.ylim(-5,5)\n",
    "#plt.legend()"
   ]
  },
  {
   "cell_type": "markdown",
   "metadata": {},
   "source": [
    "---\n",
    "    |  x1 |  x2 |   y |\n",
    "    | --- | --- | --- |\n",
    "    |   0 |   1 |   1 |\n",
    "    |   2 |   2 |   0 |\n"
   ]
  },
  {
   "cell_type": "code",
   "execution_count": 5,
   "metadata": {
    "collapsed": true
   },
   "outputs": [],
   "source": [
    "y0 = 1\n",
    "y1 = 0\n",
    "\n",
    "# Xj,i column,row\n",
    "\n",
    "x1_0 = 0\n",
    "x1_1 = 2\n",
    "\n",
    "x2_0 = 1\n",
    "x2_1 = 2"
   ]
  },
  {
   "cell_type": "markdown",
   "metadata": {},
   "source": [
    "---\n",
    "** The \"logistic\" function of any number $\\alpha$ is given by the inverse-logit: **\n",
    "\n",
    "where hθ(x) is defined as follows:\n",
    "\n",
    "the logistic function = $h_{\\theta}(x) $\n",
    "\n",
    "$\\theta x^i:=\\theta_0+\\theta_1 x^i_1+\\dots+\\theta_p x^i_p$\n",
    "\n",
    "$   h_{\\theta}(x)=g(\\theta^{T}x)={\\frac {1}{1+e^{-{\\boldsymbol {\\beta }}\\cdot \\mathbf {X} _{i}}}}$\n"
   ]
  },
  {
   "cell_type": "code",
   "execution_count": 6,
   "metadata": {
    "collapsed": true
   },
   "outputs": [],
   "source": [
    "h0 = 1. / (1. + np.exp(-1*x1_0 -1*x2_0))"
   ]
  },
  {
   "cell_type": "code",
   "execution_count": 7,
   "metadata": {
    "collapsed": false
   },
   "outputs": [
    {
     "name": "stdout",
     "output_type": "stream",
     "text": [
      "h(0,1): 0.73105857863\n"
     ]
    }
   ],
   "source": [
    "print 'h(0,1):', h0"
   ]
  },
  {
   "cell_type": "code",
   "execution_count": 8,
   "metadata": {
    "collapsed": true
   },
   "outputs": [],
   "source": [
    "h1 = 1. / (1. + np.exp(-1*x1_1 -1*x2_1))"
   ]
  },
  {
   "cell_type": "code",
   "execution_count": 9,
   "metadata": {
    "collapsed": false
   },
   "outputs": [
    {
     "name": "stdout",
     "output_type": "stream",
     "text": [
      "h(2,2): 0.982013790038\n"
     ]
    }
   ],
   "source": [
    "print 'h(2,2):', h1"
   ]
  },
  {
   "cell_type": "markdown",
   "metadata": {},
   "source": [
    "---\n",
    "Cost\n",
    "\n",
    "** Cost function for Logistic Regression**\n",
    "\n",
    "log_likelihood:\n",
    "\n",
    "$ L(\\theta)=\\sum_{i=1}^{m}y^{i}\\log(h_\\theta(x^{i}))+(1-y^{i})\\log(1-h_\\theta(x^{i}))$"
   ]
  },
  {
   "cell_type": "code",
   "execution_count": 10,
   "metadata": {
    "collapsed": true
   },
   "outputs": [],
   "source": [
    "cost = y0*np.log(h0)+(1-y0)*np.log(1-h0) + y1*np.log(h1) + (1-y1)*np.log(1-h1)"
   ]
  },
  {
   "cell_type": "code",
   "execution_count": 11,
   "metadata": {
    "collapsed": false
   },
   "outputs": [
    {
     "name": "stdout",
     "output_type": "stream",
     "text": [
      "cost: -4.33141161544\n"
     ]
    }
   ],
   "source": [
    "print 'cost:', cost"
   ]
  },
  {
   "cell_type": "markdown",
   "metadata": {
    "collapsed": true
   },
   "source": [
    "---\n",
    "Gradient\n",
    "\n",
    "**Gradient of the cost function**\n",
    "\n",
    "$\\frac{\\partial}{\\partial\\theta_{j}}L(\\theta) =\\sum_{i=1}^{m}(y^i - h_\\theta(x^{i}))x_j^i$"
   ]
  },
  {
   "cell_type": "code",
   "execution_count": 14,
   "metadata": {
    "collapsed": true
   },
   "outputs": [],
   "source": [
    "# gradient feature 1\n",
    "gx1 = (y0-h0)*x1_0 + (y1-h1)*x1_1"
   ]
  },
  {
   "cell_type": "code",
   "execution_count": 15,
   "metadata": {
    "collapsed": false
   },
   "outputs": [
    {
     "name": "stdout",
     "output_type": "stream",
     "text": [
      "Gradient descend: -1.96402758008\n"
     ]
    }
   ],
   "source": [
    "print 'Gradient descend:', gx1"
   ]
  },
  {
   "cell_type": "code",
   "execution_count": 16,
   "metadata": {
    "collapsed": true
   },
   "outputs": [],
   "source": [
    "# gradient feature 2\n",
    "gx2 = (y0-h0)*x2_0 + (y1-h1)*x2_1"
   ]
  },
  {
   "cell_type": "code",
   "execution_count": 17,
   "metadata": {
    "collapsed": false
   },
   "outputs": [
    {
     "name": "stdout",
     "output_type": "stream",
     "text": [
      "Gradient descend: -1.69508615871\n"
     ]
    }
   ],
   "source": [
    "print 'Gradient descend:', gx2"
   ]
  },
  {
   "cell_type": "code",
   "execution_count": 18,
   "metadata": {
    "collapsed": false
   },
   "outputs": [],
   "source": [
    "x_t = np.transpose(np.array([[0, 1],[2, 2]]))\n",
    "x_ = np.array([[0, 1],[2, 2]])\n",
    "y_ = np.array([1, 0])\n",
    "\n",
    "B_t = np.array([[1,1]])\n",
    "coeffs = np.array([1,1])"
   ]
  },
  {
   "cell_type": "markdown",
   "metadata": {},
   "source": [
    "---\n",
    "**Logistic function or the sigmoid function:**\n",
    "\n",
    "$h_\\theta(x^i)=\\frac{1}{1+e^{-\\theta x^i} }$"
   ]
  },
  {
   "cell_type": "code",
   "execution_count": 21,
   "metadata": {
    "collapsed": false
   },
   "outputs": [],
   "source": [
    "# with x --> NOT transposed\n",
    "def h(x, b):\n",
    "    return 1. / (1. + np.exp(-np.dot(x, coeffs)))"
   ]
  },
  {
   "cell_type": "code",
   "execution_count": 22,
   "metadata": {
    "collapsed": false
   },
   "outputs": [
    {
     "data": {
      "text/plain": [
       "array([ 0.73105858,  0.98201379])"
      ]
     },
     "execution_count": 22,
     "metadata": {},
     "output_type": "execute_result"
    }
   ],
   "source": [
    "h(x_, B_t) # row vector"
   ]
  },
  {
   "cell_type": "code",
   "execution_count": 23,
   "metadata": {
    "collapsed": false
   },
   "outputs": [
    {
     "data": {
      "text/plain": [
       "array([ 0.73105858,  0.98201379])"
      ]
     },
     "execution_count": 23,
     "metadata": {},
     "output_type": "execute_result"
    }
   ],
   "source": [
    "h(x_, coeffs) # row vector"
   ]
  },
  {
   "cell_type": "code",
   "execution_count": 24,
   "metadata": {
    "collapsed": true
   },
   "outputs": [],
   "source": [
    "def predict(X, coeffs):\n",
    "    return h(X, coeffs).round()"
   ]
  },
  {
   "cell_type": "code",
   "execution_count": 25,
   "metadata": {
    "collapsed": false
   },
   "outputs": [
    {
     "data": {
      "text/plain": [
       "array([ 0.,  0.,  0.,  1.,  1.,  1.,  0.,  0.,  0.,  1.,  0.,  1.,  0.,\n",
       "        0.,  0.,  0.,  0.,  1.,  1.,  0.,  1.,  0.,  1.,  1.,  1.,  0.,\n",
       "        1.,  0.,  0.,  0.,  1.,  0.,  1.,  0.,  1.,  1.,  0.,  1.,  1.,\n",
       "        1.,  0.,  1.,  0.,  0.,  0.,  1.,  0.,  0.,  1.,  0.,  1.,  1.,\n",
       "        1.,  0.,  1.,  0.,  0.,  1.,  1.,  0.,  1.,  0.,  0.,  1.,  0.,\n",
       "        1.,  0.,  1.,  0.,  0.,  0.,  1.,  1.,  0.,  1.,  1.,  1.,  1.,\n",
       "        1.,  0.,  1.,  1.,  1.,  0.,  0.,  1.,  0.,  1.,  0.,  0.,  0.,\n",
       "        0.,  1.,  0.,  1.,  0.,  0.,  1.,  0.,  0.])"
      ]
     },
     "execution_count": 25,
     "metadata": {},
     "output_type": "execute_result"
    }
   ],
   "source": [
    "predict(X, coeffs)"
   ]
  },
  {
   "cell_type": "markdown",
   "metadata": {},
   "source": [
    "---\n",
    "**Cost function:**\n",
    "\n",
    "maximize the log likelihood + lasso ridge\n",
    "\n",
    "\n",
    "$ L(\\theta)=\\sum_{i=1}^{m}y^{i}\\log(h_\\theta(x^{i}))+(1-y^{i})\\log(1-h_\\theta(x^{i})) +  \\lambda\\sum _{j=1}^{p} |\\beta _{j}|_{}^{2} $ "
   ]
  },
  {
   "cell_type": "code",
   "execution_count": 30,
   "metadata": {
    "collapsed": false
   },
   "outputs": [],
   "source": [
    "def log_likelihood_gradient(X, y, coeffs, lbda=1):\n",
    "    dlreg = 2*coeffs\n",
    "    y = y.reshape(len(y), 1) # column vector\n",
    "    dif = (y - h(X, coeffs)).T\n",
    "    \n",
    "    return dif.dot(X) + dlreg"
   ]
  },
  {
   "cell_type": "code",
   "execution_count": 31,
   "metadata": {
    "collapsed": false
   },
   "outputs": [
    {
     "data": {
      "text/plain": [
       "array([[ 49.90219155,   6.83036927],\n",
       "       [ 49.05877566,   6.4015678 ],\n",
       "       [ 48.56264534,   6.14932995],\n",
       "       [ 52.66858629,   8.23683331],\n",
       "       [ 55.84014443,   9.84928667],\n",
       "       [ 56.04312298,   9.95248309],\n",
       "       [ 48.14313667,   5.93604735],\n",
       "       [ 46.70556425,   5.20517049],\n",
       "       [ 50.24091067,   7.00257762],\n",
       "       [ 51.81654844,   7.80364835],\n",
       "       [ 47.13240883,   5.42218274],\n",
       "       [ 54.39831192,   9.11624393],\n",
       "       [ 51.25528359,   7.51829542],\n",
       "       [ 47.77891888,   5.75087522],\n",
       "       [ 50.21911069,   6.99149428],\n",
       "       [ 50.63763223,   7.20427501],\n",
       "       [ 46.93811196,   5.32340017],\n",
       "       [ 52.01754321,   7.9058362 ],\n",
       "       [ 53.00691768,   8.40884453],\n",
       "       [ 48.30033726,   6.01596978],\n",
       "       [ 52.59500774,   8.19942521],\n",
       "       [ 50.34969814,   7.0578863 ],\n",
       "       [ 54.47849319,   9.15700893],\n",
       "       [ 55.91851137,   9.88912925],\n",
       "       [ 53.37431765,   8.59563452],\n",
       "       [ 46.85659168,   5.28195441],\n",
       "       [ 54.21144681,   9.02123975],\n",
       "       [ 51.14602627,   7.46274786],\n",
       "       [ 49.5102935 ,   6.6311242 ],\n",
       "       [ 49.00869146,   6.37610447],\n",
       "       [ 55.50298039,   9.67786895],\n",
       "       [ 48.50552596,   6.12028986],\n",
       "       [ 52.09725551,   7.94636277],\n",
       "       [ 46.57531777,   5.13895181],\n",
       "       [ 51.46460434,   7.62471629],\n",
       "       [ 51.64202551,   7.71491907],\n",
       "       [ 47.96993909,   5.84799189],\n",
       "       [ 55.1882758 ,   9.51786984],\n",
       "       [ 53.61754208,   8.71929237],\n",
       "       [ 52.32021616,   8.05971829],\n",
       "       [ 49.10117321,   6.42312316],\n",
       "       [ 51.35392064,   7.56844353],\n",
       "       [ 47.27567124,   5.49501885],\n",
       "       [ 50.7303994 ,   7.25143881],\n",
       "       [ 46.50673574,   5.10408399],\n",
       "       [ 53.89246006,   8.85906355],\n",
       "       [ 48.60638661,   6.17156847],\n",
       "       [ 49.61535574,   6.68453894],\n",
       "       [ 55.01808081,   9.43134092],\n",
       "       [ 46.66640506,   5.18526154],\n",
       "       [ 51.34671377,   7.56477948],\n",
       "       [ 51.77362518,   7.78182572],\n",
       "       [ 52.75039447,   8.27842545],\n",
       "       [ 49.75052362,   6.7532597 ],\n",
       "       [ 51.82672525,   7.80882235],\n",
       "       [ 50.99745559,   7.38721297],\n",
       "       [ 50.00097825,   6.88059346],\n",
       "       [ 51.90049894,   7.84632966],\n",
       "       [ 53.24576862,   8.53027885],\n",
       "       [ 49.73024164,   6.74294813],\n",
       "       [ 51.60846376,   7.69785592],\n",
       "       [ 47.16654536,   5.43953811],\n",
       "       [ 47.82767723,   5.77566447],\n",
       "       [ 55.63334609,   9.74414823],\n",
       "       [ 49.7191539 ,   6.73731101],\n",
       "       [ 53.26733406,   8.54124295],\n",
       "       [ 48.49104825,   6.11292924],\n",
       "       [ 51.60931551,   7.69828896],\n",
       "       [ 49.98728496,   6.87363165],\n",
       "       [ 49.78909878,   6.77287172],\n",
       "       [ 48.22436655,   5.97734548],\n",
       "       [ 52.19163447,   7.99434602],\n",
       "       [ 55.85011112,   9.85435384],\n",
       "       [ 48.24489923,   5.9877845 ],\n",
       "       [ 55.82022139,   9.83915759],\n",
       "       [ 53.60749743,   8.71418556],\n",
       "       [ 52.65285232,   8.228834  ],\n",
       "       [ 53.2181295 ,   8.51622683],\n",
       "       [ 52.91178416,   8.36047766],\n",
       "       [ 48.2391529 ,   5.98486301],\n",
       "       [ 55.70869136,   9.78245456],\n",
       "       [ 51.61842757,   7.70292163],\n",
       "       [ 53.89203503,   8.85884746],\n",
       "       [ 50.58784933,   7.17896486],\n",
       "       [ 47.40992559,   5.56327516],\n",
       "       [ 52.23822538,   8.01803332],\n",
       "       [ 50.56804561,   7.16889645],\n",
       "       [ 53.04748792,   8.42947087],\n",
       "       [ 50.23958738,   7.00190484],\n",
       "       [ 48.28994201,   6.01068472],\n",
       "       [ 47.24880962,   5.48136212],\n",
       "       [ 50.65419812,   7.21269728],\n",
       "       [ 53.76151146,   8.79248791],\n",
       "       [ 47.85700081,   5.79057289],\n",
       "       [ 54.52739646,   9.18187186],\n",
       "       [ 49.82913676,   6.79322745],\n",
       "       [ 47.90958545,   5.81730747],\n",
       "       [ 55.56226874,   9.70801176],\n",
       "       [ 46.61280333,   5.15800986],\n",
       "       [ 48.03557051,   5.88135959]])"
      ]
     },
     "execution_count": 31,
     "metadata": {},
     "output_type": "execute_result"
    }
   ],
   "source": [
    "log_likelihood_gradient(X, y, coeffs, lbda=1)"
   ]
  },
  {
   "cell_type": "markdown",
   "metadata": {},
   "source": [
    "---"
   ]
  },
  {
   "cell_type": "code",
   "execution_count": 59,
   "metadata": {
    "collapsed": false
   },
   "outputs": [],
   "source": [
    "import Gradient_functions as gf"
   ]
  },
  {
   "cell_type": "code",
   "execution_count": 60,
   "metadata": {
    "collapsed": false
   },
   "outputs": [
    {
     "data": {
      "text/plain": [
       "array([[ 0.35830466],\n",
       "       [ 0.2703791 ],\n",
       "       [ 0.21865783],\n",
       "       [ 0.64669953],\n",
       "       [ 0.97733243],\n",
       "       [ 0.99849281],\n",
       "       [ 0.17492432],\n",
       "       [ 0.02505832],\n",
       "       [ 0.39361591],\n",
       "       [ 0.55787513],\n",
       "       [ 0.06955659],\n",
       "       [ 0.82702232],\n",
       "       [ 0.49936363],\n",
       "       [ 0.13695485],\n",
       "       [ 0.39134328],\n",
       "       [ 0.43497388],\n",
       "       [ 0.04930127],\n",
       "       [ 0.57882871],\n",
       "       [ 0.68197036],\n",
       "       [ 0.19131238],\n",
       "       [ 0.63902902],\n",
       "       [ 0.40495693],\n",
       "       [ 0.83538116],\n",
       "       [ 0.98550213],\n",
       "       [ 0.72027157],\n",
       "       [ 0.04080283],\n",
       "       [ 0.80754175],\n",
       "       [ 0.48797363],\n",
       "       [ 0.31744954],\n",
       "       [ 0.26515785],\n",
       "       [ 0.94218329],\n",
       "       [ 0.21270317],\n",
       "       [ 0.58713867],\n",
       "       [ 0.01148021],\n",
       "       [ 0.52118519],\n",
       "       [ 0.53968123],\n",
       "       [ 0.15686858],\n",
       "       [ 0.90937554],\n",
       "       [ 0.74562756],\n",
       "       [ 0.61038217],\n",
       "       [ 0.27479901],\n",
       "       [ 0.50964648],\n",
       "       [ 0.08449161],\n",
       "       [ 0.4446448 ],\n",
       "       [ 0.00433058],\n",
       "       [ 0.77428759],\n",
       "       [ 0.22321783],\n",
       "       [ 0.32840221],\n",
       "       [ 0.89163282],\n",
       "       [ 0.020976  ],\n",
       "       [ 0.50889517],\n",
       "       [ 0.55340041],\n",
       "       [ 0.65522798],\n",
       "       [ 0.34249338],\n",
       "       [ 0.55893606],\n",
       "       [ 0.47248523],\n",
       "       [ 0.36860311],\n",
       "       [ 0.56662692],\n",
       "       [ 0.70687042],\n",
       "       [ 0.34037899],\n",
       "       [ 0.53618244],\n",
       "       [ 0.0731153 ],\n",
       "       [ 0.14203788],\n",
       "       [ 0.95577383],\n",
       "       [ 0.3392231 ],\n",
       "       [ 0.7091186 ],\n",
       "       [ 0.21119388],\n",
       "       [ 0.53627123],\n",
       "       [ 0.36717559],\n",
       "       [ 0.34651481],\n",
       "       [ 0.18339248],\n",
       "       [ 0.59697761],\n",
       "       [ 0.97837145],\n",
       "       [ 0.185533  ],\n",
       "       [ 0.97525546],\n",
       "       [ 0.74458041],\n",
       "       [ 0.64505928],\n",
       "       [ 0.70398906],\n",
       "       [ 0.67205275],\n",
       "       [ 0.18493395],\n",
       "       [ 0.96362853],\n",
       "       [ 0.53722116],\n",
       "       [ 0.77424328],\n",
       "       [ 0.42978404],\n",
       "       [ 0.09848754],\n",
       "       [ 0.60183468],\n",
       "       [ 0.42771952],\n",
       "       [ 0.68619978],\n",
       "       [ 0.39347796],\n",
       "       [ 0.19022868],\n",
       "       [ 0.0816913 ],\n",
       "       [ 0.43670086],\n",
       "       [ 0.76063628],\n",
       "       [ 0.14509484],\n",
       "       [ 0.8404793 ],\n",
       "       [ 0.35068875],\n",
       "       [ 0.15057676],\n",
       "       [ 0.94836407],\n",
       "       [ 0.01538805],\n",
       "       [ 0.16371062]])"
      ]
     },
     "execution_count": 60,
     "metadata": {},
     "output_type": "execute_result"
    }
   ],
   "source": [
    "gf.hypothesis(X, coeffs)"
   ]
  },
  {
   "cell_type": "code",
   "execution_count": 61,
   "metadata": {
    "collapsed": false
   },
   "outputs": [
    {
     "data": {
      "text/plain": [
       "array([[ 0.],\n",
       "       [ 0.],\n",
       "       [ 0.],\n",
       "       [ 1.],\n",
       "       [ 1.],\n",
       "       [ 1.],\n",
       "       [ 0.],\n",
       "       [ 0.],\n",
       "       [ 0.],\n",
       "       [ 1.],\n",
       "       [ 0.],\n",
       "       [ 1.],\n",
       "       [ 0.],\n",
       "       [ 0.],\n",
       "       [ 0.],\n",
       "       [ 0.],\n",
       "       [ 0.],\n",
       "       [ 1.],\n",
       "       [ 1.],\n",
       "       [ 0.],\n",
       "       [ 1.],\n",
       "       [ 0.],\n",
       "       [ 1.],\n",
       "       [ 1.],\n",
       "       [ 1.],\n",
       "       [ 0.],\n",
       "       [ 1.],\n",
       "       [ 0.],\n",
       "       [ 0.],\n",
       "       [ 0.],\n",
       "       [ 1.],\n",
       "       [ 0.],\n",
       "       [ 1.],\n",
       "       [ 0.],\n",
       "       [ 1.],\n",
       "       [ 1.],\n",
       "       [ 0.],\n",
       "       [ 1.],\n",
       "       [ 1.],\n",
       "       [ 1.],\n",
       "       [ 0.],\n",
       "       [ 1.],\n",
       "       [ 0.],\n",
       "       [ 0.],\n",
       "       [ 0.],\n",
       "       [ 1.],\n",
       "       [ 0.],\n",
       "       [ 0.],\n",
       "       [ 1.],\n",
       "       [ 0.],\n",
       "       [ 1.],\n",
       "       [ 1.],\n",
       "       [ 1.],\n",
       "       [ 0.],\n",
       "       [ 1.],\n",
       "       [ 0.],\n",
       "       [ 0.],\n",
       "       [ 1.],\n",
       "       [ 1.],\n",
       "       [ 0.],\n",
       "       [ 1.],\n",
       "       [ 0.],\n",
       "       [ 0.],\n",
       "       [ 1.],\n",
       "       [ 0.],\n",
       "       [ 1.],\n",
       "       [ 0.],\n",
       "       [ 1.],\n",
       "       [ 0.],\n",
       "       [ 0.],\n",
       "       [ 0.],\n",
       "       [ 1.],\n",
       "       [ 1.],\n",
       "       [ 0.],\n",
       "       [ 1.],\n",
       "       [ 1.],\n",
       "       [ 1.],\n",
       "       [ 1.],\n",
       "       [ 1.],\n",
       "       [ 0.],\n",
       "       [ 1.],\n",
       "       [ 1.],\n",
       "       [ 1.],\n",
       "       [ 0.],\n",
       "       [ 0.],\n",
       "       [ 1.],\n",
       "       [ 0.],\n",
       "       [ 1.],\n",
       "       [ 0.],\n",
       "       [ 0.],\n",
       "       [ 0.],\n",
       "       [ 0.],\n",
       "       [ 1.],\n",
       "       [ 0.],\n",
       "       [ 1.],\n",
       "       [ 0.],\n",
       "       [ 0.],\n",
       "       [ 1.],\n",
       "       [ 0.],\n",
       "       [ 0.]])"
      ]
     },
     "execution_count": 61,
     "metadata": {},
     "output_type": "execute_result"
    }
   ],
   "source": [
    "gf.predict(X, coeffs)"
   ]
  },
  {
   "cell_type": "code",
   "execution_count": 62,
   "metadata": {
    "collapsed": false
   },
   "outputs": [
    {
     "data": {
      "text/plain": [
       "-10174.362285674944"
      ]
     },
     "execution_count": 62,
     "metadata": {},
     "output_type": "execute_result"
    }
   ],
   "source": [
    "gf.log_likelihood(X, y, coeffs, 0)"
   ]
  },
  {
   "cell_type": "code",
   "execution_count": 63,
   "metadata": {
    "collapsed": false
   },
   "outputs": [
    {
     "data": {
      "text/plain": [
       "array([ 24.12309126, -16.79387038])"
      ]
     },
     "execution_count": 63,
     "metadata": {},
     "output_type": "execute_result"
    }
   ],
   "source": [
    "gf.log_likelihood_gradient(X, y, coeffs)"
   ]
  },
  {
   "cell_type": "markdown",
   "metadata": {},
   "source": [
    "---"
   ]
  },
  {
   "cell_type": "code",
   "execution_count": 64,
   "metadata": {
    "collapsed": false
   },
   "outputs": [],
   "source": [
    "from Gradient_functions import log_likelihood, log_likelihood_gradient, predict"
   ]
  },
  {
   "cell_type": "code",
   "execution_count": 65,
   "metadata": {
    "collapsed": true
   },
   "outputs": [],
   "source": [
    "from Gradient_class import GradientAscent"
   ]
  },
  {
   "cell_type": "code",
   "execution_count": 66,
   "metadata": {
    "collapsed": true
   },
   "outputs": [],
   "source": [
    "# __init__(self, cost, gradient, predict_func, fit_intercept=True, scale=False)\n",
    "gd = GradientAscent(log_likelihood, log_likelihood_gradient, predict)"
   ]
  },
  {
   "cell_type": "code",
   "execution_count": 67,
   "metadata": {
    "collapsed": false
   },
   "outputs": [
    {
     "name": "stdout",
     "output_type": "stream",
     "text": [
      "Cost fn: -6931.281859\n",
      "Cost fn: 21145.3032014\n",
      "Cost fn: 53583.0460687\n",
      "Cost fn: 91888.8947545\n",
      "Cost fn: 140074.21791\n",
      "Cost fn: 203135.544726\n",
      "Cost fn: 288053.20045\n",
      "Cost fn: 404897.38785\n",
      "Cost fn: 568375.610742\n",
      "Cost fn: nan\n"
     ]
    }
   ],
   "source": [
    "gd.run(X, y)\n"
   ]
  },
  {
   "cell_type": "code",
   "execution_count": null,
   "metadata": {
    "collapsed": true
   },
   "outputs": [],
   "source": []
  },
  {
   "cell_type": "code",
   "execution_count": null,
   "metadata": {
    "collapsed": true
   },
   "outputs": [],
   "source": []
  },
  {
   "cell_type": "code",
   "execution_count": null,
   "metadata": {
    "collapsed": true
   },
   "outputs": [],
   "source": []
  },
  {
   "cell_type": "code",
   "execution_count": null,
   "metadata": {
    "collapsed": true
   },
   "outputs": [],
   "source": []
  },
  {
   "cell_type": "code",
   "execution_count": null,
   "metadata": {
    "collapsed": true
   },
   "outputs": [],
   "source": []
  },
  {
   "cell_type": "code",
   "execution_count": null,
   "metadata": {
    "collapsed": true
   },
   "outputs": [],
   "source": []
  },
  {
   "cell_type": "code",
   "execution_count": null,
   "metadata": {
    "collapsed": true
   },
   "outputs": [],
   "source": []
  },
  {
   "cell_type": "code",
   "execution_count": null,
   "metadata": {
    "collapsed": true
   },
   "outputs": [],
   "source": []
  },
  {
   "cell_type": "code",
   "execution_count": null,
   "metadata": {
    "collapsed": true
   },
   "outputs": [],
   "source": []
  },
  {
   "cell_type": "code",
   "execution_count": null,
   "metadata": {
    "collapsed": true
   },
   "outputs": [],
   "source": []
  },
  {
   "cell_type": "code",
   "execution_count": null,
   "metadata": {
    "collapsed": true
   },
   "outputs": [],
   "source": []
  },
  {
   "cell_type": "code",
   "execution_count": null,
   "metadata": {
    "collapsed": true
   },
   "outputs": [],
   "source": []
  },
  {
   "cell_type": "code",
   "execution_count": null,
   "metadata": {
    "collapsed": true
   },
   "outputs": [],
   "source": []
  },
  {
   "cell_type": "code",
   "execution_count": null,
   "metadata": {
    "collapsed": true
   },
   "outputs": [],
   "source": []
  },
  {
   "cell_type": "code",
   "execution_count": null,
   "metadata": {
    "collapsed": true
   },
   "outputs": [],
   "source": []
  },
  {
   "cell_type": "code",
   "execution_count": null,
   "metadata": {
    "collapsed": true
   },
   "outputs": [],
   "source": []
  },
  {
   "cell_type": "code",
   "execution_count": null,
   "metadata": {
    "collapsed": true
   },
   "outputs": [],
   "source": []
  },
  {
   "cell_type": "code",
   "execution_count": null,
   "metadata": {
    "collapsed": true
   },
   "outputs": [],
   "source": []
  },
  {
   "cell_type": "code",
   "execution_count": null,
   "metadata": {
    "collapsed": true
   },
   "outputs": [],
   "source": []
  },
  {
   "cell_type": "code",
   "execution_count": null,
   "metadata": {
    "collapsed": true
   },
   "outputs": [],
   "source": []
  },
  {
   "cell_type": "code",
   "execution_count": null,
   "metadata": {
    "collapsed": true
   },
   "outputs": [],
   "source": []
  }
 ],
 "metadata": {
  "kernelspec": {
   "display_name": "Python 2",
   "language": "python",
   "name": "python2"
  },
  "language_info": {
   "codemirror_mode": {
    "name": "ipython",
    "version": 2
   },
   "file_extension": ".py",
   "mimetype": "text/x-python",
   "name": "python",
   "nbconvert_exporter": "python",
   "pygments_lexer": "ipython2",
   "version": "2.7.11"
  }
 },
 "nbformat": 4,
 "nbformat_minor": 0
}
