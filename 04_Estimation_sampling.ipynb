{
 "cells": [
  {
   "cell_type": "markdown",
   "metadata": {},
   "source": [
    "## Estimation sampling\n",
    "---\n",
    "**Elo notes**"
   ]
  },
  {
   "cell_type": "markdown",
   "metadata": {},
   "source": [
    "Sample size determination is the act of choosing the number of observations or replicates to include in a statistical sample. \n",
    "\n",
    "The sample size is an important feature of any empirical study in which the goal is to make inferences about a population from a sample. In practice, the sample size used in a study is determined based on the expense of data collection, and the need to have **sufficient statistical power**.\n",
    "\n",
    "In complicated studies there may be several different sample sizes involved in the study: for example, in a stratified survey there would be different sample sizes for each stratum. In a census, data are collected on the entire population, hence the sample size is equal to the population size. In experimental design, where a study may be divided into different treatment groups, there may be different sample sizes for each group.\n",
    "\n",
    "Sample sizes may be chosen in several different ways:\n",
    "\n",
    "- experience - For example, include those items readily available or convenient to collect. A choice of small sample sizes, though sometimes necessary, can result in wide confidence intervals or risks of errors in statistical hypothesis testing.\n",
    "- using a target variance for an estimate to be derived from the sample eventually obtained\n",
    "- using a target for the power of a statistical test to be applied once the sample is collected.\n",
    "- using a confidence level determines how accurate a result will turn out with lower chances of error.\n"
   ]
  },
  {
   "cell_type": "markdown",
   "metadata": {},
   "source": [
    "Larger sample sizes generally lead to increased precision when estimating unknown parameters. Several fundamental facts of mathematical statistics describe this phenomenon, including the law of large numbers and the central limit theorem.\n",
    "\n",
    "In some situations, the increase in precision for larger sample sizes is minimal, or even non-existent. This can result from the presence of systematic errors or strong dependence in the data, or if the data follows a heavy-tailed distribution.\n",
    "\n",
    "### Required sample sizes for hypothesis tests \n",
    "\n",
    "A common problem faced by statisticians is calculating the sample size required to yield a certain power for a test, given a predetermined Type I error rate $α$. "
   ]
  },
  {
   "cell_type": "markdown",
   "metadata": {},
   "source": [
    "### Parametric and nonparametric procedures are two broad classifications of statistical methods\n",
    "\n",
    "##### Parametric\n",
    "- Based on assumptions about the distribution of the underlying population and its parameters from which the sample was taken\n",
    "\n",
    "- If the data deviates strongly from the assumptions, using a parametric procedure could lead to incorrect conclusions\n",
    "\n",
    "##### Nonparametric\n",
    "\n",
    "- Do not rely on assumptions about the shape or parameters of the underlying population distribution\n",
    "\n",
    "- Generally have less power than the corresponding parametric procedure\n",
    "- Interpretation can also be more difficult than parametric method\n"
   ]
  },
  {
   "cell_type": "markdown",
   "metadata": {},
   "source": [
    "### Maximum likelihood estimation\n",
    "\n",
    "In statistics, maximum likelihood estimation (MLE) is a method of estimating the parameters of a statistical model given observations, by finding the parameter values that maximize the likelihood of making the observations given the parameters. \n",
    "\n",
    "MLE can be seen as a special case of the maximum a posteriori estimation (MAP) that assumes a uniform prior distribution of the parameters, or as a variant of the MAP that ignores the prior and which therefore is unregularized.\n",
    "\n",
    "In general, for a fixed set of data and underlying statistical model, the method of maximum likelihood selects the set of values of the model parameters that maximizes the likelihood function. Intuitively, this maximizes the \"agreement\" of the selected model with the observed data, and for discrete random variables it indeed maximizes the probability of the observed data under the resulting distribution. Maximum likelihood estimation gives a unified approach to estimation, which is well-defined in the case of the normal distribution and many other problems.\n",
    "\n",
    "The method of maximum likelihood estimates $θ_0$ by finding a value of $θ$ that maximizes ${\\displaystyle {\\hat {\\ell }}(\\theta ;x)}$. This method of estimation defines a maximum likelihood estimator (MLE) of θ0:\n",
    "\n",
    "${\\displaystyle \\{{\\hat {\\theta }}_{\\mathrm {mle} }\\}\\subseteq \\{{\\underset {\\theta \\in \\Theta }{\\operatorname {arg\\,max} }}\\ {\\hat {\\ell }}(\\theta \\,;\\,x_{1},\\ldots ,x_{n})\\},}$\n",
    "\n",
    "if a maximum exists. An MLE estimate is the same regardless of whether we maximize the likelihood or the log-likelihood function, since log is a monotonically increasing function.\n",
    "\n",
    "In the exposition above, it is assumed that the data are independent and identically distributed.\n",
    "\n",
    "A maximum likelihood estimator is an __extremum estimator__ obtained by maximizing, as a function of $θ$, the __objective function__ (c.f. __loss function__) $\\hat\\ell(\\theta\\,;x)$. If the data are __independent and identically distributed__, then we have \n",
    "\n",
    "$$\n",
    "    \\hat\\ell(\\theta\\,;x)=\\frac1n \\sum_{i=1}^n \\ln f(x_i\\mid\\theta),\n",
    "$$ \n",
    "\n",
    "this being the sample analogue of the expected log-likelihood \n",
    "\n",
    "$$\\ell(\\theta) = \\operatorname{E}[\\, \\ln f(x_i\\mid\\theta) \\,]$$"
   ]
  },
  {
   "cell_type": "markdown",
   "metadata": {},
   "source": [
    "### Bootstrapping -  ensemble of discrete kernel density estimators\n",
    "\n",
    "Suppose we have,\n",
    "$$\n",
    "X_1, \\ldots, X_n \\sim F\n",
    "$$\n",
    "We want to compute $T_n = g(X_1, \\ldots, X_n)$. (When we are talking about CLT, $g$ is just the mean).\n",
    "\n",
    "##### Bootstrap Variance Estimation\n",
    "1. Draw $X_1^*, \\ldots, X_n^* \\sim F_n^* \\ \\ \\ \\leftarrow \\text{bootstrap world version of } F$\n",
    "2. Compute $T_1^* = g(X_1*, \\ldots, X_n^*)$\n",
    "3. Repeat $B$ times to get $T_1^*, \\ldots T_n^*$. That is, $B$ different bootstrap estimates of the statistic.\n",
    "4. Compute the sample variance of $T_1*, \\ldots, T_n^*$.\n",
    "\\begin{align*}\n",
    "    v_{boot} &= \\frac{1}{B-1} \\sum_{i=1}^n (T_i^* - \\bar{T^*})^2 \\\\\n",
    "    se_{boot} &= \\sqrt{v_{boot}}\n",
    "\\end{align*}\n",
    "\n",
    "\n",
    "##### Bootstrap confidence intervals\n",
    "\n",
    "__Normal Interval:__ $\\hat{T} \\pm Z_{\\frac{\\alpha}{2}} \\cdot se_{boot}$\n",
    "\n",
    "__Percentile Method:__ $C_n = \\left(T_{\\frac{\\alpha}{2}}^*, T_{1-\\frac{\\alpha}{2}}^* \\right)$\n",
    "\n",
    "That is, to get a 95% confidence interval, just throw away the lowest and highest 2.5% of bootstrap estimates."
   ]
  },
  {
   "cell_type": "markdown",
   "metadata": {},
   "source": [
    "### Central limit theorem\n",
    "\n",
    "In probability theory, the central limit theorem (CLT) establishes that, for the most commonly studied scenarios, when independent random variables are added, their sum tends toward a normal distribution (commonly known as a bell curve) even if the original variables themselves are not normally distributed. In more precise terms, given certain conditions, the arithmetic mean of a sufficiently large number of iterates of independent random variables, each with a well-defined (finite) expected value and finite variance, will be approximately normally distributed, regardless of the underlying distribution.\n",
    "\n",
    "The theorem is a key concept in probability theory because it implies that probabilistic and statistical methods that work for normal distributions can be applicable to many problems involving other types of distributions.\n",
    "\n",
    "\n",
    "\n",
    "### Variance\n",
    "\n",
    "The variance of a random variable __X__ is the __expected value__ of the squared deviation from the __mean__ of __X__, $\\mu = \\operatorname{E}[X]$:\n",
    "\n",
    "$$ \\operatorname{Var}(X) = \\operatorname{E}\\left[(X - \\mu)^2 \\right]$$\n",
    "\n",
    "This definition encompasses random variables that are generated by processes that are __discrete random variable|discrete__, __continuous random variable|continuous__, __Cantor distribution|neither__, or mixed. The variance can also be thought of as the __covariance__ of a random variable with itself:\n",
    "\n",
    "$$\\operatorname{Var}(X) = \\operatorname{Cov}(X, X)$$ \n",
    "\n",
    "\n",
    "---\n",
    "### Distributions\n",
    "\n",
    "Often we have to identify what distribution we should use to model a real-life situation.\n",
    "\n",
    "The following is a short review of the distributions.\n",
    "\n",
    "\n",
    "Discrete:\n",
    "\n",
    "- Bernoulli\n",
    "    * Model one instance of a success or failure trial (p)\n",
    "\n",
    "- Binomial\n",
    "    * Number of successes out of a number of trials (n), each with probability of success (p)\n",
    "\n",
    "- Poisson\n",
    "    * Model the number of events occurring in a fixed interval\n",
    "    * Events occur at an average rate (lambda) independently of the last event\n",
    "\n",
    "- Geometric\n",
    "    * Sequence of Bernoulli trials until first success (p)\n",
    "\n",
    "\n",
    "Continuous:\n",
    "\n",
    "- Uniform\n",
    "    * Any of the values in the interval of a to b are equally likely\n",
    "\n",
    "- Gaussian\n",
    "    * Commonly occurring distribution shaped like a bell curve\n",
    "    * Often comes up because of the Central Limit Theorem (to be discussed later)\n",
    "\n",
    "- Exponential\n",
    "    * Model time between Poisson events\n",
    "    * Events occur continuously and independently\n",
    "\n"
   ]
  },
  {
   "cell_type": "code",
   "execution_count": 2,
   "metadata": {
    "collapsed": false
   },
   "outputs": [],
   "source": [
    "from __future__ import division\n",
    "\n",
    "from scipy.stats.kde import gaussian_kde\n",
    "\n",
    "import pandas as pd\n",
    "import numpy as np\n",
    "import scipy.stats as scis\n",
    "import math\n",
    "\n",
    "import seaborn as sea\n",
    "sea.set_palette('Set2')\n",
    "\n",
    "import matplotlib.pyplot as plt\n",
    "\n",
    "% matplotlib inline"
   ]
  },
  {
   "cell_type": "code",
   "execution_count": 6,
   "metadata": {
    "collapsed": true
   },
   "outputs": [],
   "source": [
    "df = pd.read_csv('rainfall.csv')"
   ]
  },
  {
   "cell_type": "code",
   "execution_count": 7,
   "metadata": {
    "collapsed": false
   },
   "outputs": [
    {
     "data": {
      "text/html": [
       "<div>\n",
       "<table border=\"1\" class=\"dataframe\">\n",
       "  <thead>\n",
       "    <tr style=\"text-align: right;\">\n",
       "      <th></th>\n",
       "      <th>Year</th>\n",
       "      <th>Jan</th>\n",
       "      <th>Feb</th>\n",
       "      <th>Mar</th>\n",
       "      <th>Apr</th>\n",
       "      <th>May</th>\n",
       "      <th>Jun</th>\n",
       "      <th>Jul</th>\n",
       "      <th>Aug</th>\n",
       "      <th>Sep</th>\n",
       "      <th>Oct</th>\n",
       "      <th>Nov</th>\n",
       "      <th>Dec</th>\n",
       "    </tr>\n",
       "  </thead>\n",
       "  <tbody>\n",
       "    <tr>\n",
       "      <th>0</th>\n",
       "      <td>1871</td>\n",
       "      <td>2.76</td>\n",
       "      <td>4.58</td>\n",
       "      <td>5.01</td>\n",
       "      <td>4.13</td>\n",
       "      <td>3.30</td>\n",
       "      <td>2.98</td>\n",
       "      <td>1.58</td>\n",
       "      <td>2.36</td>\n",
       "      <td>0.95</td>\n",
       "      <td>1.31</td>\n",
       "      <td>2.13</td>\n",
       "      <td>1.65</td>\n",
       "    </tr>\n",
       "    <tr>\n",
       "      <th>1</th>\n",
       "      <td>1872</td>\n",
       "      <td>2.32</td>\n",
       "      <td>2.11</td>\n",
       "      <td>3.14</td>\n",
       "      <td>5.91</td>\n",
       "      <td>3.09</td>\n",
       "      <td>5.17</td>\n",
       "      <td>6.10</td>\n",
       "      <td>1.65</td>\n",
       "      <td>4.50</td>\n",
       "      <td>1.58</td>\n",
       "      <td>2.25</td>\n",
       "      <td>2.38</td>\n",
       "    </tr>\n",
       "    <tr>\n",
       "      <th>2</th>\n",
       "      <td>1873</td>\n",
       "      <td>2.96</td>\n",
       "      <td>7.14</td>\n",
       "      <td>4.11</td>\n",
       "      <td>3.59</td>\n",
       "      <td>6.31</td>\n",
       "      <td>4.20</td>\n",
       "      <td>4.63</td>\n",
       "      <td>2.36</td>\n",
       "      <td>1.81</td>\n",
       "      <td>4.28</td>\n",
       "      <td>4.36</td>\n",
       "      <td>5.94</td>\n",
       "    </tr>\n",
       "  </tbody>\n",
       "</table>\n",
       "</div>"
      ],
      "text/plain": [
       "   Year   Jan   Feb   Mar   Apr   May   Jun   Jul   Aug   Sep   Oct   Nov  \\\n",
       "0  1871  2.76  4.58  5.01  4.13  3.30  2.98  1.58  2.36  0.95  1.31  2.13   \n",
       "1  1872  2.32  2.11  3.14  5.91  3.09  5.17  6.10  1.65  4.50  1.58  2.25   \n",
       "2  1873  2.96  7.14  4.11  3.59  6.31  4.20  4.63  2.36  1.81  4.28  4.36   \n",
       "\n",
       "    Dec  \n",
       "0  1.65  \n",
       "1  2.38  \n",
       "2  5.94  "
      ]
     },
     "execution_count": 7,
     "metadata": {},
     "output_type": "execute_result"
    }
   ],
   "source": [
    "df[:3]"
   ]
  },
  {
   "cell_type": "code",
   "execution_count": 8,
   "metadata": {
    "collapsed": false
   },
   "outputs": [
    {
     "name": "stdout",
     "output_type": "stream",
     "text": [
      "<class 'pandas.core.frame.DataFrame'>\n",
      "RangeIndex: 140 entries, 0 to 139\n",
      "Data columns (total 13 columns):\n",
      "Year    140 non-null int64\n",
      "Jan     140 non-null float64\n",
      "Feb     140 non-null float64\n",
      "Mar     140 non-null float64\n",
      "Apr     140 non-null float64\n",
      "May     140 non-null float64\n",
      "Jun     140 non-null float64\n",
      "Jul     140 non-null float64\n",
      "Aug     140 non-null float64\n",
      "Sep     140 non-null float64\n",
      "Oct     140 non-null float64\n",
      "Nov     140 non-null float64\n",
      "Dec     140 non-null float64\n",
      "dtypes: float64(12), int64(1)\n",
      "memory usage: 14.3 KB\n"
     ]
    }
   ],
   "source": [
    "df.info()"
   ]
  },
  {
   "cell_type": "code",
   "execution_count": 9,
   "metadata": {
    "collapsed": false
   },
   "outputs": [
    {
     "data": {
      "text/html": [
       "<div>\n",
       "<table border=\"1\" class=\"dataframe\">\n",
       "  <thead>\n",
       "    <tr style=\"text-align: right;\">\n",
       "      <th></th>\n",
       "      <th>count</th>\n",
       "      <th>mean</th>\n",
       "      <th>std</th>\n",
       "      <th>min</th>\n",
       "      <th>25%</th>\n",
       "      <th>50%</th>\n",
       "      <th>75%</th>\n",
       "      <th>max</th>\n",
       "    </tr>\n",
       "  </thead>\n",
       "  <tbody>\n",
       "    <tr>\n",
       "      <th>Year</th>\n",
       "      <td>140.0</td>\n",
       "      <td>1940.842857</td>\n",
       "      <td>40.951150</td>\n",
       "      <td>1871.00</td>\n",
       "      <td>1905.7500</td>\n",
       "      <td>1940.500</td>\n",
       "      <td>1976.2500</td>\n",
       "      <td>2011.00</td>\n",
       "    </tr>\n",
       "    <tr>\n",
       "      <th>Jan</th>\n",
       "      <td>140.0</td>\n",
       "      <td>4.544571</td>\n",
       "      <td>2.629976</td>\n",
       "      <td>0.19</td>\n",
       "      <td>2.8100</td>\n",
       "      <td>3.790</td>\n",
       "      <td>5.8900</td>\n",
       "      <td>14.75</td>\n",
       "    </tr>\n",
       "    <tr>\n",
       "      <th>Feb</th>\n",
       "      <td>140.0</td>\n",
       "      <td>4.106857</td>\n",
       "      <td>2.354719</td>\n",
       "      <td>0.63</td>\n",
       "      <td>2.3175</td>\n",
       "      <td>3.715</td>\n",
       "      <td>5.0525</td>\n",
       "      <td>12.37</td>\n",
       "    </tr>\n",
       "    <tr>\n",
       "      <th>Mar</th>\n",
       "      <td>140.0</td>\n",
       "      <td>4.941500</td>\n",
       "      <td>2.284532</td>\n",
       "      <td>0.85</td>\n",
       "      <td>3.3400</td>\n",
       "      <td>4.565</td>\n",
       "      <td>6.0325</td>\n",
       "      <td>12.35</td>\n",
       "    </tr>\n",
       "    <tr>\n",
       "      <th>Apr</th>\n",
       "      <td>140.0</td>\n",
       "      <td>4.210429</td>\n",
       "      <td>2.035109</td>\n",
       "      <td>0.52</td>\n",
       "      <td>2.8675</td>\n",
       "      <td>3.890</td>\n",
       "      <td>5.1125</td>\n",
       "      <td>11.84</td>\n",
       "    </tr>\n",
       "    <tr>\n",
       "      <th>May</th>\n",
       "      <td>140.0</td>\n",
       "      <td>4.338929</td>\n",
       "      <td>2.306433</td>\n",
       "      <td>0.83</td>\n",
       "      <td>2.8775</td>\n",
       "      <td>4.075</td>\n",
       "      <td>5.5400</td>\n",
       "      <td>16.43</td>\n",
       "    </tr>\n",
       "    <tr>\n",
       "      <th>Jun</th>\n",
       "      <td>140.0</td>\n",
       "      <td>3.879071</td>\n",
       "      <td>2.250548</td>\n",
       "      <td>0.21</td>\n",
       "      <td>2.3100</td>\n",
       "      <td>3.320</td>\n",
       "      <td>4.9875</td>\n",
       "      <td>11.95</td>\n",
       "    </tr>\n",
       "    <tr>\n",
       "      <th>Jul</th>\n",
       "      <td>140.0</td>\n",
       "      <td>3.885214</td>\n",
       "      <td>1.946606</td>\n",
       "      <td>0.46</td>\n",
       "      <td>2.4500</td>\n",
       "      <td>3.570</td>\n",
       "      <td>5.1775</td>\n",
       "      <td>9.43</td>\n",
       "    </tr>\n",
       "    <tr>\n",
       "      <th>Aug</th>\n",
       "      <td>140.0</td>\n",
       "      <td>3.336857</td>\n",
       "      <td>1.917136</td>\n",
       "      <td>0.51</td>\n",
       "      <td>1.8675</td>\n",
       "      <td>2.880</td>\n",
       "      <td>4.2775</td>\n",
       "      <td>9.60</td>\n",
       "    </tr>\n",
       "    <tr>\n",
       "      <th>Sep</th>\n",
       "      <td>140.0</td>\n",
       "      <td>3.377286</td>\n",
       "      <td>2.230610</td>\n",
       "      <td>0.13</td>\n",
       "      <td>1.7900</td>\n",
       "      <td>3.055</td>\n",
       "      <td>4.5275</td>\n",
       "      <td>11.44</td>\n",
       "    </tr>\n",
       "    <tr>\n",
       "      <th>Oct</th>\n",
       "      <td>140.0</td>\n",
       "      <td>2.610500</td>\n",
       "      <td>1.661741</td>\n",
       "      <td>0.02</td>\n",
       "      <td>1.4475</td>\n",
       "      <td>2.230</td>\n",
       "      <td>3.5750</td>\n",
       "      <td>8.35</td>\n",
       "    </tr>\n",
       "    <tr>\n",
       "      <th>Nov</th>\n",
       "      <td>140.0</td>\n",
       "      <td>3.694857</td>\n",
       "      <td>1.922060</td>\n",
       "      <td>0.54</td>\n",
       "      <td>2.1375</td>\n",
       "      <td>3.435</td>\n",
       "      <td>5.0950</td>\n",
       "      <td>9.04</td>\n",
       "    </tr>\n",
       "    <tr>\n",
       "      <th>Dec</th>\n",
       "      <td>140.0</td>\n",
       "      <td>4.190714</td>\n",
       "      <td>2.329646</td>\n",
       "      <td>0.91</td>\n",
       "      <td>2.4575</td>\n",
       "      <td>3.910</td>\n",
       "      <td>5.3850</td>\n",
       "      <td>13.63</td>\n",
       "    </tr>\n",
       "  </tbody>\n",
       "</table>\n",
       "</div>"
      ],
      "text/plain": [
       "      count         mean        std      min        25%       50%        75%  \\\n",
       "Year  140.0  1940.842857  40.951150  1871.00  1905.7500  1940.500  1976.2500   \n",
       "Jan   140.0     4.544571   2.629976     0.19     2.8100     3.790     5.8900   \n",
       "Feb   140.0     4.106857   2.354719     0.63     2.3175     3.715     5.0525   \n",
       "Mar   140.0     4.941500   2.284532     0.85     3.3400     4.565     6.0325   \n",
       "Apr   140.0     4.210429   2.035109     0.52     2.8675     3.890     5.1125   \n",
       "May   140.0     4.338929   2.306433     0.83     2.8775     4.075     5.5400   \n",
       "Jun   140.0     3.879071   2.250548     0.21     2.3100     3.320     4.9875   \n",
       "Jul   140.0     3.885214   1.946606     0.46     2.4500     3.570     5.1775   \n",
       "Aug   140.0     3.336857   1.917136     0.51     1.8675     2.880     4.2775   \n",
       "Sep   140.0     3.377286   2.230610     0.13     1.7900     3.055     4.5275   \n",
       "Oct   140.0     2.610500   1.661741     0.02     1.4475     2.230     3.5750   \n",
       "Nov   140.0     3.694857   1.922060     0.54     2.1375     3.435     5.0950   \n",
       "Dec   140.0     4.190714   2.329646     0.91     2.4575     3.910     5.3850   \n",
       "\n",
       "          max  \n",
       "Year  2011.00  \n",
       "Jan     14.75  \n",
       "Feb     12.37  \n",
       "Mar     12.35  \n",
       "Apr     11.84  \n",
       "May     16.43  \n",
       "Jun     11.95  \n",
       "Jul      9.43  \n",
       "Aug      9.60  \n",
       "Sep     11.44  \n",
       "Oct      8.35  \n",
       "Nov      9.04  \n",
       "Dec     13.63  "
      ]
     },
     "execution_count": 9,
     "metadata": {},
     "output_type": "execute_result"
    }
   ],
   "source": [
    "df.describe().T"
   ]
  },
  {
   "cell_type": "code",
   "execution_count": 10,
   "metadata": {
    "collapsed": false
   },
   "outputs": [
    {
     "data": {
      "image/png": "[encoded data removed]",
      "text/plain": [
       "<matplotlib.figure.Figure at 0x1170b8fd0>"
      ]
     },
     "metadata": {},
     "output_type": "display_data"
    }
   ],
   "source": [
    "df.Jan.hist(bins=30, edgecolor = 'none');"
   ]
  },
  {
   "cell_type": "markdown",
   "metadata": {},
   "source": [
    "### Method of Moments Statistics - Parametric Estimation\n",
    "\n",
    "\n",
    "##### Normal distribution\n",
    "\n",
    "\n",
    "$$ z = {x- \\mu \\over \\sigma} $$\n",
    "\n",
    "In mathematical statistics, a random variable __X__ is __standardized__ by subtracting its expected value $\\operatorname{E}[X]$ and dividing the difference by its standard deviation $\\sigma(X) = \\sqrt{\\operatorname{Var}(X)}:$\n",
    "\n",
    "$$Z = {X - \\operatorname{E}[X] \\over \\sigma(X)}$$\n",
    "\n",
    "If the random variable under consideration is the __sample mean__ of a random sample $ \\ X_1,\\dots, X_n$ of __X__:\n",
    "\n",
    "$$\\bar{X}={1 \\over n} \\sum_{i=1}^n X_i$$\n",
    "\n",
    "then the standardized version is\n",
    "\n",
    "$$Z = \\frac{\\bar{X}-\\operatorname{E}[X]}{\\sigma(X)/\\sqrt{n}}$$"
   ]
  },
  {
   "cell_type": "code",
   "execution_count": 11,
   "metadata": {
    "collapsed": false
   },
   "outputs": [
    {
     "name": "stdout",
     "output_type": "stream",
     "text": [
      "Mean:4.54457142857, Variance:6.91677463515\n"
     ]
    }
   ],
   "source": [
    "# Sample\n",
    "smean = df.Jan.mean()\n",
    "svariance = df.Jan.var()\n",
    "print 'Mean:{}, Variance:{}'.format(smean, svariance)"
   ]
  },
  {
   "cell_type": "code",
   "execution_count": 12,
   "metadata": {
    "collapsed": false
   },
   "outputs": [],
   "source": [
    "# Complete df\n",
    "mean = df.mean()\n",
    "variance = df.var()\n",
    "# sd: standar deviation \n",
    "sd = variance * 0.5"
   ]
  },
  {
   "cell_type": "code",
   "execution_count": 13,
   "metadata": {
    "collapsed": false
   },
   "outputs": [
    {
     "data": {
      "text/plain": [
       "4.5445714285714303"
      ]
     },
     "execution_count": 13,
     "metadata": {},
     "output_type": "execute_result"
    }
   ],
   "source": [
    "mean.Jan"
   ]
  },
  {
   "cell_type": "code",
   "execution_count": 14,
   "metadata": {
    "collapsed": true
   },
   "outputs": [],
   "source": [
    "normaljan = scis.norm(mean.Jan, sd.Jan)"
   ]
  },
  {
   "cell_type": "markdown",
   "metadata": {},
   "source": [
    "##### Gamma distribution\n",
    "\n",
    "[I have to stack overflow things](https://www.rocscience.com/help/swedge/webhelp/swedge/Gamma_Distribution.htm)\n",
    "\n",
    "$$\\hat{a}=\\frac{\\bar{x}^2}{s^2}$$\n",
    "\n",
    "$$\\hat{\\beta}=\\frac{\\bar{x}}{s^2}$$"
   ]
  },
  {
   "cell_type": "code",
   "execution_count": 15,
   "metadata": {
    "collapsed": true
   },
   "outputs": [],
   "source": [
    "beta = mean / variance\n",
    "alpha = mean**2.0 / variance\n",
    "gamma = scis.gamma(a= alpha, scale=1.0/beta)\n",
    "\n",
    "# Gamma January\n",
    "gammajan = scis.gamma(a=alpha.Jan, scale=1.0/beta.Jan)"
   ]
  },
  {
   "cell_type": "code",
   "execution_count": 16,
   "metadata": {
    "collapsed": false
   },
   "outputs": [
    {
     "data": {
      "text/plain": [
       "Year    2246.200586\n",
       "Jan        2.985948\n",
       "Feb        3.041872\n",
       "Mar        4.678678\n",
       "Apr        4.280328\n",
       "May        3.539022\n",
       "Jun        2.970837\n",
       "Jul        3.983584\n",
       "Aug        3.029488\n",
       "Sep        2.292389\n",
       "Oct        2.467861\n",
       "Nov        3.695399\n",
       "Dec        3.235907\n",
       "dtype: float64"
      ]
     },
     "execution_count": 16,
     "metadata": {},
     "output_type": "execute_result"
    }
   ],
   "source": [
    "alpha"
   ]
  },
  {
   "cell_type": "code",
   "execution_count": 17,
   "metadata": {
    "collapsed": false
   },
   "outputs": [
    {
     "data": {
      "text/plain": [
       "Year    1.157333\n",
       "Jan     0.657036\n",
       "Feb     0.740681\n",
       "Mar     0.946813\n",
       "Apr     1.016602\n",
       "May     0.815644\n",
       "Jun     0.765863\n",
       "Jul     1.025319\n",
       "Aug     0.907887\n",
       "Sep     0.678767\n",
       "Oct     0.945360\n",
       "Nov     1.000147\n",
       "Dec     0.772161\n",
       "dtype: float64"
      ]
     },
     "execution_count": 17,
     "metadata": {},
     "output_type": "execute_result"
    }
   ],
   "source": [
    "beta"
   ]
  },
  {
   "cell_type": "code",
   "execution_count": 18,
   "metadata": {
    "collapsed": false
   },
   "outputs": [
    {
     "data": {
      "text/plain": [
       "2.9859480117271149"
      ]
     },
     "execution_count": 18,
     "metadata": {},
     "output_type": "execute_result"
    }
   ],
   "source": [
    "alpha.Jan"
   ]
  },
  {
   "cell_type": "markdown",
   "metadata": {},
   "source": [
    "##### Poisson distribution\n",
    "\n",
    "$$E[x]=\\lambda$$"
   ]
  },
  {
   "cell_type": "code",
   "execution_count": 20,
   "metadata": {
    "collapsed": false
   },
   "outputs": [],
   "source": [
    "lambdajan = mean.Jan\n",
    "\n",
    "poissonjan = scis.poisson(lambdajan)"
   ]
  },
  {
   "cell_type": "code",
   "execution_count": 21,
   "metadata": {
    "collapsed": false
   },
   "outputs": [
    {
     "data": {
      "image/png": "[encoded data removed]",
      "text/plain": [
       "<matplotlib.figure.Figure at 0x1172e2050>"
      ]
     },
     "metadata": {},
     "output_type": "display_data"
    }
   ],
   "source": [
    "ax = df['Jan'].hist(bins=20, normed=True, figsize=(10, 6), edgecolor='none', grid=0)\n",
    "\n",
    "x = np.linspace(0, 16)\n",
    "_ = plt.plot(x, gammajan.pdf(x), '-', label='Gamma')\n",
    "\n",
    "x = np.arange(0, 17)\n",
    "_ = plt.plot(x, poissonjan.pmf(x), 'o-', label='Poisson')\n",
    "\n",
    "x = np.arange(0, 17)\n",
    "_ = plt.plot(x, normaljan.pdf(x), 'o-', label='Normal')\n",
    "\n",
    "\n",
    "_ = ax.set_xlabel('Rainfall')\n",
    "_ = ax.set_ylabel('Probability Density \\n and Probability Mass(Poisson)')\n",
    "_ = plt.legend()"
   ]
  },
  {
   "cell_type": "code",
   "execution_count": 23,
   "metadata": {
    "collapsed": false
   },
   "outputs": [
    {
     "data": {
      "text/plain": [
       "Index([u'Year', u'Jan', u'Feb', u'Mar', u'Apr', u'May', u'Jun', u'Jul', u'Aug',\n",
       "       u'Sep', u'Oct', u'Nov', u'Dec'],\n",
       "      dtype='object')"
      ]
     },
     "execution_count": 23,
     "metadata": {},
     "output_type": "execute_result"
    }
   ],
   "source": [
    "df.columns"
   ]
  },
  {
   "cell_type": "code",
   "execution_count": 24,
   "metadata": {
    "collapsed": false
   },
   "outputs": [],
   "source": [
    "months = df.columns[1:]"
   ]
  },
  {
   "cell_type": "code",
   "execution_count": 25,
   "metadata": {
    "collapsed": false
   },
   "outputs": [
    {
     "data": {
      "text/plain": [
       "Index([u'Jan', u'Feb', u'Mar', u'Apr', u'May', u'Jun', u'Jul', u'Aug', u'Sep',\n",
       "       u'Oct', u'Nov', u'Dec'],\n",
       "      dtype='object')"
      ]
     },
     "execution_count": 25,
     "metadata": {},
     "output_type": "execute_result"
    }
   ],
   "source": [
    "months"
   ]
  },
  {
   "cell_type": "code",
   "execution_count": 26,
   "metadata": {
    "collapsed": true
   },
   "outputs": [],
   "source": [
    "dfmonths = df[months]"
   ]
  },
  {
   "cell_type": "code",
   "execution_count": 27,
   "metadata": {
    "collapsed": false
   },
   "outputs": [
    {
     "data": {
      "text/html": [
       "<div>\n",
       "<table border=\"1\" class=\"dataframe\">\n",
       "  <thead>\n",
       "    <tr style=\"text-align: right;\">\n",
       "      <th></th>\n",
       "      <th>Jan</th>\n",
       "      <th>Feb</th>\n",
       "      <th>Mar</th>\n",
       "      <th>Apr</th>\n",
       "      <th>May</th>\n",
       "      <th>Jun</th>\n",
       "      <th>Jul</th>\n",
       "      <th>Aug</th>\n",
       "      <th>Sep</th>\n",
       "      <th>Oct</th>\n",
       "      <th>Nov</th>\n",
       "      <th>Dec</th>\n",
       "    </tr>\n",
       "  </thead>\n",
       "  <tbody>\n",
       "    <tr>\n",
       "      <th>0</th>\n",
       "      <td>2.76</td>\n",
       "      <td>4.58</td>\n",
       "      <td>5.01</td>\n",
       "      <td>4.13</td>\n",
       "      <td>3.30</td>\n",
       "      <td>2.98</td>\n",
       "      <td>1.58</td>\n",
       "      <td>2.36</td>\n",
       "      <td>0.95</td>\n",
       "      <td>1.31</td>\n",
       "      <td>2.13</td>\n",
       "      <td>1.65</td>\n",
       "    </tr>\n",
       "    <tr>\n",
       "      <th>1</th>\n",
       "      <td>2.32</td>\n",
       "      <td>2.11</td>\n",
       "      <td>3.14</td>\n",
       "      <td>5.91</td>\n",
       "      <td>3.09</td>\n",
       "      <td>5.17</td>\n",
       "      <td>6.10</td>\n",
       "      <td>1.65</td>\n",
       "      <td>4.50</td>\n",
       "      <td>1.58</td>\n",
       "      <td>2.25</td>\n",
       "      <td>2.38</td>\n",
       "    </tr>\n",
       "    <tr>\n",
       "      <th>2</th>\n",
       "      <td>2.96</td>\n",
       "      <td>7.14</td>\n",
       "      <td>4.11</td>\n",
       "      <td>3.59</td>\n",
       "      <td>6.31</td>\n",
       "      <td>4.20</td>\n",
       "      <td>4.63</td>\n",
       "      <td>2.36</td>\n",
       "      <td>1.81</td>\n",
       "      <td>4.28</td>\n",
       "      <td>4.36</td>\n",
       "      <td>5.94</td>\n",
       "    </tr>\n",
       "  </tbody>\n",
       "</table>\n",
       "</div>"
      ],
      "text/plain": [
       "    Jan   Feb   Mar   Apr   May   Jun   Jul   Aug   Sep   Oct   Nov   Dec\n",
       "0  2.76  4.58  5.01  4.13  3.30  2.98  1.58  2.36  0.95  1.31  2.13  1.65\n",
       "1  2.32  2.11  3.14  5.91  3.09  5.17  6.10  1.65  4.50  1.58  2.25  2.38\n",
       "2  2.96  7.14  4.11  3.59  6.31  4.20  4.63  2.36  1.81  4.28  4.36  5.94"
      ]
     },
     "execution_count": 27,
     "metadata": {},
     "output_type": "execute_result"
    }
   ],
   "source": [
    "dfmonths[:3]"
   ]
  },
  {
   "cell_type": "markdown",
   "metadata": {},
   "source": [
    "##### Graphing"
   ]
  },
  {
   "cell_type": "code",
   "execution_count": 32,
   "metadata": {
    "collapsed": false
   },
   "outputs": [
    {
     "data": {
      "image/png": "[encoded data removed]",
      "text/plain": [
       "<matplotlib.figure.Figure at 0x12219e310>"
      ]
     },
     "metadata": {},
     "output_type": "display_data"
    }
   ],
   "source": [
    "def plot_mom(df, col, ax):\n",
    "    xi = df[col]\n",
    "\n",
    "    sample_mean = xi.mean()\n",
    "    sample_var = np.sum(np.square(xi - sample_mean)) /  (xi.count() - 1)\n",
    "\n",
    "    alpha = sample_mean**2 / sample_var\n",
    "    beta =  sample_mean / sample_var\n",
    "\n",
    "    gamma_rv = scis.gamma(a=alpha, scale=1./beta)\n",
    "\n",
    "    x_vals = np.linspace(xi.min(), xi.max())\n",
    "    gamma_p = gamma_rv.pdf(x_vals)\n",
    "    \n",
    "    ahat, loc, bhat = scis.gamma.fit(df[month], floc=0)\n",
    "    alpha_mle, beta_mle = ahat, 1./bhat\n",
    "    gamma_mle = scis.gamma(a=alpha_mle, scale=1./beta_mle)\n",
    "\n",
    "    ax.plot(x_vals, gamma_p, '--', alpha=0.4, label='MOM', linewidth=2)\n",
    "    ax.plot(x_vals, gamma_mle.pdf(x_vals), '-', alpha=0.4, label='MLE', linewidth=2)\n",
    "\n",
    "    ax.set_xlabel('Rainfall')\n",
    "    ax.set_ylabel('Probability Density')\n",
    "    ax.set_title(col)\n",
    "\n",
    "    ax.set_xlim(0, 12)\n",
    "    ax.set_ylim(0., .35)\n",
    "    ax.legend()\n",
    "\n",
    "\n",
    "    label = 'alpha = {}\\nbeta = {}'.format(alpha, beta)\n",
    "    ax.annotate(label, xy=(0.2, 0.3))\n",
    "\n",
    "\n",
    "months = df.columns[1:]\n",
    "months_df = df[months]\n",
    "\n",
    "# By getting the histogram we get the axes as tuples\n",
    "axes = months_df.hist(bins=20, normed=1,\n",
    "                    grid=0, edgecolor='none',\n",
    "                    figsize=(15, 10),\n",
    "                    layout=(3,4))\n",
    "\n",
    "# Iterating through the axes and plotting\n",
    "for month, ax in zip(months, axes.flatten()):\n",
    "    plot_mom(months_df, month, ax)\n",
    "\n",
    "plt.tight_layout()\n",
    "plt.savefig('mom_mle.png', dpi=300)"
   ]
  },
  {
   "cell_type": "markdown",
   "metadata": {
    "collapsed": true
   },
   "source": [
    "### Maximum Likelihood Estimation\n",
    "\n",
    "Plotting the total likelihood (sum over all data points) for various values of lambda and determine the lambda which maximizes the likelihood. This is our MLE point estimate.\n",
    "\n",
    "\n",
    "$$\n",
    "    \\hat\\ell(\\theta\\,;x)=\\frac1n \\sum_{i=1}^n \\ln f(x_i\\mid\\theta),\n",
    "$$ \n"
   ]
  },
  {
   "cell_type": "code",
   "execution_count": 40,
   "metadata": {
    "collapsed": true
   },
   "outputs": [],
   "source": [
    "def likelihood(lambd, dvalue):\n",
    "    '''\n",
    "    Arguments:\n",
    "    lambda (float)\n",
    "    discrete value (float)\n",
    "    \n",
    "    return:\n",
    "    the likelihood of obseving the discrete value given lambda\n",
    "    '''\n",
    "    return scis.poisson.pmf(dvalue, lambd)"
   ]
  },
  {
   "cell_type": "code",
   "execution_count": 41,
   "metadata": {
    "collapsed": true
   },
   "outputs": [],
   "source": [
    "parametric_data = np.loadtxt('mle_poisson.txt')"
   ]
  },
  {
   "cell_type": "code",
   "execution_count": 49,
   "metadata": {
    "collapsed": false
   },
   "outputs": [
    {
     "data": {
      "text/plain": [
       "array([ 1.        ,  1.32653061,  1.65306122,  1.97959184,  2.30612245,\n",
       "        2.63265306,  2.95918367,  3.28571429,  3.6122449 ,  3.93877551])"
      ]
     },
     "execution_count": 49,
     "metadata": {},
     "output_type": "execute_result"
    }
   ],
   "source": [
    "lambdas[:10]"
   ]
  },
  {
   "cell_type": "code",
   "execution_count": 42,
   "metadata": {
    "collapsed": true
   },
   "outputs": [],
   "source": [
    "lambdas = np.linspace(1, 17)"
   ]
  },
  {
   "cell_type": "code",
   "execution_count": 43,
   "metadata": {
    "collapsed": false
   },
   "outputs": [],
   "source": [
    "L = [np.log10(likelihood(lambd, parametric_data)).sum() for lambd in lambdas]"
   ]
  },
  {
   "cell_type": "code",
   "execution_count": 45,
   "metadata": {
    "collapsed": false
   },
   "outputs": [
    {
     "data": {
      "image/png": "[encoded data removed]",
      "text/plain": [
       "<matplotlib.figure.Figure at 0x119d9a790>"
      ]
     },
     "metadata": {},
     "output_type": "display_data"
    }
   ],
   "source": [
    "plt.plot(lambdas, L);"
   ]
  },
  {
   "cell_type": "markdown",
   "metadata": {
    "collapsed": true
   },
   "source": [
    "## Non-parametric Estimation \n",
    "\n",
    "### Kernel Density Estimator\n",
    "\n",
    "Let $(x_1, \\ldots, x_n)$ be an i.i.d sample drawn from some distribution. It's kernel density estimate is given by the probability density function,\n",
    "\\begin{equation}\n",
    "    \\hat{f}(x) = \\frac{1}{nh} \\sum_{i=1}^n K \\left(\\frac{x-x_i}{h}\\right)\n",
    "\\end{equation}\n",
    "\n",
    "Here $K$ is the kernel function (often a Gaussian PDF), and $h$ is a bandwidth (smoothing) parameter."
   ]
  },
  {
   "cell_type": "code",
   "execution_count": 51,
   "metadata": {
    "collapsed": true
   },
   "outputs": [],
   "source": [
    "norm1 = scis.norm(0, 2)\n",
    "norm2 = scis.norm(4, 1)\n",
    "\n",
    "sample_data = norm1.rvs(500, 1234).tolist() + norm2.rvs(500, 1234).tolist()"
   ]
  },
  {
   "cell_type": "code",
   "execution_count": 53,
   "metadata": {
    "collapsed": false
   },
   "outputs": [
    {
     "data": {
      "image/png": "[encoded data removed]",
      "text/plain": [
       "<matplotlib.figure.Figure at 0x11acdbb50>"
      ]
     },
     "metadata": {},
     "output_type": "display_data"
    }
   ],
   "source": [
    "KDE = scis.gaussian_kde(sample_data)\n",
    "\n",
    "x = np.linspace(min(sample_data), max(sample_data))\n",
    "\n",
    "_ = plt.hist(sample_data, bins=20, normed = True, edgecolor='none')\n",
    "_ = plt.plot(x, KDE(x), '-', linewidth=2)"
   ]
  },
  {
   "cell_type": "code",
   "execution_count": 18,
   "metadata": {
    "collapsed": true
   },
   "outputs": [],
   "source": [
    "def rvs_dist(distribution, parameter, size):\n",
    "    \n",
    "    if distribution.lower() == 'binomial':\n",
    "        n, p = parameter['n'], parameter['p']\n",
    "        dist = scis.binom(n, p).rvs(size)\n",
    "        \n",
    "    elif distribution.lower() == 'normal':\n",
    "        mu, sigma = parameter['mu'], parameter['sigma']\n",
    "        dist = scis.norm(mu, sigma).rvs(size)\n",
    "        \n",
    "    elif distribution.lower() == 'poisson':\n",
    "        lambd = parameter['lambda']\n",
    "        dist = scis.poisson(lambd).rvs(size)\n",
    "        \n",
    "    elif distribution.lower() == 'exponential':\n",
    "        lambd = parameter['lambda']\n",
    "        dist = scis.expon(lambd).rvs(size)\n",
    "\n",
    "    elif distribution.lower() == 'gamma':\n",
    "        alpha, beta = parameter['alpha'], parameter['beta']\n",
    "        dist = scis.gamma(a= alpha, scale=1./beta).rvs(size)\n",
    "        \n",
    "    return dist\n",
    "\n",
    "    "
   ]
  },
  {
   "cell_type": "code",
   "execution_count": 19,
   "metadata": {
    "collapsed": true
   },
   "outputs": [],
   "source": [
    "def plot_sample(distribution=None, parameter=None, size=None, repeat=None, ax=None, fig=None):\n",
    "    sample_mean = [rvs_dist(distribution, parameter, size).mean() for i in xrange(repeat)]\n",
    "    \n",
    "    if (fig is None) and (ax is None):\n",
    "        fig, ax = plt.subplots()\n",
    "    ax.hist(sample_mean, normed=True, bins=20)\n",
    "    ax.set_title(distribution)\n",
    "    return None\n",
    "    "
   ]
  },
  {
   "cell_type": "code",
   "execution_count": 20,
   "metadata": {
    "collapsed": false
   },
   "outputs": [
    {
     "data": {
      "image/png": "[encoded data removed]",
      "text/plain": [
       "<matplotlib.figure.Figure at 0x11a60d750>"
      ]
     },
     "metadata": {},
     "output_type": "display_data"
    }
   ],
   "source": [
    "distributions = ['Poisson', 'Binomial', 'Exponential', 'Gamma', 'Normal']\n",
    "parameters = [{'lambda': 2}, {'n':30, 'p': 0.02}, {'lambda': 2}, {'alpha': 2, 'beta': .5}, {'mu': 5, 'sigma': .5}]\n",
    "\n",
    "fig, ax = plt.subplots(3, 2, figsize=(12, 8))\n",
    "\n",
    "for dist, param, a in zip(distributions, parameters, ax.ravel()):\n",
    "    plot_sample(dist, param, 200, 3000, fig=fig, ax=a)\n",
    "\n",
    "_ = fig.suptitle('Sample Size: {}, Repeats:{}'.format(200, 3000))\n"
   ]
  },
  {
   "cell_type": "markdown",
   "metadata": {},
   "source": [
    "### Distribution - Initial assumptions  \n",
    "\n",
    "In real life applications, we can specify the values of a variable to be of a particular distribution, for example the number of sales made in the next month can be modeled as a uniform distribution over the range of 5000 and 6000.\n",
    "\n",
    "In this scenario, we are modeling profit as a product of number of views, conversion and profit per sale, where number of views, conversion and profit per sale can be modeled as probabilistic distributions. \n",
    "\n",
    "By randomly drawing values from these distributions, we are able to get a distribution of the range of profit based on the uncertainties in the other variables.\n",
    "\n",
    "```\n",
    "Profit = Number of views * Conversion * (Wholesale_Proportion * 50 + (1-Wholesale_Proportion)*60)\n",
    "```\n",
    "\n",
    "#### Assumptions\n",
    "\n",
    "- Number of views is a uniform distribution over the range of 5000 and 6000 \n",
    "\n",
    "- Conversion is a binomial distribution where the probability of success is 0.12 for each sale among the Number of views made \n",
    "\n",
    "- Profit per sale has 0.2 probability of taking the value 50 (for wholesale) and 0.8 of taking the value 60 (non-wholesale) for each sale, so you should use a binomial to model the number of the total sales that happen at wholesale.\n",
    "\n",
    "Conversion rates are calculated by simply taking the number of conversions and dividing that by the number of total ad clicks that can be tracked to a conversion during the same time period. \n",
    "\n",
    "For example, if you had 50 conversions from 1,000 clicks, your conversion rate would be 5%, since 50 ÷ 1,000 = 5%\n",
    "\n"
   ]
  },
  {
   "cell_type": "code",
   "execution_count": 3,
   "metadata": {
    "collapsed": true
   },
   "outputs": [],
   "source": [
    "def profits_per_views(n_views):\n",
    "    conversion_r = scis.binom(n_views, 0.12).rvs() / n_views\n",
    "    wholesale_p = scis.binom(n_views, 0.2).rvs() / n_views\n",
    "    return n_views*conversion_r*((wholesale_p*50) + (1 - wholesale_p)*60)\n",
    "    "
   ]
  },
  {
   "cell_type": "code",
   "execution_count": 4,
   "metadata": {
    "collapsed": false
   },
   "outputs": [
    {
     "data": {
      "text/plain": [
       "34573.07"
      ]
     },
     "execution_count": 4,
     "metadata": {},
     "output_type": "execute_result"
    }
   ],
   "source": [
    "profits_per_views(5000)"
   ]
  },
  {
   "cell_type": "code",
   "execution_count": null,
   "metadata": {
    "collapsed": true
   },
   "outputs": [],
   "source": []
  },
  {
   "cell_type": "code",
   "execution_count": null,
   "metadata": {
    "collapsed": true
   },
   "outputs": [],
   "source": []
  },
  {
   "cell_type": "code",
   "execution_count": null,
   "metadata": {
    "collapsed": true
   },
   "outputs": [],
   "source": []
  },
  {
   "cell_type": "code",
   "execution_count": null,
   "metadata": {
    "collapsed": true
   },
   "outputs": [],
   "source": []
  },
  {
   "cell_type": "code",
   "execution_count": null,
   "metadata": {
    "collapsed": true
   },
   "outputs": [],
   "source": []
  },
  {
   "cell_type": "code",
   "execution_count": null,
   "metadata": {
    "collapsed": true
   },
   "outputs": [],
   "source": []
  },
  {
   "cell_type": "markdown",
   "metadata": {
    "collapsed": true
   },
   "source": [
    "### Boostrapping to find Confidence Interval of Mean\n",
    "A common use of bootstrapping is to approximate the sampling distribution of a sample statistic, a point estimate of the unknown population parameter. Bootstrapping is especially useful when the sample size is small or when the underlying population distribution is unknown.\n",
    "\n",
    "Suppose there are 100 programmers in the company. The cost of changing a monitor is \\$500 and the increase of one unit of productivity is worth $2,000, would you recommend switching the monitors? "
   ]
  },
  {
   "cell_type": "code",
   "execution_count": 50,
   "metadata": {
    "collapsed": true
   },
   "outputs": [],
   "source": [
    "def bootstrapping(sample, resample=3000):\n",
    "    #  random sampling with replacement\n",
    "    return [np.array([sample[np.random.randint(len(sample))] for _ in xrange(len(sample))]) for __ in xrange(resample)]"
   ]
  },
  {
   "cell_type": "code",
   "execution_count": 34,
   "metadata": {
    "collapsed": false
   },
   "outputs": [
    {
     "data": {
      "image/png": "[encoded data removed]",
      "text/plain": [
       "<matplotlib.figure.Figure at 0x11a09f990>"
      ]
     },
     "metadata": {},
     "output_type": "display_data"
    }
   ],
   "source": [
    "data =np.loadtxt('productivity.txt')\n",
    "_ = plt.hist(data, bins=15)"
   ]
  },
  {
   "cell_type": "code",
   "execution_count": 40,
   "metadata": {
    "collapsed": false
   },
   "outputs": [
    {
     "data": {
      "text/plain": [
       "25"
      ]
     },
     "execution_count": 40,
     "metadata": {},
     "output_type": "execute_result"
    }
   ],
   "source": [
    "len(data)"
   ]
  },
  {
   "cell_type": "code",
   "execution_count": 26,
   "metadata": {
    "collapsed": false
   },
   "outputs": [
    {
     "data": {
      "text/plain": [
       "5.0439999999999996"
      ]
     },
     "execution_count": 26,
     "metadata": {},
     "output_type": "execute_result"
    }
   ],
   "source": [
    "data.mean()"
   ]
  },
  {
   "cell_type": "code",
   "execution_count": 35,
   "metadata": {
    "collapsed": true
   },
   "outputs": [],
   "source": [
    "# Standard Error of the productivity\n",
    "se = data.std() / math.sqrt(len(data))"
   ]
  },
  {
   "cell_type": "code",
   "execution_count": 36,
   "metadata": {
    "collapsed": true
   },
   "outputs": [],
   "source": [
    "# Lower Limit, Upper Limit with 95% CI\n",
    "ll, ul = data.mean() - 1.96*se, data.mean() + 1.96*se"
   ]
  },
  {
   "cell_type": "code",
   "execution_count": 42,
   "metadata": {
    "collapsed": false
   },
   "outputs": [
    {
     "name": "stdout",
     "output_type": "stream",
     "text": [
      "95% Confidence Interval: [-0.221621824713 to 10.3096218247]\n"
     ]
    }
   ],
   "source": [
    "print '95% Confidence Interval: [{} to {}]'.format(ll, ul)"
   ]
  },
  {
   "cell_type": "markdown",
   "metadata": {},
   "source": [
    "Note: This CI is not to be trusted the sample size is too small"
   ]
  },
  {
   "cell_type": "markdown",
   "metadata": {},
   "source": [
    "##### Bootstrapping for Confidence Interval"
   ]
  },
  {
   "cell_type": "code",
   "execution_count": 69,
   "metadata": {
    "collapsed": true
   },
   "outputs": [],
   "source": [
    "def bootstrapping_ci(sample, func=np.mean, iterations=3000, ci=95):\n",
    "    # distribution: New sample distribution (bootstrapping)\n",
    "    distribution = [func(i) for i in bootstrapping(sample, iterations)]\n",
    "    ll, ul = np.percentile(distribution, (100-ci)/2.), np.percentile(distribution, ci + (100-ci)/2.)\n",
    "    print 'Bootstrapping sample mean: {}'.format(np.mean(distribution))\n",
    "    print '{}% Confidence Interval: [{} to {}]'.format(ci, ll, ul)\n",
    "    return np.mean(distribution), ll, ul, distribution"
   ]
  },
  {
   "cell_type": "code",
   "execution_count": 70,
   "metadata": {
    "collapsed": false
   },
   "outputs": [
    {
     "name": "stdout",
     "output_type": "stream",
     "text": [
      "Bootstrapping sample mean: 5.048584\n",
      "95% Confidence Interval: [-0.1851 to 10.8244]\n"
     ]
    },
    {
     "data": {
      "image/png": "[encoded data removed]",
      "text/plain": [
       "<matplotlib.figure.Figure at 0x11c02dc10>"
      ]
     },
     "metadata": {},
     "output_type": "display_data"
    }
   ],
   "source": [
    "mean_, ll_, ul_, distribution_ = bootstrapping_ci(data, iterations=1000)\n",
    "_ = plt.hist(distribution_, bins=15)"
   ]
  },
  {
   "cell_type": "markdown",
   "metadata": {},
   "source": [
    "100 programmers in the company. The cost of changing a monitor is \\$500 and the increase of one unit of productivity is worth $2,000, would you recommend switching the monitors? "
   ]
  },
  {
   "cell_type": "code",
   "execution_count": 73,
   "metadata": {
    "collapsed": false
   },
   "outputs": [
    {
     "name": "stdout",
     "output_type": "stream",
     "text": [
      "The true mean of the increase in productivity value will fall between: \n",
      "[$-87,020.0 and $2,114,880.0] 95% of the time\n"
     ]
    }
   ],
   "source": [
    "def dollar_productivity_increment(delta, value=2000, employees= 100, upfront=50000):\n",
    "    return (delta*value*employees) - upfront\n",
    "\n",
    "print ('The true mean of the increase in productivity value will fall between: \\n[${:,} and ${:,}] 95% of the time'.format(dollar_productivity_increment(ll_), dollar_productivity_increment(ul_)))"
   ]
  },
  {
   "cell_type": "code",
   "execution_count": 74,
   "metadata": {
    "collapsed": false
   },
   "outputs": [
    {
     "name": "stdout",
     "output_type": "stream",
     "text": [
      "Bootstrapping sample mean: 4.986092\n",
      "90% Confidence Interval: [0.4672 to 9.383]\n"
     ]
    },
    {
     "data": {
      "image/png": "[encoded data removed]",
      "text/plain": [
       "<matplotlib.figure.Figure at 0x11c43dd10>"
      ]
     },
     "metadata": {},
     "output_type": "display_data"
    }
   ],
   "source": [
    "mean, lower, upper, distribution = bootstrapping_ci(data, iterations=1000, ci=90)\n",
    "_ = plt.hist(distribution, bins=15)"
   ]
  },
  {
   "cell_type": "code",
   "execution_count": null,
   "metadata": {
    "collapsed": true
   },
   "outputs": [],
   "source": []
  },
  {
   "cell_type": "code",
   "execution_count": null,
   "metadata": {
    "collapsed": true
   },
   "outputs": [],
   "source": []
  },
  {
   "cell_type": "code",
   "execution_count": null,
   "metadata": {
    "collapsed": true
   },
   "outputs": [],
   "source": []
  },
  {
   "cell_type": "code",
   "execution_count": null,
   "metadata": {
    "collapsed": true
   },
   "outputs": [],
   "source": []
  },
  {
   "cell_type": "code",
   "execution_count": null,
   "metadata": {
    "collapsed": true
   },
   "outputs": [],
   "source": []
  },
  {
   "cell_type": "code",
   "execution_count": null,
   "metadata": {
    "collapsed": true
   },
   "outputs": [],
   "source": []
  },
  {
   "cell_type": "code",
   "execution_count": null,
   "metadata": {
    "collapsed": true
   },
   "outputs": [],
   "source": []
  },
  {
   "cell_type": "code",
   "execution_count": null,
   "metadata": {
    "collapsed": true
   },
   "outputs": [],
   "source": []
  },
  {
   "cell_type": "code",
   "execution_count": null,
   "metadata": {
    "collapsed": true
   },
   "outputs": [],
   "source": []
  },
  {
   "cell_type": "code",
   "execution_count": null,
   "metadata": {
    "collapsed": true
   },
   "outputs": [],
   "source": []
  },
  {
   "cell_type": "code",
   "execution_count": null,
   "metadata": {
    "collapsed": true
   },
   "outputs": [],
   "source": []
  },
  {
   "cell_type": "code",
   "execution_count": null,
   "metadata": {
    "collapsed": true
   },
   "outputs": [],
   "source": []
  },
  {
   "cell_type": "code",
   "execution_count": null,
   "metadata": {
    "collapsed": true
   },
   "outputs": [],
   "source": []
  },
  {
   "cell_type": "code",
   "execution_count": null,
   "metadata": {
    "collapsed": true
   },
   "outputs": [],
   "source": []
  },
  {
   "cell_type": "code",
   "execution_count": null,
   "metadata": {
    "collapsed": true
   },
   "outputs": [],
   "source": []
  },
  {
   "cell_type": "code",
   "execution_count": null,
   "metadata": {
    "collapsed": true
   },
   "outputs": [],
   "source": []
  },
  {
   "cell_type": "code",
   "execution_count": null,
   "metadata": {
    "collapsed": true
   },
   "outputs": [],
   "source": []
  },
  {
   "cell_type": "code",
   "execution_count": null,
   "metadata": {
    "collapsed": true
   },
   "outputs": [],
   "source": []
  },
  {
   "cell_type": "code",
   "execution_count": null,
   "metadata": {
    "collapsed": true
   },
   "outputs": [],
   "source": []
  },
  {
   "cell_type": "code",
   "execution_count": null,
   "metadata": {
    "collapsed": true
   },
   "outputs": [],
   "source": []
  },
  {
   "cell_type": "code",
   "execution_count": null,
   "metadata": {
    "collapsed": true
   },
   "outputs": [],
   "source": []
  },
  {
   "cell_type": "code",
   "execution_count": null,
   "metadata": {
    "collapsed": true
   },
   "outputs": [],
   "source": []
  },
  {
   "cell_type": "code",
   "execution_count": null,
   "metadata": {
    "collapsed": true
   },
   "outputs": [],
   "source": []
  },
  {
   "cell_type": "code",
   "execution_count": null,
   "metadata": {
    "collapsed": true
   },
   "outputs": [],
   "source": []
  },
  {
   "cell_type": "code",
   "execution_count": null,
   "metadata": {
    "collapsed": true
   },
   "outputs": [],
   "source": []
  },
  {
   "cell_type": "code",
   "execution_count": null,
   "metadata": {
    "collapsed": true
   },
   "outputs": [],
   "source": []
  },
  {
   "cell_type": "code",
   "execution_count": null,
   "metadata": {
    "collapsed": true
   },
   "outputs": [],
   "source": []
  },
  {
   "cell_type": "code",
   "execution_count": null,
   "metadata": {
    "collapsed": true
   },
   "outputs": [],
   "source": []
  },
  {
   "cell_type": "code",
   "execution_count": null,
   "metadata": {
    "collapsed": true
   },
   "outputs": [],
   "source": []
  },
  {
   "cell_type": "code",
   "execution_count": null,
   "metadata": {
    "collapsed": true
   },
   "outputs": [],
   "source": []
  },
  {
   "cell_type": "code",
   "execution_count": null,
   "metadata": {
    "collapsed": true
   },
   "outputs": [],
   "source": []
  },
  {
   "cell_type": "code",
   "execution_count": null,
   "metadata": {
    "collapsed": true
   },
   "outputs": [],
   "source": []
  },
  {
   "cell_type": "code",
   "execution_count": null,
   "metadata": {
    "collapsed": true
   },
   "outputs": [],
   "source": []
  },
  {
   "cell_type": "code",
   "execution_count": null,
   "metadata": {
    "collapsed": true
   },
   "outputs": [],
   "source": []
  },
  {
   "cell_type": "code",
   "execution_count": null,
   "metadata": {
    "collapsed": true
   },
   "outputs": [],
   "source": []
  }
 ],
 "metadata": {
  "kernelspec": {
   "display_name": "Python 2",
   "language": "python",
   "name": "python2"
  },
  "language_info": {
   "codemirror_mode": {
    "name": "ipython",
    "version": 2
   },
   "file_extension": ".py",
   "mimetype": "text/x-python",
   "name": "python",
   "nbconvert_exporter": "python",
   "pygments_lexer": "ipython2",
   "version": "2.7.11"
  }
 },
 "nbformat": 4,
 "nbformat_minor": 0
}
