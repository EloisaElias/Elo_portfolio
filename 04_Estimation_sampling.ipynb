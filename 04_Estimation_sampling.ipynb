{
 "cells": [
  {
   "cell_type": "markdown",
   "metadata": {},
   "source": [
    "## Estimation sampling"
   ]
  },
  {
   "cell_type": "code",
   "execution_count": 34,
   "metadata": {
    "collapsed": false
   },
   "outputs": [],
   "source": [
    "import pandas as pd\n",
    "import numpy as np\n",
    "import scipy.stats as stats\n",
    "import matplotlib.pyplot as plt\n",
    "import math\n",
    "%matplotlib inline"
   ]
  },
  {
   "cell_type": "code",
   "execution_count": 13,
   "metadata": {
    "collapsed": true
   },
   "outputs": [],
   "source": [
    "df = pd.read_csv('data/rainfall.csv')"
   ]
  },
  {
   "cell_type": "code",
   "execution_count": 14,
   "metadata": {
    "collapsed": false
   },
   "outputs": [
    {
     "data": {
      "text/html": [
       "<div>\n",
       "<table border=\"1\" class=\"dataframe\">\n",
       "  <thead>\n",
       "    <tr style=\"text-align: right;\">\n",
       "      <th></th>\n",
       "      <th>Year</th>\n",
       "      <th>Jan</th>\n",
       "      <th>Feb</th>\n",
       "      <th>Mar</th>\n",
       "      <th>Apr</th>\n",
       "      <th>May</th>\n",
       "      <th>Jun</th>\n",
       "      <th>Jul</th>\n",
       "      <th>Aug</th>\n",
       "      <th>Sep</th>\n",
       "      <th>Oct</th>\n",
       "      <th>Nov</th>\n",
       "      <th>Dec</th>\n",
       "    </tr>\n",
       "  </thead>\n",
       "  <tbody>\n",
       "    <tr>\n",
       "      <th>0</th>\n",
       "      <td>1871</td>\n",
       "      <td>2.76</td>\n",
       "      <td>4.58</td>\n",
       "      <td>5.01</td>\n",
       "      <td>4.13</td>\n",
       "      <td>3.30</td>\n",
       "      <td>2.98</td>\n",
       "      <td>1.58</td>\n",
       "      <td>2.36</td>\n",
       "      <td>0.95</td>\n",
       "      <td>1.31</td>\n",
       "      <td>2.13</td>\n",
       "      <td>1.65</td>\n",
       "    </tr>\n",
       "    <tr>\n",
       "      <th>1</th>\n",
       "      <td>1872</td>\n",
       "      <td>2.32</td>\n",
       "      <td>2.11</td>\n",
       "      <td>3.14</td>\n",
       "      <td>5.91</td>\n",
       "      <td>3.09</td>\n",
       "      <td>5.17</td>\n",
       "      <td>6.10</td>\n",
       "      <td>1.65</td>\n",
       "      <td>4.50</td>\n",
       "      <td>1.58</td>\n",
       "      <td>2.25</td>\n",
       "      <td>2.38</td>\n",
       "    </tr>\n",
       "  </tbody>\n",
       "</table>\n",
       "</div>"
      ],
      "text/plain": [
       "   Year   Jan   Feb   Mar   Apr   May   Jun   Jul   Aug   Sep   Oct   Nov  \\\n",
       "0  1871  2.76  4.58  5.01  4.13  3.30  2.98  1.58  2.36  0.95  1.31  2.13   \n",
       "1  1872  2.32  2.11  3.14  5.91  3.09  5.17  6.10  1.65  4.50  1.58  2.25   \n",
       "\n",
       "    Dec  \n",
       "0  1.65  \n",
       "1  2.38  "
      ]
     },
     "execution_count": 14,
     "metadata": {},
     "output_type": "execute_result"
    }
   ],
   "source": [
    "df[:2]"
   ]
  },
  {
   "cell_type": "code",
   "execution_count": 17,
   "metadata": {
    "collapsed": false
   },
   "outputs": [
    {
     "data": {
      "image/png": "[encoded data removed]",
      "text/plain": [
       "<matplotlib.figure.Figure at 0x108b88d90>"
      ]
     },
     "metadata": {},
     "output_type": "display_data"
    }
   ],
   "source": [
    "df.Jan.hist();"
   ]
  },
  {
   "cell_type": "markdown",
   "metadata": {},
   "source": [
    "#### Part II\n",
    "*just for fun..\n",
    "the random variables are continuos variables, because of this i choose normal distribution, which has positive skewness. \n",
    "\n",
    "..but the exercise says choose two, then the less worse would be gamma."
   ]
  },
  {
   "cell_type": "code",
   "execution_count": 47,
   "metadata": {
    "collapsed": false
   },
   "outputs": [
    {
     "name": "stdout",
     "output_type": "stream",
     "text": [
      "mean Year    1940.842857\n",
      "Jan        4.544571\n",
      "Feb        4.106857\n",
      "Mar        4.941500\n",
      "Apr        4.210429\n",
      "May        4.338929\n",
      "Jun        3.879071\n",
      "Jul        3.885214\n",
      "Aug        3.336857\n",
      "Sep        3.377286\n",
      "Oct        2.610500\n",
      "Nov        3.694857\n",
      "Dec        4.190714\n",
      "dtype: float64:\n",
      "variance Year    1676.996711\n",
      "Jan        6.916775\n",
      "Feb        5.544702\n",
      "Mar        5.219086\n",
      "Apr        4.141670\n",
      "May        5.319634\n",
      "Jun        5.064968\n",
      "Jul        3.789274\n",
      "Aug        3.675412\n",
      "Sep        4.975620\n",
      "Oct        2.761383\n",
      "Nov        3.694316\n",
      "Dec        5.427253\n",
      "dtype: float64:\n",
      "sigma Year    40.951150\n",
      "Jan      2.629976\n",
      "Feb      2.354719\n",
      "Mar      2.284532\n",
      "Apr      2.035109\n",
      "May      2.306433\n",
      "Jun      2.250548\n",
      "Jul      1.946606\n",
      "Aug      1.917136\n",
      "Sep      2.230610\n",
      "Oct      1.661741\n",
      "Nov      1.922060\n",
      "Dec      2.329646\n",
      "dtype: float64:\n"
     ]
    }
   ],
   "source": [
    "# Normal distribution:\n",
    "\n",
    "mean = df.mean() # mean = miu\n",
    "var = df.var() \n",
    "sig = var**.5 # sig square = variance\n",
    "print 'mean {}:'.format(mean)\n",
    "print 'variance {}:'.format(var)\n",
    "print 'sigma {}:'.format(sig)"
   ]
  },
  {
   "cell_type": "code",
   "execution_count": 52,
   "metadata": {
    "collapsed": false
   },
   "outputs": [
    {
     "name": "stdout",
     "output_type": "stream",
     "text": [
      "beta Year    1.157333\n",
      "Jan     0.657036\n",
      "Feb     0.740681\n",
      "Mar     0.946813\n",
      "Apr     1.016602\n",
      "May     0.815644\n",
      "Jun     0.765863\n",
      "Jul     1.025319\n",
      "Aug     0.907887\n",
      "Sep     0.678767\n",
      "Oct     0.945360\n",
      "Nov     1.000147\n",
      "Dec     0.772161\n",
      "dtype: float64:\n",
      "alpha Year    2246.200586\n",
      "Jan        2.985948\n",
      "Feb        3.041872\n",
      "Mar        4.678678\n",
      "Apr        4.280328\n",
      "May        3.539022\n",
      "Jun        2.970837\n",
      "Jul        3.983584\n",
      "Aug        3.029488\n",
      "Sep        2.292389\n",
      "Oct        2.467861\n",
      "Nov        3.695399\n",
      "Dec        3.235907\n",
      "dtype: float64:\n"
     ]
    }
   ],
   "source": [
    "# Gamma distribution:\n",
    "\n",
    "# miu = alpha / beta \n",
    "# sqrt(sigma) = alpha / sqrt(beta)\n",
    "\n",
    "beta = mean / var \n",
    "alpha = mean * beta\n",
    "\n",
    "print 'beta {}:'.format(beta)\n",
    "print 'alpha {}:'.format(alpha)"
   ]
  },
  {
   "cell_type": "code",
   "execution_count": null,
   "metadata": {
    "collapsed": true
   },
   "outputs": [],
   "source": [
    "# Probability density function:\n",
    "\n",
    "# Normal distribution :  norm(mean, stdev).pdf(np.linspace(x,y))\n",
    "# Gamma distribution : gamma(alpha, )"
   ]
  },
  {
   "cell_type": "code",
   "execution_count": 50,
   "metadata": {
    "collapsed": false
   },
   "outputs": [],
   "source": [
    "normalfit=stats.norm(mean[1], sig[1]).pdf(np.linspace(0, 16))"
   ]
  },
  {
   "cell_type": "code",
   "execution_count": 53,
   "metadata": {
    "collapsed": true
   },
   "outputs": [],
   "source": [
    "gammafit=stats.gamma(mean[1], 1/beta[1]).pdf(np.linspace(0,15))"
   ]
  },
  {
   "cell_type": "code",
   "execution_count": 51,
   "metadata": {
    "collapsed": false
   },
   "outputs": [
    {
     "data": {
      "text/plain": [
       "0.65703621533037204"
      ]
     },
     "execution_count": 51,
     "metadata": {},
     "output_type": "execute_result"
    }
   ],
   "source": [
    "beta[1]"
   ]
  },
  {
   "cell_type": "code",
   "execution_count": 61,
   "metadata": {
    "collapsed": false
   },
   "outputs": [
    {
     "data": {
      "image/png": "[encoded data removed]",
      "text/plain": [
       "<matplotlib.figure.Figure at 0x10a80c050>"
      ]
     },
     "metadata": {},
     "output_type": "display_data"
    }
   ],
   "source": [
    "plt.hist(df.Jan, normed=1);\n",
    "plt.plot(np.linspace(0,10), gammafit);\n",
    "plt.plot(np.linspace(0,10), normalfit);"
   ]
  },
  {
   "cell_type": "code",
   "execution_count": 62,
   "metadata": {
    "collapsed": false
   },
   "outputs": [
    {
     "data": {
      "text/html": [
       "<div>\n",
       "<table border=\"1\" class=\"dataframe\">\n",
       "  <thead>\n",
       "    <tr style=\"text-align: right;\">\n",
       "      <th></th>\n",
       "      <th>Year</th>\n",
       "      <th>Jan</th>\n",
       "      <th>Feb</th>\n",
       "      <th>Mar</th>\n",
       "      <th>Apr</th>\n",
       "      <th>May</th>\n",
       "      <th>Jun</th>\n",
       "      <th>Jul</th>\n",
       "      <th>Aug</th>\n",
       "      <th>Sep</th>\n",
       "      <th>Oct</th>\n",
       "      <th>Nov</th>\n",
       "      <th>Dec</th>\n",
       "    </tr>\n",
       "  </thead>\n",
       "  <tbody>\n",
       "    <tr>\n",
       "      <th>0</th>\n",
       "      <td>1871</td>\n",
       "      <td>2.76</td>\n",
       "      <td>4.58</td>\n",
       "      <td>5.01</td>\n",
       "      <td>4.13</td>\n",
       "      <td>3.30</td>\n",
       "      <td>2.98</td>\n",
       "      <td>1.58</td>\n",
       "      <td>2.36</td>\n",
       "      <td>0.95</td>\n",
       "      <td>1.31</td>\n",
       "      <td>2.13</td>\n",
       "      <td>1.65</td>\n",
       "    </tr>\n",
       "    <tr>\n",
       "      <th>1</th>\n",
       "      <td>1872</td>\n",
       "      <td>2.32</td>\n",
       "      <td>2.11</td>\n",
       "      <td>3.14</td>\n",
       "      <td>5.91</td>\n",
       "      <td>3.09</td>\n",
       "      <td>5.17</td>\n",
       "      <td>6.10</td>\n",
       "      <td>1.65</td>\n",
       "      <td>4.50</td>\n",
       "      <td>1.58</td>\n",
       "      <td>2.25</td>\n",
       "      <td>2.38</td>\n",
       "    </tr>\n",
       "  </tbody>\n",
       "</table>\n",
       "</div>"
      ],
      "text/plain": [
       "   Year   Jan   Feb   Mar   Apr   May   Jun   Jul   Aug   Sep   Oct   Nov  \\\n",
       "0  1871  2.76  4.58  5.01  4.13  3.30  2.98  1.58  2.36  0.95  1.31  2.13   \n",
       "1  1872  2.32  2.11  3.14  5.91  3.09  5.17  6.10  1.65  4.50  1.58  2.25   \n",
       "\n",
       "    Dec  \n",
       "0  1.65  \n",
       "1  2.38  "
      ]
     },
     "execution_count": 62,
     "metadata": {},
     "output_type": "execute_result"
    }
   ],
   "source": [
    "df[:2]"
   ]
  },
  {
   "cell_type": "markdown",
   "metadata": {},
   "source": [
    "#### Graph of every month"
   ]
  },
  {
   "cell_type": "code",
   "execution_count": 83,
   "metadata": {
    "collapsed": false
   },
   "outputs": [
    {
     "data": {
      "image/png": "[encoded data removed]",
      "text/plain": [
       "<matplotlib.figure.Figure at 0x10d37d610>"
      ]
     },
     "metadata": {},
     "output_type": "display_data"
    }
   ],
   "source": [
    "def method_of_moment(df, col, ax):\n",
    "    \n",
    "    \n",
    "    data = df[col]\n",
    "    \n",
    "    sample_mean = data.mean()\n",
    "    sample_var = data.var()\n",
    "    \n",
    "    alpha = sample_mean**2 / sample_var\n",
    "    beta = sample_mean / sample_var\n",
    "    \n",
    "    gamma_rv = stats.gamma(alpha, 1/beta)\n",
    "    x_vals = np.linspace(data.min(), data.max())\n",
    "    gamma_p = gamma_rv.pdf(x_vals)\n",
    "    \n",
    "    ax.plot(x_vals, gamma_p, color='r', alpha=0.4)\n",
    "\n",
    "    ax.set_xlabel('Rainfall')\n",
    "    ax.set_ylabel('Probability Density')\n",
    "    ax.set_title(col)\n",
    "\n",
    "    ax.set_xlim(0, 12)\n",
    "    ax.set_ylim(0., .35)\n",
    "    ax.legend()\n",
    "    label = 'alpha = {} \\n beta = {}'.format(round(alpha, 2), round(beta,2))\n",
    "    ax.annotate(label, xy=(8, .3))\n",
    "\n",
    "months = df.columns - ['Year']\n",
    "df_months = df[months]\n",
    "\n",
    "#Pandas to get the histograms, axes are returned as tuplex\n",
    "\n",
    "axes = df_months.hist(bins=20, normed=1, grid=0, \n",
    "                      edgecolor='none', figsize=(15,10), \n",
    "                      layout=(3, 4))\n",
    "\n",
    "for month, ax in zip(months, axes.flatten()):\n",
    "    method_of_moment(df_months, month, ax)\n",
    "    \n",
    "    \n",
    "    \n",
    "plt.tight_layout()  \n",
    "    \n",
    "    "
   ]
  },
  {
   "cell_type": "code",
   "execution_count": 70,
   "metadata": {
    "collapsed": false
   },
   "outputs": [
    {
     "data": {
      "text/html": [
       "<div>\n",
       "<table border=\"1\" class=\"dataframe\">\n",
       "  <thead>\n",
       "    <tr style=\"text-align: right;\">\n",
       "      <th></th>\n",
       "      <th>Apr</th>\n",
       "      <th>Aug</th>\n",
       "      <th>Dec</th>\n",
       "      <th>Feb</th>\n",
       "      <th>Jan</th>\n",
       "      <th>Jul</th>\n",
       "      <th>Jun</th>\n",
       "      <th>Mar</th>\n",
       "      <th>May</th>\n",
       "      <th>Nov</th>\n",
       "      <th>Oct</th>\n",
       "      <th>Sep</th>\n",
       "    </tr>\n",
       "  </thead>\n",
       "  <tbody>\n",
       "    <tr>\n",
       "      <th>0</th>\n",
       "      <td>4.13</td>\n",
       "      <td>2.36</td>\n",
       "      <td>1.65</td>\n",
       "      <td>4.58</td>\n",
       "      <td>2.76</td>\n",
       "      <td>1.58</td>\n",
       "      <td>2.98</td>\n",
       "      <td>5.01</td>\n",
       "      <td>3.30</td>\n",
       "      <td>2.13</td>\n",
       "      <td>1.31</td>\n",
       "      <td>0.95</td>\n",
       "    </tr>\n",
       "    <tr>\n",
       "      <th>1</th>\n",
       "      <td>5.91</td>\n",
       "      <td>1.65</td>\n",
       "      <td>2.38</td>\n",
       "      <td>2.11</td>\n",
       "      <td>2.32</td>\n",
       "      <td>6.10</td>\n",
       "      <td>5.17</td>\n",
       "      <td>3.14</td>\n",
       "      <td>3.09</td>\n",
       "      <td>2.25</td>\n",
       "      <td>1.58</td>\n",
       "      <td>4.50</td>\n",
       "    </tr>\n",
       "  </tbody>\n",
       "</table>\n",
       "</div>"
      ],
      "text/plain": [
       "    Apr   Aug   Dec   Feb   Jan   Jul   Jun   Mar   May   Nov   Oct   Sep\n",
       "0  4.13  2.36  1.65  4.58  2.76  1.58  2.98  5.01  3.30  2.13  1.31  0.95\n",
       "1  5.91  1.65  2.38  2.11  2.32  6.10  5.17  3.14  3.09  2.25  1.58  4.50"
      ]
     },
     "execution_count": 70,
     "metadata": {},
     "output_type": "execute_result"
    }
   ],
   "source": [
    "df[months][:2]"
   ]
  },
  {
   "cell_type": "code",
   "execution_count": 72,
   "metadata": {
    "collapsed": true
   },
   "outputs": [],
   "source": [
    "sample_mean = df[months].mean()"
   ]
  },
  {
   "cell_type": "code",
   "execution_count": 73,
   "metadata": {
    "collapsed": false
   },
   "outputs": [],
   "source": [
    "sample_var = np.sum(np.square(df[months] - sample_mean)) /  (df[months].count() - 1)"
   ]
  },
  {
   "cell_type": "code",
   "execution_count": 74,
   "metadata": {
    "collapsed": false
   },
   "outputs": [
    {
     "data": {
      "text/plain": [
       "Apr    4.141670\n",
       "Aug    3.675412\n",
       "Dec    5.427253\n",
       "Feb    5.544702\n",
       "Jan    6.916775\n",
       "Jul    3.789274\n",
       "Jun    5.064968\n",
       "Mar    5.219086\n",
       "May    5.319634\n",
       "Nov    3.694316\n",
       "Oct    2.761383\n",
       "Sep    4.975620\n",
       "dtype: float64"
      ]
     },
     "execution_count": 74,
     "metadata": {},
     "output_type": "execute_result"
    }
   ],
   "source": [
    "sample_var"
   ]
  },
  {
   "cell_type": "code",
   "execution_count": 75,
   "metadata": {
    "collapsed": true
   },
   "outputs": [],
   "source": [
    "sam_var = df[months].var()"
   ]
  },
  {
   "cell_type": "code",
   "execution_count": 76,
   "metadata": {
    "collapsed": false
   },
   "outputs": [
    {
     "data": {
      "text/plain": [
       "Apr    4.141670\n",
       "Aug    3.675412\n",
       "Dec    5.427253\n",
       "Feb    5.544702\n",
       "Jan    6.916775\n",
       "Jul    3.789274\n",
       "Jun    5.064968\n",
       "Mar    5.219086\n",
       "May    5.319634\n",
       "Nov    3.694316\n",
       "Oct    2.761383\n",
       "Sep    4.975620\n",
       "dtype: float64"
      ]
     },
     "execution_count": 76,
     "metadata": {},
     "output_type": "execute_result"
    }
   ],
   "source": [
    "sam_var"
   ]
  },
  {
   "cell_type": "markdown",
   "metadata": {},
   "source": [
    "#### Maximum likelihood estimation\n",
    "\n",
    "#### Poisson distribution:\n",
    "        mean = lambda\n",
    "        variance = lambda"
   ]
  },
  {
   "cell_type": "code",
   "execution_count": 97,
   "metadata": {
    "collapsed": false
   },
   "outputs": [
    {
     "data": {
      "text/plain": [
       "4.5445714285714303"
      ]
     },
     "execution_count": 97,
     "metadata": {},
     "output_type": "execute_result"
    }
   ],
   "source": [
    "lambd = mean\n",
    "lambd[1]"
   ]
  },
  {
   "cell_type": "markdown",
   "metadata": {},
   "source": [
    "Given data was drawn from a Poisson distribution, where , calculate the likelihood of observing a value of 6. Use .pmf()."
   ]
  },
  {
   "cell_type": "code",
   "execution_count": 88,
   "metadata": {
    "collapsed": false
   },
   "outputs": [
    {
     "data": {
      "text/plain": [
       "0.12999983830382261"
      ]
     },
     "execution_count": 88,
     "metadata": {},
     "output_type": "execute_result"
    }
   ],
   "source": [
    "stats.poisson.pmf(6, lambd[1])"
   ]
  },
  {
   "cell_type": "markdown",
   "metadata": {},
   "source": [
    "Create a likelihood() function that takes in a lambda and a discrete value, and returns the likelihood of observing that value given the particular lambda."
   ]
  },
  {
   "cell_type": "code",
   "execution_count": 95,
   "metadata": {
    "collapsed": true
   },
   "outputs": [],
   "source": [
    "def likelihood(x, lbd):\n",
    "    return lbd ** x / math.factorial(x) * math.exp(-lbd)\n",
    "    "
   ]
  },
  {
   "cell_type": "code",
   "execution_count": 98,
   "metadata": {
    "collapsed": false
   },
   "outputs": [
    {
     "data": {
      "text/plain": [
       "0.12999983830382278"
      ]
     },
     "execution_count": 98,
     "metadata": {},
     "output_type": "execute_result"
    }
   ],
   "source": [
    "likelihood(6, lambd[1])"
   ]
  },
  {
   "cell_type": "markdown",
   "metadata": {},
   "source": [
    "Using numpy, read the file data/poisson.txt into a numpy array.\n",
    "\n"
   ]
  },
  {
   "cell_type": "code",
   "execution_count": 102,
   "metadata": {
    "collapsed": true
   },
   "outputs": [],
   "source": [
    "poisson_arr = np.genfromtxt('data/poisson.txt', delimiter=',')"
   ]
  },
  {
   "cell_type": "code",
   "execution_count": 104,
   "metadata": {
    "collapsed": false
   },
   "outputs": [
    {
     "data": {
      "text/plain": [
       "array([  4.,   2.,   6.,   3.,   6.,   5.,   4.,  11.,   5.,  11.])"
      ]
     },
     "execution_count": 104,
     "metadata": {},
     "output_type": "execute_result"
    }
   ],
   "source": [
    "poisson_arr[:10]"
   ]
  },
  {
   "cell_type": "markdown",
   "metadata": {},
   "source": [
    "For a continuous range of lambda ranging from 1 - 17 (use numpy.linspace()), get the likelihood of all the data points. Take the log (numpy.log()) of the likelihoods so we can sum the log likelihoods."
   ]
  },
  {
   "cell_type": "code",
   "execution_count": 111,
   "metadata": {
    "collapsed": false
   },
   "outputs": [
    {
     "data": {
      "text/plain": [
       "array([ 1,  2,  3,  4,  5,  6,  7,  8,  9, 10, 11, 12, 13, 14, 15, 16])"
      ]
     },
     "execution_count": 111,
     "metadata": {},
     "output_type": "execute_result"
    }
   ],
   "source": [
    "x_np = np.arange(1, 17)\n",
    "x_np"
   ]
  },
  {
   "cell_type": "code",
   "execution_count": 112,
   "metadata": {
    "collapsed": false
   },
   "outputs": [],
   "source": [
    "loglikelihood = [ likelihood(i, lambd[1]) for i in x_np]"
   ]
  },
  {
   "cell_type": "markdown",
   "metadata": {},
   "source": [
    "Plot the total likelihood (sum over all data points) for various values of lambda and determine the lambda which maximizes the likelihood. This is our MLE point estimate."
   ]
  },
  {
   "cell_type": "code",
   "execution_count": 114,
   "metadata": {
    "collapsed": false
   },
   "outputs": [],
   "source": [
    "totallikelihood = np.sum([ likelihood(i, lambd[1]) for i in x_np])"
   ]
  },
  {
   "cell_type": "code",
   "execution_count": 115,
   "metadata": {
    "collapsed": false
   },
   "outputs": [
    {
     "data": {
      "text/plain": [
       "0.98936929640337978"
      ]
     },
     "execution_count": 115,
     "metadata": {},
     "output_type": "execute_result"
    }
   ],
   "source": [
    "totallikelihood"
   ]
  },
  {
   "cell_type": "markdown",
   "metadata": {},
   "source": [
    "___\n",
    "CLT"
   ]
  },
  {
   "cell_type": "code",
   "execution_count": 132,
   "metadata": {
    "collapsed": true
   },
   "outputs": [],
   "source": [
    "def graph_creator(distribution, parameters, size):\n",
    "    \n",
    "    if distribution == 'binomial':\n",
    "        n, p = parameters['n'], parameters['p']\n",
    "        distri = stats.binom(n, p).rvs(size)\n",
    "    \n",
    "    elif distribution == 'bernoulli':\n",
    "        p = parameters['p']\n",
    "        distri =  stats.bernoulli(p).rvs(p, size)\n",
    "\n",
    "    elif distribution == 'poisson':\n",
    "        lambd = parameters['l']\n",
    "        distri = stats.poisson(lambd).rvs(size)\n",
    "    \n",
    "    elif distribution == 'normal':\n",
    "        m, s = parameters['m'], paremeters['s']\n",
    "        distri= stats.norm(m, s).rvs(size)\n",
    "        \n",
    "    elif distribution == 'exponential':\n",
    "        lambd = parameters['l']\n",
    "        distri = stats.expon(lambd).rvs(size)\n",
    "    \n",
    "    elif distribution == 'gamma':\n",
    "        a, b = parameters['a'], parameters['b']\n",
    "        distri = stats.gamma(a, scale=b).rvs(size)\n",
    "        \n",
    "    else:\n",
    "        distri = None\n",
    "    \n",
    "    return distri\n",
    "        "
   ]
  },
  {
   "cell_type": "code",
   "execution_count": 136,
   "metadata": {
    "collapsed": false
   },
   "outputs": [
    {
     "data": {
      "image/png": "[encoded data removed]",
      "text/plain": [
       "<matplotlib.figure.Figure at 0x10b8c3dd0>"
      ]
     },
     "metadata": {},
     "output_type": "display_data"
    }
   ],
   "source": [
    "x_ = graph_creator('gamma',{'a': 5, 'b': 0.5}, 50)\n",
    "_x = plt.hist(x_, bins = 100)"
   ]
  },
  {
   "cell_type": "code",
   "execution_count": null,
   "metadata": {
    "collapsed": true
   },
   "outputs": [],
   "source": []
  },
  {
   "cell_type": "code",
   "execution_count": null,
   "metadata": {
    "collapsed": true
   },
   "outputs": [],
   "source": []
  },
  {
   "cell_type": "code",
   "execution_count": null,
   "metadata": {
    "collapsed": true
   },
   "outputs": [],
   "source": []
  },
  {
   "cell_type": "code",
   "execution_count": null,
   "metadata": {
    "collapsed": true
   },
   "outputs": [],
   "source": []
  },
  {
   "cell_type": "code",
   "execution_count": null,
   "metadata": {
    "collapsed": true
   },
   "outputs": [],
   "source": []
  },
  {
   "cell_type": "code",
   "execution_count": null,
   "metadata": {
    "collapsed": true
   },
   "outputs": [],
   "source": []
  }
 ],
 "metadata": {
  "kernelspec": {
   "display_name": "Python 2",
   "language": "python",
   "name": "python2"
  },
  "language_info": {
   "codemirror_mode": {
    "name": "ipython",
    "version": 2
   },
   "file_extension": ".py",
   "mimetype": "text/x-python",
   "name": "python",
   "nbconvert_exporter": "python",
   "pygments_lexer": "ipython2",
   "version": "2.7.10"
  }
 },
 "nbformat": 4,
 "nbformat_minor": 0
}
