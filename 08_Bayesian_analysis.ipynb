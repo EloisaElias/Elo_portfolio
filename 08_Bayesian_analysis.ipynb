{
 "cells": [
  {
   "cell_type": "markdown",
   "metadata": {},
   "source": [
    "### Bayesian Analysis"
   ]
  },
  {
   "cell_type": "code",
   "execution_count": 11,
   "metadata": {
    "collapsed": false
   },
   "outputs": [],
   "source": [
    "from __future__ import division\n",
    "from collections import OrderedDict\n",
    "\n",
    "import pandas as pd\n",
    "import numpy as np\n",
    "import scipy.stats as stats\n",
    "import matplotlib.pyplot as plt\n",
    "import itertools\n",
    "import operator\n",
    "\n",
    "\n",
    "\n",
    "\n",
    "%matplotlib inline"
   ]
  },
  {
   "cell_type": "markdown",
   "metadata": {},
   "source": [
    "A box contains a 4-sided die, a 6-sided die, an 8-sided die, a 12-sided die, and a 20-sided die. A die is selected at random, and the rest are destroyed.\n",
    "\n",
    "We would like to determine which die I have selected, given only information of what I roll.\n"
   ]
  },
  {
   "cell_type": "markdown",
   "metadata": {},
   "source": [
    "---\n",
    "\n",
    "**Prior Probability**:\n",
    "- A PMF / PDF representing your initial beliefs about the parameter(s).  \n",
    "- The initial belief is less represented as more data is incorporated\n",
    "\n",
    "\n",
    "\n",
    "For this case our prior probability is a uniform distribution of the parameters (the dices $\\theta$ ). Each dice has equal chance to be selected.\n",
    "\n",
    "(**Prior**) $\\pi(\\theta) $ = U{4, 6, 8, 12, 20} = One-fifth chance for each dice.\n",
    "\n",
    "\n",
    "*   4-side: 1./5 = 0.2\n",
    "*   6-side: 1./5 = 0.2\n",
    "*   8-side: 1./5 = 0.2\n",
    "*   12-side: 1./5 = 0.2\n",
    "*   20-side: 1./5 = 0.2\n"
   ]
  },
  {
   "cell_type": "markdown",
   "metadata": {},
   "source": [
    "---\n",
    "**Likelihood of Observations**:\n",
    "- The probability of observing the data given the parameter(s)\n",
    "- i.e. What is the likelihood of 3 Heads in a row given the probability of heads is 0.7?\n",
    "\n",
    "The likelihood function is the probability of getting the data (the roll 'Y') given the parameter (the dice $\\theta$ ). \n",
    "\n",
    "\n",
    "\n",
    "(**Likelihood**) $f(y|\\theta) = \\begin{cases}\n",
    "\\text{Unif}\\{1, 2, 3, 4\\},& \\theta = 4 \\\\\n",
    "\\text{Unif}\\{1, \\ldots, 6\\}, & \\theta = 6 \\\\\n",
    "\\text{Unif}\\{1, \\ldots, 8\\}, & \\theta = 8 \\\\\n",
    "\\text{Unif}\\{1, \\ldots, 12\\}, & \\theta = 12\\\\\n",
    "\\text{Unif}\\{1, \\ldots, 20\\}, & \\theta = 20\\\\\n",
    "\\end{cases}$\n",
    "\n",
    "*   4-side: 1./4 = 0.25\n",
    "*   6-side: 1./6 = 0.166\n",
    "*   8-side: 1./8 = 0.125\n",
    "*   12-side: 1./12 = 0.083\n",
    "*   20-side: 1./20 = 0.05\n",
    "\n"
   ]
  },
  {
   "cell_type": "markdown",
   "metadata": {},
   "source": [
    "---\n",
    "**Normalizing Constant**:\n",
    "- The probability of observing the data. \n",
    "- In Bayesian analysis, this term ensures the sum of all probabilities is 1\n",
    "\n",
    "(**Normalizing**) $ P(Y) = \\sum_{i=1}^n P(Y | \\theta_i) P(\\theta_i) $\n",
    "\n",
    "Say I roll a 3.\n",
    "\n",
    "$P(Y)$ = (1./4 $\\times$ 1./5) + (1./6 $\\times$ 1./5) + (1./8 $\\times$ 1./5) + (1./12 $\\times$ 1./5) + (1./20 $\\times$ 1./5) = 0.135\n",
    "\n",
    "---"
   ]
  },
  {
   "cell_type": "markdown",
   "metadata": {},
   "source": [
    "\n",
    "**Posterior Probability**:\n",
    "- The product of prior and likelihood (Bayesian-update)\n",
    "- The posterior probability becomes the prior of the next Bayesian-update\n",
    "\n",
    "Say I roll an 8. After one bayesian update, what is the probability that I chose each of the dice?\n",
    "\n",
    "\n",
    "(**Posterior**) $\\pi_1(\\theta\\,|\\,8) = \\begin{cases}\n",
    "\\frac{15}{31}, & \\theta = 8\\\\\n",
    "\\frac{10}{31}, & \\theta = 12\\\\\n",
    "\\frac{6}{31}, & \\theta = 20\\\\\n",
    "0,& \\text otherwise\n",
    "\\end{cases}$\n",
    "\n",
    "\n",
    "* 4-sided die: (prior * 0(zero)) / normalizing =  0%  # because this die does not contain 8\n",
    "* 6-sided die: (prior * 0(zero)) / normalizing =  0%  # because this die does not contain 8\n",
    "* 8-sided die: (prior * likelihood) / normalizing =  48.4%\n",
    "* 12-sided die:(prior * likelihood) / normalizing =  32.3%\n",
    "* 20-sided die:(prior * likelihood) / normalizing =  19.4%\n"
   ]
  },
  {
   "cell_type": "markdown",
   "metadata": {},
   "source": [
    "---\n",
    "The posteriors if I had rolled the die 50 times instead of 1.\n",
    "\n",
    "It will converge towards the actual parameter.\n",
    "\n",
    "---"
   ]
  },
  {
   "cell_type": "markdown",
   "metadata": {},
   "source": [
    "\n",
    "Which one of these two sets of data gives you a more certain posterior and why?\n",
    "\n",
    "`[1, 1, 1, 3, 1, 2]` \n",
    "or \n",
    "`[10, 10, 10, 10, 8, 8]`\n",
    "\n",
    "\n",
    "-The second set of data, since it rules out the parameters of the 4 and 6 sided die.\n",
    "\n",
    "---"
   ]
  },
  {
   "cell_type": "markdown",
   "metadata": {},
   "source": [
    "Say that I modify my prior by my belief that bigger dice are more likely to be drawn from the box. This is my prior distribution:\n",
    "\n",
    "(**Prior**) $\\pi(\\theta) $ =\n",
    "```\n",
    "4-sided die: 8%\n",
    "6-sided die: 12%\n",
    "8-sided die: 16%\n",
    "12-sided die: 24%\n",
    "20-sided die: 40%\n",
    "```\n",
    "\n",
    "\n",
    "What are my posteriors for each die after rolling the 8?\n",
    "\n",
    "\n",
    "\n",
    "(**Posterior**) $\\pi_1(\\theta\\,|\\,8) = \\begin{cases}\n",
    "\\frac{1}{3}, & \\theta = 8\\\\\n",
    "\\frac{1}{3}, & \\theta = 12\\\\\n",
    "\\frac{1}{3}, & \\theta = 20\\\\\n",
    "0,& \\text otherwise\n",
    "\\end{cases}$\n",
    "\n",
    "\n",
    "* 4-sided die: (prior * 0(zero)) / normalizing =  0%  # because this die does not contain 8\n",
    "* 6-sided die: (prior * 0(zero)) / normalizing =  0%  # because this die does not contain 8\n",
    "* 8-sided die: (prior * likelihood) / normalizing =  33.3%\n",
    "* 12-sided die:(prior * likelihood) / normalizing =  33.3%\n",
    "* 20-sided die:(prior * likelihood) / normalizing =  33.3%\n",
    "\n",
    "\n",
    "Which die do we think is most likely? Is this different than what you got with the previous prior?\n",
    "\n",
    "Yes, its different. 8, 12, and 20 are equally likely.\n"
   ]
  },
  {
   "cell_type": "markdown",
   "metadata": {},
   "source": [
    "---\n",
    "Say you keep the same prior and you roll the die 50 times and get values 1-8 every time. What would you expect of the posterior? How different do you think it would be if you'd used the uniform prior?\n",
    "\n",
    "\n",
    "If we got values 1-8 for the next 50 die rolls, the posterior would be that we likely have the 8-sided die and the distribution would converge towards the 8 sided die.  \n",
    "\n",
    "If we used the uniform prior, we would have the same result after 50 rolls, but the shape of the distribution would be different in intermediary rolls."
   ]
  },
  {
   "cell_type": "code",
   "execution_count": null,
   "metadata": {
    "collapsed": false
   },
   "outputs": [],
   "source": [
    "prior = 1./5\n",
    "prior"
   ]
  },
  {
   "cell_type": "code",
   "execution_count": null,
   "metadata": {
    "collapsed": false
   },
   "outputs": [],
   "source": [
    "normalizing = (1./8*1./5 + 1./12*1./5 + 1./20*1./5)\n",
    "normalizing"
   ]
  },
  {
   "cell_type": "code",
   "execution_count": null,
   "metadata": {
    "collapsed": false
   },
   "outputs": [],
   "source": [
    "likelihood = 1./8\n",
    "likelihood"
   ]
  },
  {
   "cell_type": "code",
   "execution_count": null,
   "metadata": {
    "collapsed": false
   },
   "outputs": [],
   "source": [
    "bayes_8  = (prior * likelihood) / normalizing\n",
    "bayes_8"
   ]
  },
  {
   "cell_type": "code",
   "execution_count": null,
   "metadata": {
    "collapsed": false
   },
   "outputs": [],
   "source": [
    "bayes_12  = (prior * (1./12)) / normalizing\n",
    "bayes_12"
   ]
  },
  {
   "cell_type": "code",
   "execution_count": null,
   "metadata": {
    "collapsed": false
   },
   "outputs": [],
   "source": [
    "bayes_20 = (prior * (1./20)) / normalizing\n",
    "bayes_20"
   ]
  },
  {
   "cell_type": "code",
   "execution_count": null,
   "metadata": {
    "collapsed": false
   },
   "outputs": [],
   "source": [
    "1./4*1./5 + 1./6*1./5 + 1./8*1./5 + 1./12*1./5 + 1./20*1./5 "
   ]
  },
  {
   "cell_type": "code",
   "execution_count": null,
   "metadata": {
    "collapsed": false
   },
   "outputs": [],
   "source": [
    "normalizing_new_belief = (1./8*.16 + 1./12*.24 + 1./20*.40)\n",
    "normalizing_new_belief"
   ]
  },
  {
   "cell_type": "code",
   "execution_count": null,
   "metadata": {
    "collapsed": false
   },
   "outputs": [],
   "source": [
    "bayes_II = (0.16 * (1/8)) / normalizing_new_belief\n",
    "bayes_II # for 8 side"
   ]
  },
  {
   "cell_type": "code",
   "execution_count": null,
   "metadata": {
    "collapsed": false
   },
   "outputs": [],
   "source": [
    "bayes_II_12 = (0.24 * (1/12)) / normalizing_new_belief\n",
    "bayes_II_12"
   ]
  },
  {
   "cell_type": "code",
   "execution_count": null,
   "metadata": {
    "collapsed": false
   },
   "outputs": [],
   "source": [
    "bayes_II_20 = (0.40 * (1/20)) / normalizing_new_belief\n",
    "bayes_II_20"
   ]
  },
  {
   "cell_type": "markdown",
   "metadata": {},
   "source": [
    "### OO Bayes"
   ]
  },
  {
   "cell_type": "code",
   "execution_count": 1,
   "metadata": {
    "collapsed": false
   },
   "outputs": [
    {
     "data": {
      "text/plain": [
       "u'/Users/eloisaelias/Desktop/weeks/_ipython'"
      ]
     },
     "execution_count": 1,
     "metadata": {},
     "output_type": "execute_result"
    }
   ],
   "source": [
    "pwd"
   ]
  },
  {
   "cell_type": "code",
   "execution_count": 4,
   "metadata": {
    "collapsed": false
   },
   "outputs": [
    {
     "name": "stdout",
     "output_type": "stream",
     "text": [
      "/Users/eloisaelias/Desktop\n"
     ]
    }
   ],
   "source": [
    "cd .."
   ]
  },
  {
   "cell_type": "code",
   "execution_count": 5,
   "metadata": {
    "collapsed": false
   },
   "outputs": [
    {
     "name": "stdout",
     "output_type": "stream",
     "text": [
      "/Users/eloisaelias/Desktop/weeks_SHARED/W2_shared/power-bayesian/code\n"
     ]
    }
   ],
   "source": [
    "cd weeks_SHARED/W2_shared/power-bayesian/code"
   ]
  },
  {
   "cell_type": "code",
   "execution_count": 6,
   "metadata": {
    "collapsed": false
   },
   "outputs": [
    {
     "data": {
      "text/plain": [
       "u'/Users/eloisaelias/Desktop/weeks_SHARED/W2_shared/power-bayesian/code'"
      ]
     },
     "execution_count": 6,
     "metadata": {},
     "output_type": "execute_result"
    }
   ],
   "source": [
    "pwd"
   ]
  },
  {
   "cell_type": "code",
   "execution_count": 8,
   "metadata": {
    "collapsed": false
   },
   "outputs": [],
   "source": [
    "prior = {'4': .2, '6': .2, '8': .2, '12': .2, '20': .2}"
   ]
  },
  {
   "cell_type": "code",
   "execution_count": 9,
   "metadata": {
    "collapsed": false
   },
   "outputs": [],
   "source": [
    "my_prior = {'4': .08, '6': .12, '8': .16, '12': .24, '20': .40}"
   ]
  },
  {
   "cell_type": "code",
   "execution_count": 80,
   "metadata": {
    "collapsed": false
   },
   "outputs": [],
   "source": [
    "from el_bayes import Bayes"
   ]
  },
  {
   "cell_type": "code",
   "execution_count": 81,
   "metadata": {
    "collapsed": true
   },
   "outputs": [],
   "source": [
    "def likelihood(data, key):\n",
    "    if float(data) > float(key):\n",
    "        return 0 \n",
    "    else:\n",
    "        return 1. / float(key)\n"
   ]
  },
  {
   "cell_type": "code",
   "execution_count": 82,
   "metadata": {
    "collapsed": false
   },
   "outputs": [],
   "source": [
    "test = Bayes(prior.copy(), likelihood)"
   ]
  },
  {
   "cell_type": "code",
   "execution_count": 83,
   "metadata": {
    "collapsed": false
   },
   "outputs": [
    {
     "name": "stdout",
     "output_type": "stream",
     "text": [
      "(4, 0.2)\n",
      "(6, 0.2)\n",
      "(8, 0.2)\n",
      "(12, 0.2)\n",
      "(20, 0.2)\n"
     ]
    }
   ],
   "source": [
    "test.print_distribution()"
   ]
  },
  {
   "cell_type": "code",
   "execution_count": 84,
   "metadata": {
    "collapsed": false
   },
   "outputs": [
    {
     "data": {
      "image/png": "[encoded data removed]",
      "text/plain": [
       "<matplotlib.figure.Figure at 0x108faefd0>"
      ]
     },
     "metadata": {},
     "output_type": "display_data"
    }
   ],
   "source": [
    "test.plot()"
   ]
  },
  {
   "cell_type": "code",
   "execution_count": 85,
   "metadata": {
    "collapsed": false
   },
   "outputs": [],
   "source": [
    "test.update_posterior(8)"
   ]
  },
  {
   "cell_type": "code",
   "execution_count": 86,
   "metadata": {
    "collapsed": false
   },
   "outputs": [
    {
     "name": "stdout",
     "output_type": "stream",
     "text": [
      "(4, 0.0)\n",
      "(6, 0.0)\n",
      "(8, 0.483870967742)\n",
      "(12, 0.322580645161)\n",
      "(20, 0.193548387097)\n"
     ]
    }
   ],
   "source": [
    "test.print_distribution()"
   ]
  },
  {
   "cell_type": "code",
   "execution_count": 87,
   "metadata": {
    "collapsed": false
   },
   "outputs": [
    {
     "data": {
      "image/png": "[encoded data removed]",
      "text/plain": [
       "<matplotlib.figure.Figure at 0x10b796fd0>"
      ]
     },
     "metadata": {},
     "output_type": "display_data"
    }
   ],
   "source": [
    "test.plot()"
   ]
  },
  {
   "cell_type": "code",
   "execution_count": 88,
   "metadata": {
    "collapsed": true
   },
   "outputs": [],
   "source": [
    "test_II = Bayes(my_prior.copy(), likelihood)"
   ]
  },
  {
   "cell_type": "code",
   "execution_count": 89,
   "metadata": {
    "collapsed": false
   },
   "outputs": [
    {
     "name": "stdout",
     "output_type": "stream",
     "text": [
      "(4, 0.08)\n",
      "(6, 0.12)\n",
      "(8, 0.16)\n",
      "(12, 0.24)\n",
      "(20, 0.4)\n"
     ]
    }
   ],
   "source": [
    "test_II.print_distribution()"
   ]
  },
  {
   "cell_type": "code",
   "execution_count": 90,
   "metadata": {
    "collapsed": false
   },
   "outputs": [
    {
     "data": {
      "image/png": "[encoded data removed]",
      "text/plain": [
       "<matplotlib.figure.Figure at 0x10b7963d0>"
      ]
     },
     "metadata": {},
     "output_type": "display_data"
    }
   ],
   "source": [
    "test_II.plot()"
   ]
  },
  {
   "cell_type": "code",
   "execution_count": 91,
   "metadata": {
    "collapsed": true
   },
   "outputs": [],
   "source": [
    "test_II.update_posterior(8)"
   ]
  },
  {
   "cell_type": "code",
   "execution_count": 92,
   "metadata": {
    "collapsed": false
   },
   "outputs": [
    {
     "name": "stdout",
     "output_type": "stream",
     "text": [
      "(4, 0.0)\n",
      "(6, 0.0)\n",
      "(8, 0.333333333333)\n",
      "(12, 0.333333333333)\n",
      "(20, 0.333333333333)\n"
     ]
    }
   ],
   "source": [
    "test_II.print_distribution()"
   ]
  },
  {
   "cell_type": "code",
   "execution_count": 93,
   "metadata": {
    "collapsed": false
   },
   "outputs": [
    {
     "data": {
      "image/png": "[encoded data removed]",
      "text/plain": [
       "<matplotlib.figure.Figure at 0x10b722150>"
      ]
     },
     "metadata": {},
     "output_type": "display_data"
    }
   ],
   "source": [
    "test_II.plot()"
   ]
  },
  {
   "cell_type": "code",
   "execution_count": 94,
   "metadata": {
    "collapsed": true
   },
   "outputs": [],
   "source": [
    "data = [8,2,1,2,5,8,2,4,3,7,6,5,1,6,2,5,8,8,5,3,4,2,4,3,8,\n",
    " 8,7,8,8,8,5,5,1,3,8,7,8,5,2,5,1,4,1,2,1,3,1,3,1,5]"
   ]
  },
  {
   "cell_type": "code",
   "execution_count": 95,
   "metadata": {
    "collapsed": false
   },
   "outputs": [
    {
     "name": "stdout",
     "output_type": "stream",
     "text": [
      "test\n",
      "(4, 0.0)\n",
      "(6, 0.0)\n",
      "(8, 0.999999998954)\n",
      "(12, 1.04555236256e-09)\n",
      "(20, 5.07060239561e-21)\n",
      "\n",
      "test_II\n",
      "(4, 0.0)\n",
      "(6, 0.0)\n",
      "(8, 0.999999998432)\n",
      "(12, 1.56832854302e-09)\n",
      "(20, 1.26765059824e-20)\n"
     ]
    }
   ],
   "source": [
    "for i in data:\n",
    "    test.update_posterior(i)\n",
    "    #test.print_distribution()\n",
    "    test_II.update_posterior(i)\n",
    "\n",
    "print 'test'\n",
    "test.print_distribution()\n",
    "#test.plot(title='test')\n",
    "\n",
    "print\n",
    "print 'test_II'\n",
    "test_II.print_distribution()\n",
    "#test.plot(title='test_II')\n"
   ]
  },
  {
   "cell_type": "markdown",
   "metadata": {},
   "source": [
    "This mean that when we update the posterior with a bunch of values not greater than the parameter in this case 8, then I have the 8-sided die and the distribution is converging towards the 8 sided die.  "
   ]
  },
  {
   "cell_type": "code",
   "execution_count": 96,
   "metadata": {
    "collapsed": false
   },
   "outputs": [
    {
     "data": {
      "text/plain": [
       "[<matplotlib.lines.Line2D at 0x10a218c10>]"
      ]
     },
     "execution_count": 96,
     "metadata": {},
     "output_type": "execute_result"
    },
    {
     "data": {
      "image/png": "[encoded data removed]",
      "text/plain": [
       "<matplotlib.figure.Figure at 0x10b745590>"
      ]
     },
     "metadata": {},
     "output_type": "display_data"
    }
   ],
   "source": [
    "prior_ = {'4': .2, '6': .2, '8': .2, '12': .2, '20': .2}\n",
    "my_prior_ = {'4': .08, '6': .12, '8': .16, '12': .24, '20': .40}\n",
    "plt.plot(prior_.keys(), prior_.values(), 'r')\n",
    "plt.plot(my_prior_.keys(), my_prior_.values(), 'b')"
   ]
  },
  {
   "cell_type": "markdown",
   "metadata": {},
   "source": [
    "### Verifying via simulation"
   ]
  },
  {
   "cell_type": "code",
   "execution_count": 97,
   "metadata": {
    "collapsed": false
   },
   "outputs": [],
   "source": [
    "base = np.linspace(0, 0.99, 100)\n",
    "prior_base = {}\n",
    "for i in base:\n",
    "    prior_base[round(i, 2)] = 0.01"
   ]
  },
  {
   "cell_type": "code",
   "execution_count": 101,
   "metadata": {
    "collapsed": true
   },
   "outputs": [],
   "source": [
    "def likelihood_funct_bernoulli(data, p):\n",
    "    if data == 'H':\n",
    "        return p\n",
    "    else:\n",
    "        return 1 - p\n",
    "    "
   ]
  },
  {
   "cell_type": "code",
   "execution_count": 102,
   "metadata": {
    "collapsed": true
   },
   "outputs": [],
   "source": [
    "coin_1 = Bayes(prior_base.copy(), likelihood_funct_bernoulli)\n",
    "coin_2 = Bayes(prior_base.copy(), likelihood_funct_bernoulli)\n",
    "coin_3 = Bayes(prior_base.copy(), likelihood_funct_bernoulli)\n",
    "coin_4 = Bayes(prior_base.copy(), likelihood_funct_bernoulli)\n",
    "coin_5 = Bayes(prior_base.copy(), likelihood_funct_bernoulli)\n",
    "coin_6 = Bayes(prior_base.copy(), likelihood_funct_bernoulli)\n",
    "coin_7 = Bayes(prior_base.copy(), likelihood_funct_bernoulli)\n",
    "coin_8 = Bayes(prior_base.copy(), likelihood_funct_bernoulli)"
   ]
  },
  {
   "cell_type": "code",
   "execution_count": 103,
   "metadata": {
    "collapsed": false
   },
   "outputs": [],
   "source": [
    "coin_1.update_posterior('H')\n",
    "coin_2.update_posterior('T')\n",
    "coin_3.update_posterior('H')\n",
    "coin_3.update_posterior('H')\n",
    "coin_4.update_posterior('T')\n",
    "coin_4.update_posterior('H')\n",
    "coin_5.update_posterior('H')\n",
    "coin_5.update_posterior('H')\n",
    "coin_5.update_posterior('H')\n",
    "coin_6.update_posterior('T')\n",
    "coin_6.update_posterior('H')\n",
    "coin_6.update_posterior('T')\n",
    "coin_7.update_posterior('H')\n",
    "coin_7.update_posterior('H')\n",
    "coin_7.update_posterior('H')\n",
    "coin_7.update_posterior('H')\n",
    "coin_8.update_posterior('T')\n",
    "coin_8.update_posterior('H')\n",
    "coin_8.update_posterior('T')\n",
    "coin_8.update_posterior('H')"
   ]
  },
  {
   "cell_type": "code",
   "execution_count": 104,
   "metadata": {
    "collapsed": false
   },
   "outputs": [
    {
     "data": {
      "image/png": "[encoded data removed]",
      "text/plain": [
       "<matplotlib.figure.Figure at 0x10949bb50>"
      ]
     },
     "metadata": {},
     "output_type": "display_data"
    }
   ],
   "source": [
    "coin_1.plot()"
   ]
  },
  {
   "cell_type": "code",
   "execution_count": 105,
   "metadata": {
    "collapsed": false
   },
   "outputs": [
    {
     "data": {
      "image/png": "[encoded data removed]",
      "text/plain": [
       "<matplotlib.figure.Figure at 0x10b745b10>"
      ]
     },
     "metadata": {},
     "output_type": "display_data"
    }
   ],
   "source": [
    "plt.subplot(4, 2, 1)\n",
    "coin_1.plot(title= 'Coin_1')\n",
    "\n",
    "plt.subplot(4, 2, 2)\n",
    "coin_2.plot(title= 'Coin_2')\n",
    "\n",
    "plt.subplot(4, 2, 3)\n",
    "coin_3.plot(title= 'Coin_3')\n",
    "\n",
    "plt.subplot(4, 2, 4)\n",
    "coin_4.plot(title= 'Coin_4')\n",
    "\n",
    "plt.subplot(4, 2, 5)\n",
    "coin_5.plot(title= 'Coin_5')\n",
    "\n",
    "plt.subplot(4, 2, 6)\n",
    "coin_6.plot(title= 'Coin_6')\n",
    "\n",
    "plt.subplot(4, 2, 7)\n",
    "coin_7.plot(title= 'Coin_7')\n",
    "\n",
    "plt.subplot(4, 2, 8)\n",
    "coin_8.plot(title= 'Coin_8')\n",
    "\n",
    "plt.tight_layout()"
   ]
  },
  {
   "cell_type": "code",
   "execution_count": 107,
   "metadata": {
    "collapsed": true
   },
   "outputs": [],
   "source": [
    "from coin import Coin"
   ]
  },
  {
   "cell_type": "code",
   "execution_count": 108,
   "metadata": {
    "collapsed": true
   },
   "outputs": [],
   "source": [
    "my_coin = Coin()"
   ]
  },
  {
   "cell_type": "code",
   "execution_count": 114,
   "metadata": {
    "collapsed": false
   },
   "outputs": [
    {
     "data": {
      "text/plain": [
       "'H'"
      ]
     },
     "execution_count": 114,
     "metadata": {},
     "output_type": "execute_result"
    }
   ],
   "source": [
    "my_coin.flip()"
   ]
  },
  {
   "cell_type": "markdown",
   "metadata": {},
   "source": [
    "coin flip number = coinf_#"
   ]
  },
  {
   "cell_type": "code",
   "execution_count": 115,
   "metadata": {
    "collapsed": false
   },
   "outputs": [],
   "source": [
    "coinf_0 = Bayes(prior_base.copy(), likelihood_funct_bernoulli)\n",
    "coinf_1 = Bayes(prior_base.copy(), likelihood_funct_bernoulli)\n",
    "coinf_2 = Bayes(prior_base.copy(), likelihood_funct_bernoulli)\n",
    "coinf_10 = Bayes(prior_base.copy(), likelihood_funct_bernoulli)\n",
    "coinf_50 = Bayes(prior_base.copy(), likelihood_funct_bernoulli)\n",
    "coinf_250 =Bayes(prior_base.copy(), likelihood_funct_bernoulli)"
   ]
  },
  {
   "cell_type": "code",
   "execution_count": null,
   "metadata": {
    "collapsed": true
   },
   "outputs": [],
   "source": []
  },
  {
   "cell_type": "code",
   "execution_count": 116,
   "metadata": {
    "collapsed": true
   },
   "outputs": [],
   "source": [
    "coinf_1.update_posterior(my_coin.flip())"
   ]
  },
  {
   "cell_type": "code",
   "execution_count": 117,
   "metadata": {
    "collapsed": true
   },
   "outputs": [],
   "source": [
    "for i in xrange(2):\n",
    "    coinf_2.update_posterior(my_coin.flip())\n",
    "\n"
   ]
  },
  {
   "cell_type": "code",
   "execution_count": 118,
   "metadata": {
    "collapsed": true
   },
   "outputs": [],
   "source": [
    "for i in xrange(10):\n",
    "    coinf_10.update_posterior(my_coin.flip())\n"
   ]
  },
  {
   "cell_type": "code",
   "execution_count": 119,
   "metadata": {
    "collapsed": true
   },
   "outputs": [],
   "source": [
    "for i in xrange(50):\n",
    "    coinf_50.update_posterior(my_coin.flip())\n"
   ]
  },
  {
   "cell_type": "code",
   "execution_count": 120,
   "metadata": {
    "collapsed": true
   },
   "outputs": [],
   "source": [
    "for i in xrange(250):\n",
    "    coinf_250.update_posterior(my_coin.flip())\n"
   ]
  },
  {
   "cell_type": "code",
   "execution_count": 128,
   "metadata": {
    "collapsed": false
   },
   "outputs": [
    {
     "data": {
      "image/png": "[encoded data removed]",
      "text/plain": [
       "<matplotlib.figure.Figure at 0x1093f4210>"
      ]
     },
     "metadata": {},
     "output_type": "display_data"
    }
   ],
   "source": [
    "coinf_0.plot(label='uniform_dist')\n",
    "coinf_1.plot(label='flip_1')\n",
    "coinf_2.plot(label='flip_2' )\n",
    "coinf_10.plot(label='flip_10')\n",
    "coinf_50.plot(label='flip_50')\n",
    "coinf_250.plot(label='flip_250')\n",
    "plt.title('Dreams of Redhot chili peppers & Bayes');\n",
    "plt.legend();"
   ]
  },
  {
   "cell_type": "code",
   "execution_count": null,
   "metadata": {
    "collapsed": false
   },
   "outputs": [],
   "source": [
    "# factor = 1. / float(sum(prior.values()))\n",
    "# factor"
   ]
  },
  {
   "cell_type": "code",
   "execution_count": null,
   "metadata": {
    "collapsed": false
   },
   "outputs": [],
   "source": [
    "# sorted_dict = OrderedDict(sorted(prior.items(), key=lambda x : x[0]))\n",
    "# for i in sorted_dict:\n",
    "#     print i"
   ]
  },
  {
   "cell_type": "code",
   "execution_count": null,
   "metadata": {
    "collapsed": false
   },
   "outputs": [],
   "source": [
    "# def get_key(key):\n",
    "#     try:\n",
    "#         return int(key)\n",
    "#     except ValueError:\n",
    "#         return key\n",
    "# a = OrderedDict(sorted(prior.items(), key=lambda x: get_key(x[0])))\n",
    "# print a\n",
    "# print 'keys:', a.keys()\n",
    "# print 'values', a.values()\n",
    "# # for i in a:\n",
    "# #     print '({}, {})'.format(i, prior[i])\n",
    "# #     #print a"
   ]
  },
  {
   "cell_type": "code",
   "execution_count": null,
   "metadata": {
    "collapsed": false
   },
   "outputs": [],
   "source": [
    "# suma = 0\n",
    "# for i in unb_prior.values():\n",
    "#     suma += i\n",
    "\n",
    "# suma"
   ]
  }
 ],
 "metadata": {
  "kernelspec": {
   "display_name": "Python 2",
   "language": "python",
   "name": "python2"
  },
  "language_info": {
   "codemirror_mode": {
    "name": "ipython",
    "version": 2
   },
   "file_extension": ".py",
   "mimetype": "text/x-python",
   "name": "python",
   "nbconvert_exporter": "python",
   "pygments_lexer": "ipython2",
   "version": "2.7.10"
  }
 },
 "nbformat": 4,
 "nbformat_minor": 0
}
