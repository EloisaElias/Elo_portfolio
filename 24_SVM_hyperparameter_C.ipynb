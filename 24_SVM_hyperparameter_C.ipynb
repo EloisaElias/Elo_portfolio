{
 "cells": [
  {
   "cell_type": "markdown",
   "metadata": {},
   "source": [
    "## SVM\n",
    "---\n"
   ]
  },
  {
   "cell_type": "markdown",
   "metadata": {},
   "source": [
    "\n",
    "Kernel\n",
    "---\n",
    "\n",
    "\n",
    "#### RBF Kernel\n",
    "**Radial basis function kernel**\n",
    "\n",
    "In machine learning, the (Gaussian) radial basis function kernel, or RBF kernel, is a popular kernel function used in various kernelized learning algorithms. In particular, it is commonly used in support vector machine classification.\n",
    "\n",
    "`K(x, z) = exp(gamma * (distance(x, z))^2)`\n",
    "\n",
    "$ K(\\mathbf {x} ,\\mathbf {x'} )=\\exp({-\\gamma} ||\\mathbf {x} -\\mathbf {x'} ||^{2})$\n",
    "\n",
    "\n",
    "`gamma` is a hyperparameter that determines the spread of the Gaussian around each point. `distance` is Euclidean distance.\n",
    "\n",
    "[Wikipedia - RBF\n",
    "Kernel](http://en.wikipedia.org/wiki/Radial_basis_function_kernel)\n",
    "\n",
    "The RBF kernel on two samples x and x', represented as feature vectors in some input space, is defined as\n",
    "\n",
    "$K(\\mathbf {x} ,\\mathbf {x'} )=\\exp \\left(-{\\frac {||\\mathbf {x} -\\mathbf {x'} ||^{2}}{2\\sigma ^{2}}}\\right)$\n",
    "\n",
    "$\\textstyle ||\\mathbf {x} -\\mathbf {x'} ||^{2}$ may be recognized as the squared Euclidean distance between the two feature vectors. $\\sigma$ is a free parameter. An equivalent, but simpler, definition involves a parameter ${\\displaystyle \\textstyle \\gamma ={\\tfrac {1}{2\\sigma ^{2}}}} $\n",
    "\n",
    "$ K(\\mathbf {x} ,\\mathbf {x'} )=\\exp(-\\gamma ||\\mathbf {x} -\\mathbf {x'} ||^{2})$\n",
    "\n",
    "The Euclidean distance n dimensions\n",
    "\n",
    "In general, for an n-dimensional space, the distance is\n",
    "\n",
    "$d(p, q)=\\sqrt{(p_1- q_1)^2 + (p_2 - q_2)^2+\\cdots+(p_i - q_i)^2+\\cdots+(p_n - q_n)^2}.$\n",
    "\n",
    "The Euclidean distance between p and q is just the Euclidean length of this distance (or displacement) vector:\n",
    "\n",
    "$\\displaystyle \\left\\|\\mathbf {q} -\\mathbf {p} \\right\\|={\\sqrt {(\\mathbf {q} -\\mathbf {p} )\\cdot (\\mathbf {q} -\\mathbf {p} )}}$\n",
    "    \n",
    "In Cartesian coordinates, if p = (p1, p2,..., pn) and q = (q1, q2,..., qn) are two points in Euclidean n-space, then the distance (d) from p to q, or from q to p is given by the Pythagorean formula:\n",
    "\n",
    "$ \\sqrt{\\sum_{i=1}^n (q_i-p_i)^2}$\n",
    "\n",
    "\n",
    "Squared Euclidean distance\n",
    "\n",
    "The standard Euclidean distance can be squared in order to place progressively greater weight on objects that are farther apart. In this case, the equation becomes\n",
    "\n",
    "$\\displaystyle d^{2}(p,q)=(p_{1}-q_{1})^{2}+(p_{2}-q_{2})^{2}+\\cdots +(p_{i}-q_{i})^{2}+\\cdots +(p_{n}-q_{n})^{2}$\n",
    "\n",
    "Squared Euclidean Distance is not a metric as it does not satisfy the triangle inequality, however, it is frequently used in optimization problems in which distances only have to be compared.\n",
    "\n",
    "Since the value of the RBF kernel decreases with distance and ranges between zero (in the limit) and one (when $x = x'$), it has a ready interpretation as a similarity measure.The feature space of the kernel has an infinite number of dimensions; for $ {\\displaystyle \\sigma =1}$, its expansion is:\n",
    "\n",
    "$\\exp \\left(-{\\frac {1}{2}}||\\mathbf {x} -\\mathbf {x'} ||^{2}\\right)=\\sum _{j=0}^{\\infty }{\\frac {(\\mathbf {x} ^{\\top }\\mathbf {x'} )^{j}}{j!}}\\exp \\left(-{\\frac {1}{2}}||\\mathbf {x} ||^{2}\\right)\\exp \\left(-{\\frac {1}{2}}||\\mathbf {x'} ||^{2}\\right) $\n",
    "\n",
    "\n",
    "\n",
    "\n",
    "#### Polynomial Kernel\n",
    "\n",
    "In machine learning, the polynomial kernel is a kernel function commonly used with support vector machines (SVMs) and other kernelized models, that represents the similarity of vectors (training samples) in a feature space over polynomials of the original variables, allowing learning of non-linear models.\n",
    "\n",
    "`K(x, z) = (1 + x.T.dot(z))^d`\n",
    "\n",
    "\n",
    "`d` is a hyperparameter that determines the degree of the polynomial transform.\n",
    "\n",
    "For degree-d polynomials, the polynomial kernel is defined as[2]\n",
    "\n",
    "${\\displaystyle K(x,y)=(x^{\\mathsf {T}}y+c)^{d}}$\n",
    "\n",
    "where $x$ and $y$ are vectors in the input space, i.e. vectors of features computed from training or test samples and $c ≥ 0$ is a free parameter trading off the influence of higher-order versus lower-order terms in the polynomial. When $c = 0$, the kernel is called homogeneous. (A further generalized polykernel divides $xTy$\n",
    "by a user-specified scalar parameter $a$.\n",
    "\n",
    "The nature of φ can be seen from an example. Let $d = 2$, so we get the special case of the quadratic kernel. After using the multinomial theorem (twice—the outermost application is the binomial theorem) and regrouping,\n",
    "\n",
    "$\\displaystyle K(x,y)=\\left(\\sum _{i=1}^{n}x_{i}y_{i}+c\\right)^{2}=\\sum _{i=1}^{n}\\left(x_{i}^{2}\\right)\\left(y_{i}^{2}\\right)+\\sum _{i=2}^{n}\\sum _{j=1}^{i-1}\\left({\\sqrt {2}}x_{i}x_{j}\\right)\\left({\\sqrt {2}}y_{i}y_{j}\\right)+\\sum _{i=1}^{n}\\left({\\sqrt {2c}}x_{i}\\right)\\left({\\sqrt {2c}}y_{i}\\right)+c^{2}$\n",
    "\n",
    "From this it follows that the feature map is given by:\n",
    "\n",
    "${\\displaystyle \\varphi (x)=\\langle x_{n}^{2},\\ldots ,x_{1}^{2},{\\sqrt {2}}x_{n}x_{n-1},\\ldots ,{\\sqrt {2}}x_{n}x_{1},{\\sqrt {2}}x_{n-1}x_{n-2},\\ldots ,{\\sqrt {2}}x_{n-1}x_{1},\\ldots ,{\\sqrt {2}}x_{2}x_{1},{\\sqrt {2c}}x_{n},\\ldots ,{\\sqrt {2c}}x_{1},c\\rangle } $ \n",
    "\n",
    "Although the RBF kernel is more popular in SVM classification than the polynomial kernel, the latter is quite popular in natural language processing (NLP). The most common degree is $d = 2$ (quadratic), since larger degrees tend to overfit on NLP problems.\n",
    "\n",
    "Various ways of computing the polynomial kernel (both exact and approximate) have been devised as alternatives to the usual non-linear SVM training algorithms, including:\n",
    "\n",
    "full expansion of the kernel prior to training/testing with a linear SVM, i.e. full computation of the mapping $φ$ as in polynomial regression; basket mining (using a variant of the apriori algorithm) for the most commonly occurring feature conjunctions in a training set to produce an approximate expansion;\n",
    "\n",
    "inverted indexing of support vectors.\n",
    "\n",
    "One problem with the polynomial kernel is that it may suffer from numerical instability: when $xTy + c < 1, K(x, y) = (xTy + c)d $ tends to zero with increasing $d$, whereas when $xTy + c > 1, K(x, y)$ tends to infinity.\n",
    "\n",
    "References\n",
    "\n",
    "[Wikipedia - Polynomial Kernel](http://en.wikipedia.org/wiki/Polynomial_kernel)\n",
    "\n",
    "In practice, RBF kernels are more often used (scikit learn uses the RBF as the\n",
    "default kernel in SVC). The polynomial kernel at high degrees often leads to overfitting.\n",
    "\n",
    "---\n",
    "\n",
    "[Category: Kernel methods for machine learning](https://en.wikipedia.org/wiki/Category:Kernel_methods_for_machine_learning)\n",
    "\n",
    "\n",
    "F\n",
    "\n",
    "    Fisher kernel\n",
    "\n",
    "G\n",
    "\n",
    "    Gaussian process\n",
    "    Gramian matrix\n",
    "    Graph kernel\n",
    "\n",
    "K\n",
    "\n",
    "    Kernel adaptive filter\n",
    "    Kernel eigenvoice\n",
    "    Kernel method\n",
    "    Kernel methods for vector output\n",
    "    Kernel perceptron\n",
    "    Kernel principal component analysis\n",
    "\n",
    "L\n",
    "\n",
    "    Low Rank Matrix Approximations\n",
    "\n",
    "P\n",
    "\n",
    "    Polynomial kernel\n",
    "\n",
    "R\n",
    "\n",
    "    Radial basis function kernel\n",
    "    Relevance vector machine\n",
    "\n",
    "S\n",
    "\n",
    "    String kernel"
   ]
  },
  {
   "cell_type": "markdown",
   "metadata": {},
   "source": [
    "---\n",
    "Umbalanced classes\n",
    "---\n",
    "\n",
    "One method used to correct for class imbalance is weighting the training examples by the inverse frequency of their class. That is, if a certain class is only a small part of the dataset, we'd weight those examples more heavily so that they have relatively equal weight to the more dominant class.\n",
    "\n",
    "Many SVM implementations address this by assigning different weights to positive and negative instances. Essentially you weigh the samples so that the sum of the weights for the positives will be equal to that of the negatives. Of course, in your evaluation of the SVM you have to remember that if 95% of the data is negative, it is trivial to get 95% accuracy by always predicting negative. So you have to make sure your evaluation metrics are also weighted so that they are balanced."
   ]
  },
  {
   "cell_type": "markdown",
   "metadata": {
    "collapsed": true
   },
   "source": [
    "---\n",
    "The pipeline\n",
    "---\n",
    "\n",
    "\n",
    "Using a Pipeline simplifies this process. Instead of manually running through each of these steps, and then tediously repeating them on the test set, you get a nice, declarative interface where it's easy to see the entire model. This example extracts the text documents, tokenizes them, counts the tokens, and then performs a tf–idf transformation before passing the resulting features along to a multinomial naive Bayes classifier:\n",
    "```\n",
    "pipeline = Pipeline([\n",
    "  ('extract_essays', EssayExractor()),\n",
    "  ('counts', CountVectorizer()),\n",
    "  ('tf_idf', TfidfTransformer()),\n",
    "  ('classifier', MultinomialNB())\n",
    "])\n",
    "\n",
    "train = read_file('data/train.tsv')\n",
    "train_y = extract_targets(train)\n",
    "scores = []\n",
    "train_idx, cv_idx in KFold():\n",
    "  model.fit(train[train_idx], train_y[train_idx])\n",
    "  scores.append(model.score(train[cv_idx], train_y[cv_idx]))\n",
    "\n",
    "print(\"Score: {}\".format(np.mean(scores)))\n",
    "```\n",
    "\n",
    "This pipeline has what I think of as a linear shape. The data flows straight through each step, until it reaches the classifier."
   ]
  },
  {
   "cell_type": "markdown",
   "metadata": {},
   "source": [
    "---\n",
    "Cross-validation \n",
    "---\n",
    "In most cases, we won't be able to visualize our SVM solution, we'll have too many variables. In such cases, we have to rely exclusively on cross-validation to select from among competing solutions."
   ]
  },
  {
   "cell_type": "code",
   "execution_count": 137,
   "metadata": {
    "collapsed": false
   },
   "outputs": [],
   "source": [
    "from sklearn.pipeline import Pipeline\n",
    "from sklearn.preprocessing import StandardScaler\n",
    "from sklearn.svm import SVC\n",
    "from sklearn.svm import LinearSVC\n",
    "from sklearn.cross_validation import cross_val_score, ShuffleSplit\n",
    "from sklearn.grid_search import GridSearchCV\n",
    "from sklearn.multiclass import OneVsRestClassifier, OneVsOneClassifier\n",
    "from sklearn.linear_model import LogisticRegression\n",
    "from sklearn.metrics import accuracy_score, precision_score, recall_score, confusion_matrix\n",
    "\n",
    "from sklearn.datasets import load_digits\n",
    "digits = load_digits() # data-set\n",
    "\n",
    "\n",
    "import pandas as pd\n",
    "import numpy as np\n",
    "import sklearn\n",
    "\n",
    "import matplotlib.pyplot as plt\n",
    "\n",
    "% matplotlib inline"
   ]
  },
  {
   "cell_type": "markdown",
   "metadata": {},
   "source": [
    "---\n",
    "Preprocessing \n",
    "---"
   ]
  },
  {
   "cell_type": "code",
   "execution_count": 7,
   "metadata": {
    "collapsed": true
   },
   "outputs": [],
   "source": [
    "df = pd.read_csv('data/non_sep.csv', index_col=0, names=['x1', 'x2', 'y'], header=0)"
   ]
  },
  {
   "cell_type": "code",
   "execution_count": 8,
   "metadata": {
    "collapsed": false
   },
   "outputs": [
    {
     "data": {
      "text/html": [
       "<div>\n",
       "<table border=\"1\" class=\"dataframe\">\n",
       "  <thead>\n",
       "    <tr style=\"text-align: right;\">\n",
       "      <th></th>\n",
       "      <th>x1</th>\n",
       "      <th>x2</th>\n",
       "      <th>y</th>\n",
       "    </tr>\n",
       "  </thead>\n",
       "  <tbody>\n",
       "    <tr>\n",
       "      <th>count</th>\n",
       "      <td>100.000000</td>\n",
       "      <td>100.000000</td>\n",
       "      <td>100.000000</td>\n",
       "    </tr>\n",
       "    <tr>\n",
       "      <th>mean</th>\n",
       "      <td>-0.012386</td>\n",
       "      <td>-0.133094</td>\n",
       "      <td>0.500000</td>\n",
       "    </tr>\n",
       "    <tr>\n",
       "      <th>std</th>\n",
       "      <td>1.369810</td>\n",
       "      <td>1.008752</td>\n",
       "      <td>0.502519</td>\n",
       "    </tr>\n",
       "    <tr>\n",
       "      <th>min</th>\n",
       "      <td>-3.755291</td>\n",
       "      <td>-2.507250</td>\n",
       "      <td>0.000000</td>\n",
       "    </tr>\n",
       "    <tr>\n",
       "      <th>25%</th>\n",
       "      <td>-1.273584</td>\n",
       "      <td>-0.766468</td>\n",
       "      <td>0.000000</td>\n",
       "    </tr>\n",
       "    <tr>\n",
       "      <th>50%</th>\n",
       "      <td>0.245551</td>\n",
       "      <td>-0.231071</td>\n",
       "      <td>0.500000</td>\n",
       "    </tr>\n",
       "    <tr>\n",
       "      <th>75%</th>\n",
       "      <td>1.113448</td>\n",
       "      <td>0.307598</td>\n",
       "      <td>1.000000</td>\n",
       "    </tr>\n",
       "    <tr>\n",
       "      <th>max</th>\n",
       "      <td>2.830047</td>\n",
       "      <td>2.894940</td>\n",
       "      <td>1.000000</td>\n",
       "    </tr>\n",
       "  </tbody>\n",
       "</table>\n",
       "</div>"
      ],
      "text/plain": [
       "               x1          x2           y\n",
       "count  100.000000  100.000000  100.000000\n",
       "mean    -0.012386   -0.133094    0.500000\n",
       "std      1.369810    1.008752    0.502519\n",
       "min     -3.755291   -2.507250    0.000000\n",
       "25%     -1.273584   -0.766468    0.000000\n",
       "50%      0.245551   -0.231071    0.500000\n",
       "75%      1.113448    0.307598    1.000000\n",
       "max      2.830047    2.894940    1.000000"
      ]
     },
     "execution_count": 8,
     "metadata": {},
     "output_type": "execute_result"
    }
   ],
   "source": [
    "df.describe()"
   ]
  },
  {
   "cell_type": "code",
   "execution_count": 9,
   "metadata": {
    "collapsed": false
   },
   "outputs": [
    {
     "data": {
      "text/html": [
       "<div>\n",
       "<table border=\"1\" class=\"dataframe\">\n",
       "  <thead>\n",
       "    <tr style=\"text-align: right;\">\n",
       "      <th></th>\n",
       "      <th>x1</th>\n",
       "      <th>x2</th>\n",
       "      <th>y</th>\n",
       "    </tr>\n",
       "  </thead>\n",
       "  <tbody>\n",
       "    <tr>\n",
       "      <th>0</th>\n",
       "      <td>0.801034</td>\n",
       "      <td>-0.520977</td>\n",
       "      <td>1</td>\n",
       "    </tr>\n",
       "    <tr>\n",
       "      <th>1</th>\n",
       "      <td>-1.236280</td>\n",
       "      <td>-0.194927</td>\n",
       "      <td>0</td>\n",
       "    </tr>\n",
       "  </tbody>\n",
       "</table>\n",
       "</div>"
      ],
      "text/plain": [
       "         x1        x2  y\n",
       "0  0.801034 -0.520977  1\n",
       "1 -1.236280 -0.194927  0"
      ]
     },
     "execution_count": 9,
     "metadata": {},
     "output_type": "execute_result"
    }
   ],
   "source": [
    "df[:2]"
   ]
  },
  {
   "cell_type": "code",
   "execution_count": 10,
   "metadata": {
    "collapsed": false
   },
   "outputs": [
    {
     "data": {
      "image/png": "[encoded data removed]",
      "text/plain": [
       "<matplotlib.figure.Figure at 0x119ae7610>"
      ]
     },
     "metadata": {},
     "output_type": "display_data"
    }
   ],
   "source": [
    "df.plot(kind='scatter', x='x1', y='x2', c='y', cmap=plt.cm.Spectral, edgecolor='none');"
   ]
  },
  {
   "cell_type": "code",
   "execution_count": 11,
   "metadata": {
    "collapsed": false
   },
   "outputs": [],
   "source": [
    "y = df.pop('y').values\n",
    "feature_names = df.columns\n",
    "X = df.values"
   ]
  },
  {
   "cell_type": "code",
   "execution_count": 12,
   "metadata": {
    "collapsed": false
   },
   "outputs": [
    {
     "data": {
      "text/plain": [
       "Pipeline(steps=[('scaler', StandardScaler(copy=True, with_mean=True, with_std=True)), ('s', SVC(C=1.0, cache_size=200, class_weight=None, coef0=0.0,\n",
       "  decision_function_shape=None, degree=3, gamma='auto', kernel='linear',\n",
       "  max_iter=-1, probability=False, random_state=None, shrinking=True,\n",
       "  tol=0.001, verbose=False))])"
      ]
     },
     "execution_count": 12,
     "metadata": {},
     "output_type": "execute_result"
    }
   ],
   "source": [
    "pipeline = Pipeline([('scaler', StandardScaler()), \n",
    "                     ('s', SVC(kernel='linear'))])\n",
    "pipeline.fit(X, y)"
   ]
  },
  {
   "cell_type": "code",
   "execution_count": 13,
   "metadata": {
    "collapsed": false
   },
   "outputs": [
    {
     "data": {
      "text/plain": [
       "SVC(C=1.0, cache_size=200, class_weight=None, coef0=0.0,\n",
       "  decision_function_shape=None, degree=3, gamma='auto', kernel='linear',\n",
       "  max_iter=-1, probability=False, random_state=None, shrinking=True,\n",
       "  tol=0.001, verbose=False)"
      ]
     },
     "execution_count": 13,
     "metadata": {},
     "output_type": "execute_result"
    }
   ],
   "source": [
    "piped_svc = pipeline._final_estimator\n",
    "piped_svc"
   ]
  },
  {
   "cell_type": "code",
   "execution_count": 14,
   "metadata": {
    "collapsed": true
   },
   "outputs": [],
   "source": [
    "def plot_svc(X, y, feat_names, svc, show=True):\n",
    "    # separating hyperplane\n",
    "    w = svc.coef_[0]\n",
    "    a = -w[0] / w[1]\n",
    "    x_range = np.linspace(np.min(X), np.max(X), 100)\n",
    "    yy_bd = a * x_range - (svc.intercept_[0]) / w[1] # y_boundary\n",
    "    \n",
    "    # parallels to the separating hyperplane\n",
    "    margin = 1 / np.sqrt(np.sum(svc.coef_**2))\n",
    "    yy_l = yy_bd + a * margin\n",
    "    yy_u = yy_bd - a * margin\n",
    "    \n",
    "    # plot\n",
    "    \n",
    "    plt.plot(x_range, yy_bd, 'k-')\n",
    "    plt.plot(x_range, yy_l, 'k--')\n",
    "    plt.plot(x_range, yy_u, 'k--')\n",
    "    plt.scatter(X[:,0], X[:, 1], c = y, cmap=plt.cm.Spectral)\n",
    "    plt.xlabel(feat_names[0])\n",
    "    plt.ylabel(feat_names[1])\n",
    "    plt.show()"
   ]
  },
  {
   "cell_type": "code",
   "execution_count": 15,
   "metadata": {
    "collapsed": false
   },
   "outputs": [
    {
     "name": "stdout",
     "output_type": "stream",
     "text": [
      "[[ 1.65358783  0.5045586 ]]\n"
     ]
    },
    {
     "data": {
      "image/png": "[encoded data removed]",
      "text/plain": [
       "<matplotlib.figure.Figure at 0x119eb1a90>"
      ]
     },
     "metadata": {},
     "output_type": "display_data"
    }
   ],
   "source": [
    "svm_unscaled = SVC(kernel='linear')\n",
    "svm_unscaled.fit(X, y)\n",
    "\n",
    "print svm_unscaled.coef_\n",
    "plot_svc(X, y, feature_names, svm_unscaled)"
   ]
  },
  {
   "cell_type": "code",
   "execution_count": 16,
   "metadata": {
    "collapsed": false
   },
   "outputs": [],
   "source": [
    "svm_scaled = pipeline.steps[1][1] # svm"
   ]
  },
  {
   "cell_type": "code",
   "execution_count": 17,
   "metadata": {
    "collapsed": false
   },
   "outputs": [],
   "source": [
    "svm_ = pipeline.steps[0][1] # StandardScaler\n"
   ]
  },
  {
   "cell_type": "code",
   "execution_count": 18,
   "metadata": {
    "collapsed": false
   },
   "outputs": [
    {
     "name": "stdout",
     "output_type": "stream",
     "text": [
      "[[ 2.14375776  0.45310553]]\n"
     ]
    },
    {
     "data": {
      "image/png": "[encoded data removed]",
      "text/plain": [
       "<matplotlib.figure.Figure at 0x11ceea850>"
      ]
     },
     "metadata": {},
     "output_type": "display_data"
    }
   ],
   "source": [
    "print svm_scaled.coef_\n",
    "plot_svc(X, y, feature_names, svm_scaled)\n"
   ]
  },
  {
   "cell_type": "markdown",
   "metadata": {},
   "source": [
    "**cross_val_score to compute the average accuracy of a 5-fold cross validation of the scaled model**"
   ]
  },
  {
   "cell_type": "code",
   "execution_count": 19,
   "metadata": {
    "collapsed": false
   },
   "outputs": [
    {
     "data": {
      "text/plain": [
       "0.91999999999999993"
      ]
     },
     "execution_count": 19,
     "metadata": {},
     "output_type": "execute_result"
    }
   ],
   "source": [
    "cross_val_score(svm_scaled, X, y, scoring = 'accuracy', cv = 5).mean()"
   ]
  },
  {
   "cell_type": "markdown",
   "metadata": {
    "collapsed": true
   },
   "source": [
    "---\n",
    "Hyperparameter\n",
    "---\n",
    "\n",
    "SVMs have a tradeoff between maximizing the margin and minimizing the classification error. \n",
    "\n",
    "```\n",
    "'kernel':('linear', 'rbf', 'poly')\n",
    "```"
   ]
  },
  {
   "cell_type": "code",
   "execution_count": 20,
   "metadata": {
    "collapsed": false
   },
   "outputs": [
    {
     "name": "stdout",
     "output_type": "stream",
     "text": [
      "best C value: 0.00809090909091\n"
     ]
    },
    {
     "data": {
      "image/png": "[encoded data removed]",
      "text/plain": [
       "<matplotlib.figure.Figure at 0x11cfbbb90>"
      ]
     },
     "metadata": {},
     "output_type": "display_data"
    }
   ],
   "source": [
    "c_val = []\n",
    "score_mean = []\n",
    "for c in np.linspace(10**(-3), 0.04, 100):\n",
    "    svc_ = SVC(C=c, kernel = 'poly')\n",
    "    scores = cross_val_score(svc_, X, y, cv = 5)\n",
    "    c_val.append(c)\n",
    "    score_mean.append(np.mean(scores))\n",
    "\n",
    "best_c_val = c_val[np.argmax(score_mean)]\n",
    "print 'best C value:', best_c_val\n",
    "plt.scatter(c_val, score_mean, alpha=0.2);\n",
    "plt.xlabel('C value')\n",
    "plt.ylabel('svm score mean')\n",
    "plt.show();\n"
   ]
  },
  {
   "cell_type": "code",
   "execution_count": 25,
   "metadata": {
    "collapsed": false
   },
   "outputs": [],
   "source": [
    "SVC_C = []\n",
    "SVC_models = []\n",
    "for C in np.linspace(0.001,1, 100.0):\n",
    "    pipeline = Pipeline([('scaler', StandardScaler()),\n",
    "                         ('svc', SVC(kernel='linear', C = C))]) # 'svc', SVC(kernel='rbf', C = C)\n",
    "    pipeline.fit(X, y)\n",
    "    model = pipeline.steps[1][1]\n",
    "    SVC_models.append(model)\n",
    "    \n",
    "    CV_score = cross_val_score(model, X, y, scoring = 'accuracy', cv = 5).mean()\n",
    "\n",
    "    SVC_C.append([C, CV_score])\n",
    "\n",
    "SVC_C = np.array(SVC_C)\n"
   ]
  },
  {
   "cell_type": "code",
   "execution_count": 22,
   "metadata": {
    "collapsed": false
   },
   "outputs": [
    {
     "data": {
      "text/plain": [
       "[<matplotlib.lines.Line2D at 0x11cfe1ed0>]"
      ]
     },
     "execution_count": 22,
     "metadata": {},
     "output_type": "execute_result"
    },
    {
     "data": {
      "image/png": "[encoded data removed]",
      "text/plain": [
       "<matplotlib.figure.Figure at 0x11d00ccd0>"
      ]
     },
     "metadata": {},
     "output_type": "display_data"
    }
   ],
   "source": [
    "plt.plot(SVC_C[:,0], SVC_C[:,1])"
   ]
  },
  {
   "cell_type": "code",
   "execution_count": 23,
   "metadata": {
    "collapsed": true
   },
   "outputs": [],
   "source": [
    "def plot_svc_decision(X, svc, show=True):\n",
    "    # get the separating hyperplane\n",
    "    w = svc.coef_[0]\n",
    "    a = -w[0] / w[1]\n",
    "    xx = np.linspace(np.min(X[:,0]), np.max(X[:,0]), 100)\n",
    "    yy = a * xx - (svc.intercept_[0]) / w[1]\n",
    "\n",
    "    # plot the parallels to the separating hyperplane that pass through the\n",
    "    # support vectors\n",
    "    margin = 1 / np.sqrt(np.sum(svc.coef_ ** 2))\n",
    "    yy_down = yy + a * margin\n",
    "    yy_up = yy - a * margin\n",
    "\n",
    "    # plot the line, the points, and the nearest vectors to the plane\n",
    "    plt.plot(xx, yy, 'k-')\n",
    "    plt.plot(xx, yy_down, 'k--')\n",
    "    plt.plot(xx, yy_up, 'k--')\n",
    "\n",
    "    if show:\n",
    "        plt.show()"
   ]
  },
  {
   "cell_type": "code",
   "execution_count": 26,
   "metadata": {
    "collapsed": false
   },
   "outputs": [
    {
     "data": {
      "image/png": "[encoded data removed]",
      "text/plain": [
       "<matplotlib.figure.Figure at 0x11d078c50>"
      ]
     },
     "metadata": {},
     "output_type": "display_data"
    }
   ],
   "source": [
    "# In pipeline set - kernel='linear' \n",
    "for model in SVC_models[::30]:\n",
    "    plot_svc_decision(X, model, show=False)\n",
    "plt.show()\n"
   ]
  },
  {
   "cell_type": "markdown",
   "metadata": {},
   "source": [
    "---\n",
    "Decision boundary\n",
    "---"
   ]
  },
  {
   "cell_type": "code",
   "execution_count": 27,
   "metadata": {
    "collapsed": true
   },
   "outputs": [],
   "source": [
    "def decision_boundary(model, X, y, h=.02):\n",
    "    '''\n",
    "    model - a trained classifier, with a predict method\n",
    "    '''\n",
    "    \n",
    "    x_min, x_max = np.min(X[:, 0]) - 0.05, np.max(X[:, 0]) + 0.05\n",
    "    y_min, y_max = np.min(X[:, 1]) - 0.05, np.max(X[:, 1]) + 0.05\n",
    "    # coordinates\n",
    "    xx, yy = np.meshgrid(np.arange(x_min, x_max, h), np.arange(y_min, y_max,h))\n",
    "    \n",
    "    Z = model.predict(np.c_[xx.ravel(), yy.ravel()])\n",
    "    \n",
    "    # color plot\n",
    "    \n",
    "    Z = Z.reshape(xx.shape)\n",
    "    plt.figure(1, figsize=(6, 4))\n",
    "    plt.pcolormesh(xx, yy, Z, cmap=plt.cm.Paired)\n",
    "    \n",
    "    # training points plot\n",
    "    \n",
    "    plt.scatter(X[:, 0], X[:, 1], c=y, edgecolors='k', cmap=plt.cm.Paired)\n",
    "    plt.xlim(np.min(xx), np.max(xx))\n",
    "    plt.ylim(np.min(yy), np.max(yy))\n",
    "#     plt.xticks(())\n",
    "#     plt.ytick(())\n",
    "    plt.show()\n",
    "    "
   ]
  },
  {
   "cell_type": "code",
   "execution_count": 28,
   "metadata": {
    "collapsed": false
   },
   "outputs": [
    {
     "data": {
      "image/png": "[encoded data removed]",
      "text/plain": [
       "<matplotlib.figure.Figure at 0x119e7fe50>"
      ]
     },
     "metadata": {},
     "output_type": "display_data"
    }
   ],
   "source": [
    "svm_ = SVC(C=0.008, kernel = 'poly')\n",
    "svm_.fit(X, y)\n",
    "decision_boundary(svm_, X, y)"
   ]
  },
  {
   "cell_type": "code",
   "execution_count": 29,
   "metadata": {
    "collapsed": false
   },
   "outputs": [
    {
     "data": {
      "image/png": "[encoded data removed]",
      "text/plain": [
       "<matplotlib.figure.Figure at 0x119d3dc10>"
      ]
     },
     "metadata": {},
     "output_type": "display_data"
    }
   ],
   "source": [
    "svm__ = SVC(C=0.008, kernel = 'rbf')\n",
    "svm__.fit(X, y)\n",
    "decision_boundary(svm__, X, y)"
   ]
  },
  {
   "cell_type": "markdown",
   "metadata": {},
   "source": [
    "---\n",
    "Grid Search\n",
    "---"
   ]
  },
  {
   "cell_type": "code",
   "execution_count": 30,
   "metadata": {
    "collapsed": false
   },
   "outputs": [
    {
     "name": "stdout",
     "output_type": "stream",
     "text": [
      "Fitting 10 folds for each of 700 candidates, totalling 7000 fits\n"
     ]
    },
    {
     "name": "stderr",
     "output_type": "stream",
     "text": [
      "[Parallel(n_jobs=-1)]: Done 1176 tasks      | elapsed:    2.0s\n"
     ]
    },
    {
     "name": "stdout",
     "output_type": "stream",
     "text": [
      "Best parameters: {'C': 0.011242424242424245, 'degree': 1}\n",
      "Best score: 0.93\n"
     ]
    },
    {
     "name": "stderr",
     "output_type": "stream",
     "text": [
      "[Parallel(n_jobs=-1)]: Done 7000 out of 7000 | elapsed:   10.1s finished\n"
     ]
    }
   ],
   "source": [
    "grid_parameters = {'C':np.linspace(10**(-3), 0.04, 100), 'degree':range(1, 8)}\n",
    "\n",
    "grid_search = GridSearchCV(SVC(kernel='poly'), grid_parameters, n_jobs=-1, scoring='accuracy', cv=10, verbose=1)\n",
    "\n",
    "grid_search.fit(X, y)\n",
    "grid_search.grid_scores_\n",
    "best = grid_search.best_estimator_\n",
    "\n",
    "\n",
    "print 'Best parameters:', grid_search.best_params_\n",
    "print 'Best score:', grid_search.best_score_"
   ]
  },
  {
   "cell_type": "code",
   "execution_count": 31,
   "metadata": {
    "collapsed": false
   },
   "outputs": [
    {
     "name": "stdout",
     "output_type": "stream",
     "text": [
      "Fitting 10 folds for each of 500 candidates, totalling 5000 fits\n"
     ]
    },
    {
     "name": "stderr",
     "output_type": "stream",
     "text": [
      "[Parallel(n_jobs=-1)]: Done 688 tasks      | elapsed:    1.3s\n"
     ]
    },
    {
     "name": "stdout",
     "output_type": "stream",
     "text": [
      "Best parameters: {'C': 0.001, 'gamma': 0.045555555555555557}\n",
      "Best score: 0.91\n"
     ]
    },
    {
     "name": "stderr",
     "output_type": "stream",
     "text": [
      "[Parallel(n_jobs=-1)]: Done 5000 out of 5000 | elapsed:    7.1s finished\n"
     ]
    }
   ],
   "source": [
    "grid_parameters_ = {'C':np.linspace(10**(-3), 0.04, 50), 'gamma':np.linspace(0.01, 0.05, 10)}\n",
    "\n",
    "grid_search = GridSearchCV(SVC(kernel='rbf'), grid_parameters_, n_jobs=-1, scoring='accuracy', cv=10, verbose=1)\n",
    "\n",
    "grid_search.fit(X, y)\n",
    "grid_search.grid_scores_\n",
    "best = grid_search.best_estimator_\n",
    "\n",
    "\n",
    "print 'Best parameters:', grid_search.best_params_\n",
    "print 'Best score:', grid_search.best_score_"
   ]
  },
  {
   "cell_type": "markdown",
   "metadata": {},
   "source": [
    "---\n",
    "Unbalanced classes\n",
    "---"
   ]
  },
  {
   "cell_type": "code",
   "execution_count": 49,
   "metadata": {
    "collapsed": false
   },
   "outputs": [],
   "source": [
    "df_ = pd.read_csv('data/imbalanced.csv', index_col=0, names=['x1', 'x2', 'y'], header=0)"
   ]
  },
  {
   "cell_type": "code",
   "execution_count": 50,
   "metadata": {
    "collapsed": false
   },
   "outputs": [
    {
     "data": {
      "text/html": [
       "<div>\n",
       "<table border=\"1\" class=\"dataframe\">\n",
       "  <thead>\n",
       "    <tr style=\"text-align: right;\">\n",
       "      <th></th>\n",
       "      <th>x1</th>\n",
       "      <th>x2</th>\n",
       "      <th>y</th>\n",
       "    </tr>\n",
       "  </thead>\n",
       "  <tbody>\n",
       "    <tr>\n",
       "      <th>0</th>\n",
       "      <td>1.193160</td>\n",
       "      <td>-0.173977</td>\n",
       "      <td>1</td>\n",
       "    </tr>\n",
       "    <tr>\n",
       "      <th>1</th>\n",
       "      <td>-0.939479</td>\n",
       "      <td>-2.612024</td>\n",
       "      <td>0</td>\n",
       "    </tr>\n",
       "  </tbody>\n",
       "</table>\n",
       "</div>"
      ],
      "text/plain": [
       "         x1        x2  y\n",
       "0  1.193160 -0.173977  1\n",
       "1 -0.939479 -2.612024  0"
      ]
     },
     "execution_count": 50,
     "metadata": {},
     "output_type": "execute_result"
    }
   ],
   "source": [
    "df_[:2]"
   ]
  },
  {
   "cell_type": "code",
   "execution_count": 51,
   "metadata": {
    "collapsed": false
   },
   "outputs": [
    {
     "data": {
      "image/png": "[encoded data removed]",
      "text/plain": [
       "<matplotlib.figure.Figure at 0x119f4c850>"
      ]
     },
     "metadata": {},
     "output_type": "display_data"
    }
   ],
   "source": [
    "df_.plot(kind='scatter', x='x1', y='x2', c='y', cmap=plt.cm.Spectral, edgecolor='none', alpha=0.1);"
   ]
  },
  {
   "cell_type": "code",
   "execution_count": 35,
   "metadata": {
    "collapsed": false
   },
   "outputs": [],
   "source": [
    "y_ = df_.pop('y').values"
   ]
  },
  {
   "cell_type": "code",
   "execution_count": 36,
   "metadata": {
    "collapsed": true
   },
   "outputs": [],
   "source": [
    "feature_names_ = df_.columns"
   ]
  },
  {
   "cell_type": "code",
   "execution_count": 37,
   "metadata": {
    "collapsed": true
   },
   "outputs": [],
   "source": [
    "X_ = df_.values"
   ]
  },
  {
   "cell_type": "code",
   "execution_count": 38,
   "metadata": {
    "collapsed": false
   },
   "outputs": [
    {
     "data": {
      "text/plain": [
       "SVC(C=1.0, cache_size=200, class_weight='balanced', coef0=0.0,\n",
       "  decision_function_shape=None, degree=3, gamma='auto', kernel='rbf',\n",
       "  max_iter=-1, probability=False, random_state=None, shrinking=True,\n",
       "  tol=0.001, verbose=False)"
      ]
     },
     "execution_count": 38,
     "metadata": {},
     "output_type": "execute_result"
    }
   ],
   "source": [
    "# SVM weights\n",
    "SVM_w = SVC(kernel='rbf', class_weight='balanced')\n",
    "SVM_w.fit(X_, y_)"
   ]
  },
  {
   "cell_type": "code",
   "execution_count": 39,
   "metadata": {
    "collapsed": false
   },
   "outputs": [
    {
     "data": {
      "image/png": "[encoded data removed]",
      "text/plain": [
       "<matplotlib.figure.Figure at 0x11cf0e710>"
      ]
     },
     "metadata": {},
     "output_type": "display_data"
    }
   ],
   "source": [
    "decision_boundary(SVM_w, X_, y_)"
   ]
  },
  {
   "cell_type": "markdown",
   "metadata": {},
   "source": [
    "---\n",
    "Multiple Features\n",
    "---"
   ]
  },
  {
   "cell_type": "code",
   "execution_count": 53,
   "metadata": {
    "collapsed": true
   },
   "outputs": [],
   "source": [
    "_df = pd.read_csv('data/dataset_1.csv')"
   ]
  },
  {
   "cell_type": "code",
   "execution_count": 54,
   "metadata": {
    "collapsed": false
   },
   "outputs": [
    {
     "data": {
      "text/html": [
       "<div>\n",
       "<table border=\"1\" class=\"dataframe\">\n",
       "  <thead>\n",
       "    <tr style=\"text-align: right;\">\n",
       "      <th></th>\n",
       "      <th>x1</th>\n",
       "      <th>x2</th>\n",
       "      <th>x3</th>\n",
       "      <th>x4</th>\n",
       "      <th>y</th>\n",
       "    </tr>\n",
       "  </thead>\n",
       "  <tbody>\n",
       "    <tr>\n",
       "      <th>0</th>\n",
       "      <td>26.17300</td>\n",
       "      <td>58.867</td>\n",
       "      <td>-0.18947</td>\n",
       "      <td>125.1225</td>\n",
       "      <td>1</td>\n",
       "    </tr>\n",
       "    <tr>\n",
       "      <th>1</th>\n",
       "      <td>57.07397</td>\n",
       "      <td>221.404</td>\n",
       "      <td>0.08608</td>\n",
       "      <td>122.9114</td>\n",
       "      <td>1</td>\n",
       "    </tr>\n",
       "  </tbody>\n",
       "</table>\n",
       "</div>"
      ],
      "text/plain": [
       "         x1       x2       x3        x4  y\n",
       "0  26.17300   58.867 -0.18947  125.1225  1\n",
       "1  57.07397  221.404  0.08608  122.9114  1"
      ]
     },
     "execution_count": 54,
     "metadata": {},
     "output_type": "execute_result"
    }
   ],
   "source": [
    "_df[:2]"
   ]
  },
  {
   "cell_type": "code",
   "execution_count": 73,
   "metadata": {
    "collapsed": false
   },
   "outputs": [
    {
     "data": {
      "text/plain": [
       "Index([u'x1', u'x2', u'x3', u'x4'], dtype='object')"
      ]
     },
     "execution_count": 73,
     "metadata": {},
     "output_type": "execute_result"
    }
   ],
   "source": [
    "features = _df.columns[:-1]\n",
    "features\n",
    "target = 'y'"
   ]
  },
  {
   "cell_type": "code",
   "execution_count": 80,
   "metadata": {
    "collapsed": false
   },
   "outputs": [
    {
     "data": {
      "text/html": [
       "<div>\n",
       "<table border=\"1\" class=\"dataframe\">\n",
       "  <thead>\n",
       "    <tr style=\"text-align: right;\">\n",
       "      <th></th>\n",
       "      <th>x1</th>\n",
       "      <th>x2</th>\n",
       "      <th>x3</th>\n",
       "      <th>x4</th>\n",
       "    </tr>\n",
       "  </thead>\n",
       "  <tbody>\n",
       "    <tr>\n",
       "      <th>0</th>\n",
       "      <td>26.17300</td>\n",
       "      <td>58.867</td>\n",
       "      <td>-0.18947</td>\n",
       "      <td>125.1225</td>\n",
       "    </tr>\n",
       "    <tr>\n",
       "      <th>1</th>\n",
       "      <td>57.07397</td>\n",
       "      <td>221.404</td>\n",
       "      <td>0.08608</td>\n",
       "      <td>122.9114</td>\n",
       "    </tr>\n",
       "  </tbody>\n",
       "</table>\n",
       "</div>"
      ],
      "text/plain": [
       "         x1       x2       x3        x4\n",
       "0  26.17300   58.867 -0.18947  125.1225\n",
       "1  57.07397  221.404  0.08608  122.9114"
      ]
     },
     "execution_count": 80,
     "metadata": {},
     "output_type": "execute_result"
    }
   ],
   "source": [
    "X = _df[features]\n",
    "X[:2]"
   ]
  },
  {
   "cell_type": "code",
   "execution_count": 81,
   "metadata": {
    "collapsed": false
   },
   "outputs": [
    {
     "data": {
      "text/plain": [
       "0    1\n",
       "1    1\n",
       "Name: y, dtype: int64"
      ]
     },
     "execution_count": 81,
     "metadata": {},
     "output_type": "execute_result"
    }
   ],
   "source": [
    "y = _df[target]\n",
    "y[:2]"
   ]
  },
  {
   "cell_type": "code",
   "execution_count": 82,
   "metadata": {
    "collapsed": false
   },
   "outputs": [
    {
     "data": {
      "text/plain": [
       "Pipeline(steps=[('scaler', StandardScaler(copy=True, with_mean=True, with_std=True)), ('svm', SVC(C=1.0, cache_size=200, class_weight=None, coef0=0.0,\n",
       "  decision_function_shape=None, degree=3, gamma='auto', kernel='linear',\n",
       "  max_iter=-1, probability=False, random_state=None, shrinking=True,\n",
       "  tol=0.001, verbose=False))])"
      ]
     },
     "execution_count": 82,
     "metadata": {},
     "output_type": "execute_result"
    }
   ],
   "source": [
    "# feature scaling\n",
    "pipeline = Pipeline([('scaler', StandardScaler()),\n",
    "                    ('svm', SVC(kernel='linear'))])\n",
    "pipeline.fit(X, y)"
   ]
  },
  {
   "cell_type": "code",
   "execution_count": 85,
   "metadata": {
    "collapsed": false
   },
   "outputs": [
    {
     "name": "stdout",
     "output_type": "stream",
     "text": [
      "Fitting 10 folds for each of 50 candidates, totalling 500 fits\n"
     ]
    },
    {
     "name": "stderr",
     "output_type": "stream",
     "text": [
      "[Parallel(n_jobs=-1)]: Done  42 tasks      | elapsed:   18.3s\n",
      "[Parallel(n_jobs=-1)]: Done 192 tasks      | elapsed:   53.7s\n",
      "[Parallel(n_jobs=-1)]: Done 442 tasks      | elapsed:  1.4min\n",
      "[Parallel(n_jobs=-1)]: Done 500 out of 500 | elapsed:  1.5min finished\n"
     ]
    },
    {
     "data": {
      "text/plain": [
       "Pipeline(steps=[('scaler', StandardScaler(copy=True, with_mean=True, with_std=True)), ('grid_s', GridSearchCV(cv=10, error_score='raise',\n",
       "       estimator=SVC(C=1.0, cache_size=200, class_weight=None, coef0=0.0,\n",
       "  decision_function_shape=None, degree=3, gamma='auto', kernel='rbf',\n",
       "  max_iter=-1, probability=...  0.04556,  0.05   ])},\n",
       "       pre_dispatch='2*n_jobs', refit=True, scoring='accuracy', verbose=1))])"
      ]
     },
     "execution_count": 85,
     "metadata": {},
     "output_type": "execute_result"
    }
   ],
   "source": [
    "grid_parameters = {'kernel':['rbf'],\n",
    "                   'C': np.logspace(-2, 0.0, 5),\n",
    "                   'gamma': np.linspace(0.01, 0.05, 10)}\n",
    "\n",
    "pipeline = Pipeline([('scaler', StandardScaler()),\n",
    "                    ('grid_s', GridSearchCV(SVC(), grid_parameters, n_jobs=-1,\n",
    "                                            scoring='accuracy',\n",
    "                                            cv=10, verbose=1))])\n",
    "\n",
    "pipeline.fit(X, y)"
   ]
  },
  {
   "cell_type": "code",
   "execution_count": 87,
   "metadata": {
    "collapsed": false
   },
   "outputs": [
    {
     "name": "stdout",
     "output_type": "stream",
     "text": [
      " Best parameters: {'kernel': 'rbf', 'C': 1.0, 'gamma': 0.050000000000000003}\n",
      "Best score: 0.963746649739\n"
     ]
    }
   ],
   "source": [
    "grid_search = pipeline.named_steps['grid_s'] \n",
    "print 'Best parameters:', grid_search.best_params_\n",
    "print 'Best score:', grid_search.best_score_"
   ]
  },
  {
   "cell_type": "code",
   "execution_count": 89,
   "metadata": {
    "collapsed": false
   },
   "outputs": [
    {
     "name": "stdout",
     "output_type": "stream",
     "text": [
      "Fitting 10 folds for each of 5 candidates, totalling 50 fits\n"
     ]
    },
    {
     "name": "stderr",
     "output_type": "stream",
     "text": [
      "[Parallel(n_jobs=-1)]: Done  42 tasks      | elapsed:    3.8s\n",
      "[Parallel(n_jobs=-1)]: Done  50 out of  50 | elapsed:    4.2s finished\n"
     ]
    },
    {
     "name": "stdout",
     "output_type": "stream",
     "text": [
      "Best parameters: {'kernel': 'poly', 'C': 1.0, 'degree': 1}\n",
      "Best score: 0.955423896177\n"
     ]
    }
   ],
   "source": [
    "grid_parameters = {'kernel':['poly'],\n",
    "                   'C': np.logspace(-2, 0.0, 5),\n",
    "                   'degree': range(1, 2)}\n",
    "\n",
    "pipeline = Pipeline([('scaler', StandardScaler()),\n",
    "                    ('grid_s', GridSearchCV(SVC(), grid_parameters, n_jobs=-1,\n",
    "                                            scoring='accuracy',\n",
    "                                            cv=10, verbose=1))])\n",
    "\n",
    "pipeline.fit(X, y)\n",
    "\n",
    "grid_search = pipeline.named_steps['grid_s'] \n",
    "print 'Best parameters:', grid_search.best_params_\n",
    "print 'Best score:', grid_search.best_score_"
   ]
  },
  {
   "cell_type": "markdown",
   "metadata": {
    "collapsed": true
   },
   "source": [
    "---\n",
    "More data-sets\n",
    "---"
   ]
  },
  {
   "cell_type": "code",
   "execution_count": 94,
   "metadata": {
    "collapsed": false
   },
   "outputs": [
    {
     "data": {
      "text/html": [
       "<div>\n",
       "<table border=\"1\" class=\"dataframe\">\n",
       "  <thead>\n",
       "    <tr style=\"text-align: right;\">\n",
       "      <th></th>\n",
       "      <th>1</th>\n",
       "      <th>2</th>\n",
       "      <th>3</th>\n",
       "      <th>4</th>\n",
       "      <th>5</th>\n",
       "      <th>6</th>\n",
       "      <th>7</th>\n",
       "      <th>8</th>\n",
       "      <th>9</th>\n",
       "      <th>10</th>\n",
       "      <th>...</th>\n",
       "      <th>7121</th>\n",
       "      <th>7122</th>\n",
       "      <th>7123</th>\n",
       "      <th>7124</th>\n",
       "      <th>7125</th>\n",
       "      <th>7126</th>\n",
       "      <th>7127</th>\n",
       "      <th>7128</th>\n",
       "      <th>7129</th>\n",
       "      <th>0</th>\n",
       "    </tr>\n",
       "  </thead>\n",
       "  <tbody>\n",
       "    <tr>\n",
       "      <th>0</th>\n",
       "      <td>-1.462360</td>\n",
       "      <td>-0.645135</td>\n",
       "      <td>-0.835925</td>\n",
       "      <td>-1.470420</td>\n",
       "      <td>-0.919971</td>\n",
       "      <td>-1.584260</td>\n",
       "      <td>0.712393</td>\n",
       "      <td>-0.542291</td>\n",
       "      <td>1.050910</td>\n",
       "      <td>0.236488</td>\n",
       "      <td>...</td>\n",
       "      <td>-0.671805</td>\n",
       "      <td>-1.809170</td>\n",
       "      <td>-0.097850</td>\n",
       "      <td>-0.913618</td>\n",
       "      <td>0.013598</td>\n",
       "      <td>-0.101356</td>\n",
       "      <td>-0.596842</td>\n",
       "      <td>-0.471106</td>\n",
       "      <td>-0.959575</td>\n",
       "      <td>1.0</td>\n",
       "    </tr>\n",
       "    <tr>\n",
       "      <th>1</th>\n",
       "      <td>-0.664799</td>\n",
       "      <td>0.206146</td>\n",
       "      <td>-0.368575</td>\n",
       "      <td>0.258225</td>\n",
       "      <td>-0.475673</td>\n",
       "      <td>-0.354967</td>\n",
       "      <td>-1.119370</td>\n",
       "      <td>-0.292513</td>\n",
       "      <td>-0.375421</td>\n",
       "      <td>-0.387603</td>\n",
       "      <td>...</td>\n",
       "      <td>0.352834</td>\n",
       "      <td>-0.804439</td>\n",
       "      <td>-0.030245</td>\n",
       "      <td>-0.536629</td>\n",
       "      <td>-0.157103</td>\n",
       "      <td>-0.373182</td>\n",
       "      <td>-0.865241</td>\n",
       "      <td>-0.664888</td>\n",
       "      <td>-0.543433</td>\n",
       "      <td>1.0</td>\n",
       "    </tr>\n",
       "  </tbody>\n",
       "</table>\n",
       "<p>2 rows × 7130 columns</p>\n",
       "</div>"
      ],
      "text/plain": [
       "          1         2         3         4         5         6         7  \\\n",
       "0 -1.462360 -0.645135 -0.835925 -1.470420 -0.919971 -1.584260  0.712393   \n",
       "1 -0.664799  0.206146 -0.368575  0.258225 -0.475673 -0.354967 -1.119370   \n",
       "\n",
       "          8         9        10 ...       7121      7122      7123      7124  \\\n",
       "0 -0.542291  1.050910  0.236488 ...  -0.671805 -1.809170 -0.097850 -0.913618   \n",
       "1 -0.292513 -0.375421 -0.387603 ...   0.352834 -0.804439 -0.030245 -0.536629   \n",
       "\n",
       "       7125      7126      7127      7128      7129    0  \n",
       "0  0.013598 -0.101356 -0.596842 -0.471106 -0.959575  1.0  \n",
       "1 -0.157103 -0.373182 -0.865241 -0.664888 -0.543433  1.0  \n",
       "\n",
       "[2 rows x 7130 columns]"
      ]
     },
     "execution_count": 94,
     "metadata": {},
     "output_type": "execute_result"
    }
   ],
   "source": [
    "df_ = pd.read_csv('data/dataset_2.csv', index_col=0)\n",
    "df_[:2]"
   ]
  },
  {
   "cell_type": "code",
   "execution_count": 110,
   "metadata": {
    "collapsed": false
   },
   "outputs": [
    {
     "name": "stdout",
     "output_type": "stream",
     "text": [
      "<class 'pandas.core.frame.DataFrame'>\n",
      "Int64Index: 72 entries, 0 to 33\n",
      "Columns: 7129 entries, 1 to 7129\n",
      "dtypes: float64(7129)\n",
      "memory usage: 3.9 MB\n"
     ]
    }
   ],
   "source": [
    "df_.info()"
   ]
  },
  {
   "cell_type": "code",
   "execution_count": 95,
   "metadata": {
    "collapsed": false
   },
   "outputs": [],
   "source": [
    "y = df_.pop('0').values\n",
    "feature_names_ = df_.columns\n",
    "X = df_.values"
   ]
  },
  {
   "cell_type": "code",
   "execution_count": 96,
   "metadata": {
    "collapsed": false
   },
   "outputs": [
    {
     "name": "stdout",
     "output_type": "stream",
     "text": [
      "Fitting 10 folds for each of 25 candidates, totalling 250 fits\n"
     ]
    },
    {
     "name": "stderr",
     "output_type": "stream",
     "text": [
      "[Parallel(n_jobs=-1)]: Done  76 tasks      | elapsed:    2.1s\n"
     ]
    },
    {
     "name": "stdout",
     "output_type": "stream",
     "text": [
      "Best parameters: {'kernel': 'rbf', 'C': 10.0, 'gamma': 1.0000000000000001e-05}\n",
      "Best score: 0.986111111111\n"
     ]
    },
    {
     "name": "stderr",
     "output_type": "stream",
     "text": [
      "[Parallel(n_jobs=-1)]: Done 250 out of 250 | elapsed:    6.7s finished\n"
     ]
    }
   ],
   "source": [
    "grid_parameters = {'kernel':['rbf'],\n",
    "                   'C': np.logspace(-1, 1, 5),\n",
    "                   'gamma': np.linspace(.00001, .00009, 5)}\n",
    "\n",
    "pipeline = Pipeline([('scaler', StandardScaler()),\n",
    "                    ('grid_s', GridSearchCV(SVC(), grid_parameters, n_jobs=-1,\n",
    "                                            scoring='accuracy',\n",
    "                                            cv=10, verbose=1))])\n",
    "\n",
    "pipeline.fit(X, y)\n",
    "\n",
    "grid_search = pipeline.named_steps['grid_s'] \n",
    "print 'Best parameters:', grid_search.best_params_\n",
    "print 'Best score:', grid_search.best_score_"
   ]
  },
  {
   "cell_type": "markdown",
   "metadata": {
    "collapsed": true
   },
   "source": [
    "---\n",
    "**Digits data-set**"
   ]
  },
  {
   "cell_type": "code",
   "execution_count": 101,
   "metadata": {
    "collapsed": false
   },
   "outputs": [
    {
     "data": {
      "text/plain": [
       "\"Optical Recognition of Handwritten Digits Data Set\\n===================================================\\n\\nNotes\\n-----\\nData Set Characteristics:\\n    :Number of Instances: 5620\\n    :Number of Attributes: 64\\n    :Attribute Information: 8x8 image of integer pixels in the range 0..16.\\n    :Missing Attribute Values: None\\n    :Creator: E. Alpaydin (alpaydin '@' boun.edu.tr)\\n    :Date: July; 1998\\n\\nThis is a copy of the test set of the UCI ML hand-written digits datasets\\nhttp://archive.ics.uci.edu/ml/datasets/Optical+Recognition+of+Handwritten+Digits\\n\\nThe data set contains images of hand-written digits: 10 classes where\\neach class refers to a digit.\\n\\nPreprocessing programs made available by NIST were used to extract\\nnormalized bitmaps of handwritten digits from a preprinted form. From a\\ntotal of 43 people, 30 contributed to the training set and different 13\\nto the test set. 32x32 bitmaps are divided into nonoverlapping blocks of\\n4x4 and the number of on pixels are counted in each block. This generates\\nan input matrix of 8x8 where each element is an integer in the range\\n0..16. This reduces dimensionality and gives invariance to small\\ndistortions.\\n\\nFor info on NIST preprocessing routines, see M. D. Garris, J. L. Blue, G.\\nT. Candela, D. L. Dimmick, J. Geist, P. J. Grother, S. A. Janet, and C.\\nL. Wilson, NIST Form-Based Handprint Recognition System, NISTIR 5469,\\n1994.\\n\\nReferences\\n----------\\n  - C. Kaynak (1995) Methods of Combining Multiple Classifiers and Their\\n    Applications to Handwritten Digit Recognition, MSc Thesis, Institute of\\n    Graduate Studies in Science and Engineering, Bogazici University.\\n  - E. Alpaydin, C. Kaynak (1998) Cascading Classifiers, Kybernetika.\\n  - Ken Tang and Ponnuthurai N. Suganthan and Xi Yao and A. Kai Qin.\\n    Linear dimensionalityreduction using relevance weighted LDA. School of\\n    Electrical and Electronic Engineering Nanyang Technological University.\\n    2005.\\n  - Claudio Gentile. A New Approximate Maximal Margin Classification\\n    Algorithm. NIPS. 2000.\\n\""
      ]
     },
     "execution_count": 101,
     "metadata": {},
     "output_type": "execute_result"
    }
   ],
   "source": [
    "digits.DESCR"
   ]
  },
  {
   "cell_type": "markdown",
   "metadata": {},
   "source": [
    "http://scikit-learn.org/stable/auto_examples/classification/plot_digits_classification.html#sphx-glr-auto-examples-classification-plot-digits-classification-py"
   ]
  },
  {
   "cell_type": "code",
   "execution_count": 124,
   "metadata": {
    "collapsed": false
   },
   "outputs": [
    {
     "data": {
      "image/png": "[encoded data removed]",
      "text/plain": [
       "<matplotlib.figure.Figure at 0x11cefd990>"
      ]
     },
     "metadata": {},
     "output_type": "display_data"
    }
   ],
   "source": [
    "plt.figure(1, figsize=(4, 4))\n",
    "plt.imshow(digits.images[9], cmap=plt.cm.gray_r, interpolation='nearest')\n",
    "plt.show();"
   ]
  },
  {
   "cell_type": "code",
   "execution_count": 102,
   "metadata": {
    "collapsed": true
   },
   "outputs": [],
   "source": [
    "X = digits.data\n",
    "y = digits.target"
   ]
  },
  {
   "cell_type": "code",
   "execution_count": 127,
   "metadata": {
    "collapsed": true
   },
   "outputs": [],
   "source": [
    "def one_vs_rest(model, y, X):\n",
    "    digit_range = range(10)\n",
    "    one_vs_rest = {}\n",
    "    predict_probs = []\n",
    "    \n",
    "    for digit in digit_range:\n",
    "        y_ = (y == digit).astype(int)\n",
    "        svm_ = model\n",
    "        svm_.fit(X, y_)\n",
    "        one_vs_rest[digit] = svm_\n",
    "        predict_probs.append(svm_.predict_proba(X)[:, 1])\n",
    "    y_hat = np.argmax(np.array(predict_probs), axis=0)\n",
    "    \n",
    "    print 'accuracy:', accuracy_score(y, y_hat)\n",
    "    print 'precision:', precision_score(y, y_hat, average='weighted')\n",
    "    print 'recall:', recall_score(y, y_hat, average='weighted')\n",
    "        \n",
    "        \n",
    "    \n",
    "    \n",
    "    "
   ]
  },
  {
   "cell_type": "code",
   "execution_count": 128,
   "metadata": {
    "collapsed": false
   },
   "outputs": [
    {
     "name": "stdout",
     "output_type": "stream",
     "text": [
      "accuracy: 0.9938786867\n",
      "precision: 0.994033060284\n",
      "recall: 0.9938786867\n"
     ]
    }
   ],
   "source": [
    "one_vs_rest(SVC(kernel='linear',  probability=True), y, X)"
   ]
  },
  {
   "cell_type": "markdown",
   "metadata": {},
   "source": [
    "---\n",
    "**from sklearn.multiclass import OneVsRestClassifier**\n",
    "\n",
    "**from sklearn.multiclass import OneVsOneClassifier**\n",
    "\n",
    "**from sklearn.linear_model import LogisticRegression**\n"
   ]
  },
  {
   "cell_type": "code",
   "execution_count": 132,
   "metadata": {
    "collapsed": false
   },
   "outputs": [
    {
     "data": {
      "text/plain": [
       "OneVsRestClassifier(estimator=LinearSVC(C=1.0, class_weight=None, dual=True, fit_intercept=True,\n",
       "     intercept_scaling=1, loss='squared_hinge', max_iter=1000,\n",
       "     multi_class='ovr', penalty='l2', random_state=None, tol=0.0001,\n",
       "     verbose=0),\n",
       "          n_jobs=1)"
      ]
     },
     "execution_count": 132,
     "metadata": {},
     "output_type": "execute_result"
    }
   ],
   "source": [
    "classifier = OneVsRestClassifier(LinearSVC())\n",
    "classifier.fit(X, y)\n"
   ]
  },
  {
   "cell_type": "code",
   "execution_count": 134,
   "metadata": {
    "collapsed": false
   },
   "outputs": [
    {
     "data": {
      "text/plain": [
       "array([0, 1, 2, ..., 8, 9, 8])"
      ]
     },
     "execution_count": 134,
     "metadata": {},
     "output_type": "execute_result"
    }
   ],
   "source": [
    "y_hat = classifier.predict(X)\n",
    "y_hat"
   ]
  },
  {
   "cell_type": "code",
   "execution_count": 141,
   "metadata": {
    "collapsed": false
   },
   "outputs": [
    {
     "name": "stdout",
     "output_type": "stream",
     "text": [
      "Accuracy: 0.9877573734\n",
      "Precision: 0.988778234541\n",
      "Recall: 0.9877573734\n"
     ]
    }
   ],
   "source": [
    "print 'Accuracy:', accuracy_score(y, y_hat)\n",
    "print 'Precision:', precision_score(y, y_hat, average='weighted')\n",
    "print 'Recall:', recall_score(y, y_hat, average='weighted')\n"
   ]
  },
  {
   "cell_type": "code",
   "execution_count": null,
   "metadata": {
    "collapsed": true
   },
   "outputs": [],
   "source": []
  },
  {
   "cell_type": "code",
   "execution_count": null,
   "metadata": {
    "collapsed": true
   },
   "outputs": [],
   "source": []
  },
  {
   "cell_type": "code",
   "execution_count": null,
   "metadata": {
    "collapsed": true
   },
   "outputs": [],
   "source": []
  },
  {
   "cell_type": "code",
   "execution_count": null,
   "metadata": {
    "collapsed": true
   },
   "outputs": [],
   "source": []
  },
  {
   "cell_type": "code",
   "execution_count": null,
   "metadata": {
    "collapsed": true
   },
   "outputs": [],
   "source": []
  },
  {
   "cell_type": "code",
   "execution_count": null,
   "metadata": {
    "collapsed": true
   },
   "outputs": [],
   "source": []
  },
  {
   "cell_type": "code",
   "execution_count": null,
   "metadata": {
    "collapsed": true
   },
   "outputs": [],
   "source": []
  }
 ],
 "metadata": {
  "kernelspec": {
   "display_name": "Python 2",
   "language": "python",
   "name": "python2"
  },
  "language_info": {
   "codemirror_mode": {
    "name": "ipython",
    "version": 2
   },
   "file_extension": ".py",
   "mimetype": "text/x-python",
   "name": "python",
   "nbconvert_exporter": "python",
   "pygments_lexer": "ipython2",
   "version": "2.7.11"
  }
 },
 "nbformat": 4,
 "nbformat_minor": 0
}
