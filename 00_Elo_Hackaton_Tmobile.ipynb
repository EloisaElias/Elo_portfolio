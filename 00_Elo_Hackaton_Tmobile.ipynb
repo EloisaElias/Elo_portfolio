{
 "cells": [
  {
   "cell_type": "markdown",
   "metadata": {},
   "source": [
    "## Hackathon Batle - T-mac"
   ]
  },
  {
   "cell_type": "markdown",
   "metadata": {},
   "source": [
    "##### Define the project\n",
    "\n",
    "Your goal is to deliver insights about the data.\n",
    "- What types of customers are most likely to respond to the direct mail campaign?\n",
    "- Are there different customer archetypes that respond in predictable ways?\n",
    "\n",
    "##### Decriptions\n",
    "\n",
    "There are 145,231 observations of 1932 features. The final column, labeled `target` indicates whether or not the customer responded to the direct mail campaign.\n",
    "\n",
    "##### Do EDA\n",
    "Anything that you can think of\n",
    "\n",
    "##### Feature selection\n",
    "\n",
    "How do you select the features\n",
    "\n",
    "##### Feature Engineering\n",
    "\n",
    "Optimize your features\n",
    "\n",
    "##### Refining\n",
    "\n",
    "The best way to approach this problem is construct a model of whether or not a customer responds to the campaign.\n",
    "\n",
    "##### Presentation\n"
   ]
  },
  {
   "cell_type": "code",
   "execution_count": 2,
   "metadata": {
    "collapsed": false
   },
   "outputs": [],
   "source": [
    "from sklearn.decomposition import PCA as sPCA\n",
    "from sklearn.ensemble import RandomForestClassifier, ExtraTreesClassifier, AdaBoostClassifier\n",
    "from sklearn.cross_validation import train_test_split\n",
    "\n",
    "from sklearn.metrics import roc_auc_score\n",
    "from sklearn.metrics import roc_curve, auc\n",
    "\n",
    "\n",
    "\n",
    "from matplotlib.mlab import PCA as mPCA\n",
    "\n",
    "\n",
    "import seaborn as sns\n",
    "import pandas as pd\n",
    "import numpy as np\n",
    "\n",
    "\n",
    "\n",
    "import matplotlib.pyplot as plt\n",
    "\n",
    "%matplotlib inline"
   ]
  },
  {
   "cell_type": "code",
   "execution_count": 13,
   "metadata": {
    "collapsed": false
   },
   "outputs": [
    {
     "name": "stdout",
     "output_type": "stream",
     "text": [
      "Populating the interactive namespace from numpy and matplotlib\n"
     ]
    }
   ],
   "source": [
    "from __future__ import division\n",
    "from collections import defaultdict, Counter\n",
    "import numpy as np\n",
    "import pandas as pd\n",
    "from numpy.random import randn\n",
    "import matplotlib.pyplot as plt\n",
    "import seaborn as sns\n",
    "import scipy.stats as stats\n",
    "import statsmodels.api as sm\n",
    "from sklearn.feature_selection import VarianceThreshold\n",
    "from sklearn.cross_validation import train_test_split\n",
    "from sklearn.ensemble import RandomForestClassifier\n",
    "from sklearn.metrics import confusion_matrix\n",
    "from sklearn.metrics import precision_score, recall_score\n",
    "from sklearn.metrics import accuracy_score, precision_score, recall_score\n",
    "from sklearn.linear_model import LogisticRegression\n",
    "from sklearn.tree import DecisionTreeClassifier\n",
    "from sklearn.neighbors import KNeighborsClassifier\n",
    "from sklearn.metrics import roc_curve, auc\n",
    "from scipy import interp\n",
    "from sklearn.cross_validation import KFold\n",
    "from sklearn.preprocessing import StandardScaler\n",
    "\n",
    "\n",
    "%pylab inline\n",
    "%matplotlib inline\n",
    "%autoreload 2\n"
   ]
  },
  {
   "cell_type": "code",
   "execution_count": 20,
   "metadata": {
    "collapsed": false
   },
   "outputs": [
    {
     "name": "stdout",
     "output_type": "stream",
     "text": [
      "Populating the interactive namespace from numpy and matplotlib\n"
     ]
    },
    {
     "name": "stderr",
     "output_type": "stream",
     "text": [
      "/Users/eloisaelias/anaconda/lib/python2.7/site-packages/sklearn/lda.py:4: DeprecationWarning: lda.LDA has been moved to discriminant_analysis.LinearDiscriminantAnalysis in 0.17 and will be removed in 0.19\n",
      "  \"in 0.17 and will be removed in 0.19\", DeprecationWarning)\n"
     ]
    }
   ],
   "source": [
    "from sklearn.datasets import load_digits\n",
    "\n",
    "from sklearn.preprocessing import StandardScaler\n",
    "from sklearn.preprocessing import scale\n",
    "from sklearn.decomposition import PCA\n",
    "from sklearn import cluster, datasets, decomposition, ensemble\n",
    "from sklearn import lda, manifold, random_projection, preprocessing\n",
    "\n",
    "\n",
    "from statsmodels.regression import linear_model\n",
    "\n",
    "import statsmodels.api as sm\n",
    "import seaborn as sea\n",
    "sea.set()\n",
    "\n",
    "import pandas as pd\n",
    "import numpy as np\n",
    "\n",
    "digits = load_digits()\n",
    "\n",
    "% pylab inline\n",
    "% autoreload 2"
   ]
  },
  {
   "cell_type": "code",
   "execution_count": 38,
   "metadata": {
    "collapsed": true
   },
   "outputs": [],
   "source": [
    "df = pd.read_csv('data.csv', index_col=0)"
   ]
  },
  {
   "cell_type": "code",
   "execution_count": 69,
   "metadata": {
    "collapsed": true
   },
   "outputs": [],
   "source": [
    "df = pd.read_csv('data.csv')"
   ]
  },
  {
   "cell_type": "code",
   "execution_count": 70,
   "metadata": {
    "collapsed": false
   },
   "outputs": [
    {
     "data": {
      "text/html": [
       "<div>\n",
       "<table border=\"1\" class=\"dataframe\">\n",
       "  <thead>\n",
       "    <tr style=\"text-align: right;\">\n",
       "      <th></th>\n",
       "      <th>ID</th>\n",
       "      <th>VAR_0001</th>\n",
       "      <th>VAR_0002</th>\n",
       "      <th>VAR_0003</th>\n",
       "      <th>VAR_0004</th>\n",
       "      <th>VAR_0005</th>\n",
       "      <th>VAR_0006</th>\n",
       "      <th>VAR_0007</th>\n",
       "      <th>VAR_0008</th>\n",
       "      <th>VAR_0009</th>\n",
       "      <th>...</th>\n",
       "      <th>VAR_1926</th>\n",
       "      <th>VAR_1927</th>\n",
       "      <th>VAR_1928</th>\n",
       "      <th>VAR_1929</th>\n",
       "      <th>VAR_1930</th>\n",
       "      <th>VAR_1931</th>\n",
       "      <th>VAR_1932</th>\n",
       "      <th>VAR_1933</th>\n",
       "      <th>VAR_1934</th>\n",
       "      <th>target</th>\n",
       "    </tr>\n",
       "  </thead>\n",
       "  <tbody>\n",
       "    <tr>\n",
       "      <th>0</th>\n",
       "      <td>2</td>\n",
       "      <td>H</td>\n",
       "      <td>224</td>\n",
       "      <td>0</td>\n",
       "      <td>4300</td>\n",
       "      <td>C</td>\n",
       "      <td>0</td>\n",
       "      <td>0</td>\n",
       "      <td>False</td>\n",
       "      <td>False</td>\n",
       "      <td>...</td>\n",
       "      <td>98</td>\n",
       "      <td>98</td>\n",
       "      <td>998</td>\n",
       "      <td>999999998</td>\n",
       "      <td>998</td>\n",
       "      <td>998</td>\n",
       "      <td>9998</td>\n",
       "      <td>9998</td>\n",
       "      <td>IAPS</td>\n",
       "      <td>0</td>\n",
       "    </tr>\n",
       "    <tr>\n",
       "      <th>1</th>\n",
       "      <td>4</td>\n",
       "      <td>H</td>\n",
       "      <td>7</td>\n",
       "      <td>53</td>\n",
       "      <td>4448</td>\n",
       "      <td>B</td>\n",
       "      <td>1</td>\n",
       "      <td>0</td>\n",
       "      <td>False</td>\n",
       "      <td>False</td>\n",
       "      <td>...</td>\n",
       "      <td>98</td>\n",
       "      <td>98</td>\n",
       "      <td>998</td>\n",
       "      <td>999999998</td>\n",
       "      <td>998</td>\n",
       "      <td>998</td>\n",
       "      <td>9998</td>\n",
       "      <td>9998</td>\n",
       "      <td>IAPS</td>\n",
       "      <td>0</td>\n",
       "    </tr>\n",
       "  </tbody>\n",
       "</table>\n",
       "<p>2 rows × 1934 columns</p>\n",
       "</div>"
      ],
      "text/plain": [
       "   ID VAR_0001  VAR_0002  VAR_0003  VAR_0004 VAR_0005  VAR_0006  VAR_0007  \\\n",
       "0   2        H       224         0      4300        C         0         0   \n",
       "1   4        H         7        53      4448        B         1         0   \n",
       "\n",
       "  VAR_0008 VAR_0009   ...   VAR_1926 VAR_1927 VAR_1928   VAR_1929  VAR_1930  \\\n",
       "0    False    False   ...         98       98      998  999999998       998   \n",
       "1    False    False   ...         98       98      998  999999998       998   \n",
       "\n",
       "   VAR_1931  VAR_1932  VAR_1933  VAR_1934  target  \n",
       "0       998      9998      9998      IAPS       0  \n",
       "1       998      9998      9998      IAPS       0  \n",
       "\n",
       "[2 rows x 1934 columns]"
      ]
     },
     "execution_count": 70,
     "metadata": {},
     "output_type": "execute_result"
    }
   ],
   "source": [
    "df[:2]"
   ]
  },
  {
   "cell_type": "code",
   "execution_count": 71,
   "metadata": {
    "collapsed": false
   },
   "outputs": [
    {
     "name": "stderr",
     "output_type": "stream",
     "text": [
      "/Users/eloisaelias/anaconda/lib/python2.7/site-packages/ipykernel/__main__.py:1: VisibleDeprecationWarning: using a non-integer number instead of an integer will result in an error in the future\n",
      "  if __name__ == '__main__':\n"
     ]
    }
   ],
   "source": [
    "sam = np.random.choice(df.index.values, df.shape[0]*0.1 )\n",
    "df_sam = df.ix[sam]"
   ]
  },
  {
   "cell_type": "code",
   "execution_count": 122,
   "metadata": {
    "collapsed": false
   },
   "outputs": [],
   "source": [
    "# df_sam.describe()"
   ]
  },
  {
   "cell_type": "code",
   "execution_count": 73,
   "metadata": {
    "collapsed": true
   },
   "outputs": [],
   "source": [
    "y = df_sam.pop('target').values\n",
    "\n",
    "X_inte = df_sam[df_sam.columns[df_sam.dtypes == 'int64']]"
   ]
  },
  {
   "cell_type": "code",
   "execution_count": 74,
   "metadata": {
    "collapsed": false
   },
   "outputs": [
    {
     "data": {
      "text/html": [
       "<div>\n",
       "<table border=\"1\" class=\"dataframe\">\n",
       "  <thead>\n",
       "    <tr style=\"text-align: right;\">\n",
       "      <th></th>\n",
       "      <th>ID</th>\n",
       "      <th>VAR_0002</th>\n",
       "      <th>VAR_0003</th>\n",
       "      <th>VAR_0004</th>\n",
       "      <th>VAR_0006</th>\n",
       "      <th>VAR_0007</th>\n",
       "      <th>VAR_0013</th>\n",
       "      <th>VAR_0014</th>\n",
       "      <th>VAR_0015</th>\n",
       "      <th>VAR_0016</th>\n",
       "      <th>...</th>\n",
       "      <th>VAR_1924</th>\n",
       "      <th>VAR_1925</th>\n",
       "      <th>VAR_1926</th>\n",
       "      <th>VAR_1927</th>\n",
       "      <th>VAR_1928</th>\n",
       "      <th>VAR_1929</th>\n",
       "      <th>VAR_1930</th>\n",
       "      <th>VAR_1931</th>\n",
       "      <th>VAR_1932</th>\n",
       "      <th>VAR_1933</th>\n",
       "    </tr>\n",
       "  </thead>\n",
       "  <tbody>\n",
       "    <tr>\n",
       "      <th>596</th>\n",
       "      <td>1174</td>\n",
       "      <td>2</td>\n",
       "      <td>4</td>\n",
       "      <td>3000</td>\n",
       "      <td>3</td>\n",
       "      <td>4</td>\n",
       "      <td>3</td>\n",
       "      <td>3</td>\n",
       "      <td>2</td>\n",
       "      <td>4</td>\n",
       "      <td>...</td>\n",
       "      <td>9998</td>\n",
       "      <td>0</td>\n",
       "      <td>98</td>\n",
       "      <td>98</td>\n",
       "      <td>998</td>\n",
       "      <td>999999998</td>\n",
       "      <td>998</td>\n",
       "      <td>998</td>\n",
       "      <td>9998</td>\n",
       "      <td>9998</td>\n",
       "    </tr>\n",
       "    <tr>\n",
       "      <th>747</th>\n",
       "      <td>1452</td>\n",
       "      <td>501</td>\n",
       "      <td>81</td>\n",
       "      <td>1410</td>\n",
       "      <td>0</td>\n",
       "      <td>0</td>\n",
       "      <td>0</td>\n",
       "      <td>0</td>\n",
       "      <td>0</td>\n",
       "      <td>1</td>\n",
       "      <td>...</td>\n",
       "      <td>94</td>\n",
       "      <td>0</td>\n",
       "      <td>98</td>\n",
       "      <td>98</td>\n",
       "      <td>998</td>\n",
       "      <td>999999998</td>\n",
       "      <td>998</td>\n",
       "      <td>998</td>\n",
       "      <td>9998</td>\n",
       "      <td>9998</td>\n",
       "    </tr>\n",
       "    <tr>\n",
       "      <th>99</th>\n",
       "      <td>191</td>\n",
       "      <td>9</td>\n",
       "      <td>144</td>\n",
       "      <td>6530</td>\n",
       "      <td>1</td>\n",
       "      <td>1</td>\n",
       "      <td>1</td>\n",
       "      <td>1</td>\n",
       "      <td>1</td>\n",
       "      <td>2</td>\n",
       "      <td>...</td>\n",
       "      <td>9998</td>\n",
       "      <td>0</td>\n",
       "      <td>98</td>\n",
       "      <td>98</td>\n",
       "      <td>998</td>\n",
       "      <td>999999998</td>\n",
       "      <td>998</td>\n",
       "      <td>998</td>\n",
       "      <td>9998</td>\n",
       "      <td>9998</td>\n",
       "    </tr>\n",
       "  </tbody>\n",
       "</table>\n",
       "<p>3 rows × 1593 columns</p>\n",
       "</div>"
      ],
      "text/plain": [
       "       ID  VAR_0002  VAR_0003  VAR_0004  VAR_0006  VAR_0007  VAR_0013  \\\n",
       "596  1174         2         4      3000         3         4         3   \n",
       "747  1452       501        81      1410         0         0         0   \n",
       "99    191         9       144      6530         1         1         1   \n",
       "\n",
       "     VAR_0014  VAR_0015  VAR_0016    ...     VAR_1924  VAR_1925  VAR_1926  \\\n",
       "596         3         2         4    ...         9998         0        98   \n",
       "747         0         0         1    ...           94         0        98   \n",
       "99          1         1         2    ...         9998         0        98   \n",
       "\n",
       "     VAR_1927  VAR_1928   VAR_1929  VAR_1930  VAR_1931  VAR_1932  VAR_1933  \n",
       "596        98       998  999999998       998       998      9998      9998  \n",
       "747        98       998  999999998       998       998      9998      9998  \n",
       "99         98       998  999999998       998       998      9998      9998  \n",
       "\n",
       "[3 rows x 1593 columns]"
      ]
     },
     "execution_count": 74,
     "metadata": {},
     "output_type": "execute_result"
    }
   ],
   "source": [
    "X_inte[:3]"
   ]
  },
  {
   "cell_type": "code",
   "execution_count": 77,
   "metadata": {
    "collapsed": true
   },
   "outputs": [],
   "source": [
    "feature_names = X_inte.columns"
   ]
  },
  {
   "cell_type": "code",
   "execution_count": 78,
   "metadata": {
    "collapsed": false
   },
   "outputs": [
    {
     "data": {
      "text/plain": [
       "Index([u'ID', u'VAR_0002', u'VAR_0003', u'VAR_0004', u'VAR_0006', u'VAR_0007',\n",
       "       u'VAR_0013', u'VAR_0014', u'VAR_0015', u'VAR_0016',\n",
       "       ...\n",
       "       u'VAR_1924', u'VAR_1925', u'VAR_1926', u'VAR_1927', u'VAR_1928',\n",
       "       u'VAR_1929', u'VAR_1930', u'VAR_1931', u'VAR_1932', u'VAR_1933'],\n",
       "      dtype='object', length=1593)"
      ]
     },
     "execution_count": 78,
     "metadata": {},
     "output_type": "execute_result"
    }
   ],
   "source": [
    "feature_names"
   ]
  },
  {
   "cell_type": "code",
   "execution_count": 104,
   "metadata": {
    "collapsed": true
   },
   "outputs": [],
   "source": [
    "y_ = df.pop('target').values\n",
    "\n",
    "X_int = df[df.columns[df.dtypes == 'int64']]\n",
    "\n",
    "feature_names = X_inte.columns"
   ]
  },
  {
   "cell_type": "code",
   "execution_count": 105,
   "metadata": {
    "collapsed": false
   },
   "outputs": [],
   "source": [
    "x_train, x_test, y_train, y_test = train_test_split(X_int, y_)"
   ]
  },
  {
   "cell_type": "code",
   "execution_count": 106,
   "metadata": {
    "collapsed": false
   },
   "outputs": [
    {
     "data": {
      "text/plain": [
       "RandomForestClassifier(bootstrap=True, class_weight=None, criterion='gini',\n",
       "            max_depth=None, max_features='auto', max_leaf_nodes=None,\n",
       "            min_impurity_split=1e-07, min_samples_leaf=1,\n",
       "            min_samples_split=2, min_weight_fraction_leaf=0.0,\n",
       "            n_estimators=10, n_jobs=-1, oob_score=False, random_state=None,\n",
       "            verbose=0, warm_start=False)"
      ]
     },
     "execution_count": 106,
     "metadata": {},
     "output_type": "execute_result"
    }
   ],
   "source": [
    "model = RandomForestClassifier(n_jobs=-1)\n",
    "model.fit(x_train, y_train)"
   ]
  },
  {
   "cell_type": "code",
   "execution_count": 107,
   "metadata": {
    "collapsed": false
   },
   "outputs": [
    {
     "data": {
      "text/plain": [
       "0.80400000000000005"
      ]
     },
     "execution_count": 107,
     "metadata": {},
     "output_type": "execute_result"
    }
   ],
   "source": [
    "model.score(x_test, y_test)"
   ]
  },
  {
   "cell_type": "code",
   "execution_count": 108,
   "metadata": {
    "collapsed": true
   },
   "outputs": [],
   "source": [
    "important_features = X_int[X_int.columns[model.feature_importances_.argsort()[::-1][:15]]]"
   ]
  },
  {
   "cell_type": "code",
   "execution_count": 110,
   "metadata": {
    "collapsed": false
   },
   "outputs": [
    {
     "data": {
      "text/html": [
       "<div>\n",
       "<table border=\"1\" class=\"dataframe\">\n",
       "  <thead>\n",
       "    <tr style=\"text-align: right;\">\n",
       "      <th></th>\n",
       "      <th>VAR_0715</th>\n",
       "      <th>VAR_1261</th>\n",
       "      <th>VAR_1380</th>\n",
       "      <th>VAR_0089</th>\n",
       "      <th>VAR_0066</th>\n",
       "      <th>VAR_0707</th>\n",
       "      <th>VAR_1117</th>\n",
       "      <th>VAR_0544</th>\n",
       "      <th>VAR_1202</th>\n",
       "      <th>VAR_0859</th>\n",
       "      <th>VAR_1281</th>\n",
       "      <th>VAR_1799</th>\n",
       "      <th>VAR_0134</th>\n",
       "      <th>VAR_1803</th>\n",
       "      <th>VAR_0982</th>\n",
       "    </tr>\n",
       "  </thead>\n",
       "  <tbody>\n",
       "    <tr>\n",
       "      <th>0</th>\n",
       "      <td>1</td>\n",
       "      <td>9996</td>\n",
       "      <td>62</td>\n",
       "      <td>1</td>\n",
       "      <td>0</td>\n",
       "      <td>107</td>\n",
       "      <td>15</td>\n",
       "      <td>3230</td>\n",
       "      <td>999999997</td>\n",
       "      <td>-99999</td>\n",
       "      <td>0</td>\n",
       "      <td>0</td>\n",
       "      <td>0</td>\n",
       "      <td>0</td>\n",
       "      <td>198</td>\n",
       "    </tr>\n",
       "    <tr>\n",
       "      <th>1</th>\n",
       "      <td>2</td>\n",
       "      <td>9996</td>\n",
       "      <td>65</td>\n",
       "      <td>4</td>\n",
       "      <td>0</td>\n",
       "      <td>59</td>\n",
       "      <td>57</td>\n",
       "      <td>899</td>\n",
       "      <td>27542</td>\n",
       "      <td>88</td>\n",
       "      <td>0</td>\n",
       "      <td>0</td>\n",
       "      <td>0</td>\n",
       "      <td>0</td>\n",
       "      <td>6</td>\n",
       "    </tr>\n",
       "    <tr>\n",
       "      <th>2</th>\n",
       "      <td>1</td>\n",
       "      <td>64</td>\n",
       "      <td>997</td>\n",
       "      <td>1</td>\n",
       "      <td>0</td>\n",
       "      <td>69</td>\n",
       "      <td>19</td>\n",
       "      <td>0</td>\n",
       "      <td>15452</td>\n",
       "      <td>-99999</td>\n",
       "      <td>0</td>\n",
       "      <td>0</td>\n",
       "      <td>0</td>\n",
       "      <td>999999997</td>\n",
       "      <td>105</td>\n",
       "    </tr>\n",
       "    <tr>\n",
       "      <th>3</th>\n",
       "      <td>1</td>\n",
       "      <td>2</td>\n",
       "      <td>95</td>\n",
       "      <td>2</td>\n",
       "      <td>0</td>\n",
       "      <td>33</td>\n",
       "      <td>17</td>\n",
       "      <td>286</td>\n",
       "      <td>22107</td>\n",
       "      <td>10</td>\n",
       "      <td>1</td>\n",
       "      <td>0</td>\n",
       "      <td>0</td>\n",
       "      <td>597</td>\n",
       "      <td>124</td>\n",
       "    </tr>\n",
       "    <tr>\n",
       "      <th>4</th>\n",
       "      <td>2</td>\n",
       "      <td>6</td>\n",
       "      <td>76</td>\n",
       "      <td>1</td>\n",
       "      <td>0</td>\n",
       "      <td>134</td>\n",
       "      <td>59</td>\n",
       "      <td>947</td>\n",
       "      <td>20947</td>\n",
       "      <td>37</td>\n",
       "      <td>0</td>\n",
       "      <td>0</td>\n",
       "      <td>0</td>\n",
       "      <td>0</td>\n",
       "      <td>104</td>\n",
       "    </tr>\n",
       "  </tbody>\n",
       "</table>\n",
       "</div>"
      ],
      "text/plain": [
       "   VAR_0715  VAR_1261  VAR_1380  VAR_0089  VAR_0066  VAR_0707  VAR_1117  \\\n",
       "0         1      9996        62         1         0       107        15   \n",
       "1         2      9996        65         4         0        59        57   \n",
       "2         1        64       997         1         0        69        19   \n",
       "3         1         2        95         2         0        33        17   \n",
       "4         2         6        76         1         0       134        59   \n",
       "\n",
       "   VAR_0544   VAR_1202  VAR_0859  VAR_1281  VAR_1799  VAR_0134   VAR_1803  \\\n",
       "0      3230  999999997    -99999         0         0         0          0   \n",
       "1       899      27542        88         0         0         0          0   \n",
       "2         0      15452    -99999         0         0         0  999999997   \n",
       "3       286      22107        10         1         0         0        597   \n",
       "4       947      20947        37         0         0         0          0   \n",
       "\n",
       "   VAR_0982  \n",
       "0       198  \n",
       "1         6  \n",
       "2       105  \n",
       "3       124  \n",
       "4       104  "
      ]
     },
     "execution_count": 110,
     "metadata": {},
     "output_type": "execute_result"
    }
   ],
   "source": [
    "important_features.head()"
   ]
  },
  {
   "cell_type": "code",
   "execution_count": 111,
   "metadata": {
    "collapsed": true
   },
   "outputs": [],
   "source": [
    "categorical = []\n",
    "\n",
    "for col in important_features:\n",
    "    if len(important_features[col].unique()) <= 100:\n",
    "        categorical.append(col)"
   ]
  },
  {
   "cell_type": "code",
   "execution_count": 112,
   "metadata": {
    "collapsed": false
   },
   "outputs": [
    {
     "data": {
      "text/plain": [
       "['VAR_0715',\n",
       " 'VAR_1261',\n",
       " 'VAR_0089',\n",
       " 'VAR_0066',\n",
       " 'VAR_1117',\n",
       " 'VAR_0859',\n",
       " 'VAR_1281',\n",
       " 'VAR_1799',\n",
       " 'VAR_0134',\n",
       " 'VAR_1803']"
      ]
     },
     "execution_count": 112,
     "metadata": {},
     "output_type": "execute_result"
    }
   ],
   "source": [
    "categorical"
   ]
  },
  {
   "cell_type": "code",
   "execution_count": 113,
   "metadata": {
    "collapsed": false
   },
   "outputs": [
    {
     "data": {
      "text/plain": [
       "10"
      ]
     },
     "execution_count": 113,
     "metadata": {},
     "output_type": "execute_result"
    }
   ],
   "source": [
    "len(categorical)"
   ]
  },
  {
   "cell_type": "code",
   "execution_count": 114,
   "metadata": {
    "collapsed": true
   },
   "outputs": [],
   "source": [
    "def bin_categorical(s, n=5, na_value=-99999):\n",
    "    return pd.cut(s.replace(na_value, float('nan')), 5)"
   ]
  },
  {
   "cell_type": "code",
   "execution_count": 116,
   "metadata": {
    "collapsed": false
   },
   "outputs": [],
   "source": [
    "important_dummies = important_features.copy()\n",
    "\n",
    "for col in categorical:\n",
    "    important_dummies[col] = bin_categorical(important_features[col])"
   ]
  },
  {
   "cell_type": "code",
   "execution_count": 118,
   "metadata": {
    "collapsed": false
   },
   "outputs": [],
   "source": [
    "important_dummies = pd.get_dummies(important_features, dummy_na=True)"
   ]
  },
  {
   "cell_type": "code",
   "execution_count": 120,
   "metadata": {
    "collapsed": false
   },
   "outputs": [
    {
     "data": {
      "text/plain": [
       "RandomForestClassifier(bootstrap=True, class_weight=None, criterion='gini',\n",
       "            max_depth=None, max_features='auto', max_leaf_nodes=None,\n",
       "            min_impurity_split=1e-07, min_samples_leaf=1,\n",
       "            min_samples_split=2, min_weight_fraction_leaf=0.0,\n",
       "            n_estimators=10, n_jobs=-1, oob_score=False, random_state=None,\n",
       "            verbose=0, warm_start=False)"
      ]
     },
     "execution_count": 120,
     "metadata": {},
     "output_type": "execute_result"
    }
   ],
   "source": [
    "x_train, x_test, y_train, y_test = train_test_split(important_features, y_)\n",
    "\n",
    "imodel = RandomForestClassifier(n_jobs=-1)\n",
    "imodel.fit(x_train, y_train)"
   ]
  },
  {
   "cell_type": "code",
   "execution_count": 121,
   "metadata": {
    "collapsed": false
   },
   "outputs": [
    {
     "data": {
      "text/plain": [
       "0.78000000000000003"
      ]
     },
     "execution_count": 121,
     "metadata": {},
     "output_type": "execute_result"
    }
   ],
   "source": [
    "imodel.score(x_test, y_test)"
   ]
  },
  {
   "cell_type": "markdown",
   "metadata": {},
   "source": [
    "---\n",
    "## PCA\n",
    "#### Preprocessing"
   ]
  },
  {
   "cell_type": "code",
   "execution_count": 75,
   "metadata": {
    "collapsed": false
   },
   "outputs": [],
   "source": [
    "scaler = StandardScaler()"
   ]
  },
  {
   "cell_type": "code",
   "execution_count": 76,
   "metadata": {
    "collapsed": false
   },
   "outputs": [],
   "source": [
    "feature_scaling = scaler.fit_transform(X_inte)"
   ]
  },
  {
   "cell_type": "code",
   "execution_count": 96,
   "metadata": {
    "collapsed": false
   },
   "outputs": [],
   "source": [
    "pca = PCA(70)\n",
    "\n",
    "principal_features = pca.fit_transform(feature_scaling, y)"
   ]
  },
  {
   "cell_type": "code",
   "execution_count": 97,
   "metadata": {
    "collapsed": true
   },
   "outputs": [],
   "source": [
    "def evariance_pca(pca):\n",
    "    components = pca.n_components_\n",
    "    xaxis = np.arange(components)\n",
    "    evariance = pca.explained_variance_ratio_\n",
    "    \n",
    "    plt.figure(figsize=(12, 6))\n",
    "    ax = plt.subplot(111)\n",
    "    ax.bar(xaxis, evariance, 0.4, \n",
    "           color=['red', 'green', 'blue', 'cyan', 'magenta'], alpha=0.5)\n",
    "    \n",
    "    for i in xrange(components):\n",
    "        ax.annotate('{:1.4}%'.format((str(evariance[i]*100))),\n",
    "                   (xaxis[i], evariance[i]), \n",
    "                    fontsize=12)\n",
    "    \n",
    "#     ax.set_xticklabels(xaxis, fontsize=12)\n",
    "    \n",
    "    ax.set_ylim(0, max(evariance)+0.02)\n",
    "    ax.set_xlim(0-0.45, 8+0.45)\n",
    "    \n",
    "    ax.set_xlabel('Principal Component')\n",
    "    ax.set_ylabel('Explained Variance (%)')\n",
    "    ax.set_title('PCA Pareto')"
   ]
  },
  {
   "cell_type": "code",
   "execution_count": 98,
   "metadata": {
    "collapsed": false
   },
   "outputs": [
    {
     "data": {
      "image/png": "[encoded data removed]",
      "text/plain": [
       "<matplotlib.figure.Figure at 0x12030c490>"
      ]
     },
     "metadata": {},
     "output_type": "display_data"
    }
   ],
   "source": [
    "evariance_pca(pca)"
   ]
  },
  {
   "cell_type": "code",
   "execution_count": 99,
   "metadata": {
    "collapsed": false
   },
   "outputs": [
    {
     "name": "stdout",
     "output_type": "stream",
     "text": [
      "0.808754060079\n",
      "0.330639210278\n"
     ]
    },
    {
     "data": {
      "text/html": [
       "<table class=\"simpletable\">\n",
       "<caption>OLS Regression Results</caption>\n",
       "<tr>\n",
       "  <th>Dep. Variable:</th>            <td>y</td>        <th>  R-squared:         </th> <td>   0.809</td>\n",
       "</tr>\n",
       "<tr>\n",
       "  <th>Model:</th>                   <td>OLS</td>       <th>  Adj. R-squared:    </th> <td>   0.331</td>\n",
       "</tr>\n",
       "<tr>\n",
       "  <th>Method:</th>             <td>Least Squares</td>  <th>  F-statistic:       </th> <td>   1.692</td>\n",
       "</tr>\n",
       "<tr>\n",
       "  <th>Date:</th>             <td>Sat, 25 Mar 2017</td> <th>  Prob (F-statistic):</th>  <td>0.0616</td> \n",
       "</tr>\n",
       "<tr>\n",
       "  <th>Time:</th>                 <td>18:29:11</td>     <th>  Log-Likelihood:    </th> <td>  26.746</td>\n",
       "</tr>\n",
       "<tr>\n",
       "  <th>No. Observations:</th>      <td>    99</td>      <th>  AIC:               </th> <td>   88.51</td>\n",
       "</tr>\n",
       "<tr>\n",
       "  <th>Df Residuals:</th>          <td>    28</td>      <th>  BIC:               </th> <td>   272.8</td>\n",
       "</tr>\n",
       "<tr>\n",
       "  <th>Df Model:</th>              <td>    70</td>      <th>                     </th>     <td> </td>   \n",
       "</tr>\n",
       "<tr>\n",
       "  <th>Covariance Type:</th>      <td>nonrobust</td>    <th>                     </th>     <td> </td>   \n",
       "</tr>\n",
       "</table>\n",
       "<table class=\"simpletable\">\n",
       "<tr>\n",
       "    <td></td>       <th>coef</th>     <th>std err</th>      <th>t</th>      <th>P>|t|</th> <th>[95.0% Conf. Int.]</th> \n",
       "</tr>\n",
       "<tr>\n",
       "  <th>const</th> <td>    0.2323</td> <td>    0.035</td> <td>    6.656</td> <td> 0.000</td> <td>    0.161     0.304</td>\n",
       "</tr>\n",
       "<tr>\n",
       "  <th>x1</th>    <td>    0.0039</td> <td>    0.002</td> <td>    1.847</td> <td> 0.075</td> <td>   -0.000     0.008</td>\n",
       "</tr>\n",
       "<tr>\n",
       "  <th>x2</th>    <td>   -0.0066</td> <td>    0.003</td> <td>   -2.575</td> <td> 0.016</td> <td>   -0.012    -0.001</td>\n",
       "</tr>\n",
       "<tr>\n",
       "  <th>x3</th>    <td>   -0.0012</td> <td>    0.003</td> <td>   -0.392</td> <td> 0.698</td> <td>   -0.007     0.005</td>\n",
       "</tr>\n",
       "<tr>\n",
       "  <th>x4</th>    <td>    0.0089</td> <td>    0.004</td> <td>    2.329</td> <td> 0.027</td> <td>    0.001     0.017</td>\n",
       "</tr>\n",
       "<tr>\n",
       "  <th>x5</th>    <td>-7.822e-05</td> <td>    0.004</td> <td>   -0.019</td> <td> 0.985</td> <td>   -0.008     0.008</td>\n",
       "</tr>\n",
       "<tr>\n",
       "  <th>x6</th>    <td>   -0.0070</td> <td>    0.005</td> <td>   -1.321</td> <td> 0.197</td> <td>   -0.018     0.004</td>\n",
       "</tr>\n",
       "<tr>\n",
       "  <th>x7</th>    <td>    0.0012</td> <td>    0.006</td> <td>    0.206</td> <td> 0.838</td> <td>   -0.011     0.013</td>\n",
       "</tr>\n",
       "<tr>\n",
       "  <th>x8</th>    <td>    0.0047</td> <td>    0.006</td> <td>    0.785</td> <td> 0.439</td> <td>   -0.008     0.017</td>\n",
       "</tr>\n",
       "<tr>\n",
       "  <th>x9</th>    <td>   -0.0137</td> <td>    0.006</td> <td>   -2.241</td> <td> 0.033</td> <td>   -0.026    -0.001</td>\n",
       "</tr>\n",
       "<tr>\n",
       "  <th>x10</th>   <td>   -0.0031</td> <td>    0.006</td> <td>   -0.484</td> <td> 0.632</td> <td>   -0.016     0.010</td>\n",
       "</tr>\n",
       "<tr>\n",
       "  <th>x11</th>   <td>    0.0009</td> <td>    0.007</td> <td>    0.136</td> <td> 0.893</td> <td>   -0.013     0.014</td>\n",
       "</tr>\n",
       "<tr>\n",
       "  <th>x12</th>   <td>    0.0012</td> <td>    0.007</td> <td>    0.174</td> <td> 0.863</td> <td>   -0.013     0.015</td>\n",
       "</tr>\n",
       "<tr>\n",
       "  <th>x13</th>   <td>    0.0008</td> <td>    0.007</td> <td>    0.121</td> <td> 0.905</td> <td>   -0.013     0.015</td>\n",
       "</tr>\n",
       "<tr>\n",
       "  <th>x14</th>   <td>    0.0182</td> <td>    0.007</td> <td>    2.537</td> <td> 0.017</td> <td>    0.004     0.033</td>\n",
       "</tr>\n",
       "<tr>\n",
       "  <th>x15</th>   <td>   -0.0001</td> <td>    0.007</td> <td>   -0.019</td> <td> 0.985</td> <td>   -0.015     0.015</td>\n",
       "</tr>\n",
       "<tr>\n",
       "  <th>x16</th>   <td>   -0.0079</td> <td>    0.008</td> <td>   -1.052</td> <td> 0.302</td> <td>   -0.023     0.007</td>\n",
       "</tr>\n",
       "<tr>\n",
       "  <th>x17</th>   <td>    0.0097</td> <td>    0.008</td> <td>    1.254</td> <td> 0.220</td> <td>   -0.006     0.025</td>\n",
       "</tr>\n",
       "<tr>\n",
       "  <th>x18</th>   <td>    0.0270</td> <td>    0.008</td> <td>    3.349</td> <td> 0.002</td> <td>    0.010     0.044</td>\n",
       "</tr>\n",
       "<tr>\n",
       "  <th>x19</th>   <td>    0.0070</td> <td>    0.008</td> <td>    0.823</td> <td> 0.417</td> <td>   -0.010     0.024</td>\n",
       "</tr>\n",
       "<tr>\n",
       "  <th>x20</th>   <td>   -0.0064</td> <td>    0.009</td> <td>   -0.725</td> <td> 0.475</td> <td>   -0.024     0.012</td>\n",
       "</tr>\n",
       "<tr>\n",
       "  <th>x21</th>   <td>   -0.0087</td> <td>    0.009</td> <td>   -0.981</td> <td> 0.335</td> <td>   -0.027     0.009</td>\n",
       "</tr>\n",
       "<tr>\n",
       "  <th>x22</th>   <td>    0.0015</td> <td>    0.009</td> <td>    0.164</td> <td> 0.871</td> <td>   -0.017     0.020</td>\n",
       "</tr>\n",
       "<tr>\n",
       "  <th>x23</th>   <td>   -0.0185</td> <td>    0.009</td> <td>   -1.959</td> <td> 0.060</td> <td>   -0.038     0.001</td>\n",
       "</tr>\n",
       "<tr>\n",
       "  <th>x24</th>   <td>    0.0167</td> <td>    0.010</td> <td>    1.754</td> <td> 0.090</td> <td>   -0.003     0.036</td>\n",
       "</tr>\n",
       "<tr>\n",
       "  <th>x25</th>   <td>    0.0283</td> <td>    0.010</td> <td>    2.900</td> <td> 0.007</td> <td>    0.008     0.048</td>\n",
       "</tr>\n",
       "<tr>\n",
       "  <th>x26</th>   <td>    0.0169</td> <td>    0.010</td> <td>    1.689</td> <td> 0.102</td> <td>   -0.004     0.037</td>\n",
       "</tr>\n",
       "<tr>\n",
       "  <th>x27</th>   <td> 7.254e-05</td> <td>    0.010</td> <td>    0.007</td> <td> 0.994</td> <td>   -0.021     0.021</td>\n",
       "</tr>\n",
       "<tr>\n",
       "  <th>x28</th>   <td>   -0.0014</td> <td>    0.010</td> <td>   -0.139</td> <td> 0.891</td> <td>   -0.023     0.020</td>\n",
       "</tr>\n",
       "<tr>\n",
       "  <th>x29</th>   <td>    0.0137</td> <td>    0.011</td> <td>    1.280</td> <td> 0.211</td> <td>   -0.008     0.036</td>\n",
       "</tr>\n",
       "<tr>\n",
       "  <th>x30</th>   <td>   -0.0124</td> <td>    0.011</td> <td>   -1.140</td> <td> 0.264</td> <td>   -0.035     0.010</td>\n",
       "</tr>\n",
       "<tr>\n",
       "  <th>x31</th>   <td>    0.0110</td> <td>    0.011</td> <td>    0.980</td> <td> 0.336</td> <td>   -0.012     0.034</td>\n",
       "</tr>\n",
       "<tr>\n",
       "  <th>x32</th>   <td>   -0.0010</td> <td>    0.011</td> <td>   -0.086</td> <td> 0.932</td> <td>   -0.024     0.022</td>\n",
       "</tr>\n",
       "<tr>\n",
       "  <th>x33</th>   <td>    0.0027</td> <td>    0.012</td> <td>    0.234</td> <td> 0.817</td> <td>   -0.021     0.027</td>\n",
       "</tr>\n",
       "<tr>\n",
       "  <th>x34</th>   <td>   -0.0014</td> <td>    0.012</td> <td>   -0.121</td> <td> 0.905</td> <td>   -0.025     0.023</td>\n",
       "</tr>\n",
       "<tr>\n",
       "  <th>x35</th>   <td>   -0.0105</td> <td>    0.012</td> <td>   -0.894</td> <td> 0.379</td> <td>   -0.035     0.014</td>\n",
       "</tr>\n",
       "<tr>\n",
       "  <th>x36</th>   <td>    0.0080</td> <td>    0.012</td> <td>    0.666</td> <td> 0.511</td> <td>   -0.017     0.033</td>\n",
       "</tr>\n",
       "<tr>\n",
       "  <th>x37</th>   <td>   -0.0023</td> <td>    0.012</td> <td>   -0.187</td> <td> 0.853</td> <td>   -0.027     0.023</td>\n",
       "</tr>\n",
       "<tr>\n",
       "  <th>x38</th>   <td>    0.0168</td> <td>    0.012</td> <td>    1.349</td> <td> 0.188</td> <td>   -0.009     0.042</td>\n",
       "</tr>\n",
       "<tr>\n",
       "  <th>x39</th>   <td>   -0.0333</td> <td>    0.013</td> <td>   -2.623</td> <td> 0.014</td> <td>   -0.059    -0.007</td>\n",
       "</tr>\n",
       "<tr>\n",
       "  <th>x40</th>   <td>   -0.0225</td> <td>    0.013</td> <td>   -1.717</td> <td> 0.097</td> <td>   -0.049     0.004</td>\n",
       "</tr>\n",
       "<tr>\n",
       "  <th>x41</th>   <td>   -0.0216</td> <td>    0.013</td> <td>   -1.634</td> <td> 0.113</td> <td>   -0.049     0.005</td>\n",
       "</tr>\n",
       "<tr>\n",
       "  <th>x42</th>   <td>   -0.0139</td> <td>    0.013</td> <td>   -1.036</td> <td> 0.309</td> <td>   -0.041     0.014</td>\n",
       "</tr>\n",
       "<tr>\n",
       "  <th>x43</th>   <td>    0.0093</td> <td>    0.014</td> <td>    0.686</td> <td> 0.498</td> <td>   -0.018     0.037</td>\n",
       "</tr>\n",
       "<tr>\n",
       "  <th>x44</th>   <td>    0.0260</td> <td>    0.014</td> <td>    1.848</td> <td> 0.075</td> <td>   -0.003     0.055</td>\n",
       "</tr>\n",
       "<tr>\n",
       "  <th>x45</th>   <td>    0.0142</td> <td>    0.014</td> <td>    0.996</td> <td> 0.328</td> <td>   -0.015     0.043</td>\n",
       "</tr>\n",
       "<tr>\n",
       "  <th>x46</th>   <td>   -0.0008</td> <td>    0.015</td> <td>   -0.057</td> <td> 0.955</td> <td>   -0.031     0.029</td>\n",
       "</tr>\n",
       "<tr>\n",
       "  <th>x47</th>   <td>   -0.0023</td> <td>    0.015</td> <td>   -0.156</td> <td> 0.877</td> <td>   -0.033     0.028</td>\n",
       "</tr>\n",
       "<tr>\n",
       "  <th>x48</th>   <td>   -0.0059</td> <td>    0.015</td> <td>   -0.384</td> <td> 0.704</td> <td>   -0.037     0.025</td>\n",
       "</tr>\n",
       "<tr>\n",
       "  <th>x49</th>   <td>    0.0039</td> <td>    0.015</td> <td>    0.253</td> <td> 0.802</td> <td>   -0.027     0.035</td>\n",
       "</tr>\n",
       "<tr>\n",
       "  <th>x50</th>   <td>    0.0040</td> <td>    0.015</td> <td>    0.259</td> <td> 0.798</td> <td>   -0.028     0.036</td>\n",
       "</tr>\n",
       "<tr>\n",
       "  <th>x51</th>   <td>   -0.0190</td> <td>    0.016</td> <td>   -1.216</td> <td> 0.234</td> <td>   -0.051     0.013</td>\n",
       "</tr>\n",
       "<tr>\n",
       "  <th>x52</th>   <td>    0.0135</td> <td>    0.016</td> <td>    0.858</td> <td> 0.398</td> <td>   -0.019     0.046</td>\n",
       "</tr>\n",
       "<tr>\n",
       "  <th>x53</th>   <td>   -0.0288</td> <td>    0.016</td> <td>   -1.812</td> <td> 0.081</td> <td>   -0.061     0.004</td>\n",
       "</tr>\n",
       "<tr>\n",
       "  <th>x54</th>   <td>   -0.0302</td> <td>    0.016</td> <td>   -1.873</td> <td> 0.072</td> <td>   -0.063     0.003</td>\n",
       "</tr>\n",
       "<tr>\n",
       "  <th>x55</th>   <td>    0.0052</td> <td>    0.016</td> <td>    0.320</td> <td> 0.751</td> <td>   -0.028     0.039</td>\n",
       "</tr>\n",
       "<tr>\n",
       "  <th>x56</th>   <td>    0.0163</td> <td>    0.017</td> <td>    0.987</td> <td> 0.332</td> <td>   -0.018     0.050</td>\n",
       "</tr>\n",
       "<tr>\n",
       "  <th>x57</th>   <td>    0.0053</td> <td>    0.017</td> <td>    0.310</td> <td> 0.758</td> <td>   -0.030     0.040</td>\n",
       "</tr>\n",
       "<tr>\n",
       "  <th>x58</th>   <td>    0.0250</td> <td>    0.017</td> <td>    1.446</td> <td> 0.159</td> <td>   -0.010     0.061</td>\n",
       "</tr>\n",
       "<tr>\n",
       "  <th>x59</th>   <td>   -0.0010</td> <td>    0.018</td> <td>   -0.056</td> <td> 0.956</td> <td>   -0.037     0.035</td>\n",
       "</tr>\n",
       "<tr>\n",
       "  <th>x60</th>   <td>   -0.0068</td> <td>    0.018</td> <td>   -0.375</td> <td> 0.711</td> <td>   -0.044     0.030</td>\n",
       "</tr>\n",
       "<tr>\n",
       "  <th>x61</th>   <td>   -0.0427</td> <td>    0.018</td> <td>   -2.358</td> <td> 0.026</td> <td>   -0.080    -0.006</td>\n",
       "</tr>\n",
       "<tr>\n",
       "  <th>x62</th>   <td>-5.582e-05</td> <td>    0.018</td> <td>   -0.003</td> <td> 0.998</td> <td>   -0.037     0.037</td>\n",
       "</tr>\n",
       "<tr>\n",
       "  <th>x63</th>   <td>    0.0445</td> <td>    0.019</td> <td>    2.352</td> <td> 0.026</td> <td>    0.006     0.083</td>\n",
       "</tr>\n",
       "<tr>\n",
       "  <th>x64</th>   <td>   -0.0120</td> <td>    0.019</td> <td>   -0.622</td> <td> 0.539</td> <td>   -0.052     0.028</td>\n",
       "</tr>\n",
       "<tr>\n",
       "  <th>x65</th>   <td>    0.0039</td> <td>    0.019</td> <td>    0.203</td> <td> 0.841</td> <td>   -0.036     0.044</td>\n",
       "</tr>\n",
       "<tr>\n",
       "  <th>x66</th>   <td>    0.0209</td> <td>    0.020</td> <td>    1.071</td> <td> 0.293</td> <td>   -0.019     0.061</td>\n",
       "</tr>\n",
       "<tr>\n",
       "  <th>x67</th>   <td>   -0.0171</td> <td>    0.020</td> <td>   -0.857</td> <td> 0.399</td> <td>   -0.058     0.024</td>\n",
       "</tr>\n",
       "<tr>\n",
       "  <th>x68</th>   <td>   -0.0254</td> <td>    0.020</td> <td>   -1.262</td> <td> 0.217</td> <td>   -0.067     0.016</td>\n",
       "</tr>\n",
       "<tr>\n",
       "  <th>x69</th>   <td>    0.0114</td> <td>    0.021</td> <td>    0.547</td> <td> 0.588</td> <td>   -0.031     0.054</td>\n",
       "</tr>\n",
       "<tr>\n",
       "  <th>x70</th>   <td>   -0.0192</td> <td>    0.021</td> <td>   -0.902</td> <td> 0.375</td> <td>   -0.063     0.024</td>\n",
       "</tr>\n",
       "</table>\n",
       "<table class=\"simpletable\">\n",
       "<tr>\n",
       "  <th>Omnibus:</th>       <td> 8.567</td> <th>  Durbin-Watson:     </th> <td>   1.718</td>\n",
       "</tr>\n",
       "<tr>\n",
       "  <th>Prob(Omnibus):</th> <td> 0.014</td> <th>  Jarque-Bera (JB):  </th> <td>  10.488</td>\n",
       "</tr>\n",
       "<tr>\n",
       "  <th>Skew:</th>          <td> 0.453</td> <th>  Prob(JB):          </th> <td> 0.00528</td>\n",
       "</tr>\n",
       "<tr>\n",
       "  <th>Kurtosis:</th>      <td> 4.312</td> <th>  Cond. No.          </th> <td>    16.7</td>\n",
       "</tr>\n",
       "</table>"
      ],
      "text/plain": [
       "<class 'statsmodels.iolib.summary.Summary'>\n",
       "\"\"\"\n",
       "                            OLS Regression Results                            \n",
       "==============================================================================\n",
       "Dep. Variable:                      y   R-squared:                       0.809\n",
       "Model:                            OLS   Adj. R-squared:                  0.331\n",
       "Method:                 Least Squares   F-statistic:                     1.692\n",
       "Date:                Sat, 25 Mar 2017   Prob (F-statistic):             0.0616\n",
       "Time:                        18:29:11   Log-Likelihood:                 26.746\n",
       "No. Observations:                  99   AIC:                             88.51\n",
       "Df Residuals:                      28   BIC:                             272.8\n",
       "Df Model:                          70                                         \n",
       "Covariance Type:            nonrobust                                         \n",
       "==============================================================================\n",
       "                 coef    std err          t      P>|t|      [95.0% Conf. Int.]\n",
       "------------------------------------------------------------------------------\n",
       "const          0.2323      0.035      6.656      0.000         0.161     0.304\n",
       "x1             0.0039      0.002      1.847      0.075        -0.000     0.008\n",
       "x2            -0.0066      0.003     -2.575      0.016        -0.012    -0.001\n",
       "x3            -0.0012      0.003     -0.392      0.698        -0.007     0.005\n",
       "x4             0.0089      0.004      2.329      0.027         0.001     0.017\n",
       "x5         -7.822e-05      0.004     -0.019      0.985        -0.008     0.008\n",
       "x6            -0.0070      0.005     -1.321      0.197        -0.018     0.004\n",
       "x7             0.0012      0.006      0.206      0.838        -0.011     0.013\n",
       "x8             0.0047      0.006      0.785      0.439        -0.008     0.017\n",
       "x9            -0.0137      0.006     -2.241      0.033        -0.026    -0.001\n",
       "x10           -0.0031      0.006     -0.484      0.632        -0.016     0.010\n",
       "x11            0.0009      0.007      0.136      0.893        -0.013     0.014\n",
       "x12            0.0012      0.007      0.174      0.863        -0.013     0.015\n",
       "x13            0.0008      0.007      0.121      0.905        -0.013     0.015\n",
       "x14            0.0182      0.007      2.537      0.017         0.004     0.033\n",
       "x15           -0.0001      0.007     -0.019      0.985        -0.015     0.015\n",
       "x16           -0.0079      0.008     -1.052      0.302        -0.023     0.007\n",
       "x17            0.0097      0.008      1.254      0.220        -0.006     0.025\n",
       "x18            0.0270      0.008      3.349      0.002         0.010     0.044\n",
       "x19            0.0070      0.008      0.823      0.417        -0.010     0.024\n",
       "x20           -0.0064      0.009     -0.725      0.475        -0.024     0.012\n",
       "x21           -0.0087      0.009     -0.981      0.335        -0.027     0.009\n",
       "x22            0.0015      0.009      0.164      0.871        -0.017     0.020\n",
       "x23           -0.0185      0.009     -1.959      0.060        -0.038     0.001\n",
       "x24            0.0167      0.010      1.754      0.090        -0.003     0.036\n",
       "x25            0.0283      0.010      2.900      0.007         0.008     0.048\n",
       "x26            0.0169      0.010      1.689      0.102        -0.004     0.037\n",
       "x27         7.254e-05      0.010      0.007      0.994        -0.021     0.021\n",
       "x28           -0.0014      0.010     -0.139      0.891        -0.023     0.020\n",
       "x29            0.0137      0.011      1.280      0.211        -0.008     0.036\n",
       "x30           -0.0124      0.011     -1.140      0.264        -0.035     0.010\n",
       "x31            0.0110      0.011      0.980      0.336        -0.012     0.034\n",
       "x32           -0.0010      0.011     -0.086      0.932        -0.024     0.022\n",
       "x33            0.0027      0.012      0.234      0.817        -0.021     0.027\n",
       "x34           -0.0014      0.012     -0.121      0.905        -0.025     0.023\n",
       "x35           -0.0105      0.012     -0.894      0.379        -0.035     0.014\n",
       "x36            0.0080      0.012      0.666      0.511        -0.017     0.033\n",
       "x37           -0.0023      0.012     -0.187      0.853        -0.027     0.023\n",
       "x38            0.0168      0.012      1.349      0.188        -0.009     0.042\n",
       "x39           -0.0333      0.013     -2.623      0.014        -0.059    -0.007\n",
       "x40           -0.0225      0.013     -1.717      0.097        -0.049     0.004\n",
       "x41           -0.0216      0.013     -1.634      0.113        -0.049     0.005\n",
       "x42           -0.0139      0.013     -1.036      0.309        -0.041     0.014\n",
       "x43            0.0093      0.014      0.686      0.498        -0.018     0.037\n",
       "x44            0.0260      0.014      1.848      0.075        -0.003     0.055\n",
       "x45            0.0142      0.014      0.996      0.328        -0.015     0.043\n",
       "x46           -0.0008      0.015     -0.057      0.955        -0.031     0.029\n",
       "x47           -0.0023      0.015     -0.156      0.877        -0.033     0.028\n",
       "x48           -0.0059      0.015     -0.384      0.704        -0.037     0.025\n",
       "x49            0.0039      0.015      0.253      0.802        -0.027     0.035\n",
       "x50            0.0040      0.015      0.259      0.798        -0.028     0.036\n",
       "x51           -0.0190      0.016     -1.216      0.234        -0.051     0.013\n",
       "x52            0.0135      0.016      0.858      0.398        -0.019     0.046\n",
       "x53           -0.0288      0.016     -1.812      0.081        -0.061     0.004\n",
       "x54           -0.0302      0.016     -1.873      0.072        -0.063     0.003\n",
       "x55            0.0052      0.016      0.320      0.751        -0.028     0.039\n",
       "x56            0.0163      0.017      0.987      0.332        -0.018     0.050\n",
       "x57            0.0053      0.017      0.310      0.758        -0.030     0.040\n",
       "x58            0.0250      0.017      1.446      0.159        -0.010     0.061\n",
       "x59           -0.0010      0.018     -0.056      0.956        -0.037     0.035\n",
       "x60           -0.0068      0.018     -0.375      0.711        -0.044     0.030\n",
       "x61           -0.0427      0.018     -2.358      0.026        -0.080    -0.006\n",
       "x62        -5.582e-05      0.018     -0.003      0.998        -0.037     0.037\n",
       "x63            0.0445      0.019      2.352      0.026         0.006     0.083\n",
       "x64           -0.0120      0.019     -0.622      0.539        -0.052     0.028\n",
       "x65            0.0039      0.019      0.203      0.841        -0.036     0.044\n",
       "x66            0.0209      0.020      1.071      0.293        -0.019     0.061\n",
       "x67           -0.0171      0.020     -0.857      0.399        -0.058     0.024\n",
       "x68           -0.0254      0.020     -1.262      0.217        -0.067     0.016\n",
       "x69            0.0114      0.021      0.547      0.588        -0.031     0.054\n",
       "x70           -0.0192      0.021     -0.902      0.375        -0.063     0.024\n",
       "==============================================================================\n",
       "Omnibus:                        8.567   Durbin-Watson:                   1.718\n",
       "Prob(Omnibus):                  0.014   Jarque-Bera (JB):               10.488\n",
       "Skew:                           0.453   Prob(JB):                      0.00528\n",
       "Kurtosis:                       4.312   Cond. No.                         16.7\n",
       "==============================================================================\n",
       "\n",
       "Warnings:\n",
       "[1] Standard Errors assume that the covariance matrix of the errors is correctly specified.\n",
       "\"\"\""
      ]
     },
     "execution_count": 99,
     "metadata": {},
     "output_type": "execute_result"
    }
   ],
   "source": [
    "model = sm.OLS(y, sm.add_constant(principal_features))\n",
    "results = model.fit()\n",
    "\n",
    "print results.rsquared\n",
    "print results.rsquared_adj\n",
    "results.summary()"
   ]
  },
  {
   "cell_type": "code",
   "execution_count": null,
   "metadata": {
    "collapsed": true
   },
   "outputs": [],
   "source": []
  },
  {
   "cell_type": "code",
   "execution_count": null,
   "metadata": {
    "collapsed": true
   },
   "outputs": [],
   "source": []
  },
  {
   "cell_type": "code",
   "execution_count": null,
   "metadata": {
    "collapsed": true
   },
   "outputs": [],
   "source": []
  },
  {
   "cell_type": "code",
   "execution_count": null,
   "metadata": {
    "collapsed": true
   },
   "outputs": [],
   "source": []
  },
  {
   "cell_type": "code",
   "execution_count": null,
   "metadata": {
    "collapsed": true
   },
   "outputs": [],
   "source": []
  },
  {
   "cell_type": "code",
   "execution_count": null,
   "metadata": {
    "collapsed": true
   },
   "outputs": [],
   "source": []
  },
  {
   "cell_type": "code",
   "execution_count": null,
   "metadata": {
    "collapsed": true
   },
   "outputs": [],
   "source": []
  },
  {
   "cell_type": "code",
   "execution_count": null,
   "metadata": {
    "collapsed": true
   },
   "outputs": [],
   "source": []
  },
  {
   "cell_type": "code",
   "execution_count": null,
   "metadata": {
    "collapsed": true
   },
   "outputs": [],
   "source": []
  },
  {
   "cell_type": "code",
   "execution_count": null,
   "metadata": {
    "collapsed": true
   },
   "outputs": [],
   "source": []
  },
  {
   "cell_type": "code",
   "execution_count": null,
   "metadata": {
    "collapsed": true
   },
   "outputs": [],
   "source": []
  },
  {
   "cell_type": "code",
   "execution_count": null,
   "metadata": {
    "collapsed": true
   },
   "outputs": [],
   "source": []
  },
  {
   "cell_type": "code",
   "execution_count": null,
   "metadata": {
    "collapsed": true
   },
   "outputs": [],
   "source": []
  },
  {
   "cell_type": "code",
   "execution_count": null,
   "metadata": {
    "collapsed": true
   },
   "outputs": [],
   "source": []
  },
  {
   "cell_type": "code",
   "execution_count": null,
   "metadata": {
    "collapsed": true
   },
   "outputs": [],
   "source": []
  },
  {
   "cell_type": "code",
   "execution_count": null,
   "metadata": {
    "collapsed": true
   },
   "outputs": [],
   "source": []
  },
  {
   "cell_type": "code",
   "execution_count": null,
   "metadata": {
    "collapsed": true
   },
   "outputs": [],
   "source": []
  },
  {
   "cell_type": "code",
   "execution_count": null,
   "metadata": {
    "collapsed": true
   },
   "outputs": [],
   "source": []
  },
  {
   "cell_type": "code",
   "execution_count": null,
   "metadata": {
    "collapsed": true
   },
   "outputs": [],
   "source": []
  },
  {
   "cell_type": "code",
   "execution_count": null,
   "metadata": {
    "collapsed": true
   },
   "outputs": [],
   "source": []
  },
  {
   "cell_type": "code",
   "execution_count": null,
   "metadata": {
    "collapsed": true
   },
   "outputs": [],
   "source": []
  },
  {
   "cell_type": "code",
   "execution_count": null,
   "metadata": {
    "collapsed": true
   },
   "outputs": [],
   "source": []
  },
  {
   "cell_type": "code",
   "execution_count": null,
   "metadata": {
    "collapsed": true
   },
   "outputs": [],
   "source": []
  },
  {
   "cell_type": "code",
   "execution_count": null,
   "metadata": {
    "collapsed": true
   },
   "outputs": [],
   "source": []
  },
  {
   "cell_type": "code",
   "execution_count": null,
   "metadata": {
    "collapsed": true
   },
   "outputs": [],
   "source": []
  },
  {
   "cell_type": "code",
   "execution_count": null,
   "metadata": {
    "collapsed": true
   },
   "outputs": [],
   "source": []
  },
  {
   "cell_type": "code",
   "execution_count": null,
   "metadata": {
    "collapsed": true
   },
   "outputs": [],
   "source": []
  },
  {
   "cell_type": "code",
   "execution_count": null,
   "metadata": {
    "collapsed": true
   },
   "outputs": [],
   "source": []
  },
  {
   "cell_type": "code",
   "execution_count": null,
   "metadata": {
    "collapsed": true
   },
   "outputs": [],
   "source": []
  },
  {
   "cell_type": "code",
   "execution_count": null,
   "metadata": {
    "collapsed": true
   },
   "outputs": [],
   "source": []
  },
  {
   "cell_type": "code",
   "execution_count": null,
   "metadata": {
    "collapsed": true
   },
   "outputs": [],
   "source": []
  },
  {
   "cell_type": "code",
   "execution_count": null,
   "metadata": {
    "collapsed": true
   },
   "outputs": [],
   "source": []
  },
  {
   "cell_type": "code",
   "execution_count": null,
   "metadata": {
    "collapsed": true
   },
   "outputs": [],
   "source": []
  },
  {
   "cell_type": "code",
   "execution_count": null,
   "metadata": {
    "collapsed": true
   },
   "outputs": [],
   "source": []
  },
  {
   "cell_type": "code",
   "execution_count": null,
   "metadata": {
    "collapsed": true
   },
   "outputs": [],
   "source": []
  },
  {
   "cell_type": "code",
   "execution_count": null,
   "metadata": {
    "collapsed": true
   },
   "outputs": [],
   "source": []
  },
  {
   "cell_type": "code",
   "execution_count": null,
   "metadata": {
    "collapsed": true
   },
   "outputs": [],
   "source": []
  },
  {
   "cell_type": "code",
   "execution_count": null,
   "metadata": {
    "collapsed": true
   },
   "outputs": [],
   "source": []
  },
  {
   "cell_type": "code",
   "execution_count": null,
   "metadata": {
    "collapsed": true
   },
   "outputs": [],
   "source": []
  },
  {
   "cell_type": "code",
   "execution_count": null,
   "metadata": {
    "collapsed": true
   },
   "outputs": [],
   "source": []
  },
  {
   "cell_type": "code",
   "execution_count": null,
   "metadata": {
    "collapsed": true
   },
   "outputs": [],
   "source": []
  },
  {
   "cell_type": "code",
   "execution_count": null,
   "metadata": {
    "collapsed": true
   },
   "outputs": [],
   "source": []
  }
 ],
 "metadata": {
  "kernelspec": {
   "display_name": "Python 2",
   "language": "python",
   "name": "python2"
  },
  "language_info": {
   "codemirror_mode": {
    "name": "ipython",
    "version": 2
   },
   "file_extension": ".py",
   "mimetype": "text/x-python",
   "name": "python",
   "nbconvert_exporter": "python",
   "pygments_lexer": "ipython2",
   "version": "2.7.11"
  }
 },
 "nbformat": 4,
 "nbformat_minor": 0
}
