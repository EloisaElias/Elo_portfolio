{
 "cells": [
  {
   "cell_type": "markdown",
   "metadata": {
    "collapsed": true
   },
   "source": [
    "\n",
    "## Web scraping\n",
    "---\n",
    "**Elo notes**"
   ]
  },
  {
   "cell_type": "markdown",
   "metadata": {
    "collapsed": true
   },
   "source": [
    "Web scraping (web harvesting or web data extraction) is data scraping used for extracting data from websites. \n",
    "\n",
    "Web scraping software may access the World Wide Web directly using the HTTP (Hypertext Transfer Protocol), or through a web browser. While web scraping can be done manually by a software user, the term typically refers to automated processes implemented using a bot or web crawler. It is a form of copying, in which specific data is gathered and copied from the web, typically into a central local database or spreadsheet, for later retrieval or analysis.\n",
    "\n",
    "### Client – Server model \n",
    "#### Request - Response\n",
    "\n",
    "The client–server model is a distributed application structure that partitions tasks or workloads between the providers of a resource or service, called servers, and service requesters, called clients.\n",
    "\n",
    "\n",
    "####  Types of Requests\n",
    "\n",
    "```\n",
    "GET/POST\n",
    "GET: www.kaggle.com\n",
    "POST: logging into Kaggle\n",
    "```"
   ]
  },
  {
   "cell_type": "markdown",
   "metadata": {},
   "source": [
    "#### HTTP: Stateless Protocol\n",
    "\n",
    "Websites do not remember who you are when you visit again, for this reason we have cookies which storage information as point of reference of your previous get/post requests.  \n",
    "\n",
    "#### HTML / CSS Selectors\n",
    "\n",
    "HyperText Markup Language (HTML) is the standard markup language for creating web pages and web applications. \n",
    "\n",
    "[Important markup tags](https://github.com/gendx/html-cheat-sheet)\n",
    "\n",
    "Cascading Style Sheet (CSS) is used for formatting web pages\n"
   ]
  },
  {
   "cell_type": "markdown",
   "metadata": {},
   "source": [
    "#### API\n",
    "\n",
    "Application programming interfacec(API) in computer programming, an application programming interface (API) is a set of subroutine definitions, protocols, and tools for building application software. In general terms, it's a set of clearly defined methods of communication between various software components. \n",
    "\n",
    "\n",
    "#### Libraries and frameworks\n",
    "\n",
    "An API is usually related to a software library: the API describes and prescribes the expected behavior (a specification) while the library is an actual implementation of this set of rules. The separation of the API from its implementation can allow programs written in one language to use a library written in another. \n",
    "\n",
    "For example, because Scala and Java compile to compatible bytecode, Scala developers can take advantage of any Java API.\n",
    "\n",
    "An API is typically defined as a set of Hypertext Transfer Protocol (HTTP) request messages, along with a definition of the structure of response messages, which is usually in an Extensible Markup Language (XML) or JavaScript Object Notation (JSON) format.\n"
   ]
  },
  {
   "cell_type": "markdown",
   "metadata": {},
   "source": [
    "### MongoDB \n",
    "\n",
    "[Tutorial](https://docs.mongodb.com/manual/tutorial/getting-started/)\n",
    "\n",
    "Instead of storing data in rows and columns as one would with a relational database, MongoDB uses a document data model, and stores a binary form of JSON documents called BSON. Horizontal scalable storage, stores data using a flexible document data model that is similar to JSON (python dictionary)\n",
    "\n",
    "__Key - Value__\n",
    "\n",
    "As a reference:\n",
    "\n",
    "SQL __Rows__ as rouhly equivalent to Mongodb __Documents__ (Also are called __Records__)\n",
    "\n",
    "SQL __Columns__ as equivalent to Mongodb __Fields__ \n",
    "\n",
    "SQL __Tables__ as Mongodb __Collections__ (Documenst are stored in __Collections__)\n",
    "\n",
    "__And collections are storage in a DataBase__\n",
    "\n",
    "#### CRUD\n",
    "\n",
    "| Operation | Database |\n",
    "| :--: | :--: |\n",
    "| Create | insert() |\n",
    "| Read | find() |\n",
    "| Update | update() |\n",
    "| Delete | remove() |\n",
    "\n",
    "\n",
    "\n",
    "\n",
    "#### Python - Driver client\n",
    "\n",
    "\n",
    "#### Beautiful Soup\n",
    "\n",
    "Beautiful Soup is a Python package for parsing HTML and XML documents (including having malformed markup, i.e. non-closed tags, so named after tag soup). It creates a parse tree for parsed pages that can be used to extract data from HTML, which is useful for web scraping.\n",
    "\n",
    "\n",
    "#### Regular Expression - Regex\n",
    "\n",
    "A regular expression, regex or regexp (sometimes called a rational expression) is, in theoretical computer science and formal language theory, a sequence of characters that define a search pattern. Usually this pattern is then used by string searching algorithms for \"find\" or \"find and replace\" operations on strings.\n",
    "\n",
    "\n",
    "\n",
    "#### Pipeline\n",
    "\n",
    "- Scrape/Call API\n",
    "- Store in MongoDB\n",
    "- Parse (Vectorization)\n",
    "- Store in CSV/SQL\n",
    "- Prediction\n",
    "\n"
   ]
  },
  {
   "cell_type": "code",
   "execution_count": 36,
   "metadata": {
    "collapsed": true
   },
   "outputs": [],
   "source": [
    "import requests \n",
    "\n",
    "from bs4 import BeautifulSoup, UnicodeDammit\n",
    "from pymongo import MongoClient"
   ]
  },
  {
   "cell_type": "code",
   "execution_count": 5,
   "metadata": {
    "collapsed": true
   },
   "outputs": [],
   "source": [
    "mongo_client = MongoClient()"
   ]
  },
  {
   "cell_type": "code",
   "execution_count": 8,
   "metadata": {
    "collapsed": false
   },
   "outputs": [
    {
     "data": {
      "text/plain": [
       "[u'clicks', u'local', u'nyt_db', u'nyt_dump', u'test_database', u'wiki']"
      ]
     },
     "execution_count": 8,
     "metadata": {},
     "output_type": "execute_result"
    }
   ],
   "source": [
    "mongo_client.database_names()"
   ]
  },
  {
   "cell_type": "code",
   "execution_count": 7,
   "metadata": {
    "collapsed": true
   },
   "outputs": [],
   "source": [
    "# mongo_client.drop_database('wikip')"
   ]
  },
  {
   "cell_type": "code",
   "execution_count": 9,
   "metadata": {
    "collapsed": true
   },
   "outputs": [],
   "source": [
    "# Instantiate the wikipedia db\n",
    "wikipdb = mongo_client['wikip']"
   ]
  },
  {
   "cell_type": "code",
   "execution_count": 10,
   "metadata": {
    "collapsed": true
   },
   "outputs": [],
   "source": [
    "# Collection : Table - Pages\n",
    "collectionp = wikipdb['pages']"
   ]
  },
  {
   "cell_type": "code",
   "execution_count": 16,
   "metadata": {
    "collapsed": false
   },
   "outputs": [],
   "source": [
    "def scraping_w(topics, collection):\n",
    "    for topic in topics:\n",
    "        try:\n",
    "            url = 'https://en.wikipedia.org/wiki/{}'.format(topic)\n",
    "            print 'Request: {}'.format(url)\n",
    "        except AttributeError as e:\n",
    "            return None\n",
    "\n",
    "        r = requests.get(url)\n",
    "        content = r.content\n",
    "        collection.insert_one({'topic': topic, 'content': content})"
   ]
  },
  {
   "cell_type": "code",
   "execution_count": 17,
   "metadata": {
    "collapsed": true
   },
   "outputs": [],
   "source": [
    "topics = ['Data_science', 'Data_analysis', 'Data', 'Big_Data', 'Deep_Learning']"
   ]
  },
  {
   "cell_type": "code",
   "execution_count": 18,
   "metadata": {
    "collapsed": false
   },
   "outputs": [
    {
     "name": "stdout",
     "output_type": "stream",
     "text": [
      "Request: https://en.wikipedia.org/wiki/Data_science\n",
      "Request: https://en.wikipedia.org/wiki/Data_analysis\n",
      "Request: https://en.wikipedia.org/wiki/Data\n",
      "Request: https://en.wikipedia.org/wiki/Big_Data\n",
      "Request: https://en.wikipedia.org/wiki/Deep_Learning\n"
     ]
    }
   ],
   "source": [
    "scraping_w(topics, collectionp)"
   ]
  },
  {
   "cell_type": "code",
   "execution_count": 19,
   "metadata": {
    "collapsed": true
   },
   "outputs": [],
   "source": [
    "articles = list(collectionp.find())"
   ]
  },
  {
   "cell_type": "code",
   "execution_count": 20,
   "metadata": {
    "collapsed": false
   },
   "outputs": [
    {
     "data": {
      "text/plain": [
       "5"
      ]
     },
     "execution_count": 20,
     "metadata": {},
     "output_type": "execute_result"
    }
   ],
   "source": [
    "len(articles)"
   ]
  },
  {
   "cell_type": "code",
   "execution_count": 21,
   "metadata": {
    "collapsed": false
   },
   "outputs": [
    {
     "data": {
      "text/plain": [
       "u'Big_Data'"
      ]
     },
     "execution_count": 21,
     "metadata": {},
     "output_type": "execute_result"
    }
   ],
   "source": [
    "articles[3]['topic']"
   ]
  },
  {
   "cell_type": "code",
   "execution_count": 23,
   "metadata": {
    "collapsed": false
   },
   "outputs": [],
   "source": [
    "soup = BeautifulSoup(articles[0]['content'], 'html.parser')"
   ]
  },
  {
   "cell_type": "code",
   "execution_count": 35,
   "metadata": {
    "collapsed": false
   },
   "outputs": [
    {
     "name": "stdout",
     "output_type": "stream",
     "text": [
      "/wiki/File:Minard%27s_Map_(vectorized).svg\n",
      "/wiki/File:Data_visualization_process_v1.png\n",
      "/wiki/File:Question_book-new.svg\n"
     ]
    }
   ],
   "source": [
    "for iname in soup.find_all('a', {'class':'image'}):\n",
    "    print iname['href']"
   ]
  },
  {
   "cell_type": "code",
   "execution_count": 32,
   "metadata": {
    "collapsed": false
   },
   "outputs": [
    {
     "data": {
      "text/plain": [
       "36"
      ]
     },
     "execution_count": 32,
     "metadata": {},
     "output_type": "execute_result"
    }
   ],
   "source": [
    "count = 0\n",
    "links = []\n",
    "\n",
    "for l in soup.find_all('a', {'class': 'external text'}):\n",
    "    links.append(l['href'])\n",
    "len(links)"
   ]
  },
  {
   "cell_type": "code",
   "execution_count": 33,
   "metadata": {
    "collapsed": false
   },
   "outputs": [
    {
     "data": {
      "text/plain": [
       "[u'//en.wikipedia.org/w/index.php?title=Template:Data_Visualization&action=edit',\n",
       " u'http://euads.org',\n",
       " u'http://www.gfkl.org/welcome/',\n",
       " u'//en.wikipedia.org/w/index.php?title=Data_science&action=edit',\n",
       " u'http://cacm.acm.org/magazines/2013/12/169933-data-science-and-prediction/fulltext',\n",
       " u'//doi.org/10.1145%2F2500499',\n",
       " u'http://simplystatistics.org/2013/12/12/the-key-word-in-data-science-is-not-data-it-is-science/',\n",
       " u'http://link.springer.com/chapter/10.1007/978-4-431-65950-1_3',\n",
       " u'http://www.springer.com/book/9784431702085',\n",
       " u'//doi.org/10.1007%2F978-4-431-65950-1_3',\n",
       " u'https://books.google.com/books?id=oGs_AQAAIAAJ',\n",
       " u'//www.worldcat.org/issn/0036-8075',\n",
       " u'//doi.org/10.1126%2Fscience.1170411',\n",
       " u'https://hbr.org/2012/10/data-scientist-the-sexiest-job-of-the-21st-century/',\n",
       " u'http://www.forbes.com/sites/gilpress/2013/08/19/data-science-whats-the-half-life-of-a-buzzword/',\n",
       " u'http://www.statisticsviews.com/details/feature/5133141/Nate-Silver-What-I-need-from-statisticians.html',\n",
       " u'http://magazine.amstat.org/blog/2016/06/01/datascience-2/',\n",
       " u'http://www.forbes.com/sites/gilpress/2013/05/28/a-very-short-history-of-data-science/',\n",
       " u'http://www2.isye.gatech.edu/~jeffwu/presentations/datascience.pdf',\n",
       " u'http://ur.umich.edu/9899/Nov09_98/4.htm',\n",
       " u'https://web.archive.org/web/20131029191813/http://www.isical.ac.in/~statmath/html/pcm/pcm_recent.html',\n",
       " u'http://www.isical.ac.in/~statmath/html/pcm/pcm_recent.html',\n",
       " u'http://www.nsf.gov/pubs/2005/nsb0540/',\n",
       " u'http://www.dsaa.co',\n",
       " u'http://datamining.it.uts.edu.au/conferences/dsaa14/',\n",
       " u'http://www.springer.com/41060',\n",
       " u'http://blog.import.io/post/data-scientists-vs-data-analysts-why-the-distinction-matters',\n",
       " u'http://www.mckinsey.com/insights/business_technology/big_data_the_next_frontier_for_innovation',\n",
       " u'http://www.informationweek.com/big-data/big-data-analytics/big-data-analytics-masters-degrees-20-top-programs/d/d-id/1108042?',\n",
       " u'http://venturebeat.com/2014/04/15/ny-gets-new-bootcamp-for-data-scientists-its-free-but-harder-to-get-into-than-harvard/',\n",
       " u'http://www.kdnuggets.com/2016/03/data-science-tools-proprietary-vendors-vs-open-source.html',\n",
       " u'http://www.techrepublic.com/blog/big-data-analytics/data-scientists-can-find-big-money-in-open-source/',\n",
       " u'https://www.ibm.com/developerworks/library/os-datascience/',\n",
       " u'http://insidebigdata.com/2015/03/16/open-source-software-fuels-a-revolution-in-data-science/',\n",
       " u'http://shop.oreilly.com/product/0636920018483.do',\n",
       " u'http://shop.oreilly.com/product/0636920030195.do']"
      ]
     },
     "execution_count": 33,
     "metadata": {},
     "output_type": "execute_result"
    }
   ],
   "source": [
    "links"
   ]
  },
  {
   "cell_type": "code",
   "execution_count": null,
   "metadata": {
    "collapsed": true
   },
   "outputs": [],
   "source": []
  },
  {
   "cell_type": "code",
   "execution_count": null,
   "metadata": {
    "collapsed": true
   },
   "outputs": [],
   "source": []
  },
  {
   "cell_type": "code",
   "execution_count": null,
   "metadata": {
    "collapsed": true
   },
   "outputs": [],
   "source": []
  },
  {
   "cell_type": "code",
   "execution_count": null,
   "metadata": {
    "collapsed": true
   },
   "outputs": [],
   "source": []
  },
  {
   "cell_type": "code",
   "execution_count": null,
   "metadata": {
    "collapsed": true
   },
   "outputs": [],
   "source": []
  },
  {
   "cell_type": "code",
   "execution_count": null,
   "metadata": {
    "collapsed": true
   },
   "outputs": [],
   "source": []
  },
  {
   "cell_type": "code",
   "execution_count": null,
   "metadata": {
    "collapsed": true
   },
   "outputs": [],
   "source": []
  },
  {
   "cell_type": "code",
   "execution_count": null,
   "metadata": {
    "collapsed": true
   },
   "outputs": [],
   "source": []
  },
  {
   "cell_type": "code",
   "execution_count": null,
   "metadata": {
    "collapsed": true
   },
   "outputs": [],
   "source": []
  },
  {
   "cell_type": "code",
   "execution_count": null,
   "metadata": {
    "collapsed": true
   },
   "outputs": [],
   "source": []
  }
 ],
 "metadata": {
  "kernelspec": {
   "display_name": "Python 2",
   "language": "python",
   "name": "python2"
  },
  "language_info": {
   "codemirror_mode": {
    "name": "ipython",
    "version": 2
   },
   "file_extension": ".py",
   "mimetype": "text/x-python",
   "name": "python",
   "nbconvert_exporter": "python",
   "pygments_lexer": "ipython2",
   "version": "2.7.11"
  }
 },
 "nbformat": 4,
 "nbformat_minor": 0
}
