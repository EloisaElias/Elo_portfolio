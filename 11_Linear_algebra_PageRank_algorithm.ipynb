{
 "cells": [
  {
   "cell_type": "markdown",
   "metadata": {},
   "source": [
    "## Linear Algebra - PageRank Algorithm"
   ]
  },
  {
   "cell_type": "code",
   "execution_count": 4,
   "metadata": {
    "collapsed": false
   },
   "outputs": [
    {
     "name": "stdout",
     "output_type": "stream",
     "text": [
      "Populating the interactive namespace from numpy and matplotlib\n"
     ]
    }
   ],
   "source": [
    "from __future__ import division\n",
    "from sklearn import datasets\n",
    "from numpy.linalg import solve\n",
    "\n",
    "import scipy.stats as stats\n",
    "import matplotlib.pyplot as plt\n",
    "import seaborn as sea\n",
    "\n",
    "import pandas as pd\n",
    "import numpy as np\n",
    "\n",
    "\n",
    "\n",
    "%pylab inline\n",
    "%matplotlib inline\n"
   ]
  },
  {
   "cell_type": "markdown",
   "metadata": {},
   "source": [
    "---\n",
    "In an numpy array, a **row vector** is defined as:\n",
    "\n",
    "```python\n",
    "a = np.array([[1, 2, 3]])\n",
    "```\n",
    "The shape of `a` is `(1, 3)`.\n",
    "\n",
    "A **column vector** is defined as:\n",
    "```python\n",
    "b = np.array([[1], [2], [3]])\n",
    "```\n",
    "The shape of `b` is `(3, 1)`.\n",
    "\n",
    "Check the `shape` of all the vectors. If the shape is missing a value, i.e. `(3,)` or  `(,3)`.\n",
    "\n",
    "---\n",
    "\n",
    "Markov Chain\n",
    "---\n",
    "\n",
    "\n",
    "**Stochastic matrix**\n",
    "\n",
    "In mathematics, a stochastic matrix (also termed probability matrix, transition matrix,[1] substitution matrix, or Markov matrix) is a matrix used to describe the transitions of a Markov chain. Each of its entries is a nonnegative real number representing a probability. It has found use in probability theory, statistics, mathematical finance and linear algebra, as well as computer science and population genetics. There are several different definitions and types of stochastic matrices:\n",
    "\n",
    "- A right stochastic matrix is a real square matrix, with each row summing to 1.\n",
    "\n",
    "- A left stochastic matrix is a real square matrix, with each column summing to 1.\n",
    "\n",
    "- A doubly stochastic matrix is a square matrix of nonnegative real numbers with each row and column summing to 1.\n",
    "\n",
    "In the same vein, one may define stochastic vector (also called probability vector) as a vector whose elements are nonnegative real numbers which sum to 1. Thus, each row of a right stochastic matrix (or column of a left stochastic matrix) is a stochastic vector.\n",
    "\n",
    "A common convention in English language mathematics literature is to use row vectors of probabilities and right stochastic matrices rather than column vectors of probabilities and left stochastic matrices; this article follows that convention.\n",
    "\n",
    "A stochastic matrix describes a Markov chain $ \\boldsymbol{X}_{t}$ over a finite state space S.\n",
    "\n",
    "If the probability of moving from $i$ to $j$ in one time step is $Pr(j|i)=P_{i,j}$, the stochastic matrix $P$ is given by using $P_{i,j}$ as the $i^{th}$ row and $j^{th}$ column element, e.g.,\n",
    "\n",
    "  $P=\\left({\\begin{matrix}P_{1,1}&P_{1,2}&\\dots &P_{1,j}&\\dots \\\\P_{2,1}&P_{2,2}&\\dots &P_{2,j}&\\dots \\\\\\vdots &\\vdots &\\ddots &\\vdots &\\ddots \\\\P_{i,1}&P_{i,2}&\\dots &P_{i,j}&\\dots \\\\\\vdots &\\vdots &\\ddots &\\vdots &\\ddots \\end{matrix}}\\right). $\n",
    "\n",
    "\n",
    "Since the total of transition probability from a state $i$ to all other states must be 1, this matrix is a right stochastic matrix, so that\n",
    "\n",
    "$\\sum_j P_{i,j}=1$\n",
    "\n",
    "The product of two right stochastic matrices is also right stochastic. In particular, the $k-th$ power $P^{k}$ of a right stochastic matrix $P$ is also right stochastic. The probability of transitioning from $i$ to $j$ in two steps is then given by the $(i,j)^{th}$ element of the square of $P$:\n",
    "\n",
    "$\\left(P ^{2}\\right)_{i,j}$\n",
    "\n",
    "In general the probability transition of going from any state to another state in a finite Markov chain given by the matrix $P$ in $k$ steps is given by $P^k$.\n",
    "\n",
    "An initial distribution is given as a **row vector**.\n",
    "\n",
    "A stationary probability vector ${\\pi }$ is defined as a distribution, written as a row vector, that does not change under application of the transition matrix; that is, it is defined as a probability distribution on the set $\\{1,...,n\\}$ which is also a row eigenvector of the probability matrix, associated with eigenvalue 1:\n",
    "\n",
    "$\\boldsymbol{\\pi}P=\\boldsymbol{\\pi}$\n",
    "\n",
    "The right spectral radius of every right stochastic matrix is clearly at most 1. Additionally, every right stochastic matrix has an obvious column eigenvector associated to the eigenvalue 1: The vector ${\\boldsymbol {1}}$, whose coordinates are all equal to 1. As left and right eigenvalues of a square matrix are the same, every stochastic matrix has, at least, a row eigenvector associated to the eigenvalue 1 and the largest absolute value of all its eigenvalues is also 1. Finally, the Brouwer Fixed Point Theorem (applied to the compact convex set of all probability distributions of the finite set $\\{1,...,n\\}$ implies that there is some left eigenvector which is also a stationary probability vector.\n",
    "\n",
    "**Markov chain**\n",
    "\n",
    "Markov chains have many applications as statistical models of real-world processes.\n",
    "\n",
    "The changes of state of the system are called transitions. The probabilities associated with various state changes are called transition probabilities. The process is characterized by a state space, a transition matrix describing the probabilities of particular transitions, and an initial state (or initial distribution) across the state space. By convention, we assume all possible states and transitions have been included in the definition of the process, so there is always a next state, and the process does not terminate.\n",
    "\n",
    "\n",
    "\n"
   ]
  },
  {
   "cell_type": "markdown",
   "metadata": {},
   "source": [
    "---\n",
    "Case: Car ansurance\n",
    "\n",
    "Evaluating: Customer probability for liability\n",
    "\n",
    "**Initial population distribution (Initial state vector): probabilities add up to 1**\n",
    "\n",
    "From:\n",
    "\n",
    "High Risk = 0.10\n",
    "\n",
    "Low Risk = 0.90\n",
    "\n",
    "\n",
    "**Transition matrix: probabilities add up to 1**\n",
    "\n",
    "To:\n",
    "\n",
    "High Risk = 0.60\n",
    "\n",
    "High Risk = 0.15\n",
    "\n",
    "Low Risk = 0.40\n",
    "\n",
    "Low Risk = 0.85\n",
    "\n",
    "\n"
   ]
  },
  {
   "cell_type": "code",
   "execution_count": 5,
   "metadata": {
    "collapsed": false
   },
   "outputs": [
    {
     "data": {
      "text/plain": [
       "matrix([[ 0.1,  0.9]])"
      ]
     },
     "execution_count": 5,
     "metadata": {},
     "output_type": "execute_result"
    }
   ],
   "source": [
    "# Initial state vector\n",
    "inistate = np.matrix([[0.10, 0.90]])\n",
    "inistate"
   ]
  },
  {
   "cell_type": "code",
   "execution_count": 6,
   "metadata": {
    "collapsed": false
   },
   "outputs": [
    {
     "data": {
      "text/plain": [
       "matrix([[ 0.6 ,  0.4 ],\n",
       "        [ 0.15,  0.85]])"
      ]
     },
     "execution_count": 6,
     "metadata": {},
     "output_type": "execute_result"
    }
   ],
   "source": [
    "# Transition matrix\n",
    "P = np.matrix([[0.60, 0.40], [0.15, 0.85]])\n",
    "P"
   ]
  },
  {
   "cell_type": "code",
   "execution_count": 7,
   "metadata": {
    "collapsed": false
   },
   "outputs": [
    {
     "data": {
      "text/plain": [
       "matrix([[ 0.195,  0.805]])"
      ]
     },
     "execution_count": 7,
     "metadata": {},
     "output_type": "execute_result"
    }
   ],
   "source": [
    "# Obtaining one step probability : Customer liability one year from now\n",
    "\n",
    "risk = inistate.dot(P)\n",
    "risk"
   ]
  },
  {
   "cell_type": "code",
   "execution_count": 8,
   "metadata": {
    "collapsed": false
   },
   "outputs": [
    {
     "data": {
      "text/plain": [
       "matrix([[ 0.23775,  0.76225]])"
      ]
     },
     "execution_count": 8,
     "metadata": {},
     "output_type": "execute_result"
    }
   ],
   "source": [
    "# Obtaining two step probability : Customer liability two year from now\n",
    "\n",
    "risk_2 = risk.dot(P)\n",
    "risk_2"
   ]
  },
  {
   "cell_type": "markdown",
   "metadata": {},
   "source": [
    "**Obtaining N step probability : Customer liability N year from now**\n",
    "\n",
    "Initial state vector * transition matrix^N = N year from now vector\n",
    "\n",
    "\n",
    "\n"
   ]
  },
  {
   "cell_type": "code",
   "execution_count": 9,
   "metadata": {
    "collapsed": false
   },
   "outputs": [
    {
     "data": {
      "text/plain": [
       "matrix([[ 0.27272727,  0.72727273]])"
      ]
     },
     "execution_count": 9,
     "metadata": {},
     "output_type": "execute_result"
    }
   ],
   "source": [
    "# Obtaining 25 step probability : Customer liability 25 year from now\n",
    "\n",
    "risk_25 = inistate.dot(P**25)\n",
    "risk_25\n"
   ]
  },
  {
   "cell_type": "markdown",
   "metadata": {},
   "source": [
    "**Conditional probability**\n",
    "\n",
    "Case: Customer enter the system as High Risk.\n",
    "\n",
    "What is the probability of High and Low risk in two years?\n",
    "                        \n",
    "Initial state vector = [ high: 1 , low: 0 ]\n"
   ]
  },
  {
   "cell_type": "code",
   "execution_count": 10,
   "metadata": {
    "collapsed": false
   },
   "outputs": [],
   "source": [
    "Hrisk = np.matrix([[1, 0]])"
   ]
  },
  {
   "cell_type": "code",
   "execution_count": 11,
   "metadata": {
    "collapsed": false
   },
   "outputs": [
    {
     "data": {
      "text/plain": [
       "matrix([[ 0.42,  0.58]])"
      ]
     },
     "execution_count": 11,
     "metadata": {},
     "output_type": "execute_result"
    }
   ],
   "source": [
    "cust_prob_2 = Hrisk.dot(P**2)\n",
    "cust_prob_2"
   ]
  },
  {
   "cell_type": "markdown",
   "metadata": {},
   "source": [
    "**Markov chain**\n",
    "\n",
    "**VP = V**\n",
    "\n",
    "Obtain the Initial state vector for a long term stability\n",
    "\n",
    "Having \n",
    "\n",
    "V = np.matrix([[X, y]])\n",
    "\n",
    "P = transition matrix\n",
    "\n",
    "VP = P\n",
    "\n",
    "VP - V = 0\n",
    "\n",
    "V(P - 1) = 0\n",
    "\n",
    "**Where, I : identity matrix = 1 **\n",
    "\n",
    "V*I = V\n",
    "\n",
    "**Then:**\n",
    "\n",
    "X + y = 1\n",
    "\n",
    "V(P - I) = 0\n",
    "\n",
    "**Solving Ax = b**\n",
    "\n",
    "\n",
    "$\\begin{pmatrix} a_{11} & \\cdots & a_{1p} \\\\\n",
    " a_{21} & \\cdots & a_{2p} \\\\\n",
    " \\vdots & \\ddots & \\vdots \\\\\n",
    " a_{n1} & \\cdots & a_{np}\n",
    " \\end{pmatrix}. \\begin{pmatrix} x_1 \\\\ x_2 \\\\ \\vdots \\\\ x_n \\end{pmatrix}\\quad =  \\begin{pmatrix} b_1 \\\\ b_2 \\\\ \\vdots \\\\ b_n \\end{pmatrix} \\quad$\n",
    "\n",
    "\n",
    "x = Ainvert*b.T \n",
    "\n",
    "---\n",
    "\n",
    "The simplest set of linear equations to solve occur when you have both n equations and n unknowns. In this case the matrix will be square and can often be inverted. Consider this simple example: \n",
    "\n",
    "  \n",
    "x + y = 1 ...from probability \n",
    "\n",
    ".4x -.15y = 0  ...from V(P - I) = 0\n",
    "\n",
    "A: [[1, 1], [0.4, -0.15]]\n",
    "\n",
    "b: [[1,0]]\n",
    "\n",
    "Ainv : A.I\n",
    "\n",
    "b : b.T\n",
    "\n",
    "Obtaining V vector: \n",
    "\n",
    "V = Ainv*b\n",
    "\n",
    "Check: A*ans\n"
   ]
  },
  {
   "cell_type": "code",
   "execution_count": 19,
   "metadata": {
    "collapsed": true
   },
   "outputs": [],
   "source": [
    "A = np.matrix([[1, 1], [0.4, -0.15]])\n",
    "b = np.matrix([[1,0]])"
   ]
  },
  {
   "cell_type": "code",
   "execution_count": 23,
   "metadata": {
    "collapsed": false
   },
   "outputs": [
    {
     "data": {
      "text/plain": [
       "matrix([[ 0.27272727,  1.81818182],\n",
       "        [ 0.72727273, -1.81818182]])"
      ]
     },
     "execution_count": 23,
     "metadata": {},
     "output_type": "execute_result"
    }
   ],
   "source": [
    "Ainv = A.I\n",
    "Ainv"
   ]
  },
  {
   "cell_type": "code",
   "execution_count": 25,
   "metadata": {
    "collapsed": false
   },
   "outputs": [],
   "source": [
    "b = b.T"
   ]
  },
  {
   "cell_type": "code",
   "execution_count": 26,
   "metadata": {
    "collapsed": false
   },
   "outputs": [
    {
     "data": {
      "text/plain": [
       "matrix([[1],\n",
       "        [0]])"
      ]
     },
     "execution_count": 26,
     "metadata": {},
     "output_type": "execute_result"
    }
   ],
   "source": [
    "b"
   ]
  },
  {
   "cell_type": "code",
   "execution_count": 27,
   "metadata": {
    "collapsed": false
   },
   "outputs": [
    {
     "data": {
      "text/plain": [
       "matrix([[ 0.27272727],\n",
       "        [ 0.72727273]])"
      ]
     },
     "execution_count": 27,
     "metadata": {},
     "output_type": "execute_result"
    }
   ],
   "source": [
    "v = Ainv*b\n",
    "v"
   ]
  },
  {
   "cell_type": "code",
   "execution_count": 28,
   "metadata": {
    "collapsed": false
   },
   "outputs": [
    {
     "data": {
      "text/plain": [
       "matrix([[ 1.],\n",
       "        [ 0.]])"
      ]
     },
     "execution_count": 28,
     "metadata": {},
     "output_type": "execute_result"
    }
   ],
   "source": [
    "A*v # : b"
   ]
  },
  {
   "cell_type": "code",
   "execution_count": 31,
   "metadata": {
    "collapsed": false
   },
   "outputs": [
    {
     "data": {
      "text/plain": [
       "matrix([[ 1.,  0.],\n",
       "        [ 0.,  1.]])"
      ]
     },
     "execution_count": 31,
     "metadata": {},
     "output_type": "execute_result"
    }
   ],
   "source": [
    "I = A.dot(Ainv)\n",
    "I"
   ]
  },
  {
   "cell_type": "markdown",
   "metadata": {},
   "source": [
    "---\n",
    "**Ax = b : numpy.linalg **\n",
    "\n",
    "from numpy.linalg import solve\n"
   ]
  },
  {
   "cell_type": "code",
   "execution_count": 36,
   "metadata": {
    "collapsed": false
   },
   "outputs": [
    {
     "data": {
      "text/plain": [
       "matrix([[ 0.27272727],\n",
       "        [ 0.72727273]])"
      ]
     },
     "execution_count": 36,
     "metadata": {},
     "output_type": "execute_result"
    }
   ],
   "source": [
    "x = solve(A, b)\n",
    "x"
   ]
  },
  {
   "cell_type": "markdown",
   "metadata": {},
   "source": [
    "---\n",
    "Iris data-set\n",
    "---"
   ]
  },
  {
   "cell_type": "code",
   "execution_count": 18,
   "metadata": {
    "collapsed": true
   },
   "outputs": [],
   "source": [
    "df = datasets.load_iris()"
   ]
  },
  {
   "cell_type": "code",
   "execution_count": 19,
   "metadata": {
    "collapsed": false
   },
   "outputs": [
    {
     "data": {
      "text/plain": [
       "['sepal length (cm)',\n",
       " 'sepal width (cm)',\n",
       " 'petal length (cm)',\n",
       " 'petal width (cm)']"
      ]
     },
     "execution_count": 19,
     "metadata": {},
     "output_type": "execute_result"
    }
   ],
   "source": [
    "df.feature_names"
   ]
  },
  {
   "cell_type": "code",
   "execution_count": 20,
   "metadata": {
    "collapsed": true
   },
   "outputs": [],
   "source": [
    "sl_sw = datasets.load_iris().data[:, :2]"
   ]
  },
  {
   "cell_type": "code",
   "execution_count": 21,
   "metadata": {
    "collapsed": false
   },
   "outputs": [
    {
     "data": {
      "text/plain": [
       "(150, 2)"
      ]
     },
     "execution_count": 21,
     "metadata": {},
     "output_type": "execute_result"
    }
   ],
   "source": [
    "sl_sw.shape"
   ]
  },
  {
   "cell_type": "code",
   "execution_count": 22,
   "metadata": {
    "collapsed": false
   },
   "outputs": [
    {
     "data": {
      "text/plain": [
       "array([ 5.84333333,  3.054     ])"
      ]
     },
     "execution_count": 22,
     "metadata": {},
     "output_type": "execute_result"
    }
   ],
   "source": [
    "sl_sw.mean(axis=0)"
   ]
  },
  {
   "cell_type": "code",
   "execution_count": 23,
   "metadata": {
    "collapsed": false
   },
   "outputs": [
    {
     "data": {
      "text/plain": [
       "(2,)"
      ]
     },
     "execution_count": 23,
     "metadata": {},
     "output_type": "execute_result"
    }
   ],
   "source": [
    "sl_sw.mean(axis=0).shape"
   ]
  },
  {
   "cell_type": "markdown",
   "metadata": {},
   "source": [
    "a np.matrix can be reshaped into a vector using reshape function with parameter -1\n",
    "\n",
    "(-1, number_of_columns) --> vector"
   ]
  },
  {
   "cell_type": "code",
   "execution_count": 24,
   "metadata": {
    "collapsed": false
   },
   "outputs": [
    {
     "data": {
      "text/plain": [
       "array([[ 5.84333333],\n",
       "       [ 3.054     ]])"
      ]
     },
     "execution_count": 24,
     "metadata": {},
     "output_type": "execute_result"
    }
   ],
   "source": [
    "sl_sw.mean(axis=0).reshape(-1,1) "
   ]
  },
  {
   "cell_type": "code",
   "execution_count": 25,
   "metadata": {
    "collapsed": false
   },
   "outputs": [
    {
     "data": {
      "text/plain": [
       "array([[ 5.84333333],\n",
       "       [ 3.054     ]])"
      ]
     },
     "execution_count": 25,
     "metadata": {},
     "output_type": "execute_result"
    }
   ],
   "source": [
    "# center_mass :  mean vector\n",
    "v = sl_sw.mean(axis=0).reshape(-1,1)\n",
    "v"
   ]
  },
  {
   "cell_type": "code",
   "execution_count": 26,
   "metadata": {
    "collapsed": false
   },
   "outputs": [
    {
     "data": {
      "text/plain": [
       "(2, 1)"
      ]
     },
     "execution_count": 26,
     "metadata": {},
     "output_type": "execute_result"
    }
   ],
   "source": [
    "v.shape"
   ]
  },
  {
   "cell_type": "code",
   "execution_count": 27,
   "metadata": {
    "collapsed": false
   },
   "outputs": [
    {
     "data": {
      "text/plain": [
       "array([[ 5.84333333,  3.054     ]])"
      ]
     },
     "execution_count": 27,
     "metadata": {},
     "output_type": "execute_result"
    }
   ],
   "source": [
    "v.reshape((-1,2))"
   ]
  },
  {
   "cell_type": "code",
   "execution_count": 28,
   "metadata": {
    "collapsed": false
   },
   "outputs": [
    {
     "data": {
      "text/plain": [
       "array([ 5.84333333])"
      ]
     },
     "execution_count": 28,
     "metadata": {},
     "output_type": "execute_result"
    }
   ],
   "source": [
    "v[0]"
   ]
  },
  {
   "cell_type": "code",
   "execution_count": 29,
   "metadata": {
    "collapsed": false
   },
   "outputs": [
    {
     "data": {
      "text/plain": [
       "array([ 3.054])"
      ]
     },
     "execution_count": 29,
     "metadata": {},
     "output_type": "execute_result"
    }
   ],
   "source": [
    "v[1]"
   ]
  },
  {
   "cell_type": "code",
   "execution_count": 30,
   "metadata": {
    "collapsed": false
   },
   "outputs": [
    {
     "data": {
      "image/png": "[encoded data removed]",
      "text/plain": [
       "<matplotlib.figure.Figure at 0x10724d210>"
      ]
     },
     "metadata": {},
     "output_type": "display_data"
    }
   ],
   "source": [
    "plt.scatter(sl_sw[:,1], sl_sw[:,0], alpha=0.3)\n",
    "plt.scatter(v[1],v[0], c='r', marker='x', s=200, linewidth=1) #center_mass\n",
    "plt.ylabel('sepal_length')\n",
    "plt.xlabel('sepal_width');"
   ]
  },
  {
   "cell_type": "code",
   "execution_count": 100,
   "metadata": {
    "collapsed": true
   },
   "outputs": [],
   "source": [
    "\n",
    "v1 = np.array([1,1]).reshape(2,1)\n",
    "v2 = np.array([2,2]).reshape(2,1)\n",
    "v3 = np.array([2,2]).reshape(1,2)\n",
    "u=np.array([[1], [2], [3]])\n",
    "w=np.array([[3], [5], [7]])"
   ]
  },
  {
   "cell_type": "markdown",
   "metadata": {},
   "source": [
    "**euclidean_distance**\n",
    "\n",
    "np.linalg.norm(a- b)\n",
    "\n",
    "$  d(a, b) = \\sqrt{(b_1-a_1)^2 + (b_2-a_2)^2 + \\cdots + (b_n-a_n)^2} = \\sqrt{\\sum_{i=1}^n (q_i-p_i)^2} $"
   ]
  },
  {
   "cell_type": "code",
   "execution_count": 103,
   "metadata": {
    "collapsed": false
   },
   "outputs": [
    {
     "data": {
      "text/plain": [
       "5.3851648071345037"
      ]
     },
     "execution_count": 103,
     "metadata": {},
     "output_type": "execute_result"
    }
   ],
   "source": [
    "def euclidean_dist(v1, v2):\n",
    "    if v1.shape == v2.shape and v1.shape[1] == 1:\n",
    "        return np.linalg.norm(v1 - v2)\n",
    "    else:\n",
    "        print 'v1 shape:{} is not equal v2 shape:{}'.format(v1.shape, v2.shape)\n",
    "\n",
    "euclidean_dist(u, w)"
   ]
  },
  {
   "cell_type": "code",
   "execution_count": 104,
   "metadata": {
    "collapsed": false
   },
   "outputs": [
    {
     "data": {
      "text/plain": [
       "5.3851648071345037"
      ]
     },
     "execution_count": 104,
     "metadata": {},
     "output_type": "execute_result"
    }
   ],
   "source": [
    "np.linalg.norm(u - w)"
   ]
  },
  {
   "cell_type": "markdown",
   "metadata": {},
   "source": [
    "**Cosine similarity** is a measure of similarity between two vectors of an inner product space that measures the cosine of the angle between them\n",
    "\n",
    "$\\text{similarity} = \\cos(\\theta) = {\\mathbf{A} \\cdot \\mathbf{B} \\over \\|\\mathbf{A}\\| \\|\\mathbf{B}\\|} = \\frac{ \\sum\\limits_{i=1}^{n}{A_i  B_i} }{ \\sqrt{\\sum\\limits_{i=1}^{n}{A_i^2}}  \\sqrt{\\sum\\limits_{i=1}^{n}{B_i^2}} }$\n",
    "\n",
    "\n",
    "correlation coefficient -->  similarity -- >   cos(θ ) = x⋅y / || x || || y || \n",
    "\n",
    "-->  np.dot(x,y) / (np.linalg.norm(x)*np.linalg.norm(y))\n"
   ]
  },
  {
   "cell_type": "code",
   "execution_count": 131,
   "metadata": {
    "collapsed": false
   },
   "outputs": [
    {
     "data": {
      "text/plain": [
       "array([[ 0.9974149]])"
      ]
     },
     "execution_count": 131,
     "metadata": {},
     "output_type": "execute_result"
    }
   ],
   "source": [
    "def cosine_simi(v1, v2):\n",
    "    if (v1.shape != v2.shape and v1[1] != 1):\n",
    "        raise ValueError('Invalid shape')\n",
    "    return np.array(np.dot(v1.T, v2) / (np.linalg.norm(v1) * np.linalg.norm(v2)))\n",
    "\n",
    "cosine_simi(u, w)"
   ]
  },
  {
   "cell_type": "code",
   "execution_count": 117,
   "metadata": {
    "collapsed": false
   },
   "outputs": [
    {
     "data": {
      "text/plain": [
       "0.99741490304305769"
      ]
     },
     "execution_count": 117,
     "metadata": {},
     "output_type": "execute_result"
    }
   ],
   "source": [
    "c_s = ((np.sum(u*w))/(np.sqrt(np.sum(u**2.))*np.sqrt(np.sum(w**2.))))\n",
    "c_s"
   ]
  },
  {
   "cell_type": "code",
   "execution_count": null,
   "metadata": {
    "collapsed": true
   },
   "outputs": [],
   "source": [
    "# def center_mass(array):\n",
    "#     return array.mean(axis=0).reshape(-1,1)"
   ]
  },
  {
   "cell_type": "markdown",
   "metadata": {},
   "source": [
    "distance_metric(array, func):\n",
    "    returns the distance metric between each of the data point and the mean vector \"Center mass\"\n",
    "    \n",
    "In mathematics, a metric or distance function is a function that defines a distance between each pair of elements of a set. A set with a metric is called a metric space\n",
    "\n",
    "$d(x,y) \\ge 0 $  \tnon-negativity or separation axiom\n",
    "\n",
    "$d(x,y) = 0 \\Leftrightarrow x = y$ identity of indiscernibles\n",
    "\n",
    "$d(x,y)  = d(y,x)$  \tsymmetry\n",
    "\n",
    "$d(x,z) \\le d(x,y) + d(y, z)$  \tsubadditivity or triangle inequality"
   ]
  },
  {
   "cell_type": "code",
   "execution_count": 55,
   "metadata": {
    "collapsed": true
   },
   "outputs": [],
   "source": [
    "def distance_metric(array, func):\n",
    "    center_mass = array.mean(axis=0).reshape(-1,1)# mean vector\n",
    "    return np.array([func(v.reshape(-1,1), center_mass) for v in array]).reshape(-1,1)\n",
    "    \n",
    "    "
   ]
  },
  {
   "cell_type": "code",
   "execution_count": 56,
   "metadata": {
    "collapsed": false
   },
   "outputs": [
    {
     "data": {
      "text/plain": [
       "array([[ 0.86686818],\n",
       "       [ 0.94487765],\n",
       "       [ 1.1526175 ],\n",
       "       [ 1.24418398]])"
      ]
     },
     "execution_count": 56,
     "metadata": {},
     "output_type": "execute_result"
    }
   ],
   "source": [
    "euclidean_distance = distance_metric(sl_sw, euclidean_dist) # distances\n",
    "euclidean_distance[:4]"
   ]
  },
  {
   "cell_type": "code",
   "execution_count": 135,
   "metadata": {
    "collapsed": false
   },
   "outputs": [],
   "source": [
    "cosine_similarity = distance_metric(sl_sw, cosine_simi) # similarities\n",
    "#cosine_similarity"
   ]
  },
  {
   "cell_type": "code",
   "execution_count": 119,
   "metadata": {
    "collapsed": false
   },
   "outputs": [
    {
     "data": {
      "image/png": "[encoded data removed]",
      "text/plain": [
       "<matplotlib.figure.Figure at 0x10a4ebc50>"
      ]
     },
     "metadata": {},
     "output_type": "display_data"
    }
   ],
   "source": [
    "plt.hist(euclidean_distance)\n",
    "plt.title('Distances')\n",
    "plt.xlabel('euclidean_distance')\n",
    "plt.ylabel('PDF');"
   ]
  },
  {
   "cell_type": "code",
   "execution_count": 120,
   "metadata": {
    "collapsed": false
   },
   "outputs": [
    {
     "data": {
      "image/png": "[encoded data removed]",
      "text/plain": [
       "<matplotlib.figure.Figure at 0x10b227d90>"
      ]
     },
     "metadata": {},
     "output_type": "display_data"
    }
   ],
   "source": [
    "plt.hist(cosine_similarity, bins= 20)\n",
    "plt.title('Similarities')\n",
    "plt.xlabel('cosine_similarity')\n",
    "plt.ylabel('PDF');\n",
    "plt.show()"
   ]
  },
  {
   "cell_type": "markdown",
   "metadata": {
    "collapsed": true
   },
   "source": [
    "### Implementing the PageRank Algorithm"
   ]
  },
  {
   "cell_type": "markdown",
   "metadata": {},
   "source": [
    "The [Page Rank Algorithm](http://en.wikipedia.org/wiki/PageRank) is used by Google\n",
    "Search (in their beginnings) to rank websites in their search engine in terms \n",
    "of the importance of webpages. \n",
    "[More about PageRank](http://books.google.com/books/p/princeton?id=5o_K4rri1CsC&printsec=frontcover&source=gbs_ViewAPI&hl=en#v=onepage&q&f=false)\n",
    "\n",
    "I will implement PageRank on this simple network of websites."
   ]
  },
  {
   "cell_type": "markdown",
   "metadata": {},
   "source": [
    "These web pages correspond to the states our Markov chain can be in\n",
    "   - Assume that the model of our chain is that of a random surfer/walker.\n",
    "   \n",
    "---\n",
    "We randomly pick an outgoing edge from our current state. Before we can do any sort of calculation we need to know how we will move on this Markov Chain."
   ]
  },
  {
   "cell_type": "markdown",
   "metadata": {},
   "source": [
    "We are presented with 5 nodes \"Pages\": A, B, C, D, E\n",
    "\n",
    "Where:\n",
    "\n",
    "1 = Input\n",
    "\n",
    "0 = Output"
   ]
  },
  {
   "cell_type": "code",
   "execution_count": 5,
   "metadata": {
    "collapsed": true
   },
   "outputs": [],
   "source": [
    "nodes = ['A', 'B', 'C', 'D', 'E']\n",
    "\n",
    "zd = 0 # zero_diagonal for every node, each row is a node\n",
    "\n",
    "markov_transition = np.matrix([\n",
    "        [zd, 1, 1, 1, 0],\n",
    "        [1, zd, 1, 0, 1],\n",
    "        [0, 1, zd, 0, 1],\n",
    "        [0, 0, 0, zd, 1],\n",
    "        [0, 0, 1, 0, zd]\n",
    "        \n",
    "    ])\n",
    "\n",
    "\n",
    "\n"
   ]
  },
  {
   "cell_type": "markdown",
   "metadata": {},
   "source": [
    "**Stationary distribution relation to eigenvectors and simplices**\n",
    "\n",
    "A stationary distribution π is a (row) vector, whose entries are non-negative and sum to 1, is unchanged by the operation of transition matrix P on it and so is defined by\n",
    "\n",
    "$ \\pi\\mathbf{P} =  \\pi.\\ $\n",
    "\n",
    "By comparing this definition with that of an eigenvector we see that the two concepts are related and that\n",
    "\n",
    "$ \\pi=\\frac{e}{\\sum_i{e_i}} $\n",
    "\n",
    "where:\n",
    "\n",
    "is a normalized  ($ \\textstyle \\sum_i \\pi_i=1 $) multiple of a left eigenvector **e** of the transition matrix P<sup>T</sup> with an eigenvalue of 1.\n",
    "\n",
    "---\n",
    "\n",
    "If there is more than one unit eigenvector then a weighted sum of the corresponding stationary states is also a stationary state. But for a Markov chain one is usually more interested in a stationary state that is the limit of the sequence distributions for some initial distribution.\n",
    "\n",
    "\n",
    "\n",
    "The values of stationary distribution \\textstyle \\pi_i are associated with the state space of P and its eigenvectors have their relative proportions preserved. Since the components of π are positive and the constraint that their sum is unity can be rewritten as\n",
    "\n",
    "$ \\textstyle \\sum_i 1 \\cdot \\pi_i=1 $\n",
    "\n",
    "we see that the dot product of π with a vector whose components are all 1 is unity and that π lies on a simplex(https://en.wikipedia.org/wiki/Simplex#The_standard_simplex).\n"
   ]
  },
  {
   "cell_type": "code",
   "execution_count": 7,
   "metadata": {
    "collapsed": false
   },
   "outputs": [
    {
     "data": {
      "text/plain": [
       "matrix([[ 0.        ,  0.5       ,  0.33333333,  1.        ,  0.        ],\n",
       "        [ 1.        ,  0.        ,  0.33333333,  0.        ,  0.33333333],\n",
       "        [ 0.        ,  0.5       ,  0.        ,  0.        ,  0.33333333],\n",
       "        [ 0.        ,  0.        ,  0.        ,  0.        ,  0.33333333],\n",
       "        [ 0.        ,  0.        ,  0.33333333,  0.        ,  0.        ]])"
      ]
     },
     "execution_count": 7,
     "metadata": {},
     "output_type": "execute_result"
    }
   ],
   "source": [
    "# Initial state, equal probability to be at each page, axis=0 --> across column\n",
    "state = markov_transition / markov_transition.sum(axis=0).astype(float)\n",
    "state"
   ]
  },
  {
   "cell_type": "code",
   "execution_count": 13,
   "metadata": {
    "collapsed": false
   },
   "outputs": [
    {
     "data": {
      "text/plain": [
       "array([ 0.2,  0.2,  0.2,  0.2,  0.2])"
      ]
     },
     "execution_count": 13,
     "metadata": {},
     "output_type": "execute_result"
    }
   ],
   "source": [
    "# user = surfer, equal probabilities\n",
    "user = (np.ones(len(nodes)) / float(len(nodes)))\n",
    "user"
   ]
  },
  {
   "cell_type": "code",
   "execution_count": 33,
   "metadata": {
    "collapsed": false
   },
   "outputs": [
    {
     "data": {
      "text/plain": [
       "array([[ 0.2],\n",
       "       [ 0.2],\n",
       "       [ 0.2],\n",
       "       [ 0.2],\n",
       "       [ 0.2]])"
      ]
     },
     "execution_count": 33,
     "metadata": {},
     "output_type": "execute_result"
    }
   ],
   "source": [
    "surfer = user.reshape(-1,1) # to reshape it to a vector form\n",
    "surfer"
   ]
  },
  {
   "cell_type": "markdown",
   "metadata": {},
   "source": [
    "Taking one step and getting the probability to be at each state"
   ]
  },
  {
   "cell_type": "code",
   "execution_count": 18,
   "metadata": {
    "collapsed": false
   },
   "outputs": [
    {
     "data": {
      "text/plain": [
       "matrix([[ 0.5       ,  0.33333333,  0.5       ,  0.        ,  1.83333333],\n",
       "        [ 0.        ,  1.33333333,  1.33333333,  1.        ,  0.33333333],\n",
       "        [ 0.5       ,  0.        ,  0.83333333,  0.        ,  0.5       ],\n",
       "        [ 0.        ,  0.        ,  0.33333333,  0.        ,  0.        ],\n",
       "        [ 0.        ,  0.33333333,  0.        ,  0.        ,  0.33333333]])"
      ]
     },
     "execution_count": 18,
     "metadata": {},
     "output_type": "execute_result"
    }
   ],
   "source": [
    "state.dot(markov_transition)"
   ]
  },
  {
   "cell_type": "markdown",
   "metadata": {
    "collapsed": true
   },
   "source": [
    "---\n",
    "plt.subplots() is a function that returns a tuple containing a figure and axes object(s). Thus when using fig, ax = plt.subplots() you unpack this tuple into the variables fig and ax. Having fig is useful if you want to change figure-level attributes or save the figure as an image file later (e.g. with fig.savefig('yourfilename.png'). \n",
    "\n",
    "You certainly don't have to use the returned figure object but many people do use it later so it's common to see. Also, all axes objects (the objects that have plotting methods), have a parent figure object anyway, thus\n",
    "\n",
    "```\n",
    "fig, ax = plt.subplots()\n",
    "```\n",
    "is more concise than this:\n",
    "\n",
    "```\n",
    "fig = plt.figure()\n",
    "ax = fig.add_subplot(111)\n",
    "```"
   ]
  },
  {
   "cell_type": "markdown",
   "metadata": {
    "collapsed": true
   },
   "source": [
    "Plotting the probability of each step page for first 10 steps\n",
    "\n",
    "---\n"
   ]
  },
  {
   "cell_type": "code",
   "execution_count": 48,
   "metadata": {
    "collapsed": false
   },
   "outputs": [
    {
     "data": {
      "image/png": "[encoded data removed]",
      "text/plain": [
       "<matplotlib.figure.Figure at 0x1097dea90>"
      ]
     },
     "metadata": {},
     "output_type": "display_data"
    }
   ],
   "source": [
    "fig, ax = plt.subplots()\n",
    "\n",
    "for i in xrange(10):\n",
    "    surfer = markov_transition.dot(surfer)\n",
    "    plt.bar(range(len(nodes)), surfer, alpha=.1, \n",
    "            align='center')\n",
    "    plt.xticks(range(len(nodes)), ('A', 'B', 'C', 'D', 'E'))\n",
    "    \n",
    "ax.set_yscale('log')"
   ]
  },
  {
   "cell_type": "code",
   "execution_count": 69,
   "metadata": {
    "collapsed": false
   },
   "outputs": [
    {
     "data": {
      "image/png": "[encoded data removed]",
      "text/plain": [
       "<matplotlib.figure.Figure at 0x109ee7990>"
      ]
     },
     "metadata": {},
     "output_type": "display_data"
    }
   ],
   "source": [
    "fig, ax = plt.subplots()\n",
    "\n",
    "for i in xrange(10):\n",
    "    surfer_state = markov_transition.dot(surfer)\n",
    "    plt.bar(range(len(nodes)), surfer_state, alpha=.1, \n",
    "            align='center')\n",
    "    plt.xticks(range(len(nodes)), ('A', 'B', 'C', 'D', 'E'))\n",
    "ax.set_yscale('log')"
   ]
  },
  {
   "cell_type": "markdown",
   "metadata": {},
   "source": [
    "Using the function for calculating **eigenvectors** compute the **stationary distribution (page rank)**"
   ]
  },
  {
   "cell_type": "code",
   "execution_count": 51,
   "metadata": {
    "collapsed": true
   },
   "outputs": [],
   "source": [
    "eigenvalue, eigenvector = numpy.linalg.eig(markov_transition)"
   ]
  },
  {
   "cell_type": "code",
   "execution_count": 52,
   "metadata": {
    "collapsed": false
   },
   "outputs": [
    {
     "data": {
      "text/plain": [
       "array([ 1.97169640+0.j        , -1.23620598+0.56872839j,\n",
       "       -1.23620598-0.56872839j,  0.25035778+0.45959287j,\n",
       "        0.25035778-0.45959287j])"
      ]
     },
     "execution_count": 52,
     "metadata": {},
     "output_type": "execute_result"
    }
   ],
   "source": [
    "eigenvalue"
   ]
  },
  {
   "cell_type": "code",
   "execution_count": 53,
   "metadata": {
    "collapsed": false
   },
   "outputs": [
    {
     "data": {
      "text/plain": [
       "matrix([[-0.59548316+0.j        ,  0.54334377+0.j        ,\n",
       "          0.54334377-0.j        , -0.00963945+0.60123178j,\n",
       "         -0.00963945-0.60123178j],\n",
       "        [-0.63176654+0.j        , -0.39506308-0.32698979j,\n",
       "         -0.39506308+0.32698979j,  0.23929213+0.28610188j,\n",
       "          0.23929213-0.28610188j],\n",
       "        [-0.43138161+0.j        , -0.05665133+0.48782604j,\n",
       "         -0.05665133-0.48782604j,  0.09037628-0.14000905j,\n",
       "          0.09037628+0.14000905j],\n",
       "        [-0.11096386+0.j        , -0.21997041+0.14817877j,\n",
       "         -0.21997041-0.14817877j, -0.60840356+0.j        , -0.60840356-0.j        ],\n",
       "        [-0.21878704+0.j        ,  0.18765527-0.3082829j ,\n",
       "          0.18765527+0.3082829j , -0.15231856-0.27961794j,\n",
       "         -0.15231856+0.27961794j]])"
      ]
     },
     "execution_count": 53,
     "metadata": {},
     "output_type": "execute_result"
    }
   ],
   "source": [
    "eigenvector"
   ]
  },
  {
   "cell_type": "markdown",
   "metadata": {},
   "source": [
    "The stationary state is represented by the real form of the left (first) eigenvector\n"
   ]
  },
  {
   "cell_type": "code",
   "execution_count": 71,
   "metadata": {
    "collapsed": false
   },
   "outputs": [
    {
     "data": {
      "text/plain": [
       "matrix([[-0.59548316+0.j],\n",
       "        [-0.63176654+0.j],\n",
       "        [-0.43138161+0.j],\n",
       "        [-0.11096386+0.j],\n",
       "        [-0.21878704+0.j]])"
      ]
     },
     "execution_count": 71,
     "metadata": {},
     "output_type": "execute_result"
    }
   ],
   "source": [
    "eigenvector[:,0]"
   ]
  },
  {
   "cell_type": "code",
   "execution_count": 72,
   "metadata": {
    "collapsed": false
   },
   "outputs": [
    {
     "data": {
      "text/plain": [
       "matrix([[-0.59548316],\n",
       "        [-0.63176654],\n",
       "        [-0.43138161],\n",
       "        [-0.11096386],\n",
       "        [-0.21878704]])"
      ]
     },
     "execution_count": 72,
     "metadata": {},
     "output_type": "execute_result"
    }
   ],
   "source": [
    "np.real(eigenvector[:,0])"
   ]
  },
  {
   "cell_type": "code",
   "execution_count": 73,
   "metadata": {
    "collapsed": false
   },
   "outputs": [
    {
     "data": {
      "text/plain": [
       "matrix([[ 0.59548316],\n",
       "        [ 0.63176654],\n",
       "        [ 0.43138161],\n",
       "        [ 0.11096386],\n",
       "        [ 0.21878704]])"
      ]
     },
     "execution_count": 73,
     "metadata": {},
     "output_type": "execute_result"
    }
   ],
   "source": [
    "np.real(eigenvector[:,0]*-1)"
   ]
  },
  {
   "cell_type": "code",
   "execution_count": 74,
   "metadata": {
    "collapsed": true
   },
   "outputs": [],
   "source": [
    "ev = np.real(eigenvector[:,0]*-1)"
   ]
  },
  {
   "cell_type": "code",
   "execution_count": 58,
   "metadata": {
    "collapsed": false
   },
   "outputs": [
    {
     "data": {
      "text/plain": [
       "matrix([[ 0.59548316],\n",
       "        [ 0.63176654],\n",
       "        [ 0.43138161],\n",
       "        [ 0.11096386],\n",
       "        [ 0.21878704]])"
      ]
     },
     "execution_count": 58,
     "metadata": {},
     "output_type": "execute_result"
    }
   ],
   "source": [
    "eigenvector_real = np.real(eigenvector[:,0]*-1)\n",
    "eigenvector_real"
   ]
  },
  {
   "cell_type": "code",
   "execution_count": 68,
   "metadata": {
    "collapsed": false
   },
   "outputs": [
    {
     "data": {
      "image/png": "[encoded data removed]",
      "text/plain": [
       "<matplotlib.figure.Figure at 0x109963f10>"
      ]
     },
     "metadata": {},
     "output_type": "display_data"
    }
   ],
   "source": [
    "plt.bar(range(len(nodes)), eigenvector_real, align='center')\n",
    "plt.xticks(range(len(nodes)), ('A', 'B', 'C', 'D', 'E'));"
   ]
  },
  {
   "cell_type": "markdown",
   "metadata": {},
   "source": [
    "\n",
    "The left eigenvector obtained from numpy.linalg.eig has to be normalized"
   ]
  },
  {
   "cell_type": "code",
   "execution_count": 75,
   "metadata": {
    "collapsed": false
   },
   "outputs": [
    {
     "data": {
      "text/plain": [
       "matrix([[ 0.29948124],\n",
       "        [ 0.31772892],\n",
       "        [ 0.21695105],\n",
       "        [ 0.0558061 ],\n",
       "        [ 0.11003269]])"
      ]
     },
     "execution_count": 75,
     "metadata": {},
     "output_type": "execute_result"
    }
   ],
   "source": [
    "norm_ev = ev / ev.sum(axis=0).astype(float)\n",
    "norm_ev"
   ]
  },
  {
   "cell_type": "code",
   "execution_count": 78,
   "metadata": {
    "collapsed": false
   },
   "outputs": [
    {
     "data": {
      "text/plain": [
       "1.0"
      ]
     },
     "execution_count": 78,
     "metadata": {},
     "output_type": "execute_result"
    }
   ],
   "source": [
    "norm_ev.sum()"
   ]
  },
  {
   "cell_type": "code",
   "execution_count": 77,
   "metadata": {
    "collapsed": false
   },
   "outputs": [
    {
     "data": {
      "image/png": "[encoded data removed]",
      "text/plain": [
       "<matplotlib.figure.Figure at 0x10b48ccd0>"
      ]
     },
     "metadata": {},
     "output_type": "display_data"
    }
   ],
   "source": [
    "plt.bar(range(len(nodes)), norm_ev, align='center')\n",
    "plt.xticks(range(len(nodes)), ('A', 'B', 'C', 'D', 'E'));"
   ]
  },
  {
   "cell_type": "code",
   "execution_count": null,
   "metadata": {
    "collapsed": true
   },
   "outputs": [],
   "source": []
  },
  {
   "cell_type": "code",
   "execution_count": null,
   "metadata": {
    "collapsed": true
   },
   "outputs": [],
   "source": []
  },
  {
   "cell_type": "code",
   "execution_count": null,
   "metadata": {
    "collapsed": true
   },
   "outputs": [],
   "source": []
  },
  {
   "cell_type": "code",
   "execution_count": null,
   "metadata": {
    "collapsed": true
   },
   "outputs": [],
   "source": []
  },
  {
   "cell_type": "code",
   "execution_count": null,
   "metadata": {
    "collapsed": true
   },
   "outputs": [],
   "source": []
  },
  {
   "cell_type": "code",
   "execution_count": null,
   "metadata": {
    "collapsed": true
   },
   "outputs": [],
   "source": []
  },
  {
   "cell_type": "code",
   "execution_count": null,
   "metadata": {
    "collapsed": true
   },
   "outputs": [],
   "source": []
  },
  {
   "cell_type": "code",
   "execution_count": null,
   "metadata": {
    "collapsed": true
   },
   "outputs": [],
   "source": []
  },
  {
   "cell_type": "code",
   "execution_count": null,
   "metadata": {
    "collapsed": true
   },
   "outputs": [],
   "source": []
  }
 ],
 "metadata": {
  "kernelspec": {
   "display_name": "Python 2",
   "language": "python",
   "name": "python2"
  },
  "language_info": {
   "codemirror_mode": {
    "name": "ipython",
    "version": 2
   },
   "file_extension": ".py",
   "mimetype": "text/x-python",
   "name": "python",
   "nbconvert_exporter": "python",
   "pygments_lexer": "ipython2",
   "version": "2.7.11"
  }
 },
 "nbformat": 4,
 "nbformat_minor": 0
}
