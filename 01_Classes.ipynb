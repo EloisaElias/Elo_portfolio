{
 "cells": [
  {
   "cell_type": "markdown",
   "metadata": {},
   "source": [
    "## Class"
   ]
  },
  {
   "cell_type": "markdown",
   "metadata": {},
   "source": [
    "___\n",
    "```\n",
    "python\n",
    "# \n",
    "class Animal(object):\n",
    "    def __init__(self, name, emotion):\n",
    "        self.name = name\n",
    "        self.emotion = emotion\n",
    "\n",
    "    def speak(self):\n",
    "        print \"My name is \" + self.name\n",
    "\n",
    "    # self is replaced by the object\n",
    "    # the method is called on\n",
    "    def eat(self, food):\n",
    "        print \"I \" + self.emotion + \" \" + food\n",
    "\n",
    "frank = Animal(\"Frank\", \"adore\")\n",
    "frank.speak() #=> \"My name is Frank\"\n",
    "\n",
    "# object is passed as first argument to a method call\n",
    "frank.eat(\"bananas\") #-> Animal.eat(frank, \"bananas\")\n",
    "    #=> \"I adore bananas\"\n",
    "   ```\n",
    "___\n",
    "\n",
    "```\n",
    "python\n",
    "class Animal(object):\n",
    "    def __init__(self, name):\n",
    "        self.name = name\n",
    "\n",
    "    def speak(self):\n",
    "        print \"My name is \" + self.name\n",
    "\n",
    "    def eat(self, food):\n",
    "        print \"I love \" + food\n",
    "\n",
    "# frank = Animal(\"Frank\")\n",
    "# frank.speak() #=> \"My name is Frank\"\n",
    "# frank.eat(\"bananas\") #=> \"I love bananas\"\n",
    "\n",
    "class Dog(Animal):\n",
    "    def __init__(self, name):\n",
    "        Animal.__init__(self, name)\n",
    "        # calling *object.method()*\n",
    "        '''\n",
    "        the object is the parent class and the method it's\n",
    "        the object (child class) instantiation. The child class\n",
    "        requires this arguments  .method(*args) to enable the child\n",
    "        class. See war.py def deal(self): deck = Deck()\n",
    "        deck.shuffle()\n",
    "        '''\n",
    "    def eat(self):\n",
    "        print \"I like biscuits!\"\n",
    "\n",
    "# fido = Dog(\"Fido\")\n",
    "# fido.speak() #=> \"My name is Fido\"\n",
    "# fido.eat() #=> \"I like biscuits!\n",
    "```"
   ]
  },
  {
   "cell_type": "code",
   "execution_count": 142,
   "metadata": {
    "collapsed": false
   },
   "outputs": [],
   "source": [
    "import hecf_oo as hecf"
   ]
  },
  {
   "cell_type": "code",
   "execution_count": 135,
   "metadata": {
    "collapsed": false
   },
   "outputs": [],
   "source": [
    "hazme = hecf.Animal(\"Hazme\")"
   ]
  },
  {
   "cell_type": "code",
   "execution_count": 136,
   "metadata": {
    "collapsed": false
   },
   "outputs": [
    {
     "name": "stdout",
     "output_type": "stream",
     "text": [
      "My name is Hazme\n"
     ]
    }
   ],
   "source": [
    "hazme.speak()\n"
   ]
  },
  {
   "cell_type": "code",
   "execution_count": 138,
   "metadata": {
    "collapsed": false
   },
   "outputs": [
    {
     "name": "stdout",
     "output_type": "stream",
     "text": [
      "I love carrot\n"
     ]
    }
   ],
   "source": [
    "hazme.eat('carrot')"
   ]
  },
  {
   "cell_type": "code",
   "execution_count": 139,
   "metadata": {
    "collapsed": true
   },
   "outputs": [],
   "source": [
    "solovino = hecf.Dog('Solovino')"
   ]
  },
  {
   "cell_type": "code",
   "execution_count": 140,
   "metadata": {
    "collapsed": false
   },
   "outputs": [
    {
     "name": "stdout",
     "output_type": "stream",
     "text": [
      "My name is Solovino\n"
     ]
    }
   ],
   "source": [
    "solovino.speak()"
   ]
  },
  {
   "cell_type": "code",
   "execution_count": 141,
   "metadata": {
    "collapsed": false
   },
   "outputs": [
    {
     "name": "stdout",
     "output_type": "stream",
     "text": [
      "I like biscuits!\n"
     ]
    }
   ],
   "source": [
    "solovino.eat()"
   ]
  },
  {
   "cell_type": "code",
   "execution_count": 267,
   "metadata": {
    "collapsed": false
   },
   "outputs": [],
   "source": [
    "import elo_07 as rv\n",
    "import elo_stats as es"
   ]
  },
  {
   "cell_type": "code",
   "execution_count": 268,
   "metadata": {
    "collapsed": true
   },
   "outputs": [],
   "source": [
    "die = rv.PMF({\"1\": 1./6, \"2\": 1./6, \"3\": 1./6, \"4\": 1./6, \"5\": 1./6, \"6\": 1./6 })"
   ]
  },
  {
   "cell_type": "code",
   "execution_count": 269,
   "metadata": {
    "collapsed": false
   },
   "outputs": [],
   "source": [
    "die_rv = rv.RV(die)"
   ]
  },
  {
   "cell_type": "code",
   "execution_count": 270,
   "metadata": {
    "collapsed": false
   },
   "outputs": [
    {
     "name": "stdout",
     "output_type": "stream",
     "text": [
      "<elo_07.RV object at 0x108d2b690>\n"
     ]
    }
   ],
   "source": [
    "print die_rv"
   ]
  },
  {
   "cell_type": "code",
   "execution_count": 271,
   "metadata": {
    "collapsed": false
   },
   "outputs": [
    {
     "data": {
      "text/plain": [
       "1"
      ]
     },
     "execution_count": 271,
     "metadata": {},
     "output_type": "execute_result"
    }
   ],
   "source": [
    "die_rv.sample()"
   ]
  },
  {
   "cell_type": "code",
   "execution_count": 272,
   "metadata": {
    "collapsed": false
   },
   "outputs": [
    {
     "data": {
      "text/plain": [
       "[0.16666666666666666,\n",
       " 0.16666666666666666,\n",
       " 0.16666666666666666,\n",
       " 0.16666666666666666,\n",
       " 0.16666666666666666,\n",
       " 0.16666666666666666]"
      ]
     },
     "execution_count": 272,
     "metadata": {},
     "output_type": "execute_result"
    }
   ],
   "source": [
    "die_rv.all_outcomes()"
   ]
  },
  {
   "cell_type": "code",
   "execution_count": 238,
   "metadata": {
    "collapsed": true
   },
   "outputs": [],
   "source": [
    "die_elo = es.PMF({\"1\": 1./6, \"2\": 1./6, \"3\": 1./6, \"4\": 1./6, \"5\": 1./6, \"6\": 1./6 }) #object "
   ]
  },
  {
   "cell_type": "code",
   "execution_count": 91,
   "metadata": {
    "collapsed": false
   },
   "outputs": [
    {
     "name": "stdout",
     "output_type": "stream",
     "text": [
      "[('1', 0.16666666666666666), ('3', 0.16666666666666666), ('2', 0.16666666666666666), ('5', 0.16666666666666666), ('4', 0.16666666666666666), ('6', 0.16666666666666666)]\n"
     ]
    }
   ],
   "source": [
    "die_elo.print_pmf()"
   ]
  },
  {
   "cell_type": "code",
   "execution_count": 92,
   "metadata": {
    "collapsed": false
   },
   "outputs": [
    {
     "data": {
      "text/plain": [
       "0.167"
      ]
     },
     "execution_count": 92,
     "metadata": {},
     "output_type": "execute_result"
    }
   ],
   "source": [
    "\n",
    "die_elo.prob('3')"
   ]
  },
  {
   "cell_type": "code",
   "execution_count": 93,
   "metadata": {
    "collapsed": false
   },
   "outputs": [
    {
     "name": "stdout",
     "output_type": "stream",
     "text": [
      "<elo_stats.PMF object at 0x1076e8c90>\n"
     ]
    }
   ],
   "source": [
    "print die_elo"
   ]
  },
  {
   "cell_type": "code",
   "execution_count": 94,
   "metadata": {
    "collapsed": false
   },
   "outputs": [
    {
     "name": "stdout",
     "output_type": "stream",
     "text": [
      "None\n"
     ]
    }
   ],
   "source": [
    "print die_elo.set(('4',2))"
   ]
  },
  {
   "cell_type": "code",
   "execution_count": 95,
   "metadata": {
    "collapsed": false
   },
   "outputs": [
    {
     "data": {
      "text/plain": [
       "0.706"
      ]
     },
     "execution_count": 95,
     "metadata": {},
     "output_type": "execute_result"
    }
   ],
   "source": [
    "die_elo.prob('4')"
   ]
  },
  {
   "cell_type": "code",
   "execution_count": 101,
   "metadata": {
    "collapsed": false
   },
   "outputs": [
    {
     "data": {
      "text/plain": [
       "<elo_stats.PMF at 0x1076e8fd0>"
      ]
     },
     "execution_count": 101,
     "metadata": {},
     "output_type": "execute_result"
    }
   ],
   "source": [
    "#die_rv.pmf()"
   ]
  },
  {
   "cell_type": "code",
   "execution_count": 34,
   "metadata": {
    "collapsed": false
   },
   "outputs": [],
   "source": [
    "# from __future__ import division\n",
    "\n",
    "# class PMF(object):\n",
    "#     def __init__(self, prob_dict): #initialize each PMF with a dictionary\n",
    "#         self.prob_dict = prob_dict\n",
    "\n",
    "#     def prob(self, value): #representing a dictionary mapping from value to probability\n",
    "#         return round(self.prob_dict[value], 3)\n",
    "    \n",
    "#     def set(self, new_k_v):\n",
    "#         new_k, new_v = new_k_v\n",
    "#         new_sum = 1 - self.prob_dict[new_k] + new_v\n",
    "#         self.prob_dict[new_k] = new_v\n",
    "#         for key in self.prob_dict:\n",
    "#             self.prob_dict[key] = self.prob_dict[key] * 1./new_sum\n",
    "            \n",
    "#     def print_pmf(self):\n",
    "#         distribution = []\n",
    "#         for k, v in self.prob_dict.interitems():\n",
    "#             distribution.append((key, round(val,3)))\n",
    "#             return distribution\n"
   ]
  },
  {
   "cell_type": "code",
   "execution_count": null,
   "metadata": {
    "collapsed": true
   },
   "outputs": [],
   "source": [
    "# from __future__ import division\n",
    "# import scipy.stats\n",
    "# import random\n",
    "\n",
    "# class PMF(object):\n",
    "#   def __init__(self, d):\n",
    "#     self.d = d\n",
    "\n",
    "\n",
    "#   def prob(self, value):\n",
    "#     return round(self.d[value], 3)\n",
    "\n",
    "#   def set(self, kv_pair):\n",
    "#     k, v = kv_pair\n",
    "#     if k in self.d:\n",
    "#       self.d[k] = v\n",
    "\n",
    "#       # Creating a factor to multiply the new value\n",
    "#       factor = 1 / sum(self.d.values())\n",
    "\n",
    "#       # Iterate PMF and normalize\n",
    "#       for key, val in self.d.iteritems():\n",
    "#         self.d[key] = val * factor\n",
    "\n",
    "#     else:\n",
    "#       print 'Value not found'\n",
    "\n",
    "#   def print_pmf(self):\n",
    "#       print self.d.items()\n",
    "\n",
    "# class RV(PMF):\n",
    "#   ''' random variable that represents a distribution\n",
    "#   an possible set of outcomes.\n",
    "#   import my_stats\n",
    "#   Pass type 'PMF' to RV\n",
    "#   '''\n",
    "#   def __init__(self, PMF):\n",
    "#     self.pmf = PMF\n",
    "#     self.outcome_list = self.pmf.d.values()\n",
    "#     self.rv = scipy.stats.rv_discrete(values=(self.pmf.d.keys(), self.pmf.d.values()))\n",
    "\n",
    "\n",
    "#   def sample(self):\n",
    "#     return self.rv.rvs()\n",
    "\n",
    "#   def all_outcomes(self):\n",
    "#     return self.outcome_list\n",
    "\n",
    "#   # def pmf(self):\n",
    "#   #   return self.pmf\n",
    "\n"
   ]
  },
  {
   "cell_type": "code",
   "execution_count": null,
   "metadata": {
    "collapsed": true
   },
   "outputs": [],
   "source": []
  },
  {
   "cell_type": "code",
   "execution_count": null,
   "metadata": {
    "collapsed": true
   },
   "outputs": [],
   "source": []
  },
  {
   "cell_type": "code",
   "execution_count": null,
   "metadata": {
    "collapsed": true
   },
   "outputs": [],
   "source": []
  },
  {
   "cell_type": "code",
   "execution_count": null,
   "metadata": {
    "collapsed": true
   },
   "outputs": [],
   "source": []
  }
 ],
 "metadata": {
  "kernelspec": {
   "display_name": "Python 2",
   "language": "python",
   "name": "python2"
  },
  "language_info": {
   "codemirror_mode": {
    "name": "ipython",
    "version": 2
   },
   "file_extension": ".py",
   "mimetype": "text/x-python",
   "name": "python",
   "nbconvert_exporter": "python",
   "pygments_lexer": "ipython2",
   "version": "2.7.10"
  }
 },
 "nbformat": 4,
 "nbformat_minor": 0
}
