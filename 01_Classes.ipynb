{
 "cells": [
  {
   "cell_type": "markdown",
   "metadata": {},
   "source": [
    "## Class\n",
    "---\n",
    "** Elo notes**"
   ]
  },
  {
   "cell_type": "markdown",
   "metadata": {},
   "source": [
    "### OOP Object Oriented Programming\n",
    "\n",
    "\n",
    "```\n",
    "#Template for python OOP\n",
    "\n",
    "import statements (if applicable)\n",
    "\n",
    "class Classname(object):\n",
    "    def __init__(self, inputs if applicable):\n",
    "        self.input1 = input1\n",
    "        self.input2 = input2\n",
    "        etc\n",
    "\n",
    "    def __repr__(self): #magic function\n",
    "        stuff goes here\n",
    "\n",
    "    def methodname(self, inputs):\n",
    "        stuff goes here\n",
    "        return\n",
    "\n",
    "    def _hiddenmethod(self, inputs):\n",
    "        stuff goes here\n",
    "        return\n",
    "\n",
    "def main(optional passing arguments):\n",
    "    main arguments\n",
    "\n",
    "if __name__ == '__main__':\n",
    "    main(args if applicable)\n",
    "\n",
    "```"
   ]
  },
  {
   "cell_type": "markdown",
   "metadata": {},
   "source": [
    "### Class\n",
    "\n",
    "Describes behavior and attributes of a type of object. __Attributes__ are a property of a Class\n",
    "\n",
    "\n",
    "### Object\n",
    "\n",
    "An __object__ is an instance of a Class\n",
    "\n",
    "- The __init__ function is the ___constructor___. Special method __init__ to initialize each instance of a class It is called when you run the following code:\n",
    "\n",
    "```\n",
    "python\n",
    "fido = Dog(\"Fido\")\n",
    "```\n",
    "- __self__ : Use self to refer to an instance’s own, unique data.\n",
    "\n",
    "- __Instance variables__ are variables that are specific to each instance of the class \n",
    "\n",
    "\n",
    "\n",
    "Provide a service to clients if they satisfy the interface’s contract.\n",
    "\n",
    "\n",
    "##### Class analogy: The class is this blueprint of the structure of a house  and an object instantiation is an individual physical house.\n"
   ]
  },
  {
   "cell_type": "markdown",
   "metadata": {},
   "source": [
    "---\n",
    "### OO - Three Core Concepts\n",
    "\n",
    "__Encapsulation__\n",
    "\n",
    "Encapsulation forces code to manipulate an object’s internal state only through method calls\n",
    "\n",
    "__Inheritance__\n",
    "\n",
    "Derive a ___child Class___ from a ___base Class___\n",
    "\n",
    "- Base Class defines general behavior\n",
    "- Child Class specialized behavior\n",
    "\n",
    "__Polymorphism__\n",
    "\n",
    "Treat multiple objects the same if they support same interface\n",
    "\n",
    "Polymorphism works if object instantiates a class which defines the\n",
    "necessary attribute or method"
   ]
  },
  {
   "cell_type": "markdown",
   "metadata": {},
   "source": [
    "---\n",
    "\n",
    "- If the method is missing, Python will raise an AttributeError\n",
    "\n",
    "- Private: accessible only by code from the same class, but not derived Classes: In Python, start the name with _ if it is private\n",
    "\n",
    "Noun ⇒ implement as a class \n",
    "\n",
    "Verb ⇒ implement as a method\n",
    "\n",
    "##### Build classes structured as composition and aggregation\n",
    "\n",
    "[I have to stack overflow things](https://stackoverflow.com/questions/19861785/composition-and-aggregation-in-python)\n",
    "\n",
    "\n",
    "#### Key features:\n",
    "\n",
    "- \\*args and **kwargs : \n",
    "    - *args is a list\n",
    "    - **kwargs is a dictionary\n",
    "    \n",
    "   \n",
    "- Class data and static methods Magic methods are super __important for calling the build in functions into our class instances__\n",
    "\n",
    "    - Static methods are normal functions which live in a class’s namespace\n",
    "    - Popular magic methods:\n",
    "    \n",
    "    -    ```\n",
    "        Popular magic methods:\n",
    "         Method\n",
    "        __init__ \n",
    "        __str__\n",
    "        __repr__\n",
    "        __len__\n",
    "        __call__\n",
    "        __cmp__\n",
    "        __iter__\n",
    "\n",
    "        Plus methods for order relations (==, !=, <, >), attribute access, math, type conversion, custom containers, context managers, . . .\n",
    "         ```\n",
    "\n",
    "- Decorators\n",
    "    - A decorator is a function which wraps another function\n",
    "    \n",
    "---\n",
    "\n",
    "#### Unit Test and Test Driven Development\n",
    "\n",
    "- Unit tests exercise your code so you can test individual functions\n",
    "\n",
    "- Test Driven Development: Red, Green, Red\n",
    "\n",
    "#### PDB\n",
    "\n",
    "- o start PDB, at a specific point in your code, add:\n",
    "\n",
    "```\n",
    "import pdb\n",
    "...\n",
    "pdb.set_trace() # Start debugger here ...\n",
    "```\n",
    "\n",
    "- In some environments (e.g., Cython), PDB may not work\n",
    "\n",
    "---\n",
    "\n",
    "In Python, we have a bunch of built-in classes that we use every day. For example, Lists, Strings and Dictionaries are examples. We can create an instance of them and then use methods to operate on them.\n",
    "\n",
    "A method is a function which acts on a class. append, pop and extend are examples of methods.\n",
    "\n",
    "__Append__, __pop__ and __extend__ are examples of methods.\n",
    "\n",
    "``` \n",
    "python\n",
    "In [1]: L = []\n",
    "\n",
    "In [2]: L.append('a')\n",
    "\n",
    "In [3]: L.pop()\n",
    "Out[3]: 'a'\n",
    "\n",
    "In [4]: L.extend(['x', 'y', 'z'])\n",
    "\n",
    "In [5]: L.pop(1)\n",
    "Out[5]: 'y' \n",
    "```"
   ]
  },
  {
   "cell_type": "markdown",
   "metadata": {},
   "source": [
    "```\n",
    "python\n",
    "# \n",
    "class Animal(object):\n",
    "    def __init__(self, name, emotion):\n",
    "        self.name = name\n",
    "        self.emotion = emotion\n",
    "\n",
    "    def speak(self):\n",
    "        print \"My name is \" + self.name\n",
    "\n",
    "    # self is replaced by the object\n",
    "    # the method is called on\n",
    "    def eat(self, food):\n",
    "        print \"I \" + self.emotion + \" \" + food\n",
    "\n",
    "frank = Animal(\"Frank\", \"adore\")\n",
    "frank.speak() #=> \"My name is Frank\"\n",
    "\n",
    "# object is passed as first argument to a method call\n",
    "frank.eat(\"bananas\") #-> Animal.eat(frank, \"bananas\")\n",
    "    #=> \"I adore bananas\"\n",
    "   ```\n",
    "___\n",
    "\n",
    "```\n",
    "python\n",
    "class Animal(object):\n",
    "    def __init__(self, name):\n",
    "        self.name = name\n",
    "\n",
    "    def speak(self):\n",
    "        print \"My name is \" + self.name\n",
    "\n",
    "    def eat(self, food):\n",
    "        print \"I love \" + food\n",
    "\n",
    "# frank = Animal(\"Frank\")\n",
    "# frank.speak() #=> \"My name is Frank\"\n",
    "# frank.eat(\"bananas\") #=> \"I love bananas\"\n",
    "\n",
    "class Dog(Animal):\n",
    "    def __init__(self, name):\n",
    "        Animal.__init__(self, name)\n",
    "        # calling *object.method()*\n",
    "        '''\n",
    "        the object is the parent class and the method it's\n",
    "        the object (child class) instantiation. The child class\n",
    "        requires this arguments  .method(*args) to enable the child\n",
    "        class. See war.py def deal(self): deck = Deck()\n",
    "        deck.shuffle()\n",
    "        '''\n",
    "    def eat(self):\n",
    "        print \"I like biscuits!\"\n",
    "\n",
    "# fido = Dog(\"Fido\")\n",
    "# fido.speak() #=> \"My name is Fido\"\n",
    "# fido.eat() #=> \"I like biscuits!\n",
    "```"
   ]
  },
  {
   "cell_type": "code",
   "execution_count": null,
   "metadata": {
    "collapsed": true
   },
   "outputs": [],
   "source": []
  },
  {
   "cell_type": "code",
   "execution_count": null,
   "metadata": {
    "collapsed": true
   },
   "outputs": [],
   "source": []
  },
  {
   "cell_type": "code",
   "execution_count": null,
   "metadata": {
    "collapsed": true
   },
   "outputs": [],
   "source": []
  },
  {
   "cell_type": "code",
   "execution_count": null,
   "metadata": {
    "collapsed": true
   },
   "outputs": [],
   "source": []
  },
  {
   "cell_type": "code",
   "execution_count": null,
   "metadata": {
    "collapsed": true
   },
   "outputs": [],
   "source": []
  },
  {
   "cell_type": "code",
   "execution_count": null,
   "metadata": {
    "collapsed": true
   },
   "outputs": [],
   "source": []
  },
  {
   "cell_type": "code",
   "execution_count": null,
   "metadata": {
    "collapsed": true
   },
   "outputs": [],
   "source": []
  },
  {
   "cell_type": "code",
   "execution_count": null,
   "metadata": {
    "collapsed": true
   },
   "outputs": [],
   "source": []
  },
  {
   "cell_type": "code",
   "execution_count": null,
   "metadata": {
    "collapsed": true
   },
   "outputs": [],
   "source": []
  },
  {
   "cell_type": "code",
   "execution_count": null,
   "metadata": {
    "collapsed": true
   },
   "outputs": [],
   "source": []
  },
  {
   "cell_type": "code",
   "execution_count": null,
   "metadata": {
    "collapsed": true
   },
   "outputs": [],
   "source": []
  },
  {
   "cell_type": "code",
   "execution_count": null,
   "metadata": {
    "collapsed": true
   },
   "outputs": [],
   "source": []
  },
  {
   "cell_type": "code",
   "execution_count": null,
   "metadata": {
    "collapsed": true
   },
   "outputs": [],
   "source": []
  },
  {
   "cell_type": "code",
   "execution_count": null,
   "metadata": {
    "collapsed": true
   },
   "outputs": [],
   "source": []
  },
  {
   "cell_type": "code",
   "execution_count": null,
   "metadata": {
    "collapsed": true
   },
   "outputs": [],
   "source": []
  },
  {
   "cell_type": "code",
   "execution_count": null,
   "metadata": {
    "collapsed": true
   },
   "outputs": [],
   "source": []
  },
  {
   "cell_type": "code",
   "execution_count": null,
   "metadata": {
    "collapsed": true
   },
   "outputs": [],
   "source": []
  },
  {
   "cell_type": "code",
   "execution_count": null,
   "metadata": {
    "collapsed": true
   },
   "outputs": [],
   "source": []
  },
  {
   "cell_type": "code",
   "execution_count": null,
   "metadata": {
    "collapsed": true
   },
   "outputs": [],
   "source": []
  },
  {
   "cell_type": "code",
   "execution_count": null,
   "metadata": {
    "collapsed": true
   },
   "outputs": [],
   "source": []
  },
  {
   "cell_type": "code",
   "execution_count": null,
   "metadata": {
    "collapsed": true
   },
   "outputs": [],
   "source": []
  },
  {
   "cell_type": "code",
   "execution_count": null,
   "metadata": {
    "collapsed": true
   },
   "outputs": [],
   "source": []
  },
  {
   "cell_type": "code",
   "execution_count": null,
   "metadata": {
    "collapsed": true
   },
   "outputs": [],
   "source": []
  },
  {
   "cell_type": "code",
   "execution_count": null,
   "metadata": {
    "collapsed": true
   },
   "outputs": [],
   "source": []
  },
  {
   "cell_type": "code",
   "execution_count": null,
   "metadata": {
    "collapsed": true
   },
   "outputs": [],
   "source": []
  },
  {
   "cell_type": "code",
   "execution_count": null,
   "metadata": {
    "collapsed": true
   },
   "outputs": [],
   "source": []
  }
 ],
 "metadata": {
  "kernelspec": {
   "display_name": "Python 2",
   "language": "python",
   "name": "python2"
  },
  "language_info": {
   "codemirror_mode": {
    "name": "ipython",
    "version": 2
   },
   "file_extension": ".py",
   "mimetype": "text/x-python",
   "name": "python",
   "nbconvert_exporter": "python",
   "pygments_lexer": "ipython2",
   "version": "2.7.11"
  }
 },
 "nbformat": 4,
 "nbformat_minor": 0
}
