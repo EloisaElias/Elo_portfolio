{
 "cells": [
  {
   "cell_type": "markdown",
   "metadata": {
    "collapsed": true
   },
   "source": [
    "## ROC Curve\n",
    "### Confusion matrix\n",
    "\n",
    "---\n",
    "**Confusion Matrix**\n",
    "\n",
    "In the field of machine learning and specifically the problem of statistical classification, a confusion matrix, also known as an error matrix.\n",
    "\n",
    "Receiver operating characteristic (ROC), or ROC curve, is a graphical plot that illustrates the performance of a binary classifier system as its discrimination threshold is varied. The curve is created by plotting the true positive rate (TPR/sensitivity/recall/probability of detection in machine learning) against the false positive rate (FPR/\"1 - specificity\") at various threshold settings. \n",
    "\n",
    "\"1 - specificity\" when specificity is reported as a value from 0 to 1.0, and other times (as in the image above) we'll use \"100 - specificity\" when it is reported as a percentage from 0 to 100.\n",
    "\n",
    "\n",
    "The diagonal ROC line for an uninformative test:\n",
    "\n",
    "(sensitivity + specificity = 1)\n",
    "\n",
    "The trade-offs that we make when we insist on higher sensitivity. The result is lower specificity, and more false positives.\n",
    "\n",
    "You can also see that a perfect test would begin in the lower left corner, go straight up to the upper left corner, and then to the upper right corner (that is, it would be 100% sensitive and 100% specific). The area underneath this curve would be the entire square, or 1.0. On the other hand, a diagonal line from lower left to upper right traces the curve for a perfectly useless test - one that is no better than tossing a coin. The area under this curve is 0.5. So, a useless test has an area under the ROC curve (AUROCC) of 0.5, and a perfect test has an AUROCC of 1.0.\n",
    "\n",
    "Remember, though, that the sensitivity and specificity depend on where we make the cutpoint(threshold)\n",
    "\n",
    "Note: we say \"1-specificity\" but in reality it is also \"100% - specificity\"\n",
    "\n",
    "The area under the ROC curve (AUROCC) is a reflection of how good the test is at distinguishing (or \"discriminating\").\n",
    "\n",
    "If you have two tests, you can compare the AUROCC of the tests to determine which is better overall.\n",
    "\n",
    "**Error Metrics for Skewed Classes**\n",
    "\n",
    "It is sometimes difficult to tell whether a reduction in error is actually an improvement of the algorithm.\n",
    "\n",
    "For example: In predicting a cancer diagnoses where 0.5% of the examples have cancer, we find our learning algorithm has a 1% error. However, if we were to simply classify every single example as a 0, then our error would reduce to 0.5% even though we did not improve the algorithm.\n",
    "\n",
    "This usually happens with skewed classes; that is, when our class is very rare in the entire data set.\n",
    "\n",
    "Or to say it another way, when we have lot more examples from one class than from the other class.\n",
    "\n",
    "For this we can use Precision/Recall.\n",
    "\n",
    "Predicted: 1, Actual: 1 --- True positive\n",
    "\n",
    "Predicted: 0, Actual: 0 --- True negative\n",
    "\n",
    "Predicted: 0, Actual, 1 --- False negative\n",
    "\n",
    "Predicted: 1, Actual: 0 --- False positive\n",
    "\n",
    "**Precision:** of all patients we predicted where y=1, what fraction actually has cancer?\n",
    "\n",
    "True Positives/Total number of predicted positives = True Positives/[True Positives+False positives]\n",
    "\n",
    "**Recall:** Of all the patients that actually have cancer, what fraction did we correctly detect as having cancer?\n",
    "\n",
    "True Positives/Total number of actual positives = True Positives/[True Positives+False negatives]\n",
    "\n",
    "These two metrics give us a better sense of how our classifier is doing. We want both precision and recall to be high.\n",
    "\n",
    "In the example at the beginning of the section, if we classify all patients as 0, then our recall will be $0/(0+f)=0$, so despite having a lower error percentage, we can quickly see it has worse recall.\n",
    "\n",
    "Note 1: if an algorithm predicts only negatives like it does in one of exercises, the precision is not defined, it is impossible to divide by 0. F1 score will not be defined too.\n",
    "\n",
    "\n",
    "\n",
    "**Trading Off Precision and Recall**\n",
    "\n",
    "We might want a confident prediction of two classes using logistic regression. One way is to increase our threshold:\n",
    "\n",
    "Predict 1 if: $hθ(x)≥0.7$\n",
    "\n",
    "Predict 0 if: $hθ(x)<0.7$\n",
    "\n",
    "This way, we only predict cancer if the patient has a 70% chance.\n",
    "\n",
    "Doing this, we will have higher precision but lower recall (refer to the definitions in the previous section).\n",
    "\n",
    "In the opposite example, we can lower our threshold:\n",
    "\n",
    "Predict 1 if: $hθ(x)≥0.3$\n",
    "\n",
    "Predict 0 if: $hθ(x)<0.3$\n",
    "\n",
    "That way, we get a very safe prediction. This will cause higher recall but lower precision.\n",
    "\n",
    "The greater the threshold, the greater the precision and the lower the recall.\n",
    "\n",
    "The lower the threshold, the greater the recall and the lower the precision.\n",
    "\n",
    "In order to turn these two metrics into one single number, we can take the F value.\n",
    "\n",
    "One way is to take the average:\n",
    "\n",
    "$(P+R) / 2$\n",
    "\n",
    "This does not work well. If we predict all y=0 then that will bring the average up despite having 0 recall. If we predict all examples as y=1, then the very high recall will bring up the average despite having 0 precision.\n",
    "\n",
    "A better way is to compute the F Score (or F1 score):\n",
    "\n",
    "$F Score = 2*PR/(P+R)$\n",
    "\n",
    "In order for the F Score to be large, both precision and recall must be large.\n",
    "\n",
    "We want to train precision and recall on the cross validation set so as not to bias our test set.\n",
    "\n"
   ]
  },
  {
   "cell_type": "markdown",
   "metadata": {
    "collapsed": true
   },
   "source": [
    "\n",
    "**One of the best ways to evaluate how a classifier performs is an ROC curve.**\n",
    "\n",
    "The ROC is also known as a relative operating characteristic curve, because it is a comparison of two operating characteristics (TPR and FPR) as the criterion changes.\n",
    "\n",
    "A receiver operating characteristic (ROC), or ROC curve, is a graphical plot that illustrates the performance of a binary classifier system as its discrimination threshold is varied. The curve is created by plotting the true positive rate (TPR) against the false positive rate (FPR) at various threshold settings.\n",
    "\n",
    "   * The true-positive rate is also known as sensitivity, or recall in machine learning.\n",
    "   * The false-positive rate is also known as the fall-out and can be calculated as (1 - specificity)\n",
    "\n",
    "The ROC curve is thus the sensitivity as a function of fall-out. \n",
    "\n",
    "In general, if the probability distributions for both detection and false alarm are known, the ROC curve can be generated by plotting the cumulative distribution function (area under the probability distribution from $-\\infty $ to the discrimination threshold) of the detection probability in the y-axis versus the cumulative distribution function of the false-alarm probability in x-axis.\n",
    "\n",
    "ROC analysis provides tools to select possibly optimal models and to discard suboptimal ones independently from (and prior to specifying) the cost context or the class distribution. ROC analysis is related in a direct and natural way to cost/benefit analysis of diagnostic decision making.\n",
    "\n",
    "The ROC curve was first developed by electrical engineers and radar engineers during World War II for detecting enemy objects in battlefields ---> (Elo, eas eas ..)\n",
    "\n",
    "**True positive rate**\n",
    "\n",
    "```\n",
    " number of true positives     number correctly predicted positive\n",
    "-------------------------- = -------------------------------------\n",
    " number of positive cases           number of positive cases\n",
    "```\n",
    "\n",
    "**False positive rate**\n",
    "\n",
    "```\n",
    " number of false positives     number incorrectly predicted positive\n",
    "--------------------------- = ---------------------------------------\n",
    "  number of negative cases           number of negative cases\n",
    "```\n",
    "\n",
    "ROC curve demonstrates several things:\n",
    "\n",
    "It shows the tradeoff between sensitivity and specificity (any increase in sensitivity will be accompanied by a decrease in specificity).\n",
    "The closer the curve follows the left-hand border and then the top border of the ROC space, the more accurate the test.\n",
    "The closer the curve comes to the 45-degree diagonal of the ROC space, the less accurate the test.\n",
    "The slope of the tangent line at a cutpoint gives the likelihood ratio (LR) for that value of the test. You can check this out on the graph above. Recall that the LR for T4 < 5 is 52. This corresponds to the far left, steep portion of the curve. The LR for T4 > 9 is 0.2. This corresponds to the far right, nearly horizontal portion of the curve.\n",
    "The area under the curve is a measure of text accuracy.\n",
    "    \n",
    "Accuracy is measured by the area under the ROC curve. An area of 1 represents a perfect test; an area of .5 represents a worthless test. A rough guide for classifying the accuracy of a diagnostic test is the traditional academic point system:\n",
    "\n",
    "    .90-1 = excellent (A)\n",
    "    .80-.90 = good (B)\n",
    "    .70-.80 = fair (C)\n",
    "    .60-.70 = poor (D)\n",
    "    .50-.60 = fail (F)\n",
    "\n",
    "The True Positive Rate answers the question:\n",
    "\n",
    "\"When the actual classification is positive, how often does the classfier predict positive?\" \n",
    "\n",
    "The False Positive Rate answers the question:\n",
    "\n",
    "\"When the actual classification is negative, how often does the classifier incorrectly predict positive?\" \n",
    "\n",
    "\n",
    "Both the True Positive Rate and the False Positive Rate range from 0 to 1."
   ]
  },
  {
   "cell_type": "markdown",
   "metadata": {},
   "source": [
    "---\n",
    "\n"
   ]
  },
  {
   "cell_type": "code",
   "execution_count": 1,
   "metadata": {
    "collapsed": false
   },
   "outputs": [],
   "source": [
    "from __future__ import division\n",
    "\n",
    "from statsmodels.discrete.discrete_model import Logit\n",
    "from statsmodels.api import add_constant\n",
    "\n",
    "from sklearn.datasets import make_classification\n",
    "from sklearn.linear_model import LogisticRegression\n",
    "from sklearn.cross_validation import train_test_split, KFold\n",
    "from sklearn.metrics import roc_curve, accuracy_score, average_precision_score\n",
    "from sklearn.metrics import precision_score, recall_score, roc_auc_score\n",
    "from sklearn.metrics import auc as AUC_\n",
    "from sklearn import preprocessing\n",
    "from pandas.tools.plotting import scatter_matrix\n",
    "\n",
    "import pdb\n",
    "import matplotlib.pyplot as plt\n",
    "import numpy as np\n",
    "import pandas as pd\n",
    "\n",
    "plt.style.use('ggplot')\n",
    "%matplotlib inline\n"
   ]
  },
  {
   "cell_type": "markdown",
   "metadata": {},
   "source": [
    "---\n"
   ]
  },
  {
   "cell_type": "markdown",
   "metadata": {},
   "source": [
    "**Random df - make_classification**\n",
    "\n",
    "A classification model (classifier or diagnosis) is a mapping of instances between certain classes/groups. The classifier or diagnosis result can be a real value (continuous output), in which case the classifier boundary between classes must be determined by a threshold value.\n",
    "\n",
    "Let us consider a two-class prediction problem (binary classification), in which the outcomes are labeled either as positive (p) or negative (n). There are four possible outcomes from a binary classifier. If the outcome from a prediction is p and the actual value is also p, then it is called a true positive (TP); however if the actual value is n then it is said to be a false positive (FP). Conversely, a true negative (TN) has occurred when both the prediction outcome and the actual value are n, and false negative (FN) is when the prediction outcome is n while the actual value is p.\n"
   ]
  },
  {
   "cell_type": "code",
   "execution_count": 6,
   "metadata": {
    "collapsed": true
   },
   "outputs": [],
   "source": [
    "X_, y_ = make_classification(n_features=2, n_redundant=0, n_informative=2, n_clusters_per_class=2, n_samples=1000)\n",
    "X_train_, X_test_, y_train_, y_test_ = train_test_split(X_, y_)"
   ]
  },
  {
   "cell_type": "code",
   "execution_count": 7,
   "metadata": {
    "collapsed": false
   },
   "outputs": [
    {
     "data": {
      "text/plain": [
       "LogisticRegression(C=1.0, class_weight=None, dual=False, fit_intercept=True,\n",
       "          intercept_scaling=1, max_iter=100, multi_class='ovr', n_jobs=1,\n",
       "          penalty='l2', random_state=None, solver='liblinear', tol=0.0001,\n",
       "          verbose=0, warm_start=False)"
      ]
     },
     "execution_count": 7,
     "metadata": {},
     "output_type": "execute_result"
    }
   ],
   "source": [
    "model_ = LogisticRegression()\n",
    "model_.fit(X_train_, y_train_)"
   ]
  },
  {
   "cell_type": "code",
   "execution_count": 8,
   "metadata": {
    "collapsed": false
   },
   "outputs": [],
   "source": [
    "probabilities_ = model_.predict_proba(X_test_)[:,1] # Returns [n_samples, n_classes], I just need n_classes."
   ]
  },
  {
   "cell_type": "code",
   "execution_count": 86,
   "metadata": {
    "collapsed": false
   },
   "outputs": [],
   "source": [
    "def elo_roc_curve(labels, probabilities):\n",
    "    tprs, fprs, thresholds = [], [], []\n",
    "    \n",
    "    sort_index = probabilities.argsort()\n",
    "    sorted_probabilities = probabilities[sort_index]\n",
    "    sorted_labels = labels[sort_index]\n",
    "    \n",
    "    for probability in sorted_probabilities:\n",
    "        \n",
    "        pos_count_total = sum(sorted_probabilities >= probability)\n",
    "        pos_count_true = sum(sorted_labels[sorted_probabilities >= probability])\n",
    "        pos_count_false = len(sorted_labels[sorted_probabilities >= probability]) - pos_count_true\n",
    "        \n",
    "        tprs.append(pos_count_true / float(sum(sorted_labels > 0 )))\n",
    "        fprs.append(pos_count_false / float(sum(sorted_labels < 1)))\n",
    "        thresholds.append(probability)\n",
    "        \n",
    "        \n",
    "    plt.scatter(fprs, tprs, c=thresholds)\n",
    "    plt.axvline(.4, color='b', ls='dashed')\n",
    "    plt.axhline(.6, color= 'b')\n",
    "    plt.xlabel('False Positive Rate (1 - Specificity) - [FP/(FP + TN)]')\n",
    "    plt.ylabel('True Positive Rate (Sensitivity, Recall) - [TP/ (TP + FN)]')\n",
    "    plt.title('ROC plot')\n",
    "    plt.plot([0, 1], [0, 1], 'r--')\n",
    "    plt.grid(True)\n",
    "    plt.colorbar()\n",
    "    plt.show()\n",
    "\n",
    "\n",
    "    return fprs, tprs, thresholds\n",
    "        "
   ]
  },
  {
   "cell_type": "code",
   "execution_count": 87,
   "metadata": {
    "collapsed": false
   },
   "outputs": [
    {
     "data": {
      "image/png": "[encoded data removed]",
      "text/plain": [
       "<matplotlib.figure.Figure at 0x11d4d9e50>"
      ]
     },
     "metadata": {},
     "output_type": "display_data"
    }
   ],
   "source": [
    "fprs_, tprs_, thresholds_ = elo_roc_curve(y_test_, probabilities_) "
   ]
  },
  {
   "cell_type": "markdown",
   "metadata": {},
   "source": [
    "---\n",
    "### Using Sklearn -roc_curve\n"
   ]
  },
  {
   "cell_type": "code",
   "execution_count": 11,
   "metadata": {
    "collapsed": false
   },
   "outputs": [],
   "source": [
    "def plot_skl_roc_curve(y_test, probabilities):\n",
    "    \n",
    "    FPR, TPR, threshold = roc_curve(y_test, probabilities)\n",
    "    \n",
    "    plt.scatter(FPR, TPR, c=threshold)\n",
    "    plt.axvline(.4, color='b', ls='dashed')\n",
    "    plt.axhline(.6, color= 'b')\n",
    "    plt.xlabel('False Positive Rate (1 - Specificity) - [FP/(FP + TN)]')\n",
    "    plt.ylabel('True Positive Rate (Sensitivity, Recall) - [TP/ (TP + FN)]')\n",
    "    plt.title('ROC plot')\n",
    "    plt.colorbar()\n",
    "    plt.plot([0, 1], [0, 1], 'r--')\n",
    "    plt.show()\n",
    "    \n",
    "    return FPR, TPR, threshold"
   ]
  },
  {
   "cell_type": "code",
   "execution_count": 12,
   "metadata": {
    "collapsed": false
   },
   "outputs": [
    {
     "data": {
      "image/png": "[encoded data removed]",
      "text/plain": [
       "<matplotlib.figure.Figure at 0x11bbfaa50>"
      ]
     },
     "metadata": {},
     "output_type": "display_data"
    },
    {
     "data": {
      "text/plain": [
       "(array([ 0.        ,  0.        ,  0.01515152,  0.01515152,  0.02272727,\n",
       "         0.02272727,  0.03030303,  0.03030303,  0.03787879,  0.03787879,\n",
       "         0.04545455,  0.04545455,  0.0530303 ,  0.0530303 ,  0.06060606,\n",
       "         0.06060606,  0.06818182,  0.06818182,  0.07575758,  0.07575758,\n",
       "         0.08333333,  0.08333333,  0.09090909,  0.09090909,  0.09848485,\n",
       "         0.09848485,  0.13636364,  0.13636364,  0.15909091,  0.15909091,\n",
       "         0.16666667,  0.16666667,  0.20454545,  0.20454545,  0.21212121,\n",
       "         0.21212121,  0.25      ,  0.25      ,  0.28787879,  0.28787879,\n",
       "         0.33333333,  0.33333333,  0.37121212,  0.37121212,  0.40909091,\n",
       "         0.40909091,  0.61363636,  0.61363636,  0.71212121,  0.71212121,  1.        ]),\n",
       " array([ 0.00847458,  0.16101695,  0.16101695,  0.22881356,  0.22881356,\n",
       "         0.31355932,  0.31355932,  0.33898305,  0.33898305,  0.53389831,\n",
       "         0.53389831,  0.61016949,  0.61016949,  0.66101695,  0.66101695,\n",
       "         0.66949153,  0.66949153,  0.6779661 ,  0.6779661 ,  0.75423729,\n",
       "         0.75423729,  0.81355932,  0.81355932,  0.8220339 ,  0.8220339 ,\n",
       "         0.83050847,  0.83050847,  0.84745763,  0.84745763,  0.88983051,\n",
       "         0.88983051,  0.89830508,  0.89830508,  0.90677966,  0.90677966,\n",
       "         0.91525424,  0.91525424,  0.94915254,  0.94915254,  0.95762712,\n",
       "         0.95762712,  0.96610169,  0.96610169,  0.97457627,  0.97457627,\n",
       "         0.98305085,  0.98305085,  0.99152542,  0.99152542,  1.        ,  1.        ]),\n",
       " array([  9.99488605e-01,   9.84392702e-01,   9.83250444e-01,\n",
       "          9.74746011e-01,   9.74014506e-01,   9.64201666e-01,\n",
       "          9.63266892e-01,   9.53461265e-01,   9.48218058e-01,\n",
       "          8.89006574e-01,   8.84605570e-01,   8.64281585e-01,\n",
       "          8.62212529e-01,   8.23140429e-01,   8.18012099e-01,\n",
       "          8.15664656e-01,   8.00651540e-01,   7.99357286e-01,\n",
       "          7.98420321e-01,   7.22954839e-01,   7.03467343e-01,\n",
       "          6.59594678e-01,   6.55473206e-01,   6.49788845e-01,\n",
       "          6.43515734e-01,   6.36547240e-01,   6.01787964e-01,\n",
       "          5.77811202e-01,   5.62130712e-01,   4.80938879e-01,\n",
       "          4.76887289e-01,   4.55587570e-01,   3.93290318e-01,\n",
       "          3.68968987e-01,   3.68076484e-01,   3.66511825e-01,\n",
       "          3.51127540e-01,   3.00734906e-01,   2.46208480e-01,\n",
       "          2.21119637e-01,   1.78969605e-01,   1.72201670e-01,\n",
       "          1.45994223e-01,   1.43794376e-01,   1.17918736e-01,\n",
       "          1.17573786e-01,   5.88651646e-02,   5.46847182e-02,\n",
       "          2.49728110e-02,   2.38894836e-02,   8.32532804e-05]))"
      ]
     },
     "execution_count": 12,
     "metadata": {},
     "output_type": "execute_result"
    }
   ],
   "source": [
    "plot_skl_roc_curve(y_test_, probabilities_)"
   ]
  },
  {
   "cell_type": "markdown",
   "metadata": {
    "collapsed": true
   },
   "source": [
    "---\n",
    "### The FICO Score df\n"
   ]
  },
  {
   "cell_type": "code",
   "execution_count": 13,
   "metadata": {
    "collapsed": false
   },
   "outputs": [],
   "source": [
    "df_ = pd.read_csv('data/loanf.csv')\n",
    "y_fico = (df_['Interest.Rate'] <= 12).values\n",
    "X_fico = df_[['FICO.Score', 'Loan.Length', 'Loan.Amount']].values"
   ]
  },
  {
   "cell_type": "code",
   "execution_count": 14,
   "metadata": {
    "collapsed": false
   },
   "outputs": [],
   "source": [
    "X_train_f, X_test_f, y_train_f, y_test_f = train_test_split(X_fico, y_fico)\n",
    "\n",
    "model_f = LogisticRegression()\n",
    "model_f.fit(X_train_f, y_train_f)\n",
    "probabilities_f = model_f.predict_proba(X_test_f)[:, 1]"
   ]
  },
  {
   "cell_type": "code",
   "execution_count": 15,
   "metadata": {
    "collapsed": false
   },
   "outputs": [
    {
     "data": {
      "image/png": "[encoded data removed]",
      "text/plain": [
       "<matplotlib.figure.Figure at 0x11bc696d0>"
      ]
     },
     "metadata": {},
     "output_type": "display_data"
    }
   ],
   "source": [
    "fpr_f, tpr_f, thresholds_f = plot_skl_roc_curve(y_test_f, probabilities_f)"
   ]
  },
  {
   "cell_type": "code",
   "execution_count": 16,
   "metadata": {
    "collapsed": false
   },
   "outputs": [
    {
     "name": "stdout",
     "output_type": "stream",
     "text": [
      "Model Score: 0.784\n",
      "Recall score: 0.756862745098\n",
      "Precision: 0.725563909774\n",
      "-----\n"
     ]
    }
   ],
   "source": [
    "print \"Model Score: {}\".format(model_f.score(X_test_f, y_test_f))\n",
    "print \"Recall score: {}\".format(recall_score(y_test_f, model_f.predict(X_test_f)))\n",
    "print \"Precision: {}\".format(precision_score(y_test_f, model_f.predict(X_test_f)))\n",
    "print \"-----\"\n"
   ]
  },
  {
   "cell_type": "markdown",
   "metadata": {
    "collapsed": true
   },
   "source": [
    "---\n",
    "### Df graduate school admissions.\n",
    "\n",
    "* `admit`: whether or not the applicant was admitted to grad. school\n",
    "* `gpa`: undergraduate GPA\n",
    "* `gre`: score of GRE test\n",
    "* `rank`: prestige of undergraduate school (1 is highest prestige, ala Harvard)\n",
    "\n",
    "Using the GPA, GRE, and rank of the applicants let's predict whether or not they will be accepted into graduate school.\n"
   ]
  },
  {
   "cell_type": "code",
   "execution_count": 17,
   "metadata": {
    "collapsed": true
   },
   "outputs": [],
   "source": [
    "df = pd.read_csv('data/grad.csv')  "
   ]
  },
  {
   "cell_type": "code",
   "execution_count": 18,
   "metadata": {
    "collapsed": false
   },
   "outputs": [
    {
     "data": {
      "text/html": [
       "<div>\n",
       "<table border=\"1\" class=\"dataframe\">\n",
       "  <thead>\n",
       "    <tr style=\"text-align: right;\">\n",
       "      <th></th>\n",
       "      <th>admit</th>\n",
       "      <th>gre</th>\n",
       "      <th>gpa</th>\n",
       "      <th>rank</th>\n",
       "    </tr>\n",
       "  </thead>\n",
       "  <tbody>\n",
       "    <tr>\n",
       "      <th>0</th>\n",
       "      <td>0</td>\n",
       "      <td>380</td>\n",
       "      <td>3.61</td>\n",
       "      <td>3</td>\n",
       "    </tr>\n",
       "    <tr>\n",
       "      <th>1</th>\n",
       "      <td>1</td>\n",
       "      <td>660</td>\n",
       "      <td>3.67</td>\n",
       "      <td>3</td>\n",
       "    </tr>\n",
       "  </tbody>\n",
       "</table>\n",
       "</div>"
      ],
      "text/plain": [
       "   admit  gre   gpa  rank\n",
       "0      0  380  3.61     3\n",
       "1      1  660  3.67     3"
      ]
     },
     "execution_count": 18,
     "metadata": {},
     "output_type": "execute_result"
    }
   ],
   "source": [
    "df[:2]"
   ]
  },
  {
   "cell_type": "code",
   "execution_count": 19,
   "metadata": {
    "collapsed": false
   },
   "outputs": [
    {
     "data": {
      "text/html": [
       "<div>\n",
       "<table border=\"1\" class=\"dataframe\">\n",
       "  <thead>\n",
       "    <tr style=\"text-align: right;\">\n",
       "      <th></th>\n",
       "      <th>admit</th>\n",
       "      <th>gre</th>\n",
       "      <th>gpa</th>\n",
       "      <th>rank</th>\n",
       "    </tr>\n",
       "  </thead>\n",
       "  <tbody>\n",
       "    <tr>\n",
       "      <th>count</th>\n",
       "      <td>400.000000</td>\n",
       "      <td>400.000000</td>\n",
       "      <td>400.000000</td>\n",
       "      <td>400.00000</td>\n",
       "    </tr>\n",
       "    <tr>\n",
       "      <th>mean</th>\n",
       "      <td>0.317500</td>\n",
       "      <td>587.700000</td>\n",
       "      <td>3.389900</td>\n",
       "      <td>2.48500</td>\n",
       "    </tr>\n",
       "    <tr>\n",
       "      <th>std</th>\n",
       "      <td>0.466087</td>\n",
       "      <td>115.516536</td>\n",
       "      <td>0.380567</td>\n",
       "      <td>0.94446</td>\n",
       "    </tr>\n",
       "    <tr>\n",
       "      <th>min</th>\n",
       "      <td>0.000000</td>\n",
       "      <td>220.000000</td>\n",
       "      <td>2.260000</td>\n",
       "      <td>1.00000</td>\n",
       "    </tr>\n",
       "    <tr>\n",
       "      <th>25%</th>\n",
       "      <td>0.000000</td>\n",
       "      <td>520.000000</td>\n",
       "      <td>3.130000</td>\n",
       "      <td>2.00000</td>\n",
       "    </tr>\n",
       "    <tr>\n",
       "      <th>50%</th>\n",
       "      <td>0.000000</td>\n",
       "      <td>580.000000</td>\n",
       "      <td>3.395000</td>\n",
       "      <td>2.00000</td>\n",
       "    </tr>\n",
       "    <tr>\n",
       "      <th>75%</th>\n",
       "      <td>1.000000</td>\n",
       "      <td>660.000000</td>\n",
       "      <td>3.670000</td>\n",
       "      <td>3.00000</td>\n",
       "    </tr>\n",
       "    <tr>\n",
       "      <th>max</th>\n",
       "      <td>1.000000</td>\n",
       "      <td>800.000000</td>\n",
       "      <td>4.000000</td>\n",
       "      <td>4.00000</td>\n",
       "    </tr>\n",
       "  </tbody>\n",
       "</table>\n",
       "</div>"
      ],
      "text/plain": [
       "            admit         gre         gpa       rank\n",
       "count  400.000000  400.000000  400.000000  400.00000\n",
       "mean     0.317500  587.700000    3.389900    2.48500\n",
       "std      0.466087  115.516536    0.380567    0.94446\n",
       "min      0.000000  220.000000    2.260000    1.00000\n",
       "25%      0.000000  520.000000    3.130000    2.00000\n",
       "50%      0.000000  580.000000    3.395000    2.00000\n",
       "75%      1.000000  660.000000    3.670000    3.00000\n",
       "max      1.000000  800.000000    4.000000    4.00000"
      ]
     },
     "execution_count": 19,
     "metadata": {},
     "output_type": "execute_result"
    }
   ],
   "source": [
    "df.describe()"
   ]
  },
  {
   "cell_type": "code",
   "execution_count": 20,
   "metadata": {
    "collapsed": false
   },
   "outputs": [],
   "source": [
    "admit = pd.crosstab(df.admit, df['rank'])"
   ]
  },
  {
   "cell_type": "code",
   "execution_count": 21,
   "metadata": {
    "collapsed": false
   },
   "outputs": [
    {
     "data": {
      "text/html": [
       "<div>\n",
       "<table border=\"1\" class=\"dataframe\">\n",
       "  <thead>\n",
       "    <tr style=\"text-align: right;\">\n",
       "      <th>rank</th>\n",
       "      <th>1</th>\n",
       "      <th>2</th>\n",
       "      <th>3</th>\n",
       "      <th>4</th>\n",
       "    </tr>\n",
       "    <tr>\n",
       "      <th>admit</th>\n",
       "      <th></th>\n",
       "      <th></th>\n",
       "      <th></th>\n",
       "      <th></th>\n",
       "    </tr>\n",
       "  </thead>\n",
       "  <tbody>\n",
       "    <tr>\n",
       "      <th>0</th>\n",
       "      <td>28</td>\n",
       "      <td>97</td>\n",
       "      <td>93</td>\n",
       "      <td>55</td>\n",
       "    </tr>\n",
       "    <tr>\n",
       "      <th>1</th>\n",
       "      <td>33</td>\n",
       "      <td>54</td>\n",
       "      <td>28</td>\n",
       "      <td>12</td>\n",
       "    </tr>\n",
       "  </tbody>\n",
       "</table>\n",
       "</div>"
      ],
      "text/plain": [
       "rank    1   2   3   4\n",
       "admit                \n",
       "0      28  97  93  55\n",
       "1      33  54  28  12"
      ]
     },
     "execution_count": 21,
     "metadata": {},
     "output_type": "execute_result"
    }
   ],
   "source": [
    "admit"
   ]
  },
  {
   "cell_type": "code",
   "execution_count": 22,
   "metadata": {
    "collapsed": false
   },
   "outputs": [
    {
     "data": {
      "image/png": "[encoded data removed]",
      "text/plain": [
       "<matplotlib.figure.Figure at 0x11bcd30d0>"
      ]
     },
     "metadata": {},
     "output_type": "display_data"
    }
   ],
   "source": [
    "(admit / admit.apply(sum)).plot(kind=\"bar\"); # the rank is the school's prestige. "
   ]
  },
  {
   "cell_type": "code",
   "execution_count": 23,
   "metadata": {
    "collapsed": false
   },
   "outputs": [
    {
     "data": {
      "image/png": "[encoded data removed]",
      "text/plain": [
       "<matplotlib.figure.Figure at 0x11bc9b650>"
      ]
     },
     "metadata": {},
     "output_type": "display_data"
    }
   ],
   "source": [
    "df.hist();"
   ]
  },
  {
   "cell_type": "code",
   "execution_count": 24,
   "metadata": {
    "collapsed": false
   },
   "outputs": [
    {
     "data": {
      "text/plain": [
       "127"
      ]
     },
     "execution_count": 24,
     "metadata": {},
     "output_type": "execute_result"
    }
   ],
   "source": [
    "df[df.admit == 1].admit.count()"
   ]
  },
  {
   "cell_type": "markdown",
   "metadata": {},
   "source": [
    "One of the problem with classification is **unbalanced classes**.\n",
    "\n",
    "When dealing with data where the label could potentially be something that is biased one way or the other (such as acceptance, fraud, signups, anything where one label is more preferential to the other or deals with some measure of \"success\") "
   ]
  },
  {
   "cell_type": "code",
   "execution_count": 25,
   "metadata": {
    "collapsed": false
   },
   "outputs": [
    {
     "name": "stdout",
     "output_type": "stream",
     "text": [
      "0    0.6825\n",
      "1    0.3175\n",
      "Name: admit, dtype: float64\n"
     ]
    }
   ],
   "source": [
    "print df['admit'].value_counts() / len(df)"
   ]
  },
  {
   "cell_type": "markdown",
   "metadata": {},
   "source": [
    "The natural log of the odds ratio is the logit.\n",
    "\n",
    "The logit is the link funcion that ties together our linear combination of variables and the bernoulli distribution.\n",
    "\n",
    "The p-values for the beta coefficients. We would like these to be significant."
   ]
  },
  {
   "cell_type": "code",
   "execution_count": 26,
   "metadata": {
    "collapsed": false
   },
   "outputs": [
    {
     "name": "stdout",
     "output_type": "stream",
     "text": [
      "Optimization terminated successfully.\n",
      "         Current function value: 0.574302\n",
      "         Iterations 6\n",
      "                           Logit Regression Results                           \n",
      "==============================================================================\n",
      "Dep. Variable:                  admit   No. Observations:                  400\n",
      "Model:                          Logit   Df Residuals:                      396\n",
      "Method:                           MLE   Df Model:                            3\n",
      "Date:                Wed, 10 Aug 2016   Pseudo R-squ.:                 0.08107\n",
      "Time:                        18:06:58   Log-Likelihood:                -229.72\n",
      "converged:                       True   LL-Null:                       -249.99\n",
      "                                        LLR p-value:                 8.207e-09\n",
      "==============================================================================\n",
      "                 coef    std err          z      P>|z|      [95.0% Conf. Int.]\n",
      "------------------------------------------------------------------------------\n",
      "const         -3.4495      1.133     -3.045      0.002        -5.670    -1.229\n",
      "gre            0.0023      0.001      2.101      0.036         0.000     0.004\n",
      "gpa            0.7770      0.327      2.373      0.018         0.135     1.419\n",
      "rank          -0.5600      0.127     -4.405      0.000        -0.809    -0.311\n",
      "==============================================================================\n"
     ]
    }
   ],
   "source": [
    "logit = Logit(df.admit, add_constant(df.drop('admit', axis=1)))\n",
    "\n",
    "print logit.fit().summary()"
   ]
  },
  {
   "cell_type": "code",
   "execution_count": 27,
   "metadata": {
    "collapsed": false
   },
   "outputs": [
    {
     "name": "stdout",
     "output_type": "stream",
     "text": [
      "Optimization terminated successfully.\n",
      "         Current function value: 0.579917\n",
      "         Iterations 5\n",
      "                           Logit Regression Results                           \n",
      "==============================================================================\n",
      "Dep. Variable:                  admit   No. Observations:                  400\n",
      "Model:                          Logit   Df Residuals:                      397\n",
      "Method:                           MLE   Df Model:                            2\n",
      "Date:                Wed, 10 Aug 2016   Pseudo R-squ.:                 0.07209\n",
      "Time:                        18:06:59   Log-Likelihood:                -231.97\n",
      "converged:                       True   LL-Null:                       -249.99\n",
      "                                        LLR p-value:                 1.491e-08\n",
      "==============================================================================\n",
      "                 coef    std err          z      P>|z|      [95.0% Conf. Int.]\n",
      "------------------------------------------------------------------------------\n",
      "const         -2.8826      1.092     -2.641      0.008        -5.022    -0.743\n",
      "gpa            1.0270      0.306      3.352      0.001         0.427     1.628\n",
      "rank          -0.5822      0.126     -4.609      0.000        -0.830    -0.335\n",
      "==============================================================================\n"
     ]
    }
   ],
   "source": [
    "logit_1 = Logit(df.admit, add_constant(df[['gpa','rank']]))\n",
    "print logit_1.fit().summary()"
   ]
  },
  {
   "cell_type": "code",
   "execution_count": 28,
   "metadata": {
    "collapsed": false
   },
   "outputs": [
    {
     "data": {
      "image/png": "[encoded data removed]",
      "text/plain": [
       "<matplotlib.figure.Figure at 0x11d4d0050>"
      ]
     },
     "metadata": {},
     "output_type": "display_data"
    }
   ],
   "source": [
    "scatter_matrix(df);"
   ]
  },
  {
   "cell_type": "code",
   "execution_count": 29,
   "metadata": {
    "collapsed": true
   },
   "outputs": [],
   "source": [
    "def accu_preci_recall_kfold(X, y, k):\n",
    "   \n",
    "    kfold = KFold(len(y), n_folds=k, shuffle=True)\n",
    "    \n",
    "    suma = 0\n",
    "    \n",
    "    accuracies = []\n",
    "    precisions = []\n",
    "    recalls = []\n",
    "    auc=[]\n",
    "    \n",
    "    for train_index, test_index in kfold:\n",
    " \n",
    "        model = LogisticRegression()\n",
    "        model.fit(X[train_index], y[train_index])\n",
    "        \n",
    "        y_predict = model.predict(X[test_index])\n",
    "        y_true = y[test_index]\n",
    "        \n",
    "        accuracies.append(accuracy_score(y_true, y_predict))\n",
    "        precisions.append(precision_score(y_true, y_predict))\n",
    "        recalls.append(recall_score(y_true, y_predict))\n",
    "        \n",
    "        probabilities = model.predict_proba(X[test_index])[:, 1]\n",
    "        fpr, tpr, thresholds = roc_curve(y[test_index], probabilities)\n",
    "        auc.append(AUC_(fpr, tpr))\n",
    "        \n",
    "        \n",
    "        suma += 1\n",
    "        \n",
    "        \n",
    "        print '----- K_fold: {} -----'.format(suma)\n",
    "        print 'AUC: ', AUC_(fpr, tpr)\n",
    "        print 'Model Score - accuracy: {} '.format(model.score(X[test_index], y[test_index]))\n",
    "        print 'Precision: {}'.format(precision_score(y[test_index], model.predict(X[test_index])))\n",
    "        print 'Recall : {}'.format(recall_score(y[test_index], model.predict(X[test_index])))\n",
    "        print ''\n",
    "        \n",
    "    print '----- Average -----'   \n",
    "    print 'AUC:', np.mean(auc)\n",
    "    print 'accuracy: ', np.mean(accuracies)\n",
    "    print 'precision:', np.mean(precisions)\n",
    "    print 'recall:', np.mean(recalls)\n",
    "    "
   ]
  },
  {
   "cell_type": "code",
   "execution_count": 30,
   "metadata": {
    "collapsed": true
   },
   "outputs": [],
   "source": [
    "X = df.drop('admit', axis=1).as_matrix()\n",
    "y = df.admit.as_matrix()"
   ]
  },
  {
   "cell_type": "code",
   "execution_count": 31,
   "metadata": {
    "collapsed": false
   },
   "outputs": [
    {
     "name": "stdout",
     "output_type": "stream",
     "text": [
      "----- K_fold: 1 -----\n",
      "AUC:  0.668064290706\n",
      "Model Score - accuracy: 0.7125 \n",
      "Precision: 0.666666666667\n",
      "Recall : 0.296296296296\n",
      "\n",
      "----- K_fold: 2 -----\n",
      "AUC:  0.710526315789\n",
      "Model Score - accuracy: 0.775 \n",
      "Precision: 0.571428571429\n",
      "Recall : 0.210526315789\n",
      "\n",
      "----- K_fold: 3 -----\n",
      "AUC:  0.678272082527\n",
      "Model Score - accuracy: 0.6375 \n",
      "Precision: 0.833333333333\n",
      "Recall : 0.151515151515\n",
      "\n",
      "----- K_fold: 4 -----\n",
      "AUC:  0.69592476489\n",
      "Model Score - accuracy: 0.7 \n",
      "Precision: 0.333333333333\n",
      "Recall : 0.0909090909091\n",
      "\n",
      "----- K_fold: 5 -----\n",
      "AUC:  0.639601139601\n",
      "Model Score - accuracy: 0.6875 \n",
      "Precision: 0.538461538462\n",
      "Recall : 0.269230769231\n",
      "\n",
      "----- Average -----\n",
      "AUC: 0.678477718703\n",
      "accuracy:  0.7025\n",
      "precision: 0.588644688645\n",
      "recall: 0.203695524748\n"
     ]
    }
   ],
   "source": [
    "accu_preci_recall_kfold(X, y, 5 )"
   ]
  },
  {
   "cell_type": "code",
   "execution_count": 32,
   "metadata": {
    "collapsed": true
   },
   "outputs": [],
   "source": [
    "def mean_auc_kfold_plot(X, y, nk):\n",
    "\n",
    "    mean_auc=[]\n",
    "    for k in range(2, nk):\n",
    "        kf = KFold(len(y), n_folds=k, shuffle=True)\n",
    "        auc=[]\n",
    "        for train_index, test_index in kf:\n",
    "            \n",
    "            X_train, X_test = X[train_index], X[test_index]\n",
    "            y_train, y_test = y[train_index], y[test_index]\n",
    "            \n",
    "            model = LogisticRegression()\n",
    "            model.fit(X_train, y_train)\n",
    "            \n",
    "            probabilities = model.predict_proba(X_test)[:, 1]\n",
    "            \n",
    "            fpr, tpr, thresholds = roc_curve(y_test, probabilities)\n",
    "            \n",
    "            auc.append(AUC_(fpr, tpr))\n",
    "            \n",
    "        mean_auc.append(np.mean(auc))\n",
    "\n",
    "    plt.plot(range(2, 20), mean_auc)\n",
    "    plt.xlabel('Number of Folds')\n",
    "    plt.ylabel('mean - Area under the curve - AUC')\n",
    "    plt.show()\n",
    "\n",
    "    return np.mean(auc)"
   ]
  },
  {
   "cell_type": "code",
   "execution_count": 33,
   "metadata": {
    "collapsed": false
   },
   "outputs": [
    {
     "data": {
      "image/png": "[encoded data removed]",
      "text/plain": [
       "<matplotlib.figure.Figure at 0x11bc69f90>"
      ]
     },
     "metadata": {},
     "output_type": "display_data"
    },
    {
     "data": {
      "text/plain": [
       "0.68795268649315533"
      ]
     },
     "execution_count": 33,
     "metadata": {},
     "output_type": "execute_result"
    }
   ],
   "source": [
    "mean_auc_kfold_plot(X, y, 20)"
   ]
  },
  {
   "cell_type": "code",
   "execution_count": 34,
   "metadata": {
    "collapsed": true
   },
   "outputs": [],
   "source": [
    "# rank column turn to binary, using get_dummies\n",
    "X = df.drop(['rank', 'admit'], axis=1).join(pd.get_dummies(df['rank'], prefix='rank').drop('rank_4', axis=1)).as_matrix()\n",
    "y = df['admit'].as_matrix()"
   ]
  },
  {
   "cell_type": "code",
   "execution_count": 35,
   "metadata": {
    "collapsed": false
   },
   "outputs": [],
   "source": [
    "X = df.drop('admit', axis=1).as_matrix()\n",
    "y = df.admit.as_matrix()"
   ]
  },
  {
   "cell_type": "code",
   "execution_count": 36,
   "metadata": {
    "collapsed": false
   },
   "outputs": [
    {
     "data": {
      "image/png": "[encoded data removed]",
      "text/plain": [
       "<matplotlib.figure.Figure at 0x11bfbbb90>"
      ]
     },
     "metadata": {},
     "output_type": "display_data"
    }
   ],
   "source": [
    "X_train, X_test, y_train, y_test = train_test_split(X, y)\n",
    "\n",
    "model = LogisticRegression()\n",
    "model.fit(X_train, y_train)\n",
    "\n",
    "probabilities = model.predict_proba(X_test)[:, 1]\n",
    "\n",
    "fprs, tprs, thresholds = plot_skl_roc_curve(y_test, probabilities) "
   ]
  },
  {
   "cell_type": "code",
   "execution_count": 37,
   "metadata": {
    "collapsed": true
   },
   "outputs": [],
   "source": [
    "def roc_curve_colors(y, prob):\n",
    "        \n",
    "    prange = np.linspace(0, 1, 250)\n",
    "    tpr = []\n",
    "    fpr = []\n",
    "    \n",
    "    for p in prange:\n",
    "        tp = ((prob >= p) & (y == 1)).sum()\n",
    "        fp = ((prob >= p) & (y == 0)).sum()\n",
    "        fn = ((prob < p) & (y == 1)).sum()\n",
    "        tn = ((prob < p) & (y == 0)).sum()\n",
    "        \n",
    "        tpr.append(tp * 1. / (tp + fn))\n",
    "        fpr.append(fp * 1. / (fp + tn))\n",
    "        \n",
    "    plt.scatter(fpr, tpr,  c=prange, edgecolor='none')\n",
    "    plt.axvline(.4, color='b', ls='dashed')\n",
    "    plt.axhline(.6, color= 'b')\n",
    "    plt.xlabel('False Positive Rate (1 - Specificity) - [FP/(FP + TN)]')\n",
    "    plt.ylabel('True Positive Rate (Sensitivity, Recall) - [TP/ (TP + FN)]')\n",
    "    plt.title('ROC plot')\n",
    "    plt.plot([0, 1], [0, 1], 'r--')\n",
    "    plt.grid(True)\n",
    "    plt.colorbar()\n",
    "    plt.show()\n",
    "        \n",
    "    return  fpr, tpr, prange"
   ]
  },
  {
   "cell_type": "code",
   "execution_count": 38,
   "metadata": {
    "collapsed": false
   },
   "outputs": [
    {
     "data": {
      "image/png": "[encoded data removed]",
      "text/plain": [
       "<matplotlib.figure.Figure at 0x11d6b0dd0>"
      ]
     },
     "metadata": {},
     "output_type": "display_data"
    }
   ],
   "source": [
    "fprs_c, tprs_c, thresholds_c = roc_curve_colors(y_test, probabilities) "
   ]
  },
  {
   "cell_type": "markdown",
   "metadata": {},
   "source": [
    "Threshold where TPR > 60% and FPR < 40%\n"
   ]
  },
  {
   "cell_type": "code",
   "execution_count": 39,
   "metadata": {
    "collapsed": false
   },
   "outputs": [
    {
     "data": {
      "text/plain": [
       "0.33407205071137408"
      ]
     },
     "execution_count": 39,
     "metadata": {},
     "output_type": "execute_result"
    }
   ],
   "source": [
    "np.array(thresholds)[(np.array(tprs) > .6) & (np.array(fprs) < .4)].mean()"
   ]
  },
  {
   "cell_type": "code",
   "execution_count": 40,
   "metadata": {
    "collapsed": false
   },
   "outputs": [
    {
     "data": {
      "text/plain": [
       "0.31526104417670686"
      ]
     },
     "execution_count": 40,
     "metadata": {},
     "output_type": "execute_result"
    }
   ],
   "source": [
    "np.array(thresholds_c)[(np.array(tprs_c) > .6) & (np.array(fprs_c) < .4)].mean()"
   ]
  },
  {
   "cell_type": "markdown",
   "metadata": {},
   "source": [
    "With a Threshold of 0.37 - 0.34:\n",
    "\n",
    "TPR = 73%\n",
    "FPR = 32%"
   ]
  },
  {
   "cell_type": "markdown",
   "metadata": {},
   "source": [
    "I want to maximize the TPR and don't care as much about the FPR. With a threshold of 0.37 - 0.34, we can get a TPR of 73%. The FPR will be 32%, but we are okay with this sacrifice in order to avoid false negatives."
   ]
  },
  {
   "cell_type": "code",
   "execution_count": 41,
   "metadata": {
    "collapsed": false
   },
   "outputs": [
    {
     "data": {
      "text/plain": [
       "44"
      ]
     },
     "execution_count": 41,
     "metadata": {},
     "output_type": "execute_result"
    }
   ],
   "source": [
    "len(zip(fprs, tprs, thresholds))"
   ]
  },
  {
   "cell_type": "code",
   "execution_count": 42,
   "metadata": {
    "collapsed": false
   },
   "outputs": [],
   "source": [
    "#zip(fprs, tprs, thresholds)"
   ]
  },
  {
   "cell_type": "code",
   "execution_count": 43,
   "metadata": {
    "collapsed": false
   },
   "outputs": [],
   "source": [
    "#zip(fprs_c, tprs_c, thresholds_c)"
   ]
  },
  {
   "cell_type": "markdown",
   "metadata": {},
   "source": [
    "A threshold of 0.22 will give us a fpr of 0.68, and a tpr of ~80%. This seems like a good compromise, as we'll capture most good students while cutting out the worst 40% or so."
   ]
  },
  {
   "cell_type": "markdown",
   "metadata": {},
   "source": [
    "---\n",
    "**Beta coefficients**"
   ]
  },
  {
   "cell_type": "code",
   "execution_count": 44,
   "metadata": {
    "collapsed": false
   },
   "outputs": [
    {
     "data": {
      "text/plain": [
       "array([[ 0.00177347,  0.37261313, -0.64381317]])"
      ]
     },
     "execution_count": 44,
     "metadata": {},
     "output_type": "execute_result"
    }
   ],
   "source": [
    "model.coef_"
   ]
  },
  {
   "cell_type": "code",
   "execution_count": 45,
   "metadata": {
    "collapsed": false
   },
   "outputs": [
    {
     "data": {
      "text/plain": [
       "array([[ 1.00177504,  1.45152268,  0.5252856 ]])"
      ]
     },
     "execution_count": 45,
     "metadata": {},
     "output_type": "execute_result"
    }
   ],
   "source": [
    "np.exp(model.coef_)"
   ]
  },
  {
   "cell_type": "markdown",
   "metadata": {},
   "source": [
    "The odds ratio from a one unit change in each feature. \n",
    "\n",
    "If your gre score is one point higher, your odds of getting admitted are 1.002 times greater. If your gpa is one point higher, your odds of being admitted are 1.23 times higher. If the school rank is one point higher, your odds of being admitted are 0.54 times lower."
   ]
  },
  {
   "cell_type": "code",
   "execution_count": 46,
   "metadata": {
    "collapsed": false
   },
   "outputs": [
    {
     "data": {
      "text/plain": [
       "array([[ 390.8428661 ,    1.86023284,   -1.07662784]])"
      ]
     },
     "execution_count": 46,
     "metadata": {},
     "output_type": "execute_result"
    }
   ],
   "source": [
    "np.log(2) / model.coef_ "
   ]
  },
  {
   "cell_type": "markdown",
   "metadata": {},
   "source": [
    "\n",
    "    *Increasing the GRE score by 361 points doubles the chance of getting in.*\n",
    "\n",
    "    *Increasing the GPA score by 3.22 points doubles the chance of getting in.*\n",
    "\n",
    "    *Decreasing (improving) the school rank by 1.15 doubles the chance of getting in.*\n"
   ]
  },
  {
   "cell_type": "markdown",
   "metadata": {},
   "source": [
    "---\n",
    "**Predicted Probabilities**\n"
   ]
  },
  {
   "cell_type": "code",
   "execution_count": 47,
   "metadata": {
    "collapsed": false
   },
   "outputs": [
    {
     "data": {
      "text/html": [
       "<div>\n",
       "<table border=\"1\" class=\"dataframe\">\n",
       "  <thead>\n",
       "    <tr style=\"text-align: right;\">\n",
       "      <th></th>\n",
       "      <th>gre</th>\n",
       "      <th>gpa</th>\n",
       "      <th>rank</th>\n",
       "    </tr>\n",
       "  </thead>\n",
       "  <tbody>\n",
       "    <tr>\n",
       "      <th>0</th>\n",
       "      <td>380</td>\n",
       "      <td>3.61</td>\n",
       "      <td>3</td>\n",
       "    </tr>\n",
       "    <tr>\n",
       "      <th>1</th>\n",
       "      <td>660</td>\n",
       "      <td>3.67</td>\n",
       "      <td>3</td>\n",
       "    </tr>\n",
       "    <tr>\n",
       "      <th>2</th>\n",
       "      <td>800</td>\n",
       "      <td>4.00</td>\n",
       "      <td>1</td>\n",
       "    </tr>\n",
       "    <tr>\n",
       "      <th>3</th>\n",
       "      <td>640</td>\n",
       "      <td>3.19</td>\n",
       "      <td>4</td>\n",
       "    </tr>\n",
       "    <tr>\n",
       "      <th>4</th>\n",
       "      <td>520</td>\n",
       "      <td>2.93</td>\n",
       "      <td>4</td>\n",
       "    </tr>\n",
       "  </tbody>\n",
       "</table>\n",
       "</div>"
      ],
      "text/plain": [
       "   gre   gpa  rank\n",
       "0  380  3.61     3\n",
       "1  660  3.67     3\n",
       "2  800  4.00     1\n",
       "3  640  3.19     4\n",
       "4  520  2.93     4"
      ]
     },
     "execution_count": 47,
     "metadata": {},
     "output_type": "execute_result"
    }
   ],
   "source": [
    "df.drop('admit', axis=1).head()"
   ]
  },
  {
   "cell_type": "code",
   "execution_count": 48,
   "metadata": {
    "collapsed": false
   },
   "outputs": [
    {
     "data": {
      "text/html": [
       "<div>\n",
       "<table border=\"1\" class=\"dataframe\">\n",
       "  <thead>\n",
       "    <tr style=\"text-align: right;\">\n",
       "      <th></th>\n",
       "      <th>gre</th>\n",
       "      <th>gpa</th>\n",
       "      <th>rank</th>\n",
       "    </tr>\n",
       "  </thead>\n",
       "  <tbody>\n",
       "    <tr>\n",
       "      <th>0</th>\n",
       "      <td>587.7</td>\n",
       "      <td>3.3899</td>\n",
       "      <td>1</td>\n",
       "    </tr>\n",
       "    <tr>\n",
       "      <th>1</th>\n",
       "      <td>587.7</td>\n",
       "      <td>3.3899</td>\n",
       "      <td>2</td>\n",
       "    </tr>\n",
       "    <tr>\n",
       "      <th>2</th>\n",
       "      <td>587.7</td>\n",
       "      <td>3.3899</td>\n",
       "      <td>3</td>\n",
       "    </tr>\n",
       "    <tr>\n",
       "      <th>3</th>\n",
       "      <td>587.7</td>\n",
       "      <td>3.3899</td>\n",
       "      <td>4</td>\n",
       "    </tr>\n",
       "  </tbody>\n",
       "</table>\n",
       "</div>"
      ],
      "text/plain": [
       "     gre     gpa  rank\n",
       "0  587.7  3.3899     1\n",
       "1  587.7  3.3899     2\n",
       "2  587.7  3.3899     3\n",
       "3  587.7  3.3899     4"
      ]
     },
     "execution_count": 48,
     "metadata": {},
     "output_type": "execute_result"
    }
   ],
   "source": [
    "dfnew = pd.DataFrame({'rank': range(1, 5)})\n",
    "dfnew['gpa'] = df.gpa.mean()\n",
    "dfnew['gre'] = df.gre.mean()\n",
    "\n",
    "dfnew = dfnew[['gre', 'gpa', 'rank']]\n",
    "dfnew"
   ]
  },
  {
   "cell_type": "code",
   "execution_count": 49,
   "metadata": {
    "collapsed": false
   },
   "outputs": [
    {
     "name": "stdout",
     "output_type": "stream",
     "text": [
      "[ 0.52596539  0.36822059  0.23439274  0.13853822] [ 1.10955061  0.58283095  0.30615271  0.16081761]\n"
     ]
    }
   ],
   "source": [
    "probs = model.predict_proba(dfnew.as_matrix())[:,1]\n",
    "\n",
    "odds = probs / (1-probs)\n",
    "\n",
    "print probs, odds"
   ]
  },
  {
   "cell_type": "code",
   "execution_count": 50,
   "metadata": {
    "collapsed": false
   },
   "outputs": [
    {
     "data": {
      "image/png": "[encoded data removed]",
      "text/plain": [
       "<matplotlib.figure.Figure at 0x11e5c43d0>"
      ]
     },
     "metadata": {},
     "output_type": "display_data"
    }
   ],
   "source": [
    "plt.plot(dfnew['rank'], probs)\n",
    "plt.ylabel('Probabilities')\n",
    "plt.title(\"probability of acceptance\")\n",
    "plt.xlabel('Ranks')\n",
    "plt.show();"
   ]
  },
  {
   "cell_type": "code",
   "execution_count": 51,
   "metadata": {
    "collapsed": false
   },
   "outputs": [
    {
     "data": {
      "image/png": "[encoded data removed]",
      "text/plain": [
       "<matplotlib.figure.Figure at 0x11e1f2290>"
      ]
     },
     "metadata": {},
     "output_type": "display_data"
    }
   ],
   "source": [
    "plt.plot(dfnew['rank'], odds)\n",
    "plt.ylabel('Odds')\n",
    "plt.xlabel('Rank')\n",
    "plt.title('Odd - p/(1-p) *rank on odds of acceptance')\n",
    "plt.show()"
   ]
  },
  {
   "cell_type": "markdown",
   "metadata": {},
   "source": [
    "remember that the logit is the link funcion that ties together our linear combination of variables and the bernoulli distribution."
   ]
  },
  {
   "cell_type": "code",
   "execution_count": 52,
   "metadata": {
    "collapsed": false
   },
   "outputs": [
    {
     "data": {
      "image/png": "[encoded data removed]",
      "text/plain": [
       "<matplotlib.figure.Figure at 0x11bbb1d50>"
      ]
     },
     "metadata": {},
     "output_type": "display_data"
    }
   ],
   "source": [
    "plt.plot(dfnew['rank'], np.log(odds))\n",
    "plt.ylabel('Logit(p)')\n",
    "plt.xlabel('Rank')\n",
    "plt.title('logit - ln(p/(1-p))')\n",
    "plt.show()"
   ]
  },
  {
   "cell_type": "markdown",
   "metadata": {},
   "source": [
    "Note that the slope of this line is approximately (0 + 1.7) / (4 - 1) = -0.567, which is approximately the beta coefficient."
   ]
  },
  {
   "cell_type": "markdown",
   "metadata": {},
   "source": [
    "---\n",
    "### Harvard and MIT have released a great dataset around engagement statistics for their MOOC courses.\n",
    "\n",
    "One of the biggest issues with MOOCs is engagement. We will try to predict the probability of 'engagement' of a student given all the other columns. We will define engagement here as either: explored == 1 OR certified == 1."
   ]
  },
  {
   "cell_type": "code",
   "execution_count": 53,
   "metadata": {
    "collapsed": false
   },
   "outputs": [
    {
     "data": {
      "text/html": [
       "<div>\n",
       "<table border=\"1\" class=\"dataframe\">\n",
       "  <thead>\n",
       "    <tr style=\"text-align: right;\">\n",
       "      <th></th>\n",
       "      <th>course_id</th>\n",
       "      <th>userid_DI</th>\n",
       "      <th>registered</th>\n",
       "      <th>viewed</th>\n",
       "      <th>explored</th>\n",
       "      <th>certified</th>\n",
       "      <th>final_cc_cname_DI</th>\n",
       "      <th>LoE_DI</th>\n",
       "      <th>YoB</th>\n",
       "      <th>gender</th>\n",
       "      <th>grade</th>\n",
       "      <th>start_time_DI</th>\n",
       "      <th>last_event_DI</th>\n",
       "      <th>nevents</th>\n",
       "      <th>ndays_act</th>\n",
       "      <th>nplay_video</th>\n",
       "      <th>nchapters</th>\n",
       "      <th>nforum_posts</th>\n",
       "      <th>roles</th>\n",
       "      <th>incomplete_flag</th>\n",
       "    </tr>\n",
       "  </thead>\n",
       "  <tbody>\n",
       "    <tr>\n",
       "      <th>0</th>\n",
       "      <td>HarvardX/CB22x/2013_Spring</td>\n",
       "      <td>MHxPC130442623</td>\n",
       "      <td>1</td>\n",
       "      <td>0</td>\n",
       "      <td>0</td>\n",
       "      <td>0</td>\n",
       "      <td>United States</td>\n",
       "      <td>NaN</td>\n",
       "      <td>NaN</td>\n",
       "      <td>NaN</td>\n",
       "      <td>0</td>\n",
       "      <td>2012-12-19</td>\n",
       "      <td>2013-11-17</td>\n",
       "      <td>NaN</td>\n",
       "      <td>9.0</td>\n",
       "      <td>NaN</td>\n",
       "      <td>NaN</td>\n",
       "      <td>0</td>\n",
       "      <td>NaN</td>\n",
       "      <td>1.0</td>\n",
       "    </tr>\n",
       "    <tr>\n",
       "      <th>1</th>\n",
       "      <td>HarvardX/CS50x/2012</td>\n",
       "      <td>MHxPC130442623</td>\n",
       "      <td>1</td>\n",
       "      <td>1</td>\n",
       "      <td>0</td>\n",
       "      <td>0</td>\n",
       "      <td>United States</td>\n",
       "      <td>NaN</td>\n",
       "      <td>NaN</td>\n",
       "      <td>NaN</td>\n",
       "      <td>0</td>\n",
       "      <td>2012-10-15</td>\n",
       "      <td>NaN</td>\n",
       "      <td>NaN</td>\n",
       "      <td>9.0</td>\n",
       "      <td>NaN</td>\n",
       "      <td>1.0</td>\n",
       "      <td>0</td>\n",
       "      <td>NaN</td>\n",
       "      <td>1.0</td>\n",
       "    </tr>\n",
       "    <tr>\n",
       "      <th>2</th>\n",
       "      <td>HarvardX/CB22x/2013_Spring</td>\n",
       "      <td>MHxPC130275857</td>\n",
       "      <td>1</td>\n",
       "      <td>0</td>\n",
       "      <td>0</td>\n",
       "      <td>0</td>\n",
       "      <td>United States</td>\n",
       "      <td>NaN</td>\n",
       "      <td>NaN</td>\n",
       "      <td>NaN</td>\n",
       "      <td>0</td>\n",
       "      <td>2013-02-08</td>\n",
       "      <td>2013-11-17</td>\n",
       "      <td>NaN</td>\n",
       "      <td>16.0</td>\n",
       "      <td>NaN</td>\n",
       "      <td>NaN</td>\n",
       "      <td>0</td>\n",
       "      <td>NaN</td>\n",
       "      <td>1.0</td>\n",
       "    </tr>\n",
       "    <tr>\n",
       "      <th>3</th>\n",
       "      <td>HarvardX/CS50x/2012</td>\n",
       "      <td>MHxPC130275857</td>\n",
       "      <td>1</td>\n",
       "      <td>0</td>\n",
       "      <td>0</td>\n",
       "      <td>0</td>\n",
       "      <td>United States</td>\n",
       "      <td>NaN</td>\n",
       "      <td>NaN</td>\n",
       "      <td>NaN</td>\n",
       "      <td>0</td>\n",
       "      <td>2012-09-17</td>\n",
       "      <td>NaN</td>\n",
       "      <td>NaN</td>\n",
       "      <td>16.0</td>\n",
       "      <td>NaN</td>\n",
       "      <td>NaN</td>\n",
       "      <td>0</td>\n",
       "      <td>NaN</td>\n",
       "      <td>1.0</td>\n",
       "    </tr>\n",
       "    <tr>\n",
       "      <th>4</th>\n",
       "      <td>HarvardX/ER22x/2013_Spring</td>\n",
       "      <td>MHxPC130275857</td>\n",
       "      <td>1</td>\n",
       "      <td>0</td>\n",
       "      <td>0</td>\n",
       "      <td>0</td>\n",
       "      <td>United States</td>\n",
       "      <td>NaN</td>\n",
       "      <td>NaN</td>\n",
       "      <td>NaN</td>\n",
       "      <td>0</td>\n",
       "      <td>2012-12-19</td>\n",
       "      <td>NaN</td>\n",
       "      <td>NaN</td>\n",
       "      <td>16.0</td>\n",
       "      <td>NaN</td>\n",
       "      <td>NaN</td>\n",
       "      <td>0</td>\n",
       "      <td>NaN</td>\n",
       "      <td>1.0</td>\n",
       "    </tr>\n",
       "  </tbody>\n",
       "</table>\n",
       "</div>"
      ],
      "text/plain": [
       "                    course_id       userid_DI  registered  viewed  explored  \\\n",
       "0  HarvardX/CB22x/2013_Spring  MHxPC130442623           1       0         0   \n",
       "1         HarvardX/CS50x/2012  MHxPC130442623           1       1         0   \n",
       "2  HarvardX/CB22x/2013_Spring  MHxPC130275857           1       0         0   \n",
       "3         HarvardX/CS50x/2012  MHxPC130275857           1       0         0   \n",
       "4  HarvardX/ER22x/2013_Spring  MHxPC130275857           1       0         0   \n",
       "\n",
       "   certified final_cc_cname_DI LoE_DI  YoB gender grade start_time_DI  \\\n",
       "0          0     United States    NaN  NaN    NaN     0    2012-12-19   \n",
       "1          0     United States    NaN  NaN    NaN     0    2012-10-15   \n",
       "2          0     United States    NaN  NaN    NaN     0    2013-02-08   \n",
       "3          0     United States    NaN  NaN    NaN     0    2012-09-17   \n",
       "4          0     United States    NaN  NaN    NaN     0    2012-12-19   \n",
       "\n",
       "  last_event_DI  nevents  ndays_act  nplay_video  nchapters  nforum_posts  \\\n",
       "0    2013-11-17      NaN        9.0          NaN        NaN             0   \n",
       "1           NaN      NaN        9.0          NaN        1.0             0   \n",
       "2    2013-11-17      NaN       16.0          NaN        NaN             0   \n",
       "3           NaN      NaN       16.0          NaN        NaN             0   \n",
       "4           NaN      NaN       16.0          NaN        NaN             0   \n",
       "\n",
       "   roles  incomplete_flag  \n",
       "0    NaN              1.0  \n",
       "1    NaN              1.0  \n",
       "2    NaN              1.0  \n",
       "3    NaN              1.0  \n",
       "4    NaN              1.0  "
      ]
     },
     "execution_count": 53,
     "metadata": {},
     "output_type": "execute_result"
    }
   ],
   "source": [
    "mooc = pd.read_csv('data/mooc.csv')\n",
    "mooc.head()"
   ]
  },
  {
   "cell_type": "code",
   "execution_count": 54,
   "metadata": {
    "collapsed": false
   },
   "outputs": [],
   "source": [
    "exp_cer = mooc.groupby('course_id')[['explored', 'certified']].sum()/mooc.groupby('course_id')[['explored', 'certified']].count()"
   ]
  },
  {
   "cell_type": "code",
   "execution_count": 55,
   "metadata": {
    "collapsed": false
   },
   "outputs": [
    {
     "data": {
      "image/png": "[encoded data removed]",
      "text/plain": [
       "<matplotlib.figure.Figure at 0x11b61a3d0>"
      ]
     },
     "metadata": {},
     "output_type": "display_data"
    }
   ],
   "source": [
    "exp_cer.plot(kind='bar');"
   ]
  },
  {
   "cell_type": "code",
   "execution_count": 56,
   "metadata": {
    "collapsed": false
   },
   "outputs": [],
   "source": [
    "mooc['engagement'] = mooc.explored | mooc.certified"
   ]
  },
  {
   "cell_type": "code",
   "execution_count": 57,
   "metadata": {
    "collapsed": false
   },
   "outputs": [
    {
     "data": {
      "text/plain": [
       "United States                             184240\n",
       "India                                      88696\n",
       "Unknown/Other                              82029\n",
       "Other Europe                               40377\n",
       "Other Africa                               23897\n",
       "United Kingdom                             22131\n",
       "Brazil                                     17856\n",
       "Other Middle East/Central Asia             17325\n",
       "Other South Asia                           12992\n",
       "Canada                                     12738\n",
       "Pakistan                                   10824\n",
       "Russian Federation                         10432\n",
       "Spain                                      10003\n",
       "Other South America                         9916\n",
       "Egypt                                       9286\n",
       "Germany                                     8074\n",
       "Nigeria                                     7483\n",
       "Other East Asia                             6446\n",
       "Australia                                   6419\n",
       "Mexico                                      5638\n",
       "Philippines                                 5374\n",
       "Poland                                      5226\n",
       "China                                       5170\n",
       "Greece                                      5162\n",
       "Colombia                                    4803\n",
       "France                                      4700\n",
       "Other North & Central Amer., Caribbean      4434\n",
       "Ukraine                                     4100\n",
       "Morocco                                     3966\n",
       "Indonesia                                   3410\n",
       "Bangladesh                                  3182\n",
       "Japan                                       2270\n",
       "Portugal                                    2193\n",
       "Other Oceania                                346\n",
       "Name: final_cc_cname_DI, dtype: int64"
      ]
     },
     "execution_count": 57,
     "metadata": {},
     "output_type": "execute_result"
    }
   ],
   "source": [
    "mooc.final_cc_cname_DI.fillna('Other').value_counts()"
   ]
  },
  {
   "cell_type": "code",
   "execution_count": 58,
   "metadata": {
    "collapsed": true
   },
   "outputs": [],
   "source": [
    "X_mooc = (pd.get_dummies(mooc['LoE_DI'].fillna('other')).drop('other', axis=1)\n",
    "    .join(pd.get_dummies(mooc['final_cc_cname_DI']).drop('United States', axis=1)))\n"
   ]
  },
  {
   "cell_type": "code",
   "execution_count": 59,
   "metadata": {
    "collapsed": false
   },
   "outputs": [],
   "source": [
    "pd.set_option('display.max_columns', 38)"
   ]
  },
  {
   "cell_type": "code",
   "execution_count": 60,
   "metadata": {
    "collapsed": false
   },
   "outputs": [
    {
     "data": {
      "text/html": [
       "<div>\n",
       "<table border=\"1\" class=\"dataframe\">\n",
       "  <thead>\n",
       "    <tr style=\"text-align: right;\">\n",
       "      <th></th>\n",
       "      <th>Bachelor's</th>\n",
       "      <th>Doctorate</th>\n",
       "      <th>Less than Secondary</th>\n",
       "      <th>Master's</th>\n",
       "      <th>Secondary</th>\n",
       "      <th>Australia</th>\n",
       "      <th>Bangladesh</th>\n",
       "      <th>Brazil</th>\n",
       "      <th>Canada</th>\n",
       "      <th>China</th>\n",
       "      <th>Colombia</th>\n",
       "      <th>Egypt</th>\n",
       "      <th>France</th>\n",
       "      <th>Germany</th>\n",
       "      <th>Greece</th>\n",
       "      <th>India</th>\n",
       "      <th>Indonesia</th>\n",
       "      <th>Japan</th>\n",
       "      <th>Mexico</th>\n",
       "      <th>Morocco</th>\n",
       "      <th>Nigeria</th>\n",
       "      <th>Other Africa</th>\n",
       "      <th>Other East Asia</th>\n",
       "      <th>Other Europe</th>\n",
       "      <th>Other Middle East/Central Asia</th>\n",
       "      <th>Other North &amp; Central Amer., Caribbean</th>\n",
       "      <th>Other Oceania</th>\n",
       "      <th>Other South America</th>\n",
       "      <th>Other South Asia</th>\n",
       "      <th>Pakistan</th>\n",
       "      <th>Philippines</th>\n",
       "      <th>Poland</th>\n",
       "      <th>Portugal</th>\n",
       "      <th>Russian Federation</th>\n",
       "      <th>Spain</th>\n",
       "      <th>Ukraine</th>\n",
       "      <th>United Kingdom</th>\n",
       "      <th>Unknown/Other</th>\n",
       "    </tr>\n",
       "  </thead>\n",
       "  <tbody>\n",
       "    <tr>\n",
       "      <th>0</th>\n",
       "      <td>0.0</td>\n",
       "      <td>0.0</td>\n",
       "      <td>0.0</td>\n",
       "      <td>0.0</td>\n",
       "      <td>0.0</td>\n",
       "      <td>0.0</td>\n",
       "      <td>0.0</td>\n",
       "      <td>0.0</td>\n",
       "      <td>0.0</td>\n",
       "      <td>0.0</td>\n",
       "      <td>0.0</td>\n",
       "      <td>0.0</td>\n",
       "      <td>0.0</td>\n",
       "      <td>0.0</td>\n",
       "      <td>0.0</td>\n",
       "      <td>0.0</td>\n",
       "      <td>0.0</td>\n",
       "      <td>0.0</td>\n",
       "      <td>0.0</td>\n",
       "      <td>0.0</td>\n",
       "      <td>0.0</td>\n",
       "      <td>0.0</td>\n",
       "      <td>0.0</td>\n",
       "      <td>0.0</td>\n",
       "      <td>0.0</td>\n",
       "      <td>0.0</td>\n",
       "      <td>0.0</td>\n",
       "      <td>0.0</td>\n",
       "      <td>0.0</td>\n",
       "      <td>0.0</td>\n",
       "      <td>0.0</td>\n",
       "      <td>0.0</td>\n",
       "      <td>0.0</td>\n",
       "      <td>0.0</td>\n",
       "      <td>0.0</td>\n",
       "      <td>0.0</td>\n",
       "      <td>0.0</td>\n",
       "      <td>0.0</td>\n",
       "    </tr>\n",
       "    <tr>\n",
       "      <th>1</th>\n",
       "      <td>0.0</td>\n",
       "      <td>0.0</td>\n",
       "      <td>0.0</td>\n",
       "      <td>0.0</td>\n",
       "      <td>0.0</td>\n",
       "      <td>0.0</td>\n",
       "      <td>0.0</td>\n",
       "      <td>0.0</td>\n",
       "      <td>0.0</td>\n",
       "      <td>0.0</td>\n",
       "      <td>0.0</td>\n",
       "      <td>0.0</td>\n",
       "      <td>0.0</td>\n",
       "      <td>0.0</td>\n",
       "      <td>0.0</td>\n",
       "      <td>0.0</td>\n",
       "      <td>0.0</td>\n",
       "      <td>0.0</td>\n",
       "      <td>0.0</td>\n",
       "      <td>0.0</td>\n",
       "      <td>0.0</td>\n",
       "      <td>0.0</td>\n",
       "      <td>0.0</td>\n",
       "      <td>0.0</td>\n",
       "      <td>0.0</td>\n",
       "      <td>0.0</td>\n",
       "      <td>0.0</td>\n",
       "      <td>0.0</td>\n",
       "      <td>0.0</td>\n",
       "      <td>0.0</td>\n",
       "      <td>0.0</td>\n",
       "      <td>0.0</td>\n",
       "      <td>0.0</td>\n",
       "      <td>0.0</td>\n",
       "      <td>0.0</td>\n",
       "      <td>0.0</td>\n",
       "      <td>0.0</td>\n",
       "      <td>0.0</td>\n",
       "    </tr>\n",
       "    <tr>\n",
       "      <th>2</th>\n",
       "      <td>0.0</td>\n",
       "      <td>0.0</td>\n",
       "      <td>0.0</td>\n",
       "      <td>0.0</td>\n",
       "      <td>0.0</td>\n",
       "      <td>0.0</td>\n",
       "      <td>0.0</td>\n",
       "      <td>0.0</td>\n",
       "      <td>0.0</td>\n",
       "      <td>0.0</td>\n",
       "      <td>0.0</td>\n",
       "      <td>0.0</td>\n",
       "      <td>0.0</td>\n",
       "      <td>0.0</td>\n",
       "      <td>0.0</td>\n",
       "      <td>0.0</td>\n",
       "      <td>0.0</td>\n",
       "      <td>0.0</td>\n",
       "      <td>0.0</td>\n",
       "      <td>0.0</td>\n",
       "      <td>0.0</td>\n",
       "      <td>0.0</td>\n",
       "      <td>0.0</td>\n",
       "      <td>0.0</td>\n",
       "      <td>0.0</td>\n",
       "      <td>0.0</td>\n",
       "      <td>0.0</td>\n",
       "      <td>0.0</td>\n",
       "      <td>0.0</td>\n",
       "      <td>0.0</td>\n",
       "      <td>0.0</td>\n",
       "      <td>0.0</td>\n",
       "      <td>0.0</td>\n",
       "      <td>0.0</td>\n",
       "      <td>0.0</td>\n",
       "      <td>0.0</td>\n",
       "      <td>0.0</td>\n",
       "      <td>0.0</td>\n",
       "    </tr>\n",
       "    <tr>\n",
       "      <th>3</th>\n",
       "      <td>0.0</td>\n",
       "      <td>0.0</td>\n",
       "      <td>0.0</td>\n",
       "      <td>0.0</td>\n",
       "      <td>0.0</td>\n",
       "      <td>0.0</td>\n",
       "      <td>0.0</td>\n",
       "      <td>0.0</td>\n",
       "      <td>0.0</td>\n",
       "      <td>0.0</td>\n",
       "      <td>0.0</td>\n",
       "      <td>0.0</td>\n",
       "      <td>0.0</td>\n",
       "      <td>0.0</td>\n",
       "      <td>0.0</td>\n",
       "      <td>0.0</td>\n",
       "      <td>0.0</td>\n",
       "      <td>0.0</td>\n",
       "      <td>0.0</td>\n",
       "      <td>0.0</td>\n",
       "      <td>0.0</td>\n",
       "      <td>0.0</td>\n",
       "      <td>0.0</td>\n",
       "      <td>0.0</td>\n",
       "      <td>0.0</td>\n",
       "      <td>0.0</td>\n",
       "      <td>0.0</td>\n",
       "      <td>0.0</td>\n",
       "      <td>0.0</td>\n",
       "      <td>0.0</td>\n",
       "      <td>0.0</td>\n",
       "      <td>0.0</td>\n",
       "      <td>0.0</td>\n",
       "      <td>0.0</td>\n",
       "      <td>0.0</td>\n",
       "      <td>0.0</td>\n",
       "      <td>0.0</td>\n",
       "      <td>0.0</td>\n",
       "    </tr>\n",
       "    <tr>\n",
       "      <th>4</th>\n",
       "      <td>0.0</td>\n",
       "      <td>0.0</td>\n",
       "      <td>0.0</td>\n",
       "      <td>0.0</td>\n",
       "      <td>0.0</td>\n",
       "      <td>0.0</td>\n",
       "      <td>0.0</td>\n",
       "      <td>0.0</td>\n",
       "      <td>0.0</td>\n",
       "      <td>0.0</td>\n",
       "      <td>0.0</td>\n",
       "      <td>0.0</td>\n",
       "      <td>0.0</td>\n",
       "      <td>0.0</td>\n",
       "      <td>0.0</td>\n",
       "      <td>0.0</td>\n",
       "      <td>0.0</td>\n",
       "      <td>0.0</td>\n",
       "      <td>0.0</td>\n",
       "      <td>0.0</td>\n",
       "      <td>0.0</td>\n",
       "      <td>0.0</td>\n",
       "      <td>0.0</td>\n",
       "      <td>0.0</td>\n",
       "      <td>0.0</td>\n",
       "      <td>0.0</td>\n",
       "      <td>0.0</td>\n",
       "      <td>0.0</td>\n",
       "      <td>0.0</td>\n",
       "      <td>0.0</td>\n",
       "      <td>0.0</td>\n",
       "      <td>0.0</td>\n",
       "      <td>0.0</td>\n",
       "      <td>0.0</td>\n",
       "      <td>0.0</td>\n",
       "      <td>0.0</td>\n",
       "      <td>0.0</td>\n",
       "      <td>0.0</td>\n",
       "    </tr>\n",
       "  </tbody>\n",
       "</table>\n",
       "</div>"
      ],
      "text/plain": [
       "   Bachelor's  Doctorate  Less than Secondary  Master's  Secondary  Australia  \\\n",
       "0         0.0        0.0                  0.0       0.0        0.0        0.0   \n",
       "1         0.0        0.0                  0.0       0.0        0.0        0.0   \n",
       "2         0.0        0.0                  0.0       0.0        0.0        0.0   \n",
       "3         0.0        0.0                  0.0       0.0        0.0        0.0   \n",
       "4         0.0        0.0                  0.0       0.0        0.0        0.0   \n",
       "\n",
       "   Bangladesh  Brazil  Canada  China  Colombia  Egypt  France  Germany  \\\n",
       "0         0.0     0.0     0.0    0.0       0.0    0.0     0.0      0.0   \n",
       "1         0.0     0.0     0.0    0.0       0.0    0.0     0.0      0.0   \n",
       "2         0.0     0.0     0.0    0.0       0.0    0.0     0.0      0.0   \n",
       "3         0.0     0.0     0.0    0.0       0.0    0.0     0.0      0.0   \n",
       "4         0.0     0.0     0.0    0.0       0.0    0.0     0.0      0.0   \n",
       "\n",
       "   Greece  India  Indonesia  Japan  Mexico  Morocco  Nigeria  Other Africa  \\\n",
       "0     0.0    0.0        0.0    0.0     0.0      0.0      0.0           0.0   \n",
       "1     0.0    0.0        0.0    0.0     0.0      0.0      0.0           0.0   \n",
       "2     0.0    0.0        0.0    0.0     0.0      0.0      0.0           0.0   \n",
       "3     0.0    0.0        0.0    0.0     0.0      0.0      0.0           0.0   \n",
       "4     0.0    0.0        0.0    0.0     0.0      0.0      0.0           0.0   \n",
       "\n",
       "   Other East Asia  Other Europe  Other Middle East/Central Asia  \\\n",
       "0              0.0           0.0                             0.0   \n",
       "1              0.0           0.0                             0.0   \n",
       "2              0.0           0.0                             0.0   \n",
       "3              0.0           0.0                             0.0   \n",
       "4              0.0           0.0                             0.0   \n",
       "\n",
       "   Other North & Central Amer., Caribbean  Other Oceania  Other South America  \\\n",
       "0                                     0.0            0.0                  0.0   \n",
       "1                                     0.0            0.0                  0.0   \n",
       "2                                     0.0            0.0                  0.0   \n",
       "3                                     0.0            0.0                  0.0   \n",
       "4                                     0.0            0.0                  0.0   \n",
       "\n",
       "   Other South Asia  Pakistan  Philippines  Poland  Portugal  \\\n",
       "0               0.0       0.0          0.0     0.0       0.0   \n",
       "1               0.0       0.0          0.0     0.0       0.0   \n",
       "2               0.0       0.0          0.0     0.0       0.0   \n",
       "3               0.0       0.0          0.0     0.0       0.0   \n",
       "4               0.0       0.0          0.0     0.0       0.0   \n",
       "\n",
       "   Russian Federation  Spain  Ukraine  United Kingdom  Unknown/Other  \n",
       "0                 0.0    0.0      0.0             0.0            0.0  \n",
       "1                 0.0    0.0      0.0             0.0            0.0  \n",
       "2                 0.0    0.0      0.0             0.0            0.0  \n",
       "3                 0.0    0.0      0.0             0.0            0.0  \n",
       "4                 0.0    0.0      0.0             0.0            0.0  "
      ]
     },
     "execution_count": 60,
     "metadata": {},
     "output_type": "execute_result"
    }
   ],
   "source": [
    "X_mooc.head()"
   ]
  },
  {
   "cell_type": "code",
   "execution_count": 61,
   "metadata": {
    "collapsed": false
   },
   "outputs": [],
   "source": [
    "y_mooc = mooc.engagement\n",
    "X_mooc = X_mooc.as_matrix()\n",
    "y_mooc = y_mooc.as_matrix()"
   ]
  },
  {
   "cell_type": "code",
   "execution_count": 62,
   "metadata": {
    "collapsed": false
   },
   "outputs": [
    {
     "data": {
      "image/png": "[encoded data removed]",
      "text/plain": [
       "<matplotlib.figure.Figure at 0x11b5e3090>"
      ]
     },
     "metadata": {},
     "output_type": "display_data"
    }
   ],
   "source": [
    "model_mooc = LogisticRegression()\n",
    "model_mooc.fit(X_mooc, y_mooc)\n",
    "\n",
    "probabilities_mooc = model_mooc.predict_proba(X_mooc)[:, 1]\n",
    "\n",
    "fpr_mooc, tpr_mooc, thresholds_mooc = plot_skl_roc_curve(y_mooc, probabilities_mooc)\n"
   ]
  },
  {
   "cell_type": "code",
   "execution_count": 63,
   "metadata": {
    "collapsed": false
   },
   "outputs": [
    {
     "name": "stderr",
     "output_type": "stream",
     "text": [
      "/Users/eloisaelias/anaconda/lib/python2.7/site-packages/sklearn/metrics/classification.py:1074: UndefinedMetricWarning: Precision is ill-defined and being set to 0.0 due to no predicted samples.\n",
      "  'precision', 'predicted', average, warn_for)\n"
     ]
    },
    {
     "name": "stdout",
     "output_type": "stream",
     "text": [
      "----- K_fold: 1 -----\n",
      "AUC:  0.637661943712\n",
      "Model Score - accuracy: 0.936885859563 \n",
      "Precision: 0.0\n",
      "Recall : 0.0\n",
      "\n",
      "----- K_fold: 2 -----\n",
      "AUC:  0.637532303929\n",
      "Model Score - accuracy: 0.936503727735 \n",
      "Precision: 0.0\n",
      "Recall : 0.0\n",
      "\n",
      "----- K_fold: 3 -----\n",
      "AUC:  0.628439368171\n",
      "Model Score - accuracy: 0.937080824781 \n",
      "Precision: 0.0\n",
      "Recall : 0.0\n",
      "\n",
      "----- K_fold: 4 -----\n",
      "AUC:  0.640661525994\n",
      "Model Score - accuracy: 0.937212911477 \n",
      "Precision: 0.0\n",
      "Recall : 0.0\n",
      "\n",
      "----- K_fold: 5 -----\n",
      "AUC:  0.643838873342\n",
      "Model Score - accuracy: 0.937439072894 \n",
      "Precision: 0.0\n",
      "Recall : 0.0\n",
      "\n",
      "----- Average -----\n",
      "AUC: 0.63762680303\n",
      "accuracy:  0.93702447929\n",
      "precision: 0.0\n",
      "recall: 0.0\n"
     ]
    }
   ],
   "source": [
    "accu_preci_recall_kfold(X_mooc, y_mooc, 5)"
   ]
  },
  {
   "cell_type": "code",
   "execution_count": 64,
   "metadata": {
    "collapsed": false
   },
   "outputs": [
    {
     "name": "stdout",
     "output_type": "stream",
     "text": [
      "0.638050560884\n"
     ]
    }
   ],
   "source": [
    "print AUC_(fpr_mooc, tpr_mooc)"
   ]
  },
  {
   "cell_type": "code",
   "execution_count": 65,
   "metadata": {
    "collapsed": false
   },
   "outputs": [
    {
     "data": {
      "text/plain": [
       "Bachelor's             219768\n",
       "Secondary              169694\n",
       "Master's               118189\n",
       "other                  106008\n",
       "Less than Secondary     14092\n",
       "Doctorate               13387\n",
       "Name: LoE_DI, dtype: int64"
      ]
     },
     "execution_count": 65,
     "metadata": {},
     "output_type": "execute_result"
    }
   ],
   "source": [
    "mooc['LoE_DI'].fillna('other').value_counts()"
   ]
  },
  {
   "cell_type": "code",
   "execution_count": null,
   "metadata": {
    "collapsed": true
   },
   "outputs": [],
   "source": []
  },
  {
   "cell_type": "code",
   "execution_count": null,
   "metadata": {
    "collapsed": true
   },
   "outputs": [],
   "source": []
  },
  {
   "cell_type": "code",
   "execution_count": null,
   "metadata": {
    "collapsed": true
   },
   "outputs": [],
   "source": []
  },
  {
   "cell_type": "code",
   "execution_count": null,
   "metadata": {
    "collapsed": true
   },
   "outputs": [],
   "source": []
  },
  {
   "cell_type": "code",
   "execution_count": null,
   "metadata": {
    "collapsed": true
   },
   "outputs": [],
   "source": []
  },
  {
   "cell_type": "code",
   "execution_count": null,
   "metadata": {
    "collapsed": true
   },
   "outputs": [],
   "source": []
  },
  {
   "cell_type": "code",
   "execution_count": null,
   "metadata": {
    "collapsed": true
   },
   "outputs": [],
   "source": []
  }
 ],
 "metadata": {
  "kernelspec": {
   "display_name": "Python 2",
   "language": "python",
   "name": "python2"
  },
  "language_info": {
   "codemirror_mode": {
    "name": "ipython",
    "version": 2
   },
   "file_extension": ".py",
   "mimetype": "text/x-python",
   "name": "python",
   "nbconvert_exporter": "python",
   "pygments_lexer": "ipython2",
   "version": "2.7.11"
  }
 },
 "nbformat": 4,
 "nbformat_minor": 0
}
