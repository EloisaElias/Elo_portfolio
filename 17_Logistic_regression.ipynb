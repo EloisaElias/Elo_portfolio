{
 "cells": [
  {
   "cell_type": "markdown",
   "metadata": {},
   "source": [
    "## ROC Curve\n",
    "---\n",
    "#### Elo notes"
   ]
  },
  {
   "cell_type": "markdown",
   "metadata": {},
   "source": [
    "---\n",
    "### [Dependent and independent variables Statistics synonyms](https://en.wikipedia.org/wiki/Dependent_and_independent_variables)\n",
    "\n",
    "Depending on the context, an **independent variable** is sometimes called: \n",
    "\n",
    "- \"predictor variable\"\n",
    "- regressor, \n",
    "- covariate, \n",
    "- \"controlled variable\", \n",
    "- \"manipulated variable\", \n",
    "- \"explanatory variable\", \n",
    "- exposure variable (see reliability theory), \n",
    "- \"risk factor\" (see medical statistics), \n",
    "- \"feature\" (in machine learning and pattern recognition) \n",
    "- \"input variable.\" \n",
    "- In econometrics, the term \"control variable\" is usually used instead of \"covariate\".\n",
    "\n",
    "Depending on the context, a **dependent variable** is sometimes called:\n",
    "\n",
    "- \"response variable\", \n",
    "- \"regressand\", \n",
    "- \"criterion\", \n",
    "- \"predicted variable\", \n",
    "- \"measured variable\", \n",
    "- \"explained variable\", \n",
    "- \"experimental variable\", \n",
    "- \"responding variable\", \n",
    "- \"outcome variable\", \n",
    "- \"output variable\" or \"label\".\n",
    "\n",
    "\n",
    "### Classifier\n",
    "\n",
    "Let us consider a two-class prediction problem (binary classification), in which the outcomes are labeled either as positive (p) or negative (n). There are four possible outcomes from a binary classifier. \n",
    "\n",
    "If the outcome from a prediction is **p : positive** and the actual value is also **p**, then it is called a true positive **TP**; however if the actual value is **n: negative** then it is said to be a false positive **FP**. Conversely, a true negative **TN** has occurred when both the prediction outcome and the actual value are **n**, and false negative **FN** is when the prediction outcome is **n** while the actual value is negative.\n",
    "\n",
    "#### General Method\n",
    "\n",
    "- For each unclassified subject, you would calculate the probability the subject falls in a specific class using the fitted model\n",
    "- You would compare that probability to a predetermined decision rule boundary −→ default is 0.5\n",
    "- If the predicted probability is > than 0.5 −→ classify as 1\n",
    "- If the predicted probability is ≤ 0.5 −→ classify as 0\n",
    "\n",
    "\n",
    "### [Screening test](https://www.healthknowledge.org.uk/public-health-textbook/disease-causation-diagnostic/2c-diagnosis-screening/screening-diagnostic-case-finding)\n",
    "\n",
    "The primary purpose of screening tests is to detect early non-conformities or risk factors for non-conformities in large numbers of apparently normal process\n",
    "\n",
    "### Diagnostic test\n",
    "\n",
    "The purpose of a diagnostic test is to establish the presence (or absence) of non-conformities as a basis for treatment decisions in symptomatic or screen positive individuals (confirmatory test)."
   ]
  },
  {
   "cell_type": "markdown",
   "metadata": {},
   "source": [
    "### [Sigmoid function](https://en.wikipedia.org/wiki/Sigmoid_function)\n",
    "\n",
    "A sigmoid function is a mathematical function having a characteristic \"S\"-shaped curve or sigmoid curve. Often, sigmoid function refers to the special case of the logistic function shown in the first figure and defined by the formula\n",
    "\n",
    "${\\displaystyle S(x)={\\frac {1}{1+e^{-x}}}={\\frac {e^{x}}{e^{x}+1}}} $\n",
    "\n",
    "### [Logit](https://en.wikipedia.org/wiki/Logit)\n",
    "\n",
    "The logit function or the log-odds is the logarithm of the odds p/(1 − p) where p is probability.\n",
    "\n",
    "It is the inverse of the sigmoidal \"logistic\" function or logistic transform. In deep learning, the term logits layer is popularly used for the last neuron layer of neural network for classification task which produces raw prediction values as real numbers ranging from \n",
    "$[-\\infty, +\\infty]$ The output of logits layer is then often fed in to softmax layer. \n",
    "\n",
    "\n",
    "\n",
    "### [Logistic function](https://en.wikipedia.org/wiki/Logistic_function)\n",
    "\n",
    "A logistic function or logistic curve is a common \"S\" shape (sigmoid curve), with equation:\n",
    "\n",
    "${\\displaystyle f(x)={\\frac {1}{1+e^{-x}}}}$\n"
   ]
  },
  {
   "cell_type": "markdown",
   "metadata": {},
   "source": [
    "### How do we evaluate our model?\n",
    "\n",
    "Via cross validation then we use the following scores:\n",
    "\n",
    "#### Accuracy ( Bias) - Bias is the amount of inaccuracy\n",
    "\n",
    "Accuracy in Logistic Regression is affected by inbalanced classes.  Say you are trying to predict whether or not an email is spam. Only 2% of emails are in fact spam emails. You could get 98% accuracy by always predicting not spam. This is a great accuracy but a horrible model!\n",
    "\n",
    "Accu = (TP + TN) / (TN + FP + TP + FN)\n",
    "\n",
    "Accu = (TP + TN) / (Ho + Ha)\n",
    "\n",
    "the degree to which the result of a measurement, or specification conforms to the correct value or a standard.\n",
    "\n",
    "#### Precision (Variance) - Precision is the probability of a positive prediction being correct. A measure of how good your positive predictions are.\n",
    "\n",
    "Precision = TP / TP + FP\n",
    "\n",
    "#### Recall - A measure of how well you predict positive cases. Aka sensitivity. Probability of detection.\n",
    "\n",
    "Recall = Senstitivity = TPR\n",
    "\n",
    "TPR = TP / Ha = TP / TP + FN\n",
    "\n",
    "TPR = TP / $\\beta$ + (1 - $\\beta$)\n",
    "\n",
    "### [Precision and Accuracy](https://en.wikipedia.org/wiki/Accuracy_and_precision#ISO_Definition_(ISO_5725)\n",
    "\n",
    "**[THE VERY BEST!](https://en.wikipedia.org/wiki/Bessel%27s_correction)**: The field of statistics, where the interpretation of measurements plays a central role, prefers to use **the terms Bias and Variance (Variability)** instead of **accuracy and precision**: **Bias is the amount of inaccuracy** and **Variability is the amount of imprecision.**\n",
    "\n",
    "#### Accuracy (Bias) has two definitions:\n",
    "\n",
    "- More commonly, it is a description of **systematic errors**, a **measure of statistical bias (IMPORTANT!)**; as these cause a difference between a result and a \"true\" value, ISO calls this trueness. For the manufacturing industry you reduce Bias with MSA and Test equipment calibration.\n",
    "\n",
    "- Alternatively, ISO defines accuracy as describing a combination of both types of observational error above (random and systematic), so high accuracy requires both high precision and high trueness.\n",
    "\n",
    "- Accuracy in Logistic Regression is affected by inbalanced classes.\n",
    "\n",
    "#### Precision (Variance) is a description of random errors, a measure of statistical variability. \n",
    "\n",
    "- The precision of a measurement system, related to reproducibility and repeatability, is the degree to which repeated measurements under unchanged conditions show the same results.\n",
    "\n",
    "- Precision is the probability of a positive prediction being correct\n",
    "\n",
    "\n",
    "A measurement system is considered valid if it is both accurate and precise. Related terms include bias (non-random or directed effects caused by a factor or factors unrelated to the independent variable) and error (random variability).\n",
    "\n",
    "### F-measure or F1 score\n",
    "\n",
    "A measure that combines precision and recall is the **harmonic mean** of precision and recall, the traditional F-measure or balanced F-score\n",
    "\n",
    "Precision (positive predictive value) and Recall (sensitivity, probability of detection, TPR)\n",
    "\n",
    "$ {\\displaystyle F=2\\cdot {\\frac {\\mathrm {precision} \\cdot \\mathrm {recall} }{\\mathrm {precision} +\\mathrm {recall} }}}$\n",
    "\n",
    "f1 = 2TP / (2TP + FN + FP)\n",
    "\n",
    "In order for the F Score to be large, both precision and recall must be large.\n",
    "\n",
    "We want to train precision and recall on the cross validation set so as not to bias our test set."
   ]
  },
  {
   "cell_type": "markdown",
   "metadata": {},
   "source": [
    "### [Confusion Matrix](https://en.wikipedia.org/wiki/Confusion_matrix)\n",
    "\n",
    "Confusion Matrix do a better job of evaluating our Logistic Model\n",
    "\n",
    "### Trading Off Precision PPV (Probability of a positive prediction being correct) and Recall (TPR, sensitivity, Probability of Detection)\n",
    "\n",
    "We might want a confident prediction of two classes using logistic regression. One way is to increase our threshold:\n",
    "\n",
    "Predict 1 if: $h_\\theta(x)≥0.7$\n",
    "\n",
    "Predict 0 if: $h_\\theta<0.7$\n",
    "\n",
    "This way, for example we only predict cancer if the patient has a 70% chance.\n",
    "\n",
    "Doing this, we will have higher **precision** but lower **recall** \n",
    "\n",
    "In the opposite example, we can lower our threshold:\n",
    "\n",
    "Predict 1 if: $h_\\theta≥0.3$\n",
    "\n",
    "Predict 0 if: $h_\\theta<0.3$\n",
    "\n",
    "That way, we get a very safe prediction. This will cause higher recall but lower precision.\n",
    "\n",
    "The greater the threshold, the greater the precision and the lower the recall.\n",
    "\n",
    "The lower the threshold, the greater the recall and the lower the precision.\n",
    "\n",
    "\n",
    "In order to turn these two metrics into one single number, we can take the F value.\n",
    "\n",
    "One way is to take the average:\n",
    "\n",
    "$(P+R) / 2$ ATTENTION: NOT TO USE\n",
    "\n",
    "This does not work well. If we predict all y=0 then that will bring the average up despite having 0 recall. If we predict all examples as y=1, then the very high recall will bring up the average despite having 0 precision.\n",
    "\n",
    "A better way is to compute the F Score (or F1 score):"
   ]
  },
  {
   "cell_type": "markdown",
   "metadata": {},
   "source": [
    "### [Receiver operating characteristic (ROC)](https://kennis-research.shinyapps.io/ROC-Curves/)\n",
    "\n",
    "ROC curve, is a graphical plot that illustrates the performance of a binary classifier system as its discrimination threshold is varied.\n",
    "\n",
    "The ROC is also known as a relative operating characteristic curve, because it is a comparison of two operating characteristics (TPR and FPR) as the criterion changes.\n",
    "\n",
    "The curve is created by plotting the true positive rate **TPR** (sensitivity/recall/probability of detection in machine learning) against the false positive rate **FPR** (\"1 - specificity\") at various threshold settings.\n",
    "\n",
    "The ROC is also known as a relative operating characteristic curve, because it is a comparison of two operating characteristics (TPR and FPR) as the criterion changes.\n",
    "\n",
    "A ROC space is defined by FPR and TPR as x and y axes, respectively, which depicts relative trade-offs between true positive (benefits) and false positive (costs).\n",
    "\n",
    "Each prediction result or instance of a **[confusion matrix](https://en.wikipedia.org/wiki/Confusion_matrix)** represents one point in the ROC space. \n",
    "\n",
    "The diagonal divides the ROC space is the intercept of the ROC curve with the line at 45 degrees orthogonal to the no-discrimination line - the balance point where Sensitivity = Specificity. Points above the diagonal represent good classification results (better than random); points below the line represent bad results (worse than random).\n",
    "Accuracy is measured by the area under the ROC curve. An area of 1 represents a perfect test; an area of .5 represents a worthless test. A rough guide for classifying the accuracy of a diagnostic test is the traditional academic point system:\n",
    "\n",
    "    .90-1 = excellent (A)\n",
    "    .80-.90 = good (B)\n",
    "    .70-.80 = fair (C)\n",
    "    .60-.70 = poor (D)\n",
    "    .50-.60 = fail (F)\n",
    "\n",
    "The True Positive Rate answers the question:\n",
    "\n",
    "\"When the actual classification is positive, how often does the classfier predict positive?\" \n",
    "\n",
    "The False Positive Rate answers the question:\n",
    "\n",
    "\"When the actual classification is negative, how often does the classifier incorrectly predict positive?\" \n",
    "\n",
    "\n",
    "Both the True Positive Rate and the False Positive Rate range from 0 to 1.\n",
    "\n",
    "#### Important points\n",
    "\n",
    "- The intercept of the ROC curve with the line at 45 degrees orthogonal to the no-discrimination line - the balance point where Sensitivity = Specificity\n",
    "\n",
    "- The area between the ROC curve and the no-discrimination line - Gini Coefficient\n",
    "\n",
    "- The area under the ROC curve, or \"AUC\" (\"Area Under Curve\"), or A' (pronounced \"a-prime\"), or \"c-statistic\"\n",
    "\n",
    "- The machine learning community most often uses the ROC AUC statistic for model comparison.\n",
    "\n",
    "- focusing on the region of the curve with low false positive rate, which is often of prime interest for population screening tests"
   ]
  },
  {
   "cell_type": "markdown",
   "metadata": {
    "collapsed": true
   },
   "source": [
    "### Just for fun\n",
    "\n",
    "#### [FICO Score](https://en.wikipedia.org/wiki/FICO)\n",
    "\n",
    "\n",
    "#### [Gini coefficient](https://en.wikipedia.org/wiki/Gini_coefficient)\n",
    "\n",
    "\n",
    "#### [Entropy](https://en.wikipedia.org/wiki/Binary_entropy_function)\n",
    "\n",
    "In terms of information theory, entropy is considered to be a measure of the uncertainty in a message.\n",
    "\n",
    "\n",
    "#### Scikit-Learn\n",
    "\n",
    "* [sklearn - User guide](http://scikit-learn.org/stable/user_guide.html#user-guide)\n",
    "\n",
    "* [Sklearn - API Reference](http://scikit-learn.org/stable/modules/classes.html)\n",
    "\n",
    "* [Model selection and evaluation](http://scikit-learn.org/stable/model_selection.html) \n",
    "\n",
    "    * [Model evaluation: quantifying the quality of predictions](http://scikit-learn.org/stable/modules/model_evaluation.html#model-evaluation)\n",
    "\n",
    "* [Decision Trees](http://scikit-learn.org/stable/modules/tree.html)\n",
    "\n",
    "* [Machine Learning in Python](http://scikit-learn.org/stable/)\n",
    "\n",
    "* [Dataset API](http://scikit-learn.org/stable/datasets/index.html)\n",
    "\n",
    "* [sklearn - Metrics - Pairwise](http://scikit-learn.org/stable/modules/metrics.html)\n",
    "\n",
    "* [sklearn - Preprocesing (transformers)](http://scikit-learn.org/stable/modules/preprocessing.html)\n",
    "\n",
    "* [sklearn - Linear model](http://scikit-learn.org/stable/modules/linear_model.html)\n",
    "\n",
    "**Sklearn general workflow**\n",
    "\n",
    "```python\n",
    "import pandas as pd\n",
    "from sklearn.linear_model import LinearRegression\n",
    "from sklearn.cross_validation import train_test_split\n",
    "\n",
    "# Load data from csv file\n",
    "df = pd.read_csv('data/housing_prices.csv')\n",
    "X = df[['square_feet', 'num_rooms']].values\n",
    "y = df['price'].values\n",
    "\n",
    "# Split into training and test sets\n",
    "X_train, X_test, y_train, y_test = train_test_split(X, y, test_size=0.15)\n",
    "\n",
    "# Run Linear Regression\n",
    "regr = LinearRegression()\n",
    "regr.fit(X_train, y_train)\n",
    "print \"Intercept:\", regr.intercept_\n",
    "print \"Coefficients:\", regr.coef_\n",
    "print \"R^2 error:\", regr.score(X_test, y_test)\n",
    "predicted_y = regr.predict(X_test)\n",
    "```\n",
    "\n",
    "**[Polynomial Features](http://scikit-learn.org/stable/auto_examples/linear_model/plot_polynomial_interpolation.html)**\n",
    "**[Transformers](http://scikit-learn.org/stable/modules/preprocessing.html)\n",
    "\n",
    "```python\n",
    "import pandas as pd\n",
    "from sklearn.preprocessing import PolynomialFeatures\n",
    "from sklearn.linear_model import LinearRegression\n",
    "from sklearn.cross_validation import train_test_split\n",
    "\n",
    "# Load data is identical as above\n",
    "df = pd.read_csv('data/housing_prices.csv')\n",
    "X = df[['square_feet', 'num_rooms']]\n",
    "y = df['price']\n",
    "\n",
    "# Add the polynomial features\n",
    "poly = PolynomialFeatures(3)\n",
    "X_new = poly.fit_transform(X)\n",
    "\n",
    "# Split into training and test sets\n",
    "X_train, X_test, y_train, y_test = train_test_split(X_new, y, test_size=0.15)\n",
    "\n",
    "# Run Linear Regression (the same as above)\n",
    "regr = LinearRegression()\n",
    "regr.fit(X_train, y_train)\n",
    "print \"Intercept:\", regr.intercept_\n",
    "print \"Coefficients:\", regr.coef_\n",
    "print \"R^2 error:\", regr.score(X_test, y_test)\n",
    "predicted_y = regr.predict(X_test)\n",
    "```\n",
    "\n",
    "#### Pandas\n",
    "\n",
    "[Pandas ecosystem](http://pandas.pydata.org/pandas-docs/version/0.15.0/ecosystem.html#ecosystem-visualization)\n",
    "\n",
    "[Pandas](https://pandas.pydata.org/)\n",
    "\n",
    "using the column names\n",
    "df.loc[:, [‘colname0’, ‘colname1’]]\n",
    "df[[]] # double bracket\n",
    "\n",
    "using the column indices\n",
    "df.iloc[:, [0, 1]]\n"
   ]
  },
  {
   "cell_type": "code",
   "execution_count": 14,
   "metadata": {
    "collapsed": false
   },
   "outputs": [],
   "source": [
    "from __future__ import division\n",
    "\n",
    "from sklearn.datasets import make_classification\n",
    "from sklearn.linear_model import LogisticRegression\n",
    "from sklearn.model_selection import train_test_split, KFold\n",
    "from sklearn.metrics import roc_curve, accuracy_score, recall_score, roc_auc_score, precision_score\n",
    "from sklearn.metrics import auc\n",
    "\n",
    "from statsmodels.discrete.discrete_model import Logit\n",
    "from statsmodels.api import add_constant\n",
    "\n",
    "import numpy as np\n",
    "import pandas as pd\n",
    "\n",
    "from pandas.tools.plotting import scatter_matrix\n",
    "\n",
    "import matplotlib.pyplot as plt\n",
    "\n",
    "%matplotlib inline"
   ]
  },
  {
   "cell_type": "code",
   "execution_count": 15,
   "metadata": {
    "collapsed": false
   },
   "outputs": [],
   "source": [
    "X, y = make_classification(n_features=2, n_redundant=0, n_informative=2, n_samples=1000)\n",
    "Xtrain, Xtest, ytrain, ytest = train_test_split(X, y)"
   ]
  },
  {
   "cell_type": "code",
   "execution_count": 16,
   "metadata": {
    "collapsed": false
   },
   "outputs": [],
   "source": [
    "model = LogisticRegression().fit(Xtrain, ytrain)\n",
    "predicted_probabilities = model.predict_proba(Xtest)\n",
    "pp_col1 = predicted_probabilities[:, 1]"
   ]
  },
  {
   "cell_type": "markdown",
   "metadata": {},
   "source": [
    "Predicted probabilities - The first column is the probability that it belongs to class 0 and the second is the probability that it belongs to class 1.  These will always sum to 0, so with 2 classes, this is redundant. In this case, the second column is the one we should use since it has the probabilities we expect."
   ]
  },
  {
   "cell_type": "code",
   "execution_count": 17,
   "metadata": {
    "collapsed": false
   },
   "outputs": [
    {
     "data": {
      "image/png": "[encoded data removed]",
      "text/plain": [
       "<matplotlib.figure.Figure at 0x11ba6d910>"
      ]
     },
     "metadata": {},
     "output_type": "display_data"
    }
   ],
   "source": [
    "plt.plot(pp_col1[pp_col1.argsort()])\n",
    "plt.title('Logistic Regression\\nPredicted Probabilities of feature 1');"
   ]
  },
  {
   "cell_type": "code",
   "execution_count": 18,
   "metadata": {
    "collapsed": false
   },
   "outputs": [],
   "source": [
    "fpr, tpr, threshold = roc_curve(ytest, pp_col1)"
   ]
  },
  {
   "cell_type": "code",
   "execution_count": 19,
   "metadata": {
    "collapsed": false
   },
   "outputs": [
    {
     "data": {
      "image/png": "[encoded data removed]",
      "text/plain": [
       "<matplotlib.figure.Figure at 0x11bac2bd0>"
      ]
     },
     "metadata": {},
     "output_type": "display_data"
    }
   ],
   "source": [
    "plt.plot(fpr, tpr)\n",
    "plt.ylabel('TPR - Sensitivity')\n",
    "plt.xlabel('FPR - (1 - Specificity)')\n",
    "plt.title('ROC');"
   ]
  },
  {
   "cell_type": "markdown",
   "metadata": {},
   "source": [
    "#### Just for fun"
   ]
  },
  {
   "cell_type": "code",
   "execution_count": 20,
   "metadata": {
    "collapsed": true
   },
   "outputs": [],
   "source": [
    "def fun_roc_plot(true_y, y_estimates):\n",
    "    # args* : arrays\n",
    "    # y_estimates :  estimated probabilities\n",
    "    \n",
    "    tpr, fpr = [], []\n",
    "    \n",
    "    # Sigmoid function\n",
    "    p_threshold = y_estimates[y_estimates.argsort()]\n",
    "    \n",
    "    # probability_point is the probability distributionn of the prediction ()\n",
    "    for prob_point in p_threshold:\n",
    "        tn = sum((y_estimates < prob_point) & (true_y == 0))\n",
    "        fp = sum((y_estimates >= prob_point) & (true_y == 0))\n",
    "        tp = sum((y_estimates >= prob_point) & (true_y == 1))\n",
    "        fn = sum((y_estimates < prob_point) & (true_y == 1))\n",
    "        \n",
    "        tpr.append(tp * 1. / (tp + fn))\n",
    "        fpr.append(fp * 1. / (tn + fp))\n",
    "        \n",
    "    plt.plot(fpr, tpr)\n",
    "    plt.title('Just for fun ROC curve')\n",
    "    plt.xlabel('FPR')\n",
    "    plt.ylabel('TPR')\n",
    "    \n",
    "    return tpr, fpr, p_threshold    "
   ]
  },
  {
   "cell_type": "code",
   "execution_count": 21,
   "metadata": {
    "collapsed": false
   },
   "outputs": [
    {
     "data": {
      "image/png": "[encoded data removed]",
      "text/plain": [
       "<matplotlib.figure.Figure at 0x119119750>"
      ]
     },
     "metadata": {},
     "output_type": "display_data"
    }
   ],
   "source": [
    "fpr, tpr, threshold = fun_roc_plot(ytest, pp_col1)"
   ]
  },
  {
   "cell_type": "markdown",
   "metadata": {
    "collapsed": true
   },
   "source": [
    "#### FICO score dataset\n",
    "\n",
    "We want to predict whether or not user will get approved for a loan of 11% interest rate given the FICO Score, Loan Length and Loan Amount. "
   ]
  },
  {
   "cell_type": "code",
   "execution_count": 22,
   "metadata": {
    "collapsed": false
   },
   "outputs": [],
   "source": [
    "df = pd.read_csv('fico.csv')"
   ]
  },
  {
   "cell_type": "code",
   "execution_count": 23,
   "metadata": {
    "collapsed": false
   },
   "outputs": [
    {
     "name": "stdout",
     "output_type": "stream",
     "text": [
      "<class 'pandas.core.frame.DataFrame'>\n",
      "Int64Index: 2500 entries, 6 to 2497\n",
      "Data columns (total 5 columns):\n",
      "Interest.Rate     2500 non-null float64\n",
      "FICO.Score        2500 non-null int64\n",
      "Loan.Length       2500 non-null int64\n",
      "Monthly.Income    2499 non-null float64\n",
      "Loan.Amount       2500 non-null int64\n",
      "dtypes: float64(2), int64(3)\n",
      "memory usage: 117.2 KB\n"
     ]
    }
   ],
   "source": [
    "df.info()"
   ]
  },
  {
   "cell_type": "code",
   "execution_count": 24,
   "metadata": {
    "collapsed": false
   },
   "outputs": [],
   "source": [
    "y = (df['Interest.Rate'] <= 11).values\n",
    "X = (df[['FICO.Score', 'Loan.Length', 'Loan.Amount']]).values"
   ]
  },
  {
   "cell_type": "code",
   "execution_count": 25,
   "metadata": {
    "collapsed": false
   },
   "outputs": [],
   "source": [
    "X_train, X_test, y_train, y_test = train_test_split(X, y)"
   ]
  },
  {
   "cell_type": "code",
   "execution_count": 26,
   "metadata": {
    "collapsed": false
   },
   "outputs": [],
   "source": [
    "modelf = LogisticRegression().fit(X_train, y_train)\n",
    "probf = modelf.predict_proba(X_test)[:, 1]"
   ]
  },
  {
   "cell_type": "code",
   "execution_count": 27,
   "metadata": {
    "collapsed": false
   },
   "outputs": [
    {
     "data": {
      "image/png": "[encoded data removed]",
      "text/plain": [
       "<matplotlib.figure.Figure at 0x11bc7e950>"
      ]
     },
     "metadata": {},
     "output_type": "display_data"
    }
   ],
   "source": [
    "fprf, tprf, thresholdf = fun_roc_plot(y_test, probf)"
   ]
  },
  {
   "cell_type": "code",
   "execution_count": 28,
   "metadata": {
    "collapsed": false
   },
   "outputs": [
    {
     "data": {
      "text/plain": [
       "0.80959999999999999"
      ]
     },
     "execution_count": 28,
     "metadata": {},
     "output_type": "execute_result"
    }
   ],
   "source": [
    "modelf.score(X_test, y_test)"
   ]
  },
  {
   "cell_type": "code",
   "execution_count": 29,
   "metadata": {
    "collapsed": false
   },
   "outputs": [
    {
     "data": {
      "text/plain": [
       "0.41145833333333331"
      ]
     },
     "execution_count": 29,
     "metadata": {},
     "output_type": "execute_result"
    }
   ],
   "source": [
    "recall_score(y_test, modelf.predict(X_test))"
   ]
  },
  {
   "cell_type": "code",
   "execution_count": 30,
   "metadata": {
    "collapsed": false
   },
   "outputs": [
    {
     "data": {
      "text/plain": [
       "0.92941176470588238"
      ]
     },
     "execution_count": 30,
     "metadata": {},
     "output_type": "execute_result"
    }
   ],
   "source": [
    "precision_score(y_test, modelf.predict(X_test))"
   ]
  },
  {
   "cell_type": "markdown",
   "metadata": {
    "collapsed": true
   },
   "source": [
    "#### Let's get into grad school :D"
   ]
  },
  {
   "cell_type": "code",
   "execution_count": 31,
   "metadata": {
    "collapsed": true
   },
   "outputs": [],
   "source": [
    "df_ = pd.read_csv('grad.csv')"
   ]
  },
  {
   "cell_type": "code",
   "execution_count": 32,
   "metadata": {
    "collapsed": false
   },
   "outputs": [
    {
     "name": "stdout",
     "output_type": "stream",
     "text": [
      "<class 'pandas.core.frame.DataFrame'>\n",
      "RangeIndex: 400 entries, 0 to 399\n",
      "Data columns (total 4 columns):\n",
      "admit    400 non-null int64\n",
      "gre      400 non-null int64\n",
      "gpa      400 non-null float64\n",
      "rank     400 non-null int64\n",
      "dtypes: float64(1), int64(3)\n",
      "memory usage: 12.6 KB\n"
     ]
    }
   ],
   "source": [
    "df_.info()"
   ]
  },
  {
   "cell_type": "code",
   "execution_count": 33,
   "metadata": {
    "collapsed": false
   },
   "outputs": [
    {
     "data": {
      "text/html": [
       "<div>\n",
       "<table border=\"1\" class=\"dataframe\">\n",
       "  <thead>\n",
       "    <tr style=\"text-align: right;\">\n",
       "      <th></th>\n",
       "      <th>count</th>\n",
       "      <th>mean</th>\n",
       "      <th>std</th>\n",
       "      <th>min</th>\n",
       "      <th>25%</th>\n",
       "      <th>50%</th>\n",
       "      <th>75%</th>\n",
       "      <th>max</th>\n",
       "    </tr>\n",
       "  </thead>\n",
       "  <tbody>\n",
       "    <tr>\n",
       "      <th>admit</th>\n",
       "      <td>400.0</td>\n",
       "      <td>0.3175</td>\n",
       "      <td>0.466087</td>\n",
       "      <td>0.00</td>\n",
       "      <td>0.00</td>\n",
       "      <td>0.000</td>\n",
       "      <td>1.00</td>\n",
       "      <td>1.0</td>\n",
       "    </tr>\n",
       "    <tr>\n",
       "      <th>gre</th>\n",
       "      <td>400.0</td>\n",
       "      <td>587.7000</td>\n",
       "      <td>115.516536</td>\n",
       "      <td>220.00</td>\n",
       "      <td>520.00</td>\n",
       "      <td>580.000</td>\n",
       "      <td>660.00</td>\n",
       "      <td>800.0</td>\n",
       "    </tr>\n",
       "    <tr>\n",
       "      <th>gpa</th>\n",
       "      <td>400.0</td>\n",
       "      <td>3.3899</td>\n",
       "      <td>0.380567</td>\n",
       "      <td>2.26</td>\n",
       "      <td>3.13</td>\n",
       "      <td>3.395</td>\n",
       "      <td>3.67</td>\n",
       "      <td>4.0</td>\n",
       "    </tr>\n",
       "    <tr>\n",
       "      <th>rank</th>\n",
       "      <td>400.0</td>\n",
       "      <td>2.4850</td>\n",
       "      <td>0.944460</td>\n",
       "      <td>1.00</td>\n",
       "      <td>2.00</td>\n",
       "      <td>2.000</td>\n",
       "      <td>3.00</td>\n",
       "      <td>4.0</td>\n",
       "    </tr>\n",
       "  </tbody>\n",
       "</table>\n",
       "</div>"
      ],
      "text/plain": [
       "       count      mean         std     min     25%      50%     75%    max\n",
       "admit  400.0    0.3175    0.466087    0.00    0.00    0.000    1.00    1.0\n",
       "gre    400.0  587.7000  115.516536  220.00  520.00  580.000  660.00  800.0\n",
       "gpa    400.0    3.3899    0.380567    2.26    3.13    3.395    3.67    4.0\n",
       "rank   400.0    2.4850    0.944460    1.00    2.00    2.000    3.00    4.0"
      ]
     },
     "execution_count": 33,
     "metadata": {},
     "output_type": "execute_result"
    }
   ],
   "source": [
    "df_.describe().T"
   ]
  },
  {
   "cell_type": "code",
   "execution_count": 34,
   "metadata": {
    "collapsed": false
   },
   "outputs": [
    {
     "data": {
      "text/plain": [
       "0    273\n",
       "1    127\n",
       "Name: admit, dtype: int64"
      ]
     },
     "execution_count": 34,
     "metadata": {},
     "output_type": "execute_result"
    }
   ],
   "source": [
    "df_.admit.value_counts()"
   ]
  },
  {
   "cell_type": "code",
   "execution_count": 35,
   "metadata": {
    "collapsed": false
   },
   "outputs": [
    {
     "data": {
      "text/plain": [
       "0    0.6825\n",
       "1    0.3175\n",
       "Name: admit, dtype: float64"
      ]
     },
     "execution_count": 35,
     "metadata": {},
     "output_type": "execute_result"
    }
   ],
   "source": [
    "df_.admit.value_counts() / len(df_)"
   ]
  },
  {
   "cell_type": "code",
   "execution_count": 36,
   "metadata": {
    "collapsed": false
   },
   "outputs": [],
   "source": [
    "admit = pd.crosstab(df_.admit, df_['rank'])"
   ]
  },
  {
   "cell_type": "code",
   "execution_count": 37,
   "metadata": {
    "collapsed": false
   },
   "outputs": [
    {
     "data": {
      "text/html": [
       "<div>\n",
       "<table border=\"1\" class=\"dataframe\">\n",
       "  <thead>\n",
       "    <tr style=\"text-align: right;\">\n",
       "      <th>rank</th>\n",
       "      <th>1</th>\n",
       "      <th>2</th>\n",
       "      <th>3</th>\n",
       "      <th>4</th>\n",
       "    </tr>\n",
       "    <tr>\n",
       "      <th>admit</th>\n",
       "      <th></th>\n",
       "      <th></th>\n",
       "      <th></th>\n",
       "      <th></th>\n",
       "    </tr>\n",
       "  </thead>\n",
       "  <tbody>\n",
       "    <tr>\n",
       "      <th>0</th>\n",
       "      <td>28</td>\n",
       "      <td>97</td>\n",
       "      <td>93</td>\n",
       "      <td>55</td>\n",
       "    </tr>\n",
       "    <tr>\n",
       "      <th>1</th>\n",
       "      <td>33</td>\n",
       "      <td>54</td>\n",
       "      <td>28</td>\n",
       "      <td>12</td>\n",
       "    </tr>\n",
       "  </tbody>\n",
       "</table>\n",
       "</div>"
      ],
      "text/plain": [
       "rank    1   2   3   4\n",
       "admit                \n",
       "0      28  97  93  55\n",
       "1      33  54  28  12"
      ]
     },
     "execution_count": 37,
     "metadata": {},
     "output_type": "execute_result"
    }
   ],
   "source": [
    "admit"
   ]
  },
  {
   "cell_type": "code",
   "execution_count": 38,
   "metadata": {
    "collapsed": false
   },
   "outputs": [
    {
     "data": {
      "text/html": [
       "<div>\n",
       "<table border=\"1\" class=\"dataframe\">\n",
       "  <thead>\n",
       "    <tr style=\"text-align: right;\">\n",
       "      <th>rank</th>\n",
       "      <th>1</th>\n",
       "      <th>2</th>\n",
       "      <th>3</th>\n",
       "      <th>4</th>\n",
       "    </tr>\n",
       "    <tr>\n",
       "      <th>admit</th>\n",
       "      <th></th>\n",
       "      <th></th>\n",
       "      <th></th>\n",
       "      <th></th>\n",
       "    </tr>\n",
       "  </thead>\n",
       "  <tbody>\n",
       "    <tr>\n",
       "      <th>0</th>\n",
       "      <td>0.459016</td>\n",
       "      <td>0.642384</td>\n",
       "      <td>0.768595</td>\n",
       "      <td>0.820896</td>\n",
       "    </tr>\n",
       "    <tr>\n",
       "      <th>1</th>\n",
       "      <td>0.540984</td>\n",
       "      <td>0.357616</td>\n",
       "      <td>0.231405</td>\n",
       "      <td>0.179104</td>\n",
       "    </tr>\n",
       "  </tbody>\n",
       "</table>\n",
       "</div>"
      ],
      "text/plain": [
       "rank          1         2         3         4\n",
       "admit                                        \n",
       "0      0.459016  0.642384  0.768595  0.820896\n",
       "1      0.540984  0.357616  0.231405  0.179104"
      ]
     },
     "execution_count": 38,
     "metadata": {},
     "output_type": "execute_result"
    }
   ],
   "source": [
    "admit / admit.apply(sum)"
   ]
  },
  {
   "cell_type": "code",
   "execution_count": 39,
   "metadata": {
    "collapsed": false
   },
   "outputs": [
    {
     "data": {
      "text/plain": [
       "<matplotlib.axes._subplots.AxesSubplot at 0x11bc733d0>"
      ]
     },
     "execution_count": 39,
     "metadata": {},
     "output_type": "execute_result"
    },
    {
     "data": {
      "image/png": "[encoded data removed]",
      "text/plain": [
       "<matplotlib.figure.Figure at 0x11bacefd0>"
      ]
     },
     "metadata": {},
     "output_type": "display_data"
    }
   ],
   "source": [
    "(admit/admit.apply(sum)).plot(kind = 'bar')"
   ]
  },
  {
   "cell_type": "code",
   "execution_count": 40,
   "metadata": {
    "collapsed": false
   },
   "outputs": [
    {
     "data": {
      "image/png": "[encoded data removed]",
      "text/plain": [
       "<matplotlib.figure.Figure at 0x11bf8cfd0>"
      ]
     },
     "metadata": {},
     "output_type": "display_data"
    }
   ],
   "source": [
    "df_.hist();"
   ]
  },
  {
   "cell_type": "code",
   "execution_count": 41,
   "metadata": {
    "collapsed": false
   },
   "outputs": [
    {
     "data": {
      "image/png": "[encoded data removed]",
      "text/plain": [
       "<matplotlib.figure.Figure at 0x11c67aa10>"
      ]
     },
     "metadata": {},
     "output_type": "display_data"
    }
   ],
   "source": [
    "scatter_matrix(df_, figsize=(6, 6));"
   ]
  },
  {
   "cell_type": "code",
   "execution_count": 42,
   "metadata": {
    "collapsed": false
   },
   "outputs": [],
   "source": [
    "model_logit = Logit(df_.admit, add_constant(df_.drop('admit', axis=1)))"
   ]
  },
  {
   "cell_type": "code",
   "execution_count": 43,
   "metadata": {
    "collapsed": false
   },
   "outputs": [
    {
     "name": "stdout",
     "output_type": "stream",
     "text": [
      "Optimization terminated successfully.\n",
      "         Current function value: 0.574302\n",
      "         Iterations 6\n"
     ]
    },
    {
     "data": {
      "text/html": [
       "<table class=\"simpletable\">\n",
       "<caption>Logit Regression Results</caption>\n",
       "<tr>\n",
       "  <th>Dep. Variable:</th>       <td>admit</td>      <th>  No. Observations:  </th>  <td>   400</td>  \n",
       "</tr>\n",
       "<tr>\n",
       "  <th>Model:</th>               <td>Logit</td>      <th>  Df Residuals:      </th>  <td>   396</td>  \n",
       "</tr>\n",
       "<tr>\n",
       "  <th>Method:</th>               <td>MLE</td>       <th>  Df Model:          </th>  <td>     3</td>  \n",
       "</tr>\n",
       "<tr>\n",
       "  <th>Date:</th>          <td>Thu, 20 Sep 2018</td> <th>  Pseudo R-squ.:     </th>  <td>0.08107</td> \n",
       "</tr>\n",
       "<tr>\n",
       "  <th>Time:</th>              <td>10:58:15</td>     <th>  Log-Likelihood:    </th> <td> -229.72</td> \n",
       "</tr>\n",
       "<tr>\n",
       "  <th>converged:</th>           <td>True</td>       <th>  LL-Null:           </th> <td> -249.99</td> \n",
       "</tr>\n",
       "<tr>\n",
       "  <th> </th>                      <td> </td>        <th>  LLR p-value:       </th> <td>8.207e-09</td>\n",
       "</tr>\n",
       "</table>\n",
       "<table class=\"simpletable\">\n",
       "<tr>\n",
       "    <td></td>       <th>coef</th>     <th>std err</th>      <th>z</th>      <th>P>|z|</th> <th>[95.0% Conf. Int.]</th> \n",
       "</tr>\n",
       "<tr>\n",
       "  <th>const</th> <td>   -3.4495</td> <td>    1.133</td> <td>   -3.045</td> <td> 0.002</td> <td>   -5.670    -1.229</td>\n",
       "</tr>\n",
       "<tr>\n",
       "  <th>gre</th>   <td>    0.0023</td> <td>    0.001</td> <td>    2.101</td> <td> 0.036</td> <td>    0.000     0.004</td>\n",
       "</tr>\n",
       "<tr>\n",
       "  <th>gpa</th>   <td>    0.7770</td> <td>    0.327</td> <td>    2.373</td> <td> 0.018</td> <td>    0.135     1.419</td>\n",
       "</tr>\n",
       "<tr>\n",
       "  <th>rank</th>  <td>   -0.5600</td> <td>    0.127</td> <td>   -4.405</td> <td> 0.000</td> <td>   -0.809    -0.311</td>\n",
       "</tr>\n",
       "</table>"
      ],
      "text/plain": [
       "<class 'statsmodels.iolib.summary.Summary'>\n",
       "\"\"\"\n",
       "                           Logit Regression Results                           \n",
       "==============================================================================\n",
       "Dep. Variable:                  admit   No. Observations:                  400\n",
       "Model:                          Logit   Df Residuals:                      396\n",
       "Method:                           MLE   Df Model:                            3\n",
       "Date:                Thu, 20 Sep 2018   Pseudo R-squ.:                 0.08107\n",
       "Time:                        10:58:15   Log-Likelihood:                -229.72\n",
       "converged:                       True   LL-Null:                       -249.99\n",
       "                                        LLR p-value:                 8.207e-09\n",
       "==============================================================================\n",
       "                 coef    std err          z      P>|z|      [95.0% Conf. Int.]\n",
       "------------------------------------------------------------------------------\n",
       "const         -3.4495      1.133     -3.045      0.002        -5.670    -1.229\n",
       "gre            0.0023      0.001      2.101      0.036         0.000     0.004\n",
       "gpa            0.7770      0.327      2.373      0.018         0.135     1.419\n",
       "rank          -0.5600      0.127     -4.405      0.000        -0.809    -0.311\n",
       "==============================================================================\n",
       "\"\"\""
      ]
     },
     "execution_count": 43,
     "metadata": {},
     "output_type": "execute_result"
    }
   ],
   "source": [
    "model_logit.fit().summary()"
   ]
  },
  {
   "cell_type": "code",
   "execution_count": 44,
   "metadata": {
    "collapsed": false
   },
   "outputs": [],
   "source": [
    "X = df_.drop('admit', axis=1).values\n",
    "y = df_.admit\n",
    "features = df_.drop('admit', axis=1).columns"
   ]
  },
  {
   "cell_type": "code",
   "execution_count": 45,
   "metadata": {
    "collapsed": true
   },
   "outputs": [],
   "source": [
    "def logistic_scores(X, y, k):\n",
    "    acc = []\n",
    "    preci = []\n",
    "    recall = []\n",
    "    auc_ = []\n",
    "    nkf = 0\n",
    "    \n",
    "    kf = KFold(n_splits= k, shuffle=True)\n",
    "    \n",
    "    for itrain, itest in kf.split(X):\n",
    "        model = LogisticRegression().fit(X[itrain], y[itrain])\n",
    "        \n",
    "        yhat = model.predict(X[itest])\n",
    "        \n",
    "        acc.append(accuracy_score(y[itest], yhat))\n",
    "        preci.append(precision_score(y[itest], yhat))\n",
    "        recall.append(recall_score(y[itest], yhat))\n",
    "        \n",
    "        prob = model.predict_proba(X[itest])[:, 1]\n",
    "        fpr, tpr, threshold = roc_curve(y[itest], prob)\n",
    "        \n",
    "        auc_.append(auc(fpr, tpr))\n",
    "        \n",
    "        nkf += 1\n",
    "    \n",
    "    plt.plot(range(nkf), auc_)\n",
    "    \n",
    "    \n",
    "    print 'KFolds: ', nkf\n",
    "    print '--Average values--'\n",
    "    print 'Accuracy: ', np.mean(acc)\n",
    "    print 'Note: Accuracy is not recommended for imbalanced classes \\n'\n",
    "    print 'Precision: ', np.mean(preci)\n",
    "    print 'Recall: ', np.mean(recall)\n",
    "    \n",
    "    \n",
    "    "
   ]
  },
  {
   "cell_type": "code",
   "execution_count": 46,
   "metadata": {
    "collapsed": false
   },
   "outputs": [
    {
     "name": "stdout",
     "output_type": "stream",
     "text": [
      "KFolds:  9\n",
      "--Average values--\n",
      "Accuracy:  0.694893378227\n",
      "Note: Accuracy is not recommended for imbalanced classes \n",
      "\n",
      "Precision:  0.580555555556\n",
      "Recall:  0.210273087479\n"
     ]
    },
    {
     "data": {
      "image/png": "[encoded data removed]",
      "text/plain": [
       "<matplotlib.figure.Figure at 0x11cd60a50>"
      ]
     },
     "metadata": {},
     "output_type": "display_data"
    }
   ],
   "source": [
    "logistic_scores(X, y, 9)"
   ]
  },
  {
   "cell_type": "markdown",
   "metadata": {
    "collapsed": true
   },
   "source": [
    "#### Get dummies\n",
    "\n",
    "Rank columm is ordinal where we assume an equal change betweek ranking levels, we can consider it to be categorical"
   ]
  },
  {
   "cell_type": "code",
   "execution_count": 76,
   "metadata": {
    "collapsed": false
   },
   "outputs": [],
   "source": [
    "Xd = df_.drop(['admit'], axis=1).values\n",
    "# Xd = df_.drop(['rank', 'admit'], axis=1).join(pd.get_dummies(df_['rank'], prefix='rank')).values\n",
    "yd = df_.admit.values\n",
    "features = df_.columns"
   ]
  },
  {
   "cell_type": "code",
   "execution_count": 77,
   "metadata": {
    "collapsed": false
   },
   "outputs": [
    {
     "data": {
      "text/plain": [
       "Index([u'admit', u'gre', u'gpa', u'rank'], dtype='object')"
      ]
     },
     "execution_count": 77,
     "metadata": {},
     "output_type": "execute_result"
    }
   ],
   "source": [
    "features"
   ]
  },
  {
   "cell_type": "code",
   "execution_count": 78,
   "metadata": {
    "collapsed": true
   },
   "outputs": [],
   "source": [
    "Xdtrain, Xdtest, ydtrain, ydtest = train_test_split(Xd, yd)"
   ]
  },
  {
   "cell_type": "code",
   "execution_count": 79,
   "metadata": {
    "collapsed": false
   },
   "outputs": [],
   "source": [
    "modeld = LogisticRegression().fit(Xdtrain, ydtrain)\n",
    "probd = modeld.predict_proba(Xdtest)"
   ]
  },
  {
   "cell_type": "code",
   "execution_count": 80,
   "metadata": {
    "collapsed": false
   },
   "outputs": [],
   "source": [
    "fprd, tprd, thresd = roc_curve(ydtest, probd[:, 1])"
   ]
  },
  {
   "cell_type": "code",
   "execution_count": 81,
   "metadata": {
    "collapsed": false
   },
   "outputs": [
    {
     "data": {
      "image/png": "[encoded data removed]",
      "text/plain": [
       "<matplotlib.figure.Figure at 0x11bdeb0d0>"
      ]
     },
     "metadata": {},
     "output_type": "display_data"
    }
   ],
   "source": [
    "plt.plot(fprd, tprd)\n",
    "plt.axvline(.4)\n",
    "plt.axhline(.6)\n",
    "plt.xlabel('FPR')\n",
    "plt.ylabel('TPR')\n",
    "plt.title('ROC curve with threshold TPR > 60% and FPR < 40%');"
   ]
  },
  {
   "cell_type": "code",
   "execution_count": 82,
   "metadata": {
    "collapsed": false
   },
   "outputs": [
    {
     "data": {
      "text/plain": [
       "[(0.028571428571428571, 0.0, 0.67382398311752645),\n",
       " (0.057142857142857141, 0.0, 0.65426547983248806),\n",
       " (0.11428571428571428, 0.0, 0.63626151919069285),\n",
       " (0.17142857142857143, 0.0, 0.61359818497356977),\n",
       " (0.17142857142857143, 0.030769230769230771, 0.56340498269112305),\n",
       " (0.20000000000000001, 0.030769230769230771, 0.55914033210318292),\n",
       " (0.20000000000000001, 0.076923076923076927, 0.50506757877570396),\n",
       " (0.25714285714285712, 0.076923076923076927, 0.4938127864173732),\n",
       " (0.25714285714285712, 0.18461538461538463, 0.43146418384205731),\n",
       " (0.31428571428571428, 0.18461538461538463, 0.42063186436781658),\n",
       " (0.31428571428571428, 0.20000000000000001, 0.42025389314566852),\n",
       " (0.37142857142857144, 0.20000000000000001, 0.40244452676727394),\n",
       " (0.37142857142857144, 0.23076923076923078, 0.40060474150153419),\n",
       " (0.42857142857142855, 0.23076923076923078, 0.3923813641040641),\n",
       " (0.42857142857142855, 0.30769230769230771, 0.37901337405611596),\n",
       " (0.54285714285714282, 0.30769230769230771, 0.36828308744666138),\n",
       " (0.54285714285714282, 0.36923076923076925, 0.3560289710764285),\n",
       " (0.62857142857142856, 0.36923076923076925, 0.35088425391443112),\n",
       " (0.62857142857142856, 0.52307692307692311, 0.28179916068842581),\n",
       " (0.65714285714285714, 0.52307692307692311, 0.27713694374134679),\n",
       " (0.65714285714285714, 0.59999999999999998, 0.23256481458817194),\n",
       " (0.74285714285714288, 0.59999999999999998, 0.22890648962426138),\n",
       " (0.74285714285714288, 0.61538461538461542, 0.22549923492554672),\n",
       " (0.80000000000000004, 0.61538461538461542, 0.20640195718890683),\n",
       " (0.80000000000000004, 0.64615384615384619, 0.19352899769195389),\n",
       " (0.82857142857142863, 0.64615384615384619, 0.18852831814126753),\n",
       " (0.82857142857142863, 0.69230769230769229, 0.17665458145341509),\n",
       " (0.8571428571428571, 0.69230769230769229, 0.17029185535653757),\n",
       " (0.8571428571428571, 0.76923076923076927, 0.14831088283402458),\n",
       " (0.88571428571428568, 0.76923076923076927, 0.14757539767777805),\n",
       " (0.88571428571428568, 0.86153846153846159, 0.12011046542462589),\n",
       " (0.94285714285714284, 0.86153846153846159, 0.11817791478781731),\n",
       " (0.94285714285714284, 0.92307692307692313, 0.1030693627191189),\n",
       " (0.97142857142857142, 0.92307692307692313, 0.10192912215826382),\n",
       " (0.97142857142857142, 0.98461538461538467, 0.087052286311808627),\n",
       " (1.0, 0.98461538461538467, 0.087016102027239098),\n",
       " (1.0, 1.0, 0.076433454942095566)]"
      ]
     },
     "execution_count": 82,
     "metadata": {},
     "output_type": "execute_result"
    }
   ],
   "source": [
    "zip(tprd, fprd, thresd)"
   ]
  },
  {
   "cell_type": "markdown",
   "metadata": {},
   "source": [
    "#### Thresholds\n",
    "\n",
    "TPR > 60% and FPR < 40%"
   ]
  },
  {
   "cell_type": "code",
   "execution_count": 83,
   "metadata": {
    "collapsed": false
   },
   "outputs": [
    {
     "data": {
      "text/plain": [
       "array([ 0.35088425])"
      ]
     },
     "execution_count": 83,
     "metadata": {},
     "output_type": "execute_result"
    }
   ],
   "source": [
    "np.array(thresd)[(np.array(tprd) > 0.6) & (np.array(fprd < 0.4))]"
   ]
  },
  {
   "cell_type": "markdown",
   "metadata": {},
   "source": [
    "A threshold of 0.31 - 0.34 will give us a TPR ~75% and FPR ~34%"
   ]
  },
  {
   "cell_type": "markdown",
   "metadata": {},
   "source": [
    "#### Maximize the TPR \n",
    "\n",
    "We want to maximize the TPR and don't care as much about the FPR. With a threshold of 0.23930233638392018, we can get a TPR of 96.4%. THe FPR will be 75%, but we are okay with this sacrifice in order to avoid false negatives"
   ]
  },
  {
   "cell_type": "code",
   "execution_count": 85,
   "metadata": {
    "collapsed": false
   },
   "outputs": [
    {
     "name": "stdout",
     "output_type": "stream",
     "text": [
      "KFolds:  6\n",
      "--Average values--\n",
      "Accuracy:  0.709822101613\n",
      "Note: Accuracy is not recommended for imbalanced classes \n",
      "\n",
      "Precision:  0.611742424242\n",
      "Recall:  0.221400173689\n"
     ]
    },
    {
     "data": {
      "image/png": "[encoded data removed]",
      "text/plain": [
       "<matplotlib.figure.Figure at 0x11d2faa10>"
      ]
     },
     "metadata": {},
     "output_type": "display_data"
    }
   ],
   "source": [
    "logistic_scores(Xd, yd, 6)"
   ]
  },
  {
   "cell_type": "markdown",
   "metadata": {
    "collapsed": true
   },
   "source": [
    "#### Beta coefficients - Odds Ratio"
   ]
  },
  {
   "cell_type": "code",
   "execution_count": 86,
   "metadata": {
    "collapsed": false
   },
   "outputs": [
    {
     "data": {
      "text/plain": [
       "array([[ 0.00166357,  0.33726829, -0.71701043]])"
      ]
     },
     "execution_count": 86,
     "metadata": {},
     "output_type": "execute_result"
    }
   ],
   "source": [
    "modeld.coef_"
   ]
  },
  {
   "cell_type": "code",
   "execution_count": 87,
   "metadata": {
    "collapsed": false
   },
   "outputs": [
    {
     "data": {
      "text/plain": [
       "array([[ 1.00166496,  1.40111492,  0.48820961]])"
      ]
     },
     "execution_count": 87,
     "metadata": {},
     "output_type": "execute_result"
    }
   ],
   "source": [
    "np.exp(modeld.coef_)"
   ]
  },
  {
   "cell_type": "markdown",
   "metadata": {
    "collapsed": true
   },
   "source": [
    "The odds ratio from a one unit change in each feature.\n",
    "\n",
    "- If your GRE score is one point higher, your odds of getting admitted are 1.001 times greater.\n",
    "\n",
    "- If your GPA is one point higher, your odds of being admitted are 1.4 times higher. \n",
    "\n",
    "- If the school rank is one point higher, your odds of being admitted are 0.488 times lower.\n"
   ]
  },
  {
   "cell_type": "markdown",
   "metadata": {
    "collapsed": true
   },
   "source": [
    "\n",
    "#### Improve your odds\n",
    "\n",
    "In order to double the chances of admission we find the value k\n",
    "\n",
    "$ e^{k\\beta _{i}}= 2$\n",
    "\n",
    "$ k ={\\displaystyle {\\frac {ln(2)}{\\beta_{i}}}}$\n",
    "\n"
   ]
  },
  {
   "cell_type": "code",
   "execution_count": 88,
   "metadata": {
    "collapsed": false
   },
   "outputs": [
    {
     "name": "stdout",
     "output_type": "stream",
     "text": [
      "[[ 416.6618736     2.0551804    -0.96671841]]\n"
     ]
    }
   ],
   "source": [
    "print np.log(2) / modeld.coef_"
   ]
  },
  {
   "cell_type": "code",
   "execution_count": 123,
   "metadata": {
    "collapsed": false
   },
   "outputs": [
    {
     "data": {
      "text/html": [
       "<div>\n",
       "<table border=\"1\" class=\"dataframe\">\n",
       "  <thead>\n",
       "    <tr style=\"text-align: right;\">\n",
       "      <th></th>\n",
       "      <th>gre</th>\n",
       "      <th>gpa</th>\n",
       "      <th>rank</th>\n",
       "    </tr>\n",
       "  </thead>\n",
       "  <tbody>\n",
       "    <tr>\n",
       "      <th>0</th>\n",
       "      <td>380</td>\n",
       "      <td>3.61</td>\n",
       "      <td>3</td>\n",
       "    </tr>\n",
       "    <tr>\n",
       "      <th>1</th>\n",
       "      <td>660</td>\n",
       "      <td>3.67</td>\n",
       "      <td>3</td>\n",
       "    </tr>\n",
       "    <tr>\n",
       "      <th>2</th>\n",
       "      <td>800</td>\n",
       "      <td>4.00</td>\n",
       "      <td>1</td>\n",
       "    </tr>\n",
       "  </tbody>\n",
       "</table>\n",
       "</div>"
      ],
      "text/plain": [
       "   gre   gpa  rank\n",
       "0  380  3.61     3\n",
       "1  660  3.67     3\n",
       "2  800  4.00     1"
      ]
     },
     "execution_count": 123,
     "metadata": {},
     "output_type": "execute_result"
    }
   ],
   "source": [
    "df_.iloc[:3, 1:4]"
   ]
  },
  {
   "cell_type": "markdown",
   "metadata": {},
   "source": [
    "Increasing the GRE score by 416 points doubles the chance of getting in.\n",
    "\n",
    "Increasing the GPA score by 2.05 points doubles the chance of getting in.\n",
    "\n",
    "Decreasing (improving) the school rank by .96 doubles the chance of getting in.\n",
    "\n"
   ]
  },
  {
   "cell_type": "markdown",
   "metadata": {
    "collapsed": true
   },
   "source": [
    "#### Validating the model"
   ]
  },
  {
   "cell_type": "code",
   "execution_count": 161,
   "metadata": {
    "collapsed": true
   },
   "outputs": [],
   "source": [
    "df_val = pd.DataFrame({'rank': range(1, 5)})"
   ]
  },
  {
   "cell_type": "code",
   "execution_count": 162,
   "metadata": {
    "collapsed": false
   },
   "outputs": [
    {
     "data": {
      "text/html": [
       "<div>\n",
       "<table border=\"1\" class=\"dataframe\">\n",
       "  <thead>\n",
       "    <tr style=\"text-align: right;\">\n",
       "      <th></th>\n",
       "      <th>rank</th>\n",
       "    </tr>\n",
       "  </thead>\n",
       "  <tbody>\n",
       "    <tr>\n",
       "      <th>0</th>\n",
       "      <td>1</td>\n",
       "    </tr>\n",
       "    <tr>\n",
       "      <th>1</th>\n",
       "      <td>2</td>\n",
       "    </tr>\n",
       "    <tr>\n",
       "      <th>2</th>\n",
       "      <td>3</td>\n",
       "    </tr>\n",
       "    <tr>\n",
       "      <th>3</th>\n",
       "      <td>4</td>\n",
       "    </tr>\n",
       "  </tbody>\n",
       "</table>\n",
       "</div>"
      ],
      "text/plain": [
       "   rank\n",
       "0     1\n",
       "1     2\n",
       "2     3\n",
       "3     4"
      ]
     },
     "execution_count": 162,
     "metadata": {},
     "output_type": "execute_result"
    }
   ],
   "source": [
    "df_val"
   ]
  },
  {
   "cell_type": "code",
   "execution_count": 163,
   "metadata": {
    "collapsed": false
   },
   "outputs": [
    {
     "data": {
      "text/html": [
       "<div>\n",
       "<table border=\"1\" class=\"dataframe\">\n",
       "  <thead>\n",
       "    <tr style=\"text-align: right;\">\n",
       "      <th></th>\n",
       "      <th>gre_m</th>\n",
       "      <th>gpa_m</th>\n",
       "      <th>rank</th>\n",
       "    </tr>\n",
       "  </thead>\n",
       "  <tbody>\n",
       "    <tr>\n",
       "      <th>0</th>\n",
       "      <td>587.7</td>\n",
       "      <td>3.3899</td>\n",
       "      <td>1</td>\n",
       "    </tr>\n",
       "    <tr>\n",
       "      <th>1</th>\n",
       "      <td>587.7</td>\n",
       "      <td>3.3899</td>\n",
       "      <td>2</td>\n",
       "    </tr>\n",
       "    <tr>\n",
       "      <th>2</th>\n",
       "      <td>587.7</td>\n",
       "      <td>3.3899</td>\n",
       "      <td>3</td>\n",
       "    </tr>\n",
       "    <tr>\n",
       "      <th>3</th>\n",
       "      <td>587.7</td>\n",
       "      <td>3.3899</td>\n",
       "      <td>4</td>\n",
       "    </tr>\n",
       "  </tbody>\n",
       "</table>\n",
       "</div>"
      ],
      "text/plain": [
       "   gre_m   gpa_m  rank\n",
       "0  587.7  3.3899     1\n",
       "1  587.7  3.3899     2\n",
       "2  587.7  3.3899     3\n",
       "3  587.7  3.3899     4"
      ]
     },
     "execution_count": 163,
     "metadata": {},
     "output_type": "execute_result"
    }
   ],
   "source": [
    "df_val['gpa_m'] = df_.gpa.mean()\n",
    "df_val['gre_m'] = df_.gre.mean()\n",
    "df_val = df_val[['gre_m','gpa_m', 'rank' ]]\n",
    "df_val"
   ]
  },
  {
   "cell_type": "markdown",
   "metadata": {
    "collapsed": true
   },
   "source": [
    "#### Evaluating with our fitted model: 'modeld'"
   ]
  },
  {
   "cell_type": "code",
   "execution_count": 164,
   "metadata": {
    "collapsed": false
   },
   "outputs": [
    {
     "data": {
      "text/plain": [
       "array([[ 587.7   ,    3.3899,    1.    ],\n",
       "       [ 587.7   ,    3.3899,    2.    ],\n",
       "       [ 587.7   ,    3.3899,    3.    ],\n",
       "       [ 587.7   ,    3.3899,    4.    ]])"
      ]
     },
     "execution_count": 164,
     "metadata": {},
     "output_type": "execute_result"
    }
   ],
   "source": [
    "df_val.values"
   ]
  },
  {
   "cell_type": "code",
   "execution_count": 165,
   "metadata": {
    "collapsed": false
   },
   "outputs": [
    {
     "data": {
      "text/plain": [
       "array([ 0.54155094,  0.3657664 ,  0.21969701,  0.12084597])"
      ]
     },
     "execution_count": 165,
     "metadata": {},
     "output_type": "execute_result"
    }
   ],
   "source": [
    "v_probabilities = modeld.predict_proba(df_val.values)[:, 1]\n",
    "v_probabilities"
   ]
  },
  {
   "cell_type": "code",
   "execution_count": 166,
   "metadata": {
    "collapsed": false
   },
   "outputs": [
    {
     "data": {
      "text/plain": [
       "array([ 1.18126744,  0.57670612,  0.28155347,  0.13745711])"
      ]
     },
     "execution_count": 166,
     "metadata": {},
     "output_type": "execute_result"
    }
   ],
   "source": [
    "v_odds = v_probabilities / (1 - v_probabilities)\n",
    "v_odds"
   ]
  },
  {
   "cell_type": "code",
   "execution_count": 171,
   "metadata": {
    "collapsed": false
   },
   "outputs": [
    {
     "data": {
      "image/png": "[encoded data removed]",
      "text/plain": [
       "<matplotlib.figure.Figure at 0x11c6626d0>"
      ]
     },
     "metadata": {},
     "output_type": "display_data"
    }
   ],
   "source": [
    "plt.plot(df_val['rank'], v_probabilities)\n",
    "plt.title('Probability of acceptance per school rank');"
   ]
  },
  {
   "cell_type": "code",
   "execution_count": 168,
   "metadata": {
    "collapsed": false
   },
   "outputs": [
    {
     "data": {
      "text/plain": [
       "[<matplotlib.lines.Line2D at 0x11c653dd0>]"
      ]
     },
     "execution_count": 168,
     "metadata": {},
     "output_type": "execute_result"
    },
    {
     "data": {
      "image/png": "[encoded data removed]",
      "text/plain": [
       "<matplotlib.figure.Figure at 0x11cc51c90>"
      ]
     },
     "metadata": {},
     "output_type": "display_data"
    }
   ],
   "source": [
    "plt.plot(df_val['rank'], v_odds)"
   ]
  },
  {
   "cell_type": "markdown",
   "metadata": {},
   "source": [
    "Since a linear change in rank changes the probability by a multiplicative factor, let's graph rank vs the log-odds."
   ]
  },
  {
   "cell_type": "code",
   "execution_count": 169,
   "metadata": {
    "collapsed": false
   },
   "outputs": [
    {
     "data": {
      "text/plain": [
       "[<matplotlib.lines.Line2D at 0x11bc1cc50>]"
      ]
     },
     "execution_count": 169,
     "metadata": {},
     "output_type": "execute_result"
    },
    {
     "data": {
      "image/png": "[encoded data removed]",
      "text/plain": [
       "<matplotlib.figure.Figure at 0x11cd60a90>"
      ]
     },
     "metadata": {},
     "output_type": "display_data"
    }
   ],
   "source": [
    "plt.plot(df_val['rank'], np.log(v_odds))"
   ]
  },
  {
   "cell_type": "markdown",
   "metadata": {},
   "source": [
    "y=mx+b function\n",
    "\n",
    "y-y1=m(x-x1)"
   ]
  },
  {
   "cell_type": "code",
   "execution_count": 176,
   "metadata": {
    "collapsed": false
   },
   "outputs": [],
   "source": [
    "dx = np.diff(df_val['rank'])\n",
    "dy = np.diff(np.log(v_odds))"
   ]
  },
  {
   "cell_type": "code",
   "execution_count": 177,
   "metadata": {
    "collapsed": true
   },
   "outputs": [],
   "source": [
    "slope = dy / dx"
   ]
  },
  {
   "cell_type": "code",
   "execution_count": 178,
   "metadata": {
    "collapsed": false
   },
   "outputs": [
    {
     "data": {
      "text/plain": [
       "array([-0.71701043, -0.71701043, -0.71701043])"
      ]
     },
     "execution_count": 178,
     "metadata": {},
     "output_type": "execute_result"
    }
   ],
   "source": [
    "slope"
   ]
  },
  {
   "cell_type": "markdown",
   "metadata": {
    "collapsed": true
   },
   "source": [
    "#### MIT and Harvard release de-identified learning data from open online courses \n",
    "\n",
    "[Harvard and MIT have released a great dataset around engagement statistics for their MOOC courses.](http://news.mit.edu/2014/mit-and-harvard-release-de-identified-learning-data-open-online-courses)\n",
    "\n",
    "Predicting the probability of 'engagement'\n",
    "\n",
    "Where:\n",
    "\n",
    "explored == 1 \n",
    "\n",
    "certified == 1\n",
    "\n",
    "Do not use columns ['grade', 'viewed', 'explored', 'certified'], these columns contain after 'engagement' information which are not usuful for predicting the class.\n",
    "\n",
    "\n"
   ]
  },
  {
   "cell_type": "code",
   "execution_count": 212,
   "metadata": {
    "collapsed": false
   },
   "outputs": [
    {
     "data": {
      "text/html": [
       "<div>\n",
       "<table border=\"1\" class=\"dataframe\">\n",
       "  <thead>\n",
       "    <tr style=\"text-align: right;\">\n",
       "      <th></th>\n",
       "      <th>0</th>\n",
       "      <th>1</th>\n",
       "    </tr>\n",
       "  </thead>\n",
       "  <tbody>\n",
       "    <tr>\n",
       "      <th>course_id</th>\n",
       "      <td>HarvardX/CB22x/2013_Spring</td>\n",
       "      <td>HarvardX/CS50x/2012</td>\n",
       "    </tr>\n",
       "    <tr>\n",
       "      <th>userid_DI</th>\n",
       "      <td>MHxPC130442623</td>\n",
       "      <td>MHxPC130442623</td>\n",
       "    </tr>\n",
       "    <tr>\n",
       "      <th>registered</th>\n",
       "      <td>1</td>\n",
       "      <td>1</td>\n",
       "    </tr>\n",
       "    <tr>\n",
       "      <th>viewed</th>\n",
       "      <td>0</td>\n",
       "      <td>1</td>\n",
       "    </tr>\n",
       "    <tr>\n",
       "      <th>explored</th>\n",
       "      <td>0</td>\n",
       "      <td>0</td>\n",
       "    </tr>\n",
       "    <tr>\n",
       "      <th>certified</th>\n",
       "      <td>0</td>\n",
       "      <td>0</td>\n",
       "    </tr>\n",
       "    <tr>\n",
       "      <th>final_cc_cname_DI</th>\n",
       "      <td>United States</td>\n",
       "      <td>United States</td>\n",
       "    </tr>\n",
       "    <tr>\n",
       "      <th>LoE_DI</th>\n",
       "      <td>NaN</td>\n",
       "      <td>NaN</td>\n",
       "    </tr>\n",
       "    <tr>\n",
       "      <th>YoB</th>\n",
       "      <td>NaN</td>\n",
       "      <td>NaN</td>\n",
       "    </tr>\n",
       "    <tr>\n",
       "      <th>gender</th>\n",
       "      <td>NaN</td>\n",
       "      <td>NaN</td>\n",
       "    </tr>\n",
       "    <tr>\n",
       "      <th>grade</th>\n",
       "      <td>0</td>\n",
       "      <td>0</td>\n",
       "    </tr>\n",
       "    <tr>\n",
       "      <th>start_time_DI</th>\n",
       "      <td>2012-12-19</td>\n",
       "      <td>2012-10-15</td>\n",
       "    </tr>\n",
       "    <tr>\n",
       "      <th>last_event_DI</th>\n",
       "      <td>2013-11-17</td>\n",
       "      <td>NaN</td>\n",
       "    </tr>\n",
       "    <tr>\n",
       "      <th>nevents</th>\n",
       "      <td>NaN</td>\n",
       "      <td>NaN</td>\n",
       "    </tr>\n",
       "    <tr>\n",
       "      <th>ndays_act</th>\n",
       "      <td>9</td>\n",
       "      <td>9</td>\n",
       "    </tr>\n",
       "    <tr>\n",
       "      <th>nplay_video</th>\n",
       "      <td>NaN</td>\n",
       "      <td>NaN</td>\n",
       "    </tr>\n",
       "    <tr>\n",
       "      <th>nchapters</th>\n",
       "      <td>NaN</td>\n",
       "      <td>1</td>\n",
       "    </tr>\n",
       "    <tr>\n",
       "      <th>nforum_posts</th>\n",
       "      <td>0</td>\n",
       "      <td>0</td>\n",
       "    </tr>\n",
       "    <tr>\n",
       "      <th>roles</th>\n",
       "      <td>NaN</td>\n",
       "      <td>NaN</td>\n",
       "    </tr>\n",
       "    <tr>\n",
       "      <th>incomplete_flag</th>\n",
       "      <td>1</td>\n",
       "      <td>1</td>\n",
       "    </tr>\n",
       "  </tbody>\n",
       "</table>\n",
       "</div>"
      ],
      "text/plain": [
       "                                            0                    1\n",
       "course_id          HarvardX/CB22x/2013_Spring  HarvardX/CS50x/2012\n",
       "userid_DI                      MHxPC130442623       MHxPC130442623\n",
       "registered                                  1                    1\n",
       "viewed                                      0                    1\n",
       "explored                                    0                    0\n",
       "certified                                   0                    0\n",
       "final_cc_cname_DI               United States        United States\n",
       "LoE_DI                                    NaN                  NaN\n",
       "YoB                                       NaN                  NaN\n",
       "gender                                    NaN                  NaN\n",
       "grade                                       0                    0\n",
       "start_time_DI                      2012-12-19           2012-10-15\n",
       "last_event_DI                      2013-11-17                  NaN\n",
       "nevents                                   NaN                  NaN\n",
       "ndays_act                                   9                    9\n",
       "nplay_video                               NaN                  NaN\n",
       "nchapters                                 NaN                    1\n",
       "nforum_posts                                0                    0\n",
       "roles                                     NaN                  NaN\n",
       "incomplete_flag                             1                    1"
      ]
     },
     "execution_count": 212,
     "metadata": {},
     "output_type": "execute_result"
    }
   ],
   "source": [
    "mdf = pd.read_csv('mooc.csv')\n",
    "mdf[:2].T"
   ]
  },
  {
   "cell_type": "code",
   "execution_count": 213,
   "metadata": {
    "collapsed": false
   },
   "outputs": [
    {
     "name": "stdout",
     "output_type": "stream",
     "text": [
      "<class 'pandas.core.frame.DataFrame'>\n",
      "RangeIndex: 641138 entries, 0 to 641137\n",
      "Data columns (total 20 columns):\n",
      "course_id            641138 non-null object\n",
      "userid_DI            641138 non-null object\n",
      "registered           641138 non-null int64\n",
      "viewed               641138 non-null int64\n",
      "explored             641138 non-null int64\n",
      "certified            641138 non-null int64\n",
      "final_cc_cname_DI    641138 non-null object\n",
      "LoE_DI               535130 non-null object\n",
      "YoB                  544533 non-null float64\n",
      "gender               554332 non-null object\n",
      "grade                592766 non-null object\n",
      "start_time_DI        641138 non-null object\n",
      "last_event_DI        462184 non-null object\n",
      "nevents              441987 non-null float64\n",
      "ndays_act            478395 non-null float64\n",
      "nplay_video          183608 non-null float64\n",
      "nchapters            382385 non-null float64\n",
      "nforum_posts         641138 non-null int64\n",
      "roles                0 non-null float64\n",
      "incomplete_flag      100161 non-null float64\n",
      "dtypes: float64(7), int64(5), object(8)\n",
      "memory usage: 97.8+ MB\n"
     ]
    }
   ],
   "source": [
    "mdf.info()"
   ]
  },
  {
   "cell_type": "code",
   "execution_count": 214,
   "metadata": {
    "collapsed": false
   },
   "outputs": [
    {
     "data": {
      "text/html": [
       "<div>\n",
       "<table border=\"1\" class=\"dataframe\">\n",
       "  <thead>\n",
       "    <tr style=\"text-align: right;\">\n",
       "      <th></th>\n",
       "      <th>count</th>\n",
       "      <th>mean</th>\n",
       "      <th>std</th>\n",
       "      <th>min</th>\n",
       "      <th>25%</th>\n",
       "      <th>50%</th>\n",
       "      <th>75%</th>\n",
       "      <th>max</th>\n",
       "    </tr>\n",
       "  </thead>\n",
       "  <tbody>\n",
       "    <tr>\n",
       "      <th>registered</th>\n",
       "      <td>641138.0</td>\n",
       "      <td>1.000000</td>\n",
       "      <td>0.000000</td>\n",
       "      <td>1.0</td>\n",
       "      <td>1.0</td>\n",
       "      <td>1.0</td>\n",
       "      <td>1.0</td>\n",
       "      <td>1.0</td>\n",
       "    </tr>\n",
       "    <tr>\n",
       "      <th>viewed</th>\n",
       "      <td>641138.0</td>\n",
       "      <td>0.624299</td>\n",
       "      <td>0.484304</td>\n",
       "      <td>0.0</td>\n",
       "      <td>0.0</td>\n",
       "      <td>1.0</td>\n",
       "      <td>1.0</td>\n",
       "      <td>1.0</td>\n",
       "    </tr>\n",
       "    <tr>\n",
       "      <th>explored</th>\n",
       "      <td>641138.0</td>\n",
       "      <td>0.061899</td>\n",
       "      <td>0.240973</td>\n",
       "      <td>0.0</td>\n",
       "      <td>0.0</td>\n",
       "      <td>0.0</td>\n",
       "      <td>0.0</td>\n",
       "      <td>1.0</td>\n",
       "    </tr>\n",
       "    <tr>\n",
       "      <th>certified</th>\n",
       "      <td>641138.0</td>\n",
       "      <td>0.027587</td>\n",
       "      <td>0.163786</td>\n",
       "      <td>0.0</td>\n",
       "      <td>0.0</td>\n",
       "      <td>0.0</td>\n",
       "      <td>0.0</td>\n",
       "      <td>1.0</td>\n",
       "    </tr>\n",
       "    <tr>\n",
       "      <th>YoB</th>\n",
       "      <td>544533.0</td>\n",
       "      <td>1985.253279</td>\n",
       "      <td>8.891814</td>\n",
       "      <td>1931.0</td>\n",
       "      <td>1982.0</td>\n",
       "      <td>1988.0</td>\n",
       "      <td>1991.0</td>\n",
       "      <td>2013.0</td>\n",
       "    </tr>\n",
       "    <tr>\n",
       "      <th>nevents</th>\n",
       "      <td>441987.0</td>\n",
       "      <td>431.008018</td>\n",
       "      <td>1516.116057</td>\n",
       "      <td>1.0</td>\n",
       "      <td>3.0</td>\n",
       "      <td>24.0</td>\n",
       "      <td>158.0</td>\n",
       "      <td>197757.0</td>\n",
       "    </tr>\n",
       "    <tr>\n",
       "      <th>ndays_act</th>\n",
       "      <td>478395.0</td>\n",
       "      <td>5.710254</td>\n",
       "      <td>11.866471</td>\n",
       "      <td>1.0</td>\n",
       "      <td>1.0</td>\n",
       "      <td>2.0</td>\n",
       "      <td>4.0</td>\n",
       "      <td>205.0</td>\n",
       "    </tr>\n",
       "    <tr>\n",
       "      <th>nplay_video</th>\n",
       "      <td>183608.0</td>\n",
       "      <td>114.844173</td>\n",
       "      <td>426.996844</td>\n",
       "      <td>1.0</td>\n",
       "      <td>5.0</td>\n",
       "      <td>18.0</td>\n",
       "      <td>73.0</td>\n",
       "      <td>98517.0</td>\n",
       "    </tr>\n",
       "    <tr>\n",
       "      <th>nchapters</th>\n",
       "      <td>382385.0</td>\n",
       "      <td>3.634423</td>\n",
       "      <td>4.490987</td>\n",
       "      <td>1.0</td>\n",
       "      <td>1.0</td>\n",
       "      <td>2.0</td>\n",
       "      <td>4.0</td>\n",
       "      <td>48.0</td>\n",
       "    </tr>\n",
       "    <tr>\n",
       "      <th>nforum_posts</th>\n",
       "      <td>641138.0</td>\n",
       "      <td>0.018968</td>\n",
       "      <td>0.229539</td>\n",
       "      <td>0.0</td>\n",
       "      <td>0.0</td>\n",
       "      <td>0.0</td>\n",
       "      <td>0.0</td>\n",
       "      <td>20.0</td>\n",
       "    </tr>\n",
       "    <tr>\n",
       "      <th>roles</th>\n",
       "      <td>0.0</td>\n",
       "      <td>NaN</td>\n",
       "      <td>NaN</td>\n",
       "      <td>NaN</td>\n",
       "      <td>NaN</td>\n",
       "      <td>NaN</td>\n",
       "      <td>NaN</td>\n",
       "      <td>NaN</td>\n",
       "    </tr>\n",
       "    <tr>\n",
       "      <th>incomplete_flag</th>\n",
       "      <td>100161.0</td>\n",
       "      <td>1.000000</td>\n",
       "      <td>0.000000</td>\n",
       "      <td>1.0</td>\n",
       "      <td>1.0</td>\n",
       "      <td>1.0</td>\n",
       "      <td>1.0</td>\n",
       "      <td>1.0</td>\n",
       "    </tr>\n",
       "  </tbody>\n",
       "</table>\n",
       "</div>"
      ],
      "text/plain": [
       "                    count         mean          std     min     25%     50%  \\\n",
       "registered       641138.0     1.000000     0.000000     1.0     1.0     1.0   \n",
       "viewed           641138.0     0.624299     0.484304     0.0     0.0     1.0   \n",
       "explored         641138.0     0.061899     0.240973     0.0     0.0     0.0   \n",
       "certified        641138.0     0.027587     0.163786     0.0     0.0     0.0   \n",
       "YoB              544533.0  1985.253279     8.891814  1931.0  1982.0  1988.0   \n",
       "nevents          441987.0   431.008018  1516.116057     1.0     3.0    24.0   \n",
       "ndays_act        478395.0     5.710254    11.866471     1.0     1.0     2.0   \n",
       "nplay_video      183608.0   114.844173   426.996844     1.0     5.0    18.0   \n",
       "nchapters        382385.0     3.634423     4.490987     1.0     1.0     2.0   \n",
       "nforum_posts     641138.0     0.018968     0.229539     0.0     0.0     0.0   \n",
       "roles                 0.0          NaN          NaN     NaN     NaN     NaN   \n",
       "incomplete_flag  100161.0     1.000000     0.000000     1.0     1.0     1.0   \n",
       "\n",
       "                    75%       max  \n",
       "registered          1.0       1.0  \n",
       "viewed              1.0       1.0  \n",
       "explored            0.0       1.0  \n",
       "certified           0.0       1.0  \n",
       "YoB              1991.0    2013.0  \n",
       "nevents           158.0  197757.0  \n",
       "ndays_act           4.0     205.0  \n",
       "nplay_video        73.0   98517.0  \n",
       "nchapters           4.0      48.0  \n",
       "nforum_posts        0.0      20.0  \n",
       "roles               NaN       NaN  \n",
       "incomplete_flag     1.0       1.0  "
      ]
     },
     "execution_count": 214,
     "metadata": {},
     "output_type": "execute_result"
    }
   ],
   "source": [
    "mdf.describe().T"
   ]
  },
  {
   "cell_type": "code",
   "execution_count": 280,
   "metadata": {
    "collapsed": false
   },
   "outputs": [],
   "source": [
    "mdf['engagement'] = mdf.explored | mdf.certified"
   ]
  },
  {
   "cell_type": "code",
   "execution_count": null,
   "metadata": {
    "collapsed": true
   },
   "outputs": [],
   "source": [
    "mdf.engagement.value_counts()"
   ]
  },
  {
   "cell_type": "code",
   "execution_count": 225,
   "metadata": {
    "collapsed": false
   },
   "outputs": [
    {
     "name": "stdout",
     "output_type": "stream",
     "text": [
      "<class 'pandas.core.frame.DataFrame'>\n",
      "RangeIndex: 641138 entries, 0 to 641137\n",
      "Data columns (total 21 columns):\n",
      "course_id            641138 non-null object\n",
      "userid_DI            641138 non-null object\n",
      "registered           641138 non-null int64\n",
      "viewed               641138 non-null int64\n",
      "explored             641138 non-null int64\n",
      "certified            641138 non-null int64\n",
      "final_cc_cname_DI    641138 non-null object\n",
      "LoE_DI               535130 non-null object\n",
      "YoB                  544533 non-null float64\n",
      "gender               554332 non-null object\n",
      "grade                592766 non-null object\n",
      "start_time_DI        641138 non-null object\n",
      "last_event_DI        462184 non-null object\n",
      "nevents              441987 non-null float64\n",
      "ndays_act            478395 non-null float64\n",
      "nplay_video          183608 non-null float64\n",
      "nchapters            382385 non-null float64\n",
      "nforum_posts         641138 non-null int64\n",
      "roles                0 non-null float64\n",
      "incomplete_flag      100161 non-null float64\n",
      "engagement           641138 non-null int64\n",
      "dtypes: float64(7), int64(6), object(8)\n",
      "memory usage: 102.7+ MB\n"
     ]
    }
   ],
   "source": [
    "mdf.info()"
   ]
  },
  {
   "cell_type": "code",
   "execution_count": 271,
   "metadata": {
    "collapsed": false
   },
   "outputs": [
    {
     "data": {
      "text/plain": [
       "array([nan, 'm', 'f', 'o'], dtype=object)"
      ]
     },
     "execution_count": 271,
     "metadata": {},
     "output_type": "execute_result"
    }
   ],
   "source": [
    "mdf.gender.unique()"
   ]
  },
  {
   "cell_type": "code",
   "execution_count": 272,
   "metadata": {
    "collapsed": false
   },
   "outputs": [
    {
     "data": {
      "text/plain": [
       "m    411520\n",
       "f    142795\n",
       "o        17\n",
       "Name: gender, dtype: int64"
      ]
     },
     "execution_count": 272,
     "metadata": {},
     "output_type": "execute_result"
    }
   ],
   "source": [
    "mdf.gender.value_counts()"
   ]
  },
  {
   "cell_type": "code",
   "execution_count": 269,
   "metadata": {
    "collapsed": false
   },
   "outputs": [
    {
     "data": {
      "text/plain": [
       "1.0     121837\n",
       "2.0     110085\n",
       "3.0      52296\n",
       "4.0      24937\n",
       "5.0      13838\n",
       "6.0       8536\n",
       "12.0      7987\n",
       "7.0       6556\n",
       "8.0       5009\n",
       "9.0       4091\n",
       "10.0      3598\n",
       "18.0      3411\n",
       "11.0      3258\n",
       "16.0      2890\n",
       "15.0      2684\n",
       "13.0      2053\n",
       "14.0      2021\n",
       "17.0      1877\n",
       "32.0       657\n",
       "20.0       624\n",
       "33.0       511\n",
       "19.0       473\n",
       "21.0       424\n",
       "31.0       385\n",
       "27.0       352\n",
       "26.0       339\n",
       "34.0       271\n",
       "25.0       250\n",
       "28.0       193\n",
       "30.0       181\n",
       "29.0       179\n",
       "24.0       157\n",
       "22.0       150\n",
       "23.0       149\n",
       "36.0        23\n",
       "35.0        16\n",
       "37.0        15\n",
       "40.0        12\n",
       "42.0        11\n",
       "39.0        10\n",
       "38.0         8\n",
       "43.0         6\n",
       "48.0         6\n",
       "41.0         5\n",
       "47.0         5\n",
       "45.0         3\n",
       "46.0         3\n",
       "44.0         3\n",
       "Name: nchapters, dtype: int64"
      ]
     },
     "execution_count": 269,
     "metadata": {},
     "output_type": "execute_result"
    }
   ],
   "source": [
    "mdf.nchapters.value_counts()"
   ]
  },
  {
   "cell_type": "code",
   "execution_count": 226,
   "metadata": {
    "collapsed": false
   },
   "outputs": [
    {
     "data": {
      "text/html": [
       "<div>\n",
       "<table border=\"1\" class=\"dataframe\">\n",
       "  <thead>\n",
       "    <tr style=\"text-align: right;\">\n",
       "      <th></th>\n",
       "      <th>count</th>\n",
       "      <th>mean</th>\n",
       "      <th>std</th>\n",
       "      <th>min</th>\n",
       "      <th>25%</th>\n",
       "      <th>50%</th>\n",
       "      <th>75%</th>\n",
       "      <th>max</th>\n",
       "    </tr>\n",
       "  </thead>\n",
       "  <tbody>\n",
       "    <tr>\n",
       "      <th>registered</th>\n",
       "      <td>641138.0</td>\n",
       "      <td>1.000000</td>\n",
       "      <td>0.000000</td>\n",
       "      <td>1.0</td>\n",
       "      <td>1.0</td>\n",
       "      <td>1.0</td>\n",
       "      <td>1.0</td>\n",
       "      <td>1.0</td>\n",
       "    </tr>\n",
       "    <tr>\n",
       "      <th>viewed</th>\n",
       "      <td>641138.0</td>\n",
       "      <td>0.624299</td>\n",
       "      <td>0.484304</td>\n",
       "      <td>0.0</td>\n",
       "      <td>0.0</td>\n",
       "      <td>1.0</td>\n",
       "      <td>1.0</td>\n",
       "      <td>1.0</td>\n",
       "    </tr>\n",
       "    <tr>\n",
       "      <th>explored</th>\n",
       "      <td>641138.0</td>\n",
       "      <td>0.061899</td>\n",
       "      <td>0.240973</td>\n",
       "      <td>0.0</td>\n",
       "      <td>0.0</td>\n",
       "      <td>0.0</td>\n",
       "      <td>0.0</td>\n",
       "      <td>1.0</td>\n",
       "    </tr>\n",
       "    <tr>\n",
       "      <th>certified</th>\n",
       "      <td>641138.0</td>\n",
       "      <td>0.027587</td>\n",
       "      <td>0.163786</td>\n",
       "      <td>0.0</td>\n",
       "      <td>0.0</td>\n",
       "      <td>0.0</td>\n",
       "      <td>0.0</td>\n",
       "      <td>1.0</td>\n",
       "    </tr>\n",
       "    <tr>\n",
       "      <th>YoB</th>\n",
       "      <td>544533.0</td>\n",
       "      <td>1985.253279</td>\n",
       "      <td>8.891814</td>\n",
       "      <td>1931.0</td>\n",
       "      <td>1982.0</td>\n",
       "      <td>1988.0</td>\n",
       "      <td>1991.0</td>\n",
       "      <td>2013.0</td>\n",
       "    </tr>\n",
       "    <tr>\n",
       "      <th>nevents</th>\n",
       "      <td>441987.0</td>\n",
       "      <td>431.008018</td>\n",
       "      <td>1516.116057</td>\n",
       "      <td>1.0</td>\n",
       "      <td>3.0</td>\n",
       "      <td>24.0</td>\n",
       "      <td>158.0</td>\n",
       "      <td>197757.0</td>\n",
       "    </tr>\n",
       "    <tr>\n",
       "      <th>ndays_act</th>\n",
       "      <td>478395.0</td>\n",
       "      <td>5.710254</td>\n",
       "      <td>11.866471</td>\n",
       "      <td>1.0</td>\n",
       "      <td>1.0</td>\n",
       "      <td>2.0</td>\n",
       "      <td>4.0</td>\n",
       "      <td>205.0</td>\n",
       "    </tr>\n",
       "    <tr>\n",
       "      <th>nplay_video</th>\n",
       "      <td>183608.0</td>\n",
       "      <td>114.844173</td>\n",
       "      <td>426.996844</td>\n",
       "      <td>1.0</td>\n",
       "      <td>5.0</td>\n",
       "      <td>18.0</td>\n",
       "      <td>73.0</td>\n",
       "      <td>98517.0</td>\n",
       "    </tr>\n",
       "    <tr>\n",
       "      <th>nchapters</th>\n",
       "      <td>382385.0</td>\n",
       "      <td>3.634423</td>\n",
       "      <td>4.490987</td>\n",
       "      <td>1.0</td>\n",
       "      <td>1.0</td>\n",
       "      <td>2.0</td>\n",
       "      <td>4.0</td>\n",
       "      <td>48.0</td>\n",
       "    </tr>\n",
       "    <tr>\n",
       "      <th>nforum_posts</th>\n",
       "      <td>641138.0</td>\n",
       "      <td>0.018968</td>\n",
       "      <td>0.229539</td>\n",
       "      <td>0.0</td>\n",
       "      <td>0.0</td>\n",
       "      <td>0.0</td>\n",
       "      <td>0.0</td>\n",
       "      <td>20.0</td>\n",
       "    </tr>\n",
       "    <tr>\n",
       "      <th>roles</th>\n",
       "      <td>0.0</td>\n",
       "      <td>NaN</td>\n",
       "      <td>NaN</td>\n",
       "      <td>NaN</td>\n",
       "      <td>NaN</td>\n",
       "      <td>NaN</td>\n",
       "      <td>NaN</td>\n",
       "      <td>NaN</td>\n",
       "    </tr>\n",
       "    <tr>\n",
       "      <th>incomplete_flag</th>\n",
       "      <td>100161.0</td>\n",
       "      <td>1.000000</td>\n",
       "      <td>0.000000</td>\n",
       "      <td>1.0</td>\n",
       "      <td>1.0</td>\n",
       "      <td>1.0</td>\n",
       "      <td>1.0</td>\n",
       "      <td>1.0</td>\n",
       "    </tr>\n",
       "    <tr>\n",
       "      <th>engagement</th>\n",
       "      <td>641138.0</td>\n",
       "      <td>0.062976</td>\n",
       "      <td>0.242919</td>\n",
       "      <td>0.0</td>\n",
       "      <td>0.0</td>\n",
       "      <td>0.0</td>\n",
       "      <td>0.0</td>\n",
       "      <td>1.0</td>\n",
       "    </tr>\n",
       "  </tbody>\n",
       "</table>\n",
       "</div>"
      ],
      "text/plain": [
       "                    count         mean          std     min     25%     50%  \\\n",
       "registered       641138.0     1.000000     0.000000     1.0     1.0     1.0   \n",
       "viewed           641138.0     0.624299     0.484304     0.0     0.0     1.0   \n",
       "explored         641138.0     0.061899     0.240973     0.0     0.0     0.0   \n",
       "certified        641138.0     0.027587     0.163786     0.0     0.0     0.0   \n",
       "YoB              544533.0  1985.253279     8.891814  1931.0  1982.0  1988.0   \n",
       "nevents          441987.0   431.008018  1516.116057     1.0     3.0    24.0   \n",
       "ndays_act        478395.0     5.710254    11.866471     1.0     1.0     2.0   \n",
       "nplay_video      183608.0   114.844173   426.996844     1.0     5.0    18.0   \n",
       "nchapters        382385.0     3.634423     4.490987     1.0     1.0     2.0   \n",
       "nforum_posts     641138.0     0.018968     0.229539     0.0     0.0     0.0   \n",
       "roles                 0.0          NaN          NaN     NaN     NaN     NaN   \n",
       "incomplete_flag  100161.0     1.000000     0.000000     1.0     1.0     1.0   \n",
       "engagement       641138.0     0.062976     0.242919     0.0     0.0     0.0   \n",
       "\n",
       "                    75%       max  \n",
       "registered          1.0       1.0  \n",
       "viewed              1.0       1.0  \n",
       "explored            0.0       1.0  \n",
       "certified           0.0       1.0  \n",
       "YoB              1991.0    2013.0  \n",
       "nevents           158.0  197757.0  \n",
       "ndays_act           4.0     205.0  \n",
       "nplay_video        73.0   98517.0  \n",
       "nchapters           4.0      48.0  \n",
       "nforum_posts        0.0      20.0  \n",
       "roles               NaN       NaN  \n",
       "incomplete_flag     1.0       1.0  \n",
       "engagement          0.0       1.0  "
      ]
     },
     "execution_count": 226,
     "metadata": {},
     "output_type": "execute_result"
    }
   ],
   "source": [
    "mdf.describe().T"
   ]
  },
  {
   "cell_type": "code",
   "execution_count": 227,
   "metadata": {
    "collapsed": false
   },
   "outputs": [
    {
     "data": {
      "text/html": [
       "<div>\n",
       "<table border=\"1\" class=\"dataframe\">\n",
       "  <thead>\n",
       "    <tr style=\"text-align: right;\">\n",
       "      <th></th>\n",
       "      <th>explored</th>\n",
       "      <th>certified</th>\n",
       "    </tr>\n",
       "    <tr>\n",
       "      <th>course_id</th>\n",
       "      <th></th>\n",
       "      <th></th>\n",
       "    </tr>\n",
       "  </thead>\n",
       "  <tbody>\n",
       "    <tr>\n",
       "      <th>HarvardX/CB22x/2013_Spring</th>\n",
       "      <td>0.018232</td>\n",
       "      <td>0.012799</td>\n",
       "    </tr>\n",
       "    <tr>\n",
       "      <th>HarvardX/CS50x/2012</th>\n",
       "      <td>0.064986</td>\n",
       "      <td>0.007588</td>\n",
       "    </tr>\n",
       "    <tr>\n",
       "      <th>HarvardX/ER22x/2013_Spring</th>\n",
       "      <td>0.061527</td>\n",
       "      <td>0.040867</td>\n",
       "    </tr>\n",
       "    <tr>\n",
       "      <th>HarvardX/PH207x/2012_Fall</th>\n",
       "      <td>0.104155</td>\n",
       "      <td>0.044287</td>\n",
       "    </tr>\n",
       "    <tr>\n",
       "      <th>HarvardX/PH278x/2013_Spring</th>\n",
       "      <td>0.030049</td>\n",
       "      <td>0.017954</td>\n",
       "    </tr>\n",
       "    <tr>\n",
       "      <th>MITx/14.73x/2013_Spring</th>\n",
       "      <td>0.105310</td>\n",
       "      <td>0.074812</td>\n",
       "    </tr>\n",
       "    <tr>\n",
       "      <th>MITx/2.01x/2013_Spring</th>\n",
       "      <td>0.098853</td>\n",
       "      <td>0.043601</td>\n",
       "    </tr>\n",
       "    <tr>\n",
       "      <th>MITx/3.091x/2012_Fall</th>\n",
       "      <td>0.063032</td>\n",
       "      <td>0.044460</td>\n",
       "    </tr>\n",
       "    <tr>\n",
       "      <th>MITx/3.091x/2013_Spring</th>\n",
       "      <td>0.023457</td>\n",
       "      <td>0.022479</td>\n",
       "    </tr>\n",
       "    <tr>\n",
       "      <th>MITx/6.002x/2012_Fall</th>\n",
       "      <td>0.073951</td>\n",
       "      <td>0.042881</td>\n",
       "    </tr>\n",
       "    <tr>\n",
       "      <th>MITx/6.002x/2013_Spring</th>\n",
       "      <td>0.040612</td>\n",
       "      <td>0.026670</td>\n",
       "    </tr>\n",
       "    <tr>\n",
       "      <th>MITx/6.00x/2012_Fall</th>\n",
       "      <td>0.062685</td>\n",
       "      <td>0.037119</td>\n",
       "    </tr>\n",
       "    <tr>\n",
       "      <th>MITx/6.00x/2013_Spring</th>\n",
       "      <td>0.046678</td>\n",
       "      <td>0.021710</td>\n",
       "    </tr>\n",
       "    <tr>\n",
       "      <th>MITx/7.00x/2013_Spring</th>\n",
       "      <td>0.073826</td>\n",
       "      <td>0.039174</td>\n",
       "    </tr>\n",
       "    <tr>\n",
       "      <th>MITx/8.02x/2013_Spring</th>\n",
       "      <td>0.058039</td>\n",
       "      <td>0.026475</td>\n",
       "    </tr>\n",
       "    <tr>\n",
       "      <th>MITx/8.MReV/2013_Summer</th>\n",
       "      <td>0.039675</td>\n",
       "      <td>0.031339</td>\n",
       "    </tr>\n",
       "  </tbody>\n",
       "</table>\n",
       "</div>"
      ],
      "text/plain": [
       "                             explored  certified\n",
       "course_id                                       \n",
       "HarvardX/CB22x/2013_Spring   0.018232   0.012799\n",
       "HarvardX/CS50x/2012          0.064986   0.007588\n",
       "HarvardX/ER22x/2013_Spring   0.061527   0.040867\n",
       "HarvardX/PH207x/2012_Fall    0.104155   0.044287\n",
       "HarvardX/PH278x/2013_Spring  0.030049   0.017954\n",
       "MITx/14.73x/2013_Spring      0.105310   0.074812\n",
       "MITx/2.01x/2013_Spring       0.098853   0.043601\n",
       "MITx/3.091x/2012_Fall        0.063032   0.044460\n",
       "MITx/3.091x/2013_Spring      0.023457   0.022479\n",
       "MITx/6.002x/2012_Fall        0.073951   0.042881\n",
       "MITx/6.002x/2013_Spring      0.040612   0.026670\n",
       "MITx/6.00x/2012_Fall         0.062685   0.037119\n",
       "MITx/6.00x/2013_Spring       0.046678   0.021710\n",
       "MITx/7.00x/2013_Spring       0.073826   0.039174\n",
       "MITx/8.02x/2013_Spring       0.058039   0.026475\n",
       "MITx/8.MReV/2013_Summer      0.039675   0.031339"
      ]
     },
     "execution_count": 227,
     "metadata": {},
     "output_type": "execute_result"
    }
   ],
   "source": [
    "means = mdf.groupby('course_id')[['explored', 'certified']].sum()/mdf.groupby('course_id')[['explored', 'certified']].count()\n",
    "means"
   ]
  },
  {
   "cell_type": "code",
   "execution_count": 228,
   "metadata": {
    "collapsed": false
   },
   "outputs": [
    {
     "data": {
      "image/png": "[encoded data removed]",
      "text/plain": [
       "<matplotlib.figure.Figure at 0x13163c510>"
      ]
     },
     "metadata": {},
     "output_type": "display_data"
    }
   ],
   "source": [
    "means.plot(kind='bar');\n",
    "plt.ylabel('Mean Value')\n",
    "plt.xlabel('Course ID');"
   ]
  },
  {
   "cell_type": "code",
   "execution_count": 247,
   "metadata": {
    "collapsed": false
   },
   "outputs": [
    {
     "data": {
      "text/plain": [
       "array([nan, 'Secondary', \"Bachelor's\", \"Master's\", 'Doctorate',\n",
       "       'Less than Secondary'], dtype=object)"
      ]
     },
     "execution_count": 247,
     "metadata": {},
     "output_type": "execute_result"
    }
   ],
   "source": [
    "mdf.LoE_DI.unique()"
   ]
  },
  {
   "cell_type": "code",
   "execution_count": 261,
   "metadata": {
    "collapsed": false
   },
   "outputs": [
    {
     "data": {
      "text/plain": [
       "106008"
      ]
     },
     "execution_count": 261,
     "metadata": {},
     "output_type": "execute_result"
    }
   ],
   "source": [
    "mdf.LoE_DI.isnull().sum()"
   ]
  },
  {
   "cell_type": "code",
   "execution_count": 251,
   "metadata": {
    "collapsed": false
   },
   "outputs": [
    {
     "data": {
      "text/plain": [
       "0.16534349859156686"
      ]
     },
     "execution_count": 251,
     "metadata": {},
     "output_type": "execute_result"
    }
   ],
   "source": [
    "mdf.LoE_DI.isnull().sum() / 641138"
   ]
  },
  {
   "cell_type": "code",
   "execution_count": 258,
   "metadata": {
    "collapsed": false
   },
   "outputs": [
    {
     "data": {
      "text/plain": [
       "0.83465650140843317"
      ]
     },
     "execution_count": 258,
     "metadata": {},
     "output_type": "execute_result"
    }
   ],
   "source": [
    "mdf.LoE_DI.count() / 641138"
   ]
  },
  {
   "cell_type": "code",
   "execution_count": 257,
   "metadata": {
    "collapsed": false
   },
   "outputs": [
    {
     "data": {
      "text/plain": [
       "641138"
      ]
     },
     "execution_count": 257,
     "metadata": {},
     "output_type": "execute_result"
    }
   ],
   "source": [
    "mdf.LoE_DI.notnull().sum() + mdf.LoE_DI.isnull().sum()"
   ]
  },
  {
   "cell_type": "code",
   "execution_count": 253,
   "metadata": {
    "collapsed": false
   },
   "outputs": [
    {
     "data": {
      "text/plain": [
       "641138"
      ]
     },
     "execution_count": 253,
     "metadata": {},
     "output_type": "execute_result"
    }
   ],
   "source": [
    "len(mdf.LoE_DI)"
   ]
  },
  {
   "cell_type": "code",
   "execution_count": 259,
   "metadata": {
    "collapsed": false
   },
   "outputs": [
    {
     "data": {
      "text/plain": [
       "Bachelor's             219768\n",
       "Secondary              169694\n",
       "Master's               118189\n",
       "other                  106008\n",
       "Less than Secondary     14092\n",
       "Doctorate               13387\n",
       "Name: LoE_DI, dtype: int64"
      ]
     },
     "execution_count": 259,
     "metadata": {},
     "output_type": "execute_result"
    }
   ],
   "source": [
    "mdf.LoE_DI.fillna('other').value_counts()"
   ]
  },
  {
   "cell_type": "code",
   "execution_count": 241,
   "metadata": {
    "collapsed": false
   },
   "outputs": [
    {
     "data": {
      "text/plain": [
       "0"
      ]
     },
     "execution_count": 241,
     "metadata": {},
     "output_type": "execute_result"
    }
   ],
   "source": [
    "mdf.final_cc_cname_DI.isnull().sum()"
   ]
  },
  {
   "cell_type": "code",
   "execution_count": 230,
   "metadata": {
    "collapsed": false
   },
   "outputs": [
    {
     "data": {
      "text/plain": [
       "United States                             184240\n",
       "India                                      88696\n",
       "Unknown/Other                              82029\n",
       "Other Europe                               40377\n",
       "Other Africa                               23897\n",
       "United Kingdom                             22131\n",
       "Brazil                                     17856\n",
       "Other Middle East/Central Asia             17325\n",
       "Other South Asia                           12992\n",
       "Canada                                     12738\n",
       "Pakistan                                   10824\n",
       "Russian Federation                         10432\n",
       "Spain                                      10003\n",
       "Other South America                         9916\n",
       "Egypt                                       9286\n",
       "Germany                                     8074\n",
       "Nigeria                                     7483\n",
       "Other East Asia                             6446\n",
       "Australia                                   6419\n",
       "Mexico                                      5638\n",
       "Philippines                                 5374\n",
       "Poland                                      5226\n",
       "China                                       5170\n",
       "Greece                                      5162\n",
       "Colombia                                    4803\n",
       "France                                      4700\n",
       "Other North & Central Amer., Caribbean      4434\n",
       "Ukraine                                     4100\n",
       "Morocco                                     3966\n",
       "Indonesia                                   3410\n",
       "Bangladesh                                  3182\n",
       "Japan                                       2270\n",
       "Portugal                                    2193\n",
       "Other Oceania                                346\n",
       "Name: final_cc_cname_DI, dtype: int64"
      ]
     },
     "execution_count": 230,
     "metadata": {},
     "output_type": "execute_result"
    }
   ],
   "source": [
    "mdf.final_cc_cname_DI.value_counts()"
   ]
  },
  {
   "cell_type": "code",
   "execution_count": 282,
   "metadata": {
    "collapsed": true
   },
   "outputs": [],
   "source": [
    "Xm = (pd.get_dummies(mdf.LoE_DI)).join(pd.get_dummies(mdf.final_cc_cname_DI).drop('United States', axis=1))"
   ]
  },
  {
   "cell_type": "code",
   "execution_count": 283,
   "metadata": {
    "collapsed": false
   },
   "outputs": [
    {
     "data": {
      "text/html": [
       "<div>\n",
       "<table border=\"1\" class=\"dataframe\">\n",
       "  <thead>\n",
       "    <tr style=\"text-align: right;\">\n",
       "      <th></th>\n",
       "      <th>0</th>\n",
       "      <th>1</th>\n",
       "    </tr>\n",
       "  </thead>\n",
       "  <tbody>\n",
       "    <tr>\n",
       "      <th>Bachelor's</th>\n",
       "      <td>0</td>\n",
       "      <td>0</td>\n",
       "    </tr>\n",
       "    <tr>\n",
       "      <th>Doctorate</th>\n",
       "      <td>0</td>\n",
       "      <td>0</td>\n",
       "    </tr>\n",
       "    <tr>\n",
       "      <th>Less than Secondary</th>\n",
       "      <td>0</td>\n",
       "      <td>0</td>\n",
       "    </tr>\n",
       "    <tr>\n",
       "      <th>Master's</th>\n",
       "      <td>0</td>\n",
       "      <td>0</td>\n",
       "    </tr>\n",
       "    <tr>\n",
       "      <th>Secondary</th>\n",
       "      <td>0</td>\n",
       "      <td>0</td>\n",
       "    </tr>\n",
       "    <tr>\n",
       "      <th>Australia</th>\n",
       "      <td>0</td>\n",
       "      <td>0</td>\n",
       "    </tr>\n",
       "    <tr>\n",
       "      <th>Bangladesh</th>\n",
       "      <td>0</td>\n",
       "      <td>0</td>\n",
       "    </tr>\n",
       "    <tr>\n",
       "      <th>Brazil</th>\n",
       "      <td>0</td>\n",
       "      <td>0</td>\n",
       "    </tr>\n",
       "    <tr>\n",
       "      <th>Canada</th>\n",
       "      <td>0</td>\n",
       "      <td>0</td>\n",
       "    </tr>\n",
       "    <tr>\n",
       "      <th>China</th>\n",
       "      <td>0</td>\n",
       "      <td>0</td>\n",
       "    </tr>\n",
       "    <tr>\n",
       "      <th>Colombia</th>\n",
       "      <td>0</td>\n",
       "      <td>0</td>\n",
       "    </tr>\n",
       "    <tr>\n",
       "      <th>Egypt</th>\n",
       "      <td>0</td>\n",
       "      <td>0</td>\n",
       "    </tr>\n",
       "    <tr>\n",
       "      <th>France</th>\n",
       "      <td>0</td>\n",
       "      <td>0</td>\n",
       "    </tr>\n",
       "    <tr>\n",
       "      <th>Germany</th>\n",
       "      <td>0</td>\n",
       "      <td>0</td>\n",
       "    </tr>\n",
       "    <tr>\n",
       "      <th>Greece</th>\n",
       "      <td>0</td>\n",
       "      <td>0</td>\n",
       "    </tr>\n",
       "    <tr>\n",
       "      <th>India</th>\n",
       "      <td>0</td>\n",
       "      <td>0</td>\n",
       "    </tr>\n",
       "    <tr>\n",
       "      <th>Indonesia</th>\n",
       "      <td>0</td>\n",
       "      <td>0</td>\n",
       "    </tr>\n",
       "    <tr>\n",
       "      <th>Japan</th>\n",
       "      <td>0</td>\n",
       "      <td>0</td>\n",
       "    </tr>\n",
       "    <tr>\n",
       "      <th>Mexico</th>\n",
       "      <td>0</td>\n",
       "      <td>0</td>\n",
       "    </tr>\n",
       "    <tr>\n",
       "      <th>Morocco</th>\n",
       "      <td>0</td>\n",
       "      <td>0</td>\n",
       "    </tr>\n",
       "    <tr>\n",
       "      <th>Nigeria</th>\n",
       "      <td>0</td>\n",
       "      <td>0</td>\n",
       "    </tr>\n",
       "    <tr>\n",
       "      <th>Other Africa</th>\n",
       "      <td>0</td>\n",
       "      <td>0</td>\n",
       "    </tr>\n",
       "    <tr>\n",
       "      <th>Other East Asia</th>\n",
       "      <td>0</td>\n",
       "      <td>0</td>\n",
       "    </tr>\n",
       "    <tr>\n",
       "      <th>Other Europe</th>\n",
       "      <td>0</td>\n",
       "      <td>0</td>\n",
       "    </tr>\n",
       "    <tr>\n",
       "      <th>Other Middle East/Central Asia</th>\n",
       "      <td>0</td>\n",
       "      <td>0</td>\n",
       "    </tr>\n",
       "    <tr>\n",
       "      <th>Other North &amp; Central Amer., Caribbean</th>\n",
       "      <td>0</td>\n",
       "      <td>0</td>\n",
       "    </tr>\n",
       "    <tr>\n",
       "      <th>Other Oceania</th>\n",
       "      <td>0</td>\n",
       "      <td>0</td>\n",
       "    </tr>\n",
       "    <tr>\n",
       "      <th>Other South America</th>\n",
       "      <td>0</td>\n",
       "      <td>0</td>\n",
       "    </tr>\n",
       "    <tr>\n",
       "      <th>Other South Asia</th>\n",
       "      <td>0</td>\n",
       "      <td>0</td>\n",
       "    </tr>\n",
       "    <tr>\n",
       "      <th>Pakistan</th>\n",
       "      <td>0</td>\n",
       "      <td>0</td>\n",
       "    </tr>\n",
       "    <tr>\n",
       "      <th>Philippines</th>\n",
       "      <td>0</td>\n",
       "      <td>0</td>\n",
       "    </tr>\n",
       "    <tr>\n",
       "      <th>Poland</th>\n",
       "      <td>0</td>\n",
       "      <td>0</td>\n",
       "    </tr>\n",
       "    <tr>\n",
       "      <th>Portugal</th>\n",
       "      <td>0</td>\n",
       "      <td>0</td>\n",
       "    </tr>\n",
       "    <tr>\n",
       "      <th>Russian Federation</th>\n",
       "      <td>0</td>\n",
       "      <td>0</td>\n",
       "    </tr>\n",
       "    <tr>\n",
       "      <th>Spain</th>\n",
       "      <td>0</td>\n",
       "      <td>0</td>\n",
       "    </tr>\n",
       "    <tr>\n",
       "      <th>Ukraine</th>\n",
       "      <td>0</td>\n",
       "      <td>0</td>\n",
       "    </tr>\n",
       "    <tr>\n",
       "      <th>United Kingdom</th>\n",
       "      <td>0</td>\n",
       "      <td>0</td>\n",
       "    </tr>\n",
       "    <tr>\n",
       "      <th>Unknown/Other</th>\n",
       "      <td>0</td>\n",
       "      <td>0</td>\n",
       "    </tr>\n",
       "  </tbody>\n",
       "</table>\n",
       "</div>"
      ],
      "text/plain": [
       "                                        0  1\n",
       "Bachelor's                              0  0\n",
       "Doctorate                               0  0\n",
       "Less than Secondary                     0  0\n",
       "Master's                                0  0\n",
       "Secondary                               0  0\n",
       "Australia                               0  0\n",
       "Bangladesh                              0  0\n",
       "Brazil                                  0  0\n",
       "Canada                                  0  0\n",
       "China                                   0  0\n",
       "Colombia                                0  0\n",
       "Egypt                                   0  0\n",
       "France                                  0  0\n",
       "Germany                                 0  0\n",
       "Greece                                  0  0\n",
       "India                                   0  0\n",
       "Indonesia                               0  0\n",
       "Japan                                   0  0\n",
       "Mexico                                  0  0\n",
       "Morocco                                 0  0\n",
       "Nigeria                                 0  0\n",
       "Other Africa                            0  0\n",
       "Other East Asia                         0  0\n",
       "Other Europe                            0  0\n",
       "Other Middle East/Central Asia          0  0\n",
       "Other North & Central Amer., Caribbean  0  0\n",
       "Other Oceania                           0  0\n",
       "Other South America                     0  0\n",
       "Other South Asia                        0  0\n",
       "Pakistan                                0  0\n",
       "Philippines                             0  0\n",
       "Poland                                  0  0\n",
       "Portugal                                0  0\n",
       "Russian Federation                      0  0\n",
       "Spain                                   0  0\n",
       "Ukraine                                 0  0\n",
       "United Kingdom                          0  0\n",
       "Unknown/Other                           0  0"
      ]
     },
     "execution_count": 283,
     "metadata": {},
     "output_type": "execute_result"
    }
   ],
   "source": [
    "Xm[:2].T"
   ]
  },
  {
   "cell_type": "code",
   "execution_count": 284,
   "metadata": {
    "collapsed": false
   },
   "outputs": [],
   "source": [
    "Xm = Xm.values\n",
    "ym = mdf.engagement"
   ]
  },
  {
   "cell_type": "code",
   "execution_count": 287,
   "metadata": {
    "collapsed": true
   },
   "outputs": [],
   "source": [
    "Xm_train, Xm_test, ym_train, ym_test = train_test_split(Xm, ym)"
   ]
  },
  {
   "cell_type": "code",
   "execution_count": 291,
   "metadata": {
    "collapsed": false
   },
   "outputs": [],
   "source": [
    "modelm = LogisticRegression().fit(Xm_train, ym_train)\n",
    "\n",
    "mprob = modelm.predict_proba(Xm_test)[:, 1]"
   ]
  },
  {
   "cell_type": "code",
   "execution_count": 301,
   "metadata": {
    "collapsed": false
   },
   "outputs": [],
   "source": [
    "fprm, tprm, thresm = roc_curve(ym_test, mprob)"
   ]
  },
  {
   "cell_type": "code",
   "execution_count": 302,
   "metadata": {
    "collapsed": false
   },
   "outputs": [
    {
     "name": "stderr",
     "output_type": "stream",
     "text": [
      "/Users/eloisaelias/anaconda/lib/python2.7/site-packages/sklearn/metrics/classification.py:1113: UndefinedMetricWarning: Precision is ill-defined and being set to 0.0 due to no predicted samples.\n",
      "  'precision', 'predicted', average, warn_for)\n"
     ]
    },
    {
     "name": "stdout",
     "output_type": "stream",
     "text": [
      "KFolds:  6\n",
      "--Average values--\n",
      "Accuracy:  0.937024479521\n",
      "Note: Accuracy is not recommended for imbalanced classes \n",
      "\n",
      "Precision:  0.0\n",
      "Recall:  0.0\n"
     ]
    },
    {
     "data": {
      "image/png": "[encoded data removed]",
      "text/plain": [
       "<matplotlib.figure.Figure at 0x127e271d0>"
      ]
     },
     "metadata": {},
     "output_type": "display_data"
    }
   ],
   "source": [
    "logistic_scores(Xm, ym, 6)"
   ]
  },
  {
   "cell_type": "markdown",
   "metadata": {
    "collapsed": true
   },
   "source": [
    "Classes are imbalaced"
   ]
  },
  {
   "cell_type": "code",
   "execution_count": null,
   "metadata": {
    "collapsed": true
   },
   "outputs": [],
   "source": []
  },
  {
   "cell_type": "code",
   "execution_count": null,
   "metadata": {
    "collapsed": true
   },
   "outputs": [],
   "source": []
  },
  {
   "cell_type": "code",
   "execution_count": null,
   "metadata": {
    "collapsed": true
   },
   "outputs": [],
   "source": []
  },
  {
   "cell_type": "code",
   "execution_count": null,
   "metadata": {
    "collapsed": true
   },
   "outputs": [],
   "source": []
  },
  {
   "cell_type": "code",
   "execution_count": null,
   "metadata": {
    "collapsed": true
   },
   "outputs": [],
   "source": []
  },
  {
   "cell_type": "code",
   "execution_count": null,
   "metadata": {
    "collapsed": true
   },
   "outputs": [],
   "source": []
  },
  {
   "cell_type": "code",
   "execution_count": null,
   "metadata": {
    "collapsed": true
   },
   "outputs": [],
   "source": []
  },
  {
   "cell_type": "code",
   "execution_count": null,
   "metadata": {
    "collapsed": true
   },
   "outputs": [],
   "source": []
  },
  {
   "cell_type": "code",
   "execution_count": null,
   "metadata": {
    "collapsed": true
   },
   "outputs": [],
   "source": []
  },
  {
   "cell_type": "code",
   "execution_count": null,
   "metadata": {
    "collapsed": true
   },
   "outputs": [],
   "source": []
  },
  {
   "cell_type": "code",
   "execution_count": null,
   "metadata": {
    "collapsed": true
   },
   "outputs": [],
   "source": []
  },
  {
   "cell_type": "code",
   "execution_count": null,
   "metadata": {
    "collapsed": true
   },
   "outputs": [],
   "source": []
  },
  {
   "cell_type": "code",
   "execution_count": null,
   "metadata": {
    "collapsed": true
   },
   "outputs": [],
   "source": []
  },
  {
   "cell_type": "code",
   "execution_count": null,
   "metadata": {
    "collapsed": true
   },
   "outputs": [],
   "source": []
  },
  {
   "cell_type": "code",
   "execution_count": null,
   "metadata": {
    "collapsed": true
   },
   "outputs": [],
   "source": []
  },
  {
   "cell_type": "code",
   "execution_count": null,
   "metadata": {
    "collapsed": true
   },
   "outputs": [],
   "source": []
  },
  {
   "cell_type": "code",
   "execution_count": null,
   "metadata": {
    "collapsed": true
   },
   "outputs": [],
   "source": []
  }
 ],
 "metadata": {
  "kernelspec": {
   "display_name": "Python 2",
   "language": "python",
   "name": "python2"
  },
  "language_info": {
   "codemirror_mode": {
    "name": "ipython",
    "version": 2
   },
   "file_extension": ".py",
   "mimetype": "text/x-python",
   "name": "python",
   "nbconvert_exporter": "python",
   "pygments_lexer": "ipython2",
   "version": "2.7.11"
  }
 },
 "nbformat": 4,
 "nbformat_minor": 0
}
