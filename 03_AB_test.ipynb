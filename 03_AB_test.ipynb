{
 "cells": [
  {
   "cell_type": "markdown",
   "metadata": {},
   "source": [
    "## A/B test\n",
    "---\n",
    "**Elo notes**"
   ]
  },
  {
   "cell_type": "markdown",
   "metadata": {},
   "source": [
    "In marketing and business intelligence, A/B testing is a term for a randomized experiment with two variants, A and B, which are the control and variation in the controlled experiment.\n",
    "\n",
    "In online settings, such as web design (especially user experience design), the goal of A/B testing is to identify changes to web pages that increase or maximize an outcome of interest (e.g., click-through rate for a banner advertisement).\n",
    "\n",
    "The current web page is associated with the null hypothesis. A/B testing is a way to compare two versions of a single variable typically by testing a subject's response to variable A against variable B, and determining which of the two variables is more effective."
   ]
  },
  {
   "cell_type": "markdown",
   "metadata": {},
   "source": [
    "#### Test statistics\n",
    "\n",
    "\"Two-sample hypothesis tests\" are appropriate for comparing the two samples where the samples are divided by the two control cases in the experiment."
   ]
  },
  {
   "cell_type": "markdown",
   "metadata": {},
   "source": [
    "#### Segmentation and targeting\n",
    "\n",
    "A/B tests most commonly apply the same variant (e.g., user interface element) with equal probability to all users. However, in some circumstances, responses to variants may be heterogeneous. That is, while a variant A might have a higher response rate overall, variant B may have an even higher response rate within a specific segment of the customer base.\n",
    "\n",
    "It is important to note that if segmented results are expected from the A/B test, the test should be properly designed at the outset to be evenly distributed across key customer attributes, such as gender. That is, the test should both (a) contain a representative sample of men vs. women, and (b) assign men and women randomly to each “variant” (variant A vs. variant B). Failure to do so could lead to experiment bias and inaccurate conclusions to be drawn from the test.\n",
    "\n",
    "This segmentation and targeting approach can be further generalized to include multiple customer attributes rather than a single customer attribute – for example, customers' age AND gender – to identify more nuanced patterns that may exist in the test results.\n",
    "\n",
    "\n"
   ]
  },
  {
   "cell_type": "code",
   "execution_count": 26,
   "metadata": {
    "collapsed": false
   },
   "outputs": [],
   "source": [
    "from __future__ import division\n",
    "\n",
    "import pandas as pd\n",
    "import numpy as np\n",
    "\n",
    "import datetime as dt\n",
    "import statsmodels.stats.power as spower\n",
    "import scipy.stats as st\n",
    "\n",
    "import matplotlib.pyplot as plt\n",
    "\n",
    "from numpy import sqrt\n",
    "\n",
    "%matplotlib inline"
   ]
  },
  {
   "cell_type": "markdown",
   "metadata": {},
   "source": [
    "Historically, the old page has a conversion of 10% and we wish to test if the new page provides a 0.1% increase (1% lift) in conversion. Recall the null and alternative hypotheses below:\n",
    "\n",
    "```\n",
    "H0: X = 0.001\n",
    "H1: X > 0.001\n",
    "```\n",
    "\n",
    "Note: Evaluating increase - one-tailed test."
   ]
  },
  {
   "cell_type": "code",
   "execution_count": 6,
   "metadata": {
    "collapsed": false
   },
   "outputs": [],
   "source": [
    "df = pd.read_csv('ctr_experiment.csv' )"
   ]
  },
  {
   "cell_type": "code",
   "execution_count": 7,
   "metadata": {
    "collapsed": false
   },
   "outputs": [
    {
     "data": {
      "text/html": [
       "<div>\n",
       "<table border=\"1\" class=\"dataframe\">\n",
       "  <thead>\n",
       "    <tr style=\"text-align: right;\">\n",
       "      <th></th>\n",
       "      <th>user_id</th>\n",
       "      <th>ts</th>\n",
       "      <th>ab</th>\n",
       "      <th>landing_page</th>\n",
       "      <th>converted</th>\n",
       "    </tr>\n",
       "  </thead>\n",
       "  <tbody>\n",
       "    <tr>\n",
       "      <th>0</th>\n",
       "      <td>4040615247</td>\n",
       "      <td>1.356998e+09</td>\n",
       "      <td>treatment</td>\n",
       "      <td>new_page</td>\n",
       "      <td>0</td>\n",
       "    </tr>\n",
       "    <tr>\n",
       "      <th>1</th>\n",
       "      <td>4365389205</td>\n",
       "      <td>1.356998e+09</td>\n",
       "      <td>treatment</td>\n",
       "      <td>new_page</td>\n",
       "      <td>0</td>\n",
       "    </tr>\n",
       "    <tr>\n",
       "      <th>2</th>\n",
       "      <td>4256174578</td>\n",
       "      <td>1.356998e+09</td>\n",
       "      <td>treatment</td>\n",
       "      <td>new_page</td>\n",
       "      <td>0</td>\n",
       "    </tr>\n",
       "    <tr>\n",
       "      <th>3</th>\n",
       "      <td>8122359922</td>\n",
       "      <td>1.356998e+09</td>\n",
       "      <td>control</td>\n",
       "      <td>old_page</td>\n",
       "      <td>0</td>\n",
       "    </tr>\n",
       "    <tr>\n",
       "      <th>4</th>\n",
       "      <td>6077269891</td>\n",
       "      <td>1.356998e+09</td>\n",
       "      <td>control</td>\n",
       "      <td>old_page</td>\n",
       "      <td>0</td>\n",
       "    </tr>\n",
       "  </tbody>\n",
       "</table>\n",
       "</div>"
      ],
      "text/plain": [
       "      user_id            ts         ab landing_page  converted\n",
       "0  4040615247  1.356998e+09  treatment     new_page          0\n",
       "1  4365389205  1.356998e+09  treatment     new_page          0\n",
       "2  4256174578  1.356998e+09  treatment     new_page          0\n",
       "3  8122359922  1.356998e+09    control     old_page          0\n",
       "4  6077269891  1.356998e+09    control     old_page          0"
      ]
     },
     "execution_count": 7,
     "metadata": {},
     "output_type": "execute_result"
    }
   ],
   "source": [
    "df.head()"
   ]
  },
  {
   "cell_type": "code",
   "execution_count": 8,
   "metadata": {
    "collapsed": false
   },
   "outputs": [
    {
     "name": "stdout",
     "output_type": "stream",
     "text": [
      "<class 'pandas.core.frame.DataFrame'>\n",
      "RangeIndex: 191148 entries, 0 to 191147\n",
      "Data columns (total 5 columns):\n",
      "user_id         191148 non-null int64\n",
      "ts              191148 non-null float64\n",
      "ab              191148 non-null object\n",
      "landing_page    191148 non-null object\n",
      "converted       191148 non-null int64\n",
      "dtypes: float64(1), int64(2), object(2)\n",
      "memory usage: 7.3+ MB\n"
     ]
    }
   ],
   "source": [
    "df.info()"
   ]
  },
  {
   "cell_type": "code",
   "execution_count": 9,
   "metadata": {
    "collapsed": false
   },
   "outputs": [],
   "source": [
    "df['tstamp'] = df['ts'].apply(lambda x: dt.datetime.fromtimestamp(int(x)))"
   ]
  },
  {
   "cell_type": "code",
   "execution_count": 10,
   "metadata": {
    "collapsed": false
   },
   "outputs": [
    {
     "data": {
      "text/html": [
       "<div>\n",
       "<table border=\"1\" class=\"dataframe\">\n",
       "  <thead>\n",
       "    <tr style=\"text-align: right;\">\n",
       "      <th></th>\n",
       "      <th>user_id</th>\n",
       "      <th>ts</th>\n",
       "      <th>ab</th>\n",
       "      <th>landing_page</th>\n",
       "      <th>converted</th>\n",
       "      <th>tstamp</th>\n",
       "    </tr>\n",
       "  </thead>\n",
       "  <tbody>\n",
       "    <tr>\n",
       "      <th>0</th>\n",
       "      <td>4040615247</td>\n",
       "      <td>1.356998e+09</td>\n",
       "      <td>treatment</td>\n",
       "      <td>new_page</td>\n",
       "      <td>0</td>\n",
       "      <td>2012-12-31 16:00:00</td>\n",
       "    </tr>\n",
       "    <tr>\n",
       "      <th>1</th>\n",
       "      <td>4365389205</td>\n",
       "      <td>1.356998e+09</td>\n",
       "      <td>treatment</td>\n",
       "      <td>new_page</td>\n",
       "      <td>0</td>\n",
       "      <td>2012-12-31 16:00:00</td>\n",
       "    </tr>\n",
       "    <tr>\n",
       "      <th>2</th>\n",
       "      <td>4256174578</td>\n",
       "      <td>1.356998e+09</td>\n",
       "      <td>treatment</td>\n",
       "      <td>new_page</td>\n",
       "      <td>0</td>\n",
       "      <td>2012-12-31 16:00:02</td>\n",
       "    </tr>\n",
       "  </tbody>\n",
       "</table>\n",
       "</div>"
      ],
      "text/plain": [
       "      user_id            ts         ab landing_page  converted  \\\n",
       "0  4040615247  1.356998e+09  treatment     new_page          0   \n",
       "1  4365389205  1.356998e+09  treatment     new_page          0   \n",
       "2  4256174578  1.356998e+09  treatment     new_page          0   \n",
       "\n",
       "               tstamp  \n",
       "0 2012-12-31 16:00:00  \n",
       "1 2012-12-31 16:00:00  \n",
       "2 2012-12-31 16:00:02  "
      ]
     },
     "execution_count": 10,
     "metadata": {},
     "output_type": "execute_result"
    }
   ],
   "source": [
    "df[:3]"
   ]
  },
  {
   "cell_type": "code",
   "execution_count": 11,
   "metadata": {
    "collapsed": false
   },
   "outputs": [
    {
     "data": {
      "text/plain": [
       "array(['treatment', 'control'], dtype=object)"
      ]
     },
     "execution_count": 11,
     "metadata": {},
     "output_type": "execute_result"
    }
   ],
   "source": [
    "df.ab.unique()"
   ]
  },
  {
   "cell_type": "code",
   "execution_count": 12,
   "metadata": {
    "collapsed": false
   },
   "outputs": [
    {
     "data": {
      "text/plain": [
       "186388"
      ]
     },
     "execution_count": 12,
     "metadata": {},
     "output_type": "execute_result"
    }
   ],
   "source": [
    "# Checking for duplicates in user_id\n",
    "len(df.user_id.unique())"
   ]
  },
  {
   "cell_type": "code",
   "execution_count": 13,
   "metadata": {
    "collapsed": true
   },
   "outputs": [],
   "source": [
    "df_ctrl = df[df.ab == 'control'].copy()\n",
    "n_ctrl = float(len(df_ctrl.user_id.unique()))"
   ]
  },
  {
   "cell_type": "code",
   "execution_count": 14,
   "metadata": {
    "collapsed": true
   },
   "outputs": [],
   "source": [
    "df_treat = df[df.ab == 'treatment'].copy()\n",
    "n_treat = float(len(df_treat.user_id.unique()))"
   ]
  },
  {
   "cell_type": "code",
   "execution_count": 15,
   "metadata": {
    "collapsed": false
   },
   "outputs": [
    {
     "data": {
      "text/plain": [
       "0.09964322681524874"
      ]
     },
     "execution_count": 15,
     "metadata": {},
     "output_type": "execute_result"
    }
   ],
   "source": [
    "conversion_rate_ctrl = df_ctrl.converted.sum() / n_ctrl\n",
    "conversion_rate_ctrl"
   ]
  },
  {
   "cell_type": "code",
   "execution_count": 16,
   "metadata": {
    "collapsed": false
   },
   "outputs": [
    {
     "data": {
      "text/plain": [
       "0.10492393328729571"
      ]
     },
     "execution_count": 16,
     "metadata": {},
     "output_type": "execute_result"
    }
   ],
   "source": [
    "conversion_rate_treat = df_treat.converted.sum() / n_treat\n",
    "conversion_rate_treat"
   ]
  },
  {
   "cell_type": "markdown",
   "metadata": {},
   "source": [
    " [I have to stackoverflow things](https://onlinecourses.science.psu.edu/stat100/node/56)\n",
    " \n",
    " \n",
    " Sample size Standard Error (SE) = Square root of (p * (1-p) / n) \n",
    " \n",
    " where: \n",
    " \n",
    " p = sample proportion : conversion rate : population proportion + random error."
   ]
  },
  {
   "cell_type": "code",
   "execution_count": 17,
   "metadata": {
    "collapsed": true
   },
   "outputs": [],
   "source": [
    "def ztest(crate_ctrl, crate_treat, n_ctrl, n_treat, ttail=False, alpha=0.05):\n",
    "    ''' \n",
    "    Arguments:\n",
    "    crate_ctrl (float): Conversion rate of control df\n",
    "    crate_treat (float):  Conversion rate of treatment df\n",
    "    n_ctrl (int): number of observations in control\n",
    "    n_treat (int): number of observations in treatment\n",
    "    alpha (float): Significance level\n",
    "    ttail (bool): two tailed\n",
    "    Return:\n",
    "    z-score, pvalue, desicion\n",
    "    '''\n",
    "    p = (crate_ctrl * n_ctrl + crate_treat * n_treat) / (n_ctrl + n_treat)\n",
    "    se = sqrt(p * (1- p) * (1/n_ctrl + 1/n_treat))\n",
    "    z_score = (crate_treat - crate_ctrl) / se\n",
    "    \n",
    "    if ttail:\n",
    "        pval = (1 - st.norm.cdf(abs(z_score)))*2\n",
    "    else:\n",
    "        pval = 1 - st.norm.cdf(z_score)\n",
    "    print\n",
    "    \n",
    "    reject_null = pval < alpha\n",
    "    \n",
    "    print 'pval:{}, z_score:{}, reject_null:{}'.format(pval, z_score, reject_null)\n",
    "    return pval, z_score, reject_null\n",
    "    "
   ]
  },
  {
   "cell_type": "code",
   "execution_count": 18,
   "metadata": {
    "collapsed": false
   },
   "outputs": [
    {
     "name": "stdout",
     "output_type": "stream",
     "text": [
      "\n",
      "pval:8.51269056524e-05, z_score:3.75949921572, reject_null:True\n"
     ]
    },
    {
     "data": {
      "text/plain": [
       "(8.512690565243286e-05, 3.7594992157238489, True)"
      ]
     },
     "execution_count": 18,
     "metadata": {},
     "output_type": "execute_result"
    }
   ],
   "source": [
    "ztest(conversion_rate_ctrl, conversion_rate_treat, n_ctrl, n_treat)"
   ]
  },
  {
   "cell_type": "markdown",
   "metadata": {},
   "source": [
    "#### Pvalue - hourly intervals"
   ]
  },
  {
   "cell_type": "code",
   "execution_count": 19,
   "metadata": {
    "collapsed": false
   },
   "outputs": [
    {
     "data": {
      "text/plain": [
       "3   2012-12-31 16:00:02\n",
       "4   2012-12-31 16:00:02\n",
       "6   2012-12-31 16:00:04\n",
       "Name: tstamp, dtype: datetime64[ns]"
      ]
     },
     "execution_count": 19,
     "metadata": {},
     "output_type": "execute_result"
    }
   ],
   "source": [
    "df_ctrl.tstamp[:3]"
   ]
  },
  {
   "cell_type": "code",
   "execution_count": 20,
   "metadata": {
    "collapsed": false
   },
   "outputs": [],
   "source": [
    "start = dt.datetime.fromtimestamp(int(df['ts'].min()))"
   ]
  },
  {
   "cell_type": "code",
   "execution_count": 21,
   "metadata": {
    "collapsed": false
   },
   "outputs": [
    {
     "data": {
      "text/plain": [
       "datetime.datetime(2012, 12, 31, 16, 0)"
      ]
     },
     "execution_count": 21,
     "metadata": {},
     "output_type": "execute_result"
    }
   ],
   "source": [
    "start"
   ]
  },
  {
   "cell_type": "code",
   "execution_count": 22,
   "metadata": {
    "collapsed": true
   },
   "outputs": [],
   "source": [
    "end = dt.datetime.fromtimestamp(int(df.ts.max()))"
   ]
  },
  {
   "cell_type": "code",
   "execution_count": 23,
   "metadata": {
    "collapsed": false
   },
   "outputs": [
    {
     "data": {
      "text/plain": [
       "datetime.datetime(2013, 1, 1, 15, 59, 59)"
      ]
     },
     "execution_count": 23,
     "metadata": {},
     "output_type": "execute_result"
    }
   ],
   "source": [
    "end"
   ]
  },
  {
   "cell_type": "code",
   "execution_count": 27,
   "metadata": {
    "collapsed": false
   },
   "outputs": [
    {
     "name": "stdout",
     "output_type": "stream",
     "text": [
      "\n",
      "pval:0.0700598755515, z_score:1.47534523396, reject_null:False\n",
      "\n",
      "pval:0.0365443483557, z_score:1.79227643133, reject_null:True\n",
      "\n",
      "pval:0.0156446153757, z_score:2.15337484706, reject_null:True\n",
      "\n",
      "pval:0.0092173551451, z_score:2.35676900278, reject_null:True\n",
      "\n",
      "pval:0.00842540841945, z_score:2.38994672697, reject_null:True\n",
      "\n",
      "pval:0.00291970966096, z_score:2.75666471825, reject_null:True\n",
      "\n",
      "pval:0.00917643913335, z_score:2.35842074563, reject_null:True\n",
      "\n",
      "pval:0.00439091992125, z_score:2.62043216923, reject_null:True\n",
      "\n",
      "pval:0.00221711431059, z_score:2.84549621657, reject_null:True\n",
      "\n",
      "pval:0.010762076953, z_score:2.2986617541, reject_null:True\n",
      "\n",
      "pval:0.00976181202029, z_score:2.33537912333, reject_null:True\n",
      "\n",
      "pval:0.00369460170534, z_score:2.67877497146, reject_null:True\n",
      "\n",
      "pval:0.00404499176461, z_score:2.64829108034, reject_null:True\n",
      "\n",
      "pval:0.0067209161516, z_score:2.47184356184, reject_null:True\n",
      "\n",
      "pval:0.00997079915924, z_score:2.3274449012, reject_null:True\n",
      "\n",
      "pval:0.0205266197778, z_score:2.0429919041, reject_null:True\n",
      "\n",
      "pval:0.00776375116534, z_score:2.41983613851, reject_null:True\n",
      "\n",
      "pval:0.00879621863144, z_score:2.3740863181, reject_null:True\n",
      "\n",
      "pval:0.001604498402, z_score:2.9469744851, reject_null:True\n",
      "\n",
      "pval:0.00229229478807, z_score:2.83485913515, reject_null:True\n",
      "\n",
      "pval:0.00128827659318, z_score:3.014203029, reject_null:True\n",
      "\n",
      "pval:0.000953078264349, z_score:3.10447714657, reject_null:True\n",
      "\n",
      "pval:0.000197535691337, z_score:3.54335440924, reject_null:True\n",
      "\n",
      "pval:8.51269056524e-05, z_score:3.75949921572, reject_null:True\n"
     ]
    },
    {
     "data": {
      "text/plain": [
       "<matplotlib.text.Text at 0x118a4af50>"
      ]
     },
     "execution_count": 27,
     "metadata": {},
     "output_type": "execute_result"
    },
    {
     "data": {
      "image/png": "[encoded data removed]",
      "text/plain": [
       "<matplotlib.figure.Figure at 0x1181a2250>"
      ]
     },
     "metadata": {},
     "output_type": "display_data"
    }
   ],
   "source": [
    "fig, (ax1, ax2) = plt.subplots(2, figsize=(12,5))\n",
    "\n",
    "for i in range(25)[1:]:\n",
    "    ctl = df_ctrl[df_ctrl['tstamp'] < start + dt.timedelta(hours=i)]\n",
    "    trt = df_treat[df_treat['tstamp'] < start + dt.timedelta(hours=i)]\n",
    "\n",
    "    n_ctl = float(len(ctl.user_id.unique()))\n",
    "    n_trt = float(len(trt.user_id.unique()))\n",
    "\n",
    "    ctl_rate = ctl['converted'].sum() / n_ctl\n",
    "    trt_rate = trt['converted'].sum() / n_trt\n",
    "    \n",
    "    (p, z, r) = ztest(ctl_rate, trt_rate, n_ctl, n_trt)\n",
    "    ax1.plot(i, p, 'o')\n",
    "    ax2.plot(i, n_ctl+n_trt, 'o')\n",
    "\n",
    "ax1.set_title('Pvalue')\n",
    "ax2.set_title('number of samples')"
   ]
  },
  {
   "cell_type": "markdown",
   "metadata": {},
   "source": [
    "The P-value stabilize when we get a proper number of samples. To obtain the optimal sample number let's calculate it through Power."
   ]
  },
  {
   "cell_type": "code",
   "execution_count": 28,
   "metadata": {
    "collapsed": false
   },
   "outputs": [],
   "source": [
    "dfc = pd.read_csv('ctr_country.csv')"
   ]
  },
  {
   "cell_type": "code",
   "execution_count": 29,
   "metadata": {
    "collapsed": false
   },
   "outputs": [
    {
     "data": {
      "text/html": [
       "<div>\n",
       "<table border=\"1\" class=\"dataframe\">\n",
       "  <thead>\n",
       "    <tr style=\"text-align: right;\">\n",
       "      <th></th>\n",
       "      <th>user_id</th>\n",
       "      <th>country</th>\n",
       "    </tr>\n",
       "  </thead>\n",
       "  <tbody>\n",
       "    <tr>\n",
       "      <th>0</th>\n",
       "      <td>9160993935</td>\n",
       "      <td>UK</td>\n",
       "    </tr>\n",
       "    <tr>\n",
       "      <th>1</th>\n",
       "      <td>5879439034</td>\n",
       "      <td>UK</td>\n",
       "    </tr>\n",
       "    <tr>\n",
       "      <th>2</th>\n",
       "      <td>8915383273</td>\n",
       "      <td>UK</td>\n",
       "    </tr>\n",
       "  </tbody>\n",
       "</table>\n",
       "</div>"
      ],
      "text/plain": [
       "      user_id country\n",
       "0  9160993935      UK\n",
       "1  5879439034      UK\n",
       "2  8915383273      UK"
      ]
     },
     "execution_count": 29,
     "metadata": {},
     "output_type": "execute_result"
    }
   ],
   "source": [
    "dfc[:3]"
   ]
  },
  {
   "cell_type": "code",
   "execution_count": 30,
   "metadata": {
    "collapsed": false
   },
   "outputs": [
    {
     "name": "stdout",
     "output_type": "stream",
     "text": [
      "<class 'pandas.core.frame.DataFrame'>\n",
      "RangeIndex: 185076 entries, 0 to 185075\n",
      "Data columns (total 2 columns):\n",
      "user_id    185076 non-null int64\n",
      "country    185076 non-null object\n",
      "dtypes: int64(1), object(1)\n",
      "memory usage: 2.8+ MB\n"
     ]
    }
   ],
   "source": [
    "dfc.info()"
   ]
  },
  {
   "cell_type": "code",
   "execution_count": 31,
   "metadata": {
    "collapsed": false
   },
   "outputs": [
    {
     "data": {
      "image/png": "[encoded data removed]",
      "text/plain": [
       "<matplotlib.figure.Figure at 0x1188b20d0>"
      ]
     },
     "metadata": {},
     "output_type": "display_data"
    }
   ],
   "source": [
    "dfc.groupby('country').count().plot(kind='bar', alpha=.4);"
   ]
  },
  {
   "cell_type": "markdown",
   "metadata": {},
   "source": [
    "Note: By default axis=0 along the rows (namely, index in pandas), and axis=1 along the columns."
   ]
  },
  {
   "cell_type": "code",
   "execution_count": 32,
   "metadata": {
    "collapsed": true
   },
   "outputs": [],
   "source": [
    "def ctrl(df, *args, **kwargs):\n",
    "    def funct(x):\n",
    "        return x.converted.sum() / float(len(x['user_id'].unique()))\n",
    "    return df.apply((lambda x: funct(x)), axis=1)"
   ]
  },
  {
   "cell_type": "code",
   "execution_count": 33,
   "metadata": {
    "collapsed": true
   },
   "outputs": [],
   "source": [
    "# Join: df + dfc\n",
    "jdf = df.set_index('user_id').join(dfc.set_index('user_id'))"
   ]
  },
  {
   "cell_type": "code",
   "execution_count": 34,
   "metadata": {
    "collapsed": false
   },
   "outputs": [
    {
     "data": {
      "text/html": [
       "<div>\n",
       "<table border=\"1\" class=\"dataframe\">\n",
       "  <thead>\n",
       "    <tr style=\"text-align: right;\">\n",
       "      <th></th>\n",
       "      <th>ts</th>\n",
       "      <th>ab</th>\n",
       "      <th>landing_page</th>\n",
       "      <th>converted</th>\n",
       "      <th>tstamp</th>\n",
       "      <th>country</th>\n",
       "    </tr>\n",
       "    <tr>\n",
       "      <th>user_id</th>\n",
       "      <th></th>\n",
       "      <th></th>\n",
       "      <th></th>\n",
       "      <th></th>\n",
       "      <th></th>\n",
       "      <th></th>\n",
       "    </tr>\n",
       "  </thead>\n",
       "  <tbody>\n",
       "    <tr>\n",
       "      <th>3416</th>\n",
       "      <td>1.357004e+09</td>\n",
       "      <td>control</td>\n",
       "      <td>old_page</td>\n",
       "      <td>0</td>\n",
       "      <td>2012-12-31 17:34:39</td>\n",
       "      <td>US</td>\n",
       "    </tr>\n",
       "    <tr>\n",
       "      <th>23267</th>\n",
       "      <td>1.357066e+09</td>\n",
       "      <td>treatment</td>\n",
       "      <td>new_page</td>\n",
       "      <td>0</td>\n",
       "      <td>2013-01-01 10:46:55</td>\n",
       "      <td>CA</td>\n",
       "    </tr>\n",
       "    <tr>\n",
       "      <th>79973</th>\n",
       "      <td>1.357018e+09</td>\n",
       "      <td>treatment</td>\n",
       "      <td>new_page</td>\n",
       "      <td>1</td>\n",
       "      <td>2012-12-31 21:28:31</td>\n",
       "      <td>US</td>\n",
       "    </tr>\n",
       "  </tbody>\n",
       "</table>\n",
       "</div>"
      ],
      "text/plain": [
       "                   ts         ab landing_page  converted              tstamp  \\\n",
       "user_id                                                                        \n",
       "3416     1.357004e+09    control     old_page          0 2012-12-31 17:34:39   \n",
       "23267    1.357066e+09  treatment     new_page          0 2013-01-01 10:46:55   \n",
       "79973    1.357018e+09  treatment     new_page          1 2012-12-31 21:28:31   \n",
       "\n",
       "        country  \n",
       "user_id          \n",
       "3416         US  \n",
       "23267        CA  \n",
       "79973        US  "
      ]
     },
     "execution_count": 34,
     "metadata": {},
     "output_type": "execute_result"
    }
   ],
   "source": [
    "jdf[:3]"
   ]
  },
  {
   "cell_type": "code",
   "execution_count": 35,
   "metadata": {
    "collapsed": false
   },
   "outputs": [
    {
     "name": "stdout",
     "output_type": "stream",
     "text": [
      "<class 'pandas.core.frame.DataFrame'>\n",
      "Int64Index: 200344 entries, 3416 to 9999962347\n",
      "Data columns (total 6 columns):\n",
      "ts              200344 non-null float64\n",
      "ab              200344 non-null object\n",
      "landing_page    200344 non-null object\n",
      "converted       200344 non-null int64\n",
      "tstamp          200344 non-null datetime64[ns]\n",
      "country         194274 non-null object\n",
      "dtypes: datetime64[ns](1), float64(1), int64(1), object(3)\n",
      "memory usage: 10.7+ MB\n"
     ]
    }
   ],
   "source": [
    "jdf.info()"
   ]
  },
  {
   "cell_type": "code",
   "execution_count": 36,
   "metadata": {
    "collapsed": false
   },
   "outputs": [
    {
     "data": {
      "image/png": "[encoded data removed]",
      "text/plain": [
       "<matplotlib.figure.Figure at 0x117fbadd0>"
      ]
     },
     "metadata": {},
     "output_type": "display_data"
    }
   ],
   "source": [
    "jdf.groupby(['country', 'landing_page']).apply(lambda x: x['converted'].sum()/ float(len(x))).plot(kind='bar', alpha=.3);"
   ]
  },
  {
   "cell_type": "code",
   "execution_count": 37,
   "metadata": {
    "collapsed": false
   },
   "outputs": [
    {
     "data": {
      "text/html": [
       "<div>\n",
       "<table border=\"1\" class=\"dataframe\">\n",
       "  <thead>\n",
       "    <tr style=\"text-align: right;\">\n",
       "      <th></th>\n",
       "      <th>ts</th>\n",
       "      <th>ab</th>\n",
       "      <th>landing_page</th>\n",
       "      <th>converted</th>\n",
       "      <th>tstamp</th>\n",
       "      <th>country</th>\n",
       "    </tr>\n",
       "    <tr>\n",
       "      <th>user_id</th>\n",
       "      <th></th>\n",
       "      <th></th>\n",
       "      <th></th>\n",
       "      <th></th>\n",
       "      <th></th>\n",
       "      <th></th>\n",
       "    </tr>\n",
       "  </thead>\n",
       "  <tbody>\n",
       "    <tr>\n",
       "      <th>3416</th>\n",
       "      <td>1.357004e+09</td>\n",
       "      <td>control</td>\n",
       "      <td>old_page</td>\n",
       "      <td>0</td>\n",
       "      <td>2012-12-31 17:34:39</td>\n",
       "      <td>US</td>\n",
       "    </tr>\n",
       "    <tr>\n",
       "      <th>23267</th>\n",
       "      <td>1.357066e+09</td>\n",
       "      <td>treatment</td>\n",
       "      <td>new_page</td>\n",
       "      <td>0</td>\n",
       "      <td>2013-01-01 10:46:55</td>\n",
       "      <td>CA</td>\n",
       "    </tr>\n",
       "    <tr>\n",
       "      <th>79973</th>\n",
       "      <td>1.357018e+09</td>\n",
       "      <td>treatment</td>\n",
       "      <td>new_page</td>\n",
       "      <td>1</td>\n",
       "      <td>2012-12-31 21:28:31</td>\n",
       "      <td>US</td>\n",
       "    </tr>\n",
       "  </tbody>\n",
       "</table>\n",
       "</div>"
      ],
      "text/plain": [
       "                   ts         ab landing_page  converted              tstamp  \\\n",
       "user_id                                                                        \n",
       "3416     1.357004e+09    control     old_page          0 2012-12-31 17:34:39   \n",
       "23267    1.357066e+09  treatment     new_page          0 2013-01-01 10:46:55   \n",
       "79973    1.357018e+09  treatment     new_page          1 2012-12-31 21:28:31   \n",
       "\n",
       "        country  \n",
       "user_id          \n",
       "3416         US  \n",
       "23267        CA  \n",
       "79973        US  "
      ]
     },
     "execution_count": 37,
     "metadata": {},
     "output_type": "execute_result"
    }
   ],
   "source": [
    "jdf[:3]"
   ]
  },
  {
   "cell_type": "code",
   "execution_count": 38,
   "metadata": {
    "collapsed": false
   },
   "outputs": [
    {
     "data": {
      "image/png": "[encoded data removed]",
      "text/plain": [
       "<matplotlib.figure.Figure at 0x1112fe4d0>"
      ]
     },
     "metadata": {},
     "output_type": "display_data"
    }
   ],
   "source": [
    "jdf.set_index('tstamp').groupby('country').apply(lambda x: x.resample('H').count()).ts.unstack().T.plot();\n",
    "plt.ylabel('Active users');"
   ]
  },
  {
   "cell_type": "code",
   "execution_count": null,
   "metadata": {
    "collapsed": true
   },
   "outputs": [],
   "source": []
  },
  {
   "cell_type": "code",
   "execution_count": null,
   "metadata": {
    "collapsed": true
   },
   "outputs": [],
   "source": []
  },
  {
   "cell_type": "code",
   "execution_count": null,
   "metadata": {
    "collapsed": true
   },
   "outputs": [],
   "source": []
  }
 ],
 "metadata": {
  "kernelspec": {
   "display_name": "Python 2",
   "language": "python",
   "name": "python2"
  },
  "language_info": {
   "codemirror_mode": {
    "name": "ipython",
    "version": 2
   },
   "file_extension": ".py",
   "mimetype": "text/x-python",
   "name": "python",
   "nbconvert_exporter": "python",
   "pygments_lexer": "ipython2",
   "version": "2.7.11"
  }
 },
 "nbformat": 4,
 "nbformat_minor": 0
}
