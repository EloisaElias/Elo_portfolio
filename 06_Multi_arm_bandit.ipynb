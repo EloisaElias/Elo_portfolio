{
 "cells": [
  {
   "cell_type": "markdown",
   "metadata": {},
   "source": [
    "## Multi-arm bandit"
   ]
  },
  {
   "cell_type": "code",
   "execution_count": 64,
   "metadata": {
    "collapsed": false
   },
   "outputs": [],
   "source": [
    "from __future__ import division \n",
    "import pandas as pd\n",
    "import numpy as np\n",
    "import scipy.stats as stats\n",
    "import matplotlib.pyplot as plot\n",
    "\n",
    "from bandits import Bandits\n",
    "from hecf import BanditStrategy, max_mean, random_choice, epsilon_greedy, softmax, ucb1, bayesian_bandit, regret\n",
    "\n",
    "\n",
    "% matplotlib inline\n",
    "% autoreload 2\n"
   ]
  },
  {
   "cell_type": "code",
   "execution_count": 71,
   "metadata": {
    "collapsed": true
   },
   "outputs": [],
   "source": [
    "def run_of_functions(bandit_list, function, num_trials):\n",
    "    bandits = Bandits(bandit_list)\n",
    "    strategy = BanditStrategy(bandits, function)\n",
    "    strategy.sample_bandits(num_trials)\n",
    "    strategy.plot_optimal_bandit()\n",
    "    print 'The strategy is:', function\n",
    "    print 'Number of wins:{}, Number of trials:{}'.format(strategy.wins, strategy.trials)\n",
    "    print 'Convertion Rate:', strategy.wins / strategy.trials\n",
    "    print '***A total of {} wins of {} trials***'.format(strategy.wins.sum(), strategy.trials.sum())\n",
    "    \n",
    "    "
   ]
  },
  {
   "cell_type": "code",
   "execution_count": 74,
   "metadata": {
    "collapsed": false
   },
   "outputs": [
    {
     "name": "stdout",
     "output_type": "stream",
     "text": [
      "==============================\n",
      "Slot machines (bandits): [0.05, 0.03, 0.06]\n",
      "==============================\n",
      "The strategy is: <function random_choice at 0x108dbc500>\n",
      "Number of wins:[ 20.  11.  19.], Number of trials:[ 317.  359.  324.]\n",
      "Convertion Rate: [ 0.06309148  0.03064067  0.05864198]\n",
      "***A total of 50.0 wins of 1000.0 trials***\n",
      "The strategy is: <function max_mean at 0x108dbcde8>\n",
      "Number of wins:[  0.  36.   0.], Number of trials:[   3.  996.    1.]\n",
      "Convertion Rate: [ 0.          0.03614458  0.        ]\n",
      "***A total of 36.0 wins of 1000.0 trials***\n",
      "The strategy is: <function epsilon_greedy at 0x108dbc050>\n",
      "Number of wins:[ 56.   2.   2.], Number of trials:[ 925.   44.   31.]\n",
      "Convertion Rate: [ 0.06054054  0.04545455  0.06451613]\n",
      "***A total of 60.0 wins of 1000.0 trials***\n",
      "The strategy is: <function softmax at 0x108dbccf8>\n",
      "Number of wins:[ 53.   0.   0.], Number of trials:[ 934.   27.   39.]\n",
      "Convertion Rate: [ 0.05674518  0.          0.        ]\n",
      "***A total of 53.0 wins of 1000.0 trials***\n",
      "The strategy is: <function ucb1 at 0x108dbc140>\n",
      "Number of wins:[ 16.   8.  24.], Number of trials:[ 334.  279.  387.]\n",
      "Convertion Rate: [ 0.04790419  0.02867384  0.0620155 ]\n",
      "***A total of 48.0 wins of 1000.0 trials***\n",
      "The strategy is: <function bayesian_bandit at 0x108dbcc08>\n",
      "Number of wins:[  1.   0.  54.], Number of trials:[ 100.   62.  838.]\n",
      "Convertion Rate: [ 0.01        0.          0.06443914]\n",
      "***A total of 55.0 wins of 1000.0 trials***\n",
      "==============================\n",
      "Slot machines (bandits): [0.1, 0.2, 0.3, 0.4, 0.5]\n",
      "==============================\n",
      "The strategy is: <function random_choice at 0x108dbc500>\n",
      "Number of wins:[  19.   50.   59.   76.  102.], Number of trials:[ 197.  219.  203.  201.  180.]\n",
      "Convertion Rate: [ 0.0964467   0.2283105   0.29064039  0.37810945  0.56666667]\n",
      "***A total of 306.0 wins of 1000.0 trials***\n",
      "The strategy is: <function max_mean at 0x108dbcde8>\n",
      "Number of wins:[   0.    9.    0.    0.  499.], Number of trials:[   2.   23.    1.    2.  972.]\n",
      "Convertion Rate: [ 0.          0.39130435  0.          0.          0.51337449]\n",
      "***A total of 508.0 wins of 1000.0 trials***\n",
      "The strategy is: <function epsilon_greedy at 0x108dbc050>\n",
      "Number of wins:[   1.    9.    9.   11.  441.], Number of trials:[  20.   29.   21.   23.  907.]\n",
      "Convertion Rate: [ 0.05        0.31034483  0.42857143  0.47826087  0.4862183 ]\n",
      "***A total of 471.0 wins of 1000.0 trials***\n",
      "The strategy is: <function softmax at 0x108dbccf8>\n",
      "Number of wins:[   0.    0.    0.  400.    0.], Number of trials:[   1.    1.    1.  997.    0.]\n",
      "Convertion Rate: [ 0.          0.          0.          0.40120361         nan]\n",
      "***A total of 400.0 wins of 1000.0 trials***\n",
      "The strategy is: <function ucb1 at 0x108dbc140>\n",
      "Number of wins:[   6.   12.   34.  100.  266.], Number of trials:[  48.   63.  112.  241.  536.]\n",
      "Convertion Rate: [ 0.125       0.19047619  0.30357143  0.41493776  0.49626866]\n",
      "***A total of 418.0 wins of 1000.0 trials***\n",
      "The strategy is: <function bayesian_bandit at 0x108dbcc08>\n",
      "Number of wins:[   2.    0.   18.   51.  402.], Number of trials:[  15.    9.   56.  121.  799.]\n",
      "Convertion Rate: [ 0.13333333  0.          0.32142857  0.4214876   0.50312891]\n",
      "***A total of 473.0 wins of 1000.0 trials***\n"
     ]
    },
    {
     "data": {
      "image/png": "[encoded data removed]",
      "text/plain": [
       "<matplotlib.figure.Figure at 0x10a0afe90>"
      ]
     },
     "metadata": {},
     "output_type": "display_data"
    }
   ],
   "source": [
    "function_list = [random_choice, max_mean, epsilon_greedy, softmax, ucb1, bayesian_bandit]\n",
    "bandit_list_l = [[0.05, 0.03, 0.06], [0.1, 0.2, 0.3, 0.4, 0.5]]\n",
    "\n",
    "for bandit in bandit_list_l:\n",
    "    print '=============================='\n",
    "    print 'Slot machines (bandits):', bandit\n",
    "    print '=============================='\n",
    "    for funct in function_list:\n",
    "        run_of_functions(bandit, funct, 1000)"
   ]
  },
  {
   "cell_type": "code",
   "execution_count": 75,
   "metadata": {
    "collapsed": false
   },
   "outputs": [],
   "source": [
    "# function_list = [random_choice, max_mean, epsilon_greedy, softmax, ucb1, bayesian_bandit]\n",
    "# bandit_list_l = [[0.05, 0.03, 0.06],[0.1, 0.1, 0.1, 0.1, 0.9],[0.1, 0.1, 0.1, 0.1, 0.12], [0.1, 0.2, 0.3, 0.4, 0.5]]\n",
    "\n",
    "# for bandit in bandit_list_l:\n",
    "#     print '=============================='\n",
    "#     print 'Slot machines (bandits):', bandit\n",
    "#     print '=============================='\n",
    "#     for funct in function_list:\n",
    "#         run_of_functions(bandit, funct, 1000)"
   ]
  },
  {
   "cell_type": "code",
   "execution_count": 89,
   "metadata": {
    "collapsed": false
   },
   "outputs": [],
   "source": [
    "def check_paren(string):\n",
    "    check = True\n",
    "    if string.count('(') != string.count(')'):\n",
    "        check = False\n",
    "    if string.count('[') != string.count(']'):\n",
    "        check = False\n",
    "    if string.count('{') != string.count('}'):\n",
    "        check = False\n",
    "\n",
    "    return check"
   ]
  },
  {
   "cell_type": "code",
   "execution_count": 90,
   "metadata": {
    "collapsed": false
   },
   "outputs": [
    {
     "data": {
      "text/plain": [
       "True"
      ]
     },
     "execution_count": 90,
     "metadata": {},
     "output_type": "execute_result"
    }
   ],
   "source": [
    "check_paren('(a(b))()()')"
   ]
  },
  {
   "cell_type": "code",
   "execution_count": 92,
   "metadata": {
    "collapsed": false
   },
   "outputs": [
    {
     "data": {
      "text/plain": [
       "True"
      ]
     },
     "execution_count": 92,
     "metadata": {},
     "output_type": "execute_result"
    }
   ],
   "source": [
    "check_paren('a(b())')"
   ]
  },
  {
   "cell_type": "code",
   "execution_count": 94,
   "metadata": {
    "collapsed": false
   },
   "outputs": [
    {
     "data": {
      "text/plain": [
       "False"
      ]
     },
     "execution_count": 94,
     "metadata": {},
     "output_type": "execute_result"
    }
   ],
   "source": [
    "check_paren(')a(b))')"
   ]
  },
  {
   "cell_type": "code",
   "execution_count": 95,
   "metadata": {
    "collapsed": false
   },
   "outputs": [
    {
     "data": {
      "text/plain": [
       "False"
      ]
     },
     "execution_count": 95,
     "metadata": {},
     "output_type": "execute_result"
    }
   ],
   "source": [
    "check_paren('(a(b){c}')"
   ]
  },
  {
   "cell_type": "code",
   "execution_count": 123,
   "metadata": {
    "collapsed": true
   },
   "outputs": [],
   "source": [
    "def evaluating(string):\n",
    "    if string.count('(') != string.count(')'):\n",
    "        return False, 'No match found'\n",
    "    elif string.count('[') != string.count(']'):\n",
    "        return False, 'No match found'\n",
    "    elif string.count('{') != string.count('}'):\n",
    "        return False, 'No match found'\n",
    "    else:\n",
    "        return True, 'OK'\n",
    "    \n",
    "    "
   ]
  },
  {
   "cell_type": "code",
   "execution_count": 186,
   "metadata": {
    "collapsed": false
   },
   "outputs": [],
   "source": [
    "def evaluate(string):\n",
    "    if string.count('(') != string.count(')'):\n",
    "        return False, \"No match found for '(':{}, ')':{}\".format(string.count('('),string.count(')'))\n",
    "    elif string.count('[') != string.count(']'):\n",
    "        return False, \"No match found for '[': {}, ']':{}\".format(string.count('['), string.count(']'))\n",
    "    elif string.count('{') != string.count('}'):\n",
    "        return False, \"No match found for '{':{}, '}':{}\".format(string.count('{}'), string.count('}'))\n",
    "    else:\n",
    "        return True, 'OK'\n",
    "    "
   ]
  },
  {
   "cell_type": "code",
   "execution_count": 187,
   "metadata": {
    "collapsed": false
   },
   "outputs": [
    {
     "data": {
      "text/plain": [
       "(True, 'OK')"
      ]
     },
     "execution_count": 187,
     "metadata": {},
     "output_type": "execute_result"
    }
   ],
   "source": [
    "evaluate('(a(b))()()') "
   ]
  },
  {
   "cell_type": "code",
   "execution_count": 188,
   "metadata": {
    "collapsed": false
   },
   "outputs": [
    {
     "data": {
      "text/plain": [
       "(True, 'OK')"
      ]
     },
     "execution_count": 188,
     "metadata": {},
     "output_type": "execute_result"
    }
   ],
   "source": [
    "evaluate('a(b())')"
   ]
  },
  {
   "cell_type": "code",
   "execution_count": 189,
   "metadata": {
    "collapsed": false
   },
   "outputs": [
    {
     "data": {
      "text/plain": [
       "(False, \"No match found for '(':1, ')':3\")"
      ]
     },
     "execution_count": 189,
     "metadata": {},
     "output_type": "execute_result"
    }
   ],
   "source": [
    "evaluate(')a(b))')"
   ]
  },
  {
   "cell_type": "code",
   "execution_count": 190,
   "metadata": {
    "collapsed": false
   },
   "outputs": [
    {
     "data": {
      "text/plain": [
       "(False, \"No match found for '(':2, ')':1\")"
      ]
     },
     "execution_count": 190,
     "metadata": {},
     "output_type": "execute_result"
    }
   ],
   "source": [
    "evaluate('(a(b){c}')"
   ]
  },
  {
   "cell_type": "code",
   "execution_count": 191,
   "metadata": {
    "collapsed": false
   },
   "outputs": [
    {
     "data": {
      "text/plain": [
       "(False, \"No match found for '(':1, ')':4\")"
      ]
     },
     "execution_count": 191,
     "metadata": {},
     "output_type": "execute_result"
    }
   ],
   "source": [
    "evaluate('a(b))))')"
   ]
  },
  {
   "cell_type": "code",
   "execution_count": 192,
   "metadata": {
    "collapsed": false
   },
   "outputs": [
    {
     "data": {
      "text/plain": [
       "(False, \"No match found for '(':4, ')':1\")"
      ]
     },
     "execution_count": 192,
     "metadata": {},
     "output_type": "execute_result"
    }
   ],
   "source": [
    "evaluate('(((a(b){c}')"
   ]
  },
  {
   "cell_type": "code",
   "execution_count": null,
   "metadata": {
    "collapsed": true
   },
   "outputs": [],
   "source": []
  },
  {
   "cell_type": "code",
   "execution_count": null,
   "metadata": {
    "collapsed": true
   },
   "outputs": [],
   "source": []
  },
  {
   "cell_type": "code",
   "execution_count": null,
   "metadata": {
    "collapsed": true
   },
   "outputs": [],
   "source": []
  },
  {
   "cell_type": "code",
   "execution_count": null,
   "metadata": {
    "collapsed": true
   },
   "outputs": [],
   "source": []
  },
  {
   "cell_type": "code",
   "execution_count": null,
   "metadata": {
    "collapsed": true
   },
   "outputs": [],
   "source": []
  }
 ],
 "metadata": {
  "kernelspec": {
   "display_name": "Python 2",
   "language": "python",
   "name": "python2"
  },
  "language_info": {
   "codemirror_mode": {
    "name": "ipython",
    "version": 2
   },
   "file_extension": ".py",
   "mimetype": "text/x-python",
   "name": "python",
   "nbconvert_exporter": "python",
   "pygments_lexer": "ipython2",
   "version": "2.7.10"
  }
 },
 "nbformat": 4,
 "nbformat_minor": 0
}
