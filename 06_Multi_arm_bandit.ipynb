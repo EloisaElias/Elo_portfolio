{
 "cells": [
  {
   "cell_type": "markdown",
   "metadata": {},
   "source": [
    "## Multi-arm bandit\n",
    "---\n",
    "**Elo notes**"
   ]
  },
  {
   "cell_type": "markdown",
   "metadata": {},
   "source": [
    "#### Reinforcement Learning - Exploration vs Exploitation\n",
    "\n",
    "The multi-armed bandit problem models an __agent__ that simultaneously attempts to acquire new knowledge (called __\"exploration\"__) and optimize his or her decisions based on existing knowledge (called __\"exploitation\"__). \n",
    "\n",
    "The agent attempts to balance these competing tasks in order to maximize his total value over the period of time considered. There are many practical applications of the bandit model, for example:\n",
    "\n",
    "clinical trials investigating the effects of different experimental treatments while minimizing patient losses, adaptive routing efforts for minimizing delays in a network,\n",
    "portfolio design.\n",
    "\n",
    "In these practical examples, the problem requires balancing reward maximization based on the knowledge already acquired with attempting new actions to further increase knowledge. This is known as the exploitation vs. exploration tradeoff in reinforcement learning.\n",
    "\n",
    "The Multi-Arm Bandit is a way of algorithmically deciding what percent of traffic to send to each version of the site, so that you can still get statistically significant results, but show what is likely to be the better version to a higher percent of users.\n",
    "\n",
    "We call trying out each site to gather data __exploration__ and showing the site that we believe to be the best __exploitation__. Our goal is to __minimize the regret__, the amount of time you showed a suboptimal site.\n",
    "\n",
    "The term Multi-Arm Bandit comes from slot machines, as one-armed bandit is another term for a slot machine. Common terminology is to call each version of the site a bandit (or a lever). __Multi-Arm Bandit is actually a class of algorithms__, and Let's explore a few:\n"
   ]
  },
  {
   "cell_type": "markdown",
   "metadata": {},
   "source": [
    "[The multi-armed bandit model](https://en.wikipedia.org/wiki/Multi-armed_bandit)\n",
    "\n",
    "\n",
    "- [Epsilon-greedy](http://stevehanov.ca/blog/index.php?id=132)\n",
    "\n",
    "[UCB 1](http://courses.cms.caltech.edu/cs101.2/slides/cs101.2-02-Bandits-notes.pdf)\n",
    "\n",
    "- [Softmax](https://en.wikipedia.org/wiki/Softmax_function)\n",
    "\n",
    "---\n",
    "#### Reinforcement learning - Softmax function\n",
    "\n",
    "In the field of __reinforcement learning__, a softmax function can be used to convert values into action probabilities. \n",
    "\n",
    "The function commonly used is:\n",
    "$$\n",
    "P_t(a) = \\frac{\\exp(q_t(a)/\\tau)}{\\sum_{i=1}^n\\exp(q_t(i)/\\tau)} \\text{,}\n",
    "$$\n",
    "\n",
    "where the action value $q_t(a)$ corresponds to the expected reward of following action a and $\\tau$ is called a temperature parameter (in allusion to __statistical mechanics__). For high temperatures ($\\tau\\to \\infty$), all actions have nearly the same probability and the lower the temperature, the more expected rewards affect the probability. For a low temperature ($\\tau\\to 0^+$), the probability of the action with the highest expected reward tends to 1.\n"
   ]
  },
  {
   "cell_type": "code",
   "execution_count": 80,
   "metadata": {
    "collapsed": true
   },
   "outputs": [],
   "source": [
    "from __future__ import division\n",
    "\n",
    "from mab_strategy import MAB_Strategy, epsilon_greedy, bayesian_bandit\n",
    "from mab_strategy import random_choice, softmax, max_mean, ucb1\n",
    "from bandits import Bandits\n",
    "\n",
    "import pandas as pd\n",
    "import numpy as np\n",
    "\n",
    "import matplotlib.pyplot as plot\n",
    "\n",
    "% matplotlib inline"
   ]
  },
  {
   "cell_type": "code",
   "execution_count": 81,
   "metadata": {
    "collapsed": true
   },
   "outputs": [],
   "source": [
    "probabilities = [0.05, 0.03, 0.06]\n",
    "rounds = 10000"
   ]
  },
  {
   "cell_type": "code",
   "execution_count": 82,
   "metadata": {
    "collapsed": true
   },
   "outputs": [],
   "source": [
    "def simulating_strategies(bandits_p, strategy_function, rounds):\n",
    "    bandits = Bandits(bandits_p)\n",
    "    strategy = MAB_Strategy(bandits, strategy_function)\n",
    "    strategy.simulation(rounds)\n",
    "    conversion_rate = strategy.r_jt / strategy.T_jt\n",
    "    print 'Simulated strategy:', strategy_function\n",
    "    print 'Best evaluated site:', np.argmax(conversion_rate)\n",
    "    print 'With a total of {} conversions of {}views'.format(strategy.r_jt.sum(), strategy.T_jt.sum())\n",
    "    print 'Views(Trials/Traffic) per Site version(Bandits):', strategy.T_jt\n",
    "    print 'Conversions(Wins/Clicks) per Site version(Bandits):', strategy.r_jt\n",
    "    print 'Conversion Rate per Site version(Bandits):\\n', conversion_rate\n",
    "    strategy_regret = strategy.regret()\n",
    "    return strategy_regret"
   ]
  },
  {
   "cell_type": "code",
   "execution_count": 83,
   "metadata": {
    "collapsed": false
   },
   "outputs": [
    {
     "name": "stdout",
     "output_type": "stream",
     "text": [
      "Simulated strategy: <function random_choice at 0x1189ecaa0>\n",
      "Best evaluated site: 2\n",
      "With a total of 458 conversions of 10003views\n",
      "Views(Trials/Traffic) per Site version(Bandits): [3328 3273 3402]\n",
      "Conversions(Wins/Clicks) per Site version(Bandits): [163  94 201]\n",
      "Conversion Rate per Site version(Bandits):\n",
      "[ 0.04897837  0.02871983  0.05908289]\n"
     ]
    }
   ],
   "source": [
    "rc_regret = simulating_strategies(probabilities, random_choice, rounds)"
   ]
  },
  {
   "cell_type": "code",
   "execution_count": 84,
   "metadata": {
    "collapsed": false
   },
   "outputs": [
    {
     "name": "stdout",
     "output_type": "stream",
     "text": [
      "Simulated strategy: <function epsilon_greedy at 0x1189ec848>\n",
      "Best evaluated site: 2\n",
      "With a total of 455 conversions of 10003views\n",
      "Views(Trials/Traffic) per Site version(Bandits): [3329 3354 3320]\n",
      "Conversions(Wins/Clicks) per Site version(Bandits): [144 109 202]\n",
      "Conversion Rate per Site version(Bandits):\n",
      "[ 0.04325623  0.03249851  0.06084337]\n"
     ]
    }
   ],
   "source": [
    "eg_regret = simulating_strategies(probabilities, epsilon_greedy, rounds)"
   ]
  },
  {
   "cell_type": "code",
   "execution_count": 85,
   "metadata": {
    "collapsed": false
   },
   "outputs": [
    {
     "name": "stdout",
     "output_type": "stream",
     "text": [
      "Simulated strategy: <function max_mean at 0x118fed050>\n",
      "Best evaluated site: 1\n",
      "With a total of 470 conversions of 10003views\n",
      "Views(Trials/Traffic) per Site version(Bandits): [10001     1     1]\n",
      "Conversions(Wins/Clicks) per Site version(Bandits): [468   1   1]\n",
      "Conversion Rate per Site version(Bandits):\n",
      "[ 0.04679532  1.          1.        ]\n"
     ]
    }
   ],
   "source": [
    "maxm_regret = simulating_strategies(probabilities, max_mean, rounds)"
   ]
  },
  {
   "cell_type": "code",
   "execution_count": 86,
   "metadata": {
    "collapsed": false
   },
   "outputs": [
    {
     "name": "stdout",
     "output_type": "stream",
     "text": [
      "Simulated strategy: <function softmax at 0x1189ec7d0>\n",
      "Best evaluated site: 2\n",
      "With a total of 474 conversions of 10003views\n",
      "Views(Trials/Traffic) per Site version(Bandits): [3357 3293 3353]\n",
      "Conversions(Wins/Clicks) per Site version(Bandits): [173  95 206]\n",
      "Conversion Rate per Site version(Bandits):\n",
      "[ 0.05153411  0.02884907  0.06143752]\n"
     ]
    }
   ],
   "source": [
    "softmax_regret = simulating_strategies(probabilities, softmax, rounds)"
   ]
  },
  {
   "cell_type": "code",
   "execution_count": 87,
   "metadata": {
    "collapsed": false
   },
   "outputs": [
    {
     "name": "stdout",
     "output_type": "stream",
     "text": [
      "Simulated strategy: <function ucb1 at 0x1189ec758>\n",
      "Best evaluated site: 2\n",
      "With a total of 499 conversions of 10003views\n",
      "Views(Trials/Traffic) per Site version(Bandits): [3251 1652 5100]\n",
      "Conversions(Wins/Clicks) per Site version(Bandits): [144  50 305]\n",
      "Conversion Rate per Site version(Bandits):\n",
      "[ 0.04429406  0.03026634  0.05980392]\n"
     ]
    }
   ],
   "source": [
    "ucb1_regret = simulating_strategies(probabilities, ucb1, rounds)"
   ]
  },
  {
   "cell_type": "code",
   "execution_count": 88,
   "metadata": {
    "collapsed": false
   },
   "outputs": [
    {
     "name": "stdout",
     "output_type": "stream",
     "text": [
      "Simulated strategy: <function bayesian_bandit at 0x1189ec050>\n",
      "Best evaluated site: 2\n",
      "With a total of 567 conversions of 10003views\n",
      "Views(Trials/Traffic) per Site version(Bandits): [ 384  305 9314]\n",
      "Conversions(Wins/Clicks) per Site version(Bandits): [ 13   8 546]\n",
      "Conversion Rate per Site version(Bandits):\n",
      "[ 0.03385417  0.02622951  0.05862143]\n"
     ]
    }
   ],
   "source": [
    "bayes_regret = simulating_strategies(probabilities, bayesian_bandit, rounds)"
   ]
  },
  {
   "cell_type": "code",
   "execution_count": 89,
   "metadata": {
    "collapsed": false
   },
   "outputs": [
    {
     "data": {
      "text/plain": [
       "<matplotlib.legend.Legend at 0x118d9d8d0>"
      ]
     },
     "execution_count": 89,
     "metadata": {},
     "output_type": "execute_result"
    },
    {
     "data": {
      "image/png": "[encoded data removed]",
      "text/plain": [
       "<matplotlib.figure.Figure at 0x1189c1090>"
      ]
     },
     "metadata": {},
     "output_type": "display_data"
    }
   ],
   "source": [
    "x = range(rounds)\n",
    "plt.plot(x, rc_regret, label= 'Random Choice')\n",
    "plt.plot(x, eg_regret, label= 'Epsilon greedy')\n",
    "plt.plot(x, softmax_regret, label= 'Softmax')\n",
    "plt.plot(x, ucb1_regret, label= 'UCB1')\n",
    "plt.plot(x, bayes_regret, label='Bayesian')\n",
    "plt.title('Strategy Fuction Regret per rounds {}'.format(rounds))\n",
    "plt.xlabel('Rounds')\n",
    "plt.ylabel('Regret')\n",
    "plt.legend(loc='left')"
   ]
  },
  {
   "cell_type": "code",
   "execution_count": 90,
   "metadata": {
    "collapsed": true
   },
   "outputs": [],
   "source": [
    "# import numpy as np\n",
    "# import random\n",
    "\n",
    "# class MAB_Strategy(object):\n",
    "#   def __init__(self, bandits, strategy_f):\n",
    "#     # Selected mab strategy\n",
    "#     self.strategy_f = strategy_f\n",
    "#     # Expected value of slot machine arm\n",
    "#     self.bandits = bandits\n",
    "#     n_bandits = len(self.bandits)\n",
    "#     # n: rounds : Total number of plays we will make (known and specified in advance)\n",
    "#     # Initializing with at least one round per bandit\n",
    "#     self.n = n_bandits\n",
    "#     # Wins : r_t : reward of arm j in round t\n",
    "#     self.r_jt = np.ones(n_bandits).astype(int)\n",
    "#     # Trials: number of times arm j pulled during the first t plays\n",
    "#     self.T_jt = np.ones(n_bandits).astype(int)\n",
    "#     # Index of the selected bandit in round t\n",
    "#     self.bandit_ixt = []\n",
    "#     # score per round\n",
    "#     self.score = []\n",
    "\n",
    "#   def simulation(self, n = 1):\n",
    "#     bandit_ixt = np.zeros(n)\n",
    "#     score = np.zeros(n)\n",
    "\n",
    "#     # np.random.seed(101)\n",
    "#     # random.seed(101)\n",
    "\n",
    "#     for t in range(n):\n",
    "#       # Obtaining the bandit's prior\n",
    "#       bandit_ix = self.strategy_f(self)\n",
    "#       # Simulating presenting the chosen bandit (Site) to visitor (np.random.random())\n",
    "#       # True if the choosing the ith arm led to a conversion\n",
    "#       conversion = self.bandits.pull(bandit_ix)\n",
    "#       # Updating priors and score per round t\n",
    "#       self.r_jt[bandit_ix] += conversion\n",
    "#       self.T_jt[bandit_ix] += 1\n",
    "#       score[t] = conversion\n",
    "#       self.n += 1\n",
    "#       bandit_ixt[t] = bandit_ix\n",
    "#     # Update priors and scores by concatenate selected bandit per strategy (row-wise)\n",
    "#     self.bandit_ixt = np.r_[self.bandit_ixt, bandit_ixt]\n",
    "#     self.score = np.r_[self.score, score]\n",
    "\n",
    "#   def regret(self):\n",
    "#     # x_j(t) :  # E[X_jt] :  self.bandits.p_array : Sample average(Expected Value) of all rewards of bandit j at play t\n",
    "#     # E[X_jt] : mean_j :  Expected value of random variable for reward of arm j at time t\n",
    "#     # p_optimal : mean_j* : argmax(E[X_jt]) : is the maximal reward mean\n",
    "#     EX_jt = np.array(self.bandits.p_array)\n",
    "#     p_optimal = np.max(EX_jt)\n",
    "#     return np.cumsum(p_optimal - np.array(EX_jt)[self.bandit_ixt.astype(int)])\n",
    "\n",
    "# def max_mean(self):\n",
    "#   '''\n",
    "#   Strategy_f : Select the bandit with the current best (maximum) observed winning\n",
    "#   proportion.\n",
    "#   RETURN: The index of the bandit selected by this strategy function\n",
    "#   '''\n",
    "#   if len(self.T_jt.nonzero()[0]) < len(self.bandits):\n",
    "#     return np.random.randint(0, len(self.bandits))\n",
    "#   return np.argmax(self.r_jt / (self.T_jt + 1))\n",
    "\n",
    "# def random_choice(self):\n",
    "#   '''\n",
    "#   Select a bandit uniformly at random\n",
    "#   RETURN: Index of the selected bandit\n",
    "#   '''\n",
    "#   return np.random.randint(0, len(self.bandits))\n",
    "\n",
    "# def epsilon_greedy(self, epsilon=0.1):\n",
    "#   '''\n",
    "#   Select a bandit uniformly at random epsilon percent of the time\n",
    "#   (10% is a standard epsilon value) the remaining 90% of the time select\n",
    "#   the bandit with the best observed proportion of winning\n",
    "#   RETURN: The index of the selected bandits under this strategy\n",
    "#   '''\n",
    "#   # Exploration\n",
    "#   rv = np.random.random()\n",
    "#   if rv < epsilon or len(self.score) == 0:\n",
    "#     chosen_bandit = np.random.randint(0, len(self.bandits))\n",
    "#   # Exploitation\n",
    "#   else:\n",
    "#     chosen_bandit = np.argmax(self.r_jt / (self.T_jt + 1))\n",
    "#   return chosen_bandit\n",
    "\n",
    "# def softmax(self, tau=0.1):\n",
    "#   '''\n",
    "#   Softmax or Normalized exponential function is a generalization of the logistic function\n",
    "#   Select a bandit from a Boltzman distribution\n",
    "#   Tau: 0.1 is a standard value\n",
    "#   ereward: expexted reward : CTR : energy\n",
    "#   RETURN: Index of the selected bandit\n",
    "#   '''\n",
    "#   ereward = self.r_jt / (self.T_jt + 1)\n",
    "#   prob = np.exp(ereward/tau) / sum(np.exp(ereward/tau))\n",
    "\n",
    "#   return np.random.choice(range(len(self.bandits)), 1, p=prob)\n",
    "\n",
    "# def ucb1(self):\n",
    "#   '''\n",
    "#   Upper Confidence Bound\n",
    "#   x_j(t) :  # E[X_jt] :  self.bandits.p_array : Sample average(Expected Value) of all rewards of bandit j at play t\n",
    "#   T_jt :  Trials\n",
    "#   '''\n",
    "#   EX_jt = np.array(self.bandits.p_array)\n",
    "#   confidence_bound = np.sqrt((2 * np.log10(self.n)) / self.T_jt)\n",
    "#   upper_cb = EX_jt + confidence_bound\n",
    "#   return np.argmax(upper_cb)\n",
    "\n",
    "# def bayesian_bandit(self):\n",
    "#   '''\n",
    "#   Obtain a rv(random variable) from a beta distribution for each bandit\n",
    "#   alpha : 1. + Wins(r_jt, rewards) : 1. + Clicks\n",
    "#   beta : 1. + (Trials - Wins) : 1. + (Views - Clicks)\n",
    "#   RETURN: The index of the bandit with largest rv value\n",
    "#   '''\n",
    "#   alpha = 1. + self.r_jt\n",
    "#   beta = 1. + (self.T_jt - self.r_jt)\n",
    "#   rv_ = np.random.beta(alpha, beta)\n",
    "#   return np.argmax(rv_)\n"
   ]
  },
  {
   "cell_type": "code",
   "execution_count": null,
   "metadata": {
    "collapsed": true
   },
   "outputs": [],
   "source": []
  },
  {
   "cell_type": "code",
   "execution_count": null,
   "metadata": {
    "collapsed": true
   },
   "outputs": [],
   "source": []
  }
 ],
 "metadata": {
  "kernelspec": {
   "display_name": "Python 2",
   "language": "python",
   "name": "python2"
  },
  "language_info": {
   "codemirror_mode": {
    "name": "ipython",
    "version": 2
   },
   "file_extension": ".py",
   "mimetype": "text/x-python",
   "name": "python",
   "nbconvert_exporter": "python",
   "pygments_lexer": "ipython2",
   "version": "2.7.11"
  }
 },
 "nbformat": 4,
 "nbformat_minor": 0
}
