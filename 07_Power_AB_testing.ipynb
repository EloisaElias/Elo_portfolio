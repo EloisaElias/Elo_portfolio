{
 "cells": [
  {
   "cell_type": "markdown",
   "metadata": {},
   "source": [
    "## Power - A/B testing\n",
    "---\n",
    "**Elo notes**"
   ]
  },
  {
   "cell_type": "markdown",
   "metadata": {},
   "source": [
    "### Power \n",
    "\n",
    "The power or sensitivity of a binary hypothesis test is the probability that the test correctly rejects the null hypothesis $Ho$ when the alternative hypothesis $H1$ is true.\n",
    "\n",
    "The ability of a test to detect an effect, if the effect actually exists. That is,\n",
    "\n",
    "${\\displaystyle {\\text{power}}=\\mathbb {P} {\\big (}{\\text{reject }}H_{0 }{\\big |}H_{1 }{\\text{ is true}}{\\big )}}$\n",
    "\n",
    "As the power increases, there are decreasing chances of a Type II error (false negative), which are also referred to as the false negative rate $β$ since the power is equal to $(1−β)$, again, under the alternative hypothesis. A similar concept is Type I error, also referred to as the “false positive rate” $α$ or the level of a test under the null hypothesis.\n",
    "\n",
    "Power analysis can be used to calculate the minimum sample size required so that one can be reasonably likely to detect an effect of a given size. \n",
    "\n",
    "The concept of power is used to make comparisons between different statistical testing procedures: for example, between a parametric and a nonparametric test of the same hypothesis."
   ]
  },
  {
   "cell_type": "markdown",
   "metadata": {},
   "source": [
    "### Factors\n",
    "\n",
    "Statistical power may depend on a number of factors. Some factors may be particular to a specific testing situation, but at a minimum, power nearly always depends on the following three factors:\n",
    "\n",
    "- the statistical significance criterion used in the test\n",
    "- the magnitude of the effect of interest in the population\n",
    "- the sample size used to detect the effect\n",
    "\n",
    "A **significance criterion** is a statement of how unlikely a positive result must be, if the null hypothesis of no effect is true, for the null hypothesis to be rejected. \n",
    "\n",
    "The most commonly used criteria are probabilities of \n",
    "\n",
    "- 0.05 (5%, 1 in 20)\n",
    "- 0.01 (1%, 1 in 100)\n",
    "- 0.001 (0.1%, 1 in 1000). \n",
    "\n",
    "If the criterion is 0.05, the probability of the data implying an effect at least as large as the observed effect when the null hypothesis is true must be less than 0.05, for the null hypothesis of no effect to be rejected. \n",
    "\n",
    "One easy way to increase the power of a test is to carry out a less conservative test by using a larger significance criterion, for example 0.10 instead of 0.05. This increases the chance of rejecting the null hypothesis (i.e. obtaining a statistically significant result) when the null hypothesis is false, that is, reduces the risk of a Type II error (false negative regarding whether an effect exists). But it also increases the risk of obtaining a statistically significant result (i.e. rejecting the null hypothesis) when the null hypothesis is not false; that is, it increases the risk of a Type I error (false positive).\n",
    "\n",
    "**The sample size** determines the amount of sampling error inherent in a test result. Other things being equal, effects are harder to detect in smaller samples. \n",
    "\n",
    "The precision with which the data are measured also influences statistical power. Consequently, power can often be improved by reducing the measurement error in the data. A related concept is to improve the __“reliability”__ of the measure being assessed (as in psychometric reliability).\n",
    "\n"
   ]
  },
  {
   "cell_type": "markdown",
   "metadata": {},
   "source": [
    "### Interpretation\n",
    "\n",
    "Although there are no formal standards for power (sometimes referred to as π), most researchers assess the power of their tests using $π=0.80$ as a standard for adequacy. This convention implies a four-to-one trade off between $β risk$ and $α risk$. \n",
    "\n",
    "$β$ is the probability of a Type II error; $α$ is the probability of a Type I error, $0.2$ and $0.05$ are conventional values for $β$ and $α$\n",
    "\n",
    "Any statistical analysis involving multiple hypotheses is subject to inflation of the type I error rate if appropriate measures are not taken. Such measures typically involve applying a higher threshold of stringency to reject a hypothesis in order to compensate for the multiple comparisons being made.e.g. as in the __Bonferroni method__ \n",
    "\n",
    "It is also important to consider the statistical power of a hypothesis test when interpreting its results. A test's power is the probability of correctly rejecting the null hypothesis when it is false; a test's power is influenced by the choice of significance level for the test, the size of the effect being measured, and the amount of data available. \n"
   ]
  },
  {
   "cell_type": "markdown",
   "metadata": {},
   "source": [
    "### Binomial proportion confidence interval\n",
    "\n",
    "\t\n",
    "\n",
    "In statistics, a binomial proportion confidence interval is a confidence interval for the probability of success calculated from the outcome of a series of success–failure experiments (Bernoulli trials). In other words, a binomial proportion confidence interval is an interval estimate of a success probability p when only the number of experiments n and the number of successes nS are known.\n",
    "\n",
    "#### Normal approximation interval \n",
    "\n",
    "A commonly used formula for a binomial confidence interval relies on approximating the distribution of error about a binomially-distributed observation, $\\hat p$, with a __normal distribution__.\n",
    "\n",
    "This approximation is based on the __central limit theorem__ and is unreliable when the sample size is small or the success probability is close to 0 or 1.\n",
    "\n",
    "Using the normal approximation, the success probability __p__ is estimated as\n",
    "\n",
    "$$\\hat p \\pm z \\sqrt{\\frac{\\hat p \\left(1 - \\hat p\\right)}{n}},$$\n",
    "\n",
    "or the equivalent\n",
    "\n",
    "$$\\frac{n_S}{n} \\pm \\frac{z}{n} \\sqrt{\\frac{n_S n_F}{n}},$$\n",
    "\n",
    "\n",
    "where:\n",
    "\n",
    "Let $X$ be the number of successes in $n$ trials and let $p = X/n$. \n",
    "\n",
    "$$\\hat p = n_S / n$$ \n",
    "\n",
    "is the proportion of successes in a __Bernoulli trial__ process, measured with $n$ trials yielding $n_S$ successes and $n_F = n - n_S$ failures, and $z$ is the $1 - \\tfrac{\\alpha}{2}$ __quantile__ of a __standard normal distribution__ corresponding to the target error rate $\\alpha$. \n",
    "\n",
    "For a 95% confidence level, the error $\\alpha=1-0.95=0.05$, so $1 - \\tfrac \\alpha 2=0.975$ and $z=1.96$.\n"
   ]
  },
  {
   "cell_type": "code",
   "execution_count": 8,
   "metadata": {
    "collapsed": false
   },
   "outputs": [],
   "source": [
    "from __future__ import division\n",
    "\n",
    "from math import sqrt\n",
    "\n",
    "import scipy.stats as scis\n",
    "\n",
    "import pandas as pd\n",
    "import numpy as np\n",
    "\n",
    "import matplotlib.pyplot as plt\n",
    "\n",
    "pd.set_option('display.mpl_style', 'default')\n",
    "plt.rcParams['figure.figsize'] = (18, 6)\n",
    "\n",
    "%matplotlib inline"
   ]
  },
  {
   "cell_type": "code",
   "execution_count": 9,
   "metadata": {
    "collapsed": true
   },
   "outputs": [],
   "source": [
    "# Sample data\n",
    "data = np.loadtxt('manufacturing_weight.txt')"
   ]
  },
  {
   "cell_type": "code",
   "execution_count": 10,
   "metadata": {
    "collapsed": false
   },
   "outputs": [
    {
     "data": {
      "text/plain": [
       "20.519861441022606"
      ]
     },
     "execution_count": 10,
     "metadata": {},
     "output_type": "execute_result"
    }
   ],
   "source": [
    "smean = data.mean()\n",
    "smean"
   ]
  },
  {
   "cell_type": "code",
   "execution_count": 11,
   "metadata": {
    "collapsed": false
   },
   "outputs": [
    {
     "data": {
      "text/plain": [
       "0.95768221510418861"
      ]
     },
     "execution_count": 11,
     "metadata": {},
     "output_type": "execute_result"
    }
   ],
   "source": [
    "ssigma = data.std()\n",
    "ssigma"
   ]
  },
  {
   "cell_type": "code",
   "execution_count": 13,
   "metadata": {
    "collapsed": false
   },
   "outputs": [],
   "source": [
    "s_se = ssigma / sqrt(len(data))"
   ]
  },
  {
   "cell_type": "markdown",
   "metadata": {},
   "source": [
    "#### Ho: Mean = 20.4\n",
    "#### Ha: Mean != 20.4\n",
    "\n",
    "95% of the area under a normal curve lies within 1.96 standard deviations of the mean :  \n",
    "\n",
    "CI: mean +- 1.96se"
   ]
  },
  {
   "cell_type": "code",
   "execution_count": 14,
   "metadata": {
    "collapsed": true
   },
   "outputs": [],
   "source": [
    "mean = 20.4"
   ]
  },
  {
   "cell_type": "code",
   "execution_count": 15,
   "metadata": {
    "collapsed": false
   },
   "outputs": [
    {
     "name": "stdout",
     "output_type": "stream",
     "text": [
      "mean: 20.519861441, standard deviation: 0.957682215104, standard error: 0.0839942866705\n"
     ]
    }
   ],
   "source": [
    "print'mean: {}, standard deviation: {}, standard error: {}'.format(smean, ssigma, s_se)"
   ]
  },
  {
   "cell_type": "code",
   "execution_count": 39,
   "metadata": {
    "collapsed": true
   },
   "outputs": [],
   "source": [
    "def hypothesis_distribution(hypothesis, se):\n",
    "    for mean, color in hypothesis.items():\n",
    "        rv = scis.norm(mean, scale=se)\n",
    "        x_range = np.linspace(mean - (4*se), mean + (4*se), 1000)\n",
    "        y = rv.pdf(x_range)\n",
    "        \n",
    "        # Graphing the Normal distributions of Ho and Ha\n",
    "        plt.plot(x_range, y, c=color, label='Hypothesis mean:{}'.format(mean))\n",
    "        # CV line :  Critical value line (Vertical line) ppf: Percent point function (inverse of Cumulative distribution function — percentiles).\n",
    "        sign ificance_level = 0.05 / 2 # Two tailed test, Significance Level : alpha\n",
    "        critical_value_ll = rv.ppf(significance_level)\n",
    "        critical_value_ul = rv.ppf(1-significance_level)\n",
    "        plt.axvline(critical_value_ll, c=color, linestyle='--')\n",
    "        plt.axvline(critical_value_ul, c=color, linestyle='--')\n",
    "        plt.legend() \n",
    "        \n",
    "        if mean == 20.4:\n",
    "            cv_ll = rv.ppf(significance_level)\n",
    "            cv_ul = rv.ppf(1-significance_level)\n",
    "            \n",
    "            \n",
    "    return rv, cv_ll, cv_ul\n",
    "        "
   ]
  },
  {
   "cell_type": "code",
   "execution_count": 40,
   "metadata": {
    "collapsed": false
   },
   "outputs": [
    {
     "name": "stdout",
     "output_type": "stream",
     "text": [
      "(20.235374223218717, 20.564625776781281)\n"
     ]
    },
    {
     "data": {
      "image/png": "[encoded data removed]",
      "text/plain": [
       "<matplotlib.figure.Figure at 0x11a5d4110>"
      ]
     },
     "metadata": {},
     "output_type": "display_data"
    }
   ],
   "source": [
    "rv_, cv_ll_, cv_ul_ = hypothesis_distribution({mean:'b', smean:'r'}, s_se)\n",
    "print (cv_ll_, cv_ul_)"
   ]
  },
  {
   "cell_type": "code",
   "execution_count": 18,
   "metadata": {
    "collapsed": false
   },
   "outputs": [],
   "source": [
    "# cdf: cumulative density funcion\n",
    "beta = rv.cdf(cv_ul)"
   ]
  },
  {
   "cell_type": "code",
   "execution_count": 19,
   "metadata": {
    "collapsed": false
   },
   "outputs": [
    {
     "data": {
      "text/plain": [
       "0.297035824104805"
      ]
     },
     "execution_count": 19,
     "metadata": {},
     "output_type": "execute_result"
    }
   ],
   "source": [
    "power = 1 - beta\n",
    "power"
   ]
  },
  {
   "cell_type": "markdown",
   "metadata": {},
   "source": [
    "#### Conclusion: We fail to reject the Null Hypothesis\n",
    "##### For this hypothesis the altenate hypothesis has a very low Power 0.297, therefore with this experiment the sample size is significantly smaller than the minimum required for us to detect a difference of any effect.\n",
    "\n",
    "Power calculations are very useful in determining what required minimum sample size is necessary to reach a certain power (usually 80%) given an effect size and a significance level. \n",
    "\n",
    "A powerful test would ensure we are able to detect differences in conversion the majority of the time given the difference in fact exists.\n",
    "\n",
    "To gain insights about the effect size, a small-scale pilot experiment is usually launched. The minimum sample size is computed. Subsequently, a full-scale experiment is run until the minimum sample size is reached.\n",
    "\n"
   ]
  },
  {
   "cell_type": "code",
   "execution_count": 20,
   "metadata": {
    "collapsed": true
   },
   "outputs": [],
   "source": [
    "def power(data, null_mean=20.4, alpha=0.05):\n",
    "    sample_mean, sample_std = data.mean(), data.std()\n",
    "    se = sample_std / sqrt(len(data))\n",
    "\n",
    "    ha = scis.norm(sample_mean, se)\n",
    "    h0 = scis.norm(null_mean, se)\n",
    "    \n",
    "    cv_ll = h0.ppf(alpha/2)\n",
    "    cv_ul = h0.ppf(1-alpha/2)\n",
    "    \n",
    "    beta = ha.cdf(cv_ul) - ha.cdf(cv_ll)\n",
    "    \n",
    "    return 1 - beta"
   ]
  },
  {
   "cell_type": "code",
   "execution_count": 21,
   "metadata": {
    "collapsed": false
   },
   "outputs": [
    {
     "data": {
      "text/plain": [
       "0.2973891529867565"
      ]
     },
     "execution_count": 21,
     "metadata": {},
     "output_type": "execute_result"
    }
   ],
   "source": [
    "power(data)"
   ]
  },
  {
   "cell_type": "code",
   "execution_count": 22,
   "metadata": {
    "collapsed": false
   },
   "outputs": [
    {
     "data": {
      "text/plain": [
       "(0, 1.1)"
      ]
     },
     "execution_count": 22,
     "metadata": {},
     "output_type": "execute_result"
    },
    {
     "data": {
      "image/png": "[encoded data removed]",
      "text/plain": [
       "<matplotlib.figure.Figure at 0x119618e90>"
      ]
     },
     "metadata": {},
     "output_type": "display_data"
    }
   ],
   "source": [
    "powers = []\n",
    "\n",
    "effect_size = np.linspace(0, 1.1, 100)\n",
    "\n",
    "for es_mean in (effect_size + smean):\n",
    "    powers.append(power(data, es_mean))\n",
    "    \n",
    "plt.plot(effect_size, powers)\n",
    "plt.ylim(0, 1.1)\n"
   ]
  },
  {
   "cell_type": "markdown",
   "metadata": {},
   "source": [
    "#### Reference for EDA and AB fundamentals: 03_AB_test.ipynb\n",
    "\n",
    "Historically, the old page has a conversion of 10% and we wish to test if the new page provides a 0.1% increase (1% lift) in conversion. Recall the null and alternative hypotheses below:\n",
    "\n",
    "X : p_ha - p_h0\n",
    "\n",
    "\n",
    "H0 : X = 0.001\n",
    "\n",
    "HA : X > 0.001\n",
    "\n",
    "Note: One-tailed test evaluates an increment. X > 0.001\n",
    "\n",
    "__Binomial proportion confidence interval__ is an interval estimate of a success probability __p__ when only the number of experiments __n__ and the number of successes $n_S$ are known.\n",
    "\n",
    "Let $X$ be the number of successes in $n$ trials and let $p = X/n$. \n",
    "\n",
    "\n",
    "__Standard Error for difference of proportions__\n",
    "\n",
    "- `p` is a weighted average of the `p1` and `p2` \n",
    "- `n1` is the number of subjects sampled from the first population\n",
    "- `n2` is the number of subjects sampled from the second population\n",
    "\n",
    "`\n",
    "p = (sum(new_page)+ sum(old_page)) / float(len(new_page) + len(old_page))\n",
    "se = sqrt(p * (1- p) * (1/n_ctrl + 1/n_treat))\n",
    "z_score = (crate_treat - crate_ctrl) / se`\n",
    "\n",
    "`\n",
    "crate_ctrl (float): Conversion rate of control df\n",
    "crate_treat (float):  Conversion rate of treatment df\n",
    "n_ctrl (int): number of observations in control\n",
    "n_treat (int): number of observations in treatment`\n",
    "\n",
    "\n"
   ]
  },
  {
   "cell_type": "markdown",
   "metadata": {},
   "source": [
    "##### Ho : control : old_page\n",
    "##### Ha : treatment : new_page\n",
    "\n",
    "Obtaining the conversion data for the new and old landing pages:\n",
    "\n"
   ]
  },
  {
   "cell_type": "markdown",
   "metadata": {},
   "source": [
    " [I have to stackoverflow things](https://onlinecourses.science.psu.edu/stat100/node/56)\n",
    " \n",
    " \n",
    " Sample size Standard Error (SE) = Square root of (p * (1-p) / n) \n",
    " \n",
    " where: \n",
    " \n",
    " p = sample proportion : conversion rate : population proportion + random error."
   ]
  },
  {
   "cell_type": "code",
   "execution_count": 23,
   "metadata": {
    "collapsed": true
   },
   "outputs": [],
   "source": [
    "df = pd.read_csv('doe_data.csv')"
   ]
  },
  {
   "cell_type": "code",
   "execution_count": 24,
   "metadata": {
    "collapsed": false
   },
   "outputs": [
    {
     "data": {
      "text/html": [
       "<div>\n",
       "<table border=\"1\" class=\"dataframe\">\n",
       "  <thead>\n",
       "    <tr style=\"text-align: right;\">\n",
       "      <th></th>\n",
       "      <th>user_id</th>\n",
       "      <th>ts</th>\n",
       "      <th>ab</th>\n",
       "      <th>landing_page</th>\n",
       "      <th>converted</th>\n",
       "    </tr>\n",
       "  </thead>\n",
       "  <tbody>\n",
       "    <tr>\n",
       "      <th>0</th>\n",
       "      <td>4040615247</td>\n",
       "      <td>1.356998e+09</td>\n",
       "      <td>treatment</td>\n",
       "      <td>new_page</td>\n",
       "      <td>0</td>\n",
       "    </tr>\n",
       "    <tr>\n",
       "      <th>1</th>\n",
       "      <td>4365389205</td>\n",
       "      <td>1.356998e+09</td>\n",
       "      <td>treatment</td>\n",
       "      <td>new_page</td>\n",
       "      <td>0</td>\n",
       "    </tr>\n",
       "    <tr>\n",
       "      <th>2</th>\n",
       "      <td>4256174578</td>\n",
       "      <td>1.356998e+09</td>\n",
       "      <td>treatment</td>\n",
       "      <td>new_page</td>\n",
       "      <td>0</td>\n",
       "    </tr>\n",
       "  </tbody>\n",
       "</table>\n",
       "</div>"
      ],
      "text/plain": [
       "      user_id            ts         ab landing_page  converted\n",
       "0  4040615247  1.356998e+09  treatment     new_page          0\n",
       "1  4365389205  1.356998e+09  treatment     new_page          0\n",
       "2  4256174578  1.356998e+09  treatment     new_page          0"
      ]
     },
     "execution_count": 24,
     "metadata": {},
     "output_type": "execute_result"
    }
   ],
   "source": [
    "df[:3]"
   ]
  },
  {
   "cell_type": "code",
   "execution_count": 25,
   "metadata": {
    "collapsed": false
   },
   "outputs": [
    {
     "name": "stdout",
     "output_type": "stream",
     "text": [
      "<class 'pandas.core.frame.DataFrame'>\n",
      "RangeIndex: 191148 entries, 0 to 191147\n",
      "Data columns (total 5 columns):\n",
      "user_id         191148 non-null int64\n",
      "ts              191148 non-null float64\n",
      "ab              191148 non-null object\n",
      "landing_page    191148 non-null object\n",
      "converted       191148 non-null int64\n",
      "dtypes: float64(1), int64(2), object(2)\n",
      "memory usage: 7.3+ MB\n"
     ]
    }
   ],
   "source": [
    "df.info()"
   ]
  },
  {
   "cell_type": "code",
   "execution_count": 26,
   "metadata": {
    "collapsed": false
   },
   "outputs": [
    {
     "data": {
      "text/plain": [
       "186388"
      ]
     },
     "execution_count": 26,
     "metadata": {},
     "output_type": "execute_result"
    }
   ],
   "source": [
    "len(df.user_id.unique())"
   ]
  },
  {
   "cell_type": "code",
   "execution_count": 27,
   "metadata": {
    "collapsed": false
   },
   "outputs": [
    {
     "data": {
      "text/plain": [
       "array(['treatment', 'control'], dtype=object)"
      ]
     },
     "execution_count": 27,
     "metadata": {},
     "output_type": "execute_result"
    }
   ],
   "source": [
    "df.ab.unique()"
   ]
  },
  {
   "cell_type": "code",
   "execution_count": 28,
   "metadata": {
    "collapsed": false
   },
   "outputs": [
    {
     "data": {
      "text/plain": [
       "array(['new_page', 'old_page'], dtype=object)"
      ]
     },
     "execution_count": 28,
     "metadata": {},
     "output_type": "execute_result"
    }
   ],
   "source": [
    "df.landing_page.unique()"
   ]
  },
  {
   "cell_type": "code",
   "execution_count": 54,
   "metadata": {
    "collapsed": false
   },
   "outputs": [
    {
     "name": "stdout",
     "output_type": "stream",
     "text": [
      "0.0996432268152 0.0996421296041\n"
     ]
    }
   ],
   "source": [
    "df_h0 = df[df.ab == 'control'].copy()\n",
    "n_h0 = float(len(df_h0.user_id.unique()))\n",
    "\n",
    "# P: Conversion Rate of Ho (Control:Old landing page) : cr_ho\n",
    "h0_mean = df_h0.converted.mean()\n",
    "p_h0 = df_h0.converted.sum() / n_h0\n",
    "\n",
    "print p_h0, h0_mean"
   ]
  },
  {
   "cell_type": "code",
   "execution_count": 55,
   "metadata": {
    "collapsed": false
   },
   "outputs": [
    {
     "name": "stdout",
     "output_type": "stream",
     "text": [
      "0.104923933287 0.0999471759042\n"
     ]
    }
   ],
   "source": [
    "df_ha = df[df.ab == 'treatment'].copy()\n",
    "n_ha = float(len(df_ha.user_id.unique()))\n",
    "\n",
    "# P: Conversion Rete of Ha (Treatment: New landing page) : cr_ha\n",
    "ha_mean = df_ha.converted.mean()\n",
    "p_ha = df_ha.converted.sum() / n_ha\n",
    "print p_ha, ha_mean"
   ]
  },
  {
   "cell_type": "code",
   "execution_count": 56,
   "metadata": {
    "collapsed": false
   },
   "outputs": [
    {
     "data": {
      "text/plain": [
       "0.005280706472046967"
      ]
     },
     "execution_count": 56,
     "metadata": {},
     "output_type": "execute_result"
    }
   ],
   "source": [
    "X = p_ha - p_h0\n",
    "X"
   ]
  },
  {
   "cell_type": "code",
   "execution_count": 57,
   "metadata": {
    "collapsed": false
   },
   "outputs": [
    {
     "data": {
      "text/plain": [
       "0.1023510097216559"
      ]
     },
     "execution_count": 57,
     "metadata": {},
     "output_type": "execute_result"
    }
   ],
   "source": [
    "# p : success probability of the Binomial proportion confidence interval\n",
    "p = (df_ha.converted.sum() + df_h0.converted.sum()) / (n_h0 + n_ha)\n",
    "p"
   ]
  },
  {
   "cell_type": "code",
   "execution_count": 58,
   "metadata": {
    "collapsed": false
   },
   "outputs": [
    {
     "data": {
      "text/plain": [
       "0.09187528053061339"
      ]
     },
     "execution_count": 58,
     "metadata": {},
     "output_type": "execute_result"
    }
   ],
   "source": [
    "variance = p * (1-p)\n",
    "variance"
   ]
  },
  {
   "cell_type": "code",
   "execution_count": 59,
   "metadata": {
    "collapsed": false
   },
   "outputs": [
    {
     "data": {
      "text/plain": [
       "0.0014046302895770726"
      ]
     },
     "execution_count": 59,
     "metadata": {},
     "output_type": "execute_result"
    }
   ],
   "source": [
    "se = np.sqrt(variance * (1. / n_ha + 1. / n_h0))\n",
    "se"
   ]
  },
  {
   "cell_type": "code",
   "execution_count": 60,
   "metadata": {
    "collapsed": false
   },
   "outputs": [
    {
     "data": {
      "text/plain": [
       "3.7594992157238489"
      ]
     },
     "execution_count": 60,
     "metadata": {},
     "output_type": "execute_result"
    }
   ],
   "source": [
    "z_score = X / se\n",
    "z_score"
   ]
  },
  {
   "cell_type": "code",
   "execution_count": 61,
   "metadata": {
    "collapsed": false
   },
   "outputs": [
    {
     "data": {
      "text/plain": [
       "8.512690565243286e-05"
      ]
     },
     "execution_count": 61,
     "metadata": {},
     "output_type": "execute_result"
    }
   ],
   "source": [
    "p_val = 1 - scis.norm.cdf(z_score)\n",
    "p_val"
   ]
  },
  {
   "cell_type": "code",
   "execution_count": 62,
   "metadata": {
    "collapsed": false
   },
   "outputs": [
    {
     "data": {
      "text/plain": [
       "0.061972006947284775"
      ]
     },
     "execution_count": 62,
     "metadata": {},
     "output_type": "execute_result"
    }
   ],
   "source": [
    "power(df_ha.converted, h0_mean, alpha=0.05)"
   ]
  },
  {
   "cell_type": "code",
   "execution_count": 63,
   "metadata": {
    "collapsed": true
   },
   "outputs": [],
   "source": [
    "hazme_mean = 0.001"
   ]
  },
  {
   "cell_type": "code",
   "execution_count": 64,
   "metadata": {
    "collapsed": false
   },
   "outputs": [
    {
     "data": {
      "image/png": "[encoded data removed]",
      "text/plain": [
       "<matplotlib.figure.Figure at 0x11b71bd10>"
      ]
     },
     "metadata": {},
     "output_type": "display_data"
    }
   ],
   "source": [
    "rvalue, cvalue_ll_, cvalue_ul_ = ab_hypothesis_distribution({hazme_mean:'b', X:'r'}, se)"
   ]
  },
  {
   "cell_type": "code",
   "execution_count": 51,
   "metadata": {
    "collapsed": false
   },
   "outputs": [],
   "source": [
    "def ab_hypothesis_distribution(hypothesis, se):\n",
    "    for mean, color in hypothesis.items():\n",
    "        rv = scis.norm(mean, scale=se)\n",
    "        x_range = np.linspace(mean - (4*se), mean + (4*se), 1000)\n",
    "        y = rv.pdf(x_range)\n",
    "        \n",
    "        # Graphing the Normal distributions of Ho and Ha\n",
    "        plt.plot(x_range, y, c=color, label='Hypothesis X:{}'.format(mean))\n",
    "        # CV line :  Critical value line (Vertical line) ppf: Percent point function (inverse of Cumulative distribution function — percentiles).\n",
    "        significance_level = 0.05  # Two tailed test, Significance Level : alpha\n",
    "        # critical value : Z(1-alpha)\n",
    "        critical_value_ll = rv.ppf(significance_level)\n",
    "        critical_value_ul = rv.ppf(1-significance_level)\n",
    "        plt.axvline(critical_value_ll, c=color, linestyle='--')\n",
    "        plt.axvline(critical_value_ul, c=color, linestyle='--')\n",
    "        plt.legend() \n",
    "        \n",
    "        if mean == .001:\n",
    "            cv_ll = rv.ppf(significance_level)\n",
    "            cv_ul = rv.ppf(1-significance_level)\n",
    "            \n",
    "            \n",
    "    return rv, cv_ll, cv_ul\n",
    "        "
   ]
  },
  {
   "cell_type": "markdown",
   "metadata": {},
   "source": [
    "### Computing Minimun Sample Size\n",
    "\n",
    "##### Difference between two means\n",
    "\n",
    "__Effect Size:__\n",
    "Cohen's d is defined as the difference between two means divided by a standard deviation for the data"
   ]
  },
  {
   "cell_type": "code",
   "execution_count": 65,
   "metadata": {
    "collapsed": true
   },
   "outputs": [],
   "source": [
    "def sample_size(h0_arr, ha_arr, alpha, power, effect_size, two_tailed=True):\n",
    "    h0_mean = h0_arr.mean()\n",
    "    ha_mean = ha_arr.mean()\n",
    "    p = (h0_arr.sum() + ha_arr.sum()) / float(len(h0_arr) + len(ha_arr))\n",
    "    variance = p * (1. - p)\n",
    "    se = np.sqrt(variance * (1. / len(h0_arr) + 1. / len(ha_arr)))\n",
    "    h0_dist = scis.norm(h0_mean, se)\n",
    "    ha_dist = scis.norm(ha_mean, se)\n",
    "    \n",
    "\n",
    "    z_power = ha_dist.ppf(power)\n",
    "    \n",
    "    if two_tailed:\n",
    "        cv_ul = h0_dist.ppf(1-alpha/2)\n",
    "        n = (2 * variace)*(cv_ul + z_power)**2 / effect_size**2\n",
    "    else:\n",
    "        cv_ul = h0_dist.ppf(1-alpha)\n",
    "        n = (2 * variance)*(cv_ul + z_power)**2 / effect_size**2\n",
    "    \n",
    "    return n\n",
    "        "
   ]
  },
  {
   "cell_type": "code",
   "execution_count": 66,
   "metadata": {
    "collapsed": false
   },
   "outputs": [
    {
     "data": {
      "text/plain": [
       "7404.7870363209377"
      ]
     },
     "execution_count": 66,
     "metadata": {},
     "output_type": "execute_result"
    }
   ],
   "source": [
    "sample_size(df_h0.converted, df_ha.converted, 0.05, 0.8, 0.001, False)"
   ]
  },
  {
   "cell_type": "code",
   "execution_count": null,
   "metadata": {
    "collapsed": true
   },
   "outputs": [],
   "source": []
  },
  {
   "cell_type": "code",
   "execution_count": null,
   "metadata": {
    "collapsed": true
   },
   "outputs": [],
   "source": []
  },
  {
   "cell_type": "code",
   "execution_count": null,
   "metadata": {
    "collapsed": true
   },
   "outputs": [],
   "source": []
  }
 ],
 "metadata": {
  "kernelspec": {
   "display_name": "Python 2",
   "language": "python",
   "name": "python2"
  },
  "language_info": {
   "codemirror_mode": {
    "name": "ipython",
    "version": 2
   },
   "file_extension": ".py",
   "mimetype": "text/x-python",
   "name": "python",
   "nbconvert_exporter": "python",
   "pygments_lexer": "ipython2",
   "version": "2.7.11"
  }
 },
 "nbformat": 4,
 "nbformat_minor": 0
}
