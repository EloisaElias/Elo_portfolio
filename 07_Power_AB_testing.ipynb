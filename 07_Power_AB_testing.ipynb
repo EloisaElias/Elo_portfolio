{
 "cells": [
  {
   "cell_type": "markdown",
   "metadata": {},
   "source": [
    "## Power Calculations for A/B testing"
   ]
  },
  {
   "cell_type": "code",
   "execution_count": 20,
   "metadata": {
    "collapsed": false
   },
   "outputs": [],
   "source": [
    "from __future__ import division\n",
    "from math import sqrt \n",
    "\n",
    "import scipy.stats as stats\n",
    "import pandas as pd\n",
    "import numpy as np\n",
    "import matplotlib.pyplot as plt\n",
    "pd.set_option('display.mpl_style', 'default')\n",
    "plt.rcParams['figure.figsize'] = (15, 5)\n",
    "% matplotlib inline"
   ]
  },
  {
   "cell_type": "code",
   "execution_count": 10,
   "metadata": {
    "collapsed": true
   },
   "outputs": [],
   "source": [
    "darr = np.loadtxt('coke_weights.txt')"
   ]
  },
  {
   "cell_type": "code",
   "execution_count": 11,
   "metadata": {
    "collapsed": false
   },
   "outputs": [
    {
     "data": {
      "text/plain": [
       "array([ 20.02728751,  21.03151282,  20.70545129])"
      ]
     },
     "execution_count": 11,
     "metadata": {},
     "output_type": "execute_result"
    }
   ],
   "source": [
    "darr[:3]"
   ]
  },
  {
   "cell_type": "markdown",
   "metadata": {
    "collapsed": true
   },
   "source": [
    "h0 : mean_h0(darr) = 20.4 oz\n",
    "\n",
    "h1 : mean_h1(darr) != 20.4 oz -->   # mean(darr)"
   ]
  },
  {
   "cell_type": "code",
   "execution_count": 26,
   "metadata": {
    "collapsed": false
   },
   "outputs": [],
   "source": [
    "# Sample mean\n",
    "mean_h1 = darr.mean()"
   ]
  },
  {
   "cell_type": "code",
   "execution_count": 27,
   "metadata": {
    "collapsed": false
   },
   "outputs": [],
   "source": [
    "# Sample standard deviation\n",
    "stdv_h1 = darr.std()"
   ]
  },
  {
   "cell_type": "code",
   "execution_count": 203,
   "metadata": {
    "collapsed": true
   },
   "outputs": [],
   "source": [
    "# Sample Standard Error\n",
    "se = stdv_h1 / float(sqrt(len(darr)))"
   ]
  },
  {
   "cell_type": "code",
   "execution_count": 204,
   "metadata": {
    "collapsed": false
   },
   "outputs": [
    {
     "data": {
      "text/plain": [
       "(0.083994286670484794, 0.95768221510418861, 130)"
      ]
     },
     "execution_count": 204,
     "metadata": {},
     "output_type": "execute_result"
    }
   ],
   "source": [
    "se, stdv_h1, len(darr)"
   ]
  },
  {
   "cell_type": "markdown",
   "metadata": {
    "collapsed": true
   },
   "source": [
    "**Answer:** The sample size is 130, greater than 30. According to the CLT, sampling distribution is approximately normal at the center population mean."
   ]
  },
  {
   "cell_type": "markdown",
   "metadata": {},
   "source": [
    "1.96 is the approximate value of the 97.5 percentile point of the normal distribution used in probability and statistics. 95% of the area under a normal curve lies within roughly 1.96 standard deviations of the mean, and due to the central limit theorem, this number is therefore used in the construction of approximate 95% confidence intervals. Its ubiquity is due to the arbitrary but common convention of using confidence intervals with 95% coverage rather than other coverages (such as 90% or 99%). This convention seems particularly common in medical statistics,but is also common in other areas of application, such as earth sciences,social sciences and business research."
   ]
  },
  {
   "cell_type": "code",
   "execution_count": 207,
   "metadata": {
    "collapsed": false
   },
   "outputs": [],
   "source": [
    "def plot_hypothesis_distributions(h_dict, se):\n",
    "    for m, c in h_dict.iteritems():\n",
    "        rv = stats.norm(m, scale=se)\n",
    "        x_range = np.linspace(m - (4*se), m + (4*se), 1000)\n",
    "        y = rv.pdf(x_range)\n",
    "\n",
    "        plt.plot(x_range, y, c=c,  label='{}_Hypothesis'.format(m))\n",
    "        # Vertical line of the mean\n",
    "        plt.axvline(rv.ppf(.975), c=c, linestyle='--')\n",
    "        plt.axvline(rv.ppf(.025), c=c, linestyle='--')\n",
    "        #plt.axvline(x=m, c=c, linestyle='solid')\n",
    "        plt.legend()\n",
    "        \n",
    "        if m == 20.4:\n",
    "            h0_l = rv.ppf(.025)\n",
    "            h0_u = rv.ppf(.975)\n",
    "        else:\n",
    "            rv_a = stats.norm(m, scale=se)\n",
    "        \n",
    "    return rv_a, h0_l, h0_u \n",
    "    "
   ]
  },
  {
   "cell_type": "code",
   "execution_count": 209,
   "metadata": {
    "collapsed": false
   },
   "outputs": [
    {
     "data": {
      "image/png": "[encoded data removed]",
      "text/plain": [
       "<matplotlib.figure.Figure at 0x108f72790>"
      ]
     },
     "metadata": {},
     "output_type": "display_data"
    }
   ],
   "source": [
    "h1_rv, h0_l, h0_u = plot_hypothesis_distributions({mean_h0 : 'b', mean_h1:'r'}, se)"
   ]
  },
  {
   "cell_type": "markdown",
   "metadata": {},
   "source": [
    "### Confidence intervals \n",
    "h0_l (lower)\n",
    "\n",
    "h0_u (upper)"
   ]
  },
  {
   "cell_type": "code",
   "execution_count": 210,
   "metadata": {
    "collapsed": false
   },
   "outputs": [
    {
     "data": {
      "text/plain": [
       "20.235374223218717"
      ]
     },
     "execution_count": 210,
     "metadata": {},
     "output_type": "execute_result"
    }
   ],
   "source": [
    "h0_l"
   ]
  },
  {
   "cell_type": "code",
   "execution_count": 211,
   "metadata": {
    "collapsed": false
   },
   "outputs": [
    {
     "data": {
      "text/plain": [
       "20.564625776781281"
      ]
     },
     "execution_count": 211,
     "metadata": {},
     "output_type": "execute_result"
    }
   ],
   "source": [
    "h0_u"
   ]
  },
  {
   "cell_type": "markdown",
   "metadata": {},
   "source": [
    "Compute the probability of a false negative (Type II Error) by using the upper/lower confidence interval (**Use cdf on the sampling distribution rv). Explain what a false negative is in the context of this problem."
   ]
  },
  {
   "cell_type": "code",
   "execution_count": 212,
   "metadata": {
    "collapsed": false
   },
   "outputs": [
    {
     "data": {
      "text/plain": [
       "0.702964175895195"
      ]
     },
     "execution_count": 212,
     "metadata": {},
     "output_type": "execute_result"
    }
   ],
   "source": [
    "beta = h1_rv.cdf(h0_u)\n",
    "beta"
   ]
  },
  {
   "cell_type": "code",
   "execution_count": 213,
   "metadata": {
    "collapsed": false
   },
   "outputs": [
    {
     "data": {
      "text/plain": [
       "0.297035824104805"
      ]
     },
     "execution_count": 213,
     "metadata": {},
     "output_type": "execute_result"
    }
   ],
   "source": [
    "power = 1 - beta\n",
    "power"
   ]
  },
  {
   "cell_type": "code",
   "execution_count": 214,
   "metadata": {
    "collapsed": false
   },
   "outputs": [],
   "source": [
    "def plot_ci(m, se, c, ci=0.95):\n",
    "    z = stats.norm.ppf(ci + (1 - ci) / 2)\n",
    "    l_ci = m - z*se\n",
    "    u_ci = m + z*se\n",
    "    \n",
    "    plt.axvline(x = l_ci, c=c, alpha=.9, linestyle=':')\n",
    "    plt.axvline(x = u_ci, c=c, alpha=.9, linestyle=':')\n",
    "    return l_ci, u_ci"
   ]
  },
  {
   "cell_type": "code",
   "execution_count": 215,
   "metadata": {
    "collapsed": false
   },
   "outputs": [
    {
     "data": {
      "text/plain": [
       "(20.235374223218717, 20.564625776781281)"
      ]
     },
     "execution_count": 215,
     "metadata": {},
     "output_type": "execute_result"
    },
    {
     "data": {
      "image/png": "[encoded data removed]",
      "text/plain": [
       "<matplotlib.figure.Figure at 0x109033c10>"
      ]
     },
     "metadata": {},
     "output_type": "display_data"
    }
   ],
   "source": [
    "plot_ci(20.4, se, 'b')"
   ]
  },
  {
   "cell_type": "markdown",
   "metadata": {},
   "source": [
    "- Based on the 95% CI we conclude that the weight of a bottle of coke on average is not different \n",
    "  from 20.4, i.e. we cannot reject the null that the weight is 20.4\n"
   ]
  },
  {
   "cell_type": "markdown",
   "metadata": {},
   "source": [
    "____\n",
    "\n",
    "Write a function explore_power that includes all the steps in Part 0. The input will be the mean value under the null hypothesis (i.e. 20.4 ounce as we have specified above) and the output is the power."
   ]
  },
  {
   "cell_type": "code",
   "execution_count": 216,
   "metadata": {
    "collapsed": true
   },
   "outputs": [],
   "source": [
    "def explore_power(m_h0, darr, significance_level):\n",
    "    m_h1 = darr.mean()\n",
    "    se = darr.std() / float(sqrt(len(darr)))\n",
    "    rv_h0 = stats.norm(m_h0, se)\n",
    "    rv_h1 = stats.norm(m_h1, se) \n",
    "    h0_l = rv_h0.ppf(significance_level/2) # 0.025 : (significance_lev/2) Lower level \n",
    "    h0_u = rv_h0.ppf(1-significance_level/2) # 0.975 : (1 - significance_lev/2) Upper level : https://en.wikipedia.org/wiki/1.96\n",
    "    beta = rv_h1.cdf(h0_u) - rv_h1.cdf(h0_l)\n",
    "    power = 1 - beta\n",
    "    return power\n",
    "    "
   ]
  },
  {
   "cell_type": "code",
   "execution_count": 217,
   "metadata": {
    "collapsed": false
   },
   "outputs": [
    {
     "data": {
      "text/plain": [
       "0.2973891529867565"
      ]
     },
     "execution_count": 217,
     "metadata": {},
     "output_type": "execute_result"
    }
   ],
   "source": [
    "explore_power(20.4, darr, 0.05)"
   ]
  },
  {
   "cell_type": "markdown",
   "metadata": {},
   "source": [
    "Assume now the null hypothesis is that a bottle of coke weights 20.2 ounces. Run explore_power() with the new null hypothesis. Did the power increase or decrease? Explain your observation."
   ]
  },
  {
   "cell_type": "code",
   "execution_count": 218,
   "metadata": {
    "collapsed": false
   },
   "outputs": [
    {
     "data": {
      "text/plain": [
       "0.96771107839014836"
      ]
     },
     "execution_count": 218,
     "metadata": {},
     "output_type": "execute_result"
    }
   ],
   "source": [
    "explore_power(20.2, darr, 0.05)"
   ]
  },
  {
   "cell_type": "code",
   "execution_count": 219,
   "metadata": {
    "collapsed": false
   },
   "outputs": [],
   "source": [
    "darr_k = np.loadtxt('coke_weights_1000.txt')"
   ]
  },
  {
   "cell_type": "code",
   "execution_count": 220,
   "metadata": {
    "collapsed": false
   },
   "outputs": [
    {
     "data": {
      "text/plain": [
       "0.72893273393690783"
      ]
     },
     "execution_count": 220,
     "metadata": {},
     "output_type": "execute_result"
    }
   ],
   "source": [
    "explore_power(20.4, darr_k, 0.05)"
   ]
  },
  {
   "cell_type": "markdown",
   "metadata": {
    "collapsed": true
   },
   "source": [
    "the power increased and because the power is the probabilidad of correctly reject the null hypothesis, and the beta value is the false negative rate. If we increase power we decrease beta, this mean that we reduce the probability of getting a type II error(false negative). When beta decrease it's harder to make a type II error."
   ]
  },
  {
   "cell_type": "markdown",
   "metadata": {
    "collapsed": true
   },
   "source": [
    "---"
   ]
  },
  {
   "cell_type": "code",
   "execution_count": 286,
   "metadata": {
    "collapsed": false
   },
   "outputs": [
    {
     "data": {
      "text/plain": [
       "(0, 1.1)"
      ]
     },
     "execution_count": 286,
     "metadata": {},
     "output_type": "execute_result"
    },
    {
     "data": {
      "image/png": "[encoded data removed]",
      "text/plain": [
       "<matplotlib.figure.Figure at 0x10b89b2d0>"
      ]
     },
     "metadata": {},
     "output_type": "display_data"
    }
   ],
   "source": [
    "powers = []\n",
    "x_range = np.linspace(0, 1.2, 10)\n",
    "for m_h1 in (x_range + mean_h1):\n",
    "    powers.append(explore_power(m_h1, darr, 0.05))\n",
    "    \n",
    "plt.plot(x_range, powers, 'bo', x_range, powers, 'b')\n",
    "plt.xlabel('x_range')\n",
    "plt.ylabel('power')\n",
    "plt.ylim(0, 1.1)"
   ]
  },
  {
   "cell_type": "code",
   "execution_count": 267,
   "metadata": {
    "collapsed": false
   },
   "outputs": [
    {
     "data": {
      "text/plain": [
       "(0, 1.1)"
      ]
     },
     "execution_count": 267,
     "metadata": {},
     "output_type": "execute_result"
    },
    {
     "data": {
      "image/png": "[encoded data removed]",
      "text/plain": [
       "<matplotlib.figure.Figure at 0x10ae3cd10>"
      ]
     },
     "metadata": {},
     "output_type": "display_data"
    }
   ],
   "source": [
    "powers = []\n",
    "x_range = np.linspace(0, 1.2, 100)\n",
    "for m_h0 in (x_range + 20.4):\n",
    "    powers.append(explore_power(m_h0, darr_k, 0.05))\n",
    "    \n",
    "plt.plot(x_range, powers, 'bo', x_range, powers, 'b')\n",
    "plt.xlabel('x_range')\n",
    "plt.ylabel('power')\n",
    "plt.ylim(0, 1.1)"
   ]
  },
  {
   "cell_type": "code",
   "execution_count": 285,
   "metadata": {
    "collapsed": false
   },
   "outputs": [
    {
     "data": {
      "text/plain": [
       "<matplotlib.text.Text at 0x10d693c90>"
      ]
     },
     "execution_count": 285,
     "metadata": {},
     "output_type": "execute_result"
    },
    {
     "data": {
      "image/png": "[encoded data removed]",
      "text/plain": [
       "<matplotlib.figure.Figure at 0x10c9ba9d0>"
      ]
     },
     "metadata": {},
     "output_type": "display_data"
    }
   ],
   "source": [
    "powers = []\n",
    "alpha_level = np.linspace(0.01, 0.3, 10)\n",
    "for alpha in alpha_level:\n",
    "    powers.append(explore_power(20.4, darr, alpha))\n",
    "    \n",
    "plt.plot(alpha_level, powers, 'bo', alpha_level, powers, 'b')\n",
    "plt.xlabel('alpha_level')\n",
    "plt.ylabel('power')\n"
   ]
  },
  {
   "cell_type": "markdown",
   "metadata": {
    "collapsed": true
   },
   "source": [
    "One common problem in A/B testing is to decide when to stop the experiment. \n",
    "\n",
    "Power calculations are very useful in determining what required minimum sample size is necessary to reach a certain power (usually 80%) given an effect size and a significance level. \n",
    "\n",
    "A powerful test would ensure we are able to detect differences in conversion the majority of the time given the difference in fact exists. To gain insights about the effect size, a small-scale pilot experiment is usually launched. The minimum sample size is computed. Subsequently, a full-scale experiment is run until the minimum sample size is reached.\n",
    "\n"
   ]
  },
  {
   "cell_type": "code",
   "execution_count": 289,
   "metadata": {
    "collapsed": false
   },
   "outputs": [],
   "source": [
    "df = pd.read_csv('weeks_SHARED/W2_shared/power-bayesian/power-bayesian_du/data/experiment.csv')"
   ]
  },
  {
   "cell_type": "code",
   "execution_count": 291,
   "metadata": {
    "collapsed": false
   },
   "outputs": [
    {
     "name": "stdout",
     "output_type": "stream",
     "text": [
      "<class 'pandas.core.frame.DataFrame'>\n",
      "Int64Index: 191148 entries, 0 to 191147\n",
      "Data columns (total 5 columns):\n",
      "user_id         191148 non-null int64\n",
      "ts              191148 non-null float64\n",
      "ab              191148 non-null object\n",
      "landing_page    191148 non-null object\n",
      "converted       191148 non-null int64\n",
      "dtypes: float64(1), int64(2), object(2)\n",
      "memory usage: 8.8+ MB\n"
     ]
    }
   ],
   "source": [
    "df.info()"
   ]
  },
  {
   "cell_type": "code",
   "execution_count": 293,
   "metadata": {
    "collapsed": false
   },
   "outputs": [
    {
     "data": {
      "text/html": [
       "<div>\n",
       "<table border=\"1\" class=\"dataframe\">\n",
       "  <thead>\n",
       "    <tr style=\"text-align: right;\">\n",
       "      <th></th>\n",
       "      <th>count</th>\n",
       "      <th>mean</th>\n",
       "      <th>std</th>\n",
       "      <th>min</th>\n",
       "      <th>25%</th>\n",
       "      <th>50%</th>\n",
       "      <th>75%</th>\n",
       "      <th>max</th>\n",
       "    </tr>\n",
       "  </thead>\n",
       "  <tbody>\n",
       "    <tr>\n",
       "      <th>user_id</th>\n",
       "      <td>191148</td>\n",
       "      <td>5.007786e+09</td>\n",
       "      <td>2.889032e+09</td>\n",
       "      <td>3416</td>\n",
       "      <td>2.505443e+09</td>\n",
       "      <td>5005865728</td>\n",
       "      <td>7.508326e+09</td>\n",
       "      <td>9999962347</td>\n",
       "    </tr>\n",
       "    <tr>\n",
       "      <th>ts</th>\n",
       "      <td>191148</td>\n",
       "      <td>1.357042e+09</td>\n",
       "      <td>2.493174e+04</td>\n",
       "      <td>1356998400</td>\n",
       "      <td>1.357020e+09</td>\n",
       "      <td>1357041629</td>\n",
       "      <td>1.357063e+09</td>\n",
       "      <td>1357084799</td>\n",
       "    </tr>\n",
       "    <tr>\n",
       "      <th>converted</th>\n",
       "      <td>191148</td>\n",
       "      <td>9.980225e-02</td>\n",
       "      <td>2.997369e-01</td>\n",
       "      <td>0</td>\n",
       "      <td>0.000000e+00</td>\n",
       "      <td>0</td>\n",
       "      <td>0.000000e+00</td>\n",
       "      <td>1</td>\n",
       "    </tr>\n",
       "  </tbody>\n",
       "</table>\n",
       "</div>"
      ],
      "text/plain": [
       "            count          mean           std         min           25%  \\\n",
       "user_id    191148  5.007786e+09  2.889032e+09        3416  2.505443e+09   \n",
       "ts         191148  1.357042e+09  2.493174e+04  1356998400  1.357020e+09   \n",
       "converted  191148  9.980225e-02  2.997369e-01           0  0.000000e+00   \n",
       "\n",
       "                  50%           75%         max  \n",
       "user_id    5005865728  7.508326e+09  9999962347  \n",
       "ts         1357041629  1.357063e+09  1357084799  \n",
       "converted           0  0.000000e+00           1  "
      ]
     },
     "execution_count": 293,
     "metadata": {},
     "output_type": "execute_result"
    }
   ],
   "source": [
    "df.describe().T"
   ]
  },
  {
   "cell_type": "code",
   "execution_count": 294,
   "metadata": {
    "collapsed": false
   },
   "outputs": [
    {
     "data": {
      "text/html": [
       "<div>\n",
       "<table border=\"1\" class=\"dataframe\">\n",
       "  <thead>\n",
       "    <tr style=\"text-align: right;\">\n",
       "      <th></th>\n",
       "      <th>user_id</th>\n",
       "      <th>ts</th>\n",
       "      <th>ab</th>\n",
       "      <th>landing_page</th>\n",
       "      <th>converted</th>\n",
       "    </tr>\n",
       "  </thead>\n",
       "  <tbody>\n",
       "    <tr>\n",
       "      <th>0</th>\n",
       "      <td>4040615247</td>\n",
       "      <td>1356998400</td>\n",
       "      <td>treatment</td>\n",
       "      <td>new_page</td>\n",
       "      <td>0</td>\n",
       "    </tr>\n",
       "    <tr>\n",
       "      <th>1</th>\n",
       "      <td>4365389205</td>\n",
       "      <td>1356998400</td>\n",
       "      <td>treatment</td>\n",
       "      <td>new_page</td>\n",
       "      <td>0</td>\n",
       "    </tr>\n",
       "  </tbody>\n",
       "</table>\n",
       "</div>"
      ],
      "text/plain": [
       "      user_id          ts         ab landing_page  converted\n",
       "0  4040615247  1356998400  treatment     new_page          0\n",
       "1  4365389205  1356998400  treatment     new_page          0"
      ]
     },
     "execution_count": 294,
     "metadata": {},
     "output_type": "execute_result"
    }
   ],
   "source": [
    "df[:2]"
   ]
  },
  {
   "cell_type": "code",
   "execution_count": 295,
   "metadata": {
    "collapsed": false
   },
   "outputs": [
    {
     "data": {
      "text/plain": [
       "array(['new_page', 'old_page'], dtype=object)"
      ]
     },
     "execution_count": 295,
     "metadata": {},
     "output_type": "execute_result"
    }
   ],
   "source": [
    "df.landing_page.unique()"
   ]
  },
  {
   "cell_type": "code",
   "execution_count": 307,
   "metadata": {
    "collapsed": false
   },
   "outputs": [],
   "source": [
    "old_page = df[df.landing_page == 'old_page']['converted']"
   ]
  },
  {
   "cell_type": "code",
   "execution_count": 308,
   "metadata": {
    "collapsed": false
   },
   "outputs": [],
   "source": [
    "new_page = df[df.landing_page == 'new_page']['converted']"
   ]
  },
  {
   "cell_type": "markdown",
   "metadata": {
    "collapsed": true
   },
   "source": [
    "Historically, the old page has a conversion of 10% and we wish to test if the new page provides a 0.1% increase (1% lift) in conversion. Recall the null and alternative hypotheses below:"
   ]
  },
  {
   "cell_type": "markdown",
   "metadata": {
    "collapsed": true
   },
   "source": [
    "Set X as a random variable which is the (new conversion - old conversion)\\\n",
    "\n",
    "X ~ p_new - p_old\n",
    "\n",
    "H0: X = 0.001\n",
    "\n",
    "H1: X > 0.001\n",
    "\n",
    "\n",
    "\n",
    "Note: because I'm evaluating increase, one-tailed test is in order"
   ]
  },
  {
   "cell_type": "markdown",
   "metadata": {},
   "source": [
    "\n",
    "### Computing Power for Pilot Sample\n",
    "\n",
    "In this part, we are going to compute statistical power for the pilot experiment given the null hypothesis.\n",
    "\n",
    "1. By CLT, we can approximate the sampling distribution of proportions (`p_new, p_old`) to be normal (since proportion is\n",
    "   effectively a measure of mean). We can further assume the sampling distribution of `p_new - p_old` to be normal.\n",
    "\n",
    "   Compute `p_new - p_old` and the standard error from the sample and define a normal distribution random variable. Plot\n",
    "   the PDF of the random variable as you have done previously\n",
    "\n",
    "   **Hint: Standard Error for difference of proportions**\n",
    "\n",
    "   - `p` is a weighted average of the `p1` and `p2` ( p:conversion rate )\n",
    "   - `n1` is the number of subjects sampled from the first population\n",
    "   - `n2` is the number of subjects sampled from the second population\n",
    "\n"
   ]
  },
  {
   "cell_type": "code",
   "execution_count": 309,
   "metadata": {
    "collapsed": true
   },
   "outputs": [],
   "source": [
    "p_old = sum(old_page) / float(len(old_page))\n",
    "p_new = sum(new_page) / float(len(new_page))"
   ]
  },
  {
   "cell_type": "code",
   "execution_count": 310,
   "metadata": {
    "collapsed": false
   },
   "outputs": [
    {
     "data": {
      "text/plain": [
       "-0.0002406512231359903"
      ]
     },
     "execution_count": 310,
     "metadata": {},
     "output_type": "execute_result"
    }
   ],
   "source": [
    "X = p_new - p_old\n",
    "X"
   ]
  },
  {
   "cell_type": "code",
   "execution_count": 312,
   "metadata": {
    "collapsed": false
   },
   "outputs": [
    {
     "data": {
      "text/plain": [
       "0.099802247473162159"
      ]
     },
     "execution_count": 312,
     "metadata": {},
     "output_type": "execute_result"
    }
   ],
   "source": [
    "conversion = (sum(new_page)+ sum(old_page)) / float(len(new_page) + len(old_page))\n",
    "conversion"
   ]
  },
  {
   "cell_type": "code",
   "execution_count": 314,
   "metadata": {
    "collapsed": false
   },
   "outputs": [
    {
     "data": {
      "text/plain": [
       "0.089841758872467856"
      ]
     },
     "execution_count": 314,
     "metadata": {},
     "output_type": "execute_result"
    }
   ],
   "source": [
    "variance = conversion * (1 - conversion)\n",
    "variance"
   ]
  },
  {
   "cell_type": "code",
   "execution_count": 317,
   "metadata": {
    "collapsed": false
   },
   "outputs": [
    {
     "data": {
      "text/plain": [
       "0.0013711476995678985"
      ]
     },
     "execution_count": 317,
     "metadata": {},
     "output_type": "execute_result"
    }
   ],
   "source": [
    "se_ = np.sqrt(variance * (1. / len(new_page) + 1. / len(old_page)))\n",
    "se_"
   ]
  },
  {
   "cell_type": "markdown",
   "metadata": {},
   "source": [
    "Define another random variable for the null distribution and plot the PDF of the random variable. Add a vertical line on the plot to indicate the bound for rejecting the null hypothesis given a significance level of 5%"
   ]
  },
  {
   "cell_type": "code",
   "execution_count": 329,
   "metadata": {
    "collapsed": false
   },
   "outputs": [
    {
     "data": {
      "text/plain": [
       "<matplotlib.lines.Line2D at 0x10d3d3110>"
      ]
     },
     "execution_count": 329,
     "metadata": {},
     "output_type": "execute_result"
    },
    {
     "data": {
      "image/png": "[encoded data removed]",
      "text/plain": [
       "<matplotlib.figure.Figure at 0x10b8f9a50>"
      ]
     },
     "metadata": {},
     "output_type": "display_data"
    }
   ],
   "source": [
    "null_dist = stats.norm(0.001, se_)\n",
    "null_x = np.linspace(0.001 - (4*se_), 0.001 + (4*se_), 1000)\n",
    "null_y = null_dist.pdf(null_x)\n",
    "\n",
    "plt.plot(null_x, null_y, c='b', label = 'null')\n",
    "\n",
    "\n",
    "alternative_dist = stats.norm(X, se_)\n",
    "alt_x = np.linspace(X - (4*se_), X + (4*se_), 1000)\n",
    "alt_y = alternative_dist.pdf(alt_x)\n",
    "\n",
    "plt.plot(alt_x, alt_y, c='r', label = 'alternative')\n",
    "plt.legend(loc='upper right')\n",
    "\n",
    "plt.axvline(null_dist.ppf(.975), ls='dashed')"
   ]
  },
  {
   "cell_type": "code",
   "execution_count": 331,
   "metadata": {
    "collapsed": false
   },
   "outputs": [
    {
     "data": {
      "text/plain": [
       "0.0020864240019986546"
      ]
     },
     "execution_count": 331,
     "metadata": {},
     "output_type": "execute_result"
    }
   ],
   "source": [
    "# Standard Error for difference of proportions\n",
    "null_upper = null_dist.ppf(.975)\n",
    "beta = alternative_dist.cdf(null_upper)\n",
    "power = 1 - beta\n",
    "power"
   ]
  },
  {
   "cell_type": "markdown",
   "metadata": {},
   "source": [
    "Assume after reviewing the data, Etsy decided the pilot is a plausible enough representation of the company's daily\n",
    "   traffic. As a result, Esty decided on a two-tailed test instead, which is as follows:\n",
    "\n",
    "   ```\n",
    "   X ~ p_new - p_old\n",
    "\n",
    "   H0: X = 0.001\n",
    "   H1: X != 0.001\n",
    "   ```"
   ]
  },
  {
   "cell_type": "code",
   "execution_count": 332,
   "metadata": {
    "collapsed": false
   },
   "outputs": [
    {
     "data": {
      "text/plain": [
       "0.85431869980442476"
      ]
     },
     "execution_count": 332,
     "metadata": {},
     "output_type": "execute_result"
    }
   ],
   "source": [
    "# Standard Error for difference of proportions\n",
    "null_upper = null_dist.ppf(.025)\n",
    "beta = alternative_dist.cdf(null_upper)\n",
    "power = 1 - beta\n",
    "power"
   ]
  },
  {
   "cell_type": "markdown",
   "metadata": {},
   "source": [
    "\n",
    "### Computing Minimum Sample Size\n",
    "\n",
    "Assume Etsy is staying with the two-tailed test. A decision then would have to be\n",
    "made about how long the test is running.\n",
    "\n",
    "The minimum sample size is calculated by following the exact same process with calculating power, except power is a given (80%)\n",
    "and sample size is omitted\n",
    "\n",
    "1. Write a function `calc_min_sample_size` that would take\n",
    "   - 2 lists/arrays of data (i.e. new page converts and old page converts)\n",
    "   - Significance Level (Default: 0.05)\n",
    "   - One-tailed to two-tailed test\n",
    "   - Effect Size\n",
    "   - Power (Default: 0.8)\n",
    "\n",
    "   And return the minimum sample size required (rounded up to the nearest whole number).\n"
   ]
  },
  {
   "cell_type": "code",
   "execution_count": 337,
   "metadata": {
    "collapsed": true
   },
   "outputs": [],
   "source": [
    "def min_sample_size(arr1, arr2, alpha, power, effect_size, two_tailed=True):\n",
    "    miu_1 = arr1.mean()\n",
    "    miu_2 = arr2.mean()\n",
    "    conversion = (sum(arr1) + sum(arr2)) / float(len(arr1) + len(arr2))\n",
    "    variance = conversion * (1-conversion)\n",
    "    se = np.sqrt(variance*(1./len(arr1) + 1./len(arr2)))\n",
    "    distribution_1 = stats.norm(miu_1, se)\n",
    "    distribution_2 = stats.norm(miu_2, se)\n",
    "    z_power = distribution_2.ppf(power)\n",
    "    if two_tailed:\n",
    "        n = (2*variance) * (distribution_1.ppf(1 - alpha/2) + z_power)**2 / effect_size**2\n",
    "    else:\n",
    "        n = (2*variance) * (distribution_1.ppf(1 - alpha) + z_power)**2 / effect_size**2\n",
    "    return n\n",
    "    "
   ]
  },
  {
   "cell_type": "code",
   "execution_count": 338,
   "metadata": {
    "collapsed": false
   },
   "outputs": [
    {
     "data": {
      "text/plain": [
       "7405.5862508357823"
      ]
     },
     "execution_count": 338,
     "metadata": {},
     "output_type": "execute_result"
    }
   ],
   "source": [
    "min_sample_size(new_page, old_page, 0.05, 0.8, 0.001, False)"
   ]
  },
  {
   "cell_type": "code",
   "execution_count": null,
   "metadata": {
    "collapsed": true
   },
   "outputs": [],
   "source": []
  },
  {
   "cell_type": "code",
   "execution_count": null,
   "metadata": {
    "collapsed": true
   },
   "outputs": [],
   "source": []
  },
  {
   "cell_type": "code",
   "execution_count": null,
   "metadata": {
    "collapsed": true
   },
   "outputs": [],
   "source": []
  }
 ],
 "metadata": {
  "kernelspec": {
   "display_name": "Python 2",
   "language": "python",
   "name": "python2"
  },
  "language_info": {
   "codemirror_mode": {
    "name": "ipython",
    "version": 2
   },
   "file_extension": ".py",
   "mimetype": "text/x-python",
   "name": "python",
   "nbconvert_exporter": "python",
   "pygments_lexer": "ipython2",
   "version": "2.7.10"
  }
 },
 "nbformat": 4,
 "nbformat_minor": 0
}
