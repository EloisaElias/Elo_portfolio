{
 "cells": [
  {
   "cell_type": "markdown",
   "metadata": {},
   "source": [
    "## Click-through Rate\n",
    "---\n",
    "**Elo notes**"
   ]
  },
  {
   "cell_type": "markdown",
   "metadata": {},
   "source": [
    "Click-through rate (CTR) is the ratio of users who click on a specific link to the number of total users who view a page, email, or advertisement. It is commonly used to measure the success of an online advertising campaign for a particular website as well as the effectiveness of email campaigns.\n",
    "\n",
    "The purpose of click-through rates is to measure the ratio of clicks to impressions of an online ad or email marketing campaign. Generally the higher the CTR the more effective the marketing campaign has been at bringing people to a website.\n",
    "\n",
    "The click-through rate of an advertisement is defined as the number of clicks on an ad divided by the number of times the ad is shown (impressions), expressed as a percentage. For example, if a banner ad is delivered 100 times (100 impressions) and receives one click, then the click-through rate for the advertisement would be 1%.\n",
    "\n",
    "\n",
    "${\\displaystyle {\\text{CTR}}={{\\text{Clicks}} \\over {\\text{Impressions}}}\\times 100}$\n",
    "\n",
    "Modern online advertising has moved beyond just using banner ads. Popular search engines allow advertisers to display ads in with the search results triggered by a search user. These ads are usually in text format and may include additional links and information like phone numbers, addresses and specific product pages. This additional information moves away from the poor user experience that can be created from intrusive banner ads and provides useful information to the search user, resulting in higher Click-through rates for this format of Pay Per Click Advertising. Having high click-through rate isn't the only goal for an online advertiser who will occasionally develop campaigns to raise awareness and sacrifice click-through rate for the overall gain of valuable traffic.\n",
    "\n",
    "#### Estimating the Click-Through Rate for Ads\n",
    "\n",
    "Search engine advertising has become a significant element of the Web browsing experience. Choosing the right ads for the query and the order in which they are displayed greatly affects the probability that a user will see and click on each ad. This ranking has a strong impact on the revenue the search engine receives from the ads. Further, showing the user an ad that they prefer to click on improves user satisfaction. For these reasons, there is an increasing interest in accurately estimating the click-through rate of ads in a recommender system."
   ]
  },
  {
   "cell_type": "code",
   "execution_count": 202,
   "metadata": {
    "collapsed": false
   },
   "outputs": [],
   "source": [
    "from __future__ import division\n",
    "\n",
    "import pandas as pd\n",
    "import matplotlib.pyplot as plt\n",
    "\n",
    "import scipy.stats as scis\n",
    "import itertools as itt\n",
    "\n",
    "\n",
    "%matplotlib inline"
   ]
  },
  {
   "cell_type": "code",
   "execution_count": 203,
   "metadata": {
    "collapsed": true
   },
   "outputs": [],
   "source": [
    "df = pd.read_csv('nyt_ctr.csv')"
   ]
  },
  {
   "cell_type": "code",
   "execution_count": 204,
   "metadata": {
    "collapsed": false
   },
   "outputs": [
    {
     "name": "stdout",
     "output_type": "stream",
     "text": [
      "<class 'pandas.core.frame.DataFrame'>\n",
      "RangeIndex: 458441 entries, 0 to 458440\n",
      "Data columns (total 5 columns):\n",
      "Age            458441 non-null int64\n",
      "Gender         458441 non-null int64\n",
      "Impressions    458441 non-null int64\n",
      "Clicks         458441 non-null int64\n",
      "Signed_In      458441 non-null int64\n",
      "dtypes: int64(5)\n",
      "memory usage: 17.5 MB\n"
     ]
    }
   ],
   "source": [
    "df.info()"
   ]
  },
  {
   "cell_type": "code",
   "execution_count": 205,
   "metadata": {
    "collapsed": false
   },
   "outputs": [
    {
     "data": {
      "text/html": [
       "<div>\n",
       "<table border=\"1\" class=\"dataframe\">\n",
       "  <thead>\n",
       "    <tr style=\"text-align: right;\">\n",
       "      <th></th>\n",
       "      <th>count</th>\n",
       "      <th>mean</th>\n",
       "      <th>std</th>\n",
       "      <th>min</th>\n",
       "      <th>25%</th>\n",
       "      <th>50%</th>\n",
       "      <th>75%</th>\n",
       "      <th>max</th>\n",
       "    </tr>\n",
       "  </thead>\n",
       "  <tbody>\n",
       "    <tr>\n",
       "      <th>Age</th>\n",
       "      <td>458441.0</td>\n",
       "      <td>29.482551</td>\n",
       "      <td>23.607034</td>\n",
       "      <td>0.0</td>\n",
       "      <td>0.0</td>\n",
       "      <td>31.0</td>\n",
       "      <td>48.0</td>\n",
       "      <td>108.0</td>\n",
       "    </tr>\n",
       "    <tr>\n",
       "      <th>Gender</th>\n",
       "      <td>458441.0</td>\n",
       "      <td>0.367037</td>\n",
       "      <td>0.481997</td>\n",
       "      <td>0.0</td>\n",
       "      <td>0.0</td>\n",
       "      <td>0.0</td>\n",
       "      <td>1.0</td>\n",
       "      <td>1.0</td>\n",
       "    </tr>\n",
       "    <tr>\n",
       "      <th>Impressions</th>\n",
       "      <td>458441.0</td>\n",
       "      <td>5.007316</td>\n",
       "      <td>2.239349</td>\n",
       "      <td>0.0</td>\n",
       "      <td>3.0</td>\n",
       "      <td>5.0</td>\n",
       "      <td>6.0</td>\n",
       "      <td>20.0</td>\n",
       "    </tr>\n",
       "    <tr>\n",
       "      <th>Clicks</th>\n",
       "      <td>458441.0</td>\n",
       "      <td>0.092594</td>\n",
       "      <td>0.309973</td>\n",
       "      <td>0.0</td>\n",
       "      <td>0.0</td>\n",
       "      <td>0.0</td>\n",
       "      <td>0.0</td>\n",
       "      <td>4.0</td>\n",
       "    </tr>\n",
       "    <tr>\n",
       "      <th>Signed_In</th>\n",
       "      <td>458441.0</td>\n",
       "      <td>0.700930</td>\n",
       "      <td>0.457851</td>\n",
       "      <td>0.0</td>\n",
       "      <td>0.0</td>\n",
       "      <td>1.0</td>\n",
       "      <td>1.0</td>\n",
       "      <td>1.0</td>\n",
       "    </tr>\n",
       "  </tbody>\n",
       "</table>\n",
       "</div>"
      ],
      "text/plain": [
       "                count       mean        std  min  25%   50%   75%    max\n",
       "Age          458441.0  29.482551  23.607034  0.0  0.0  31.0  48.0  108.0\n",
       "Gender       458441.0   0.367037   0.481997  0.0  0.0   0.0   1.0    1.0\n",
       "Impressions  458441.0   5.007316   2.239349  0.0  3.0   5.0   6.0   20.0\n",
       "Clicks       458441.0   0.092594   0.309973  0.0  0.0   0.0   0.0    4.0\n",
       "Signed_In    458441.0   0.700930   0.457851  0.0  0.0   1.0   1.0    1.0"
      ]
     },
     "execution_count": 205,
     "metadata": {},
     "output_type": "execute_result"
    }
   ],
   "source": [
    "df.describe().T"
   ]
  },
  {
   "cell_type": "markdown",
   "metadata": {},
   "source": [
    "An impression (in the context of online advertising) is when an ad is fetched from its source, and is countable. Whether or not the ad is clicked is not taken into account. Each time an ad is fetched it is counted as one impression."
   ]
  },
  {
   "cell_type": "code",
   "execution_count": 206,
   "metadata": {
    "collapsed": false
   },
   "outputs": [
    {
     "data": {
      "text/html": [
       "<div>\n",
       "<table border=\"1\" class=\"dataframe\">\n",
       "  <thead>\n",
       "    <tr style=\"text-align: right;\">\n",
       "      <th></th>\n",
       "      <th>Age</th>\n",
       "      <th>Gender</th>\n",
       "      <th>Impressions</th>\n",
       "      <th>Clicks</th>\n",
       "      <th>Signed_In</th>\n",
       "    </tr>\n",
       "  </thead>\n",
       "  <tbody>\n",
       "    <tr>\n",
       "      <th>0</th>\n",
       "      <td>36</td>\n",
       "      <td>0</td>\n",
       "      <td>3</td>\n",
       "      <td>0</td>\n",
       "      <td>1</td>\n",
       "    </tr>\n",
       "    <tr>\n",
       "      <th>1</th>\n",
       "      <td>73</td>\n",
       "      <td>1</td>\n",
       "      <td>3</td>\n",
       "      <td>0</td>\n",
       "      <td>1</td>\n",
       "    </tr>\n",
       "    <tr>\n",
       "      <th>2</th>\n",
       "      <td>30</td>\n",
       "      <td>0</td>\n",
       "      <td>3</td>\n",
       "      <td>0</td>\n",
       "      <td>1</td>\n",
       "    </tr>\n",
       "  </tbody>\n",
       "</table>\n",
       "</div>"
      ],
      "text/plain": [
       "   Age  Gender  Impressions  Clicks  Signed_In\n",
       "0   36       0            3       0          1\n",
       "1   73       1            3       0          1\n",
       "2   30       0            3       0          1"
      ]
     },
     "execution_count": 206,
     "metadata": {},
     "output_type": "execute_result"
    }
   ],
   "source": [
    "df.head(3)"
   ]
  },
  {
   "cell_type": "code",
   "execution_count": 207,
   "metadata": {
    "collapsed": false
   },
   "outputs": [
    {
     "data": {
      "text/plain": [
       "458441"
      ]
     },
     "execution_count": 207,
     "metadata": {},
     "output_type": "execute_result"
    }
   ],
   "source": [
    "(df.Impressions != 0).count()"
   ]
  },
  {
   "cell_type": "code",
   "execution_count": 208,
   "metadata": {
    "collapsed": true
   },
   "outputs": [],
   "source": [
    "df['CTR'] = df.Clicks / df.Impressions"
   ]
  },
  {
   "cell_type": "code",
   "execution_count": 209,
   "metadata": {
    "collapsed": true
   },
   "outputs": [],
   "source": [
    "df = df.dropna(how='any')"
   ]
  },
  {
   "cell_type": "code",
   "execution_count": 210,
   "metadata": {
    "collapsed": false
   },
   "outputs": [
    {
     "data": {
      "text/html": [
       "<div>\n",
       "<table border=\"1\" class=\"dataframe\">\n",
       "  <thead>\n",
       "    <tr style=\"text-align: right;\">\n",
       "      <th></th>\n",
       "      <th>Age</th>\n",
       "      <th>Gender</th>\n",
       "      <th>Impressions</th>\n",
       "      <th>Clicks</th>\n",
       "      <th>Signed_In</th>\n",
       "      <th>CTR</th>\n",
       "    </tr>\n",
       "  </thead>\n",
       "  <tbody>\n",
       "    <tr>\n",
       "      <th>0</th>\n",
       "      <td>36</td>\n",
       "      <td>0</td>\n",
       "      <td>3</td>\n",
       "      <td>0</td>\n",
       "      <td>1</td>\n",
       "      <td>0.0</td>\n",
       "    </tr>\n",
       "    <tr>\n",
       "      <th>1</th>\n",
       "      <td>73</td>\n",
       "      <td>1</td>\n",
       "      <td>3</td>\n",
       "      <td>0</td>\n",
       "      <td>1</td>\n",
       "      <td>0.0</td>\n",
       "    </tr>\n",
       "    <tr>\n",
       "      <th>2</th>\n",
       "      <td>30</td>\n",
       "      <td>0</td>\n",
       "      <td>3</td>\n",
       "      <td>0</td>\n",
       "      <td>1</td>\n",
       "      <td>0.0</td>\n",
       "    </tr>\n",
       "  </tbody>\n",
       "</table>\n",
       "</div>"
      ],
      "text/plain": [
       "   Age  Gender  Impressions  Clicks  Signed_In  CTR\n",
       "0   36       0            3       0          1  0.0\n",
       "1   73       1            3       0          1  0.0\n",
       "2   30       0            3       0          1  0.0"
      ]
     },
     "execution_count": 210,
     "metadata": {},
     "output_type": "execute_result"
    }
   ],
   "source": [
    "df.head(3)"
   ]
  },
  {
   "cell_type": "code",
   "execution_count": 211,
   "metadata": {
    "collapsed": false
   },
   "outputs": [
    {
     "data": {
      "image/png": "[encoded data removed]",
      "text/plain": [
       "<matplotlib.figure.Figure at 0x1247e3fd0>"
      ]
     },
     "metadata": {},
     "output_type": "display_data"
    }
   ],
   "source": [
    "df.hist(figsize=(12, 8), grid=False, normed=True, alpha=.4);\n",
    "plt.suptitle('Overall', size=16, weight='bold');"
   ]
  },
  {
   "cell_type": "code",
   "execution_count": 212,
   "metadata": {
    "collapsed": false
   },
   "outputs": [
    {
     "data": {
      "image/png": "[encoded data removed]",
      "text/plain": [
       "<matplotlib.figure.Figure at 0x1111b70d0>"
      ]
     },
     "metadata": {},
     "output_type": "display_data"
    }
   ],
   "source": [
    "df[df.Signed_In == 1].hist(figsize=(12, 8), grid=False, normed= True, color='g', alpha=0.3)\n",
    "plt.suptitle('Signed In', size=16, weight='bold');"
   ]
  },
  {
   "cell_type": "markdown",
   "metadata": {},
   "source": [
    "[SciPy - Statistical functions](https://docs.scipy.org/doc/scipy/reference/stats.html)\n",
    "\n",
    "Significance level of 95% ($\\alpha = 0.05$)\n",
    "\n",
    "__Ho:__ \n",
    "\n",
    "__mean(Signed_In) = mean(Non-Signed_In)__\n",
    "\n"
   ]
  },
  {
   "cell_type": "code",
   "execution_count": 213,
   "metadata": {
    "collapsed": false
   },
   "outputs": [
    {
     "data": {
      "text/plain": [
       "Ttest_indResult(statistic=-55.376117934260868, pvalue=0.0)"
      ]
     },
     "execution_count": 213,
     "metadata": {},
     "output_type": "execute_result"
    }
   ],
   "source": [
    "spys.ttest_ind(df[df.Signed_In == 1].CTR, df[df.Signed_In != 1].CTR, equal_var=False)"
   ]
  },
  {
   "cell_type": "code",
   "execution_count": 214,
   "metadata": {
    "collapsed": false
   },
   "outputs": [
    {
     "data": {
      "text/plain": [
       "0.01425363523213594"
      ]
     },
     "execution_count": 214,
     "metadata": {},
     "output_type": "execute_result"
    }
   ],
   "source": [
    "df[df.Signed_In == 1].CTR.mean()"
   ]
  },
  {
   "cell_type": "code",
   "execution_count": 215,
   "metadata": {
    "collapsed": false
   },
   "outputs": [
    {
     "data": {
      "text/plain": [
       "0.028354907061657893"
      ]
     },
     "execution_count": 215,
     "metadata": {},
     "output_type": "execute_result"
    }
   ],
   "source": [
    "df[df.Signed_In != 1].CTR.mean()"
   ]
  },
  {
   "cell_type": "code",
   "execution_count": 216,
   "metadata": {
    "collapsed": false
   },
   "outputs": [],
   "source": [
    "signed = df[df.Signed_In ==1].copy()"
   ]
  },
  {
   "cell_type": "markdown",
   "metadata": {},
   "source": [
    "P-values it's lower that the significance level (alpha risk), therefore I reject my Ho"
   ]
  },
  {
   "cell_type": "markdown",
   "metadata": {},
   "source": [
    "__Ho:__ \n",
    "\n",
    "__mean(Women) = mean(Men)__\n"
   ]
  },
  {
   "cell_type": "code",
   "execution_count": 217,
   "metadata": {
    "collapsed": false
   },
   "outputs": [
    {
     "data": {
      "text/plain": [
       "Ttest_indResult(statistic=-3.2897560659351059, pvalue=0.0010028527313147612)"
      ]
     },
     "execution_count": 217,
     "metadata": {},
     "output_type": "execute_result"
    }
   ],
   "source": [
    "scis.ttest_ind(signed[signed.Gender == 1].CTR, signed[signed.Gender != 1].CTR, equal_var=False)"
   ]
  },
  {
   "cell_type": "markdown",
   "metadata": {
    "collapsed": true
   },
   "source": [
    "P-values it's lower that the significance level (alpha risk), therefore I reject my Ho"
   ]
  },
  {
   "cell_type": "code",
   "execution_count": 218,
   "metadata": {
    "collapsed": false
   },
   "outputs": [],
   "source": [
    "signed['AgeGroup'] = pd.cut(signed.Age, [7, 18, 24, 34, 44, 54,64, 1000])"
   ]
  },
  {
   "cell_type": "code",
   "execution_count": 219,
   "metadata": {
    "collapsed": false
   },
   "outputs": [
    {
     "data": {
      "text/html": [
       "<div>\n",
       "<table border=\"1\" class=\"dataframe\">\n",
       "  <thead>\n",
       "    <tr style=\"text-align: right;\">\n",
       "      <th></th>\n",
       "      <th>Age</th>\n",
       "      <th>Gender</th>\n",
       "      <th>Impressions</th>\n",
       "      <th>Clicks</th>\n",
       "      <th>Signed_In</th>\n",
       "      <th>CTR</th>\n",
       "      <th>AgeGroup</th>\n",
       "    </tr>\n",
       "  </thead>\n",
       "  <tbody>\n",
       "    <tr>\n",
       "      <th>0</th>\n",
       "      <td>36</td>\n",
       "      <td>0</td>\n",
       "      <td>3</td>\n",
       "      <td>0</td>\n",
       "      <td>1</td>\n",
       "      <td>0.0</td>\n",
       "      <td>(34, 44]</td>\n",
       "    </tr>\n",
       "    <tr>\n",
       "      <th>1</th>\n",
       "      <td>73</td>\n",
       "      <td>1</td>\n",
       "      <td>3</td>\n",
       "      <td>0</td>\n",
       "      <td>1</td>\n",
       "      <td>0.0</td>\n",
       "      <td>(64, 1000]</td>\n",
       "    </tr>\n",
       "    <tr>\n",
       "      <th>2</th>\n",
       "      <td>30</td>\n",
       "      <td>0</td>\n",
       "      <td>3</td>\n",
       "      <td>0</td>\n",
       "      <td>1</td>\n",
       "      <td>0.0</td>\n",
       "      <td>(24, 34]</td>\n",
       "    </tr>\n",
       "    <tr>\n",
       "      <th>3</th>\n",
       "      <td>49</td>\n",
       "      <td>1</td>\n",
       "      <td>3</td>\n",
       "      <td>0</td>\n",
       "      <td>1</td>\n",
       "      <td>0.0</td>\n",
       "      <td>(44, 54]</td>\n",
       "    </tr>\n",
       "    <tr>\n",
       "      <th>4</th>\n",
       "      <td>47</td>\n",
       "      <td>1</td>\n",
       "      <td>11</td>\n",
       "      <td>0</td>\n",
       "      <td>1</td>\n",
       "      <td>0.0</td>\n",
       "      <td>(44, 54]</td>\n",
       "    </tr>\n",
       "  </tbody>\n",
       "</table>\n",
       "</div>"
      ],
      "text/plain": [
       "   Age  Gender  Impressions  Clicks  Signed_In  CTR    AgeGroup\n",
       "0   36       0            3       0          1  0.0    (34, 44]\n",
       "1   73       1            3       0          1  0.0  (64, 1000]\n",
       "2   30       0            3       0          1  0.0    (24, 34]\n",
       "3   49       1            3       0          1  0.0    (44, 54]\n",
       "4   47       1           11       0          1  0.0    (44, 54]"
      ]
     },
     "execution_count": 219,
     "metadata": {},
     "output_type": "execute_result"
    }
   ],
   "source": [
    "signed.head()"
   ]
  },
  {
   "cell_type": "markdown",
   "metadata": {},
   "source": [
    "#### AB test \n",
    "\n",
    "Baseline: Significance level of 95% ($\\alpha = 0.05$) \n",
    "\n",
    "By Bonferroni correction with the quantity of experiments\n",
    "\n",
    "($\\alpha = 0.05 / n-experiments$)\n"
   ]
  },
  {
   "cell_type": "code",
   "execution_count": 220,
   "metadata": {
    "collapsed": false
   },
   "outputs": [
    {
     "data": {
      "text/plain": [
       "<pandas.core.groupby.DataFrameGroupBy object at 0x12c1efad0>"
      ]
     },
     "execution_count": 220,
     "metadata": {},
     "output_type": "execute_result"
    }
   ],
   "source": [
    "signed.groupby('AgeGroup')"
   ]
  },
  {
   "cell_type": "code",
   "execution_count": 221,
   "metadata": {
    "collapsed": false
   },
   "outputs": [
    {
     "data": {
      "text/plain": [
       "['(24, 34]',\n",
       " '(64, 1000]',\n",
       " '(7, 18]',\n",
       " '(18, 24]',\n",
       " '(34, 44]',\n",
       " '(44, 54]',\n",
       " '(54, 64]']"
      ]
     },
     "execution_count": 221,
     "metadata": {},
     "output_type": "execute_result"
    }
   ],
   "source": [
    "grouped.groups.keys()"
   ]
  },
  {
   "cell_type": "code",
   "execution_count": 222,
   "metadata": {
    "collapsed": false
   },
   "outputs": [],
   "source": [
    "results = {'a':[], 'b':[], 'pvalue': [], 'difmean': []}\n",
    "grouped = signed.groupby('AgeGroup')\n",
    "\n",
    "for a, b in itt.combinations(grouped.groups.keys(), 2):\n",
    "    # group names\n",
    "    results['a'].append(a)\n",
    "    results['b'].append(b)\n",
    "    \n",
    "    # a/b groups _temp\n",
    "    agroup = grouped.get_group(a)\n",
    "    bgroup = grouped.get_group(b)\n",
    "    \n",
    "    # ttest\n",
    "    tmp = scis.ttest_ind(agroup['CTR'], bgroup['CTR'], equal_var=False)\n",
    "    \n",
    "    # results\n",
    "    results['pvalue'].append(tmp.pvalue)\n",
    "    results['difmean'].append(abs(agroup.CTR.mean() - bgroup.CTR.mean()))\n",
    "    \n",
    "df_ = pd.DataFrame(results)"
   ]
  },
  {
   "cell_type": "code",
   "execution_count": 223,
   "metadata": {
    "collapsed": false
   },
   "outputs": [
    {
     "data": {
      "text/html": [
       "<div>\n",
       "<table border=\"1\" class=\"dataframe\">\n",
       "  <thead>\n",
       "    <tr style=\"text-align: right;\">\n",
       "      <th></th>\n",
       "      <th>a</th>\n",
       "      <th>b</th>\n",
       "      <th>difmean</th>\n",
       "      <th>pvalue</th>\n",
       "    </tr>\n",
       "  </thead>\n",
       "  <tbody>\n",
       "    <tr>\n",
       "      <th>0</th>\n",
       "      <td>(24, 34]</td>\n",
       "      <td>(64, 1000]</td>\n",
       "      <td>0.019656</td>\n",
       "      <td>7.860398e-285</td>\n",
       "    </tr>\n",
       "    <tr>\n",
       "      <th>1</th>\n",
       "      <td>(24, 34]</td>\n",
       "      <td>(7, 18]</td>\n",
       "      <td>0.016439</td>\n",
       "      <td>7.449266e-146</td>\n",
       "    </tr>\n",
       "    <tr>\n",
       "      <th>2</th>\n",
       "      <td>(24, 34]</td>\n",
       "      <td>(18, 24]</td>\n",
       "      <td>0.000426</td>\n",
       "      <td>2.136576e-01</td>\n",
       "    </tr>\n",
       "  </tbody>\n",
       "</table>\n",
       "</div>"
      ],
      "text/plain": [
       "          a           b   difmean         pvalue\n",
       "0  (24, 34]  (64, 1000]  0.019656  7.860398e-285\n",
       "1  (24, 34]     (7, 18]  0.016439  7.449266e-146\n",
       "2  (24, 34]    (18, 24]  0.000426   2.136576e-01"
      ]
     },
     "execution_count": 223,
     "metadata": {},
     "output_type": "execute_result"
    }
   ],
   "source": [
    "df_[:3]"
   ]
  },
  {
   "cell_type": "code",
   "execution_count": 224,
   "metadata": {
    "collapsed": false
   },
   "outputs": [
    {
     "name": "stdout",
     "output_type": "stream",
     "text": [
      "<class 'pandas.core.frame.DataFrame'>\n",
      "RangeIndex: 21 entries, 0 to 20\n",
      "Data columns (total 4 columns):\n",
      "a          21 non-null object\n",
      "b          21 non-null object\n",
      "difmean    21 non-null float64\n",
      "pvalue     21 non-null float64\n",
      "dtypes: float64(2), object(2)\n",
      "memory usage: 744.0+ bytes\n"
     ]
    }
   ],
   "source": [
    "df_.info()"
   ]
  },
  {
   "cell_type": "code",
   "execution_count": 225,
   "metadata": {
    "collapsed": true
   },
   "outputs": [],
   "source": [
    "alpha = 0.5 / 21"
   ]
  },
  {
   "cell_type": "code",
   "execution_count": 226,
   "metadata": {
    "collapsed": false
   },
   "outputs": [
    {
     "data": {
      "text/html": [
       "<div>\n",
       "<table border=\"1\" class=\"dataframe\">\n",
       "  <thead>\n",
       "    <tr style=\"text-align: right;\">\n",
       "      <th></th>\n",
       "      <th>a</th>\n",
       "      <th>b</th>\n",
       "      <th>difmean</th>\n",
       "      <th>pvalue</th>\n",
       "    </tr>\n",
       "  </thead>\n",
       "  <tbody>\n",
       "    <tr>\n",
       "      <th>7</th>\n",
       "      <td>(64, 1000]</td>\n",
       "      <td>(18, 24]</td>\n",
       "      <td>0.020082</td>\n",
       "      <td>2.458627e-272</td>\n",
       "    </tr>\n",
       "    <tr>\n",
       "      <th>9</th>\n",
       "      <td>(64, 1000]</td>\n",
       "      <td>(44, 54]</td>\n",
       "      <td>0.019845</td>\n",
       "      <td>1.430923e-295</td>\n",
       "    </tr>\n",
       "    <tr>\n",
       "      <th>0</th>\n",
       "      <td>(24, 34]</td>\n",
       "      <td>(64, 1000]</td>\n",
       "      <td>0.019656</td>\n",
       "      <td>7.860398e-285</td>\n",
       "    </tr>\n",
       "    <tr>\n",
       "      <th>8</th>\n",
       "      <td>(64, 1000]</td>\n",
       "      <td>(34, 44]</td>\n",
       "      <td>0.019516</td>\n",
       "      <td>5.245541e-288</td>\n",
       "    </tr>\n",
       "    <tr>\n",
       "      <th>11</th>\n",
       "      <td>(7, 18]</td>\n",
       "      <td>(18, 24]</td>\n",
       "      <td>0.016865</td>\n",
       "      <td>6.900980e-144</td>\n",
       "    </tr>\n",
       "    <tr>\n",
       "      <th>13</th>\n",
       "      <td>(7, 18]</td>\n",
       "      <td>(44, 54]</td>\n",
       "      <td>0.016628</td>\n",
       "      <td>4.014382e-151</td>\n",
       "    </tr>\n",
       "    <tr>\n",
       "      <th>1</th>\n",
       "      <td>(24, 34]</td>\n",
       "      <td>(7, 18]</td>\n",
       "      <td>0.016439</td>\n",
       "      <td>7.449266e-146</td>\n",
       "    </tr>\n",
       "    <tr>\n",
       "      <th>12</th>\n",
       "      <td>(7, 18]</td>\n",
       "      <td>(34, 44]</td>\n",
       "      <td>0.016299</td>\n",
       "      <td>4.575147e-146</td>\n",
       "    </tr>\n",
       "    <tr>\n",
       "      <th>17</th>\n",
       "      <td>(18, 24]</td>\n",
       "      <td>(54, 64]</td>\n",
       "      <td>0.010586</td>\n",
       "      <td>1.007813e-130</td>\n",
       "    </tr>\n",
       "    <tr>\n",
       "      <th>20</th>\n",
       "      <td>(44, 54]</td>\n",
       "      <td>(54, 64]</td>\n",
       "      <td>0.010349</td>\n",
       "      <td>2.525271e-151</td>\n",
       "    </tr>\n",
       "    <tr>\n",
       "      <th>5</th>\n",
       "      <td>(24, 34]</td>\n",
       "      <td>(54, 64]</td>\n",
       "      <td>0.010160</td>\n",
       "      <td>5.668132e-141</td>\n",
       "    </tr>\n",
       "    <tr>\n",
       "      <th>19</th>\n",
       "      <td>(34, 44]</td>\n",
       "      <td>(54, 64]</td>\n",
       "      <td>0.010020</td>\n",
       "      <td>7.523228e-144</td>\n",
       "    </tr>\n",
       "    <tr>\n",
       "      <th>10</th>\n",
       "      <td>(64, 1000]</td>\n",
       "      <td>(54, 64]</td>\n",
       "      <td>0.009496</td>\n",
       "      <td>9.214903e-56</td>\n",
       "    </tr>\n",
       "    <tr>\n",
       "      <th>14</th>\n",
       "      <td>(7, 18]</td>\n",
       "      <td>(54, 64]</td>\n",
       "      <td>0.006278</td>\n",
       "      <td>8.273993e-20</td>\n",
       "    </tr>\n",
       "    <tr>\n",
       "      <th>6</th>\n",
       "      <td>(64, 1000]</td>\n",
       "      <td>(7, 18]</td>\n",
       "      <td>0.003218</td>\n",
       "      <td>3.563408e-05</td>\n",
       "    </tr>\n",
       "  </tbody>\n",
       "</table>\n",
       "</div>"
      ],
      "text/plain": [
       "             a           b   difmean         pvalue\n",
       "7   (64, 1000]    (18, 24]  0.020082  2.458627e-272\n",
       "9   (64, 1000]    (44, 54]  0.019845  1.430923e-295\n",
       "0     (24, 34]  (64, 1000]  0.019656  7.860398e-285\n",
       "8   (64, 1000]    (34, 44]  0.019516  5.245541e-288\n",
       "11     (7, 18]    (18, 24]  0.016865  6.900980e-144\n",
       "13     (7, 18]    (44, 54]  0.016628  4.014382e-151\n",
       "1     (24, 34]     (7, 18]  0.016439  7.449266e-146\n",
       "12     (7, 18]    (34, 44]  0.016299  4.575147e-146\n",
       "17    (18, 24]    (54, 64]  0.010586  1.007813e-130\n",
       "20    (44, 54]    (54, 64]  0.010349  2.525271e-151\n",
       "5     (24, 34]    (54, 64]  0.010160  5.668132e-141\n",
       "19    (34, 44]    (54, 64]  0.010020  7.523228e-144\n",
       "10  (64, 1000]    (54, 64]  0.009496   9.214903e-56\n",
       "14     (7, 18]    (54, 64]  0.006278   8.273993e-20\n",
       "6   (64, 1000]     (7, 18]  0.003218   3.563408e-05"
      ]
     },
     "execution_count": 226,
     "metadata": {},
     "output_type": "execute_result"
    }
   ],
   "source": [
    "df_[df_.pvalue < alpha].sort_values('difmean', ascending=False)"
   ]
  },
  {
   "cell_type": "markdown",
   "metadata": {},
   "source": [
    "df shows the statistically significant results sorted by difference in CTR mean\n",
    "\n",
    "Observations: 64+ group are the __most__ different from any othe group. \n",
    "\n",
    "Business insights: Target on tails 64+ and 18- "
   ]
  },
  {
   "cell_type": "code",
   "execution_count": null,
   "metadata": {
    "collapsed": true
   },
   "outputs": [],
   "source": []
  },
  {
   "cell_type": "code",
   "execution_count": null,
   "metadata": {
    "collapsed": true
   },
   "outputs": [],
   "source": []
  }
 ],
 "metadata": {
  "kernelspec": {
   "display_name": "Python 2",
   "language": "python",
   "name": "python2"
  },
  "language_info": {
   "codemirror_mode": {
    "name": "ipython",
    "version": 2
   },
   "file_extension": ".py",
   "mimetype": "text/x-python",
   "name": "python",
   "nbconvert_exporter": "python",
   "pygments_lexer": "ipython2",
   "version": "2.7.11"
  }
 },
 "nbformat": 4,
 "nbformat_minor": 0
}
